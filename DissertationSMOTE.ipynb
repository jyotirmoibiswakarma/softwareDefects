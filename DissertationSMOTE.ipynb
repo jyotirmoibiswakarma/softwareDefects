{
  "cells": [
    {
      "cell_type": "markdown",
      "metadata": {
        "id": "view-in-github",
        "colab_type": "text"
      },
      "source": [
        "<a href=\"https://colab.research.google.com/github/Heimeinsheu/software_defects_phase1/blob/main/DissertationSMOTE.ipynb\" target=\"_parent\"><img src=\"https://colab.research.google.com/assets/colab-badge.svg\" alt=\"Open In Colab\"/></a>"
      ]
    },
    {
      "cell_type": "markdown",
      "source": [
        "#**SMOTE (Synthetic Minority Over-sampling Technique).**\n",
        "The second resampling technique is called, Oversampling. This process is a little more complicated than undersampling. It is the process of generating synthetic data that tries to randomly generate a sample of the attributes from observations in the minority class. There are a number of methods used to oversample a dataset for a typical classification problem. The most common technique is called **SMOTE (Synthetic Minority Over-sampling Technique)**. In simple terms, it looks at the feature space for the minority class data points and considers its k nearest neighbours."
      ],
      "metadata": {
        "id": "iluMkcSNIghP"
      }
    },
    {
      "cell_type": "markdown",
      "metadata": {
        "id": "g17-DnZw4ED1"
      },
      "source": [
        "#Importing Data"
      ]
    },
    {
      "cell_type": "code",
      "execution_count": null,
      "metadata": {
        "id": "E3qlBeG54LiK",
        "colab": {
          "base_uri": "https://localhost:8080/"
        },
        "outputId": "20dce460-20a0-4eae-ca47-824a7c5934f4"
      },
      "outputs": [
        {
          "output_type": "stream",
          "name": "stdout",
          "text": [
            "Drive already mounted at /content/drive; to attempt to forcibly remount, call drive.mount(\"/content/drive\", force_remount=True).\n"
          ]
        }
      ],
      "source": [
        "import numpy as np\n",
        "import pandas as pd\n",
        "import matplotlib.pyplot as plt\n",
        "from sklearn.model_selection import train_test_split\n",
        "from sklearn.linear_model import LinearRegression\n",
        "from sklearn.preprocessing import PolynomialFeatures\n",
        "from sklearn.metrics import r2_score\n",
        "from imblearn.over_sampling import SMOTE\n",
        "\n",
        "from google.colab import drive\n",
        "drive.mount('/content/drive',force_remount=False)"
      ]
    },
    {
      "cell_type": "code",
      "execution_count": null,
      "metadata": {
        "id": "KsyoV91h5RZP"
      },
      "outputs": [],
      "source": [
        "kc2_df=pd.read_csv(\"/content/drive/MyDrive/Colab_Notebooks/softwareDefect.csv\")\n",
        "jm1_df=pd.read_csv(\"/content/drive/MyDrive/Colab_Notebooks/Dissertation/jm1.csv\")\n",
        "ar1_df=pd.read_csv(\"/content/drive/MyDrive/Colab_Notebooks/Dissertation/ar1.csv\")\n",
        "ar3_df=pd.read_csv(\"/content/drive/MyDrive/Colab_Notebooks/Dissertation/ar3.csv\")\n",
        "ar4_df=pd.read_csv(\"/content/drive/MyDrive/Colab_Notebooks/Dissertation/ar4.csv\")\n",
        "ar5_df=pd.read_csv(\"/content/drive/MyDrive/Colab_Notebooks/Dissertation/ar5.csv\")\n",
        "ar6_df=pd.read_csv(\"/content/drive/MyDrive/Colab_Notebooks/Dissertation/ar6.csv\")\n",
        "kc1_df=pd.read_csv(\"/content/drive/MyDrive/Colab_Notebooks/Dissertation/kc1.csv\")\n",
        "cm1_df=pd.read_csv(\"/content/drive/MyDrive/Colab_Notebooks/Dissertation/cm1.csv\")\n",
        "pc1_df=pd.read_csv(\"/content/drive/MyDrive/Colab_Notebooks/Dissertation/pc1.csv\")"
      ]
    },
    {
      "cell_type": "markdown",
      "metadata": {
        "id": "gMtORiiy5Rkz"
      },
      "source": [
        "#Attribute Information:\n",
        " \n",
        " \t\n",
        "      1. loc             :   % McCabe's line count of code\n",
        "      2. v(g)            :   % McCabe \"cyclomatic complexity\"\n",
        "      3. ev(g)           :   % McCabe \"essential complexity\"\n",
        "      4. iv(g)           :   % McCabe \"design complexity\"\n",
        "      5. n               :   % Halstead total operators + operands\n",
        "      6. v               :   % Halstead \"volume\"\n",
        "      7. l               :   % Halstead \"program length\"\n",
        "      8. d               :   % Halstead \"difficulty\"\n",
        "      9. i               :   % Halstead \"intelligence\"\n",
        "     10. e               :   % Halstead \"effort\"\n",
        "     11. b               :   % Halstead \n",
        "     12. t               :   % Halstead's time estimator\n",
        "     13. lOCode          :   % Halstead's line count\n",
        "     14. lOComment       :   % Halstead's count of lines of comments\n",
        "     15. lOBlank         :   % Halstead's count of blank lines\n",
        "     16. lOCodeAndComment:  \n",
        "     17. uniq_Op         :   % unique operators\n",
        "     18. uniq_Opnd       :   % unique operands\n",
        "     19. total_Op        :   % total operators\n",
        "     20. total_Opnd      :   % total operands\n",
        "     21. branchCount     :   % of the flow graph\n",
        "     22. problems        : {no,yes}% module has/has not one or more \n",
        "                                   % reported defects\n"
      ]
    },
    {
      "cell_type": "markdown",
      "metadata": {
        "id": "69eMTWV6Ll8P"
      },
      "source": [
        "####**Calculate Numbers of Column in each dataset**"
      ]
    },
    {
      "cell_type": "code",
      "execution_count": null,
      "metadata": {
        "colab": {
          "base_uri": "https://localhost:8080/"
        },
        "id": "i6Z2ZT32Lj4e",
        "outputId": "8acfac26-3d0a-4c68-89e1-fddeb784878b"
      },
      "outputs": [
        {
          "output_type": "stream",
          "name": "stdout",
          "text": [
            "attributes in jm1:  22\n",
            "attributes in ar1:  30\n",
            "attributes in ar3:  30\n",
            "attributes in ar4:  30\n",
            "attributes in ar5:  30\n",
            "attributes in ar6:  30\n",
            "attributes in kc1:  22\n",
            "attributes in cm1:  22\n",
            "attributes in pc1:  22\n"
          ]
        }
      ],
      "source": [
        "print(\"attributes in jm1: \",jm1_df.shape[1])\n",
        "print(\"attributes in ar1: \",ar1_df.shape[1])\n",
        "print(\"attributes in ar3: \",ar3_df.shape[1])\n",
        "print(\"attributes in ar4: \",ar4_df.shape[1])\n",
        "print(\"attributes in ar5: \",ar5_df.shape[1])\n",
        "print(\"attributes in ar6: \",ar6_df.shape[1])\n",
        "print(\"attributes in kc1: \",kc1_df.shape[1])\n",
        "print(\"attributes in cm1: \",cm1_df.shape[1])\n",
        "print(\"attributes in pc1: \",pc1_df.shape[1])"
      ]
    },
    {
      "cell_type": "markdown",
      "metadata": {
        "id": "eTCjWQNMLtVs"
      },
      "source": [
        "####**Assigning Header to each dataset**"
      ]
    },
    {
      "cell_type": "code",
      "execution_count": null,
      "metadata": {
        "id": "9Z6maza25SVq"
      },
      "outputs": [],
      "source": [
        "# adding column name to the respective columns\n",
        "kc2_df.columns =['l_count', 'cyclomatic_complexity', 'essential_complexity', 'design_complexity','n','v','l','d','i','e','b','t','lOCode','lOComment','lOBlank','lOCodeAndComment','uniq_Op','uniq_Opnd','total_Op','total_Opnd','branchCount','problems']\n",
        "kc1_df.columns =['l_count', 'cyclomatic_complexity', 'essential_complexity', 'design_complexity','n','v','l','d','i','e','b','t','lOCode','lOComment','lOBlank','lOCodeAndComment','uniq_Op','uniq_Opnd','total_Op','total_Opnd','branchCount','problems']\n",
        "cm1_df.columns =['l_count', 'cyclomatic_complexity', 'essential_complexity', 'design_complexity','n','v','l','d','i','e','b','t','lOCode','lOComment','lOBlank','lOCodeAndComment','uniq_Op','uniq_Opnd','total_Op','total_Opnd','branchCount','problems']\n",
        "pc1_df.columns =['l_count', 'cyclomatic_complexity', 'essential_complexity', 'design_complexity','n','v','l','d','i','e','b','t','lOCode','lOComment','lOBlank','lOCodeAndComment','uniq_Op','uniq_Opnd','total_Op','total_Opnd','branchCount','problems']\n",
        "jm1_df.columns =['l_count', 'cyclomatic_complexity', 'essential_complexity', 'design_complexity','n','v','l','d','i','e','b','t','lOCode','lOComment','lOBlank','lOCodeAndComment','uniq_Op','uniq_Opnd','total_Op','total_Opnd','branchCount','problems']\n",
        "ar1_df.columns=['total_loc','blank_loc','comment_loc','code_and_comment_loc','executable_loc','unique_operands','unique_operators','total_operands','total_operators','halstead_vocabulary','halstead_length','halstead_volume','halstead_level','halstead_difficulty','halstead_effort','halstead_error','halstead_time','branch_count','decision_count','call_pairs','condition_count','multiple_condition_count','cyclomatic_complexity','cyclomatic_density','decision_density','design_complexity','design_density','normalized_cyclomatic_complexity','formal_parameters','defects']\n",
        "ar3_df.columns=['total_loc','blank_loc','comment_loc','code_and_comment_loc','executable_loc','unique_operands','unique_operators','total_operands','total_operators','halstead_vocabulary','halstead_length','halstead_volume','halstead_level','halstead_difficulty','halstead_effort','halstead_error','halstead_time','branch_count','decision_count','call_pairs','condition_count','multiple_condition_count','cyclomatic_complexity','cyclomatic_density','decision_density','design_complexity','design_density','normalized_cyclomatic_complexity','formal_parameters','defects']\n",
        "ar4_df.columns=['total_loc','blank_loc','comment_loc','code_and_comment_loc','executable_loc','unique_operands','unique_operators','total_operands','total_operators','halstead_vocabulary','halstead_length','halstead_volume','halstead_level','halstead_difficulty','halstead_effort','halstead_error','halstead_time','branch_count','decision_count','call_pairs','condition_count','multiple_condition_count','cyclomatic_complexity','cyclomatic_density','decision_density','design_complexity','design_density','normalized_cyclomatic_complexity','formal_parameters','defects']\n",
        "ar5_df.columns=['total_loc','blank_loc','comment_loc','code_and_comment_loc','executable_loc','unique_operands','unique_operators','total_operands','total_operators','halstead_vocabulary','halstead_length','halstead_volume','halstead_level','halstead_difficulty','halstead_effort','halstead_error','halstead_time','branch_count','decision_count','call_pairs','condition_count','multiple_condition_count','cyclomatic_complexity','cyclomatic_density','decision_density','design_complexity','design_density','normalized_cyclomatic_complexity','formal_parameters','defects']\n",
        "ar6_df.columns=['total_loc','blank_loc','comment_loc','code_and_comment_loc','executable_loc','unique_operands','unique_operators','total_operands','total_operators','halstead_vocabulary','halstead_length','halstead_volume','halstead_level','halstead_difficulty','halstead_effort','halstead_error','halstead_time','branch_count','decision_count','call_pairs','condition_count','multiple_condition_count','cyclomatic_complexity','cyclomatic_density','decision_density','design_complexity','design_density','normalized_cyclomatic_complexity','formal_parameters','defects']\n"
      ]
    },
    {
      "cell_type": "markdown",
      "source": [
        "###**Checking type of each attribute in dataset.**"
      ],
      "metadata": {
        "id": "FHXORliVx81z"
      }
    },
    {
      "cell_type": "code",
      "execution_count": null,
      "metadata": {
        "colab": {
          "base_uri": "https://localhost:8080/"
        },
        "id": "6NjDIPRqLYz-",
        "outputId": "e221d6d6-fd29-4f63-dbf2-fffdcc3984ae"
      },
      "outputs": [
        {
          "output_type": "stream",
          "name": "stdout",
          "text": [
            "l_count                    int64\n",
            "cyclomatic_complexity      int64\n",
            "essential_complexity       int64\n",
            "design_complexity          int64\n",
            "n                          int64\n",
            "v                        float64\n",
            "l                        float64\n",
            "d                        float64\n",
            "i                        float64\n",
            "e                        float64\n",
            "b                        float64\n",
            "t                        float64\n",
            "lOCode                     int64\n",
            "lOComment                  int64\n",
            "lOBlank                    int64\n",
            "lOCodeAndComment           int64\n",
            "uniq_Op                    int64\n",
            "uniq_Opnd                  int64\n",
            "total_Op                   int64\n",
            "total_Opnd                 int64\n",
            "branchCount                int64\n",
            "problems                    bool\n",
            "dtype: object\n"
          ]
        }
      ],
      "source": [
        "print(kc1_df.dtypes)"
      ]
    },
    {
      "cell_type": "code",
      "source": [
        "print(kc2_df.dtypes)"
      ],
      "metadata": {
        "colab": {
          "base_uri": "https://localhost:8080/"
        },
        "id": "NBpLqzEpwMh3",
        "outputId": "12a2947b-207e-47c3-ad69-01dc4c86f659"
      },
      "execution_count": null,
      "outputs": [
        {
          "output_type": "stream",
          "name": "stdout",
          "text": [
            "l_count                    int64\n",
            "cyclomatic_complexity    float64\n",
            "essential_complexity       int64\n",
            "design_complexity          int64\n",
            "n                          int64\n",
            "v                        float64\n",
            "l                        float64\n",
            "d                        float64\n",
            "i                        float64\n",
            "e                        float64\n",
            "b                        float64\n",
            "t                        float64\n",
            "lOCode                     int64\n",
            "lOComment                  int64\n",
            "lOBlank                    int64\n",
            "lOCodeAndComment           int64\n",
            "uniq_Op                    int64\n",
            "uniq_Opnd                  int64\n",
            "total_Op                   int64\n",
            "total_Opnd                 int64\n",
            "branchCount                int64\n",
            "problems                  object\n",
            "dtype: object\n"
          ]
        }
      ]
    },
    {
      "cell_type": "code",
      "source": [
        "kc2_df"
      ],
      "metadata": {
        "colab": {
          "base_uri": "https://localhost:8080/",
          "height": 487
        },
        "id": "9D58ilwOxml_",
        "outputId": "265a138e-fb52-4ab6-8636-956b14d0699a"
      },
      "execution_count": null,
      "outputs": [
        {
          "output_type": "execute_result",
          "data": {
            "text/plain": [
              "     l_count  cyclomatic_complexity  essential_complexity  design_complexity  \\\n",
              "0          1                    1.0                     1                  1   \n",
              "1        415                   59.0                    50                 51   \n",
              "2        230                   33.0                    10                 16   \n",
              "3        175                   26.0                    12                 13   \n",
              "4        163                   16.0                    13                 11   \n",
              "..       ...                    ...                   ...                ...   \n",
              "516        4                    1.0                     1                  1   \n",
              "517        4                    1.0                     1                  1   \n",
              "518        4                    1.0                     1                  1   \n",
              "519        4                    1.0                     1                  1   \n",
              "520        3                    1.0                     1                  1   \n",
              "\n",
              "        n        v     l       d       i          e  ...  lOCode  lOComment  \\\n",
              "0       1     1.00  1.00    1.00    1.00       1.00  ...       1          1   \n",
              "1    1159  8411.31  0.01  103.53   81.24  870848.58  ...     359         35   \n",
              "2     575  3732.82  0.03   39.82   93.74  148644.06  ...     174         15   \n",
              "3     500  3123.96  0.03   29.48  105.96   92103.07  ...     142          7   \n",
              "4     440  2714.77  0.03   32.25   84.14   87589.65  ...     139          2   \n",
              "..    ...      ...   ...     ...     ...        ...  ...     ...        ...   \n",
              "516     5    11.61  0.50    2.00    5.80      23.22  ...       2          0   \n",
              "517     4     8.00  0.67    1.50    5.33      12.00  ...       2          0   \n",
              "518     4     8.00  0.67    1.50    5.33      12.00  ...       2          0   \n",
              "519     5    11.61  0.67    1.50    7.74      17.41  ...       2          0   \n",
              "520     1     0.00  0.00    0.00    0.00       0.00  ...       1          0   \n",
              "\n",
              "     lOBlank  lOCodeAndComment  uniq_Op  uniq_Opnd  total_Op  total_Opnd  \\\n",
              "0          1                 1        1          1         1           1   \n",
              "1          9                10       47        106       692         467   \n",
              "2         34                 5       23         67       343         232   \n",
              "3         19                 4       18         58       310         190   \n",
              "4         20                 0       19         53       260         180   \n",
              "..       ...               ...      ...        ...       ...         ...   \n",
              "516        0                 0        4          1         4           1   \n",
              "517        0                 0        3          1         3           1   \n",
              "518        0                 0        3          1         3           1   \n",
              "519        0                 0        3          2         3           2   \n",
              "520        0                 0        1          0         1           0   \n",
              "\n",
              "     branchCount  problems  \n",
              "0              1       yes  \n",
              "1            106       yes  \n",
              "2             65       yes  \n",
              "3             51       yes  \n",
              "4             31       yes  \n",
              "..           ...       ...  \n",
              "516            1       yes  \n",
              "517            1       yes  \n",
              "518            1       yes  \n",
              "519            1       yes  \n",
              "520            1       yes  \n",
              "\n",
              "[521 rows x 22 columns]"
            ],
            "text/html": [
              "\n",
              "  <div id=\"df-bde4e637-1460-417c-ac13-33a8bcc7d544\">\n",
              "    <div class=\"colab-df-container\">\n",
              "      <div>\n",
              "<style scoped>\n",
              "    .dataframe tbody tr th:only-of-type {\n",
              "        vertical-align: middle;\n",
              "    }\n",
              "\n",
              "    .dataframe tbody tr th {\n",
              "        vertical-align: top;\n",
              "    }\n",
              "\n",
              "    .dataframe thead th {\n",
              "        text-align: right;\n",
              "    }\n",
              "</style>\n",
              "<table border=\"1\" class=\"dataframe\">\n",
              "  <thead>\n",
              "    <tr style=\"text-align: right;\">\n",
              "      <th></th>\n",
              "      <th>l_count</th>\n",
              "      <th>cyclomatic_complexity</th>\n",
              "      <th>essential_complexity</th>\n",
              "      <th>design_complexity</th>\n",
              "      <th>n</th>\n",
              "      <th>v</th>\n",
              "      <th>l</th>\n",
              "      <th>d</th>\n",
              "      <th>i</th>\n",
              "      <th>e</th>\n",
              "      <th>...</th>\n",
              "      <th>lOCode</th>\n",
              "      <th>lOComment</th>\n",
              "      <th>lOBlank</th>\n",
              "      <th>lOCodeAndComment</th>\n",
              "      <th>uniq_Op</th>\n",
              "      <th>uniq_Opnd</th>\n",
              "      <th>total_Op</th>\n",
              "      <th>total_Opnd</th>\n",
              "      <th>branchCount</th>\n",
              "      <th>problems</th>\n",
              "    </tr>\n",
              "  </thead>\n",
              "  <tbody>\n",
              "    <tr>\n",
              "      <th>0</th>\n",
              "      <td>1</td>\n",
              "      <td>1.0</td>\n",
              "      <td>1</td>\n",
              "      <td>1</td>\n",
              "      <td>1</td>\n",
              "      <td>1.00</td>\n",
              "      <td>1.00</td>\n",
              "      <td>1.00</td>\n",
              "      <td>1.00</td>\n",
              "      <td>1.00</td>\n",
              "      <td>...</td>\n",
              "      <td>1</td>\n",
              "      <td>1</td>\n",
              "      <td>1</td>\n",
              "      <td>1</td>\n",
              "      <td>1</td>\n",
              "      <td>1</td>\n",
              "      <td>1</td>\n",
              "      <td>1</td>\n",
              "      <td>1</td>\n",
              "      <td>yes</td>\n",
              "    </tr>\n",
              "    <tr>\n",
              "      <th>1</th>\n",
              "      <td>415</td>\n",
              "      <td>59.0</td>\n",
              "      <td>50</td>\n",
              "      <td>51</td>\n",
              "      <td>1159</td>\n",
              "      <td>8411.31</td>\n",
              "      <td>0.01</td>\n",
              "      <td>103.53</td>\n",
              "      <td>81.24</td>\n",
              "      <td>870848.58</td>\n",
              "      <td>...</td>\n",
              "      <td>359</td>\n",
              "      <td>35</td>\n",
              "      <td>9</td>\n",
              "      <td>10</td>\n",
              "      <td>47</td>\n",
              "      <td>106</td>\n",
              "      <td>692</td>\n",
              "      <td>467</td>\n",
              "      <td>106</td>\n",
              "      <td>yes</td>\n",
              "    </tr>\n",
              "    <tr>\n",
              "      <th>2</th>\n",
              "      <td>230</td>\n",
              "      <td>33.0</td>\n",
              "      <td>10</td>\n",
              "      <td>16</td>\n",
              "      <td>575</td>\n",
              "      <td>3732.82</td>\n",
              "      <td>0.03</td>\n",
              "      <td>39.82</td>\n",
              "      <td>93.74</td>\n",
              "      <td>148644.06</td>\n",
              "      <td>...</td>\n",
              "      <td>174</td>\n",
              "      <td>15</td>\n",
              "      <td>34</td>\n",
              "      <td>5</td>\n",
              "      <td>23</td>\n",
              "      <td>67</td>\n",
              "      <td>343</td>\n",
              "      <td>232</td>\n",
              "      <td>65</td>\n",
              "      <td>yes</td>\n",
              "    </tr>\n",
              "    <tr>\n",
              "      <th>3</th>\n",
              "      <td>175</td>\n",
              "      <td>26.0</td>\n",
              "      <td>12</td>\n",
              "      <td>13</td>\n",
              "      <td>500</td>\n",
              "      <td>3123.96</td>\n",
              "      <td>0.03</td>\n",
              "      <td>29.48</td>\n",
              "      <td>105.96</td>\n",
              "      <td>92103.07</td>\n",
              "      <td>...</td>\n",
              "      <td>142</td>\n",
              "      <td>7</td>\n",
              "      <td>19</td>\n",
              "      <td>4</td>\n",
              "      <td>18</td>\n",
              "      <td>58</td>\n",
              "      <td>310</td>\n",
              "      <td>190</td>\n",
              "      <td>51</td>\n",
              "      <td>yes</td>\n",
              "    </tr>\n",
              "    <tr>\n",
              "      <th>4</th>\n",
              "      <td>163</td>\n",
              "      <td>16.0</td>\n",
              "      <td>13</td>\n",
              "      <td>11</td>\n",
              "      <td>440</td>\n",
              "      <td>2714.77</td>\n",
              "      <td>0.03</td>\n",
              "      <td>32.25</td>\n",
              "      <td>84.14</td>\n",
              "      <td>87589.65</td>\n",
              "      <td>...</td>\n",
              "      <td>139</td>\n",
              "      <td>2</td>\n",
              "      <td>20</td>\n",
              "      <td>0</td>\n",
              "      <td>19</td>\n",
              "      <td>53</td>\n",
              "      <td>260</td>\n",
              "      <td>180</td>\n",
              "      <td>31</td>\n",
              "      <td>yes</td>\n",
              "    </tr>\n",
              "    <tr>\n",
              "      <th>...</th>\n",
              "      <td>...</td>\n",
              "      <td>...</td>\n",
              "      <td>...</td>\n",
              "      <td>...</td>\n",
              "      <td>...</td>\n",
              "      <td>...</td>\n",
              "      <td>...</td>\n",
              "      <td>...</td>\n",
              "      <td>...</td>\n",
              "      <td>...</td>\n",
              "      <td>...</td>\n",
              "      <td>...</td>\n",
              "      <td>...</td>\n",
              "      <td>...</td>\n",
              "      <td>...</td>\n",
              "      <td>...</td>\n",
              "      <td>...</td>\n",
              "      <td>...</td>\n",
              "      <td>...</td>\n",
              "      <td>...</td>\n",
              "      <td>...</td>\n",
              "    </tr>\n",
              "    <tr>\n",
              "      <th>516</th>\n",
              "      <td>4</td>\n",
              "      <td>1.0</td>\n",
              "      <td>1</td>\n",
              "      <td>1</td>\n",
              "      <td>5</td>\n",
              "      <td>11.61</td>\n",
              "      <td>0.50</td>\n",
              "      <td>2.00</td>\n",
              "      <td>5.80</td>\n",
              "      <td>23.22</td>\n",
              "      <td>...</td>\n",
              "      <td>2</td>\n",
              "      <td>0</td>\n",
              "      <td>0</td>\n",
              "      <td>0</td>\n",
              "      <td>4</td>\n",
              "      <td>1</td>\n",
              "      <td>4</td>\n",
              "      <td>1</td>\n",
              "      <td>1</td>\n",
              "      <td>yes</td>\n",
              "    </tr>\n",
              "    <tr>\n",
              "      <th>517</th>\n",
              "      <td>4</td>\n",
              "      <td>1.0</td>\n",
              "      <td>1</td>\n",
              "      <td>1</td>\n",
              "      <td>4</td>\n",
              "      <td>8.00</td>\n",
              "      <td>0.67</td>\n",
              "      <td>1.50</td>\n",
              "      <td>5.33</td>\n",
              "      <td>12.00</td>\n",
              "      <td>...</td>\n",
              "      <td>2</td>\n",
              "      <td>0</td>\n",
              "      <td>0</td>\n",
              "      <td>0</td>\n",
              "      <td>3</td>\n",
              "      <td>1</td>\n",
              "      <td>3</td>\n",
              "      <td>1</td>\n",
              "      <td>1</td>\n",
              "      <td>yes</td>\n",
              "    </tr>\n",
              "    <tr>\n",
              "      <th>518</th>\n",
              "      <td>4</td>\n",
              "      <td>1.0</td>\n",
              "      <td>1</td>\n",
              "      <td>1</td>\n",
              "      <td>4</td>\n",
              "      <td>8.00</td>\n",
              "      <td>0.67</td>\n",
              "      <td>1.50</td>\n",
              "      <td>5.33</td>\n",
              "      <td>12.00</td>\n",
              "      <td>...</td>\n",
              "      <td>2</td>\n",
              "      <td>0</td>\n",
              "      <td>0</td>\n",
              "      <td>0</td>\n",
              "      <td>3</td>\n",
              "      <td>1</td>\n",
              "      <td>3</td>\n",
              "      <td>1</td>\n",
              "      <td>1</td>\n",
              "      <td>yes</td>\n",
              "    </tr>\n",
              "    <tr>\n",
              "      <th>519</th>\n",
              "      <td>4</td>\n",
              "      <td>1.0</td>\n",
              "      <td>1</td>\n",
              "      <td>1</td>\n",
              "      <td>5</td>\n",
              "      <td>11.61</td>\n",
              "      <td>0.67</td>\n",
              "      <td>1.50</td>\n",
              "      <td>7.74</td>\n",
              "      <td>17.41</td>\n",
              "      <td>...</td>\n",
              "      <td>2</td>\n",
              "      <td>0</td>\n",
              "      <td>0</td>\n",
              "      <td>0</td>\n",
              "      <td>3</td>\n",
              "      <td>2</td>\n",
              "      <td>3</td>\n",
              "      <td>2</td>\n",
              "      <td>1</td>\n",
              "      <td>yes</td>\n",
              "    </tr>\n",
              "    <tr>\n",
              "      <th>520</th>\n",
              "      <td>3</td>\n",
              "      <td>1.0</td>\n",
              "      <td>1</td>\n",
              "      <td>1</td>\n",
              "      <td>1</td>\n",
              "      <td>0.00</td>\n",
              "      <td>0.00</td>\n",
              "      <td>0.00</td>\n",
              "      <td>0.00</td>\n",
              "      <td>0.00</td>\n",
              "      <td>...</td>\n",
              "      <td>1</td>\n",
              "      <td>0</td>\n",
              "      <td>0</td>\n",
              "      <td>0</td>\n",
              "      <td>1</td>\n",
              "      <td>0</td>\n",
              "      <td>1</td>\n",
              "      <td>0</td>\n",
              "      <td>1</td>\n",
              "      <td>yes</td>\n",
              "    </tr>\n",
              "  </tbody>\n",
              "</table>\n",
              "<p>521 rows × 22 columns</p>\n",
              "</div>\n",
              "      <button class=\"colab-df-convert\" onclick=\"convertToInteractive('df-bde4e637-1460-417c-ac13-33a8bcc7d544')\"\n",
              "              title=\"Convert this dataframe to an interactive table.\"\n",
              "              style=\"display:none;\">\n",
              "        \n",
              "  <svg xmlns=\"http://www.w3.org/2000/svg\" height=\"24px\"viewBox=\"0 0 24 24\"\n",
              "       width=\"24px\">\n",
              "    <path d=\"M0 0h24v24H0V0z\" fill=\"none\"/>\n",
              "    <path d=\"M18.56 5.44l.94 2.06.94-2.06 2.06-.94-2.06-.94-.94-2.06-.94 2.06-2.06.94zm-11 1L8.5 8.5l.94-2.06 2.06-.94-2.06-.94L8.5 2.5l-.94 2.06-2.06.94zm10 10l.94 2.06.94-2.06 2.06-.94-2.06-.94-.94-2.06-.94 2.06-2.06.94z\"/><path d=\"M17.41 7.96l-1.37-1.37c-.4-.4-.92-.59-1.43-.59-.52 0-1.04.2-1.43.59L10.3 9.45l-7.72 7.72c-.78.78-.78 2.05 0 2.83L4 21.41c.39.39.9.59 1.41.59.51 0 1.02-.2 1.41-.59l7.78-7.78 2.81-2.81c.8-.78.8-2.07 0-2.86zM5.41 20L4 18.59l7.72-7.72 1.47 1.35L5.41 20z\"/>\n",
              "  </svg>\n",
              "      </button>\n",
              "      \n",
              "  <style>\n",
              "    .colab-df-container {\n",
              "      display:flex;\n",
              "      flex-wrap:wrap;\n",
              "      gap: 12px;\n",
              "    }\n",
              "\n",
              "    .colab-df-convert {\n",
              "      background-color: #E8F0FE;\n",
              "      border: none;\n",
              "      border-radius: 50%;\n",
              "      cursor: pointer;\n",
              "      display: none;\n",
              "      fill: #1967D2;\n",
              "      height: 32px;\n",
              "      padding: 0 0 0 0;\n",
              "      width: 32px;\n",
              "    }\n",
              "\n",
              "    .colab-df-convert:hover {\n",
              "      background-color: #E2EBFA;\n",
              "      box-shadow: 0px 1px 2px rgba(60, 64, 67, 0.3), 0px 1px 3px 1px rgba(60, 64, 67, 0.15);\n",
              "      fill: #174EA6;\n",
              "    }\n",
              "\n",
              "    [theme=dark] .colab-df-convert {\n",
              "      background-color: #3B4455;\n",
              "      fill: #D2E3FC;\n",
              "    }\n",
              "\n",
              "    [theme=dark] .colab-df-convert:hover {\n",
              "      background-color: #434B5C;\n",
              "      box-shadow: 0px 1px 3px 1px rgba(0, 0, 0, 0.15);\n",
              "      filter: drop-shadow(0px 1px 2px rgba(0, 0, 0, 0.3));\n",
              "      fill: #FFFFFF;\n",
              "    }\n",
              "  </style>\n",
              "\n",
              "      <script>\n",
              "        const buttonEl =\n",
              "          document.querySelector('#df-bde4e637-1460-417c-ac13-33a8bcc7d544 button.colab-df-convert');\n",
              "        buttonEl.style.display =\n",
              "          google.colab.kernel.accessAllowed ? 'block' : 'none';\n",
              "\n",
              "        async function convertToInteractive(key) {\n",
              "          const element = document.querySelector('#df-bde4e637-1460-417c-ac13-33a8bcc7d544');\n",
              "          const dataTable =\n",
              "            await google.colab.kernel.invokeFunction('convertToInteractive',\n",
              "                                                     [key], {});\n",
              "          if (!dataTable) return;\n",
              "\n",
              "          const docLinkHtml = 'Like what you see? Visit the ' +\n",
              "            '<a target=\"_blank\" href=https://colab.research.google.com/notebooks/data_table.ipynb>data table notebook</a>'\n",
              "            + ' to learn more about interactive tables.';\n",
              "          element.innerHTML = '';\n",
              "          dataTable['output_type'] = 'display_data';\n",
              "          await google.colab.output.renderOutput(dataTable, element);\n",
              "          const docLink = document.createElement('div');\n",
              "          docLink.innerHTML = docLinkHtml;\n",
              "          element.appendChild(docLink);\n",
              "        }\n",
              "      </script>\n",
              "    </div>\n",
              "  </div>\n",
              "  "
            ]
          },
          "metadata": {},
          "execution_count": 108
        }
      ]
    },
    {
      "cell_type": "code",
      "source": [
        "print(jm1_df.dtypes)"
      ],
      "metadata": {
        "colab": {
          "base_uri": "https://localhost:8080/"
        },
        "id": "EEeHWmGrwMzq",
        "outputId": "c9ef7849-7c87-4af1-b151-66ccf88cf212"
      },
      "execution_count": null,
      "outputs": [
        {
          "output_type": "stream",
          "name": "stdout",
          "text": [
            "l_count                    int64\n",
            "cyclomatic_complexity      int64\n",
            "essential_complexity       int64\n",
            "design_complexity          int64\n",
            "n                          int64\n",
            "v                        float64\n",
            "l                        float64\n",
            "d                        float64\n",
            "i                        float64\n",
            "e                        float64\n",
            "b                        float64\n",
            "t                        float64\n",
            "lOCode                     int64\n",
            "lOComment                  int64\n",
            "lOBlank                    int64\n",
            "lOCodeAndComment           int64\n",
            "uniq_Op                   object\n",
            "uniq_Opnd                 object\n",
            "total_Op                  object\n",
            "total_Opnd                object\n",
            "branchCount               object\n",
            "problems                    bool\n",
            "dtype: object\n"
          ]
        }
      ]
    },
    {
      "cell_type": "code",
      "source": [
        "jm1_df.loc[jm1_df['uniq_Op']=='?'].count()"
      ],
      "metadata": {
        "colab": {
          "base_uri": "https://localhost:8080/"
        },
        "id": "TshzuqhOBVwO",
        "outputId": "837e4398-a249-4895-ab6c-ded432d78bb1"
      },
      "execution_count": null,
      "outputs": [
        {
          "output_type": "execute_result",
          "data": {
            "text/plain": [
              "l_count                  5\n",
              "cyclomatic_complexity    5\n",
              "essential_complexity     5\n",
              "design_complexity        5\n",
              "n                        5\n",
              "v                        5\n",
              "l                        5\n",
              "d                        5\n",
              "i                        5\n",
              "e                        5\n",
              "b                        5\n",
              "t                        5\n",
              "lOCode                   5\n",
              "lOComment                5\n",
              "lOBlank                  5\n",
              "lOCodeAndComment         5\n",
              "uniq_Op                  5\n",
              "uniq_Opnd                5\n",
              "total_Op                 5\n",
              "total_Opnd               5\n",
              "branchCount              5\n",
              "problems                 5\n",
              "dtype: int64"
            ]
          },
          "metadata": {},
          "execution_count": 110
        }
      ]
    },
    {
      "cell_type": "code",
      "source": [
        "jm1_df.drop(jm1_df.loc[jm1_df['uniq_Op']==\"?\"].index, inplace=True)"
      ],
      "metadata": {
        "id": "7r4f-7jN7CIO"
      },
      "execution_count": null,
      "outputs": []
    },
    {
      "cell_type": "markdown",
      "source": [
        "While converting attribute having object type into numeric type. I encounter many rows contain '?' value in respective attribute having object datatype.<br>\n",
        "Performing drop() on that rows."
      ],
      "metadata": {
        "id": "LkqvBuR04yvJ"
      }
    },
    {
      "cell_type": "code",
      "source": [
        "jm1_df[['uniq_Op', 'uniq_Opnd','total_Op','total_Opnd','branchCount']] = jm1_df[['uniq_Op', 'uniq_Opnd','total_Op','total_Opnd','branchCount']].apply(pd.to_numeric)"
      ],
      "metadata": {
        "id": "xZgtqTdY2H9A"
      },
      "execution_count": null,
      "outputs": []
    },
    {
      "cell_type": "code",
      "source": [
        "jm1_df.iloc[141:144,]"
      ],
      "metadata": {
        "colab": {
          "base_uri": "https://localhost:8080/",
          "height": 237
        },
        "id": "dJ4D_zSk35DU",
        "outputId": "9f16dc95-109f-4109-875d-5cae0f620ccb"
      },
      "execution_count": null,
      "outputs": [
        {
          "output_type": "execute_result",
          "data": {
            "text/plain": [
              "     l_count  cyclomatic_complexity  essential_complexity  design_complexity  \\\n",
              "141       71                      5                     1                  4   \n",
              "143       87                     10                     5                  4   \n",
              "144       19                      2                     1                  2   \n",
              "\n",
              "       n        v     l      d      i         e  ...  lOCode  lOComment  \\\n",
              "141  223  1338.00  0.06  16.07  83.25  21503.57  ...      57          1   \n",
              "143    0     0.00  0.00   0.00   0.00      0.00  ...       0          0   \n",
              "144   43   188.87  0.12   8.64  21.87   1631.15  ...       9          1   \n",
              "\n",
              "     lOBlank  lOCodeAndComment  uniq_Op  uniq_Opnd  total_Op  total_Opnd  \\\n",
              "141       11                 0       15         49       118         105   \n",
              "143        0                 0        0          0         0           0   \n",
              "144        4                 0       10         11        24          19   \n",
              "\n",
              "     branchCount  problems  \n",
              "141            9      True  \n",
              "143           18      True  \n",
              "144            3      True  \n",
              "\n",
              "[3 rows x 22 columns]"
            ],
            "text/html": [
              "\n",
              "  <div id=\"df-073bdabe-8b46-4da1-b27a-e1dc3d245381\">\n",
              "    <div class=\"colab-df-container\">\n",
              "      <div>\n",
              "<style scoped>\n",
              "    .dataframe tbody tr th:only-of-type {\n",
              "        vertical-align: middle;\n",
              "    }\n",
              "\n",
              "    .dataframe tbody tr th {\n",
              "        vertical-align: top;\n",
              "    }\n",
              "\n",
              "    .dataframe thead th {\n",
              "        text-align: right;\n",
              "    }\n",
              "</style>\n",
              "<table border=\"1\" class=\"dataframe\">\n",
              "  <thead>\n",
              "    <tr style=\"text-align: right;\">\n",
              "      <th></th>\n",
              "      <th>l_count</th>\n",
              "      <th>cyclomatic_complexity</th>\n",
              "      <th>essential_complexity</th>\n",
              "      <th>design_complexity</th>\n",
              "      <th>n</th>\n",
              "      <th>v</th>\n",
              "      <th>l</th>\n",
              "      <th>d</th>\n",
              "      <th>i</th>\n",
              "      <th>e</th>\n",
              "      <th>...</th>\n",
              "      <th>lOCode</th>\n",
              "      <th>lOComment</th>\n",
              "      <th>lOBlank</th>\n",
              "      <th>lOCodeAndComment</th>\n",
              "      <th>uniq_Op</th>\n",
              "      <th>uniq_Opnd</th>\n",
              "      <th>total_Op</th>\n",
              "      <th>total_Opnd</th>\n",
              "      <th>branchCount</th>\n",
              "      <th>problems</th>\n",
              "    </tr>\n",
              "  </thead>\n",
              "  <tbody>\n",
              "    <tr>\n",
              "      <th>141</th>\n",
              "      <td>71</td>\n",
              "      <td>5</td>\n",
              "      <td>1</td>\n",
              "      <td>4</td>\n",
              "      <td>223</td>\n",
              "      <td>1338.00</td>\n",
              "      <td>0.06</td>\n",
              "      <td>16.07</td>\n",
              "      <td>83.25</td>\n",
              "      <td>21503.57</td>\n",
              "      <td>...</td>\n",
              "      <td>57</td>\n",
              "      <td>1</td>\n",
              "      <td>11</td>\n",
              "      <td>0</td>\n",
              "      <td>15</td>\n",
              "      <td>49</td>\n",
              "      <td>118</td>\n",
              "      <td>105</td>\n",
              "      <td>9</td>\n",
              "      <td>True</td>\n",
              "    </tr>\n",
              "    <tr>\n",
              "      <th>143</th>\n",
              "      <td>87</td>\n",
              "      <td>10</td>\n",
              "      <td>5</td>\n",
              "      <td>4</td>\n",
              "      <td>0</td>\n",
              "      <td>0.00</td>\n",
              "      <td>0.00</td>\n",
              "      <td>0.00</td>\n",
              "      <td>0.00</td>\n",
              "      <td>0.00</td>\n",
              "      <td>...</td>\n",
              "      <td>0</td>\n",
              "      <td>0</td>\n",
              "      <td>0</td>\n",
              "      <td>0</td>\n",
              "      <td>0</td>\n",
              "      <td>0</td>\n",
              "      <td>0</td>\n",
              "      <td>0</td>\n",
              "      <td>18</td>\n",
              "      <td>True</td>\n",
              "    </tr>\n",
              "    <tr>\n",
              "      <th>144</th>\n",
              "      <td>19</td>\n",
              "      <td>2</td>\n",
              "      <td>1</td>\n",
              "      <td>2</td>\n",
              "      <td>43</td>\n",
              "      <td>188.87</td>\n",
              "      <td>0.12</td>\n",
              "      <td>8.64</td>\n",
              "      <td>21.87</td>\n",
              "      <td>1631.15</td>\n",
              "      <td>...</td>\n",
              "      <td>9</td>\n",
              "      <td>1</td>\n",
              "      <td>4</td>\n",
              "      <td>0</td>\n",
              "      <td>10</td>\n",
              "      <td>11</td>\n",
              "      <td>24</td>\n",
              "      <td>19</td>\n",
              "      <td>3</td>\n",
              "      <td>True</td>\n",
              "    </tr>\n",
              "  </tbody>\n",
              "</table>\n",
              "<p>3 rows × 22 columns</p>\n",
              "</div>\n",
              "      <button class=\"colab-df-convert\" onclick=\"convertToInteractive('df-073bdabe-8b46-4da1-b27a-e1dc3d245381')\"\n",
              "              title=\"Convert this dataframe to an interactive table.\"\n",
              "              style=\"display:none;\">\n",
              "        \n",
              "  <svg xmlns=\"http://www.w3.org/2000/svg\" height=\"24px\"viewBox=\"0 0 24 24\"\n",
              "       width=\"24px\">\n",
              "    <path d=\"M0 0h24v24H0V0z\" fill=\"none\"/>\n",
              "    <path d=\"M18.56 5.44l.94 2.06.94-2.06 2.06-.94-2.06-.94-.94-2.06-.94 2.06-2.06.94zm-11 1L8.5 8.5l.94-2.06 2.06-.94-2.06-.94L8.5 2.5l-.94 2.06-2.06.94zm10 10l.94 2.06.94-2.06 2.06-.94-2.06-.94-.94-2.06-.94 2.06-2.06.94z\"/><path d=\"M17.41 7.96l-1.37-1.37c-.4-.4-.92-.59-1.43-.59-.52 0-1.04.2-1.43.59L10.3 9.45l-7.72 7.72c-.78.78-.78 2.05 0 2.83L4 21.41c.39.39.9.59 1.41.59.51 0 1.02-.2 1.41-.59l7.78-7.78 2.81-2.81c.8-.78.8-2.07 0-2.86zM5.41 20L4 18.59l7.72-7.72 1.47 1.35L5.41 20z\"/>\n",
              "  </svg>\n",
              "      </button>\n",
              "      \n",
              "  <style>\n",
              "    .colab-df-container {\n",
              "      display:flex;\n",
              "      flex-wrap:wrap;\n",
              "      gap: 12px;\n",
              "    }\n",
              "\n",
              "    .colab-df-convert {\n",
              "      background-color: #E8F0FE;\n",
              "      border: none;\n",
              "      border-radius: 50%;\n",
              "      cursor: pointer;\n",
              "      display: none;\n",
              "      fill: #1967D2;\n",
              "      height: 32px;\n",
              "      padding: 0 0 0 0;\n",
              "      width: 32px;\n",
              "    }\n",
              "\n",
              "    .colab-df-convert:hover {\n",
              "      background-color: #E2EBFA;\n",
              "      box-shadow: 0px 1px 2px rgba(60, 64, 67, 0.3), 0px 1px 3px 1px rgba(60, 64, 67, 0.15);\n",
              "      fill: #174EA6;\n",
              "    }\n",
              "\n",
              "    [theme=dark] .colab-df-convert {\n",
              "      background-color: #3B4455;\n",
              "      fill: #D2E3FC;\n",
              "    }\n",
              "\n",
              "    [theme=dark] .colab-df-convert:hover {\n",
              "      background-color: #434B5C;\n",
              "      box-shadow: 0px 1px 3px 1px rgba(0, 0, 0, 0.15);\n",
              "      filter: drop-shadow(0px 1px 2px rgba(0, 0, 0, 0.3));\n",
              "      fill: #FFFFFF;\n",
              "    }\n",
              "  </style>\n",
              "\n",
              "      <script>\n",
              "        const buttonEl =\n",
              "          document.querySelector('#df-073bdabe-8b46-4da1-b27a-e1dc3d245381 button.colab-df-convert');\n",
              "        buttonEl.style.display =\n",
              "          google.colab.kernel.accessAllowed ? 'block' : 'none';\n",
              "\n",
              "        async function convertToInteractive(key) {\n",
              "          const element = document.querySelector('#df-073bdabe-8b46-4da1-b27a-e1dc3d245381');\n",
              "          const dataTable =\n",
              "            await google.colab.kernel.invokeFunction('convertToInteractive',\n",
              "                                                     [key], {});\n",
              "          if (!dataTable) return;\n",
              "\n",
              "          const docLinkHtml = 'Like what you see? Visit the ' +\n",
              "            '<a target=\"_blank\" href=https://colab.research.google.com/notebooks/data_table.ipynb>data table notebook</a>'\n",
              "            + ' to learn more about interactive tables.';\n",
              "          element.innerHTML = '';\n",
              "          dataTable['output_type'] = 'display_data';\n",
              "          await google.colab.output.renderOutput(dataTable, element);\n",
              "          const docLink = document.createElement('div');\n",
              "          docLink.innerHTML = docLinkHtml;\n",
              "          element.appendChild(docLink);\n",
              "        }\n",
              "      </script>\n",
              "    </div>\n",
              "  </div>\n",
              "  "
            ]
          },
          "metadata": {},
          "execution_count": 113
        }
      ]
    },
    {
      "cell_type": "code",
      "source": [
        "print(pc1_df.dtypes)"
      ],
      "metadata": {
        "colab": {
          "base_uri": "https://localhost:8080/"
        },
        "id": "UyjcmD6ZwNGG",
        "outputId": "a0aa7016-f899-4d96-a28e-f2fb6e400405"
      },
      "execution_count": null,
      "outputs": [
        {
          "output_type": "stream",
          "name": "stdout",
          "text": [
            "l_count                    int64\n",
            "cyclomatic_complexity      int64\n",
            "essential_complexity       int64\n",
            "design_complexity          int64\n",
            "n                          int64\n",
            "v                        float64\n",
            "l                        float64\n",
            "d                        float64\n",
            "i                        float64\n",
            "e                        float64\n",
            "b                        float64\n",
            "t                        float64\n",
            "lOCode                     int64\n",
            "lOComment                  int64\n",
            "lOBlank                    int64\n",
            "lOCodeAndComment           int64\n",
            "uniq_Op                    int64\n",
            "uniq_Opnd                  int64\n",
            "total_Op                   int64\n",
            "total_Opnd                 int64\n",
            "branchCount                int64\n",
            "problems                    bool\n",
            "dtype: object\n"
          ]
        }
      ]
    },
    {
      "cell_type": "code",
      "source": [
        "print(cm1_df.dtypes)"
      ],
      "metadata": {
        "colab": {
          "base_uri": "https://localhost:8080/"
        },
        "id": "S_qBzp6_wNbp",
        "outputId": "5d9d4921-3f59-4cf2-c7e6-ba4f5fbe5ab9"
      },
      "execution_count": null,
      "outputs": [
        {
          "output_type": "stream",
          "name": "stdout",
          "text": [
            "l_count                    int64\n",
            "cyclomatic_complexity      int64\n",
            "essential_complexity       int64\n",
            "design_complexity          int64\n",
            "n                          int64\n",
            "v                        float64\n",
            "l                        float64\n",
            "d                        float64\n",
            "i                        float64\n",
            "e                        float64\n",
            "b                        float64\n",
            "t                        float64\n",
            "lOCode                     int64\n",
            "lOComment                  int64\n",
            "lOBlank                    int64\n",
            "lOCodeAndComment           int64\n",
            "uniq_Op                    int64\n",
            "uniq_Opnd                  int64\n",
            "total_Op                   int64\n",
            "total_Opnd                 int64\n",
            "branchCount                int64\n",
            "problems                    bool\n",
            "dtype: object\n"
          ]
        }
      ]
    },
    {
      "cell_type": "code",
      "source": [
        "print(ar1_df.dtypes)"
      ],
      "metadata": {
        "colab": {
          "base_uri": "https://localhost:8080/"
        },
        "id": "96kQjm3gwNrD",
        "outputId": "28655fd2-514c-4d21-bf0d-1b529f2f2832"
      },
      "execution_count": null,
      "outputs": [
        {
          "output_type": "stream",
          "name": "stdout",
          "text": [
            "total_loc                             int64\n",
            "blank_loc                             int64\n",
            "comment_loc                           int64\n",
            "code_and_comment_loc                  int64\n",
            "executable_loc                        int64\n",
            "unique_operands                       int64\n",
            "unique_operators                      int64\n",
            "total_operands                        int64\n",
            "total_operators                       int64\n",
            "halstead_vocabulary                   int64\n",
            "halstead_length                       int64\n",
            "halstead_volume                       int64\n",
            "halstead_level                      float64\n",
            "halstead_difficulty                 float64\n",
            "halstead_effort                     float64\n",
            "halstead_error                      float64\n",
            "halstead_time                       float64\n",
            "branch_count                          int64\n",
            "decision_count                        int64\n",
            "call_pairs                            int64\n",
            "condition_count                       int64\n",
            "multiple_condition_count              int64\n",
            "cyclomatic_complexity                 int64\n",
            "cyclomatic_density                  float64\n",
            "decision_density                    float64\n",
            "design_complexity                     int64\n",
            "design_density                      float64\n",
            "normalized_cyclomatic_complexity    float64\n",
            "formal_parameters                     int64\n",
            "defects                                bool\n",
            "dtype: object\n"
          ]
        }
      ]
    },
    {
      "cell_type": "code",
      "source": [
        "print(ar3_df.dtypes)"
      ],
      "metadata": {
        "colab": {
          "base_uri": "https://localhost:8080/"
        },
        "id": "s1tu31JAwN7W",
        "outputId": "b3459943-4a74-4651-93e3-076247fa0c31"
      },
      "execution_count": null,
      "outputs": [
        {
          "output_type": "stream",
          "name": "stdout",
          "text": [
            "total_loc                             int64\n",
            "blank_loc                             int64\n",
            "comment_loc                           int64\n",
            "code_and_comment_loc                  int64\n",
            "executable_loc                        int64\n",
            "unique_operands                       int64\n",
            "unique_operators                      int64\n",
            "total_operands                        int64\n",
            "total_operators                       int64\n",
            "halstead_vocabulary                   int64\n",
            "halstead_length                       int64\n",
            "halstead_volume                       int64\n",
            "halstead_level                      float64\n",
            "halstead_difficulty                 float64\n",
            "halstead_effort                     float64\n",
            "halstead_error                      float64\n",
            "halstead_time                       float64\n",
            "branch_count                          int64\n",
            "decision_count                        int64\n",
            "call_pairs                            int64\n",
            "condition_count                       int64\n",
            "multiple_condition_count              int64\n",
            "cyclomatic_complexity                 int64\n",
            "cyclomatic_density                  float64\n",
            "decision_density                    float64\n",
            "design_complexity                     int64\n",
            "design_density                      float64\n",
            "normalized_cyclomatic_complexity    float64\n",
            "formal_parameters                     int64\n",
            "defects                                bool\n",
            "dtype: object\n"
          ]
        }
      ]
    },
    {
      "cell_type": "code",
      "source": [
        "print(ar4_df.dtypes)"
      ],
      "metadata": {
        "colab": {
          "base_uri": "https://localhost:8080/"
        },
        "id": "xuUoPqTDwOLT",
        "outputId": "a9918cda-c79f-46a4-d720-63fb30303a14"
      },
      "execution_count": null,
      "outputs": [
        {
          "output_type": "stream",
          "name": "stdout",
          "text": [
            "total_loc                             int64\n",
            "blank_loc                             int64\n",
            "comment_loc                           int64\n",
            "code_and_comment_loc                  int64\n",
            "executable_loc                        int64\n",
            "unique_operands                       int64\n",
            "unique_operators                      int64\n",
            "total_operands                        int64\n",
            "total_operators                       int64\n",
            "halstead_vocabulary                   int64\n",
            "halstead_length                       int64\n",
            "halstead_volume                       int64\n",
            "halstead_level                      float64\n",
            "halstead_difficulty                 float64\n",
            "halstead_effort                     float64\n",
            "halstead_error                      float64\n",
            "halstead_time                       float64\n",
            "branch_count                          int64\n",
            "decision_count                        int64\n",
            "call_pairs                            int64\n",
            "condition_count                       int64\n",
            "multiple_condition_count              int64\n",
            "cyclomatic_complexity                 int64\n",
            "cyclomatic_density                  float64\n",
            "decision_density                    float64\n",
            "design_complexity                     int64\n",
            "design_density                      float64\n",
            "normalized_cyclomatic_complexity    float64\n",
            "formal_parameters                     int64\n",
            "defects                                bool\n",
            "dtype: object\n"
          ]
        }
      ]
    },
    {
      "cell_type": "code",
      "source": [
        "print(ar5_df.dtypes)"
      ],
      "metadata": {
        "colab": {
          "base_uri": "https://localhost:8080/"
        },
        "id": "gf1Ls7fmwOat",
        "outputId": "d289409a-95ec-4d60-a06d-0578193b16a4"
      },
      "execution_count": null,
      "outputs": [
        {
          "output_type": "stream",
          "name": "stdout",
          "text": [
            "total_loc                             int64\n",
            "blank_loc                             int64\n",
            "comment_loc                           int64\n",
            "code_and_comment_loc                  int64\n",
            "executable_loc                        int64\n",
            "unique_operands                       int64\n",
            "unique_operators                      int64\n",
            "total_operands                        int64\n",
            "total_operators                       int64\n",
            "halstead_vocabulary                   int64\n",
            "halstead_length                       int64\n",
            "halstead_volume                       int64\n",
            "halstead_level                      float64\n",
            "halstead_difficulty                 float64\n",
            "halstead_effort                     float64\n",
            "halstead_error                      float64\n",
            "halstead_time                       float64\n",
            "branch_count                          int64\n",
            "decision_count                        int64\n",
            "call_pairs                            int64\n",
            "condition_count                       int64\n",
            "multiple_condition_count              int64\n",
            "cyclomatic_complexity                 int64\n",
            "cyclomatic_density                  float64\n",
            "decision_density                    float64\n",
            "design_complexity                     int64\n",
            "design_density                      float64\n",
            "normalized_cyclomatic_complexity    float64\n",
            "formal_parameters                     int64\n",
            "defects                                bool\n",
            "dtype: object\n"
          ]
        }
      ]
    },
    {
      "cell_type": "code",
      "source": [
        "print(ar6_df.dtypes)"
      ],
      "metadata": {
        "colab": {
          "base_uri": "https://localhost:8080/"
        },
        "id": "M6VydhjswOrU",
        "outputId": "f9f4b9ef-3b59-473e-e4f6-349406e419ca"
      },
      "execution_count": null,
      "outputs": [
        {
          "output_type": "stream",
          "name": "stdout",
          "text": [
            "total_loc                             int64\n",
            "blank_loc                             int64\n",
            "comment_loc                           int64\n",
            "code_and_comment_loc                  int64\n",
            "executable_loc                        int64\n",
            "unique_operands                       int64\n",
            "unique_operators                      int64\n",
            "total_operands                        int64\n",
            "total_operators                       int64\n",
            "halstead_vocabulary                   int64\n",
            "halstead_length                       int64\n",
            "halstead_volume                       int64\n",
            "halstead_level                      float64\n",
            "halstead_difficulty                 float64\n",
            "halstead_effort                     float64\n",
            "halstead_error                      float64\n",
            "halstead_time                       float64\n",
            "branch_count                        float64\n",
            "decision_count                        int64\n",
            "call_pairs                            int64\n",
            "condition_count                       int64\n",
            "multiple_condition_count              int64\n",
            "cyclomatic_complexity                 int64\n",
            "cyclomatic_density                  float64\n",
            "decision_density                    float64\n",
            "design_complexity                   float64\n",
            "design_density                      float64\n",
            "normalized_cyclomatic_complexity    float64\n",
            "formal_parameters                   float64\n",
            "defects                                bool\n",
            "dtype: object\n"
          ]
        }
      ]
    },
    {
      "cell_type": "markdown",
      "metadata": {
        "id": "uLfxXDeOL8lK"
      },
      "source": [
        "####**Converting attribute type from object to bool of respective dataset**\n",
        "**kc2** is the only dataset that consist object type in **\"problems\"** attribute."
      ]
    },
    {
      "cell_type": "code",
      "execution_count": null,
      "metadata": {
        "id": "O6znT8S_KvTD"
      },
      "outputs": [],
      "source": [
        "kc2_df['problems'] = kc2_df['problems'].map({'yes':True ,'no':False})"
      ]
    },
    {
      "cell_type": "code",
      "execution_count": null,
      "metadata": {
        "id": "gd2r1aWGKjKk",
        "colab": {
          "base_uri": "https://localhost:8080/"
        },
        "outputId": "9b18d87f-0cd5-467f-f073-90c5befc5ad3"
      },
      "outputs": [
        {
          "output_type": "stream",
          "name": "stdout",
          "text": [
            "l_count                    int64\n",
            "cyclomatic_complexity    float64\n",
            "essential_complexity       int64\n",
            "design_complexity          int64\n",
            "n                          int64\n",
            "v                        float64\n",
            "l                        float64\n",
            "d                        float64\n",
            "i                        float64\n",
            "e                        float64\n",
            "b                        float64\n",
            "t                        float64\n",
            "lOCode                     int64\n",
            "lOComment                  int64\n",
            "lOBlank                    int64\n",
            "lOCodeAndComment           int64\n",
            "uniq_Op                    int64\n",
            "uniq_Opnd                  int64\n",
            "total_Op                   int64\n",
            "total_Opnd                 int64\n",
            "branchCount                int64\n",
            "problems                    bool\n",
            "dtype: object\n"
          ]
        }
      ],
      "source": [
        "print(kc2_df.dtypes)"
      ]
    },
    {
      "cell_type": "markdown",
      "source": [
        "####**Checking for null values**"
      ],
      "metadata": {
        "id": "WtgwO0OYyfAH"
      }
    },
    {
      "cell_type": "code",
      "source": [
        "kc1_df.isnull().sum()"
      ],
      "metadata": {
        "colab": {
          "base_uri": "https://localhost:8080/"
        },
        "id": "m0FyY8l0uj4g",
        "outputId": "1f322093-5752-4f42-88b1-e0a5d35d2f4c"
      },
      "execution_count": null,
      "outputs": [
        {
          "output_type": "execute_result",
          "data": {
            "text/plain": [
              "l_count                  0\n",
              "cyclomatic_complexity    0\n",
              "essential_complexity     0\n",
              "design_complexity        0\n",
              "n                        0\n",
              "v                        0\n",
              "l                        0\n",
              "d                        0\n",
              "i                        0\n",
              "e                        0\n",
              "b                        0\n",
              "t                        0\n",
              "lOCode                   0\n",
              "lOComment                0\n",
              "lOBlank                  0\n",
              "lOCodeAndComment         0\n",
              "uniq_Op                  0\n",
              "uniq_Opnd                0\n",
              "total_Op                 0\n",
              "total_Opnd               0\n",
              "branchCount              0\n",
              "problems                 0\n",
              "dtype: int64"
            ]
          },
          "metadata": {},
          "execution_count": 123
        }
      ]
    },
    {
      "cell_type": "code",
      "source": [
        "kc2_df.isnull().sum()"
      ],
      "metadata": {
        "colab": {
          "base_uri": "https://localhost:8080/"
        },
        "id": "-UMnC0T1ypP1",
        "outputId": "9d50672d-71b3-4e30-e09f-387538a2d704"
      },
      "execution_count": null,
      "outputs": [
        {
          "output_type": "execute_result",
          "data": {
            "text/plain": [
              "l_count                  0\n",
              "cyclomatic_complexity    0\n",
              "essential_complexity     0\n",
              "design_complexity        0\n",
              "n                        0\n",
              "v                        0\n",
              "l                        0\n",
              "d                        0\n",
              "i                        0\n",
              "e                        0\n",
              "b                        0\n",
              "t                        0\n",
              "lOCode                   0\n",
              "lOComment                0\n",
              "lOBlank                  0\n",
              "lOCodeAndComment         0\n",
              "uniq_Op                  0\n",
              "uniq_Opnd                0\n",
              "total_Op                 0\n",
              "total_Opnd               0\n",
              "branchCount              0\n",
              "problems                 0\n",
              "dtype: int64"
            ]
          },
          "metadata": {},
          "execution_count": 124
        }
      ]
    },
    {
      "cell_type": "code",
      "source": [
        "cm1_df.isnull().sum()"
      ],
      "metadata": {
        "colab": {
          "base_uri": "https://localhost:8080/"
        },
        "id": "QosvYsA7ypYv",
        "outputId": "81e9a142-dd1e-46ff-8f54-a788ff9be1c1"
      },
      "execution_count": null,
      "outputs": [
        {
          "output_type": "execute_result",
          "data": {
            "text/plain": [
              "l_count                  0\n",
              "cyclomatic_complexity    0\n",
              "essential_complexity     0\n",
              "design_complexity        0\n",
              "n                        0\n",
              "v                        0\n",
              "l                        0\n",
              "d                        0\n",
              "i                        0\n",
              "e                        0\n",
              "b                        0\n",
              "t                        0\n",
              "lOCode                   0\n",
              "lOComment                0\n",
              "lOBlank                  0\n",
              "lOCodeAndComment         0\n",
              "uniq_Op                  0\n",
              "uniq_Opnd                0\n",
              "total_Op                 0\n",
              "total_Opnd               0\n",
              "branchCount              0\n",
              "problems                 0\n",
              "dtype: int64"
            ]
          },
          "metadata": {},
          "execution_count": 125
        }
      ]
    },
    {
      "cell_type": "code",
      "source": [
        "pc1_df.isnull().sum()"
      ],
      "metadata": {
        "colab": {
          "base_uri": "https://localhost:8080/"
        },
        "id": "tTxQI9Ftypg3",
        "outputId": "86eafd2e-9db3-4e19-b700-576d30e945db"
      },
      "execution_count": null,
      "outputs": [
        {
          "output_type": "execute_result",
          "data": {
            "text/plain": [
              "l_count                  0\n",
              "cyclomatic_complexity    0\n",
              "essential_complexity     0\n",
              "design_complexity        0\n",
              "n                        0\n",
              "v                        0\n",
              "l                        0\n",
              "d                        0\n",
              "i                        0\n",
              "e                        0\n",
              "b                        0\n",
              "t                        0\n",
              "lOCode                   0\n",
              "lOComment                0\n",
              "lOBlank                  0\n",
              "lOCodeAndComment         0\n",
              "uniq_Op                  0\n",
              "uniq_Opnd                0\n",
              "total_Op                 0\n",
              "total_Opnd               0\n",
              "branchCount              0\n",
              "problems                 0\n",
              "dtype: int64"
            ]
          },
          "metadata": {},
          "execution_count": 126
        }
      ]
    },
    {
      "cell_type": "code",
      "source": [
        "jm1_df.isnull().sum()"
      ],
      "metadata": {
        "colab": {
          "base_uri": "https://localhost:8080/"
        },
        "id": "3WWz-gtfypqS",
        "outputId": "97e11350-c3c2-4b31-b900-0387b9654160"
      },
      "execution_count": null,
      "outputs": [
        {
          "output_type": "execute_result",
          "data": {
            "text/plain": [
              "l_count                  0\n",
              "cyclomatic_complexity    0\n",
              "essential_complexity     0\n",
              "design_complexity        0\n",
              "n                        0\n",
              "v                        0\n",
              "l                        0\n",
              "d                        0\n",
              "i                        0\n",
              "e                        0\n",
              "b                        0\n",
              "t                        0\n",
              "lOCode                   0\n",
              "lOComment                0\n",
              "lOBlank                  0\n",
              "lOCodeAndComment         0\n",
              "uniq_Op                  0\n",
              "uniq_Opnd                0\n",
              "total_Op                 0\n",
              "total_Opnd               0\n",
              "branchCount              0\n",
              "problems                 0\n",
              "dtype: int64"
            ]
          },
          "metadata": {},
          "execution_count": 127
        }
      ]
    },
    {
      "cell_type": "code",
      "source": [
        "ar1_df.isnull().sum()"
      ],
      "metadata": {
        "colab": {
          "base_uri": "https://localhost:8080/"
        },
        "id": "dvT5qhj5ypy1",
        "outputId": "7e196e2b-2831-4bea-ec32-baf9cb0a3e96"
      },
      "execution_count": null,
      "outputs": [
        {
          "output_type": "execute_result",
          "data": {
            "text/plain": [
              "total_loc                           0\n",
              "blank_loc                           0\n",
              "comment_loc                         0\n",
              "code_and_comment_loc                0\n",
              "executable_loc                      0\n",
              "unique_operands                     0\n",
              "unique_operators                    0\n",
              "total_operands                      0\n",
              "total_operators                     0\n",
              "halstead_vocabulary                 0\n",
              "halstead_length                     0\n",
              "halstead_volume                     0\n",
              "halstead_level                      0\n",
              "halstead_difficulty                 0\n",
              "halstead_effort                     0\n",
              "halstead_error                      0\n",
              "halstead_time                       0\n",
              "branch_count                        0\n",
              "decision_count                      0\n",
              "call_pairs                          0\n",
              "condition_count                     0\n",
              "multiple_condition_count            0\n",
              "cyclomatic_complexity               0\n",
              "cyclomatic_density                  0\n",
              "decision_density                    0\n",
              "design_complexity                   0\n",
              "design_density                      0\n",
              "normalized_cyclomatic_complexity    0\n",
              "formal_parameters                   0\n",
              "defects                             0\n",
              "dtype: int64"
            ]
          },
          "metadata": {},
          "execution_count": 128
        }
      ]
    },
    {
      "cell_type": "code",
      "source": [
        "ar3_df.isnull().sum()"
      ],
      "metadata": {
        "colab": {
          "base_uri": "https://localhost:8080/"
        },
        "id": "SmQd8tHmyp6T",
        "outputId": "98b22037-5e7a-4cee-b0f2-0a05d4a13b6c"
      },
      "execution_count": null,
      "outputs": [
        {
          "output_type": "execute_result",
          "data": {
            "text/plain": [
              "total_loc                           0\n",
              "blank_loc                           0\n",
              "comment_loc                         0\n",
              "code_and_comment_loc                0\n",
              "executable_loc                      0\n",
              "unique_operands                     0\n",
              "unique_operators                    0\n",
              "total_operands                      0\n",
              "total_operators                     0\n",
              "halstead_vocabulary                 0\n",
              "halstead_length                     0\n",
              "halstead_volume                     0\n",
              "halstead_level                      0\n",
              "halstead_difficulty                 0\n",
              "halstead_effort                     0\n",
              "halstead_error                      0\n",
              "halstead_time                       0\n",
              "branch_count                        0\n",
              "decision_count                      0\n",
              "call_pairs                          0\n",
              "condition_count                     0\n",
              "multiple_condition_count            0\n",
              "cyclomatic_complexity               0\n",
              "cyclomatic_density                  0\n",
              "decision_density                    0\n",
              "design_complexity                   0\n",
              "design_density                      0\n",
              "normalized_cyclomatic_complexity    0\n",
              "formal_parameters                   0\n",
              "defects                             0\n",
              "dtype: int64"
            ]
          },
          "metadata": {},
          "execution_count": 129
        }
      ]
    },
    {
      "cell_type": "code",
      "source": [
        "ar4_df.isnull().sum()"
      ],
      "metadata": {
        "colab": {
          "base_uri": "https://localhost:8080/"
        },
        "id": "tdqaEBs-yqEN",
        "outputId": "8b9979ab-53f9-4c1e-839a-b3857cc49d65"
      },
      "execution_count": null,
      "outputs": [
        {
          "output_type": "execute_result",
          "data": {
            "text/plain": [
              "total_loc                           0\n",
              "blank_loc                           0\n",
              "comment_loc                         0\n",
              "code_and_comment_loc                0\n",
              "executable_loc                      0\n",
              "unique_operands                     0\n",
              "unique_operators                    0\n",
              "total_operands                      0\n",
              "total_operators                     0\n",
              "halstead_vocabulary                 0\n",
              "halstead_length                     0\n",
              "halstead_volume                     0\n",
              "halstead_level                      0\n",
              "halstead_difficulty                 0\n",
              "halstead_effort                     0\n",
              "halstead_error                      0\n",
              "halstead_time                       0\n",
              "branch_count                        0\n",
              "decision_count                      0\n",
              "call_pairs                          0\n",
              "condition_count                     0\n",
              "multiple_condition_count            0\n",
              "cyclomatic_complexity               0\n",
              "cyclomatic_density                  0\n",
              "decision_density                    0\n",
              "design_complexity                   0\n",
              "design_density                      0\n",
              "normalized_cyclomatic_complexity    0\n",
              "formal_parameters                   0\n",
              "defects                             0\n",
              "dtype: int64"
            ]
          },
          "metadata": {},
          "execution_count": 130
        }
      ]
    },
    {
      "cell_type": "code",
      "source": [
        "ar5_df.isnull().sum()"
      ],
      "metadata": {
        "colab": {
          "base_uri": "https://localhost:8080/"
        },
        "id": "DEVyYJXsyqNO",
        "outputId": "0fb3ff85-6f7c-4ac9-adcb-e63314d3ddb8"
      },
      "execution_count": null,
      "outputs": [
        {
          "output_type": "execute_result",
          "data": {
            "text/plain": [
              "total_loc                           0\n",
              "blank_loc                           0\n",
              "comment_loc                         0\n",
              "code_and_comment_loc                0\n",
              "executable_loc                      0\n",
              "unique_operands                     0\n",
              "unique_operators                    0\n",
              "total_operands                      0\n",
              "total_operators                     0\n",
              "halstead_vocabulary                 0\n",
              "halstead_length                     0\n",
              "halstead_volume                     0\n",
              "halstead_level                      0\n",
              "halstead_difficulty                 0\n",
              "halstead_effort                     0\n",
              "halstead_error                      0\n",
              "halstead_time                       0\n",
              "branch_count                        0\n",
              "decision_count                      0\n",
              "call_pairs                          0\n",
              "condition_count                     0\n",
              "multiple_condition_count            0\n",
              "cyclomatic_complexity               0\n",
              "cyclomatic_density                  0\n",
              "decision_density                    0\n",
              "design_complexity                   0\n",
              "design_density                      0\n",
              "normalized_cyclomatic_complexity    0\n",
              "formal_parameters                   0\n",
              "defects                             0\n",
              "dtype: int64"
            ]
          },
          "metadata": {},
          "execution_count": 131
        }
      ]
    },
    {
      "cell_type": "code",
      "source": [
        "ar6_df.isnull().sum()"
      ],
      "metadata": {
        "colab": {
          "base_uri": "https://localhost:8080/"
        },
        "id": "zV195jWzyscy",
        "outputId": "e6011036-66ba-40ac-8a6f-199e838dc92a"
      },
      "execution_count": null,
      "outputs": [
        {
          "output_type": "execute_result",
          "data": {
            "text/plain": [
              "total_loc                           0\n",
              "blank_loc                           0\n",
              "comment_loc                         0\n",
              "code_and_comment_loc                0\n",
              "executable_loc                      0\n",
              "unique_operands                     0\n",
              "unique_operators                    0\n",
              "total_operands                      0\n",
              "total_operators                     0\n",
              "halstead_vocabulary                 0\n",
              "halstead_length                     0\n",
              "halstead_volume                     0\n",
              "halstead_level                      0\n",
              "halstead_difficulty                 0\n",
              "halstead_effort                     0\n",
              "halstead_error                      0\n",
              "halstead_time                       0\n",
              "branch_count                        0\n",
              "decision_count                      0\n",
              "call_pairs                          0\n",
              "condition_count                     0\n",
              "multiple_condition_count            0\n",
              "cyclomatic_complexity               0\n",
              "cyclomatic_density                  0\n",
              "decision_density                    0\n",
              "design_complexity                   0\n",
              "design_density                      0\n",
              "normalized_cyclomatic_complexity    0\n",
              "formal_parameters                   0\n",
              "defects                             0\n",
              "dtype: int64"
            ]
          },
          "metadata": {},
          "execution_count": 132
        }
      ]
    },
    {
      "cell_type": "markdown",
      "metadata": {
        "id": "raaBCTp95Saq"
      },
      "source": [
        "# Base measures: \n",
        "mu1             = number of unique operators<br>\n",
        "mu2             = number of unique operands<br>\n",
        "N1              = total occurrences of operators<br>\n",
        "N2              = total occurrences of operands<br>\n",
        "length     = N  = N1 + N2<br>\n",
        "vocabulary = mu = mu1 + mu2<br><br>\n",
        "**Constants set for each function:**<br>\n",
        "mu1' =  2 = potential operator count (just the function name and the \"return\" operator)<br>\n",
        "mu2'= potential operand count. (the number of arguments to the module)<br>    \n",
        "For example, the expression \"return max(w+x,x+y)\" has \"N1=4\" operators \"return, max, +,+)\", \"N2=4\" operands (w,x,x,y),\"mu1=3\" unique operators (return, max,+), and \"mu2=3\" unique operands (w,x,y).<br>\n",
        "<br> \n",
        "**Derived measures:**<br>\n",
        "P = volume = V = N * log2(mu) (the number of mental comparisons needed to write a program of length N)<br>\n",
        "V* = volume on minimal implementation = (2 + mu2')*log2(2 + mu2')<br>\n",
        "L  = program length = V*/N<br>\n",
        "D  = difficulty = 1/L<br>\n",
        "L' = 1/D <br>\n",
        "I  = intelligence = L'*V'<br>\n",
        "E  = effort to write program = V/L<br> \n",
        "T  = time to write program = E/18 seconds<br>"
      ]
    },
    {
      "cell_type": "markdown",
      "source": [
        "###Class Imbalance in each dataset."
      ],
      "metadata": {
        "id": "QrwZqxdgJbVi"
      }
    },
    {
      "cell_type": "code",
      "source": [
        "import seaborn as sns\n",
        "\n",
        "plt.rcParams['figure.figsize']=(12,6)\n",
        "plt.rcParams['font.size']=14\n",
        "plt.title('KC1 Dataset')\n",
        "sns.set_style(\"darkgrid\")\n",
        "\n",
        "sns.countplot(kc1_df.problems);"
      ],
      "metadata": {
        "id": "Txnx7Fcq-5hP",
        "outputId": "4330d8bd-e574-4e06-b54b-5fdcf8f17347",
        "colab": {
          "base_uri": "https://localhost:8080/",
          "height": 471
        }
      },
      "execution_count": null,
      "outputs": [
        {
          "output_type": "stream",
          "name": "stderr",
          "text": [
            "/usr/local/lib/python3.8/dist-packages/seaborn/_decorators.py:36: FutureWarning: Pass the following variable as a keyword arg: x. From version 0.12, the only valid positional argument will be `data`, and passing other arguments without an explicit keyword will result in an error or misinterpretation.\n",
            "  warnings.warn(\n"
          ]
        },
        {
          "output_type": "display_data",
          "data": {
            "text/plain": [
              "<Figure size 864x432 with 1 Axes>"
            ],
            "image/png": "[encoded data removed]"
          },
          "metadata": {}
        }
      ]
    },
    {
      "cell_type": "code",
      "source": [
        "import seaborn as sns\n",
        "\n",
        "plt.rcParams['figure.figsize']=(12,6)\n",
        "plt.rcParams['font.size']=14\n",
        "plt.title('KC2 Dataset')\n",
        "sns.set_style(\"darkgrid\")\n",
        "\n",
        "sns.countplot(kc2_df.problems);"
      ],
      "metadata": {
        "outputId": "bce35ee1-2dba-4d45-9f70-286b9d8884d9",
        "colab": {
          "base_uri": "https://localhost:8080/",
          "height": 471
        },
        "id": "hqU1RIIaJ-WO"
      },
      "execution_count": null,
      "outputs": [
        {
          "output_type": "stream",
          "name": "stderr",
          "text": [
            "/usr/local/lib/python3.8/dist-packages/seaborn/_decorators.py:36: FutureWarning: Pass the following variable as a keyword arg: x. From version 0.12, the only valid positional argument will be `data`, and passing other arguments without an explicit keyword will result in an error or misinterpretation.\n",
            "  warnings.warn(\n"
          ]
        },
        {
          "output_type": "display_data",
          "data": {
            "text/plain": [
              "<Figure size 864x432 with 1 Axes>"
            ],
            "image/png": "[encoded data removed]"
          },
          "metadata": {}
        }
      ]
    },
    {
      "cell_type": "code",
      "source": [
        "import seaborn as sns\n",
        "\n",
        "plt.rcParams['figure.figsize']=(12,6)\n",
        "plt.rcParams['font.size']=14\n",
        "plt.title('JM1 Dataset')\n",
        "sns.set_style(\"darkgrid\")\n",
        "\n",
        "sns.countplot(jm1_df.problems);"
      ],
      "metadata": {
        "outputId": "063c48ab-5043-4341-ad72-2d30ce28c674",
        "colab": {
          "base_uri": "https://localhost:8080/",
          "height": 471
        },
        "id": "vbrrQDHbJ-ll"
      },
      "execution_count": null,
      "outputs": [
        {
          "output_type": "stream",
          "name": "stderr",
          "text": [
            "/usr/local/lib/python3.8/dist-packages/seaborn/_decorators.py:36: FutureWarning: Pass the following variable as a keyword arg: x. From version 0.12, the only valid positional argument will be `data`, and passing other arguments without an explicit keyword will result in an error or misinterpretation.\n",
            "  warnings.warn(\n"
          ]
        },
        {
          "output_type": "display_data",
          "data": {
            "text/plain": [
              "<Figure size 864x432 with 1 Axes>"
            ],
            "image/png": "[encoded data removed]"
          },
          "metadata": {}
        }
      ]
    },
    {
      "cell_type": "code",
      "source": [
        "import seaborn as sns\n",
        "\n",
        "plt.rcParams['figure.figsize']=(12,6)\n",
        "plt.rcParams['font.size']=14\n",
        "plt.title('CM1 Dataset')\n",
        "sns.set_style(\"darkgrid\")\n",
        "\n",
        "sns.countplot(cm1_df.problems);"
      ],
      "metadata": {
        "outputId": "34d9a531-8b02-446b-9b5d-fe406e690895",
        "colab": {
          "base_uri": "https://localhost:8080/",
          "height": 471
        },
        "id": "H0D7B0kUJ-wM"
      },
      "execution_count": null,
      "outputs": [
        {
          "output_type": "stream",
          "name": "stderr",
          "text": [
            "/usr/local/lib/python3.8/dist-packages/seaborn/_decorators.py:36: FutureWarning: Pass the following variable as a keyword arg: x. From version 0.12, the only valid positional argument will be `data`, and passing other arguments without an explicit keyword will result in an error or misinterpretation.\n",
            "  warnings.warn(\n"
          ]
        },
        {
          "output_type": "display_data",
          "data": {
            "text/plain": [
              "<Figure size 864x432 with 1 Axes>"
            ],
            "image/png": "[encoded data removed]"
          },
          "metadata": {}
        }
      ]
    },
    {
      "cell_type": "code",
      "source": [
        "import seaborn as sns\n",
        "\n",
        "plt.rcParams['figure.figsize']=(12,6)\n",
        "plt.rcParams['font.size']=14\n",
        "plt.title('PC1 Dataset')\n",
        "sns.set_style(\"darkgrid\")\n",
        "\n",
        "sns.countplot(pc1_df.problems);"
      ],
      "metadata": {
        "outputId": "795b8e84-c0fb-411a-dc97-4d4fb4c0cb4d",
        "colab": {
          "base_uri": "https://localhost:8080/",
          "height": 471
        },
        "id": "ZHn1CCzxJ_Dp"
      },
      "execution_count": null,
      "outputs": [
        {
          "output_type": "stream",
          "name": "stderr",
          "text": [
            "/usr/local/lib/python3.8/dist-packages/seaborn/_decorators.py:36: FutureWarning: Pass the following variable as a keyword arg: x. From version 0.12, the only valid positional argument will be `data`, and passing other arguments without an explicit keyword will result in an error or misinterpretation.\n",
            "  warnings.warn(\n"
          ]
        },
        {
          "output_type": "display_data",
          "data": {
            "text/plain": [
              "<Figure size 864x432 with 1 Axes>"
            ],
            "image/png": "[encoded data removed]"
          },
          "metadata": {}
        }
      ]
    },
    {
      "cell_type": "code",
      "source": [
        "import seaborn as sns\n",
        "\n",
        "plt.rcParams['figure.figsize']=(12,6)\n",
        "plt.rcParams['font.size']=14\n",
        "plt.title('AR1 Dataset')\n",
        "sns.set_style(\"darkgrid\")\n",
        "\n",
        "sns.countplot(ar1_df.defects);"
      ],
      "metadata": {
        "outputId": "9a53b9d4-da6a-4b61-cca7-78a679c604ef",
        "colab": {
          "base_uri": "https://localhost:8080/",
          "height": 471
        },
        "id": "3KcyF7LMJ_QJ"
      },
      "execution_count": null,
      "outputs": [
        {
          "output_type": "stream",
          "name": "stderr",
          "text": [
            "/usr/local/lib/python3.8/dist-packages/seaborn/_decorators.py:36: FutureWarning: Pass the following variable as a keyword arg: x. From version 0.12, the only valid positional argument will be `data`, and passing other arguments without an explicit keyword will result in an error or misinterpretation.\n",
            "  warnings.warn(\n"
          ]
        },
        {
          "output_type": "display_data",
          "data": {
            "text/plain": [
              "<Figure size 864x432 with 1 Axes>"
            ],
            "image/png": "[encoded data removed]"
          },
          "metadata": {}
        }
      ]
    },
    {
      "cell_type": "code",
      "source": [
        "import seaborn as sns\n",
        "\n",
        "plt.rcParams['figure.figsize']=(12,6)\n",
        "plt.rcParams['font.size']=14\n",
        "plt.title('AR3 Dataset')\n",
        "sns.set_style(\"darkgrid\")\n",
        "\n",
        "sns.countplot(ar3_df.defects);"
      ],
      "metadata": {
        "colab": {
          "base_uri": "https://localhost:8080/",
          "height": 471
        },
        "id": "2Pi0uU0eK_VI",
        "outputId": "70e82d71-16fb-476e-8afc-efa2727107fd"
      },
      "execution_count": null,
      "outputs": [
        {
          "output_type": "stream",
          "name": "stderr",
          "text": [
            "/usr/local/lib/python3.8/dist-packages/seaborn/_decorators.py:36: FutureWarning: Pass the following variable as a keyword arg: x. From version 0.12, the only valid positional argument will be `data`, and passing other arguments without an explicit keyword will result in an error or misinterpretation.\n",
            "  warnings.warn(\n"
          ]
        },
        {
          "output_type": "display_data",
          "data": {
            "text/plain": [
              "<Figure size 864x432 with 1 Axes>"
            ],
            "image/png": "[encoded data removed]"
          },
          "metadata": {}
        }
      ]
    },
    {
      "cell_type": "code",
      "source": [
        "import seaborn as sns\n",
        "\n",
        "plt.rcParams['figure.figsize']=(12,6)\n",
        "plt.rcParams['font.size']=14\n",
        "plt.title('AR4 Dataset')\n",
        "sns.set_style(\"darkgrid\")\n",
        "\n",
        "sns.countplot(ar4_df.defects);"
      ],
      "metadata": {
        "colab": {
          "base_uri": "https://localhost:8080/",
          "height": 471
        },
        "id": "fb-kt8tVK_dn",
        "outputId": "5b6743ea-3d14-46cb-aa2a-5c15fe44b12a"
      },
      "execution_count": null,
      "outputs": [
        {
          "output_type": "stream",
          "name": "stderr",
          "text": [
            "/usr/local/lib/python3.8/dist-packages/seaborn/_decorators.py:36: FutureWarning: Pass the following variable as a keyword arg: x. From version 0.12, the only valid positional argument will be `data`, and passing other arguments without an explicit keyword will result in an error or misinterpretation.\n",
            "  warnings.warn(\n"
          ]
        },
        {
          "output_type": "display_data",
          "data": {
            "text/plain": [
              "<Figure size 864x432 with 1 Axes>"
            ],
            "image/png": "[encoded data removed]"
          },
          "metadata": {}
        }
      ]
    },
    {
      "cell_type": "code",
      "source": [
        "import seaborn as sns\n",
        "\n",
        "plt.rcParams['figure.figsize']=(12,6)\n",
        "plt.rcParams['font.size']=14\n",
        "plt.title('AR5 Dataset')\n",
        "sns.set_style(\"darkgrid\")\n",
        "\n",
        "sns.countplot(ar5_df.defects);"
      ],
      "metadata": {
        "colab": {
          "base_uri": "https://localhost:8080/",
          "height": 471
        },
        "id": "WVL_S9G0K_nc",
        "outputId": "6055c569-9d91-4ff9-cd75-60740b70d0d9"
      },
      "execution_count": null,
      "outputs": [
        {
          "output_type": "stream",
          "name": "stderr",
          "text": [
            "/usr/local/lib/python3.8/dist-packages/seaborn/_decorators.py:36: FutureWarning: Pass the following variable as a keyword arg: x. From version 0.12, the only valid positional argument will be `data`, and passing other arguments without an explicit keyword will result in an error or misinterpretation.\n",
            "  warnings.warn(\n"
          ]
        },
        {
          "output_type": "display_data",
          "data": {
            "text/plain": [
              "<Figure size 864x432 with 1 Axes>"
            ],
            "image/png": "[encoded data removed]"
          },
          "metadata": {}
        }
      ]
    },
    {
      "cell_type": "code",
      "source": [
        "import seaborn as sns\n",
        "\n",
        "plt.rcParams['figure.figsize']=(12,6)\n",
        "plt.rcParams['font.size']=14\n",
        "plt.title('AR6 Dataset')\n",
        "sns.set_style(\"darkgrid\")\n",
        "\n",
        "sns.countplot(ar6_df.defects);"
      ],
      "metadata": {
        "colab": {
          "base_uri": "https://localhost:8080/",
          "height": 471
        },
        "id": "0-jAwc34K_yW",
        "outputId": "7b8b1817-ff1c-4f15-e274-0fe7df14bd9d"
      },
      "execution_count": null,
      "outputs": [
        {
          "output_type": "stream",
          "name": "stderr",
          "text": [
            "/usr/local/lib/python3.8/dist-packages/seaborn/_decorators.py:36: FutureWarning: Pass the following variable as a keyword arg: x. From version 0.12, the only valid positional argument will be `data`, and passing other arguments without an explicit keyword will result in an error or misinterpretation.\n",
            "  warnings.warn(\n"
          ]
        },
        {
          "output_type": "display_data",
          "data": {
            "text/plain": [
              "<Figure size 864x432 with 1 Axes>"
            ],
            "image/png": "[encoded data removed]"
          },
          "metadata": {}
        }
      ]
    },
    {
      "cell_type": "code",
      "source": [
        "# Resample the minority class. You can change the strategy to 'auto' if you are not sure.\n",
        "sm = SMOTE(sampling_strategy='minority', random_state=7)"
      ],
      "metadata": {
        "id": "-jRAPnzBJADF"
      },
      "execution_count": null,
      "outputs": []
    },
    {
      "cell_type": "markdown",
      "metadata": {
        "id": "ae06XloAM_F_"
      },
      "source": [
        "#**kc2 Dataset**"
      ]
    },
    {
      "cell_type": "code",
      "execution_count": null,
      "metadata": {
        "colab": {
          "base_uri": "https://localhost:8080/",
          "height": 487
        },
        "id": "ZF6j4rLE9LJt",
        "outputId": "205486f4-551c-45d8-85de-8d262c359bc5"
      },
      "outputs": [
        {
          "output_type": "execute_result",
          "data": {
            "text/plain": [
              "     l_count  cyclomatic_complexity  essential_complexity  design_complexity  \\\n",
              "0          1                    1.0                     1                  1   \n",
              "1        415                   59.0                    50                 51   \n",
              "2        230                   33.0                    10                 16   \n",
              "3        175                   26.0                    12                 13   \n",
              "4        163                   16.0                    13                 11   \n",
              "..       ...                    ...                   ...                ...   \n",
              "516        4                    1.0                     1                  1   \n",
              "517        4                    1.0                     1                  1   \n",
              "518        4                    1.0                     1                  1   \n",
              "519        4                    1.0                     1                  1   \n",
              "520        3                    1.0                     1                  1   \n",
              "\n",
              "        n        v     l       d       i          e  ...  lOCode  lOComment  \\\n",
              "0       1     1.00  1.00    1.00    1.00       1.00  ...       1          1   \n",
              "1    1159  8411.31  0.01  103.53   81.24  870848.58  ...     359         35   \n",
              "2     575  3732.82  0.03   39.82   93.74  148644.06  ...     174         15   \n",
              "3     500  3123.96  0.03   29.48  105.96   92103.07  ...     142          7   \n",
              "4     440  2714.77  0.03   32.25   84.14   87589.65  ...     139          2   \n",
              "..    ...      ...   ...     ...     ...        ...  ...     ...        ...   \n",
              "516     5    11.61  0.50    2.00    5.80      23.22  ...       2          0   \n",
              "517     4     8.00  0.67    1.50    5.33      12.00  ...       2          0   \n",
              "518     4     8.00  0.67    1.50    5.33      12.00  ...       2          0   \n",
              "519     5    11.61  0.67    1.50    7.74      17.41  ...       2          0   \n",
              "520     1     0.00  0.00    0.00    0.00       0.00  ...       1          0   \n",
              "\n",
              "     lOBlank  lOCodeAndComment  uniq_Op  uniq_Opnd  total_Op  total_Opnd  \\\n",
              "0          1                 1        1          1         1           1   \n",
              "1          9                10       47        106       692         467   \n",
              "2         34                 5       23         67       343         232   \n",
              "3         19                 4       18         58       310         190   \n",
              "4         20                 0       19         53       260         180   \n",
              "..       ...               ...      ...        ...       ...         ...   \n",
              "516        0                 0        4          1         4           1   \n",
              "517        0                 0        3          1         3           1   \n",
              "518        0                 0        3          1         3           1   \n",
              "519        0                 0        3          2         3           2   \n",
              "520        0                 0        1          0         1           0   \n",
              "\n",
              "     branchCount  problems  \n",
              "0              1      True  \n",
              "1            106      True  \n",
              "2             65      True  \n",
              "3             51      True  \n",
              "4             31      True  \n",
              "..           ...       ...  \n",
              "516            1      True  \n",
              "517            1      True  \n",
              "518            1      True  \n",
              "519            1      True  \n",
              "520            1      True  \n",
              "\n",
              "[521 rows x 22 columns]"
            ],
            "text/html": [
              "\n",
              "  <div id=\"df-2e19fc1f-9bf4-4bf9-a927-387d90055694\">\n",
              "    <div class=\"colab-df-container\">\n",
              "      <div>\n",
              "<style scoped>\n",
              "    .dataframe tbody tr th:only-of-type {\n",
              "        vertical-align: middle;\n",
              "    }\n",
              "\n",
              "    .dataframe tbody tr th {\n",
              "        vertical-align: top;\n",
              "    }\n",
              "\n",
              "    .dataframe thead th {\n",
              "        text-align: right;\n",
              "    }\n",
              "</style>\n",
              "<table border=\"1\" class=\"dataframe\">\n",
              "  <thead>\n",
              "    <tr style=\"text-align: right;\">\n",
              "      <th></th>\n",
              "      <th>l_count</th>\n",
              "      <th>cyclomatic_complexity</th>\n",
              "      <th>essential_complexity</th>\n",
              "      <th>design_complexity</th>\n",
              "      <th>n</th>\n",
              "      <th>v</th>\n",
              "      <th>l</th>\n",
              "      <th>d</th>\n",
              "      <th>i</th>\n",
              "      <th>e</th>\n",
              "      <th>...</th>\n",
              "      <th>lOCode</th>\n",
              "      <th>lOComment</th>\n",
              "      <th>lOBlank</th>\n",
              "      <th>lOCodeAndComment</th>\n",
              "      <th>uniq_Op</th>\n",
              "      <th>uniq_Opnd</th>\n",
              "      <th>total_Op</th>\n",
              "      <th>total_Opnd</th>\n",
              "      <th>branchCount</th>\n",
              "      <th>problems</th>\n",
              "    </tr>\n",
              "  </thead>\n",
              "  <tbody>\n",
              "    <tr>\n",
              "      <th>0</th>\n",
              "      <td>1</td>\n",
              "      <td>1.0</td>\n",
              "      <td>1</td>\n",
              "      <td>1</td>\n",
              "      <td>1</td>\n",
              "      <td>1.00</td>\n",
              "      <td>1.00</td>\n",
              "      <td>1.00</td>\n",
              "      <td>1.00</td>\n",
              "      <td>1.00</td>\n",
              "      <td>...</td>\n",
              "      <td>1</td>\n",
              "      <td>1</td>\n",
              "      <td>1</td>\n",
              "      <td>1</td>\n",
              "      <td>1</td>\n",
              "      <td>1</td>\n",
              "      <td>1</td>\n",
              "      <td>1</td>\n",
              "      <td>1</td>\n",
              "      <td>True</td>\n",
              "    </tr>\n",
              "    <tr>\n",
              "      <th>1</th>\n",
              "      <td>415</td>\n",
              "      <td>59.0</td>\n",
              "      <td>50</td>\n",
              "      <td>51</td>\n",
              "      <td>1159</td>\n",
              "      <td>8411.31</td>\n",
              "      <td>0.01</td>\n",
              "      <td>103.53</td>\n",
              "      <td>81.24</td>\n",
              "      <td>870848.58</td>\n",
              "      <td>...</td>\n",
              "      <td>359</td>\n",
              "      <td>35</td>\n",
              "      <td>9</td>\n",
              "      <td>10</td>\n",
              "      <td>47</td>\n",
              "      <td>106</td>\n",
              "      <td>692</td>\n",
              "      <td>467</td>\n",
              "      <td>106</td>\n",
              "      <td>True</td>\n",
              "    </tr>\n",
              "    <tr>\n",
              "      <th>2</th>\n",
              "      <td>230</td>\n",
              "      <td>33.0</td>\n",
              "      <td>10</td>\n",
              "      <td>16</td>\n",
              "      <td>575</td>\n",
              "      <td>3732.82</td>\n",
              "      <td>0.03</td>\n",
              "      <td>39.82</td>\n",
              "      <td>93.74</td>\n",
              "      <td>148644.06</td>\n",
              "      <td>...</td>\n",
              "      <td>174</td>\n",
              "      <td>15</td>\n",
              "      <td>34</td>\n",
              "      <td>5</td>\n",
              "      <td>23</td>\n",
              "      <td>67</td>\n",
              "      <td>343</td>\n",
              "      <td>232</td>\n",
              "      <td>65</td>\n",
              "      <td>True</td>\n",
              "    </tr>\n",
              "    <tr>\n",
              "      <th>3</th>\n",
              "      <td>175</td>\n",
              "      <td>26.0</td>\n",
              "      <td>12</td>\n",
              "      <td>13</td>\n",
              "      <td>500</td>\n",
              "      <td>3123.96</td>\n",
              "      <td>0.03</td>\n",
              "      <td>29.48</td>\n",
              "      <td>105.96</td>\n",
              "      <td>92103.07</td>\n",
              "      <td>...</td>\n",
              "      <td>142</td>\n",
              "      <td>7</td>\n",
              "      <td>19</td>\n",
              "      <td>4</td>\n",
              "      <td>18</td>\n",
              "      <td>58</td>\n",
              "      <td>310</td>\n",
              "      <td>190</td>\n",
              "      <td>51</td>\n",
              "      <td>True</td>\n",
              "    </tr>\n",
              "    <tr>\n",
              "      <th>4</th>\n",
              "      <td>163</td>\n",
              "      <td>16.0</td>\n",
              "      <td>13</td>\n",
              "      <td>11</td>\n",
              "      <td>440</td>\n",
              "      <td>2714.77</td>\n",
              "      <td>0.03</td>\n",
              "      <td>32.25</td>\n",
              "      <td>84.14</td>\n",
              "      <td>87589.65</td>\n",
              "      <td>...</td>\n",
              "      <td>139</td>\n",
              "      <td>2</td>\n",
              "      <td>20</td>\n",
              "      <td>0</td>\n",
              "      <td>19</td>\n",
              "      <td>53</td>\n",
              "      <td>260</td>\n",
              "      <td>180</td>\n",
              "      <td>31</td>\n",
              "      <td>True</td>\n",
              "    </tr>\n",
              "    <tr>\n",
              "      <th>...</th>\n",
              "      <td>...</td>\n",
              "      <td>...</td>\n",
              "      <td>...</td>\n",
              "      <td>...</td>\n",
              "      <td>...</td>\n",
              "      <td>...</td>\n",
              "      <td>...</td>\n",
              "      <td>...</td>\n",
              "      <td>...</td>\n",
              "      <td>...</td>\n",
              "      <td>...</td>\n",
              "      <td>...</td>\n",
              "      <td>...</td>\n",
              "      <td>...</td>\n",
              "      <td>...</td>\n",
              "      <td>...</td>\n",
              "      <td>...</td>\n",
              "      <td>...</td>\n",
              "      <td>...</td>\n",
              "      <td>...</td>\n",
              "      <td>...</td>\n",
              "    </tr>\n",
              "    <tr>\n",
              "      <th>516</th>\n",
              "      <td>4</td>\n",
              "      <td>1.0</td>\n",
              "      <td>1</td>\n",
              "      <td>1</td>\n",
              "      <td>5</td>\n",
              "      <td>11.61</td>\n",
              "      <td>0.50</td>\n",
              "      <td>2.00</td>\n",
              "      <td>5.80</td>\n",
              "      <td>23.22</td>\n",
              "      <td>...</td>\n",
              "      <td>2</td>\n",
              "      <td>0</td>\n",
              "      <td>0</td>\n",
              "      <td>0</td>\n",
              "      <td>4</td>\n",
              "      <td>1</td>\n",
              "      <td>4</td>\n",
              "      <td>1</td>\n",
              "      <td>1</td>\n",
              "      <td>True</td>\n",
              "    </tr>\n",
              "    <tr>\n",
              "      <th>517</th>\n",
              "      <td>4</td>\n",
              "      <td>1.0</td>\n",
              "      <td>1</td>\n",
              "      <td>1</td>\n",
              "      <td>4</td>\n",
              "      <td>8.00</td>\n",
              "      <td>0.67</td>\n",
              "      <td>1.50</td>\n",
              "      <td>5.33</td>\n",
              "      <td>12.00</td>\n",
              "      <td>...</td>\n",
              "      <td>2</td>\n",
              "      <td>0</td>\n",
              "      <td>0</td>\n",
              "      <td>0</td>\n",
              "      <td>3</td>\n",
              "      <td>1</td>\n",
              "      <td>3</td>\n",
              "      <td>1</td>\n",
              "      <td>1</td>\n",
              "      <td>True</td>\n",
              "    </tr>\n",
              "    <tr>\n",
              "      <th>518</th>\n",
              "      <td>4</td>\n",
              "      <td>1.0</td>\n",
              "      <td>1</td>\n",
              "      <td>1</td>\n",
              "      <td>4</td>\n",
              "      <td>8.00</td>\n",
              "      <td>0.67</td>\n",
              "      <td>1.50</td>\n",
              "      <td>5.33</td>\n",
              "      <td>12.00</td>\n",
              "      <td>...</td>\n",
              "      <td>2</td>\n",
              "      <td>0</td>\n",
              "      <td>0</td>\n",
              "      <td>0</td>\n",
              "      <td>3</td>\n",
              "      <td>1</td>\n",
              "      <td>3</td>\n",
              "      <td>1</td>\n",
              "      <td>1</td>\n",
              "      <td>True</td>\n",
              "    </tr>\n",
              "    <tr>\n",
              "      <th>519</th>\n",
              "      <td>4</td>\n",
              "      <td>1.0</td>\n",
              "      <td>1</td>\n",
              "      <td>1</td>\n",
              "      <td>5</td>\n",
              "      <td>11.61</td>\n",
              "      <td>0.67</td>\n",
              "      <td>1.50</td>\n",
              "      <td>7.74</td>\n",
              "      <td>17.41</td>\n",
              "      <td>...</td>\n",
              "      <td>2</td>\n",
              "      <td>0</td>\n",
              "      <td>0</td>\n",
              "      <td>0</td>\n",
              "      <td>3</td>\n",
              "      <td>2</td>\n",
              "      <td>3</td>\n",
              "      <td>2</td>\n",
              "      <td>1</td>\n",
              "      <td>True</td>\n",
              "    </tr>\n",
              "    <tr>\n",
              "      <th>520</th>\n",
              "      <td>3</td>\n",
              "      <td>1.0</td>\n",
              "      <td>1</td>\n",
              "      <td>1</td>\n",
              "      <td>1</td>\n",
              "      <td>0.00</td>\n",
              "      <td>0.00</td>\n",
              "      <td>0.00</td>\n",
              "      <td>0.00</td>\n",
              "      <td>0.00</td>\n",
              "      <td>...</td>\n",
              "      <td>1</td>\n",
              "      <td>0</td>\n",
              "      <td>0</td>\n",
              "      <td>0</td>\n",
              "      <td>1</td>\n",
              "      <td>0</td>\n",
              "      <td>1</td>\n",
              "      <td>0</td>\n",
              "      <td>1</td>\n",
              "      <td>True</td>\n",
              "    </tr>\n",
              "  </tbody>\n",
              "</table>\n",
              "<p>521 rows × 22 columns</p>\n",
              "</div>\n",
              "      <button class=\"colab-df-convert\" onclick=\"convertToInteractive('df-2e19fc1f-9bf4-4bf9-a927-387d90055694')\"\n",
              "              title=\"Convert this dataframe to an interactive table.\"\n",
              "              style=\"display:none;\">\n",
              "        \n",
              "  <svg xmlns=\"http://www.w3.org/2000/svg\" height=\"24px\"viewBox=\"0 0 24 24\"\n",
              "       width=\"24px\">\n",
              "    <path d=\"M0 0h24v24H0V0z\" fill=\"none\"/>\n",
              "    <path d=\"M18.56 5.44l.94 2.06.94-2.06 2.06-.94-2.06-.94-.94-2.06-.94 2.06-2.06.94zm-11 1L8.5 8.5l.94-2.06 2.06-.94-2.06-.94L8.5 2.5l-.94 2.06-2.06.94zm10 10l.94 2.06.94-2.06 2.06-.94-2.06-.94-.94-2.06-.94 2.06-2.06.94z\"/><path d=\"M17.41 7.96l-1.37-1.37c-.4-.4-.92-.59-1.43-.59-.52 0-1.04.2-1.43.59L10.3 9.45l-7.72 7.72c-.78.78-.78 2.05 0 2.83L4 21.41c.39.39.9.59 1.41.59.51 0 1.02-.2 1.41-.59l7.78-7.78 2.81-2.81c.8-.78.8-2.07 0-2.86zM5.41 20L4 18.59l7.72-7.72 1.47 1.35L5.41 20z\"/>\n",
              "  </svg>\n",
              "      </button>\n",
              "      \n",
              "  <style>\n",
              "    .colab-df-container {\n",
              "      display:flex;\n",
              "      flex-wrap:wrap;\n",
              "      gap: 12px;\n",
              "    }\n",
              "\n",
              "    .colab-df-convert {\n",
              "      background-color: #E8F0FE;\n",
              "      border: none;\n",
              "      border-radius: 50%;\n",
              "      cursor: pointer;\n",
              "      display: none;\n",
              "      fill: #1967D2;\n",
              "      height: 32px;\n",
              "      padding: 0 0 0 0;\n",
              "      width: 32px;\n",
              "    }\n",
              "\n",
              "    .colab-df-convert:hover {\n",
              "      background-color: #E2EBFA;\n",
              "      box-shadow: 0px 1px 2px rgba(60, 64, 67, 0.3), 0px 1px 3px 1px rgba(60, 64, 67, 0.15);\n",
              "      fill: #174EA6;\n",
              "    }\n",
              "\n",
              "    [theme=dark] .colab-df-convert {\n",
              "      background-color: #3B4455;\n",
              "      fill: #D2E3FC;\n",
              "    }\n",
              "\n",
              "    [theme=dark] .colab-df-convert:hover {\n",
              "      background-color: #434B5C;\n",
              "      box-shadow: 0px 1px 3px 1px rgba(0, 0, 0, 0.15);\n",
              "      filter: drop-shadow(0px 1px 2px rgba(0, 0, 0, 0.3));\n",
              "      fill: #FFFFFF;\n",
              "    }\n",
              "  </style>\n",
              "\n",
              "      <script>\n",
              "        const buttonEl =\n",
              "          document.querySelector('#df-2e19fc1f-9bf4-4bf9-a927-387d90055694 button.colab-df-convert');\n",
              "        buttonEl.style.display =\n",
              "          google.colab.kernel.accessAllowed ? 'block' : 'none';\n",
              "\n",
              "        async function convertToInteractive(key) {\n",
              "          const element = document.querySelector('#df-2e19fc1f-9bf4-4bf9-a927-387d90055694');\n",
              "          const dataTable =\n",
              "            await google.colab.kernel.invokeFunction('convertToInteractive',\n",
              "                                                     [key], {});\n",
              "          if (!dataTable) return;\n",
              "\n",
              "          const docLinkHtml = 'Like what you see? Visit the ' +\n",
              "            '<a target=\"_blank\" href=https://colab.research.google.com/notebooks/data_table.ipynb>data table notebook</a>'\n",
              "            + ' to learn more about interactive tables.';\n",
              "          element.innerHTML = '';\n",
              "          dataTable['output_type'] = 'display_data';\n",
              "          await google.colab.output.renderOutput(dataTable, element);\n",
              "          const docLink = document.createElement('div');\n",
              "          docLink.innerHTML = docLinkHtml;\n",
              "          element.appendChild(docLink);\n",
              "        }\n",
              "      </script>\n",
              "    </div>\n",
              "  </div>\n",
              "  "
            ]
          },
          "metadata": {},
          "execution_count": 144
        }
      ],
      "source": [
        "kc2_df"
      ]
    },
    {
      "cell_type": "markdown",
      "metadata": {
        "id": "NSdu3_jGkWar"
      },
      "source": [
        "##**Spiliting DataSet**\n",
        "\n",
        "Training: 80%\n",
        "Testing: 20%\n",
        "\n"
      ]
    },
    {
      "cell_type": "code",
      "execution_count": null,
      "metadata": {
        "id": "62a6lwZ82hrk"
      },
      "outputs": [],
      "source": [
        "x_kc2 = kc2_df.iloc[:,:-1]\n",
        "y_kc2 = kc2_df.iloc[:,-1]"
      ]
    },
    {
      "cell_type": "code",
      "execution_count": null,
      "metadata": {
        "id": "4gBuucU5AT92"
      },
      "outputs": [],
      "source": [
        "from sklearn.model_selection import train_test_split\n",
        "x_train, x_test, y_train, y_test = train_test_split(x_kc2,y_kc2,test_size=0.20,random_state=0)"
      ]
    },
    {
      "cell_type": "markdown",
      "source": [
        "##Performing SMOTE in order to balance class imbalance problem."
      ],
      "metadata": {
        "id": "uN_qPvg3I-8d"
      }
    },
    {
      "cell_type": "code",
      "source": [
        "from imblearn.over_sampling import SMOTE\n",
        "x_train, y_train = SMOTE().fit_resample(x_train, y_train)"
      ],
      "metadata": {
        "id": "nh-s05kSZsL-"
      },
      "execution_count": null,
      "outputs": []
    },
    {
      "cell_type": "code",
      "execution_count": null,
      "metadata": {
        "id": "lydtzZ73INDh"
      },
      "outputs": [],
      "source": [
        "from sklearn.preprocessing import StandardScaler    \n",
        "st_x= StandardScaler()    \n",
        "x_train= st_x.fit_transform(x_train)    \n",
        "x_test= st_x.transform(x_test)  "
      ]
    },
    {
      "cell_type": "markdown",
      "source": [
        "**Class become balanced as we can see in below class. Here we use OverSampling.**\n",
        "<br>\n",
        "Oversampling is solution to imbalanced data. Oversampling is the opposite of undersampling. Oversampling means making duplicates of the data that is the least present in our data set. We then add those duplicates to your data set."
      ],
      "metadata": {
        "id": "zMGiNbuUarMO"
      }
    },
    {
      "cell_type": "code",
      "source": [
        "import seaborn as sns\n",
        "\n",
        "plt.rcParams['figure.figsize']=(12,6)\n",
        "plt.rcParams['font.size']=14\n",
        "plt.title('kc2 Dataset')\n",
        "sns.set_style(\"darkgrid\")\n",
        "\n",
        "sns.countplot(y_train);"
      ],
      "metadata": {
        "colab": {
          "base_uri": "https://localhost:8080/",
          "height": 471
        },
        "id": "moDJAeGfakzM",
        "outputId": "24c51d9c-772c-4d33-8efc-63e1e8fba798"
      },
      "execution_count": null,
      "outputs": [
        {
          "output_type": "stream",
          "name": "stderr",
          "text": [
            "/usr/local/lib/python3.8/dist-packages/seaborn/_decorators.py:36: FutureWarning: Pass the following variable as a keyword arg: x. From version 0.12, the only valid positional argument will be `data`, and passing other arguments without an explicit keyword will result in an error or misinterpretation.\n",
            "  warnings.warn(\n"
          ]
        },
        {
          "output_type": "display_data",
          "data": {
            "text/plain": [
              "<Figure size 864x432 with 1 Axes>"
            ],
            "image/png": "[encoded data removed]"
          },
          "metadata": {}
        }
      ]
    },
    {
      "cell_type": "markdown",
      "metadata": {
        "id": "3elGnawcS4Dy"
      },
      "source": [
        "##**Logistic Regression**"
      ]
    },
    {
      "cell_type": "code",
      "execution_count": null,
      "metadata": {
        "colab": {
          "base_uri": "https://localhost:8080/"
        },
        "id": "rXd4MpTCBIbg",
        "outputId": "7ed58287-65ee-412b-e99b-775d0c957c77"
      },
      "outputs": [
        {
          "output_type": "execute_result",
          "data": {
            "text/plain": [
              "LogisticRegression(random_state=10)"
            ]
          },
          "metadata": {},
          "execution_count": 150
        }
      ],
      "source": [
        "from sklearn.linear_model import LogisticRegression  \n",
        "classifier= LogisticRegression(random_state=10)  \n",
        "classifier.fit(x_train, y_train)  "
      ]
    },
    {
      "cell_type": "code",
      "execution_count": null,
      "metadata": {
        "colab": {
          "base_uri": "https://localhost:8080/"
        },
        "id": "iLg-UyORJ58y",
        "outputId": "4939d1c7-19d1-4ff6-8ccd-9f094554452d"
      },
      "outputs": [
        {
          "output_type": "stream",
          "name": "stdout",
          "text": [
            "[False False False False False False  True False False False False  True\n",
            " False False  True False False False False False False False  True False\n",
            " False False False False False  True False False False False False False\n",
            " False  True  True False  True False  True  True  True  True False False\n",
            " False  True False False False False False False  True False False False\n",
            " False False False  True  True False  True False False  True  True  True\n",
            " False False  True  True False False  True False  True  True False False\n",
            " False  True False False False False False False False False False False\n",
            "  True  True False False False False False False  True]\n"
          ]
        }
      ],
      "source": [
        "y_pred= classifier.predict(x_test)  \n",
        "print(y_pred)"
      ]
    },
    {
      "cell_type": "code",
      "execution_count": null,
      "metadata": {
        "colab": {
          "base_uri": "https://localhost:8080/"
        },
        "id": "xY_d74OzP40n",
        "outputId": "7b57d875-ff8a-44f6-a29b-b2605b465b1b"
      },
      "outputs": [
        {
          "output_type": "stream",
          "name": "stdout",
          "text": [
            "[[67 17]\n",
            " [ 9 12]]\n"
          ]
        }
      ],
      "source": [
        "from sklearn.metrics import confusion_matrix  \n",
        "cm= confusion_matrix(y_test,y_pred)\n",
        "print(cm)"
      ]
    },
    {
      "cell_type": "code",
      "source": [
        "from sklearn.metrics import confusion_matrix\n",
        "tn, fp, fn, tp = confusion_matrix(y_test,y_pred).ravel()\n",
        "print('True negatives: ', tn, '\\nFalse positives: ', fp, '\\nFalse negatives: ', fn, '\\nTrue Positives: ', tp)\n"
      ],
      "metadata": {
        "colab": {
          "base_uri": "https://localhost:8080/"
        },
        "id": "5aoUf7w-ZElG",
        "outputId": "6a9990ba-232e-4d65-e9a2-754735a09225"
      },
      "execution_count": null,
      "outputs": [
        {
          "output_type": "stream",
          "name": "stdout",
          "text": [
            "True negatives:  67 \n",
            "False positives:  17 \n",
            "False negatives:  9 \n",
            "True Positives:  12\n"
          ]
        }
      ]
    },
    {
      "cell_type": "code",
      "execution_count": null,
      "metadata": {
        "colab": {
          "base_uri": "https://localhost:8080/"
        },
        "id": "fLF3yYWlQ02H",
        "outputId": "a0100965-74ec-4b47-b553-d15e2a032853"
      },
      "outputs": [
        {
          "output_type": "execute_result",
          "data": {
            "text/plain": [
              "0.7523809523809524"
            ]
          },
          "metadata": {},
          "execution_count": 154
        }
      ],
      "source": [
        "from sklearn.metrics import accuracy_score\n",
        "accuracy_score(y_test, y_pred)"
      ]
    },
    {
      "cell_type": "code",
      "execution_count": null,
      "metadata": {
        "colab": {
          "base_uri": "https://localhost:8080/"
        },
        "id": "DqmghcGHQcnV",
        "outputId": "406431da-33d9-4f9d-97a5-4ccfe7c06fb1"
      },
      "outputs": [
        {
          "output_type": "stream",
          "name": "stdout",
          "text": [
            "Test Accuracy Score:  0.7523809523809524\n"
          ]
        }
      ],
      "source": [
        "score_ = accuracy_score(y_test, y_pred)\n",
        "print(\"Test Accuracy Score: \", score_)"
      ]
    },
    {
      "cell_type": "code",
      "source": [
        "from sklearn.metrics import classification_report\n",
        "print(classification_report(y_test, y_pred))"
      ],
      "metadata": {
        "colab": {
          "base_uri": "https://localhost:8080/"
        },
        "id": "ZWIYDDWXYLY2",
        "outputId": "df1b31be-7315-4741-93f3-54ae0532a8e7"
      },
      "execution_count": null,
      "outputs": [
        {
          "output_type": "stream",
          "name": "stdout",
          "text": [
            "              precision    recall  f1-score   support\n",
            "\n",
            "       False       0.88      0.80      0.84        84\n",
            "        True       0.41      0.57      0.48        21\n",
            "\n",
            "    accuracy                           0.75       105\n",
            "   macro avg       0.65      0.68      0.66       105\n",
            "weighted avg       0.79      0.75      0.77       105\n",
            "\n"
          ]
        }
      ]
    },
    {
      "cell_type": "markdown",
      "metadata": {
        "id": "TrWnHp5FS-2H"
      },
      "source": [
        "##**Support Vector Machine Algorithm**"
      ]
    },
    {
      "cell_type": "code",
      "execution_count": null,
      "metadata": {
        "colab": {
          "base_uri": "https://localhost:8080/"
        },
        "id": "aKcQfPnze-Gu",
        "outputId": "c4dc72b1-8232-46c2-d64d-bf10157da0b3"
      },
      "outputs": [
        {
          "output_type": "execute_result",
          "data": {
            "text/plain": [
              "SVC(kernel='linear', random_state=0)"
            ]
          },
          "metadata": {},
          "execution_count": 157
        }
      ],
      "source": [
        "from sklearn.svm import SVC # \"Support vector classifier\"  \n",
        "classifier = SVC(kernel='linear', random_state=0)  \n",
        "classifier.fit(x_train, y_train)  "
      ]
    },
    {
      "cell_type": "code",
      "execution_count": null,
      "metadata": {
        "id": "3obHQz-PfCrF"
      },
      "outputs": [],
      "source": [
        "#Predicting the test set result  \n",
        "y_pred= classifier.predict(x_test)  "
      ]
    },
    {
      "cell_type": "code",
      "execution_count": null,
      "metadata": {
        "colab": {
          "base_uri": "https://localhost:8080/"
        },
        "id": "P4qc2m0jfGEY",
        "outputId": "3dccfe6e-0aba-457b-a432-98b36e96c6d5"
      },
      "outputs": [
        {
          "output_type": "stream",
          "name": "stdout",
          "text": [
            "[[70 14]\n",
            " [10 11]]\n"
          ]
        }
      ],
      "source": [
        "from sklearn.metrics import confusion_matrix  \n",
        "cm= confusion_matrix(y_test, y_pred)  \n",
        "print(cm)"
      ]
    },
    {
      "cell_type": "code",
      "source": [
        "from sklearn.metrics import confusion_matrix\n",
        "tn, fp, fn, tp = confusion_matrix(y_test,y_pred).ravel()\n",
        "print('True negatives: ', tn, '\\nFalse positives: ', fp, '\\nFalse negatives: ', fn, '\\nTrue Positives: ', tp)\n"
      ],
      "metadata": {
        "colab": {
          "base_uri": "https://localhost:8080/"
        },
        "outputId": "af2948f1-24ac-46ea-e6ec-465255325516",
        "id": "f6hOO-imf5-Z"
      },
      "execution_count": null,
      "outputs": [
        {
          "output_type": "stream",
          "name": "stdout",
          "text": [
            "True negatives:  70 \n",
            "False positives:  14 \n",
            "False negatives:  10 \n",
            "True Positives:  11\n"
          ]
        }
      ]
    },
    {
      "cell_type": "code",
      "execution_count": null,
      "metadata": {
        "colab": {
          "base_uri": "https://localhost:8080/"
        },
        "id": "Gv4ZR7q1fHiw",
        "outputId": "6e693ff5-8bca-4e8e-a422-1fce302eea2a"
      },
      "outputs": [
        {
          "output_type": "stream",
          "name": "stdout",
          "text": [
            "Test Accuracy Score:  0.7714285714285715\n"
          ]
        }
      ],
      "source": [
        "score_ = accuracy_score(y_test, y_pred)\n",
        "print(\"Test Accuracy Score: \", score_)"
      ]
    },
    {
      "cell_type": "code",
      "source": [
        "from sklearn.metrics import classification_report\n",
        "print(classification_report(y_test, y_pred))"
      ],
      "metadata": {
        "colab": {
          "base_uri": "https://localhost:8080/"
        },
        "outputId": "17d99934-d4f6-4613-d0e0-a71db75a7de3",
        "id": "HX8Z7ASRiJjs"
      },
      "execution_count": null,
      "outputs": [
        {
          "output_type": "stream",
          "name": "stdout",
          "text": [
            "              precision    recall  f1-score   support\n",
            "\n",
            "       False       0.88      0.83      0.85        84\n",
            "        True       0.44      0.52      0.48        21\n",
            "\n",
            "    accuracy                           0.77       105\n",
            "   macro avg       0.66      0.68      0.67       105\n",
            "weighted avg       0.79      0.77      0.78       105\n",
            "\n"
          ]
        }
      ]
    },
    {
      "cell_type": "markdown",
      "metadata": {
        "id": "2gZ00TU_gBgh"
      },
      "source": [
        "##**Decision Tree Algorithm**"
      ]
    },
    {
      "cell_type": "code",
      "execution_count": null,
      "metadata": {
        "colab": {
          "base_uri": "https://localhost:8080/"
        },
        "id": "o08wfib1faBq",
        "outputId": "0ed3ab41-700b-4644-b4ca-fddb9b504dcd"
      },
      "outputs": [
        {
          "output_type": "execute_result",
          "data": {
            "text/plain": [
              "DecisionTreeClassifier(criterion='entropy', random_state=10)"
            ]
          },
          "metadata": {},
          "execution_count": 163
        }
      ],
      "source": [
        "from sklearn.tree import DecisionTreeClassifier  \n",
        "classifier= DecisionTreeClassifier(criterion='entropy', random_state=10)  \n",
        "classifier.fit(x_train, y_train)  "
      ]
    },
    {
      "cell_type": "code",
      "execution_count": null,
      "metadata": {
        "id": "EvsbWpdFf2vq"
      },
      "outputs": [],
      "source": [
        "#Predicting the test set result  \n",
        "y_pred= classifier.predict(x_test)  "
      ]
    },
    {
      "cell_type": "code",
      "execution_count": null,
      "metadata": {
        "colab": {
          "base_uri": "https://localhost:8080/"
        },
        "id": "wMU8xI2Qf4jn",
        "outputId": "720a9bae-01b3-4521-ded4-c2c3ec07117e"
      },
      "outputs": [
        {
          "output_type": "stream",
          "name": "stdout",
          "text": [
            "[[75  9]\n",
            " [ 6 15]]\n"
          ]
        }
      ],
      "source": [
        "#Creating the Confusion matrix  \n",
        "from sklearn.metrics import confusion_matrix  \n",
        "cm= confusion_matrix(y_test, y_pred) \n",
        "print(cm)"
      ]
    },
    {
      "cell_type": "code",
      "source": [
        "from sklearn.metrics import confusion_matrix\n",
        "tn, fp, fn, tp = confusion_matrix(y_test,y_pred).ravel()\n",
        "print('True negatives: ', tn, '\\nFalse positives: ', fp, '\\nFalse negatives: ', fn, '\\nTrue Positives: ', tp)\n"
      ],
      "metadata": {
        "colab": {
          "base_uri": "https://localhost:8080/"
        },
        "id": "Lijv8IKhf914",
        "outputId": "643a8143-6aa1-4165-f262-265022c5397f"
      },
      "execution_count": null,
      "outputs": [
        {
          "output_type": "stream",
          "name": "stdout",
          "text": [
            "True negatives:  75 \n",
            "False positives:  9 \n",
            "False negatives:  6 \n",
            "True Positives:  15\n"
          ]
        }
      ]
    },
    {
      "cell_type": "code",
      "execution_count": null,
      "metadata": {
        "colab": {
          "base_uri": "https://localhost:8080/"
        },
        "id": "60J4Dj20gMp4",
        "outputId": "c87f4081-de8f-43d3-a958-8b2f79f796c2"
      },
      "outputs": [
        {
          "output_type": "stream",
          "name": "stdout",
          "text": [
            "Test Accuracy Score:  0.8571428571428571\n"
          ]
        }
      ],
      "source": [
        "score_ = accuracy_score(y_test, y_pred)\n",
        "print(\"Test Accuracy Score: \", score_)"
      ]
    },
    {
      "cell_type": "code",
      "source": [
        "from sklearn.metrics import classification_report\n",
        "print(classification_report(y_test, y_pred))"
      ],
      "metadata": {
        "colab": {
          "base_uri": "https://localhost:8080/"
        },
        "outputId": "a23526dc-3bee-4110-c432-54f3b0e0ca2a",
        "id": "JcEMQheciKcY"
      },
      "execution_count": null,
      "outputs": [
        {
          "output_type": "stream",
          "name": "stdout",
          "text": [
            "              precision    recall  f1-score   support\n",
            "\n",
            "       False       0.93      0.89      0.91        84\n",
            "        True       0.62      0.71      0.67        21\n",
            "\n",
            "    accuracy                           0.86       105\n",
            "   macro avg       0.78      0.80      0.79       105\n",
            "weighted avg       0.87      0.86      0.86       105\n",
            "\n"
          ]
        }
      ]
    },
    {
      "cell_type": "markdown",
      "metadata": {
        "id": "IOcu-_LNgVhh"
      },
      "source": [
        "##**Random Forest**"
      ]
    },
    {
      "cell_type": "code",
      "execution_count": null,
      "metadata": {
        "colab": {
          "base_uri": "https://localhost:8080/"
        },
        "id": "iHhb29cwgbYu",
        "outputId": "4d2d32c3-40eb-4cf6-d390-1ad20e65ffeb"
      },
      "outputs": [
        {
          "output_type": "execute_result",
          "data": {
            "text/plain": [
              "RandomForestClassifier(criterion='entropy', n_estimators=10)"
            ]
          },
          "metadata": {},
          "execution_count": 169
        }
      ],
      "source": [
        "#Fitting Decision Tree classifier to the training set  \n",
        "from sklearn.ensemble import RandomForestClassifier  \n",
        "classifier= RandomForestClassifier(n_estimators= 10, criterion=\"entropy\")  \n",
        "classifier.fit(x_train, y_train)  "
      ]
    },
    {
      "cell_type": "code",
      "execution_count": null,
      "metadata": {
        "id": "tJLJ7Z--gsPV"
      },
      "outputs": [],
      "source": [
        "#Predicting the test set result  \n",
        "y_pred= classifier.predict(x_test)  "
      ]
    },
    {
      "cell_type": "code",
      "execution_count": null,
      "metadata": {
        "colab": {
          "base_uri": "https://localhost:8080/"
        },
        "id": "i2i9dfl7gvjU",
        "outputId": "6871b44c-90b1-4a42-bd6c-583ff2ac6ad2"
      },
      "outputs": [
        {
          "output_type": "stream",
          "name": "stdout",
          "text": [
            "[[75  9]\n",
            " [ 6 15]]\n"
          ]
        }
      ],
      "source": [
        "#Creating the Confusion matrix  \n",
        "from sklearn.metrics import confusion_matrix  \n",
        "cm= confusion_matrix(y_test, y_pred)  \n",
        "print(cm)"
      ]
    },
    {
      "cell_type": "code",
      "source": [
        "from sklearn.metrics import confusion_matrix\n",
        "tn, fp, fn, tp = confusion_matrix(y_test,y_pred).ravel()\n",
        "print('True negatives: ', tn, '\\nFalse positives: ', fp, '\\nFalse negatives: ', fn, '\\nTrue Positives: ', tp)\n"
      ],
      "metadata": {
        "colab": {
          "base_uri": "https://localhost:8080/"
        },
        "id": "rsnA7EbMf-2v",
        "outputId": "fa041c7d-0936-48ab-b385-717966fbc9d0"
      },
      "execution_count": null,
      "outputs": [
        {
          "output_type": "stream",
          "name": "stdout",
          "text": [
            "True negatives:  75 \n",
            "False positives:  9 \n",
            "False negatives:  6 \n",
            "True Positives:  15\n"
          ]
        }
      ]
    },
    {
      "cell_type": "code",
      "execution_count": null,
      "metadata": {
        "colab": {
          "base_uri": "https://localhost:8080/"
        },
        "id": "JIL-iuuig3oC",
        "outputId": "db39192b-abed-494f-c40e-8a7d3049e557"
      },
      "outputs": [
        {
          "output_type": "stream",
          "name": "stdout",
          "text": [
            "Test Accuracy Score:  0.8571428571428571\n"
          ]
        }
      ],
      "source": [
        "score_ = accuracy_score(y_test, y_pred)\n",
        "print(\"Test Accuracy Score: \", score_)"
      ]
    },
    {
      "cell_type": "code",
      "source": [
        "from sklearn.metrics import classification_report\n",
        "print(classification_report(y_test, y_pred))"
      ],
      "metadata": {
        "colab": {
          "base_uri": "https://localhost:8080/"
        },
        "outputId": "a868e59d-f09c-497b-cb2e-f395ded150ee",
        "id": "5bm_BSE_iLnt"
      },
      "execution_count": null,
      "outputs": [
        {
          "output_type": "stream",
          "name": "stdout",
          "text": [
            "              precision    recall  f1-score   support\n",
            "\n",
            "       False       0.93      0.89      0.91        84\n",
            "        True       0.62      0.71      0.67        21\n",
            "\n",
            "    accuracy                           0.86       105\n",
            "   macro avg       0.78      0.80      0.79       105\n",
            "weighted avg       0.87      0.86      0.86       105\n",
            "\n"
          ]
        }
      ]
    },
    {
      "cell_type": "markdown",
      "metadata": {
        "id": "MbVVGq8XhE4Q"
      },
      "source": [
        "##**Bagging**"
      ]
    },
    {
      "cell_type": "code",
      "execution_count": null,
      "metadata": {
        "colab": {
          "base_uri": "https://localhost:8080/"
        },
        "id": "pVtX7uqEhJZ6",
        "outputId": "53e3301e-cf07-48a4-f954-518ffaf8c994"
      },
      "outputs": [
        {
          "output_type": "execute_result",
          "data": {
            "text/plain": [
              "DecisionTreeClassifier(random_state=21)"
            ]
          },
          "metadata": {},
          "execution_count": 175
        }
      ],
      "source": [
        "from sklearn.tree import DecisionTreeClassifier\n",
        "dtree = DecisionTreeClassifier(random_state=21)\n",
        "dtree.fit(x_train, y_train)"
      ]
    },
    {
      "cell_type": "code",
      "execution_count": null,
      "metadata": {
        "colab": {
          "base_uri": "https://localhost:8080/"
        },
        "outputId": "3514f0a8-2a62-4e3b-b423-5be9aaf69fb7",
        "id": "BHjzvWkcgSLf"
      },
      "outputs": [
        {
          "output_type": "stream",
          "name": "stdout",
          "text": [
            "[[75  9]\n",
            " [ 6 15]]\n"
          ]
        }
      ],
      "source": [
        "from sklearn.metrics import confusion_matrix  \n",
        "cm= confusion_matrix(y_test, y_pred)  \n",
        "print(cm)"
      ]
    },
    {
      "cell_type": "code",
      "source": [
        "from sklearn.metrics import confusion_matrix\n",
        "tn, fp, fn, tp = confusion_matrix(y_test,y_pred).ravel()\n",
        "print('True negatives: ', tn, '\\nFalse positives: ', fp, '\\nFalse negatives: ', fn, '\\nTrue Positives: ', tp)\n"
      ],
      "metadata": {
        "colab": {
          "base_uri": "https://localhost:8080/"
        },
        "outputId": "1346bed2-22a0-44f0-cc47-76af45300945",
        "id": "60JWrRbFhCRQ"
      },
      "execution_count": null,
      "outputs": [
        {
          "output_type": "stream",
          "name": "stdout",
          "text": [
            "True negatives:  75 \n",
            "False positives:  9 \n",
            "False negatives:  6 \n",
            "True Positives:  15\n"
          ]
        }
      ]
    },
    {
      "cell_type": "code",
      "execution_count": null,
      "metadata": {
        "colab": {
          "base_uri": "https://localhost:8080/"
        },
        "id": "Pwfy3qcOh456",
        "outputId": "4db664d7-417f-4be2-becd-ae490ea0f982"
      },
      "outputs": [
        {
          "output_type": "stream",
          "name": "stdout",
          "text": [
            "Train data accuracy: 0.9893939393939394\n",
            "Test data accuracy: 0.8380952380952381\n"
          ]
        }
      ],
      "source": [
        "y_pred = dtree.predict(x_test)\n",
        "\n",
        "print(\"Train data accuracy:\",accuracy_score(y_true = y_train, y_pred = dtree.predict(x_train)))\n",
        "print(\"Test data accuracy:\",accuracy_score(y_true = y_test, y_pred = y_pred))"
      ]
    },
    {
      "cell_type": "code",
      "source": [
        "from sklearn.metrics import classification_report\n",
        "print(classification_report(y_test, y_pred))"
      ],
      "metadata": {
        "colab": {
          "base_uri": "https://localhost:8080/"
        },
        "outputId": "ff94e5d6-44aa-438e-8057-63dca8556bb6",
        "id": "vTYeen9eiM5t"
      },
      "execution_count": null,
      "outputs": [
        {
          "output_type": "stream",
          "name": "stdout",
          "text": [
            "              precision    recall  f1-score   support\n",
            "\n",
            "       False       0.92      0.87      0.90        84\n",
            "        True       0.58      0.71      0.64        21\n",
            "\n",
            "    accuracy                           0.84       105\n",
            "   macro avg       0.75      0.79      0.77       105\n",
            "weighted avg       0.85      0.84      0.84       105\n",
            "\n"
          ]
        }
      ]
    },
    {
      "cell_type": "markdown",
      "metadata": {
        "id": "K21eL3UAi8WL"
      },
      "source": [
        "#**kc1 Dataset**"
      ]
    },
    {
      "cell_type": "code",
      "execution_count": null,
      "metadata": {
        "colab": {
          "base_uri": "https://localhost:8080/",
          "height": 487
        },
        "id": "9mtFFI0MjHE2",
        "outputId": "c79ffb7a-2fc2-49fe-97ce-3c01616b5420"
      },
      "outputs": [
        {
          "output_type": "execute_result",
          "data": {
            "text/plain": [
              "      l_count  cyclomatic_complexity  essential_complexity  design_complexity  \\\n",
              "0           1                      1                     1                  1   \n",
              "1          83                     11                     1                 11   \n",
              "2          46                      8                     6                  8   \n",
              "3          25                      3                     1                  3   \n",
              "4          43                      3                     1                  3   \n",
              "...       ...                    ...                   ...                ...   \n",
              "2103       19                      2                     1                  2   \n",
              "2104       23                      3                     3                  3   \n",
              "2105        2                      1                     1                  1   \n",
              "2106       13                      1                     1                  1   \n",
              "2107       11                      2                     1                  2   \n",
              "\n",
              "        n       v     l      d      i         e  ...  lOCode  lOComment  \\\n",
              "0       1    1.00  1.00   1.00   1.00      1.00  ...       1          1   \n",
              "1     171  927.89  0.04  23.04  40.27  21378.61  ...      65         10   \n",
              "2     141  769.78  0.07  14.86  51.81  11436.73  ...      37          2   \n",
              "3      58  254.75  0.11   9.35  27.25   2381.95  ...      21          0   \n",
              "4     115  569.73  0.09  11.27  50.53   6423.73  ...      35          2   \n",
              "...   ...     ...   ...    ...    ...       ...  ...     ...        ...   \n",
              "2103   40  175.69  0.15   6.82  25.77   1197.90  ...      12          1   \n",
              "2104   60  278.63  0.10   9.69  28.75   2700.58  ...      18          1   \n",
              "2105    4    8.00  0.67   1.50   5.33     12.00  ...       0          0   \n",
              "2106   17   60.94  0.25   4.00  15.24    243.78  ...       6          0   \n",
              "2107   27  102.80  0.17   6.00  17.13    616.79  ...       9          0   \n",
              "\n",
              "      lOBlank  lOCodeAndComment  uniq_Op  uniq_Opnd  total_Op  total_Opnd  \\\n",
              "0           1                 1        1          1         1           1   \n",
              "1           6                 0       18         25       107          64   \n",
              "2           5                 0       16         28        89          52   \n",
              "3           2                 0       11         10        41          17   \n",
              "4           4                 0       11         20        74          41   \n",
              "...       ...               ...      ...        ...       ...         ...   \n",
              "2103        2                 0       10         11        25          15   \n",
              "2104        2                 0       12         13        39          21   \n",
              "2105        0                 0        3          1         3           1   \n",
              "2106        5                 0        6          6         9           8   \n",
              "2107        0                 0        8          6        18           9   \n",
              "\n",
              "      branchCount  problems  \n",
              "0               1      True  \n",
              "1              21      True  \n",
              "2              15      True  \n",
              "3               5      True  \n",
              "4               5      True  \n",
              "...           ...       ...  \n",
              "2103            3     False  \n",
              "2104            5     False  \n",
              "2105            1     False  \n",
              "2106            1     False  \n",
              "2107            3     False  \n",
              "\n",
              "[2108 rows x 22 columns]"
            ],
            "text/html": [
              "\n",
              "  <div id=\"df-f4db45a1-4b38-426e-a66d-a7b2f4d88fb1\">\n",
              "    <div class=\"colab-df-container\">\n",
              "      <div>\n",
              "<style scoped>\n",
              "    .dataframe tbody tr th:only-of-type {\n",
              "        vertical-align: middle;\n",
              "    }\n",
              "\n",
              "    .dataframe tbody tr th {\n",
              "        vertical-align: top;\n",
              "    }\n",
              "\n",
              "    .dataframe thead th {\n",
              "        text-align: right;\n",
              "    }\n",
              "</style>\n",
              "<table border=\"1\" class=\"dataframe\">\n",
              "  <thead>\n",
              "    <tr style=\"text-align: right;\">\n",
              "      <th></th>\n",
              "      <th>l_count</th>\n",
              "      <th>cyclomatic_complexity</th>\n",
              "      <th>essential_complexity</th>\n",
              "      <th>design_complexity</th>\n",
              "      <th>n</th>\n",
              "      <th>v</th>\n",
              "      <th>l</th>\n",
              "      <th>d</th>\n",
              "      <th>i</th>\n",
              "      <th>e</th>\n",
              "      <th>...</th>\n",
              "      <th>lOCode</th>\n",
              "      <th>lOComment</th>\n",
              "      <th>lOBlank</th>\n",
              "      <th>lOCodeAndComment</th>\n",
              "      <th>uniq_Op</th>\n",
              "      <th>uniq_Opnd</th>\n",
              "      <th>total_Op</th>\n",
              "      <th>total_Opnd</th>\n",
              "      <th>branchCount</th>\n",
              "      <th>problems</th>\n",
              "    </tr>\n",
              "  </thead>\n",
              "  <tbody>\n",
              "    <tr>\n",
              "      <th>0</th>\n",
              "      <td>1</td>\n",
              "      <td>1</td>\n",
              "      <td>1</td>\n",
              "      <td>1</td>\n",
              "      <td>1</td>\n",
              "      <td>1.00</td>\n",
              "      <td>1.00</td>\n",
              "      <td>1.00</td>\n",
              "      <td>1.00</td>\n",
              "      <td>1.00</td>\n",
              "      <td>...</td>\n",
              "      <td>1</td>\n",
              "      <td>1</td>\n",
              "      <td>1</td>\n",
              "      <td>1</td>\n",
              "      <td>1</td>\n",
              "      <td>1</td>\n",
              "      <td>1</td>\n",
              "      <td>1</td>\n",
              "      <td>1</td>\n",
              "      <td>True</td>\n",
              "    </tr>\n",
              "    <tr>\n",
              "      <th>1</th>\n",
              "      <td>83</td>\n",
              "      <td>11</td>\n",
              "      <td>1</td>\n",
              "      <td>11</td>\n",
              "      <td>171</td>\n",
              "      <td>927.89</td>\n",
              "      <td>0.04</td>\n",
              "      <td>23.04</td>\n",
              "      <td>40.27</td>\n",
              "      <td>21378.61</td>\n",
              "      <td>...</td>\n",
              "      <td>65</td>\n",
              "      <td>10</td>\n",
              "      <td>6</td>\n",
              "      <td>0</td>\n",
              "      <td>18</td>\n",
              "      <td>25</td>\n",
              "      <td>107</td>\n",
              "      <td>64</td>\n",
              "      <td>21</td>\n",
              "      <td>True</td>\n",
              "    </tr>\n",
              "    <tr>\n",
              "      <th>2</th>\n",
              "      <td>46</td>\n",
              "      <td>8</td>\n",
              "      <td>6</td>\n",
              "      <td>8</td>\n",
              "      <td>141</td>\n",
              "      <td>769.78</td>\n",
              "      <td>0.07</td>\n",
              "      <td>14.86</td>\n",
              "      <td>51.81</td>\n",
              "      <td>11436.73</td>\n",
              "      <td>...</td>\n",
              "      <td>37</td>\n",
              "      <td>2</td>\n",
              "      <td>5</td>\n",
              "      <td>0</td>\n",
              "      <td>16</td>\n",
              "      <td>28</td>\n",
              "      <td>89</td>\n",
              "      <td>52</td>\n",
              "      <td>15</td>\n",
              "      <td>True</td>\n",
              "    </tr>\n",
              "    <tr>\n",
              "      <th>3</th>\n",
              "      <td>25</td>\n",
              "      <td>3</td>\n",
              "      <td>1</td>\n",
              "      <td>3</td>\n",
              "      <td>58</td>\n",
              "      <td>254.75</td>\n",
              "      <td>0.11</td>\n",
              "      <td>9.35</td>\n",
              "      <td>27.25</td>\n",
              "      <td>2381.95</td>\n",
              "      <td>...</td>\n",
              "      <td>21</td>\n",
              "      <td>0</td>\n",
              "      <td>2</td>\n",
              "      <td>0</td>\n",
              "      <td>11</td>\n",
              "      <td>10</td>\n",
              "      <td>41</td>\n",
              "      <td>17</td>\n",
              "      <td>5</td>\n",
              "      <td>True</td>\n",
              "    </tr>\n",
              "    <tr>\n",
              "      <th>4</th>\n",
              "      <td>43</td>\n",
              "      <td>3</td>\n",
              "      <td>1</td>\n",
              "      <td>3</td>\n",
              "      <td>115</td>\n",
              "      <td>569.73</td>\n",
              "      <td>0.09</td>\n",
              "      <td>11.27</td>\n",
              "      <td>50.53</td>\n",
              "      <td>6423.73</td>\n",
              "      <td>...</td>\n",
              "      <td>35</td>\n",
              "      <td>2</td>\n",
              "      <td>4</td>\n",
              "      <td>0</td>\n",
              "      <td>11</td>\n",
              "      <td>20</td>\n",
              "      <td>74</td>\n",
              "      <td>41</td>\n",
              "      <td>5</td>\n",
              "      <td>True</td>\n",
              "    </tr>\n",
              "    <tr>\n",
              "      <th>...</th>\n",
              "      <td>...</td>\n",
              "      <td>...</td>\n",
              "      <td>...</td>\n",
              "      <td>...</td>\n",
              "      <td>...</td>\n",
              "      <td>...</td>\n",
              "      <td>...</td>\n",
              "      <td>...</td>\n",
              "      <td>...</td>\n",
              "      <td>...</td>\n",
              "      <td>...</td>\n",
              "      <td>...</td>\n",
              "      <td>...</td>\n",
              "      <td>...</td>\n",
              "      <td>...</td>\n",
              "      <td>...</td>\n",
              "      <td>...</td>\n",
              "      <td>...</td>\n",
              "      <td>...</td>\n",
              "      <td>...</td>\n",
              "      <td>...</td>\n",
              "    </tr>\n",
              "    <tr>\n",
              "      <th>2103</th>\n",
              "      <td>19</td>\n",
              "      <td>2</td>\n",
              "      <td>1</td>\n",
              "      <td>2</td>\n",
              "      <td>40</td>\n",
              "      <td>175.69</td>\n",
              "      <td>0.15</td>\n",
              "      <td>6.82</td>\n",
              "      <td>25.77</td>\n",
              "      <td>1197.90</td>\n",
              "      <td>...</td>\n",
              "      <td>12</td>\n",
              "      <td>1</td>\n",
              "      <td>2</td>\n",
              "      <td>0</td>\n",
              "      <td>10</td>\n",
              "      <td>11</td>\n",
              "      <td>25</td>\n",
              "      <td>15</td>\n",
              "      <td>3</td>\n",
              "      <td>False</td>\n",
              "    </tr>\n",
              "    <tr>\n",
              "      <th>2104</th>\n",
              "      <td>23</td>\n",
              "      <td>3</td>\n",
              "      <td>3</td>\n",
              "      <td>3</td>\n",
              "      <td>60</td>\n",
              "      <td>278.63</td>\n",
              "      <td>0.10</td>\n",
              "      <td>9.69</td>\n",
              "      <td>28.75</td>\n",
              "      <td>2700.58</td>\n",
              "      <td>...</td>\n",
              "      <td>18</td>\n",
              "      <td>1</td>\n",
              "      <td>2</td>\n",
              "      <td>0</td>\n",
              "      <td>12</td>\n",
              "      <td>13</td>\n",
              "      <td>39</td>\n",
              "      <td>21</td>\n",
              "      <td>5</td>\n",
              "      <td>False</td>\n",
              "    </tr>\n",
              "    <tr>\n",
              "      <th>2105</th>\n",
              "      <td>2</td>\n",
              "      <td>1</td>\n",
              "      <td>1</td>\n",
              "      <td>1</td>\n",
              "      <td>4</td>\n",
              "      <td>8.00</td>\n",
              "      <td>0.67</td>\n",
              "      <td>1.50</td>\n",
              "      <td>5.33</td>\n",
              "      <td>12.00</td>\n",
              "      <td>...</td>\n",
              "      <td>0</td>\n",
              "      <td>0</td>\n",
              "      <td>0</td>\n",
              "      <td>0</td>\n",
              "      <td>3</td>\n",
              "      <td>1</td>\n",
              "      <td>3</td>\n",
              "      <td>1</td>\n",
              "      <td>1</td>\n",
              "      <td>False</td>\n",
              "    </tr>\n",
              "    <tr>\n",
              "      <th>2106</th>\n",
              "      <td>13</td>\n",
              "      <td>1</td>\n",
              "      <td>1</td>\n",
              "      <td>1</td>\n",
              "      <td>17</td>\n",
              "      <td>60.94</td>\n",
              "      <td>0.25</td>\n",
              "      <td>4.00</td>\n",
              "      <td>15.24</td>\n",
              "      <td>243.78</td>\n",
              "      <td>...</td>\n",
              "      <td>6</td>\n",
              "      <td>0</td>\n",
              "      <td>5</td>\n",
              "      <td>0</td>\n",
              "      <td>6</td>\n",
              "      <td>6</td>\n",
              "      <td>9</td>\n",
              "      <td>8</td>\n",
              "      <td>1</td>\n",
              "      <td>False</td>\n",
              "    </tr>\n",
              "    <tr>\n",
              "      <th>2107</th>\n",
              "      <td>11</td>\n",
              "      <td>2</td>\n",
              "      <td>1</td>\n",
              "      <td>2</td>\n",
              "      <td>27</td>\n",
              "      <td>102.80</td>\n",
              "      <td>0.17</td>\n",
              "      <td>6.00</td>\n",
              "      <td>17.13</td>\n",
              "      <td>616.79</td>\n",
              "      <td>...</td>\n",
              "      <td>9</td>\n",
              "      <td>0</td>\n",
              "      <td>0</td>\n",
              "      <td>0</td>\n",
              "      <td>8</td>\n",
              "      <td>6</td>\n",
              "      <td>18</td>\n",
              "      <td>9</td>\n",
              "      <td>3</td>\n",
              "      <td>False</td>\n",
              "    </tr>\n",
              "  </tbody>\n",
              "</table>\n",
              "<p>2108 rows × 22 columns</p>\n",
              "</div>\n",
              "      <button class=\"colab-df-convert\" onclick=\"convertToInteractive('df-f4db45a1-4b38-426e-a66d-a7b2f4d88fb1')\"\n",
              "              title=\"Convert this dataframe to an interactive table.\"\n",
              "              style=\"display:none;\">\n",
              "        \n",
              "  <svg xmlns=\"http://www.w3.org/2000/svg\" height=\"24px\"viewBox=\"0 0 24 24\"\n",
              "       width=\"24px\">\n",
              "    <path d=\"M0 0h24v24H0V0z\" fill=\"none\"/>\n",
              "    <path d=\"M18.56 5.44l.94 2.06.94-2.06 2.06-.94-2.06-.94-.94-2.06-.94 2.06-2.06.94zm-11 1L8.5 8.5l.94-2.06 2.06-.94-2.06-.94L8.5 2.5l-.94 2.06-2.06.94zm10 10l.94 2.06.94-2.06 2.06-.94-2.06-.94-.94-2.06-.94 2.06-2.06.94z\"/><path d=\"M17.41 7.96l-1.37-1.37c-.4-.4-.92-.59-1.43-.59-.52 0-1.04.2-1.43.59L10.3 9.45l-7.72 7.72c-.78.78-.78 2.05 0 2.83L4 21.41c.39.39.9.59 1.41.59.51 0 1.02-.2 1.41-.59l7.78-7.78 2.81-2.81c.8-.78.8-2.07 0-2.86zM5.41 20L4 18.59l7.72-7.72 1.47 1.35L5.41 20z\"/>\n",
              "  </svg>\n",
              "      </button>\n",
              "      \n",
              "  <style>\n",
              "    .colab-df-container {\n",
              "      display:flex;\n",
              "      flex-wrap:wrap;\n",
              "      gap: 12px;\n",
              "    }\n",
              "\n",
              "    .colab-df-convert {\n",
              "      background-color: #E8F0FE;\n",
              "      border: none;\n",
              "      border-radius: 50%;\n",
              "      cursor: pointer;\n",
              "      display: none;\n",
              "      fill: #1967D2;\n",
              "      height: 32px;\n",
              "      padding: 0 0 0 0;\n",
              "      width: 32px;\n",
              "    }\n",
              "\n",
              "    .colab-df-convert:hover {\n",
              "      background-color: #E2EBFA;\n",
              "      box-shadow: 0px 1px 2px rgba(60, 64, 67, 0.3), 0px 1px 3px 1px rgba(60, 64, 67, 0.15);\n",
              "      fill: #174EA6;\n",
              "    }\n",
              "\n",
              "    [theme=dark] .colab-df-convert {\n",
              "      background-color: #3B4455;\n",
              "      fill: #D2E3FC;\n",
              "    }\n",
              "\n",
              "    [theme=dark] .colab-df-convert:hover {\n",
              "      background-color: #434B5C;\n",
              "      box-shadow: 0px 1px 3px 1px rgba(0, 0, 0, 0.15);\n",
              "      filter: drop-shadow(0px 1px 2px rgba(0, 0, 0, 0.3));\n",
              "      fill: #FFFFFF;\n",
              "    }\n",
              "  </style>\n",
              "\n",
              "      <script>\n",
              "        const buttonEl =\n",
              "          document.querySelector('#df-f4db45a1-4b38-426e-a66d-a7b2f4d88fb1 button.colab-df-convert');\n",
              "        buttonEl.style.display =\n",
              "          google.colab.kernel.accessAllowed ? 'block' : 'none';\n",
              "\n",
              "        async function convertToInteractive(key) {\n",
              "          const element = document.querySelector('#df-f4db45a1-4b38-426e-a66d-a7b2f4d88fb1');\n",
              "          const dataTable =\n",
              "            await google.colab.kernel.invokeFunction('convertToInteractive',\n",
              "                                                     [key], {});\n",
              "          if (!dataTable) return;\n",
              "\n",
              "          const docLinkHtml = 'Like what you see? Visit the ' +\n",
              "            '<a target=\"_blank\" href=https://colab.research.google.com/notebooks/data_table.ipynb>data table notebook</a>'\n",
              "            + ' to learn more about interactive tables.';\n",
              "          element.innerHTML = '';\n",
              "          dataTable['output_type'] = 'display_data';\n",
              "          await google.colab.output.renderOutput(dataTable, element);\n",
              "          const docLink = document.createElement('div');\n",
              "          docLink.innerHTML = docLinkHtml;\n",
              "          element.appendChild(docLink);\n",
              "        }\n",
              "      </script>\n",
              "    </div>\n",
              "  </div>\n",
              "  "
            ]
          },
          "metadata": {},
          "execution_count": 180
        }
      ],
      "source": [
        "kc1_df"
      ]
    },
    {
      "cell_type": "markdown",
      "metadata": {
        "id": "1sbjp2Et0HSm"
      },
      "source": [
        "####**Spiliting Dataset**\n",
        "training: 80% testing:20%"
      ]
    },
    {
      "cell_type": "code",
      "execution_count": null,
      "metadata": {
        "id": "gVF_Zy-y0HSm"
      },
      "outputs": [],
      "source": [
        "x = kc1_df.iloc[:,:-1]\n",
        "y = kc1_df.iloc[:,-1]\n",
        "\n",
        "from sklearn.model_selection import train_test_split\n",
        "x_train, x_test, y_train, y_test = train_test_split(x,y,test_size=0.20,random_state=0)"
      ]
    },
    {
      "cell_type": "markdown",
      "source": [
        "###Performing SMOTE in order to balance class imbalance problem."
      ],
      "metadata": {
        "id": "wL8opv3heag9"
      }
    },
    {
      "cell_type": "code",
      "source": [
        "from imblearn.over_sampling import SMOTE\n",
        "x_train, y_train = SMOTE().fit_resample(x_train, y_train)"
      ],
      "metadata": {
        "id": "Q6LfiBvYeag_"
      },
      "execution_count": null,
      "outputs": []
    },
    {
      "cell_type": "code",
      "execution_count": null,
      "metadata": {
        "id": "OqiwsVTXeahA"
      },
      "outputs": [],
      "source": [
        "from sklearn.preprocessing import StandardScaler    \n",
        "st_x= StandardScaler()    \n",
        "x_train= st_x.fit_transform(x_train)    \n",
        "x_test= st_x.transform(x_test)  "
      ]
    },
    {
      "cell_type": "markdown",
      "source": [
        "**Class become balanced as we can see in below class. Here we use OverSampling.**\n",
        "<br>\n",
        "Oversampling is solution to imbalanced data. Oversampling is the opposite of undersampling. Oversampling means making duplicates of the data that is the least present in our data set. We then add those duplicates to your data set."
      ],
      "metadata": {
        "id": "7KAvHiiGeahA"
      }
    },
    {
      "cell_type": "code",
      "source": [
        "import seaborn as sns\n",
        "\n",
        "plt.rcParams['figure.figsize']=(12,6)\n",
        "plt.rcParams['font.size']=14\n",
        "plt.title('kc2 Dataset')\n",
        "sns.set_style(\"darkgrid\")\n",
        "\n",
        "sns.countplot(y_train);"
      ],
      "metadata": {
        "colab": {
          "base_uri": "https://localhost:8080/",
          "height": 471
        },
        "outputId": "b39c4e40-2d03-4619-8856-1ed64ba144f4",
        "id": "VR8wTigveahB"
      },
      "execution_count": null,
      "outputs": [
        {
          "output_type": "stream",
          "name": "stderr",
          "text": [
            "/usr/local/lib/python3.8/dist-packages/seaborn/_decorators.py:36: FutureWarning: Pass the following variable as a keyword arg: x. From version 0.12, the only valid positional argument will be `data`, and passing other arguments without an explicit keyword will result in an error or misinterpretation.\n",
            "  warnings.warn(\n"
          ]
        },
        {
          "output_type": "display_data",
          "data": {
            "text/plain": [
              "<Figure size 864x432 with 1 Axes>"
            ],
            "image/png": "[encoded data removed]"
          },
          "metadata": {}
        }
      ]
    },
    {
      "cell_type": "markdown",
      "metadata": {
        "id": "aKFHpqeA0HSn"
      },
      "source": [
        "###**Logistic Regression**"
      ]
    },
    {
      "cell_type": "code",
      "execution_count": null,
      "metadata": {
        "colab": {
          "base_uri": "https://localhost:8080/"
        },
        "outputId": "70a2bff6-d543-4be7-9ad4-87d64edf505e",
        "id": "PdWg4ydf0HSn"
      },
      "outputs": [
        {
          "output_type": "stream",
          "name": "stdout",
          "text": [
            "Test Accuracy Score:  0.7725118483412322\n",
            "Confusion Matrix: \n",
            " [[280  73]\n",
            " [ 23  46]]\n"
          ]
        },
        {
          "output_type": "stream",
          "name": "stderr",
          "text": [
            "/usr/local/lib/python3.8/dist-packages/sklearn/linear_model/_logistic.py:814: ConvergenceWarning: lbfgs failed to converge (status=1):\n",
            "STOP: TOTAL NO. of ITERATIONS REACHED LIMIT.\n",
            "\n",
            "Increase the number of iterations (max_iter) or scale the data as shown in:\n",
            "    https://scikit-learn.org/stable/modules/preprocessing.html\n",
            "Please also refer to the documentation for alternative solver options:\n",
            "    https://scikit-learn.org/stable/modules/linear_model.html#logistic-regression\n",
            "  n_iter_i = _check_optimize_result(\n"
          ]
        }
      ],
      "source": [
        "from sklearn.linear_model import LogisticRegression  \n",
        "classifier= LogisticRegression(random_state=0)  \n",
        "classifier.fit(x_train, y_train) \n",
        "\n",
        "y_pred= classifier.predict(x_test)\n",
        "\n",
        "score_ = accuracy_score(y_test, y_pred)\n",
        "print(\"Test Accuracy Score: \", score_)\n",
        "\n",
        "from sklearn.metrics import confusion_matrix  \n",
        "cm= confusion_matrix(y_test,y_pred)\n",
        "print(\"Confusion Matrix: \\n\",cm)"
      ]
    },
    {
      "cell_type": "code",
      "source": [
        "from sklearn.metrics import confusion_matrix\n",
        "tn, fp, fn, tp = confusion_matrix(y_test,y_pred).ravel()\n",
        "print('True negatives: ', tn, '\\nFalse positives: ', fp, '\\nFalse negatives: ', fn, '\\nTrue Positives: ', tp)\n"
      ],
      "metadata": {
        "colab": {
          "base_uri": "https://localhost:8080/"
        },
        "outputId": "d6e77bdc-3c73-4ce8-c8e0-fb5d22b811ef",
        "id": "ZRYd5MNMhG9x"
      },
      "execution_count": null,
      "outputs": [
        {
          "output_type": "stream",
          "name": "stdout",
          "text": [
            "True negatives:  280 \n",
            "False positives:  73 \n",
            "False negatives:  23 \n",
            "True Positives:  46\n"
          ]
        }
      ]
    },
    {
      "cell_type": "markdown",
      "metadata": {
        "id": "23wM1f5V0HSo"
      },
      "source": [
        "###**Support Vector Machine Algorithm**"
      ]
    },
    {
      "cell_type": "code",
      "execution_count": null,
      "metadata": {
        "colab": {
          "base_uri": "https://localhost:8080/"
        },
        "outputId": "4d9db0d0-9a54-492c-f4a5-6ffc07157216",
        "id": "ckp8GqOF0HSo"
      },
      "outputs": [
        {
          "output_type": "execute_result",
          "data": {
            "text/plain": [
              "SVC(kernel='linear', random_state=0)"
            ]
          },
          "metadata": {},
          "execution_count": 187
        }
      ],
      "source": [
        "from sklearn.svm import SVC # \"Support vector classifier\"  \n",
        "classifier = SVC(kernel='linear', random_state=0)  \n",
        "classifier.fit(x_train, y_train)  "
      ]
    },
    {
      "cell_type": "code",
      "execution_count": null,
      "metadata": {
        "id": "NyTpN-7k0HSp"
      },
      "outputs": [],
      "source": [
        "#Predicting the test set result  \n",
        "y_pred= classifier.predict(x_test)  "
      ]
    },
    {
      "cell_type": "code",
      "execution_count": null,
      "metadata": {
        "colab": {
          "base_uri": "https://localhost:8080/"
        },
        "outputId": "1351ddf6-301e-4da5-c457-04fc20731c16",
        "id": "_HA5gYVZ0HSp"
      },
      "outputs": [
        {
          "output_type": "stream",
          "name": "stdout",
          "text": [
            "[[289  64]\n",
            " [ 25  44]]\n"
          ]
        }
      ],
      "source": [
        "from sklearn.metrics import confusion_matrix  \n",
        "cm= confusion_matrix(y_test, y_pred)  \n",
        "print(cm)"
      ]
    },
    {
      "cell_type": "code",
      "source": [
        "from sklearn.metrics import confusion_matrix\n",
        "tn, fp, fn, tp = confusion_matrix(y_test,y_pred).ravel()\n",
        "print('True negatives: ', tn, '\\nFalse positives: ', fp, '\\nFalse negatives: ', fn, '\\nTrue Positives: ', tp)\n"
      ],
      "metadata": {
        "colab": {
          "base_uri": "https://localhost:8080/"
        },
        "outputId": "0e58fc35-9d94-4308-8a43-7f23b3c3b3cb",
        "id": "YKeiQTQLhI7x"
      },
      "execution_count": null,
      "outputs": [
        {
          "output_type": "stream",
          "name": "stdout",
          "text": [
            "True negatives:  289 \n",
            "False positives:  64 \n",
            "False negatives:  25 \n",
            "True Positives:  44\n"
          ]
        }
      ]
    },
    {
      "cell_type": "code",
      "execution_count": null,
      "metadata": {
        "colab": {
          "base_uri": "https://localhost:8080/"
        },
        "outputId": "1a8cbc0e-b1f4-4eab-b56f-dc094290f367",
        "id": "qlRE1wF40HSp"
      },
      "outputs": [
        {
          "output_type": "stream",
          "name": "stdout",
          "text": [
            "Test Accuracy Score:  0.7890995260663507\n"
          ]
        }
      ],
      "source": [
        "score_ = accuracy_score(y_test, y_pred)\n",
        "print(\"Test Accuracy Score: \", score_)"
      ]
    },
    {
      "cell_type": "code",
      "source": [
        "from sklearn.metrics import classification_report\n",
        "print(classification_report(y_test, y_pred))"
      ],
      "metadata": {
        "colab": {
          "base_uri": "https://localhost:8080/"
        },
        "outputId": "5b239ee8-09fd-46e3-c9a9-b7880d5006e0",
        "id": "FX6JED3FiPEA"
      },
      "execution_count": null,
      "outputs": [
        {
          "output_type": "stream",
          "name": "stdout",
          "text": [
            "              precision    recall  f1-score   support\n",
            "\n",
            "       False       0.92      0.82      0.87       353\n",
            "        True       0.41      0.64      0.50        69\n",
            "\n",
            "    accuracy                           0.79       422\n",
            "   macro avg       0.66      0.73      0.68       422\n",
            "weighted avg       0.84      0.79      0.81       422\n",
            "\n"
          ]
        }
      ]
    },
    {
      "cell_type": "markdown",
      "metadata": {
        "id": "tnEXYeJ70HSq"
      },
      "source": [
        "##**Decision Tree Algorithm**"
      ]
    },
    {
      "cell_type": "code",
      "execution_count": null,
      "metadata": {
        "colab": {
          "base_uri": "https://localhost:8080/"
        },
        "outputId": "9d1bc013-48b1-4e67-b814-ba9684357210",
        "id": "eekI-5AT0HSq"
      },
      "outputs": [
        {
          "output_type": "execute_result",
          "data": {
            "text/plain": [
              "DecisionTreeClassifier(criterion='entropy', random_state=0)"
            ]
          },
          "metadata": {},
          "execution_count": 193
        }
      ],
      "source": [
        "from sklearn.tree import DecisionTreeClassifier  \n",
        "classifier= DecisionTreeClassifier(criterion='entropy', random_state=0)  \n",
        "classifier.fit(x_train, y_train)  "
      ]
    },
    {
      "cell_type": "code",
      "execution_count": null,
      "metadata": {
        "id": "k2v0rrxK0HSq"
      },
      "outputs": [],
      "source": [
        "#Predicting the test set result  \n",
        "y_pred= classifier.predict(x_test)  "
      ]
    },
    {
      "cell_type": "code",
      "execution_count": null,
      "metadata": {
        "colab": {
          "base_uri": "https://localhost:8080/"
        },
        "outputId": "dcc59c05-bb0f-42b6-e7fc-46f95f5827ae",
        "id": "NShhK9AG0HSr"
      },
      "outputs": [
        {
          "output_type": "stream",
          "name": "stdout",
          "text": [
            "[[322  31]\n",
            " [ 41  28]]\n"
          ]
        }
      ],
      "source": [
        "#Creating the Confusion matrix  \n",
        "from sklearn.metrics import confusion_matrix  \n",
        "cm= confusion_matrix(y_test, y_pred) \n",
        "print(cm)"
      ]
    },
    {
      "cell_type": "code",
      "source": [
        "from sklearn.metrics import confusion_matrix\n",
        "tn, fp, fn, tp = confusion_matrix(y_test,y_pred).ravel()\n",
        "print('True negatives: ', tn, '\\nFalse positives: ', fp, '\\nFalse negatives: ', fn, '\\nTrue Positives: ', tp)\n"
      ],
      "metadata": {
        "colab": {
          "base_uri": "https://localhost:8080/"
        },
        "outputId": "3f034b07-2429-4e1e-fc7b-8acd4977419b",
        "id": "IJieJ4POhKMr"
      },
      "execution_count": null,
      "outputs": [
        {
          "output_type": "stream",
          "name": "stdout",
          "text": [
            "True negatives:  322 \n",
            "False positives:  31 \n",
            "False negatives:  41 \n",
            "True Positives:  28\n"
          ]
        }
      ]
    },
    {
      "cell_type": "code",
      "execution_count": null,
      "metadata": {
        "colab": {
          "base_uri": "https://localhost:8080/"
        },
        "outputId": "5e854d6d-2b3b-4a42-eedf-36867f02adf7",
        "id": "Xp8t-ici0HSr"
      },
      "outputs": [
        {
          "output_type": "stream",
          "name": "stdout",
          "text": [
            "Test Accuracy Score:  0.8293838862559242\n"
          ]
        }
      ],
      "source": [
        "score_ = accuracy_score(y_test, y_pred)\n",
        "print(\"Test Accuracy Score: \", score_)"
      ]
    },
    {
      "cell_type": "code",
      "source": [
        "from sklearn.metrics import classification_report\n",
        "print(classification_report(y_test, y_pred))"
      ],
      "metadata": {
        "colab": {
          "base_uri": "https://localhost:8080/"
        },
        "outputId": "dc6861ae-4077-47ab-b7f9-723b0dd60443",
        "id": "huy_s8f3iQNp"
      },
      "execution_count": null,
      "outputs": [
        {
          "output_type": "stream",
          "name": "stdout",
          "text": [
            "              precision    recall  f1-score   support\n",
            "\n",
            "       False       0.89      0.91      0.90       353\n",
            "        True       0.47      0.41      0.44        69\n",
            "\n",
            "    accuracy                           0.83       422\n",
            "   macro avg       0.68      0.66      0.67       422\n",
            "weighted avg       0.82      0.83      0.82       422\n",
            "\n"
          ]
        }
      ]
    },
    {
      "cell_type": "markdown",
      "metadata": {
        "id": "EFttuLCN0HSr"
      },
      "source": [
        "##**Random Forest**"
      ]
    },
    {
      "cell_type": "code",
      "execution_count": null,
      "metadata": {
        "colab": {
          "base_uri": "https://localhost:8080/"
        },
        "outputId": "03bfb11d-f37e-440d-c3bf-66d5bdff5b6c",
        "id": "naCaFWbz0HSs"
      },
      "outputs": [
        {
          "output_type": "execute_result",
          "data": {
            "text/plain": [
              "RandomForestClassifier(criterion='entropy', n_estimators=10)"
            ]
          },
          "metadata": {},
          "execution_count": 199
        }
      ],
      "source": [
        "#Fitting Decision Tree classifier to the training set  \n",
        "from sklearn.ensemble import RandomForestClassifier  \n",
        "classifier= RandomForestClassifier(n_estimators= 10, criterion=\"entropy\")  \n",
        "classifier.fit(x_train, y_train)  "
      ]
    },
    {
      "cell_type": "code",
      "execution_count": null,
      "metadata": {
        "id": "NdEu3fgg0HSs"
      },
      "outputs": [],
      "source": [
        "#Predicting the test set result  \n",
        "y_pred= classifier.predict(x_test)  "
      ]
    },
    {
      "cell_type": "code",
      "execution_count": null,
      "metadata": {
        "colab": {
          "base_uri": "https://localhost:8080/"
        },
        "outputId": "3f53e3d1-9d61-4b4b-aeaf-857e3e800b19",
        "id": "tJ1vRvgG0HSs"
      },
      "outputs": [
        {
          "output_type": "stream",
          "name": "stdout",
          "text": [
            "[[315  38]\n",
            " [ 43  26]]\n"
          ]
        }
      ],
      "source": [
        "#Creating the Confusion matrix  \n",
        "from sklearn.metrics import confusion_matrix  \n",
        "cm= confusion_matrix(y_test, y_pred)  \n",
        "print(cm)"
      ]
    },
    {
      "cell_type": "code",
      "source": [
        "from sklearn.metrics import confusion_matrix\n",
        "tn, fp, fn, tp = confusion_matrix(y_test,y_pred).ravel()\n",
        "print('True negatives: ', tn, '\\nFalse positives: ', fp, '\\nFalse negatives: ', fn, '\\nTrue Positives: ', tp)\n"
      ],
      "metadata": {
        "colab": {
          "base_uri": "https://localhost:8080/"
        },
        "outputId": "1106b96d-4bcf-47bb-c551-69e75ab709a2",
        "id": "0PXWbRYahLOJ"
      },
      "execution_count": null,
      "outputs": [
        {
          "output_type": "stream",
          "name": "stdout",
          "text": [
            "True negatives:  315 \n",
            "False positives:  38 \n",
            "False negatives:  43 \n",
            "True Positives:  26\n"
          ]
        }
      ]
    },
    {
      "cell_type": "code",
      "execution_count": null,
      "metadata": {
        "colab": {
          "base_uri": "https://localhost:8080/"
        },
        "outputId": "bef1b652-7217-4bd8-faa4-457b851c02ba",
        "id": "e7gzE_qJ0HSv"
      },
      "outputs": [
        {
          "output_type": "stream",
          "name": "stdout",
          "text": [
            "Test Accuracy Score:  0.8080568720379147\n"
          ]
        }
      ],
      "source": [
        "score_ = accuracy_score(y_test, y_pred)\n",
        "print(\"Test Accuracy Score: \", score_)"
      ]
    },
    {
      "cell_type": "code",
      "source": [
        "from sklearn.metrics import classification_report\n",
        "print(classification_report(y_test, y_pred))"
      ],
      "metadata": {
        "colab": {
          "base_uri": "https://localhost:8080/"
        },
        "outputId": "773d910d-a1de-4c26-c394-172b2e783977",
        "id": "hLxEG6PHiRSL"
      },
      "execution_count": null,
      "outputs": [
        {
          "output_type": "stream",
          "name": "stdout",
          "text": [
            "              precision    recall  f1-score   support\n",
            "\n",
            "       False       0.88      0.89      0.89       353\n",
            "        True       0.41      0.38      0.39        69\n",
            "\n",
            "    accuracy                           0.81       422\n",
            "   macro avg       0.64      0.63      0.64       422\n",
            "weighted avg       0.80      0.81      0.81       422\n",
            "\n"
          ]
        }
      ]
    },
    {
      "cell_type": "markdown",
      "metadata": {
        "id": "GJ0mrMEp0HSw"
      },
      "source": [
        "##**Bagging**"
      ]
    },
    {
      "cell_type": "code",
      "execution_count": null,
      "metadata": {
        "colab": {
          "base_uri": "https://localhost:8080/"
        },
        "outputId": "847f21d9-fc40-4afa-9c12-60d6b65b5645",
        "id": "xCC2GzGU0HSw"
      },
      "outputs": [
        {
          "output_type": "execute_result",
          "data": {
            "text/plain": [
              "DecisionTreeClassifier(random_state=21)"
            ]
          },
          "metadata": {},
          "execution_count": 205
        }
      ],
      "source": [
        "from sklearn.tree import DecisionTreeClassifier\n",
        "dtree = DecisionTreeClassifier(random_state=21)\n",
        "dtree.fit(x_train,y_train)"
      ]
    },
    {
      "cell_type": "code",
      "execution_count": null,
      "metadata": {
        "colab": {
          "base_uri": "https://localhost:8080/"
        },
        "outputId": "2b2756aa-bcdd-423d-aaf4-1b0ca7e8a5b8",
        "id": "wY6IiB45gLKg"
      },
      "outputs": [
        {
          "output_type": "stream",
          "name": "stdout",
          "text": [
            "[[315  38]\n",
            " [ 43  26]]\n"
          ]
        }
      ],
      "source": [
        "from sklearn.metrics import confusion_matrix  \n",
        "cm= confusion_matrix(y_test, y_pred)  \n",
        "print(cm)"
      ]
    },
    {
      "cell_type": "code",
      "source": [
        "from sklearn.metrics import confusion_matrix\n",
        "tn, fp, fn, tp = confusion_matrix(y_test,y_pred).ravel()\n",
        "print('True negatives: ', tn, '\\nFalse positives: ', fp, '\\nFalse negatives: ', fn, '\\nTrue Positives: ', tp)\n"
      ],
      "metadata": {
        "colab": {
          "base_uri": "https://localhost:8080/"
        },
        "outputId": "1be8a9b7-56ba-4130-929d-2af0a0a36aeb",
        "id": "BFL40xG5hMQ-"
      },
      "execution_count": null,
      "outputs": [
        {
          "output_type": "stream",
          "name": "stdout",
          "text": [
            "True negatives:  315 \n",
            "False positives:  38 \n",
            "False negatives:  43 \n",
            "True Positives:  26\n"
          ]
        }
      ]
    },
    {
      "cell_type": "code",
      "execution_count": null,
      "metadata": {
        "colab": {
          "base_uri": "https://localhost:8080/"
        },
        "outputId": "94d5045c-f3ef-44f7-bb73-9c24c967ce41",
        "id": "Llz5toVn0HSw"
      },
      "outputs": [
        {
          "output_type": "stream",
          "name": "stdout",
          "text": [
            "Train data accuracy: 0.9888033589923023\n",
            "Test data accuracy: 0.8199052132701422\n"
          ]
        }
      ],
      "source": [
        "y_pred = dtree.predict(x_test)\n",
        "\n",
        "print(\"Train data accuracy:\",accuracy_score(y_true = y_train, y_pred = dtree.predict(x_train)))\n",
        "print(\"Test data accuracy:\",accuracy_score(y_true = y_test, y_pred = y_pred))"
      ]
    },
    {
      "cell_type": "code",
      "source": [
        "from sklearn.metrics import classification_report\n",
        "print(classification_report(y_test, y_pred))"
      ],
      "metadata": {
        "colab": {
          "base_uri": "https://localhost:8080/"
        },
        "outputId": "c8770292-bb67-4c5e-d52c-34b073272b36",
        "id": "QkP9aFmAiVf-"
      },
      "execution_count": null,
      "outputs": [
        {
          "output_type": "stream",
          "name": "stdout",
          "text": [
            "              precision    recall  f1-score   support\n",
            "\n",
            "       False       0.89      0.90      0.89       353\n",
            "        True       0.44      0.41      0.42        69\n",
            "\n",
            "    accuracy                           0.82       422\n",
            "   macro avg       0.67      0.65      0.66       422\n",
            "weighted avg       0.81      0.82      0.82       422\n",
            "\n"
          ]
        }
      ]
    },
    {
      "cell_type": "markdown",
      "source": [
        "#**cm1 Dataset**"
      ],
      "metadata": {
        "id": "Z2rEvkwV0Y2h"
      }
    },
    {
      "cell_type": "code",
      "source": [
        "cm1_df"
      ],
      "metadata": {
        "colab": {
          "base_uri": "https://localhost:8080/",
          "height": 487
        },
        "id": "hWNOUV8U0fz-",
        "outputId": "73cc1387-2b3f-4c36-d1d4-c9d7f3a0c4e4"
      },
      "execution_count": null,
      "outputs": [
        {
          "output_type": "execute_result",
          "data": {
            "text/plain": [
              "     l_count  cyclomatic_complexity  essential_complexity  design_complexity  \\\n",
              "0          1                      1                     1                  1   \n",
              "1         24                      5                     1                  3   \n",
              "2         20                      4                     4                  2   \n",
              "3         24                      6                     6                  2   \n",
              "4         24                      6                     6                  2   \n",
              "..       ...                    ...                   ...                ...   \n",
              "492       47                      3                     1                  3   \n",
              "493       24                      4                     3                  3   \n",
              "494       82                     11                     3                 10   \n",
              "495       10                      2                     1                  1   \n",
              "496       28                      6                     5                  5   \n",
              "\n",
              "       n        v     l      d      i          e  ...  lOCode  lOComment  \\\n",
              "0      1     1.00  1.00   1.00   1.00       1.00  ...       1          1   \n",
              "1     63   309.13  0.11   9.50  32.54    2936.77  ...       1          0   \n",
              "2     47   215.49  0.06  16.00  13.47    3447.89  ...       0          0   \n",
              "3     72   346.13  0.06  17.33  19.97    5999.58  ...       0          0   \n",
              "4     72   346.13  0.06  17.33  19.97    5999.58  ...       0          0   \n",
              "..   ...      ...   ...    ...    ...        ...  ...     ...        ...   \n",
              "492  256  1563.78  0.04  28.00  55.85   43785.90  ...       2         13   \n",
              "493  107   587.63  0.05  19.13  30.72   11241.58  ...       1          7   \n",
              "494  475  3155.83  0.02  44.71  70.59  141084.24  ...       9         59   \n",
              "495   32   150.41  0.15   6.50  23.14     977.69  ...       1         12   \n",
              "496  104   564.33  0.06  16.09  35.08    9078.38  ...       2          7   \n",
              "\n",
              "     lOBlank  lOCodeAndComment  uniq_Op  uniq_Opnd  total_Op  total_Opnd  \\\n",
              "0          1                 1        1          1         1           1   \n",
              "1          6                 0       15         15        44          19   \n",
              "2          3                 0       16          8        31          16   \n",
              "3          3                 0       16         12        46          26   \n",
              "4          3                 0       16         12        46          26   \n",
              "..       ...               ...      ...        ...       ...         ...   \n",
              "492        2                 0       23         46       144         112   \n",
              "493        4                 0       22         23        67          40   \n",
              "494       35                 0       32         68       285         190   \n",
              "495        4                 0       13         13        19          13   \n",
              "496        0                 0       20         23        67          37   \n",
              "\n",
              "     branchCount  problems  \n",
              "0              1      True  \n",
              "1              9     False  \n",
              "2              7     False  \n",
              "3             11     False  \n",
              "4             11     False  \n",
              "..           ...       ...  \n",
              "492            5      True  \n",
              "493            7      True  \n",
              "494           21      True  \n",
              "495            3      True  \n",
              "496           11      True  \n",
              "\n",
              "[497 rows x 22 columns]"
            ],
            "text/html": [
              "\n",
              "  <div id=\"df-33062ab9-6669-4a4c-a1f7-94d407347ace\">\n",
              "    <div class=\"colab-df-container\">\n",
              "      <div>\n",
              "<style scoped>\n",
              "    .dataframe tbody tr th:only-of-type {\n",
              "        vertical-align: middle;\n",
              "    }\n",
              "\n",
              "    .dataframe tbody tr th {\n",
              "        vertical-align: top;\n",
              "    }\n",
              "\n",
              "    .dataframe thead th {\n",
              "        text-align: right;\n",
              "    }\n",
              "</style>\n",
              "<table border=\"1\" class=\"dataframe\">\n",
              "  <thead>\n",
              "    <tr style=\"text-align: right;\">\n",
              "      <th></th>\n",
              "      <th>l_count</th>\n",
              "      <th>cyclomatic_complexity</th>\n",
              "      <th>essential_complexity</th>\n",
              "      <th>design_complexity</th>\n",
              "      <th>n</th>\n",
              "      <th>v</th>\n",
              "      <th>l</th>\n",
              "      <th>d</th>\n",
              "      <th>i</th>\n",
              "      <th>e</th>\n",
              "      <th>...</th>\n",
              "      <th>lOCode</th>\n",
              "      <th>lOComment</th>\n",
              "      <th>lOBlank</th>\n",
              "      <th>lOCodeAndComment</th>\n",
              "      <th>uniq_Op</th>\n",
              "      <th>uniq_Opnd</th>\n",
              "      <th>total_Op</th>\n",
              "      <th>total_Opnd</th>\n",
              "      <th>branchCount</th>\n",
              "      <th>problems</th>\n",
              "    </tr>\n",
              "  </thead>\n",
              "  <tbody>\n",
              "    <tr>\n",
              "      <th>0</th>\n",
              "      <td>1</td>\n",
              "      <td>1</td>\n",
              "      <td>1</td>\n",
              "      <td>1</td>\n",
              "      <td>1</td>\n",
              "      <td>1.00</td>\n",
              "      <td>1.00</td>\n",
              "      <td>1.00</td>\n",
              "      <td>1.00</td>\n",
              "      <td>1.00</td>\n",
              "      <td>...</td>\n",
              "      <td>1</td>\n",
              "      <td>1</td>\n",
              "      <td>1</td>\n",
              "      <td>1</td>\n",
              "      <td>1</td>\n",
              "      <td>1</td>\n",
              "      <td>1</td>\n",
              "      <td>1</td>\n",
              "      <td>1</td>\n",
              "      <td>True</td>\n",
              "    </tr>\n",
              "    <tr>\n",
              "      <th>1</th>\n",
              "      <td>24</td>\n",
              "      <td>5</td>\n",
              "      <td>1</td>\n",
              "      <td>3</td>\n",
              "      <td>63</td>\n",
              "      <td>309.13</td>\n",
              "      <td>0.11</td>\n",
              "      <td>9.50</td>\n",
              "      <td>32.54</td>\n",
              "      <td>2936.77</td>\n",
              "      <td>...</td>\n",
              "      <td>1</td>\n",
              "      <td>0</td>\n",
              "      <td>6</td>\n",
              "      <td>0</td>\n",
              "      <td>15</td>\n",
              "      <td>15</td>\n",
              "      <td>44</td>\n",
              "      <td>19</td>\n",
              "      <td>9</td>\n",
              "      <td>False</td>\n",
              "    </tr>\n",
              "    <tr>\n",
              "      <th>2</th>\n",
              "      <td>20</td>\n",
              "      <td>4</td>\n",
              "      <td>4</td>\n",
              "      <td>2</td>\n",
              "      <td>47</td>\n",
              "      <td>215.49</td>\n",
              "      <td>0.06</td>\n",
              "      <td>16.00</td>\n",
              "      <td>13.47</td>\n",
              "      <td>3447.89</td>\n",
              "      <td>...</td>\n",
              "      <td>0</td>\n",
              "      <td>0</td>\n",
              "      <td>3</td>\n",
              "      <td>0</td>\n",
              "      <td>16</td>\n",
              "      <td>8</td>\n",
              "      <td>31</td>\n",
              "      <td>16</td>\n",
              "      <td>7</td>\n",
              "      <td>False</td>\n",
              "    </tr>\n",
              "    <tr>\n",
              "      <th>3</th>\n",
              "      <td>24</td>\n",
              "      <td>6</td>\n",
              "      <td>6</td>\n",
              "      <td>2</td>\n",
              "      <td>72</td>\n",
              "      <td>346.13</td>\n",
              "      <td>0.06</td>\n",
              "      <td>17.33</td>\n",
              "      <td>19.97</td>\n",
              "      <td>5999.58</td>\n",
              "      <td>...</td>\n",
              "      <td>0</td>\n",
              "      <td>0</td>\n",
              "      <td>3</td>\n",
              "      <td>0</td>\n",
              "      <td>16</td>\n",
              "      <td>12</td>\n",
              "      <td>46</td>\n",
              "      <td>26</td>\n",
              "      <td>11</td>\n",
              "      <td>False</td>\n",
              "    </tr>\n",
              "    <tr>\n",
              "      <th>4</th>\n",
              "      <td>24</td>\n",
              "      <td>6</td>\n",
              "      <td>6</td>\n",
              "      <td>2</td>\n",
              "      <td>72</td>\n",
              "      <td>346.13</td>\n",
              "      <td>0.06</td>\n",
              "      <td>17.33</td>\n",
              "      <td>19.97</td>\n",
              "      <td>5999.58</td>\n",
              "      <td>...</td>\n",
              "      <td>0</td>\n",
              "      <td>0</td>\n",
              "      <td>3</td>\n",
              "      <td>0</td>\n",
              "      <td>16</td>\n",
              "      <td>12</td>\n",
              "      <td>46</td>\n",
              "      <td>26</td>\n",
              "      <td>11</td>\n",
              "      <td>False</td>\n",
              "    </tr>\n",
              "    <tr>\n",
              "      <th>...</th>\n",
              "      <td>...</td>\n",
              "      <td>...</td>\n",
              "      <td>...</td>\n",
              "      <td>...</td>\n",
              "      <td>...</td>\n",
              "      <td>...</td>\n",
              "      <td>...</td>\n",
              "      <td>...</td>\n",
              "      <td>...</td>\n",
              "      <td>...</td>\n",
              "      <td>...</td>\n",
              "      <td>...</td>\n",
              "      <td>...</td>\n",
              "      <td>...</td>\n",
              "      <td>...</td>\n",
              "      <td>...</td>\n",
              "      <td>...</td>\n",
              "      <td>...</td>\n",
              "      <td>...</td>\n",
              "      <td>...</td>\n",
              "      <td>...</td>\n",
              "    </tr>\n",
              "    <tr>\n",
              "      <th>492</th>\n",
              "      <td>47</td>\n",
              "      <td>3</td>\n",
              "      <td>1</td>\n",
              "      <td>3</td>\n",
              "      <td>256</td>\n",
              "      <td>1563.78</td>\n",
              "      <td>0.04</td>\n",
              "      <td>28.00</td>\n",
              "      <td>55.85</td>\n",
              "      <td>43785.90</td>\n",
              "      <td>...</td>\n",
              "      <td>2</td>\n",
              "      <td>13</td>\n",
              "      <td>2</td>\n",
              "      <td>0</td>\n",
              "      <td>23</td>\n",
              "      <td>46</td>\n",
              "      <td>144</td>\n",
              "      <td>112</td>\n",
              "      <td>5</td>\n",
              "      <td>True</td>\n",
              "    </tr>\n",
              "    <tr>\n",
              "      <th>493</th>\n",
              "      <td>24</td>\n",
              "      <td>4</td>\n",
              "      <td>3</td>\n",
              "      <td>3</td>\n",
              "      <td>107</td>\n",
              "      <td>587.63</td>\n",
              "      <td>0.05</td>\n",
              "      <td>19.13</td>\n",
              "      <td>30.72</td>\n",
              "      <td>11241.58</td>\n",
              "      <td>...</td>\n",
              "      <td>1</td>\n",
              "      <td>7</td>\n",
              "      <td>4</td>\n",
              "      <td>0</td>\n",
              "      <td>22</td>\n",
              "      <td>23</td>\n",
              "      <td>67</td>\n",
              "      <td>40</td>\n",
              "      <td>7</td>\n",
              "      <td>True</td>\n",
              "    </tr>\n",
              "    <tr>\n",
              "      <th>494</th>\n",
              "      <td>82</td>\n",
              "      <td>11</td>\n",
              "      <td>3</td>\n",
              "      <td>10</td>\n",
              "      <td>475</td>\n",
              "      <td>3155.83</td>\n",
              "      <td>0.02</td>\n",
              "      <td>44.71</td>\n",
              "      <td>70.59</td>\n",
              "      <td>141084.24</td>\n",
              "      <td>...</td>\n",
              "      <td>9</td>\n",
              "      <td>59</td>\n",
              "      <td>35</td>\n",
              "      <td>0</td>\n",
              "      <td>32</td>\n",
              "      <td>68</td>\n",
              "      <td>285</td>\n",
              "      <td>190</td>\n",
              "      <td>21</td>\n",
              "      <td>True</td>\n",
              "    </tr>\n",
              "    <tr>\n",
              "      <th>495</th>\n",
              "      <td>10</td>\n",
              "      <td>2</td>\n",
              "      <td>1</td>\n",
              "      <td>1</td>\n",
              "      <td>32</td>\n",
              "      <td>150.41</td>\n",
              "      <td>0.15</td>\n",
              "      <td>6.50</td>\n",
              "      <td>23.14</td>\n",
              "      <td>977.69</td>\n",
              "      <td>...</td>\n",
              "      <td>1</td>\n",
              "      <td>12</td>\n",
              "      <td>4</td>\n",
              "      <td>0</td>\n",
              "      <td>13</td>\n",
              "      <td>13</td>\n",
              "      <td>19</td>\n",
              "      <td>13</td>\n",
              "      <td>3</td>\n",
              "      <td>True</td>\n",
              "    </tr>\n",
              "    <tr>\n",
              "      <th>496</th>\n",
              "      <td>28</td>\n",
              "      <td>6</td>\n",
              "      <td>5</td>\n",
              "      <td>5</td>\n",
              "      <td>104</td>\n",
              "      <td>564.33</td>\n",
              "      <td>0.06</td>\n",
              "      <td>16.09</td>\n",
              "      <td>35.08</td>\n",
              "      <td>9078.38</td>\n",
              "      <td>...</td>\n",
              "      <td>2</td>\n",
              "      <td>7</td>\n",
              "      <td>0</td>\n",
              "      <td>0</td>\n",
              "      <td>20</td>\n",
              "      <td>23</td>\n",
              "      <td>67</td>\n",
              "      <td>37</td>\n",
              "      <td>11</td>\n",
              "      <td>True</td>\n",
              "    </tr>\n",
              "  </tbody>\n",
              "</table>\n",
              "<p>497 rows × 22 columns</p>\n",
              "</div>\n",
              "      <button class=\"colab-df-convert\" onclick=\"convertToInteractive('df-33062ab9-6669-4a4c-a1f7-94d407347ace')\"\n",
              "              title=\"Convert this dataframe to an interactive table.\"\n",
              "              style=\"display:none;\">\n",
              "        \n",
              "  <svg xmlns=\"http://www.w3.org/2000/svg\" height=\"24px\"viewBox=\"0 0 24 24\"\n",
              "       width=\"24px\">\n",
              "    <path d=\"M0 0h24v24H0V0z\" fill=\"none\"/>\n",
              "    <path d=\"M18.56 5.44l.94 2.06.94-2.06 2.06-.94-2.06-.94-.94-2.06-.94 2.06-2.06.94zm-11 1L8.5 8.5l.94-2.06 2.06-.94-2.06-.94L8.5 2.5l-.94 2.06-2.06.94zm10 10l.94 2.06.94-2.06 2.06-.94-2.06-.94-.94-2.06-.94 2.06-2.06.94z\"/><path d=\"M17.41 7.96l-1.37-1.37c-.4-.4-.92-.59-1.43-.59-.52 0-1.04.2-1.43.59L10.3 9.45l-7.72 7.72c-.78.78-.78 2.05 0 2.83L4 21.41c.39.39.9.59 1.41.59.51 0 1.02-.2 1.41-.59l7.78-7.78 2.81-2.81c.8-.78.8-2.07 0-2.86zM5.41 20L4 18.59l7.72-7.72 1.47 1.35L5.41 20z\"/>\n",
              "  </svg>\n",
              "      </button>\n",
              "      \n",
              "  <style>\n",
              "    .colab-df-container {\n",
              "      display:flex;\n",
              "      flex-wrap:wrap;\n",
              "      gap: 12px;\n",
              "    }\n",
              "\n",
              "    .colab-df-convert {\n",
              "      background-color: #E8F0FE;\n",
              "      border: none;\n",
              "      border-radius: 50%;\n",
              "      cursor: pointer;\n",
              "      display: none;\n",
              "      fill: #1967D2;\n",
              "      height: 32px;\n",
              "      padding: 0 0 0 0;\n",
              "      width: 32px;\n",
              "    }\n",
              "\n",
              "    .colab-df-convert:hover {\n",
              "      background-color: #E2EBFA;\n",
              "      box-shadow: 0px 1px 2px rgba(60, 64, 67, 0.3), 0px 1px 3px 1px rgba(60, 64, 67, 0.15);\n",
              "      fill: #174EA6;\n",
              "    }\n",
              "\n",
              "    [theme=dark] .colab-df-convert {\n",
              "      background-color: #3B4455;\n",
              "      fill: #D2E3FC;\n",
              "    }\n",
              "\n",
              "    [theme=dark] .colab-df-convert:hover {\n",
              "      background-color: #434B5C;\n",
              "      box-shadow: 0px 1px 3px 1px rgba(0, 0, 0, 0.15);\n",
              "      filter: drop-shadow(0px 1px 2px rgba(0, 0, 0, 0.3));\n",
              "      fill: #FFFFFF;\n",
              "    }\n",
              "  </style>\n",
              "\n",
              "      <script>\n",
              "        const buttonEl =\n",
              "          document.querySelector('#df-33062ab9-6669-4a4c-a1f7-94d407347ace button.colab-df-convert');\n",
              "        buttonEl.style.display =\n",
              "          google.colab.kernel.accessAllowed ? 'block' : 'none';\n",
              "\n",
              "        async function convertToInteractive(key) {\n",
              "          const element = document.querySelector('#df-33062ab9-6669-4a4c-a1f7-94d407347ace');\n",
              "          const dataTable =\n",
              "            await google.colab.kernel.invokeFunction('convertToInteractive',\n",
              "                                                     [key], {});\n",
              "          if (!dataTable) return;\n",
              "\n",
              "          const docLinkHtml = 'Like what you see? Visit the ' +\n",
              "            '<a target=\"_blank\" href=https://colab.research.google.com/notebooks/data_table.ipynb>data table notebook</a>'\n",
              "            + ' to learn more about interactive tables.';\n",
              "          element.innerHTML = '';\n",
              "          dataTable['output_type'] = 'display_data';\n",
              "          await google.colab.output.renderOutput(dataTable, element);\n",
              "          const docLink = document.createElement('div');\n",
              "          docLink.innerHTML = docLinkHtml;\n",
              "          element.appendChild(docLink);\n",
              "        }\n",
              "      </script>\n",
              "    </div>\n",
              "  </div>\n",
              "  "
            ]
          },
          "metadata": {},
          "execution_count": 210
        }
      ]
    },
    {
      "cell_type": "markdown",
      "metadata": {
        "id": "PRvTuLd30kMP"
      },
      "source": [
        "####**Spiliting Dataset**\n",
        "training: 80% testing:20%"
      ]
    },
    {
      "cell_type": "code",
      "execution_count": null,
      "metadata": {
        "id": "9isLB_yl0kMQ"
      },
      "outputs": [],
      "source": [
        "x = cm1_df.iloc[:,:-1]\n",
        "y = cm1_df.iloc[:,-1]\n",
        "\n",
        "from sklearn.model_selection import train_test_split\n",
        "x_train, x_test, y_train, y_test = train_test_split(x,y,test_size=0.20,random_state=0)"
      ]
    },
    {
      "cell_type": "markdown",
      "source": [
        "###Performing SMOTE in order to balance class imbalance problem."
      ],
      "metadata": {
        "id": "jqBj31PZejFT"
      }
    },
    {
      "cell_type": "code",
      "source": [
        "from imblearn.over_sampling import SMOTE\n",
        "x_train, y_train = SMOTE().fit_resample(x_train, y_train)"
      ],
      "metadata": {
        "id": "AALwEZ70ejFU"
      },
      "execution_count": null,
      "outputs": []
    },
    {
      "cell_type": "code",
      "execution_count": null,
      "metadata": {
        "id": "HuHSA77XejFV"
      },
      "outputs": [],
      "source": [
        "from sklearn.preprocessing import StandardScaler    \n",
        "st_x= StandardScaler()    \n",
        "x_train= st_x.fit_transform(x_train)    \n",
        "x_test= st_x.transform(x_test)  "
      ]
    },
    {
      "cell_type": "markdown",
      "source": [
        "**Class become balanced as we can see in below class. Here we use OverSampling.**\n",
        "<br>\n",
        "Oversampling is solution to imbalanced data. Oversampling is the opposite of undersampling. Oversampling means making duplicates of the data that is the least present in our data set. We then add those duplicates to your data set."
      ],
      "metadata": {
        "id": "GeNlGFbEejFV"
      }
    },
    {
      "cell_type": "code",
      "source": [
        "import seaborn as sns\n",
        "\n",
        "plt.rcParams['figure.figsize']=(12,6)\n",
        "plt.rcParams['font.size']=14\n",
        "plt.title('kc2 Dataset')\n",
        "sns.set_style(\"darkgrid\")\n",
        "\n",
        "sns.countplot(y_train);"
      ],
      "metadata": {
        "colab": {
          "base_uri": "https://localhost:8080/",
          "height": 471
        },
        "outputId": "df76bbee-3765-4e7b-b189-00558c8029c8",
        "id": "1n5SMvo7ejFW"
      },
      "execution_count": null,
      "outputs": [
        {
          "output_type": "stream",
          "name": "stderr",
          "text": [
            "/usr/local/lib/python3.8/dist-packages/seaborn/_decorators.py:36: FutureWarning: Pass the following variable as a keyword arg: x. From version 0.12, the only valid positional argument will be `data`, and passing other arguments without an explicit keyword will result in an error or misinterpretation.\n",
            "  warnings.warn(\n"
          ]
        },
        {
          "output_type": "display_data",
          "data": {
            "text/plain": [
              "<Figure size 864x432 with 1 Axes>"
            ],
            "image/png": "[encoded data removed]"
          },
          "metadata": {}
        }
      ]
    },
    {
      "cell_type": "markdown",
      "metadata": {
        "id": "g0RwtdRo0kMQ"
      },
      "source": [
        "###**Logistic Regression**"
      ]
    },
    {
      "cell_type": "code",
      "execution_count": null,
      "metadata": {
        "colab": {
          "base_uri": "https://localhost:8080/"
        },
        "outputId": "4e02341c-72d6-4ebc-cd59-5a28f1a4c220",
        "id": "Zcgj_eXu0kMQ"
      },
      "outputs": [
        {
          "output_type": "stream",
          "name": "stdout",
          "text": [
            "Test Accuracy Score:  0.86\n",
            "Confusion Matrix: \n",
            " [[81 13]\n",
            " [ 1  5]]\n"
          ]
        }
      ],
      "source": [
        "from sklearn.linear_model import LogisticRegression  \n",
        "classifier= LogisticRegression(random_state=0)  \n",
        "classifier.fit(x_train, y_train) \n",
        "\n",
        "y_pred= classifier.predict(x_test)\n",
        "\n",
        "score_ = accuracy_score(y_test, y_pred)\n",
        "print(\"Test Accuracy Score: \", score_)\n",
        "\n",
        "from sklearn.metrics import confusion_matrix  \n",
        "cm= confusion_matrix(y_test,y_pred)\n",
        "print(\"Confusion Matrix: \\n\",cm)"
      ]
    },
    {
      "cell_type": "code",
      "source": [
        "from sklearn.metrics import confusion_matrix\n",
        "tn, fp, fn, tp = confusion_matrix(y_test,y_pred).ravel()\n",
        "print('True negatives: ', tn, '\\nFalse positives: ', fp, '\\nFalse negatives: ', fn, '\\nTrue Positives: ', tp)\n"
      ],
      "metadata": {
        "colab": {
          "base_uri": "https://localhost:8080/"
        },
        "outputId": "de2b2cbd-dd1c-42ff-acab-288cdb0ee1c5",
        "id": "uJIjYXlYhODX"
      },
      "execution_count": null,
      "outputs": [
        {
          "output_type": "stream",
          "name": "stdout",
          "text": [
            "True negatives:  81 \n",
            "False positives:  13 \n",
            "False negatives:  1 \n",
            "True Positives:  5\n"
          ]
        }
      ]
    },
    {
      "cell_type": "markdown",
      "metadata": {
        "id": "Yzysbbvw0kMR"
      },
      "source": [
        "###**Support Vector Machine Algorithm**"
      ]
    },
    {
      "cell_type": "code",
      "execution_count": null,
      "metadata": {
        "colab": {
          "base_uri": "https://localhost:8080/"
        },
        "outputId": "7d2d352d-d3e7-4a5c-dc38-fa0013211d50",
        "id": "9ptUKenb0kMR"
      },
      "outputs": [
        {
          "output_type": "execute_result",
          "data": {
            "text/plain": [
              "SVC(kernel='linear', random_state=0)"
            ]
          },
          "metadata": {},
          "execution_count": 217
        }
      ],
      "source": [
        "from sklearn.svm import SVC # \"Support vector classifier\"  \n",
        "classifier = SVC(kernel='linear', random_state=0)  \n",
        "classifier.fit(x_train, y_train)  "
      ]
    },
    {
      "cell_type": "code",
      "execution_count": null,
      "metadata": {
        "id": "uc_E12O90kMR"
      },
      "outputs": [],
      "source": [
        "#Predicting the test set result  \n",
        "y_pred= classifier.predict(x_test)  "
      ]
    },
    {
      "cell_type": "code",
      "execution_count": null,
      "metadata": {
        "colab": {
          "base_uri": "https://localhost:8080/"
        },
        "outputId": "27a19c44-fecf-44bb-d2e0-c17a8abb03a7",
        "id": "aXvBmsHj0kMU"
      },
      "outputs": [
        {
          "output_type": "stream",
          "name": "stdout",
          "text": [
            "[[81 13]\n",
            " [ 1  5]]\n"
          ]
        }
      ],
      "source": [
        "from sklearn.metrics import confusion_matrix  \n",
        "cm= confusion_matrix(y_test, y_pred)  \n",
        "print(cm)"
      ]
    },
    {
      "cell_type": "code",
      "source": [
        "from sklearn.metrics import confusion_matrix\n",
        "tn, fp, fn, tp = confusion_matrix(y_test,y_pred).ravel()\n",
        "print('True negatives: ', tn, '\\nFalse positives: ', fp, '\\nFalse negatives: ', fn, '\\nTrue Positives: ', tp)\n"
      ],
      "metadata": {
        "colab": {
          "base_uri": "https://localhost:8080/"
        },
        "outputId": "094ef3f6-24d3-47ba-d469-d6ae35b89092",
        "id": "EKyfUZm9hO-G"
      },
      "execution_count": null,
      "outputs": [
        {
          "output_type": "stream",
          "name": "stdout",
          "text": [
            "True negatives:  81 \n",
            "False positives:  13 \n",
            "False negatives:  1 \n",
            "True Positives:  5\n"
          ]
        }
      ]
    },
    {
      "cell_type": "code",
      "execution_count": null,
      "metadata": {
        "colab": {
          "base_uri": "https://localhost:8080/"
        },
        "outputId": "5a9ef9b5-c288-45fb-acb6-ef0162bc9d58",
        "id": "vBSc7yak0kMU"
      },
      "outputs": [
        {
          "output_type": "stream",
          "name": "stdout",
          "text": [
            "Test Accuracy Score:  0.86\n"
          ]
        }
      ],
      "source": [
        "score_ = accuracy_score(y_test, y_pred)\n",
        "print(\"Test Accuracy Score: \", score_)"
      ]
    },
    {
      "cell_type": "code",
      "source": [
        "from sklearn.metrics import classification_report\n",
        "print(classification_report(y_test, y_pred))"
      ],
      "metadata": {
        "colab": {
          "base_uri": "https://localhost:8080/"
        },
        "outputId": "e95c695c-1478-4906-850f-6ba2a5acb676",
        "id": "b8e1MbHViYCh"
      },
      "execution_count": null,
      "outputs": [
        {
          "output_type": "stream",
          "name": "stdout",
          "text": [
            "              precision    recall  f1-score   support\n",
            "\n",
            "       False       0.99      0.86      0.92        94\n",
            "        True       0.28      0.83      0.42         6\n",
            "\n",
            "    accuracy                           0.86       100\n",
            "   macro avg       0.63      0.85      0.67       100\n",
            "weighted avg       0.95      0.86      0.89       100\n",
            "\n"
          ]
        }
      ]
    },
    {
      "cell_type": "markdown",
      "metadata": {
        "id": "CqnnAGgI0kMV"
      },
      "source": [
        "##**Decision Tree Algorithm**"
      ]
    },
    {
      "cell_type": "code",
      "execution_count": null,
      "metadata": {
        "colab": {
          "base_uri": "https://localhost:8080/"
        },
        "outputId": "b32c1f97-a147-4eb0-f90b-3a3358ad57a0",
        "id": "tA3eVvRg0kMV"
      },
      "outputs": [
        {
          "output_type": "execute_result",
          "data": {
            "text/plain": [
              "DecisionTreeClassifier(criterion='entropy', random_state=0)"
            ]
          },
          "metadata": {},
          "execution_count": 223
        }
      ],
      "source": [
        "from sklearn.tree import DecisionTreeClassifier  \n",
        "classifier= DecisionTreeClassifier(criterion='entropy', random_state=0)  \n",
        "classifier.fit(x_train, y_train)  "
      ]
    },
    {
      "cell_type": "code",
      "execution_count": null,
      "metadata": {
        "id": "0SpfpnTb0kMW"
      },
      "outputs": [],
      "source": [
        "#Predicting the test set result  \n",
        "y_pred= classifier.predict(x_test)  "
      ]
    },
    {
      "cell_type": "code",
      "execution_count": null,
      "metadata": {
        "colab": {
          "base_uri": "https://localhost:8080/"
        },
        "outputId": "15fca7fa-a13b-4091-df31-2b2e63514398",
        "id": "bi-Xe0ak0kMW"
      },
      "outputs": [
        {
          "output_type": "stream",
          "name": "stdout",
          "text": [
            "[[82 12]\n",
            " [ 3  3]]\n"
          ]
        }
      ],
      "source": [
        "#Creating the Confusion matrix  \n",
        "from sklearn.metrics import confusion_matrix  \n",
        "cm= confusion_matrix(y_test, y_pred) \n",
        "print(cm)"
      ]
    },
    {
      "cell_type": "code",
      "source": [
        "from sklearn.metrics import confusion_matrix\n",
        "tn, fp, fn, tp = confusion_matrix(y_test,y_pred).ravel()\n",
        "print('True negatives: ', tn, '\\nFalse positives: ', fp, '\\nFalse negatives: ', fn, '\\nTrue Positives: ', tp)\n"
      ],
      "metadata": {
        "colab": {
          "base_uri": "https://localhost:8080/"
        },
        "outputId": "38e0b590-e7a7-4b36-a5bb-892ac942d776",
        "id": "0NqkgSvFhQAr"
      },
      "execution_count": null,
      "outputs": [
        {
          "output_type": "stream",
          "name": "stdout",
          "text": [
            "True negatives:  82 \n",
            "False positives:  12 \n",
            "False negatives:  3 \n",
            "True Positives:  3\n"
          ]
        }
      ]
    },
    {
      "cell_type": "code",
      "execution_count": null,
      "metadata": {
        "colab": {
          "base_uri": "https://localhost:8080/"
        },
        "outputId": "23016598-8365-461b-db60-36ac80d37724",
        "id": "c0BssU000kMX"
      },
      "outputs": [
        {
          "output_type": "stream",
          "name": "stdout",
          "text": [
            "Test Accuracy Score:  0.85\n"
          ]
        }
      ],
      "source": [
        "score_ = accuracy_score(y_test, y_pred)\n",
        "print(\"Test Accuracy Score: \", score_)"
      ]
    },
    {
      "cell_type": "code",
      "source": [
        "from sklearn.metrics import classification_report\n",
        "print(classification_report(y_test, y_pred))"
      ],
      "metadata": {
        "colab": {
          "base_uri": "https://localhost:8080/"
        },
        "outputId": "c479ad8a-c4ac-44da-d993-9cb0729d74c7",
        "id": "xkWhIx_miZLr"
      },
      "execution_count": null,
      "outputs": [
        {
          "output_type": "stream",
          "name": "stdout",
          "text": [
            "              precision    recall  f1-score   support\n",
            "\n",
            "       False       0.96      0.87      0.92        94\n",
            "        True       0.20      0.50      0.29         6\n",
            "\n",
            "    accuracy                           0.85       100\n",
            "   macro avg       0.58      0.69      0.60       100\n",
            "weighted avg       0.92      0.85      0.88       100\n",
            "\n"
          ]
        }
      ]
    },
    {
      "cell_type": "markdown",
      "metadata": {
        "id": "nfg-J8mX0kMY"
      },
      "source": [
        "##**Random Forest**"
      ]
    },
    {
      "cell_type": "code",
      "execution_count": null,
      "metadata": {
        "colab": {
          "base_uri": "https://localhost:8080/"
        },
        "outputId": "a46099cd-3330-4400-ddf4-366230e073d9",
        "id": "w1AruUT70kMY"
      },
      "outputs": [
        {
          "output_type": "execute_result",
          "data": {
            "text/plain": [
              "RandomForestClassifier(criterion='entropy', n_estimators=10)"
            ]
          },
          "metadata": {},
          "execution_count": 229
        }
      ],
      "source": [
        "#Fitting Decision Tree classifier to the training set  \n",
        "from sklearn.ensemble import RandomForestClassifier  \n",
        "classifier= RandomForestClassifier(n_estimators= 10, criterion=\"entropy\")  \n",
        "classifier.fit(x_train, y_train)  "
      ]
    },
    {
      "cell_type": "code",
      "execution_count": null,
      "metadata": {
        "id": "xC0IeYjG0kMY"
      },
      "outputs": [],
      "source": [
        "#Predicting the test set result  \n",
        "y_pred= classifier.predict(x_test)  "
      ]
    },
    {
      "cell_type": "code",
      "execution_count": null,
      "metadata": {
        "colab": {
          "base_uri": "https://localhost:8080/"
        },
        "outputId": "be321f92-d8bf-4786-e4eb-5ced45aada20",
        "id": "MtljRmF50kMZ"
      },
      "outputs": [
        {
          "output_type": "stream",
          "name": "stdout",
          "text": [
            "[[84 10]\n",
            " [ 4  2]]\n"
          ]
        }
      ],
      "source": [
        "#Creating the Confusion matrix  \n",
        "from sklearn.metrics import confusion_matrix  \n",
        "cm= confusion_matrix(y_test, y_pred)  \n",
        "print(cm)"
      ]
    },
    {
      "cell_type": "code",
      "source": [
        "from sklearn.metrics import confusion_matrix\n",
        "tn, fp, fn, tp = confusion_matrix(y_test,y_pred).ravel()\n",
        "print('True negatives: ', tn, '\\nFalse positives: ', fp, '\\nFalse negatives: ', fn, '\\nTrue Positives: ', tp)\n"
      ],
      "metadata": {
        "colab": {
          "base_uri": "https://localhost:8080/"
        },
        "outputId": "80ccf2fc-9a22-4b80-d1cd-fb69efcbb2f4",
        "id": "lqhnTdCShRPX"
      },
      "execution_count": null,
      "outputs": [
        {
          "output_type": "stream",
          "name": "stdout",
          "text": [
            "True negatives:  84 \n",
            "False positives:  10 \n",
            "False negatives:  4 \n",
            "True Positives:  2\n"
          ]
        }
      ]
    },
    {
      "cell_type": "code",
      "execution_count": null,
      "metadata": {
        "colab": {
          "base_uri": "https://localhost:8080/"
        },
        "outputId": "bacb1cf4-7e4b-49ca-96a7-f4f5bd3b1520",
        "id": "a5wxqNn80kMZ"
      },
      "outputs": [
        {
          "output_type": "stream",
          "name": "stdout",
          "text": [
            "Test Accuracy Score:  0.86\n"
          ]
        }
      ],
      "source": [
        "score_ = accuracy_score(y_test, y_pred)\n",
        "print(\"Test Accuracy Score: \", score_)"
      ]
    },
    {
      "cell_type": "code",
      "source": [
        "from sklearn.metrics import classification_report\n",
        "print(classification_report(y_test, y_pred))"
      ],
      "metadata": {
        "colab": {
          "base_uri": "https://localhost:8080/"
        },
        "outputId": "94833d18-27b9-4219-e5d6-6220625f39c3",
        "id": "pu-y1N7IiajW"
      },
      "execution_count": null,
      "outputs": [
        {
          "output_type": "stream",
          "name": "stdout",
          "text": [
            "              precision    recall  f1-score   support\n",
            "\n",
            "       False       0.95      0.89      0.92        94\n",
            "        True       0.17      0.33      0.22         6\n",
            "\n",
            "    accuracy                           0.86       100\n",
            "   macro avg       0.56      0.61      0.57       100\n",
            "weighted avg       0.91      0.86      0.88       100\n",
            "\n"
          ]
        }
      ]
    },
    {
      "cell_type": "markdown",
      "metadata": {
        "id": "SEKqj0XL0kMa"
      },
      "source": [
        "##**Bagging**"
      ]
    },
    {
      "cell_type": "code",
      "execution_count": null,
      "metadata": {
        "colab": {
          "base_uri": "https://localhost:8080/"
        },
        "outputId": "234682c7-8d06-4fc1-c2e3-6d7c4f9659fe",
        "id": "TaglCHrW0kMb"
      },
      "outputs": [
        {
          "output_type": "execute_result",
          "data": {
            "text/plain": [
              "DecisionTreeClassifier(random_state=21)"
            ]
          },
          "metadata": {},
          "execution_count": 235
        }
      ],
      "source": [
        "from sklearn.tree import DecisionTreeClassifier\n",
        "dtree = DecisionTreeClassifier(random_state=21)\n",
        "dtree.fit(x_train,y_train)"
      ]
    },
    {
      "cell_type": "code",
      "execution_count": null,
      "metadata": {
        "colab": {
          "base_uri": "https://localhost:8080/"
        },
        "outputId": "0a145a00-57ad-4f12-85e3-ebaeb66f29ce",
        "id": "EmXXFM9pgVQN"
      },
      "outputs": [
        {
          "output_type": "stream",
          "name": "stdout",
          "text": [
            "[[84 10]\n",
            " [ 4  2]]\n"
          ]
        }
      ],
      "source": [
        "from sklearn.metrics import confusion_matrix  \n",
        "cm= confusion_matrix(y_test, y_pred)  \n",
        "print(cm)"
      ]
    },
    {
      "cell_type": "code",
      "source": [
        "from sklearn.metrics import confusion_matrix\n",
        "tn, fp, fn, tp = confusion_matrix(y_test,y_pred).ravel()\n",
        "print('True negatives: ', tn, '\\nFalse positives: ', fp, '\\nFalse negatives: ', fn, '\\nTrue Positives: ', tp)\n"
      ],
      "metadata": {
        "colab": {
          "base_uri": "https://localhost:8080/"
        },
        "outputId": "b5a95aa0-e5cc-4498-9394-fa5715a77087",
        "id": "vfSVoy63hSIp"
      },
      "execution_count": null,
      "outputs": [
        {
          "output_type": "stream",
          "name": "stdout",
          "text": [
            "True negatives:  84 \n",
            "False positives:  10 \n",
            "False negatives:  4 \n",
            "True Positives:  2\n"
          ]
        }
      ]
    },
    {
      "cell_type": "code",
      "execution_count": null,
      "metadata": {
        "colab": {
          "base_uri": "https://localhost:8080/"
        },
        "outputId": "649787d2-f0eb-496a-ba93-188a41d6443e",
        "id": "n7bMGEzW0kMb"
      },
      "outputs": [
        {
          "output_type": "stream",
          "name": "stdout",
          "text": [
            "Train data accuracy: 0.998587570621469\n",
            "Test data accuracy: 0.81\n"
          ]
        }
      ],
      "source": [
        "y_pred = dtree.predict(x_test)\n",
        "\n",
        "print(\"Train data accuracy:\",accuracy_score(y_true = y_train, y_pred = dtree.predict(x_train)))\n",
        "print(\"Test data accuracy:\",accuracy_score(y_true = y_test, y_pred = y_pred))"
      ]
    },
    {
      "cell_type": "code",
      "source": [
        "from sklearn.metrics import classification_report\n",
        "print(classification_report(y_test, y_pred))"
      ],
      "metadata": {
        "colab": {
          "base_uri": "https://localhost:8080/"
        },
        "outputId": "789494e6-9401-4fda-98c2-be0717573295",
        "id": "NsnlzXABibh_"
      },
      "execution_count": null,
      "outputs": [
        {
          "output_type": "stream",
          "name": "stdout",
          "text": [
            "              precision    recall  f1-score   support\n",
            "\n",
            "       False       0.95      0.84      0.89        94\n",
            "        True       0.12      0.33      0.17         6\n",
            "\n",
            "    accuracy                           0.81       100\n",
            "   macro avg       0.53      0.59      0.53       100\n",
            "weighted avg       0.90      0.81      0.85       100\n",
            "\n"
          ]
        }
      ]
    },
    {
      "cell_type": "markdown",
      "source": [
        "#**pc1**"
      ],
      "metadata": {
        "id": "xcppo_930sdY"
      }
    },
    {
      "cell_type": "code",
      "source": [
        "pc1_df"
      ],
      "metadata": {
        "colab": {
          "base_uri": "https://localhost:8080/",
          "height": 487
        },
        "id": "vKX-kuaw02fj",
        "outputId": "2e9519cc-60ca-4c47-f319-90261e3b0cbf"
      },
      "execution_count": null,
      "outputs": [
        {
          "output_type": "execute_result",
          "data": {
            "text/plain": [
              "      l_count  cyclomatic_complexity  essential_complexity  design_complexity  \\\n",
              "0           1                      1                     1                  1   \n",
              "1          91                      9                     3                  2   \n",
              "2         109                     21                     5                 18   \n",
              "3         505                    106                    41                 82   \n",
              "4         107                     25                     7                 14   \n",
              "...       ...                    ...                   ...                ...   \n",
              "1103        6                      4                     4                  1   \n",
              "1104       10                      5                     5                  1   \n",
              "1105        5                      3                     3                  1   \n",
              "1106       18                      8                     5                  5   \n",
              "1107       26                     18                    13                  6   \n",
              "\n",
              "         n         v     l      d       i           e  ...  lOCode  lOComment  \\\n",
              "0        1      1.00  1.00   1.00    1.00        1.00  ...       1          1   \n",
              "1      318   2089.21  0.04  27.68   75.47    57833.24  ...      80         44   \n",
              "2      381   2547.56  0.04  28.37   89.79    72282.68  ...      97         41   \n",
              "3     2339  20696.93  0.01  75.93  272.58  1571506.88  ...     457         71   \n",
              "4      619   4282.78  0.02  52.91   80.95   226588.75  ...     103         32   \n",
              "...    ...       ...   ...    ...     ...         ...  ...     ...        ...   \n",
              "1103    26     96.21  0.08  13.33    7.22     1282.82  ...       6          0   \n",
              "1104    43    182.66  0.05  21.00    8.70     3835.88  ...      10          0   \n",
              "1105    17     62.91  0.21   4.80   13.11      301.96  ...       5          0   \n",
              "1106   111    613.12  0.04  22.92   26.75    14050.56  ...      18          0   \n",
              "1107   228   1335.62  0.03  35.81   37.29    47834.26  ...      26          0   \n",
              "\n",
              "      lOBlank  lOCodeAndComment  uniq_Op  uniq_Opnd  total_Op  total_Opnd  \\\n",
              "0           1                 1        1          1         1           1   \n",
              "1          11                31       29         66       192         126   \n",
              "2          12                24       28         75       229         152   \n",
              "3          48                49       64        397      1397         942   \n",
              "4           4                39       35         86       359         260   \n",
              "...       ...               ...      ...        ...       ...         ...   \n",
              "1103        0                 2       10          3        18           8   \n",
              "1104        0                 1       14          5        28          15   \n",
              "1105        0                 0        8          5        11           6   \n",
              "1106        0                 1       22         24        61          50   \n",
              "1107        0                 1       23         35       119         109   \n",
              "\n",
              "      branchCount  problems  \n",
              "0               1      True  \n",
              "1              17      True  \n",
              "2              38      True  \n",
              "3             178      True  \n",
              "4              40      True  \n",
              "...           ...       ...  \n",
              "1103            7     False  \n",
              "1104            9     False  \n",
              "1105            5     False  \n",
              "1106           15     False  \n",
              "1107           35     False  \n",
              "\n",
              "[1108 rows x 22 columns]"
            ],
            "text/html": [
              "\n",
              "  <div id=\"df-a80fc651-4305-415f-b683-a3ebc09a7493\">\n",
              "    <div class=\"colab-df-container\">\n",
              "      <div>\n",
              "<style scoped>\n",
              "    .dataframe tbody tr th:only-of-type {\n",
              "        vertical-align: middle;\n",
              "    }\n",
              "\n",
              "    .dataframe tbody tr th {\n",
              "        vertical-align: top;\n",
              "    }\n",
              "\n",
              "    .dataframe thead th {\n",
              "        text-align: right;\n",
              "    }\n",
              "</style>\n",
              "<table border=\"1\" class=\"dataframe\">\n",
              "  <thead>\n",
              "    <tr style=\"text-align: right;\">\n",
              "      <th></th>\n",
              "      <th>l_count</th>\n",
              "      <th>cyclomatic_complexity</th>\n",
              "      <th>essential_complexity</th>\n",
              "      <th>design_complexity</th>\n",
              "      <th>n</th>\n",
              "      <th>v</th>\n",
              "      <th>l</th>\n",
              "      <th>d</th>\n",
              "      <th>i</th>\n",
              "      <th>e</th>\n",
              "      <th>...</th>\n",
              "      <th>lOCode</th>\n",
              "      <th>lOComment</th>\n",
              "      <th>lOBlank</th>\n",
              "      <th>lOCodeAndComment</th>\n",
              "      <th>uniq_Op</th>\n",
              "      <th>uniq_Opnd</th>\n",
              "      <th>total_Op</th>\n",
              "      <th>total_Opnd</th>\n",
              "      <th>branchCount</th>\n",
              "      <th>problems</th>\n",
              "    </tr>\n",
              "  </thead>\n",
              "  <tbody>\n",
              "    <tr>\n",
              "      <th>0</th>\n",
              "      <td>1</td>\n",
              "      <td>1</td>\n",
              "      <td>1</td>\n",
              "      <td>1</td>\n",
              "      <td>1</td>\n",
              "      <td>1.00</td>\n",
              "      <td>1.00</td>\n",
              "      <td>1.00</td>\n",
              "      <td>1.00</td>\n",
              "      <td>1.00</td>\n",
              "      <td>...</td>\n",
              "      <td>1</td>\n",
              "      <td>1</td>\n",
              "      <td>1</td>\n",
              "      <td>1</td>\n",
              "      <td>1</td>\n",
              "      <td>1</td>\n",
              "      <td>1</td>\n",
              "      <td>1</td>\n",
              "      <td>1</td>\n",
              "      <td>True</td>\n",
              "    </tr>\n",
              "    <tr>\n",
              "      <th>1</th>\n",
              "      <td>91</td>\n",
              "      <td>9</td>\n",
              "      <td>3</td>\n",
              "      <td>2</td>\n",
              "      <td>318</td>\n",
              "      <td>2089.21</td>\n",
              "      <td>0.04</td>\n",
              "      <td>27.68</td>\n",
              "      <td>75.47</td>\n",
              "      <td>57833.24</td>\n",
              "      <td>...</td>\n",
              "      <td>80</td>\n",
              "      <td>44</td>\n",
              "      <td>11</td>\n",
              "      <td>31</td>\n",
              "      <td>29</td>\n",
              "      <td>66</td>\n",
              "      <td>192</td>\n",
              "      <td>126</td>\n",
              "      <td>17</td>\n",
              "      <td>True</td>\n",
              "    </tr>\n",
              "    <tr>\n",
              "      <th>2</th>\n",
              "      <td>109</td>\n",
              "      <td>21</td>\n",
              "      <td>5</td>\n",
              "      <td>18</td>\n",
              "      <td>381</td>\n",
              "      <td>2547.56</td>\n",
              "      <td>0.04</td>\n",
              "      <td>28.37</td>\n",
              "      <td>89.79</td>\n",
              "      <td>72282.68</td>\n",
              "      <td>...</td>\n",
              "      <td>97</td>\n",
              "      <td>41</td>\n",
              "      <td>12</td>\n",
              "      <td>24</td>\n",
              "      <td>28</td>\n",
              "      <td>75</td>\n",
              "      <td>229</td>\n",
              "      <td>152</td>\n",
              "      <td>38</td>\n",
              "      <td>True</td>\n",
              "    </tr>\n",
              "    <tr>\n",
              "      <th>3</th>\n",
              "      <td>505</td>\n",
              "      <td>106</td>\n",
              "      <td>41</td>\n",
              "      <td>82</td>\n",
              "      <td>2339</td>\n",
              "      <td>20696.93</td>\n",
              "      <td>0.01</td>\n",
              "      <td>75.93</td>\n",
              "      <td>272.58</td>\n",
              "      <td>1571506.88</td>\n",
              "      <td>...</td>\n",
              "      <td>457</td>\n",
              "      <td>71</td>\n",
              "      <td>48</td>\n",
              "      <td>49</td>\n",
              "      <td>64</td>\n",
              "      <td>397</td>\n",
              "      <td>1397</td>\n",
              "      <td>942</td>\n",
              "      <td>178</td>\n",
              "      <td>True</td>\n",
              "    </tr>\n",
              "    <tr>\n",
              "      <th>4</th>\n",
              "      <td>107</td>\n",
              "      <td>25</td>\n",
              "      <td>7</td>\n",
              "      <td>14</td>\n",
              "      <td>619</td>\n",
              "      <td>4282.78</td>\n",
              "      <td>0.02</td>\n",
              "      <td>52.91</td>\n",
              "      <td>80.95</td>\n",
              "      <td>226588.75</td>\n",
              "      <td>...</td>\n",
              "      <td>103</td>\n",
              "      <td>32</td>\n",
              "      <td>4</td>\n",
              "      <td>39</td>\n",
              "      <td>35</td>\n",
              "      <td>86</td>\n",
              "      <td>359</td>\n",
              "      <td>260</td>\n",
              "      <td>40</td>\n",
              "      <td>True</td>\n",
              "    </tr>\n",
              "    <tr>\n",
              "      <th>...</th>\n",
              "      <td>...</td>\n",
              "      <td>...</td>\n",
              "      <td>...</td>\n",
              "      <td>...</td>\n",
              "      <td>...</td>\n",
              "      <td>...</td>\n",
              "      <td>...</td>\n",
              "      <td>...</td>\n",
              "      <td>...</td>\n",
              "      <td>...</td>\n",
              "      <td>...</td>\n",
              "      <td>...</td>\n",
              "      <td>...</td>\n",
              "      <td>...</td>\n",
              "      <td>...</td>\n",
              "      <td>...</td>\n",
              "      <td>...</td>\n",
              "      <td>...</td>\n",
              "      <td>...</td>\n",
              "      <td>...</td>\n",
              "      <td>...</td>\n",
              "    </tr>\n",
              "    <tr>\n",
              "      <th>1103</th>\n",
              "      <td>6</td>\n",
              "      <td>4</td>\n",
              "      <td>4</td>\n",
              "      <td>1</td>\n",
              "      <td>26</td>\n",
              "      <td>96.21</td>\n",
              "      <td>0.08</td>\n",
              "      <td>13.33</td>\n",
              "      <td>7.22</td>\n",
              "      <td>1282.82</td>\n",
              "      <td>...</td>\n",
              "      <td>6</td>\n",
              "      <td>0</td>\n",
              "      <td>0</td>\n",
              "      <td>2</td>\n",
              "      <td>10</td>\n",
              "      <td>3</td>\n",
              "      <td>18</td>\n",
              "      <td>8</td>\n",
              "      <td>7</td>\n",
              "      <td>False</td>\n",
              "    </tr>\n",
              "    <tr>\n",
              "      <th>1104</th>\n",
              "      <td>10</td>\n",
              "      <td>5</td>\n",
              "      <td>5</td>\n",
              "      <td>1</td>\n",
              "      <td>43</td>\n",
              "      <td>182.66</td>\n",
              "      <td>0.05</td>\n",
              "      <td>21.00</td>\n",
              "      <td>8.70</td>\n",
              "      <td>3835.88</td>\n",
              "      <td>...</td>\n",
              "      <td>10</td>\n",
              "      <td>0</td>\n",
              "      <td>0</td>\n",
              "      <td>1</td>\n",
              "      <td>14</td>\n",
              "      <td>5</td>\n",
              "      <td>28</td>\n",
              "      <td>15</td>\n",
              "      <td>9</td>\n",
              "      <td>False</td>\n",
              "    </tr>\n",
              "    <tr>\n",
              "      <th>1105</th>\n",
              "      <td>5</td>\n",
              "      <td>3</td>\n",
              "      <td>3</td>\n",
              "      <td>1</td>\n",
              "      <td>17</td>\n",
              "      <td>62.91</td>\n",
              "      <td>0.21</td>\n",
              "      <td>4.80</td>\n",
              "      <td>13.11</td>\n",
              "      <td>301.96</td>\n",
              "      <td>...</td>\n",
              "      <td>5</td>\n",
              "      <td>0</td>\n",
              "      <td>0</td>\n",
              "      <td>0</td>\n",
              "      <td>8</td>\n",
              "      <td>5</td>\n",
              "      <td>11</td>\n",
              "      <td>6</td>\n",
              "      <td>5</td>\n",
              "      <td>False</td>\n",
              "    </tr>\n",
              "    <tr>\n",
              "      <th>1106</th>\n",
              "      <td>18</td>\n",
              "      <td>8</td>\n",
              "      <td>5</td>\n",
              "      <td>5</td>\n",
              "      <td>111</td>\n",
              "      <td>613.12</td>\n",
              "      <td>0.04</td>\n",
              "      <td>22.92</td>\n",
              "      <td>26.75</td>\n",
              "      <td>14050.56</td>\n",
              "      <td>...</td>\n",
              "      <td>18</td>\n",
              "      <td>0</td>\n",
              "      <td>0</td>\n",
              "      <td>1</td>\n",
              "      <td>22</td>\n",
              "      <td>24</td>\n",
              "      <td>61</td>\n",
              "      <td>50</td>\n",
              "      <td>15</td>\n",
              "      <td>False</td>\n",
              "    </tr>\n",
              "    <tr>\n",
              "      <th>1107</th>\n",
              "      <td>26</td>\n",
              "      <td>18</td>\n",
              "      <td>13</td>\n",
              "      <td>6</td>\n",
              "      <td>228</td>\n",
              "      <td>1335.62</td>\n",
              "      <td>0.03</td>\n",
              "      <td>35.81</td>\n",
              "      <td>37.29</td>\n",
              "      <td>47834.26</td>\n",
              "      <td>...</td>\n",
              "      <td>26</td>\n",
              "      <td>0</td>\n",
              "      <td>0</td>\n",
              "      <td>1</td>\n",
              "      <td>23</td>\n",
              "      <td>35</td>\n",
              "      <td>119</td>\n",
              "      <td>109</td>\n",
              "      <td>35</td>\n",
              "      <td>False</td>\n",
              "    </tr>\n",
              "  </tbody>\n",
              "</table>\n",
              "<p>1108 rows × 22 columns</p>\n",
              "</div>\n",
              "      <button class=\"colab-df-convert\" onclick=\"convertToInteractive('df-a80fc651-4305-415f-b683-a3ebc09a7493')\"\n",
              "              title=\"Convert this dataframe to an interactive table.\"\n",
              "              style=\"display:none;\">\n",
              "        \n",
              "  <svg xmlns=\"http://www.w3.org/2000/svg\" height=\"24px\"viewBox=\"0 0 24 24\"\n",
              "       width=\"24px\">\n",
              "    <path d=\"M0 0h24v24H0V0z\" fill=\"none\"/>\n",
              "    <path d=\"M18.56 5.44l.94 2.06.94-2.06 2.06-.94-2.06-.94-.94-2.06-.94 2.06-2.06.94zm-11 1L8.5 8.5l.94-2.06 2.06-.94-2.06-.94L8.5 2.5l-.94 2.06-2.06.94zm10 10l.94 2.06.94-2.06 2.06-.94-2.06-.94-.94-2.06-.94 2.06-2.06.94z\"/><path d=\"M17.41 7.96l-1.37-1.37c-.4-.4-.92-.59-1.43-.59-.52 0-1.04.2-1.43.59L10.3 9.45l-7.72 7.72c-.78.78-.78 2.05 0 2.83L4 21.41c.39.39.9.59 1.41.59.51 0 1.02-.2 1.41-.59l7.78-7.78 2.81-2.81c.8-.78.8-2.07 0-2.86zM5.41 20L4 18.59l7.72-7.72 1.47 1.35L5.41 20z\"/>\n",
              "  </svg>\n",
              "      </button>\n",
              "      \n",
              "  <style>\n",
              "    .colab-df-container {\n",
              "      display:flex;\n",
              "      flex-wrap:wrap;\n",
              "      gap: 12px;\n",
              "    }\n",
              "\n",
              "    .colab-df-convert {\n",
              "      background-color: #E8F0FE;\n",
              "      border: none;\n",
              "      border-radius: 50%;\n",
              "      cursor: pointer;\n",
              "      display: none;\n",
              "      fill: #1967D2;\n",
              "      height: 32px;\n",
              "      padding: 0 0 0 0;\n",
              "      width: 32px;\n",
              "    }\n",
              "\n",
              "    .colab-df-convert:hover {\n",
              "      background-color: #E2EBFA;\n",
              "      box-shadow: 0px 1px 2px rgba(60, 64, 67, 0.3), 0px 1px 3px 1px rgba(60, 64, 67, 0.15);\n",
              "      fill: #174EA6;\n",
              "    }\n",
              "\n",
              "    [theme=dark] .colab-df-convert {\n",
              "      background-color: #3B4455;\n",
              "      fill: #D2E3FC;\n",
              "    }\n",
              "\n",
              "    [theme=dark] .colab-df-convert:hover {\n",
              "      background-color: #434B5C;\n",
              "      box-shadow: 0px 1px 3px 1px rgba(0, 0, 0, 0.15);\n",
              "      filter: drop-shadow(0px 1px 2px rgba(0, 0, 0, 0.3));\n",
              "      fill: #FFFFFF;\n",
              "    }\n",
              "  </style>\n",
              "\n",
              "      <script>\n",
              "        const buttonEl =\n",
              "          document.querySelector('#df-a80fc651-4305-415f-b683-a3ebc09a7493 button.colab-df-convert');\n",
              "        buttonEl.style.display =\n",
              "          google.colab.kernel.accessAllowed ? 'block' : 'none';\n",
              "\n",
              "        async function convertToInteractive(key) {\n",
              "          const element = document.querySelector('#df-a80fc651-4305-415f-b683-a3ebc09a7493');\n",
              "          const dataTable =\n",
              "            await google.colab.kernel.invokeFunction('convertToInteractive',\n",
              "                                                     [key], {});\n",
              "          if (!dataTable) return;\n",
              "\n",
              "          const docLinkHtml = 'Like what you see? Visit the ' +\n",
              "            '<a target=\"_blank\" href=https://colab.research.google.com/notebooks/data_table.ipynb>data table notebook</a>'\n",
              "            + ' to learn more about interactive tables.';\n",
              "          element.innerHTML = '';\n",
              "          dataTable['output_type'] = 'display_data';\n",
              "          await google.colab.output.renderOutput(dataTable, element);\n",
              "          const docLink = document.createElement('div');\n",
              "          docLink.innerHTML = docLinkHtml;\n",
              "          element.appendChild(docLink);\n",
              "        }\n",
              "      </script>\n",
              "    </div>\n",
              "  </div>\n",
              "  "
            ]
          },
          "metadata": {},
          "execution_count": 240
        }
      ]
    },
    {
      "cell_type": "markdown",
      "metadata": {
        "id": "25nNti350v9c"
      },
      "source": [
        "####**Spiliting Dataset**\n",
        "training: 80% testing:20%"
      ]
    },
    {
      "cell_type": "code",
      "execution_count": null,
      "metadata": {
        "id": "TF_7nnjR0v9d"
      },
      "outputs": [],
      "source": [
        "x = pc1_df.iloc[:,:-1]\n",
        "y = pc1_df.iloc[:,-1]\n",
        "\n",
        "from sklearn.model_selection import train_test_split\n",
        "x_train, x_test, y_train, y_test = train_test_split(x,y,test_size=0.20,random_state=0)"
      ]
    },
    {
      "cell_type": "markdown",
      "source": [
        "###Performing SMOTE in order to balance class imbalance problem."
      ],
      "metadata": {
        "id": "Zdnpnj1fepwc"
      }
    },
    {
      "cell_type": "code",
      "source": [
        "from imblearn.over_sampling import SMOTE\n",
        "x_train, y_train = SMOTE().fit_resample(x_train, y_train)"
      ],
      "metadata": {
        "id": "9_yRBrkGepwd"
      },
      "execution_count": null,
      "outputs": []
    },
    {
      "cell_type": "code",
      "execution_count": null,
      "metadata": {
        "id": "czGS-uE9epwd"
      },
      "outputs": [],
      "source": [
        "from sklearn.preprocessing import StandardScaler    \n",
        "st_x= StandardScaler()    \n",
        "x_train= st_x.fit_transform(x_train)    \n",
        "x_test= st_x.transform(x_test)  "
      ]
    },
    {
      "cell_type": "markdown",
      "source": [
        "**Class become balanced as we can see in below class. Here we use OverSampling.**\n",
        "<br>\n",
        "Oversampling is solution to imbalanced data. Oversampling is the opposite of undersampling. Oversampling means making duplicates of the data that is the least present in our data set. We then add those duplicates to your data set."
      ],
      "metadata": {
        "id": "y5DspOh9epwd"
      }
    },
    {
      "cell_type": "code",
      "source": [
        "import seaborn as sns\n",
        "\n",
        "plt.rcParams['figure.figsize']=(12,6)\n",
        "plt.rcParams['font.size']=14\n",
        "plt.title('kc2 Dataset')\n",
        "sns.set_style(\"darkgrid\")\n",
        "\n",
        "sns.countplot(y_train);"
      ],
      "metadata": {
        "colab": {
          "base_uri": "https://localhost:8080/",
          "height": 471
        },
        "outputId": "78091372-4628-4514-9249-7da6251535a7",
        "id": "P2-BpRYVepwd"
      },
      "execution_count": null,
      "outputs": [
        {
          "output_type": "stream",
          "name": "stderr",
          "text": [
            "/usr/local/lib/python3.8/dist-packages/seaborn/_decorators.py:36: FutureWarning: Pass the following variable as a keyword arg: x. From version 0.12, the only valid positional argument will be `data`, and passing other arguments without an explicit keyword will result in an error or misinterpretation.\n",
            "  warnings.warn(\n"
          ]
        },
        {
          "output_type": "display_data",
          "data": {
            "text/plain": [
              "<Figure size 864x432 with 1 Axes>"
            ],
            "image/png": "[encoded data removed]"
          },
          "metadata": {}
        }
      ]
    },
    {
      "cell_type": "markdown",
      "metadata": {
        "id": "DDSu65FY0v9d"
      },
      "source": [
        "###**Logistic Regression**"
      ]
    },
    {
      "cell_type": "code",
      "execution_count": null,
      "metadata": {
        "colab": {
          "base_uri": "https://localhost:8080/"
        },
        "outputId": "344ee205-17a4-4304-b0df-2d5c910f448d",
        "id": "_4cxW6z30v9e"
      },
      "outputs": [
        {
          "output_type": "stream",
          "name": "stdout",
          "text": [
            "Test Accuracy Score:  0.8288288288288288\n",
            "Confusion Matrix: \n",
            " [[172  35]\n",
            " [  3  12]]\n"
          ]
        }
      ],
      "source": [
        "from sklearn.linear_model import LogisticRegression  \n",
        "classifier= LogisticRegression(random_state=0)  \n",
        "classifier.fit(x_train, y_train) \n",
        "\n",
        "y_pred= classifier.predict(x_test)\n",
        "\n",
        "score_ = accuracy_score(y_test, y_pred)\n",
        "print(\"Test Accuracy Score: \", score_)\n",
        "\n",
        "from sklearn.metrics import confusion_matrix  \n",
        "cm= confusion_matrix(y_test,y_pred)\n",
        "print(\"Confusion Matrix: \\n\",cm)"
      ]
    },
    {
      "cell_type": "code",
      "source": [
        "from sklearn.metrics import confusion_matrix\n",
        "tn, fp, fn, tp = confusion_matrix(y_test,y_pred).ravel()\n",
        "print('True negatives: ', tn, '\\nFalse positives: ', fp, '\\nFalse negatives: ', fn, '\\nTrue Positives: ', tp)\n"
      ],
      "metadata": {
        "colab": {
          "base_uri": "https://localhost:8080/"
        },
        "outputId": "e4bef809-5a88-40d8-a840-846e5f3905ea",
        "id": "XopISFVThUT_"
      },
      "execution_count": null,
      "outputs": [
        {
          "output_type": "stream",
          "name": "stdout",
          "text": [
            "True negatives:  172 \n",
            "False positives:  35 \n",
            "False negatives:  3 \n",
            "True Positives:  12\n"
          ]
        }
      ]
    },
    {
      "cell_type": "code",
      "source": [
        "from sklearn.metrics import classification_report\n",
        "print(classification_report(y_test, y_pred))"
      ],
      "metadata": {
        "colab": {
          "base_uri": "https://localhost:8080/"
        },
        "outputId": "6b314be3-7c79-449c-e452-f5c638dfb27a",
        "id": "Yhfs6PLpid5J"
      },
      "execution_count": null,
      "outputs": [
        {
          "output_type": "stream",
          "name": "stdout",
          "text": [
            "              precision    recall  f1-score   support\n",
            "\n",
            "       False       0.98      0.83      0.90       207\n",
            "        True       0.26      0.80      0.39        15\n",
            "\n",
            "    accuracy                           0.83       222\n",
            "   macro avg       0.62      0.82      0.64       222\n",
            "weighted avg       0.93      0.83      0.87       222\n",
            "\n"
          ]
        }
      ]
    },
    {
      "cell_type": "markdown",
      "metadata": {
        "id": "cj2F98bh0v9e"
      },
      "source": [
        "###**Support Vector Machine Algorithm**"
      ]
    },
    {
      "cell_type": "code",
      "execution_count": null,
      "metadata": {
        "colab": {
          "base_uri": "https://localhost:8080/"
        },
        "outputId": "85c0a158-09f9-4286-9b86-5f5c6b1bff6d",
        "id": "PlGmWOKL0v9e"
      },
      "outputs": [
        {
          "output_type": "execute_result",
          "data": {
            "text/plain": [
              "SVC(kernel='linear', random_state=0)"
            ]
          },
          "metadata": {},
          "execution_count": 248
        }
      ],
      "source": [
        "from sklearn.svm import SVC # \"Support vector classifier\"  \n",
        "classifier = SVC(kernel='linear', random_state=0)  \n",
        "classifier.fit(x_train, y_train)  "
      ]
    },
    {
      "cell_type": "code",
      "execution_count": null,
      "metadata": {
        "id": "p2nF7MLz0v9f"
      },
      "outputs": [],
      "source": [
        "#Predicting the test set result  \n",
        "y_pred= classifier.predict(x_test)  "
      ]
    },
    {
      "cell_type": "code",
      "execution_count": null,
      "metadata": {
        "colab": {
          "base_uri": "https://localhost:8080/"
        },
        "outputId": "643a72e3-581e-431b-c7be-955bc0870409",
        "id": "HexmcA3l0v9f"
      },
      "outputs": [
        {
          "output_type": "stream",
          "name": "stdout",
          "text": [
            "[[161  46]\n",
            " [  5  10]]\n"
          ]
        }
      ],
      "source": [
        "from sklearn.metrics import confusion_matrix  \n",
        "cm= confusion_matrix(y_test, y_pred)  \n",
        "print(cm)"
      ]
    },
    {
      "cell_type": "code",
      "source": [
        "from sklearn.metrics import confusion_matrix\n",
        "tn, fp, fn, tp = confusion_matrix(y_test,y_pred).ravel()\n",
        "print('True negatives: ', tn, '\\nFalse positives: ', fp, '\\nFalse negatives: ', fn, '\\nTrue Positives: ', tp)\n"
      ],
      "metadata": {
        "colab": {
          "base_uri": "https://localhost:8080/"
        },
        "outputId": "f4464ce7-c4f9-49ab-9daa-9ff6c84fddc1",
        "id": "vuZQ3N16hVhW"
      },
      "execution_count": null,
      "outputs": [
        {
          "output_type": "stream",
          "name": "stdout",
          "text": [
            "True negatives:  161 \n",
            "False positives:  46 \n",
            "False negatives:  5 \n",
            "True Positives:  10\n"
          ]
        }
      ]
    },
    {
      "cell_type": "code",
      "execution_count": null,
      "metadata": {
        "colab": {
          "base_uri": "https://localhost:8080/"
        },
        "outputId": "3560d83c-5768-465e-e29f-5a2d129c1771",
        "id": "848fk2gQ0v9g"
      },
      "outputs": [
        {
          "output_type": "stream",
          "name": "stdout",
          "text": [
            "Test Accuracy Score:  0.7702702702702703\n"
          ]
        }
      ],
      "source": [
        "score_ = accuracy_score(y_test, y_pred)\n",
        "print(\"Test Accuracy Score: \", score_)"
      ]
    },
    {
      "cell_type": "code",
      "source": [
        "from sklearn.metrics import classification_report\n",
        "print(classification_report(y_test, y_pred))"
      ],
      "metadata": {
        "colab": {
          "base_uri": "https://localhost:8080/"
        },
        "outputId": "a9c7d82f-5080-4d25-9379-8c7880938483",
        "id": "wlPe5Ad_ifm-"
      },
      "execution_count": null,
      "outputs": [
        {
          "output_type": "stream",
          "name": "stdout",
          "text": [
            "              precision    recall  f1-score   support\n",
            "\n",
            "       False       0.97      0.78      0.86       207\n",
            "        True       0.18      0.67      0.28        15\n",
            "\n",
            "    accuracy                           0.77       222\n",
            "   macro avg       0.57      0.72      0.57       222\n",
            "weighted avg       0.92      0.77      0.82       222\n",
            "\n"
          ]
        }
      ]
    },
    {
      "cell_type": "markdown",
      "metadata": {
        "id": "h3MiUbhE0v9h"
      },
      "source": [
        "##**Decision Tree Algorithm**"
      ]
    },
    {
      "cell_type": "code",
      "execution_count": null,
      "metadata": {
        "colab": {
          "base_uri": "https://localhost:8080/"
        },
        "outputId": "3c09d9bb-a404-4709-91ca-355f01e7320f",
        "id": "0mLWudsg0v9h"
      },
      "outputs": [
        {
          "output_type": "execute_result",
          "data": {
            "text/plain": [
              "DecisionTreeClassifier(criterion='entropy', random_state=0)"
            ]
          },
          "metadata": {},
          "execution_count": 254
        }
      ],
      "source": [
        "from sklearn.tree import DecisionTreeClassifier  \n",
        "classifier= DecisionTreeClassifier(criterion='entropy', random_state=0)  \n",
        "classifier.fit(x_train, y_train)  "
      ]
    },
    {
      "cell_type": "code",
      "execution_count": null,
      "metadata": {
        "id": "LF5tzp6s0v9h"
      },
      "outputs": [],
      "source": [
        "#Predicting the test set result  \n",
        "y_pred= classifier.predict(x_test)  "
      ]
    },
    {
      "cell_type": "code",
      "execution_count": null,
      "metadata": {
        "colab": {
          "base_uri": "https://localhost:8080/"
        },
        "outputId": "34f90d9c-36d3-434a-b004-80d4cd9a092b",
        "id": "7VRld2Gq0v9h"
      },
      "outputs": [
        {
          "output_type": "stream",
          "name": "stdout",
          "text": [
            "[[189  18]\n",
            " [  7   8]]\n"
          ]
        }
      ],
      "source": [
        "#Creating the Confusion matrix  \n",
        "from sklearn.metrics import confusion_matrix  \n",
        "cm= confusion_matrix(y_test, y_pred) \n",
        "print(cm)"
      ]
    },
    {
      "cell_type": "code",
      "source": [
        "from sklearn.metrics import confusion_matrix\n",
        "tn, fp, fn, tp = confusion_matrix(y_test,y_pred).ravel()\n",
        "print('True negatives: ', tn, '\\nFalse positives: ', fp, '\\nFalse negatives: ', fn, '\\nTrue Positives: ', tp)\n"
      ],
      "metadata": {
        "colab": {
          "base_uri": "https://localhost:8080/"
        },
        "outputId": "473b8477-c45a-447f-a520-b5a4c2ae28a0",
        "id": "GUw5qBcmhWjS"
      },
      "execution_count": null,
      "outputs": [
        {
          "output_type": "stream",
          "name": "stdout",
          "text": [
            "True negatives:  189 \n",
            "False positives:  18 \n",
            "False negatives:  7 \n",
            "True Positives:  8\n"
          ]
        }
      ]
    },
    {
      "cell_type": "code",
      "execution_count": null,
      "metadata": {
        "colab": {
          "base_uri": "https://localhost:8080/"
        },
        "outputId": "be1d4544-a509-48fc-e98f-0a00cd67e02a",
        "id": "JkIdduZQ0v9i"
      },
      "outputs": [
        {
          "output_type": "stream",
          "name": "stdout",
          "text": [
            "Test Accuracy Score:  0.8873873873873874\n"
          ]
        }
      ],
      "source": [
        "score_ = accuracy_score(y_test, y_pred)\n",
        "print(\"Test Accuracy Score: \", score_)"
      ]
    },
    {
      "cell_type": "code",
      "source": [
        "from sklearn.metrics import classification_report\n",
        "print(classification_report(y_test, y_pred))"
      ],
      "metadata": {
        "colab": {
          "base_uri": "https://localhost:8080/"
        },
        "outputId": "67ce92a7-46f5-40af-eb7b-10d7668c5477",
        "id": "lXVR7s-cigrA"
      },
      "execution_count": null,
      "outputs": [
        {
          "output_type": "stream",
          "name": "stdout",
          "text": [
            "              precision    recall  f1-score   support\n",
            "\n",
            "       False       0.96      0.91      0.94       207\n",
            "        True       0.31      0.53      0.39        15\n",
            "\n",
            "    accuracy                           0.89       222\n",
            "   macro avg       0.64      0.72      0.66       222\n",
            "weighted avg       0.92      0.89      0.90       222\n",
            "\n"
          ]
        }
      ]
    },
    {
      "cell_type": "markdown",
      "metadata": {
        "id": "5ZGpvhiG0v9i"
      },
      "source": [
        "##**Random Forest**"
      ]
    },
    {
      "cell_type": "code",
      "execution_count": null,
      "metadata": {
        "colab": {
          "base_uri": "https://localhost:8080/"
        },
        "outputId": "6feece96-7dd6-477a-8858-d2793646f94c",
        "id": "btCaybrP0v9i"
      },
      "outputs": [
        {
          "output_type": "execute_result",
          "data": {
            "text/plain": [
              "RandomForestClassifier(criterion='entropy', n_estimators=10)"
            ]
          },
          "metadata": {},
          "execution_count": 260
        }
      ],
      "source": [
        "#Fitting Decision Tree classifier to the training set  \n",
        "from sklearn.ensemble import RandomForestClassifier  \n",
        "classifier= RandomForestClassifier(n_estimators= 10, criterion=\"entropy\")  \n",
        "classifier.fit(x_train, y_train)  "
      ]
    },
    {
      "cell_type": "code",
      "execution_count": null,
      "metadata": {
        "id": "7tVnJT-E0v9i"
      },
      "outputs": [],
      "source": [
        "#Predicting the test set result  \n",
        "y_pred= classifier.predict(x_test)  "
      ]
    },
    {
      "cell_type": "code",
      "execution_count": null,
      "metadata": {
        "colab": {
          "base_uri": "https://localhost:8080/"
        },
        "outputId": "a0e43d00-bea5-48d2-ea40-9a7f9e4485b1",
        "id": "Tbz2NdBz0v9j"
      },
      "outputs": [
        {
          "output_type": "stream",
          "name": "stdout",
          "text": [
            "[[203   4]\n",
            " [ 11   4]]\n"
          ]
        }
      ],
      "source": [
        "#Creating the Confusion matrix  \n",
        "from sklearn.metrics import confusion_matrix  \n",
        "cm= confusion_matrix(y_test, y_pred)  \n",
        "print(cm)"
      ]
    },
    {
      "cell_type": "code",
      "source": [
        "from sklearn.metrics import confusion_matrix\n",
        "tn, fp, fn, tp = confusion_matrix(y_test,y_pred).ravel()\n",
        "print('True negatives: ', tn, '\\nFalse positives: ', fp, '\\nFalse negatives: ', fn, '\\nTrue Positives: ', tp)\n"
      ],
      "metadata": {
        "colab": {
          "base_uri": "https://localhost:8080/"
        },
        "outputId": "ee504bdd-fd6b-4634-ba87-57f11a067d28",
        "id": "mt2wYQP8hXm_"
      },
      "execution_count": null,
      "outputs": [
        {
          "output_type": "stream",
          "name": "stdout",
          "text": [
            "True negatives:  203 \n",
            "False positives:  4 \n",
            "False negatives:  11 \n",
            "True Positives:  4\n"
          ]
        }
      ]
    },
    {
      "cell_type": "code",
      "execution_count": null,
      "metadata": {
        "colab": {
          "base_uri": "https://localhost:8080/"
        },
        "outputId": "75edd960-60f1-4a17-cdc9-676668c59d6a",
        "id": "bIWCcwfV0v9j"
      },
      "outputs": [
        {
          "output_type": "stream",
          "name": "stdout",
          "text": [
            "Test Accuracy Score:  0.9324324324324325\n"
          ]
        }
      ],
      "source": [
        "score_ = accuracy_score(y_test, y_pred)\n",
        "print(\"Test Accuracy Score: \", score_)"
      ]
    },
    {
      "cell_type": "code",
      "source": [
        "from sklearn.metrics import classification_report\n",
        "print(classification_report(y_test, y_pred))"
      ],
      "metadata": {
        "colab": {
          "base_uri": "https://localhost:8080/"
        },
        "outputId": "934a41b4-edc8-4804-89fb-5937bef3ca0b",
        "id": "57vmL19SihrI"
      },
      "execution_count": null,
      "outputs": [
        {
          "output_type": "stream",
          "name": "stdout",
          "text": [
            "              precision    recall  f1-score   support\n",
            "\n",
            "       False       0.95      0.98      0.96       207\n",
            "        True       0.50      0.27      0.35        15\n",
            "\n",
            "    accuracy                           0.93       222\n",
            "   macro avg       0.72      0.62      0.66       222\n",
            "weighted avg       0.92      0.93      0.92       222\n",
            "\n"
          ]
        }
      ]
    },
    {
      "cell_type": "markdown",
      "metadata": {
        "id": "oRG7LuzP0v9j"
      },
      "source": [
        "##**Bagging**"
      ]
    },
    {
      "cell_type": "code",
      "execution_count": null,
      "metadata": {
        "colab": {
          "base_uri": "https://localhost:8080/"
        },
        "outputId": "7465f0df-9309-408b-977e-3b67d1fdaf27",
        "id": "a-804rJc0v9j"
      },
      "outputs": [
        {
          "output_type": "execute_result",
          "data": {
            "text/plain": [
              "DecisionTreeClassifier(random_state=21)"
            ]
          },
          "metadata": {},
          "execution_count": 266
        }
      ],
      "source": [
        "from sklearn.tree import DecisionTreeClassifier\n",
        "dtree = DecisionTreeClassifier(random_state=21)\n",
        "dtree.fit(x_train,y_train)"
      ]
    },
    {
      "cell_type": "code",
      "execution_count": null,
      "metadata": {
        "colab": {
          "base_uri": "https://localhost:8080/"
        },
        "outputId": "3f027aa4-4a57-49d2-da64-2e21475c2a95",
        "id": "aQOCiDvtgXkL"
      },
      "outputs": [
        {
          "output_type": "stream",
          "name": "stdout",
          "text": [
            "[[203   4]\n",
            " [ 11   4]]\n"
          ]
        }
      ],
      "source": [
        "from sklearn.metrics import confusion_matrix  \n",
        "cm= confusion_matrix(y_test, y_pred)  \n",
        "print(cm)"
      ]
    },
    {
      "cell_type": "code",
      "source": [
        "from sklearn.metrics import confusion_matrix\n",
        "tn, fp, fn, tp = confusion_matrix(y_test,y_pred).ravel()\n",
        "print('True negatives: ', tn, '\\nFalse positives: ', fp, '\\nFalse negatives: ', fn, '\\nTrue Positives: ', tp)\n"
      ],
      "metadata": {
        "colab": {
          "base_uri": "https://localhost:8080/"
        },
        "outputId": "03887882-1317-4a33-c866-a1da25ced07d",
        "id": "trW6yYtxhYl8"
      },
      "execution_count": null,
      "outputs": [
        {
          "output_type": "stream",
          "name": "stdout",
          "text": [
            "True negatives:  203 \n",
            "False positives:  4 \n",
            "False negatives:  11 \n",
            "True Positives:  4\n"
          ]
        }
      ]
    },
    {
      "cell_type": "code",
      "execution_count": null,
      "metadata": {
        "colab": {
          "base_uri": "https://localhost:8080/"
        },
        "outputId": "b6351d5c-d350-4151-a94a-8635d4a8423c",
        "id": "WcxiBlXe0v9k"
      },
      "outputs": [
        {
          "output_type": "stream",
          "name": "stdout",
          "text": [
            "Train data accuracy: 0.9981796116504854\n",
            "Test data accuracy: 0.8603603603603603\n"
          ]
        }
      ],
      "source": [
        "y_pred = dtree.predict(x_test)\n",
        "\n",
        "print(\"Train data accuracy:\",accuracy_score(y_true = y_train, y_pred = dtree.predict(x_train)))\n",
        "print(\"Test data accuracy:\",accuracy_score(y_true = y_test, y_pred = y_pred))"
      ]
    },
    {
      "cell_type": "code",
      "source": [
        "from sklearn.metrics import classification_report\n",
        "print(classification_report(y_test, y_pred))"
      ],
      "metadata": {
        "colab": {
          "base_uri": "https://localhost:8080/"
        },
        "outputId": "0d00faae-b8a4-4db4-ff92-e889e6fd455f",
        "id": "InYfcksJiits"
      },
      "execution_count": null,
      "outputs": [
        {
          "output_type": "stream",
          "name": "stdout",
          "text": [
            "              precision    recall  f1-score   support\n",
            "\n",
            "       False       0.95      0.89      0.92       207\n",
            "        True       0.21      0.40      0.28        15\n",
            "\n",
            "    accuracy                           0.86       222\n",
            "   macro avg       0.58      0.65      0.60       222\n",
            "weighted avg       0.90      0.86      0.88       222\n",
            "\n"
          ]
        }
      ]
    },
    {
      "cell_type": "markdown",
      "source": [
        "#**jm1**"
      ],
      "metadata": {
        "id": "rUKXgsJX07xx"
      }
    },
    {
      "cell_type": "code",
      "source": [
        "jm1_df"
      ],
      "metadata": {
        "colab": {
          "base_uri": "https://localhost:8080/",
          "height": 487
        },
        "id": "kOxN4-OL0_FB",
        "outputId": "a067d31e-7a54-4da6-dc30-5755c3fda28d"
      },
      "execution_count": null,
      "outputs": [
        {
          "output_type": "execute_result",
          "data": {
            "text/plain": [
              "       l_count  cyclomatic_complexity  essential_complexity  \\\n",
              "0            1                      1                     1   \n",
              "1           72                      7                     1   \n",
              "2          190                      3                     1   \n",
              "3           37                      4                     1   \n",
              "4           31                      2                     1   \n",
              "...        ...                    ...                   ...   \n",
              "10879       18                      4                     1   \n",
              "10880        9                      2                     1   \n",
              "10881       42                      4                     1   \n",
              "10882       10                      1                     1   \n",
              "10883       19                      3                     1   \n",
              "\n",
              "       design_complexity    n        v     l      d       i         e  ...  \\\n",
              "0                      1    1     1.00  1.00   1.00    1.00      1.00  ...   \n",
              "1                      6  198  1134.13  0.05  20.31   55.85  23029.10  ...   \n",
              "2                      3  600  4348.76  0.06  17.06  254.87  74202.67  ...   \n",
              "3                      4  126   599.12  0.06  17.19   34.86  10297.30  ...   \n",
              "4                      2  111   582.52  0.08  12.25   47.55   7135.87  ...   \n",
              "...                  ...  ...      ...   ...    ...     ...       ...  ...   \n",
              "10879                  4   52   241.48  0.14   7.33   32.93   1770.86  ...   \n",
              "10880                  2   30   129.66  0.12   8.25   15.72   1069.68  ...   \n",
              "10881                  2  103   519.57  0.04  26.40   19.68  13716.72  ...   \n",
              "10882                  1   36   147.15  0.12   8.44   17.44   1241.57  ...   \n",
              "10883                  1   58   272.63  0.09  11.57   23.56   3154.67  ...   \n",
              "\n",
              "       lOCode  lOComment  lOBlank  lOCodeAndComment  uniq_Op  uniq_Opnd  \\\n",
              "0           1          1        1                 1        1          1   \n",
              "1          51         10        8                 1       17         36   \n",
              "2         129         29       28                 2       17        135   \n",
              "3          28          1        6                 0       11         16   \n",
              "4          19          0        5                 0       14         24   \n",
              "...       ...        ...      ...               ...      ...        ...   \n",
              "10879      13          0        2                 0       10         15   \n",
              "10880       5          0        2                 0       12          8   \n",
              "10881      29          1       10                 0       18         15   \n",
              "10882       6          0        2                 0        9          8   \n",
              "10883      13          0        2                 1       12         14   \n",
              "\n",
              "       total_Op  total_Opnd  branchCount  problems  \n",
              "0             1           1            1      True  \n",
              "1           112          86           13      True  \n",
              "2           329         271            5      True  \n",
              "3            76          50            7      True  \n",
              "4            69          42            3      True  \n",
              "...         ...         ...          ...       ...  \n",
              "10879        30          22            7     False  \n",
              "10880        19          11            3     False  \n",
              "10881        59          44            7     False  \n",
              "10882        21          15            1     False  \n",
              "10883        31          27            5     False  \n",
              "\n",
              "[10879 rows x 22 columns]"
            ],
            "text/html": [
              "\n",
              "  <div id=\"df-90447cc5-7735-486f-aa83-9ebb4473af1d\">\n",
              "    <div class=\"colab-df-container\">\n",
              "      <div>\n",
              "<style scoped>\n",
              "    .dataframe tbody tr th:only-of-type {\n",
              "        vertical-align: middle;\n",
              "    }\n",
              "\n",
              "    .dataframe tbody tr th {\n",
              "        vertical-align: top;\n",
              "    }\n",
              "\n",
              "    .dataframe thead th {\n",
              "        text-align: right;\n",
              "    }\n",
              "</style>\n",
              "<table border=\"1\" class=\"dataframe\">\n",
              "  <thead>\n",
              "    <tr style=\"text-align: right;\">\n",
              "      <th></th>\n",
              "      <th>l_count</th>\n",
              "      <th>cyclomatic_complexity</th>\n",
              "      <th>essential_complexity</th>\n",
              "      <th>design_complexity</th>\n",
              "      <th>n</th>\n",
              "      <th>v</th>\n",
              "      <th>l</th>\n",
              "      <th>d</th>\n",
              "      <th>i</th>\n",
              "      <th>e</th>\n",
              "      <th>...</th>\n",
              "      <th>lOCode</th>\n",
              "      <th>lOComment</th>\n",
              "      <th>lOBlank</th>\n",
              "      <th>lOCodeAndComment</th>\n",
              "      <th>uniq_Op</th>\n",
              "      <th>uniq_Opnd</th>\n",
              "      <th>total_Op</th>\n",
              "      <th>total_Opnd</th>\n",
              "      <th>branchCount</th>\n",
              "      <th>problems</th>\n",
              "    </tr>\n",
              "  </thead>\n",
              "  <tbody>\n",
              "    <tr>\n",
              "      <th>0</th>\n",
              "      <td>1</td>\n",
              "      <td>1</td>\n",
              "      <td>1</td>\n",
              "      <td>1</td>\n",
              "      <td>1</td>\n",
              "      <td>1.00</td>\n",
              "      <td>1.00</td>\n",
              "      <td>1.00</td>\n",
              "      <td>1.00</td>\n",
              "      <td>1.00</td>\n",
              "      <td>...</td>\n",
              "      <td>1</td>\n",
              "      <td>1</td>\n",
              "      <td>1</td>\n",
              "      <td>1</td>\n",
              "      <td>1</td>\n",
              "      <td>1</td>\n",
              "      <td>1</td>\n",
              "      <td>1</td>\n",
              "      <td>1</td>\n",
              "      <td>True</td>\n",
              "    </tr>\n",
              "    <tr>\n",
              "      <th>1</th>\n",
              "      <td>72</td>\n",
              "      <td>7</td>\n",
              "      <td>1</td>\n",
              "      <td>6</td>\n",
              "      <td>198</td>\n",
              "      <td>1134.13</td>\n",
              "      <td>0.05</td>\n",
              "      <td>20.31</td>\n",
              "      <td>55.85</td>\n",
              "      <td>23029.10</td>\n",
              "      <td>...</td>\n",
              "      <td>51</td>\n",
              "      <td>10</td>\n",
              "      <td>8</td>\n",
              "      <td>1</td>\n",
              "      <td>17</td>\n",
              "      <td>36</td>\n",
              "      <td>112</td>\n",
              "      <td>86</td>\n",
              "      <td>13</td>\n",
              "      <td>True</td>\n",
              "    </tr>\n",
              "    <tr>\n",
              "      <th>2</th>\n",
              "      <td>190</td>\n",
              "      <td>3</td>\n",
              "      <td>1</td>\n",
              "      <td>3</td>\n",
              "      <td>600</td>\n",
              "      <td>4348.76</td>\n",
              "      <td>0.06</td>\n",
              "      <td>17.06</td>\n",
              "      <td>254.87</td>\n",
              "      <td>74202.67</td>\n",
              "      <td>...</td>\n",
              "      <td>129</td>\n",
              "      <td>29</td>\n",
              "      <td>28</td>\n",
              "      <td>2</td>\n",
              "      <td>17</td>\n",
              "      <td>135</td>\n",
              "      <td>329</td>\n",
              "      <td>271</td>\n",
              "      <td>5</td>\n",
              "      <td>True</td>\n",
              "    </tr>\n",
              "    <tr>\n",
              "      <th>3</th>\n",
              "      <td>37</td>\n",
              "      <td>4</td>\n",
              "      <td>1</td>\n",
              "      <td>4</td>\n",
              "      <td>126</td>\n",
              "      <td>599.12</td>\n",
              "      <td>0.06</td>\n",
              "      <td>17.19</td>\n",
              "      <td>34.86</td>\n",
              "      <td>10297.30</td>\n",
              "      <td>...</td>\n",
              "      <td>28</td>\n",
              "      <td>1</td>\n",
              "      <td>6</td>\n",
              "      <td>0</td>\n",
              "      <td>11</td>\n",
              "      <td>16</td>\n",
              "      <td>76</td>\n",
              "      <td>50</td>\n",
              "      <td>7</td>\n",
              "      <td>True</td>\n",
              "    </tr>\n",
              "    <tr>\n",
              "      <th>4</th>\n",
              "      <td>31</td>\n",
              "      <td>2</td>\n",
              "      <td>1</td>\n",
              "      <td>2</td>\n",
              "      <td>111</td>\n",
              "      <td>582.52</td>\n",
              "      <td>0.08</td>\n",
              "      <td>12.25</td>\n",
              "      <td>47.55</td>\n",
              "      <td>7135.87</td>\n",
              "      <td>...</td>\n",
              "      <td>19</td>\n",
              "      <td>0</td>\n",
              "      <td>5</td>\n",
              "      <td>0</td>\n",
              "      <td>14</td>\n",
              "      <td>24</td>\n",
              "      <td>69</td>\n",
              "      <td>42</td>\n",
              "      <td>3</td>\n",
              "      <td>True</td>\n",
              "    </tr>\n",
              "    <tr>\n",
              "      <th>...</th>\n",
              "      <td>...</td>\n",
              "      <td>...</td>\n",
              "      <td>...</td>\n",
              "      <td>...</td>\n",
              "      <td>...</td>\n",
              "      <td>...</td>\n",
              "      <td>...</td>\n",
              "      <td>...</td>\n",
              "      <td>...</td>\n",
              "      <td>...</td>\n",
              "      <td>...</td>\n",
              "      <td>...</td>\n",
              "      <td>...</td>\n",
              "      <td>...</td>\n",
              "      <td>...</td>\n",
              "      <td>...</td>\n",
              "      <td>...</td>\n",
              "      <td>...</td>\n",
              "      <td>...</td>\n",
              "      <td>...</td>\n",
              "      <td>...</td>\n",
              "    </tr>\n",
              "    <tr>\n",
              "      <th>10879</th>\n",
              "      <td>18</td>\n",
              "      <td>4</td>\n",
              "      <td>1</td>\n",
              "      <td>4</td>\n",
              "      <td>52</td>\n",
              "      <td>241.48</td>\n",
              "      <td>0.14</td>\n",
              "      <td>7.33</td>\n",
              "      <td>32.93</td>\n",
              "      <td>1770.86</td>\n",
              "      <td>...</td>\n",
              "      <td>13</td>\n",
              "      <td>0</td>\n",
              "      <td>2</td>\n",
              "      <td>0</td>\n",
              "      <td>10</td>\n",
              "      <td>15</td>\n",
              "      <td>30</td>\n",
              "      <td>22</td>\n",
              "      <td>7</td>\n",
              "      <td>False</td>\n",
              "    </tr>\n",
              "    <tr>\n",
              "      <th>10880</th>\n",
              "      <td>9</td>\n",
              "      <td>2</td>\n",
              "      <td>1</td>\n",
              "      <td>2</td>\n",
              "      <td>30</td>\n",
              "      <td>129.66</td>\n",
              "      <td>0.12</td>\n",
              "      <td>8.25</td>\n",
              "      <td>15.72</td>\n",
              "      <td>1069.68</td>\n",
              "      <td>...</td>\n",
              "      <td>5</td>\n",
              "      <td>0</td>\n",
              "      <td>2</td>\n",
              "      <td>0</td>\n",
              "      <td>12</td>\n",
              "      <td>8</td>\n",
              "      <td>19</td>\n",
              "      <td>11</td>\n",
              "      <td>3</td>\n",
              "      <td>False</td>\n",
              "    </tr>\n",
              "    <tr>\n",
              "      <th>10881</th>\n",
              "      <td>42</td>\n",
              "      <td>4</td>\n",
              "      <td>1</td>\n",
              "      <td>2</td>\n",
              "      <td>103</td>\n",
              "      <td>519.57</td>\n",
              "      <td>0.04</td>\n",
              "      <td>26.40</td>\n",
              "      <td>19.68</td>\n",
              "      <td>13716.72</td>\n",
              "      <td>...</td>\n",
              "      <td>29</td>\n",
              "      <td>1</td>\n",
              "      <td>10</td>\n",
              "      <td>0</td>\n",
              "      <td>18</td>\n",
              "      <td>15</td>\n",
              "      <td>59</td>\n",
              "      <td>44</td>\n",
              "      <td>7</td>\n",
              "      <td>False</td>\n",
              "    </tr>\n",
              "    <tr>\n",
              "      <th>10882</th>\n",
              "      <td>10</td>\n",
              "      <td>1</td>\n",
              "      <td>1</td>\n",
              "      <td>1</td>\n",
              "      <td>36</td>\n",
              "      <td>147.15</td>\n",
              "      <td>0.12</td>\n",
              "      <td>8.44</td>\n",
              "      <td>17.44</td>\n",
              "      <td>1241.57</td>\n",
              "      <td>...</td>\n",
              "      <td>6</td>\n",
              "      <td>0</td>\n",
              "      <td>2</td>\n",
              "      <td>0</td>\n",
              "      <td>9</td>\n",
              "      <td>8</td>\n",
              "      <td>21</td>\n",
              "      <td>15</td>\n",
              "      <td>1</td>\n",
              "      <td>False</td>\n",
              "    </tr>\n",
              "    <tr>\n",
              "      <th>10883</th>\n",
              "      <td>19</td>\n",
              "      <td>3</td>\n",
              "      <td>1</td>\n",
              "      <td>1</td>\n",
              "      <td>58</td>\n",
              "      <td>272.63</td>\n",
              "      <td>0.09</td>\n",
              "      <td>11.57</td>\n",
              "      <td>23.56</td>\n",
              "      <td>3154.67</td>\n",
              "      <td>...</td>\n",
              "      <td>13</td>\n",
              "      <td>0</td>\n",
              "      <td>2</td>\n",
              "      <td>1</td>\n",
              "      <td>12</td>\n",
              "      <td>14</td>\n",
              "      <td>31</td>\n",
              "      <td>27</td>\n",
              "      <td>5</td>\n",
              "      <td>False</td>\n",
              "    </tr>\n",
              "  </tbody>\n",
              "</table>\n",
              "<p>10879 rows × 22 columns</p>\n",
              "</div>\n",
              "      <button class=\"colab-df-convert\" onclick=\"convertToInteractive('df-90447cc5-7735-486f-aa83-9ebb4473af1d')\"\n",
              "              title=\"Convert this dataframe to an interactive table.\"\n",
              "              style=\"display:none;\">\n",
              "        \n",
              "  <svg xmlns=\"http://www.w3.org/2000/svg\" height=\"24px\"viewBox=\"0 0 24 24\"\n",
              "       width=\"24px\">\n",
              "    <path d=\"M0 0h24v24H0V0z\" fill=\"none\"/>\n",
              "    <path d=\"M18.56 5.44l.94 2.06.94-2.06 2.06-.94-2.06-.94-.94-2.06-.94 2.06-2.06.94zm-11 1L8.5 8.5l.94-2.06 2.06-.94-2.06-.94L8.5 2.5l-.94 2.06-2.06.94zm10 10l.94 2.06.94-2.06 2.06-.94-2.06-.94-.94-2.06-.94 2.06-2.06.94z\"/><path d=\"M17.41 7.96l-1.37-1.37c-.4-.4-.92-.59-1.43-.59-.52 0-1.04.2-1.43.59L10.3 9.45l-7.72 7.72c-.78.78-.78 2.05 0 2.83L4 21.41c.39.39.9.59 1.41.59.51 0 1.02-.2 1.41-.59l7.78-7.78 2.81-2.81c.8-.78.8-2.07 0-2.86zM5.41 20L4 18.59l7.72-7.72 1.47 1.35L5.41 20z\"/>\n",
              "  </svg>\n",
              "      </button>\n",
              "      \n",
              "  <style>\n",
              "    .colab-df-container {\n",
              "      display:flex;\n",
              "      flex-wrap:wrap;\n",
              "      gap: 12px;\n",
              "    }\n",
              "\n",
              "    .colab-df-convert {\n",
              "      background-color: #E8F0FE;\n",
              "      border: none;\n",
              "      border-radius: 50%;\n",
              "      cursor: pointer;\n",
              "      display: none;\n",
              "      fill: #1967D2;\n",
              "      height: 32px;\n",
              "      padding: 0 0 0 0;\n",
              "      width: 32px;\n",
              "    }\n",
              "\n",
              "    .colab-df-convert:hover {\n",
              "      background-color: #E2EBFA;\n",
              "      box-shadow: 0px 1px 2px rgba(60, 64, 67, 0.3), 0px 1px 3px 1px rgba(60, 64, 67, 0.15);\n",
              "      fill: #174EA6;\n",
              "    }\n",
              "\n",
              "    [theme=dark] .colab-df-convert {\n",
              "      background-color: #3B4455;\n",
              "      fill: #D2E3FC;\n",
              "    }\n",
              "\n",
              "    [theme=dark] .colab-df-convert:hover {\n",
              "      background-color: #434B5C;\n",
              "      box-shadow: 0px 1px 3px 1px rgba(0, 0, 0, 0.15);\n",
              "      filter: drop-shadow(0px 1px 2px rgba(0, 0, 0, 0.3));\n",
              "      fill: #FFFFFF;\n",
              "    }\n",
              "  </style>\n",
              "\n",
              "      <script>\n",
              "        const buttonEl =\n",
              "          document.querySelector('#df-90447cc5-7735-486f-aa83-9ebb4473af1d button.colab-df-convert');\n",
              "        buttonEl.style.display =\n",
              "          google.colab.kernel.accessAllowed ? 'block' : 'none';\n",
              "\n",
              "        async function convertToInteractive(key) {\n",
              "          const element = document.querySelector('#df-90447cc5-7735-486f-aa83-9ebb4473af1d');\n",
              "          const dataTable =\n",
              "            await google.colab.kernel.invokeFunction('convertToInteractive',\n",
              "                                                     [key], {});\n",
              "          if (!dataTable) return;\n",
              "\n",
              "          const docLinkHtml = 'Like what you see? Visit the ' +\n",
              "            '<a target=\"_blank\" href=https://colab.research.google.com/notebooks/data_table.ipynb>data table notebook</a>'\n",
              "            + ' to learn more about interactive tables.';\n",
              "          element.innerHTML = '';\n",
              "          dataTable['output_type'] = 'display_data';\n",
              "          await google.colab.output.renderOutput(dataTable, element);\n",
              "          const docLink = document.createElement('div');\n",
              "          docLink.innerHTML = docLinkHtml;\n",
              "          element.appendChild(docLink);\n",
              "        }\n",
              "      </script>\n",
              "    </div>\n",
              "  </div>\n",
              "  "
            ]
          },
          "metadata": {},
          "execution_count": 271
        }
      ]
    },
    {
      "cell_type": "markdown",
      "metadata": {
        "id": "0F8AtGId1BHK"
      },
      "source": [
        "####**Spiliting Dataset**\n",
        "training: 80% testing:20%"
      ]
    },
    {
      "cell_type": "code",
      "execution_count": null,
      "metadata": {
        "id": "EfeQ_ez31BHM"
      },
      "outputs": [],
      "source": [
        "x = jm1_df.iloc[:,:-1]\n",
        "y = jm1_df.iloc[:,-1]\n",
        "\n",
        "from sklearn.model_selection import train_test_split\n",
        "x_train, x_test, y_train, y_test = train_test_split(x,y,test_size=0.20,random_state=0)"
      ]
    },
    {
      "cell_type": "markdown",
      "source": [
        "###Performing SMOTE in order to balance class imbalance problem."
      ],
      "metadata": {
        "id": "HjbD-xn-ev_Q"
      }
    },
    {
      "cell_type": "code",
      "source": [
        "from imblearn.over_sampling import SMOTE\n",
        "x_train, y_train = SMOTE().fit_resample(x_train, y_train)"
      ],
      "metadata": {
        "id": "LLPrtopiev_R"
      },
      "execution_count": null,
      "outputs": []
    },
    {
      "cell_type": "code",
      "execution_count": null,
      "metadata": {
        "id": "3zWZedQNev_S"
      },
      "outputs": [],
      "source": [
        "from sklearn.preprocessing import StandardScaler    \n",
        "st_x= StandardScaler()    \n",
        "x_train= st_x.fit_transform(x_train)    \n",
        "x_test= st_x.transform(x_test)  "
      ]
    },
    {
      "cell_type": "markdown",
      "source": [
        "**Class become balanced as we can see in below class. Here we use OverSampling.**\n",
        "<br>\n",
        "Oversampling is solution to imbalanced data. Oversampling is the opposite of undersampling. Oversampling means making duplicates of the data that is the least present in our data set. We then add those duplicates to your data set."
      ],
      "metadata": {
        "id": "U2yMyao3ev_S"
      }
    },
    {
      "cell_type": "code",
      "source": [
        "import seaborn as sns\n",
        "\n",
        "plt.rcParams['figure.figsize']=(12,6)\n",
        "plt.rcParams['font.size']=14\n",
        "plt.title('kc2 Dataset')\n",
        "sns.set_style(\"darkgrid\")\n",
        "\n",
        "sns.countplot(y_train);"
      ],
      "metadata": {
        "colab": {
          "base_uri": "https://localhost:8080/",
          "height": 471
        },
        "outputId": "7f477a25-4138-493c-f149-c4954c54b985",
        "id": "bqcliNxsev_T"
      },
      "execution_count": null,
      "outputs": [
        {
          "output_type": "stream",
          "name": "stderr",
          "text": [
            "/usr/local/lib/python3.8/dist-packages/seaborn/_decorators.py:36: FutureWarning: Pass the following variable as a keyword arg: x. From version 0.12, the only valid positional argument will be `data`, and passing other arguments without an explicit keyword will result in an error or misinterpretation.\n",
            "  warnings.warn(\n"
          ]
        },
        {
          "output_type": "display_data",
          "data": {
            "text/plain": [
              "<Figure size 864x432 with 1 Axes>"
            ],
            "image/png": "[encoded data removed]"
          },
          "metadata": {}
        }
      ]
    },
    {
      "cell_type": "markdown",
      "metadata": {
        "id": "eDiOoy0z1BHM"
      },
      "source": [
        "###**Logistic Regression**"
      ]
    },
    {
      "cell_type": "code",
      "execution_count": null,
      "metadata": {
        "colab": {
          "base_uri": "https://localhost:8080/"
        },
        "outputId": "f68bdaba-62e6-402c-8b48-fd2c318f4601",
        "id": "6pLVAgE01BHM"
      },
      "outputs": [
        {
          "output_type": "stream",
          "name": "stdout",
          "text": [
            "Test Accuracy Score:  0.7141544117647058\n",
            "Confusion Matrix: \n",
            " [[1327  449]\n",
            " [ 173  227]]\n"
          ]
        },
        {
          "output_type": "stream",
          "name": "stderr",
          "text": [
            "/usr/local/lib/python3.8/dist-packages/sklearn/linear_model/_logistic.py:814: ConvergenceWarning: lbfgs failed to converge (status=1):\n",
            "STOP: TOTAL NO. of ITERATIONS REACHED LIMIT.\n",
            "\n",
            "Increase the number of iterations (max_iter) or scale the data as shown in:\n",
            "    https://scikit-learn.org/stable/modules/preprocessing.html\n",
            "Please also refer to the documentation for alternative solver options:\n",
            "    https://scikit-learn.org/stable/modules/linear_model.html#logistic-regression\n",
            "  n_iter_i = _check_optimize_result(\n"
          ]
        }
      ],
      "source": [
        "from sklearn.linear_model import LogisticRegression  \n",
        "classifier= LogisticRegression(random_state=0)  \n",
        "classifier.fit(x_train, y_train) \n",
        "\n",
        "y_pred= classifier.predict(x_test)\n",
        "\n",
        "score_ = accuracy_score(y_test, y_pred)\n",
        "print(\"Test Accuracy Score: \", score_)\n",
        "\n",
        "from sklearn.metrics import confusion_matrix  \n",
        "cm= confusion_matrix(y_test,y_pred)\n",
        "print(\"Confusion Matrix: \\n\",cm)"
      ]
    },
    {
      "cell_type": "code",
      "source": [
        "from sklearn.metrics import confusion_matrix\n",
        "tn, fp, fn, tp = confusion_matrix(y_test,y_pred).ravel()\n",
        "print('True negatives: ', tn, '\\nFalse positives: ', fp, '\\nFalse negatives: ', fn, '\\nTrue Positives: ', tp)\n"
      ],
      "metadata": {
        "colab": {
          "base_uri": "https://localhost:8080/"
        },
        "outputId": "2c7619c7-192a-463b-8ea6-3ef71f3cb992",
        "id": "B4GTZ9xshcJV"
      },
      "execution_count": null,
      "outputs": [
        {
          "output_type": "stream",
          "name": "stdout",
          "text": [
            "True negatives:  1327 \n",
            "False positives:  449 \n",
            "False negatives:  173 \n",
            "True Positives:  227\n"
          ]
        }
      ]
    },
    {
      "cell_type": "markdown",
      "metadata": {
        "id": "l2m_iWPg1BHN"
      },
      "source": [
        "###**Support Vector Machine Algorithm**"
      ]
    },
    {
      "cell_type": "code",
      "execution_count": null,
      "metadata": {
        "colab": {
          "base_uri": "https://localhost:8080/"
        },
        "outputId": "2b3179d4-7745-4e03-c2aa-789315ceb44a",
        "id": "YOfBeYhZ1BHN"
      },
      "outputs": [
        {
          "output_type": "execute_result",
          "data": {
            "text/plain": [
              "SVC(kernel='linear', random_state=0)"
            ]
          },
          "metadata": {},
          "execution_count": 278
        }
      ],
      "source": [
        "from sklearn.svm import SVC # \"Support vector classifier\"  \n",
        "classifier = SVC(kernel='linear', random_state=0)  \n",
        "classifier.fit(x_train, y_train)  "
      ]
    },
    {
      "cell_type": "code",
      "execution_count": null,
      "metadata": {
        "id": "embWodUZ1BHO"
      },
      "outputs": [],
      "source": [
        "#Predicting the test set result  \n",
        "y_pred= classifier.predict(x_test)  "
      ]
    },
    {
      "cell_type": "code",
      "execution_count": null,
      "metadata": {
        "colab": {
          "base_uri": "https://localhost:8080/"
        },
        "outputId": "a69cd10b-1a0b-49ad-ce69-ea8af77da71e",
        "id": "DZeFa1a_1BHO"
      },
      "outputs": [
        {
          "output_type": "stream",
          "name": "stdout",
          "text": [
            "[[1471  305]\n",
            " [ 211  189]]\n"
          ]
        }
      ],
      "source": [
        "from sklearn.metrics import confusion_matrix  \n",
        "cm= confusion_matrix(y_test, y_pred)  \n",
        "print(cm)"
      ]
    },
    {
      "cell_type": "code",
      "source": [
        "from sklearn.metrics import confusion_matrix\n",
        "tn, fp, fn, tp = confusion_matrix(y_test,y_pred).ravel()\n",
        "print('True negatives: ', tn, '\\nFalse positives: ', fp, '\\nFalse negatives: ', fn, '\\nTrue Positives: ', tp)\n"
      ],
      "metadata": {
        "colab": {
          "base_uri": "https://localhost:8080/"
        },
        "outputId": "b8d53ac2-054d-4d1d-c2eb-9a44f4117c86",
        "id": "iN_g0HuOhdCZ"
      },
      "execution_count": null,
      "outputs": [
        {
          "output_type": "stream",
          "name": "stdout",
          "text": [
            "True negatives:  1471 \n",
            "False positives:  305 \n",
            "False negatives:  211 \n",
            "True Positives:  189\n"
          ]
        }
      ]
    },
    {
      "cell_type": "code",
      "execution_count": null,
      "metadata": {
        "colab": {
          "base_uri": "https://localhost:8080/"
        },
        "outputId": "5da6706a-66fd-4a70-820a-aa5bd038473d",
        "id": "Mpz3_OmN1BHP"
      },
      "outputs": [
        {
          "output_type": "stream",
          "name": "stdout",
          "text": [
            "Test Accuracy Score:  0.7628676470588235\n"
          ]
        }
      ],
      "source": [
        "score_ = accuracy_score(y_test, y_pred)\n",
        "print(\"Test Accuracy Score: \", score_)"
      ]
    },
    {
      "cell_type": "code",
      "source": [
        "from sklearn.metrics import classification_report\n",
        "print(classification_report(y_test, y_pred))"
      ],
      "metadata": {
        "colab": {
          "base_uri": "https://localhost:8080/"
        },
        "outputId": "7933b7c5-0f74-4d10-f4a1-f40adc5bf5d5",
        "id": "tPP6-iEbilMP"
      },
      "execution_count": null,
      "outputs": [
        {
          "output_type": "stream",
          "name": "stdout",
          "text": [
            "              precision    recall  f1-score   support\n",
            "\n",
            "       False       0.87      0.83      0.85      1776\n",
            "        True       0.38      0.47      0.42       400\n",
            "\n",
            "    accuracy                           0.76      2176\n",
            "   macro avg       0.63      0.65      0.64      2176\n",
            "weighted avg       0.78      0.76      0.77      2176\n",
            "\n"
          ]
        }
      ]
    },
    {
      "cell_type": "markdown",
      "metadata": {
        "id": "bDXa2xBG1BHP"
      },
      "source": [
        "##**Decision Tree Algorithm**"
      ]
    },
    {
      "cell_type": "code",
      "execution_count": null,
      "metadata": {
        "colab": {
          "base_uri": "https://localhost:8080/"
        },
        "outputId": "bbc67d82-ee79-48fb-cf2c-356f696533c8",
        "id": "_-aFfCPo1BHP"
      },
      "outputs": [
        {
          "output_type": "execute_result",
          "data": {
            "text/plain": [
              "DecisionTreeClassifier(criterion='entropy', random_state=0)"
            ]
          },
          "metadata": {},
          "execution_count": 284
        }
      ],
      "source": [
        "from sklearn.tree import DecisionTreeClassifier  \n",
        "classifier= DecisionTreeClassifier(criterion='entropy', random_state=0)  \n",
        "classifier.fit(x_train, y_train)  "
      ]
    },
    {
      "cell_type": "code",
      "execution_count": null,
      "metadata": {
        "id": "SrjxaCNj1BHQ"
      },
      "outputs": [],
      "source": [
        "#Predicting the test set result  \n",
        "y_pred= classifier.predict(x_test)  "
      ]
    },
    {
      "cell_type": "code",
      "execution_count": null,
      "metadata": {
        "colab": {
          "base_uri": "https://localhost:8080/"
        },
        "outputId": "efe0220a-0a0f-4533-ff0b-d7a3b2900125",
        "id": "9NncsB011BHQ"
      },
      "outputs": [
        {
          "output_type": "stream",
          "name": "stdout",
          "text": [
            "[[1389  387]\n",
            " [ 224  176]]\n"
          ]
        }
      ],
      "source": [
        "#Creating the Confusion matrix  \n",
        "from sklearn.metrics import confusion_matrix  \n",
        "cm= confusion_matrix(y_test, y_pred) \n",
        "print(cm)"
      ]
    },
    {
      "cell_type": "code",
      "source": [
        "from sklearn.metrics import confusion_matrix\n",
        "tn, fp, fn, tp = confusion_matrix(y_test,y_pred).ravel()\n",
        "print('True negatives: ', tn, '\\nFalse positives: ', fp, '\\nFalse negatives: ', fn, '\\nTrue Positives: ', tp)\n"
      ],
      "metadata": {
        "colab": {
          "base_uri": "https://localhost:8080/"
        },
        "outputId": "c7d2b807-1b1d-4508-e6ca-1c23cb7ffc3e",
        "id": "RPbKwkDFheCc"
      },
      "execution_count": null,
      "outputs": [
        {
          "output_type": "stream",
          "name": "stdout",
          "text": [
            "True negatives:  1389 \n",
            "False positives:  387 \n",
            "False negatives:  224 \n",
            "True Positives:  176\n"
          ]
        }
      ]
    },
    {
      "cell_type": "code",
      "execution_count": null,
      "metadata": {
        "colab": {
          "base_uri": "https://localhost:8080/"
        },
        "outputId": "2cefb814-40a9-4b3d-a01b-11153e74cf2b",
        "id": "sPhil7-21BHR"
      },
      "outputs": [
        {
          "output_type": "stream",
          "name": "stdout",
          "text": [
            "Test Accuracy Score:  0.7192095588235294\n"
          ]
        }
      ],
      "source": [
        "score_ = accuracy_score(y_test, y_pred)\n",
        "print(\"Test Accuracy Score: \", score_)"
      ]
    },
    {
      "cell_type": "code",
      "source": [
        "from sklearn.metrics import classification_report\n",
        "print(classification_report(y_test, y_pred))"
      ],
      "metadata": {
        "colab": {
          "base_uri": "https://localhost:8080/"
        },
        "outputId": "1a23f449-d6e1-480f-f304-b6b4fde7e653",
        "id": "cpy28fbBimUW"
      },
      "execution_count": null,
      "outputs": [
        {
          "output_type": "stream",
          "name": "stdout",
          "text": [
            "              precision    recall  f1-score   support\n",
            "\n",
            "       False       0.86      0.78      0.82      1776\n",
            "        True       0.31      0.44      0.37       400\n",
            "\n",
            "    accuracy                           0.72      2176\n",
            "   macro avg       0.59      0.61      0.59      2176\n",
            "weighted avg       0.76      0.72      0.74      2176\n",
            "\n"
          ]
        }
      ]
    },
    {
      "cell_type": "markdown",
      "metadata": {
        "id": "K1QS8mWr1BHR"
      },
      "source": [
        "##**Random Forest**"
      ]
    },
    {
      "cell_type": "code",
      "execution_count": null,
      "metadata": {
        "colab": {
          "base_uri": "https://localhost:8080/"
        },
        "outputId": "531fd144-4577-472b-f124-f755a3740247",
        "id": "RxhwsAjm1BHR"
      },
      "outputs": [
        {
          "output_type": "execute_result",
          "data": {
            "text/plain": [
              "RandomForestClassifier(criterion='entropy', n_estimators=10)"
            ]
          },
          "metadata": {},
          "execution_count": 290
        }
      ],
      "source": [
        "#Fitting Decision Tree classifier to the training set  \n",
        "from sklearn.ensemble import RandomForestClassifier  \n",
        "classifier= RandomForestClassifier(n_estimators= 10, criterion=\"entropy\")  \n",
        "classifier.fit(x_train, y_train)  "
      ]
    },
    {
      "cell_type": "code",
      "execution_count": null,
      "metadata": {
        "id": "sDy1huNK1BHS"
      },
      "outputs": [],
      "source": [
        "#Predicting the test set result  \n",
        "y_pred= classifier.predict(x_test)  "
      ]
    },
    {
      "cell_type": "code",
      "execution_count": null,
      "metadata": {
        "colab": {
          "base_uri": "https://localhost:8080/"
        },
        "outputId": "9292988d-ea43-4dca-d101-aa7dbce0493a",
        "id": "Bp9Kf1MG1BHS"
      },
      "outputs": [
        {
          "output_type": "stream",
          "name": "stdout",
          "text": [
            "[[1506  270]\n",
            " [ 244  156]]\n"
          ]
        }
      ],
      "source": [
        "#Creating the Confusion matrix  \n",
        "from sklearn.metrics import confusion_matrix  \n",
        "cm= confusion_matrix(y_test, y_pred)  \n",
        "print(cm)"
      ]
    },
    {
      "cell_type": "code",
      "source": [
        "from sklearn.metrics import confusion_matrix\n",
        "tn, fp, fn, tp = confusion_matrix(y_test,y_pred).ravel()\n",
        "print('True negatives: ', tn, '\\nFalse positives: ', fp, '\\nFalse negatives: ', fn, '\\nTrue Positives: ', tp)\n"
      ],
      "metadata": {
        "colab": {
          "base_uri": "https://localhost:8080/"
        },
        "outputId": "fa32443a-7f50-40de-9f5b-609904b50863",
        "id": "zAjqC4c4hfLW"
      },
      "execution_count": null,
      "outputs": [
        {
          "output_type": "stream",
          "name": "stdout",
          "text": [
            "True negatives:  1506 \n",
            "False positives:  270 \n",
            "False negatives:  244 \n",
            "True Positives:  156\n"
          ]
        }
      ]
    },
    {
      "cell_type": "code",
      "execution_count": null,
      "metadata": {
        "colab": {
          "base_uri": "https://localhost:8080/"
        },
        "outputId": "7b5e6c73-cefd-4d9d-a7af-ab3e47e11b0a",
        "id": "UaCMvLM51BHT"
      },
      "outputs": [
        {
          "output_type": "stream",
          "name": "stdout",
          "text": [
            "Test Accuracy Score:  0.7637867647058824\n"
          ]
        }
      ],
      "source": [
        "score_ = accuracy_score(y_test, y_pred)\n",
        "print(\"Test Accuracy Score: \", score_)"
      ]
    },
    {
      "cell_type": "code",
      "source": [
        "from sklearn.metrics import classification_report\n",
        "print(classification_report(y_test, y_pred))"
      ],
      "metadata": {
        "colab": {
          "base_uri": "https://localhost:8080/"
        },
        "outputId": "56446519-ba74-44ad-97cf-efd2e9d8c109",
        "id": "X4VA_m-KioSD"
      },
      "execution_count": null,
      "outputs": [
        {
          "output_type": "stream",
          "name": "stdout",
          "text": [
            "              precision    recall  f1-score   support\n",
            "\n",
            "       False       0.86      0.85      0.85      1776\n",
            "        True       0.37      0.39      0.38       400\n",
            "\n",
            "    accuracy                           0.76      2176\n",
            "   macro avg       0.61      0.62      0.62      2176\n",
            "weighted avg       0.77      0.76      0.77      2176\n",
            "\n"
          ]
        }
      ]
    },
    {
      "cell_type": "markdown",
      "metadata": {
        "id": "NPXzr51K1BHT"
      },
      "source": [
        "##**Bagging**"
      ]
    },
    {
      "cell_type": "code",
      "execution_count": null,
      "metadata": {
        "colab": {
          "base_uri": "https://localhost:8080/"
        },
        "outputId": "f9ea57e8-5613-4410-95b3-28dd1f301334",
        "id": "jMvaJOqN1BHU"
      },
      "outputs": [
        {
          "output_type": "execute_result",
          "data": {
            "text/plain": [
              "DecisionTreeClassifier(random_state=21)"
            ]
          },
          "metadata": {},
          "execution_count": 296
        }
      ],
      "source": [
        "from sklearn.tree import DecisionTreeClassifier\n",
        "dtree = DecisionTreeClassifier(random_state=21)\n",
        "dtree.fit(x_train,y_train)"
      ]
    },
    {
      "cell_type": "code",
      "execution_count": null,
      "metadata": {
        "colab": {
          "base_uri": "https://localhost:8080/"
        },
        "outputId": "fd4ddfee-ea20-4d1f-bec7-abc87d824131",
        "id": "nVmXNp2IgZQt"
      },
      "outputs": [
        {
          "output_type": "stream",
          "name": "stdout",
          "text": [
            "[[1506  270]\n",
            " [ 244  156]]\n"
          ]
        }
      ],
      "source": [
        "from sklearn.metrics import confusion_matrix  \n",
        "cm= confusion_matrix(y_test, y_pred)  \n",
        "print(cm)"
      ]
    },
    {
      "cell_type": "code",
      "source": [
        "from sklearn.metrics import confusion_matrix\n",
        "tn, fp, fn, tp = confusion_matrix(y_test,y_pred).ravel()\n",
        "print('True negatives: ', tn, '\\nFalse positives: ', fp, '\\nFalse negatives: ', fn, '\\nTrue Positives: ', tp)\n"
      ],
      "metadata": {
        "colab": {
          "base_uri": "https://localhost:8080/"
        },
        "outputId": "7837aa3e-eac0-4078-9d90-b31941394ae5",
        "id": "R7V1aAAQhgLt"
      },
      "execution_count": null,
      "outputs": [
        {
          "output_type": "stream",
          "name": "stdout",
          "text": [
            "True negatives:  1506 \n",
            "False positives:  270 \n",
            "False negatives:  244 \n",
            "True Positives:  156\n"
          ]
        }
      ]
    },
    {
      "cell_type": "code",
      "execution_count": null,
      "metadata": {
        "colab": {
          "base_uri": "https://localhost:8080/"
        },
        "outputId": "65223ade-3547-434a-eb9a-6cb19a05c27d",
        "id": "9j50xmRZ1BHU"
      },
      "outputs": [
        {
          "output_type": "stream",
          "name": "stdout",
          "text": [
            "Train data accuracy: 0.9871428571428571\n",
            "Test data accuracy: 0.7118566176470589\n"
          ]
        }
      ],
      "source": [
        "y_pred = dtree.predict(x_test)\n",
        "\n",
        "print(\"Train data accuracy:\",accuracy_score(y_true = y_train, y_pred = dtree.predict(x_train)))\n",
        "print(\"Test data accuracy:\",accuracy_score(y_true = y_test, y_pred = y_pred))"
      ]
    },
    {
      "cell_type": "code",
      "source": [
        "from sklearn.metrics import classification_report\n",
        "print(classification_report(y_test, y_pred))"
      ],
      "metadata": {
        "colab": {
          "base_uri": "https://localhost:8080/"
        },
        "outputId": "8f8282e0-75ee-4185-ef5f-2e65813eb527",
        "id": "CXrZdh_QipNl"
      },
      "execution_count": null,
      "outputs": [
        {
          "output_type": "stream",
          "name": "stdout",
          "text": [
            "              precision    recall  f1-score   support\n",
            "\n",
            "       False       0.86      0.77      0.81      1776\n",
            "        True       0.31      0.45      0.36       400\n",
            "\n",
            "    accuracy                           0.71      2176\n",
            "   macro avg       0.58      0.61      0.59      2176\n",
            "weighted avg       0.76      0.71      0.73      2176\n",
            "\n"
          ]
        }
      ]
    },
    {
      "cell_type": "markdown",
      "metadata": {
        "id": "VVk1022AjIBb"
      },
      "source": [
        "#**ar1 Dataset**"
      ]
    },
    {
      "cell_type": "code",
      "execution_count": null,
      "metadata": {
        "colab": {
          "base_uri": "https://localhost:8080/",
          "height": 487
        },
        "id": "Yqz5JdH6ks1z",
        "outputId": "5395c190-e0d2-4cd8-be5f-2928e66cb7d7"
      },
      "outputs": [
        {
          "output_type": "execute_result",
          "data": {
            "text/plain": [
              "     total_loc  blank_loc  comment_loc  code_and_comment_loc  executable_loc  \\\n",
              "0            9          0            1                     0               8   \n",
              "1           21          0           14                     1               7   \n",
              "2           30          0           11                     0              19   \n",
              "3            8          0            2                     0               6   \n",
              "4            7          0            1                     0               6   \n",
              "..         ...        ...          ...                   ...             ...   \n",
              "115         32          0            5                     0              27   \n",
              "116          6          0            0                     0               6   \n",
              "117          6          0            0                     0               6   \n",
              "118         27          0            3                     0              24   \n",
              "119         51          2           12                     0              37   \n",
              "\n",
              "     unique_operands  unique_operators  total_operands  total_operators  \\\n",
              "0                  7                 8              15               20   \n",
              "1                 15                12              21               36   \n",
              "2                 16                18              50               70   \n",
              "3                  4                 5               5               10   \n",
              "4                  4                 5               4               11   \n",
              "..               ...               ...             ...              ...   \n",
              "115               16                11              33               56   \n",
              "116                3                 5               5               11   \n",
              "117                6                 6               6               11   \n",
              "118               16                 9              26               44   \n",
              "119               29                17              58               91   \n",
              "\n",
              "     halstead_vocabulary  ...  condition_count  multiple_condition_count  \\\n",
              "0                     15  ...                0                         0   \n",
              "1                     27  ...                4                         1   \n",
              "2                     34  ...                9                         2   \n",
              "3                      9  ...                1                         0   \n",
              "4                      9  ...                0                         0   \n",
              "..                   ...  ...              ...                       ...   \n",
              "115                   27  ...                9                         1   \n",
              "116                    8  ...                2                         0   \n",
              "117                   12  ...                2                         1   \n",
              "118                   25  ...                8                         3   \n",
              "119                   46  ...               17                         3   \n",
              "\n",
              "     cyclomatic_complexity  cyclomatic_density  decision_density  \\\n",
              "0                        2                0.25              0.00   \n",
              "1                        4                0.57              1.00   \n",
              "2                        9                0.47              1.11   \n",
              "3                        2                0.33              1.00   \n",
              "4                        2                0.33              0.00   \n",
              "..                     ...                 ...               ...   \n",
              "115                      8                0.30              1.00   \n",
              "116                      3                0.50              1.00   \n",
              "117                      2                0.33              1.00   \n",
              "118                      6                0.25              1.00   \n",
              "119                     14                0.38              1.00   \n",
              "\n",
              "     design_complexity  design_density  normalized_cyclomatic_complexity  \\\n",
              "0                    0            0.00                              0.22   \n",
              "1                    1            0.25                              0.19   \n",
              "2                    1            0.11                              0.30   \n",
              "3                    1            0.50                              0.25   \n",
              "4                    2            1.00                              0.29   \n",
              "..                 ...             ...                               ...   \n",
              "115                  0            0.00                              0.25   \n",
              "116                  0            0.00                              0.50   \n",
              "117                  1            0.50                              0.33   \n",
              "118                  1            0.17                              0.22   \n",
              "119                  4            0.29                              0.27   \n",
              "\n",
              "     formal_parameters  defects  \n",
              "0                    0    False  \n",
              "1                    0    False  \n",
              "2                    0     True  \n",
              "3                    0    False  \n",
              "4                    0    False  \n",
              "..                 ...      ...  \n",
              "115                  0    False  \n",
              "116                  0    False  \n",
              "117                  0    False  \n",
              "118                  0    False  \n",
              "119                  1     True  \n",
              "\n",
              "[120 rows x 30 columns]"
            ],
            "text/html": [
              "\n",
              "  <div id=\"df-902b72ee-21a1-4de9-bf2d-70279ce8ca52\">\n",
              "    <div class=\"colab-df-container\">\n",
              "      <div>\n",
              "<style scoped>\n",
              "    .dataframe tbody tr th:only-of-type {\n",
              "        vertical-align: middle;\n",
              "    }\n",
              "\n",
              "    .dataframe tbody tr th {\n",
              "        vertical-align: top;\n",
              "    }\n",
              "\n",
              "    .dataframe thead th {\n",
              "        text-align: right;\n",
              "    }\n",
              "</style>\n",
              "<table border=\"1\" class=\"dataframe\">\n",
              "  <thead>\n",
              "    <tr style=\"text-align: right;\">\n",
              "      <th></th>\n",
              "      <th>total_loc</th>\n",
              "      <th>blank_loc</th>\n",
              "      <th>comment_loc</th>\n",
              "      <th>code_and_comment_loc</th>\n",
              "      <th>executable_loc</th>\n",
              "      <th>unique_operands</th>\n",
              "      <th>unique_operators</th>\n",
              "      <th>total_operands</th>\n",
              "      <th>total_operators</th>\n",
              "      <th>halstead_vocabulary</th>\n",
              "      <th>...</th>\n",
              "      <th>condition_count</th>\n",
              "      <th>multiple_condition_count</th>\n",
              "      <th>cyclomatic_complexity</th>\n",
              "      <th>cyclomatic_density</th>\n",
              "      <th>decision_density</th>\n",
              "      <th>design_complexity</th>\n",
              "      <th>design_density</th>\n",
              "      <th>normalized_cyclomatic_complexity</th>\n",
              "      <th>formal_parameters</th>\n",
              "      <th>defects</th>\n",
              "    </tr>\n",
              "  </thead>\n",
              "  <tbody>\n",
              "    <tr>\n",
              "      <th>0</th>\n",
              "      <td>9</td>\n",
              "      <td>0</td>\n",
              "      <td>1</td>\n",
              "      <td>0</td>\n",
              "      <td>8</td>\n",
              "      <td>7</td>\n",
              "      <td>8</td>\n",
              "      <td>15</td>\n",
              "      <td>20</td>\n",
              "      <td>15</td>\n",
              "      <td>...</td>\n",
              "      <td>0</td>\n",
              "      <td>0</td>\n",
              "      <td>2</td>\n",
              "      <td>0.25</td>\n",
              "      <td>0.00</td>\n",
              "      <td>0</td>\n",
              "      <td>0.00</td>\n",
              "      <td>0.22</td>\n",
              "      <td>0</td>\n",
              "      <td>False</td>\n",
              "    </tr>\n",
              "    <tr>\n",
              "      <th>1</th>\n",
              "      <td>21</td>\n",
              "      <td>0</td>\n",
              "      <td>14</td>\n",
              "      <td>1</td>\n",
              "      <td>7</td>\n",
              "      <td>15</td>\n",
              "      <td>12</td>\n",
              "      <td>21</td>\n",
              "      <td>36</td>\n",
              "      <td>27</td>\n",
              "      <td>...</td>\n",
              "      <td>4</td>\n",
              "      <td>1</td>\n",
              "      <td>4</td>\n",
              "      <td>0.57</td>\n",
              "      <td>1.00</td>\n",
              "      <td>1</td>\n",
              "      <td>0.25</td>\n",
              "      <td>0.19</td>\n",
              "      <td>0</td>\n",
              "      <td>False</td>\n",
              "    </tr>\n",
              "    <tr>\n",
              "      <th>2</th>\n",
              "      <td>30</td>\n",
              "      <td>0</td>\n",
              "      <td>11</td>\n",
              "      <td>0</td>\n",
              "      <td>19</td>\n",
              "      <td>16</td>\n",
              "      <td>18</td>\n",
              "      <td>50</td>\n",
              "      <td>70</td>\n",
              "      <td>34</td>\n",
              "      <td>...</td>\n",
              "      <td>9</td>\n",
              "      <td>2</td>\n",
              "      <td>9</td>\n",
              "      <td>0.47</td>\n",
              "      <td>1.11</td>\n",
              "      <td>1</td>\n",
              "      <td>0.11</td>\n",
              "      <td>0.30</td>\n",
              "      <td>0</td>\n",
              "      <td>True</td>\n",
              "    </tr>\n",
              "    <tr>\n",
              "      <th>3</th>\n",
              "      <td>8</td>\n",
              "      <td>0</td>\n",
              "      <td>2</td>\n",
              "      <td>0</td>\n",
              "      <td>6</td>\n",
              "      <td>4</td>\n",
              "      <td>5</td>\n",
              "      <td>5</td>\n",
              "      <td>10</td>\n",
              "      <td>9</td>\n",
              "      <td>...</td>\n",
              "      <td>1</td>\n",
              "      <td>0</td>\n",
              "      <td>2</td>\n",
              "      <td>0.33</td>\n",
              "      <td>1.00</td>\n",
              "      <td>1</td>\n",
              "      <td>0.50</td>\n",
              "      <td>0.25</td>\n",
              "      <td>0</td>\n",
              "      <td>False</td>\n",
              "    </tr>\n",
              "    <tr>\n",
              "      <th>4</th>\n",
              "      <td>7</td>\n",
              "      <td>0</td>\n",
              "      <td>1</td>\n",
              "      <td>0</td>\n",
              "      <td>6</td>\n",
              "      <td>4</td>\n",
              "      <td>5</td>\n",
              "      <td>4</td>\n",
              "      <td>11</td>\n",
              "      <td>9</td>\n",
              "      <td>...</td>\n",
              "      <td>0</td>\n",
              "      <td>0</td>\n",
              "      <td>2</td>\n",
              "      <td>0.33</td>\n",
              "      <td>0.00</td>\n",
              "      <td>2</td>\n",
              "      <td>1.00</td>\n",
              "      <td>0.29</td>\n",
              "      <td>0</td>\n",
              "      <td>False</td>\n",
              "    </tr>\n",
              "    <tr>\n",
              "      <th>...</th>\n",
              "      <td>...</td>\n",
              "      <td>...</td>\n",
              "      <td>...</td>\n",
              "      <td>...</td>\n",
              "      <td>...</td>\n",
              "      <td>...</td>\n",
              "      <td>...</td>\n",
              "      <td>...</td>\n",
              "      <td>...</td>\n",
              "      <td>...</td>\n",
              "      <td>...</td>\n",
              "      <td>...</td>\n",
              "      <td>...</td>\n",
              "      <td>...</td>\n",
              "      <td>...</td>\n",
              "      <td>...</td>\n",
              "      <td>...</td>\n",
              "      <td>...</td>\n",
              "      <td>...</td>\n",
              "      <td>...</td>\n",
              "      <td>...</td>\n",
              "    </tr>\n",
              "    <tr>\n",
              "      <th>115</th>\n",
              "      <td>32</td>\n",
              "      <td>0</td>\n",
              "      <td>5</td>\n",
              "      <td>0</td>\n",
              "      <td>27</td>\n",
              "      <td>16</td>\n",
              "      <td>11</td>\n",
              "      <td>33</td>\n",
              "      <td>56</td>\n",
              "      <td>27</td>\n",
              "      <td>...</td>\n",
              "      <td>9</td>\n",
              "      <td>1</td>\n",
              "      <td>8</td>\n",
              "      <td>0.30</td>\n",
              "      <td>1.00</td>\n",
              "      <td>0</td>\n",
              "      <td>0.00</td>\n",
              "      <td>0.25</td>\n",
              "      <td>0</td>\n",
              "      <td>False</td>\n",
              "    </tr>\n",
              "    <tr>\n",
              "      <th>116</th>\n",
              "      <td>6</td>\n",
              "      <td>0</td>\n",
              "      <td>0</td>\n",
              "      <td>0</td>\n",
              "      <td>6</td>\n",
              "      <td>3</td>\n",
              "      <td>5</td>\n",
              "      <td>5</td>\n",
              "      <td>11</td>\n",
              "      <td>8</td>\n",
              "      <td>...</td>\n",
              "      <td>2</td>\n",
              "      <td>0</td>\n",
              "      <td>3</td>\n",
              "      <td>0.50</td>\n",
              "      <td>1.00</td>\n",
              "      <td>0</td>\n",
              "      <td>0.00</td>\n",
              "      <td>0.50</td>\n",
              "      <td>0</td>\n",
              "      <td>False</td>\n",
              "    </tr>\n",
              "    <tr>\n",
              "      <th>117</th>\n",
              "      <td>6</td>\n",
              "      <td>0</td>\n",
              "      <td>0</td>\n",
              "      <td>0</td>\n",
              "      <td>6</td>\n",
              "      <td>6</td>\n",
              "      <td>6</td>\n",
              "      <td>6</td>\n",
              "      <td>11</td>\n",
              "      <td>12</td>\n",
              "      <td>...</td>\n",
              "      <td>2</td>\n",
              "      <td>1</td>\n",
              "      <td>2</td>\n",
              "      <td>0.33</td>\n",
              "      <td>1.00</td>\n",
              "      <td>1</td>\n",
              "      <td>0.50</td>\n",
              "      <td>0.33</td>\n",
              "      <td>0</td>\n",
              "      <td>False</td>\n",
              "    </tr>\n",
              "    <tr>\n",
              "      <th>118</th>\n",
              "      <td>27</td>\n",
              "      <td>0</td>\n",
              "      <td>3</td>\n",
              "      <td>0</td>\n",
              "      <td>24</td>\n",
              "      <td>16</td>\n",
              "      <td>9</td>\n",
              "      <td>26</td>\n",
              "      <td>44</td>\n",
              "      <td>25</td>\n",
              "      <td>...</td>\n",
              "      <td>8</td>\n",
              "      <td>3</td>\n",
              "      <td>6</td>\n",
              "      <td>0.25</td>\n",
              "      <td>1.00</td>\n",
              "      <td>1</td>\n",
              "      <td>0.17</td>\n",
              "      <td>0.22</td>\n",
              "      <td>0</td>\n",
              "      <td>False</td>\n",
              "    </tr>\n",
              "    <tr>\n",
              "      <th>119</th>\n",
              "      <td>51</td>\n",
              "      <td>2</td>\n",
              "      <td>12</td>\n",
              "      <td>0</td>\n",
              "      <td>37</td>\n",
              "      <td>29</td>\n",
              "      <td>17</td>\n",
              "      <td>58</td>\n",
              "      <td>91</td>\n",
              "      <td>46</td>\n",
              "      <td>...</td>\n",
              "      <td>17</td>\n",
              "      <td>3</td>\n",
              "      <td>14</td>\n",
              "      <td>0.38</td>\n",
              "      <td>1.00</td>\n",
              "      <td>4</td>\n",
              "      <td>0.29</td>\n",
              "      <td>0.27</td>\n",
              "      <td>1</td>\n",
              "      <td>True</td>\n",
              "    </tr>\n",
              "  </tbody>\n",
              "</table>\n",
              "<p>120 rows × 30 columns</p>\n",
              "</div>\n",
              "      <button class=\"colab-df-convert\" onclick=\"convertToInteractive('df-902b72ee-21a1-4de9-bf2d-70279ce8ca52')\"\n",
              "              title=\"Convert this dataframe to an interactive table.\"\n",
              "              style=\"display:none;\">\n",
              "        \n",
              "  <svg xmlns=\"http://www.w3.org/2000/svg\" height=\"24px\"viewBox=\"0 0 24 24\"\n",
              "       width=\"24px\">\n",
              "    <path d=\"M0 0h24v24H0V0z\" fill=\"none\"/>\n",
              "    <path d=\"M18.56 5.44l.94 2.06.94-2.06 2.06-.94-2.06-.94-.94-2.06-.94 2.06-2.06.94zm-11 1L8.5 8.5l.94-2.06 2.06-.94-2.06-.94L8.5 2.5l-.94 2.06-2.06.94zm10 10l.94 2.06.94-2.06 2.06-.94-2.06-.94-.94-2.06-.94 2.06-2.06.94z\"/><path d=\"M17.41 7.96l-1.37-1.37c-.4-.4-.92-.59-1.43-.59-.52 0-1.04.2-1.43.59L10.3 9.45l-7.72 7.72c-.78.78-.78 2.05 0 2.83L4 21.41c.39.39.9.59 1.41.59.51 0 1.02-.2 1.41-.59l7.78-7.78 2.81-2.81c.8-.78.8-2.07 0-2.86zM5.41 20L4 18.59l7.72-7.72 1.47 1.35L5.41 20z\"/>\n",
              "  </svg>\n",
              "      </button>\n",
              "      \n",
              "  <style>\n",
              "    .colab-df-container {\n",
              "      display:flex;\n",
              "      flex-wrap:wrap;\n",
              "      gap: 12px;\n",
              "    }\n",
              "\n",
              "    .colab-df-convert {\n",
              "      background-color: #E8F0FE;\n",
              "      border: none;\n",
              "      border-radius: 50%;\n",
              "      cursor: pointer;\n",
              "      display: none;\n",
              "      fill: #1967D2;\n",
              "      height: 32px;\n",
              "      padding: 0 0 0 0;\n",
              "      width: 32px;\n",
              "    }\n",
              "\n",
              "    .colab-df-convert:hover {\n",
              "      background-color: #E2EBFA;\n",
              "      box-shadow: 0px 1px 2px rgba(60, 64, 67, 0.3), 0px 1px 3px 1px rgba(60, 64, 67, 0.15);\n",
              "      fill: #174EA6;\n",
              "    }\n",
              "\n",
              "    [theme=dark] .colab-df-convert {\n",
              "      background-color: #3B4455;\n",
              "      fill: #D2E3FC;\n",
              "    }\n",
              "\n",
              "    [theme=dark] .colab-df-convert:hover {\n",
              "      background-color: #434B5C;\n",
              "      box-shadow: 0px 1px 3px 1px rgba(0, 0, 0, 0.15);\n",
              "      filter: drop-shadow(0px 1px 2px rgba(0, 0, 0, 0.3));\n",
              "      fill: #FFFFFF;\n",
              "    }\n",
              "  </style>\n",
              "\n",
              "      <script>\n",
              "        const buttonEl =\n",
              "          document.querySelector('#df-902b72ee-21a1-4de9-bf2d-70279ce8ca52 button.colab-df-convert');\n",
              "        buttonEl.style.display =\n",
              "          google.colab.kernel.accessAllowed ? 'block' : 'none';\n",
              "\n",
              "        async function convertToInteractive(key) {\n",
              "          const element = document.querySelector('#df-902b72ee-21a1-4de9-bf2d-70279ce8ca52');\n",
              "          const dataTable =\n",
              "            await google.colab.kernel.invokeFunction('convertToInteractive',\n",
              "                                                     [key], {});\n",
              "          if (!dataTable) return;\n",
              "\n",
              "          const docLinkHtml = 'Like what you see? Visit the ' +\n",
              "            '<a target=\"_blank\" href=https://colab.research.google.com/notebooks/data_table.ipynb>data table notebook</a>'\n",
              "            + ' to learn more about interactive tables.';\n",
              "          element.innerHTML = '';\n",
              "          dataTable['output_type'] = 'display_data';\n",
              "          await google.colab.output.renderOutput(dataTable, element);\n",
              "          const docLink = document.createElement('div');\n",
              "          docLink.innerHTML = docLinkHtml;\n",
              "          element.appendChild(docLink);\n",
              "        }\n",
              "      </script>\n",
              "    </div>\n",
              "  </div>\n",
              "  "
            ]
          },
          "metadata": {},
          "execution_count": 301
        }
      ],
      "source": [
        "ar1_df"
      ]
    },
    {
      "cell_type": "markdown",
      "metadata": {
        "id": "GUGWZAuAl084"
      },
      "source": [
        "####**Spiliting Dataset**\n",
        "training: 80% testing:20%"
      ]
    },
    {
      "cell_type": "code",
      "execution_count": null,
      "metadata": {
        "id": "fZnYZb84mA46"
      },
      "outputs": [],
      "source": [
        "x = ar1_df.iloc[:,:-1]\n",
        "y = ar1_df.iloc[:,-1]\n",
        "\n",
        "from sklearn.model_selection import train_test_split\n",
        "x_train, x_test, y_train, y_test = train_test_split(x,y,test_size=0.20,random_state=0)"
      ]
    },
    {
      "cell_type": "markdown",
      "source": [
        "###Performing SMOTE in order to balance class imbalance problem."
      ],
      "metadata": {
        "id": "T_nzXz56ey5b"
      }
    },
    {
      "cell_type": "code",
      "source": [
        "from imblearn.over_sampling import SMOTE\n",
        "x_train, y_train = SMOTE().fit_resample(x_train, y_train)"
      ],
      "metadata": {
        "id": "1lkBagy6ey5d"
      },
      "execution_count": null,
      "outputs": []
    },
    {
      "cell_type": "code",
      "execution_count": null,
      "metadata": {
        "id": "WJt0DaNVey5e"
      },
      "outputs": [],
      "source": [
        "from sklearn.preprocessing import StandardScaler    \n",
        "st_x= StandardScaler()    \n",
        "x_train= st_x.fit_transform(x_train)    \n",
        "x_test= st_x.transform(x_test)  "
      ]
    },
    {
      "cell_type": "markdown",
      "source": [
        "**Class become balanced as we can see in below class. Here we use OverSampling.**\n",
        "<br>\n",
        "Oversampling is solution to imbalanced data. Oversampling is the opposite of undersampling. Oversampling means making duplicates of the data that is the least present in our data set. We then add those duplicates to your data set."
      ],
      "metadata": {
        "id": "d-G8Q679ey5e"
      }
    },
    {
      "cell_type": "code",
      "source": [
        "import seaborn as sns\n",
        "\n",
        "plt.rcParams['figure.figsize']=(12,6)\n",
        "plt.rcParams['font.size']=14\n",
        "plt.title('kc2 Dataset')\n",
        "sns.set_style(\"darkgrid\")\n",
        "\n",
        "sns.countplot(y_train);"
      ],
      "metadata": {
        "colab": {
          "base_uri": "https://localhost:8080/",
          "height": 471
        },
        "outputId": "ad67baf7-01fa-4586-c4a8-a97c4a4ac0ca",
        "id": "q8PwEQQsey5f"
      },
      "execution_count": null,
      "outputs": [
        {
          "output_type": "stream",
          "name": "stderr",
          "text": [
            "/usr/local/lib/python3.8/dist-packages/seaborn/_decorators.py:36: FutureWarning: Pass the following variable as a keyword arg: x. From version 0.12, the only valid positional argument will be `data`, and passing other arguments without an explicit keyword will result in an error or misinterpretation.\n",
            "  warnings.warn(\n"
          ]
        },
        {
          "output_type": "display_data",
          "data": {
            "text/plain": [
              "<Figure size 864x432 with 1 Axes>"
            ],
            "image/png": "[encoded data removed]"
          },
          "metadata": {}
        }
      ]
    },
    {
      "cell_type": "markdown",
      "metadata": {
        "id": "3Fk6Yw7Pmx97"
      },
      "source": [
        "###**Logistic Regression**"
      ]
    },
    {
      "cell_type": "code",
      "execution_count": null,
      "metadata": {
        "colab": {
          "base_uri": "https://localhost:8080/"
        },
        "id": "C2cotc3ym9pl",
        "outputId": "ce240c2d-e8b5-4c6f-92a1-51e3f4796ef8"
      },
      "outputs": [
        {
          "output_type": "stream",
          "name": "stdout",
          "text": [
            "Test Accuracy Score:  0.75\n",
            "Confusion Matrix: \n",
            " [[17  4]\n",
            " [ 2  1]]\n"
          ]
        }
      ],
      "source": [
        "from sklearn.linear_model import LogisticRegression  \n",
        "classifier= LogisticRegression(random_state=0)  \n",
        "classifier.fit(x_train, y_train) \n",
        "\n",
        "y_pred= classifier.predict(x_test)\n",
        "\n",
        "score_ = accuracy_score(y_test, y_pred)\n",
        "print(\"Test Accuracy Score: \", score_)\n",
        "\n",
        "from sklearn.metrics import confusion_matrix  \n",
        "cm= confusion_matrix(y_test,y_pred)\n",
        "print(\"Confusion Matrix: \\n\",cm)"
      ]
    },
    {
      "cell_type": "code",
      "source": [
        "from sklearn.metrics import confusion_matrix\n",
        "tn, fp, fn, tp = confusion_matrix(y_test,y_pred).ravel()\n",
        "print('True negatives: ', tn, '\\nFalse positives: ', fp, '\\nFalse negatives: ', fn, '\\nTrue Positives: ', tp)\n"
      ],
      "metadata": {
        "colab": {
          "base_uri": "https://localhost:8080/"
        },
        "outputId": "f5b5c4e6-03b4-434a-9456-4816594c4f8b",
        "id": "o7F_YhTghijO"
      },
      "execution_count": null,
      "outputs": [
        {
          "output_type": "stream",
          "name": "stdout",
          "text": [
            "True negatives:  17 \n",
            "False positives:  4 \n",
            "False negatives:  2 \n",
            "True Positives:  1\n"
          ]
        }
      ]
    },
    {
      "cell_type": "code",
      "source": [
        "from sklearn.metrics import classification_report\n",
        "print(classification_report(y_test, y_pred))"
      ],
      "metadata": {
        "colab": {
          "base_uri": "https://localhost:8080/"
        },
        "outputId": "f4288f55-ad28-43ab-c5ee-cbeb28f0bb09",
        "id": "y0dVeie_irLV"
      },
      "execution_count": null,
      "outputs": [
        {
          "output_type": "stream",
          "name": "stdout",
          "text": [
            "              precision    recall  f1-score   support\n",
            "\n",
            "       False       0.89      0.81      0.85        21\n",
            "        True       0.20      0.33      0.25         3\n",
            "\n",
            "    accuracy                           0.75        24\n",
            "   macro avg       0.55      0.57      0.55        24\n",
            "weighted avg       0.81      0.75      0.78        24\n",
            "\n"
          ]
        }
      ]
    },
    {
      "cell_type": "markdown",
      "metadata": {
        "id": "Gji0bQbGsxrs"
      },
      "source": [
        "###**Support Vector Machine Algorithm**"
      ]
    },
    {
      "cell_type": "code",
      "execution_count": null,
      "metadata": {
        "colab": {
          "base_uri": "https://localhost:8080/"
        },
        "id": "3cvNPqVktGIM",
        "outputId": "42ce703b-a0e7-40b8-ca9b-a04c4fbd3259"
      },
      "outputs": [
        {
          "output_type": "execute_result",
          "data": {
            "text/plain": [
              "SVC(kernel='linear', random_state=0)"
            ]
          },
          "metadata": {},
          "execution_count": 309
        }
      ],
      "source": [
        "from sklearn.svm import SVC # \"Support vector classifier\"  \n",
        "classifier = SVC(kernel='linear', random_state=0)  \n",
        "classifier.fit(x_train, y_train)  "
      ]
    },
    {
      "cell_type": "code",
      "execution_count": null,
      "metadata": {
        "id": "NHmxUocztGIb"
      },
      "outputs": [],
      "source": [
        "#Predicting the test set result  \n",
        "y_pred= classifier.predict(x_test)  "
      ]
    },
    {
      "cell_type": "code",
      "execution_count": null,
      "metadata": {
        "colab": {
          "base_uri": "https://localhost:8080/"
        },
        "id": "V_sH84pxtGIc",
        "outputId": "28d825e9-a606-407a-d697-342a221d2c6f"
      },
      "outputs": [
        {
          "output_type": "stream",
          "name": "stdout",
          "text": [
            "[[16  5]\n",
            " [ 2  1]]\n"
          ]
        }
      ],
      "source": [
        "from sklearn.metrics import confusion_matrix  \n",
        "cm= confusion_matrix(y_test, y_pred)  \n",
        "print(cm)"
      ]
    },
    {
      "cell_type": "code",
      "source": [
        "from sklearn.metrics import confusion_matrix\n",
        "tn, fp, fn, tp = confusion_matrix(y_test,y_pred).ravel()\n",
        "print('True negatives: ', tn, '\\nFalse positives: ', fp, '\\nFalse negatives: ', fn, '\\nTrue Positives: ', tp)\n"
      ],
      "metadata": {
        "colab": {
          "base_uri": "https://localhost:8080/"
        },
        "outputId": "60fde249-dc3b-46ac-b9a4-a40e7d727fb1",
        "id": "M3WiBWD-hkP5"
      },
      "execution_count": null,
      "outputs": [
        {
          "output_type": "stream",
          "name": "stdout",
          "text": [
            "True negatives:  16 \n",
            "False positives:  5 \n",
            "False negatives:  2 \n",
            "True Positives:  1\n"
          ]
        }
      ]
    },
    {
      "cell_type": "code",
      "execution_count": null,
      "metadata": {
        "colab": {
          "base_uri": "https://localhost:8080/"
        },
        "id": "ymcuxljbtGIc",
        "outputId": "c4ad7c65-a549-457c-b76b-0a020951bced"
      },
      "outputs": [
        {
          "output_type": "stream",
          "name": "stdout",
          "text": [
            "Test Accuracy Score:  0.7083333333333334\n"
          ]
        }
      ],
      "source": [
        "score_ = accuracy_score(y_test, y_pred)\n",
        "print(\"Test Accuracy Score: \", score_)"
      ]
    },
    {
      "cell_type": "code",
      "source": [
        "from sklearn.metrics import classification_report\n",
        "print(classification_report(y_test, y_pred))"
      ],
      "metadata": {
        "colab": {
          "base_uri": "https://localhost:8080/"
        },
        "outputId": "498c1879-dd12-4316-e647-e65fc378d979",
        "id": "Mcb5JVU3isfN"
      },
      "execution_count": null,
      "outputs": [
        {
          "output_type": "stream",
          "name": "stdout",
          "text": [
            "              precision    recall  f1-score   support\n",
            "\n",
            "       False       0.89      0.76      0.82        21\n",
            "        True       0.17      0.33      0.22         3\n",
            "\n",
            "    accuracy                           0.71        24\n",
            "   macro avg       0.53      0.55      0.52        24\n",
            "weighted avg       0.80      0.71      0.75        24\n",
            "\n"
          ]
        }
      ]
    },
    {
      "cell_type": "markdown",
      "metadata": {
        "id": "ajwS1r1ItGId"
      },
      "source": [
        "##**Decision Tree Algorithm**"
      ]
    },
    {
      "cell_type": "code",
      "execution_count": null,
      "metadata": {
        "colab": {
          "base_uri": "https://localhost:8080/"
        },
        "id": "Bfnzo7kotGId",
        "outputId": "bff4bbaf-7aa2-4d64-b339-a816c5fc2881"
      },
      "outputs": [
        {
          "output_type": "execute_result",
          "data": {
            "text/plain": [
              "DecisionTreeClassifier(criterion='entropy', random_state=0)"
            ]
          },
          "metadata": {},
          "execution_count": 315
        }
      ],
      "source": [
        "from sklearn.tree import DecisionTreeClassifier  \n",
        "classifier= DecisionTreeClassifier(criterion='entropy', random_state=0)  \n",
        "classifier.fit(x_train, y_train)  "
      ]
    },
    {
      "cell_type": "code",
      "execution_count": null,
      "metadata": {
        "id": "ZFQemLa8tGId"
      },
      "outputs": [],
      "source": [
        "#Predicting the test set result  \n",
        "y_pred= classifier.predict(x_test)  "
      ]
    },
    {
      "cell_type": "code",
      "execution_count": null,
      "metadata": {
        "colab": {
          "base_uri": "https://localhost:8080/"
        },
        "id": "6UduZwQytGId",
        "outputId": "ff73f5eb-1b47-4d7a-e9a0-fc191c2a14a8"
      },
      "outputs": [
        {
          "output_type": "stream",
          "name": "stdout",
          "text": [
            "[[19  2]\n",
            " [ 1  2]]\n"
          ]
        }
      ],
      "source": [
        "#Creating the Confusion matrix  \n",
        "from sklearn.metrics import confusion_matrix  \n",
        "cm= confusion_matrix(y_test, y_pred) \n",
        "print(cm)"
      ]
    },
    {
      "cell_type": "code",
      "source": [
        "from sklearn.metrics import confusion_matrix\n",
        "tn, fp, fn, tp = confusion_matrix(y_test,y_pred).ravel()\n",
        "print('True negatives: ', tn, '\\nFalse positives: ', fp, '\\nFalse negatives: ', fn, '\\nTrue Positives: ', tp)\n"
      ],
      "metadata": {
        "colab": {
          "base_uri": "https://localhost:8080/"
        },
        "outputId": "c73b1c6b-ac3c-4bd1-8447-158d3929ab7a",
        "id": "5N7kaSPthlhk"
      },
      "execution_count": null,
      "outputs": [
        {
          "output_type": "stream",
          "name": "stdout",
          "text": [
            "True negatives:  19 \n",
            "False positives:  2 \n",
            "False negatives:  1 \n",
            "True Positives:  2\n"
          ]
        }
      ]
    },
    {
      "cell_type": "code",
      "execution_count": null,
      "metadata": {
        "colab": {
          "base_uri": "https://localhost:8080/"
        },
        "id": "fQ94kRVytGIg",
        "outputId": "d14d60df-34e2-468e-b9d7-d149a0e25d30"
      },
      "outputs": [
        {
          "output_type": "stream",
          "name": "stdout",
          "text": [
            "Test Accuracy Score:  0.875\n"
          ]
        }
      ],
      "source": [
        "score_ = accuracy_score(y_test, y_pred)\n",
        "print(\"Test Accuracy Score: \", score_)"
      ]
    },
    {
      "cell_type": "code",
      "source": [
        "from sklearn.metrics import classification_report\n",
        "print(classification_report(y_test, y_pred))"
      ],
      "metadata": {
        "colab": {
          "base_uri": "https://localhost:8080/"
        },
        "outputId": "098f747f-2ade-48d0-af45-cce1d09e6980",
        "id": "CxXyEMFsitni"
      },
      "execution_count": null,
      "outputs": [
        {
          "output_type": "stream",
          "name": "stdout",
          "text": [
            "              precision    recall  f1-score   support\n",
            "\n",
            "       False       0.95      0.90      0.93        21\n",
            "        True       0.50      0.67      0.57         3\n",
            "\n",
            "    accuracy                           0.88        24\n",
            "   macro avg       0.72      0.79      0.75        24\n",
            "weighted avg       0.89      0.88      0.88        24\n",
            "\n"
          ]
        }
      ]
    },
    {
      "cell_type": "markdown",
      "metadata": {
        "id": "dA7ImNGntGIh"
      },
      "source": [
        "##**Random Forest**"
      ]
    },
    {
      "cell_type": "code",
      "execution_count": null,
      "metadata": {
        "colab": {
          "base_uri": "https://localhost:8080/"
        },
        "id": "PeCBtO2mtGIh",
        "outputId": "90e85cea-59c5-49a7-ad83-72511b4aa902"
      },
      "outputs": [
        {
          "output_type": "execute_result",
          "data": {
            "text/plain": [
              "RandomForestClassifier(criterion='entropy', n_estimators=10)"
            ]
          },
          "metadata": {},
          "execution_count": 321
        }
      ],
      "source": [
        "#Fitting Decision Tree classifier to the training set  \n",
        "from sklearn.ensemble import RandomForestClassifier  \n",
        "classifier= RandomForestClassifier(n_estimators= 10, criterion=\"entropy\")  \n",
        "classifier.fit(x_train, y_train)  "
      ]
    },
    {
      "cell_type": "code",
      "execution_count": null,
      "metadata": {
        "id": "LC0PHPxrtGIi"
      },
      "outputs": [],
      "source": [
        "#Predicting the test set result  \n",
        "y_pred= classifier.predict(x_test)  "
      ]
    },
    {
      "cell_type": "code",
      "execution_count": null,
      "metadata": {
        "colab": {
          "base_uri": "https://localhost:8080/"
        },
        "id": "UWHoyKyatGIi",
        "outputId": "00de8a38-e14b-4740-8d20-535e75028cb6"
      },
      "outputs": [
        {
          "output_type": "stream",
          "name": "stdout",
          "text": [
            "[[20  1]\n",
            " [ 1  2]]\n"
          ]
        }
      ],
      "source": [
        "#Creating the Confusion matrix  \n",
        "from sklearn.metrics import confusion_matrix  \n",
        "cm= confusion_matrix(y_test, y_pred)  \n",
        "print(cm)"
      ]
    },
    {
      "cell_type": "code",
      "source": [
        "from sklearn.metrics import confusion_matrix\n",
        "tn, fp, fn, tp = confusion_matrix(y_test,y_pred).ravel()\n",
        "print('True negatives: ', tn, '\\nFalse positives: ', fp, '\\nFalse negatives: ', fn, '\\nTrue Positives: ', tp)\n"
      ],
      "metadata": {
        "colab": {
          "base_uri": "https://localhost:8080/"
        },
        "outputId": "7405ed08-e39c-4196-9dbd-f2107e1a671a",
        "id": "rZJOEbVuhok7"
      },
      "execution_count": null,
      "outputs": [
        {
          "output_type": "stream",
          "name": "stdout",
          "text": [
            "True negatives:  20 \n",
            "False positives:  1 \n",
            "False negatives:  1 \n",
            "True Positives:  2\n"
          ]
        }
      ]
    },
    {
      "cell_type": "code",
      "execution_count": null,
      "metadata": {
        "colab": {
          "base_uri": "https://localhost:8080/"
        },
        "id": "EanK8vbttGIi",
        "outputId": "6d257814-3d8d-4a47-e005-eddd162736fe"
      },
      "outputs": [
        {
          "output_type": "stream",
          "name": "stdout",
          "text": [
            "Test Accuracy Score:  0.9166666666666666\n"
          ]
        }
      ],
      "source": [
        "score_ = accuracy_score(y_test, y_pred)\n",
        "print(\"Test Accuracy Score: \", score_)"
      ]
    },
    {
      "cell_type": "code",
      "source": [
        "from sklearn.metrics import classification_report\n",
        "print(classification_report(y_test, y_pred))"
      ],
      "metadata": {
        "colab": {
          "base_uri": "https://localhost:8080/"
        },
        "outputId": "0ccdfaca-e18a-45cc-e362-603afbfae3e5",
        "id": "WGj8HSDnivN2"
      },
      "execution_count": null,
      "outputs": [
        {
          "output_type": "stream",
          "name": "stdout",
          "text": [
            "              precision    recall  f1-score   support\n",
            "\n",
            "       False       0.95      0.95      0.95        21\n",
            "        True       0.67      0.67      0.67         3\n",
            "\n",
            "    accuracy                           0.92        24\n",
            "   macro avg       0.81      0.81      0.81        24\n",
            "weighted avg       0.92      0.92      0.92        24\n",
            "\n"
          ]
        }
      ]
    },
    {
      "cell_type": "markdown",
      "metadata": {
        "id": "3Up24zzXtGIi"
      },
      "source": [
        "##**Bagging**"
      ]
    },
    {
      "cell_type": "code",
      "execution_count": null,
      "metadata": {
        "colab": {
          "base_uri": "https://localhost:8080/"
        },
        "id": "GIuBhA_0tGIj",
        "outputId": "db959b36-1d76-4275-8dc6-b7c4b3914699"
      },
      "outputs": [
        {
          "output_type": "execute_result",
          "data": {
            "text/plain": [
              "DecisionTreeClassifier(random_state=21)"
            ]
          },
          "metadata": {},
          "execution_count": 327
        }
      ],
      "source": [
        "from sklearn.tree import DecisionTreeClassifier\n",
        "dtree = DecisionTreeClassifier(random_state=21)\n",
        "dtree.fit(x_train,y_train)"
      ]
    },
    {
      "cell_type": "code",
      "execution_count": null,
      "metadata": {
        "colab": {
          "base_uri": "https://localhost:8080/"
        },
        "outputId": "466d20eb-1cae-492d-dbbd-a9d83bfc03de",
        "id": "RvQgP4QJgbCV"
      },
      "outputs": [
        {
          "output_type": "stream",
          "name": "stdout",
          "text": [
            "[[20  1]\n",
            " [ 1  2]]\n"
          ]
        }
      ],
      "source": [
        "from sklearn.metrics import confusion_matrix  \n",
        "cm= confusion_matrix(y_test, y_pred)  \n",
        "print(cm)"
      ]
    },
    {
      "cell_type": "code",
      "source": [
        "from sklearn.metrics import confusion_matrix\n",
        "tn, fp, fn, tp = confusion_matrix(y_test,y_pred).ravel()\n",
        "print('True negatives: ', tn, '\\nFalse positives: ', fp, '\\nFalse negatives: ', fn, '\\nTrue Positives: ', tp)\n"
      ],
      "metadata": {
        "colab": {
          "base_uri": "https://localhost:8080/"
        },
        "outputId": "1b4147cd-995e-44be-9e8a-38605c858039",
        "id": "5SIeFoUShpy9"
      },
      "execution_count": null,
      "outputs": [
        {
          "output_type": "stream",
          "name": "stdout",
          "text": [
            "True negatives:  20 \n",
            "False positives:  1 \n",
            "False negatives:  1 \n",
            "True Positives:  2\n"
          ]
        }
      ]
    },
    {
      "cell_type": "code",
      "execution_count": null,
      "metadata": {
        "colab": {
          "base_uri": "https://localhost:8080/"
        },
        "id": "SZAEDc1WtGIj",
        "outputId": "f6c44d27-23dd-4e44-95b9-2cfa90675f16"
      },
      "outputs": [
        {
          "output_type": "stream",
          "name": "stdout",
          "text": [
            "Train data accuracy: 0.9944444444444445\n",
            "Test data accuracy: 0.875\n"
          ]
        }
      ],
      "source": [
        "y_pred = dtree.predict(x_test)\n",
        "\n",
        "print(\"Train data accuracy:\",accuracy_score(y_true = y_train, y_pred = dtree.predict(x_train)))\n",
        "print(\"Test data accuracy:\",accuracy_score(y_true = y_test, y_pred = y_pred))"
      ]
    },
    {
      "cell_type": "code",
      "source": [
        "from sklearn.metrics import classification_report\n",
        "print(classification_report(y_test, y_pred))"
      ],
      "metadata": {
        "colab": {
          "base_uri": "https://localhost:8080/"
        },
        "outputId": "069a259b-6a1a-4146-dbff-3b03a8d05a69",
        "id": "IfBpQDffiwJd"
      },
      "execution_count": null,
      "outputs": [
        {
          "output_type": "stream",
          "name": "stdout",
          "text": [
            "              precision    recall  f1-score   support\n",
            "\n",
            "       False       0.88      1.00      0.93        21\n",
            "        True       0.00      0.00      0.00         3\n",
            "\n",
            "    accuracy                           0.88        24\n",
            "   macro avg       0.44      0.50      0.47        24\n",
            "weighted avg       0.77      0.88      0.82        24\n",
            "\n"
          ]
        },
        {
          "output_type": "stream",
          "name": "stderr",
          "text": [
            "/usr/local/lib/python3.8/dist-packages/sklearn/metrics/_classification.py:1318: UndefinedMetricWarning: Precision and F-score are ill-defined and being set to 0.0 in labels with no predicted samples. Use `zero_division` parameter to control this behavior.\n",
            "  _warn_prf(average, modifier, msg_start, len(result))\n",
            "/usr/local/lib/python3.8/dist-packages/sklearn/metrics/_classification.py:1318: UndefinedMetricWarning: Precision and F-score are ill-defined and being set to 0.0 in labels with no predicted samples. Use `zero_division` parameter to control this behavior.\n",
            "  _warn_prf(average, modifier, msg_start, len(result))\n",
            "/usr/local/lib/python3.8/dist-packages/sklearn/metrics/_classification.py:1318: UndefinedMetricWarning: Precision and F-score are ill-defined and being set to 0.0 in labels with no predicted samples. Use `zero_division` parameter to control this behavior.\n",
            "  _warn_prf(average, modifier, msg_start, len(result))\n"
          ]
        }
      ]
    },
    {
      "cell_type": "markdown",
      "metadata": {
        "id": "xUP2XGpjqXIK"
      },
      "source": [
        "#**ar3 Dataset**"
      ]
    },
    {
      "cell_type": "code",
      "source": [
        "ar3_df"
      ],
      "metadata": {
        "colab": {
          "base_uri": "https://localhost:8080/",
          "height": 487
        },
        "id": "5VHJ412W1JTl",
        "outputId": "568d1db3-fb31-4d81-beaf-b3a0c0c72952"
      },
      "execution_count": null,
      "outputs": [
        {
          "output_type": "execute_result",
          "data": {
            "text/plain": [
              "    total_loc  blank_loc  comment_loc  code_and_comment_loc  executable_loc  \\\n",
              "0           3          0            0                     0               3   \n",
              "1         268         72           22                     0             174   \n",
              "2          11          2            0                     0               9   \n",
              "3           9          2            0                     0               7   \n",
              "4          10          2            0                     0               8   \n",
              "..        ...        ...          ...                   ...             ...   \n",
              "57        173         59           22                     6              92   \n",
              "58        114         32           12                     3              70   \n",
              "59        148         41            5                     0             102   \n",
              "60         10          0            0                     0              10   \n",
              "61        333         94           53                     9             186   \n",
              "\n",
              "    unique_operands  unique_operators  total_operands  total_operators  \\\n",
              "0                 4                 6               6                8   \n",
              "1               125                23             337              484   \n",
              "2                10                 4              15               17   \n",
              "3                 7                 4              11               13   \n",
              "4                 7                 4              13               15   \n",
              "..              ...               ...             ...              ...   \n",
              "57               77                31             277              352   \n",
              "58               46                23             134              180   \n",
              "59               42                16             147              208   \n",
              "60               11                 7              30               38   \n",
              "61               56                18             352              469   \n",
              "\n",
              "    halstead_vocabulary  ...  condition_count  multiple_condition_count  \\\n",
              "0                    10  ...                0                         0   \n",
              "1                   148  ...               94                        32   \n",
              "2                    14  ...                0                         0   \n",
              "3                    11  ...                0                         0   \n",
              "4                    11  ...                0                         0   \n",
              "..                  ...  ...              ...                       ...   \n",
              "57                  108  ...               53                        14   \n",
              "58                   69  ...               27                         7   \n",
              "59                   58  ...               24                         7   \n",
              "60                   18  ...               12                         6   \n",
              "61                   74  ...               56                        15   \n",
              "\n",
              "    cyclomatic_complexity  cyclomatic_density  decision_density  \\\n",
              "0                       1             0.33333            0.0000   \n",
              "1                      64             0.36782            1.0106   \n",
              "2                       1             0.11111            0.0000   \n",
              "3                       1             0.14286            0.0000   \n",
              "4                       1             0.12500            0.0000   \n",
              "..                    ...                 ...               ...   \n",
              "57                     40             0.43478            1.0189   \n",
              "58                     22             0.31429            1.0370   \n",
              "59                     18             0.17647            1.0000   \n",
              "60                      7             0.70000            1.0000   \n",
              "61                     40             0.21505            1.0179   \n",
              "\n",
              "    design_complexity  design_density  normalized_cyclomatic_complexity  \\\n",
              "0                   0        0.000000                          0.333330   \n",
              "1                   0        0.000000                          0.238810   \n",
              "2                   2        2.000000                          0.090909   \n",
              "3                   1        1.000000                          0.111110   \n",
              "4                   2        2.000000                          0.100000   \n",
              "..                ...             ...                               ...   \n",
              "57                  0        0.000000                          0.231210   \n",
              "58                  1        0.045455                          0.192980   \n",
              "59                  0        0.000000                          0.121620   \n",
              "60                  1        0.142860                          0.700000   \n",
              "61                 23        0.575000                          0.120120   \n",
              "\n",
              "    formal_parameters  defects  \n",
              "0                   0    False  \n",
              "1                   0    False  \n",
              "2                   0    False  \n",
              "3                   0    False  \n",
              "4                   0    False  \n",
              "..                ...      ...  \n",
              "57                  0     True  \n",
              "58                  0    False  \n",
              "59                  0    False  \n",
              "60                  0    False  \n",
              "61                  0     True  \n",
              "\n",
              "[62 rows x 30 columns]"
            ],
            "text/html": [
              "\n",
              "  <div id=\"df-d56c44d4-0c58-4ed9-85f8-6db4caf18014\">\n",
              "    <div class=\"colab-df-container\">\n",
              "      <div>\n",
              "<style scoped>\n",
              "    .dataframe tbody tr th:only-of-type {\n",
              "        vertical-align: middle;\n",
              "    }\n",
              "\n",
              "    .dataframe tbody tr th {\n",
              "        vertical-align: top;\n",
              "    }\n",
              "\n",
              "    .dataframe thead th {\n",
              "        text-align: right;\n",
              "    }\n",
              "</style>\n",
              "<table border=\"1\" class=\"dataframe\">\n",
              "  <thead>\n",
              "    <tr style=\"text-align: right;\">\n",
              "      <th></th>\n",
              "      <th>total_loc</th>\n",
              "      <th>blank_loc</th>\n",
              "      <th>comment_loc</th>\n",
              "      <th>code_and_comment_loc</th>\n",
              "      <th>executable_loc</th>\n",
              "      <th>unique_operands</th>\n",
              "      <th>unique_operators</th>\n",
              "      <th>total_operands</th>\n",
              "      <th>total_operators</th>\n",
              "      <th>halstead_vocabulary</th>\n",
              "      <th>...</th>\n",
              "      <th>condition_count</th>\n",
              "      <th>multiple_condition_count</th>\n",
              "      <th>cyclomatic_complexity</th>\n",
              "      <th>cyclomatic_density</th>\n",
              "      <th>decision_density</th>\n",
              "      <th>design_complexity</th>\n",
              "      <th>design_density</th>\n",
              "      <th>normalized_cyclomatic_complexity</th>\n",
              "      <th>formal_parameters</th>\n",
              "      <th>defects</th>\n",
              "    </tr>\n",
              "  </thead>\n",
              "  <tbody>\n",
              "    <tr>\n",
              "      <th>0</th>\n",
              "      <td>3</td>\n",
              "      <td>0</td>\n",
              "      <td>0</td>\n",
              "      <td>0</td>\n",
              "      <td>3</td>\n",
              "      <td>4</td>\n",
              "      <td>6</td>\n",
              "      <td>6</td>\n",
              "      <td>8</td>\n",
              "      <td>10</td>\n",
              "      <td>...</td>\n",
              "      <td>0</td>\n",
              "      <td>0</td>\n",
              "      <td>1</td>\n",
              "      <td>0.33333</td>\n",
              "      <td>0.0000</td>\n",
              "      <td>0</td>\n",
              "      <td>0.000000</td>\n",
              "      <td>0.333330</td>\n",
              "      <td>0</td>\n",
              "      <td>False</td>\n",
              "    </tr>\n",
              "    <tr>\n",
              "      <th>1</th>\n",
              "      <td>268</td>\n",
              "      <td>72</td>\n",
              "      <td>22</td>\n",
              "      <td>0</td>\n",
              "      <td>174</td>\n",
              "      <td>125</td>\n",
              "      <td>23</td>\n",
              "      <td>337</td>\n",
              "      <td>484</td>\n",
              "      <td>148</td>\n",
              "      <td>...</td>\n",
              "      <td>94</td>\n",
              "      <td>32</td>\n",
              "      <td>64</td>\n",
              "      <td>0.36782</td>\n",
              "      <td>1.0106</td>\n",
              "      <td>0</td>\n",
              "      <td>0.000000</td>\n",
              "      <td>0.238810</td>\n",
              "      <td>0</td>\n",
              "      <td>False</td>\n",
              "    </tr>\n",
              "    <tr>\n",
              "      <th>2</th>\n",
              "      <td>11</td>\n",
              "      <td>2</td>\n",
              "      <td>0</td>\n",
              "      <td>0</td>\n",
              "      <td>9</td>\n",
              "      <td>10</td>\n",
              "      <td>4</td>\n",
              "      <td>15</td>\n",
              "      <td>17</td>\n",
              "      <td>14</td>\n",
              "      <td>...</td>\n",
              "      <td>0</td>\n",
              "      <td>0</td>\n",
              "      <td>1</td>\n",
              "      <td>0.11111</td>\n",
              "      <td>0.0000</td>\n",
              "      <td>2</td>\n",
              "      <td>2.000000</td>\n",
              "      <td>0.090909</td>\n",
              "      <td>0</td>\n",
              "      <td>False</td>\n",
              "    </tr>\n",
              "    <tr>\n",
              "      <th>3</th>\n",
              "      <td>9</td>\n",
              "      <td>2</td>\n",
              "      <td>0</td>\n",
              "      <td>0</td>\n",
              "      <td>7</td>\n",
              "      <td>7</td>\n",
              "      <td>4</td>\n",
              "      <td>11</td>\n",
              "      <td>13</td>\n",
              "      <td>11</td>\n",
              "      <td>...</td>\n",
              "      <td>0</td>\n",
              "      <td>0</td>\n",
              "      <td>1</td>\n",
              "      <td>0.14286</td>\n",
              "      <td>0.0000</td>\n",
              "      <td>1</td>\n",
              "      <td>1.000000</td>\n",
              "      <td>0.111110</td>\n",
              "      <td>0</td>\n",
              "      <td>False</td>\n",
              "    </tr>\n",
              "    <tr>\n",
              "      <th>4</th>\n",
              "      <td>10</td>\n",
              "      <td>2</td>\n",
              "      <td>0</td>\n",
              "      <td>0</td>\n",
              "      <td>8</td>\n",
              "      <td>7</td>\n",
              "      <td>4</td>\n",
              "      <td>13</td>\n",
              "      <td>15</td>\n",
              "      <td>11</td>\n",
              "      <td>...</td>\n",
              "      <td>0</td>\n",
              "      <td>0</td>\n",
              "      <td>1</td>\n",
              "      <td>0.12500</td>\n",
              "      <td>0.0000</td>\n",
              "      <td>2</td>\n",
              "      <td>2.000000</td>\n",
              "      <td>0.100000</td>\n",
              "      <td>0</td>\n",
              "      <td>False</td>\n",
              "    </tr>\n",
              "    <tr>\n",
              "      <th>...</th>\n",
              "      <td>...</td>\n",
              "      <td>...</td>\n",
              "      <td>...</td>\n",
              "      <td>...</td>\n",
              "      <td>...</td>\n",
              "      <td>...</td>\n",
              "      <td>...</td>\n",
              "      <td>...</td>\n",
              "      <td>...</td>\n",
              "      <td>...</td>\n",
              "      <td>...</td>\n",
              "      <td>...</td>\n",
              "      <td>...</td>\n",
              "      <td>...</td>\n",
              "      <td>...</td>\n",
              "      <td>...</td>\n",
              "      <td>...</td>\n",
              "      <td>...</td>\n",
              "      <td>...</td>\n",
              "      <td>...</td>\n",
              "      <td>...</td>\n",
              "    </tr>\n",
              "    <tr>\n",
              "      <th>57</th>\n",
              "      <td>173</td>\n",
              "      <td>59</td>\n",
              "      <td>22</td>\n",
              "      <td>6</td>\n",
              "      <td>92</td>\n",
              "      <td>77</td>\n",
              "      <td>31</td>\n",
              "      <td>277</td>\n",
              "      <td>352</td>\n",
              "      <td>108</td>\n",
              "      <td>...</td>\n",
              "      <td>53</td>\n",
              "      <td>14</td>\n",
              "      <td>40</td>\n",
              "      <td>0.43478</td>\n",
              "      <td>1.0189</td>\n",
              "      <td>0</td>\n",
              "      <td>0.000000</td>\n",
              "      <td>0.231210</td>\n",
              "      <td>0</td>\n",
              "      <td>True</td>\n",
              "    </tr>\n",
              "    <tr>\n",
              "      <th>58</th>\n",
              "      <td>114</td>\n",
              "      <td>32</td>\n",
              "      <td>12</td>\n",
              "      <td>3</td>\n",
              "      <td>70</td>\n",
              "      <td>46</td>\n",
              "      <td>23</td>\n",
              "      <td>134</td>\n",
              "      <td>180</td>\n",
              "      <td>69</td>\n",
              "      <td>...</td>\n",
              "      <td>27</td>\n",
              "      <td>7</td>\n",
              "      <td>22</td>\n",
              "      <td>0.31429</td>\n",
              "      <td>1.0370</td>\n",
              "      <td>1</td>\n",
              "      <td>0.045455</td>\n",
              "      <td>0.192980</td>\n",
              "      <td>0</td>\n",
              "      <td>False</td>\n",
              "    </tr>\n",
              "    <tr>\n",
              "      <th>59</th>\n",
              "      <td>148</td>\n",
              "      <td>41</td>\n",
              "      <td>5</td>\n",
              "      <td>0</td>\n",
              "      <td>102</td>\n",
              "      <td>42</td>\n",
              "      <td>16</td>\n",
              "      <td>147</td>\n",
              "      <td>208</td>\n",
              "      <td>58</td>\n",
              "      <td>...</td>\n",
              "      <td>24</td>\n",
              "      <td>7</td>\n",
              "      <td>18</td>\n",
              "      <td>0.17647</td>\n",
              "      <td>1.0000</td>\n",
              "      <td>0</td>\n",
              "      <td>0.000000</td>\n",
              "      <td>0.121620</td>\n",
              "      <td>0</td>\n",
              "      <td>False</td>\n",
              "    </tr>\n",
              "    <tr>\n",
              "      <th>60</th>\n",
              "      <td>10</td>\n",
              "      <td>0</td>\n",
              "      <td>0</td>\n",
              "      <td>0</td>\n",
              "      <td>10</td>\n",
              "      <td>11</td>\n",
              "      <td>7</td>\n",
              "      <td>30</td>\n",
              "      <td>38</td>\n",
              "      <td>18</td>\n",
              "      <td>...</td>\n",
              "      <td>12</td>\n",
              "      <td>6</td>\n",
              "      <td>7</td>\n",
              "      <td>0.70000</td>\n",
              "      <td>1.0000</td>\n",
              "      <td>1</td>\n",
              "      <td>0.142860</td>\n",
              "      <td>0.700000</td>\n",
              "      <td>0</td>\n",
              "      <td>False</td>\n",
              "    </tr>\n",
              "    <tr>\n",
              "      <th>61</th>\n",
              "      <td>333</td>\n",
              "      <td>94</td>\n",
              "      <td>53</td>\n",
              "      <td>9</td>\n",
              "      <td>186</td>\n",
              "      <td>56</td>\n",
              "      <td>18</td>\n",
              "      <td>352</td>\n",
              "      <td>469</td>\n",
              "      <td>74</td>\n",
              "      <td>...</td>\n",
              "      <td>56</td>\n",
              "      <td>15</td>\n",
              "      <td>40</td>\n",
              "      <td>0.21505</td>\n",
              "      <td>1.0179</td>\n",
              "      <td>23</td>\n",
              "      <td>0.575000</td>\n",
              "      <td>0.120120</td>\n",
              "      <td>0</td>\n",
              "      <td>True</td>\n",
              "    </tr>\n",
              "  </tbody>\n",
              "</table>\n",
              "<p>62 rows × 30 columns</p>\n",
              "</div>\n",
              "      <button class=\"colab-df-convert\" onclick=\"convertToInteractive('df-d56c44d4-0c58-4ed9-85f8-6db4caf18014')\"\n",
              "              title=\"Convert this dataframe to an interactive table.\"\n",
              "              style=\"display:none;\">\n",
              "        \n",
              "  <svg xmlns=\"http://www.w3.org/2000/svg\" height=\"24px\"viewBox=\"0 0 24 24\"\n",
              "       width=\"24px\">\n",
              "    <path d=\"M0 0h24v24H0V0z\" fill=\"none\"/>\n",
              "    <path d=\"M18.56 5.44l.94 2.06.94-2.06 2.06-.94-2.06-.94-.94-2.06-.94 2.06-2.06.94zm-11 1L8.5 8.5l.94-2.06 2.06-.94-2.06-.94L8.5 2.5l-.94 2.06-2.06.94zm10 10l.94 2.06.94-2.06 2.06-.94-2.06-.94-.94-2.06-.94 2.06-2.06.94z\"/><path d=\"M17.41 7.96l-1.37-1.37c-.4-.4-.92-.59-1.43-.59-.52 0-1.04.2-1.43.59L10.3 9.45l-7.72 7.72c-.78.78-.78 2.05 0 2.83L4 21.41c.39.39.9.59 1.41.59.51 0 1.02-.2 1.41-.59l7.78-7.78 2.81-2.81c.8-.78.8-2.07 0-2.86zM5.41 20L4 18.59l7.72-7.72 1.47 1.35L5.41 20z\"/>\n",
              "  </svg>\n",
              "      </button>\n",
              "      \n",
              "  <style>\n",
              "    .colab-df-container {\n",
              "      display:flex;\n",
              "      flex-wrap:wrap;\n",
              "      gap: 12px;\n",
              "    }\n",
              "\n",
              "    .colab-df-convert {\n",
              "      background-color: #E8F0FE;\n",
              "      border: none;\n",
              "      border-radius: 50%;\n",
              "      cursor: pointer;\n",
              "      display: none;\n",
              "      fill: #1967D2;\n",
              "      height: 32px;\n",
              "      padding: 0 0 0 0;\n",
              "      width: 32px;\n",
              "    }\n",
              "\n",
              "    .colab-df-convert:hover {\n",
              "      background-color: #E2EBFA;\n",
              "      box-shadow: 0px 1px 2px rgba(60, 64, 67, 0.3), 0px 1px 3px 1px rgba(60, 64, 67, 0.15);\n",
              "      fill: #174EA6;\n",
              "    }\n",
              "\n",
              "    [theme=dark] .colab-df-convert {\n",
              "      background-color: #3B4455;\n",
              "      fill: #D2E3FC;\n",
              "    }\n",
              "\n",
              "    [theme=dark] .colab-df-convert:hover {\n",
              "      background-color: #434B5C;\n",
              "      box-shadow: 0px 1px 3px 1px rgba(0, 0, 0, 0.15);\n",
              "      filter: drop-shadow(0px 1px 2px rgba(0, 0, 0, 0.3));\n",
              "      fill: #FFFFFF;\n",
              "    }\n",
              "  </style>\n",
              "\n",
              "      <script>\n",
              "        const buttonEl =\n",
              "          document.querySelector('#df-d56c44d4-0c58-4ed9-85f8-6db4caf18014 button.colab-df-convert');\n",
              "        buttonEl.style.display =\n",
              "          google.colab.kernel.accessAllowed ? 'block' : 'none';\n",
              "\n",
              "        async function convertToInteractive(key) {\n",
              "          const element = document.querySelector('#df-d56c44d4-0c58-4ed9-85f8-6db4caf18014');\n",
              "          const dataTable =\n",
              "            await google.colab.kernel.invokeFunction('convertToInteractive',\n",
              "                                                     [key], {});\n",
              "          if (!dataTable) return;\n",
              "\n",
              "          const docLinkHtml = 'Like what you see? Visit the ' +\n",
              "            '<a target=\"_blank\" href=https://colab.research.google.com/notebooks/data_table.ipynb>data table notebook</a>'\n",
              "            + ' to learn more about interactive tables.';\n",
              "          element.innerHTML = '';\n",
              "          dataTable['output_type'] = 'display_data';\n",
              "          await google.colab.output.renderOutput(dataTable, element);\n",
              "          const docLink = document.createElement('div');\n",
              "          docLink.innerHTML = docLinkHtml;\n",
              "          element.appendChild(docLink);\n",
              "        }\n",
              "      </script>\n",
              "    </div>\n",
              "  </div>\n",
              "  "
            ]
          },
          "metadata": {},
          "execution_count": 332
        }
      ]
    },
    {
      "cell_type": "markdown",
      "metadata": {
        "id": "DtTucMSVrhJr"
      },
      "source": [
        "####**Spiliting Dataset**\n",
        "training: 80% testing:20%"
      ]
    },
    {
      "cell_type": "code",
      "execution_count": null,
      "metadata": {
        "id": "84YuotQRrnR2"
      },
      "outputs": [],
      "source": [
        "x = ar3_df.iloc[:,:-1]\n",
        "y = ar3_df.iloc[:,-1]\n",
        "\n",
        "from sklearn.model_selection import train_test_split\n",
        "x_train, x_test, y_train, y_test = train_test_split(x,y,test_size=0.20,random_state=0)"
      ]
    },
    {
      "cell_type": "markdown",
      "source": [
        "###Performing SMOTE in order to balance class imbalance problem."
      ],
      "metadata": {
        "id": "n3bRyE_ve2vn"
      }
    },
    {
      "cell_type": "code",
      "source": [
        "from imblearn.over_sampling import SMOTE\n",
        "x_train, y_train = SMOTE().fit_resample(x_train, y_train)"
      ],
      "metadata": {
        "id": "1zddIquke2vo"
      },
      "execution_count": null,
      "outputs": []
    },
    {
      "cell_type": "code",
      "execution_count": null,
      "metadata": {
        "id": "-WmKzyjce2vp"
      },
      "outputs": [],
      "source": [
        "from sklearn.preprocessing import StandardScaler    \n",
        "st_x= StandardScaler()    \n",
        "x_train= st_x.fit_transform(x_train)    \n",
        "x_test= st_x.transform(x_test)  "
      ]
    },
    {
      "cell_type": "markdown",
      "source": [
        "**Class become balanced as we can see in below class. Here we use OverSampling.**\n",
        "<br>\n",
        "Oversampling is solution to imbalanced data. Oversampling is the opposite of undersampling. Oversampling means making duplicates of the data that is the least present in our data set. We then add those duplicates to your data set."
      ],
      "metadata": {
        "id": "-4qNNkpUe2vq"
      }
    },
    {
      "cell_type": "code",
      "source": [
        "import seaborn as sns\n",
        "\n",
        "plt.rcParams['figure.figsize']=(12,6)\n",
        "plt.rcParams['font.size']=14\n",
        "plt.title('kc2 Dataset')\n",
        "sns.set_style(\"darkgrid\")\n",
        "\n",
        "sns.countplot(y_train);"
      ],
      "metadata": {
        "colab": {
          "base_uri": "https://localhost:8080/",
          "height": 471
        },
        "outputId": "add346a2-712c-4724-baa9-f5c704da1bc0",
        "id": "gyPZNO4-e2vq"
      },
      "execution_count": null,
      "outputs": [
        {
          "output_type": "stream",
          "name": "stderr",
          "text": [
            "/usr/local/lib/python3.8/dist-packages/seaborn/_decorators.py:36: FutureWarning: Pass the following variable as a keyword arg: x. From version 0.12, the only valid positional argument will be `data`, and passing other arguments without an explicit keyword will result in an error or misinterpretation.\n",
            "  warnings.warn(\n"
          ]
        },
        {
          "output_type": "display_data",
          "data": {
            "text/plain": [
              "<Figure size 864x432 with 1 Axes>"
            ],
            "image/png": "[encoded data removed]"
          },
          "metadata": {}
        }
      ]
    },
    {
      "cell_type": "markdown",
      "metadata": {
        "id": "GRvI2zwcrL3u"
      },
      "source": [
        "###**Logistic Regression**"
      ]
    },
    {
      "cell_type": "code",
      "execution_count": null,
      "metadata": {
        "colab": {
          "base_uri": "https://localhost:8080/"
        },
        "id": "ewHGOgvewCom",
        "outputId": "97c560ad-aa79-4f0b-d9bd-500856c4074f"
      },
      "outputs": [
        {
          "output_type": "stream",
          "name": "stdout",
          "text": [
            "Test Accuracy Score:  0.7692307692307693\n",
            "Confusion Matrix: \n",
            " [[10  2]\n",
            " [ 1  0]]\n"
          ]
        }
      ],
      "source": [
        "from sklearn.linear_model import LogisticRegression  \n",
        "classifier= LogisticRegression(random_state=0)  \n",
        "classifier.fit(x_train, y_train) \n",
        "\n",
        "y_pred= classifier.predict(x_test)\n",
        "\n",
        "score_ = accuracy_score(y_test, y_pred)\n",
        "print(\"Test Accuracy Score: \", score_)\n",
        "\n",
        "from sklearn.metrics import confusion_matrix  \n",
        "cm= confusion_matrix(y_test,y_pred)\n",
        "print(\"Confusion Matrix: \\n\",cm)"
      ]
    },
    {
      "cell_type": "code",
      "source": [
        "from sklearn.metrics import confusion_matrix\n",
        "tn, fp, fn, tp = confusion_matrix(y_test,y_pred).ravel()\n",
        "print('True negatives: ', tn, '\\nFalse positives: ', fp, '\\nFalse negatives: ', fn, '\\nTrue Positives: ', tp)"
      ],
      "metadata": {
        "colab": {
          "base_uri": "https://localhost:8080/"
        },
        "outputId": "8145daf9-3edd-41d1-e8ec-f1e33bfccf7f",
        "id": "UB0b2ZyXhsup"
      },
      "execution_count": null,
      "outputs": [
        {
          "output_type": "stream",
          "name": "stdout",
          "text": [
            "True negatives:  10 \n",
            "False positives:  2 \n",
            "False negatives:  1 \n",
            "True Positives:  0\n"
          ]
        }
      ]
    },
    {
      "cell_type": "code",
      "source": [
        "from sklearn.metrics import classification_report\n",
        "print(classification_report(y_test, y_pred))"
      ],
      "metadata": {
        "colab": {
          "base_uri": "https://localhost:8080/"
        },
        "outputId": "53b54a8a-2973-4726-fee2-812093787e85",
        "id": "J-TB-t8giz9S"
      },
      "execution_count": null,
      "outputs": [
        {
          "output_type": "stream",
          "name": "stdout",
          "text": [
            "              precision    recall  f1-score   support\n",
            "\n",
            "       False       0.91      0.83      0.87        12\n",
            "        True       0.00      0.00      0.00         1\n",
            "\n",
            "    accuracy                           0.77        13\n",
            "   macro avg       0.45      0.42      0.43        13\n",
            "weighted avg       0.84      0.77      0.80        13\n",
            "\n"
          ]
        }
      ]
    },
    {
      "cell_type": "markdown",
      "metadata": {
        "id": "1bbj4dXhwCon"
      },
      "source": [
        "###**Support Vector Machine Algorithm**"
      ]
    },
    {
      "cell_type": "code",
      "execution_count": null,
      "metadata": {
        "colab": {
          "base_uri": "https://localhost:8080/"
        },
        "id": "VIrcLtPkwCoo",
        "outputId": "827d474a-0353-4e6a-c290-2960b534a255"
      },
      "outputs": [
        {
          "output_type": "execute_result",
          "data": {
            "text/plain": [
              "SVC(kernel='linear', random_state=0)"
            ]
          },
          "metadata": {},
          "execution_count": 340
        }
      ],
      "source": [
        "from sklearn.svm import SVC # \"Support vector classifier\"  \n",
        "classifier = SVC(kernel='linear', random_state=0)  \n",
        "classifier.fit(x_train, y_train)  "
      ]
    },
    {
      "cell_type": "code",
      "execution_count": null,
      "metadata": {
        "id": "TsNW2boBwCoo"
      },
      "outputs": [],
      "source": [
        "#Predicting the test set result  \n",
        "y_pred= classifier.predict(x_test)  "
      ]
    },
    {
      "cell_type": "code",
      "execution_count": null,
      "metadata": {
        "colab": {
          "base_uri": "https://localhost:8080/"
        },
        "id": "pDa__vGXwCoo",
        "outputId": "a67ccaed-bfb2-41f9-bbe3-1aa2b3e45c38"
      },
      "outputs": [
        {
          "output_type": "stream",
          "name": "stdout",
          "text": [
            "[[10  2]\n",
            " [ 1  0]]\n"
          ]
        }
      ],
      "source": [
        "from sklearn.metrics import confusion_matrix  \n",
        "cm= confusion_matrix(y_test, y_pred)  \n",
        "print(cm)"
      ]
    },
    {
      "cell_type": "code",
      "source": [
        "from sklearn.metrics import confusion_matrix\n",
        "tn, fp, fn, tp = confusion_matrix(y_test,y_pred).ravel()\n",
        "print('True negatives: ', tn, '\\nFalse positives: ', fp, '\\nFalse negatives: ', fn, '\\nTrue Positives: ', tp)\n"
      ],
      "metadata": {
        "colab": {
          "base_uri": "https://localhost:8080/"
        },
        "outputId": "5fe30dd8-5f9d-467e-8059-d34b99a22d87",
        "id": "wz7IQmpBhtnk"
      },
      "execution_count": null,
      "outputs": [
        {
          "output_type": "stream",
          "name": "stdout",
          "text": [
            "True negatives:  10 \n",
            "False positives:  2 \n",
            "False negatives:  1 \n",
            "True Positives:  0\n"
          ]
        }
      ]
    },
    {
      "cell_type": "code",
      "execution_count": null,
      "metadata": {
        "colab": {
          "base_uri": "https://localhost:8080/"
        },
        "id": "Rl7JEnLewCop",
        "outputId": "86121efe-2b55-496f-e0c3-9469c72c500a"
      },
      "outputs": [
        {
          "output_type": "stream",
          "name": "stdout",
          "text": [
            "Test Accuracy Score:  0.7692307692307693\n"
          ]
        }
      ],
      "source": [
        "score_ = accuracy_score(y_test, y_pred)\n",
        "print(\"Test Accuracy Score: \", score_)"
      ]
    },
    {
      "cell_type": "code",
      "source": [
        "from sklearn.metrics import classification_report\n",
        "print(classification_report(y_test, y_pred))"
      ],
      "metadata": {
        "colab": {
          "base_uri": "https://localhost:8080/"
        },
        "outputId": "98a248a4-0053-420c-9ca9-ca5b571241e3",
        "id": "Qsa3wI0wi1VY"
      },
      "execution_count": null,
      "outputs": [
        {
          "output_type": "stream",
          "name": "stdout",
          "text": [
            "              precision    recall  f1-score   support\n",
            "\n",
            "       False       0.91      0.83      0.87        12\n",
            "        True       0.00      0.00      0.00         1\n",
            "\n",
            "    accuracy                           0.77        13\n",
            "   macro avg       0.45      0.42      0.43        13\n",
            "weighted avg       0.84      0.77      0.80        13\n",
            "\n"
          ]
        }
      ]
    },
    {
      "cell_type": "markdown",
      "metadata": {
        "id": "Jt6Ld7TBwCop"
      },
      "source": [
        "##**Decision Tree Algorithm**"
      ]
    },
    {
      "cell_type": "code",
      "execution_count": null,
      "metadata": {
        "colab": {
          "base_uri": "https://localhost:8080/"
        },
        "id": "J_I1-iX_wCop",
        "outputId": "b8a13394-6ac5-4a42-afb5-668926ddc161"
      },
      "outputs": [
        {
          "output_type": "execute_result",
          "data": {
            "text/plain": [
              "DecisionTreeClassifier(criterion='entropy', random_state=0)"
            ]
          },
          "metadata": {},
          "execution_count": 346
        }
      ],
      "source": [
        "from sklearn.tree import DecisionTreeClassifier  \n",
        "classifier= DecisionTreeClassifier(criterion='entropy', random_state=0)  \n",
        "classifier.fit(x_train, y_train)  "
      ]
    },
    {
      "cell_type": "code",
      "execution_count": null,
      "metadata": {
        "id": "mIP9irDowCoq"
      },
      "outputs": [],
      "source": [
        "#Predicting the test set result  \n",
        "y_pred= classifier.predict(x_test)  "
      ]
    },
    {
      "cell_type": "code",
      "execution_count": null,
      "metadata": {
        "colab": {
          "base_uri": "https://localhost:8080/"
        },
        "id": "oSPOrJTlwCoq",
        "outputId": "2a0dda9a-1a58-4c0a-ebed-753f7f1ce422"
      },
      "outputs": [
        {
          "output_type": "stream",
          "name": "stdout",
          "text": [
            "[[11  1]\n",
            " [ 1  0]]\n"
          ]
        }
      ],
      "source": [
        "#Creating the Confusion matrix  \n",
        "from sklearn.metrics import confusion_matrix  \n",
        "cm= confusion_matrix(y_test, y_pred) \n",
        "print(cm)"
      ]
    },
    {
      "cell_type": "code",
      "source": [
        "from sklearn.metrics import confusion_matrix\n",
        "tn, fp, fn, tp = confusion_matrix(y_test,y_pred).ravel()\n",
        "print('True negatives: ', tn, '\\nFalse positives: ', fp, '\\nFalse negatives: ', fn, '\\nTrue Positives: ', tp)\n"
      ],
      "metadata": {
        "colab": {
          "base_uri": "https://localhost:8080/"
        },
        "outputId": "303847c7-648b-4550-8567-d0b592d6eb50",
        "id": "h1wFpt3Chuk7"
      },
      "execution_count": null,
      "outputs": [
        {
          "output_type": "stream",
          "name": "stdout",
          "text": [
            "True negatives:  11 \n",
            "False positives:  1 \n",
            "False negatives:  1 \n",
            "True Positives:  0\n"
          ]
        }
      ]
    },
    {
      "cell_type": "code",
      "execution_count": null,
      "metadata": {
        "colab": {
          "base_uri": "https://localhost:8080/"
        },
        "id": "UwB-40SMwCoq",
        "outputId": "06dcbe84-df1d-4813-d11c-e19a0f3691c9"
      },
      "outputs": [
        {
          "output_type": "stream",
          "name": "stdout",
          "text": [
            "Test Accuracy Score:  0.8461538461538461\n"
          ]
        }
      ],
      "source": [
        "score_ = accuracy_score(y_test, y_pred)\n",
        "print(\"Test Accuracy Score: \", score_)"
      ]
    },
    {
      "cell_type": "code",
      "source": [
        "from sklearn.metrics import classification_report\n",
        "print(classification_report(y_test, y_pred))"
      ],
      "metadata": {
        "colab": {
          "base_uri": "https://localhost:8080/"
        },
        "outputId": "cdfcabcd-8d18-4d40-f3c6-bb701af637fd",
        "id": "oEhThVaBi2yF"
      },
      "execution_count": null,
      "outputs": [
        {
          "output_type": "stream",
          "name": "stdout",
          "text": [
            "              precision    recall  f1-score   support\n",
            "\n",
            "       False       0.92      0.92      0.92        12\n",
            "        True       0.00      0.00      0.00         1\n",
            "\n",
            "    accuracy                           0.85        13\n",
            "   macro avg       0.46      0.46      0.46        13\n",
            "weighted avg       0.85      0.85      0.85        13\n",
            "\n"
          ]
        }
      ]
    },
    {
      "cell_type": "markdown",
      "metadata": {
        "id": "r1Rke2QUwCoq"
      },
      "source": [
        "##**Random Forest**"
      ]
    },
    {
      "cell_type": "code",
      "execution_count": null,
      "metadata": {
        "colab": {
          "base_uri": "https://localhost:8080/"
        },
        "id": "fJweA7W7wCor",
        "outputId": "470b3975-a95c-4fb8-e316-90b2ad3a561e"
      },
      "outputs": [
        {
          "output_type": "execute_result",
          "data": {
            "text/plain": [
              "RandomForestClassifier(criterion='entropy', n_estimators=10)"
            ]
          },
          "metadata": {},
          "execution_count": 352
        }
      ],
      "source": [
        "#Fitting Decision Tree classifier to the training set  \n",
        "from sklearn.ensemble import RandomForestClassifier  \n",
        "classifier= RandomForestClassifier(n_estimators= 10, criterion=\"entropy\")  \n",
        "classifier.fit(x_train, y_train)  "
      ]
    },
    {
      "cell_type": "code",
      "execution_count": null,
      "metadata": {
        "id": "TdrTqEEKwCor"
      },
      "outputs": [],
      "source": [
        "#Predicting the test set result  \n",
        "y_pred= classifier.predict(x_test)  "
      ]
    },
    {
      "cell_type": "code",
      "execution_count": null,
      "metadata": {
        "colab": {
          "base_uri": "https://localhost:8080/"
        },
        "id": "JVrPds1ywCor",
        "outputId": "7d4fa477-ff95-42ca-cb1b-3c5c2e2eb9ac"
      },
      "outputs": [
        {
          "output_type": "stream",
          "name": "stdout",
          "text": [
            "[[11  1]\n",
            " [ 1  0]]\n"
          ]
        }
      ],
      "source": [
        "#Creating the Confusion matrix  \n",
        "from sklearn.metrics import confusion_matrix  \n",
        "cm= confusion_matrix(y_test, y_pred)  \n",
        "print(cm)"
      ]
    },
    {
      "cell_type": "code",
      "source": [
        "from sklearn.metrics import confusion_matrix\n",
        "tn, fp, fn, tp = confusion_matrix(y_test,y_pred).ravel()\n",
        "print('True negatives: ', tn, '\\nFalse positives: ', fp, '\\nFalse negatives: ', fn, '\\nTrue Positives: ', tp)\n"
      ],
      "metadata": {
        "colab": {
          "base_uri": "https://localhost:8080/"
        },
        "outputId": "c3c574f6-3286-42c8-bfb3-73e25130b165",
        "id": "d299Shnxhvv5"
      },
      "execution_count": null,
      "outputs": [
        {
          "output_type": "stream",
          "name": "stdout",
          "text": [
            "True negatives:  11 \n",
            "False positives:  1 \n",
            "False negatives:  1 \n",
            "True Positives:  0\n"
          ]
        }
      ]
    },
    {
      "cell_type": "code",
      "execution_count": null,
      "metadata": {
        "colab": {
          "base_uri": "https://localhost:8080/"
        },
        "id": "OVqPzrj5wCos",
        "outputId": "74f83e16-e226-4601-cb10-b0a04a4011cf"
      },
      "outputs": [
        {
          "output_type": "stream",
          "name": "stdout",
          "text": [
            "Test Accuracy Score:  0.8461538461538461\n"
          ]
        }
      ],
      "source": [
        "score_ = accuracy_score(y_test, y_pred)\n",
        "print(\"Test Accuracy Score: \", score_)"
      ]
    },
    {
      "cell_type": "code",
      "source": [
        "from sklearn.metrics import classification_report\n",
        "print(classification_report(y_test, y_pred))"
      ],
      "metadata": {
        "colab": {
          "base_uri": "https://localhost:8080/"
        },
        "outputId": "77762de4-1e7d-4b5b-ead8-ed6247776e16",
        "id": "OmEmNbPXi4OI"
      },
      "execution_count": null,
      "outputs": [
        {
          "output_type": "stream",
          "name": "stdout",
          "text": [
            "              precision    recall  f1-score   support\n",
            "\n",
            "       False       0.92      0.92      0.92        12\n",
            "        True       0.00      0.00      0.00         1\n",
            "\n",
            "    accuracy                           0.85        13\n",
            "   macro avg       0.46      0.46      0.46        13\n",
            "weighted avg       0.85      0.85      0.85        13\n",
            "\n"
          ]
        }
      ]
    },
    {
      "cell_type": "markdown",
      "metadata": {
        "id": "ZMIX0haDwP6T"
      },
      "source": [
        "##**Bagging**"
      ]
    },
    {
      "cell_type": "code",
      "execution_count": null,
      "metadata": {
        "colab": {
          "base_uri": "https://localhost:8080/"
        },
        "id": "24iketTewP6U",
        "outputId": "7571676d-e57a-400c-912a-b1d37bc17160"
      },
      "outputs": [
        {
          "output_type": "execute_result",
          "data": {
            "text/plain": [
              "DecisionTreeClassifier(random_state=21)"
            ]
          },
          "metadata": {},
          "execution_count": 358
        }
      ],
      "source": [
        "from sklearn.tree import DecisionTreeClassifier\n",
        "dtree = DecisionTreeClassifier(random_state=21)\n",
        "dtree.fit(x_train,y_train)"
      ]
    },
    {
      "cell_type": "code",
      "execution_count": null,
      "metadata": {
        "colab": {
          "base_uri": "https://localhost:8080/"
        },
        "outputId": "b6d8a36c-c769-4dfb-d171-cfc722066f01",
        "id": "6IJN5eqcgdSV"
      },
      "outputs": [
        {
          "output_type": "stream",
          "name": "stdout",
          "text": [
            "[[11  1]\n",
            " [ 1  0]]\n"
          ]
        }
      ],
      "source": [
        "from sklearn.metrics import confusion_matrix  \n",
        "cm= confusion_matrix(y_test, y_pred)  \n",
        "print(cm)"
      ]
    },
    {
      "cell_type": "code",
      "source": [
        "from sklearn.metrics import confusion_matrix\n",
        "tn, fp, fn, tp = confusion_matrix(y_test,y_pred).ravel()\n",
        "print('True negatives: ', tn, '\\nFalse positives: ', fp, '\\nFalse negatives: ', fn, '\\nTrue Positives: ', tp)\n"
      ],
      "metadata": {
        "colab": {
          "base_uri": "https://localhost:8080/"
        },
        "outputId": "8a039e6a-b2be-45ad-8561-13a3b10efc73",
        "id": "eAZfoQtthwsN"
      },
      "execution_count": null,
      "outputs": [
        {
          "output_type": "stream",
          "name": "stdout",
          "text": [
            "True negatives:  11 \n",
            "False positives:  1 \n",
            "False negatives:  1 \n",
            "True Positives:  0\n"
          ]
        }
      ]
    },
    {
      "cell_type": "code",
      "execution_count": null,
      "metadata": {
        "colab": {
          "base_uri": "https://localhost:8080/"
        },
        "id": "r-86_9IXwP6U",
        "outputId": "5861f663-7e34-414f-fec3-e4864b459284"
      },
      "outputs": [
        {
          "output_type": "stream",
          "name": "stdout",
          "text": [
            "Train data accuracy: 1.0\n",
            "Test data accuracy: 0.9230769230769231\n"
          ]
        }
      ],
      "source": [
        "y_pred = dtree.predict(x_test)\n",
        "\n",
        "print(\"Train data accuracy:\",accuracy_score(y_true = y_train, y_pred = dtree.predict(x_train)))\n",
        "print(\"Test data accuracy:\",accuracy_score(y_true = y_test, y_pred = y_pred))"
      ]
    },
    {
      "cell_type": "code",
      "source": [
        "from sklearn.metrics import classification_report\n",
        "print(classification_report(y_test, y_pred))"
      ],
      "metadata": {
        "colab": {
          "base_uri": "https://localhost:8080/"
        },
        "outputId": "785d7b26-6f18-43e7-a466-9ef492050308",
        "id": "0hzD9JJwi6Da"
      },
      "execution_count": null,
      "outputs": [
        {
          "output_type": "stream",
          "name": "stdout",
          "text": [
            "              precision    recall  f1-score   support\n",
            "\n",
            "       False       0.92      1.00      0.96        12\n",
            "        True       0.00      0.00      0.00         1\n",
            "\n",
            "    accuracy                           0.92        13\n",
            "   macro avg       0.46      0.50      0.48        13\n",
            "weighted avg       0.85      0.92      0.89        13\n",
            "\n"
          ]
        },
        {
          "output_type": "stream",
          "name": "stderr",
          "text": [
            "/usr/local/lib/python3.8/dist-packages/sklearn/metrics/_classification.py:1318: UndefinedMetricWarning: Precision and F-score are ill-defined and being set to 0.0 in labels with no predicted samples. Use `zero_division` parameter to control this behavior.\n",
            "  _warn_prf(average, modifier, msg_start, len(result))\n",
            "/usr/local/lib/python3.8/dist-packages/sklearn/metrics/_classification.py:1318: UndefinedMetricWarning: Precision and F-score are ill-defined and being set to 0.0 in labels with no predicted samples. Use `zero_division` parameter to control this behavior.\n",
            "  _warn_prf(average, modifier, msg_start, len(result))\n",
            "/usr/local/lib/python3.8/dist-packages/sklearn/metrics/_classification.py:1318: UndefinedMetricWarning: Precision and F-score are ill-defined and being set to 0.0 in labels with no predicted samples. Use `zero_division` parameter to control this behavior.\n",
            "  _warn_prf(average, modifier, msg_start, len(result))\n"
          ]
        }
      ]
    },
    {
      "cell_type": "markdown",
      "metadata": {
        "id": "ANFknA-2qXcV"
      },
      "source": [
        "#**ar4 Dataset**"
      ]
    },
    {
      "cell_type": "code",
      "source": [
        "ar4_df"
      ],
      "metadata": {
        "colab": {
          "base_uri": "https://localhost:8080/",
          "height": 487
        },
        "id": "WD2ApBbl1NIN",
        "outputId": "1747f40f-cb6f-4466-8b93-fc2b20532d47"
      },
      "execution_count": null,
      "outputs": [
        {
          "output_type": "execute_result",
          "data": {
            "text/plain": [
              "     total_loc  blank_loc  comment_loc  code_and_comment_loc  executable_loc  \\\n",
              "0           53         22            5                     0              26   \n",
              "1           25         10            1                     0              14   \n",
              "2           73         22            8                     1              43   \n",
              "3           69         21           17                     0              31   \n",
              "4           42         18            1                     0              23   \n",
              "..         ...        ...          ...                   ...             ...   \n",
              "101         71         27            9                     0              35   \n",
              "102         79         40            5                     0              34   \n",
              "103         19          8            0                     0              11   \n",
              "104        119         59           13                     0              47   \n",
              "105          9          2            0                     0               7   \n",
              "\n",
              "     unique_operands  unique_operators  total_operands  total_operators  \\\n",
              "0                 18                16              38               54   \n",
              "1                 12                14              42               58   \n",
              "2                 25                12              67               97   \n",
              "3                 16                 9              28               48   \n",
              "4                 12                10              23               39   \n",
              "..               ...               ...             ...              ...   \n",
              "101               19                16              53               80   \n",
              "102               23                10              52               79   \n",
              "103                8                14              19               29   \n",
              "104               20                23              68              107   \n",
              "105                5                 6               6               11   \n",
              "\n",
              "     halstead_vocabulary  ...  condition_count  multiple_condition_count  \\\n",
              "0                     34  ...                5                         2   \n",
              "1                     26  ...                1                         0   \n",
              "2                     37  ...               15                         7   \n",
              "3                     25  ...               13                         6   \n",
              "4                     22  ...                7                         1   \n",
              "..                   ...  ...              ...                       ...   \n",
              "101                   35  ...                5                         1   \n",
              "102                   33  ...                9                         2   \n",
              "103                   22  ...                1                         0   \n",
              "104                   43  ...               10                         2   \n",
              "105                   11  ...                1                         0   \n",
              "\n",
              "     cyclomatic_complexity  cyclomatic_density  decision_density  \\\n",
              "0                        5             0.19231               1.2   \n",
              "1                        2             0.14286               1.0   \n",
              "2                        9             0.20930               1.0   \n",
              "3                        8             0.25806               1.0   \n",
              "4                        7             0.30435               1.0   \n",
              "..                     ...                 ...               ...   \n",
              "101                      6             0.17143               1.2   \n",
              "102                      8             0.23529               1.0   \n",
              "103                      3             0.27273               2.0   \n",
              "104                     10             0.21277               1.1   \n",
              "105                      2             0.28571               1.0   \n",
              "\n",
              "     design_complexity  design_density  normalized_cyclomatic_complexity  \\\n",
              "0                    0            0.00                          0.094340   \n",
              "1                    0            0.00                          0.080000   \n",
              "2                    0            0.00                          0.123290   \n",
              "3                    0            0.00                          0.115940   \n",
              "4                    0            0.00                          0.166670   \n",
              "..                 ...             ...                               ...   \n",
              "101                  0            0.00                          0.084507   \n",
              "102                  2            0.25                          0.101270   \n",
              "103                  0            0.00                          0.157890   \n",
              "104                  2            0.20                          0.084034   \n",
              "105                  1            0.50                          0.222220   \n",
              "\n",
              "     formal_parameters  defects  \n",
              "0                    1    False  \n",
              "1                    2    False  \n",
              "2                    0    False  \n",
              "3                    0    False  \n",
              "4                    0    False  \n",
              "..                 ...      ...  \n",
              "101                  0    False  \n",
              "102                  0    False  \n",
              "103                  2    False  \n",
              "104                  0    False  \n",
              "105                  0    False  \n",
              "\n",
              "[106 rows x 30 columns]"
            ],
            "text/html": [
              "\n",
              "  <div id=\"df-c6c279b6-7576-456a-859a-f7e3969c2d2d\">\n",
              "    <div class=\"colab-df-container\">\n",
              "      <div>\n",
              "<style scoped>\n",
              "    .dataframe tbody tr th:only-of-type {\n",
              "        vertical-align: middle;\n",
              "    }\n",
              "\n",
              "    .dataframe tbody tr th {\n",
              "        vertical-align: top;\n",
              "    }\n",
              "\n",
              "    .dataframe thead th {\n",
              "        text-align: right;\n",
              "    }\n",
              "</style>\n",
              "<table border=\"1\" class=\"dataframe\">\n",
              "  <thead>\n",
              "    <tr style=\"text-align: right;\">\n",
              "      <th></th>\n",
              "      <th>total_loc</th>\n",
              "      <th>blank_loc</th>\n",
              "      <th>comment_loc</th>\n",
              "      <th>code_and_comment_loc</th>\n",
              "      <th>executable_loc</th>\n",
              "      <th>unique_operands</th>\n",
              "      <th>unique_operators</th>\n",
              "      <th>total_operands</th>\n",
              "      <th>total_operators</th>\n",
              "      <th>halstead_vocabulary</th>\n",
              "      <th>...</th>\n",
              "      <th>condition_count</th>\n",
              "      <th>multiple_condition_count</th>\n",
              "      <th>cyclomatic_complexity</th>\n",
              "      <th>cyclomatic_density</th>\n",
              "      <th>decision_density</th>\n",
              "      <th>design_complexity</th>\n",
              "      <th>design_density</th>\n",
              "      <th>normalized_cyclomatic_complexity</th>\n",
              "      <th>formal_parameters</th>\n",
              "      <th>defects</th>\n",
              "    </tr>\n",
              "  </thead>\n",
              "  <tbody>\n",
              "    <tr>\n",
              "      <th>0</th>\n",
              "      <td>53</td>\n",
              "      <td>22</td>\n",
              "      <td>5</td>\n",
              "      <td>0</td>\n",
              "      <td>26</td>\n",
              "      <td>18</td>\n",
              "      <td>16</td>\n",
              "      <td>38</td>\n",
              "      <td>54</td>\n",
              "      <td>34</td>\n",
              "      <td>...</td>\n",
              "      <td>5</td>\n",
              "      <td>2</td>\n",
              "      <td>5</td>\n",
              "      <td>0.19231</td>\n",
              "      <td>1.2</td>\n",
              "      <td>0</td>\n",
              "      <td>0.00</td>\n",
              "      <td>0.094340</td>\n",
              "      <td>1</td>\n",
              "      <td>False</td>\n",
              "    </tr>\n",
              "    <tr>\n",
              "      <th>1</th>\n",
              "      <td>25</td>\n",
              "      <td>10</td>\n",
              "      <td>1</td>\n",
              "      <td>0</td>\n",
              "      <td>14</td>\n",
              "      <td>12</td>\n",
              "      <td>14</td>\n",
              "      <td>42</td>\n",
              "      <td>58</td>\n",
              "      <td>26</td>\n",
              "      <td>...</td>\n",
              "      <td>1</td>\n",
              "      <td>0</td>\n",
              "      <td>2</td>\n",
              "      <td>0.14286</td>\n",
              "      <td>1.0</td>\n",
              "      <td>0</td>\n",
              "      <td>0.00</td>\n",
              "      <td>0.080000</td>\n",
              "      <td>2</td>\n",
              "      <td>False</td>\n",
              "    </tr>\n",
              "    <tr>\n",
              "      <th>2</th>\n",
              "      <td>73</td>\n",
              "      <td>22</td>\n",
              "      <td>8</td>\n",
              "      <td>1</td>\n",
              "      <td>43</td>\n",
              "      <td>25</td>\n",
              "      <td>12</td>\n",
              "      <td>67</td>\n",
              "      <td>97</td>\n",
              "      <td>37</td>\n",
              "      <td>...</td>\n",
              "      <td>15</td>\n",
              "      <td>7</td>\n",
              "      <td>9</td>\n",
              "      <td>0.20930</td>\n",
              "      <td>1.0</td>\n",
              "      <td>0</td>\n",
              "      <td>0.00</td>\n",
              "      <td>0.123290</td>\n",
              "      <td>0</td>\n",
              "      <td>False</td>\n",
              "    </tr>\n",
              "    <tr>\n",
              "      <th>3</th>\n",
              "      <td>69</td>\n",
              "      <td>21</td>\n",
              "      <td>17</td>\n",
              "      <td>0</td>\n",
              "      <td>31</td>\n",
              "      <td>16</td>\n",
              "      <td>9</td>\n",
              "      <td>28</td>\n",
              "      <td>48</td>\n",
              "      <td>25</td>\n",
              "      <td>...</td>\n",
              "      <td>13</td>\n",
              "      <td>6</td>\n",
              "      <td>8</td>\n",
              "      <td>0.25806</td>\n",
              "      <td>1.0</td>\n",
              "      <td>0</td>\n",
              "      <td>0.00</td>\n",
              "      <td>0.115940</td>\n",
              "      <td>0</td>\n",
              "      <td>False</td>\n",
              "    </tr>\n",
              "    <tr>\n",
              "      <th>4</th>\n",
              "      <td>42</td>\n",
              "      <td>18</td>\n",
              "      <td>1</td>\n",
              "      <td>0</td>\n",
              "      <td>23</td>\n",
              "      <td>12</td>\n",
              "      <td>10</td>\n",
              "      <td>23</td>\n",
              "      <td>39</td>\n",
              "      <td>22</td>\n",
              "      <td>...</td>\n",
              "      <td>7</td>\n",
              "      <td>1</td>\n",
              "      <td>7</td>\n",
              "      <td>0.30435</td>\n",
              "      <td>1.0</td>\n",
              "      <td>0</td>\n",
              "      <td>0.00</td>\n",
              "      <td>0.166670</td>\n",
              "      <td>0</td>\n",
              "      <td>False</td>\n",
              "    </tr>\n",
              "    <tr>\n",
              "      <th>...</th>\n",
              "      <td>...</td>\n",
              "      <td>...</td>\n",
              "      <td>...</td>\n",
              "      <td>...</td>\n",
              "      <td>...</td>\n",
              "      <td>...</td>\n",
              "      <td>...</td>\n",
              "      <td>...</td>\n",
              "      <td>...</td>\n",
              "      <td>...</td>\n",
              "      <td>...</td>\n",
              "      <td>...</td>\n",
              "      <td>...</td>\n",
              "      <td>...</td>\n",
              "      <td>...</td>\n",
              "      <td>...</td>\n",
              "      <td>...</td>\n",
              "      <td>...</td>\n",
              "      <td>...</td>\n",
              "      <td>...</td>\n",
              "      <td>...</td>\n",
              "    </tr>\n",
              "    <tr>\n",
              "      <th>101</th>\n",
              "      <td>71</td>\n",
              "      <td>27</td>\n",
              "      <td>9</td>\n",
              "      <td>0</td>\n",
              "      <td>35</td>\n",
              "      <td>19</td>\n",
              "      <td>16</td>\n",
              "      <td>53</td>\n",
              "      <td>80</td>\n",
              "      <td>35</td>\n",
              "      <td>...</td>\n",
              "      <td>5</td>\n",
              "      <td>1</td>\n",
              "      <td>6</td>\n",
              "      <td>0.17143</td>\n",
              "      <td>1.2</td>\n",
              "      <td>0</td>\n",
              "      <td>0.00</td>\n",
              "      <td>0.084507</td>\n",
              "      <td>0</td>\n",
              "      <td>False</td>\n",
              "    </tr>\n",
              "    <tr>\n",
              "      <th>102</th>\n",
              "      <td>79</td>\n",
              "      <td>40</td>\n",
              "      <td>5</td>\n",
              "      <td>0</td>\n",
              "      <td>34</td>\n",
              "      <td>23</td>\n",
              "      <td>10</td>\n",
              "      <td>52</td>\n",
              "      <td>79</td>\n",
              "      <td>33</td>\n",
              "      <td>...</td>\n",
              "      <td>9</td>\n",
              "      <td>2</td>\n",
              "      <td>8</td>\n",
              "      <td>0.23529</td>\n",
              "      <td>1.0</td>\n",
              "      <td>2</td>\n",
              "      <td>0.25</td>\n",
              "      <td>0.101270</td>\n",
              "      <td>0</td>\n",
              "      <td>False</td>\n",
              "    </tr>\n",
              "    <tr>\n",
              "      <th>103</th>\n",
              "      <td>19</td>\n",
              "      <td>8</td>\n",
              "      <td>0</td>\n",
              "      <td>0</td>\n",
              "      <td>11</td>\n",
              "      <td>8</td>\n",
              "      <td>14</td>\n",
              "      <td>19</td>\n",
              "      <td>29</td>\n",
              "      <td>22</td>\n",
              "      <td>...</td>\n",
              "      <td>1</td>\n",
              "      <td>0</td>\n",
              "      <td>3</td>\n",
              "      <td>0.27273</td>\n",
              "      <td>2.0</td>\n",
              "      <td>0</td>\n",
              "      <td>0.00</td>\n",
              "      <td>0.157890</td>\n",
              "      <td>2</td>\n",
              "      <td>False</td>\n",
              "    </tr>\n",
              "    <tr>\n",
              "      <th>104</th>\n",
              "      <td>119</td>\n",
              "      <td>59</td>\n",
              "      <td>13</td>\n",
              "      <td>0</td>\n",
              "      <td>47</td>\n",
              "      <td>20</td>\n",
              "      <td>23</td>\n",
              "      <td>68</td>\n",
              "      <td>107</td>\n",
              "      <td>43</td>\n",
              "      <td>...</td>\n",
              "      <td>10</td>\n",
              "      <td>2</td>\n",
              "      <td>10</td>\n",
              "      <td>0.21277</td>\n",
              "      <td>1.1</td>\n",
              "      <td>2</td>\n",
              "      <td>0.20</td>\n",
              "      <td>0.084034</td>\n",
              "      <td>0</td>\n",
              "      <td>False</td>\n",
              "    </tr>\n",
              "    <tr>\n",
              "      <th>105</th>\n",
              "      <td>9</td>\n",
              "      <td>2</td>\n",
              "      <td>0</td>\n",
              "      <td>0</td>\n",
              "      <td>7</td>\n",
              "      <td>5</td>\n",
              "      <td>6</td>\n",
              "      <td>6</td>\n",
              "      <td>11</td>\n",
              "      <td>11</td>\n",
              "      <td>...</td>\n",
              "      <td>1</td>\n",
              "      <td>0</td>\n",
              "      <td>2</td>\n",
              "      <td>0.28571</td>\n",
              "      <td>1.0</td>\n",
              "      <td>1</td>\n",
              "      <td>0.50</td>\n",
              "      <td>0.222220</td>\n",
              "      <td>0</td>\n",
              "      <td>False</td>\n",
              "    </tr>\n",
              "  </tbody>\n",
              "</table>\n",
              "<p>106 rows × 30 columns</p>\n",
              "</div>\n",
              "      <button class=\"colab-df-convert\" onclick=\"convertToInteractive('df-c6c279b6-7576-456a-859a-f7e3969c2d2d')\"\n",
              "              title=\"Convert this dataframe to an interactive table.\"\n",
              "              style=\"display:none;\">\n",
              "        \n",
              "  <svg xmlns=\"http://www.w3.org/2000/svg\" height=\"24px\"viewBox=\"0 0 24 24\"\n",
              "       width=\"24px\">\n",
              "    <path d=\"M0 0h24v24H0V0z\" fill=\"none\"/>\n",
              "    <path d=\"M18.56 5.44l.94 2.06.94-2.06 2.06-.94-2.06-.94-.94-2.06-.94 2.06-2.06.94zm-11 1L8.5 8.5l.94-2.06 2.06-.94-2.06-.94L8.5 2.5l-.94 2.06-2.06.94zm10 10l.94 2.06.94-2.06 2.06-.94-2.06-.94-.94-2.06-.94 2.06-2.06.94z\"/><path d=\"M17.41 7.96l-1.37-1.37c-.4-.4-.92-.59-1.43-.59-.52 0-1.04.2-1.43.59L10.3 9.45l-7.72 7.72c-.78.78-.78 2.05 0 2.83L4 21.41c.39.39.9.59 1.41.59.51 0 1.02-.2 1.41-.59l7.78-7.78 2.81-2.81c.8-.78.8-2.07 0-2.86zM5.41 20L4 18.59l7.72-7.72 1.47 1.35L5.41 20z\"/>\n",
              "  </svg>\n",
              "      </button>\n",
              "      \n",
              "  <style>\n",
              "    .colab-df-container {\n",
              "      display:flex;\n",
              "      flex-wrap:wrap;\n",
              "      gap: 12px;\n",
              "    }\n",
              "\n",
              "    .colab-df-convert {\n",
              "      background-color: #E8F0FE;\n",
              "      border: none;\n",
              "      border-radius: 50%;\n",
              "      cursor: pointer;\n",
              "      display: none;\n",
              "      fill: #1967D2;\n",
              "      height: 32px;\n",
              "      padding: 0 0 0 0;\n",
              "      width: 32px;\n",
              "    }\n",
              "\n",
              "    .colab-df-convert:hover {\n",
              "      background-color: #E2EBFA;\n",
              "      box-shadow: 0px 1px 2px rgba(60, 64, 67, 0.3), 0px 1px 3px 1px rgba(60, 64, 67, 0.15);\n",
              "      fill: #174EA6;\n",
              "    }\n",
              "\n",
              "    [theme=dark] .colab-df-convert {\n",
              "      background-color: #3B4455;\n",
              "      fill: #D2E3FC;\n",
              "    }\n",
              "\n",
              "    [theme=dark] .colab-df-convert:hover {\n",
              "      background-color: #434B5C;\n",
              "      box-shadow: 0px 1px 3px 1px rgba(0, 0, 0, 0.15);\n",
              "      filter: drop-shadow(0px 1px 2px rgba(0, 0, 0, 0.3));\n",
              "      fill: #FFFFFF;\n",
              "    }\n",
              "  </style>\n",
              "\n",
              "      <script>\n",
              "        const buttonEl =\n",
              "          document.querySelector('#df-c6c279b6-7576-456a-859a-f7e3969c2d2d button.colab-df-convert');\n",
              "        buttonEl.style.display =\n",
              "          google.colab.kernel.accessAllowed ? 'block' : 'none';\n",
              "\n",
              "        async function convertToInteractive(key) {\n",
              "          const element = document.querySelector('#df-c6c279b6-7576-456a-859a-f7e3969c2d2d');\n",
              "          const dataTable =\n",
              "            await google.colab.kernel.invokeFunction('convertToInteractive',\n",
              "                                                     [key], {});\n",
              "          if (!dataTable) return;\n",
              "\n",
              "          const docLinkHtml = 'Like what you see? Visit the ' +\n",
              "            '<a target=\"_blank\" href=https://colab.research.google.com/notebooks/data_table.ipynb>data table notebook</a>'\n",
              "            + ' to learn more about interactive tables.';\n",
              "          element.innerHTML = '';\n",
              "          dataTable['output_type'] = 'display_data';\n",
              "          await google.colab.output.renderOutput(dataTable, element);\n",
              "          const docLink = document.createElement('div');\n",
              "          docLink.innerHTML = docLinkHtml;\n",
              "          element.appendChild(docLink);\n",
              "        }\n",
              "      </script>\n",
              "    </div>\n",
              "  </div>\n",
              "  "
            ]
          },
          "metadata": {},
          "execution_count": 363
        }
      ]
    },
    {
      "cell_type": "markdown",
      "metadata": {
        "id": "1h1berT3rif6"
      },
      "source": [
        "####**Spiliting Dataset**\n",
        "training: 80% testing:20%"
      ]
    },
    {
      "cell_type": "code",
      "execution_count": null,
      "metadata": {
        "id": "HwTK7C30rpDZ"
      },
      "outputs": [],
      "source": [
        "x = ar4_df.iloc[:,:-1]\n",
        "y = ar4_df.iloc[:,-1]\n",
        "\n",
        "from sklearn.model_selection import train_test_split\n",
        "x_train, x_test, y_train, y_test = train_test_split(x,y,test_size=0.20,random_state=0)"
      ]
    },
    {
      "cell_type": "markdown",
      "source": [
        "###Performing SMOTE in order to balance class imbalance problem."
      ],
      "metadata": {
        "id": "OiKYFQeae48R"
      }
    },
    {
      "cell_type": "code",
      "source": [
        "from imblearn.over_sampling import SMOTE\n",
        "x_train, y_train = SMOTE().fit_resample(x_train, y_train)"
      ],
      "metadata": {
        "id": "uYCm3fn2e48S"
      },
      "execution_count": null,
      "outputs": []
    },
    {
      "cell_type": "code",
      "execution_count": null,
      "metadata": {
        "id": "csaXwfbfe48T"
      },
      "outputs": [],
      "source": [
        "from sklearn.preprocessing import StandardScaler    \n",
        "st_x= StandardScaler()    \n",
        "x_train= st_x.fit_transform(x_train)    \n",
        "x_test= st_x.transform(x_test)  "
      ]
    },
    {
      "cell_type": "markdown",
      "source": [
        "**Class become balanced as we can see in below class. Here we use OverSampling.**\n",
        "<br>\n",
        "Oversampling is solution to imbalanced data. Oversampling is the opposite of undersampling. Oversampling means making duplicates of the data that is the least present in our data set. We then add those duplicates to your data set."
      ],
      "metadata": {
        "id": "EkDSma3_e48T"
      }
    },
    {
      "cell_type": "code",
      "source": [
        "import seaborn as sns\n",
        "\n",
        "plt.rcParams['figure.figsize']=(12,6)\n",
        "plt.rcParams['font.size']=14\n",
        "plt.title('kc2 Dataset')\n",
        "sns.set_style(\"darkgrid\")\n",
        "\n",
        "sns.countplot(y_train);"
      ],
      "metadata": {
        "colab": {
          "base_uri": "https://localhost:8080/",
          "height": 471
        },
        "outputId": "3c1861a9-c097-4030-d1b5-e11437e3e188",
        "id": "1UyxwiDre48U"
      },
      "execution_count": null,
      "outputs": [
        {
          "output_type": "stream",
          "name": "stderr",
          "text": [
            "/usr/local/lib/python3.8/dist-packages/seaborn/_decorators.py:36: FutureWarning: Pass the following variable as a keyword arg: x. From version 0.12, the only valid positional argument will be `data`, and passing other arguments without an explicit keyword will result in an error or misinterpretation.\n",
            "  warnings.warn(\n"
          ]
        },
        {
          "output_type": "display_data",
          "data": {
            "text/plain": [
              "<Figure size 864x432 with 1 Axes>"
            ],
            "image/png": "[encoded data removed]"
          },
          "metadata": {}
        }
      ]
    },
    {
      "cell_type": "markdown",
      "metadata": {
        "id": "9YTVQyy4rXAT"
      },
      "source": [
        "###**Logistic Regression**"
      ]
    },
    {
      "cell_type": "code",
      "execution_count": null,
      "metadata": {
        "colab": {
          "base_uri": "https://localhost:8080/"
        },
        "id": "RWDJQdLvw1FF",
        "outputId": "701f2a13-935d-4734-8892-1b980b9cdde7"
      },
      "outputs": [
        {
          "output_type": "stream",
          "name": "stdout",
          "text": [
            "Test Accuracy Score:  0.7272727272727273\n",
            "Confusion Matrix: \n",
            " [[14  5]\n",
            " [ 1  2]]\n"
          ]
        }
      ],
      "source": [
        "from sklearn.linear_model import LogisticRegression  \n",
        "classifier= LogisticRegression(random_state=0)  \n",
        "classifier.fit(x_train, y_train) \n",
        "\n",
        "y_pred= classifier.predict(x_test)\n",
        "\n",
        "score_ = accuracy_score(y_test, y_pred)\n",
        "print(\"Test Accuracy Score: \", score_)\n",
        "\n",
        "from sklearn.metrics import confusion_matrix  \n",
        "cm= confusion_matrix(y_test,y_pred)\n",
        "print(\"Confusion Matrix: \\n\",cm)"
      ]
    },
    {
      "cell_type": "code",
      "source": [
        "from sklearn.metrics import confusion_matrix\n",
        "tn, fp, fn, tp = confusion_matrix(y_test,y_pred).ravel()\n",
        "print('True negatives: ', tn, '\\nFalse positives: ', fp, '\\nFalse negatives: ', fn, '\\nTrue Positives: ', tp)\n"
      ],
      "metadata": {
        "colab": {
          "base_uri": "https://localhost:8080/"
        },
        "outputId": "2babf16d-10b9-4b88-cf0e-8b11200934e0",
        "id": "kq1J0gv-hzSc"
      },
      "execution_count": null,
      "outputs": [
        {
          "output_type": "stream",
          "name": "stdout",
          "text": [
            "True negatives:  14 \n",
            "False positives:  5 \n",
            "False negatives:  1 \n",
            "True Positives:  2\n"
          ]
        }
      ]
    },
    {
      "cell_type": "code",
      "source": [
        "from sklearn.metrics import classification_report\n",
        "print(classification_report(y_test, y_pred))"
      ],
      "metadata": {
        "colab": {
          "base_uri": "https://localhost:8080/"
        },
        "outputId": "f07ef600-76fb-43d6-9706-c332144e71ac",
        "id": "56z1_pG_i8I2"
      },
      "execution_count": null,
      "outputs": [
        {
          "output_type": "stream",
          "name": "stdout",
          "text": [
            "              precision    recall  f1-score   support\n",
            "\n",
            "       False       0.93      0.74      0.82        19\n",
            "        True       0.29      0.67      0.40         3\n",
            "\n",
            "    accuracy                           0.73        22\n",
            "   macro avg       0.61      0.70      0.61        22\n",
            "weighted avg       0.85      0.73      0.77        22\n",
            "\n"
          ]
        }
      ]
    },
    {
      "cell_type": "markdown",
      "metadata": {
        "id": "LHdaIuu7w1FR"
      },
      "source": [
        "###**Support Vector Machine Algorithm**"
      ]
    },
    {
      "cell_type": "code",
      "execution_count": null,
      "metadata": {
        "colab": {
          "base_uri": "https://localhost:8080/"
        },
        "id": "BaMDokMSw1FR",
        "outputId": "b301983d-abaa-4076-8d36-deab32a3799c"
      },
      "outputs": [
        {
          "output_type": "execute_result",
          "data": {
            "text/plain": [
              "SVC(kernel='linear', random_state=0)"
            ]
          },
          "metadata": {},
          "execution_count": 371
        }
      ],
      "source": [
        "from sklearn.svm import SVC # \"Support vector classifier\"  \n",
        "classifier = SVC(kernel='linear', random_state=0)  \n",
        "classifier.fit(x_train, y_train)  "
      ]
    },
    {
      "cell_type": "code",
      "execution_count": null,
      "metadata": {
        "id": "XKFYHUgSw1FS"
      },
      "outputs": [],
      "source": [
        "#Predicting the test set result  \n",
        "y_pred= classifier.predict(x_test)  "
      ]
    },
    {
      "cell_type": "code",
      "execution_count": null,
      "metadata": {
        "colab": {
          "base_uri": "https://localhost:8080/"
        },
        "id": "trKdGj9Yw1FS",
        "outputId": "b573ec91-6154-4be5-cee6-c51d857a83e6"
      },
      "outputs": [
        {
          "output_type": "stream",
          "name": "stdout",
          "text": [
            "[[15  4]\n",
            " [ 1  2]]\n"
          ]
        }
      ],
      "source": [
        "from sklearn.metrics import confusion_matrix  \n",
        "cm= confusion_matrix(y_test, y_pred)  \n",
        "print(cm)"
      ]
    },
    {
      "cell_type": "code",
      "source": [
        "from sklearn.metrics import confusion_matrix\n",
        "tn, fp, fn, tp = confusion_matrix(y_test,y_pred).ravel()\n",
        "print('True negatives: ', tn, '\\nFalse positives: ', fp, '\\nFalse negatives: ', fn, '\\nTrue Positives: ', tp)\n"
      ],
      "metadata": {
        "colab": {
          "base_uri": "https://localhost:8080/"
        },
        "outputId": "974913d7-8d23-4b19-df53-65b46ab7173c",
        "id": "G_qakLquh1E5"
      },
      "execution_count": null,
      "outputs": [
        {
          "output_type": "stream",
          "name": "stdout",
          "text": [
            "True negatives:  15 \n",
            "False positives:  4 \n",
            "False negatives:  1 \n",
            "True Positives:  2\n"
          ]
        }
      ]
    },
    {
      "cell_type": "code",
      "execution_count": null,
      "metadata": {
        "colab": {
          "base_uri": "https://localhost:8080/"
        },
        "id": "l1YIUJwSw1FS",
        "outputId": "01bcc369-4ae3-4d1f-9106-50094f84a475"
      },
      "outputs": [
        {
          "output_type": "stream",
          "name": "stdout",
          "text": [
            "Test Accuracy Score:  0.7727272727272727\n"
          ]
        }
      ],
      "source": [
        "score_ = accuracy_score(y_test, y_pred)\n",
        "print(\"Test Accuracy Score: \", score_)"
      ]
    },
    {
      "cell_type": "code",
      "source": [
        "from sklearn.metrics import classification_report\n",
        "print(classification_report(y_test, y_pred))"
      ],
      "metadata": {
        "colab": {
          "base_uri": "https://localhost:8080/"
        },
        "outputId": "acd1de25-63d2-460f-e066-366afd854354",
        "id": "t4zlGLRJi9PJ"
      },
      "execution_count": null,
      "outputs": [
        {
          "output_type": "stream",
          "name": "stdout",
          "text": [
            "              precision    recall  f1-score   support\n",
            "\n",
            "       False       0.94      0.79      0.86        19\n",
            "        True       0.33      0.67      0.44         3\n",
            "\n",
            "    accuracy                           0.77        22\n",
            "   macro avg       0.64      0.73      0.65        22\n",
            "weighted avg       0.86      0.77      0.80        22\n",
            "\n"
          ]
        }
      ]
    },
    {
      "cell_type": "markdown",
      "metadata": {
        "id": "3nmLOoPcw1FS"
      },
      "source": [
        "##**Decision Tree Algorithm**"
      ]
    },
    {
      "cell_type": "code",
      "execution_count": null,
      "metadata": {
        "colab": {
          "base_uri": "https://localhost:8080/"
        },
        "id": "b91_q29Sw1FS",
        "outputId": "ff563c40-5b9f-402b-b500-f18dad4d7eca"
      },
      "outputs": [
        {
          "output_type": "execute_result",
          "data": {
            "text/plain": [
              "DecisionTreeClassifier(criterion='entropy', random_state=0)"
            ]
          },
          "metadata": {},
          "execution_count": 377
        }
      ],
      "source": [
        "from sklearn.tree import DecisionTreeClassifier  \n",
        "classifier= DecisionTreeClassifier(criterion='entropy', random_state=0)  \n",
        "classifier.fit(x_train, y_train)  "
      ]
    },
    {
      "cell_type": "code",
      "execution_count": null,
      "metadata": {
        "id": "DYEq6DbHw1FT"
      },
      "outputs": [],
      "source": [
        "#Predicting the test set result  \n",
        "y_pred= classifier.predict(x_test)  "
      ]
    },
    {
      "cell_type": "code",
      "execution_count": null,
      "metadata": {
        "colab": {
          "base_uri": "https://localhost:8080/"
        },
        "id": "QBPWOXRww1FT",
        "outputId": "8ac03655-281c-43ca-95e2-8d5d39e905c5"
      },
      "outputs": [
        {
          "output_type": "stream",
          "name": "stdout",
          "text": [
            "[[18  1]\n",
            " [ 3  0]]\n"
          ]
        }
      ],
      "source": [
        "#Creating the Confusion matrix  \n",
        "from sklearn.metrics import confusion_matrix  \n",
        "cm= confusion_matrix(y_test, y_pred) \n",
        "print(cm)"
      ]
    },
    {
      "cell_type": "code",
      "source": [
        "from sklearn.metrics import confusion_matrix\n",
        "tn, fp, fn, tp = confusion_matrix(y_test,y_pred).ravel()\n",
        "print('True negatives: ', tn, '\\nFalse positives: ', fp, '\\nFalse negatives: ', fn, '\\nTrue Positives: ', tp)\n"
      ],
      "metadata": {
        "colab": {
          "base_uri": "https://localhost:8080/"
        },
        "outputId": "40b6b4ca-445c-4bcb-d755-0a7c616c69a9",
        "id": "-YeI8gp0h2Ij"
      },
      "execution_count": null,
      "outputs": [
        {
          "output_type": "stream",
          "name": "stdout",
          "text": [
            "True negatives:  18 \n",
            "False positives:  1 \n",
            "False negatives:  3 \n",
            "True Positives:  0\n"
          ]
        }
      ]
    },
    {
      "cell_type": "code",
      "execution_count": null,
      "metadata": {
        "colab": {
          "base_uri": "https://localhost:8080/"
        },
        "id": "YjMbT3Q7w1FT",
        "outputId": "86cf7123-441d-4c94-8293-c04e8efbb9fc"
      },
      "outputs": [
        {
          "output_type": "stream",
          "name": "stdout",
          "text": [
            "Test Accuracy Score:  0.8181818181818182\n"
          ]
        }
      ],
      "source": [
        "score_ = accuracy_score(y_test, y_pred)\n",
        "print(\"Test Accuracy Score: \", score_)"
      ]
    },
    {
      "cell_type": "code",
      "source": [
        "from sklearn.metrics import classification_report\n",
        "print(classification_report(y_test, y_pred))"
      ],
      "metadata": {
        "colab": {
          "base_uri": "https://localhost:8080/"
        },
        "outputId": "f88531c5-7934-4709-d33f-74b539e51e22",
        "id": "iRO0txBQi-Zs"
      },
      "execution_count": null,
      "outputs": [
        {
          "output_type": "stream",
          "name": "stdout",
          "text": [
            "              precision    recall  f1-score   support\n",
            "\n",
            "       False       0.86      0.95      0.90        19\n",
            "        True       0.00      0.00      0.00         3\n",
            "\n",
            "    accuracy                           0.82        22\n",
            "   macro avg       0.43      0.47      0.45        22\n",
            "weighted avg       0.74      0.82      0.78        22\n",
            "\n"
          ]
        }
      ]
    },
    {
      "cell_type": "markdown",
      "metadata": {
        "id": "wUNSsjYgw1FT"
      },
      "source": [
        "##**Random Forest**"
      ]
    },
    {
      "cell_type": "code",
      "execution_count": null,
      "metadata": {
        "colab": {
          "base_uri": "https://localhost:8080/"
        },
        "id": "_o62yy7nw1FU",
        "outputId": "e46d063b-d8ed-42de-8a91-db64bda05bbe"
      },
      "outputs": [
        {
          "output_type": "execute_result",
          "data": {
            "text/plain": [
              "RandomForestClassifier(criterion='entropy', n_estimators=10)"
            ]
          },
          "metadata": {},
          "execution_count": 383
        }
      ],
      "source": [
        "#Fitting Decision Tree classifier to the training set  \n",
        "from sklearn.ensemble import RandomForestClassifier  \n",
        "classifier= RandomForestClassifier(n_estimators= 10, criterion=\"entropy\")  \n",
        "classifier.fit(x_train, y_train)  "
      ]
    },
    {
      "cell_type": "code",
      "execution_count": null,
      "metadata": {
        "id": "l6kwQAJjw1FU"
      },
      "outputs": [],
      "source": [
        "#Predicting the test set result  \n",
        "y_pred= classifier.predict(x_test)  "
      ]
    },
    {
      "cell_type": "code",
      "execution_count": null,
      "metadata": {
        "colab": {
          "base_uri": "https://localhost:8080/"
        },
        "id": "6PYK0ysIw1FU",
        "outputId": "09423d29-6b7f-4b1e-d318-b2291d73f0b6"
      },
      "outputs": [
        {
          "output_type": "stream",
          "name": "stdout",
          "text": [
            "[[16  3]\n",
            " [ 1  2]]\n"
          ]
        }
      ],
      "source": [
        "#Creating the Confusion matrix  \n",
        "from sklearn.metrics import confusion_matrix  \n",
        "cm= confusion_matrix(y_test, y_pred)  \n",
        "print(cm)"
      ]
    },
    {
      "cell_type": "code",
      "source": [
        "from sklearn.metrics import confusion_matrix\n",
        "tn, fp, fn, tp = confusion_matrix(y_test,y_pred).ravel()\n",
        "print('True negatives: ', tn, '\\nFalse positives: ', fp, '\\nFalse negatives: ', fn, '\\nTrue Positives: ', tp)\n"
      ],
      "metadata": {
        "colab": {
          "base_uri": "https://localhost:8080/"
        },
        "outputId": "96cf6c7b-5688-4c36-b862-7abd2fe7a673",
        "id": "nrG-O2Sph31r"
      },
      "execution_count": null,
      "outputs": [
        {
          "output_type": "stream",
          "name": "stdout",
          "text": [
            "True negatives:  16 \n",
            "False positives:  3 \n",
            "False negatives:  1 \n",
            "True Positives:  2\n"
          ]
        }
      ]
    },
    {
      "cell_type": "code",
      "execution_count": null,
      "metadata": {
        "colab": {
          "base_uri": "https://localhost:8080/"
        },
        "id": "PzxWUJMiw1FU",
        "outputId": "aab5473d-beab-4125-a3d7-2a5ab48392b2"
      },
      "outputs": [
        {
          "output_type": "stream",
          "name": "stdout",
          "text": [
            "Test Accuracy Score:  0.8181818181818182\n"
          ]
        }
      ],
      "source": [
        "score_ = accuracy_score(y_test, y_pred)\n",
        "print(\"Test Accuracy Score: \", score_)"
      ]
    },
    {
      "cell_type": "code",
      "source": [
        "from sklearn.metrics import classification_report\n",
        "print(classification_report(y_test, y_pred))"
      ],
      "metadata": {
        "colab": {
          "base_uri": "https://localhost:8080/"
        },
        "outputId": "286c06e6-3648-41c7-d9a6-1cdd645b151b",
        "id": "Dy67_EMmi_Zz"
      },
      "execution_count": null,
      "outputs": [
        {
          "output_type": "stream",
          "name": "stdout",
          "text": [
            "              precision    recall  f1-score   support\n",
            "\n",
            "       False       0.94      0.84      0.89        19\n",
            "        True       0.40      0.67      0.50         3\n",
            "\n",
            "    accuracy                           0.82        22\n",
            "   macro avg       0.67      0.75      0.69        22\n",
            "weighted avg       0.87      0.82      0.84        22\n",
            "\n"
          ]
        }
      ]
    },
    {
      "cell_type": "markdown",
      "metadata": {
        "id": "TEGAslgfw1FV"
      },
      "source": [
        "##**Bagging**"
      ]
    },
    {
      "cell_type": "code",
      "execution_count": null,
      "metadata": {
        "colab": {
          "base_uri": "https://localhost:8080/"
        },
        "id": "uKSfF6c1w1FV",
        "outputId": "dd1bd648-59bc-4e6d-d791-888719136186"
      },
      "outputs": [
        {
          "output_type": "execute_result",
          "data": {
            "text/plain": [
              "DecisionTreeClassifier(random_state=21)"
            ]
          },
          "metadata": {},
          "execution_count": 389
        }
      ],
      "source": [
        "from sklearn.tree import DecisionTreeClassifier\n",
        "dtree = DecisionTreeClassifier(random_state=21)\n",
        "dtree.fit(x_train,y_train)"
      ]
    },
    {
      "cell_type": "code",
      "execution_count": null,
      "metadata": {
        "colab": {
          "base_uri": "https://localhost:8080/"
        },
        "outputId": "6afdddf7-886f-43e7-8068-9d70dbc6fade",
        "id": "5BZlrznngfIL"
      },
      "outputs": [
        {
          "output_type": "stream",
          "name": "stdout",
          "text": [
            "[[16  3]\n",
            " [ 1  2]]\n"
          ]
        }
      ],
      "source": [
        "from sklearn.metrics import confusion_matrix  \n",
        "cm= confusion_matrix(y_test, y_pred)  \n",
        "print(cm)"
      ]
    },
    {
      "cell_type": "code",
      "source": [
        "from sklearn.metrics import confusion_matrix\n",
        "tn, fp, fn, tp = confusion_matrix(y_test,y_pred).ravel()\n",
        "print('True negatives: ', tn, '\\nFalse positives: ', fp, '\\nFalse negatives: ', fn, '\\nTrue Positives: ', tp)\n"
      ],
      "metadata": {
        "colab": {
          "base_uri": "https://localhost:8080/"
        },
        "outputId": "5cc28333-9f04-4675-c965-fec10dc4016b",
        "id": "HN0FlLEPh41U"
      },
      "execution_count": null,
      "outputs": [
        {
          "output_type": "stream",
          "name": "stdout",
          "text": [
            "True negatives:  16 \n",
            "False positives:  3 \n",
            "False negatives:  1 \n",
            "True Positives:  2\n"
          ]
        }
      ]
    },
    {
      "cell_type": "code",
      "execution_count": null,
      "metadata": {
        "colab": {
          "base_uri": "https://localhost:8080/"
        },
        "id": "3FiQ87k5w1FV",
        "outputId": "16f232ad-841e-4f65-a1db-79d4dc2d6a72"
      },
      "outputs": [
        {
          "output_type": "stream",
          "name": "stdout",
          "text": [
            "Train data accuracy: 1.0\n",
            "Test data accuracy: 0.8181818181818182\n"
          ]
        }
      ],
      "source": [
        "y_pred = dtree.predict(x_test)\n",
        "\n",
        "print(\"Train data accuracy:\",accuracy_score(y_true = y_train, y_pred = dtree.predict(x_train)))\n",
        "print(\"Test data accuracy:\",accuracy_score(y_true = y_test, y_pred = y_pred))"
      ]
    },
    {
      "cell_type": "code",
      "source": [
        "from sklearn.metrics import classification_report\n",
        "print(classification_report(y_test, y_pred))"
      ],
      "metadata": {
        "colab": {
          "base_uri": "https://localhost:8080/"
        },
        "outputId": "66950ab6-a390-4b9e-c7c0-fa1c1bfd81a0",
        "id": "Z4Oa4G5sjAgP"
      },
      "execution_count": null,
      "outputs": [
        {
          "output_type": "stream",
          "name": "stdout",
          "text": [
            "              precision    recall  f1-score   support\n",
            "\n",
            "       False       0.86      0.95      0.90        19\n",
            "        True       0.00      0.00      0.00         3\n",
            "\n",
            "    accuracy                           0.82        22\n",
            "   macro avg       0.43      0.47      0.45        22\n",
            "weighted avg       0.74      0.82      0.78        22\n",
            "\n"
          ]
        }
      ]
    },
    {
      "cell_type": "markdown",
      "metadata": {
        "id": "hyNLBbVHqXg3"
      },
      "source": [
        "#**ar5 Dataset**"
      ]
    },
    {
      "cell_type": "code",
      "source": [
        "ar5_df"
      ],
      "metadata": {
        "colab": {
          "base_uri": "https://localhost:8080/",
          "height": 1000
        },
        "id": "SeWfiRXO1QNM",
        "outputId": "84c32b26-4ac8-406a-a55c-594656ceb209"
      },
      "execution_count": null,
      "outputs": [
        {
          "output_type": "execute_result",
          "data": {
            "text/plain": [
              "    total_loc  blank_loc  comment_loc  code_and_comment_loc  executable_loc  \\\n",
              "0          16          6            2                     1               8   \n",
              "1          31         12            3                     2              16   \n",
              "2         477        104           89                     2             284   \n",
              "3          11          2            0                     0               9   \n",
              "4           9          2            0                     0               7   \n",
              "5          10          2            0                     0               8   \n",
              "6           5          0            0                     0               5   \n",
              "7          28          5            1                     0              22   \n",
              "8          26          6            0                     0              20   \n",
              "9          15          4            0                     0              11   \n",
              "10         22          4            1                     0              17   \n",
              "11         10          4            0                     0               6   \n",
              "12         23          5            1                     0              17   \n",
              "13         86         22            8                     3              56   \n",
              "14        115         17            1                     1              97   \n",
              "15        150         43            5                     1             102   \n",
              "16         47         14           17                     0              16   \n",
              "17         35         13           15                     0               7   \n",
              "18         65         18            9                     0              38   \n",
              "19         29          4            1                     0              24   \n",
              "20         42         13            0                     0              29   \n",
              "21         14          3            0                     0              11   \n",
              "22         29          8            0                     0              21   \n",
              "23        151         38           13                     4             100   \n",
              "24         42          8            3                     0              31   \n",
              "25        208         38           28                     4             142   \n",
              "26         48          9            8                     4              31   \n",
              "27        135         44           20                     2              71   \n",
              "28        125         25           12                     4              88   \n",
              "29         14          2            0                     0              12   \n",
              "30        147         32           10                     4             105   \n",
              "31        214         55           38                     8             121   \n",
              "32        112         23            7                     3              82   \n",
              "33        110         29           11                     3              70   \n",
              "34         49         14            7                     3              28   \n",
              "\n",
              "    unique_operands  unique_operators  total_operands  total_operators  \\\n",
              "0                13                 6              18               20   \n",
              "1                18                 9              31               42   \n",
              "2               150                29             482              699   \n",
              "3                10                 4              15               17   \n",
              "4                 7                 4              11               13   \n",
              "5                 7                 4              13               15   \n",
              "6                 5                 3               5                9   \n",
              "7                18                12              49               53   \n",
              "8                16                11              41               44   \n",
              "9                11                 5              19               22   \n",
              "10               17                 9              25               36   \n",
              "11                9                 6              24               23   \n",
              "12               15                10              43               58   \n",
              "13               31                11              76              113   \n",
              "14               35                16             154              204   \n",
              "15               79                16             184              229   \n",
              "16               45                 5              50               52   \n",
              "17               26                 4              29               31   \n",
              "18               43                10              92              110   \n",
              "19               27                 5              55               57   \n",
              "20               27                14              65               85   \n",
              "21               14                 7              34               43   \n",
              "22               18                 8              36               46   \n",
              "23               64                28             189              285   \n",
              "24               18                11              40               59   \n",
              "25               70                17             259              371   \n",
              "26               28                14              56               88   \n",
              "27               87                23             203              258   \n",
              "28               62                27             153              229   \n",
              "29               13                11              18               29   \n",
              "30               46                17             165              247   \n",
              "31               71                23             221              309   \n",
              "32               35                23             226              305   \n",
              "33               48                23             135              182   \n",
              "34               23                16              53               74   \n",
              "\n",
              "    halstead_vocabulary  ...  condition_count  multiple_condition_count  \\\n",
              "0                    19  ...                0                         0   \n",
              "1                    27  ...                5                         0   \n",
              "2                   179  ...              116                        25   \n",
              "3                    14  ...                0                         0   \n",
              "4                    11  ...                0                         0   \n",
              "5                    11  ...                0                         0   \n",
              "6                     8  ...                0                         0   \n",
              "7                    30  ...                3                         1   \n",
              "8                    27  ...                1                         0   \n",
              "9                    16  ...                0                         0   \n",
              "10                   26  ...                1                         0   \n",
              "11                   15  ...                0                         0   \n",
              "12                   25  ...                8                         4   \n",
              "13                   42  ...               11                         4   \n",
              "14                   51  ...               25                         4   \n",
              "15                   95  ...               21                         7   \n",
              "16                   50  ...                0                         0   \n",
              "17                   30  ...                0                         0   \n",
              "18                   53  ...               10                         0   \n",
              "19                   32  ...                0                         0   \n",
              "20                   41  ...                8                         2   \n",
              "21                   21  ...               13                         6   \n",
              "22                   26  ...                4                         1   \n",
              "23                   92  ...               29                         3   \n",
              "24                   29  ...                8                         4   \n",
              "25                   87  ...               52                        12   \n",
              "26                   42  ...               16                         5   \n",
              "27                  110  ...               35                        10   \n",
              "28                   89  ...               33                         6   \n",
              "29                   24  ...                4                         0   \n",
              "30                   63  ...               46                         8   \n",
              "31                   94  ...               54                        17   \n",
              "32                   58  ...               43                        15   \n",
              "33                   71  ...               26                         7   \n",
              "34                   39  ...               11                         3   \n",
              "\n",
              "    cyclomatic_complexity  cyclomatic_density  decision_density  \\\n",
              "0                       2            0.250000            0.0000   \n",
              "1                       6            0.375000            1.0000   \n",
              "2                      93            0.327460            1.0172   \n",
              "3                       1            0.111110            0.0000   \n",
              "4                       1            0.142860            0.0000   \n",
              "5                       1            0.125000            0.0000   \n",
              "6                       1            0.200000            0.0000   \n",
              "7                       4            0.181820            1.3333   \n",
              "8                       3            0.150000            2.0000   \n",
              "9                       1            0.090909            0.0000   \n",
              "10                      3            0.176470            2.0000   \n",
              "11                      1            0.166670            0.0000   \n",
              "12                      5            0.294120            1.0000   \n",
              "13                      9            0.160710            1.0909   \n",
              "14                     21            0.216490            1.0400   \n",
              "15                     18            0.176470            1.1429   \n",
              "16                      1            0.062500            0.0000   \n",
              "17                      1            0.142860            0.0000   \n",
              "18                     11            0.289470            1.0000   \n",
              "19                      1            0.041667            0.0000   \n",
              "20                      8            0.275860            1.1250   \n",
              "21                      8            0.727270            1.0000   \n",
              "22                      4            0.190480            1.0000   \n",
              "23                     29            0.290000            1.1034   \n",
              "24                      5            0.161290            1.0000   \n",
              "25                     41            0.288730            1.0000   \n",
              "26                     12            0.387100            1.0000   \n",
              "27                     26            0.366200            1.0000   \n",
              "28                     29            0.329550            1.0606   \n",
              "29                      5            0.416670            1.0000   \n",
              "30                     38            0.361900            1.0000   \n",
              "31                     37            0.305790            1.0000   \n",
              "32                     30            0.365850            1.0465   \n",
              "33                     21            0.300000            1.0385   \n",
              "34                      9            0.321430            1.0000   \n",
              "\n",
              "    design_complexity  design_density  normalized_cyclomatic_complexity  \\\n",
              "0                   1        0.500000                          0.125000   \n",
              "1                   1        0.166670                          0.193550   \n",
              "2                   4        0.043011                          0.194970   \n",
              "3                   2        2.000000                          0.090909   \n",
              "4                   1        1.000000                          0.111110   \n",
              "5                   2        2.000000                          0.100000   \n",
              "6                   3        3.000000                          0.200000   \n",
              "7                   2        0.500000                          0.142860   \n",
              "8                   2        0.666670                          0.115380   \n",
              "9                   7        7.000000                          0.066667   \n",
              "10                  7        2.333300                          0.136360   \n",
              "11                  3        3.000000                          0.100000   \n",
              "12                  4        0.800000                          0.217390   \n",
              "13                  3        0.333330                          0.104650   \n",
              "14                  2        0.095238                          0.182610   \n",
              "15                 13        0.722220                          0.120000   \n",
              "16                  0        0.000000                          0.021277   \n",
              "17                  0        0.000000                          0.028571   \n",
              "18                 14        1.272700                          0.169230   \n",
              "19                 10       10.000000                          0.034483   \n",
              "20                  0        0.000000                          0.190480   \n",
              "21                  1        0.125000                          0.571430   \n",
              "22                  2        0.500000                          0.137930   \n",
              "23                  0        0.000000                          0.192050   \n",
              "24                  0        0.000000                          0.119050   \n",
              "25                 17        0.414630                          0.197120   \n",
              "26                  6        0.500000                          0.250000   \n",
              "27                  4        0.153850                          0.192590   \n",
              "28                  9        0.310340                          0.232000   \n",
              "29                  1        0.200000                          0.357140   \n",
              "30                  0        0.000000                          0.258500   \n",
              "31                  4        0.108110                          0.172900   \n",
              "32                  1        0.033333                          0.267860   \n",
              "33                  1        0.047619                          0.190910   \n",
              "34                  0        0.000000                          0.183670   \n",
              "\n",
              "    formal_parameters  defects  \n",
              "0                   1    False  \n",
              "1                   0    False  \n",
              "2                   0     True  \n",
              "3                   0    False  \n",
              "4                   0    False  \n",
              "5                   0    False  \n",
              "6                   0    False  \n",
              "7                   1    False  \n",
              "8                   0    False  \n",
              "9                   1    False  \n",
              "10                  2    False  \n",
              "11                  2    False  \n",
              "12                  1    False  \n",
              "13                  0    False  \n",
              "14                  0    False  \n",
              "15                  0     True  \n",
              "16                  0    False  \n",
              "17                  0    False  \n",
              "18                  0    False  \n",
              "19                  0    False  \n",
              "20                  0    False  \n",
              "21                  0    False  \n",
              "22                  0    False  \n",
              "23                  0    False  \n",
              "24                  0    False  \n",
              "25                  0     True  \n",
              "26                  0    False  \n",
              "27                  0     True  \n",
              "28                  0     True  \n",
              "29                  0    False  \n",
              "30                  0    False  \n",
              "31                  0     True  \n",
              "32                  0    False  \n",
              "33                  0     True  \n",
              "34                  0     True  \n",
              "\n",
              "[35 rows x 30 columns]"
            ],
            "text/html": [
              "\n",
              "  <div id=\"df-9a48aea7-61fa-4c38-b184-7100039de48e\">\n",
              "    <div class=\"colab-df-container\">\n",
              "      <div>\n",
              "<style scoped>\n",
              "    .dataframe tbody tr th:only-of-type {\n",
              "        vertical-align: middle;\n",
              "    }\n",
              "\n",
              "    .dataframe tbody tr th {\n",
              "        vertical-align: top;\n",
              "    }\n",
              "\n",
              "    .dataframe thead th {\n",
              "        text-align: right;\n",
              "    }\n",
              "</style>\n",
              "<table border=\"1\" class=\"dataframe\">\n",
              "  <thead>\n",
              "    <tr style=\"text-align: right;\">\n",
              "      <th></th>\n",
              "      <th>total_loc</th>\n",
              "      <th>blank_loc</th>\n",
              "      <th>comment_loc</th>\n",
              "      <th>code_and_comment_loc</th>\n",
              "      <th>executable_loc</th>\n",
              "      <th>unique_operands</th>\n",
              "      <th>unique_operators</th>\n",
              "      <th>total_operands</th>\n",
              "      <th>total_operators</th>\n",
              "      <th>halstead_vocabulary</th>\n",
              "      <th>...</th>\n",
              "      <th>condition_count</th>\n",
              "      <th>multiple_condition_count</th>\n",
              "      <th>cyclomatic_complexity</th>\n",
              "      <th>cyclomatic_density</th>\n",
              "      <th>decision_density</th>\n",
              "      <th>design_complexity</th>\n",
              "      <th>design_density</th>\n",
              "      <th>normalized_cyclomatic_complexity</th>\n",
              "      <th>formal_parameters</th>\n",
              "      <th>defects</th>\n",
              "    </tr>\n",
              "  </thead>\n",
              "  <tbody>\n",
              "    <tr>\n",
              "      <th>0</th>\n",
              "      <td>16</td>\n",
              "      <td>6</td>\n",
              "      <td>2</td>\n",
              "      <td>1</td>\n",
              "      <td>8</td>\n",
              "      <td>13</td>\n",
              "      <td>6</td>\n",
              "      <td>18</td>\n",
              "      <td>20</td>\n",
              "      <td>19</td>\n",
              "      <td>...</td>\n",
              "      <td>0</td>\n",
              "      <td>0</td>\n",
              "      <td>2</td>\n",
              "      <td>0.250000</td>\n",
              "      <td>0.0000</td>\n",
              "      <td>1</td>\n",
              "      <td>0.500000</td>\n",
              "      <td>0.125000</td>\n",
              "      <td>1</td>\n",
              "      <td>False</td>\n",
              "    </tr>\n",
              "    <tr>\n",
              "      <th>1</th>\n",
              "      <td>31</td>\n",
              "      <td>12</td>\n",
              "      <td>3</td>\n",
              "      <td>2</td>\n",
              "      <td>16</td>\n",
              "      <td>18</td>\n",
              "      <td>9</td>\n",
              "      <td>31</td>\n",
              "      <td>42</td>\n",
              "      <td>27</td>\n",
              "      <td>...</td>\n",
              "      <td>5</td>\n",
              "      <td>0</td>\n",
              "      <td>6</td>\n",
              "      <td>0.375000</td>\n",
              "      <td>1.0000</td>\n",
              "      <td>1</td>\n",
              "      <td>0.166670</td>\n",
              "      <td>0.193550</td>\n",
              "      <td>0</td>\n",
              "      <td>False</td>\n",
              "    </tr>\n",
              "    <tr>\n",
              "      <th>2</th>\n",
              "      <td>477</td>\n",
              "      <td>104</td>\n",
              "      <td>89</td>\n",
              "      <td>2</td>\n",
              "      <td>284</td>\n",
              "      <td>150</td>\n",
              "      <td>29</td>\n",
              "      <td>482</td>\n",
              "      <td>699</td>\n",
              "      <td>179</td>\n",
              "      <td>...</td>\n",
              "      <td>116</td>\n",
              "      <td>25</td>\n",
              "      <td>93</td>\n",
              "      <td>0.327460</td>\n",
              "      <td>1.0172</td>\n",
              "      <td>4</td>\n",
              "      <td>0.043011</td>\n",
              "      <td>0.194970</td>\n",
              "      <td>0</td>\n",
              "      <td>True</td>\n",
              "    </tr>\n",
              "    <tr>\n",
              "      <th>3</th>\n",
              "      <td>11</td>\n",
              "      <td>2</td>\n",
              "      <td>0</td>\n",
              "      <td>0</td>\n",
              "      <td>9</td>\n",
              "      <td>10</td>\n",
              "      <td>4</td>\n",
              "      <td>15</td>\n",
              "      <td>17</td>\n",
              "      <td>14</td>\n",
              "      <td>...</td>\n",
              "      <td>0</td>\n",
              "      <td>0</td>\n",
              "      <td>1</td>\n",
              "      <td>0.111110</td>\n",
              "      <td>0.0000</td>\n",
              "      <td>2</td>\n",
              "      <td>2.000000</td>\n",
              "      <td>0.090909</td>\n",
              "      <td>0</td>\n",
              "      <td>False</td>\n",
              "    </tr>\n",
              "    <tr>\n",
              "      <th>4</th>\n",
              "      <td>9</td>\n",
              "      <td>2</td>\n",
              "      <td>0</td>\n",
              "      <td>0</td>\n",
              "      <td>7</td>\n",
              "      <td>7</td>\n",
              "      <td>4</td>\n",
              "      <td>11</td>\n",
              "      <td>13</td>\n",
              "      <td>11</td>\n",
              "      <td>...</td>\n",
              "      <td>0</td>\n",
              "      <td>0</td>\n",
              "      <td>1</td>\n",
              "      <td>0.142860</td>\n",
              "      <td>0.0000</td>\n",
              "      <td>1</td>\n",
              "      <td>1.000000</td>\n",
              "      <td>0.111110</td>\n",
              "      <td>0</td>\n",
              "      <td>False</td>\n",
              "    </tr>\n",
              "    <tr>\n",
              "      <th>5</th>\n",
              "      <td>10</td>\n",
              "      <td>2</td>\n",
              "      <td>0</td>\n",
              "      <td>0</td>\n",
              "      <td>8</td>\n",
              "      <td>7</td>\n",
              "      <td>4</td>\n",
              "      <td>13</td>\n",
              "      <td>15</td>\n",
              "      <td>11</td>\n",
              "      <td>...</td>\n",
              "      <td>0</td>\n",
              "      <td>0</td>\n",
              "      <td>1</td>\n",
              "      <td>0.125000</td>\n",
              "      <td>0.0000</td>\n",
              "      <td>2</td>\n",
              "      <td>2.000000</td>\n",
              "      <td>0.100000</td>\n",
              "      <td>0</td>\n",
              "      <td>False</td>\n",
              "    </tr>\n",
              "    <tr>\n",
              "      <th>6</th>\n",
              "      <td>5</td>\n",
              "      <td>0</td>\n",
              "      <td>0</td>\n",
              "      <td>0</td>\n",
              "      <td>5</td>\n",
              "      <td>5</td>\n",
              "      <td>3</td>\n",
              "      <td>5</td>\n",
              "      <td>9</td>\n",
              "      <td>8</td>\n",
              "      <td>...</td>\n",
              "      <td>0</td>\n",
              "      <td>0</td>\n",
              "      <td>1</td>\n",
              "      <td>0.200000</td>\n",
              "      <td>0.0000</td>\n",
              "      <td>3</td>\n",
              "      <td>3.000000</td>\n",
              "      <td>0.200000</td>\n",
              "      <td>0</td>\n",
              "      <td>False</td>\n",
              "    </tr>\n",
              "    <tr>\n",
              "      <th>7</th>\n",
              "      <td>28</td>\n",
              "      <td>5</td>\n",
              "      <td>1</td>\n",
              "      <td>0</td>\n",
              "      <td>22</td>\n",
              "      <td>18</td>\n",
              "      <td>12</td>\n",
              "      <td>49</td>\n",
              "      <td>53</td>\n",
              "      <td>30</td>\n",
              "      <td>...</td>\n",
              "      <td>3</td>\n",
              "      <td>1</td>\n",
              "      <td>4</td>\n",
              "      <td>0.181820</td>\n",
              "      <td>1.3333</td>\n",
              "      <td>2</td>\n",
              "      <td>0.500000</td>\n",
              "      <td>0.142860</td>\n",
              "      <td>1</td>\n",
              "      <td>False</td>\n",
              "    </tr>\n",
              "    <tr>\n",
              "      <th>8</th>\n",
              "      <td>26</td>\n",
              "      <td>6</td>\n",
              "      <td>0</td>\n",
              "      <td>0</td>\n",
              "      <td>20</td>\n",
              "      <td>16</td>\n",
              "      <td>11</td>\n",
              "      <td>41</td>\n",
              "      <td>44</td>\n",
              "      <td>27</td>\n",
              "      <td>...</td>\n",
              "      <td>1</td>\n",
              "      <td>0</td>\n",
              "      <td>3</td>\n",
              "      <td>0.150000</td>\n",
              "      <td>2.0000</td>\n",
              "      <td>2</td>\n",
              "      <td>0.666670</td>\n",
              "      <td>0.115380</td>\n",
              "      <td>0</td>\n",
              "      <td>False</td>\n",
              "    </tr>\n",
              "    <tr>\n",
              "      <th>9</th>\n",
              "      <td>15</td>\n",
              "      <td>4</td>\n",
              "      <td>0</td>\n",
              "      <td>0</td>\n",
              "      <td>11</td>\n",
              "      <td>11</td>\n",
              "      <td>5</td>\n",
              "      <td>19</td>\n",
              "      <td>22</td>\n",
              "      <td>16</td>\n",
              "      <td>...</td>\n",
              "      <td>0</td>\n",
              "      <td>0</td>\n",
              "      <td>1</td>\n",
              "      <td>0.090909</td>\n",
              "      <td>0.0000</td>\n",
              "      <td>7</td>\n",
              "      <td>7.000000</td>\n",
              "      <td>0.066667</td>\n",
              "      <td>1</td>\n",
              "      <td>False</td>\n",
              "    </tr>\n",
              "    <tr>\n",
              "      <th>10</th>\n",
              "      <td>22</td>\n",
              "      <td>4</td>\n",
              "      <td>1</td>\n",
              "      <td>0</td>\n",
              "      <td>17</td>\n",
              "      <td>17</td>\n",
              "      <td>9</td>\n",
              "      <td>25</td>\n",
              "      <td>36</td>\n",
              "      <td>26</td>\n",
              "      <td>...</td>\n",
              "      <td>1</td>\n",
              "      <td>0</td>\n",
              "      <td>3</td>\n",
              "      <td>0.176470</td>\n",
              "      <td>2.0000</td>\n",
              "      <td>7</td>\n",
              "      <td>2.333300</td>\n",
              "      <td>0.136360</td>\n",
              "      <td>2</td>\n",
              "      <td>False</td>\n",
              "    </tr>\n",
              "    <tr>\n",
              "      <th>11</th>\n",
              "      <td>10</td>\n",
              "      <td>4</td>\n",
              "      <td>0</td>\n",
              "      <td>0</td>\n",
              "      <td>6</td>\n",
              "      <td>9</td>\n",
              "      <td>6</td>\n",
              "      <td>24</td>\n",
              "      <td>23</td>\n",
              "      <td>15</td>\n",
              "      <td>...</td>\n",
              "      <td>0</td>\n",
              "      <td>0</td>\n",
              "      <td>1</td>\n",
              "      <td>0.166670</td>\n",
              "      <td>0.0000</td>\n",
              "      <td>3</td>\n",
              "      <td>3.000000</td>\n",
              "      <td>0.100000</td>\n",
              "      <td>2</td>\n",
              "      <td>False</td>\n",
              "    </tr>\n",
              "    <tr>\n",
              "      <th>12</th>\n",
              "      <td>23</td>\n",
              "      <td>5</td>\n",
              "      <td>1</td>\n",
              "      <td>0</td>\n",
              "      <td>17</td>\n",
              "      <td>15</td>\n",
              "      <td>10</td>\n",
              "      <td>43</td>\n",
              "      <td>58</td>\n",
              "      <td>25</td>\n",
              "      <td>...</td>\n",
              "      <td>8</td>\n",
              "      <td>4</td>\n",
              "      <td>5</td>\n",
              "      <td>0.294120</td>\n",
              "      <td>1.0000</td>\n",
              "      <td>4</td>\n",
              "      <td>0.800000</td>\n",
              "      <td>0.217390</td>\n",
              "      <td>1</td>\n",
              "      <td>False</td>\n",
              "    </tr>\n",
              "    <tr>\n",
              "      <th>13</th>\n",
              "      <td>86</td>\n",
              "      <td>22</td>\n",
              "      <td>8</td>\n",
              "      <td>3</td>\n",
              "      <td>56</td>\n",
              "      <td>31</td>\n",
              "      <td>11</td>\n",
              "      <td>76</td>\n",
              "      <td>113</td>\n",
              "      <td>42</td>\n",
              "      <td>...</td>\n",
              "      <td>11</td>\n",
              "      <td>4</td>\n",
              "      <td>9</td>\n",
              "      <td>0.160710</td>\n",
              "      <td>1.0909</td>\n",
              "      <td>3</td>\n",
              "      <td>0.333330</td>\n",
              "      <td>0.104650</td>\n",
              "      <td>0</td>\n",
              "      <td>False</td>\n",
              "    </tr>\n",
              "    <tr>\n",
              "      <th>14</th>\n",
              "      <td>115</td>\n",
              "      <td>17</td>\n",
              "      <td>1</td>\n",
              "      <td>1</td>\n",
              "      <td>97</td>\n",
              "      <td>35</td>\n",
              "      <td>16</td>\n",
              "      <td>154</td>\n",
              "      <td>204</td>\n",
              "      <td>51</td>\n",
              "      <td>...</td>\n",
              "      <td>25</td>\n",
              "      <td>4</td>\n",
              "      <td>21</td>\n",
              "      <td>0.216490</td>\n",
              "      <td>1.0400</td>\n",
              "      <td>2</td>\n",
              "      <td>0.095238</td>\n",
              "      <td>0.182610</td>\n",
              "      <td>0</td>\n",
              "      <td>False</td>\n",
              "    </tr>\n",
              "    <tr>\n",
              "      <th>15</th>\n",
              "      <td>150</td>\n",
              "      <td>43</td>\n",
              "      <td>5</td>\n",
              "      <td>1</td>\n",
              "      <td>102</td>\n",
              "      <td>79</td>\n",
              "      <td>16</td>\n",
              "      <td>184</td>\n",
              "      <td>229</td>\n",
              "      <td>95</td>\n",
              "      <td>...</td>\n",
              "      <td>21</td>\n",
              "      <td>7</td>\n",
              "      <td>18</td>\n",
              "      <td>0.176470</td>\n",
              "      <td>1.1429</td>\n",
              "      <td>13</td>\n",
              "      <td>0.722220</td>\n",
              "      <td>0.120000</td>\n",
              "      <td>0</td>\n",
              "      <td>True</td>\n",
              "    </tr>\n",
              "    <tr>\n",
              "      <th>16</th>\n",
              "      <td>47</td>\n",
              "      <td>14</td>\n",
              "      <td>17</td>\n",
              "      <td>0</td>\n",
              "      <td>16</td>\n",
              "      <td>45</td>\n",
              "      <td>5</td>\n",
              "      <td>50</td>\n",
              "      <td>52</td>\n",
              "      <td>50</td>\n",
              "      <td>...</td>\n",
              "      <td>0</td>\n",
              "      <td>0</td>\n",
              "      <td>1</td>\n",
              "      <td>0.062500</td>\n",
              "      <td>0.0000</td>\n",
              "      <td>0</td>\n",
              "      <td>0.000000</td>\n",
              "      <td>0.021277</td>\n",
              "      <td>0</td>\n",
              "      <td>False</td>\n",
              "    </tr>\n",
              "    <tr>\n",
              "      <th>17</th>\n",
              "      <td>35</td>\n",
              "      <td>13</td>\n",
              "      <td>15</td>\n",
              "      <td>0</td>\n",
              "      <td>7</td>\n",
              "      <td>26</td>\n",
              "      <td>4</td>\n",
              "      <td>29</td>\n",
              "      <td>31</td>\n",
              "      <td>30</td>\n",
              "      <td>...</td>\n",
              "      <td>0</td>\n",
              "      <td>0</td>\n",
              "      <td>1</td>\n",
              "      <td>0.142860</td>\n",
              "      <td>0.0000</td>\n",
              "      <td>0</td>\n",
              "      <td>0.000000</td>\n",
              "      <td>0.028571</td>\n",
              "      <td>0</td>\n",
              "      <td>False</td>\n",
              "    </tr>\n",
              "    <tr>\n",
              "      <th>18</th>\n",
              "      <td>65</td>\n",
              "      <td>18</td>\n",
              "      <td>9</td>\n",
              "      <td>0</td>\n",
              "      <td>38</td>\n",
              "      <td>43</td>\n",
              "      <td>10</td>\n",
              "      <td>92</td>\n",
              "      <td>110</td>\n",
              "      <td>53</td>\n",
              "      <td>...</td>\n",
              "      <td>10</td>\n",
              "      <td>0</td>\n",
              "      <td>11</td>\n",
              "      <td>0.289470</td>\n",
              "      <td>1.0000</td>\n",
              "      <td>14</td>\n",
              "      <td>1.272700</td>\n",
              "      <td>0.169230</td>\n",
              "      <td>0</td>\n",
              "      <td>False</td>\n",
              "    </tr>\n",
              "    <tr>\n",
              "      <th>19</th>\n",
              "      <td>29</td>\n",
              "      <td>4</td>\n",
              "      <td>1</td>\n",
              "      <td>0</td>\n",
              "      <td>24</td>\n",
              "      <td>27</td>\n",
              "      <td>5</td>\n",
              "      <td>55</td>\n",
              "      <td>57</td>\n",
              "      <td>32</td>\n",
              "      <td>...</td>\n",
              "      <td>0</td>\n",
              "      <td>0</td>\n",
              "      <td>1</td>\n",
              "      <td>0.041667</td>\n",
              "      <td>0.0000</td>\n",
              "      <td>10</td>\n",
              "      <td>10.000000</td>\n",
              "      <td>0.034483</td>\n",
              "      <td>0</td>\n",
              "      <td>False</td>\n",
              "    </tr>\n",
              "    <tr>\n",
              "      <th>20</th>\n",
              "      <td>42</td>\n",
              "      <td>13</td>\n",
              "      <td>0</td>\n",
              "      <td>0</td>\n",
              "      <td>29</td>\n",
              "      <td>27</td>\n",
              "      <td>14</td>\n",
              "      <td>65</td>\n",
              "      <td>85</td>\n",
              "      <td>41</td>\n",
              "      <td>...</td>\n",
              "      <td>8</td>\n",
              "      <td>2</td>\n",
              "      <td>8</td>\n",
              "      <td>0.275860</td>\n",
              "      <td>1.1250</td>\n",
              "      <td>0</td>\n",
              "      <td>0.000000</td>\n",
              "      <td>0.190480</td>\n",
              "      <td>0</td>\n",
              "      <td>False</td>\n",
              "    </tr>\n",
              "    <tr>\n",
              "      <th>21</th>\n",
              "      <td>14</td>\n",
              "      <td>3</td>\n",
              "      <td>0</td>\n",
              "      <td>0</td>\n",
              "      <td>11</td>\n",
              "      <td>14</td>\n",
              "      <td>7</td>\n",
              "      <td>34</td>\n",
              "      <td>43</td>\n",
              "      <td>21</td>\n",
              "      <td>...</td>\n",
              "      <td>13</td>\n",
              "      <td>6</td>\n",
              "      <td>8</td>\n",
              "      <td>0.727270</td>\n",
              "      <td>1.0000</td>\n",
              "      <td>1</td>\n",
              "      <td>0.125000</td>\n",
              "      <td>0.571430</td>\n",
              "      <td>0</td>\n",
              "      <td>False</td>\n",
              "    </tr>\n",
              "    <tr>\n",
              "      <th>22</th>\n",
              "      <td>29</td>\n",
              "      <td>8</td>\n",
              "      <td>0</td>\n",
              "      <td>0</td>\n",
              "      <td>21</td>\n",
              "      <td>18</td>\n",
              "      <td>8</td>\n",
              "      <td>36</td>\n",
              "      <td>46</td>\n",
              "      <td>26</td>\n",
              "      <td>...</td>\n",
              "      <td>4</td>\n",
              "      <td>1</td>\n",
              "      <td>4</td>\n",
              "      <td>0.190480</td>\n",
              "      <td>1.0000</td>\n",
              "      <td>2</td>\n",
              "      <td>0.500000</td>\n",
              "      <td>0.137930</td>\n",
              "      <td>0</td>\n",
              "      <td>False</td>\n",
              "    </tr>\n",
              "    <tr>\n",
              "      <th>23</th>\n",
              "      <td>151</td>\n",
              "      <td>38</td>\n",
              "      <td>13</td>\n",
              "      <td>4</td>\n",
              "      <td>100</td>\n",
              "      <td>64</td>\n",
              "      <td>28</td>\n",
              "      <td>189</td>\n",
              "      <td>285</td>\n",
              "      <td>92</td>\n",
              "      <td>...</td>\n",
              "      <td>29</td>\n",
              "      <td>3</td>\n",
              "      <td>29</td>\n",
              "      <td>0.290000</td>\n",
              "      <td>1.1034</td>\n",
              "      <td>0</td>\n",
              "      <td>0.000000</td>\n",
              "      <td>0.192050</td>\n",
              "      <td>0</td>\n",
              "      <td>False</td>\n",
              "    </tr>\n",
              "    <tr>\n",
              "      <th>24</th>\n",
              "      <td>42</td>\n",
              "      <td>8</td>\n",
              "      <td>3</td>\n",
              "      <td>0</td>\n",
              "      <td>31</td>\n",
              "      <td>18</td>\n",
              "      <td>11</td>\n",
              "      <td>40</td>\n",
              "      <td>59</td>\n",
              "      <td>29</td>\n",
              "      <td>...</td>\n",
              "      <td>8</td>\n",
              "      <td>4</td>\n",
              "      <td>5</td>\n",
              "      <td>0.161290</td>\n",
              "      <td>1.0000</td>\n",
              "      <td>0</td>\n",
              "      <td>0.000000</td>\n",
              "      <td>0.119050</td>\n",
              "      <td>0</td>\n",
              "      <td>False</td>\n",
              "    </tr>\n",
              "    <tr>\n",
              "      <th>25</th>\n",
              "      <td>208</td>\n",
              "      <td>38</td>\n",
              "      <td>28</td>\n",
              "      <td>4</td>\n",
              "      <td>142</td>\n",
              "      <td>70</td>\n",
              "      <td>17</td>\n",
              "      <td>259</td>\n",
              "      <td>371</td>\n",
              "      <td>87</td>\n",
              "      <td>...</td>\n",
              "      <td>52</td>\n",
              "      <td>12</td>\n",
              "      <td>41</td>\n",
              "      <td>0.288730</td>\n",
              "      <td>1.0000</td>\n",
              "      <td>17</td>\n",
              "      <td>0.414630</td>\n",
              "      <td>0.197120</td>\n",
              "      <td>0</td>\n",
              "      <td>True</td>\n",
              "    </tr>\n",
              "    <tr>\n",
              "      <th>26</th>\n",
              "      <td>48</td>\n",
              "      <td>9</td>\n",
              "      <td>8</td>\n",
              "      <td>4</td>\n",
              "      <td>31</td>\n",
              "      <td>28</td>\n",
              "      <td>14</td>\n",
              "      <td>56</td>\n",
              "      <td>88</td>\n",
              "      <td>42</td>\n",
              "      <td>...</td>\n",
              "      <td>16</td>\n",
              "      <td>5</td>\n",
              "      <td>12</td>\n",
              "      <td>0.387100</td>\n",
              "      <td>1.0000</td>\n",
              "      <td>6</td>\n",
              "      <td>0.500000</td>\n",
              "      <td>0.250000</td>\n",
              "      <td>0</td>\n",
              "      <td>False</td>\n",
              "    </tr>\n",
              "    <tr>\n",
              "      <th>27</th>\n",
              "      <td>135</td>\n",
              "      <td>44</td>\n",
              "      <td>20</td>\n",
              "      <td>2</td>\n",
              "      <td>71</td>\n",
              "      <td>87</td>\n",
              "      <td>23</td>\n",
              "      <td>203</td>\n",
              "      <td>258</td>\n",
              "      <td>110</td>\n",
              "      <td>...</td>\n",
              "      <td>35</td>\n",
              "      <td>10</td>\n",
              "      <td>26</td>\n",
              "      <td>0.366200</td>\n",
              "      <td>1.0000</td>\n",
              "      <td>4</td>\n",
              "      <td>0.153850</td>\n",
              "      <td>0.192590</td>\n",
              "      <td>0</td>\n",
              "      <td>True</td>\n",
              "    </tr>\n",
              "    <tr>\n",
              "      <th>28</th>\n",
              "      <td>125</td>\n",
              "      <td>25</td>\n",
              "      <td>12</td>\n",
              "      <td>4</td>\n",
              "      <td>88</td>\n",
              "      <td>62</td>\n",
              "      <td>27</td>\n",
              "      <td>153</td>\n",
              "      <td>229</td>\n",
              "      <td>89</td>\n",
              "      <td>...</td>\n",
              "      <td>33</td>\n",
              "      <td>6</td>\n",
              "      <td>29</td>\n",
              "      <td>0.329550</td>\n",
              "      <td>1.0606</td>\n",
              "      <td>9</td>\n",
              "      <td>0.310340</td>\n",
              "      <td>0.232000</td>\n",
              "      <td>0</td>\n",
              "      <td>True</td>\n",
              "    </tr>\n",
              "    <tr>\n",
              "      <th>29</th>\n",
              "      <td>14</td>\n",
              "      <td>2</td>\n",
              "      <td>0</td>\n",
              "      <td>0</td>\n",
              "      <td>12</td>\n",
              "      <td>13</td>\n",
              "      <td>11</td>\n",
              "      <td>18</td>\n",
              "      <td>29</td>\n",
              "      <td>24</td>\n",
              "      <td>...</td>\n",
              "      <td>4</td>\n",
              "      <td>0</td>\n",
              "      <td>5</td>\n",
              "      <td>0.416670</td>\n",
              "      <td>1.0000</td>\n",
              "      <td>1</td>\n",
              "      <td>0.200000</td>\n",
              "      <td>0.357140</td>\n",
              "      <td>0</td>\n",
              "      <td>False</td>\n",
              "    </tr>\n",
              "    <tr>\n",
              "      <th>30</th>\n",
              "      <td>147</td>\n",
              "      <td>32</td>\n",
              "      <td>10</td>\n",
              "      <td>4</td>\n",
              "      <td>105</td>\n",
              "      <td>46</td>\n",
              "      <td>17</td>\n",
              "      <td>165</td>\n",
              "      <td>247</td>\n",
              "      <td>63</td>\n",
              "      <td>...</td>\n",
              "      <td>46</td>\n",
              "      <td>8</td>\n",
              "      <td>38</td>\n",
              "      <td>0.361900</td>\n",
              "      <td>1.0000</td>\n",
              "      <td>0</td>\n",
              "      <td>0.000000</td>\n",
              "      <td>0.258500</td>\n",
              "      <td>0</td>\n",
              "      <td>False</td>\n",
              "    </tr>\n",
              "    <tr>\n",
              "      <th>31</th>\n",
              "      <td>214</td>\n",
              "      <td>55</td>\n",
              "      <td>38</td>\n",
              "      <td>8</td>\n",
              "      <td>121</td>\n",
              "      <td>71</td>\n",
              "      <td>23</td>\n",
              "      <td>221</td>\n",
              "      <td>309</td>\n",
              "      <td>94</td>\n",
              "      <td>...</td>\n",
              "      <td>54</td>\n",
              "      <td>17</td>\n",
              "      <td>37</td>\n",
              "      <td>0.305790</td>\n",
              "      <td>1.0000</td>\n",
              "      <td>4</td>\n",
              "      <td>0.108110</td>\n",
              "      <td>0.172900</td>\n",
              "      <td>0</td>\n",
              "      <td>True</td>\n",
              "    </tr>\n",
              "    <tr>\n",
              "      <th>32</th>\n",
              "      <td>112</td>\n",
              "      <td>23</td>\n",
              "      <td>7</td>\n",
              "      <td>3</td>\n",
              "      <td>82</td>\n",
              "      <td>35</td>\n",
              "      <td>23</td>\n",
              "      <td>226</td>\n",
              "      <td>305</td>\n",
              "      <td>58</td>\n",
              "      <td>...</td>\n",
              "      <td>43</td>\n",
              "      <td>15</td>\n",
              "      <td>30</td>\n",
              "      <td>0.365850</td>\n",
              "      <td>1.0465</td>\n",
              "      <td>1</td>\n",
              "      <td>0.033333</td>\n",
              "      <td>0.267860</td>\n",
              "      <td>0</td>\n",
              "      <td>False</td>\n",
              "    </tr>\n",
              "    <tr>\n",
              "      <th>33</th>\n",
              "      <td>110</td>\n",
              "      <td>29</td>\n",
              "      <td>11</td>\n",
              "      <td>3</td>\n",
              "      <td>70</td>\n",
              "      <td>48</td>\n",
              "      <td>23</td>\n",
              "      <td>135</td>\n",
              "      <td>182</td>\n",
              "      <td>71</td>\n",
              "      <td>...</td>\n",
              "      <td>26</td>\n",
              "      <td>7</td>\n",
              "      <td>21</td>\n",
              "      <td>0.300000</td>\n",
              "      <td>1.0385</td>\n",
              "      <td>1</td>\n",
              "      <td>0.047619</td>\n",
              "      <td>0.190910</td>\n",
              "      <td>0</td>\n",
              "      <td>True</td>\n",
              "    </tr>\n",
              "    <tr>\n",
              "      <th>34</th>\n",
              "      <td>49</td>\n",
              "      <td>14</td>\n",
              "      <td>7</td>\n",
              "      <td>3</td>\n",
              "      <td>28</td>\n",
              "      <td>23</td>\n",
              "      <td>16</td>\n",
              "      <td>53</td>\n",
              "      <td>74</td>\n",
              "      <td>39</td>\n",
              "      <td>...</td>\n",
              "      <td>11</td>\n",
              "      <td>3</td>\n",
              "      <td>9</td>\n",
              "      <td>0.321430</td>\n",
              "      <td>1.0000</td>\n",
              "      <td>0</td>\n",
              "      <td>0.000000</td>\n",
              "      <td>0.183670</td>\n",
              "      <td>0</td>\n",
              "      <td>True</td>\n",
              "    </tr>\n",
              "  </tbody>\n",
              "</table>\n",
              "<p>35 rows × 30 columns</p>\n",
              "</div>\n",
              "      <button class=\"colab-df-convert\" onclick=\"convertToInteractive('df-9a48aea7-61fa-4c38-b184-7100039de48e')\"\n",
              "              title=\"Convert this dataframe to an interactive table.\"\n",
              "              style=\"display:none;\">\n",
              "        \n",
              "  <svg xmlns=\"http://www.w3.org/2000/svg\" height=\"24px\"viewBox=\"0 0 24 24\"\n",
              "       width=\"24px\">\n",
              "    <path d=\"M0 0h24v24H0V0z\" fill=\"none\"/>\n",
              "    <path d=\"M18.56 5.44l.94 2.06.94-2.06 2.06-.94-2.06-.94-.94-2.06-.94 2.06-2.06.94zm-11 1L8.5 8.5l.94-2.06 2.06-.94-2.06-.94L8.5 2.5l-.94 2.06-2.06.94zm10 10l.94 2.06.94-2.06 2.06-.94-2.06-.94-.94-2.06-.94 2.06-2.06.94z\"/><path d=\"M17.41 7.96l-1.37-1.37c-.4-.4-.92-.59-1.43-.59-.52 0-1.04.2-1.43.59L10.3 9.45l-7.72 7.72c-.78.78-.78 2.05 0 2.83L4 21.41c.39.39.9.59 1.41.59.51 0 1.02-.2 1.41-.59l7.78-7.78 2.81-2.81c.8-.78.8-2.07 0-2.86zM5.41 20L4 18.59l7.72-7.72 1.47 1.35L5.41 20z\"/>\n",
              "  </svg>\n",
              "      </button>\n",
              "      \n",
              "  <style>\n",
              "    .colab-df-container {\n",
              "      display:flex;\n",
              "      flex-wrap:wrap;\n",
              "      gap: 12px;\n",
              "    }\n",
              "\n",
              "    .colab-df-convert {\n",
              "      background-color: #E8F0FE;\n",
              "      border: none;\n",
              "      border-radius: 50%;\n",
              "      cursor: pointer;\n",
              "      display: none;\n",
              "      fill: #1967D2;\n",
              "      height: 32px;\n",
              "      padding: 0 0 0 0;\n",
              "      width: 32px;\n",
              "    }\n",
              "\n",
              "    .colab-df-convert:hover {\n",
              "      background-color: #E2EBFA;\n",
              "      box-shadow: 0px 1px 2px rgba(60, 64, 67, 0.3), 0px 1px 3px 1px rgba(60, 64, 67, 0.15);\n",
              "      fill: #174EA6;\n",
              "    }\n",
              "\n",
              "    [theme=dark] .colab-df-convert {\n",
              "      background-color: #3B4455;\n",
              "      fill: #D2E3FC;\n",
              "    }\n",
              "\n",
              "    [theme=dark] .colab-df-convert:hover {\n",
              "      background-color: #434B5C;\n",
              "      box-shadow: 0px 1px 3px 1px rgba(0, 0, 0, 0.15);\n",
              "      filter: drop-shadow(0px 1px 2px rgba(0, 0, 0, 0.3));\n",
              "      fill: #FFFFFF;\n",
              "    }\n",
              "  </style>\n",
              "\n",
              "      <script>\n",
              "        const buttonEl =\n",
              "          document.querySelector('#df-9a48aea7-61fa-4c38-b184-7100039de48e button.colab-df-convert');\n",
              "        buttonEl.style.display =\n",
              "          google.colab.kernel.accessAllowed ? 'block' : 'none';\n",
              "\n",
              "        async function convertToInteractive(key) {\n",
              "          const element = document.querySelector('#df-9a48aea7-61fa-4c38-b184-7100039de48e');\n",
              "          const dataTable =\n",
              "            await google.colab.kernel.invokeFunction('convertToInteractive',\n",
              "                                                     [key], {});\n",
              "          if (!dataTable) return;\n",
              "\n",
              "          const docLinkHtml = 'Like what you see? Visit the ' +\n",
              "            '<a target=\"_blank\" href=https://colab.research.google.com/notebooks/data_table.ipynb>data table notebook</a>'\n",
              "            + ' to learn more about interactive tables.';\n",
              "          element.innerHTML = '';\n",
              "          dataTable['output_type'] = 'display_data';\n",
              "          await google.colab.output.renderOutput(dataTable, element);\n",
              "          const docLink = document.createElement('div');\n",
              "          docLink.innerHTML = docLinkHtml;\n",
              "          element.appendChild(docLink);\n",
              "        }\n",
              "      </script>\n",
              "    </div>\n",
              "  </div>\n",
              "  "
            ]
          },
          "metadata": {},
          "execution_count": 394
        }
      ]
    },
    {
      "cell_type": "markdown",
      "metadata": {
        "id": "jehXeN-dri8y"
      },
      "source": [
        "####**Spiliting Dataset**\n",
        "training: 80% testing:20%"
      ]
    },
    {
      "cell_type": "code",
      "execution_count": null,
      "metadata": {
        "id": "4jY4sO75rq_q"
      },
      "outputs": [],
      "source": [
        "x = ar5_df.iloc[:,:-1]\n",
        "y = ar5_df.iloc[:,-1]\n",
        "\n",
        "from sklearn.model_selection import train_test_split\n",
        "x_train, x_test, y_train, y_test = train_test_split(x,y,test_size=0.20,random_state=0)"
      ]
    },
    {
      "cell_type": "markdown",
      "source": [
        "###Performing SMOTE in order to balance class imbalance problem."
      ],
      "metadata": {
        "id": "UgDec0gge68v"
      }
    },
    {
      "cell_type": "code",
      "source": [
        "from imblearn.over_sampling import SMOTE\n",
        "x_train, y_train = SMOTE().fit_resample(x_train, y_train)"
      ],
      "metadata": {
        "id": "Qv7MRO5Xe68w"
      },
      "execution_count": null,
      "outputs": []
    },
    {
      "cell_type": "code",
      "execution_count": null,
      "metadata": {
        "id": "K2cFmE-oe68x"
      },
      "outputs": [],
      "source": [
        "from sklearn.preprocessing import StandardScaler    \n",
        "st_x= StandardScaler()    \n",
        "x_train= st_x.fit_transform(x_train)    \n",
        "x_test= st_x.transform(x_test)  "
      ]
    },
    {
      "cell_type": "markdown",
      "source": [
        "**Class become balanced as we can see in below class. Here we use OverSampling.**\n",
        "<br>\n",
        "Oversampling is solution to imbalanced data. Oversampling is the opposite of undersampling. Oversampling means making duplicates of the data that is the least present in our data set. We then add those duplicates to your data set."
      ],
      "metadata": {
        "id": "zjrRUAjae68x"
      }
    },
    {
      "cell_type": "code",
      "source": [
        "import seaborn as sns\n",
        "\n",
        "plt.rcParams['figure.figsize']=(12,6)\n",
        "plt.rcParams['font.size']=14\n",
        "plt.title('kc2 Dataset')\n",
        "sns.set_style(\"darkgrid\")\n",
        "\n",
        "sns.countplot(y_train);"
      ],
      "metadata": {
        "colab": {
          "base_uri": "https://localhost:8080/",
          "height": 471
        },
        "outputId": "e04b2b98-b83a-4b34-9788-86c2c2c5d79c",
        "id": "WDfBai_2e68y"
      },
      "execution_count": null,
      "outputs": [
        {
          "output_type": "stream",
          "name": "stderr",
          "text": [
            "/usr/local/lib/python3.8/dist-packages/seaborn/_decorators.py:36: FutureWarning: Pass the following variable as a keyword arg: x. From version 0.12, the only valid positional argument will be `data`, and passing other arguments without an explicit keyword will result in an error or misinterpretation.\n",
            "  warnings.warn(\n"
          ]
        },
        {
          "output_type": "display_data",
          "data": {
            "text/plain": [
              "<Figure size 864x432 with 1 Axes>"
            ],
            "image/png": "[encoded data removed]"
          },
          "metadata": {}
        }
      ]
    },
    {
      "cell_type": "markdown",
      "metadata": {
        "id": "q4eJuw5urZeq"
      },
      "source": [
        "###**Logistic Regression**"
      ]
    },
    {
      "cell_type": "code",
      "execution_count": null,
      "metadata": {
        "colab": {
          "base_uri": "https://localhost:8080/"
        },
        "id": "4CqlKKS1w2ny",
        "outputId": "8c1b47f7-4893-492b-c745-e00638dd2f08"
      },
      "outputs": [
        {
          "output_type": "stream",
          "name": "stdout",
          "text": [
            "Test Accuracy Score:  1.0\n",
            "Confusion Matrix: \n",
            " [[5 0]\n",
            " [0 2]]\n"
          ]
        }
      ],
      "source": [
        "from sklearn.linear_model import LogisticRegression  \n",
        "classifier= LogisticRegression(random_state=0)  \n",
        "classifier.fit(x_train, y_train) \n",
        "\n",
        "y_pred= classifier.predict(x_test)\n",
        "\n",
        "score_ = accuracy_score(y_test, y_pred)\n",
        "print(\"Test Accuracy Score: \", score_)\n",
        "\n",
        "from sklearn.metrics import confusion_matrix  \n",
        "cm= confusion_matrix(y_test,y_pred)\n",
        "print(\"Confusion Matrix: \\n\",cm)"
      ]
    },
    {
      "cell_type": "code",
      "source": [
        "from sklearn.metrics import confusion_matrix\n",
        "tn, fp, fn, tp = confusion_matrix(y_test,y_pred).ravel()\n",
        "print('True negatives: ', tn, '\\nFalse positives: ', fp, '\\nFalse negatives: ', fn, '\\nTrue Positives: ', tp)\n"
      ],
      "metadata": {
        "colab": {
          "base_uri": "https://localhost:8080/"
        },
        "outputId": "8fc23ae3-80d0-4cf6-f424-e53d48aa8753",
        "id": "yw15zSXrh68m"
      },
      "execution_count": null,
      "outputs": [
        {
          "output_type": "stream",
          "name": "stdout",
          "text": [
            "True negatives:  5 \n",
            "False positives:  0 \n",
            "False negatives:  0 \n",
            "True Positives:  2\n"
          ]
        }
      ]
    },
    {
      "cell_type": "code",
      "source": [
        "from sklearn.metrics import classification_report\n",
        "print(classification_report(y_test, y_pred))"
      ],
      "metadata": {
        "colab": {
          "base_uri": "https://localhost:8080/"
        },
        "outputId": "a44d9d0a-d5c0-4506-a1b1-33f870450557",
        "id": "hImPq5iPjCgu"
      },
      "execution_count": null,
      "outputs": [
        {
          "output_type": "stream",
          "name": "stdout",
          "text": [
            "              precision    recall  f1-score   support\n",
            "\n",
            "       False       1.00      1.00      1.00         5\n",
            "        True       1.00      1.00      1.00         2\n",
            "\n",
            "    accuracy                           1.00         7\n",
            "   macro avg       1.00      1.00      1.00         7\n",
            "weighted avg       1.00      1.00      1.00         7\n",
            "\n"
          ]
        }
      ]
    },
    {
      "cell_type": "markdown",
      "metadata": {
        "id": "o-ENy6Fdw2nz"
      },
      "source": [
        "###**Support Vector Machine Algorithm**"
      ]
    },
    {
      "cell_type": "code",
      "execution_count": null,
      "metadata": {
        "colab": {
          "base_uri": "https://localhost:8080/"
        },
        "id": "0fZWFoqew2nz",
        "outputId": "411aa529-97af-45c3-fa51-82757c5ad3a3"
      },
      "outputs": [
        {
          "output_type": "execute_result",
          "data": {
            "text/plain": [
              "SVC(kernel='linear', random_state=0)"
            ]
          },
          "metadata": {},
          "execution_count": 402
        }
      ],
      "source": [
        "from sklearn.svm import SVC # \"Support vector classifier\"  \n",
        "classifier = SVC(kernel='linear', random_state=0)  \n",
        "classifier.fit(x_train, y_train)  "
      ]
    },
    {
      "cell_type": "code",
      "execution_count": null,
      "metadata": {
        "id": "3oxG-HjMw2nz"
      },
      "outputs": [],
      "source": [
        "#Predicting the test set result  \n",
        "y_pred= classifier.predict(x_test)  "
      ]
    },
    {
      "cell_type": "code",
      "execution_count": null,
      "metadata": {
        "colab": {
          "base_uri": "https://localhost:8080/"
        },
        "id": "X6fpjFatw2nz",
        "outputId": "3c42e065-05c7-4091-a82c-b8927ab3e76f"
      },
      "outputs": [
        {
          "output_type": "stream",
          "name": "stdout",
          "text": [
            "[[5 0]\n",
            " [1 1]]\n"
          ]
        }
      ],
      "source": [
        "from sklearn.metrics import confusion_matrix  \n",
        "cm= confusion_matrix(y_test, y_pred)  \n",
        "print(cm)"
      ]
    },
    {
      "cell_type": "code",
      "source": [
        "from sklearn.metrics import confusion_matrix\n",
        "tn, fp, fn, tp = confusion_matrix(y_test,y_pred).ravel()\n",
        "print('True negatives: ', tn, '\\nFalse positives: ', fp, '\\nFalse negatives: ', fn, '\\nTrue Positives: ', tp)\n"
      ],
      "metadata": {
        "colab": {
          "base_uri": "https://localhost:8080/"
        },
        "outputId": "116ff206-ee15-4d99-a369-fe64ee104ac9",
        "id": "FNuZUUUph7vI"
      },
      "execution_count": null,
      "outputs": [
        {
          "output_type": "stream",
          "name": "stdout",
          "text": [
            "True negatives:  5 \n",
            "False positives:  0 \n",
            "False negatives:  1 \n",
            "True Positives:  1\n"
          ]
        }
      ]
    },
    {
      "cell_type": "code",
      "execution_count": null,
      "metadata": {
        "colab": {
          "base_uri": "https://localhost:8080/"
        },
        "id": "FqZDIVVqw2n0",
        "outputId": "189f850e-ee01-4acc-e4b0-c295fa824010"
      },
      "outputs": [
        {
          "output_type": "stream",
          "name": "stdout",
          "text": [
            "Test Accuracy Score:  0.8571428571428571\n"
          ]
        }
      ],
      "source": [
        "score_ = accuracy_score(y_test, y_pred)\n",
        "print(\"Test Accuracy Score: \", score_)"
      ]
    },
    {
      "cell_type": "code",
      "source": [
        "from sklearn.metrics import classification_report\n",
        "print(classification_report(y_test, y_pred))"
      ],
      "metadata": {
        "colab": {
          "base_uri": "https://localhost:8080/"
        },
        "outputId": "5ca6347e-b7ef-47fd-b5bf-949b324c35d4",
        "id": "qLhampkxjDhn"
      },
      "execution_count": null,
      "outputs": [
        {
          "output_type": "stream",
          "name": "stdout",
          "text": [
            "              precision    recall  f1-score   support\n",
            "\n",
            "       False       0.83      1.00      0.91         5\n",
            "        True       1.00      0.50      0.67         2\n",
            "\n",
            "    accuracy                           0.86         7\n",
            "   macro avg       0.92      0.75      0.79         7\n",
            "weighted avg       0.88      0.86      0.84         7\n",
            "\n"
          ]
        }
      ]
    },
    {
      "cell_type": "markdown",
      "metadata": {
        "id": "fPPAFkQNw2n0"
      },
      "source": [
        "##**Decision Tree Algorithm**"
      ]
    },
    {
      "cell_type": "code",
      "execution_count": null,
      "metadata": {
        "colab": {
          "base_uri": "https://localhost:8080/"
        },
        "id": "oTJWPr91w2n0",
        "outputId": "3cb398f8-843f-4329-d057-18d33c6cf7af"
      },
      "outputs": [
        {
          "output_type": "execute_result",
          "data": {
            "text/plain": [
              "DecisionTreeClassifier(criterion='entropy', random_state=0)"
            ]
          },
          "metadata": {},
          "execution_count": 408
        }
      ],
      "source": [
        "from sklearn.tree import DecisionTreeClassifier  \n",
        "classifier= DecisionTreeClassifier(criterion='entropy', random_state=0)  \n",
        "classifier.fit(x_train, y_train)  "
      ]
    },
    {
      "cell_type": "code",
      "execution_count": null,
      "metadata": {
        "id": "ha4Q6rszw2n1"
      },
      "outputs": [],
      "source": [
        "#Predicting the test set result  \n",
        "y_pred= classifier.predict(x_test)  "
      ]
    },
    {
      "cell_type": "code",
      "execution_count": null,
      "metadata": {
        "colab": {
          "base_uri": "https://localhost:8080/"
        },
        "id": "0-TigxrLw2n1",
        "outputId": "043d7346-9e4e-4a3f-ac1f-d45e0876d853"
      },
      "outputs": [
        {
          "output_type": "stream",
          "name": "stdout",
          "text": [
            "[[5 0]\n",
            " [2 0]]\n"
          ]
        }
      ],
      "source": [
        "#Creating the Confusion matrix  \n",
        "from sklearn.metrics import confusion_matrix  \n",
        "cm= confusion_matrix(y_test, y_pred) \n",
        "print(cm)"
      ]
    },
    {
      "cell_type": "code",
      "source": [
        "from sklearn.metrics import confusion_matrix\n",
        "tn, fp, fn, tp = confusion_matrix(y_test,y_pred).ravel()\n",
        "print('True negatives: ', tn, '\\nFalse positives: ', fp, '\\nFalse negatives: ', fn, '\\nTrue Positives: ', tp)\n"
      ],
      "metadata": {
        "colab": {
          "base_uri": "https://localhost:8080/"
        },
        "outputId": "be13bba4-abf3-424a-b3a2-af8957ad0597",
        "id": "enWAbNdeh8f3"
      },
      "execution_count": null,
      "outputs": [
        {
          "output_type": "stream",
          "name": "stdout",
          "text": [
            "True negatives:  5 \n",
            "False positives:  0 \n",
            "False negatives:  2 \n",
            "True Positives:  0\n"
          ]
        }
      ]
    },
    {
      "cell_type": "code",
      "execution_count": null,
      "metadata": {
        "colab": {
          "base_uri": "https://localhost:8080/"
        },
        "id": "lNa7v5DCw2n1",
        "outputId": "a239c0d0-5864-4e32-9049-b2d1cf086935"
      },
      "outputs": [
        {
          "output_type": "stream",
          "name": "stdout",
          "text": [
            "Test Accuracy Score:  0.7142857142857143\n"
          ]
        }
      ],
      "source": [
        "score_ = accuracy_score(y_test, y_pred)\n",
        "print(\"Test Accuracy Score: \", score_)"
      ]
    },
    {
      "cell_type": "code",
      "source": [
        "from sklearn.metrics import classification_report\n",
        "print(classification_report(y_test, y_pred))"
      ],
      "metadata": {
        "colab": {
          "base_uri": "https://localhost:8080/"
        },
        "outputId": "87fe436c-9685-4a43-97be-c27bb88efd02",
        "id": "zhrEwBX_jEtp"
      },
      "execution_count": null,
      "outputs": [
        {
          "output_type": "stream",
          "name": "stdout",
          "text": [
            "              precision    recall  f1-score   support\n",
            "\n",
            "       False       0.71      1.00      0.83         5\n",
            "        True       0.00      0.00      0.00         2\n",
            "\n",
            "    accuracy                           0.71         7\n",
            "   macro avg       0.36      0.50      0.42         7\n",
            "weighted avg       0.51      0.71      0.60         7\n",
            "\n"
          ]
        },
        {
          "output_type": "stream",
          "name": "stderr",
          "text": [
            "/usr/local/lib/python3.8/dist-packages/sklearn/metrics/_classification.py:1318: UndefinedMetricWarning: Precision and F-score are ill-defined and being set to 0.0 in labels with no predicted samples. Use `zero_division` parameter to control this behavior.\n",
            "  _warn_prf(average, modifier, msg_start, len(result))\n",
            "/usr/local/lib/python3.8/dist-packages/sklearn/metrics/_classification.py:1318: UndefinedMetricWarning: Precision and F-score are ill-defined and being set to 0.0 in labels with no predicted samples. Use `zero_division` parameter to control this behavior.\n",
            "  _warn_prf(average, modifier, msg_start, len(result))\n",
            "/usr/local/lib/python3.8/dist-packages/sklearn/metrics/_classification.py:1318: UndefinedMetricWarning: Precision and F-score are ill-defined and being set to 0.0 in labels with no predicted samples. Use `zero_division` parameter to control this behavior.\n",
            "  _warn_prf(average, modifier, msg_start, len(result))\n"
          ]
        }
      ]
    },
    {
      "cell_type": "markdown",
      "metadata": {
        "id": "5nvPYpelw2n1"
      },
      "source": [
        "##**Random Forest**"
      ]
    },
    {
      "cell_type": "code",
      "execution_count": null,
      "metadata": {
        "colab": {
          "base_uri": "https://localhost:8080/"
        },
        "id": "mHQznnHyw2n2",
        "outputId": "650df836-3616-4657-c45a-8eac992e55fe"
      },
      "outputs": [
        {
          "output_type": "execute_result",
          "data": {
            "text/plain": [
              "RandomForestClassifier(criterion='entropy', n_estimators=10)"
            ]
          },
          "metadata": {},
          "execution_count": 414
        }
      ],
      "source": [
        "#Fitting Decision Tree classifier to the training set  \n",
        "from sklearn.ensemble import RandomForestClassifier  \n",
        "classifier= RandomForestClassifier(n_estimators= 10, criterion=\"entropy\")  \n",
        "classifier.fit(x_train, y_train)  "
      ]
    },
    {
      "cell_type": "code",
      "execution_count": null,
      "metadata": {
        "id": "109icezww2n2"
      },
      "outputs": [],
      "source": [
        "#Predicting the test set result  \n",
        "y_pred= classifier.predict(x_test)  "
      ]
    },
    {
      "cell_type": "code",
      "execution_count": null,
      "metadata": {
        "colab": {
          "base_uri": "https://localhost:8080/"
        },
        "id": "yBfzCaxQw2n2",
        "outputId": "7b86b14b-477f-4eca-e470-960b5534717c"
      },
      "outputs": [
        {
          "output_type": "stream",
          "name": "stdout",
          "text": [
            "[[5 0]\n",
            " [0 2]]\n"
          ]
        }
      ],
      "source": [
        "#Creating the Confusion matrix  \n",
        "from sklearn.metrics import confusion_matrix  \n",
        "cm= confusion_matrix(y_test, y_pred)  \n",
        "print(cm)"
      ]
    },
    {
      "cell_type": "code",
      "source": [
        "from sklearn.metrics import confusion_matrix\n",
        "tn, fp, fn, tp = confusion_matrix(y_test,y_pred).ravel()\n",
        "print('True negatives: ', tn, '\\nFalse positives: ', fp, '\\nFalse negatives: ', fn, '\\nTrue Positives: ', tp)\n"
      ],
      "metadata": {
        "colab": {
          "base_uri": "https://localhost:8080/"
        },
        "outputId": "1469a1e2-7dc9-49e8-81c5-f4dfccd73946",
        "id": "yoIEAyAth9m8"
      },
      "execution_count": null,
      "outputs": [
        {
          "output_type": "stream",
          "name": "stdout",
          "text": [
            "True negatives:  5 \n",
            "False positives:  0 \n",
            "False negatives:  0 \n",
            "True Positives:  2\n"
          ]
        }
      ]
    },
    {
      "cell_type": "code",
      "execution_count": null,
      "metadata": {
        "colab": {
          "base_uri": "https://localhost:8080/"
        },
        "id": "HbrCtajgw2n3",
        "outputId": "f4e50778-2e59-4bd1-edf0-eef071909a49"
      },
      "outputs": [
        {
          "output_type": "stream",
          "name": "stdout",
          "text": [
            "Test Accuracy Score:  1.0\n"
          ]
        }
      ],
      "source": [
        "score_ = accuracy_score(y_test, y_pred)\n",
        "print(\"Test Accuracy Score: \", score_)"
      ]
    },
    {
      "cell_type": "code",
      "source": [
        "from sklearn.metrics import classification_report\n",
        "print(classification_report(y_test, y_pred))"
      ],
      "metadata": {
        "colab": {
          "base_uri": "https://localhost:8080/"
        },
        "outputId": "c8a4c1e0-9cd7-4cba-c3ad-8fdc775c0519",
        "id": "k17TEXZLjF3t"
      },
      "execution_count": null,
      "outputs": [
        {
          "output_type": "stream",
          "name": "stdout",
          "text": [
            "              precision    recall  f1-score   support\n",
            "\n",
            "       False       1.00      1.00      1.00         5\n",
            "        True       1.00      1.00      1.00         2\n",
            "\n",
            "    accuracy                           1.00         7\n",
            "   macro avg       1.00      1.00      1.00         7\n",
            "weighted avg       1.00      1.00      1.00         7\n",
            "\n"
          ]
        }
      ]
    },
    {
      "cell_type": "markdown",
      "metadata": {
        "id": "cTf7lQjJw2n3"
      },
      "source": [
        "##**Bagging**"
      ]
    },
    {
      "cell_type": "code",
      "execution_count": null,
      "metadata": {
        "colab": {
          "base_uri": "https://localhost:8080/"
        },
        "id": "PbmCwoxOw2n3",
        "outputId": "8d3cf82b-e9c9-4bc6-9458-c1d16a298466"
      },
      "outputs": [
        {
          "output_type": "execute_result",
          "data": {
            "text/plain": [
              "DecisionTreeClassifier(random_state=21)"
            ]
          },
          "metadata": {},
          "execution_count": 420
        }
      ],
      "source": [
        "from sklearn.tree import DecisionTreeClassifier\n",
        "dtree = DecisionTreeClassifier(random_state=21)\n",
        "dtree.fit(x_train,y_train)"
      ]
    },
    {
      "cell_type": "code",
      "execution_count": null,
      "metadata": {
        "colab": {
          "base_uri": "https://localhost:8080/"
        },
        "outputId": "4f3b9127-0b0f-4e96-a9cb-67f981c24a14",
        "id": "88cYl4xQghqc"
      },
      "outputs": [
        {
          "output_type": "stream",
          "name": "stdout",
          "text": [
            "[[5 0]\n",
            " [0 2]]\n"
          ]
        }
      ],
      "source": [
        "from sklearn.metrics import confusion_matrix  \n",
        "cm= confusion_matrix(y_test, y_pred)  \n",
        "print(cm)"
      ]
    },
    {
      "cell_type": "code",
      "source": [
        "from sklearn.metrics import confusion_matrix\n",
        "tn, fp, fn, tp = confusion_matrix(y_test,y_pred).ravel()\n",
        "print('True negatives: ', tn, '\\nFalse positives: ', fp, '\\nFalse negatives: ', fn, '\\nTrue Positives: ', tp)\n"
      ],
      "metadata": {
        "colab": {
          "base_uri": "https://localhost:8080/"
        },
        "outputId": "c909da6d-67bb-41cc-d5a6-bf40f493e954",
        "id": "jjqqTMSxh-XG"
      },
      "execution_count": null,
      "outputs": [
        {
          "output_type": "stream",
          "name": "stdout",
          "text": [
            "True negatives:  5 \n",
            "False positives:  0 \n",
            "False negatives:  0 \n",
            "True Positives:  2\n"
          ]
        }
      ]
    },
    {
      "cell_type": "code",
      "execution_count": null,
      "metadata": {
        "colab": {
          "base_uri": "https://localhost:8080/"
        },
        "id": "XcwWct9yw2n4",
        "outputId": "e3899e62-fc8b-4ed2-b46f-dfd78e85d494"
      },
      "outputs": [
        {
          "output_type": "stream",
          "name": "stdout",
          "text": [
            "Train data accuracy: 1.0\n",
            "Test data accuracy: 0.7142857142857143\n"
          ]
        }
      ],
      "source": [
        "y_pred = dtree.predict(x_test)\n",
        "\n",
        "print(\"Train data accuracy:\",accuracy_score(y_true = y_train, y_pred = dtree.predict(x_train)))\n",
        "print(\"Test data accuracy:\",accuracy_score(y_true = y_test, y_pred = y_pred))"
      ]
    },
    {
      "cell_type": "code",
      "source": [
        "from sklearn.metrics import classification_report\n",
        "print(classification_report(y_test, y_pred))"
      ],
      "metadata": {
        "colab": {
          "base_uri": "https://localhost:8080/"
        },
        "outputId": "e457908b-9750-4fd6-808d-babc185bd466",
        "id": "oSqzRtyzjG4j"
      },
      "execution_count": null,
      "outputs": [
        {
          "output_type": "stream",
          "name": "stdout",
          "text": [
            "              precision    recall  f1-score   support\n",
            "\n",
            "       False       0.71      1.00      0.83         5\n",
            "        True       0.00      0.00      0.00         2\n",
            "\n",
            "    accuracy                           0.71         7\n",
            "   macro avg       0.36      0.50      0.42         7\n",
            "weighted avg       0.51      0.71      0.60         7\n",
            "\n"
          ]
        },
        {
          "output_type": "stream",
          "name": "stderr",
          "text": [
            "/usr/local/lib/python3.8/dist-packages/sklearn/metrics/_classification.py:1318: UndefinedMetricWarning: Precision and F-score are ill-defined and being set to 0.0 in labels with no predicted samples. Use `zero_division` parameter to control this behavior.\n",
            "  _warn_prf(average, modifier, msg_start, len(result))\n",
            "/usr/local/lib/python3.8/dist-packages/sklearn/metrics/_classification.py:1318: UndefinedMetricWarning: Precision and F-score are ill-defined and being set to 0.0 in labels with no predicted samples. Use `zero_division` parameter to control this behavior.\n",
            "  _warn_prf(average, modifier, msg_start, len(result))\n",
            "/usr/local/lib/python3.8/dist-packages/sklearn/metrics/_classification.py:1318: UndefinedMetricWarning: Precision and F-score are ill-defined and being set to 0.0 in labels with no predicted samples. Use `zero_division` parameter to control this behavior.\n",
            "  _warn_prf(average, modifier, msg_start, len(result))\n"
          ]
        }
      ]
    },
    {
      "cell_type": "markdown",
      "metadata": {
        "id": "E6403HJ_qr64"
      },
      "source": [
        "#**ar6 Dataset**"
      ]
    },
    {
      "cell_type": "code",
      "source": [
        "ar6_df"
      ],
      "metadata": {
        "colab": {
          "base_uri": "https://localhost:8080/",
          "height": 487
        },
        "id": "xuxAZ5hj1SxQ",
        "outputId": "338adbed-d0fb-4e94-c5ab-219a6462f933"
      },
      "execution_count": null,
      "outputs": [
        {
          "output_type": "execute_result",
          "data": {
            "text/plain": [
              "    total_loc  blank_loc  comment_loc  code_and_comment_loc  executable_loc  \\\n",
              "0          13          0            1                     0              12   \n",
              "1          20          0           12                     0               8   \n",
              "2          40          0           17                     0              23   \n",
              "3           8          0            3                     0               5   \n",
              "4          10          0            2                     0               8   \n",
              "..        ...        ...          ...                   ...             ...   \n",
              "95         27          0           10                     0              17   \n",
              "96          9          0            0                     0               9   \n",
              "97         10          0            7                     0               3   \n",
              "98         51          2           17                     0              32   \n",
              "99         28          2           11                     0              15   \n",
              "\n",
              "    unique_operands  unique_operators  total_operands  total_operators  \\\n",
              "0                10                 8              21               26   \n",
              "1                14                12              21               34   \n",
              "2                20                18              64               90   \n",
              "3                 7                13              13               21   \n",
              "4                 4                 5               5               10   \n",
              "..              ...               ...             ...              ...   \n",
              "95               15                 9              36               48   \n",
              "96                7                 3               8               15   \n",
              "97                7                 3               7               15   \n",
              "98               26                 9              44               69   \n",
              "99               11                 7              17               31   \n",
              "\n",
              "    halstead_vocabulary  ...  condition_count  multiple_condition_count  \\\n",
              "0                    18  ...                0                         0   \n",
              "1                    26  ...                3                         0   \n",
              "2                    38  ...               11                         2   \n",
              "3                    20  ...                1                         0   \n",
              "4                     9  ...                1                         0   \n",
              "..                  ...  ...              ...                       ...   \n",
              "95                   24  ...                4                         1   \n",
              "96                   10  ...                0                         0   \n",
              "97                   10  ...                0                         0   \n",
              "98                   35  ...                6                         0   \n",
              "99                   18  ...                2                         0   \n",
              "\n",
              "    cyclomatic_complexity  cyclomatic_density  decision_density  \\\n",
              "0                       2                0.17              0.00   \n",
              "1                       4                0.50              1.00   \n",
              "2                      11                0.48              1.09   \n",
              "3                       3                0.60              2.00   \n",
              "4                       2                0.25              1.00   \n",
              "..                    ...                 ...               ...   \n",
              "95                      4                0.24              1.00   \n",
              "96                      1                0.11              0.00   \n",
              "97                      1                0.33              0.00   \n",
              "98                      7                0.22              1.00   \n",
              "99                      3                0.20              1.00   \n",
              "\n",
              "    design_complexity  design_density  normalized_cyclomatic_complexity  \\\n",
              "0                 0.0            0.00                              0.15   \n",
              "1                 0.0            0.00                              0.20   \n",
              "2                 1.0            0.09                              0.28   \n",
              "3                 0.0            0.00                              0.38   \n",
              "4                 1.0            0.50                              0.20   \n",
              "..                ...             ...                               ...   \n",
              "95                5.0            1.25                              0.15   \n",
              "96                6.0            6.00                              0.11   \n",
              "97                6.0            6.00                              0.10   \n",
              "98                8.0            1.14                              0.14   \n",
              "99                5.0            1.67                              0.11   \n",
              "\n",
              "    formal_parameters  defects  \n",
              "0                 0.0    False  \n",
              "1                 0.0    False  \n",
              "2                 0.0    False  \n",
              "3                 1.0    False  \n",
              "4                 0.0    False  \n",
              "..                ...      ...  \n",
              "95                0.0    False  \n",
              "96                0.0    False  \n",
              "97                0.0    False  \n",
              "98                0.0    False  \n",
              "99                0.0    False  \n",
              "\n",
              "[100 rows x 30 columns]"
            ],
            "text/html": [
              "\n",
              "  <div id=\"df-c7e36bc3-7cf2-49b7-a930-e4c278cbed0b\">\n",
              "    <div class=\"colab-df-container\">\n",
              "      <div>\n",
              "<style scoped>\n",
              "    .dataframe tbody tr th:only-of-type {\n",
              "        vertical-align: middle;\n",
              "    }\n",
              "\n",
              "    .dataframe tbody tr th {\n",
              "        vertical-align: top;\n",
              "    }\n",
              "\n",
              "    .dataframe thead th {\n",
              "        text-align: right;\n",
              "    }\n",
              "</style>\n",
              "<table border=\"1\" class=\"dataframe\">\n",
              "  <thead>\n",
              "    <tr style=\"text-align: right;\">\n",
              "      <th></th>\n",
              "      <th>total_loc</th>\n",
              "      <th>blank_loc</th>\n",
              "      <th>comment_loc</th>\n",
              "      <th>code_and_comment_loc</th>\n",
              "      <th>executable_loc</th>\n",
              "      <th>unique_operands</th>\n",
              "      <th>unique_operators</th>\n",
              "      <th>total_operands</th>\n",
              "      <th>total_operators</th>\n",
              "      <th>halstead_vocabulary</th>\n",
              "      <th>...</th>\n",
              "      <th>condition_count</th>\n",
              "      <th>multiple_condition_count</th>\n",
              "      <th>cyclomatic_complexity</th>\n",
              "      <th>cyclomatic_density</th>\n",
              "      <th>decision_density</th>\n",
              "      <th>design_complexity</th>\n",
              "      <th>design_density</th>\n",
              "      <th>normalized_cyclomatic_complexity</th>\n",
              "      <th>formal_parameters</th>\n",
              "      <th>defects</th>\n",
              "    </tr>\n",
              "  </thead>\n",
              "  <tbody>\n",
              "    <tr>\n",
              "      <th>0</th>\n",
              "      <td>13</td>\n",
              "      <td>0</td>\n",
              "      <td>1</td>\n",
              "      <td>0</td>\n",
              "      <td>12</td>\n",
              "      <td>10</td>\n",
              "      <td>8</td>\n",
              "      <td>21</td>\n",
              "      <td>26</td>\n",
              "      <td>18</td>\n",
              "      <td>...</td>\n",
              "      <td>0</td>\n",
              "      <td>0</td>\n",
              "      <td>2</td>\n",
              "      <td>0.17</td>\n",
              "      <td>0.00</td>\n",
              "      <td>0.0</td>\n",
              "      <td>0.00</td>\n",
              "      <td>0.15</td>\n",
              "      <td>0.0</td>\n",
              "      <td>False</td>\n",
              "    </tr>\n",
              "    <tr>\n",
              "      <th>1</th>\n",
              "      <td>20</td>\n",
              "      <td>0</td>\n",
              "      <td>12</td>\n",
              "      <td>0</td>\n",
              "      <td>8</td>\n",
              "      <td>14</td>\n",
              "      <td>12</td>\n",
              "      <td>21</td>\n",
              "      <td>34</td>\n",
              "      <td>26</td>\n",
              "      <td>...</td>\n",
              "      <td>3</td>\n",
              "      <td>0</td>\n",
              "      <td>4</td>\n",
              "      <td>0.50</td>\n",
              "      <td>1.00</td>\n",
              "      <td>0.0</td>\n",
              "      <td>0.00</td>\n",
              "      <td>0.20</td>\n",
              "      <td>0.0</td>\n",
              "      <td>False</td>\n",
              "    </tr>\n",
              "    <tr>\n",
              "      <th>2</th>\n",
              "      <td>40</td>\n",
              "      <td>0</td>\n",
              "      <td>17</td>\n",
              "      <td>0</td>\n",
              "      <td>23</td>\n",
              "      <td>20</td>\n",
              "      <td>18</td>\n",
              "      <td>64</td>\n",
              "      <td>90</td>\n",
              "      <td>38</td>\n",
              "      <td>...</td>\n",
              "      <td>11</td>\n",
              "      <td>2</td>\n",
              "      <td>11</td>\n",
              "      <td>0.48</td>\n",
              "      <td>1.09</td>\n",
              "      <td>1.0</td>\n",
              "      <td>0.09</td>\n",
              "      <td>0.28</td>\n",
              "      <td>0.0</td>\n",
              "      <td>False</td>\n",
              "    </tr>\n",
              "    <tr>\n",
              "      <th>3</th>\n",
              "      <td>8</td>\n",
              "      <td>0</td>\n",
              "      <td>3</td>\n",
              "      <td>0</td>\n",
              "      <td>5</td>\n",
              "      <td>7</td>\n",
              "      <td>13</td>\n",
              "      <td>13</td>\n",
              "      <td>21</td>\n",
              "      <td>20</td>\n",
              "      <td>...</td>\n",
              "      <td>1</td>\n",
              "      <td>0</td>\n",
              "      <td>3</td>\n",
              "      <td>0.60</td>\n",
              "      <td>2.00</td>\n",
              "      <td>0.0</td>\n",
              "      <td>0.00</td>\n",
              "      <td>0.38</td>\n",
              "      <td>1.0</td>\n",
              "      <td>False</td>\n",
              "    </tr>\n",
              "    <tr>\n",
              "      <th>4</th>\n",
              "      <td>10</td>\n",
              "      <td>0</td>\n",
              "      <td>2</td>\n",
              "      <td>0</td>\n",
              "      <td>8</td>\n",
              "      <td>4</td>\n",
              "      <td>5</td>\n",
              "      <td>5</td>\n",
              "      <td>10</td>\n",
              "      <td>9</td>\n",
              "      <td>...</td>\n",
              "      <td>1</td>\n",
              "      <td>0</td>\n",
              "      <td>2</td>\n",
              "      <td>0.25</td>\n",
              "      <td>1.00</td>\n",
              "      <td>1.0</td>\n",
              "      <td>0.50</td>\n",
              "      <td>0.20</td>\n",
              "      <td>0.0</td>\n",
              "      <td>False</td>\n",
              "    </tr>\n",
              "    <tr>\n",
              "      <th>...</th>\n",
              "      <td>...</td>\n",
              "      <td>...</td>\n",
              "      <td>...</td>\n",
              "      <td>...</td>\n",
              "      <td>...</td>\n",
              "      <td>...</td>\n",
              "      <td>...</td>\n",
              "      <td>...</td>\n",
              "      <td>...</td>\n",
              "      <td>...</td>\n",
              "      <td>...</td>\n",
              "      <td>...</td>\n",
              "      <td>...</td>\n",
              "      <td>...</td>\n",
              "      <td>...</td>\n",
              "      <td>...</td>\n",
              "      <td>...</td>\n",
              "      <td>...</td>\n",
              "      <td>...</td>\n",
              "      <td>...</td>\n",
              "      <td>...</td>\n",
              "    </tr>\n",
              "    <tr>\n",
              "      <th>95</th>\n",
              "      <td>27</td>\n",
              "      <td>0</td>\n",
              "      <td>10</td>\n",
              "      <td>0</td>\n",
              "      <td>17</td>\n",
              "      <td>15</td>\n",
              "      <td>9</td>\n",
              "      <td>36</td>\n",
              "      <td>48</td>\n",
              "      <td>24</td>\n",
              "      <td>...</td>\n",
              "      <td>4</td>\n",
              "      <td>1</td>\n",
              "      <td>4</td>\n",
              "      <td>0.24</td>\n",
              "      <td>1.00</td>\n",
              "      <td>5.0</td>\n",
              "      <td>1.25</td>\n",
              "      <td>0.15</td>\n",
              "      <td>0.0</td>\n",
              "      <td>False</td>\n",
              "    </tr>\n",
              "    <tr>\n",
              "      <th>96</th>\n",
              "      <td>9</td>\n",
              "      <td>0</td>\n",
              "      <td>0</td>\n",
              "      <td>0</td>\n",
              "      <td>9</td>\n",
              "      <td>7</td>\n",
              "      <td>3</td>\n",
              "      <td>8</td>\n",
              "      <td>15</td>\n",
              "      <td>10</td>\n",
              "      <td>...</td>\n",
              "      <td>0</td>\n",
              "      <td>0</td>\n",
              "      <td>1</td>\n",
              "      <td>0.11</td>\n",
              "      <td>0.00</td>\n",
              "      <td>6.0</td>\n",
              "      <td>6.00</td>\n",
              "      <td>0.11</td>\n",
              "      <td>0.0</td>\n",
              "      <td>False</td>\n",
              "    </tr>\n",
              "    <tr>\n",
              "      <th>97</th>\n",
              "      <td>10</td>\n",
              "      <td>0</td>\n",
              "      <td>7</td>\n",
              "      <td>0</td>\n",
              "      <td>3</td>\n",
              "      <td>7</td>\n",
              "      <td>3</td>\n",
              "      <td>7</td>\n",
              "      <td>15</td>\n",
              "      <td>10</td>\n",
              "      <td>...</td>\n",
              "      <td>0</td>\n",
              "      <td>0</td>\n",
              "      <td>1</td>\n",
              "      <td>0.33</td>\n",
              "      <td>0.00</td>\n",
              "      <td>6.0</td>\n",
              "      <td>6.00</td>\n",
              "      <td>0.10</td>\n",
              "      <td>0.0</td>\n",
              "      <td>False</td>\n",
              "    </tr>\n",
              "    <tr>\n",
              "      <th>98</th>\n",
              "      <td>51</td>\n",
              "      <td>2</td>\n",
              "      <td>17</td>\n",
              "      <td>0</td>\n",
              "      <td>32</td>\n",
              "      <td>26</td>\n",
              "      <td>9</td>\n",
              "      <td>44</td>\n",
              "      <td>69</td>\n",
              "      <td>35</td>\n",
              "      <td>...</td>\n",
              "      <td>6</td>\n",
              "      <td>0</td>\n",
              "      <td>7</td>\n",
              "      <td>0.22</td>\n",
              "      <td>1.00</td>\n",
              "      <td>8.0</td>\n",
              "      <td>1.14</td>\n",
              "      <td>0.14</td>\n",
              "      <td>0.0</td>\n",
              "      <td>False</td>\n",
              "    </tr>\n",
              "    <tr>\n",
              "      <th>99</th>\n",
              "      <td>28</td>\n",
              "      <td>2</td>\n",
              "      <td>11</td>\n",
              "      <td>0</td>\n",
              "      <td>15</td>\n",
              "      <td>11</td>\n",
              "      <td>7</td>\n",
              "      <td>17</td>\n",
              "      <td>31</td>\n",
              "      <td>18</td>\n",
              "      <td>...</td>\n",
              "      <td>2</td>\n",
              "      <td>0</td>\n",
              "      <td>3</td>\n",
              "      <td>0.20</td>\n",
              "      <td>1.00</td>\n",
              "      <td>5.0</td>\n",
              "      <td>1.67</td>\n",
              "      <td>0.11</td>\n",
              "      <td>0.0</td>\n",
              "      <td>False</td>\n",
              "    </tr>\n",
              "  </tbody>\n",
              "</table>\n",
              "<p>100 rows × 30 columns</p>\n",
              "</div>\n",
              "      <button class=\"colab-df-convert\" onclick=\"convertToInteractive('df-c7e36bc3-7cf2-49b7-a930-e4c278cbed0b')\"\n",
              "              title=\"Convert this dataframe to an interactive table.\"\n",
              "              style=\"display:none;\">\n",
              "        \n",
              "  <svg xmlns=\"http://www.w3.org/2000/svg\" height=\"24px\"viewBox=\"0 0 24 24\"\n",
              "       width=\"24px\">\n",
              "    <path d=\"M0 0h24v24H0V0z\" fill=\"none\"/>\n",
              "    <path d=\"M18.56 5.44l.94 2.06.94-2.06 2.06-.94-2.06-.94-.94-2.06-.94 2.06-2.06.94zm-11 1L8.5 8.5l.94-2.06 2.06-.94-2.06-.94L8.5 2.5l-.94 2.06-2.06.94zm10 10l.94 2.06.94-2.06 2.06-.94-2.06-.94-.94-2.06-.94 2.06-2.06.94z\"/><path d=\"M17.41 7.96l-1.37-1.37c-.4-.4-.92-.59-1.43-.59-.52 0-1.04.2-1.43.59L10.3 9.45l-7.72 7.72c-.78.78-.78 2.05 0 2.83L4 21.41c.39.39.9.59 1.41.59.51 0 1.02-.2 1.41-.59l7.78-7.78 2.81-2.81c.8-.78.8-2.07 0-2.86zM5.41 20L4 18.59l7.72-7.72 1.47 1.35L5.41 20z\"/>\n",
              "  </svg>\n",
              "      </button>\n",
              "      \n",
              "  <style>\n",
              "    .colab-df-container {\n",
              "      display:flex;\n",
              "      flex-wrap:wrap;\n",
              "      gap: 12px;\n",
              "    }\n",
              "\n",
              "    .colab-df-convert {\n",
              "      background-color: #E8F0FE;\n",
              "      border: none;\n",
              "      border-radius: 50%;\n",
              "      cursor: pointer;\n",
              "      display: none;\n",
              "      fill: #1967D2;\n",
              "      height: 32px;\n",
              "      padding: 0 0 0 0;\n",
              "      width: 32px;\n",
              "    }\n",
              "\n",
              "    .colab-df-convert:hover {\n",
              "      background-color: #E2EBFA;\n",
              "      box-shadow: 0px 1px 2px rgba(60, 64, 67, 0.3), 0px 1px 3px 1px rgba(60, 64, 67, 0.15);\n",
              "      fill: #174EA6;\n",
              "    }\n",
              "\n",
              "    [theme=dark] .colab-df-convert {\n",
              "      background-color: #3B4455;\n",
              "      fill: #D2E3FC;\n",
              "    }\n",
              "\n",
              "    [theme=dark] .colab-df-convert:hover {\n",
              "      background-color: #434B5C;\n",
              "      box-shadow: 0px 1px 3px 1px rgba(0, 0, 0, 0.15);\n",
              "      filter: drop-shadow(0px 1px 2px rgba(0, 0, 0, 0.3));\n",
              "      fill: #FFFFFF;\n",
              "    }\n",
              "  </style>\n",
              "\n",
              "      <script>\n",
              "        const buttonEl =\n",
              "          document.querySelector('#df-c7e36bc3-7cf2-49b7-a930-e4c278cbed0b button.colab-df-convert');\n",
              "        buttonEl.style.display =\n",
              "          google.colab.kernel.accessAllowed ? 'block' : 'none';\n",
              "\n",
              "        async function convertToInteractive(key) {\n",
              "          const element = document.querySelector('#df-c7e36bc3-7cf2-49b7-a930-e4c278cbed0b');\n",
              "          const dataTable =\n",
              "            await google.colab.kernel.invokeFunction('convertToInteractive',\n",
              "                                                     [key], {});\n",
              "          if (!dataTable) return;\n",
              "\n",
              "          const docLinkHtml = 'Like what you see? Visit the ' +\n",
              "            '<a target=\"_blank\" href=https://colab.research.google.com/notebooks/data_table.ipynb>data table notebook</a>'\n",
              "            + ' to learn more about interactive tables.';\n",
              "          element.innerHTML = '';\n",
              "          dataTable['output_type'] = 'display_data';\n",
              "          await google.colab.output.renderOutput(dataTable, element);\n",
              "          const docLink = document.createElement('div');\n",
              "          docLink.innerHTML = docLinkHtml;\n",
              "          element.appendChild(docLink);\n",
              "        }\n",
              "      </script>\n",
              "    </div>\n",
              "  </div>\n",
              "  "
            ]
          },
          "metadata": {},
          "execution_count": 425
        }
      ]
    },
    {
      "cell_type": "markdown",
      "metadata": {
        "id": "7PDhfVhWrjYP"
      },
      "source": [
        "####**Spiliting Dataset**\n",
        "training: 80% testing:20%"
      ]
    },
    {
      "cell_type": "code",
      "execution_count": null,
      "metadata": {
        "id": "6Tlzoc_SrsKb"
      },
      "outputs": [],
      "source": [
        "x = ar6_df.iloc[:,:-1]\n",
        "y = ar6_df.iloc[:,-1]\n",
        "\n",
        "from sklearn.model_selection import train_test_split\n",
        "x_train, x_test, y_train, y_test = train_test_split(x,y,test_size=0.20,random_state=0)"
      ]
    },
    {
      "cell_type": "markdown",
      "source": [
        "###Performing SMOTE in order to balance class imbalance problem."
      ],
      "metadata": {
        "id": "U7PP2Vbxe802"
      }
    },
    {
      "cell_type": "code",
      "source": [
        "from imblearn.over_sampling import SMOTE\n",
        "x_train, y_train = SMOTE().fit_resample(x_train, y_train)"
      ],
      "metadata": {
        "id": "csGHrfdSe803"
      },
      "execution_count": null,
      "outputs": []
    },
    {
      "cell_type": "code",
      "execution_count": null,
      "metadata": {
        "id": "phL9vn-ae804"
      },
      "outputs": [],
      "source": [
        "from sklearn.preprocessing import StandardScaler    \n",
        "st_x= StandardScaler()    \n",
        "x_train= st_x.fit_transform(x_train)    \n",
        "x_test= st_x.transform(x_test)  "
      ]
    },
    {
      "cell_type": "markdown",
      "source": [
        "**Class become balanced as we can see in below class. Here we use OverSampling.**\n",
        "<br>\n",
        "Oversampling is solution to imbalanced data. Oversampling is the opposite of undersampling. Oversampling means making duplicates of the data that is the least present in our data set. We then add those duplicates to your data set."
      ],
      "metadata": {
        "id": "1FmlSSlFe805"
      }
    },
    {
      "cell_type": "code",
      "source": [
        "import seaborn as sns\n",
        "\n",
        "plt.rcParams['figure.figsize']=(12,6)\n",
        "plt.rcParams['font.size']=14\n",
        "plt.title('kc2 Dataset')\n",
        "sns.set_style(\"darkgrid\")\n",
        "\n",
        "sns.countplot(y_train);"
      ],
      "metadata": {
        "colab": {
          "base_uri": "https://localhost:8080/",
          "height": 471
        },
        "outputId": "31322c45-7f8e-4cb1-a764-83135c143a96",
        "id": "UgQfy00fe805"
      },
      "execution_count": null,
      "outputs": [
        {
          "output_type": "stream",
          "name": "stderr",
          "text": [
            "/usr/local/lib/python3.8/dist-packages/seaborn/_decorators.py:36: FutureWarning: Pass the following variable as a keyword arg: x. From version 0.12, the only valid positional argument will be `data`, and passing other arguments without an explicit keyword will result in an error or misinterpretation.\n",
            "  warnings.warn(\n"
          ]
        },
        {
          "output_type": "display_data",
          "data": {
            "text/plain": [
              "<Figure size 864x432 with 1 Axes>"
            ],
            "image/png": "[encoded data removed]"
          },
          "metadata": {}
        }
      ]
    },
    {
      "cell_type": "markdown",
      "metadata": {
        "id": "xMcKqKuMraOH"
      },
      "source": [
        "###**Logistic Regression**"
      ]
    },
    {
      "cell_type": "code",
      "execution_count": null,
      "metadata": {
        "colab": {
          "base_uri": "https://localhost:8080/"
        },
        "id": "owJKN4jjw37A",
        "outputId": "ecdcdf76-eac9-49aa-e604-910d54503d8f"
      },
      "outputs": [
        {
          "output_type": "stream",
          "name": "stdout",
          "text": [
            "Test Accuracy Score:  0.75\n",
            "Confusion Matrix: \n",
            " [[13  4]\n",
            " [ 1  2]]\n"
          ]
        }
      ],
      "source": [
        "from sklearn.linear_model import LogisticRegression  \n",
        "classifier= LogisticRegression(random_state=0)  \n",
        "classifier.fit(x_train, y_train) \n",
        "\n",
        "y_pred= classifier.predict(x_test)\n",
        "\n",
        "score_ = accuracy_score(y_test, y_pred)\n",
        "print(\"Test Accuracy Score: \", score_)\n",
        "\n",
        "from sklearn.metrics import confusion_matrix  \n",
        "cm= confusion_matrix(y_test,y_pred)\n",
        "print(\"Confusion Matrix: \\n\",cm)"
      ]
    },
    {
      "cell_type": "code",
      "source": [
        "from sklearn.metrics import confusion_matrix\n",
        "tn, fp, fn, tp = confusion_matrix(y_test,y_pred).ravel()\n",
        "print('True negatives: ', tn, '\\nFalse positives: ', fp, '\\nFalse negatives: ', fn, '\\nTrue Positives: ', tp)\n"
      ],
      "metadata": {
        "colab": {
          "base_uri": "https://localhost:8080/"
        },
        "outputId": "3176b31d-4bb2-4178-c426-0c5b45fc867b",
        "id": "8IX8-FNTh__w"
      },
      "execution_count": null,
      "outputs": [
        {
          "output_type": "stream",
          "name": "stdout",
          "text": [
            "True negatives:  13 \n",
            "False positives:  4 \n",
            "False negatives:  1 \n",
            "True Positives:  2\n"
          ]
        }
      ]
    },
    {
      "cell_type": "code",
      "source": [
        "from sklearn.metrics import classification_report\n",
        "print(classification_report(y_test, y_pred))"
      ],
      "metadata": {
        "colab": {
          "base_uri": "https://localhost:8080/"
        },
        "outputId": "47b91929-7d10-4abf-f145-d4ae543cfa89",
        "id": "lg7jEUChjJMV"
      },
      "execution_count": null,
      "outputs": [
        {
          "output_type": "stream",
          "name": "stdout",
          "text": [
            "              precision    recall  f1-score   support\n",
            "\n",
            "       False       0.93      0.76      0.84        17\n",
            "        True       0.33      0.67      0.44         3\n",
            "\n",
            "    accuracy                           0.75        20\n",
            "   macro avg       0.63      0.72      0.64        20\n",
            "weighted avg       0.84      0.75      0.78        20\n",
            "\n"
          ]
        }
      ]
    },
    {
      "cell_type": "markdown",
      "metadata": {
        "id": "oGly98fPw37C"
      },
      "source": [
        "###**Support Vector Machine Algorithm**"
      ]
    },
    {
      "cell_type": "code",
      "execution_count": null,
      "metadata": {
        "colab": {
          "base_uri": "https://localhost:8080/"
        },
        "id": "dYFjp91Aw37C",
        "outputId": "877ed77c-2834-403d-effa-8f9ce4b0feaa"
      },
      "outputs": [
        {
          "output_type": "execute_result",
          "data": {
            "text/plain": [
              "SVC(kernel='linear', random_state=0)"
            ]
          },
          "metadata": {},
          "execution_count": 433
        }
      ],
      "source": [
        "from sklearn.svm import SVC # \"Support vector classifier\"  \n",
        "classifier = SVC(kernel='linear', random_state=0)  \n",
        "classifier.fit(x_train, y_train)  "
      ]
    },
    {
      "cell_type": "code",
      "execution_count": null,
      "metadata": {
        "id": "9btHoENQw37D"
      },
      "outputs": [],
      "source": [
        "#Predicting the test set result  \n",
        "y_pred= classifier.predict(x_test)  "
      ]
    },
    {
      "cell_type": "code",
      "execution_count": null,
      "metadata": {
        "colab": {
          "base_uri": "https://localhost:8080/"
        },
        "id": "aKM00WMmw37D",
        "outputId": "d48e12c2-7a90-4676-ff10-e01e3071a782"
      },
      "outputs": [
        {
          "output_type": "stream",
          "name": "stdout",
          "text": [
            "[[14  3]\n",
            " [ 1  2]]\n"
          ]
        }
      ],
      "source": [
        "from sklearn.metrics import confusion_matrix  \n",
        "cm= confusion_matrix(y_test, y_pred)  \n",
        "print(cm)"
      ]
    },
    {
      "cell_type": "code",
      "source": [
        "from sklearn.metrics import confusion_matrix\n",
        "tn, fp, fn, tp = confusion_matrix(y_test,y_pred).ravel()\n",
        "print('True negatives: ', tn, '\\nFalse positives: ', fp, '\\nFalse negatives: ', fn, '\\nTrue Positives: ', tp)\n"
      ],
      "metadata": {
        "colab": {
          "base_uri": "https://localhost:8080/"
        },
        "outputId": "249d351c-9797-46b3-b8e5-e6f6c125acce",
        "id": "ESRS_KqsiBJz"
      },
      "execution_count": null,
      "outputs": [
        {
          "output_type": "stream",
          "name": "stdout",
          "text": [
            "True negatives:  14 \n",
            "False positives:  3 \n",
            "False negatives:  1 \n",
            "True Positives:  2\n"
          ]
        }
      ]
    },
    {
      "cell_type": "code",
      "execution_count": null,
      "metadata": {
        "colab": {
          "base_uri": "https://localhost:8080/"
        },
        "id": "pBgJKTJYw37D",
        "outputId": "99a83ee6-47aa-4dd8-bfc9-acfd0adef408"
      },
      "outputs": [
        {
          "output_type": "stream",
          "name": "stdout",
          "text": [
            "Test Accuracy Score:  0.8\n"
          ]
        }
      ],
      "source": [
        "score_ = accuracy_score(y_test, y_pred)\n",
        "print(\"Test Accuracy Score: \", score_)"
      ]
    },
    {
      "cell_type": "code",
      "source": [
        "from sklearn.metrics import classification_report\n",
        "print(classification_report(y_test, y_pred))"
      ],
      "metadata": {
        "colab": {
          "base_uri": "https://localhost:8080/"
        },
        "outputId": "d841feb6-6e35-4692-8d0f-c0df53a5c792",
        "id": "iynE0JMWjKZS"
      },
      "execution_count": null,
      "outputs": [
        {
          "output_type": "stream",
          "name": "stdout",
          "text": [
            "              precision    recall  f1-score   support\n",
            "\n",
            "       False       0.93      0.82      0.87        17\n",
            "        True       0.40      0.67      0.50         3\n",
            "\n",
            "    accuracy                           0.80        20\n",
            "   macro avg       0.67      0.75      0.69        20\n",
            "weighted avg       0.85      0.80      0.82        20\n",
            "\n"
          ]
        }
      ]
    },
    {
      "cell_type": "markdown",
      "metadata": {
        "id": "npj7hUqQw37E"
      },
      "source": [
        "##**Decision Tree Algorithm**"
      ]
    },
    {
      "cell_type": "code",
      "execution_count": null,
      "metadata": {
        "colab": {
          "base_uri": "https://localhost:8080/"
        },
        "id": "D6Z0O2P9w37E",
        "outputId": "4d66db8d-b4f4-4e03-c217-5b957b3a6033"
      },
      "outputs": [
        {
          "output_type": "execute_result",
          "data": {
            "text/plain": [
              "DecisionTreeClassifier(criterion='entropy', random_state=0)"
            ]
          },
          "metadata": {},
          "execution_count": 439
        }
      ],
      "source": [
        "from sklearn.tree import DecisionTreeClassifier  \n",
        "classifier= DecisionTreeClassifier(criterion='entropy', random_state=0)  \n",
        "classifier.fit(x_train, y_train)  "
      ]
    },
    {
      "cell_type": "code",
      "execution_count": null,
      "metadata": {
        "id": "zHWZdbaTw37E"
      },
      "outputs": [],
      "source": [
        "#Predicting the test set result  \n",
        "y_pred= classifier.predict(x_test)  "
      ]
    },
    {
      "cell_type": "code",
      "execution_count": null,
      "metadata": {
        "colab": {
          "base_uri": "https://localhost:8080/"
        },
        "id": "LRzj8dcdw37F",
        "outputId": "fb070ea9-99e2-4008-f55f-a8efa5af09f0"
      },
      "outputs": [
        {
          "output_type": "stream",
          "name": "stdout",
          "text": [
            "[[14  3]\n",
            " [ 2  1]]\n"
          ]
        }
      ],
      "source": [
        "#Creating the Confusion matrix  \n",
        "from sklearn.metrics import confusion_matrix  \n",
        "cm= confusion_matrix(y_test, y_pred) \n",
        "print(cm)"
      ]
    },
    {
      "cell_type": "code",
      "source": [
        "from sklearn.metrics import confusion_matrix\n",
        "tn, fp, fn, tp = confusion_matrix(y_test,y_pred).ravel()\n",
        "print('True negatives: ', tn, '\\nFalse positives: ', fp, '\\nFalse negatives: ', fn, '\\nTrue Positives: ', tp)\n"
      ],
      "metadata": {
        "colab": {
          "base_uri": "https://localhost:8080/"
        },
        "outputId": "3d396f9a-e3dc-4ab5-f254-6eb513b39848",
        "id": "EWm_DmpjiB7e"
      },
      "execution_count": null,
      "outputs": [
        {
          "output_type": "stream",
          "name": "stdout",
          "text": [
            "True negatives:  14 \n",
            "False positives:  3 \n",
            "False negatives:  2 \n",
            "True Positives:  1\n"
          ]
        }
      ]
    },
    {
      "cell_type": "code",
      "execution_count": null,
      "metadata": {
        "colab": {
          "base_uri": "https://localhost:8080/"
        },
        "id": "i32Idondw37F",
        "outputId": "79af47b3-e29b-4a4f-b960-a4fad368bb97"
      },
      "outputs": [
        {
          "output_type": "stream",
          "name": "stdout",
          "text": [
            "Test Accuracy Score:  0.75\n"
          ]
        }
      ],
      "source": [
        "score_ = accuracy_score(y_test, y_pred)\n",
        "print(\"Test Accuracy Score: \", score_)"
      ]
    },
    {
      "cell_type": "code",
      "source": [
        "from sklearn.metrics import classification_report\n",
        "print(classification_report(y_test, y_pred))"
      ],
      "metadata": {
        "colab": {
          "base_uri": "https://localhost:8080/"
        },
        "outputId": "14884a65-a6a7-4b9e-a8df-84951c5d1b1d",
        "id": "xiicUabfjMMO"
      },
      "execution_count": null,
      "outputs": [
        {
          "output_type": "stream",
          "name": "stdout",
          "text": [
            "              precision    recall  f1-score   support\n",
            "\n",
            "       False       0.88      0.82      0.85        17\n",
            "        True       0.25      0.33      0.29         3\n",
            "\n",
            "    accuracy                           0.75        20\n",
            "   macro avg       0.56      0.58      0.57        20\n",
            "weighted avg       0.78      0.75      0.76        20\n",
            "\n"
          ]
        }
      ]
    },
    {
      "cell_type": "markdown",
      "metadata": {
        "id": "D6E0oEqmw37F"
      },
      "source": [
        "##**Random Forest**"
      ]
    },
    {
      "cell_type": "code",
      "execution_count": null,
      "metadata": {
        "colab": {
          "base_uri": "https://localhost:8080/"
        },
        "id": "WIhigBtew37F",
        "outputId": "5ca03ba0-7a84-4568-92a5-db2365af7061"
      },
      "outputs": [
        {
          "output_type": "execute_result",
          "data": {
            "text/plain": [
              "RandomForestClassifier(criterion='entropy', n_estimators=10)"
            ]
          },
          "metadata": {},
          "execution_count": 445
        }
      ],
      "source": [
        "#Fitting Decision Tree classifier to the training set  \n",
        "from sklearn.ensemble import RandomForestClassifier  \n",
        "classifier= RandomForestClassifier(n_estimators= 10, criterion=\"entropy\")  \n",
        "classifier.fit(x_train, y_train)  "
      ]
    },
    {
      "cell_type": "code",
      "execution_count": null,
      "metadata": {
        "id": "VU5Uws9ew37G"
      },
      "outputs": [],
      "source": [
        "#Predicting the test set result  \n",
        "y_pred= classifier.predict(x_test)  "
      ]
    },
    {
      "cell_type": "code",
      "execution_count": null,
      "metadata": {
        "colab": {
          "base_uri": "https://localhost:8080/"
        },
        "id": "XKZeJBnzw37G",
        "outputId": "b57f42dd-b53b-41cd-9ff2-f8f7b7e59eda"
      },
      "outputs": [
        {
          "output_type": "stream",
          "name": "stdout",
          "text": [
            "[[15  2]\n",
            " [ 1  2]]\n"
          ]
        }
      ],
      "source": [
        "#Creating the Confusion matrix  \n",
        "from sklearn.metrics import confusion_matrix  \n",
        "cm= confusion_matrix(y_test, y_pred)  \n",
        "print(cm)"
      ]
    },
    {
      "cell_type": "code",
      "source": [
        "from sklearn.metrics import confusion_matrix\n",
        "tn, fp, fn, tp = confusion_matrix(y_test,y_pred).ravel()\n",
        "print('True negatives: ', tn, '\\nFalse positives: ', fp, '\\nFalse negatives: ', fn, '\\nTrue Positives: ', tp)\n"
      ],
      "metadata": {
        "colab": {
          "base_uri": "https://localhost:8080/"
        },
        "outputId": "bda50df7-1fe7-4f17-f73c-d3ee8fa4513d",
        "id": "6NH0t2zUiCzY"
      },
      "execution_count": null,
      "outputs": [
        {
          "output_type": "stream",
          "name": "stdout",
          "text": [
            "True negatives:  15 \n",
            "False positives:  2 \n",
            "False negatives:  1 \n",
            "True Positives:  2\n"
          ]
        }
      ]
    },
    {
      "cell_type": "code",
      "execution_count": null,
      "metadata": {
        "colab": {
          "base_uri": "https://localhost:8080/"
        },
        "id": "tBYJqoCOw37G",
        "outputId": "0f15c86d-200e-4eeb-b964-2d2fae17a801"
      },
      "outputs": [
        {
          "output_type": "stream",
          "name": "stdout",
          "text": [
            "Test Accuracy Score:  0.85\n"
          ]
        }
      ],
      "source": [
        "score_ = accuracy_score(y_test, y_pred)\n",
        "print(\"Test Accuracy Score: \", score_)"
      ]
    },
    {
      "cell_type": "code",
      "source": [
        "from sklearn.metrics import classification_report\n",
        "print(classification_report(y_test, y_pred))"
      ],
      "metadata": {
        "colab": {
          "base_uri": "https://localhost:8080/"
        },
        "outputId": "380007d8-660f-4804-c84d-067ea6152fc0",
        "id": "Lu52eWz0jNm4"
      },
      "execution_count": null,
      "outputs": [
        {
          "output_type": "stream",
          "name": "stdout",
          "text": [
            "              precision    recall  f1-score   support\n",
            "\n",
            "       False       0.94      0.88      0.91        17\n",
            "        True       0.50      0.67      0.57         3\n",
            "\n",
            "    accuracy                           0.85        20\n",
            "   macro avg       0.72      0.77      0.74        20\n",
            "weighted avg       0.87      0.85      0.86        20\n",
            "\n"
          ]
        }
      ]
    },
    {
      "cell_type": "markdown",
      "metadata": {
        "id": "yPGQdVjNw37G"
      },
      "source": [
        "##**Bagging**"
      ]
    },
    {
      "cell_type": "code",
      "execution_count": null,
      "metadata": {
        "colab": {
          "base_uri": "https://localhost:8080/"
        },
        "id": "ZNIjrM_0w37H",
        "outputId": "118947bb-3e76-455e-8445-27067dded6a4"
      },
      "outputs": [
        {
          "output_type": "execute_result",
          "data": {
            "text/plain": [
              "DecisionTreeClassifier(random_state=21)"
            ]
          },
          "metadata": {},
          "execution_count": 451
        }
      ],
      "source": [
        "from sklearn.tree import DecisionTreeClassifier\n",
        "dtree = DecisionTreeClassifier(random_state=21)\n",
        "dtree.fit(x_train,y_train)"
      ]
    },
    {
      "cell_type": "code",
      "execution_count": null,
      "metadata": {
        "colab": {
          "base_uri": "https://localhost:8080/"
        },
        "outputId": "2c50d901-bb83-4bcf-c488-d3d84286c522",
        "id": "_rABLTxLgjhE"
      },
      "outputs": [
        {
          "output_type": "stream",
          "name": "stdout",
          "text": [
            "[[15  2]\n",
            " [ 1  2]]\n"
          ]
        }
      ],
      "source": [
        "from sklearn.metrics import confusion_matrix  \n",
        "cm= confusion_matrix(y_test, y_pred)  \n",
        "print(cm)"
      ]
    },
    {
      "cell_type": "code",
      "source": [
        "from sklearn.metrics import confusion_matrix\n",
        "tn, fp, fn, tp = confusion_matrix(y_test,y_pred).ravel()\n",
        "print('True negatives: ', tn, '\\nFalse positives: ', fp, '\\nFalse negatives: ', fn, '\\nTrue Positives: ', tp)\n"
      ],
      "metadata": {
        "colab": {
          "base_uri": "https://localhost:8080/"
        },
        "outputId": "3035597b-c2b9-4f9f-ee5e-506f1d08eeb3",
        "id": "7kR0SJrziDsc"
      },
      "execution_count": null,
      "outputs": [
        {
          "output_type": "stream",
          "name": "stdout",
          "text": [
            "True negatives:  15 \n",
            "False positives:  2 \n",
            "False negatives:  1 \n",
            "True Positives:  2\n"
          ]
        }
      ]
    },
    {
      "cell_type": "code",
      "execution_count": null,
      "metadata": {
        "colab": {
          "base_uri": "https://localhost:8080/"
        },
        "id": "oyfyZV42w37H",
        "outputId": "73ba4730-98c3-4300-cc45-ece51c7aea36"
      },
      "outputs": [
        {
          "output_type": "stream",
          "name": "stdout",
          "text": [
            "Train data accuracy: 1.0\n",
            "Test data accuracy: 0.65\n"
          ]
        }
      ],
      "source": [
        "y_pred = dtree.predict(x_test)\n",
        "\n",
        "print(\"Train data accuracy:\",accuracy_score(y_true = y_train, y_pred = dtree.predict(x_train)))\n",
        "print(\"Test data accuracy:\",accuracy_score(y_true = y_test, y_pred = y_pred))"
      ]
    },
    {
      "cell_type": "code",
      "source": [
        "from sklearn.metrics import classification_report\n",
        "print(classification_report(y_test, y_pred))"
      ],
      "metadata": {
        "colab": {
          "base_uri": "https://localhost:8080/"
        },
        "outputId": "a4c18de4-e35b-46b6-e3eb-58e04c4a81ff",
        "id": "hUWqAdbIjPKY"
      },
      "execution_count": null,
      "outputs": [
        {
          "output_type": "stream",
          "name": "stdout",
          "text": [
            "              precision    recall  f1-score   support\n",
            "\n",
            "       False       0.86      0.71      0.77        17\n",
            "        True       0.17      0.33      0.22         3\n",
            "\n",
            "    accuracy                           0.65        20\n",
            "   macro avg       0.51      0.52      0.50        20\n",
            "weighted avg       0.75      0.65      0.69        20\n",
            "\n"
          ]
        }
      ]
    }
  ],
  "metadata": {
    "colab": {
      "provenance": [],
      "include_colab_link": true
    },
    "kernelspec": {
      "display_name": "Python 3",
      "name": "python3"
    },
    "language_info": {
      "name": "python"
    }
  },
  "nbformat": 4,
  "nbformat_minor": 0
}