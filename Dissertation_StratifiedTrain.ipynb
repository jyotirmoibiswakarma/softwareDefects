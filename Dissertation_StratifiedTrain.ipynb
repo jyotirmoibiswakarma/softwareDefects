{
  "cells": [
    {
      "cell_type": "markdown",
      "metadata": {
        "id": "view-in-github",
        "colab_type": "text"
      },
      "source": [
        "<a href=\"https://colab.research.google.com/github/Heimeinsheu/software_defects_phase1/blob/main/Dissertation_StratifiedTrain.ipynb\" target=\"_parent\"><img src=\"https://colab.research.google.com/assets/colab-badge.svg\" alt=\"Open In Colab\"/></a>"
      ]
    },
    {
      "cell_type": "markdown",
      "metadata": {
        "id": "_Zt1r1rXgPV5"
      },
      "source": [
        "#**Stratified Train**\n"
      ]
    },
    {
      "cell_type": "markdown",
      "metadata": {
        "id": "g17-DnZw4ED1"
      },
      "source": [
        "#Importing Data"
      ]
    },
    {
      "cell_type": "code",
      "execution_count": null,
      "metadata": {
        "colab": {
          "base_uri": "https://localhost:8080/"
        },
        "id": "E3qlBeG54LiK",
        "outputId": "309fbb52-f5a8-4393-abb5-f849df795680"
      },
      "outputs": [
        {
          "output_type": "stream",
          "name": "stdout",
          "text": [
            "Drive already mounted at /content/drive; to attempt to forcibly remount, call drive.mount(\"/content/drive\", force_remount=True).\n"
          ]
        }
      ],
      "source": [
        "import numpy as np\n",
        "import pandas as pd\n",
        "import matplotlib.pyplot as plt\n",
        "from sklearn.model_selection import train_test_split\n",
        "from sklearn.linear_model import LinearRegression\n",
        "from sklearn.preprocessing import PolynomialFeatures\n",
        "from sklearn.metrics import r2_score\n",
        "from sklearn.model_selection import StratifiedKFold, cross_val_score\n",
        "\n",
        "from google.colab import drive\n",
        "drive.mount('/content/drive',force_remount=False)"
      ]
    },
    {
      "cell_type": "code",
      "execution_count": null,
      "metadata": {
        "id": "KsyoV91h5RZP"
      },
      "outputs": [],
      "source": [
        "kc2_df=pd.read_csv(\"/content/drive/MyDrive/Colab_Notebooks/softwareDefect.csv\")\n",
        "jm1_df=pd.read_csv(\"/content/drive/MyDrive/Colab_Notebooks/Dissertation/jm1.csv\")\n",
        "ar1_df=pd.read_csv(\"/content/drive/MyDrive/Colab_Notebooks/Dissertation/ar1.csv\")\n",
        "ar3_df=pd.read_csv(\"/content/drive/MyDrive/Colab_Notebooks/Dissertation/ar3.csv\")\n",
        "ar4_df=pd.read_csv(\"/content/drive/MyDrive/Colab_Notebooks/Dissertation/ar4.csv\")\n",
        "ar5_df=pd.read_csv(\"/content/drive/MyDrive/Colab_Notebooks/Dissertation/ar5.csv\")\n",
        "ar6_df=pd.read_csv(\"/content/drive/MyDrive/Colab_Notebooks/Dissertation/ar6.csv\")\n",
        "kc1_df=pd.read_csv(\"/content/drive/MyDrive/Colab_Notebooks/Dissertation/kc1.csv\")\n",
        "cm1_df=pd.read_csv(\"/content/drive/MyDrive/Colab_Notebooks/Dissertation/cm1.csv\")\n",
        "pc1_df=pd.read_csv(\"/content/drive/MyDrive/Colab_Notebooks/Dissertation/pc1.csv\")"
      ]
    },
    {
      "cell_type": "markdown",
      "metadata": {
        "id": "gMtORiiy5Rkz"
      },
      "source": [
        "#Attribute Information:\n",
        " \n",
        " \t\n",
        "      1. loc             :   % McCabe's line count of code\n",
        "      2. v(g)            :   % McCabe \"cyclomatic complexity\"\n",
        "      3. ev(g)           :   % McCabe \"essential complexity\"\n",
        "      4. iv(g)           :   % McCabe \"design complexity\"\n",
        "      5. n               :   % Halstead total operators + operands\n",
        "      6. v               :   % Halstead \"volume\"\n",
        "      7. l               :   % Halstead \"program length\"\n",
        "      8. d               :   % Halstead \"difficulty\"\n",
        "      9. i               :   % Halstead \"intelligence\"\n",
        "     10. e               :   % Halstead \"effort\"\n",
        "     11. b               :   % Halstead \n",
        "     12. t               :   % Halstead's time estimator\n",
        "     13. lOCode          :   % Halstead's line count\n",
        "     14. lOComment       :   % Halstead's count of lines of comments\n",
        "     15. lOBlank         :   % Halstead's count of blank lines\n",
        "     16. lOCodeAndComment:  \n",
        "     17. uniq_Op         :   % unique operators\n",
        "     18. uniq_Opnd       :   % unique operands\n",
        "     19. total_Op        :   % total operators\n",
        "     20. total_Opnd      :   % total operands\n",
        "     21. branchCount     :   % of the flow graph\n",
        "     22. problems        : {no,yes}% module has/has not one or more \n",
        "                                   % reported defects\n"
      ]
    },
    {
      "cell_type": "markdown",
      "metadata": {
        "id": "69eMTWV6Ll8P"
      },
      "source": [
        "####**Calculate Numbers of Column in each dataset**"
      ]
    },
    {
      "cell_type": "code",
      "execution_count": null,
      "metadata": {
        "colab": {
          "base_uri": "https://localhost:8080/"
        },
        "id": "i6Z2ZT32Lj4e",
        "outputId": "04ec71f3-b269-4e6f-8520-f475e170848f"
      },
      "outputs": [
        {
          "output_type": "stream",
          "name": "stdout",
          "text": [
            "attributes in jm1:  22\n",
            "attributes in ar1:  30\n",
            "attributes in ar3:  30\n",
            "attributes in ar4:  30\n",
            "attributes in ar5:  30\n",
            "attributes in ar6:  30\n",
            "attributes in kc1:  22\n",
            "attributes in cm1:  22\n",
            "attributes in pc1:  22\n"
          ]
        }
      ],
      "source": [
        "print(\"attributes in jm1: \",jm1_df.shape[1])\n",
        "print(\"attributes in ar1: \",ar1_df.shape[1])\n",
        "print(\"attributes in ar3: \",ar3_df.shape[1])\n",
        "print(\"attributes in ar4: \",ar4_df.shape[1])\n",
        "print(\"attributes in ar5: \",ar5_df.shape[1])\n",
        "print(\"attributes in ar6: \",ar6_df.shape[1])\n",
        "print(\"attributes in kc1: \",kc1_df.shape[1])\n",
        "print(\"attributes in cm1: \",cm1_df.shape[1])\n",
        "print(\"attributes in pc1: \",pc1_df.shape[1])"
      ]
    },
    {
      "cell_type": "markdown",
      "metadata": {
        "id": "eTCjWQNMLtVs"
      },
      "source": [
        "####**Assigning Header to each dataset**"
      ]
    },
    {
      "cell_type": "code",
      "execution_count": null,
      "metadata": {
        "id": "9Z6maza25SVq"
      },
      "outputs": [],
      "source": [
        "# adding column name to the respective columns\n",
        "kc2_df.columns =['l_count', 'cyclomatic_complexity', 'essential_complexity', 'design_complexity','n','v','l','d','i','e','b','t','lOCode','lOComment','lOBlank','lOCodeAndComment','uniq_Op','uniq_Opnd','total_Op','total_Opnd','branchCount','problems']\n",
        "kc1_df.columns =['l_count', 'cyclomatic_complexity', 'essential_complexity', 'design_complexity','n','v','l','d','i','e','b','t','lOCode','lOComment','lOBlank','lOCodeAndComment','uniq_Op','uniq_Opnd','total_Op','total_Opnd','branchCount','problems']\n",
        "cm1_df.columns =['l_count', 'cyclomatic_complexity', 'essential_complexity', 'design_complexity','n','v','l','d','i','e','b','t','lOCode','lOComment','lOBlank','lOCodeAndComment','uniq_Op','uniq_Opnd','total_Op','total_Opnd','branchCount','problems']\n",
        "pc1_df.columns =['l_count', 'cyclomatic_complexity', 'essential_complexity', 'design_complexity','n','v','l','d','i','e','b','t','lOCode','lOComment','lOBlank','lOCodeAndComment','uniq_Op','uniq_Opnd','total_Op','total_Opnd','branchCount','problems']\n",
        "jm1_df.columns =['l_count', 'cyclomatic_complexity', 'essential_complexity', 'design_complexity','n','v','l','d','i','e','b','t','lOCode','lOComment','lOBlank','lOCodeAndComment','uniq_Op','uniq_Opnd','total_Op','total_Opnd','branchCount','problems']\n",
        "ar1_df.columns=['total_loc','blank_loc','comment_loc','code_and_comment_loc','executable_loc','unique_operands','unique_operators','total_operands','total_operators','halstead_vocabulary','halstead_length','halstead_volume','halstead_level','halstead_difficulty','halstead_effort','halstead_error','halstead_time','branch_count','decision_count','call_pairs','condition_count','multiple_condition_count','cyclomatic_complexity','cyclomatic_density','decision_density','design_complexity','design_density','normalized_cyclomatic_complexity','formal_parameters','problems']\n",
        "ar3_df.columns=['total_loc','blank_loc','comment_loc','code_and_comment_loc','executable_loc','unique_operands','unique_operators','total_operands','total_operators','halstead_vocabulary','halstead_length','halstead_volume','halstead_level','halstead_difficulty','halstead_effort','halstead_error','halstead_time','branch_count','decision_count','call_pairs','condition_count','multiple_condition_count','cyclomatic_complexity','cyclomatic_density','decision_density','design_complexity','design_density','normalized_cyclomatic_complexity','formal_parameters','problems']\n",
        "ar4_df.columns=['total_loc','blank_loc','comment_loc','code_and_comment_loc','executable_loc','unique_operands','unique_operators','total_operands','total_operators','halstead_vocabulary','halstead_length','halstead_volume','halstead_level','halstead_difficulty','halstead_effort','halstead_error','halstead_time','branch_count','decision_count','call_pairs','condition_count','multiple_condition_count','cyclomatic_complexity','cyclomatic_density','decision_density','design_complexity','design_density','normalized_cyclomatic_complexity','formal_parameters','problems']\n",
        "ar5_df.columns=['total_loc','blank_loc','comment_loc','code_and_comment_loc','executable_loc','unique_operands','unique_operators','total_operands','total_operators','halstead_vocabulary','halstead_length','halstead_volume','halstead_level','halstead_difficulty','halstead_effort','halstead_error','halstead_time','branch_count','decision_count','call_pairs','condition_count','multiple_condition_count','cyclomatic_complexity','cyclomatic_density','decision_density','design_complexity','design_density','normalized_cyclomatic_complexity','formal_parameters','problems']\n",
        "ar6_df.columns=['total_loc','blank_loc','comment_loc','code_and_comment_loc','executable_loc','unique_operands','unique_operators','total_operands','total_operators','halstead_vocabulary','halstead_length','halstead_volume','halstead_level','halstead_difficulty','halstead_effort','halstead_error','halstead_time','branch_count','decision_count','call_pairs','condition_count','multiple_condition_count','cyclomatic_complexity','cyclomatic_density','decision_density','design_complexity','design_density','normalized_cyclomatic_complexity','formal_parameters','problems']\n"
      ]
    },
    {
      "cell_type": "markdown",
      "metadata": {
        "id": "FHXORliVx81z"
      },
      "source": [
        "###**Checking type of each attribute in dataset.**"
      ]
    },
    {
      "cell_type": "code",
      "execution_count": null,
      "metadata": {
        "colab": {
          "base_uri": "https://localhost:8080/"
        },
        "id": "6NjDIPRqLYz-",
        "outputId": "0f856994-020b-4713-c70f-2df8206aa0ac"
      },
      "outputs": [
        {
          "output_type": "stream",
          "name": "stdout",
          "text": [
            "l_count                    int64\n",
            "cyclomatic_complexity      int64\n",
            "essential_complexity       int64\n",
            "design_complexity          int64\n",
            "n                          int64\n",
            "v                        float64\n",
            "l                        float64\n",
            "d                        float64\n",
            "i                        float64\n",
            "e                        float64\n",
            "b                        float64\n",
            "t                        float64\n",
            "lOCode                     int64\n",
            "lOComment                  int64\n",
            "lOBlank                    int64\n",
            "lOCodeAndComment           int64\n",
            "uniq_Op                    int64\n",
            "uniq_Opnd                  int64\n",
            "total_Op                   int64\n",
            "total_Opnd                 int64\n",
            "branchCount                int64\n",
            "problems                    bool\n",
            "dtype: object\n"
          ]
        }
      ],
      "source": [
        "print(kc1_df.dtypes)"
      ]
    },
    {
      "cell_type": "code",
      "execution_count": null,
      "metadata": {
        "colab": {
          "base_uri": "https://localhost:8080/"
        },
        "id": "NBpLqzEpwMh3",
        "outputId": "b5561204-763b-4e3e-d64d-3364b40ab3e7"
      },
      "outputs": [
        {
          "output_type": "stream",
          "name": "stdout",
          "text": [
            "l_count                    int64\n",
            "cyclomatic_complexity    float64\n",
            "essential_complexity       int64\n",
            "design_complexity          int64\n",
            "n                          int64\n",
            "v                        float64\n",
            "l                        float64\n",
            "d                        float64\n",
            "i                        float64\n",
            "e                        float64\n",
            "b                        float64\n",
            "t                        float64\n",
            "lOCode                     int64\n",
            "lOComment                  int64\n",
            "lOBlank                    int64\n",
            "lOCodeAndComment           int64\n",
            "uniq_Op                    int64\n",
            "uniq_Opnd                  int64\n",
            "total_Op                   int64\n",
            "total_Opnd                 int64\n",
            "branchCount                int64\n",
            "problems                  object\n",
            "dtype: object\n"
          ]
        }
      ],
      "source": [
        "print(kc2_df.dtypes)"
      ]
    },
    {
      "cell_type": "code",
      "execution_count": null,
      "metadata": {
        "colab": {
          "base_uri": "https://localhost:8080/",
          "height": 487
        },
        "id": "9D58ilwOxml_",
        "outputId": "81dc3087-b085-44f2-d05d-f1e006180ab6"
      },
      "outputs": [
        {
          "output_type": "execute_result",
          "data": {
            "text/plain": [
              "     l_count  cyclomatic_complexity  essential_complexity  design_complexity  \\\n",
              "0          1                    1.0                     1                  1   \n",
              "1        415                   59.0                    50                 51   \n",
              "2        230                   33.0                    10                 16   \n",
              "3        175                   26.0                    12                 13   \n",
              "4        163                   16.0                    13                 11   \n",
              "..       ...                    ...                   ...                ...   \n",
              "516        4                    1.0                     1                  1   \n",
              "517        4                    1.0                     1                  1   \n",
              "518        4                    1.0                     1                  1   \n",
              "519        4                    1.0                     1                  1   \n",
              "520        3                    1.0                     1                  1   \n",
              "\n",
              "        n        v     l       d       i          e  ...  lOCode  lOComment  \\\n",
              "0       1     1.00  1.00    1.00    1.00       1.00  ...       1          1   \n",
              "1    1159  8411.31  0.01  103.53   81.24  870848.58  ...     359         35   \n",
              "2     575  3732.82  0.03   39.82   93.74  148644.06  ...     174         15   \n",
              "3     500  3123.96  0.03   29.48  105.96   92103.07  ...     142          7   \n",
              "4     440  2714.77  0.03   32.25   84.14   87589.65  ...     139          2   \n",
              "..    ...      ...   ...     ...     ...        ...  ...     ...        ...   \n",
              "516     5    11.61  0.50    2.00    5.80      23.22  ...       2          0   \n",
              "517     4     8.00  0.67    1.50    5.33      12.00  ...       2          0   \n",
              "518     4     8.00  0.67    1.50    5.33      12.00  ...       2          0   \n",
              "519     5    11.61  0.67    1.50    7.74      17.41  ...       2          0   \n",
              "520     1     0.00  0.00    0.00    0.00       0.00  ...       1          0   \n",
              "\n",
              "     lOBlank  lOCodeAndComment  uniq_Op  uniq_Opnd  total_Op  total_Opnd  \\\n",
              "0          1                 1        1          1         1           1   \n",
              "1          9                10       47        106       692         467   \n",
              "2         34                 5       23         67       343         232   \n",
              "3         19                 4       18         58       310         190   \n",
              "4         20                 0       19         53       260         180   \n",
              "..       ...               ...      ...        ...       ...         ...   \n",
              "516        0                 0        4          1         4           1   \n",
              "517        0                 0        3          1         3           1   \n",
              "518        0                 0        3          1         3           1   \n",
              "519        0                 0        3          2         3           2   \n",
              "520        0                 0        1          0         1           0   \n",
              "\n",
              "     branchCount  problems  \n",
              "0              1       yes  \n",
              "1            106       yes  \n",
              "2             65       yes  \n",
              "3             51       yes  \n",
              "4             31       yes  \n",
              "..           ...       ...  \n",
              "516            1       yes  \n",
              "517            1       yes  \n",
              "518            1       yes  \n",
              "519            1       yes  \n",
              "520            1       yes  \n",
              "\n",
              "[521 rows x 22 columns]"
            ],
            "text/html": [
              "\n",
              "  <div id=\"df-bdc26184-f350-44fe-8b8e-e692f835138d\">\n",
              "    <div class=\"colab-df-container\">\n",
              "      <div>\n",
              "<style scoped>\n",
              "    .dataframe tbody tr th:only-of-type {\n",
              "        vertical-align: middle;\n",
              "    }\n",
              "\n",
              "    .dataframe tbody tr th {\n",
              "        vertical-align: top;\n",
              "    }\n",
              "\n",
              "    .dataframe thead th {\n",
              "        text-align: right;\n",
              "    }\n",
              "</style>\n",
              "<table border=\"1\" class=\"dataframe\">\n",
              "  <thead>\n",
              "    <tr style=\"text-align: right;\">\n",
              "      <th></th>\n",
              "      <th>l_count</th>\n",
              "      <th>cyclomatic_complexity</th>\n",
              "      <th>essential_complexity</th>\n",
              "      <th>design_complexity</th>\n",
              "      <th>n</th>\n",
              "      <th>v</th>\n",
              "      <th>l</th>\n",
              "      <th>d</th>\n",
              "      <th>i</th>\n",
              "      <th>e</th>\n",
              "      <th>...</th>\n",
              "      <th>lOCode</th>\n",
              "      <th>lOComment</th>\n",
              "      <th>lOBlank</th>\n",
              "      <th>lOCodeAndComment</th>\n",
              "      <th>uniq_Op</th>\n",
              "      <th>uniq_Opnd</th>\n",
              "      <th>total_Op</th>\n",
              "      <th>total_Opnd</th>\n",
              "      <th>branchCount</th>\n",
              "      <th>problems</th>\n",
              "    </tr>\n",
              "  </thead>\n",
              "  <tbody>\n",
              "    <tr>\n",
              "      <th>0</th>\n",
              "      <td>1</td>\n",
              "      <td>1.0</td>\n",
              "      <td>1</td>\n",
              "      <td>1</td>\n",
              "      <td>1</td>\n",
              "      <td>1.00</td>\n",
              "      <td>1.00</td>\n",
              "      <td>1.00</td>\n",
              "      <td>1.00</td>\n",
              "      <td>1.00</td>\n",
              "      <td>...</td>\n",
              "      <td>1</td>\n",
              "      <td>1</td>\n",
              "      <td>1</td>\n",
              "      <td>1</td>\n",
              "      <td>1</td>\n",
              "      <td>1</td>\n",
              "      <td>1</td>\n",
              "      <td>1</td>\n",
              "      <td>1</td>\n",
              "      <td>yes</td>\n",
              "    </tr>\n",
              "    <tr>\n",
              "      <th>1</th>\n",
              "      <td>415</td>\n",
              "      <td>59.0</td>\n",
              "      <td>50</td>\n",
              "      <td>51</td>\n",
              "      <td>1159</td>\n",
              "      <td>8411.31</td>\n",
              "      <td>0.01</td>\n",
              "      <td>103.53</td>\n",
              "      <td>81.24</td>\n",
              "      <td>870848.58</td>\n",
              "      <td>...</td>\n",
              "      <td>359</td>\n",
              "      <td>35</td>\n",
              "      <td>9</td>\n",
              "      <td>10</td>\n",
              "      <td>47</td>\n",
              "      <td>106</td>\n",
              "      <td>692</td>\n",
              "      <td>467</td>\n",
              "      <td>106</td>\n",
              "      <td>yes</td>\n",
              "    </tr>\n",
              "    <tr>\n",
              "      <th>2</th>\n",
              "      <td>230</td>\n",
              "      <td>33.0</td>\n",
              "      <td>10</td>\n",
              "      <td>16</td>\n",
              "      <td>575</td>\n",
              "      <td>3732.82</td>\n",
              "      <td>0.03</td>\n",
              "      <td>39.82</td>\n",
              "      <td>93.74</td>\n",
              "      <td>148644.06</td>\n",
              "      <td>...</td>\n",
              "      <td>174</td>\n",
              "      <td>15</td>\n",
              "      <td>34</td>\n",
              "      <td>5</td>\n",
              "      <td>23</td>\n",
              "      <td>67</td>\n",
              "      <td>343</td>\n",
              "      <td>232</td>\n",
              "      <td>65</td>\n",
              "      <td>yes</td>\n",
              "    </tr>\n",
              "    <tr>\n",
              "      <th>3</th>\n",
              "      <td>175</td>\n",
              "      <td>26.0</td>\n",
              "      <td>12</td>\n",
              "      <td>13</td>\n",
              "      <td>500</td>\n",
              "      <td>3123.96</td>\n",
              "      <td>0.03</td>\n",
              "      <td>29.48</td>\n",
              "      <td>105.96</td>\n",
              "      <td>92103.07</td>\n",
              "      <td>...</td>\n",
              "      <td>142</td>\n",
              "      <td>7</td>\n",
              "      <td>19</td>\n",
              "      <td>4</td>\n",
              "      <td>18</td>\n",
              "      <td>58</td>\n",
              "      <td>310</td>\n",
              "      <td>190</td>\n",
              "      <td>51</td>\n",
              "      <td>yes</td>\n",
              "    </tr>\n",
              "    <tr>\n",
              "      <th>4</th>\n",
              "      <td>163</td>\n",
              "      <td>16.0</td>\n",
              "      <td>13</td>\n",
              "      <td>11</td>\n",
              "      <td>440</td>\n",
              "      <td>2714.77</td>\n",
              "      <td>0.03</td>\n",
              "      <td>32.25</td>\n",
              "      <td>84.14</td>\n",
              "      <td>87589.65</td>\n",
              "      <td>...</td>\n",
              "      <td>139</td>\n",
              "      <td>2</td>\n",
              "      <td>20</td>\n",
              "      <td>0</td>\n",
              "      <td>19</td>\n",
              "      <td>53</td>\n",
              "      <td>260</td>\n",
              "      <td>180</td>\n",
              "      <td>31</td>\n",
              "      <td>yes</td>\n",
              "    </tr>\n",
              "    <tr>\n",
              "      <th>...</th>\n",
              "      <td>...</td>\n",
              "      <td>...</td>\n",
              "      <td>...</td>\n",
              "      <td>...</td>\n",
              "      <td>...</td>\n",
              "      <td>...</td>\n",
              "      <td>...</td>\n",
              "      <td>...</td>\n",
              "      <td>...</td>\n",
              "      <td>...</td>\n",
              "      <td>...</td>\n",
              "      <td>...</td>\n",
              "      <td>...</td>\n",
              "      <td>...</td>\n",
              "      <td>...</td>\n",
              "      <td>...</td>\n",
              "      <td>...</td>\n",
              "      <td>...</td>\n",
              "      <td>...</td>\n",
              "      <td>...</td>\n",
              "      <td>...</td>\n",
              "    </tr>\n",
              "    <tr>\n",
              "      <th>516</th>\n",
              "      <td>4</td>\n",
              "      <td>1.0</td>\n",
              "      <td>1</td>\n",
              "      <td>1</td>\n",
              "      <td>5</td>\n",
              "      <td>11.61</td>\n",
              "      <td>0.50</td>\n",
              "      <td>2.00</td>\n",
              "      <td>5.80</td>\n",
              "      <td>23.22</td>\n",
              "      <td>...</td>\n",
              "      <td>2</td>\n",
              "      <td>0</td>\n",
              "      <td>0</td>\n",
              "      <td>0</td>\n",
              "      <td>4</td>\n",
              "      <td>1</td>\n",
              "      <td>4</td>\n",
              "      <td>1</td>\n",
              "      <td>1</td>\n",
              "      <td>yes</td>\n",
              "    </tr>\n",
              "    <tr>\n",
              "      <th>517</th>\n",
              "      <td>4</td>\n",
              "      <td>1.0</td>\n",
              "      <td>1</td>\n",
              "      <td>1</td>\n",
              "      <td>4</td>\n",
              "      <td>8.00</td>\n",
              "      <td>0.67</td>\n",
              "      <td>1.50</td>\n",
              "      <td>5.33</td>\n",
              "      <td>12.00</td>\n",
              "      <td>...</td>\n",
              "      <td>2</td>\n",
              "      <td>0</td>\n",
              "      <td>0</td>\n",
              "      <td>0</td>\n",
              "      <td>3</td>\n",
              "      <td>1</td>\n",
              "      <td>3</td>\n",
              "      <td>1</td>\n",
              "      <td>1</td>\n",
              "      <td>yes</td>\n",
              "    </tr>\n",
              "    <tr>\n",
              "      <th>518</th>\n",
              "      <td>4</td>\n",
              "      <td>1.0</td>\n",
              "      <td>1</td>\n",
              "      <td>1</td>\n",
              "      <td>4</td>\n",
              "      <td>8.00</td>\n",
              "      <td>0.67</td>\n",
              "      <td>1.50</td>\n",
              "      <td>5.33</td>\n",
              "      <td>12.00</td>\n",
              "      <td>...</td>\n",
              "      <td>2</td>\n",
              "      <td>0</td>\n",
              "      <td>0</td>\n",
              "      <td>0</td>\n",
              "      <td>3</td>\n",
              "      <td>1</td>\n",
              "      <td>3</td>\n",
              "      <td>1</td>\n",
              "      <td>1</td>\n",
              "      <td>yes</td>\n",
              "    </tr>\n",
              "    <tr>\n",
              "      <th>519</th>\n",
              "      <td>4</td>\n",
              "      <td>1.0</td>\n",
              "      <td>1</td>\n",
              "      <td>1</td>\n",
              "      <td>5</td>\n",
              "      <td>11.61</td>\n",
              "      <td>0.67</td>\n",
              "      <td>1.50</td>\n",
              "      <td>7.74</td>\n",
              "      <td>17.41</td>\n",
              "      <td>...</td>\n",
              "      <td>2</td>\n",
              "      <td>0</td>\n",
              "      <td>0</td>\n",
              "      <td>0</td>\n",
              "      <td>3</td>\n",
              "      <td>2</td>\n",
              "      <td>3</td>\n",
              "      <td>2</td>\n",
              "      <td>1</td>\n",
              "      <td>yes</td>\n",
              "    </tr>\n",
              "    <tr>\n",
              "      <th>520</th>\n",
              "      <td>3</td>\n",
              "      <td>1.0</td>\n",
              "      <td>1</td>\n",
              "      <td>1</td>\n",
              "      <td>1</td>\n",
              "      <td>0.00</td>\n",
              "      <td>0.00</td>\n",
              "      <td>0.00</td>\n",
              "      <td>0.00</td>\n",
              "      <td>0.00</td>\n",
              "      <td>...</td>\n",
              "      <td>1</td>\n",
              "      <td>0</td>\n",
              "      <td>0</td>\n",
              "      <td>0</td>\n",
              "      <td>1</td>\n",
              "      <td>0</td>\n",
              "      <td>1</td>\n",
              "      <td>0</td>\n",
              "      <td>1</td>\n",
              "      <td>yes</td>\n",
              "    </tr>\n",
              "  </tbody>\n",
              "</table>\n",
              "<p>521 rows × 22 columns</p>\n",
              "</div>\n",
              "      <button class=\"colab-df-convert\" onclick=\"convertToInteractive('df-bdc26184-f350-44fe-8b8e-e692f835138d')\"\n",
              "              title=\"Convert this dataframe to an interactive table.\"\n",
              "              style=\"display:none;\">\n",
              "        \n",
              "  <svg xmlns=\"http://www.w3.org/2000/svg\" height=\"24px\"viewBox=\"0 0 24 24\"\n",
              "       width=\"24px\">\n",
              "    <path d=\"M0 0h24v24H0V0z\" fill=\"none\"/>\n",
              "    <path d=\"M18.56 5.44l.94 2.06.94-2.06 2.06-.94-2.06-.94-.94-2.06-.94 2.06-2.06.94zm-11 1L8.5 8.5l.94-2.06 2.06-.94-2.06-.94L8.5 2.5l-.94 2.06-2.06.94zm10 10l.94 2.06.94-2.06 2.06-.94-2.06-.94-.94-2.06-.94 2.06-2.06.94z\"/><path d=\"M17.41 7.96l-1.37-1.37c-.4-.4-.92-.59-1.43-.59-.52 0-1.04.2-1.43.59L10.3 9.45l-7.72 7.72c-.78.78-.78 2.05 0 2.83L4 21.41c.39.39.9.59 1.41.59.51 0 1.02-.2 1.41-.59l7.78-7.78 2.81-2.81c.8-.78.8-2.07 0-2.86zM5.41 20L4 18.59l7.72-7.72 1.47 1.35L5.41 20z\"/>\n",
              "  </svg>\n",
              "      </button>\n",
              "      \n",
              "  <style>\n",
              "    .colab-df-container {\n",
              "      display:flex;\n",
              "      flex-wrap:wrap;\n",
              "      gap: 12px;\n",
              "    }\n",
              "\n",
              "    .colab-df-convert {\n",
              "      background-color: #E8F0FE;\n",
              "      border: none;\n",
              "      border-radius: 50%;\n",
              "      cursor: pointer;\n",
              "      display: none;\n",
              "      fill: #1967D2;\n",
              "      height: 32px;\n",
              "      padding: 0 0 0 0;\n",
              "      width: 32px;\n",
              "    }\n",
              "\n",
              "    .colab-df-convert:hover {\n",
              "      background-color: #E2EBFA;\n",
              "      box-shadow: 0px 1px 2px rgba(60, 64, 67, 0.3), 0px 1px 3px 1px rgba(60, 64, 67, 0.15);\n",
              "      fill: #174EA6;\n",
              "    }\n",
              "\n",
              "    [theme=dark] .colab-df-convert {\n",
              "      background-color: #3B4455;\n",
              "      fill: #D2E3FC;\n",
              "    }\n",
              "\n",
              "    [theme=dark] .colab-df-convert:hover {\n",
              "      background-color: #434B5C;\n",
              "      box-shadow: 0px 1px 3px 1px rgba(0, 0, 0, 0.15);\n",
              "      filter: drop-shadow(0px 1px 2px rgba(0, 0, 0, 0.3));\n",
              "      fill: #FFFFFF;\n",
              "    }\n",
              "  </style>\n",
              "\n",
              "      <script>\n",
              "        const buttonEl =\n",
              "          document.querySelector('#df-bdc26184-f350-44fe-8b8e-e692f835138d button.colab-df-convert');\n",
              "        buttonEl.style.display =\n",
              "          google.colab.kernel.accessAllowed ? 'block' : 'none';\n",
              "\n",
              "        async function convertToInteractive(key) {\n",
              "          const element = document.querySelector('#df-bdc26184-f350-44fe-8b8e-e692f835138d');\n",
              "          const dataTable =\n",
              "            await google.colab.kernel.invokeFunction('convertToInteractive',\n",
              "                                                     [key], {});\n",
              "          if (!dataTable) return;\n",
              "\n",
              "          const docLinkHtml = 'Like what you see? Visit the ' +\n",
              "            '<a target=\"_blank\" href=https://colab.research.google.com/notebooks/data_table.ipynb>data table notebook</a>'\n",
              "            + ' to learn more about interactive tables.';\n",
              "          element.innerHTML = '';\n",
              "          dataTable['output_type'] = 'display_data';\n",
              "          await google.colab.output.renderOutput(dataTable, element);\n",
              "          const docLink = document.createElement('div');\n",
              "          docLink.innerHTML = docLinkHtml;\n",
              "          element.appendChild(docLink);\n",
              "        }\n",
              "      </script>\n",
              "    </div>\n",
              "  </div>\n",
              "  "
            ]
          },
          "metadata": {},
          "execution_count": 187
        }
      ],
      "source": [
        "kc2_df"
      ]
    },
    {
      "cell_type": "code",
      "execution_count": null,
      "metadata": {
        "colab": {
          "base_uri": "https://localhost:8080/"
        },
        "id": "EEeHWmGrwMzq",
        "outputId": "adc02abc-6937-4288-e59d-45f6fe31bf85"
      },
      "outputs": [
        {
          "output_type": "stream",
          "name": "stdout",
          "text": [
            "l_count                    int64\n",
            "cyclomatic_complexity      int64\n",
            "essential_complexity       int64\n",
            "design_complexity          int64\n",
            "n                          int64\n",
            "v                        float64\n",
            "l                        float64\n",
            "d                        float64\n",
            "i                        float64\n",
            "e                        float64\n",
            "b                        float64\n",
            "t                        float64\n",
            "lOCode                     int64\n",
            "lOComment                  int64\n",
            "lOBlank                    int64\n",
            "lOCodeAndComment           int64\n",
            "uniq_Op                   object\n",
            "uniq_Opnd                 object\n",
            "total_Op                  object\n",
            "total_Opnd                object\n",
            "branchCount               object\n",
            "problems                    bool\n",
            "dtype: object\n"
          ]
        }
      ],
      "source": [
        "print(jm1_df.dtypes)"
      ]
    },
    {
      "cell_type": "code",
      "execution_count": null,
      "metadata": {
        "colab": {
          "base_uri": "https://localhost:8080/"
        },
        "id": "TshzuqhOBVwO",
        "outputId": "34497ab5-7b5b-4432-bf1e-62fd4054d403"
      },
      "outputs": [
        {
          "output_type": "execute_result",
          "data": {
            "text/plain": [
              "l_count                  5\n",
              "cyclomatic_complexity    5\n",
              "essential_complexity     5\n",
              "design_complexity        5\n",
              "n                        5\n",
              "v                        5\n",
              "l                        5\n",
              "d                        5\n",
              "i                        5\n",
              "e                        5\n",
              "b                        5\n",
              "t                        5\n",
              "lOCode                   5\n",
              "lOComment                5\n",
              "lOBlank                  5\n",
              "lOCodeAndComment         5\n",
              "uniq_Op                  5\n",
              "uniq_Opnd                5\n",
              "total_Op                 5\n",
              "total_Opnd               5\n",
              "branchCount              5\n",
              "problems                 5\n",
              "dtype: int64"
            ]
          },
          "metadata": {},
          "execution_count": 189
        }
      ],
      "source": [
        "jm1_df.loc[jm1_df['uniq_Op']=='?'].count()"
      ]
    },
    {
      "cell_type": "code",
      "execution_count": null,
      "metadata": {
        "id": "7r4f-7jN7CIO"
      },
      "outputs": [],
      "source": [
        "jm1_df.drop(jm1_df.loc[jm1_df['uniq_Op']==\"?\"].index, inplace=True)"
      ]
    },
    {
      "cell_type": "markdown",
      "metadata": {
        "id": "LkqvBuR04yvJ"
      },
      "source": [
        "While converting attribute having object type into numeric type. I encounter many rows contain '?' value in respective attribute having object datatype.<br>\n",
        "Performing drop() on that rows."
      ]
    },
    {
      "cell_type": "code",
      "execution_count": null,
      "metadata": {
        "id": "xZgtqTdY2H9A"
      },
      "outputs": [],
      "source": [
        "jm1_df[['uniq_Op', 'uniq_Opnd','total_Op','total_Opnd','branchCount']] = jm1_df[['uniq_Op', 'uniq_Opnd','total_Op','total_Opnd','branchCount']].apply(pd.to_numeric)"
      ]
    },
    {
      "cell_type": "code",
      "execution_count": null,
      "metadata": {
        "colab": {
          "base_uri": "https://localhost:8080/",
          "height": 237
        },
        "id": "dJ4D_zSk35DU",
        "outputId": "d8b11db7-91d1-4f56-b443-715ea1a3bf49"
      },
      "outputs": [
        {
          "output_type": "execute_result",
          "data": {
            "text/plain": [
              "     l_count  cyclomatic_complexity  essential_complexity  design_complexity  \\\n",
              "141       71                      5                     1                  4   \n",
              "143       87                     10                     5                  4   \n",
              "144       19                      2                     1                  2   \n",
              "\n",
              "       n        v     l      d      i         e  ...  lOCode  lOComment  \\\n",
              "141  223  1338.00  0.06  16.07  83.25  21503.57  ...      57          1   \n",
              "143    0     0.00  0.00   0.00   0.00      0.00  ...       0          0   \n",
              "144   43   188.87  0.12   8.64  21.87   1631.15  ...       9          1   \n",
              "\n",
              "     lOBlank  lOCodeAndComment  uniq_Op  uniq_Opnd  total_Op  total_Opnd  \\\n",
              "141       11                 0       15         49       118         105   \n",
              "143        0                 0        0          0         0           0   \n",
              "144        4                 0       10         11        24          19   \n",
              "\n",
              "     branchCount  problems  \n",
              "141            9      True  \n",
              "143           18      True  \n",
              "144            3      True  \n",
              "\n",
              "[3 rows x 22 columns]"
            ],
            "text/html": [
              "\n",
              "  <div id=\"df-14f670a8-c125-4574-a01e-0cece9596383\">\n",
              "    <div class=\"colab-df-container\">\n",
              "      <div>\n",
              "<style scoped>\n",
              "    .dataframe tbody tr th:only-of-type {\n",
              "        vertical-align: middle;\n",
              "    }\n",
              "\n",
              "    .dataframe tbody tr th {\n",
              "        vertical-align: top;\n",
              "    }\n",
              "\n",
              "    .dataframe thead th {\n",
              "        text-align: right;\n",
              "    }\n",
              "</style>\n",
              "<table border=\"1\" class=\"dataframe\">\n",
              "  <thead>\n",
              "    <tr style=\"text-align: right;\">\n",
              "      <th></th>\n",
              "      <th>l_count</th>\n",
              "      <th>cyclomatic_complexity</th>\n",
              "      <th>essential_complexity</th>\n",
              "      <th>design_complexity</th>\n",
              "      <th>n</th>\n",
              "      <th>v</th>\n",
              "      <th>l</th>\n",
              "      <th>d</th>\n",
              "      <th>i</th>\n",
              "      <th>e</th>\n",
              "      <th>...</th>\n",
              "      <th>lOCode</th>\n",
              "      <th>lOComment</th>\n",
              "      <th>lOBlank</th>\n",
              "      <th>lOCodeAndComment</th>\n",
              "      <th>uniq_Op</th>\n",
              "      <th>uniq_Opnd</th>\n",
              "      <th>total_Op</th>\n",
              "      <th>total_Opnd</th>\n",
              "      <th>branchCount</th>\n",
              "      <th>problems</th>\n",
              "    </tr>\n",
              "  </thead>\n",
              "  <tbody>\n",
              "    <tr>\n",
              "      <th>141</th>\n",
              "      <td>71</td>\n",
              "      <td>5</td>\n",
              "      <td>1</td>\n",
              "      <td>4</td>\n",
              "      <td>223</td>\n",
              "      <td>1338.00</td>\n",
              "      <td>0.06</td>\n",
              "      <td>16.07</td>\n",
              "      <td>83.25</td>\n",
              "      <td>21503.57</td>\n",
              "      <td>...</td>\n",
              "      <td>57</td>\n",
              "      <td>1</td>\n",
              "      <td>11</td>\n",
              "      <td>0</td>\n",
              "      <td>15</td>\n",
              "      <td>49</td>\n",
              "      <td>118</td>\n",
              "      <td>105</td>\n",
              "      <td>9</td>\n",
              "      <td>True</td>\n",
              "    </tr>\n",
              "    <tr>\n",
              "      <th>143</th>\n",
              "      <td>87</td>\n",
              "      <td>10</td>\n",
              "      <td>5</td>\n",
              "      <td>4</td>\n",
              "      <td>0</td>\n",
              "      <td>0.00</td>\n",
              "      <td>0.00</td>\n",
              "      <td>0.00</td>\n",
              "      <td>0.00</td>\n",
              "      <td>0.00</td>\n",
              "      <td>...</td>\n",
              "      <td>0</td>\n",
              "      <td>0</td>\n",
              "      <td>0</td>\n",
              "      <td>0</td>\n",
              "      <td>0</td>\n",
              "      <td>0</td>\n",
              "      <td>0</td>\n",
              "      <td>0</td>\n",
              "      <td>18</td>\n",
              "      <td>True</td>\n",
              "    </tr>\n",
              "    <tr>\n",
              "      <th>144</th>\n",
              "      <td>19</td>\n",
              "      <td>2</td>\n",
              "      <td>1</td>\n",
              "      <td>2</td>\n",
              "      <td>43</td>\n",
              "      <td>188.87</td>\n",
              "      <td>0.12</td>\n",
              "      <td>8.64</td>\n",
              "      <td>21.87</td>\n",
              "      <td>1631.15</td>\n",
              "      <td>...</td>\n",
              "      <td>9</td>\n",
              "      <td>1</td>\n",
              "      <td>4</td>\n",
              "      <td>0</td>\n",
              "      <td>10</td>\n",
              "      <td>11</td>\n",
              "      <td>24</td>\n",
              "      <td>19</td>\n",
              "      <td>3</td>\n",
              "      <td>True</td>\n",
              "    </tr>\n",
              "  </tbody>\n",
              "</table>\n",
              "<p>3 rows × 22 columns</p>\n",
              "</div>\n",
              "      <button class=\"colab-df-convert\" onclick=\"convertToInteractive('df-14f670a8-c125-4574-a01e-0cece9596383')\"\n",
              "              title=\"Convert this dataframe to an interactive table.\"\n",
              "              style=\"display:none;\">\n",
              "        \n",
              "  <svg xmlns=\"http://www.w3.org/2000/svg\" height=\"24px\"viewBox=\"0 0 24 24\"\n",
              "       width=\"24px\">\n",
              "    <path d=\"M0 0h24v24H0V0z\" fill=\"none\"/>\n",
              "    <path d=\"M18.56 5.44l.94 2.06.94-2.06 2.06-.94-2.06-.94-.94-2.06-.94 2.06-2.06.94zm-11 1L8.5 8.5l.94-2.06 2.06-.94-2.06-.94L8.5 2.5l-.94 2.06-2.06.94zm10 10l.94 2.06.94-2.06 2.06-.94-2.06-.94-.94-2.06-.94 2.06-2.06.94z\"/><path d=\"M17.41 7.96l-1.37-1.37c-.4-.4-.92-.59-1.43-.59-.52 0-1.04.2-1.43.59L10.3 9.45l-7.72 7.72c-.78.78-.78 2.05 0 2.83L4 21.41c.39.39.9.59 1.41.59.51 0 1.02-.2 1.41-.59l7.78-7.78 2.81-2.81c.8-.78.8-2.07 0-2.86zM5.41 20L4 18.59l7.72-7.72 1.47 1.35L5.41 20z\"/>\n",
              "  </svg>\n",
              "      </button>\n",
              "      \n",
              "  <style>\n",
              "    .colab-df-container {\n",
              "      display:flex;\n",
              "      flex-wrap:wrap;\n",
              "      gap: 12px;\n",
              "    }\n",
              "\n",
              "    .colab-df-convert {\n",
              "      background-color: #E8F0FE;\n",
              "      border: none;\n",
              "      border-radius: 50%;\n",
              "      cursor: pointer;\n",
              "      display: none;\n",
              "      fill: #1967D2;\n",
              "      height: 32px;\n",
              "      padding: 0 0 0 0;\n",
              "      width: 32px;\n",
              "    }\n",
              "\n",
              "    .colab-df-convert:hover {\n",
              "      background-color: #E2EBFA;\n",
              "      box-shadow: 0px 1px 2px rgba(60, 64, 67, 0.3), 0px 1px 3px 1px rgba(60, 64, 67, 0.15);\n",
              "      fill: #174EA6;\n",
              "    }\n",
              "\n",
              "    [theme=dark] .colab-df-convert {\n",
              "      background-color: #3B4455;\n",
              "      fill: #D2E3FC;\n",
              "    }\n",
              "\n",
              "    [theme=dark] .colab-df-convert:hover {\n",
              "      background-color: #434B5C;\n",
              "      box-shadow: 0px 1px 3px 1px rgba(0, 0, 0, 0.15);\n",
              "      filter: drop-shadow(0px 1px 2px rgba(0, 0, 0, 0.3));\n",
              "      fill: #FFFFFF;\n",
              "    }\n",
              "  </style>\n",
              "\n",
              "      <script>\n",
              "        const buttonEl =\n",
              "          document.querySelector('#df-14f670a8-c125-4574-a01e-0cece9596383 button.colab-df-convert');\n",
              "        buttonEl.style.display =\n",
              "          google.colab.kernel.accessAllowed ? 'block' : 'none';\n",
              "\n",
              "        async function convertToInteractive(key) {\n",
              "          const element = document.querySelector('#df-14f670a8-c125-4574-a01e-0cece9596383');\n",
              "          const dataTable =\n",
              "            await google.colab.kernel.invokeFunction('convertToInteractive',\n",
              "                                                     [key], {});\n",
              "          if (!dataTable) return;\n",
              "\n",
              "          const docLinkHtml = 'Like what you see? Visit the ' +\n",
              "            '<a target=\"_blank\" href=https://colab.research.google.com/notebooks/data_table.ipynb>data table notebook</a>'\n",
              "            + ' to learn more about interactive tables.';\n",
              "          element.innerHTML = '';\n",
              "          dataTable['output_type'] = 'display_data';\n",
              "          await google.colab.output.renderOutput(dataTable, element);\n",
              "          const docLink = document.createElement('div');\n",
              "          docLink.innerHTML = docLinkHtml;\n",
              "          element.appendChild(docLink);\n",
              "        }\n",
              "      </script>\n",
              "    </div>\n",
              "  </div>\n",
              "  "
            ]
          },
          "metadata": {},
          "execution_count": 192
        }
      ],
      "source": [
        "jm1_df.iloc[141:144,]"
      ]
    },
    {
      "cell_type": "code",
      "execution_count": null,
      "metadata": {
        "colab": {
          "base_uri": "https://localhost:8080/"
        },
        "id": "UyjcmD6ZwNGG",
        "outputId": "f9274db8-a603-4b6f-9e40-0aa3fadb8c55"
      },
      "outputs": [
        {
          "output_type": "stream",
          "name": "stdout",
          "text": [
            "l_count                    int64\n",
            "cyclomatic_complexity      int64\n",
            "essential_complexity       int64\n",
            "design_complexity          int64\n",
            "n                          int64\n",
            "v                        float64\n",
            "l                        float64\n",
            "d                        float64\n",
            "i                        float64\n",
            "e                        float64\n",
            "b                        float64\n",
            "t                        float64\n",
            "lOCode                     int64\n",
            "lOComment                  int64\n",
            "lOBlank                    int64\n",
            "lOCodeAndComment           int64\n",
            "uniq_Op                    int64\n",
            "uniq_Opnd                  int64\n",
            "total_Op                   int64\n",
            "total_Opnd                 int64\n",
            "branchCount                int64\n",
            "problems                    bool\n",
            "dtype: object\n"
          ]
        }
      ],
      "source": [
        "print(pc1_df.dtypes)"
      ]
    },
    {
      "cell_type": "code",
      "execution_count": null,
      "metadata": {
        "colab": {
          "base_uri": "https://localhost:8080/"
        },
        "id": "S_qBzp6_wNbp",
        "outputId": "095d4940-35a6-4ba1-f5e8-cc392ca392ea"
      },
      "outputs": [
        {
          "output_type": "stream",
          "name": "stdout",
          "text": [
            "l_count                    int64\n",
            "cyclomatic_complexity      int64\n",
            "essential_complexity       int64\n",
            "design_complexity          int64\n",
            "n                          int64\n",
            "v                        float64\n",
            "l                        float64\n",
            "d                        float64\n",
            "i                        float64\n",
            "e                        float64\n",
            "b                        float64\n",
            "t                        float64\n",
            "lOCode                     int64\n",
            "lOComment                  int64\n",
            "lOBlank                    int64\n",
            "lOCodeAndComment           int64\n",
            "uniq_Op                    int64\n",
            "uniq_Opnd                  int64\n",
            "total_Op                   int64\n",
            "total_Opnd                 int64\n",
            "branchCount                int64\n",
            "problems                    bool\n",
            "dtype: object\n"
          ]
        }
      ],
      "source": [
        "print(cm1_df.dtypes)"
      ]
    },
    {
      "cell_type": "code",
      "execution_count": null,
      "metadata": {
        "colab": {
          "base_uri": "https://localhost:8080/"
        },
        "id": "96kQjm3gwNrD",
        "outputId": "8cba407c-aed8-46e8-8124-c877d6dff430"
      },
      "outputs": [
        {
          "output_type": "stream",
          "name": "stdout",
          "text": [
            "total_loc                             int64\n",
            "blank_loc                             int64\n",
            "comment_loc                           int64\n",
            "code_and_comment_loc                  int64\n",
            "executable_loc                        int64\n",
            "unique_operands                       int64\n",
            "unique_operators                      int64\n",
            "total_operands                        int64\n",
            "total_operators                       int64\n",
            "halstead_vocabulary                   int64\n",
            "halstead_length                       int64\n",
            "halstead_volume                       int64\n",
            "halstead_level                      float64\n",
            "halstead_difficulty                 float64\n",
            "halstead_effort                     float64\n",
            "halstead_error                      float64\n",
            "halstead_time                       float64\n",
            "branch_count                          int64\n",
            "decision_count                        int64\n",
            "call_pairs                            int64\n",
            "condition_count                       int64\n",
            "multiple_condition_count              int64\n",
            "cyclomatic_complexity                 int64\n",
            "cyclomatic_density                  float64\n",
            "decision_density                    float64\n",
            "design_complexity                     int64\n",
            "design_density                      float64\n",
            "normalized_cyclomatic_complexity    float64\n",
            "formal_parameters                     int64\n",
            "problems                               bool\n",
            "dtype: object\n"
          ]
        }
      ],
      "source": [
        "print(ar1_df.dtypes)"
      ]
    },
    {
      "cell_type": "code",
      "execution_count": null,
      "metadata": {
        "colab": {
          "base_uri": "https://localhost:8080/"
        },
        "id": "s1tu31JAwN7W",
        "outputId": "feed9f57-6b1b-483d-9148-8cd32256cf71"
      },
      "outputs": [
        {
          "output_type": "stream",
          "name": "stdout",
          "text": [
            "total_loc                             int64\n",
            "blank_loc                             int64\n",
            "comment_loc                           int64\n",
            "code_and_comment_loc                  int64\n",
            "executable_loc                        int64\n",
            "unique_operands                       int64\n",
            "unique_operators                      int64\n",
            "total_operands                        int64\n",
            "total_operators                       int64\n",
            "halstead_vocabulary                   int64\n",
            "halstead_length                       int64\n",
            "halstead_volume                       int64\n",
            "halstead_level                      float64\n",
            "halstead_difficulty                 float64\n",
            "halstead_effort                     float64\n",
            "halstead_error                      float64\n",
            "halstead_time                       float64\n",
            "branch_count                          int64\n",
            "decision_count                        int64\n",
            "call_pairs                            int64\n",
            "condition_count                       int64\n",
            "multiple_condition_count              int64\n",
            "cyclomatic_complexity                 int64\n",
            "cyclomatic_density                  float64\n",
            "decision_density                    float64\n",
            "design_complexity                     int64\n",
            "design_density                      float64\n",
            "normalized_cyclomatic_complexity    float64\n",
            "formal_parameters                     int64\n",
            "problems                               bool\n",
            "dtype: object\n"
          ]
        }
      ],
      "source": [
        "print(ar3_df.dtypes)"
      ]
    },
    {
      "cell_type": "code",
      "execution_count": null,
      "metadata": {
        "colab": {
          "base_uri": "https://localhost:8080/"
        },
        "id": "xuUoPqTDwOLT",
        "outputId": "21006acd-4401-4bfd-a6bd-815b11623f2e"
      },
      "outputs": [
        {
          "output_type": "stream",
          "name": "stdout",
          "text": [
            "total_loc                             int64\n",
            "blank_loc                             int64\n",
            "comment_loc                           int64\n",
            "code_and_comment_loc                  int64\n",
            "executable_loc                        int64\n",
            "unique_operands                       int64\n",
            "unique_operators                      int64\n",
            "total_operands                        int64\n",
            "total_operators                       int64\n",
            "halstead_vocabulary                   int64\n",
            "halstead_length                       int64\n",
            "halstead_volume                       int64\n",
            "halstead_level                      float64\n",
            "halstead_difficulty                 float64\n",
            "halstead_effort                     float64\n",
            "halstead_error                      float64\n",
            "halstead_time                       float64\n",
            "branch_count                          int64\n",
            "decision_count                        int64\n",
            "call_pairs                            int64\n",
            "condition_count                       int64\n",
            "multiple_condition_count              int64\n",
            "cyclomatic_complexity                 int64\n",
            "cyclomatic_density                  float64\n",
            "decision_density                    float64\n",
            "design_complexity                     int64\n",
            "design_density                      float64\n",
            "normalized_cyclomatic_complexity    float64\n",
            "formal_parameters                     int64\n",
            "problems                               bool\n",
            "dtype: object\n"
          ]
        }
      ],
      "source": [
        "print(ar4_df.dtypes)"
      ]
    },
    {
      "cell_type": "code",
      "execution_count": null,
      "metadata": {
        "colab": {
          "base_uri": "https://localhost:8080/"
        },
        "id": "gf1Ls7fmwOat",
        "outputId": "b8b139a4-35ed-4464-bc1b-b80579254d5d"
      },
      "outputs": [
        {
          "output_type": "stream",
          "name": "stdout",
          "text": [
            "total_loc                             int64\n",
            "blank_loc                             int64\n",
            "comment_loc                           int64\n",
            "code_and_comment_loc                  int64\n",
            "executable_loc                        int64\n",
            "unique_operands                       int64\n",
            "unique_operators                      int64\n",
            "total_operands                        int64\n",
            "total_operators                       int64\n",
            "halstead_vocabulary                   int64\n",
            "halstead_length                       int64\n",
            "halstead_volume                       int64\n",
            "halstead_level                      float64\n",
            "halstead_difficulty                 float64\n",
            "halstead_effort                     float64\n",
            "halstead_error                      float64\n",
            "halstead_time                       float64\n",
            "branch_count                          int64\n",
            "decision_count                        int64\n",
            "call_pairs                            int64\n",
            "condition_count                       int64\n",
            "multiple_condition_count              int64\n",
            "cyclomatic_complexity                 int64\n",
            "cyclomatic_density                  float64\n",
            "decision_density                    float64\n",
            "design_complexity                     int64\n",
            "design_density                      float64\n",
            "normalized_cyclomatic_complexity    float64\n",
            "formal_parameters                     int64\n",
            "problems                               bool\n",
            "dtype: object\n"
          ]
        }
      ],
      "source": [
        "print(ar5_df.dtypes)"
      ]
    },
    {
      "cell_type": "code",
      "execution_count": null,
      "metadata": {
        "colab": {
          "base_uri": "https://localhost:8080/"
        },
        "id": "M6VydhjswOrU",
        "outputId": "c9b649af-520b-45ae-adb9-aa8ebc617ac3"
      },
      "outputs": [
        {
          "output_type": "stream",
          "name": "stdout",
          "text": [
            "total_loc                             int64\n",
            "blank_loc                             int64\n",
            "comment_loc                           int64\n",
            "code_and_comment_loc                  int64\n",
            "executable_loc                        int64\n",
            "unique_operands                       int64\n",
            "unique_operators                      int64\n",
            "total_operands                        int64\n",
            "total_operators                       int64\n",
            "halstead_vocabulary                   int64\n",
            "halstead_length                       int64\n",
            "halstead_volume                       int64\n",
            "halstead_level                      float64\n",
            "halstead_difficulty                 float64\n",
            "halstead_effort                     float64\n",
            "halstead_error                      float64\n",
            "halstead_time                       float64\n",
            "branch_count                        float64\n",
            "decision_count                        int64\n",
            "call_pairs                            int64\n",
            "condition_count                       int64\n",
            "multiple_condition_count              int64\n",
            "cyclomatic_complexity                 int64\n",
            "cyclomatic_density                  float64\n",
            "decision_density                    float64\n",
            "design_complexity                   float64\n",
            "design_density                      float64\n",
            "normalized_cyclomatic_complexity    float64\n",
            "formal_parameters                   float64\n",
            "problems                               bool\n",
            "dtype: object\n"
          ]
        }
      ],
      "source": [
        "print(ar6_df.dtypes)"
      ]
    },
    {
      "cell_type": "markdown",
      "metadata": {
        "id": "uLfxXDeOL8lK"
      },
      "source": [
        "####**Converting attribute type from object to bool of respective dataset**\n",
        "**kc2** is the only dataset that consist object type in **\"problems\"** attribute."
      ]
    },
    {
      "cell_type": "code",
      "execution_count": null,
      "metadata": {
        "id": "O6znT8S_KvTD"
      },
      "outputs": [],
      "source": [
        "kc2_df['problems'] = kc2_df['problems'].map({'yes':True ,'no':False})"
      ]
    },
    {
      "cell_type": "code",
      "execution_count": null,
      "metadata": {
        "colab": {
          "base_uri": "https://localhost:8080/"
        },
        "id": "gd2r1aWGKjKk",
        "outputId": "eaff6382-2bfe-425a-8a38-1dcba2bd52f5"
      },
      "outputs": [
        {
          "output_type": "stream",
          "name": "stdout",
          "text": [
            "l_count                    int64\n",
            "cyclomatic_complexity    float64\n",
            "essential_complexity       int64\n",
            "design_complexity          int64\n",
            "n                          int64\n",
            "v                        float64\n",
            "l                        float64\n",
            "d                        float64\n",
            "i                        float64\n",
            "e                        float64\n",
            "b                        float64\n",
            "t                        float64\n",
            "lOCode                     int64\n",
            "lOComment                  int64\n",
            "lOBlank                    int64\n",
            "lOCodeAndComment           int64\n",
            "uniq_Op                    int64\n",
            "uniq_Opnd                  int64\n",
            "total_Op                   int64\n",
            "total_Opnd                 int64\n",
            "branchCount                int64\n",
            "problems                    bool\n",
            "dtype: object\n"
          ]
        }
      ],
      "source": [
        "print(kc2_df.dtypes)"
      ]
    },
    {
      "cell_type": "markdown",
      "metadata": {
        "id": "WtgwO0OYyfAH"
      },
      "source": [
        "####**Checking for null values**"
      ]
    },
    {
      "cell_type": "code",
      "execution_count": null,
      "metadata": {
        "colab": {
          "base_uri": "https://localhost:8080/"
        },
        "id": "m0FyY8l0uj4g",
        "outputId": "fce6e8e6-d02e-4068-9add-b405ebae5386"
      },
      "outputs": [
        {
          "output_type": "execute_result",
          "data": {
            "text/plain": [
              "l_count                  0\n",
              "cyclomatic_complexity    0\n",
              "essential_complexity     0\n",
              "design_complexity        0\n",
              "n                        0\n",
              "v                        0\n",
              "l                        0\n",
              "d                        0\n",
              "i                        0\n",
              "e                        0\n",
              "b                        0\n",
              "t                        0\n",
              "lOCode                   0\n",
              "lOComment                0\n",
              "lOBlank                  0\n",
              "lOCodeAndComment         0\n",
              "uniq_Op                  0\n",
              "uniq_Opnd                0\n",
              "total_Op                 0\n",
              "total_Opnd               0\n",
              "branchCount              0\n",
              "problems                 0\n",
              "dtype: int64"
            ]
          },
          "metadata": {},
          "execution_count": 202
        }
      ],
      "source": [
        "kc1_df.isnull().sum()"
      ]
    },
    {
      "cell_type": "code",
      "execution_count": null,
      "metadata": {
        "colab": {
          "base_uri": "https://localhost:8080/"
        },
        "id": "-UMnC0T1ypP1",
        "outputId": "dc0dc150-a383-4e38-ab0a-0f3d504e5638"
      },
      "outputs": [
        {
          "output_type": "execute_result",
          "data": {
            "text/plain": [
              "l_count                  0\n",
              "cyclomatic_complexity    0\n",
              "essential_complexity     0\n",
              "design_complexity        0\n",
              "n                        0\n",
              "v                        0\n",
              "l                        0\n",
              "d                        0\n",
              "i                        0\n",
              "e                        0\n",
              "b                        0\n",
              "t                        0\n",
              "lOCode                   0\n",
              "lOComment                0\n",
              "lOBlank                  0\n",
              "lOCodeAndComment         0\n",
              "uniq_Op                  0\n",
              "uniq_Opnd                0\n",
              "total_Op                 0\n",
              "total_Opnd               0\n",
              "branchCount              0\n",
              "problems                 0\n",
              "dtype: int64"
            ]
          },
          "metadata": {},
          "execution_count": 203
        }
      ],
      "source": [
        "kc2_df.isnull().sum()"
      ]
    },
    {
      "cell_type": "code",
      "execution_count": null,
      "metadata": {
        "colab": {
          "base_uri": "https://localhost:8080/"
        },
        "id": "QosvYsA7ypYv",
        "outputId": "d4cf2217-387d-4565-bbd5-b3c88869c454"
      },
      "outputs": [
        {
          "output_type": "execute_result",
          "data": {
            "text/plain": [
              "l_count                  0\n",
              "cyclomatic_complexity    0\n",
              "essential_complexity     0\n",
              "design_complexity        0\n",
              "n                        0\n",
              "v                        0\n",
              "l                        0\n",
              "d                        0\n",
              "i                        0\n",
              "e                        0\n",
              "b                        0\n",
              "t                        0\n",
              "lOCode                   0\n",
              "lOComment                0\n",
              "lOBlank                  0\n",
              "lOCodeAndComment         0\n",
              "uniq_Op                  0\n",
              "uniq_Opnd                0\n",
              "total_Op                 0\n",
              "total_Opnd               0\n",
              "branchCount              0\n",
              "problems                 0\n",
              "dtype: int64"
            ]
          },
          "metadata": {},
          "execution_count": 204
        }
      ],
      "source": [
        "cm1_df.isnull().sum()"
      ]
    },
    {
      "cell_type": "code",
      "execution_count": null,
      "metadata": {
        "colab": {
          "base_uri": "https://localhost:8080/"
        },
        "id": "tTxQI9Ftypg3",
        "outputId": "b9c0ea74-2aaa-4e8e-caf0-c3e2c1df33b0"
      },
      "outputs": [
        {
          "output_type": "execute_result",
          "data": {
            "text/plain": [
              "l_count                  0\n",
              "cyclomatic_complexity    0\n",
              "essential_complexity     0\n",
              "design_complexity        0\n",
              "n                        0\n",
              "v                        0\n",
              "l                        0\n",
              "d                        0\n",
              "i                        0\n",
              "e                        0\n",
              "b                        0\n",
              "t                        0\n",
              "lOCode                   0\n",
              "lOComment                0\n",
              "lOBlank                  0\n",
              "lOCodeAndComment         0\n",
              "uniq_Op                  0\n",
              "uniq_Opnd                0\n",
              "total_Op                 0\n",
              "total_Opnd               0\n",
              "branchCount              0\n",
              "problems                 0\n",
              "dtype: int64"
            ]
          },
          "metadata": {},
          "execution_count": 205
        }
      ],
      "source": [
        "pc1_df.isnull().sum()"
      ]
    },
    {
      "cell_type": "code",
      "execution_count": null,
      "metadata": {
        "colab": {
          "base_uri": "https://localhost:8080/"
        },
        "id": "3WWz-gtfypqS",
        "outputId": "9aeb22fe-cc08-4748-8693-d0400fb6c03e"
      },
      "outputs": [
        {
          "output_type": "execute_result",
          "data": {
            "text/plain": [
              "l_count                  0\n",
              "cyclomatic_complexity    0\n",
              "essential_complexity     0\n",
              "design_complexity        0\n",
              "n                        0\n",
              "v                        0\n",
              "l                        0\n",
              "d                        0\n",
              "i                        0\n",
              "e                        0\n",
              "b                        0\n",
              "t                        0\n",
              "lOCode                   0\n",
              "lOComment                0\n",
              "lOBlank                  0\n",
              "lOCodeAndComment         0\n",
              "uniq_Op                  0\n",
              "uniq_Opnd                0\n",
              "total_Op                 0\n",
              "total_Opnd               0\n",
              "branchCount              0\n",
              "problems                 0\n",
              "dtype: int64"
            ]
          },
          "metadata": {},
          "execution_count": 206
        }
      ],
      "source": [
        "jm1_df.isnull().sum()"
      ]
    },
    {
      "cell_type": "code",
      "execution_count": null,
      "metadata": {
        "colab": {
          "base_uri": "https://localhost:8080/"
        },
        "id": "dvT5qhj5ypy1",
        "outputId": "67827ac4-af10-433a-9dbd-db80b8b5a51a"
      },
      "outputs": [
        {
          "output_type": "execute_result",
          "data": {
            "text/plain": [
              "total_loc                           0\n",
              "blank_loc                           0\n",
              "comment_loc                         0\n",
              "code_and_comment_loc                0\n",
              "executable_loc                      0\n",
              "unique_operands                     0\n",
              "unique_operators                    0\n",
              "total_operands                      0\n",
              "total_operators                     0\n",
              "halstead_vocabulary                 0\n",
              "halstead_length                     0\n",
              "halstead_volume                     0\n",
              "halstead_level                      0\n",
              "halstead_difficulty                 0\n",
              "halstead_effort                     0\n",
              "halstead_error                      0\n",
              "halstead_time                       0\n",
              "branch_count                        0\n",
              "decision_count                      0\n",
              "call_pairs                          0\n",
              "condition_count                     0\n",
              "multiple_condition_count            0\n",
              "cyclomatic_complexity               0\n",
              "cyclomatic_density                  0\n",
              "decision_density                    0\n",
              "design_complexity                   0\n",
              "design_density                      0\n",
              "normalized_cyclomatic_complexity    0\n",
              "formal_parameters                   0\n",
              "problems                            0\n",
              "dtype: int64"
            ]
          },
          "metadata": {},
          "execution_count": 207
        }
      ],
      "source": [
        "ar1_df.isnull().sum()"
      ]
    },
    {
      "cell_type": "code",
      "execution_count": null,
      "metadata": {
        "colab": {
          "base_uri": "https://localhost:8080/"
        },
        "id": "SmQd8tHmyp6T",
        "outputId": "8d821db4-bd67-4854-8549-2f5b07428dd4"
      },
      "outputs": [
        {
          "output_type": "execute_result",
          "data": {
            "text/plain": [
              "total_loc                           0\n",
              "blank_loc                           0\n",
              "comment_loc                         0\n",
              "code_and_comment_loc                0\n",
              "executable_loc                      0\n",
              "unique_operands                     0\n",
              "unique_operators                    0\n",
              "total_operands                      0\n",
              "total_operators                     0\n",
              "halstead_vocabulary                 0\n",
              "halstead_length                     0\n",
              "halstead_volume                     0\n",
              "halstead_level                      0\n",
              "halstead_difficulty                 0\n",
              "halstead_effort                     0\n",
              "halstead_error                      0\n",
              "halstead_time                       0\n",
              "branch_count                        0\n",
              "decision_count                      0\n",
              "call_pairs                          0\n",
              "condition_count                     0\n",
              "multiple_condition_count            0\n",
              "cyclomatic_complexity               0\n",
              "cyclomatic_density                  0\n",
              "decision_density                    0\n",
              "design_complexity                   0\n",
              "design_density                      0\n",
              "normalized_cyclomatic_complexity    0\n",
              "formal_parameters                   0\n",
              "problems                            0\n",
              "dtype: int64"
            ]
          },
          "metadata": {},
          "execution_count": 208
        }
      ],
      "source": [
        "ar3_df.isnull().sum()"
      ]
    },
    {
      "cell_type": "code",
      "execution_count": null,
      "metadata": {
        "colab": {
          "base_uri": "https://localhost:8080/"
        },
        "id": "tdqaEBs-yqEN",
        "outputId": "6435d5af-de54-474f-f65c-2617d02842a8"
      },
      "outputs": [
        {
          "output_type": "execute_result",
          "data": {
            "text/plain": [
              "total_loc                           0\n",
              "blank_loc                           0\n",
              "comment_loc                         0\n",
              "code_and_comment_loc                0\n",
              "executable_loc                      0\n",
              "unique_operands                     0\n",
              "unique_operators                    0\n",
              "total_operands                      0\n",
              "total_operators                     0\n",
              "halstead_vocabulary                 0\n",
              "halstead_length                     0\n",
              "halstead_volume                     0\n",
              "halstead_level                      0\n",
              "halstead_difficulty                 0\n",
              "halstead_effort                     0\n",
              "halstead_error                      0\n",
              "halstead_time                       0\n",
              "branch_count                        0\n",
              "decision_count                      0\n",
              "call_pairs                          0\n",
              "condition_count                     0\n",
              "multiple_condition_count            0\n",
              "cyclomatic_complexity               0\n",
              "cyclomatic_density                  0\n",
              "decision_density                    0\n",
              "design_complexity                   0\n",
              "design_density                      0\n",
              "normalized_cyclomatic_complexity    0\n",
              "formal_parameters                   0\n",
              "problems                            0\n",
              "dtype: int64"
            ]
          },
          "metadata": {},
          "execution_count": 209
        }
      ],
      "source": [
        "ar4_df.isnull().sum()"
      ]
    },
    {
      "cell_type": "code",
      "execution_count": null,
      "metadata": {
        "colab": {
          "base_uri": "https://localhost:8080/"
        },
        "id": "DEVyYJXsyqNO",
        "outputId": "9c58c741-7521-4d5c-a250-3fe862875c74"
      },
      "outputs": [
        {
          "output_type": "execute_result",
          "data": {
            "text/plain": [
              "total_loc                           0\n",
              "blank_loc                           0\n",
              "comment_loc                         0\n",
              "code_and_comment_loc                0\n",
              "executable_loc                      0\n",
              "unique_operands                     0\n",
              "unique_operators                    0\n",
              "total_operands                      0\n",
              "total_operators                     0\n",
              "halstead_vocabulary                 0\n",
              "halstead_length                     0\n",
              "halstead_volume                     0\n",
              "halstead_level                      0\n",
              "halstead_difficulty                 0\n",
              "halstead_effort                     0\n",
              "halstead_error                      0\n",
              "halstead_time                       0\n",
              "branch_count                        0\n",
              "decision_count                      0\n",
              "call_pairs                          0\n",
              "condition_count                     0\n",
              "multiple_condition_count            0\n",
              "cyclomatic_complexity               0\n",
              "cyclomatic_density                  0\n",
              "decision_density                    0\n",
              "design_complexity                   0\n",
              "design_density                      0\n",
              "normalized_cyclomatic_complexity    0\n",
              "formal_parameters                   0\n",
              "problems                            0\n",
              "dtype: int64"
            ]
          },
          "metadata": {},
          "execution_count": 210
        }
      ],
      "source": [
        "ar5_df.isnull().sum()"
      ]
    },
    {
      "cell_type": "code",
      "execution_count": null,
      "metadata": {
        "colab": {
          "base_uri": "https://localhost:8080/"
        },
        "id": "zV195jWzyscy",
        "outputId": "127e913d-2eef-465a-be2d-02929835ebfc"
      },
      "outputs": [
        {
          "output_type": "execute_result",
          "data": {
            "text/plain": [
              "total_loc                           0\n",
              "blank_loc                           0\n",
              "comment_loc                         0\n",
              "code_and_comment_loc                0\n",
              "executable_loc                      0\n",
              "unique_operands                     0\n",
              "unique_operators                    0\n",
              "total_operands                      0\n",
              "total_operators                     0\n",
              "halstead_vocabulary                 0\n",
              "halstead_length                     0\n",
              "halstead_volume                     0\n",
              "halstead_level                      0\n",
              "halstead_difficulty                 0\n",
              "halstead_effort                     0\n",
              "halstead_error                      0\n",
              "halstead_time                       0\n",
              "branch_count                        0\n",
              "decision_count                      0\n",
              "call_pairs                          0\n",
              "condition_count                     0\n",
              "multiple_condition_count            0\n",
              "cyclomatic_complexity               0\n",
              "cyclomatic_density                  0\n",
              "decision_density                    0\n",
              "design_complexity                   0\n",
              "design_density                      0\n",
              "normalized_cyclomatic_complexity    0\n",
              "formal_parameters                   0\n",
              "problems                            0\n",
              "dtype: int64"
            ]
          },
          "metadata": {},
          "execution_count": 211
        }
      ],
      "source": [
        "ar6_df.isnull().sum()"
      ]
    },
    {
      "cell_type": "markdown",
      "metadata": {
        "id": "raaBCTp95Saq"
      },
      "source": [
        "# Base measures: \n",
        "mu1             = number of unique operators<br>\n",
        "mu2             = number of unique operands<br>\n",
        "N1              = total occurrences of operators<br>\n",
        "N2              = total occurrences of operands<br>\n",
        "length     = N  = N1 + N2<br>\n",
        "vocabulary = mu = mu1 + mu2<br><br>\n",
        "**Constants set for each function:**<br>\n",
        "mu1' =  2 = potential operator count (just the function name and the \"return\" operator)<br>\n",
        "mu2'= potential operand count. (the number of arguments to the module)<br>    \n",
        "For example, the expression \"return max(w+x,x+y)\" has \"N1=4\" operators \"return, max, +,+)\", \"N2=4\" operands (w,x,x,y),\"mu1=3\" unique operators (return, max,+), and \"mu2=3\" unique operands (w,x,y).<br>\n",
        "<br> \n",
        "**Derived measures:**<br>\n",
        "P = volume = V = N * log2(mu) (the number of mental comparisons needed to write a program of length N)<br>\n",
        "V* = volume on minimal implementation = (2 + mu2')*log2(2 + mu2')<br>\n",
        "L  = program length = V*/N<br>\n",
        "D  = difficulty = 1/L<br>\n",
        "L' = 1/D <br>\n",
        "I  = intelligence = L'*V'<br>\n",
        "E  = effort to write program = V/L<br> \n",
        "T  = time to write program = E/18 seconds<br>"
      ]
    },
    {
      "cell_type": "markdown",
      "metadata": {
        "id": "ae06XloAM_F_"
      },
      "source": [
        "#**kc2 Dataset**"
      ]
    },
    {
      "cell_type": "code",
      "execution_count": null,
      "metadata": {
        "colab": {
          "base_uri": "https://localhost:8080/",
          "height": 487
        },
        "id": "ZF6j4rLE9LJt",
        "outputId": "fc16e061-459a-476e-a48a-2ff86d459075"
      },
      "outputs": [
        {
          "output_type": "execute_result",
          "data": {
            "text/plain": [
              "     l_count  cyclomatic_complexity  essential_complexity  design_complexity  \\\n",
              "0          1                    1.0                     1                  1   \n",
              "1        415                   59.0                    50                 51   \n",
              "2        230                   33.0                    10                 16   \n",
              "3        175                   26.0                    12                 13   \n",
              "4        163                   16.0                    13                 11   \n",
              "..       ...                    ...                   ...                ...   \n",
              "516        4                    1.0                     1                  1   \n",
              "517        4                    1.0                     1                  1   \n",
              "518        4                    1.0                     1                  1   \n",
              "519        4                    1.0                     1                  1   \n",
              "520        3                    1.0                     1                  1   \n",
              "\n",
              "        n        v     l       d       i          e  ...  lOCode  lOComment  \\\n",
              "0       1     1.00  1.00    1.00    1.00       1.00  ...       1          1   \n",
              "1    1159  8411.31  0.01  103.53   81.24  870848.58  ...     359         35   \n",
              "2     575  3732.82  0.03   39.82   93.74  148644.06  ...     174         15   \n",
              "3     500  3123.96  0.03   29.48  105.96   92103.07  ...     142          7   \n",
              "4     440  2714.77  0.03   32.25   84.14   87589.65  ...     139          2   \n",
              "..    ...      ...   ...     ...     ...        ...  ...     ...        ...   \n",
              "516     5    11.61  0.50    2.00    5.80      23.22  ...       2          0   \n",
              "517     4     8.00  0.67    1.50    5.33      12.00  ...       2          0   \n",
              "518     4     8.00  0.67    1.50    5.33      12.00  ...       2          0   \n",
              "519     5    11.61  0.67    1.50    7.74      17.41  ...       2          0   \n",
              "520     1     0.00  0.00    0.00    0.00       0.00  ...       1          0   \n",
              "\n",
              "     lOBlank  lOCodeAndComment  uniq_Op  uniq_Opnd  total_Op  total_Opnd  \\\n",
              "0          1                 1        1          1         1           1   \n",
              "1          9                10       47        106       692         467   \n",
              "2         34                 5       23         67       343         232   \n",
              "3         19                 4       18         58       310         190   \n",
              "4         20                 0       19         53       260         180   \n",
              "..       ...               ...      ...        ...       ...         ...   \n",
              "516        0                 0        4          1         4           1   \n",
              "517        0                 0        3          1         3           1   \n",
              "518        0                 0        3          1         3           1   \n",
              "519        0                 0        3          2         3           2   \n",
              "520        0                 0        1          0         1           0   \n",
              "\n",
              "     branchCount  problems  \n",
              "0              1      True  \n",
              "1            106      True  \n",
              "2             65      True  \n",
              "3             51      True  \n",
              "4             31      True  \n",
              "..           ...       ...  \n",
              "516            1      True  \n",
              "517            1      True  \n",
              "518            1      True  \n",
              "519            1      True  \n",
              "520            1      True  \n",
              "\n",
              "[521 rows x 22 columns]"
            ],
            "text/html": [
              "\n",
              "  <div id=\"df-3bddd95e-645d-403c-b995-5a9a538f4937\">\n",
              "    <div class=\"colab-df-container\">\n",
              "      <div>\n",
              "<style scoped>\n",
              "    .dataframe tbody tr th:only-of-type {\n",
              "        vertical-align: middle;\n",
              "    }\n",
              "\n",
              "    .dataframe tbody tr th {\n",
              "        vertical-align: top;\n",
              "    }\n",
              "\n",
              "    .dataframe thead th {\n",
              "        text-align: right;\n",
              "    }\n",
              "</style>\n",
              "<table border=\"1\" class=\"dataframe\">\n",
              "  <thead>\n",
              "    <tr style=\"text-align: right;\">\n",
              "      <th></th>\n",
              "      <th>l_count</th>\n",
              "      <th>cyclomatic_complexity</th>\n",
              "      <th>essential_complexity</th>\n",
              "      <th>design_complexity</th>\n",
              "      <th>n</th>\n",
              "      <th>v</th>\n",
              "      <th>l</th>\n",
              "      <th>d</th>\n",
              "      <th>i</th>\n",
              "      <th>e</th>\n",
              "      <th>...</th>\n",
              "      <th>lOCode</th>\n",
              "      <th>lOComment</th>\n",
              "      <th>lOBlank</th>\n",
              "      <th>lOCodeAndComment</th>\n",
              "      <th>uniq_Op</th>\n",
              "      <th>uniq_Opnd</th>\n",
              "      <th>total_Op</th>\n",
              "      <th>total_Opnd</th>\n",
              "      <th>branchCount</th>\n",
              "      <th>problems</th>\n",
              "    </tr>\n",
              "  </thead>\n",
              "  <tbody>\n",
              "    <tr>\n",
              "      <th>0</th>\n",
              "      <td>1</td>\n",
              "      <td>1.0</td>\n",
              "      <td>1</td>\n",
              "      <td>1</td>\n",
              "      <td>1</td>\n",
              "      <td>1.00</td>\n",
              "      <td>1.00</td>\n",
              "      <td>1.00</td>\n",
              "      <td>1.00</td>\n",
              "      <td>1.00</td>\n",
              "      <td>...</td>\n",
              "      <td>1</td>\n",
              "      <td>1</td>\n",
              "      <td>1</td>\n",
              "      <td>1</td>\n",
              "      <td>1</td>\n",
              "      <td>1</td>\n",
              "      <td>1</td>\n",
              "      <td>1</td>\n",
              "      <td>1</td>\n",
              "      <td>True</td>\n",
              "    </tr>\n",
              "    <tr>\n",
              "      <th>1</th>\n",
              "      <td>415</td>\n",
              "      <td>59.0</td>\n",
              "      <td>50</td>\n",
              "      <td>51</td>\n",
              "      <td>1159</td>\n",
              "      <td>8411.31</td>\n",
              "      <td>0.01</td>\n",
              "      <td>103.53</td>\n",
              "      <td>81.24</td>\n",
              "      <td>870848.58</td>\n",
              "      <td>...</td>\n",
              "      <td>359</td>\n",
              "      <td>35</td>\n",
              "      <td>9</td>\n",
              "      <td>10</td>\n",
              "      <td>47</td>\n",
              "      <td>106</td>\n",
              "      <td>692</td>\n",
              "      <td>467</td>\n",
              "      <td>106</td>\n",
              "      <td>True</td>\n",
              "    </tr>\n",
              "    <tr>\n",
              "      <th>2</th>\n",
              "      <td>230</td>\n",
              "      <td>33.0</td>\n",
              "      <td>10</td>\n",
              "      <td>16</td>\n",
              "      <td>575</td>\n",
              "      <td>3732.82</td>\n",
              "      <td>0.03</td>\n",
              "      <td>39.82</td>\n",
              "      <td>93.74</td>\n",
              "      <td>148644.06</td>\n",
              "      <td>...</td>\n",
              "      <td>174</td>\n",
              "      <td>15</td>\n",
              "      <td>34</td>\n",
              "      <td>5</td>\n",
              "      <td>23</td>\n",
              "      <td>67</td>\n",
              "      <td>343</td>\n",
              "      <td>232</td>\n",
              "      <td>65</td>\n",
              "      <td>True</td>\n",
              "    </tr>\n",
              "    <tr>\n",
              "      <th>3</th>\n",
              "      <td>175</td>\n",
              "      <td>26.0</td>\n",
              "      <td>12</td>\n",
              "      <td>13</td>\n",
              "      <td>500</td>\n",
              "      <td>3123.96</td>\n",
              "      <td>0.03</td>\n",
              "      <td>29.48</td>\n",
              "      <td>105.96</td>\n",
              "      <td>92103.07</td>\n",
              "      <td>...</td>\n",
              "      <td>142</td>\n",
              "      <td>7</td>\n",
              "      <td>19</td>\n",
              "      <td>4</td>\n",
              "      <td>18</td>\n",
              "      <td>58</td>\n",
              "      <td>310</td>\n",
              "      <td>190</td>\n",
              "      <td>51</td>\n",
              "      <td>True</td>\n",
              "    </tr>\n",
              "    <tr>\n",
              "      <th>4</th>\n",
              "      <td>163</td>\n",
              "      <td>16.0</td>\n",
              "      <td>13</td>\n",
              "      <td>11</td>\n",
              "      <td>440</td>\n",
              "      <td>2714.77</td>\n",
              "      <td>0.03</td>\n",
              "      <td>32.25</td>\n",
              "      <td>84.14</td>\n",
              "      <td>87589.65</td>\n",
              "      <td>...</td>\n",
              "      <td>139</td>\n",
              "      <td>2</td>\n",
              "      <td>20</td>\n",
              "      <td>0</td>\n",
              "      <td>19</td>\n",
              "      <td>53</td>\n",
              "      <td>260</td>\n",
              "      <td>180</td>\n",
              "      <td>31</td>\n",
              "      <td>True</td>\n",
              "    </tr>\n",
              "    <tr>\n",
              "      <th>...</th>\n",
              "      <td>...</td>\n",
              "      <td>...</td>\n",
              "      <td>...</td>\n",
              "      <td>...</td>\n",
              "      <td>...</td>\n",
              "      <td>...</td>\n",
              "      <td>...</td>\n",
              "      <td>...</td>\n",
              "      <td>...</td>\n",
              "      <td>...</td>\n",
              "      <td>...</td>\n",
              "      <td>...</td>\n",
              "      <td>...</td>\n",
              "      <td>...</td>\n",
              "      <td>...</td>\n",
              "      <td>...</td>\n",
              "      <td>...</td>\n",
              "      <td>...</td>\n",
              "      <td>...</td>\n",
              "      <td>...</td>\n",
              "      <td>...</td>\n",
              "    </tr>\n",
              "    <tr>\n",
              "      <th>516</th>\n",
              "      <td>4</td>\n",
              "      <td>1.0</td>\n",
              "      <td>1</td>\n",
              "      <td>1</td>\n",
              "      <td>5</td>\n",
              "      <td>11.61</td>\n",
              "      <td>0.50</td>\n",
              "      <td>2.00</td>\n",
              "      <td>5.80</td>\n",
              "      <td>23.22</td>\n",
              "      <td>...</td>\n",
              "      <td>2</td>\n",
              "      <td>0</td>\n",
              "      <td>0</td>\n",
              "      <td>0</td>\n",
              "      <td>4</td>\n",
              "      <td>1</td>\n",
              "      <td>4</td>\n",
              "      <td>1</td>\n",
              "      <td>1</td>\n",
              "      <td>True</td>\n",
              "    </tr>\n",
              "    <tr>\n",
              "      <th>517</th>\n",
              "      <td>4</td>\n",
              "      <td>1.0</td>\n",
              "      <td>1</td>\n",
              "      <td>1</td>\n",
              "      <td>4</td>\n",
              "      <td>8.00</td>\n",
              "      <td>0.67</td>\n",
              "      <td>1.50</td>\n",
              "      <td>5.33</td>\n",
              "      <td>12.00</td>\n",
              "      <td>...</td>\n",
              "      <td>2</td>\n",
              "      <td>0</td>\n",
              "      <td>0</td>\n",
              "      <td>0</td>\n",
              "      <td>3</td>\n",
              "      <td>1</td>\n",
              "      <td>3</td>\n",
              "      <td>1</td>\n",
              "      <td>1</td>\n",
              "      <td>True</td>\n",
              "    </tr>\n",
              "    <tr>\n",
              "      <th>518</th>\n",
              "      <td>4</td>\n",
              "      <td>1.0</td>\n",
              "      <td>1</td>\n",
              "      <td>1</td>\n",
              "      <td>4</td>\n",
              "      <td>8.00</td>\n",
              "      <td>0.67</td>\n",
              "      <td>1.50</td>\n",
              "      <td>5.33</td>\n",
              "      <td>12.00</td>\n",
              "      <td>...</td>\n",
              "      <td>2</td>\n",
              "      <td>0</td>\n",
              "      <td>0</td>\n",
              "      <td>0</td>\n",
              "      <td>3</td>\n",
              "      <td>1</td>\n",
              "      <td>3</td>\n",
              "      <td>1</td>\n",
              "      <td>1</td>\n",
              "      <td>True</td>\n",
              "    </tr>\n",
              "    <tr>\n",
              "      <th>519</th>\n",
              "      <td>4</td>\n",
              "      <td>1.0</td>\n",
              "      <td>1</td>\n",
              "      <td>1</td>\n",
              "      <td>5</td>\n",
              "      <td>11.61</td>\n",
              "      <td>0.67</td>\n",
              "      <td>1.50</td>\n",
              "      <td>7.74</td>\n",
              "      <td>17.41</td>\n",
              "      <td>...</td>\n",
              "      <td>2</td>\n",
              "      <td>0</td>\n",
              "      <td>0</td>\n",
              "      <td>0</td>\n",
              "      <td>3</td>\n",
              "      <td>2</td>\n",
              "      <td>3</td>\n",
              "      <td>2</td>\n",
              "      <td>1</td>\n",
              "      <td>True</td>\n",
              "    </tr>\n",
              "    <tr>\n",
              "      <th>520</th>\n",
              "      <td>3</td>\n",
              "      <td>1.0</td>\n",
              "      <td>1</td>\n",
              "      <td>1</td>\n",
              "      <td>1</td>\n",
              "      <td>0.00</td>\n",
              "      <td>0.00</td>\n",
              "      <td>0.00</td>\n",
              "      <td>0.00</td>\n",
              "      <td>0.00</td>\n",
              "      <td>...</td>\n",
              "      <td>1</td>\n",
              "      <td>0</td>\n",
              "      <td>0</td>\n",
              "      <td>0</td>\n",
              "      <td>1</td>\n",
              "      <td>0</td>\n",
              "      <td>1</td>\n",
              "      <td>0</td>\n",
              "      <td>1</td>\n",
              "      <td>True</td>\n",
              "    </tr>\n",
              "  </tbody>\n",
              "</table>\n",
              "<p>521 rows × 22 columns</p>\n",
              "</div>\n",
              "      <button class=\"colab-df-convert\" onclick=\"convertToInteractive('df-3bddd95e-645d-403c-b995-5a9a538f4937')\"\n",
              "              title=\"Convert this dataframe to an interactive table.\"\n",
              "              style=\"display:none;\">\n",
              "        \n",
              "  <svg xmlns=\"http://www.w3.org/2000/svg\" height=\"24px\"viewBox=\"0 0 24 24\"\n",
              "       width=\"24px\">\n",
              "    <path d=\"M0 0h24v24H0V0z\" fill=\"none\"/>\n",
              "    <path d=\"M18.56 5.44l.94 2.06.94-2.06 2.06-.94-2.06-.94-.94-2.06-.94 2.06-2.06.94zm-11 1L8.5 8.5l.94-2.06 2.06-.94-2.06-.94L8.5 2.5l-.94 2.06-2.06.94zm10 10l.94 2.06.94-2.06 2.06-.94-2.06-.94-.94-2.06-.94 2.06-2.06.94z\"/><path d=\"M17.41 7.96l-1.37-1.37c-.4-.4-.92-.59-1.43-.59-.52 0-1.04.2-1.43.59L10.3 9.45l-7.72 7.72c-.78.78-.78 2.05 0 2.83L4 21.41c.39.39.9.59 1.41.59.51 0 1.02-.2 1.41-.59l7.78-7.78 2.81-2.81c.8-.78.8-2.07 0-2.86zM5.41 20L4 18.59l7.72-7.72 1.47 1.35L5.41 20z\"/>\n",
              "  </svg>\n",
              "      </button>\n",
              "      \n",
              "  <style>\n",
              "    .colab-df-container {\n",
              "      display:flex;\n",
              "      flex-wrap:wrap;\n",
              "      gap: 12px;\n",
              "    }\n",
              "\n",
              "    .colab-df-convert {\n",
              "      background-color: #E8F0FE;\n",
              "      border: none;\n",
              "      border-radius: 50%;\n",
              "      cursor: pointer;\n",
              "      display: none;\n",
              "      fill: #1967D2;\n",
              "      height: 32px;\n",
              "      padding: 0 0 0 0;\n",
              "      width: 32px;\n",
              "    }\n",
              "\n",
              "    .colab-df-convert:hover {\n",
              "      background-color: #E2EBFA;\n",
              "      box-shadow: 0px 1px 2px rgba(60, 64, 67, 0.3), 0px 1px 3px 1px rgba(60, 64, 67, 0.15);\n",
              "      fill: #174EA6;\n",
              "    }\n",
              "\n",
              "    [theme=dark] .colab-df-convert {\n",
              "      background-color: #3B4455;\n",
              "      fill: #D2E3FC;\n",
              "    }\n",
              "\n",
              "    [theme=dark] .colab-df-convert:hover {\n",
              "      background-color: #434B5C;\n",
              "      box-shadow: 0px 1px 3px 1px rgba(0, 0, 0, 0.15);\n",
              "      filter: drop-shadow(0px 1px 2px rgba(0, 0, 0, 0.3));\n",
              "      fill: #FFFFFF;\n",
              "    }\n",
              "  </style>\n",
              "\n",
              "      <script>\n",
              "        const buttonEl =\n",
              "          document.querySelector('#df-3bddd95e-645d-403c-b995-5a9a538f4937 button.colab-df-convert');\n",
              "        buttonEl.style.display =\n",
              "          google.colab.kernel.accessAllowed ? 'block' : 'none';\n",
              "\n",
              "        async function convertToInteractive(key) {\n",
              "          const element = document.querySelector('#df-3bddd95e-645d-403c-b995-5a9a538f4937');\n",
              "          const dataTable =\n",
              "            await google.colab.kernel.invokeFunction('convertToInteractive',\n",
              "                                                     [key], {});\n",
              "          if (!dataTable) return;\n",
              "\n",
              "          const docLinkHtml = 'Like what you see? Visit the ' +\n",
              "            '<a target=\"_blank\" href=https://colab.research.google.com/notebooks/data_table.ipynb>data table notebook</a>'\n",
              "            + ' to learn more about interactive tables.';\n",
              "          element.innerHTML = '';\n",
              "          dataTable['output_type'] = 'display_data';\n",
              "          await google.colab.output.renderOutput(dataTable, element);\n",
              "          const docLink = document.createElement('div');\n",
              "          docLink.innerHTML = docLinkHtml;\n",
              "          element.appendChild(docLink);\n",
              "        }\n",
              "      </script>\n",
              "    </div>\n",
              "  </div>\n",
              "  "
            ]
          },
          "metadata": {},
          "execution_count": 212
        }
      ],
      "source": [
        "kc2_df"
      ]
    },
    {
      "cell_type": "markdown",
      "metadata": {
        "id": "NSdu3_jGkWar"
      },
      "source": [
        "##**Spiliting DataSet**\n",
        "\n",
        "Training: 80%\n",
        "Testing: 20%\n",
        "\n"
      ]
    },
    {
      "cell_type": "code",
      "execution_count": null,
      "metadata": {
        "id": "62a6lwZ82hrk"
      },
      "outputs": [],
      "source": [
        "x_kc2 = kc2_df.iloc[:,:-1]\n",
        "y_kc2 = kc2_df.iloc[:,-1]"
      ]
    },
    {
      "cell_type": "code",
      "execution_count": null,
      "metadata": {
        "id": "4gBuucU5AT92"
      },
      "outputs": [],
      "source": [
        "from sklearn.model_selection import train_test_split\n",
        "x_train, x_test, y_train, y_test = train_test_split(x_kc2,y_kc2,test_size=0.20,random_state=0, stratify=kc2_df.problems)"
      ]
    },
    {
      "cell_type": "code",
      "source": [
        "import seaborn as sns\n",
        "\n",
        "plt.rcParams['figure.figsize']=(12,6)\n",
        "plt.rcParams['font.size']=14\n",
        "plt.title('kc2 Dataset')\n",
        "sns.set_style(\"darkgrid\")\n",
        "\n",
        "sns.countplot(kc2_df.problems);"
      ],
      "metadata": {
        "colab": {
          "base_uri": "https://localhost:8080/",
          "height": 413
        },
        "id": "M80PQ2QxXsn_",
        "outputId": "ddf5a33e-54a4-4da5-d3a2-8cf2fee53e90"
      },
      "execution_count": null,
      "outputs": [
        {
          "output_type": "stream",
          "name": "stderr",
          "text": [
            "/usr/local/lib/python3.8/dist-packages/seaborn/_decorators.py:36: FutureWarning: Pass the following variable as a keyword arg: x. From version 0.12, the only valid positional argument will be `data`, and passing other arguments without an explicit keyword will result in an error or misinterpretation.\n",
            "  warnings.warn(\n"
          ]
        },
        {
          "output_type": "display_data",
          "data": {
            "text/plain": [
              "<Figure size 864x432 with 1 Axes>"
            ],
            "image/png": "[encoded data removed]"
          },
          "metadata": {}
        }
      ]
    },
    {
      "cell_type": "code",
      "source": [
        "import seaborn as sns\n",
        "\n",
        "plt.rcParams['figure.figsize']=(12,6)\n",
        "plt.rcParams['font.size']=14\n",
        "plt.title('AR1 Dataset')\n",
        "sns.set_style(\"darkgrid\")\n",
        "\n",
        "sns.countplot(y_train);\n"
      ],
      "metadata": {
        "colab": {
          "base_uri": "https://localhost:8080/",
          "height": 413
        },
        "id": "0Zv95vcnXByb",
        "outputId": "25957a60-c08b-46e7-c947-707a8a7933d1"
      },
      "execution_count": null,
      "outputs": [
        {
          "output_type": "stream",
          "name": "stderr",
          "text": [
            "/usr/local/lib/python3.8/dist-packages/seaborn/_decorators.py:36: FutureWarning: Pass the following variable as a keyword arg: x. From version 0.12, the only valid positional argument will be `data`, and passing other arguments without an explicit keyword will result in an error or misinterpretation.\n",
            "  warnings.warn(\n"
          ]
        },
        {
          "output_type": "display_data",
          "data": {
            "text/plain": [
              "<Figure size 864x432 with 1 Axes>"
            ],
            "image/png": "[encoded data removed]"
          },
          "metadata": {}
        }
      ]
    },
    {
      "cell_type": "code",
      "execution_count": null,
      "metadata": {
        "id": "lydtzZ73INDh"
      },
      "outputs": [],
      "source": [
        "from sklearn.preprocessing import StandardScaler    \n",
        "st_x= StandardScaler()    \n",
        "x_train= st_x.fit_transform(x_train)    \n",
        "x_test= st_x.transform(x_test)  "
      ]
    },
    {
      "cell_type": "markdown",
      "metadata": {
        "id": "3elGnawcS4Dy"
      },
      "source": [
        "##**Logistic Regression**"
      ]
    },
    {
      "cell_type": "code",
      "execution_count": null,
      "metadata": {
        "colab": {
          "base_uri": "https://localhost:8080/"
        },
        "id": "rXd4MpTCBIbg",
        "outputId": "4032c756-9e57-4a27-d49e-23955ba3a671"
      },
      "outputs": [
        {
          "output_type": "execute_result",
          "data": {
            "text/plain": [
              "LogisticRegression(random_state=0)"
            ]
          },
          "metadata": {},
          "execution_count": 218
        }
      ],
      "source": [
        "from sklearn.linear_model import LogisticRegression  \n",
        "classifier= LogisticRegression(random_state=0)  \n",
        "classifier.fit(x_train, y_train)  "
      ]
    },
    {
      "cell_type": "code",
      "execution_count": null,
      "metadata": {
        "colab": {
          "base_uri": "https://localhost:8080/"
        },
        "id": "iLg-UyORJ58y",
        "outputId": "09ba2e4b-5f77-4747-eb0a-f71689ba1c67"
      },
      "outputs": [
        {
          "output_type": "stream",
          "name": "stdout",
          "text": [
            "[False False  True False False False  True False False False False False\n",
            " False False False False False False False False False False  True False\n",
            " False False False False False False  True False False False False False\n",
            " False False False False False False False False False False False  True\n",
            " False False False False False False False False False False False False\n",
            " False False  True False False False False False  True False False False\n",
            "  True False False False False False False False False False False False\n",
            " False False False False  True False False False False False False False\n",
            "  True False False False False False  True False  True]\n"
          ]
        }
      ],
      "source": [
        "y_pred= classifier.predict(x_test)  \n",
        "print(y_pred)"
      ]
    },
    {
      "cell_type": "code",
      "execution_count": null,
      "metadata": {
        "colab": {
          "base_uri": "https://localhost:8080/"
        },
        "id": "xY_d74OzP40n",
        "outputId": "c62769b5-71bb-41dd-ed93-4044b73cfeff"
      },
      "outputs": [
        {
          "output_type": "stream",
          "name": "stdout",
          "text": [
            "[[77  6]\n",
            " [16  6]]\n"
          ]
        }
      ],
      "source": [
        "from sklearn.metrics import confusion_matrix  \n",
        "cm= confusion_matrix(y_test,y_pred)\n",
        "print(cm)"
      ]
    },
    {
      "cell_type": "code",
      "execution_count": null,
      "metadata": {
        "colab": {
          "base_uri": "https://localhost:8080/"
        },
        "id": "fLF3yYWlQ02H",
        "outputId": "25d96b06-80d1-437e-9bcb-ba5cb42e22b4"
      },
      "outputs": [
        {
          "output_type": "execute_result",
          "data": {
            "text/plain": [
              "0.7904761904761904"
            ]
          },
          "metadata": {},
          "execution_count": 221
        }
      ],
      "source": [
        "from sklearn.metrics import accuracy_score\n",
        "accuracy_score(y_test, y_pred)"
      ]
    },
    {
      "cell_type": "code",
      "execution_count": null,
      "metadata": {
        "colab": {
          "base_uri": "https://localhost:8080/"
        },
        "id": "DqmghcGHQcnV",
        "outputId": "06154649-bad5-466a-cb9a-5f504787bc60"
      },
      "outputs": [
        {
          "output_type": "stream",
          "name": "stdout",
          "text": [
            "Test Accuracy Score:  0.7904761904761904\n"
          ]
        }
      ],
      "source": [
        "score_ = accuracy_score(y_test, y_pred)\n",
        "print(\"Test Accuracy Score: \", score_)"
      ]
    },
    {
      "cell_type": "markdown",
      "metadata": {
        "id": "TrWnHp5FS-2H"
      },
      "source": [
        "##**Support Vector Machine Algorithm**"
      ]
    },
    {
      "cell_type": "code",
      "execution_count": null,
      "metadata": {
        "colab": {
          "base_uri": "https://localhost:8080/"
        },
        "id": "aKcQfPnze-Gu",
        "outputId": "3db3f5a9-4752-48a3-bf8d-372d1eee0646"
      },
      "outputs": [
        {
          "output_type": "execute_result",
          "data": {
            "text/plain": [
              "SVC(random_state=0)"
            ]
          },
          "metadata": {},
          "execution_count": 223
        }
      ],
      "source": [
        "from sklearn.svm import SVC # \"Support vector classifier\"  \n",
        "classifier = SVC(kernel='rbf', random_state=0)  \n",
        "classifier.fit(x_train, y_train)  "
      ]
    },
    {
      "cell_type": "code",
      "execution_count": null,
      "metadata": {
        "id": "3obHQz-PfCrF"
      },
      "outputs": [],
      "source": [
        "#Predicting the test set result  \n",
        "y_pred= classifier.predict(x_test)  "
      ]
    },
    {
      "cell_type": "code",
      "execution_count": null,
      "metadata": {
        "colab": {
          "base_uri": "https://localhost:8080/"
        },
        "id": "P4qc2m0jfGEY",
        "outputId": "f1d5dade-7664-421a-d3ad-d22545affac1"
      },
      "outputs": [
        {
          "output_type": "stream",
          "name": "stdout",
          "text": [
            "[[79  4]\n",
            " [16  6]]\n"
          ]
        }
      ],
      "source": [
        "from sklearn.metrics import confusion_matrix  \n",
        "cm= confusion_matrix(y_test, y_pred)  \n",
        "print(cm)"
      ]
    },
    {
      "cell_type": "code",
      "execution_count": null,
      "metadata": {
        "colab": {
          "base_uri": "https://localhost:8080/"
        },
        "id": "Gv4ZR7q1fHiw",
        "outputId": "714bcf0f-3a7a-4498-bf83-599141892f18"
      },
      "outputs": [
        {
          "output_type": "stream",
          "name": "stdout",
          "text": [
            "Test Accuracy Score:  0.8095238095238095\n"
          ]
        }
      ],
      "source": [
        "score_ = accuracy_score(y_test, y_pred)\n",
        "print(\"Test Accuracy Score: \", score_)"
      ]
    },
    {
      "cell_type": "markdown",
      "metadata": {
        "id": "2gZ00TU_gBgh"
      },
      "source": [
        "##**Decision Tree Algorithm**"
      ]
    },
    {
      "cell_type": "code",
      "execution_count": null,
      "metadata": {
        "colab": {
          "base_uri": "https://localhost:8080/"
        },
        "id": "o08wfib1faBq",
        "outputId": "0b1d9aa1-559b-4566-aa2f-e0bd81c74d73"
      },
      "outputs": [
        {
          "output_type": "execute_result",
          "data": {
            "text/plain": [
              "DecisionTreeClassifier(criterion='entropy', random_state=0)"
            ]
          },
          "metadata": {},
          "execution_count": 227
        }
      ],
      "source": [
        "from sklearn.tree import DecisionTreeClassifier  \n",
        "classifier= DecisionTreeClassifier(criterion='entropy', random_state=0)  \n",
        "classifier.fit(x_train, y_train)  "
      ]
    },
    {
      "cell_type": "code",
      "execution_count": null,
      "metadata": {
        "id": "EvsbWpdFf2vq"
      },
      "outputs": [],
      "source": [
        "#Predicting the test set result  \n",
        "y_pred= classifier.predict(x_test)  "
      ]
    },
    {
      "cell_type": "code",
      "execution_count": null,
      "metadata": {
        "colab": {
          "base_uri": "https://localhost:8080/"
        },
        "id": "wMU8xI2Qf4jn",
        "outputId": "8d5987ee-0bca-442d-e20f-2f2c6bc74fe6"
      },
      "outputs": [
        {
          "output_type": "stream",
          "name": "stdout",
          "text": [
            "[[73 10]\n",
            " [12 10]]\n"
          ]
        }
      ],
      "source": [
        "#Creating the Confusion matrix  \n",
        "from sklearn.metrics import confusion_matrix  \n",
        "cm= confusion_matrix(y_test, y_pred) \n",
        "print(cm)"
      ]
    },
    {
      "cell_type": "code",
      "execution_count": null,
      "metadata": {
        "colab": {
          "base_uri": "https://localhost:8080/"
        },
        "id": "60J4Dj20gMp4",
        "outputId": "5a85c3a8-77f1-49dc-f0d0-b833750e5a57"
      },
      "outputs": [
        {
          "output_type": "stream",
          "name": "stdout",
          "text": [
            "Test Accuracy Score:  0.7904761904761904\n"
          ]
        }
      ],
      "source": [
        "score_ = accuracy_score(y_test, y_pred)\n",
        "print(\"Test Accuracy Score: \", score_)"
      ]
    },
    {
      "cell_type": "markdown",
      "metadata": {
        "id": "IOcu-_LNgVhh"
      },
      "source": [
        "##**Random Forest**"
      ]
    },
    {
      "cell_type": "code",
      "execution_count": null,
      "metadata": {
        "colab": {
          "base_uri": "https://localhost:8080/"
        },
        "id": "iHhb29cwgbYu",
        "outputId": "c287db9b-a5f5-4680-9255-bfe419defe2c"
      },
      "outputs": [
        {
          "output_type": "execute_result",
          "data": {
            "text/plain": [
              "RandomForestClassifier(criterion='entropy', n_estimators=10)"
            ]
          },
          "metadata": {},
          "execution_count": 231
        }
      ],
      "source": [
        "#Fitting Decision Tree classifier to the training set  \n",
        "from sklearn.ensemble import RandomForestClassifier  \n",
        "classifier= RandomForestClassifier(n_estimators= 10, criterion=\"entropy\")  \n",
        "classifier.fit(x_train, y_train)  "
      ]
    },
    {
      "cell_type": "code",
      "execution_count": null,
      "metadata": {
        "id": "tJLJ7Z--gsPV"
      },
      "outputs": [],
      "source": [
        "#Predicting the test set result  \n",
        "y_pred= classifier.predict(x_test)  "
      ]
    },
    {
      "cell_type": "code",
      "execution_count": null,
      "metadata": {
        "colab": {
          "base_uri": "https://localhost:8080/"
        },
        "id": "i2i9dfl7gvjU",
        "outputId": "e76c83ea-5c77-4b7c-f5b3-fb1e1bc15821"
      },
      "outputs": [
        {
          "output_type": "stream",
          "name": "stdout",
          "text": [
            "[[78  5]\n",
            " [14  8]]\n"
          ]
        }
      ],
      "source": [
        "#Creating the Confusion matrix  \n",
        "from sklearn.metrics import confusion_matrix  \n",
        "cm= confusion_matrix(y_test, y_pred)  \n",
        "print(cm)"
      ]
    },
    {
      "cell_type": "code",
      "execution_count": null,
      "metadata": {
        "colab": {
          "base_uri": "https://localhost:8080/"
        },
        "id": "JIL-iuuig3oC",
        "outputId": "9678e150-7786-452f-c2c6-05134cab1284"
      },
      "outputs": [
        {
          "output_type": "stream",
          "name": "stdout",
          "text": [
            "Test Accuracy Score:  0.819047619047619\n"
          ]
        }
      ],
      "source": [
        "score_ = accuracy_score(y_test, y_pred)\n",
        "print(\"Test Accuracy Score: \", score_)"
      ]
    },
    {
      "cell_type": "code",
      "execution_count": null,
      "metadata": {
        "id": "X5SBeZKMYoAL"
      },
      "outputs": [],
      "source": [
        "sk_folds = StratifiedKFold(n_splits = 5)\n",
        "\n",
        "scores = cross_val_score(classifier, x_kc2, y_kc2, cv = sk_folds)"
      ]
    },
    {
      "cell_type": "markdown",
      "metadata": {
        "id": "MbVVGq8XhE4Q"
      },
      "source": [
        "##**Bagging**"
      ]
    },
    {
      "cell_type": "code",
      "execution_count": null,
      "metadata": {
        "colab": {
          "base_uri": "https://localhost:8080/"
        },
        "id": "pVtX7uqEhJZ6",
        "outputId": "38872bcb-4d33-4e5f-edb9-c45474961409"
      },
      "outputs": [
        {
          "output_type": "execute_result",
          "data": {
            "text/plain": [
              "DecisionTreeClassifier(random_state=21)"
            ]
          },
          "metadata": {},
          "execution_count": 236
        }
      ],
      "source": [
        "from sklearn.tree import DecisionTreeClassifier\n",
        "dtree = DecisionTreeClassifier(random_state=21)\n",
        "dtree.fit(x_train,y_train)"
      ]
    },
    {
      "cell_type": "code",
      "execution_count": null,
      "metadata": {
        "colab": {
          "base_uri": "https://localhost:8080/"
        },
        "id": "Pwfy3qcOh456",
        "outputId": "e7ef35f5-4de3-414e-a322-30d6e84fa8ef"
      },
      "outputs": [
        {
          "output_type": "stream",
          "name": "stdout",
          "text": [
            "Train data accuracy: 0.9879807692307693\n",
            "Test data accuracy: 0.7333333333333333\n"
          ]
        }
      ],
      "source": [
        "y_pred = dtree.predict(x_test)\n",
        "\n",
        "print(\"Train data accuracy:\",accuracy_score(y_true = y_train, y_pred = dtree.predict(x_train)))\n",
        "print(\"Test data accuracy:\",accuracy_score(y_true = y_test, y_pred = y_pred))"
      ]
    },
    {
      "cell_type": "markdown",
      "metadata": {
        "id": "K21eL3UAi8WL"
      },
      "source": [
        "#**kc1 Dataset**"
      ]
    },
    {
      "cell_type": "code",
      "execution_count": null,
      "metadata": {
        "colab": {
          "base_uri": "https://localhost:8080/",
          "height": 487
        },
        "id": "9mtFFI0MjHE2",
        "outputId": "6e4a2327-0f50-4cb6-c8bb-fbee1aeac708"
      },
      "outputs": [
        {
          "output_type": "execute_result",
          "data": {
            "text/plain": [
              "      l_count  cyclomatic_complexity  essential_complexity  design_complexity  \\\n",
              "0           1                      1                     1                  1   \n",
              "1          83                     11                     1                 11   \n",
              "2          46                      8                     6                  8   \n",
              "3          25                      3                     1                  3   \n",
              "4          43                      3                     1                  3   \n",
              "...       ...                    ...                   ...                ...   \n",
              "2103       19                      2                     1                  2   \n",
              "2104       23                      3                     3                  3   \n",
              "2105        2                      1                     1                  1   \n",
              "2106       13                      1                     1                  1   \n",
              "2107       11                      2                     1                  2   \n",
              "\n",
              "        n       v     l      d      i         e  ...  lOCode  lOComment  \\\n",
              "0       1    1.00  1.00   1.00   1.00      1.00  ...       1          1   \n",
              "1     171  927.89  0.04  23.04  40.27  21378.61  ...      65         10   \n",
              "2     141  769.78  0.07  14.86  51.81  11436.73  ...      37          2   \n",
              "3      58  254.75  0.11   9.35  27.25   2381.95  ...      21          0   \n",
              "4     115  569.73  0.09  11.27  50.53   6423.73  ...      35          2   \n",
              "...   ...     ...   ...    ...    ...       ...  ...     ...        ...   \n",
              "2103   40  175.69  0.15   6.82  25.77   1197.90  ...      12          1   \n",
              "2104   60  278.63  0.10   9.69  28.75   2700.58  ...      18          1   \n",
              "2105    4    8.00  0.67   1.50   5.33     12.00  ...       0          0   \n",
              "2106   17   60.94  0.25   4.00  15.24    243.78  ...       6          0   \n",
              "2107   27  102.80  0.17   6.00  17.13    616.79  ...       9          0   \n",
              "\n",
              "      lOBlank  lOCodeAndComment  uniq_Op  uniq_Opnd  total_Op  total_Opnd  \\\n",
              "0           1                 1        1          1         1           1   \n",
              "1           6                 0       18         25       107          64   \n",
              "2           5                 0       16         28        89          52   \n",
              "3           2                 0       11         10        41          17   \n",
              "4           4                 0       11         20        74          41   \n",
              "...       ...               ...      ...        ...       ...         ...   \n",
              "2103        2                 0       10         11        25          15   \n",
              "2104        2                 0       12         13        39          21   \n",
              "2105        0                 0        3          1         3           1   \n",
              "2106        5                 0        6          6         9           8   \n",
              "2107        0                 0        8          6        18           9   \n",
              "\n",
              "      branchCount  problems  \n",
              "0               1      True  \n",
              "1              21      True  \n",
              "2              15      True  \n",
              "3               5      True  \n",
              "4               5      True  \n",
              "...           ...       ...  \n",
              "2103            3     False  \n",
              "2104            5     False  \n",
              "2105            1     False  \n",
              "2106            1     False  \n",
              "2107            3     False  \n",
              "\n",
              "[2108 rows x 22 columns]"
            ],
            "text/html": [
              "\n",
              "  <div id=\"df-6ac381fb-0e1a-4f4b-aa4d-4a8880d60433\">\n",
              "    <div class=\"colab-df-container\">\n",
              "      <div>\n",
              "<style scoped>\n",
              "    .dataframe tbody tr th:only-of-type {\n",
              "        vertical-align: middle;\n",
              "    }\n",
              "\n",
              "    .dataframe tbody tr th {\n",
              "        vertical-align: top;\n",
              "    }\n",
              "\n",
              "    .dataframe thead th {\n",
              "        text-align: right;\n",
              "    }\n",
              "</style>\n",
              "<table border=\"1\" class=\"dataframe\">\n",
              "  <thead>\n",
              "    <tr style=\"text-align: right;\">\n",
              "      <th></th>\n",
              "      <th>l_count</th>\n",
              "      <th>cyclomatic_complexity</th>\n",
              "      <th>essential_complexity</th>\n",
              "      <th>design_complexity</th>\n",
              "      <th>n</th>\n",
              "      <th>v</th>\n",
              "      <th>l</th>\n",
              "      <th>d</th>\n",
              "      <th>i</th>\n",
              "      <th>e</th>\n",
              "      <th>...</th>\n",
              "      <th>lOCode</th>\n",
              "      <th>lOComment</th>\n",
              "      <th>lOBlank</th>\n",
              "      <th>lOCodeAndComment</th>\n",
              "      <th>uniq_Op</th>\n",
              "      <th>uniq_Opnd</th>\n",
              "      <th>total_Op</th>\n",
              "      <th>total_Opnd</th>\n",
              "      <th>branchCount</th>\n",
              "      <th>problems</th>\n",
              "    </tr>\n",
              "  </thead>\n",
              "  <tbody>\n",
              "    <tr>\n",
              "      <th>0</th>\n",
              "      <td>1</td>\n",
              "      <td>1</td>\n",
              "      <td>1</td>\n",
              "      <td>1</td>\n",
              "      <td>1</td>\n",
              "      <td>1.00</td>\n",
              "      <td>1.00</td>\n",
              "      <td>1.00</td>\n",
              "      <td>1.00</td>\n",
              "      <td>1.00</td>\n",
              "      <td>...</td>\n",
              "      <td>1</td>\n",
              "      <td>1</td>\n",
              "      <td>1</td>\n",
              "      <td>1</td>\n",
              "      <td>1</td>\n",
              "      <td>1</td>\n",
              "      <td>1</td>\n",
              "      <td>1</td>\n",
              "      <td>1</td>\n",
              "      <td>True</td>\n",
              "    </tr>\n",
              "    <tr>\n",
              "      <th>1</th>\n",
              "      <td>83</td>\n",
              "      <td>11</td>\n",
              "      <td>1</td>\n",
              "      <td>11</td>\n",
              "      <td>171</td>\n",
              "      <td>927.89</td>\n",
              "      <td>0.04</td>\n",
              "      <td>23.04</td>\n",
              "      <td>40.27</td>\n",
              "      <td>21378.61</td>\n",
              "      <td>...</td>\n",
              "      <td>65</td>\n",
              "      <td>10</td>\n",
              "      <td>6</td>\n",
              "      <td>0</td>\n",
              "      <td>18</td>\n",
              "      <td>25</td>\n",
              "      <td>107</td>\n",
              "      <td>64</td>\n",
              "      <td>21</td>\n",
              "      <td>True</td>\n",
              "    </tr>\n",
              "    <tr>\n",
              "      <th>2</th>\n",
              "      <td>46</td>\n",
              "      <td>8</td>\n",
              "      <td>6</td>\n",
              "      <td>8</td>\n",
              "      <td>141</td>\n",
              "      <td>769.78</td>\n",
              "      <td>0.07</td>\n",
              "      <td>14.86</td>\n",
              "      <td>51.81</td>\n",
              "      <td>11436.73</td>\n",
              "      <td>...</td>\n",
              "      <td>37</td>\n",
              "      <td>2</td>\n",
              "      <td>5</td>\n",
              "      <td>0</td>\n",
              "      <td>16</td>\n",
              "      <td>28</td>\n",
              "      <td>89</td>\n",
              "      <td>52</td>\n",
              "      <td>15</td>\n",
              "      <td>True</td>\n",
              "    </tr>\n",
              "    <tr>\n",
              "      <th>3</th>\n",
              "      <td>25</td>\n",
              "      <td>3</td>\n",
              "      <td>1</td>\n",
              "      <td>3</td>\n",
              "      <td>58</td>\n",
              "      <td>254.75</td>\n",
              "      <td>0.11</td>\n",
              "      <td>9.35</td>\n",
              "      <td>27.25</td>\n",
              "      <td>2381.95</td>\n",
              "      <td>...</td>\n",
              "      <td>21</td>\n",
              "      <td>0</td>\n",
              "      <td>2</td>\n",
              "      <td>0</td>\n",
              "      <td>11</td>\n",
              "      <td>10</td>\n",
              "      <td>41</td>\n",
              "      <td>17</td>\n",
              "      <td>5</td>\n",
              "      <td>True</td>\n",
              "    </tr>\n",
              "    <tr>\n",
              "      <th>4</th>\n",
              "      <td>43</td>\n",
              "      <td>3</td>\n",
              "      <td>1</td>\n",
              "      <td>3</td>\n",
              "      <td>115</td>\n",
              "      <td>569.73</td>\n",
              "      <td>0.09</td>\n",
              "      <td>11.27</td>\n",
              "      <td>50.53</td>\n",
              "      <td>6423.73</td>\n",
              "      <td>...</td>\n",
              "      <td>35</td>\n",
              "      <td>2</td>\n",
              "      <td>4</td>\n",
              "      <td>0</td>\n",
              "      <td>11</td>\n",
              "      <td>20</td>\n",
              "      <td>74</td>\n",
              "      <td>41</td>\n",
              "      <td>5</td>\n",
              "      <td>True</td>\n",
              "    </tr>\n",
              "    <tr>\n",
              "      <th>...</th>\n",
              "      <td>...</td>\n",
              "      <td>...</td>\n",
              "      <td>...</td>\n",
              "      <td>...</td>\n",
              "      <td>...</td>\n",
              "      <td>...</td>\n",
              "      <td>...</td>\n",
              "      <td>...</td>\n",
              "      <td>...</td>\n",
              "      <td>...</td>\n",
              "      <td>...</td>\n",
              "      <td>...</td>\n",
              "      <td>...</td>\n",
              "      <td>...</td>\n",
              "      <td>...</td>\n",
              "      <td>...</td>\n",
              "      <td>...</td>\n",
              "      <td>...</td>\n",
              "      <td>...</td>\n",
              "      <td>...</td>\n",
              "      <td>...</td>\n",
              "    </tr>\n",
              "    <tr>\n",
              "      <th>2103</th>\n",
              "      <td>19</td>\n",
              "      <td>2</td>\n",
              "      <td>1</td>\n",
              "      <td>2</td>\n",
              "      <td>40</td>\n",
              "      <td>175.69</td>\n",
              "      <td>0.15</td>\n",
              "      <td>6.82</td>\n",
              "      <td>25.77</td>\n",
              "      <td>1197.90</td>\n",
              "      <td>...</td>\n",
              "      <td>12</td>\n",
              "      <td>1</td>\n",
              "      <td>2</td>\n",
              "      <td>0</td>\n",
              "      <td>10</td>\n",
              "      <td>11</td>\n",
              "      <td>25</td>\n",
              "      <td>15</td>\n",
              "      <td>3</td>\n",
              "      <td>False</td>\n",
              "    </tr>\n",
              "    <tr>\n",
              "      <th>2104</th>\n",
              "      <td>23</td>\n",
              "      <td>3</td>\n",
              "      <td>3</td>\n",
              "      <td>3</td>\n",
              "      <td>60</td>\n",
              "      <td>278.63</td>\n",
              "      <td>0.10</td>\n",
              "      <td>9.69</td>\n",
              "      <td>28.75</td>\n",
              "      <td>2700.58</td>\n",
              "      <td>...</td>\n",
              "      <td>18</td>\n",
              "      <td>1</td>\n",
              "      <td>2</td>\n",
              "      <td>0</td>\n",
              "      <td>12</td>\n",
              "      <td>13</td>\n",
              "      <td>39</td>\n",
              "      <td>21</td>\n",
              "      <td>5</td>\n",
              "      <td>False</td>\n",
              "    </tr>\n",
              "    <tr>\n",
              "      <th>2105</th>\n",
              "      <td>2</td>\n",
              "      <td>1</td>\n",
              "      <td>1</td>\n",
              "      <td>1</td>\n",
              "      <td>4</td>\n",
              "      <td>8.00</td>\n",
              "      <td>0.67</td>\n",
              "      <td>1.50</td>\n",
              "      <td>5.33</td>\n",
              "      <td>12.00</td>\n",
              "      <td>...</td>\n",
              "      <td>0</td>\n",
              "      <td>0</td>\n",
              "      <td>0</td>\n",
              "      <td>0</td>\n",
              "      <td>3</td>\n",
              "      <td>1</td>\n",
              "      <td>3</td>\n",
              "      <td>1</td>\n",
              "      <td>1</td>\n",
              "      <td>False</td>\n",
              "    </tr>\n",
              "    <tr>\n",
              "      <th>2106</th>\n",
              "      <td>13</td>\n",
              "      <td>1</td>\n",
              "      <td>1</td>\n",
              "      <td>1</td>\n",
              "      <td>17</td>\n",
              "      <td>60.94</td>\n",
              "      <td>0.25</td>\n",
              "      <td>4.00</td>\n",
              "      <td>15.24</td>\n",
              "      <td>243.78</td>\n",
              "      <td>...</td>\n",
              "      <td>6</td>\n",
              "      <td>0</td>\n",
              "      <td>5</td>\n",
              "      <td>0</td>\n",
              "      <td>6</td>\n",
              "      <td>6</td>\n",
              "      <td>9</td>\n",
              "      <td>8</td>\n",
              "      <td>1</td>\n",
              "      <td>False</td>\n",
              "    </tr>\n",
              "    <tr>\n",
              "      <th>2107</th>\n",
              "      <td>11</td>\n",
              "      <td>2</td>\n",
              "      <td>1</td>\n",
              "      <td>2</td>\n",
              "      <td>27</td>\n",
              "      <td>102.80</td>\n",
              "      <td>0.17</td>\n",
              "      <td>6.00</td>\n",
              "      <td>17.13</td>\n",
              "      <td>616.79</td>\n",
              "      <td>...</td>\n",
              "      <td>9</td>\n",
              "      <td>0</td>\n",
              "      <td>0</td>\n",
              "      <td>0</td>\n",
              "      <td>8</td>\n",
              "      <td>6</td>\n",
              "      <td>18</td>\n",
              "      <td>9</td>\n",
              "      <td>3</td>\n",
              "      <td>False</td>\n",
              "    </tr>\n",
              "  </tbody>\n",
              "</table>\n",
              "<p>2108 rows × 22 columns</p>\n",
              "</div>\n",
              "      <button class=\"colab-df-convert\" onclick=\"convertToInteractive('df-6ac381fb-0e1a-4f4b-aa4d-4a8880d60433')\"\n",
              "              title=\"Convert this dataframe to an interactive table.\"\n",
              "              style=\"display:none;\">\n",
              "        \n",
              "  <svg xmlns=\"http://www.w3.org/2000/svg\" height=\"24px\"viewBox=\"0 0 24 24\"\n",
              "       width=\"24px\">\n",
              "    <path d=\"M0 0h24v24H0V0z\" fill=\"none\"/>\n",
              "    <path d=\"M18.56 5.44l.94 2.06.94-2.06 2.06-.94-2.06-.94-.94-2.06-.94 2.06-2.06.94zm-11 1L8.5 8.5l.94-2.06 2.06-.94-2.06-.94L8.5 2.5l-.94 2.06-2.06.94zm10 10l.94 2.06.94-2.06 2.06-.94-2.06-.94-.94-2.06-.94 2.06-2.06.94z\"/><path d=\"M17.41 7.96l-1.37-1.37c-.4-.4-.92-.59-1.43-.59-.52 0-1.04.2-1.43.59L10.3 9.45l-7.72 7.72c-.78.78-.78 2.05 0 2.83L4 21.41c.39.39.9.59 1.41.59.51 0 1.02-.2 1.41-.59l7.78-7.78 2.81-2.81c.8-.78.8-2.07 0-2.86zM5.41 20L4 18.59l7.72-7.72 1.47 1.35L5.41 20z\"/>\n",
              "  </svg>\n",
              "      </button>\n",
              "      \n",
              "  <style>\n",
              "    .colab-df-container {\n",
              "      display:flex;\n",
              "      flex-wrap:wrap;\n",
              "      gap: 12px;\n",
              "    }\n",
              "\n",
              "    .colab-df-convert {\n",
              "      background-color: #E8F0FE;\n",
              "      border: none;\n",
              "      border-radius: 50%;\n",
              "      cursor: pointer;\n",
              "      display: none;\n",
              "      fill: #1967D2;\n",
              "      height: 32px;\n",
              "      padding: 0 0 0 0;\n",
              "      width: 32px;\n",
              "    }\n",
              "\n",
              "    .colab-df-convert:hover {\n",
              "      background-color: #E2EBFA;\n",
              "      box-shadow: 0px 1px 2px rgba(60, 64, 67, 0.3), 0px 1px 3px 1px rgba(60, 64, 67, 0.15);\n",
              "      fill: #174EA6;\n",
              "    }\n",
              "\n",
              "    [theme=dark] .colab-df-convert {\n",
              "      background-color: #3B4455;\n",
              "      fill: #D2E3FC;\n",
              "    }\n",
              "\n",
              "    [theme=dark] .colab-df-convert:hover {\n",
              "      background-color: #434B5C;\n",
              "      box-shadow: 0px 1px 3px 1px rgba(0, 0, 0, 0.15);\n",
              "      filter: drop-shadow(0px 1px 2px rgba(0, 0, 0, 0.3));\n",
              "      fill: #FFFFFF;\n",
              "    }\n",
              "  </style>\n",
              "\n",
              "      <script>\n",
              "        const buttonEl =\n",
              "          document.querySelector('#df-6ac381fb-0e1a-4f4b-aa4d-4a8880d60433 button.colab-df-convert');\n",
              "        buttonEl.style.display =\n",
              "          google.colab.kernel.accessAllowed ? 'block' : 'none';\n",
              "\n",
              "        async function convertToInteractive(key) {\n",
              "          const element = document.querySelector('#df-6ac381fb-0e1a-4f4b-aa4d-4a8880d60433');\n",
              "          const dataTable =\n",
              "            await google.colab.kernel.invokeFunction('convertToInteractive',\n",
              "                                                     [key], {});\n",
              "          if (!dataTable) return;\n",
              "\n",
              "          const docLinkHtml = 'Like what you see? Visit the ' +\n",
              "            '<a target=\"_blank\" href=https://colab.research.google.com/notebooks/data_table.ipynb>data table notebook</a>'\n",
              "            + ' to learn more about interactive tables.';\n",
              "          element.innerHTML = '';\n",
              "          dataTable['output_type'] = 'display_data';\n",
              "          await google.colab.output.renderOutput(dataTable, element);\n",
              "          const docLink = document.createElement('div');\n",
              "          docLink.innerHTML = docLinkHtml;\n",
              "          element.appendChild(docLink);\n",
              "        }\n",
              "      </script>\n",
              "    </div>\n",
              "  </div>\n",
              "  "
            ]
          },
          "metadata": {},
          "execution_count": 238
        }
      ],
      "source": [
        "kc1_df"
      ]
    },
    {
      "cell_type": "markdown",
      "metadata": {
        "id": "1sbjp2Et0HSm"
      },
      "source": [
        "####**Spiliting Dataset**\n",
        "training: 80% testing:20%"
      ]
    },
    {
      "cell_type": "code",
      "execution_count": null,
      "metadata": {
        "id": "gVF_Zy-y0HSm"
      },
      "outputs": [],
      "source": [
        "x = kc1_df.iloc[:,:-1]\n",
        "y = kc1_df.iloc[:,-1]\n",
        "\n",
        "from sklearn.model_selection import train_test_split\n",
        "x_train, x_test, y_train, y_test = train_test_split(x,y,test_size=0.20,random_state=0, stratify=kc1_df.problems)\n",
        "\n",
        "from sklearn.preprocessing import StandardScaler    \n",
        "st_x= StandardScaler()    \n",
        "x_train= st_x.fit_transform(x_train)    \n",
        "x_test= st_x.transform(x_test)  "
      ]
    },
    {
      "cell_type": "code",
      "source": [
        "import seaborn as sns\n",
        "\n",
        "plt.rcParams['figure.figsize']=(12,6)\n",
        "plt.rcParams['font.size']=14\n",
        "plt.title('kc2 Dataset')\n",
        "sns.set_style(\"darkgrid\")\n",
        "\n",
        "sns.countplot(kc2_df.problems);"
      ],
      "metadata": {
        "colab": {
          "base_uri": "https://localhost:8080/",
          "height": 413
        },
        "outputId": "09197160-2cb5-49c2-da7b-00a0914b2ee6",
        "id": "lSEb_csImJYk"
      },
      "execution_count": null,
      "outputs": [
        {
          "output_type": "stream",
          "name": "stderr",
          "text": [
            "/usr/local/lib/python3.8/dist-packages/seaborn/_decorators.py:36: FutureWarning: Pass the following variable as a keyword arg: x. From version 0.12, the only valid positional argument will be `data`, and passing other arguments without an explicit keyword will result in an error or misinterpretation.\n",
            "  warnings.warn(\n"
          ]
        },
        {
          "output_type": "display_data",
          "data": {
            "text/plain": [
              "<Figure size 864x432 with 1 Axes>"
            ],
            "image/png": "[encoded data removed]"
          },
          "metadata": {}
        }
      ]
    },
    {
      "cell_type": "code",
      "source": [
        "import seaborn as sns\n",
        "\n",
        "plt.rcParams['figure.figsize']=(12,6)\n",
        "plt.rcParams['font.size']=14\n",
        "plt.title('AR1 Dataset')\n",
        "sns.set_style(\"darkgrid\")\n",
        "\n",
        "sns.countplot(y_train);\n"
      ],
      "metadata": {
        "colab": {
          "base_uri": "https://localhost:8080/",
          "height": 409
        },
        "outputId": "9a2bb32f-fe5e-4ba5-a36d-e19b55022a4f",
        "id": "n594gRt9mJYm"
      },
      "execution_count": null,
      "outputs": [
        {
          "output_type": "stream",
          "name": "stderr",
          "text": [
            "/usr/local/lib/python3.8/dist-packages/seaborn/_decorators.py:36: FutureWarning: Pass the following variable as a keyword arg: x. From version 0.12, the only valid positional argument will be `data`, and passing other arguments without an explicit keyword will result in an error or misinterpretation.\n",
            "  warnings.warn(\n"
          ]
        },
        {
          "output_type": "display_data",
          "data": {
            "text/plain": [
              "<Figure size 864x432 with 1 Axes>"
            ],
            "image/png": "[encoded data removed]"
          },
          "metadata": {}
        }
      ]
    },
    {
      "cell_type": "markdown",
      "metadata": {
        "id": "aKFHpqeA0HSn"
      },
      "source": [
        "###**Logistic Regression**"
      ]
    },
    {
      "cell_type": "code",
      "execution_count": null,
      "metadata": {
        "colab": {
          "base_uri": "https://localhost:8080/"
        },
        "id": "PdWg4ydf0HSn",
        "outputId": "c635bfdf-2197-4dd6-962c-348c3a381e8f"
      },
      "outputs": [
        {
          "output_type": "stream",
          "name": "stdout",
          "text": [
            "Test Accuracy Score:  0.8601895734597157\n",
            "Confusion Matrix: \n",
            " [[350   7]\n",
            " [ 52  13]]\n"
          ]
        }
      ],
      "source": [
        "from sklearn.linear_model import LogisticRegression  \n",
        "classifier= LogisticRegression(random_state=0)  \n",
        "classifier.fit(x_train, y_train) \n",
        "\n",
        "y_pred= classifier.predict(x_test)\n",
        "\n",
        "score_ = accuracy_score(y_test, y_pred)\n",
        "print(\"Test Accuracy Score: \", score_)\n",
        "\n",
        "from sklearn.metrics import confusion_matrix  \n",
        "cm= confusion_matrix(y_test,y_pred)\n",
        "print(\"Confusion Matrix: \\n\",cm)"
      ]
    },
    {
      "cell_type": "markdown",
      "metadata": {
        "id": "23wM1f5V0HSo"
      },
      "source": [
        "###**Support Vector Machine Algorithm**"
      ]
    },
    {
      "cell_type": "code",
      "execution_count": null,
      "metadata": {
        "colab": {
          "base_uri": "https://localhost:8080/"
        },
        "id": "ckp8GqOF0HSo",
        "outputId": "79386d9d-70d3-4b22-a649-83c9c647ebcb"
      },
      "outputs": [
        {
          "output_type": "execute_result",
          "data": {
            "text/plain": [
              "SVC(random_state=0)"
            ]
          },
          "metadata": {},
          "execution_count": 243
        }
      ],
      "source": [
        "from sklearn.svm import SVC # \"Support vector classifier\"  \n",
        "classifier = SVC(kernel='rbf', random_state=0)  \n",
        "classifier.fit(x_train, y_train)  "
      ]
    },
    {
      "cell_type": "code",
      "execution_count": null,
      "metadata": {
        "id": "NyTpN-7k0HSp"
      },
      "outputs": [],
      "source": [
        "#Predicting the test set result  \n",
        "y_pred= classifier.predict(x_test)  "
      ]
    },
    {
      "cell_type": "code",
      "execution_count": null,
      "metadata": {
        "colab": {
          "base_uri": "https://localhost:8080/"
        },
        "id": "_HA5gYVZ0HSp",
        "outputId": "e7eca15c-7b40-4a7d-912d-ce11fa5c36d5"
      },
      "outputs": [
        {
          "output_type": "stream",
          "name": "stdout",
          "text": [
            "[[353   4]\n",
            " [ 57   8]]\n"
          ]
        }
      ],
      "source": [
        "from sklearn.metrics import confusion_matrix  \n",
        "cm= confusion_matrix(y_test, y_pred)  \n",
        "print(cm)"
      ]
    },
    {
      "cell_type": "code",
      "execution_count": null,
      "metadata": {
        "colab": {
          "base_uri": "https://localhost:8080/"
        },
        "id": "qlRE1wF40HSp",
        "outputId": "f8c8018e-de1b-4e75-c48b-f02799700084"
      },
      "outputs": [
        {
          "output_type": "stream",
          "name": "stdout",
          "text": [
            "Test Accuracy Score:  0.8554502369668247\n"
          ]
        }
      ],
      "source": [
        "score_ = accuracy_score(y_test, y_pred)\n",
        "print(\"Test Accuracy Score: \", score_)"
      ]
    },
    {
      "cell_type": "markdown",
      "metadata": {
        "id": "tnEXYeJ70HSq"
      },
      "source": [
        "##**Decision Tree Algorithm**"
      ]
    },
    {
      "cell_type": "code",
      "execution_count": null,
      "metadata": {
        "colab": {
          "base_uri": "https://localhost:8080/"
        },
        "id": "eekI-5AT0HSq",
        "outputId": "cab89164-c624-4524-8e0d-4822a9bc81a5"
      },
      "outputs": [
        {
          "output_type": "execute_result",
          "data": {
            "text/plain": [
              "DecisionTreeClassifier(criterion='entropy', random_state=0)"
            ]
          },
          "metadata": {},
          "execution_count": 247
        }
      ],
      "source": [
        "from sklearn.tree import DecisionTreeClassifier  \n",
        "classifier= DecisionTreeClassifier(criterion='entropy', random_state=0)  \n",
        "classifier.fit(x_train, y_train)  "
      ]
    },
    {
      "cell_type": "code",
      "execution_count": null,
      "metadata": {
        "id": "k2v0rrxK0HSq"
      },
      "outputs": [],
      "source": [
        "#Predicting the test set result  \n",
        "y_pred= classifier.predict(x_test)  "
      ]
    },
    {
      "cell_type": "code",
      "execution_count": null,
      "metadata": {
        "colab": {
          "base_uri": "https://localhost:8080/"
        },
        "id": "NShhK9AG0HSr",
        "outputId": "702093ad-bc96-4433-fec8-2be12d829312"
      },
      "outputs": [
        {
          "output_type": "stream",
          "name": "stdout",
          "text": [
            "[[321  36]\n",
            " [ 48  17]]\n"
          ]
        }
      ],
      "source": [
        "#Creating the Confusion matrix  \n",
        "from sklearn.metrics import confusion_matrix  \n",
        "cm= confusion_matrix(y_test, y_pred) \n",
        "print(cm)"
      ]
    },
    {
      "cell_type": "code",
      "execution_count": null,
      "metadata": {
        "colab": {
          "base_uri": "https://localhost:8080/"
        },
        "id": "Xp8t-ici0HSr",
        "outputId": "1fc6c8ff-454d-4563-a3ab-d11f54dce424"
      },
      "outputs": [
        {
          "output_type": "stream",
          "name": "stdout",
          "text": [
            "Test Accuracy Score:  0.8009478672985783\n"
          ]
        }
      ],
      "source": [
        "score_ = accuracy_score(y_test, y_pred)\n",
        "print(\"Test Accuracy Score: \", score_)"
      ]
    },
    {
      "cell_type": "markdown",
      "metadata": {
        "id": "EFttuLCN0HSr"
      },
      "source": [
        "##**Random Forest**"
      ]
    },
    {
      "cell_type": "code",
      "execution_count": null,
      "metadata": {
        "colab": {
          "base_uri": "https://localhost:8080/"
        },
        "id": "naCaFWbz0HSs",
        "outputId": "60204d2c-fe8a-431b-b22e-b10f003761c8"
      },
      "outputs": [
        {
          "output_type": "execute_result",
          "data": {
            "text/plain": [
              "RandomForestClassifier(criterion='entropy', n_estimators=10)"
            ]
          },
          "metadata": {},
          "execution_count": 251
        }
      ],
      "source": [
        "#Fitting Decision Tree classifier to the training set  \n",
        "from sklearn.ensemble import RandomForestClassifier  \n",
        "classifier= RandomForestClassifier(n_estimators= 10, criterion=\"entropy\")  \n",
        "classifier.fit(x_train, y_train)  "
      ]
    },
    {
      "cell_type": "code",
      "execution_count": null,
      "metadata": {
        "id": "NdEu3fgg0HSs"
      },
      "outputs": [],
      "source": [
        "#Predicting the test set result  \n",
        "y_pred= classifier.predict(x_test)  "
      ]
    },
    {
      "cell_type": "code",
      "execution_count": null,
      "metadata": {
        "colab": {
          "base_uri": "https://localhost:8080/"
        },
        "id": "tJ1vRvgG0HSs",
        "outputId": "1a4707e1-81a7-48b2-cbec-ed5742799801"
      },
      "outputs": [
        {
          "output_type": "stream",
          "name": "stdout",
          "text": [
            "[[338  19]\n",
            " [ 41  24]]\n"
          ]
        }
      ],
      "source": [
        "#Creating the Confusion matrix  \n",
        "from sklearn.metrics import confusion_matrix  \n",
        "cm= confusion_matrix(y_test, y_pred)  \n",
        "print(cm)"
      ]
    },
    {
      "cell_type": "code",
      "execution_count": null,
      "metadata": {
        "colab": {
          "base_uri": "https://localhost:8080/"
        },
        "id": "e7gzE_qJ0HSv",
        "outputId": "8cedc024-a866-44f9-da86-9a58e68828cd"
      },
      "outputs": [
        {
          "output_type": "stream",
          "name": "stdout",
          "text": [
            "Test Accuracy Score:  0.8578199052132701\n"
          ]
        }
      ],
      "source": [
        "score_ = accuracy_score(y_test, y_pred)\n",
        "print(\"Test Accuracy Score: \", score_)"
      ]
    },
    {
      "cell_type": "markdown",
      "metadata": {
        "id": "GJ0mrMEp0HSw"
      },
      "source": [
        "##**Bagging**"
      ]
    },
    {
      "cell_type": "code",
      "execution_count": null,
      "metadata": {
        "colab": {
          "base_uri": "https://localhost:8080/"
        },
        "id": "xCC2GzGU0HSw",
        "outputId": "060175e3-76f8-4015-f7b4-3e4c7d2fa863"
      },
      "outputs": [
        {
          "output_type": "execute_result",
          "data": {
            "text/plain": [
              "DecisionTreeClassifier(random_state=21)"
            ]
          },
          "metadata": {},
          "execution_count": 255
        }
      ],
      "source": [
        "from sklearn.tree import DecisionTreeClassifier\n",
        "dtree = DecisionTreeClassifier(random_state=21)\n",
        "dtree.fit(x_train,y_train)"
      ]
    },
    {
      "cell_type": "code",
      "execution_count": null,
      "metadata": {
        "colab": {
          "base_uri": "https://localhost:8080/"
        },
        "id": "Llz5toVn0HSw",
        "outputId": "afbc2f87-443b-4e24-b09e-fba3b127149a"
      },
      "outputs": [
        {
          "output_type": "stream",
          "name": "stdout",
          "text": [
            "Train data accuracy: 0.9893238434163701\n",
            "Test data accuracy: 0.8056872037914692\n"
          ]
        }
      ],
      "source": [
        "y_pred = dtree.predict(x_test)\n",
        "\n",
        "print(\"Train data accuracy:\",accuracy_score(y_true = y_train, y_pred = dtree.predict(x_train)))\n",
        "print(\"Test data accuracy:\",accuracy_score(y_true = y_test, y_pred = y_pred))"
      ]
    },
    {
      "cell_type": "markdown",
      "metadata": {
        "id": "Z2rEvkwV0Y2h"
      },
      "source": [
        "#**cm1 Dataset**"
      ]
    },
    {
      "cell_type": "code",
      "execution_count": null,
      "metadata": {
        "colab": {
          "base_uri": "https://localhost:8080/",
          "height": 487
        },
        "id": "hWNOUV8U0fz-",
        "outputId": "66cd0289-3767-45c0-ef4c-ac1929790a0e"
      },
      "outputs": [
        {
          "output_type": "execute_result",
          "data": {
            "text/plain": [
              "     l_count  cyclomatic_complexity  essential_complexity  design_complexity  \\\n",
              "0          1                      1                     1                  1   \n",
              "1         24                      5                     1                  3   \n",
              "2         20                      4                     4                  2   \n",
              "3         24                      6                     6                  2   \n",
              "4         24                      6                     6                  2   \n",
              "..       ...                    ...                   ...                ...   \n",
              "492       47                      3                     1                  3   \n",
              "493       24                      4                     3                  3   \n",
              "494       82                     11                     3                 10   \n",
              "495       10                      2                     1                  1   \n",
              "496       28                      6                     5                  5   \n",
              "\n",
              "       n        v     l      d      i          e  ...  lOCode  lOComment  \\\n",
              "0      1     1.00  1.00   1.00   1.00       1.00  ...       1          1   \n",
              "1     63   309.13  0.11   9.50  32.54    2936.77  ...       1          0   \n",
              "2     47   215.49  0.06  16.00  13.47    3447.89  ...       0          0   \n",
              "3     72   346.13  0.06  17.33  19.97    5999.58  ...       0          0   \n",
              "4     72   346.13  0.06  17.33  19.97    5999.58  ...       0          0   \n",
              "..   ...      ...   ...    ...    ...        ...  ...     ...        ...   \n",
              "492  256  1563.78  0.04  28.00  55.85   43785.90  ...       2         13   \n",
              "493  107   587.63  0.05  19.13  30.72   11241.58  ...       1          7   \n",
              "494  475  3155.83  0.02  44.71  70.59  141084.24  ...       9         59   \n",
              "495   32   150.41  0.15   6.50  23.14     977.69  ...       1         12   \n",
              "496  104   564.33  0.06  16.09  35.08    9078.38  ...       2          7   \n",
              "\n",
              "     lOBlank  lOCodeAndComment  uniq_Op  uniq_Opnd  total_Op  total_Opnd  \\\n",
              "0          1                 1        1          1         1           1   \n",
              "1          6                 0       15         15        44          19   \n",
              "2          3                 0       16          8        31          16   \n",
              "3          3                 0       16         12        46          26   \n",
              "4          3                 0       16         12        46          26   \n",
              "..       ...               ...      ...        ...       ...         ...   \n",
              "492        2                 0       23         46       144         112   \n",
              "493        4                 0       22         23        67          40   \n",
              "494       35                 0       32         68       285         190   \n",
              "495        4                 0       13         13        19          13   \n",
              "496        0                 0       20         23        67          37   \n",
              "\n",
              "     branchCount  problems  \n",
              "0              1      True  \n",
              "1              9     False  \n",
              "2              7     False  \n",
              "3             11     False  \n",
              "4             11     False  \n",
              "..           ...       ...  \n",
              "492            5      True  \n",
              "493            7      True  \n",
              "494           21      True  \n",
              "495            3      True  \n",
              "496           11      True  \n",
              "\n",
              "[497 rows x 22 columns]"
            ],
            "text/html": [
              "\n",
              "  <div id=\"df-310b33b6-7567-49e5-aed0-bc9ef59d227c\">\n",
              "    <div class=\"colab-df-container\">\n",
              "      <div>\n",
              "<style scoped>\n",
              "    .dataframe tbody tr th:only-of-type {\n",
              "        vertical-align: middle;\n",
              "    }\n",
              "\n",
              "    .dataframe tbody tr th {\n",
              "        vertical-align: top;\n",
              "    }\n",
              "\n",
              "    .dataframe thead th {\n",
              "        text-align: right;\n",
              "    }\n",
              "</style>\n",
              "<table border=\"1\" class=\"dataframe\">\n",
              "  <thead>\n",
              "    <tr style=\"text-align: right;\">\n",
              "      <th></th>\n",
              "      <th>l_count</th>\n",
              "      <th>cyclomatic_complexity</th>\n",
              "      <th>essential_complexity</th>\n",
              "      <th>design_complexity</th>\n",
              "      <th>n</th>\n",
              "      <th>v</th>\n",
              "      <th>l</th>\n",
              "      <th>d</th>\n",
              "      <th>i</th>\n",
              "      <th>e</th>\n",
              "      <th>...</th>\n",
              "      <th>lOCode</th>\n",
              "      <th>lOComment</th>\n",
              "      <th>lOBlank</th>\n",
              "      <th>lOCodeAndComment</th>\n",
              "      <th>uniq_Op</th>\n",
              "      <th>uniq_Opnd</th>\n",
              "      <th>total_Op</th>\n",
              "      <th>total_Opnd</th>\n",
              "      <th>branchCount</th>\n",
              "      <th>problems</th>\n",
              "    </tr>\n",
              "  </thead>\n",
              "  <tbody>\n",
              "    <tr>\n",
              "      <th>0</th>\n",
              "      <td>1</td>\n",
              "      <td>1</td>\n",
              "      <td>1</td>\n",
              "      <td>1</td>\n",
              "      <td>1</td>\n",
              "      <td>1.00</td>\n",
              "      <td>1.00</td>\n",
              "      <td>1.00</td>\n",
              "      <td>1.00</td>\n",
              "      <td>1.00</td>\n",
              "      <td>...</td>\n",
              "      <td>1</td>\n",
              "      <td>1</td>\n",
              "      <td>1</td>\n",
              "      <td>1</td>\n",
              "      <td>1</td>\n",
              "      <td>1</td>\n",
              "      <td>1</td>\n",
              "      <td>1</td>\n",
              "      <td>1</td>\n",
              "      <td>True</td>\n",
              "    </tr>\n",
              "    <tr>\n",
              "      <th>1</th>\n",
              "      <td>24</td>\n",
              "      <td>5</td>\n",
              "      <td>1</td>\n",
              "      <td>3</td>\n",
              "      <td>63</td>\n",
              "      <td>309.13</td>\n",
              "      <td>0.11</td>\n",
              "      <td>9.50</td>\n",
              "      <td>32.54</td>\n",
              "      <td>2936.77</td>\n",
              "      <td>...</td>\n",
              "      <td>1</td>\n",
              "      <td>0</td>\n",
              "      <td>6</td>\n",
              "      <td>0</td>\n",
              "      <td>15</td>\n",
              "      <td>15</td>\n",
              "      <td>44</td>\n",
              "      <td>19</td>\n",
              "      <td>9</td>\n",
              "      <td>False</td>\n",
              "    </tr>\n",
              "    <tr>\n",
              "      <th>2</th>\n",
              "      <td>20</td>\n",
              "      <td>4</td>\n",
              "      <td>4</td>\n",
              "      <td>2</td>\n",
              "      <td>47</td>\n",
              "      <td>215.49</td>\n",
              "      <td>0.06</td>\n",
              "      <td>16.00</td>\n",
              "      <td>13.47</td>\n",
              "      <td>3447.89</td>\n",
              "      <td>...</td>\n",
              "      <td>0</td>\n",
              "      <td>0</td>\n",
              "      <td>3</td>\n",
              "      <td>0</td>\n",
              "      <td>16</td>\n",
              "      <td>8</td>\n",
              "      <td>31</td>\n",
              "      <td>16</td>\n",
              "      <td>7</td>\n",
              "      <td>False</td>\n",
              "    </tr>\n",
              "    <tr>\n",
              "      <th>3</th>\n",
              "      <td>24</td>\n",
              "      <td>6</td>\n",
              "      <td>6</td>\n",
              "      <td>2</td>\n",
              "      <td>72</td>\n",
              "      <td>346.13</td>\n",
              "      <td>0.06</td>\n",
              "      <td>17.33</td>\n",
              "      <td>19.97</td>\n",
              "      <td>5999.58</td>\n",
              "      <td>...</td>\n",
              "      <td>0</td>\n",
              "      <td>0</td>\n",
              "      <td>3</td>\n",
              "      <td>0</td>\n",
              "      <td>16</td>\n",
              "      <td>12</td>\n",
              "      <td>46</td>\n",
              "      <td>26</td>\n",
              "      <td>11</td>\n",
              "      <td>False</td>\n",
              "    </tr>\n",
              "    <tr>\n",
              "      <th>4</th>\n",
              "      <td>24</td>\n",
              "      <td>6</td>\n",
              "      <td>6</td>\n",
              "      <td>2</td>\n",
              "      <td>72</td>\n",
              "      <td>346.13</td>\n",
              "      <td>0.06</td>\n",
              "      <td>17.33</td>\n",
              "      <td>19.97</td>\n",
              "      <td>5999.58</td>\n",
              "      <td>...</td>\n",
              "      <td>0</td>\n",
              "      <td>0</td>\n",
              "      <td>3</td>\n",
              "      <td>0</td>\n",
              "      <td>16</td>\n",
              "      <td>12</td>\n",
              "      <td>46</td>\n",
              "      <td>26</td>\n",
              "      <td>11</td>\n",
              "      <td>False</td>\n",
              "    </tr>\n",
              "    <tr>\n",
              "      <th>...</th>\n",
              "      <td>...</td>\n",
              "      <td>...</td>\n",
              "      <td>...</td>\n",
              "      <td>...</td>\n",
              "      <td>...</td>\n",
              "      <td>...</td>\n",
              "      <td>...</td>\n",
              "      <td>...</td>\n",
              "      <td>...</td>\n",
              "      <td>...</td>\n",
              "      <td>...</td>\n",
              "      <td>...</td>\n",
              "      <td>...</td>\n",
              "      <td>...</td>\n",
              "      <td>...</td>\n",
              "      <td>...</td>\n",
              "      <td>...</td>\n",
              "      <td>...</td>\n",
              "      <td>...</td>\n",
              "      <td>...</td>\n",
              "      <td>...</td>\n",
              "    </tr>\n",
              "    <tr>\n",
              "      <th>492</th>\n",
              "      <td>47</td>\n",
              "      <td>3</td>\n",
              "      <td>1</td>\n",
              "      <td>3</td>\n",
              "      <td>256</td>\n",
              "      <td>1563.78</td>\n",
              "      <td>0.04</td>\n",
              "      <td>28.00</td>\n",
              "      <td>55.85</td>\n",
              "      <td>43785.90</td>\n",
              "      <td>...</td>\n",
              "      <td>2</td>\n",
              "      <td>13</td>\n",
              "      <td>2</td>\n",
              "      <td>0</td>\n",
              "      <td>23</td>\n",
              "      <td>46</td>\n",
              "      <td>144</td>\n",
              "      <td>112</td>\n",
              "      <td>5</td>\n",
              "      <td>True</td>\n",
              "    </tr>\n",
              "    <tr>\n",
              "      <th>493</th>\n",
              "      <td>24</td>\n",
              "      <td>4</td>\n",
              "      <td>3</td>\n",
              "      <td>3</td>\n",
              "      <td>107</td>\n",
              "      <td>587.63</td>\n",
              "      <td>0.05</td>\n",
              "      <td>19.13</td>\n",
              "      <td>30.72</td>\n",
              "      <td>11241.58</td>\n",
              "      <td>...</td>\n",
              "      <td>1</td>\n",
              "      <td>7</td>\n",
              "      <td>4</td>\n",
              "      <td>0</td>\n",
              "      <td>22</td>\n",
              "      <td>23</td>\n",
              "      <td>67</td>\n",
              "      <td>40</td>\n",
              "      <td>7</td>\n",
              "      <td>True</td>\n",
              "    </tr>\n",
              "    <tr>\n",
              "      <th>494</th>\n",
              "      <td>82</td>\n",
              "      <td>11</td>\n",
              "      <td>3</td>\n",
              "      <td>10</td>\n",
              "      <td>475</td>\n",
              "      <td>3155.83</td>\n",
              "      <td>0.02</td>\n",
              "      <td>44.71</td>\n",
              "      <td>70.59</td>\n",
              "      <td>141084.24</td>\n",
              "      <td>...</td>\n",
              "      <td>9</td>\n",
              "      <td>59</td>\n",
              "      <td>35</td>\n",
              "      <td>0</td>\n",
              "      <td>32</td>\n",
              "      <td>68</td>\n",
              "      <td>285</td>\n",
              "      <td>190</td>\n",
              "      <td>21</td>\n",
              "      <td>True</td>\n",
              "    </tr>\n",
              "    <tr>\n",
              "      <th>495</th>\n",
              "      <td>10</td>\n",
              "      <td>2</td>\n",
              "      <td>1</td>\n",
              "      <td>1</td>\n",
              "      <td>32</td>\n",
              "      <td>150.41</td>\n",
              "      <td>0.15</td>\n",
              "      <td>6.50</td>\n",
              "      <td>23.14</td>\n",
              "      <td>977.69</td>\n",
              "      <td>...</td>\n",
              "      <td>1</td>\n",
              "      <td>12</td>\n",
              "      <td>4</td>\n",
              "      <td>0</td>\n",
              "      <td>13</td>\n",
              "      <td>13</td>\n",
              "      <td>19</td>\n",
              "      <td>13</td>\n",
              "      <td>3</td>\n",
              "      <td>True</td>\n",
              "    </tr>\n",
              "    <tr>\n",
              "      <th>496</th>\n",
              "      <td>28</td>\n",
              "      <td>6</td>\n",
              "      <td>5</td>\n",
              "      <td>5</td>\n",
              "      <td>104</td>\n",
              "      <td>564.33</td>\n",
              "      <td>0.06</td>\n",
              "      <td>16.09</td>\n",
              "      <td>35.08</td>\n",
              "      <td>9078.38</td>\n",
              "      <td>...</td>\n",
              "      <td>2</td>\n",
              "      <td>7</td>\n",
              "      <td>0</td>\n",
              "      <td>0</td>\n",
              "      <td>20</td>\n",
              "      <td>23</td>\n",
              "      <td>67</td>\n",
              "      <td>37</td>\n",
              "      <td>11</td>\n",
              "      <td>True</td>\n",
              "    </tr>\n",
              "  </tbody>\n",
              "</table>\n",
              "<p>497 rows × 22 columns</p>\n",
              "</div>\n",
              "      <button class=\"colab-df-convert\" onclick=\"convertToInteractive('df-310b33b6-7567-49e5-aed0-bc9ef59d227c')\"\n",
              "              title=\"Convert this dataframe to an interactive table.\"\n",
              "              style=\"display:none;\">\n",
              "        \n",
              "  <svg xmlns=\"http://www.w3.org/2000/svg\" height=\"24px\"viewBox=\"0 0 24 24\"\n",
              "       width=\"24px\">\n",
              "    <path d=\"M0 0h24v24H0V0z\" fill=\"none\"/>\n",
              "    <path d=\"M18.56 5.44l.94 2.06.94-2.06 2.06-.94-2.06-.94-.94-2.06-.94 2.06-2.06.94zm-11 1L8.5 8.5l.94-2.06 2.06-.94-2.06-.94L8.5 2.5l-.94 2.06-2.06.94zm10 10l.94 2.06.94-2.06 2.06-.94-2.06-.94-.94-2.06-.94 2.06-2.06.94z\"/><path d=\"M17.41 7.96l-1.37-1.37c-.4-.4-.92-.59-1.43-.59-.52 0-1.04.2-1.43.59L10.3 9.45l-7.72 7.72c-.78.78-.78 2.05 0 2.83L4 21.41c.39.39.9.59 1.41.59.51 0 1.02-.2 1.41-.59l7.78-7.78 2.81-2.81c.8-.78.8-2.07 0-2.86zM5.41 20L4 18.59l7.72-7.72 1.47 1.35L5.41 20z\"/>\n",
              "  </svg>\n",
              "      </button>\n",
              "      \n",
              "  <style>\n",
              "    .colab-df-container {\n",
              "      display:flex;\n",
              "      flex-wrap:wrap;\n",
              "      gap: 12px;\n",
              "    }\n",
              "\n",
              "    .colab-df-convert {\n",
              "      background-color: #E8F0FE;\n",
              "      border: none;\n",
              "      border-radius: 50%;\n",
              "      cursor: pointer;\n",
              "      display: none;\n",
              "      fill: #1967D2;\n",
              "      height: 32px;\n",
              "      padding: 0 0 0 0;\n",
              "      width: 32px;\n",
              "    }\n",
              "\n",
              "    .colab-df-convert:hover {\n",
              "      background-color: #E2EBFA;\n",
              "      box-shadow: 0px 1px 2px rgba(60, 64, 67, 0.3), 0px 1px 3px 1px rgba(60, 64, 67, 0.15);\n",
              "      fill: #174EA6;\n",
              "    }\n",
              "\n",
              "    [theme=dark] .colab-df-convert {\n",
              "      background-color: #3B4455;\n",
              "      fill: #D2E3FC;\n",
              "    }\n",
              "\n",
              "    [theme=dark] .colab-df-convert:hover {\n",
              "      background-color: #434B5C;\n",
              "      box-shadow: 0px 1px 3px 1px rgba(0, 0, 0, 0.15);\n",
              "      filter: drop-shadow(0px 1px 2px rgba(0, 0, 0, 0.3));\n",
              "      fill: #FFFFFF;\n",
              "    }\n",
              "  </style>\n",
              "\n",
              "      <script>\n",
              "        const buttonEl =\n",
              "          document.querySelector('#df-310b33b6-7567-49e5-aed0-bc9ef59d227c button.colab-df-convert');\n",
              "        buttonEl.style.display =\n",
              "          google.colab.kernel.accessAllowed ? 'block' : 'none';\n",
              "\n",
              "        async function convertToInteractive(key) {\n",
              "          const element = document.querySelector('#df-310b33b6-7567-49e5-aed0-bc9ef59d227c');\n",
              "          const dataTable =\n",
              "            await google.colab.kernel.invokeFunction('convertToInteractive',\n",
              "                                                     [key], {});\n",
              "          if (!dataTable) return;\n",
              "\n",
              "          const docLinkHtml = 'Like what you see? Visit the ' +\n",
              "            '<a target=\"_blank\" href=https://colab.research.google.com/notebooks/data_table.ipynb>data table notebook</a>'\n",
              "            + ' to learn more about interactive tables.';\n",
              "          element.innerHTML = '';\n",
              "          dataTable['output_type'] = 'display_data';\n",
              "          await google.colab.output.renderOutput(dataTable, element);\n",
              "          const docLink = document.createElement('div');\n",
              "          docLink.innerHTML = docLinkHtml;\n",
              "          element.appendChild(docLink);\n",
              "        }\n",
              "      </script>\n",
              "    </div>\n",
              "  </div>\n",
              "  "
            ]
          },
          "metadata": {},
          "execution_count": 257
        }
      ],
      "source": [
        "cm1_df"
      ]
    },
    {
      "cell_type": "markdown",
      "metadata": {
        "id": "PRvTuLd30kMP"
      },
      "source": [
        "####**Spiliting Dataset**\n",
        "training: 80% testing:20%"
      ]
    },
    {
      "cell_type": "code",
      "execution_count": null,
      "metadata": {
        "id": "9isLB_yl0kMQ"
      },
      "outputs": [],
      "source": [
        "x = cm1_df.iloc[:,:-1]\n",
        "y = cm1_df.iloc[:,-1]\n",
        "\n",
        "from sklearn.model_selection import train_test_split\n",
        "x_train, x_test, y_train, y_test = train_test_split(x,y,test_size=0.20,random_state=0, stratify=cm1_df.problems)\n",
        "\n",
        "from sklearn.preprocessing import StandardScaler    \n",
        "st_x= StandardScaler()    \n",
        "x_train= st_x.fit_transform(x_train)    \n",
        "x_test= st_x.transform(x_test)  "
      ]
    },
    {
      "cell_type": "code",
      "source": [
        "import seaborn as sns\n",
        "\n",
        "plt.rcParams['figure.figsize']=(12,6)\n",
        "plt.rcParams['font.size']=14\n",
        "plt.title('kc2 Dataset')\n",
        "sns.set_style(\"darkgrid\")\n",
        "\n",
        "sns.countplot(kc2_df.problems);"
      ],
      "metadata": {
        "colab": {
          "base_uri": "https://localhost:8080/",
          "height": 413
        },
        "outputId": "c44a41dd-b116-42fd-d07a-1519890088db",
        "id": "jEialrBmmKnV"
      },
      "execution_count": null,
      "outputs": [
        {
          "output_type": "stream",
          "name": "stderr",
          "text": [
            "/usr/local/lib/python3.8/dist-packages/seaborn/_decorators.py:36: FutureWarning: Pass the following variable as a keyword arg: x. From version 0.12, the only valid positional argument will be `data`, and passing other arguments without an explicit keyword will result in an error or misinterpretation.\n",
            "  warnings.warn(\n"
          ]
        },
        {
          "output_type": "display_data",
          "data": {
            "text/plain": [
              "<Figure size 864x432 with 1 Axes>"
            ],
            "image/png": "[encoded data removed]"
          },
          "metadata": {}
        }
      ]
    },
    {
      "cell_type": "code",
      "source": [
        "import seaborn as sns\n",
        "\n",
        "plt.rcParams['figure.figsize']=(12,6)\n",
        "plt.rcParams['font.size']=14\n",
        "plt.title('AR1 Dataset')\n",
        "sns.set_style(\"darkgrid\")\n",
        "\n",
        "sns.countplot(y_train);\n"
      ],
      "metadata": {
        "colab": {
          "base_uri": "https://localhost:8080/",
          "height": 413
        },
        "outputId": "0c4351d2-d36b-450f-be63-e9b2506d8cb9",
        "id": "AhpumasPmKnW"
      },
      "execution_count": null,
      "outputs": [
        {
          "output_type": "stream",
          "name": "stderr",
          "text": [
            "/usr/local/lib/python3.8/dist-packages/seaborn/_decorators.py:36: FutureWarning: Pass the following variable as a keyword arg: x. From version 0.12, the only valid positional argument will be `data`, and passing other arguments without an explicit keyword will result in an error or misinterpretation.\n",
            "  warnings.warn(\n"
          ]
        },
        {
          "output_type": "display_data",
          "data": {
            "text/plain": [
              "<Figure size 864x432 with 1 Axes>"
            ],
            "image/png": "[encoded data removed]"
          },
          "metadata": {}
        }
      ]
    },
    {
      "cell_type": "markdown",
      "metadata": {
        "id": "g0RwtdRo0kMQ"
      },
      "source": [
        "###**Logistic Regression**"
      ]
    },
    {
      "cell_type": "code",
      "execution_count": null,
      "metadata": {
        "colab": {
          "base_uri": "https://localhost:8080/"
        },
        "id": "Zcgj_eXu0kMQ",
        "outputId": "50b4ac54-0b21-484e-9d36-a1a4aaa55562"
      },
      "outputs": [
        {
          "output_type": "stream",
          "name": "stdout",
          "text": [
            "Test Accuracy Score:  0.9\n",
            "Confusion Matrix: \n",
            " [[89  1]\n",
            " [ 9  1]]\n"
          ]
        }
      ],
      "source": [
        "from sklearn.linear_model import LogisticRegression  \n",
        "classifier= LogisticRegression(random_state=0)  \n",
        "classifier.fit(x_train, y_train) \n",
        "\n",
        "y_pred= classifier.predict(x_test)\n",
        "\n",
        "score_ = accuracy_score(y_test, y_pred)\n",
        "print(\"Test Accuracy Score: \", score_)\n",
        "\n",
        "from sklearn.metrics import confusion_matrix  \n",
        "cm= confusion_matrix(y_test,y_pred)\n",
        "print(\"Confusion Matrix: \\n\",cm)"
      ]
    },
    {
      "cell_type": "markdown",
      "metadata": {
        "id": "Yzysbbvw0kMR"
      },
      "source": [
        "###**Support Vector Machine Algorithm**"
      ]
    },
    {
      "cell_type": "code",
      "execution_count": null,
      "metadata": {
        "colab": {
          "base_uri": "https://localhost:8080/"
        },
        "id": "9ptUKenb0kMR",
        "outputId": "35d2fb7f-aa0f-444a-bdd0-10610ff8e4c6"
      },
      "outputs": [
        {
          "output_type": "execute_result",
          "data": {
            "text/plain": [
              "SVC(random_state=0)"
            ]
          },
          "metadata": {},
          "execution_count": 262
        }
      ],
      "source": [
        "from sklearn.svm import SVC # \"Support vector classifier\"  \n",
        "classifier = SVC(kernel='rbf', random_state=0)  \n",
        "classifier.fit(x_train, y_train)  "
      ]
    },
    {
      "cell_type": "code",
      "execution_count": null,
      "metadata": {
        "id": "uc_E12O90kMR"
      },
      "outputs": [],
      "source": [
        "#Predicting the test set result  \n",
        "y_pred= classifier.predict(x_test)  "
      ]
    },
    {
      "cell_type": "code",
      "execution_count": null,
      "metadata": {
        "colab": {
          "base_uri": "https://localhost:8080/"
        },
        "id": "aXvBmsHj0kMU",
        "outputId": "9ea30718-99b2-4bdb-93ff-2231f4f0160f"
      },
      "outputs": [
        {
          "output_type": "stream",
          "name": "stdout",
          "text": [
            "[[90  0]\n",
            " [10  0]]\n"
          ]
        }
      ],
      "source": [
        "from sklearn.metrics import confusion_matrix  \n",
        "cm= confusion_matrix(y_test, y_pred)  \n",
        "print(cm)"
      ]
    },
    {
      "cell_type": "code",
      "execution_count": null,
      "metadata": {
        "colab": {
          "base_uri": "https://localhost:8080/"
        },
        "id": "vBSc7yak0kMU",
        "outputId": "119fb2cb-0b6c-4bd4-ccaa-a7501e140dc2"
      },
      "outputs": [
        {
          "output_type": "stream",
          "name": "stdout",
          "text": [
            "Test Accuracy Score:  0.9\n"
          ]
        }
      ],
      "source": [
        "score_ = accuracy_score(y_test, y_pred)\n",
        "print(\"Test Accuracy Score: \", score_)"
      ]
    },
    {
      "cell_type": "markdown",
      "metadata": {
        "id": "CqnnAGgI0kMV"
      },
      "source": [
        "##**Decision Tree Algorithm**"
      ]
    },
    {
      "cell_type": "code",
      "execution_count": null,
      "metadata": {
        "colab": {
          "base_uri": "https://localhost:8080/"
        },
        "id": "tA3eVvRg0kMV",
        "outputId": "084369c3-c7b3-4260-e3ad-6ec630a45eae"
      },
      "outputs": [
        {
          "output_type": "execute_result",
          "data": {
            "text/plain": [
              "DecisionTreeClassifier(criterion='entropy', random_state=0)"
            ]
          },
          "metadata": {},
          "execution_count": 266
        }
      ],
      "source": [
        "from sklearn.tree import DecisionTreeClassifier  \n",
        "classifier= DecisionTreeClassifier(criterion='entropy', random_state=0)  \n",
        "classifier.fit(x_train, y_train)  "
      ]
    },
    {
      "cell_type": "code",
      "execution_count": null,
      "metadata": {
        "id": "0SpfpnTb0kMW"
      },
      "outputs": [],
      "source": [
        "#Predicting the test set result  \n",
        "y_pred= classifier.predict(x_test)  "
      ]
    },
    {
      "cell_type": "code",
      "execution_count": null,
      "metadata": {
        "colab": {
          "base_uri": "https://localhost:8080/"
        },
        "id": "bi-Xe0ak0kMW",
        "outputId": "32aa577b-62af-4809-cf65-eddc952cbeda"
      },
      "outputs": [
        {
          "output_type": "stream",
          "name": "stdout",
          "text": [
            "[[76 14]\n",
            " [ 9  1]]\n"
          ]
        }
      ],
      "source": [
        "#Creating the Confusion matrix  \n",
        "from sklearn.metrics import confusion_matrix  \n",
        "cm= confusion_matrix(y_test, y_pred) \n",
        "print(cm)"
      ]
    },
    {
      "cell_type": "code",
      "execution_count": null,
      "metadata": {
        "colab": {
          "base_uri": "https://localhost:8080/"
        },
        "id": "c0BssU000kMX",
        "outputId": "8049b7bd-bf39-4e94-e878-cad7a3534a6d"
      },
      "outputs": [
        {
          "output_type": "stream",
          "name": "stdout",
          "text": [
            "Test Accuracy Score:  0.77\n"
          ]
        }
      ],
      "source": [
        "score_ = accuracy_score(y_test, y_pred)\n",
        "print(\"Test Accuracy Score: \", score_)"
      ]
    },
    {
      "cell_type": "markdown",
      "metadata": {
        "id": "nfg-J8mX0kMY"
      },
      "source": [
        "##**Random Forest**"
      ]
    },
    {
      "cell_type": "code",
      "execution_count": null,
      "metadata": {
        "colab": {
          "base_uri": "https://localhost:8080/"
        },
        "id": "w1AruUT70kMY",
        "outputId": "692b2caf-b8e5-405f-d1dd-a8ee4faaa7e9"
      },
      "outputs": [
        {
          "output_type": "execute_result",
          "data": {
            "text/plain": [
              "RandomForestClassifier(criterion='entropy', n_estimators=10)"
            ]
          },
          "metadata": {},
          "execution_count": 270
        }
      ],
      "source": [
        "#Fitting Decision Tree classifier to the training set  \n",
        "from sklearn.ensemble import RandomForestClassifier  \n",
        "classifier= RandomForestClassifier(n_estimators= 10, criterion=\"entropy\")  \n",
        "classifier.fit(x_train, y_train)  "
      ]
    },
    {
      "cell_type": "code",
      "execution_count": null,
      "metadata": {
        "id": "xC0IeYjG0kMY"
      },
      "outputs": [],
      "source": [
        "#Predicting the test set result  \n",
        "y_pred= classifier.predict(x_test)  "
      ]
    },
    {
      "cell_type": "code",
      "execution_count": null,
      "metadata": {
        "colab": {
          "base_uri": "https://localhost:8080/"
        },
        "id": "MtljRmF50kMZ",
        "outputId": "94e8bd49-d66e-4a74-b6ba-f260967ca5e9"
      },
      "outputs": [
        {
          "output_type": "stream",
          "name": "stdout",
          "text": [
            "[[90  0]\n",
            " [10  0]]\n"
          ]
        }
      ],
      "source": [
        "#Creating the Confusion matrix  \n",
        "from sklearn.metrics import confusion_matrix  \n",
        "cm= confusion_matrix(y_test, y_pred)  \n",
        "print(cm)"
      ]
    },
    {
      "cell_type": "code",
      "execution_count": null,
      "metadata": {
        "colab": {
          "base_uri": "https://localhost:8080/"
        },
        "id": "a5wxqNn80kMZ",
        "outputId": "0717c15c-f0aa-416e-8ec4-18901803884d"
      },
      "outputs": [
        {
          "output_type": "stream",
          "name": "stdout",
          "text": [
            "Test Accuracy Score:  0.9\n"
          ]
        }
      ],
      "source": [
        "score_ = accuracy_score(y_test, y_pred)\n",
        "print(\"Test Accuracy Score: \", score_)"
      ]
    },
    {
      "cell_type": "markdown",
      "metadata": {
        "id": "SEKqj0XL0kMa"
      },
      "source": [
        "##**Bagging**"
      ]
    },
    {
      "cell_type": "code",
      "execution_count": null,
      "metadata": {
        "colab": {
          "base_uri": "https://localhost:8080/"
        },
        "id": "TaglCHrW0kMb",
        "outputId": "42e51cb8-554d-4aab-e2d5-a8f3f1a93785"
      },
      "outputs": [
        {
          "output_type": "execute_result",
          "data": {
            "text/plain": [
              "DecisionTreeClassifier(random_state=21)"
            ]
          },
          "metadata": {},
          "execution_count": 274
        }
      ],
      "source": [
        "from sklearn.tree import DecisionTreeClassifier\n",
        "dtree = DecisionTreeClassifier(random_state=21)\n",
        "dtree.fit(x_train,y_train)"
      ]
    },
    {
      "cell_type": "code",
      "execution_count": null,
      "metadata": {
        "colab": {
          "base_uri": "https://localhost:8080/"
        },
        "id": "n7bMGEzW0kMb",
        "outputId": "a3215f55-bdea-4dda-a0bc-1d80bcf270c7"
      },
      "outputs": [
        {
          "output_type": "stream",
          "name": "stdout",
          "text": [
            "Train data accuracy: 1.0\n",
            "Test data accuracy: 0.8\n"
          ]
        }
      ],
      "source": [
        "y_pred = dtree.predict(x_test)\n",
        "\n",
        "print(\"Train data accuracy:\",accuracy_score(y_true = y_train, y_pred = dtree.predict(x_train)))\n",
        "print(\"Test data accuracy:\",accuracy_score(y_true = y_test, y_pred = y_pred))"
      ]
    },
    {
      "cell_type": "markdown",
      "metadata": {
        "id": "xcppo_930sdY"
      },
      "source": [
        "#**pc1**"
      ]
    },
    {
      "cell_type": "code",
      "execution_count": null,
      "metadata": {
        "colab": {
          "base_uri": "https://localhost:8080/",
          "height": 487
        },
        "id": "vKX-kuaw02fj",
        "outputId": "ce0bd3f1-6eb5-44a5-dcb6-26065605fd2a"
      },
      "outputs": [
        {
          "output_type": "execute_result",
          "data": {
            "text/plain": [
              "      l_count  cyclomatic_complexity  essential_complexity  design_complexity  \\\n",
              "0           1                      1                     1                  1   \n",
              "1          91                      9                     3                  2   \n",
              "2         109                     21                     5                 18   \n",
              "3         505                    106                    41                 82   \n",
              "4         107                     25                     7                 14   \n",
              "...       ...                    ...                   ...                ...   \n",
              "1103        6                      4                     4                  1   \n",
              "1104       10                      5                     5                  1   \n",
              "1105        5                      3                     3                  1   \n",
              "1106       18                      8                     5                  5   \n",
              "1107       26                     18                    13                  6   \n",
              "\n",
              "         n         v     l      d       i           e  ...  lOCode  lOComment  \\\n",
              "0        1      1.00  1.00   1.00    1.00        1.00  ...       1          1   \n",
              "1      318   2089.21  0.04  27.68   75.47    57833.24  ...      80         44   \n",
              "2      381   2547.56  0.04  28.37   89.79    72282.68  ...      97         41   \n",
              "3     2339  20696.93  0.01  75.93  272.58  1571506.88  ...     457         71   \n",
              "4      619   4282.78  0.02  52.91   80.95   226588.75  ...     103         32   \n",
              "...    ...       ...   ...    ...     ...         ...  ...     ...        ...   \n",
              "1103    26     96.21  0.08  13.33    7.22     1282.82  ...       6          0   \n",
              "1104    43    182.66  0.05  21.00    8.70     3835.88  ...      10          0   \n",
              "1105    17     62.91  0.21   4.80   13.11      301.96  ...       5          0   \n",
              "1106   111    613.12  0.04  22.92   26.75    14050.56  ...      18          0   \n",
              "1107   228   1335.62  0.03  35.81   37.29    47834.26  ...      26          0   \n",
              "\n",
              "      lOBlank  lOCodeAndComment  uniq_Op  uniq_Opnd  total_Op  total_Opnd  \\\n",
              "0           1                 1        1          1         1           1   \n",
              "1          11                31       29         66       192         126   \n",
              "2          12                24       28         75       229         152   \n",
              "3          48                49       64        397      1397         942   \n",
              "4           4                39       35         86       359         260   \n",
              "...       ...               ...      ...        ...       ...         ...   \n",
              "1103        0                 2       10          3        18           8   \n",
              "1104        0                 1       14          5        28          15   \n",
              "1105        0                 0        8          5        11           6   \n",
              "1106        0                 1       22         24        61          50   \n",
              "1107        0                 1       23         35       119         109   \n",
              "\n",
              "      branchCount  problems  \n",
              "0               1      True  \n",
              "1              17      True  \n",
              "2              38      True  \n",
              "3             178      True  \n",
              "4              40      True  \n",
              "...           ...       ...  \n",
              "1103            7     False  \n",
              "1104            9     False  \n",
              "1105            5     False  \n",
              "1106           15     False  \n",
              "1107           35     False  \n",
              "\n",
              "[1108 rows x 22 columns]"
            ],
            "text/html": [
              "\n",
              "  <div id=\"df-09a52190-69f7-4b57-a15f-bb95e092db2e\">\n",
              "    <div class=\"colab-df-container\">\n",
              "      <div>\n",
              "<style scoped>\n",
              "    .dataframe tbody tr th:only-of-type {\n",
              "        vertical-align: middle;\n",
              "    }\n",
              "\n",
              "    .dataframe tbody tr th {\n",
              "        vertical-align: top;\n",
              "    }\n",
              "\n",
              "    .dataframe thead th {\n",
              "        text-align: right;\n",
              "    }\n",
              "</style>\n",
              "<table border=\"1\" class=\"dataframe\">\n",
              "  <thead>\n",
              "    <tr style=\"text-align: right;\">\n",
              "      <th></th>\n",
              "      <th>l_count</th>\n",
              "      <th>cyclomatic_complexity</th>\n",
              "      <th>essential_complexity</th>\n",
              "      <th>design_complexity</th>\n",
              "      <th>n</th>\n",
              "      <th>v</th>\n",
              "      <th>l</th>\n",
              "      <th>d</th>\n",
              "      <th>i</th>\n",
              "      <th>e</th>\n",
              "      <th>...</th>\n",
              "      <th>lOCode</th>\n",
              "      <th>lOComment</th>\n",
              "      <th>lOBlank</th>\n",
              "      <th>lOCodeAndComment</th>\n",
              "      <th>uniq_Op</th>\n",
              "      <th>uniq_Opnd</th>\n",
              "      <th>total_Op</th>\n",
              "      <th>total_Opnd</th>\n",
              "      <th>branchCount</th>\n",
              "      <th>problems</th>\n",
              "    </tr>\n",
              "  </thead>\n",
              "  <tbody>\n",
              "    <tr>\n",
              "      <th>0</th>\n",
              "      <td>1</td>\n",
              "      <td>1</td>\n",
              "      <td>1</td>\n",
              "      <td>1</td>\n",
              "      <td>1</td>\n",
              "      <td>1.00</td>\n",
              "      <td>1.00</td>\n",
              "      <td>1.00</td>\n",
              "      <td>1.00</td>\n",
              "      <td>1.00</td>\n",
              "      <td>...</td>\n",
              "      <td>1</td>\n",
              "      <td>1</td>\n",
              "      <td>1</td>\n",
              "      <td>1</td>\n",
              "      <td>1</td>\n",
              "      <td>1</td>\n",
              "      <td>1</td>\n",
              "      <td>1</td>\n",
              "      <td>1</td>\n",
              "      <td>True</td>\n",
              "    </tr>\n",
              "    <tr>\n",
              "      <th>1</th>\n",
              "      <td>91</td>\n",
              "      <td>9</td>\n",
              "      <td>3</td>\n",
              "      <td>2</td>\n",
              "      <td>318</td>\n",
              "      <td>2089.21</td>\n",
              "      <td>0.04</td>\n",
              "      <td>27.68</td>\n",
              "      <td>75.47</td>\n",
              "      <td>57833.24</td>\n",
              "      <td>...</td>\n",
              "      <td>80</td>\n",
              "      <td>44</td>\n",
              "      <td>11</td>\n",
              "      <td>31</td>\n",
              "      <td>29</td>\n",
              "      <td>66</td>\n",
              "      <td>192</td>\n",
              "      <td>126</td>\n",
              "      <td>17</td>\n",
              "      <td>True</td>\n",
              "    </tr>\n",
              "    <tr>\n",
              "      <th>2</th>\n",
              "      <td>109</td>\n",
              "      <td>21</td>\n",
              "      <td>5</td>\n",
              "      <td>18</td>\n",
              "      <td>381</td>\n",
              "      <td>2547.56</td>\n",
              "      <td>0.04</td>\n",
              "      <td>28.37</td>\n",
              "      <td>89.79</td>\n",
              "      <td>72282.68</td>\n",
              "      <td>...</td>\n",
              "      <td>97</td>\n",
              "      <td>41</td>\n",
              "      <td>12</td>\n",
              "      <td>24</td>\n",
              "      <td>28</td>\n",
              "      <td>75</td>\n",
              "      <td>229</td>\n",
              "      <td>152</td>\n",
              "      <td>38</td>\n",
              "      <td>True</td>\n",
              "    </tr>\n",
              "    <tr>\n",
              "      <th>3</th>\n",
              "      <td>505</td>\n",
              "      <td>106</td>\n",
              "      <td>41</td>\n",
              "      <td>82</td>\n",
              "      <td>2339</td>\n",
              "      <td>20696.93</td>\n",
              "      <td>0.01</td>\n",
              "      <td>75.93</td>\n",
              "      <td>272.58</td>\n",
              "      <td>1571506.88</td>\n",
              "      <td>...</td>\n",
              "      <td>457</td>\n",
              "      <td>71</td>\n",
              "      <td>48</td>\n",
              "      <td>49</td>\n",
              "      <td>64</td>\n",
              "      <td>397</td>\n",
              "      <td>1397</td>\n",
              "      <td>942</td>\n",
              "      <td>178</td>\n",
              "      <td>True</td>\n",
              "    </tr>\n",
              "    <tr>\n",
              "      <th>4</th>\n",
              "      <td>107</td>\n",
              "      <td>25</td>\n",
              "      <td>7</td>\n",
              "      <td>14</td>\n",
              "      <td>619</td>\n",
              "      <td>4282.78</td>\n",
              "      <td>0.02</td>\n",
              "      <td>52.91</td>\n",
              "      <td>80.95</td>\n",
              "      <td>226588.75</td>\n",
              "      <td>...</td>\n",
              "      <td>103</td>\n",
              "      <td>32</td>\n",
              "      <td>4</td>\n",
              "      <td>39</td>\n",
              "      <td>35</td>\n",
              "      <td>86</td>\n",
              "      <td>359</td>\n",
              "      <td>260</td>\n",
              "      <td>40</td>\n",
              "      <td>True</td>\n",
              "    </tr>\n",
              "    <tr>\n",
              "      <th>...</th>\n",
              "      <td>...</td>\n",
              "      <td>...</td>\n",
              "      <td>...</td>\n",
              "      <td>...</td>\n",
              "      <td>...</td>\n",
              "      <td>...</td>\n",
              "      <td>...</td>\n",
              "      <td>...</td>\n",
              "      <td>...</td>\n",
              "      <td>...</td>\n",
              "      <td>...</td>\n",
              "      <td>...</td>\n",
              "      <td>...</td>\n",
              "      <td>...</td>\n",
              "      <td>...</td>\n",
              "      <td>...</td>\n",
              "      <td>...</td>\n",
              "      <td>...</td>\n",
              "      <td>...</td>\n",
              "      <td>...</td>\n",
              "      <td>...</td>\n",
              "    </tr>\n",
              "    <tr>\n",
              "      <th>1103</th>\n",
              "      <td>6</td>\n",
              "      <td>4</td>\n",
              "      <td>4</td>\n",
              "      <td>1</td>\n",
              "      <td>26</td>\n",
              "      <td>96.21</td>\n",
              "      <td>0.08</td>\n",
              "      <td>13.33</td>\n",
              "      <td>7.22</td>\n",
              "      <td>1282.82</td>\n",
              "      <td>...</td>\n",
              "      <td>6</td>\n",
              "      <td>0</td>\n",
              "      <td>0</td>\n",
              "      <td>2</td>\n",
              "      <td>10</td>\n",
              "      <td>3</td>\n",
              "      <td>18</td>\n",
              "      <td>8</td>\n",
              "      <td>7</td>\n",
              "      <td>False</td>\n",
              "    </tr>\n",
              "    <tr>\n",
              "      <th>1104</th>\n",
              "      <td>10</td>\n",
              "      <td>5</td>\n",
              "      <td>5</td>\n",
              "      <td>1</td>\n",
              "      <td>43</td>\n",
              "      <td>182.66</td>\n",
              "      <td>0.05</td>\n",
              "      <td>21.00</td>\n",
              "      <td>8.70</td>\n",
              "      <td>3835.88</td>\n",
              "      <td>...</td>\n",
              "      <td>10</td>\n",
              "      <td>0</td>\n",
              "      <td>0</td>\n",
              "      <td>1</td>\n",
              "      <td>14</td>\n",
              "      <td>5</td>\n",
              "      <td>28</td>\n",
              "      <td>15</td>\n",
              "      <td>9</td>\n",
              "      <td>False</td>\n",
              "    </tr>\n",
              "    <tr>\n",
              "      <th>1105</th>\n",
              "      <td>5</td>\n",
              "      <td>3</td>\n",
              "      <td>3</td>\n",
              "      <td>1</td>\n",
              "      <td>17</td>\n",
              "      <td>62.91</td>\n",
              "      <td>0.21</td>\n",
              "      <td>4.80</td>\n",
              "      <td>13.11</td>\n",
              "      <td>301.96</td>\n",
              "      <td>...</td>\n",
              "      <td>5</td>\n",
              "      <td>0</td>\n",
              "      <td>0</td>\n",
              "      <td>0</td>\n",
              "      <td>8</td>\n",
              "      <td>5</td>\n",
              "      <td>11</td>\n",
              "      <td>6</td>\n",
              "      <td>5</td>\n",
              "      <td>False</td>\n",
              "    </tr>\n",
              "    <tr>\n",
              "      <th>1106</th>\n",
              "      <td>18</td>\n",
              "      <td>8</td>\n",
              "      <td>5</td>\n",
              "      <td>5</td>\n",
              "      <td>111</td>\n",
              "      <td>613.12</td>\n",
              "      <td>0.04</td>\n",
              "      <td>22.92</td>\n",
              "      <td>26.75</td>\n",
              "      <td>14050.56</td>\n",
              "      <td>...</td>\n",
              "      <td>18</td>\n",
              "      <td>0</td>\n",
              "      <td>0</td>\n",
              "      <td>1</td>\n",
              "      <td>22</td>\n",
              "      <td>24</td>\n",
              "      <td>61</td>\n",
              "      <td>50</td>\n",
              "      <td>15</td>\n",
              "      <td>False</td>\n",
              "    </tr>\n",
              "    <tr>\n",
              "      <th>1107</th>\n",
              "      <td>26</td>\n",
              "      <td>18</td>\n",
              "      <td>13</td>\n",
              "      <td>6</td>\n",
              "      <td>228</td>\n",
              "      <td>1335.62</td>\n",
              "      <td>0.03</td>\n",
              "      <td>35.81</td>\n",
              "      <td>37.29</td>\n",
              "      <td>47834.26</td>\n",
              "      <td>...</td>\n",
              "      <td>26</td>\n",
              "      <td>0</td>\n",
              "      <td>0</td>\n",
              "      <td>1</td>\n",
              "      <td>23</td>\n",
              "      <td>35</td>\n",
              "      <td>119</td>\n",
              "      <td>109</td>\n",
              "      <td>35</td>\n",
              "      <td>False</td>\n",
              "    </tr>\n",
              "  </tbody>\n",
              "</table>\n",
              "<p>1108 rows × 22 columns</p>\n",
              "</div>\n",
              "      <button class=\"colab-df-convert\" onclick=\"convertToInteractive('df-09a52190-69f7-4b57-a15f-bb95e092db2e')\"\n",
              "              title=\"Convert this dataframe to an interactive table.\"\n",
              "              style=\"display:none;\">\n",
              "        \n",
              "  <svg xmlns=\"http://www.w3.org/2000/svg\" height=\"24px\"viewBox=\"0 0 24 24\"\n",
              "       width=\"24px\">\n",
              "    <path d=\"M0 0h24v24H0V0z\" fill=\"none\"/>\n",
              "    <path d=\"M18.56 5.44l.94 2.06.94-2.06 2.06-.94-2.06-.94-.94-2.06-.94 2.06-2.06.94zm-11 1L8.5 8.5l.94-2.06 2.06-.94-2.06-.94L8.5 2.5l-.94 2.06-2.06.94zm10 10l.94 2.06.94-2.06 2.06-.94-2.06-.94-.94-2.06-.94 2.06-2.06.94z\"/><path d=\"M17.41 7.96l-1.37-1.37c-.4-.4-.92-.59-1.43-.59-.52 0-1.04.2-1.43.59L10.3 9.45l-7.72 7.72c-.78.78-.78 2.05 0 2.83L4 21.41c.39.39.9.59 1.41.59.51 0 1.02-.2 1.41-.59l7.78-7.78 2.81-2.81c.8-.78.8-2.07 0-2.86zM5.41 20L4 18.59l7.72-7.72 1.47 1.35L5.41 20z\"/>\n",
              "  </svg>\n",
              "      </button>\n",
              "      \n",
              "  <style>\n",
              "    .colab-df-container {\n",
              "      display:flex;\n",
              "      flex-wrap:wrap;\n",
              "      gap: 12px;\n",
              "    }\n",
              "\n",
              "    .colab-df-convert {\n",
              "      background-color: #E8F0FE;\n",
              "      border: none;\n",
              "      border-radius: 50%;\n",
              "      cursor: pointer;\n",
              "      display: none;\n",
              "      fill: #1967D2;\n",
              "      height: 32px;\n",
              "      padding: 0 0 0 0;\n",
              "      width: 32px;\n",
              "    }\n",
              "\n",
              "    .colab-df-convert:hover {\n",
              "      background-color: #E2EBFA;\n",
              "      box-shadow: 0px 1px 2px rgba(60, 64, 67, 0.3), 0px 1px 3px 1px rgba(60, 64, 67, 0.15);\n",
              "      fill: #174EA6;\n",
              "    }\n",
              "\n",
              "    [theme=dark] .colab-df-convert {\n",
              "      background-color: #3B4455;\n",
              "      fill: #D2E3FC;\n",
              "    }\n",
              "\n",
              "    [theme=dark] .colab-df-convert:hover {\n",
              "      background-color: #434B5C;\n",
              "      box-shadow: 0px 1px 3px 1px rgba(0, 0, 0, 0.15);\n",
              "      filter: drop-shadow(0px 1px 2px rgba(0, 0, 0, 0.3));\n",
              "      fill: #FFFFFF;\n",
              "    }\n",
              "  </style>\n",
              "\n",
              "      <script>\n",
              "        const buttonEl =\n",
              "          document.querySelector('#df-09a52190-69f7-4b57-a15f-bb95e092db2e button.colab-df-convert');\n",
              "        buttonEl.style.display =\n",
              "          google.colab.kernel.accessAllowed ? 'block' : 'none';\n",
              "\n",
              "        async function convertToInteractive(key) {\n",
              "          const element = document.querySelector('#df-09a52190-69f7-4b57-a15f-bb95e092db2e');\n",
              "          const dataTable =\n",
              "            await google.colab.kernel.invokeFunction('convertToInteractive',\n",
              "                                                     [key], {});\n",
              "          if (!dataTable) return;\n",
              "\n",
              "          const docLinkHtml = 'Like what you see? Visit the ' +\n",
              "            '<a target=\"_blank\" href=https://colab.research.google.com/notebooks/data_table.ipynb>data table notebook</a>'\n",
              "            + ' to learn more about interactive tables.';\n",
              "          element.innerHTML = '';\n",
              "          dataTable['output_type'] = 'display_data';\n",
              "          await google.colab.output.renderOutput(dataTable, element);\n",
              "          const docLink = document.createElement('div');\n",
              "          docLink.innerHTML = docLinkHtml;\n",
              "          element.appendChild(docLink);\n",
              "        }\n",
              "      </script>\n",
              "    </div>\n",
              "  </div>\n",
              "  "
            ]
          },
          "metadata": {},
          "execution_count": 276
        }
      ],
      "source": [
        "pc1_df"
      ]
    },
    {
      "cell_type": "markdown",
      "metadata": {
        "id": "25nNti350v9c"
      },
      "source": [
        "####**Spiliting Dataset**\n",
        "training: 80% testing:20%"
      ]
    },
    {
      "cell_type": "code",
      "execution_count": null,
      "metadata": {
        "id": "TF_7nnjR0v9d"
      },
      "outputs": [],
      "source": [
        "x = pc1_df.iloc[:,:-1]\n",
        "y = pc1_df.iloc[:,-1]\n",
        "\n",
        "from sklearn.model_selection import train_test_split\n",
        "x_train, x_test, y_train, y_test = train_test_split(x,y,test_size=0.20,random_state=0, stratify=pc1_df.problems)\n",
        "\n",
        "from sklearn.preprocessing import StandardScaler    \n",
        "st_x= StandardScaler()    \n",
        "x_train= st_x.fit_transform(x_train)    \n",
        "x_test= st_x.transform(x_test)  "
      ]
    },
    {
      "cell_type": "code",
      "source": [
        "import seaborn as sns\n",
        "\n",
        "plt.rcParams['figure.figsize']=(12,6)\n",
        "plt.rcParams['font.size']=14\n",
        "plt.title('kc2 Dataset')\n",
        "sns.set_style(\"darkgrid\")\n",
        "\n",
        "sns.countplot(kc2_df.problems);"
      ],
      "metadata": {
        "colab": {
          "base_uri": "https://localhost:8080/",
          "height": 413
        },
        "outputId": "786b720d-d7c0-4d33-9e0f-a396af14f804",
        "id": "NC6i6NPMmLiy"
      },
      "execution_count": null,
      "outputs": [
        {
          "output_type": "stream",
          "name": "stderr",
          "text": [
            "/usr/local/lib/python3.8/dist-packages/seaborn/_decorators.py:36: FutureWarning: Pass the following variable as a keyword arg: x. From version 0.12, the only valid positional argument will be `data`, and passing other arguments without an explicit keyword will result in an error or misinterpretation.\n",
            "  warnings.warn(\n"
          ]
        },
        {
          "output_type": "display_data",
          "data": {
            "text/plain": [
              "<Figure size 864x432 with 1 Axes>"
            ],
            "image/png": "[encoded data removed]"
          },
          "metadata": {}
        }
      ]
    },
    {
      "cell_type": "code",
      "source": [
        "import seaborn as sns\n",
        "\n",
        "plt.rcParams['figure.figsize']=(12,6)\n",
        "plt.rcParams['font.size']=14\n",
        "plt.title('AR1 Dataset')\n",
        "sns.set_style(\"darkgrid\")\n",
        "\n",
        "sns.countplot(y_train);\n"
      ],
      "metadata": {
        "colab": {
          "base_uri": "https://localhost:8080/",
          "height": 413
        },
        "outputId": "f4ab8eec-a407-44f1-b9f1-ecb56e5ad6ab",
        "id": "ewWqqSdQmLi0"
      },
      "execution_count": null,
      "outputs": [
        {
          "output_type": "stream",
          "name": "stderr",
          "text": [
            "/usr/local/lib/python3.8/dist-packages/seaborn/_decorators.py:36: FutureWarning: Pass the following variable as a keyword arg: x. From version 0.12, the only valid positional argument will be `data`, and passing other arguments without an explicit keyword will result in an error or misinterpretation.\n",
            "  warnings.warn(\n"
          ]
        },
        {
          "output_type": "display_data",
          "data": {
            "text/plain": [
              "<Figure size 864x432 with 1 Axes>"
            ],
            "image/png": "[encoded data removed]"
          },
          "metadata": {}
        }
      ]
    },
    {
      "cell_type": "markdown",
      "metadata": {
        "id": "DDSu65FY0v9d"
      },
      "source": [
        "###**Logistic Regression**"
      ]
    },
    {
      "cell_type": "code",
      "execution_count": null,
      "metadata": {
        "colab": {
          "base_uri": "https://localhost:8080/"
        },
        "id": "_4cxW6z30v9e",
        "outputId": "dfc1e097-5263-4792-80f9-e5b6008bf74f"
      },
      "outputs": [
        {
          "output_type": "stream",
          "name": "stdout",
          "text": [
            "Test Accuracy Score:  0.9279279279279279\n",
            "Confusion Matrix: \n",
            " [[203   4]\n",
            " [ 12   3]]\n"
          ]
        }
      ],
      "source": [
        "from sklearn.linear_model import LogisticRegression  \n",
        "classifier= LogisticRegression(random_state=0)  \n",
        "classifier.fit(x_train, y_train) \n",
        "\n",
        "y_pred= classifier.predict(x_test)\n",
        "\n",
        "score_ = accuracy_score(y_test, y_pred)\n",
        "print(\"Test Accuracy Score: \", score_)\n",
        "\n",
        "from sklearn.metrics import confusion_matrix  \n",
        "cm= confusion_matrix(y_test,y_pred)\n",
        "print(\"Confusion Matrix: \\n\",cm)"
      ]
    },
    {
      "cell_type": "markdown",
      "metadata": {
        "id": "cj2F98bh0v9e"
      },
      "source": [
        "###**Support Vector Machine Algorithm**"
      ]
    },
    {
      "cell_type": "code",
      "execution_count": null,
      "metadata": {
        "colab": {
          "base_uri": "https://localhost:8080/"
        },
        "id": "PlGmWOKL0v9e",
        "outputId": "542de0c5-a144-4420-f602-41b373bac86b"
      },
      "outputs": [
        {
          "output_type": "execute_result",
          "data": {
            "text/plain": [
              "SVC(random_state=0)"
            ]
          },
          "metadata": {},
          "execution_count": 281
        }
      ],
      "source": [
        "from sklearn.svm import SVC # \"Support vector classifier\"  \n",
        "classifier = SVC(kernel='rbf', random_state=0)  \n",
        "classifier.fit(x_train, y_train)  "
      ]
    },
    {
      "cell_type": "code",
      "execution_count": null,
      "metadata": {
        "id": "p2nF7MLz0v9f"
      },
      "outputs": [],
      "source": [
        "#Predicting the test set result  \n",
        "y_pred= classifier.predict(x_test)  "
      ]
    },
    {
      "cell_type": "code",
      "execution_count": null,
      "metadata": {
        "colab": {
          "base_uri": "https://localhost:8080/"
        },
        "id": "HexmcA3l0v9f",
        "outputId": "bd878658-2a27-4547-bdab-b688d1cf2b82"
      },
      "outputs": [
        {
          "output_type": "stream",
          "name": "stdout",
          "text": [
            "[[207   0]\n",
            " [ 12   3]]\n"
          ]
        }
      ],
      "source": [
        "from sklearn.metrics import confusion_matrix  \n",
        "cm= confusion_matrix(y_test, y_pred)  \n",
        "print(cm)"
      ]
    },
    {
      "cell_type": "code",
      "execution_count": null,
      "metadata": {
        "colab": {
          "base_uri": "https://localhost:8080/"
        },
        "id": "848fk2gQ0v9g",
        "outputId": "5d6b1360-33d0-458d-a492-3bda665b56e5"
      },
      "outputs": [
        {
          "output_type": "stream",
          "name": "stdout",
          "text": [
            "Test Accuracy Score:  0.9459459459459459\n"
          ]
        }
      ],
      "source": [
        "score_ = accuracy_score(y_test, y_pred)\n",
        "print(\"Test Accuracy Score: \", score_)"
      ]
    },
    {
      "cell_type": "markdown",
      "metadata": {
        "id": "h3MiUbhE0v9h"
      },
      "source": [
        "##**Decision Tree Algorithm**"
      ]
    },
    {
      "cell_type": "code",
      "execution_count": null,
      "metadata": {
        "colab": {
          "base_uri": "https://localhost:8080/"
        },
        "id": "0mLWudsg0v9h",
        "outputId": "d30efa18-da14-4172-888e-f4aad03c7f0e"
      },
      "outputs": [
        {
          "output_type": "execute_result",
          "data": {
            "text/plain": [
              "DecisionTreeClassifier(criterion='entropy', random_state=0)"
            ]
          },
          "metadata": {},
          "execution_count": 285
        }
      ],
      "source": [
        "from sklearn.tree import DecisionTreeClassifier  \n",
        "classifier= DecisionTreeClassifier(criterion='entropy', random_state=0)  \n",
        "classifier.fit(x_train, y_train)  "
      ]
    },
    {
      "cell_type": "code",
      "execution_count": null,
      "metadata": {
        "id": "LF5tzp6s0v9h"
      },
      "outputs": [],
      "source": [
        "#Predicting the test set result  \n",
        "y_pred= classifier.predict(x_test)  "
      ]
    },
    {
      "cell_type": "code",
      "execution_count": null,
      "metadata": {
        "colab": {
          "base_uri": "https://localhost:8080/"
        },
        "id": "7VRld2Gq0v9h",
        "outputId": "4d43e43c-ced5-432c-ed80-a17faea7eda1"
      },
      "outputs": [
        {
          "output_type": "stream",
          "name": "stdout",
          "text": [
            "[[198   9]\n",
            " [  9   6]]\n"
          ]
        }
      ],
      "source": [
        "#Creating the Confusion matrix  \n",
        "from sklearn.metrics import confusion_matrix  \n",
        "cm= confusion_matrix(y_test, y_pred) \n",
        "print(cm)"
      ]
    },
    {
      "cell_type": "code",
      "execution_count": null,
      "metadata": {
        "colab": {
          "base_uri": "https://localhost:8080/"
        },
        "id": "JkIdduZQ0v9i",
        "outputId": "479461af-8f8b-4a93-be53-5dcec9a44093"
      },
      "outputs": [
        {
          "output_type": "stream",
          "name": "stdout",
          "text": [
            "Test Accuracy Score:  0.918918918918919\n"
          ]
        }
      ],
      "source": [
        "score_ = accuracy_score(y_test, y_pred)\n",
        "print(\"Test Accuracy Score: \", score_)"
      ]
    },
    {
      "cell_type": "markdown",
      "metadata": {
        "id": "5ZGpvhiG0v9i"
      },
      "source": [
        "##**Random Forest**"
      ]
    },
    {
      "cell_type": "code",
      "execution_count": null,
      "metadata": {
        "colab": {
          "base_uri": "https://localhost:8080/"
        },
        "id": "btCaybrP0v9i",
        "outputId": "21761d24-726a-4b6e-faf9-e76092a2aba3"
      },
      "outputs": [
        {
          "output_type": "execute_result",
          "data": {
            "text/plain": [
              "RandomForestClassifier(criterion='entropy', n_estimators=10)"
            ]
          },
          "metadata": {},
          "execution_count": 289
        }
      ],
      "source": [
        "#Fitting Decision Tree classifier to the training set  \n",
        "from sklearn.ensemble import RandomForestClassifier  \n",
        "classifier= RandomForestClassifier(n_estimators= 10, criterion=\"entropy\")  \n",
        "classifier.fit(x_train, y_train)  "
      ]
    },
    {
      "cell_type": "code",
      "execution_count": null,
      "metadata": {
        "id": "7tVnJT-E0v9i"
      },
      "outputs": [],
      "source": [
        "#Predicting the test set result  \n",
        "y_pred= classifier.predict(x_test)  "
      ]
    },
    {
      "cell_type": "code",
      "execution_count": null,
      "metadata": {
        "colab": {
          "base_uri": "https://localhost:8080/"
        },
        "id": "Tbz2NdBz0v9j",
        "outputId": "8ec30684-cbed-43ce-f83b-cf00eb57d630"
      },
      "outputs": [
        {
          "output_type": "stream",
          "name": "stdout",
          "text": [
            "[[206   1]\n",
            " [ 11   4]]\n"
          ]
        }
      ],
      "source": [
        "#Creating the Confusion matrix  \n",
        "from sklearn.metrics import confusion_matrix  \n",
        "cm= confusion_matrix(y_test, y_pred)  \n",
        "print(cm)"
      ]
    },
    {
      "cell_type": "code",
      "execution_count": null,
      "metadata": {
        "colab": {
          "base_uri": "https://localhost:8080/"
        },
        "id": "bIWCcwfV0v9j",
        "outputId": "4c6c46e1-99ce-4763-ffd4-36b0c52594ea"
      },
      "outputs": [
        {
          "output_type": "stream",
          "name": "stdout",
          "text": [
            "Test Accuracy Score:  0.9459459459459459\n"
          ]
        }
      ],
      "source": [
        "score_ = accuracy_score(y_test, y_pred)\n",
        "print(\"Test Accuracy Score: \", score_)"
      ]
    },
    {
      "cell_type": "markdown",
      "metadata": {
        "id": "oRG7LuzP0v9j"
      },
      "source": [
        "##**Bagging**"
      ]
    },
    {
      "cell_type": "code",
      "execution_count": null,
      "metadata": {
        "colab": {
          "base_uri": "https://localhost:8080/"
        },
        "id": "a-804rJc0v9j",
        "outputId": "51acf57d-f5fd-4478-fd35-bfc24d165d00"
      },
      "outputs": [
        {
          "output_type": "execute_result",
          "data": {
            "text/plain": [
              "DecisionTreeClassifier(random_state=21)"
            ]
          },
          "metadata": {},
          "execution_count": 294
        }
      ],
      "source": [
        "from sklearn.tree import DecisionTreeClassifier\n",
        "dtree = DecisionTreeClassifier(random_state=21)\n",
        "dtree.fit(x_train,y_train)"
      ]
    },
    {
      "cell_type": "code",
      "execution_count": null,
      "metadata": {
        "colab": {
          "base_uri": "https://localhost:8080/"
        },
        "id": "WcxiBlXe0v9k",
        "outputId": "85716c1a-3fa4-4b2b-907e-19fa7e5794d6"
      },
      "outputs": [
        {
          "output_type": "stream",
          "name": "stdout",
          "text": [
            "Train data accuracy: 0.9966139954853274\n",
            "Test data accuracy: 0.9099099099099099\n"
          ]
        }
      ],
      "source": [
        "y_pred = dtree.predict(x_test)\n",
        "\n",
        "print(\"Train data accuracy:\",accuracy_score(y_true = y_train, y_pred = dtree.predict(x_train)))\n",
        "print(\"Test data accuracy:\",accuracy_score(y_true = y_test, y_pred = y_pred))"
      ]
    },
    {
      "cell_type": "markdown",
      "metadata": {
        "id": "rUKXgsJX07xx"
      },
      "source": [
        "#**jm1**"
      ]
    },
    {
      "cell_type": "code",
      "execution_count": null,
      "metadata": {
        "colab": {
          "base_uri": "https://localhost:8080/",
          "height": 487
        },
        "id": "kOxN4-OL0_FB",
        "outputId": "84cdccc8-a41c-4754-c4be-e53392243282"
      },
      "outputs": [
        {
          "output_type": "execute_result",
          "data": {
            "text/plain": [
              "       l_count  cyclomatic_complexity  essential_complexity  \\\n",
              "0            1                      1                     1   \n",
              "1           72                      7                     1   \n",
              "2          190                      3                     1   \n",
              "3           37                      4                     1   \n",
              "4           31                      2                     1   \n",
              "...        ...                    ...                   ...   \n",
              "10879       18                      4                     1   \n",
              "10880        9                      2                     1   \n",
              "10881       42                      4                     1   \n",
              "10882       10                      1                     1   \n",
              "10883       19                      3                     1   \n",
              "\n",
              "       design_complexity    n        v     l      d       i         e  ...  \\\n",
              "0                      1    1     1.00  1.00   1.00    1.00      1.00  ...   \n",
              "1                      6  198  1134.13  0.05  20.31   55.85  23029.10  ...   \n",
              "2                      3  600  4348.76  0.06  17.06  254.87  74202.67  ...   \n",
              "3                      4  126   599.12  0.06  17.19   34.86  10297.30  ...   \n",
              "4                      2  111   582.52  0.08  12.25   47.55   7135.87  ...   \n",
              "...                  ...  ...      ...   ...    ...     ...       ...  ...   \n",
              "10879                  4   52   241.48  0.14   7.33   32.93   1770.86  ...   \n",
              "10880                  2   30   129.66  0.12   8.25   15.72   1069.68  ...   \n",
              "10881                  2  103   519.57  0.04  26.40   19.68  13716.72  ...   \n",
              "10882                  1   36   147.15  0.12   8.44   17.44   1241.57  ...   \n",
              "10883                  1   58   272.63  0.09  11.57   23.56   3154.67  ...   \n",
              "\n",
              "       lOCode  lOComment  lOBlank  lOCodeAndComment  uniq_Op  uniq_Opnd  \\\n",
              "0           1          1        1                 1        1          1   \n",
              "1          51         10        8                 1       17         36   \n",
              "2         129         29       28                 2       17        135   \n",
              "3          28          1        6                 0       11         16   \n",
              "4          19          0        5                 0       14         24   \n",
              "...       ...        ...      ...               ...      ...        ...   \n",
              "10879      13          0        2                 0       10         15   \n",
              "10880       5          0        2                 0       12          8   \n",
              "10881      29          1       10                 0       18         15   \n",
              "10882       6          0        2                 0        9          8   \n",
              "10883      13          0        2                 1       12         14   \n",
              "\n",
              "       total_Op  total_Opnd  branchCount  problems  \n",
              "0             1           1            1      True  \n",
              "1           112          86           13      True  \n",
              "2           329         271            5      True  \n",
              "3            76          50            7      True  \n",
              "4            69          42            3      True  \n",
              "...         ...         ...          ...       ...  \n",
              "10879        30          22            7     False  \n",
              "10880        19          11            3     False  \n",
              "10881        59          44            7     False  \n",
              "10882        21          15            1     False  \n",
              "10883        31          27            5     False  \n",
              "\n",
              "[10879 rows x 22 columns]"
            ],
            "text/html": [
              "\n",
              "  <div id=\"df-4bae0bf4-877f-4eb5-b27d-4f8362894ce0\">\n",
              "    <div class=\"colab-df-container\">\n",
              "      <div>\n",
              "<style scoped>\n",
              "    .dataframe tbody tr th:only-of-type {\n",
              "        vertical-align: middle;\n",
              "    }\n",
              "\n",
              "    .dataframe tbody tr th {\n",
              "        vertical-align: top;\n",
              "    }\n",
              "\n",
              "    .dataframe thead th {\n",
              "        text-align: right;\n",
              "    }\n",
              "</style>\n",
              "<table border=\"1\" class=\"dataframe\">\n",
              "  <thead>\n",
              "    <tr style=\"text-align: right;\">\n",
              "      <th></th>\n",
              "      <th>l_count</th>\n",
              "      <th>cyclomatic_complexity</th>\n",
              "      <th>essential_complexity</th>\n",
              "      <th>design_complexity</th>\n",
              "      <th>n</th>\n",
              "      <th>v</th>\n",
              "      <th>l</th>\n",
              "      <th>d</th>\n",
              "      <th>i</th>\n",
              "      <th>e</th>\n",
              "      <th>...</th>\n",
              "      <th>lOCode</th>\n",
              "      <th>lOComment</th>\n",
              "      <th>lOBlank</th>\n",
              "      <th>lOCodeAndComment</th>\n",
              "      <th>uniq_Op</th>\n",
              "      <th>uniq_Opnd</th>\n",
              "      <th>total_Op</th>\n",
              "      <th>total_Opnd</th>\n",
              "      <th>branchCount</th>\n",
              "      <th>problems</th>\n",
              "    </tr>\n",
              "  </thead>\n",
              "  <tbody>\n",
              "    <tr>\n",
              "      <th>0</th>\n",
              "      <td>1</td>\n",
              "      <td>1</td>\n",
              "      <td>1</td>\n",
              "      <td>1</td>\n",
              "      <td>1</td>\n",
              "      <td>1.00</td>\n",
              "      <td>1.00</td>\n",
              "      <td>1.00</td>\n",
              "      <td>1.00</td>\n",
              "      <td>1.00</td>\n",
              "      <td>...</td>\n",
              "      <td>1</td>\n",
              "      <td>1</td>\n",
              "      <td>1</td>\n",
              "      <td>1</td>\n",
              "      <td>1</td>\n",
              "      <td>1</td>\n",
              "      <td>1</td>\n",
              "      <td>1</td>\n",
              "      <td>1</td>\n",
              "      <td>True</td>\n",
              "    </tr>\n",
              "    <tr>\n",
              "      <th>1</th>\n",
              "      <td>72</td>\n",
              "      <td>7</td>\n",
              "      <td>1</td>\n",
              "      <td>6</td>\n",
              "      <td>198</td>\n",
              "      <td>1134.13</td>\n",
              "      <td>0.05</td>\n",
              "      <td>20.31</td>\n",
              "      <td>55.85</td>\n",
              "      <td>23029.10</td>\n",
              "      <td>...</td>\n",
              "      <td>51</td>\n",
              "      <td>10</td>\n",
              "      <td>8</td>\n",
              "      <td>1</td>\n",
              "      <td>17</td>\n",
              "      <td>36</td>\n",
              "      <td>112</td>\n",
              "      <td>86</td>\n",
              "      <td>13</td>\n",
              "      <td>True</td>\n",
              "    </tr>\n",
              "    <tr>\n",
              "      <th>2</th>\n",
              "      <td>190</td>\n",
              "      <td>3</td>\n",
              "      <td>1</td>\n",
              "      <td>3</td>\n",
              "      <td>600</td>\n",
              "      <td>4348.76</td>\n",
              "      <td>0.06</td>\n",
              "      <td>17.06</td>\n",
              "      <td>254.87</td>\n",
              "      <td>74202.67</td>\n",
              "      <td>...</td>\n",
              "      <td>129</td>\n",
              "      <td>29</td>\n",
              "      <td>28</td>\n",
              "      <td>2</td>\n",
              "      <td>17</td>\n",
              "      <td>135</td>\n",
              "      <td>329</td>\n",
              "      <td>271</td>\n",
              "      <td>5</td>\n",
              "      <td>True</td>\n",
              "    </tr>\n",
              "    <tr>\n",
              "      <th>3</th>\n",
              "      <td>37</td>\n",
              "      <td>4</td>\n",
              "      <td>1</td>\n",
              "      <td>4</td>\n",
              "      <td>126</td>\n",
              "      <td>599.12</td>\n",
              "      <td>0.06</td>\n",
              "      <td>17.19</td>\n",
              "      <td>34.86</td>\n",
              "      <td>10297.30</td>\n",
              "      <td>...</td>\n",
              "      <td>28</td>\n",
              "      <td>1</td>\n",
              "      <td>6</td>\n",
              "      <td>0</td>\n",
              "      <td>11</td>\n",
              "      <td>16</td>\n",
              "      <td>76</td>\n",
              "      <td>50</td>\n",
              "      <td>7</td>\n",
              "      <td>True</td>\n",
              "    </tr>\n",
              "    <tr>\n",
              "      <th>4</th>\n",
              "      <td>31</td>\n",
              "      <td>2</td>\n",
              "      <td>1</td>\n",
              "      <td>2</td>\n",
              "      <td>111</td>\n",
              "      <td>582.52</td>\n",
              "      <td>0.08</td>\n",
              "      <td>12.25</td>\n",
              "      <td>47.55</td>\n",
              "      <td>7135.87</td>\n",
              "      <td>...</td>\n",
              "      <td>19</td>\n",
              "      <td>0</td>\n",
              "      <td>5</td>\n",
              "      <td>0</td>\n",
              "      <td>14</td>\n",
              "      <td>24</td>\n",
              "      <td>69</td>\n",
              "      <td>42</td>\n",
              "      <td>3</td>\n",
              "      <td>True</td>\n",
              "    </tr>\n",
              "    <tr>\n",
              "      <th>...</th>\n",
              "      <td>...</td>\n",
              "      <td>...</td>\n",
              "      <td>...</td>\n",
              "      <td>...</td>\n",
              "      <td>...</td>\n",
              "      <td>...</td>\n",
              "      <td>...</td>\n",
              "      <td>...</td>\n",
              "      <td>...</td>\n",
              "      <td>...</td>\n",
              "      <td>...</td>\n",
              "      <td>...</td>\n",
              "      <td>...</td>\n",
              "      <td>...</td>\n",
              "      <td>...</td>\n",
              "      <td>...</td>\n",
              "      <td>...</td>\n",
              "      <td>...</td>\n",
              "      <td>...</td>\n",
              "      <td>...</td>\n",
              "      <td>...</td>\n",
              "    </tr>\n",
              "    <tr>\n",
              "      <th>10879</th>\n",
              "      <td>18</td>\n",
              "      <td>4</td>\n",
              "      <td>1</td>\n",
              "      <td>4</td>\n",
              "      <td>52</td>\n",
              "      <td>241.48</td>\n",
              "      <td>0.14</td>\n",
              "      <td>7.33</td>\n",
              "      <td>32.93</td>\n",
              "      <td>1770.86</td>\n",
              "      <td>...</td>\n",
              "      <td>13</td>\n",
              "      <td>0</td>\n",
              "      <td>2</td>\n",
              "      <td>0</td>\n",
              "      <td>10</td>\n",
              "      <td>15</td>\n",
              "      <td>30</td>\n",
              "      <td>22</td>\n",
              "      <td>7</td>\n",
              "      <td>False</td>\n",
              "    </tr>\n",
              "    <tr>\n",
              "      <th>10880</th>\n",
              "      <td>9</td>\n",
              "      <td>2</td>\n",
              "      <td>1</td>\n",
              "      <td>2</td>\n",
              "      <td>30</td>\n",
              "      <td>129.66</td>\n",
              "      <td>0.12</td>\n",
              "      <td>8.25</td>\n",
              "      <td>15.72</td>\n",
              "      <td>1069.68</td>\n",
              "      <td>...</td>\n",
              "      <td>5</td>\n",
              "      <td>0</td>\n",
              "      <td>2</td>\n",
              "      <td>0</td>\n",
              "      <td>12</td>\n",
              "      <td>8</td>\n",
              "      <td>19</td>\n",
              "      <td>11</td>\n",
              "      <td>3</td>\n",
              "      <td>False</td>\n",
              "    </tr>\n",
              "    <tr>\n",
              "      <th>10881</th>\n",
              "      <td>42</td>\n",
              "      <td>4</td>\n",
              "      <td>1</td>\n",
              "      <td>2</td>\n",
              "      <td>103</td>\n",
              "      <td>519.57</td>\n",
              "      <td>0.04</td>\n",
              "      <td>26.40</td>\n",
              "      <td>19.68</td>\n",
              "      <td>13716.72</td>\n",
              "      <td>...</td>\n",
              "      <td>29</td>\n",
              "      <td>1</td>\n",
              "      <td>10</td>\n",
              "      <td>0</td>\n",
              "      <td>18</td>\n",
              "      <td>15</td>\n",
              "      <td>59</td>\n",
              "      <td>44</td>\n",
              "      <td>7</td>\n",
              "      <td>False</td>\n",
              "    </tr>\n",
              "    <tr>\n",
              "      <th>10882</th>\n",
              "      <td>10</td>\n",
              "      <td>1</td>\n",
              "      <td>1</td>\n",
              "      <td>1</td>\n",
              "      <td>36</td>\n",
              "      <td>147.15</td>\n",
              "      <td>0.12</td>\n",
              "      <td>8.44</td>\n",
              "      <td>17.44</td>\n",
              "      <td>1241.57</td>\n",
              "      <td>...</td>\n",
              "      <td>6</td>\n",
              "      <td>0</td>\n",
              "      <td>2</td>\n",
              "      <td>0</td>\n",
              "      <td>9</td>\n",
              "      <td>8</td>\n",
              "      <td>21</td>\n",
              "      <td>15</td>\n",
              "      <td>1</td>\n",
              "      <td>False</td>\n",
              "    </tr>\n",
              "    <tr>\n",
              "      <th>10883</th>\n",
              "      <td>19</td>\n",
              "      <td>3</td>\n",
              "      <td>1</td>\n",
              "      <td>1</td>\n",
              "      <td>58</td>\n",
              "      <td>272.63</td>\n",
              "      <td>0.09</td>\n",
              "      <td>11.57</td>\n",
              "      <td>23.56</td>\n",
              "      <td>3154.67</td>\n",
              "      <td>...</td>\n",
              "      <td>13</td>\n",
              "      <td>0</td>\n",
              "      <td>2</td>\n",
              "      <td>1</td>\n",
              "      <td>12</td>\n",
              "      <td>14</td>\n",
              "      <td>31</td>\n",
              "      <td>27</td>\n",
              "      <td>5</td>\n",
              "      <td>False</td>\n",
              "    </tr>\n",
              "  </tbody>\n",
              "</table>\n",
              "<p>10879 rows × 22 columns</p>\n",
              "</div>\n",
              "      <button class=\"colab-df-convert\" onclick=\"convertToInteractive('df-4bae0bf4-877f-4eb5-b27d-4f8362894ce0')\"\n",
              "              title=\"Convert this dataframe to an interactive table.\"\n",
              "              style=\"display:none;\">\n",
              "        \n",
              "  <svg xmlns=\"http://www.w3.org/2000/svg\" height=\"24px\"viewBox=\"0 0 24 24\"\n",
              "       width=\"24px\">\n",
              "    <path d=\"M0 0h24v24H0V0z\" fill=\"none\"/>\n",
              "    <path d=\"M18.56 5.44l.94 2.06.94-2.06 2.06-.94-2.06-.94-.94-2.06-.94 2.06-2.06.94zm-11 1L8.5 8.5l.94-2.06 2.06-.94-2.06-.94L8.5 2.5l-.94 2.06-2.06.94zm10 10l.94 2.06.94-2.06 2.06-.94-2.06-.94-.94-2.06-.94 2.06-2.06.94z\"/><path d=\"M17.41 7.96l-1.37-1.37c-.4-.4-.92-.59-1.43-.59-.52 0-1.04.2-1.43.59L10.3 9.45l-7.72 7.72c-.78.78-.78 2.05 0 2.83L4 21.41c.39.39.9.59 1.41.59.51 0 1.02-.2 1.41-.59l7.78-7.78 2.81-2.81c.8-.78.8-2.07 0-2.86zM5.41 20L4 18.59l7.72-7.72 1.47 1.35L5.41 20z\"/>\n",
              "  </svg>\n",
              "      </button>\n",
              "      \n",
              "  <style>\n",
              "    .colab-df-container {\n",
              "      display:flex;\n",
              "      flex-wrap:wrap;\n",
              "      gap: 12px;\n",
              "    }\n",
              "\n",
              "    .colab-df-convert {\n",
              "      background-color: #E8F0FE;\n",
              "      border: none;\n",
              "      border-radius: 50%;\n",
              "      cursor: pointer;\n",
              "      display: none;\n",
              "      fill: #1967D2;\n",
              "      height: 32px;\n",
              "      padding: 0 0 0 0;\n",
              "      width: 32px;\n",
              "    }\n",
              "\n",
              "    .colab-df-convert:hover {\n",
              "      background-color: #E2EBFA;\n",
              "      box-shadow: 0px 1px 2px rgba(60, 64, 67, 0.3), 0px 1px 3px 1px rgba(60, 64, 67, 0.15);\n",
              "      fill: #174EA6;\n",
              "    }\n",
              "\n",
              "    [theme=dark] .colab-df-convert {\n",
              "      background-color: #3B4455;\n",
              "      fill: #D2E3FC;\n",
              "    }\n",
              "\n",
              "    [theme=dark] .colab-df-convert:hover {\n",
              "      background-color: #434B5C;\n",
              "      box-shadow: 0px 1px 3px 1px rgba(0, 0, 0, 0.15);\n",
              "      filter: drop-shadow(0px 1px 2px rgba(0, 0, 0, 0.3));\n",
              "      fill: #FFFFFF;\n",
              "    }\n",
              "  </style>\n",
              "\n",
              "      <script>\n",
              "        const buttonEl =\n",
              "          document.querySelector('#df-4bae0bf4-877f-4eb5-b27d-4f8362894ce0 button.colab-df-convert');\n",
              "        buttonEl.style.display =\n",
              "          google.colab.kernel.accessAllowed ? 'block' : 'none';\n",
              "\n",
              "        async function convertToInteractive(key) {\n",
              "          const element = document.querySelector('#df-4bae0bf4-877f-4eb5-b27d-4f8362894ce0');\n",
              "          const dataTable =\n",
              "            await google.colab.kernel.invokeFunction('convertToInteractive',\n",
              "                                                     [key], {});\n",
              "          if (!dataTable) return;\n",
              "\n",
              "          const docLinkHtml = 'Like what you see? Visit the ' +\n",
              "            '<a target=\"_blank\" href=https://colab.research.google.com/notebooks/data_table.ipynb>data table notebook</a>'\n",
              "            + ' to learn more about interactive tables.';\n",
              "          element.innerHTML = '';\n",
              "          dataTable['output_type'] = 'display_data';\n",
              "          await google.colab.output.renderOutput(dataTable, element);\n",
              "          const docLink = document.createElement('div');\n",
              "          docLink.innerHTML = docLinkHtml;\n",
              "          element.appendChild(docLink);\n",
              "        }\n",
              "      </script>\n",
              "    </div>\n",
              "  </div>\n",
              "  "
            ]
          },
          "metadata": {},
          "execution_count": 296
        }
      ],
      "source": [
        "jm1_df"
      ]
    },
    {
      "cell_type": "markdown",
      "metadata": {
        "id": "0F8AtGId1BHK"
      },
      "source": [
        "####**Spiliting Dataset**\n",
        "training: 80% testing:20%"
      ]
    },
    {
      "cell_type": "code",
      "execution_count": null,
      "metadata": {
        "id": "EfeQ_ez31BHM"
      },
      "outputs": [],
      "source": [
        "x = jm1_df.iloc[:,:-1]\n",
        "y = jm1_df.iloc[:,-1]\n",
        "\n",
        "from sklearn.model_selection import train_test_split\n",
        "x_train, x_test, y_train, y_test = train_test_split(x,y,test_size=0.20,random_state=0, stratify=jm1_df.problems)\n",
        "\n",
        "from sklearn.preprocessing import StandardScaler    \n",
        "st_x= StandardScaler()    \n",
        "x_train= st_x.fit_transform(x_train)    \n",
        "x_test= st_x.transform(x_test)  "
      ]
    },
    {
      "cell_type": "code",
      "source": [
        "import seaborn as sns\n",
        "\n",
        "plt.rcParams['figure.figsize']=(12,6)\n",
        "plt.rcParams['font.size']=14\n",
        "plt.title('kc2 Dataset')\n",
        "sns.set_style(\"darkgrid\")\n",
        "\n",
        "sns.countplot(kc2_df.problems);"
      ],
      "metadata": {
        "colab": {
          "base_uri": "https://localhost:8080/",
          "height": 413
        },
        "outputId": "64e16063-8b0a-47ef-99e9-3b485a50d943",
        "id": "vzns3yU6mMZ2"
      },
      "execution_count": null,
      "outputs": [
        {
          "output_type": "stream",
          "name": "stderr",
          "text": [
            "/usr/local/lib/python3.8/dist-packages/seaborn/_decorators.py:36: FutureWarning: Pass the following variable as a keyword arg: x. From version 0.12, the only valid positional argument will be `data`, and passing other arguments without an explicit keyword will result in an error or misinterpretation.\n",
            "  warnings.warn(\n"
          ]
        },
        {
          "output_type": "display_data",
          "data": {
            "text/plain": [
              "<Figure size 864x432 with 1 Axes>"
            ],
            "image/png": "[encoded data removed]"
          },
          "metadata": {}
        }
      ]
    },
    {
      "cell_type": "code",
      "source": [
        "import seaborn as sns\n",
        "\n",
        "plt.rcParams['figure.figsize']=(12,6)\n",
        "plt.rcParams['font.size']=14\n",
        "plt.title('AR1 Dataset')\n",
        "sns.set_style(\"darkgrid\")\n",
        "\n",
        "sns.countplot(y_train);\n"
      ],
      "metadata": {
        "colab": {
          "base_uri": "https://localhost:8080/",
          "height": 409
        },
        "outputId": "dc85812b-aff3-4067-846e-2c6c19cca126",
        "id": "7DDkIRX_mMZ4"
      },
      "execution_count": null,
      "outputs": [
        {
          "output_type": "stream",
          "name": "stderr",
          "text": [
            "/usr/local/lib/python3.8/dist-packages/seaborn/_decorators.py:36: FutureWarning: Pass the following variable as a keyword arg: x. From version 0.12, the only valid positional argument will be `data`, and passing other arguments without an explicit keyword will result in an error or misinterpretation.\n",
            "  warnings.warn(\n"
          ]
        },
        {
          "output_type": "display_data",
          "data": {
            "text/plain": [
              "<Figure size 864x432 with 1 Axes>"
            ],
            "image/png": "[encoded data removed]"
          },
          "metadata": {}
        }
      ]
    },
    {
      "cell_type": "markdown",
      "metadata": {
        "id": "eDiOoy0z1BHM"
      },
      "source": [
        "###**Logistic Regression**"
      ]
    },
    {
      "cell_type": "code",
      "execution_count": null,
      "metadata": {
        "colab": {
          "base_uri": "https://localhost:8080/"
        },
        "id": "6pLVAgE01BHM",
        "outputId": "51256367-dccd-439b-a62d-9547746c9372"
      },
      "outputs": [
        {
          "output_type": "stream",
          "name": "stdout",
          "text": [
            "Test Accuracy Score:  0.8092830882352942\n",
            "Confusion Matrix: \n",
            " [[1718   37]\n",
            " [ 378   43]]\n"
          ]
        },
        {
          "output_type": "stream",
          "name": "stderr",
          "text": [
            "/usr/local/lib/python3.8/dist-packages/sklearn/linear_model/_logistic.py:814: ConvergenceWarning: lbfgs failed to converge (status=1):\n",
            "STOP: TOTAL NO. of ITERATIONS REACHED LIMIT.\n",
            "\n",
            "Increase the number of iterations (max_iter) or scale the data as shown in:\n",
            "    https://scikit-learn.org/stable/modules/preprocessing.html\n",
            "Please also refer to the documentation for alternative solver options:\n",
            "    https://scikit-learn.org/stable/modules/linear_model.html#logistic-regression\n",
            "  n_iter_i = _check_optimize_result(\n"
          ]
        }
      ],
      "source": [
        "from sklearn.linear_model import LogisticRegression  \n",
        "classifier= LogisticRegression(random_state=0)  \n",
        "classifier.fit(x_train, y_train) \n",
        "\n",
        "y_pred= classifier.predict(x_test)\n",
        "\n",
        "score_ = accuracy_score(y_test, y_pred)\n",
        "print(\"Test Accuracy Score: \", score_)\n",
        "\n",
        "from sklearn.metrics import confusion_matrix  \n",
        "cm= confusion_matrix(y_test,y_pred)\n",
        "print(\"Confusion Matrix: \\n\",cm)"
      ]
    },
    {
      "cell_type": "markdown",
      "metadata": {
        "id": "l2m_iWPg1BHN"
      },
      "source": [
        "###**Support Vector Machine Algorithm**"
      ]
    },
    {
      "cell_type": "code",
      "execution_count": null,
      "metadata": {
        "colab": {
          "base_uri": "https://localhost:8080/"
        },
        "id": "YOfBeYhZ1BHN",
        "outputId": "8fec5a7f-34e5-40cf-b202-8d0f41fdb7c8"
      },
      "outputs": [
        {
          "output_type": "execute_result",
          "data": {
            "text/plain": [
              "SVC(random_state=0)"
            ]
          },
          "metadata": {},
          "execution_count": 301
        }
      ],
      "source": [
        "from sklearn.svm import SVC # \"Support vector classifier\"  \n",
        "classifier = SVC(kernel='rbf', random_state=0)  \n",
        "classifier.fit(x_train, y_train)  "
      ]
    },
    {
      "cell_type": "code",
      "execution_count": null,
      "metadata": {
        "id": "embWodUZ1BHO"
      },
      "outputs": [],
      "source": [
        "#Predicting the test set result  \n",
        "y_pred= classifier.predict(x_test)  "
      ]
    },
    {
      "cell_type": "code",
      "execution_count": null,
      "metadata": {
        "colab": {
          "base_uri": "https://localhost:8080/"
        },
        "id": "DZeFa1a_1BHO",
        "outputId": "de273ab8-80ab-4751-bf32-6f05f292bda3"
      },
      "outputs": [
        {
          "output_type": "stream",
          "name": "stdout",
          "text": [
            "[[1730   25]\n",
            " [ 386   35]]\n"
          ]
        }
      ],
      "source": [
        "from sklearn.metrics import confusion_matrix  \n",
        "cm= confusion_matrix(y_test, y_pred)  \n",
        "print(cm)"
      ]
    },
    {
      "cell_type": "code",
      "execution_count": null,
      "metadata": {
        "colab": {
          "base_uri": "https://localhost:8080/"
        },
        "id": "Mpz3_OmN1BHP",
        "outputId": "fa002d99-f637-4857-e8f7-1758b7755f6a"
      },
      "outputs": [
        {
          "output_type": "stream",
          "name": "stdout",
          "text": [
            "Test Accuracy Score:  0.8111213235294118\n"
          ]
        }
      ],
      "source": [
        "score_ = accuracy_score(y_test, y_pred)\n",
        "print(\"Test Accuracy Score: \", score_)"
      ]
    },
    {
      "cell_type": "markdown",
      "metadata": {
        "id": "bDXa2xBG1BHP"
      },
      "source": [
        "##**Decision Tree Algorithm**"
      ]
    },
    {
      "cell_type": "code",
      "execution_count": null,
      "metadata": {
        "colab": {
          "base_uri": "https://localhost:8080/"
        },
        "id": "_-aFfCPo1BHP",
        "outputId": "66a29865-abcf-40f9-ac57-a6139a1b71fd"
      },
      "outputs": [
        {
          "output_type": "execute_result",
          "data": {
            "text/plain": [
              "DecisionTreeClassifier(criterion='entropy', random_state=0)"
            ]
          },
          "metadata": {},
          "execution_count": 305
        }
      ],
      "source": [
        "from sklearn.tree import DecisionTreeClassifier  \n",
        "classifier= DecisionTreeClassifier(criterion='entropy', random_state=0)  \n",
        "classifier.fit(x_train, y_train)  "
      ]
    },
    {
      "cell_type": "code",
      "execution_count": null,
      "metadata": {
        "id": "SrjxaCNj1BHQ"
      },
      "outputs": [],
      "source": [
        "#Predicting the test set result  \n",
        "y_pred= classifier.predict(x_test)  "
      ]
    },
    {
      "cell_type": "code",
      "execution_count": null,
      "metadata": {
        "colab": {
          "base_uri": "https://localhost:8080/"
        },
        "id": "9NncsB011BHQ",
        "outputId": "c7712c28-6313-4212-bddc-30284b867fb9"
      },
      "outputs": [
        {
          "output_type": "stream",
          "name": "stdout",
          "text": [
            "[[1480  275]\n",
            " [ 264  157]]\n"
          ]
        }
      ],
      "source": [
        "#Creating the Confusion matrix  \n",
        "from sklearn.metrics import confusion_matrix  \n",
        "cm= confusion_matrix(y_test, y_pred) \n",
        "print(cm)"
      ]
    },
    {
      "cell_type": "code",
      "execution_count": null,
      "metadata": {
        "colab": {
          "base_uri": "https://localhost:8080/"
        },
        "id": "sPhil7-21BHR",
        "outputId": "06004c25-a045-4f41-fd64-ecbab9c7ec2f"
      },
      "outputs": [
        {
          "output_type": "stream",
          "name": "stdout",
          "text": [
            "Test Accuracy Score:  0.7522977941176471\n"
          ]
        }
      ],
      "source": [
        "score_ = accuracy_score(y_test, y_pred)\n",
        "print(\"Test Accuracy Score: \", score_)"
      ]
    },
    {
      "cell_type": "markdown",
      "metadata": {
        "id": "K1QS8mWr1BHR"
      },
      "source": [
        "##**Random Forest**"
      ]
    },
    {
      "cell_type": "code",
      "execution_count": null,
      "metadata": {
        "colab": {
          "base_uri": "https://localhost:8080/"
        },
        "id": "RxhwsAjm1BHR",
        "outputId": "10d99d4e-20ec-451f-cd5d-18c8cafae61b"
      },
      "outputs": [
        {
          "output_type": "execute_result",
          "data": {
            "text/plain": [
              "RandomForestClassifier(criterion='entropy', n_estimators=10)"
            ]
          },
          "metadata": {},
          "execution_count": 309
        }
      ],
      "source": [
        "#Fitting Decision Tree classifier to the training set  \n",
        "from sklearn.ensemble import RandomForestClassifier  \n",
        "classifier= RandomForestClassifier(n_estimators= 10, criterion=\"entropy\")  \n",
        "classifier.fit(x_train, y_train)  "
      ]
    },
    {
      "cell_type": "code",
      "execution_count": null,
      "metadata": {
        "id": "sDy1huNK1BHS"
      },
      "outputs": [],
      "source": [
        "#Predicting the test set result  \n",
        "y_pred= classifier.predict(x_test)  "
      ]
    },
    {
      "cell_type": "code",
      "execution_count": null,
      "metadata": {
        "colab": {
          "base_uri": "https://localhost:8080/"
        },
        "id": "Bp9Kf1MG1BHS",
        "outputId": "a9172233-1c6a-4d21-cfae-c0ae0f1c7c4a"
      },
      "outputs": [
        {
          "output_type": "stream",
          "name": "stdout",
          "text": [
            "[[1656   99]\n",
            " [ 326   95]]\n"
          ]
        }
      ],
      "source": [
        "#Creating the Confusion matrix  \n",
        "from sklearn.metrics import confusion_matrix  \n",
        "cm= confusion_matrix(y_test, y_pred)  \n",
        "print(cm)"
      ]
    },
    {
      "cell_type": "code",
      "execution_count": null,
      "metadata": {
        "colab": {
          "base_uri": "https://localhost:8080/"
        },
        "id": "UaCMvLM51BHT",
        "outputId": "1cc6f9f0-310d-4068-d267-43a90be341c7"
      },
      "outputs": [
        {
          "output_type": "stream",
          "name": "stdout",
          "text": [
            "Test Accuracy Score:  0.8046875\n"
          ]
        }
      ],
      "source": [
        "score_ = accuracy_score(y_test, y_pred)\n",
        "print(\"Test Accuracy Score: \", score_)"
      ]
    },
    {
      "cell_type": "code",
      "execution_count": null,
      "metadata": {
        "id": "zSI1rhStZZW-"
      },
      "outputs": [],
      "source": [
        "sk_folds = StratifiedKFold(n_splits = 5)\n",
        "\n",
        "scores = cross_val_score(classifier, x, y, cv = sk_folds)"
      ]
    },
    {
      "cell_type": "markdown",
      "metadata": {
        "id": "NPXzr51K1BHT"
      },
      "source": [
        "##**Bagging**"
      ]
    },
    {
      "cell_type": "code",
      "execution_count": null,
      "metadata": {
        "colab": {
          "base_uri": "https://localhost:8080/"
        },
        "id": "jMvaJOqN1BHU",
        "outputId": "86c74918-7d90-4b0f-bbcc-50c3f6233306"
      },
      "outputs": [
        {
          "output_type": "execute_result",
          "data": {
            "text/plain": [
              "DecisionTreeClassifier(random_state=21)"
            ]
          },
          "metadata": {},
          "execution_count": 314
        }
      ],
      "source": [
        "from sklearn.tree import DecisionTreeClassifier\n",
        "dtree = DecisionTreeClassifier(random_state=21)\n",
        "dtree.fit(x_train,y_train)"
      ]
    },
    {
      "cell_type": "code",
      "execution_count": null,
      "metadata": {
        "colab": {
          "base_uri": "https://localhost:8080/"
        },
        "id": "9j50xmRZ1BHU",
        "outputId": "914dfc4f-79e5-4557-a5af-9f8e6b370c72"
      },
      "outputs": [
        {
          "output_type": "stream",
          "name": "stdout",
          "text": [
            "Train data accuracy: 0.9895438354590371\n",
            "Test data accuracy: 0.7582720588235294\n"
          ]
        }
      ],
      "source": [
        "y_pred = dtree.predict(x_test)\n",
        "\n",
        "print(\"Train data accuracy:\",accuracy_score(y_true = y_train, y_pred = dtree.predict(x_train)))\n",
        "print(\"Test data accuracy:\",accuracy_score(y_true = y_test, y_pred = y_pred))"
      ]
    },
    {
      "cell_type": "markdown",
      "metadata": {
        "id": "VVk1022AjIBb"
      },
      "source": [
        "#**ar1 Dataset**"
      ]
    },
    {
      "cell_type": "code",
      "execution_count": null,
      "metadata": {
        "colab": {
          "base_uri": "https://localhost:8080/",
          "height": 487
        },
        "id": "Yqz5JdH6ks1z",
        "outputId": "5e6fa379-edcc-4912-c2e0-13a95043c999"
      },
      "outputs": [
        {
          "output_type": "execute_result",
          "data": {
            "text/plain": [
              "     total_loc  blank_loc  comment_loc  code_and_comment_loc  executable_loc  \\\n",
              "0            9          0            1                     0               8   \n",
              "1           21          0           14                     1               7   \n",
              "2           30          0           11                     0              19   \n",
              "3            8          0            2                     0               6   \n",
              "4            7          0            1                     0               6   \n",
              "..         ...        ...          ...                   ...             ...   \n",
              "115         32          0            5                     0              27   \n",
              "116          6          0            0                     0               6   \n",
              "117          6          0            0                     0               6   \n",
              "118         27          0            3                     0              24   \n",
              "119         51          2           12                     0              37   \n",
              "\n",
              "     unique_operands  unique_operators  total_operands  total_operators  \\\n",
              "0                  7                 8              15               20   \n",
              "1                 15                12              21               36   \n",
              "2                 16                18              50               70   \n",
              "3                  4                 5               5               10   \n",
              "4                  4                 5               4               11   \n",
              "..               ...               ...             ...              ...   \n",
              "115               16                11              33               56   \n",
              "116                3                 5               5               11   \n",
              "117                6                 6               6               11   \n",
              "118               16                 9              26               44   \n",
              "119               29                17              58               91   \n",
              "\n",
              "     halstead_vocabulary  ...  condition_count  multiple_condition_count  \\\n",
              "0                     15  ...                0                         0   \n",
              "1                     27  ...                4                         1   \n",
              "2                     34  ...                9                         2   \n",
              "3                      9  ...                1                         0   \n",
              "4                      9  ...                0                         0   \n",
              "..                   ...  ...              ...                       ...   \n",
              "115                   27  ...                9                         1   \n",
              "116                    8  ...                2                         0   \n",
              "117                   12  ...                2                         1   \n",
              "118                   25  ...                8                         3   \n",
              "119                   46  ...               17                         3   \n",
              "\n",
              "     cyclomatic_complexity  cyclomatic_density  decision_density  \\\n",
              "0                        2                0.25              0.00   \n",
              "1                        4                0.57              1.00   \n",
              "2                        9                0.47              1.11   \n",
              "3                        2                0.33              1.00   \n",
              "4                        2                0.33              0.00   \n",
              "..                     ...                 ...               ...   \n",
              "115                      8                0.30              1.00   \n",
              "116                      3                0.50              1.00   \n",
              "117                      2                0.33              1.00   \n",
              "118                      6                0.25              1.00   \n",
              "119                     14                0.38              1.00   \n",
              "\n",
              "     design_complexity  design_density  normalized_cyclomatic_complexity  \\\n",
              "0                    0            0.00                              0.22   \n",
              "1                    1            0.25                              0.19   \n",
              "2                    1            0.11                              0.30   \n",
              "3                    1            0.50                              0.25   \n",
              "4                    2            1.00                              0.29   \n",
              "..                 ...             ...                               ...   \n",
              "115                  0            0.00                              0.25   \n",
              "116                  0            0.00                              0.50   \n",
              "117                  1            0.50                              0.33   \n",
              "118                  1            0.17                              0.22   \n",
              "119                  4            0.29                              0.27   \n",
              "\n",
              "     formal_parameters  problems  \n",
              "0                    0     False  \n",
              "1                    0     False  \n",
              "2                    0      True  \n",
              "3                    0     False  \n",
              "4                    0     False  \n",
              "..                 ...       ...  \n",
              "115                  0     False  \n",
              "116                  0     False  \n",
              "117                  0     False  \n",
              "118                  0     False  \n",
              "119                  1      True  \n",
              "\n",
              "[120 rows x 30 columns]"
            ],
            "text/html": [
              "\n",
              "  <div id=\"df-167b48f6-0f45-40e6-8638-c62d335cabba\">\n",
              "    <div class=\"colab-df-container\">\n",
              "      <div>\n",
              "<style scoped>\n",
              "    .dataframe tbody tr th:only-of-type {\n",
              "        vertical-align: middle;\n",
              "    }\n",
              "\n",
              "    .dataframe tbody tr th {\n",
              "        vertical-align: top;\n",
              "    }\n",
              "\n",
              "    .dataframe thead th {\n",
              "        text-align: right;\n",
              "    }\n",
              "</style>\n",
              "<table border=\"1\" class=\"dataframe\">\n",
              "  <thead>\n",
              "    <tr style=\"text-align: right;\">\n",
              "      <th></th>\n",
              "      <th>total_loc</th>\n",
              "      <th>blank_loc</th>\n",
              "      <th>comment_loc</th>\n",
              "      <th>code_and_comment_loc</th>\n",
              "      <th>executable_loc</th>\n",
              "      <th>unique_operands</th>\n",
              "      <th>unique_operators</th>\n",
              "      <th>total_operands</th>\n",
              "      <th>total_operators</th>\n",
              "      <th>halstead_vocabulary</th>\n",
              "      <th>...</th>\n",
              "      <th>condition_count</th>\n",
              "      <th>multiple_condition_count</th>\n",
              "      <th>cyclomatic_complexity</th>\n",
              "      <th>cyclomatic_density</th>\n",
              "      <th>decision_density</th>\n",
              "      <th>design_complexity</th>\n",
              "      <th>design_density</th>\n",
              "      <th>normalized_cyclomatic_complexity</th>\n",
              "      <th>formal_parameters</th>\n",
              "      <th>problems</th>\n",
              "    </tr>\n",
              "  </thead>\n",
              "  <tbody>\n",
              "    <tr>\n",
              "      <th>0</th>\n",
              "      <td>9</td>\n",
              "      <td>0</td>\n",
              "      <td>1</td>\n",
              "      <td>0</td>\n",
              "      <td>8</td>\n",
              "      <td>7</td>\n",
              "      <td>8</td>\n",
              "      <td>15</td>\n",
              "      <td>20</td>\n",
              "      <td>15</td>\n",
              "      <td>...</td>\n",
              "      <td>0</td>\n",
              "      <td>0</td>\n",
              "      <td>2</td>\n",
              "      <td>0.25</td>\n",
              "      <td>0.00</td>\n",
              "      <td>0</td>\n",
              "      <td>0.00</td>\n",
              "      <td>0.22</td>\n",
              "      <td>0</td>\n",
              "      <td>False</td>\n",
              "    </tr>\n",
              "    <tr>\n",
              "      <th>1</th>\n",
              "      <td>21</td>\n",
              "      <td>0</td>\n",
              "      <td>14</td>\n",
              "      <td>1</td>\n",
              "      <td>7</td>\n",
              "      <td>15</td>\n",
              "      <td>12</td>\n",
              "      <td>21</td>\n",
              "      <td>36</td>\n",
              "      <td>27</td>\n",
              "      <td>...</td>\n",
              "      <td>4</td>\n",
              "      <td>1</td>\n",
              "      <td>4</td>\n",
              "      <td>0.57</td>\n",
              "      <td>1.00</td>\n",
              "      <td>1</td>\n",
              "      <td>0.25</td>\n",
              "      <td>0.19</td>\n",
              "      <td>0</td>\n",
              "      <td>False</td>\n",
              "    </tr>\n",
              "    <tr>\n",
              "      <th>2</th>\n",
              "      <td>30</td>\n",
              "      <td>0</td>\n",
              "      <td>11</td>\n",
              "      <td>0</td>\n",
              "      <td>19</td>\n",
              "      <td>16</td>\n",
              "      <td>18</td>\n",
              "      <td>50</td>\n",
              "      <td>70</td>\n",
              "      <td>34</td>\n",
              "      <td>...</td>\n",
              "      <td>9</td>\n",
              "      <td>2</td>\n",
              "      <td>9</td>\n",
              "      <td>0.47</td>\n",
              "      <td>1.11</td>\n",
              "      <td>1</td>\n",
              "      <td>0.11</td>\n",
              "      <td>0.30</td>\n",
              "      <td>0</td>\n",
              "      <td>True</td>\n",
              "    </tr>\n",
              "    <tr>\n",
              "      <th>3</th>\n",
              "      <td>8</td>\n",
              "      <td>0</td>\n",
              "      <td>2</td>\n",
              "      <td>0</td>\n",
              "      <td>6</td>\n",
              "      <td>4</td>\n",
              "      <td>5</td>\n",
              "      <td>5</td>\n",
              "      <td>10</td>\n",
              "      <td>9</td>\n",
              "      <td>...</td>\n",
              "      <td>1</td>\n",
              "      <td>0</td>\n",
              "      <td>2</td>\n",
              "      <td>0.33</td>\n",
              "      <td>1.00</td>\n",
              "      <td>1</td>\n",
              "      <td>0.50</td>\n",
              "      <td>0.25</td>\n",
              "      <td>0</td>\n",
              "      <td>False</td>\n",
              "    </tr>\n",
              "    <tr>\n",
              "      <th>4</th>\n",
              "      <td>7</td>\n",
              "      <td>0</td>\n",
              "      <td>1</td>\n",
              "      <td>0</td>\n",
              "      <td>6</td>\n",
              "      <td>4</td>\n",
              "      <td>5</td>\n",
              "      <td>4</td>\n",
              "      <td>11</td>\n",
              "      <td>9</td>\n",
              "      <td>...</td>\n",
              "      <td>0</td>\n",
              "      <td>0</td>\n",
              "      <td>2</td>\n",
              "      <td>0.33</td>\n",
              "      <td>0.00</td>\n",
              "      <td>2</td>\n",
              "      <td>1.00</td>\n",
              "      <td>0.29</td>\n",
              "      <td>0</td>\n",
              "      <td>False</td>\n",
              "    </tr>\n",
              "    <tr>\n",
              "      <th>...</th>\n",
              "      <td>...</td>\n",
              "      <td>...</td>\n",
              "      <td>...</td>\n",
              "      <td>...</td>\n",
              "      <td>...</td>\n",
              "      <td>...</td>\n",
              "      <td>...</td>\n",
              "      <td>...</td>\n",
              "      <td>...</td>\n",
              "      <td>...</td>\n",
              "      <td>...</td>\n",
              "      <td>...</td>\n",
              "      <td>...</td>\n",
              "      <td>...</td>\n",
              "      <td>...</td>\n",
              "      <td>...</td>\n",
              "      <td>...</td>\n",
              "      <td>...</td>\n",
              "      <td>...</td>\n",
              "      <td>...</td>\n",
              "      <td>...</td>\n",
              "    </tr>\n",
              "    <tr>\n",
              "      <th>115</th>\n",
              "      <td>32</td>\n",
              "      <td>0</td>\n",
              "      <td>5</td>\n",
              "      <td>0</td>\n",
              "      <td>27</td>\n",
              "      <td>16</td>\n",
              "      <td>11</td>\n",
              "      <td>33</td>\n",
              "      <td>56</td>\n",
              "      <td>27</td>\n",
              "      <td>...</td>\n",
              "      <td>9</td>\n",
              "      <td>1</td>\n",
              "      <td>8</td>\n",
              "      <td>0.30</td>\n",
              "      <td>1.00</td>\n",
              "      <td>0</td>\n",
              "      <td>0.00</td>\n",
              "      <td>0.25</td>\n",
              "      <td>0</td>\n",
              "      <td>False</td>\n",
              "    </tr>\n",
              "    <tr>\n",
              "      <th>116</th>\n",
              "      <td>6</td>\n",
              "      <td>0</td>\n",
              "      <td>0</td>\n",
              "      <td>0</td>\n",
              "      <td>6</td>\n",
              "      <td>3</td>\n",
              "      <td>5</td>\n",
              "      <td>5</td>\n",
              "      <td>11</td>\n",
              "      <td>8</td>\n",
              "      <td>...</td>\n",
              "      <td>2</td>\n",
              "      <td>0</td>\n",
              "      <td>3</td>\n",
              "      <td>0.50</td>\n",
              "      <td>1.00</td>\n",
              "      <td>0</td>\n",
              "      <td>0.00</td>\n",
              "      <td>0.50</td>\n",
              "      <td>0</td>\n",
              "      <td>False</td>\n",
              "    </tr>\n",
              "    <tr>\n",
              "      <th>117</th>\n",
              "      <td>6</td>\n",
              "      <td>0</td>\n",
              "      <td>0</td>\n",
              "      <td>0</td>\n",
              "      <td>6</td>\n",
              "      <td>6</td>\n",
              "      <td>6</td>\n",
              "      <td>6</td>\n",
              "      <td>11</td>\n",
              "      <td>12</td>\n",
              "      <td>...</td>\n",
              "      <td>2</td>\n",
              "      <td>1</td>\n",
              "      <td>2</td>\n",
              "      <td>0.33</td>\n",
              "      <td>1.00</td>\n",
              "      <td>1</td>\n",
              "      <td>0.50</td>\n",
              "      <td>0.33</td>\n",
              "      <td>0</td>\n",
              "      <td>False</td>\n",
              "    </tr>\n",
              "    <tr>\n",
              "      <th>118</th>\n",
              "      <td>27</td>\n",
              "      <td>0</td>\n",
              "      <td>3</td>\n",
              "      <td>0</td>\n",
              "      <td>24</td>\n",
              "      <td>16</td>\n",
              "      <td>9</td>\n",
              "      <td>26</td>\n",
              "      <td>44</td>\n",
              "      <td>25</td>\n",
              "      <td>...</td>\n",
              "      <td>8</td>\n",
              "      <td>3</td>\n",
              "      <td>6</td>\n",
              "      <td>0.25</td>\n",
              "      <td>1.00</td>\n",
              "      <td>1</td>\n",
              "      <td>0.17</td>\n",
              "      <td>0.22</td>\n",
              "      <td>0</td>\n",
              "      <td>False</td>\n",
              "    </tr>\n",
              "    <tr>\n",
              "      <th>119</th>\n",
              "      <td>51</td>\n",
              "      <td>2</td>\n",
              "      <td>12</td>\n",
              "      <td>0</td>\n",
              "      <td>37</td>\n",
              "      <td>29</td>\n",
              "      <td>17</td>\n",
              "      <td>58</td>\n",
              "      <td>91</td>\n",
              "      <td>46</td>\n",
              "      <td>...</td>\n",
              "      <td>17</td>\n",
              "      <td>3</td>\n",
              "      <td>14</td>\n",
              "      <td>0.38</td>\n",
              "      <td>1.00</td>\n",
              "      <td>4</td>\n",
              "      <td>0.29</td>\n",
              "      <td>0.27</td>\n",
              "      <td>1</td>\n",
              "      <td>True</td>\n",
              "    </tr>\n",
              "  </tbody>\n",
              "</table>\n",
              "<p>120 rows × 30 columns</p>\n",
              "</div>\n",
              "      <button class=\"colab-df-convert\" onclick=\"convertToInteractive('df-167b48f6-0f45-40e6-8638-c62d335cabba')\"\n",
              "              title=\"Convert this dataframe to an interactive table.\"\n",
              "              style=\"display:none;\">\n",
              "        \n",
              "  <svg xmlns=\"http://www.w3.org/2000/svg\" height=\"24px\"viewBox=\"0 0 24 24\"\n",
              "       width=\"24px\">\n",
              "    <path d=\"M0 0h24v24H0V0z\" fill=\"none\"/>\n",
              "    <path d=\"M18.56 5.44l.94 2.06.94-2.06 2.06-.94-2.06-.94-.94-2.06-.94 2.06-2.06.94zm-11 1L8.5 8.5l.94-2.06 2.06-.94-2.06-.94L8.5 2.5l-.94 2.06-2.06.94zm10 10l.94 2.06.94-2.06 2.06-.94-2.06-.94-.94-2.06-.94 2.06-2.06.94z\"/><path d=\"M17.41 7.96l-1.37-1.37c-.4-.4-.92-.59-1.43-.59-.52 0-1.04.2-1.43.59L10.3 9.45l-7.72 7.72c-.78.78-.78 2.05 0 2.83L4 21.41c.39.39.9.59 1.41.59.51 0 1.02-.2 1.41-.59l7.78-7.78 2.81-2.81c.8-.78.8-2.07 0-2.86zM5.41 20L4 18.59l7.72-7.72 1.47 1.35L5.41 20z\"/>\n",
              "  </svg>\n",
              "      </button>\n",
              "      \n",
              "  <style>\n",
              "    .colab-df-container {\n",
              "      display:flex;\n",
              "      flex-wrap:wrap;\n",
              "      gap: 12px;\n",
              "    }\n",
              "\n",
              "    .colab-df-convert {\n",
              "      background-color: #E8F0FE;\n",
              "      border: none;\n",
              "      border-radius: 50%;\n",
              "      cursor: pointer;\n",
              "      display: none;\n",
              "      fill: #1967D2;\n",
              "      height: 32px;\n",
              "      padding: 0 0 0 0;\n",
              "      width: 32px;\n",
              "    }\n",
              "\n",
              "    .colab-df-convert:hover {\n",
              "      background-color: #E2EBFA;\n",
              "      box-shadow: 0px 1px 2px rgba(60, 64, 67, 0.3), 0px 1px 3px 1px rgba(60, 64, 67, 0.15);\n",
              "      fill: #174EA6;\n",
              "    }\n",
              "\n",
              "    [theme=dark] .colab-df-convert {\n",
              "      background-color: #3B4455;\n",
              "      fill: #D2E3FC;\n",
              "    }\n",
              "\n",
              "    [theme=dark] .colab-df-convert:hover {\n",
              "      background-color: #434B5C;\n",
              "      box-shadow: 0px 1px 3px 1px rgba(0, 0, 0, 0.15);\n",
              "      filter: drop-shadow(0px 1px 2px rgba(0, 0, 0, 0.3));\n",
              "      fill: #FFFFFF;\n",
              "    }\n",
              "  </style>\n",
              "\n",
              "      <script>\n",
              "        const buttonEl =\n",
              "          document.querySelector('#df-167b48f6-0f45-40e6-8638-c62d335cabba button.colab-df-convert');\n",
              "        buttonEl.style.display =\n",
              "          google.colab.kernel.accessAllowed ? 'block' : 'none';\n",
              "\n",
              "        async function convertToInteractive(key) {\n",
              "          const element = document.querySelector('#df-167b48f6-0f45-40e6-8638-c62d335cabba');\n",
              "          const dataTable =\n",
              "            await google.colab.kernel.invokeFunction('convertToInteractive',\n",
              "                                                     [key], {});\n",
              "          if (!dataTable) return;\n",
              "\n",
              "          const docLinkHtml = 'Like what you see? Visit the ' +\n",
              "            '<a target=\"_blank\" href=https://colab.research.google.com/notebooks/data_table.ipynb>data table notebook</a>'\n",
              "            + ' to learn more about interactive tables.';\n",
              "          element.innerHTML = '';\n",
              "          dataTable['output_type'] = 'display_data';\n",
              "          await google.colab.output.renderOutput(dataTable, element);\n",
              "          const docLink = document.createElement('div');\n",
              "          docLink.innerHTML = docLinkHtml;\n",
              "          element.appendChild(docLink);\n",
              "        }\n",
              "      </script>\n",
              "    </div>\n",
              "  </div>\n",
              "  "
            ]
          },
          "metadata": {},
          "execution_count": 316
        }
      ],
      "source": [
        "ar1_df"
      ]
    },
    {
      "cell_type": "markdown",
      "metadata": {
        "id": "GUGWZAuAl084"
      },
      "source": [
        "####**Spiliting Dataset**\n",
        "training: 80% testing:20%"
      ]
    },
    {
      "cell_type": "code",
      "execution_count": null,
      "metadata": {
        "id": "fZnYZb84mA46"
      },
      "outputs": [],
      "source": [
        "x = ar1_df.iloc[:,:-1]\n",
        "y = ar1_df.iloc[:,-1]\n",
        "\n",
        "from sklearn.model_selection import train_test_split\n",
        "x_train, x_test, y_train, y_test = train_test_split(x,y,test_size=0.20,random_state=0, stratify=ar1_df.problems)\n",
        "\n",
        "from sklearn.preprocessing import StandardScaler    \n",
        "st_x= StandardScaler()    \n",
        "x_train= st_x.fit_transform(x_train)    \n",
        "x_test= st_x.transform(x_test)  "
      ]
    },
    {
      "cell_type": "code",
      "source": [
        "import seaborn as sns\n",
        "\n",
        "plt.rcParams['figure.figsize']=(12,6)\n",
        "plt.rcParams['font.size']=14\n",
        "plt.title('kc2 Dataset')\n",
        "sns.set_style(\"darkgrid\")\n",
        "\n",
        "sns.countplot(kc2_df.problems);"
      ],
      "metadata": {
        "colab": {
          "base_uri": "https://localhost:8080/",
          "height": 413
        },
        "outputId": "086a3844-6a0a-452e-9e97-32d64c796fe3",
        "id": "zEOjjl0ymNPL"
      },
      "execution_count": null,
      "outputs": [
        {
          "output_type": "stream",
          "name": "stderr",
          "text": [
            "/usr/local/lib/python3.8/dist-packages/seaborn/_decorators.py:36: FutureWarning: Pass the following variable as a keyword arg: x. From version 0.12, the only valid positional argument will be `data`, and passing other arguments without an explicit keyword will result in an error or misinterpretation.\n",
            "  warnings.warn(\n"
          ]
        },
        {
          "output_type": "display_data",
          "data": {
            "text/plain": [
              "<Figure size 864x432 with 1 Axes>"
            ],
            "image/png": "[encoded data removed]"
          },
          "metadata": {}
        }
      ]
    },
    {
      "cell_type": "code",
      "source": [
        "import seaborn as sns\n",
        "\n",
        "plt.rcParams['figure.figsize']=(12,6)\n",
        "plt.rcParams['font.size']=14\n",
        "plt.title('AR1 Dataset')\n",
        "sns.set_style(\"darkgrid\")\n",
        "\n",
        "sns.countplot(y_train);\n"
      ],
      "metadata": {
        "colab": {
          "base_uri": "https://localhost:8080/",
          "height": 417
        },
        "outputId": "72fcbda9-3c44-4fdc-db1c-2064a52cd889",
        "id": "kZQ160aqmNPM"
      },
      "execution_count": null,
      "outputs": [
        {
          "output_type": "stream",
          "name": "stderr",
          "text": [
            "/usr/local/lib/python3.8/dist-packages/seaborn/_decorators.py:36: FutureWarning: Pass the following variable as a keyword arg: x. From version 0.12, the only valid positional argument will be `data`, and passing other arguments without an explicit keyword will result in an error or misinterpretation.\n",
            "  warnings.warn(\n"
          ]
        },
        {
          "output_type": "display_data",
          "data": {
            "text/plain": [
              "<Figure size 864x432 with 1 Axes>"
            ],
            "image/png": "[encoded data removed]"
          },
          "metadata": {}
        }
      ]
    },
    {
      "cell_type": "markdown",
      "metadata": {
        "id": "3Fk6Yw7Pmx97"
      },
      "source": [
        "###**Logistic Regression**"
      ]
    },
    {
      "cell_type": "code",
      "execution_count": null,
      "metadata": {
        "colab": {
          "base_uri": "https://localhost:8080/"
        },
        "id": "C2cotc3ym9pl",
        "outputId": "fa42389e-5e3c-432e-ab42-8f3751f6858c"
      },
      "outputs": [
        {
          "output_type": "stream",
          "name": "stdout",
          "text": [
            "Test Accuracy Score:  0.9583333333333334\n",
            "Confusion Matrix: \n",
            " [[22  0]\n",
            " [ 1  1]]\n"
          ]
        }
      ],
      "source": [
        "from sklearn.linear_model import LogisticRegression  \n",
        "classifier= LogisticRegression(random_state=0)  \n",
        "classifier.fit(x_train, y_train) \n",
        "\n",
        "y_pred= classifier.predict(x_test)\n",
        "\n",
        "score_ = accuracy_score(y_test, y_pred)\n",
        "print(\"Test Accuracy Score: \", score_)\n",
        "\n",
        "from sklearn.metrics import confusion_matrix  \n",
        "cm= confusion_matrix(y_test,y_pred)\n",
        "print(\"Confusion Matrix: \\n\",cm)"
      ]
    },
    {
      "cell_type": "markdown",
      "metadata": {
        "id": "Gji0bQbGsxrs"
      },
      "source": [
        "###**Support Vector Machine Algorithm**"
      ]
    },
    {
      "cell_type": "code",
      "execution_count": null,
      "metadata": {
        "colab": {
          "base_uri": "https://localhost:8080/"
        },
        "id": "3cvNPqVktGIM",
        "outputId": "6ec1b1a0-c9f6-4a18-eec8-291afe6ed690"
      },
      "outputs": [
        {
          "output_type": "execute_result",
          "data": {
            "text/plain": [
              "SVC(random_state=0)"
            ]
          },
          "metadata": {},
          "execution_count": 321
        }
      ],
      "source": [
        "from sklearn.svm import SVC # \"Support vector classifier\"  \n",
        "classifier = SVC(kernel='rbf', random_state=0)  \n",
        "classifier.fit(x_train, y_train)  "
      ]
    },
    {
      "cell_type": "code",
      "execution_count": null,
      "metadata": {
        "id": "NHmxUocztGIb"
      },
      "outputs": [],
      "source": [
        "#Predicting the test set result  \n",
        "y_pred= classifier.predict(x_test)  "
      ]
    },
    {
      "cell_type": "code",
      "execution_count": null,
      "metadata": {
        "colab": {
          "base_uri": "https://localhost:8080/"
        },
        "id": "V_sH84pxtGIc",
        "outputId": "b640f809-7f55-42a4-aa14-886035c993ee"
      },
      "outputs": [
        {
          "output_type": "stream",
          "name": "stdout",
          "text": [
            "[[22  0]\n",
            " [ 2  0]]\n"
          ]
        }
      ],
      "source": [
        "from sklearn.metrics import confusion_matrix  \n",
        "cm= confusion_matrix(y_test, y_pred)  \n",
        "print(cm)"
      ]
    },
    {
      "cell_type": "code",
      "execution_count": null,
      "metadata": {
        "colab": {
          "base_uri": "https://localhost:8080/"
        },
        "id": "ymcuxljbtGIc",
        "outputId": "793b5a50-5d66-4857-ee4e-7bb3a4c7214f"
      },
      "outputs": [
        {
          "output_type": "stream",
          "name": "stdout",
          "text": [
            "Test Accuracy Score:  0.9166666666666666\n"
          ]
        }
      ],
      "source": [
        "score_ = accuracy_score(y_test, y_pred)\n",
        "print(\"Test Accuracy Score: \", score_)"
      ]
    },
    {
      "cell_type": "markdown",
      "metadata": {
        "id": "ajwS1r1ItGId"
      },
      "source": [
        "##**Decision Tree Algorithm**"
      ]
    },
    {
      "cell_type": "code",
      "execution_count": null,
      "metadata": {
        "colab": {
          "base_uri": "https://localhost:8080/"
        },
        "id": "Bfnzo7kotGId",
        "outputId": "57cdc550-299b-4b67-d18a-ca83ed94dcce"
      },
      "outputs": [
        {
          "output_type": "execute_result",
          "data": {
            "text/plain": [
              "DecisionTreeClassifier(criterion='entropy', random_state=0)"
            ]
          },
          "metadata": {},
          "execution_count": 325
        }
      ],
      "source": [
        "from sklearn.tree import DecisionTreeClassifier  \n",
        "classifier= DecisionTreeClassifier(criterion='entropy', random_state=0)  \n",
        "classifier.fit(x_train, y_train)  "
      ]
    },
    {
      "cell_type": "code",
      "execution_count": null,
      "metadata": {
        "id": "ZFQemLa8tGId"
      },
      "outputs": [],
      "source": [
        "#Predicting the test set result  \n",
        "y_pred= classifier.predict(x_test)  "
      ]
    },
    {
      "cell_type": "code",
      "execution_count": null,
      "metadata": {
        "colab": {
          "base_uri": "https://localhost:8080/"
        },
        "id": "6UduZwQytGId",
        "outputId": "b0ebcce0-bbdf-45c0-b757-3cbb970a0e9d"
      },
      "outputs": [
        {
          "output_type": "stream",
          "name": "stdout",
          "text": [
            "[[22  0]\n",
            " [ 2  0]]\n"
          ]
        }
      ],
      "source": [
        "#Creating the Confusion matrix  \n",
        "from sklearn.metrics import confusion_matrix  \n",
        "cm= confusion_matrix(y_test, y_pred) \n",
        "print(cm)"
      ]
    },
    {
      "cell_type": "code",
      "execution_count": null,
      "metadata": {
        "colab": {
          "base_uri": "https://localhost:8080/"
        },
        "id": "fQ94kRVytGIg",
        "outputId": "1d0f6473-1557-4ad4-b120-993427c1f98a"
      },
      "outputs": [
        {
          "output_type": "stream",
          "name": "stdout",
          "text": [
            "Test Accuracy Score:  0.9166666666666666\n"
          ]
        }
      ],
      "source": [
        "score_ = accuracy_score(y_test, y_pred)\n",
        "print(\"Test Accuracy Score: \", score_)"
      ]
    },
    {
      "cell_type": "markdown",
      "metadata": {
        "id": "dA7ImNGntGIh"
      },
      "source": [
        "##**Random Forest**"
      ]
    },
    {
      "cell_type": "code",
      "execution_count": null,
      "metadata": {
        "colab": {
          "base_uri": "https://localhost:8080/"
        },
        "id": "PeCBtO2mtGIh",
        "outputId": "53dbe180-b562-4398-acd3-9d0de0dadc87"
      },
      "outputs": [
        {
          "output_type": "execute_result",
          "data": {
            "text/plain": [
              "RandomForestClassifier(criterion='entropy', n_estimators=10)"
            ]
          },
          "metadata": {},
          "execution_count": 329
        }
      ],
      "source": [
        "#Fitting Decision Tree classifier to the training set  \n",
        "from sklearn.ensemble import RandomForestClassifier  \n",
        "classifier= RandomForestClassifier(n_estimators= 10, criterion=\"entropy\")  \n",
        "classifier.fit(x_train, y_train)  "
      ]
    },
    {
      "cell_type": "code",
      "execution_count": null,
      "metadata": {
        "id": "LC0PHPxrtGIi"
      },
      "outputs": [],
      "source": [
        "#Predicting the test set result  \n",
        "y_pred= classifier.predict(x_test)  "
      ]
    },
    {
      "cell_type": "code",
      "execution_count": null,
      "metadata": {
        "colab": {
          "base_uri": "https://localhost:8080/"
        },
        "id": "UWHoyKyatGIi",
        "outputId": "954bf704-66a5-4a2d-bf7a-50ab8789bd0e"
      },
      "outputs": [
        {
          "output_type": "stream",
          "name": "stdout",
          "text": [
            "[[22  0]\n",
            " [ 2  0]]\n"
          ]
        }
      ],
      "source": [
        "#Creating the Confusion matrix  \n",
        "from sklearn.metrics import confusion_matrix  \n",
        "cm= confusion_matrix(y_test, y_pred)  \n",
        "print(cm)"
      ]
    },
    {
      "cell_type": "code",
      "execution_count": null,
      "metadata": {
        "colab": {
          "base_uri": "https://localhost:8080/"
        },
        "id": "EanK8vbttGIi",
        "outputId": "8354b9e6-3cf6-49e7-e41a-01c0e3cc3547"
      },
      "outputs": [
        {
          "output_type": "stream",
          "name": "stdout",
          "text": [
            "Test Accuracy Score:  0.9166666666666666\n"
          ]
        }
      ],
      "source": [
        "score_ = accuracy_score(y_test, y_pred)\n",
        "print(\"Test Accuracy Score: \", score_)"
      ]
    },
    {
      "cell_type": "markdown",
      "metadata": {
        "id": "3Up24zzXtGIi"
      },
      "source": [
        "##**Bagging**"
      ]
    },
    {
      "cell_type": "code",
      "execution_count": null,
      "metadata": {
        "colab": {
          "base_uri": "https://localhost:8080/"
        },
        "id": "GIuBhA_0tGIj",
        "outputId": "d464123e-30ce-4a3c-e447-66b27ee34dca"
      },
      "outputs": [
        {
          "output_type": "execute_result",
          "data": {
            "text/plain": [
              "DecisionTreeClassifier(random_state=21)"
            ]
          },
          "metadata": {},
          "execution_count": 333
        }
      ],
      "source": [
        "from sklearn.tree import DecisionTreeClassifier\n",
        "dtree = DecisionTreeClassifier(random_state=21)\n",
        "dtree.fit(x_train,y_train)"
      ]
    },
    {
      "cell_type": "code",
      "execution_count": null,
      "metadata": {
        "colab": {
          "base_uri": "https://localhost:8080/"
        },
        "id": "SZAEDc1WtGIj",
        "outputId": "c270c694-caba-46cc-a2df-4d7c1dfacddc"
      },
      "outputs": [
        {
          "output_type": "stream",
          "name": "stdout",
          "text": [
            "Train data accuracy: 0.9895833333333334\n",
            "Test data accuracy: 0.8333333333333334\n"
          ]
        }
      ],
      "source": [
        "y_pred = dtree.predict(x_test)\n",
        "\n",
        "print(\"Train data accuracy:\",accuracy_score(y_true = y_train, y_pred = dtree.predict(x_train)))\n",
        "print(\"Test data accuracy:\",accuracy_score(y_true = y_test, y_pred = y_pred))"
      ]
    },
    {
      "cell_type": "markdown",
      "metadata": {
        "id": "xUP2XGpjqXIK"
      },
      "source": [
        "#**ar3 Dataset**"
      ]
    },
    {
      "cell_type": "code",
      "execution_count": null,
      "metadata": {
        "colab": {
          "base_uri": "https://localhost:8080/",
          "height": 487
        },
        "id": "5VHJ412W1JTl",
        "outputId": "89cffc17-9b93-4f54-b4aa-6c917e2ac62e"
      },
      "outputs": [
        {
          "output_type": "execute_result",
          "data": {
            "text/plain": [
              "    total_loc  blank_loc  comment_loc  code_and_comment_loc  executable_loc  \\\n",
              "0           3          0            0                     0               3   \n",
              "1         268         72           22                     0             174   \n",
              "2          11          2            0                     0               9   \n",
              "3           9          2            0                     0               7   \n",
              "4          10          2            0                     0               8   \n",
              "..        ...        ...          ...                   ...             ...   \n",
              "57        173         59           22                     6              92   \n",
              "58        114         32           12                     3              70   \n",
              "59        148         41            5                     0             102   \n",
              "60         10          0            0                     0              10   \n",
              "61        333         94           53                     9             186   \n",
              "\n",
              "    unique_operands  unique_operators  total_operands  total_operators  \\\n",
              "0                 4                 6               6                8   \n",
              "1               125                23             337              484   \n",
              "2                10                 4              15               17   \n",
              "3                 7                 4              11               13   \n",
              "4                 7                 4              13               15   \n",
              "..              ...               ...             ...              ...   \n",
              "57               77                31             277              352   \n",
              "58               46                23             134              180   \n",
              "59               42                16             147              208   \n",
              "60               11                 7              30               38   \n",
              "61               56                18             352              469   \n",
              "\n",
              "    halstead_vocabulary  ...  condition_count  multiple_condition_count  \\\n",
              "0                    10  ...                0                         0   \n",
              "1                   148  ...               94                        32   \n",
              "2                    14  ...                0                         0   \n",
              "3                    11  ...                0                         0   \n",
              "4                    11  ...                0                         0   \n",
              "..                  ...  ...              ...                       ...   \n",
              "57                  108  ...               53                        14   \n",
              "58                   69  ...               27                         7   \n",
              "59                   58  ...               24                         7   \n",
              "60                   18  ...               12                         6   \n",
              "61                   74  ...               56                        15   \n",
              "\n",
              "    cyclomatic_complexity  cyclomatic_density  decision_density  \\\n",
              "0                       1             0.33333            0.0000   \n",
              "1                      64             0.36782            1.0106   \n",
              "2                       1             0.11111            0.0000   \n",
              "3                       1             0.14286            0.0000   \n",
              "4                       1             0.12500            0.0000   \n",
              "..                    ...                 ...               ...   \n",
              "57                     40             0.43478            1.0189   \n",
              "58                     22             0.31429            1.0370   \n",
              "59                     18             0.17647            1.0000   \n",
              "60                      7             0.70000            1.0000   \n",
              "61                     40             0.21505            1.0179   \n",
              "\n",
              "    design_complexity  design_density  normalized_cyclomatic_complexity  \\\n",
              "0                   0        0.000000                          0.333330   \n",
              "1                   0        0.000000                          0.238810   \n",
              "2                   2        2.000000                          0.090909   \n",
              "3                   1        1.000000                          0.111110   \n",
              "4                   2        2.000000                          0.100000   \n",
              "..                ...             ...                               ...   \n",
              "57                  0        0.000000                          0.231210   \n",
              "58                  1        0.045455                          0.192980   \n",
              "59                  0        0.000000                          0.121620   \n",
              "60                  1        0.142860                          0.700000   \n",
              "61                 23        0.575000                          0.120120   \n",
              "\n",
              "    formal_parameters  problems  \n",
              "0                   0     False  \n",
              "1                   0     False  \n",
              "2                   0     False  \n",
              "3                   0     False  \n",
              "4                   0     False  \n",
              "..                ...       ...  \n",
              "57                  0      True  \n",
              "58                  0     False  \n",
              "59                  0     False  \n",
              "60                  0     False  \n",
              "61                  0      True  \n",
              "\n",
              "[62 rows x 30 columns]"
            ],
            "text/html": [
              "\n",
              "  <div id=\"df-1b23fc6b-dbcc-4611-841e-d8b60f983360\">\n",
              "    <div class=\"colab-df-container\">\n",
              "      <div>\n",
              "<style scoped>\n",
              "    .dataframe tbody tr th:only-of-type {\n",
              "        vertical-align: middle;\n",
              "    }\n",
              "\n",
              "    .dataframe tbody tr th {\n",
              "        vertical-align: top;\n",
              "    }\n",
              "\n",
              "    .dataframe thead th {\n",
              "        text-align: right;\n",
              "    }\n",
              "</style>\n",
              "<table border=\"1\" class=\"dataframe\">\n",
              "  <thead>\n",
              "    <tr style=\"text-align: right;\">\n",
              "      <th></th>\n",
              "      <th>total_loc</th>\n",
              "      <th>blank_loc</th>\n",
              "      <th>comment_loc</th>\n",
              "      <th>code_and_comment_loc</th>\n",
              "      <th>executable_loc</th>\n",
              "      <th>unique_operands</th>\n",
              "      <th>unique_operators</th>\n",
              "      <th>total_operands</th>\n",
              "      <th>total_operators</th>\n",
              "      <th>halstead_vocabulary</th>\n",
              "      <th>...</th>\n",
              "      <th>condition_count</th>\n",
              "      <th>multiple_condition_count</th>\n",
              "      <th>cyclomatic_complexity</th>\n",
              "      <th>cyclomatic_density</th>\n",
              "      <th>decision_density</th>\n",
              "      <th>design_complexity</th>\n",
              "      <th>design_density</th>\n",
              "      <th>normalized_cyclomatic_complexity</th>\n",
              "      <th>formal_parameters</th>\n",
              "      <th>problems</th>\n",
              "    </tr>\n",
              "  </thead>\n",
              "  <tbody>\n",
              "    <tr>\n",
              "      <th>0</th>\n",
              "      <td>3</td>\n",
              "      <td>0</td>\n",
              "      <td>0</td>\n",
              "      <td>0</td>\n",
              "      <td>3</td>\n",
              "      <td>4</td>\n",
              "      <td>6</td>\n",
              "      <td>6</td>\n",
              "      <td>8</td>\n",
              "      <td>10</td>\n",
              "      <td>...</td>\n",
              "      <td>0</td>\n",
              "      <td>0</td>\n",
              "      <td>1</td>\n",
              "      <td>0.33333</td>\n",
              "      <td>0.0000</td>\n",
              "      <td>0</td>\n",
              "      <td>0.000000</td>\n",
              "      <td>0.333330</td>\n",
              "      <td>0</td>\n",
              "      <td>False</td>\n",
              "    </tr>\n",
              "    <tr>\n",
              "      <th>1</th>\n",
              "      <td>268</td>\n",
              "      <td>72</td>\n",
              "      <td>22</td>\n",
              "      <td>0</td>\n",
              "      <td>174</td>\n",
              "      <td>125</td>\n",
              "      <td>23</td>\n",
              "      <td>337</td>\n",
              "      <td>484</td>\n",
              "      <td>148</td>\n",
              "      <td>...</td>\n",
              "      <td>94</td>\n",
              "      <td>32</td>\n",
              "      <td>64</td>\n",
              "      <td>0.36782</td>\n",
              "      <td>1.0106</td>\n",
              "      <td>0</td>\n",
              "      <td>0.000000</td>\n",
              "      <td>0.238810</td>\n",
              "      <td>0</td>\n",
              "      <td>False</td>\n",
              "    </tr>\n",
              "    <tr>\n",
              "      <th>2</th>\n",
              "      <td>11</td>\n",
              "      <td>2</td>\n",
              "      <td>0</td>\n",
              "      <td>0</td>\n",
              "      <td>9</td>\n",
              "      <td>10</td>\n",
              "      <td>4</td>\n",
              "      <td>15</td>\n",
              "      <td>17</td>\n",
              "      <td>14</td>\n",
              "      <td>...</td>\n",
              "      <td>0</td>\n",
              "      <td>0</td>\n",
              "      <td>1</td>\n",
              "      <td>0.11111</td>\n",
              "      <td>0.0000</td>\n",
              "      <td>2</td>\n",
              "      <td>2.000000</td>\n",
              "      <td>0.090909</td>\n",
              "      <td>0</td>\n",
              "      <td>False</td>\n",
              "    </tr>\n",
              "    <tr>\n",
              "      <th>3</th>\n",
              "      <td>9</td>\n",
              "      <td>2</td>\n",
              "      <td>0</td>\n",
              "      <td>0</td>\n",
              "      <td>7</td>\n",
              "      <td>7</td>\n",
              "      <td>4</td>\n",
              "      <td>11</td>\n",
              "      <td>13</td>\n",
              "      <td>11</td>\n",
              "      <td>...</td>\n",
              "      <td>0</td>\n",
              "      <td>0</td>\n",
              "      <td>1</td>\n",
              "      <td>0.14286</td>\n",
              "      <td>0.0000</td>\n",
              "      <td>1</td>\n",
              "      <td>1.000000</td>\n",
              "      <td>0.111110</td>\n",
              "      <td>0</td>\n",
              "      <td>False</td>\n",
              "    </tr>\n",
              "    <tr>\n",
              "      <th>4</th>\n",
              "      <td>10</td>\n",
              "      <td>2</td>\n",
              "      <td>0</td>\n",
              "      <td>0</td>\n",
              "      <td>8</td>\n",
              "      <td>7</td>\n",
              "      <td>4</td>\n",
              "      <td>13</td>\n",
              "      <td>15</td>\n",
              "      <td>11</td>\n",
              "      <td>...</td>\n",
              "      <td>0</td>\n",
              "      <td>0</td>\n",
              "      <td>1</td>\n",
              "      <td>0.12500</td>\n",
              "      <td>0.0000</td>\n",
              "      <td>2</td>\n",
              "      <td>2.000000</td>\n",
              "      <td>0.100000</td>\n",
              "      <td>0</td>\n",
              "      <td>False</td>\n",
              "    </tr>\n",
              "    <tr>\n",
              "      <th>...</th>\n",
              "      <td>...</td>\n",
              "      <td>...</td>\n",
              "      <td>...</td>\n",
              "      <td>...</td>\n",
              "      <td>...</td>\n",
              "      <td>...</td>\n",
              "      <td>...</td>\n",
              "      <td>...</td>\n",
              "      <td>...</td>\n",
              "      <td>...</td>\n",
              "      <td>...</td>\n",
              "      <td>...</td>\n",
              "      <td>...</td>\n",
              "      <td>...</td>\n",
              "      <td>...</td>\n",
              "      <td>...</td>\n",
              "      <td>...</td>\n",
              "      <td>...</td>\n",
              "      <td>...</td>\n",
              "      <td>...</td>\n",
              "      <td>...</td>\n",
              "    </tr>\n",
              "    <tr>\n",
              "      <th>57</th>\n",
              "      <td>173</td>\n",
              "      <td>59</td>\n",
              "      <td>22</td>\n",
              "      <td>6</td>\n",
              "      <td>92</td>\n",
              "      <td>77</td>\n",
              "      <td>31</td>\n",
              "      <td>277</td>\n",
              "      <td>352</td>\n",
              "      <td>108</td>\n",
              "      <td>...</td>\n",
              "      <td>53</td>\n",
              "      <td>14</td>\n",
              "      <td>40</td>\n",
              "      <td>0.43478</td>\n",
              "      <td>1.0189</td>\n",
              "      <td>0</td>\n",
              "      <td>0.000000</td>\n",
              "      <td>0.231210</td>\n",
              "      <td>0</td>\n",
              "      <td>True</td>\n",
              "    </tr>\n",
              "    <tr>\n",
              "      <th>58</th>\n",
              "      <td>114</td>\n",
              "      <td>32</td>\n",
              "      <td>12</td>\n",
              "      <td>3</td>\n",
              "      <td>70</td>\n",
              "      <td>46</td>\n",
              "      <td>23</td>\n",
              "      <td>134</td>\n",
              "      <td>180</td>\n",
              "      <td>69</td>\n",
              "      <td>...</td>\n",
              "      <td>27</td>\n",
              "      <td>7</td>\n",
              "      <td>22</td>\n",
              "      <td>0.31429</td>\n",
              "      <td>1.0370</td>\n",
              "      <td>1</td>\n",
              "      <td>0.045455</td>\n",
              "      <td>0.192980</td>\n",
              "      <td>0</td>\n",
              "      <td>False</td>\n",
              "    </tr>\n",
              "    <tr>\n",
              "      <th>59</th>\n",
              "      <td>148</td>\n",
              "      <td>41</td>\n",
              "      <td>5</td>\n",
              "      <td>0</td>\n",
              "      <td>102</td>\n",
              "      <td>42</td>\n",
              "      <td>16</td>\n",
              "      <td>147</td>\n",
              "      <td>208</td>\n",
              "      <td>58</td>\n",
              "      <td>...</td>\n",
              "      <td>24</td>\n",
              "      <td>7</td>\n",
              "      <td>18</td>\n",
              "      <td>0.17647</td>\n",
              "      <td>1.0000</td>\n",
              "      <td>0</td>\n",
              "      <td>0.000000</td>\n",
              "      <td>0.121620</td>\n",
              "      <td>0</td>\n",
              "      <td>False</td>\n",
              "    </tr>\n",
              "    <tr>\n",
              "      <th>60</th>\n",
              "      <td>10</td>\n",
              "      <td>0</td>\n",
              "      <td>0</td>\n",
              "      <td>0</td>\n",
              "      <td>10</td>\n",
              "      <td>11</td>\n",
              "      <td>7</td>\n",
              "      <td>30</td>\n",
              "      <td>38</td>\n",
              "      <td>18</td>\n",
              "      <td>...</td>\n",
              "      <td>12</td>\n",
              "      <td>6</td>\n",
              "      <td>7</td>\n",
              "      <td>0.70000</td>\n",
              "      <td>1.0000</td>\n",
              "      <td>1</td>\n",
              "      <td>0.142860</td>\n",
              "      <td>0.700000</td>\n",
              "      <td>0</td>\n",
              "      <td>False</td>\n",
              "    </tr>\n",
              "    <tr>\n",
              "      <th>61</th>\n",
              "      <td>333</td>\n",
              "      <td>94</td>\n",
              "      <td>53</td>\n",
              "      <td>9</td>\n",
              "      <td>186</td>\n",
              "      <td>56</td>\n",
              "      <td>18</td>\n",
              "      <td>352</td>\n",
              "      <td>469</td>\n",
              "      <td>74</td>\n",
              "      <td>...</td>\n",
              "      <td>56</td>\n",
              "      <td>15</td>\n",
              "      <td>40</td>\n",
              "      <td>0.21505</td>\n",
              "      <td>1.0179</td>\n",
              "      <td>23</td>\n",
              "      <td>0.575000</td>\n",
              "      <td>0.120120</td>\n",
              "      <td>0</td>\n",
              "      <td>True</td>\n",
              "    </tr>\n",
              "  </tbody>\n",
              "</table>\n",
              "<p>62 rows × 30 columns</p>\n",
              "</div>\n",
              "      <button class=\"colab-df-convert\" onclick=\"convertToInteractive('df-1b23fc6b-dbcc-4611-841e-d8b60f983360')\"\n",
              "              title=\"Convert this dataframe to an interactive table.\"\n",
              "              style=\"display:none;\">\n",
              "        \n",
              "  <svg xmlns=\"http://www.w3.org/2000/svg\" height=\"24px\"viewBox=\"0 0 24 24\"\n",
              "       width=\"24px\">\n",
              "    <path d=\"M0 0h24v24H0V0z\" fill=\"none\"/>\n",
              "    <path d=\"M18.56 5.44l.94 2.06.94-2.06 2.06-.94-2.06-.94-.94-2.06-.94 2.06-2.06.94zm-11 1L8.5 8.5l.94-2.06 2.06-.94-2.06-.94L8.5 2.5l-.94 2.06-2.06.94zm10 10l.94 2.06.94-2.06 2.06-.94-2.06-.94-.94-2.06-.94 2.06-2.06.94z\"/><path d=\"M17.41 7.96l-1.37-1.37c-.4-.4-.92-.59-1.43-.59-.52 0-1.04.2-1.43.59L10.3 9.45l-7.72 7.72c-.78.78-.78 2.05 0 2.83L4 21.41c.39.39.9.59 1.41.59.51 0 1.02-.2 1.41-.59l7.78-7.78 2.81-2.81c.8-.78.8-2.07 0-2.86zM5.41 20L4 18.59l7.72-7.72 1.47 1.35L5.41 20z\"/>\n",
              "  </svg>\n",
              "      </button>\n",
              "      \n",
              "  <style>\n",
              "    .colab-df-container {\n",
              "      display:flex;\n",
              "      flex-wrap:wrap;\n",
              "      gap: 12px;\n",
              "    }\n",
              "\n",
              "    .colab-df-convert {\n",
              "      background-color: #E8F0FE;\n",
              "      border: none;\n",
              "      border-radius: 50%;\n",
              "      cursor: pointer;\n",
              "      display: none;\n",
              "      fill: #1967D2;\n",
              "      height: 32px;\n",
              "      padding: 0 0 0 0;\n",
              "      width: 32px;\n",
              "    }\n",
              "\n",
              "    .colab-df-convert:hover {\n",
              "      background-color: #E2EBFA;\n",
              "      box-shadow: 0px 1px 2px rgba(60, 64, 67, 0.3), 0px 1px 3px 1px rgba(60, 64, 67, 0.15);\n",
              "      fill: #174EA6;\n",
              "    }\n",
              "\n",
              "    [theme=dark] .colab-df-convert {\n",
              "      background-color: #3B4455;\n",
              "      fill: #D2E3FC;\n",
              "    }\n",
              "\n",
              "    [theme=dark] .colab-df-convert:hover {\n",
              "      background-color: #434B5C;\n",
              "      box-shadow: 0px 1px 3px 1px rgba(0, 0, 0, 0.15);\n",
              "      filter: drop-shadow(0px 1px 2px rgba(0, 0, 0, 0.3));\n",
              "      fill: #FFFFFF;\n",
              "    }\n",
              "  </style>\n",
              "\n",
              "      <script>\n",
              "        const buttonEl =\n",
              "          document.querySelector('#df-1b23fc6b-dbcc-4611-841e-d8b60f983360 button.colab-df-convert');\n",
              "        buttonEl.style.display =\n",
              "          google.colab.kernel.accessAllowed ? 'block' : 'none';\n",
              "\n",
              "        async function convertToInteractive(key) {\n",
              "          const element = document.querySelector('#df-1b23fc6b-dbcc-4611-841e-d8b60f983360');\n",
              "          const dataTable =\n",
              "            await google.colab.kernel.invokeFunction('convertToInteractive',\n",
              "                                                     [key], {});\n",
              "          if (!dataTable) return;\n",
              "\n",
              "          const docLinkHtml = 'Like what you see? Visit the ' +\n",
              "            '<a target=\"_blank\" href=https://colab.research.google.com/notebooks/data_table.ipynb>data table notebook</a>'\n",
              "            + ' to learn more about interactive tables.';\n",
              "          element.innerHTML = '';\n",
              "          dataTable['output_type'] = 'display_data';\n",
              "          await google.colab.output.renderOutput(dataTable, element);\n",
              "          const docLink = document.createElement('div');\n",
              "          docLink.innerHTML = docLinkHtml;\n",
              "          element.appendChild(docLink);\n",
              "        }\n",
              "      </script>\n",
              "    </div>\n",
              "  </div>\n",
              "  "
            ]
          },
          "metadata": {},
          "execution_count": 335
        }
      ],
      "source": [
        "ar3_df"
      ]
    },
    {
      "cell_type": "markdown",
      "metadata": {
        "id": "DtTucMSVrhJr"
      },
      "source": [
        "####**Spiliting Dataset**\n",
        "training: 80% testing:20%"
      ]
    },
    {
      "cell_type": "code",
      "execution_count": null,
      "metadata": {
        "id": "84YuotQRrnR2"
      },
      "outputs": [],
      "source": [
        "x = ar3_df.iloc[:,:-1]\n",
        "y = ar3_df.iloc[:,-1]\n",
        "\n",
        "from sklearn.model_selection import train_test_split\n",
        "x_train, x_test, y_train, y_test = train_test_split(x,y,test_size=0.20,random_state=0, stratify=ar3_df.problems)\n",
        "\n",
        "from sklearn.preprocessing import StandardScaler    \n",
        "st_x= StandardScaler()    \n",
        "x_train= st_x.fit_transform(x_train)    \n",
        "x_test= st_x.transform(x_test)  "
      ]
    },
    {
      "cell_type": "code",
      "source": [
        "import seaborn as sns\n",
        "\n",
        "plt.rcParams['figure.figsize']=(12,6)\n",
        "plt.rcParams['font.size']=14\n",
        "plt.title('kc2 Dataset')\n",
        "sns.set_style(\"darkgrid\")\n",
        "\n",
        "sns.countplot(kc2_df.problems);"
      ],
      "metadata": {
        "colab": {
          "base_uri": "https://localhost:8080/",
          "height": 413
        },
        "outputId": "b4ebea0f-1730-427c-82a8-4b040b477546",
        "id": "MllcuVm-mOCs"
      },
      "execution_count": null,
      "outputs": [
        {
          "output_type": "stream",
          "name": "stderr",
          "text": [
            "/usr/local/lib/python3.8/dist-packages/seaborn/_decorators.py:36: FutureWarning: Pass the following variable as a keyword arg: x. From version 0.12, the only valid positional argument will be `data`, and passing other arguments without an explicit keyword will result in an error or misinterpretation.\n",
            "  warnings.warn(\n"
          ]
        },
        {
          "output_type": "display_data",
          "data": {
            "text/plain": [
              "<Figure size 864x432 with 1 Axes>"
            ],
            "image/png": "[encoded data removed]"
          },
          "metadata": {}
        }
      ]
    },
    {
      "cell_type": "code",
      "source": [
        "import seaborn as sns\n",
        "\n",
        "plt.rcParams['figure.figsize']=(12,6)\n",
        "plt.rcParams['font.size']=14\n",
        "plt.title('AR1 Dataset')\n",
        "sns.set_style(\"darkgrid\")\n",
        "\n",
        "sns.countplot(y_train);\n"
      ],
      "metadata": {
        "colab": {
          "base_uri": "https://localhost:8080/",
          "height": 417
        },
        "outputId": "4ad8e915-7639-4df9-b2d5-de1daf142149",
        "id": "P0QDeFyhmOCt"
      },
      "execution_count": null,
      "outputs": [
        {
          "output_type": "stream",
          "name": "stderr",
          "text": [
            "/usr/local/lib/python3.8/dist-packages/seaborn/_decorators.py:36: FutureWarning: Pass the following variable as a keyword arg: x. From version 0.12, the only valid positional argument will be `data`, and passing other arguments without an explicit keyword will result in an error or misinterpretation.\n",
            "  warnings.warn(\n"
          ]
        },
        {
          "output_type": "display_data",
          "data": {
            "text/plain": [
              "<Figure size 864x432 with 1 Axes>"
            ],
            "image/png": "[encoded data removed]"
          },
          "metadata": {}
        }
      ]
    },
    {
      "cell_type": "markdown",
      "metadata": {
        "id": "GRvI2zwcrL3u"
      },
      "source": [
        "###**Logistic Regression**"
      ]
    },
    {
      "cell_type": "code",
      "execution_count": null,
      "metadata": {
        "colab": {
          "base_uri": "https://localhost:8080/"
        },
        "id": "ewHGOgvewCom",
        "outputId": "ab2b97c9-3199-4406-8179-3cbddc218018"
      },
      "outputs": [
        {
          "output_type": "stream",
          "name": "stdout",
          "text": [
            "Test Accuracy Score:  0.9230769230769231\n",
            "Confusion Matrix: \n",
            " [[11  1]\n",
            " [ 0  1]]\n"
          ]
        }
      ],
      "source": [
        "from sklearn.linear_model import LogisticRegression  \n",
        "classifier= LogisticRegression(random_state=0)  \n",
        "classifier.fit(x_train, y_train) \n",
        "\n",
        "y_pred= classifier.predict(x_test)\n",
        "\n",
        "score_ = accuracy_score(y_test, y_pred)\n",
        "print(\"Test Accuracy Score: \", score_)\n",
        "\n",
        "from sklearn.metrics import confusion_matrix  \n",
        "cm= confusion_matrix(y_test,y_pred)\n",
        "print(\"Confusion Matrix: \\n\",cm)"
      ]
    },
    {
      "cell_type": "markdown",
      "metadata": {
        "id": "1bbj4dXhwCon"
      },
      "source": [
        "###**Support Vector Machine Algorithm**"
      ]
    },
    {
      "cell_type": "code",
      "execution_count": null,
      "metadata": {
        "colab": {
          "base_uri": "https://localhost:8080/"
        },
        "id": "VIrcLtPkwCoo",
        "outputId": "500565dd-b755-4fd0-d3ed-3af69ae94da0"
      },
      "outputs": [
        {
          "output_type": "execute_result",
          "data": {
            "text/plain": [
              "SVC(random_state=0)"
            ]
          },
          "metadata": {},
          "execution_count": 340
        }
      ],
      "source": [
        "from sklearn.svm import SVC # \"Support vector classifier\"  \n",
        "classifier = SVC(kernel='rbf', random_state=0)  \n",
        "classifier.fit(x_train, y_train)  "
      ]
    },
    {
      "cell_type": "code",
      "execution_count": null,
      "metadata": {
        "id": "TsNW2boBwCoo"
      },
      "outputs": [],
      "source": [
        "#Predicting the test set result  \n",
        "y_pred= classifier.predict(x_test)  "
      ]
    },
    {
      "cell_type": "code",
      "execution_count": null,
      "metadata": {
        "colab": {
          "base_uri": "https://localhost:8080/"
        },
        "id": "pDa__vGXwCoo",
        "outputId": "130f8bb9-c6f4-4271-a367-78a895702249"
      },
      "outputs": [
        {
          "output_type": "stream",
          "name": "stdout",
          "text": [
            "[[12  0]\n",
            " [ 1  0]]\n"
          ]
        }
      ],
      "source": [
        "from sklearn.metrics import confusion_matrix  \n",
        "cm= confusion_matrix(y_test, y_pred)  \n",
        "print(cm)"
      ]
    },
    {
      "cell_type": "code",
      "execution_count": null,
      "metadata": {
        "colab": {
          "base_uri": "https://localhost:8080/"
        },
        "id": "Rl7JEnLewCop",
        "outputId": "c9f7ae09-82b0-43d3-e2b9-0a0046e814cb"
      },
      "outputs": [
        {
          "output_type": "stream",
          "name": "stdout",
          "text": [
            "Test Accuracy Score:  0.9230769230769231\n"
          ]
        }
      ],
      "source": [
        "score_ = accuracy_score(y_test, y_pred)\n",
        "print(\"Test Accuracy Score: \", score_)"
      ]
    },
    {
      "cell_type": "markdown",
      "metadata": {
        "id": "Jt6Ld7TBwCop"
      },
      "source": [
        "##**Decision Tree Algorithm**"
      ]
    },
    {
      "cell_type": "code",
      "execution_count": null,
      "metadata": {
        "colab": {
          "base_uri": "https://localhost:8080/"
        },
        "id": "J_I1-iX_wCop",
        "outputId": "dd1083ed-62d4-41d4-8d00-e1a9f1a69972"
      },
      "outputs": [
        {
          "output_type": "execute_result",
          "data": {
            "text/plain": [
              "DecisionTreeClassifier(criterion='entropy', random_state=0)"
            ]
          },
          "metadata": {},
          "execution_count": 344
        }
      ],
      "source": [
        "from sklearn.tree import DecisionTreeClassifier  \n",
        "classifier= DecisionTreeClassifier(criterion='entropy', random_state=0)  \n",
        "classifier.fit(x_train, y_train)  "
      ]
    },
    {
      "cell_type": "code",
      "execution_count": null,
      "metadata": {
        "id": "mIP9irDowCoq"
      },
      "outputs": [],
      "source": [
        "#Predicting the test set result  \n",
        "y_pred= classifier.predict(x_test)  "
      ]
    },
    {
      "cell_type": "code",
      "execution_count": null,
      "metadata": {
        "colab": {
          "base_uri": "https://localhost:8080/"
        },
        "id": "oSPOrJTlwCoq",
        "outputId": "aaf2a506-b006-4afb-8a98-642078c8cad6"
      },
      "outputs": [
        {
          "output_type": "stream",
          "name": "stdout",
          "text": [
            "[[12  0]\n",
            " [ 1  0]]\n"
          ]
        }
      ],
      "source": [
        "#Creating the Confusion matrix  \n",
        "from sklearn.metrics import confusion_matrix  \n",
        "cm= confusion_matrix(y_test, y_pred) \n",
        "print(cm)"
      ]
    },
    {
      "cell_type": "code",
      "execution_count": null,
      "metadata": {
        "colab": {
          "base_uri": "https://localhost:8080/"
        },
        "id": "UwB-40SMwCoq",
        "outputId": "a48d2bb3-93f2-4f4e-d83c-16a70a9610be"
      },
      "outputs": [
        {
          "output_type": "stream",
          "name": "stdout",
          "text": [
            "Test Accuracy Score:  0.9230769230769231\n"
          ]
        }
      ],
      "source": [
        "score_ = accuracy_score(y_test, y_pred)\n",
        "print(\"Test Accuracy Score: \", score_)"
      ]
    },
    {
      "cell_type": "markdown",
      "metadata": {
        "id": "r1Rke2QUwCoq"
      },
      "source": [
        "##**Random Forest**"
      ]
    },
    {
      "cell_type": "code",
      "execution_count": null,
      "metadata": {
        "colab": {
          "base_uri": "https://localhost:8080/"
        },
        "id": "fJweA7W7wCor",
        "outputId": "c0edd1b1-b7eb-4e25-dce1-3031c73b8da4"
      },
      "outputs": [
        {
          "output_type": "execute_result",
          "data": {
            "text/plain": [
              "RandomForestClassifier(criterion='entropy', n_estimators=10)"
            ]
          },
          "metadata": {},
          "execution_count": 348
        }
      ],
      "source": [
        "#Fitting Decision Tree classifier to the training set  \n",
        "from sklearn.ensemble import RandomForestClassifier  \n",
        "classifier= RandomForestClassifier(n_estimators= 10, criterion=\"entropy\")  \n",
        "classifier.fit(x_train, y_train)  "
      ]
    },
    {
      "cell_type": "code",
      "execution_count": null,
      "metadata": {
        "id": "TdrTqEEKwCor"
      },
      "outputs": [],
      "source": [
        "#Predicting the test set result  \n",
        "y_pred= classifier.predict(x_test)  "
      ]
    },
    {
      "cell_type": "code",
      "execution_count": null,
      "metadata": {
        "colab": {
          "base_uri": "https://localhost:8080/"
        },
        "id": "JVrPds1ywCor",
        "outputId": "68b1d927-dd3a-46af-8ae3-7eb08d5ca05a"
      },
      "outputs": [
        {
          "output_type": "stream",
          "name": "stdout",
          "text": [
            "[[12  0]\n",
            " [ 0  1]]\n"
          ]
        }
      ],
      "source": [
        "#Creating the Confusion matrix  \n",
        "from sklearn.metrics import confusion_matrix  \n",
        "cm= confusion_matrix(y_test, y_pred)  \n",
        "print(cm)"
      ]
    },
    {
      "cell_type": "code",
      "execution_count": null,
      "metadata": {
        "colab": {
          "base_uri": "https://localhost:8080/"
        },
        "id": "OVqPzrj5wCos",
        "outputId": "8232fc51-106f-4eb5-a6a9-004cecf8cd94"
      },
      "outputs": [
        {
          "output_type": "stream",
          "name": "stdout",
          "text": [
            "Test Accuracy Score:  1.0\n"
          ]
        }
      ],
      "source": [
        "score_ = accuracy_score(y_test, y_pred)\n",
        "print(\"Test Accuracy Score: \", score_)"
      ]
    },
    {
      "cell_type": "markdown",
      "metadata": {
        "id": "ZMIX0haDwP6T"
      },
      "source": [
        "##**Bagging**"
      ]
    },
    {
      "cell_type": "code",
      "execution_count": null,
      "metadata": {
        "colab": {
          "base_uri": "https://localhost:8080/"
        },
        "id": "24iketTewP6U",
        "outputId": "e73171eb-4b59-49bc-c96c-885eafdd6a2b"
      },
      "outputs": [
        {
          "output_type": "execute_result",
          "data": {
            "text/plain": [
              "DecisionTreeClassifier(random_state=21)"
            ]
          },
          "metadata": {},
          "execution_count": 352
        }
      ],
      "source": [
        "from sklearn.tree import DecisionTreeClassifier\n",
        "dtree = DecisionTreeClassifier(random_state=21)\n",
        "dtree.fit(x_train,y_train)"
      ]
    },
    {
      "cell_type": "code",
      "execution_count": null,
      "metadata": {
        "colab": {
          "base_uri": "https://localhost:8080/"
        },
        "id": "r-86_9IXwP6U",
        "outputId": "063aac66-6383-4050-ef0d-7bab346d87b2"
      },
      "outputs": [
        {
          "output_type": "stream",
          "name": "stdout",
          "text": [
            "Train data accuracy: 1.0\n",
            "Test data accuracy: 1.0\n"
          ]
        }
      ],
      "source": [
        "y_pred = dtree.predict(x_test)\n",
        "\n",
        "print(\"Train data accuracy:\",accuracy_score(y_true = y_train, y_pred = dtree.predict(x_train)))\n",
        "print(\"Test data accuracy:\",accuracy_score(y_true = y_test, y_pred = y_pred))"
      ]
    },
    {
      "cell_type": "markdown",
      "metadata": {
        "id": "ANFknA-2qXcV"
      },
      "source": [
        "#**ar4 Dataset**"
      ]
    },
    {
      "cell_type": "code",
      "execution_count": null,
      "metadata": {
        "colab": {
          "base_uri": "https://localhost:8080/",
          "height": 487
        },
        "id": "WD2ApBbl1NIN",
        "outputId": "0386271b-8f64-4574-ad54-0d6aa5b1698e"
      },
      "outputs": [
        {
          "output_type": "execute_result",
          "data": {
            "text/plain": [
              "     total_loc  blank_loc  comment_loc  code_and_comment_loc  executable_loc  \\\n",
              "0           53         22            5                     0              26   \n",
              "1           25         10            1                     0              14   \n",
              "2           73         22            8                     1              43   \n",
              "3           69         21           17                     0              31   \n",
              "4           42         18            1                     0              23   \n",
              "..         ...        ...          ...                   ...             ...   \n",
              "101         71         27            9                     0              35   \n",
              "102         79         40            5                     0              34   \n",
              "103         19          8            0                     0              11   \n",
              "104        119         59           13                     0              47   \n",
              "105          9          2            0                     0               7   \n",
              "\n",
              "     unique_operands  unique_operators  total_operands  total_operators  \\\n",
              "0                 18                16              38               54   \n",
              "1                 12                14              42               58   \n",
              "2                 25                12              67               97   \n",
              "3                 16                 9              28               48   \n",
              "4                 12                10              23               39   \n",
              "..               ...               ...             ...              ...   \n",
              "101               19                16              53               80   \n",
              "102               23                10              52               79   \n",
              "103                8                14              19               29   \n",
              "104               20                23              68              107   \n",
              "105                5                 6               6               11   \n",
              "\n",
              "     halstead_vocabulary  ...  condition_count  multiple_condition_count  \\\n",
              "0                     34  ...                5                         2   \n",
              "1                     26  ...                1                         0   \n",
              "2                     37  ...               15                         7   \n",
              "3                     25  ...               13                         6   \n",
              "4                     22  ...                7                         1   \n",
              "..                   ...  ...              ...                       ...   \n",
              "101                   35  ...                5                         1   \n",
              "102                   33  ...                9                         2   \n",
              "103                   22  ...                1                         0   \n",
              "104                   43  ...               10                         2   \n",
              "105                   11  ...                1                         0   \n",
              "\n",
              "     cyclomatic_complexity  cyclomatic_density  decision_density  \\\n",
              "0                        5             0.19231               1.2   \n",
              "1                        2             0.14286               1.0   \n",
              "2                        9             0.20930               1.0   \n",
              "3                        8             0.25806               1.0   \n",
              "4                        7             0.30435               1.0   \n",
              "..                     ...                 ...               ...   \n",
              "101                      6             0.17143               1.2   \n",
              "102                      8             0.23529               1.0   \n",
              "103                      3             0.27273               2.0   \n",
              "104                     10             0.21277               1.1   \n",
              "105                      2             0.28571               1.0   \n",
              "\n",
              "     design_complexity  design_density  normalized_cyclomatic_complexity  \\\n",
              "0                    0            0.00                          0.094340   \n",
              "1                    0            0.00                          0.080000   \n",
              "2                    0            0.00                          0.123290   \n",
              "3                    0            0.00                          0.115940   \n",
              "4                    0            0.00                          0.166670   \n",
              "..                 ...             ...                               ...   \n",
              "101                  0            0.00                          0.084507   \n",
              "102                  2            0.25                          0.101270   \n",
              "103                  0            0.00                          0.157890   \n",
              "104                  2            0.20                          0.084034   \n",
              "105                  1            0.50                          0.222220   \n",
              "\n",
              "     formal_parameters  problems  \n",
              "0                    1     False  \n",
              "1                    2     False  \n",
              "2                    0     False  \n",
              "3                    0     False  \n",
              "4                    0     False  \n",
              "..                 ...       ...  \n",
              "101                  0     False  \n",
              "102                  0     False  \n",
              "103                  2     False  \n",
              "104                  0     False  \n",
              "105                  0     False  \n",
              "\n",
              "[106 rows x 30 columns]"
            ],
            "text/html": [
              "\n",
              "  <div id=\"df-bf77bca7-d996-47da-8113-228e5f583825\">\n",
              "    <div class=\"colab-df-container\">\n",
              "      <div>\n",
              "<style scoped>\n",
              "    .dataframe tbody tr th:only-of-type {\n",
              "        vertical-align: middle;\n",
              "    }\n",
              "\n",
              "    .dataframe tbody tr th {\n",
              "        vertical-align: top;\n",
              "    }\n",
              "\n",
              "    .dataframe thead th {\n",
              "        text-align: right;\n",
              "    }\n",
              "</style>\n",
              "<table border=\"1\" class=\"dataframe\">\n",
              "  <thead>\n",
              "    <tr style=\"text-align: right;\">\n",
              "      <th></th>\n",
              "      <th>total_loc</th>\n",
              "      <th>blank_loc</th>\n",
              "      <th>comment_loc</th>\n",
              "      <th>code_and_comment_loc</th>\n",
              "      <th>executable_loc</th>\n",
              "      <th>unique_operands</th>\n",
              "      <th>unique_operators</th>\n",
              "      <th>total_operands</th>\n",
              "      <th>total_operators</th>\n",
              "      <th>halstead_vocabulary</th>\n",
              "      <th>...</th>\n",
              "      <th>condition_count</th>\n",
              "      <th>multiple_condition_count</th>\n",
              "      <th>cyclomatic_complexity</th>\n",
              "      <th>cyclomatic_density</th>\n",
              "      <th>decision_density</th>\n",
              "      <th>design_complexity</th>\n",
              "      <th>design_density</th>\n",
              "      <th>normalized_cyclomatic_complexity</th>\n",
              "      <th>formal_parameters</th>\n",
              "      <th>problems</th>\n",
              "    </tr>\n",
              "  </thead>\n",
              "  <tbody>\n",
              "    <tr>\n",
              "      <th>0</th>\n",
              "      <td>53</td>\n",
              "      <td>22</td>\n",
              "      <td>5</td>\n",
              "      <td>0</td>\n",
              "      <td>26</td>\n",
              "      <td>18</td>\n",
              "      <td>16</td>\n",
              "      <td>38</td>\n",
              "      <td>54</td>\n",
              "      <td>34</td>\n",
              "      <td>...</td>\n",
              "      <td>5</td>\n",
              "      <td>2</td>\n",
              "      <td>5</td>\n",
              "      <td>0.19231</td>\n",
              "      <td>1.2</td>\n",
              "      <td>0</td>\n",
              "      <td>0.00</td>\n",
              "      <td>0.094340</td>\n",
              "      <td>1</td>\n",
              "      <td>False</td>\n",
              "    </tr>\n",
              "    <tr>\n",
              "      <th>1</th>\n",
              "      <td>25</td>\n",
              "      <td>10</td>\n",
              "      <td>1</td>\n",
              "      <td>0</td>\n",
              "      <td>14</td>\n",
              "      <td>12</td>\n",
              "      <td>14</td>\n",
              "      <td>42</td>\n",
              "      <td>58</td>\n",
              "      <td>26</td>\n",
              "      <td>...</td>\n",
              "      <td>1</td>\n",
              "      <td>0</td>\n",
              "      <td>2</td>\n",
              "      <td>0.14286</td>\n",
              "      <td>1.0</td>\n",
              "      <td>0</td>\n",
              "      <td>0.00</td>\n",
              "      <td>0.080000</td>\n",
              "      <td>2</td>\n",
              "      <td>False</td>\n",
              "    </tr>\n",
              "    <tr>\n",
              "      <th>2</th>\n",
              "      <td>73</td>\n",
              "      <td>22</td>\n",
              "      <td>8</td>\n",
              "      <td>1</td>\n",
              "      <td>43</td>\n",
              "      <td>25</td>\n",
              "      <td>12</td>\n",
              "      <td>67</td>\n",
              "      <td>97</td>\n",
              "      <td>37</td>\n",
              "      <td>...</td>\n",
              "      <td>15</td>\n",
              "      <td>7</td>\n",
              "      <td>9</td>\n",
              "      <td>0.20930</td>\n",
              "      <td>1.0</td>\n",
              "      <td>0</td>\n",
              "      <td>0.00</td>\n",
              "      <td>0.123290</td>\n",
              "      <td>0</td>\n",
              "      <td>False</td>\n",
              "    </tr>\n",
              "    <tr>\n",
              "      <th>3</th>\n",
              "      <td>69</td>\n",
              "      <td>21</td>\n",
              "      <td>17</td>\n",
              "      <td>0</td>\n",
              "      <td>31</td>\n",
              "      <td>16</td>\n",
              "      <td>9</td>\n",
              "      <td>28</td>\n",
              "      <td>48</td>\n",
              "      <td>25</td>\n",
              "      <td>...</td>\n",
              "      <td>13</td>\n",
              "      <td>6</td>\n",
              "      <td>8</td>\n",
              "      <td>0.25806</td>\n",
              "      <td>1.0</td>\n",
              "      <td>0</td>\n",
              "      <td>0.00</td>\n",
              "      <td>0.115940</td>\n",
              "      <td>0</td>\n",
              "      <td>False</td>\n",
              "    </tr>\n",
              "    <tr>\n",
              "      <th>4</th>\n",
              "      <td>42</td>\n",
              "      <td>18</td>\n",
              "      <td>1</td>\n",
              "      <td>0</td>\n",
              "      <td>23</td>\n",
              "      <td>12</td>\n",
              "      <td>10</td>\n",
              "      <td>23</td>\n",
              "      <td>39</td>\n",
              "      <td>22</td>\n",
              "      <td>...</td>\n",
              "      <td>7</td>\n",
              "      <td>1</td>\n",
              "      <td>7</td>\n",
              "      <td>0.30435</td>\n",
              "      <td>1.0</td>\n",
              "      <td>0</td>\n",
              "      <td>0.00</td>\n",
              "      <td>0.166670</td>\n",
              "      <td>0</td>\n",
              "      <td>False</td>\n",
              "    </tr>\n",
              "    <tr>\n",
              "      <th>...</th>\n",
              "      <td>...</td>\n",
              "      <td>...</td>\n",
              "      <td>...</td>\n",
              "      <td>...</td>\n",
              "      <td>...</td>\n",
              "      <td>...</td>\n",
              "      <td>...</td>\n",
              "      <td>...</td>\n",
              "      <td>...</td>\n",
              "      <td>...</td>\n",
              "      <td>...</td>\n",
              "      <td>...</td>\n",
              "      <td>...</td>\n",
              "      <td>...</td>\n",
              "      <td>...</td>\n",
              "      <td>...</td>\n",
              "      <td>...</td>\n",
              "      <td>...</td>\n",
              "      <td>...</td>\n",
              "      <td>...</td>\n",
              "      <td>...</td>\n",
              "    </tr>\n",
              "    <tr>\n",
              "      <th>101</th>\n",
              "      <td>71</td>\n",
              "      <td>27</td>\n",
              "      <td>9</td>\n",
              "      <td>0</td>\n",
              "      <td>35</td>\n",
              "      <td>19</td>\n",
              "      <td>16</td>\n",
              "      <td>53</td>\n",
              "      <td>80</td>\n",
              "      <td>35</td>\n",
              "      <td>...</td>\n",
              "      <td>5</td>\n",
              "      <td>1</td>\n",
              "      <td>6</td>\n",
              "      <td>0.17143</td>\n",
              "      <td>1.2</td>\n",
              "      <td>0</td>\n",
              "      <td>0.00</td>\n",
              "      <td>0.084507</td>\n",
              "      <td>0</td>\n",
              "      <td>False</td>\n",
              "    </tr>\n",
              "    <tr>\n",
              "      <th>102</th>\n",
              "      <td>79</td>\n",
              "      <td>40</td>\n",
              "      <td>5</td>\n",
              "      <td>0</td>\n",
              "      <td>34</td>\n",
              "      <td>23</td>\n",
              "      <td>10</td>\n",
              "      <td>52</td>\n",
              "      <td>79</td>\n",
              "      <td>33</td>\n",
              "      <td>...</td>\n",
              "      <td>9</td>\n",
              "      <td>2</td>\n",
              "      <td>8</td>\n",
              "      <td>0.23529</td>\n",
              "      <td>1.0</td>\n",
              "      <td>2</td>\n",
              "      <td>0.25</td>\n",
              "      <td>0.101270</td>\n",
              "      <td>0</td>\n",
              "      <td>False</td>\n",
              "    </tr>\n",
              "    <tr>\n",
              "      <th>103</th>\n",
              "      <td>19</td>\n",
              "      <td>8</td>\n",
              "      <td>0</td>\n",
              "      <td>0</td>\n",
              "      <td>11</td>\n",
              "      <td>8</td>\n",
              "      <td>14</td>\n",
              "      <td>19</td>\n",
              "      <td>29</td>\n",
              "      <td>22</td>\n",
              "      <td>...</td>\n",
              "      <td>1</td>\n",
              "      <td>0</td>\n",
              "      <td>3</td>\n",
              "      <td>0.27273</td>\n",
              "      <td>2.0</td>\n",
              "      <td>0</td>\n",
              "      <td>0.00</td>\n",
              "      <td>0.157890</td>\n",
              "      <td>2</td>\n",
              "      <td>False</td>\n",
              "    </tr>\n",
              "    <tr>\n",
              "      <th>104</th>\n",
              "      <td>119</td>\n",
              "      <td>59</td>\n",
              "      <td>13</td>\n",
              "      <td>0</td>\n",
              "      <td>47</td>\n",
              "      <td>20</td>\n",
              "      <td>23</td>\n",
              "      <td>68</td>\n",
              "      <td>107</td>\n",
              "      <td>43</td>\n",
              "      <td>...</td>\n",
              "      <td>10</td>\n",
              "      <td>2</td>\n",
              "      <td>10</td>\n",
              "      <td>0.21277</td>\n",
              "      <td>1.1</td>\n",
              "      <td>2</td>\n",
              "      <td>0.20</td>\n",
              "      <td>0.084034</td>\n",
              "      <td>0</td>\n",
              "      <td>False</td>\n",
              "    </tr>\n",
              "    <tr>\n",
              "      <th>105</th>\n",
              "      <td>9</td>\n",
              "      <td>2</td>\n",
              "      <td>0</td>\n",
              "      <td>0</td>\n",
              "      <td>7</td>\n",
              "      <td>5</td>\n",
              "      <td>6</td>\n",
              "      <td>6</td>\n",
              "      <td>11</td>\n",
              "      <td>11</td>\n",
              "      <td>...</td>\n",
              "      <td>1</td>\n",
              "      <td>0</td>\n",
              "      <td>2</td>\n",
              "      <td>0.28571</td>\n",
              "      <td>1.0</td>\n",
              "      <td>1</td>\n",
              "      <td>0.50</td>\n",
              "      <td>0.222220</td>\n",
              "      <td>0</td>\n",
              "      <td>False</td>\n",
              "    </tr>\n",
              "  </tbody>\n",
              "</table>\n",
              "<p>106 rows × 30 columns</p>\n",
              "</div>\n",
              "      <button class=\"colab-df-convert\" onclick=\"convertToInteractive('df-bf77bca7-d996-47da-8113-228e5f583825')\"\n",
              "              title=\"Convert this dataframe to an interactive table.\"\n",
              "              style=\"display:none;\">\n",
              "        \n",
              "  <svg xmlns=\"http://www.w3.org/2000/svg\" height=\"24px\"viewBox=\"0 0 24 24\"\n",
              "       width=\"24px\">\n",
              "    <path d=\"M0 0h24v24H0V0z\" fill=\"none\"/>\n",
              "    <path d=\"M18.56 5.44l.94 2.06.94-2.06 2.06-.94-2.06-.94-.94-2.06-.94 2.06-2.06.94zm-11 1L8.5 8.5l.94-2.06 2.06-.94-2.06-.94L8.5 2.5l-.94 2.06-2.06.94zm10 10l.94 2.06.94-2.06 2.06-.94-2.06-.94-.94-2.06-.94 2.06-2.06.94z\"/><path d=\"M17.41 7.96l-1.37-1.37c-.4-.4-.92-.59-1.43-.59-.52 0-1.04.2-1.43.59L10.3 9.45l-7.72 7.72c-.78.78-.78 2.05 0 2.83L4 21.41c.39.39.9.59 1.41.59.51 0 1.02-.2 1.41-.59l7.78-7.78 2.81-2.81c.8-.78.8-2.07 0-2.86zM5.41 20L4 18.59l7.72-7.72 1.47 1.35L5.41 20z\"/>\n",
              "  </svg>\n",
              "      </button>\n",
              "      \n",
              "  <style>\n",
              "    .colab-df-container {\n",
              "      display:flex;\n",
              "      flex-wrap:wrap;\n",
              "      gap: 12px;\n",
              "    }\n",
              "\n",
              "    .colab-df-convert {\n",
              "      background-color: #E8F0FE;\n",
              "      border: none;\n",
              "      border-radius: 50%;\n",
              "      cursor: pointer;\n",
              "      display: none;\n",
              "      fill: #1967D2;\n",
              "      height: 32px;\n",
              "      padding: 0 0 0 0;\n",
              "      width: 32px;\n",
              "    }\n",
              "\n",
              "    .colab-df-convert:hover {\n",
              "      background-color: #E2EBFA;\n",
              "      box-shadow: 0px 1px 2px rgba(60, 64, 67, 0.3), 0px 1px 3px 1px rgba(60, 64, 67, 0.15);\n",
              "      fill: #174EA6;\n",
              "    }\n",
              "\n",
              "    [theme=dark] .colab-df-convert {\n",
              "      background-color: #3B4455;\n",
              "      fill: #D2E3FC;\n",
              "    }\n",
              "\n",
              "    [theme=dark] .colab-df-convert:hover {\n",
              "      background-color: #434B5C;\n",
              "      box-shadow: 0px 1px 3px 1px rgba(0, 0, 0, 0.15);\n",
              "      filter: drop-shadow(0px 1px 2px rgba(0, 0, 0, 0.3));\n",
              "      fill: #FFFFFF;\n",
              "    }\n",
              "  </style>\n",
              "\n",
              "      <script>\n",
              "        const buttonEl =\n",
              "          document.querySelector('#df-bf77bca7-d996-47da-8113-228e5f583825 button.colab-df-convert');\n",
              "        buttonEl.style.display =\n",
              "          google.colab.kernel.accessAllowed ? 'block' : 'none';\n",
              "\n",
              "        async function convertToInteractive(key) {\n",
              "          const element = document.querySelector('#df-bf77bca7-d996-47da-8113-228e5f583825');\n",
              "          const dataTable =\n",
              "            await google.colab.kernel.invokeFunction('convertToInteractive',\n",
              "                                                     [key], {});\n",
              "          if (!dataTable) return;\n",
              "\n",
              "          const docLinkHtml = 'Like what you see? Visit the ' +\n",
              "            '<a target=\"_blank\" href=https://colab.research.google.com/notebooks/data_table.ipynb>data table notebook</a>'\n",
              "            + ' to learn more about interactive tables.';\n",
              "          element.innerHTML = '';\n",
              "          dataTable['output_type'] = 'display_data';\n",
              "          await google.colab.output.renderOutput(dataTable, element);\n",
              "          const docLink = document.createElement('div');\n",
              "          docLink.innerHTML = docLinkHtml;\n",
              "          element.appendChild(docLink);\n",
              "        }\n",
              "      </script>\n",
              "    </div>\n",
              "  </div>\n",
              "  "
            ]
          },
          "metadata": {},
          "execution_count": 354
        }
      ],
      "source": [
        "ar4_df"
      ]
    },
    {
      "cell_type": "markdown",
      "metadata": {
        "id": "1h1berT3rif6"
      },
      "source": [
        "####**Spiliting Dataset**\n",
        "training: 80% testing:20%"
      ]
    },
    {
      "cell_type": "code",
      "execution_count": null,
      "metadata": {
        "id": "HwTK7C30rpDZ"
      },
      "outputs": [],
      "source": [
        "x = ar4_df.iloc[:,:-1]\n",
        "y = ar4_df.iloc[:,-1]\n",
        "\n",
        "from sklearn.model_selection import train_test_split\n",
        "x_train, x_test, y_train, y_test = train_test_split(x,y,test_size=0.20,random_state=0, stratify=ar4_df.problems)\n",
        "\n",
        "from sklearn.preprocessing import StandardScaler    \n",
        "st_x= StandardScaler()    \n",
        "x_train= st_x.fit_transform(x_train)    \n",
        "x_test= st_x.transform(x_test)  "
      ]
    },
    {
      "cell_type": "code",
      "source": [
        "import seaborn as sns\n",
        "\n",
        "plt.rcParams['figure.figsize']=(12,6)\n",
        "plt.rcParams['font.size']=14\n",
        "plt.title('kc2 Dataset')\n",
        "sns.set_style(\"darkgrid\")\n",
        "\n",
        "sns.countplot(kc2_df.problems);"
      ],
      "metadata": {
        "colab": {
          "base_uri": "https://localhost:8080/",
          "height": 413
        },
        "outputId": "bfe4098e-bdc6-4aa3-cc3f-ca9ffbba2735",
        "id": "2fDU1jIgmO0J"
      },
      "execution_count": null,
      "outputs": [
        {
          "output_type": "stream",
          "name": "stderr",
          "text": [
            "/usr/local/lib/python3.8/dist-packages/seaborn/_decorators.py:36: FutureWarning: Pass the following variable as a keyword arg: x. From version 0.12, the only valid positional argument will be `data`, and passing other arguments without an explicit keyword will result in an error or misinterpretation.\n",
            "  warnings.warn(\n"
          ]
        },
        {
          "output_type": "display_data",
          "data": {
            "text/plain": [
              "<Figure size 864x432 with 1 Axes>"
            ],
            "image/png": "[encoded data removed]"
          },
          "metadata": {}
        }
      ]
    },
    {
      "cell_type": "code",
      "source": [
        "import seaborn as sns\n",
        "\n",
        "plt.rcParams['figure.figsize']=(12,6)\n",
        "plt.rcParams['font.size']=14\n",
        "plt.title('AR1 Dataset')\n",
        "sns.set_style(\"darkgrid\")\n",
        "\n",
        "sns.countplot(y_train);\n"
      ],
      "metadata": {
        "colab": {
          "base_uri": "https://localhost:8080/",
          "height": 417
        },
        "outputId": "90176905-0a8f-44d3-f508-951e138fa2dd",
        "id": "2MiSHpUZmO0L"
      },
      "execution_count": null,
      "outputs": [
        {
          "output_type": "stream",
          "name": "stderr",
          "text": [
            "/usr/local/lib/python3.8/dist-packages/seaborn/_decorators.py:36: FutureWarning: Pass the following variable as a keyword arg: x. From version 0.12, the only valid positional argument will be `data`, and passing other arguments without an explicit keyword will result in an error or misinterpretation.\n",
            "  warnings.warn(\n"
          ]
        },
        {
          "output_type": "display_data",
          "data": {
            "text/plain": [
              "<Figure size 864x432 with 1 Axes>"
            ],
            "image/png": "[encoded data removed]"
          },
          "metadata": {}
        }
      ]
    },
    {
      "cell_type": "markdown",
      "metadata": {
        "id": "9YTVQyy4rXAT"
      },
      "source": [
        "###**Logistic Regression**"
      ]
    },
    {
      "cell_type": "code",
      "execution_count": null,
      "metadata": {
        "colab": {
          "base_uri": "https://localhost:8080/"
        },
        "id": "RWDJQdLvw1FF",
        "outputId": "20081e41-876e-40f4-bc2b-b0796931406e"
      },
      "outputs": [
        {
          "output_type": "stream",
          "name": "stdout",
          "text": [
            "Test Accuracy Score:  0.9090909090909091\n",
            "Confusion Matrix: \n",
            " [[18  0]\n",
            " [ 2  2]]\n"
          ]
        }
      ],
      "source": [
        "from sklearn.linear_model import LogisticRegression  \n",
        "classifier= LogisticRegression(random_state=0)  \n",
        "classifier.fit(x_train, y_train) \n",
        "\n",
        "y_pred= classifier.predict(x_test)\n",
        "\n",
        "score_ = accuracy_score(y_test, y_pred)\n",
        "print(\"Test Accuracy Score: \", score_)\n",
        "\n",
        "from sklearn.metrics import confusion_matrix  \n",
        "cm= confusion_matrix(y_test,y_pred)\n",
        "print(\"Confusion Matrix: \\n\",cm)"
      ]
    },
    {
      "cell_type": "markdown",
      "metadata": {
        "id": "LHdaIuu7w1FR"
      },
      "source": [
        "###**Support Vector Machine Algorithm**"
      ]
    },
    {
      "cell_type": "code",
      "execution_count": null,
      "metadata": {
        "colab": {
          "base_uri": "https://localhost:8080/"
        },
        "id": "BaMDokMSw1FR",
        "outputId": "32d5b339-7be4-4ea2-c90f-4230429c9b55"
      },
      "outputs": [
        {
          "output_type": "execute_result",
          "data": {
            "text/plain": [
              "SVC(random_state=0)"
            ]
          },
          "metadata": {},
          "execution_count": 359
        }
      ],
      "source": [
        "from sklearn.svm import SVC # \"Support vector classifier\"  \n",
        "classifier = SVC(kernel='rbf', random_state=0)  \n",
        "classifier.fit(x_train, y_train)  "
      ]
    },
    {
      "cell_type": "code",
      "execution_count": null,
      "metadata": {
        "id": "XKFYHUgSw1FS"
      },
      "outputs": [],
      "source": [
        "#Predicting the test set result  \n",
        "y_pred= classifier.predict(x_test)  "
      ]
    },
    {
      "cell_type": "code",
      "execution_count": null,
      "metadata": {
        "colab": {
          "base_uri": "https://localhost:8080/"
        },
        "id": "trKdGj9Yw1FS",
        "outputId": "a278c19e-0921-41d8-c3b1-b76e945e3104"
      },
      "outputs": [
        {
          "output_type": "stream",
          "name": "stdout",
          "text": [
            "[[17  1]\n",
            " [ 2  2]]\n"
          ]
        }
      ],
      "source": [
        "from sklearn.metrics import confusion_matrix  \n",
        "cm= confusion_matrix(y_test, y_pred)  \n",
        "print(cm)"
      ]
    },
    {
      "cell_type": "code",
      "execution_count": null,
      "metadata": {
        "colab": {
          "base_uri": "https://localhost:8080/"
        },
        "id": "l1YIUJwSw1FS",
        "outputId": "b7a2fc53-4744-4f77-d2cc-245b4139ab38"
      },
      "outputs": [
        {
          "output_type": "stream",
          "name": "stdout",
          "text": [
            "Test Accuracy Score:  0.8636363636363636\n"
          ]
        }
      ],
      "source": [
        "score_ = accuracy_score(y_test, y_pred)\n",
        "print(\"Test Accuracy Score: \", score_)"
      ]
    },
    {
      "cell_type": "markdown",
      "metadata": {
        "id": "3nmLOoPcw1FS"
      },
      "source": [
        "##**Decision Tree Algorithm**"
      ]
    },
    {
      "cell_type": "code",
      "execution_count": null,
      "metadata": {
        "colab": {
          "base_uri": "https://localhost:8080/"
        },
        "id": "b91_q29Sw1FS",
        "outputId": "710fba8a-9042-4065-c29d-a2311f75ca12"
      },
      "outputs": [
        {
          "output_type": "execute_result",
          "data": {
            "text/plain": [
              "DecisionTreeClassifier(criterion='entropy', random_state=0)"
            ]
          },
          "metadata": {},
          "execution_count": 363
        }
      ],
      "source": [
        "from sklearn.tree import DecisionTreeClassifier  \n",
        "classifier= DecisionTreeClassifier(criterion='entropy', random_state=0)  \n",
        "classifier.fit(x_train, y_train)  "
      ]
    },
    {
      "cell_type": "code",
      "execution_count": null,
      "metadata": {
        "id": "DYEq6DbHw1FT"
      },
      "outputs": [],
      "source": [
        "#Predicting the test set result  \n",
        "y_pred= classifier.predict(x_test)  "
      ]
    },
    {
      "cell_type": "code",
      "execution_count": null,
      "metadata": {
        "colab": {
          "base_uri": "https://localhost:8080/"
        },
        "id": "QBPWOXRww1FT",
        "outputId": "f4db4bba-98a6-4537-8bc1-a7fbdb024426"
      },
      "outputs": [
        {
          "output_type": "stream",
          "name": "stdout",
          "text": [
            "[[17  1]\n",
            " [ 2  2]]\n"
          ]
        }
      ],
      "source": [
        "#Creating the Confusion matrix  \n",
        "from sklearn.metrics import confusion_matrix  \n",
        "cm= confusion_matrix(y_test, y_pred) \n",
        "print(cm)"
      ]
    },
    {
      "cell_type": "code",
      "execution_count": null,
      "metadata": {
        "colab": {
          "base_uri": "https://localhost:8080/"
        },
        "id": "YjMbT3Q7w1FT",
        "outputId": "9c0bd4e1-ab81-4b95-a7f9-70f54df61614"
      },
      "outputs": [
        {
          "output_type": "stream",
          "name": "stdout",
          "text": [
            "Test Accuracy Score:  0.8636363636363636\n"
          ]
        }
      ],
      "source": [
        "score_ = accuracy_score(y_test, y_pred)\n",
        "print(\"Test Accuracy Score: \", score_)"
      ]
    },
    {
      "cell_type": "markdown",
      "metadata": {
        "id": "wUNSsjYgw1FT"
      },
      "source": [
        "##**Random Forest**"
      ]
    },
    {
      "cell_type": "code",
      "execution_count": null,
      "metadata": {
        "colab": {
          "base_uri": "https://localhost:8080/"
        },
        "id": "_o62yy7nw1FU",
        "outputId": "f6ad6734-2172-4144-f9ce-b67e701b86ee"
      },
      "outputs": [
        {
          "output_type": "execute_result",
          "data": {
            "text/plain": [
              "RandomForestClassifier(criterion='entropy', n_estimators=10)"
            ]
          },
          "metadata": {},
          "execution_count": 367
        }
      ],
      "source": [
        "#Fitting Decision Tree classifier to the training set  \n",
        "from sklearn.ensemble import RandomForestClassifier  \n",
        "classifier= RandomForestClassifier(n_estimators= 10, criterion=\"entropy\")  \n",
        "classifier.fit(x_train, y_train)  "
      ]
    },
    {
      "cell_type": "code",
      "execution_count": null,
      "metadata": {
        "id": "l6kwQAJjw1FU"
      },
      "outputs": [],
      "source": [
        "#Predicting the test set result  \n",
        "y_pred= classifier.predict(x_test)  "
      ]
    },
    {
      "cell_type": "code",
      "execution_count": null,
      "metadata": {
        "colab": {
          "base_uri": "https://localhost:8080/"
        },
        "id": "6PYK0ysIw1FU",
        "outputId": "91232383-a8e6-4e11-fda7-99d10109249a"
      },
      "outputs": [
        {
          "output_type": "stream",
          "name": "stdout",
          "text": [
            "[[17  1]\n",
            " [ 2  2]]\n"
          ]
        }
      ],
      "source": [
        "#Creating the Confusion matrix  \n",
        "from sklearn.metrics import confusion_matrix  \n",
        "cm= confusion_matrix(y_test, y_pred)  \n",
        "print(cm)"
      ]
    },
    {
      "cell_type": "code",
      "execution_count": null,
      "metadata": {
        "colab": {
          "base_uri": "https://localhost:8080/"
        },
        "id": "PzxWUJMiw1FU",
        "outputId": "4026e2d3-2e55-4cb0-f3b5-f38f923ef2e7"
      },
      "outputs": [
        {
          "output_type": "stream",
          "name": "stdout",
          "text": [
            "Test Accuracy Score:  0.8636363636363636\n"
          ]
        }
      ],
      "source": [
        "score_ = accuracy_score(y_test, y_pred)\n",
        "print(\"Test Accuracy Score: \", score_)"
      ]
    },
    {
      "cell_type": "markdown",
      "metadata": {
        "id": "TEGAslgfw1FV"
      },
      "source": [
        "##**Bagging**"
      ]
    },
    {
      "cell_type": "code",
      "execution_count": null,
      "metadata": {
        "colab": {
          "base_uri": "https://localhost:8080/"
        },
        "id": "uKSfF6c1w1FV",
        "outputId": "f3f8df64-b63a-48cf-8cea-3b2dbe5081e8"
      },
      "outputs": [
        {
          "output_type": "execute_result",
          "data": {
            "text/plain": [
              "DecisionTreeClassifier(random_state=21)"
            ]
          },
          "metadata": {},
          "execution_count": 372
        }
      ],
      "source": [
        "from sklearn.tree import DecisionTreeClassifier\n",
        "dtree = DecisionTreeClassifier(random_state=21)\n",
        "dtree.fit(x_train,y_train)"
      ]
    },
    {
      "cell_type": "code",
      "execution_count": null,
      "metadata": {
        "colab": {
          "base_uri": "https://localhost:8080/"
        },
        "id": "3FiQ87k5w1FV",
        "outputId": "b75a5964-c8c8-431b-8294-0006f8b311f0"
      },
      "outputs": [
        {
          "output_type": "stream",
          "name": "stdout",
          "text": [
            "Train data accuracy: 1.0\n",
            "Test data accuracy: 0.9090909090909091\n"
          ]
        }
      ],
      "source": [
        "y_pred = dtree.predict(x_test)\n",
        "\n",
        "print(\"Train data accuracy:\",accuracy_score(y_true = y_train, y_pred = dtree.predict(x_train)))\n",
        "print(\"Test data accuracy:\",accuracy_score(y_true = y_test, y_pred = y_pred))"
      ]
    },
    {
      "cell_type": "markdown",
      "metadata": {
        "id": "hyNLBbVHqXg3"
      },
      "source": [
        "#**ar5 Dataset**"
      ]
    },
    {
      "cell_type": "code",
      "execution_count": null,
      "metadata": {
        "colab": {
          "base_uri": "https://localhost:8080/",
          "height": 1000
        },
        "id": "SeWfiRXO1QNM",
        "outputId": "0f549ba1-901a-4839-be7d-4883a374e702"
      },
      "outputs": [
        {
          "output_type": "execute_result",
          "data": {
            "text/plain": [
              "    total_loc  blank_loc  comment_loc  code_and_comment_loc  executable_loc  \\\n",
              "0          16          6            2                     1               8   \n",
              "1          31         12            3                     2              16   \n",
              "2         477        104           89                     2             284   \n",
              "3          11          2            0                     0               9   \n",
              "4           9          2            0                     0               7   \n",
              "5          10          2            0                     0               8   \n",
              "6           5          0            0                     0               5   \n",
              "7          28          5            1                     0              22   \n",
              "8          26          6            0                     0              20   \n",
              "9          15          4            0                     0              11   \n",
              "10         22          4            1                     0              17   \n",
              "11         10          4            0                     0               6   \n",
              "12         23          5            1                     0              17   \n",
              "13         86         22            8                     3              56   \n",
              "14        115         17            1                     1              97   \n",
              "15        150         43            5                     1             102   \n",
              "16         47         14           17                     0              16   \n",
              "17         35         13           15                     0               7   \n",
              "18         65         18            9                     0              38   \n",
              "19         29          4            1                     0              24   \n",
              "20         42         13            0                     0              29   \n",
              "21         14          3            0                     0              11   \n",
              "22         29          8            0                     0              21   \n",
              "23        151         38           13                     4             100   \n",
              "24         42          8            3                     0              31   \n",
              "25        208         38           28                     4             142   \n",
              "26         48          9            8                     4              31   \n",
              "27        135         44           20                     2              71   \n",
              "28        125         25           12                     4              88   \n",
              "29         14          2            0                     0              12   \n",
              "30        147         32           10                     4             105   \n",
              "31        214         55           38                     8             121   \n",
              "32        112         23            7                     3              82   \n",
              "33        110         29           11                     3              70   \n",
              "34         49         14            7                     3              28   \n",
              "\n",
              "    unique_operands  unique_operators  total_operands  total_operators  \\\n",
              "0                13                 6              18               20   \n",
              "1                18                 9              31               42   \n",
              "2               150                29             482              699   \n",
              "3                10                 4              15               17   \n",
              "4                 7                 4              11               13   \n",
              "5                 7                 4              13               15   \n",
              "6                 5                 3               5                9   \n",
              "7                18                12              49               53   \n",
              "8                16                11              41               44   \n",
              "9                11                 5              19               22   \n",
              "10               17                 9              25               36   \n",
              "11                9                 6              24               23   \n",
              "12               15                10              43               58   \n",
              "13               31                11              76              113   \n",
              "14               35                16             154              204   \n",
              "15               79                16             184              229   \n",
              "16               45                 5              50               52   \n",
              "17               26                 4              29               31   \n",
              "18               43                10              92              110   \n",
              "19               27                 5              55               57   \n",
              "20               27                14              65               85   \n",
              "21               14                 7              34               43   \n",
              "22               18                 8              36               46   \n",
              "23               64                28             189              285   \n",
              "24               18                11              40               59   \n",
              "25               70                17             259              371   \n",
              "26               28                14              56               88   \n",
              "27               87                23             203              258   \n",
              "28               62                27             153              229   \n",
              "29               13                11              18               29   \n",
              "30               46                17             165              247   \n",
              "31               71                23             221              309   \n",
              "32               35                23             226              305   \n",
              "33               48                23             135              182   \n",
              "34               23                16              53               74   \n",
              "\n",
              "    halstead_vocabulary  ...  condition_count  multiple_condition_count  \\\n",
              "0                    19  ...                0                         0   \n",
              "1                    27  ...                5                         0   \n",
              "2                   179  ...              116                        25   \n",
              "3                    14  ...                0                         0   \n",
              "4                    11  ...                0                         0   \n",
              "5                    11  ...                0                         0   \n",
              "6                     8  ...                0                         0   \n",
              "7                    30  ...                3                         1   \n",
              "8                    27  ...                1                         0   \n",
              "9                    16  ...                0                         0   \n",
              "10                   26  ...                1                         0   \n",
              "11                   15  ...                0                         0   \n",
              "12                   25  ...                8                         4   \n",
              "13                   42  ...               11                         4   \n",
              "14                   51  ...               25                         4   \n",
              "15                   95  ...               21                         7   \n",
              "16                   50  ...                0                         0   \n",
              "17                   30  ...                0                         0   \n",
              "18                   53  ...               10                         0   \n",
              "19                   32  ...                0                         0   \n",
              "20                   41  ...                8                         2   \n",
              "21                   21  ...               13                         6   \n",
              "22                   26  ...                4                         1   \n",
              "23                   92  ...               29                         3   \n",
              "24                   29  ...                8                         4   \n",
              "25                   87  ...               52                        12   \n",
              "26                   42  ...               16                         5   \n",
              "27                  110  ...               35                        10   \n",
              "28                   89  ...               33                         6   \n",
              "29                   24  ...                4                         0   \n",
              "30                   63  ...               46                         8   \n",
              "31                   94  ...               54                        17   \n",
              "32                   58  ...               43                        15   \n",
              "33                   71  ...               26                         7   \n",
              "34                   39  ...               11                         3   \n",
              "\n",
              "    cyclomatic_complexity  cyclomatic_density  decision_density  \\\n",
              "0                       2            0.250000            0.0000   \n",
              "1                       6            0.375000            1.0000   \n",
              "2                      93            0.327460            1.0172   \n",
              "3                       1            0.111110            0.0000   \n",
              "4                       1            0.142860            0.0000   \n",
              "5                       1            0.125000            0.0000   \n",
              "6                       1            0.200000            0.0000   \n",
              "7                       4            0.181820            1.3333   \n",
              "8                       3            0.150000            2.0000   \n",
              "9                       1            0.090909            0.0000   \n",
              "10                      3            0.176470            2.0000   \n",
              "11                      1            0.166670            0.0000   \n",
              "12                      5            0.294120            1.0000   \n",
              "13                      9            0.160710            1.0909   \n",
              "14                     21            0.216490            1.0400   \n",
              "15                     18            0.176470            1.1429   \n",
              "16                      1            0.062500            0.0000   \n",
              "17                      1            0.142860            0.0000   \n",
              "18                     11            0.289470            1.0000   \n",
              "19                      1            0.041667            0.0000   \n",
              "20                      8            0.275860            1.1250   \n",
              "21                      8            0.727270            1.0000   \n",
              "22                      4            0.190480            1.0000   \n",
              "23                     29            0.290000            1.1034   \n",
              "24                      5            0.161290            1.0000   \n",
              "25                     41            0.288730            1.0000   \n",
              "26                     12            0.387100            1.0000   \n",
              "27                     26            0.366200            1.0000   \n",
              "28                     29            0.329550            1.0606   \n",
              "29                      5            0.416670            1.0000   \n",
              "30                     38            0.361900            1.0000   \n",
              "31                     37            0.305790            1.0000   \n",
              "32                     30            0.365850            1.0465   \n",
              "33                     21            0.300000            1.0385   \n",
              "34                      9            0.321430            1.0000   \n",
              "\n",
              "    design_complexity  design_density  normalized_cyclomatic_complexity  \\\n",
              "0                   1        0.500000                          0.125000   \n",
              "1                   1        0.166670                          0.193550   \n",
              "2                   4        0.043011                          0.194970   \n",
              "3                   2        2.000000                          0.090909   \n",
              "4                   1        1.000000                          0.111110   \n",
              "5                   2        2.000000                          0.100000   \n",
              "6                   3        3.000000                          0.200000   \n",
              "7                   2        0.500000                          0.142860   \n",
              "8                   2        0.666670                          0.115380   \n",
              "9                   7        7.000000                          0.066667   \n",
              "10                  7        2.333300                          0.136360   \n",
              "11                  3        3.000000                          0.100000   \n",
              "12                  4        0.800000                          0.217390   \n",
              "13                  3        0.333330                          0.104650   \n",
              "14                  2        0.095238                          0.182610   \n",
              "15                 13        0.722220                          0.120000   \n",
              "16                  0        0.000000                          0.021277   \n",
              "17                  0        0.000000                          0.028571   \n",
              "18                 14        1.272700                          0.169230   \n",
              "19                 10       10.000000                          0.034483   \n",
              "20                  0        0.000000                          0.190480   \n",
              "21                  1        0.125000                          0.571430   \n",
              "22                  2        0.500000                          0.137930   \n",
              "23                  0        0.000000                          0.192050   \n",
              "24                  0        0.000000                          0.119050   \n",
              "25                 17        0.414630                          0.197120   \n",
              "26                  6        0.500000                          0.250000   \n",
              "27                  4        0.153850                          0.192590   \n",
              "28                  9        0.310340                          0.232000   \n",
              "29                  1        0.200000                          0.357140   \n",
              "30                  0        0.000000                          0.258500   \n",
              "31                  4        0.108110                          0.172900   \n",
              "32                  1        0.033333                          0.267860   \n",
              "33                  1        0.047619                          0.190910   \n",
              "34                  0        0.000000                          0.183670   \n",
              "\n",
              "    formal_parameters  problems  \n",
              "0                   1     False  \n",
              "1                   0     False  \n",
              "2                   0      True  \n",
              "3                   0     False  \n",
              "4                   0     False  \n",
              "5                   0     False  \n",
              "6                   0     False  \n",
              "7                   1     False  \n",
              "8                   0     False  \n",
              "9                   1     False  \n",
              "10                  2     False  \n",
              "11                  2     False  \n",
              "12                  1     False  \n",
              "13                  0     False  \n",
              "14                  0     False  \n",
              "15                  0      True  \n",
              "16                  0     False  \n",
              "17                  0     False  \n",
              "18                  0     False  \n",
              "19                  0     False  \n",
              "20                  0     False  \n",
              "21                  0     False  \n",
              "22                  0     False  \n",
              "23                  0     False  \n",
              "24                  0     False  \n",
              "25                  0      True  \n",
              "26                  0     False  \n",
              "27                  0      True  \n",
              "28                  0      True  \n",
              "29                  0     False  \n",
              "30                  0     False  \n",
              "31                  0      True  \n",
              "32                  0     False  \n",
              "33                  0      True  \n",
              "34                  0      True  \n",
              "\n",
              "[35 rows x 30 columns]"
            ],
            "text/html": [
              "\n",
              "  <div id=\"df-c4f8de8f-4302-4546-958a-e1764690655a\">\n",
              "    <div class=\"colab-df-container\">\n",
              "      <div>\n",
              "<style scoped>\n",
              "    .dataframe tbody tr th:only-of-type {\n",
              "        vertical-align: middle;\n",
              "    }\n",
              "\n",
              "    .dataframe tbody tr th {\n",
              "        vertical-align: top;\n",
              "    }\n",
              "\n",
              "    .dataframe thead th {\n",
              "        text-align: right;\n",
              "    }\n",
              "</style>\n",
              "<table border=\"1\" class=\"dataframe\">\n",
              "  <thead>\n",
              "    <tr style=\"text-align: right;\">\n",
              "      <th></th>\n",
              "      <th>total_loc</th>\n",
              "      <th>blank_loc</th>\n",
              "      <th>comment_loc</th>\n",
              "      <th>code_and_comment_loc</th>\n",
              "      <th>executable_loc</th>\n",
              "      <th>unique_operands</th>\n",
              "      <th>unique_operators</th>\n",
              "      <th>total_operands</th>\n",
              "      <th>total_operators</th>\n",
              "      <th>halstead_vocabulary</th>\n",
              "      <th>...</th>\n",
              "      <th>condition_count</th>\n",
              "      <th>multiple_condition_count</th>\n",
              "      <th>cyclomatic_complexity</th>\n",
              "      <th>cyclomatic_density</th>\n",
              "      <th>decision_density</th>\n",
              "      <th>design_complexity</th>\n",
              "      <th>design_density</th>\n",
              "      <th>normalized_cyclomatic_complexity</th>\n",
              "      <th>formal_parameters</th>\n",
              "      <th>problems</th>\n",
              "    </tr>\n",
              "  </thead>\n",
              "  <tbody>\n",
              "    <tr>\n",
              "      <th>0</th>\n",
              "      <td>16</td>\n",
              "      <td>6</td>\n",
              "      <td>2</td>\n",
              "      <td>1</td>\n",
              "      <td>8</td>\n",
              "      <td>13</td>\n",
              "      <td>6</td>\n",
              "      <td>18</td>\n",
              "      <td>20</td>\n",
              "      <td>19</td>\n",
              "      <td>...</td>\n",
              "      <td>0</td>\n",
              "      <td>0</td>\n",
              "      <td>2</td>\n",
              "      <td>0.250000</td>\n",
              "      <td>0.0000</td>\n",
              "      <td>1</td>\n",
              "      <td>0.500000</td>\n",
              "      <td>0.125000</td>\n",
              "      <td>1</td>\n",
              "      <td>False</td>\n",
              "    </tr>\n",
              "    <tr>\n",
              "      <th>1</th>\n",
              "      <td>31</td>\n",
              "      <td>12</td>\n",
              "      <td>3</td>\n",
              "      <td>2</td>\n",
              "      <td>16</td>\n",
              "      <td>18</td>\n",
              "      <td>9</td>\n",
              "      <td>31</td>\n",
              "      <td>42</td>\n",
              "      <td>27</td>\n",
              "      <td>...</td>\n",
              "      <td>5</td>\n",
              "      <td>0</td>\n",
              "      <td>6</td>\n",
              "      <td>0.375000</td>\n",
              "      <td>1.0000</td>\n",
              "      <td>1</td>\n",
              "      <td>0.166670</td>\n",
              "      <td>0.193550</td>\n",
              "      <td>0</td>\n",
              "      <td>False</td>\n",
              "    </tr>\n",
              "    <tr>\n",
              "      <th>2</th>\n",
              "      <td>477</td>\n",
              "      <td>104</td>\n",
              "      <td>89</td>\n",
              "      <td>2</td>\n",
              "      <td>284</td>\n",
              "      <td>150</td>\n",
              "      <td>29</td>\n",
              "      <td>482</td>\n",
              "      <td>699</td>\n",
              "      <td>179</td>\n",
              "      <td>...</td>\n",
              "      <td>116</td>\n",
              "      <td>25</td>\n",
              "      <td>93</td>\n",
              "      <td>0.327460</td>\n",
              "      <td>1.0172</td>\n",
              "      <td>4</td>\n",
              "      <td>0.043011</td>\n",
              "      <td>0.194970</td>\n",
              "      <td>0</td>\n",
              "      <td>True</td>\n",
              "    </tr>\n",
              "    <tr>\n",
              "      <th>3</th>\n",
              "      <td>11</td>\n",
              "      <td>2</td>\n",
              "      <td>0</td>\n",
              "      <td>0</td>\n",
              "      <td>9</td>\n",
              "      <td>10</td>\n",
              "      <td>4</td>\n",
              "      <td>15</td>\n",
              "      <td>17</td>\n",
              "      <td>14</td>\n",
              "      <td>...</td>\n",
              "      <td>0</td>\n",
              "      <td>0</td>\n",
              "      <td>1</td>\n",
              "      <td>0.111110</td>\n",
              "      <td>0.0000</td>\n",
              "      <td>2</td>\n",
              "      <td>2.000000</td>\n",
              "      <td>0.090909</td>\n",
              "      <td>0</td>\n",
              "      <td>False</td>\n",
              "    </tr>\n",
              "    <tr>\n",
              "      <th>4</th>\n",
              "      <td>9</td>\n",
              "      <td>2</td>\n",
              "      <td>0</td>\n",
              "      <td>0</td>\n",
              "      <td>7</td>\n",
              "      <td>7</td>\n",
              "      <td>4</td>\n",
              "      <td>11</td>\n",
              "      <td>13</td>\n",
              "      <td>11</td>\n",
              "      <td>...</td>\n",
              "      <td>0</td>\n",
              "      <td>0</td>\n",
              "      <td>1</td>\n",
              "      <td>0.142860</td>\n",
              "      <td>0.0000</td>\n",
              "      <td>1</td>\n",
              "      <td>1.000000</td>\n",
              "      <td>0.111110</td>\n",
              "      <td>0</td>\n",
              "      <td>False</td>\n",
              "    </tr>\n",
              "    <tr>\n",
              "      <th>5</th>\n",
              "      <td>10</td>\n",
              "      <td>2</td>\n",
              "      <td>0</td>\n",
              "      <td>0</td>\n",
              "      <td>8</td>\n",
              "      <td>7</td>\n",
              "      <td>4</td>\n",
              "      <td>13</td>\n",
              "      <td>15</td>\n",
              "      <td>11</td>\n",
              "      <td>...</td>\n",
              "      <td>0</td>\n",
              "      <td>0</td>\n",
              "      <td>1</td>\n",
              "      <td>0.125000</td>\n",
              "      <td>0.0000</td>\n",
              "      <td>2</td>\n",
              "      <td>2.000000</td>\n",
              "      <td>0.100000</td>\n",
              "      <td>0</td>\n",
              "      <td>False</td>\n",
              "    </tr>\n",
              "    <tr>\n",
              "      <th>6</th>\n",
              "      <td>5</td>\n",
              "      <td>0</td>\n",
              "      <td>0</td>\n",
              "      <td>0</td>\n",
              "      <td>5</td>\n",
              "      <td>5</td>\n",
              "      <td>3</td>\n",
              "      <td>5</td>\n",
              "      <td>9</td>\n",
              "      <td>8</td>\n",
              "      <td>...</td>\n",
              "      <td>0</td>\n",
              "      <td>0</td>\n",
              "      <td>1</td>\n",
              "      <td>0.200000</td>\n",
              "      <td>0.0000</td>\n",
              "      <td>3</td>\n",
              "      <td>3.000000</td>\n",
              "      <td>0.200000</td>\n",
              "      <td>0</td>\n",
              "      <td>False</td>\n",
              "    </tr>\n",
              "    <tr>\n",
              "      <th>7</th>\n",
              "      <td>28</td>\n",
              "      <td>5</td>\n",
              "      <td>1</td>\n",
              "      <td>0</td>\n",
              "      <td>22</td>\n",
              "      <td>18</td>\n",
              "      <td>12</td>\n",
              "      <td>49</td>\n",
              "      <td>53</td>\n",
              "      <td>30</td>\n",
              "      <td>...</td>\n",
              "      <td>3</td>\n",
              "      <td>1</td>\n",
              "      <td>4</td>\n",
              "      <td>0.181820</td>\n",
              "      <td>1.3333</td>\n",
              "      <td>2</td>\n",
              "      <td>0.500000</td>\n",
              "      <td>0.142860</td>\n",
              "      <td>1</td>\n",
              "      <td>False</td>\n",
              "    </tr>\n",
              "    <tr>\n",
              "      <th>8</th>\n",
              "      <td>26</td>\n",
              "      <td>6</td>\n",
              "      <td>0</td>\n",
              "      <td>0</td>\n",
              "      <td>20</td>\n",
              "      <td>16</td>\n",
              "      <td>11</td>\n",
              "      <td>41</td>\n",
              "      <td>44</td>\n",
              "      <td>27</td>\n",
              "      <td>...</td>\n",
              "      <td>1</td>\n",
              "      <td>0</td>\n",
              "      <td>3</td>\n",
              "      <td>0.150000</td>\n",
              "      <td>2.0000</td>\n",
              "      <td>2</td>\n",
              "      <td>0.666670</td>\n",
              "      <td>0.115380</td>\n",
              "      <td>0</td>\n",
              "      <td>False</td>\n",
              "    </tr>\n",
              "    <tr>\n",
              "      <th>9</th>\n",
              "      <td>15</td>\n",
              "      <td>4</td>\n",
              "      <td>0</td>\n",
              "      <td>0</td>\n",
              "      <td>11</td>\n",
              "      <td>11</td>\n",
              "      <td>5</td>\n",
              "      <td>19</td>\n",
              "      <td>22</td>\n",
              "      <td>16</td>\n",
              "      <td>...</td>\n",
              "      <td>0</td>\n",
              "      <td>0</td>\n",
              "      <td>1</td>\n",
              "      <td>0.090909</td>\n",
              "      <td>0.0000</td>\n",
              "      <td>7</td>\n",
              "      <td>7.000000</td>\n",
              "      <td>0.066667</td>\n",
              "      <td>1</td>\n",
              "      <td>False</td>\n",
              "    </tr>\n",
              "    <tr>\n",
              "      <th>10</th>\n",
              "      <td>22</td>\n",
              "      <td>4</td>\n",
              "      <td>1</td>\n",
              "      <td>0</td>\n",
              "      <td>17</td>\n",
              "      <td>17</td>\n",
              "      <td>9</td>\n",
              "      <td>25</td>\n",
              "      <td>36</td>\n",
              "      <td>26</td>\n",
              "      <td>...</td>\n",
              "      <td>1</td>\n",
              "      <td>0</td>\n",
              "      <td>3</td>\n",
              "      <td>0.176470</td>\n",
              "      <td>2.0000</td>\n",
              "      <td>7</td>\n",
              "      <td>2.333300</td>\n",
              "      <td>0.136360</td>\n",
              "      <td>2</td>\n",
              "      <td>False</td>\n",
              "    </tr>\n",
              "    <tr>\n",
              "      <th>11</th>\n",
              "      <td>10</td>\n",
              "      <td>4</td>\n",
              "      <td>0</td>\n",
              "      <td>0</td>\n",
              "      <td>6</td>\n",
              "      <td>9</td>\n",
              "      <td>6</td>\n",
              "      <td>24</td>\n",
              "      <td>23</td>\n",
              "      <td>15</td>\n",
              "      <td>...</td>\n",
              "      <td>0</td>\n",
              "      <td>0</td>\n",
              "      <td>1</td>\n",
              "      <td>0.166670</td>\n",
              "      <td>0.0000</td>\n",
              "      <td>3</td>\n",
              "      <td>3.000000</td>\n",
              "      <td>0.100000</td>\n",
              "      <td>2</td>\n",
              "      <td>False</td>\n",
              "    </tr>\n",
              "    <tr>\n",
              "      <th>12</th>\n",
              "      <td>23</td>\n",
              "      <td>5</td>\n",
              "      <td>1</td>\n",
              "      <td>0</td>\n",
              "      <td>17</td>\n",
              "      <td>15</td>\n",
              "      <td>10</td>\n",
              "      <td>43</td>\n",
              "      <td>58</td>\n",
              "      <td>25</td>\n",
              "      <td>...</td>\n",
              "      <td>8</td>\n",
              "      <td>4</td>\n",
              "      <td>5</td>\n",
              "      <td>0.294120</td>\n",
              "      <td>1.0000</td>\n",
              "      <td>4</td>\n",
              "      <td>0.800000</td>\n",
              "      <td>0.217390</td>\n",
              "      <td>1</td>\n",
              "      <td>False</td>\n",
              "    </tr>\n",
              "    <tr>\n",
              "      <th>13</th>\n",
              "      <td>86</td>\n",
              "      <td>22</td>\n",
              "      <td>8</td>\n",
              "      <td>3</td>\n",
              "      <td>56</td>\n",
              "      <td>31</td>\n",
              "      <td>11</td>\n",
              "      <td>76</td>\n",
              "      <td>113</td>\n",
              "      <td>42</td>\n",
              "      <td>...</td>\n",
              "      <td>11</td>\n",
              "      <td>4</td>\n",
              "      <td>9</td>\n",
              "      <td>0.160710</td>\n",
              "      <td>1.0909</td>\n",
              "      <td>3</td>\n",
              "      <td>0.333330</td>\n",
              "      <td>0.104650</td>\n",
              "      <td>0</td>\n",
              "      <td>False</td>\n",
              "    </tr>\n",
              "    <tr>\n",
              "      <th>14</th>\n",
              "      <td>115</td>\n",
              "      <td>17</td>\n",
              "      <td>1</td>\n",
              "      <td>1</td>\n",
              "      <td>97</td>\n",
              "      <td>35</td>\n",
              "      <td>16</td>\n",
              "      <td>154</td>\n",
              "      <td>204</td>\n",
              "      <td>51</td>\n",
              "      <td>...</td>\n",
              "      <td>25</td>\n",
              "      <td>4</td>\n",
              "      <td>21</td>\n",
              "      <td>0.216490</td>\n",
              "      <td>1.0400</td>\n",
              "      <td>2</td>\n",
              "      <td>0.095238</td>\n",
              "      <td>0.182610</td>\n",
              "      <td>0</td>\n",
              "      <td>False</td>\n",
              "    </tr>\n",
              "    <tr>\n",
              "      <th>15</th>\n",
              "      <td>150</td>\n",
              "      <td>43</td>\n",
              "      <td>5</td>\n",
              "      <td>1</td>\n",
              "      <td>102</td>\n",
              "      <td>79</td>\n",
              "      <td>16</td>\n",
              "      <td>184</td>\n",
              "      <td>229</td>\n",
              "      <td>95</td>\n",
              "      <td>...</td>\n",
              "      <td>21</td>\n",
              "      <td>7</td>\n",
              "      <td>18</td>\n",
              "      <td>0.176470</td>\n",
              "      <td>1.1429</td>\n",
              "      <td>13</td>\n",
              "      <td>0.722220</td>\n",
              "      <td>0.120000</td>\n",
              "      <td>0</td>\n",
              "      <td>True</td>\n",
              "    </tr>\n",
              "    <tr>\n",
              "      <th>16</th>\n",
              "      <td>47</td>\n",
              "      <td>14</td>\n",
              "      <td>17</td>\n",
              "      <td>0</td>\n",
              "      <td>16</td>\n",
              "      <td>45</td>\n",
              "      <td>5</td>\n",
              "      <td>50</td>\n",
              "      <td>52</td>\n",
              "      <td>50</td>\n",
              "      <td>...</td>\n",
              "      <td>0</td>\n",
              "      <td>0</td>\n",
              "      <td>1</td>\n",
              "      <td>0.062500</td>\n",
              "      <td>0.0000</td>\n",
              "      <td>0</td>\n",
              "      <td>0.000000</td>\n",
              "      <td>0.021277</td>\n",
              "      <td>0</td>\n",
              "      <td>False</td>\n",
              "    </tr>\n",
              "    <tr>\n",
              "      <th>17</th>\n",
              "      <td>35</td>\n",
              "      <td>13</td>\n",
              "      <td>15</td>\n",
              "      <td>0</td>\n",
              "      <td>7</td>\n",
              "      <td>26</td>\n",
              "      <td>4</td>\n",
              "      <td>29</td>\n",
              "      <td>31</td>\n",
              "      <td>30</td>\n",
              "      <td>...</td>\n",
              "      <td>0</td>\n",
              "      <td>0</td>\n",
              "      <td>1</td>\n",
              "      <td>0.142860</td>\n",
              "      <td>0.0000</td>\n",
              "      <td>0</td>\n",
              "      <td>0.000000</td>\n",
              "      <td>0.028571</td>\n",
              "      <td>0</td>\n",
              "      <td>False</td>\n",
              "    </tr>\n",
              "    <tr>\n",
              "      <th>18</th>\n",
              "      <td>65</td>\n",
              "      <td>18</td>\n",
              "      <td>9</td>\n",
              "      <td>0</td>\n",
              "      <td>38</td>\n",
              "      <td>43</td>\n",
              "      <td>10</td>\n",
              "      <td>92</td>\n",
              "      <td>110</td>\n",
              "      <td>53</td>\n",
              "      <td>...</td>\n",
              "      <td>10</td>\n",
              "      <td>0</td>\n",
              "      <td>11</td>\n",
              "      <td>0.289470</td>\n",
              "      <td>1.0000</td>\n",
              "      <td>14</td>\n",
              "      <td>1.272700</td>\n",
              "      <td>0.169230</td>\n",
              "      <td>0</td>\n",
              "      <td>False</td>\n",
              "    </tr>\n",
              "    <tr>\n",
              "      <th>19</th>\n",
              "      <td>29</td>\n",
              "      <td>4</td>\n",
              "      <td>1</td>\n",
              "      <td>0</td>\n",
              "      <td>24</td>\n",
              "      <td>27</td>\n",
              "      <td>5</td>\n",
              "      <td>55</td>\n",
              "      <td>57</td>\n",
              "      <td>32</td>\n",
              "      <td>...</td>\n",
              "      <td>0</td>\n",
              "      <td>0</td>\n",
              "      <td>1</td>\n",
              "      <td>0.041667</td>\n",
              "      <td>0.0000</td>\n",
              "      <td>10</td>\n",
              "      <td>10.000000</td>\n",
              "      <td>0.034483</td>\n",
              "      <td>0</td>\n",
              "      <td>False</td>\n",
              "    </tr>\n",
              "    <tr>\n",
              "      <th>20</th>\n",
              "      <td>42</td>\n",
              "      <td>13</td>\n",
              "      <td>0</td>\n",
              "      <td>0</td>\n",
              "      <td>29</td>\n",
              "      <td>27</td>\n",
              "      <td>14</td>\n",
              "      <td>65</td>\n",
              "      <td>85</td>\n",
              "      <td>41</td>\n",
              "      <td>...</td>\n",
              "      <td>8</td>\n",
              "      <td>2</td>\n",
              "      <td>8</td>\n",
              "      <td>0.275860</td>\n",
              "      <td>1.1250</td>\n",
              "      <td>0</td>\n",
              "      <td>0.000000</td>\n",
              "      <td>0.190480</td>\n",
              "      <td>0</td>\n",
              "      <td>False</td>\n",
              "    </tr>\n",
              "    <tr>\n",
              "      <th>21</th>\n",
              "      <td>14</td>\n",
              "      <td>3</td>\n",
              "      <td>0</td>\n",
              "      <td>0</td>\n",
              "      <td>11</td>\n",
              "      <td>14</td>\n",
              "      <td>7</td>\n",
              "      <td>34</td>\n",
              "      <td>43</td>\n",
              "      <td>21</td>\n",
              "      <td>...</td>\n",
              "      <td>13</td>\n",
              "      <td>6</td>\n",
              "      <td>8</td>\n",
              "      <td>0.727270</td>\n",
              "      <td>1.0000</td>\n",
              "      <td>1</td>\n",
              "      <td>0.125000</td>\n",
              "      <td>0.571430</td>\n",
              "      <td>0</td>\n",
              "      <td>False</td>\n",
              "    </tr>\n",
              "    <tr>\n",
              "      <th>22</th>\n",
              "      <td>29</td>\n",
              "      <td>8</td>\n",
              "      <td>0</td>\n",
              "      <td>0</td>\n",
              "      <td>21</td>\n",
              "      <td>18</td>\n",
              "      <td>8</td>\n",
              "      <td>36</td>\n",
              "      <td>46</td>\n",
              "      <td>26</td>\n",
              "      <td>...</td>\n",
              "      <td>4</td>\n",
              "      <td>1</td>\n",
              "      <td>4</td>\n",
              "      <td>0.190480</td>\n",
              "      <td>1.0000</td>\n",
              "      <td>2</td>\n",
              "      <td>0.500000</td>\n",
              "      <td>0.137930</td>\n",
              "      <td>0</td>\n",
              "      <td>False</td>\n",
              "    </tr>\n",
              "    <tr>\n",
              "      <th>23</th>\n",
              "      <td>151</td>\n",
              "      <td>38</td>\n",
              "      <td>13</td>\n",
              "      <td>4</td>\n",
              "      <td>100</td>\n",
              "      <td>64</td>\n",
              "      <td>28</td>\n",
              "      <td>189</td>\n",
              "      <td>285</td>\n",
              "      <td>92</td>\n",
              "      <td>...</td>\n",
              "      <td>29</td>\n",
              "      <td>3</td>\n",
              "      <td>29</td>\n",
              "      <td>0.290000</td>\n",
              "      <td>1.1034</td>\n",
              "      <td>0</td>\n",
              "      <td>0.000000</td>\n",
              "      <td>0.192050</td>\n",
              "      <td>0</td>\n",
              "      <td>False</td>\n",
              "    </tr>\n",
              "    <tr>\n",
              "      <th>24</th>\n",
              "      <td>42</td>\n",
              "      <td>8</td>\n",
              "      <td>3</td>\n",
              "      <td>0</td>\n",
              "      <td>31</td>\n",
              "      <td>18</td>\n",
              "      <td>11</td>\n",
              "      <td>40</td>\n",
              "      <td>59</td>\n",
              "      <td>29</td>\n",
              "      <td>...</td>\n",
              "      <td>8</td>\n",
              "      <td>4</td>\n",
              "      <td>5</td>\n",
              "      <td>0.161290</td>\n",
              "      <td>1.0000</td>\n",
              "      <td>0</td>\n",
              "      <td>0.000000</td>\n",
              "      <td>0.119050</td>\n",
              "      <td>0</td>\n",
              "      <td>False</td>\n",
              "    </tr>\n",
              "    <tr>\n",
              "      <th>25</th>\n",
              "      <td>208</td>\n",
              "      <td>38</td>\n",
              "      <td>28</td>\n",
              "      <td>4</td>\n",
              "      <td>142</td>\n",
              "      <td>70</td>\n",
              "      <td>17</td>\n",
              "      <td>259</td>\n",
              "      <td>371</td>\n",
              "      <td>87</td>\n",
              "      <td>...</td>\n",
              "      <td>52</td>\n",
              "      <td>12</td>\n",
              "      <td>41</td>\n",
              "      <td>0.288730</td>\n",
              "      <td>1.0000</td>\n",
              "      <td>17</td>\n",
              "      <td>0.414630</td>\n",
              "      <td>0.197120</td>\n",
              "      <td>0</td>\n",
              "      <td>True</td>\n",
              "    </tr>\n",
              "    <tr>\n",
              "      <th>26</th>\n",
              "      <td>48</td>\n",
              "      <td>9</td>\n",
              "      <td>8</td>\n",
              "      <td>4</td>\n",
              "      <td>31</td>\n",
              "      <td>28</td>\n",
              "      <td>14</td>\n",
              "      <td>56</td>\n",
              "      <td>88</td>\n",
              "      <td>42</td>\n",
              "      <td>...</td>\n",
              "      <td>16</td>\n",
              "      <td>5</td>\n",
              "      <td>12</td>\n",
              "      <td>0.387100</td>\n",
              "      <td>1.0000</td>\n",
              "      <td>6</td>\n",
              "      <td>0.500000</td>\n",
              "      <td>0.250000</td>\n",
              "      <td>0</td>\n",
              "      <td>False</td>\n",
              "    </tr>\n",
              "    <tr>\n",
              "      <th>27</th>\n",
              "      <td>135</td>\n",
              "      <td>44</td>\n",
              "      <td>20</td>\n",
              "      <td>2</td>\n",
              "      <td>71</td>\n",
              "      <td>87</td>\n",
              "      <td>23</td>\n",
              "      <td>203</td>\n",
              "      <td>258</td>\n",
              "      <td>110</td>\n",
              "      <td>...</td>\n",
              "      <td>35</td>\n",
              "      <td>10</td>\n",
              "      <td>26</td>\n",
              "      <td>0.366200</td>\n",
              "      <td>1.0000</td>\n",
              "      <td>4</td>\n",
              "      <td>0.153850</td>\n",
              "      <td>0.192590</td>\n",
              "      <td>0</td>\n",
              "      <td>True</td>\n",
              "    </tr>\n",
              "    <tr>\n",
              "      <th>28</th>\n",
              "      <td>125</td>\n",
              "      <td>25</td>\n",
              "      <td>12</td>\n",
              "      <td>4</td>\n",
              "      <td>88</td>\n",
              "      <td>62</td>\n",
              "      <td>27</td>\n",
              "      <td>153</td>\n",
              "      <td>229</td>\n",
              "      <td>89</td>\n",
              "      <td>...</td>\n",
              "      <td>33</td>\n",
              "      <td>6</td>\n",
              "      <td>29</td>\n",
              "      <td>0.329550</td>\n",
              "      <td>1.0606</td>\n",
              "      <td>9</td>\n",
              "      <td>0.310340</td>\n",
              "      <td>0.232000</td>\n",
              "      <td>0</td>\n",
              "      <td>True</td>\n",
              "    </tr>\n",
              "    <tr>\n",
              "      <th>29</th>\n",
              "      <td>14</td>\n",
              "      <td>2</td>\n",
              "      <td>0</td>\n",
              "      <td>0</td>\n",
              "      <td>12</td>\n",
              "      <td>13</td>\n",
              "      <td>11</td>\n",
              "      <td>18</td>\n",
              "      <td>29</td>\n",
              "      <td>24</td>\n",
              "      <td>...</td>\n",
              "      <td>4</td>\n",
              "      <td>0</td>\n",
              "      <td>5</td>\n",
              "      <td>0.416670</td>\n",
              "      <td>1.0000</td>\n",
              "      <td>1</td>\n",
              "      <td>0.200000</td>\n",
              "      <td>0.357140</td>\n",
              "      <td>0</td>\n",
              "      <td>False</td>\n",
              "    </tr>\n",
              "    <tr>\n",
              "      <th>30</th>\n",
              "      <td>147</td>\n",
              "      <td>32</td>\n",
              "      <td>10</td>\n",
              "      <td>4</td>\n",
              "      <td>105</td>\n",
              "      <td>46</td>\n",
              "      <td>17</td>\n",
              "      <td>165</td>\n",
              "      <td>247</td>\n",
              "      <td>63</td>\n",
              "      <td>...</td>\n",
              "      <td>46</td>\n",
              "      <td>8</td>\n",
              "      <td>38</td>\n",
              "      <td>0.361900</td>\n",
              "      <td>1.0000</td>\n",
              "      <td>0</td>\n",
              "      <td>0.000000</td>\n",
              "      <td>0.258500</td>\n",
              "      <td>0</td>\n",
              "      <td>False</td>\n",
              "    </tr>\n",
              "    <tr>\n",
              "      <th>31</th>\n",
              "      <td>214</td>\n",
              "      <td>55</td>\n",
              "      <td>38</td>\n",
              "      <td>8</td>\n",
              "      <td>121</td>\n",
              "      <td>71</td>\n",
              "      <td>23</td>\n",
              "      <td>221</td>\n",
              "      <td>309</td>\n",
              "      <td>94</td>\n",
              "      <td>...</td>\n",
              "      <td>54</td>\n",
              "      <td>17</td>\n",
              "      <td>37</td>\n",
              "      <td>0.305790</td>\n",
              "      <td>1.0000</td>\n",
              "      <td>4</td>\n",
              "      <td>0.108110</td>\n",
              "      <td>0.172900</td>\n",
              "      <td>0</td>\n",
              "      <td>True</td>\n",
              "    </tr>\n",
              "    <tr>\n",
              "      <th>32</th>\n",
              "      <td>112</td>\n",
              "      <td>23</td>\n",
              "      <td>7</td>\n",
              "      <td>3</td>\n",
              "      <td>82</td>\n",
              "      <td>35</td>\n",
              "      <td>23</td>\n",
              "      <td>226</td>\n",
              "      <td>305</td>\n",
              "      <td>58</td>\n",
              "      <td>...</td>\n",
              "      <td>43</td>\n",
              "      <td>15</td>\n",
              "      <td>30</td>\n",
              "      <td>0.365850</td>\n",
              "      <td>1.0465</td>\n",
              "      <td>1</td>\n",
              "      <td>0.033333</td>\n",
              "      <td>0.267860</td>\n",
              "      <td>0</td>\n",
              "      <td>False</td>\n",
              "    </tr>\n",
              "    <tr>\n",
              "      <th>33</th>\n",
              "      <td>110</td>\n",
              "      <td>29</td>\n",
              "      <td>11</td>\n",
              "      <td>3</td>\n",
              "      <td>70</td>\n",
              "      <td>48</td>\n",
              "      <td>23</td>\n",
              "      <td>135</td>\n",
              "      <td>182</td>\n",
              "      <td>71</td>\n",
              "      <td>...</td>\n",
              "      <td>26</td>\n",
              "      <td>7</td>\n",
              "      <td>21</td>\n",
              "      <td>0.300000</td>\n",
              "      <td>1.0385</td>\n",
              "      <td>1</td>\n",
              "      <td>0.047619</td>\n",
              "      <td>0.190910</td>\n",
              "      <td>0</td>\n",
              "      <td>True</td>\n",
              "    </tr>\n",
              "    <tr>\n",
              "      <th>34</th>\n",
              "      <td>49</td>\n",
              "      <td>14</td>\n",
              "      <td>7</td>\n",
              "      <td>3</td>\n",
              "      <td>28</td>\n",
              "      <td>23</td>\n",
              "      <td>16</td>\n",
              "      <td>53</td>\n",
              "      <td>74</td>\n",
              "      <td>39</td>\n",
              "      <td>...</td>\n",
              "      <td>11</td>\n",
              "      <td>3</td>\n",
              "      <td>9</td>\n",
              "      <td>0.321430</td>\n",
              "      <td>1.0000</td>\n",
              "      <td>0</td>\n",
              "      <td>0.000000</td>\n",
              "      <td>0.183670</td>\n",
              "      <td>0</td>\n",
              "      <td>True</td>\n",
              "    </tr>\n",
              "  </tbody>\n",
              "</table>\n",
              "<p>35 rows × 30 columns</p>\n",
              "</div>\n",
              "      <button class=\"colab-df-convert\" onclick=\"convertToInteractive('df-c4f8de8f-4302-4546-958a-e1764690655a')\"\n",
              "              title=\"Convert this dataframe to an interactive table.\"\n",
              "              style=\"display:none;\">\n",
              "        \n",
              "  <svg xmlns=\"http://www.w3.org/2000/svg\" height=\"24px\"viewBox=\"0 0 24 24\"\n",
              "       width=\"24px\">\n",
              "    <path d=\"M0 0h24v24H0V0z\" fill=\"none\"/>\n",
              "    <path d=\"M18.56 5.44l.94 2.06.94-2.06 2.06-.94-2.06-.94-.94-2.06-.94 2.06-2.06.94zm-11 1L8.5 8.5l.94-2.06 2.06-.94-2.06-.94L8.5 2.5l-.94 2.06-2.06.94zm10 10l.94 2.06.94-2.06 2.06-.94-2.06-.94-.94-2.06-.94 2.06-2.06.94z\"/><path d=\"M17.41 7.96l-1.37-1.37c-.4-.4-.92-.59-1.43-.59-.52 0-1.04.2-1.43.59L10.3 9.45l-7.72 7.72c-.78.78-.78 2.05 0 2.83L4 21.41c.39.39.9.59 1.41.59.51 0 1.02-.2 1.41-.59l7.78-7.78 2.81-2.81c.8-.78.8-2.07 0-2.86zM5.41 20L4 18.59l7.72-7.72 1.47 1.35L5.41 20z\"/>\n",
              "  </svg>\n",
              "      </button>\n",
              "      \n",
              "  <style>\n",
              "    .colab-df-container {\n",
              "      display:flex;\n",
              "      flex-wrap:wrap;\n",
              "      gap: 12px;\n",
              "    }\n",
              "\n",
              "    .colab-df-convert {\n",
              "      background-color: #E8F0FE;\n",
              "      border: none;\n",
              "      border-radius: 50%;\n",
              "      cursor: pointer;\n",
              "      display: none;\n",
              "      fill: #1967D2;\n",
              "      height: 32px;\n",
              "      padding: 0 0 0 0;\n",
              "      width: 32px;\n",
              "    }\n",
              "\n",
              "    .colab-df-convert:hover {\n",
              "      background-color: #E2EBFA;\n",
              "      box-shadow: 0px 1px 2px rgba(60, 64, 67, 0.3), 0px 1px 3px 1px rgba(60, 64, 67, 0.15);\n",
              "      fill: #174EA6;\n",
              "    }\n",
              "\n",
              "    [theme=dark] .colab-df-convert {\n",
              "      background-color: #3B4455;\n",
              "      fill: #D2E3FC;\n",
              "    }\n",
              "\n",
              "    [theme=dark] .colab-df-convert:hover {\n",
              "      background-color: #434B5C;\n",
              "      box-shadow: 0px 1px 3px 1px rgba(0, 0, 0, 0.15);\n",
              "      filter: drop-shadow(0px 1px 2px rgba(0, 0, 0, 0.3));\n",
              "      fill: #FFFFFF;\n",
              "    }\n",
              "  </style>\n",
              "\n",
              "      <script>\n",
              "        const buttonEl =\n",
              "          document.querySelector('#df-c4f8de8f-4302-4546-958a-e1764690655a button.colab-df-convert');\n",
              "        buttonEl.style.display =\n",
              "          google.colab.kernel.accessAllowed ? 'block' : 'none';\n",
              "\n",
              "        async function convertToInteractive(key) {\n",
              "          const element = document.querySelector('#df-c4f8de8f-4302-4546-958a-e1764690655a');\n",
              "          const dataTable =\n",
              "            await google.colab.kernel.invokeFunction('convertToInteractive',\n",
              "                                                     [key], {});\n",
              "          if (!dataTable) return;\n",
              "\n",
              "          const docLinkHtml = 'Like what you see? Visit the ' +\n",
              "            '<a target=\"_blank\" href=https://colab.research.google.com/notebooks/data_table.ipynb>data table notebook</a>'\n",
              "            + ' to learn more about interactive tables.';\n",
              "          element.innerHTML = '';\n",
              "          dataTable['output_type'] = 'display_data';\n",
              "          await google.colab.output.renderOutput(dataTable, element);\n",
              "          const docLink = document.createElement('div');\n",
              "          docLink.innerHTML = docLinkHtml;\n",
              "          element.appendChild(docLink);\n",
              "        }\n",
              "      </script>\n",
              "    </div>\n",
              "  </div>\n",
              "  "
            ]
          },
          "metadata": {},
          "execution_count": 374
        }
      ],
      "source": [
        "ar5_df"
      ]
    },
    {
      "cell_type": "markdown",
      "metadata": {
        "id": "jehXeN-dri8y"
      },
      "source": [
        "####**Spiliting Dataset**\n",
        "training: 80% testing:20%"
      ]
    },
    {
      "cell_type": "code",
      "execution_count": null,
      "metadata": {
        "id": "4jY4sO75rq_q"
      },
      "outputs": [],
      "source": [
        "x = ar5_df.iloc[:,:-1]\n",
        "y = ar5_df.iloc[:,-1]\n",
        "\n",
        "from sklearn.model_selection import train_test_split\n",
        "x_train, x_test, y_train, y_test = train_test_split(x,y,test_size=0.20,random_state=0, stratify=ar5_df.problems)\n",
        "\n",
        "from sklearn.preprocessing import StandardScaler    \n",
        "st_x= StandardScaler()    \n",
        "x_train= st_x.fit_transform(x_train)    \n",
        "x_test= st_x.transform(x_test)  "
      ]
    },
    {
      "cell_type": "code",
      "source": [
        "import seaborn as sns\n",
        "\n",
        "plt.rcParams['figure.figsize']=(12,6)\n",
        "plt.rcParams['font.size']=14\n",
        "plt.title('kc2 Dataset')\n",
        "sns.set_style(\"darkgrid\")\n",
        "\n",
        "sns.countplot(kc2_df.problems);"
      ],
      "metadata": {
        "colab": {
          "base_uri": "https://localhost:8080/",
          "height": 413
        },
        "outputId": "e7421a03-9a32-4606-c468-72300f95c754",
        "id": "rtiBaPsvmPuF"
      },
      "execution_count": null,
      "outputs": [
        {
          "output_type": "stream",
          "name": "stderr",
          "text": [
            "/usr/local/lib/python3.8/dist-packages/seaborn/_decorators.py:36: FutureWarning: Pass the following variable as a keyword arg: x. From version 0.12, the only valid positional argument will be `data`, and passing other arguments without an explicit keyword will result in an error or misinterpretation.\n",
            "  warnings.warn(\n"
          ]
        },
        {
          "output_type": "display_data",
          "data": {
            "text/plain": [
              "<Figure size 864x432 with 1 Axes>"
            ],
            "image/png": "[encoded data removed]"
          },
          "metadata": {}
        }
      ]
    },
    {
      "cell_type": "code",
      "source": [
        "import seaborn as sns\n",
        "\n",
        "plt.rcParams['figure.figsize']=(12,6)\n",
        "plt.rcParams['font.size']=14\n",
        "plt.title('AR1 Dataset')\n",
        "sns.set_style(\"darkgrid\")\n",
        "\n",
        "sns.countplot(y_train);\n"
      ],
      "metadata": {
        "colab": {
          "base_uri": "https://localhost:8080/",
          "height": 417
        },
        "outputId": "97b9777f-ac99-435f-bb9d-3c3184c27678",
        "id": "UfZfd3hFmPuG"
      },
      "execution_count": null,
      "outputs": [
        {
          "output_type": "stream",
          "name": "stderr",
          "text": [
            "/usr/local/lib/python3.8/dist-packages/seaborn/_decorators.py:36: FutureWarning: Pass the following variable as a keyword arg: x. From version 0.12, the only valid positional argument will be `data`, and passing other arguments without an explicit keyword will result in an error or misinterpretation.\n",
            "  warnings.warn(\n"
          ]
        },
        {
          "output_type": "display_data",
          "data": {
            "text/plain": [
              "<Figure size 864x432 with 1 Axes>"
            ],
            "image/png": "[encoded data removed]"
          },
          "metadata": {}
        }
      ]
    },
    {
      "cell_type": "markdown",
      "metadata": {
        "id": "q4eJuw5urZeq"
      },
      "source": [
        "###**Logistic Regression**"
      ]
    },
    {
      "cell_type": "code",
      "execution_count": null,
      "metadata": {
        "colab": {
          "base_uri": "https://localhost:8080/"
        },
        "id": "4CqlKKS1w2ny",
        "outputId": "51189eb6-8553-43d8-b524-0af09690675b"
      },
      "outputs": [
        {
          "output_type": "stream",
          "name": "stdout",
          "text": [
            "Test Accuracy Score:  0.8571428571428571\n",
            "Confusion Matrix: \n",
            " [[4 1]\n",
            " [0 2]]\n"
          ]
        }
      ],
      "source": [
        "from sklearn.linear_model import LogisticRegression  \n",
        "classifier= LogisticRegression(random_state=0)  \n",
        "classifier.fit(x_train, y_train) \n",
        "\n",
        "y_pred= classifier.predict(x_test)\n",
        "\n",
        "score_ = accuracy_score(y_test, y_pred)\n",
        "print(\"Test Accuracy Score: \", score_)\n",
        "\n",
        "from sklearn.metrics import confusion_matrix  \n",
        "cm= confusion_matrix(y_test,y_pred)\n",
        "print(\"Confusion Matrix: \\n\",cm)"
      ]
    },
    {
      "cell_type": "markdown",
      "metadata": {
        "id": "o-ENy6Fdw2nz"
      },
      "source": [
        "###**Support Vector Machine Algorithm**"
      ]
    },
    {
      "cell_type": "code",
      "execution_count": null,
      "metadata": {
        "colab": {
          "base_uri": "https://localhost:8080/"
        },
        "id": "0fZWFoqew2nz",
        "outputId": "92558c6d-5661-4cd1-a489-3cad7450940d"
      },
      "outputs": [
        {
          "output_type": "execute_result",
          "data": {
            "text/plain": [
              "SVC(random_state=0)"
            ]
          },
          "metadata": {},
          "execution_count": 379
        }
      ],
      "source": [
        "from sklearn.svm import SVC # \"Support vector classifier\"  \n",
        "classifier = SVC(kernel='rbf', random_state=0)  \n",
        "classifier.fit(x_train, y_train)  "
      ]
    },
    {
      "cell_type": "code",
      "execution_count": null,
      "metadata": {
        "id": "3oxG-HjMw2nz"
      },
      "outputs": [],
      "source": [
        "#Predicting the test set result  \n",
        "y_pred= classifier.predict(x_test)  "
      ]
    },
    {
      "cell_type": "code",
      "execution_count": null,
      "metadata": {
        "colab": {
          "base_uri": "https://localhost:8080/"
        },
        "id": "X6fpjFatw2nz",
        "outputId": "a2f15a78-69dd-40f4-cde9-14f9c566151f"
      },
      "outputs": [
        {
          "output_type": "stream",
          "name": "stdout",
          "text": [
            "[[5 0]\n",
            " [0 2]]\n"
          ]
        }
      ],
      "source": [
        "from sklearn.metrics import confusion_matrix  \n",
        "cm= confusion_matrix(y_test, y_pred)  \n",
        "print(cm)"
      ]
    },
    {
      "cell_type": "code",
      "execution_count": null,
      "metadata": {
        "colab": {
          "base_uri": "https://localhost:8080/"
        },
        "id": "FqZDIVVqw2n0",
        "outputId": "f5828a8f-12c7-49bc-9f35-9454374a4fbc"
      },
      "outputs": [
        {
          "output_type": "stream",
          "name": "stdout",
          "text": [
            "Test Accuracy Score:  1.0\n"
          ]
        }
      ],
      "source": [
        "score_ = accuracy_score(y_test, y_pred)\n",
        "print(\"Test Accuracy Score: \", score_)"
      ]
    },
    {
      "cell_type": "markdown",
      "metadata": {
        "id": "fPPAFkQNw2n0"
      },
      "source": [
        "##**Decision Tree Algorithm**"
      ]
    },
    {
      "cell_type": "code",
      "execution_count": null,
      "metadata": {
        "colab": {
          "base_uri": "https://localhost:8080/"
        },
        "id": "oTJWPr91w2n0",
        "outputId": "61cb0d23-18ae-4d54-9ccd-290a0bfcb29a"
      },
      "outputs": [
        {
          "output_type": "execute_result",
          "data": {
            "text/plain": [
              "DecisionTreeClassifier(criterion='entropy', random_state=0)"
            ]
          },
          "metadata": {},
          "execution_count": 383
        }
      ],
      "source": [
        "from sklearn.tree import DecisionTreeClassifier  \n",
        "classifier= DecisionTreeClassifier(criterion='entropy', random_state=0)  \n",
        "classifier.fit(x_train, y_train)  "
      ]
    },
    {
      "cell_type": "code",
      "execution_count": null,
      "metadata": {
        "id": "ha4Q6rszw2n1"
      },
      "outputs": [],
      "source": [
        "#Predicting the test set result  \n",
        "y_pred= classifier.predict(x_test)  "
      ]
    },
    {
      "cell_type": "code",
      "execution_count": null,
      "metadata": {
        "colab": {
          "base_uri": "https://localhost:8080/"
        },
        "id": "0-TigxrLw2n1",
        "outputId": "7a7fd5ab-82bc-4e77-c330-26cbfdde79fe"
      },
      "outputs": [
        {
          "output_type": "stream",
          "name": "stdout",
          "text": [
            "[[4 1]\n",
            " [0 2]]\n"
          ]
        }
      ],
      "source": [
        "#Creating the Confusion matrix  \n",
        "from sklearn.metrics import confusion_matrix  \n",
        "cm= confusion_matrix(y_test, y_pred) \n",
        "print(cm)"
      ]
    },
    {
      "cell_type": "code",
      "execution_count": null,
      "metadata": {
        "colab": {
          "base_uri": "https://localhost:8080/"
        },
        "id": "lNa7v5DCw2n1",
        "outputId": "bf2b1e25-3175-427c-b394-501129c0207c"
      },
      "outputs": [
        {
          "output_type": "stream",
          "name": "stdout",
          "text": [
            "Test Accuracy Score:  0.8571428571428571\n"
          ]
        }
      ],
      "source": [
        "score_ = accuracy_score(y_test, y_pred)\n",
        "print(\"Test Accuracy Score: \", score_)"
      ]
    },
    {
      "cell_type": "markdown",
      "metadata": {
        "id": "5nvPYpelw2n1"
      },
      "source": [
        "##**Random Forest**"
      ]
    },
    {
      "cell_type": "code",
      "execution_count": null,
      "metadata": {
        "colab": {
          "base_uri": "https://localhost:8080/"
        },
        "id": "mHQznnHyw2n2",
        "outputId": "15dab621-7d5e-4dd4-a954-38478e859500"
      },
      "outputs": [
        {
          "output_type": "execute_result",
          "data": {
            "text/plain": [
              "RandomForestClassifier(criterion='entropy', n_estimators=10)"
            ]
          },
          "metadata": {},
          "execution_count": 387
        }
      ],
      "source": [
        "#Fitting Decision Tree classifier to the training set  \n",
        "from sklearn.ensemble import RandomForestClassifier  \n",
        "classifier= RandomForestClassifier(n_estimators= 10, criterion=\"entropy\")  \n",
        "classifier.fit(x_train, y_train)  "
      ]
    },
    {
      "cell_type": "code",
      "execution_count": null,
      "metadata": {
        "id": "109icezww2n2"
      },
      "outputs": [],
      "source": [
        "#Predicting the test set result  \n",
        "y_pred= classifier.predict(x_test)  "
      ]
    },
    {
      "cell_type": "code",
      "execution_count": null,
      "metadata": {
        "colab": {
          "base_uri": "https://localhost:8080/"
        },
        "id": "yBfzCaxQw2n2",
        "outputId": "7a61f7f0-7fde-4093-f82d-7bbe8177cd63"
      },
      "outputs": [
        {
          "output_type": "stream",
          "name": "stdout",
          "text": [
            "[[4 1]\n",
            " [1 1]]\n"
          ]
        }
      ],
      "source": [
        "#Creating the Confusion matrix  \n",
        "from sklearn.metrics import confusion_matrix  \n",
        "cm= confusion_matrix(y_test, y_pred)  \n",
        "print(cm)"
      ]
    },
    {
      "cell_type": "code",
      "execution_count": null,
      "metadata": {
        "colab": {
          "base_uri": "https://localhost:8080/"
        },
        "id": "HbrCtajgw2n3",
        "outputId": "26a11168-b8c4-4562-ffff-148dc272c771"
      },
      "outputs": [
        {
          "output_type": "stream",
          "name": "stdout",
          "text": [
            "Test Accuracy Score:  0.7142857142857143\n"
          ]
        }
      ],
      "source": [
        "score_ = accuracy_score(y_test, y_pred)\n",
        "print(\"Test Accuracy Score: \", score_)"
      ]
    },
    {
      "cell_type": "markdown",
      "metadata": {
        "id": "cTf7lQjJw2n3"
      },
      "source": [
        "##**Bagging**"
      ]
    },
    {
      "cell_type": "code",
      "execution_count": null,
      "metadata": {
        "colab": {
          "base_uri": "https://localhost:8080/"
        },
        "id": "PbmCwoxOw2n3",
        "outputId": "47ce59c6-2485-4d83-a677-816f784f9a98"
      },
      "outputs": [
        {
          "output_type": "execute_result",
          "data": {
            "text/plain": [
              "DecisionTreeClassifier(random_state=21)"
            ]
          },
          "metadata": {},
          "execution_count": 391
        }
      ],
      "source": [
        "from sklearn.tree import DecisionTreeClassifier\n",
        "dtree = DecisionTreeClassifier(random_state=21)\n",
        "dtree.fit(x_train,y_train)"
      ]
    },
    {
      "cell_type": "code",
      "execution_count": null,
      "metadata": {
        "colab": {
          "base_uri": "https://localhost:8080/"
        },
        "id": "XcwWct9yw2n4",
        "outputId": "a44d15b5-d0a0-41e2-eb64-b2dd0cf56766"
      },
      "outputs": [
        {
          "output_type": "stream",
          "name": "stdout",
          "text": [
            "Train data accuracy: 1.0\n",
            "Test data accuracy: 0.8571428571428571\n"
          ]
        }
      ],
      "source": [
        "y_pred = dtree.predict(x_test)\n",
        "\n",
        "print(\"Train data accuracy:\",accuracy_score(y_true = y_train, y_pred = dtree.predict(x_train)))\n",
        "print(\"Test data accuracy:\",accuracy_score(y_true = y_test, y_pred = y_pred))"
      ]
    },
    {
      "cell_type": "markdown",
      "metadata": {
        "id": "E6403HJ_qr64"
      },
      "source": [
        "#**ar6 Dataset**"
      ]
    },
    {
      "cell_type": "code",
      "execution_count": null,
      "metadata": {
        "colab": {
          "base_uri": "https://localhost:8080/",
          "height": 487
        },
        "id": "xuxAZ5hj1SxQ",
        "outputId": "67c59014-75f0-48de-aaea-33bfad465d6f"
      },
      "outputs": [
        {
          "output_type": "execute_result",
          "data": {
            "text/plain": [
              "    total_loc  blank_loc  comment_loc  code_and_comment_loc  executable_loc  \\\n",
              "0          13          0            1                     0              12   \n",
              "1          20          0           12                     0               8   \n",
              "2          40          0           17                     0              23   \n",
              "3           8          0            3                     0               5   \n",
              "4          10          0            2                     0               8   \n",
              "..        ...        ...          ...                   ...             ...   \n",
              "95         27          0           10                     0              17   \n",
              "96          9          0            0                     0               9   \n",
              "97         10          0            7                     0               3   \n",
              "98         51          2           17                     0              32   \n",
              "99         28          2           11                     0              15   \n",
              "\n",
              "    unique_operands  unique_operators  total_operands  total_operators  \\\n",
              "0                10                 8              21               26   \n",
              "1                14                12              21               34   \n",
              "2                20                18              64               90   \n",
              "3                 7                13              13               21   \n",
              "4                 4                 5               5               10   \n",
              "..              ...               ...             ...              ...   \n",
              "95               15                 9              36               48   \n",
              "96                7                 3               8               15   \n",
              "97                7                 3               7               15   \n",
              "98               26                 9              44               69   \n",
              "99               11                 7              17               31   \n",
              "\n",
              "    halstead_vocabulary  ...  condition_count  multiple_condition_count  \\\n",
              "0                    18  ...                0                         0   \n",
              "1                    26  ...                3                         0   \n",
              "2                    38  ...               11                         2   \n",
              "3                    20  ...                1                         0   \n",
              "4                     9  ...                1                         0   \n",
              "..                  ...  ...              ...                       ...   \n",
              "95                   24  ...                4                         1   \n",
              "96                   10  ...                0                         0   \n",
              "97                   10  ...                0                         0   \n",
              "98                   35  ...                6                         0   \n",
              "99                   18  ...                2                         0   \n",
              "\n",
              "    cyclomatic_complexity  cyclomatic_density  decision_density  \\\n",
              "0                       2                0.17              0.00   \n",
              "1                       4                0.50              1.00   \n",
              "2                      11                0.48              1.09   \n",
              "3                       3                0.60              2.00   \n",
              "4                       2                0.25              1.00   \n",
              "..                    ...                 ...               ...   \n",
              "95                      4                0.24              1.00   \n",
              "96                      1                0.11              0.00   \n",
              "97                      1                0.33              0.00   \n",
              "98                      7                0.22              1.00   \n",
              "99                      3                0.20              1.00   \n",
              "\n",
              "    design_complexity  design_density  normalized_cyclomatic_complexity  \\\n",
              "0                 0.0            0.00                              0.15   \n",
              "1                 0.0            0.00                              0.20   \n",
              "2                 1.0            0.09                              0.28   \n",
              "3                 0.0            0.00                              0.38   \n",
              "4                 1.0            0.50                              0.20   \n",
              "..                ...             ...                               ...   \n",
              "95                5.0            1.25                              0.15   \n",
              "96                6.0            6.00                              0.11   \n",
              "97                6.0            6.00                              0.10   \n",
              "98                8.0            1.14                              0.14   \n",
              "99                5.0            1.67                              0.11   \n",
              "\n",
              "    formal_parameters  problems  \n",
              "0                 0.0     False  \n",
              "1                 0.0     False  \n",
              "2                 0.0     False  \n",
              "3                 1.0     False  \n",
              "4                 0.0     False  \n",
              "..                ...       ...  \n",
              "95                0.0     False  \n",
              "96                0.0     False  \n",
              "97                0.0     False  \n",
              "98                0.0     False  \n",
              "99                0.0     False  \n",
              "\n",
              "[100 rows x 30 columns]"
            ],
            "text/html": [
              "\n",
              "  <div id=\"df-1f49ef77-7951-4b98-8eaf-072659ee4afa\">\n",
              "    <div class=\"colab-df-container\">\n",
              "      <div>\n",
              "<style scoped>\n",
              "    .dataframe tbody tr th:only-of-type {\n",
              "        vertical-align: middle;\n",
              "    }\n",
              "\n",
              "    .dataframe tbody tr th {\n",
              "        vertical-align: top;\n",
              "    }\n",
              "\n",
              "    .dataframe thead th {\n",
              "        text-align: right;\n",
              "    }\n",
              "</style>\n",
              "<table border=\"1\" class=\"dataframe\">\n",
              "  <thead>\n",
              "    <tr style=\"text-align: right;\">\n",
              "      <th></th>\n",
              "      <th>total_loc</th>\n",
              "      <th>blank_loc</th>\n",
              "      <th>comment_loc</th>\n",
              "      <th>code_and_comment_loc</th>\n",
              "      <th>executable_loc</th>\n",
              "      <th>unique_operands</th>\n",
              "      <th>unique_operators</th>\n",
              "      <th>total_operands</th>\n",
              "      <th>total_operators</th>\n",
              "      <th>halstead_vocabulary</th>\n",
              "      <th>...</th>\n",
              "      <th>condition_count</th>\n",
              "      <th>multiple_condition_count</th>\n",
              "      <th>cyclomatic_complexity</th>\n",
              "      <th>cyclomatic_density</th>\n",
              "      <th>decision_density</th>\n",
              "      <th>design_complexity</th>\n",
              "      <th>design_density</th>\n",
              "      <th>normalized_cyclomatic_complexity</th>\n",
              "      <th>formal_parameters</th>\n",
              "      <th>problems</th>\n",
              "    </tr>\n",
              "  </thead>\n",
              "  <tbody>\n",
              "    <tr>\n",
              "      <th>0</th>\n",
              "      <td>13</td>\n",
              "      <td>0</td>\n",
              "      <td>1</td>\n",
              "      <td>0</td>\n",
              "      <td>12</td>\n",
              "      <td>10</td>\n",
              "      <td>8</td>\n",
              "      <td>21</td>\n",
              "      <td>26</td>\n",
              "      <td>18</td>\n",
              "      <td>...</td>\n",
              "      <td>0</td>\n",
              "      <td>0</td>\n",
              "      <td>2</td>\n",
              "      <td>0.17</td>\n",
              "      <td>0.00</td>\n",
              "      <td>0.0</td>\n",
              "      <td>0.00</td>\n",
              "      <td>0.15</td>\n",
              "      <td>0.0</td>\n",
              "      <td>False</td>\n",
              "    </tr>\n",
              "    <tr>\n",
              "      <th>1</th>\n",
              "      <td>20</td>\n",
              "      <td>0</td>\n",
              "      <td>12</td>\n",
              "      <td>0</td>\n",
              "      <td>8</td>\n",
              "      <td>14</td>\n",
              "      <td>12</td>\n",
              "      <td>21</td>\n",
              "      <td>34</td>\n",
              "      <td>26</td>\n",
              "      <td>...</td>\n",
              "      <td>3</td>\n",
              "      <td>0</td>\n",
              "      <td>4</td>\n",
              "      <td>0.50</td>\n",
              "      <td>1.00</td>\n",
              "      <td>0.0</td>\n",
              "      <td>0.00</td>\n",
              "      <td>0.20</td>\n",
              "      <td>0.0</td>\n",
              "      <td>False</td>\n",
              "    </tr>\n",
              "    <tr>\n",
              "      <th>2</th>\n",
              "      <td>40</td>\n",
              "      <td>0</td>\n",
              "      <td>17</td>\n",
              "      <td>0</td>\n",
              "      <td>23</td>\n",
              "      <td>20</td>\n",
              "      <td>18</td>\n",
              "      <td>64</td>\n",
              "      <td>90</td>\n",
              "      <td>38</td>\n",
              "      <td>...</td>\n",
              "      <td>11</td>\n",
              "      <td>2</td>\n",
              "      <td>11</td>\n",
              "      <td>0.48</td>\n",
              "      <td>1.09</td>\n",
              "      <td>1.0</td>\n",
              "      <td>0.09</td>\n",
              "      <td>0.28</td>\n",
              "      <td>0.0</td>\n",
              "      <td>False</td>\n",
              "    </tr>\n",
              "    <tr>\n",
              "      <th>3</th>\n",
              "      <td>8</td>\n",
              "      <td>0</td>\n",
              "      <td>3</td>\n",
              "      <td>0</td>\n",
              "      <td>5</td>\n",
              "      <td>7</td>\n",
              "      <td>13</td>\n",
              "      <td>13</td>\n",
              "      <td>21</td>\n",
              "      <td>20</td>\n",
              "      <td>...</td>\n",
              "      <td>1</td>\n",
              "      <td>0</td>\n",
              "      <td>3</td>\n",
              "      <td>0.60</td>\n",
              "      <td>2.00</td>\n",
              "      <td>0.0</td>\n",
              "      <td>0.00</td>\n",
              "      <td>0.38</td>\n",
              "      <td>1.0</td>\n",
              "      <td>False</td>\n",
              "    </tr>\n",
              "    <tr>\n",
              "      <th>4</th>\n",
              "      <td>10</td>\n",
              "      <td>0</td>\n",
              "      <td>2</td>\n",
              "      <td>0</td>\n",
              "      <td>8</td>\n",
              "      <td>4</td>\n",
              "      <td>5</td>\n",
              "      <td>5</td>\n",
              "      <td>10</td>\n",
              "      <td>9</td>\n",
              "      <td>...</td>\n",
              "      <td>1</td>\n",
              "      <td>0</td>\n",
              "      <td>2</td>\n",
              "      <td>0.25</td>\n",
              "      <td>1.00</td>\n",
              "      <td>1.0</td>\n",
              "      <td>0.50</td>\n",
              "      <td>0.20</td>\n",
              "      <td>0.0</td>\n",
              "      <td>False</td>\n",
              "    </tr>\n",
              "    <tr>\n",
              "      <th>...</th>\n",
              "      <td>...</td>\n",
              "      <td>...</td>\n",
              "      <td>...</td>\n",
              "      <td>...</td>\n",
              "      <td>...</td>\n",
              "      <td>...</td>\n",
              "      <td>...</td>\n",
              "      <td>...</td>\n",
              "      <td>...</td>\n",
              "      <td>...</td>\n",
              "      <td>...</td>\n",
              "      <td>...</td>\n",
              "      <td>...</td>\n",
              "      <td>...</td>\n",
              "      <td>...</td>\n",
              "      <td>...</td>\n",
              "      <td>...</td>\n",
              "      <td>...</td>\n",
              "      <td>...</td>\n",
              "      <td>...</td>\n",
              "      <td>...</td>\n",
              "    </tr>\n",
              "    <tr>\n",
              "      <th>95</th>\n",
              "      <td>27</td>\n",
              "      <td>0</td>\n",
              "      <td>10</td>\n",
              "      <td>0</td>\n",
              "      <td>17</td>\n",
              "      <td>15</td>\n",
              "      <td>9</td>\n",
              "      <td>36</td>\n",
              "      <td>48</td>\n",
              "      <td>24</td>\n",
              "      <td>...</td>\n",
              "      <td>4</td>\n",
              "      <td>1</td>\n",
              "      <td>4</td>\n",
              "      <td>0.24</td>\n",
              "      <td>1.00</td>\n",
              "      <td>5.0</td>\n",
              "      <td>1.25</td>\n",
              "      <td>0.15</td>\n",
              "      <td>0.0</td>\n",
              "      <td>False</td>\n",
              "    </tr>\n",
              "    <tr>\n",
              "      <th>96</th>\n",
              "      <td>9</td>\n",
              "      <td>0</td>\n",
              "      <td>0</td>\n",
              "      <td>0</td>\n",
              "      <td>9</td>\n",
              "      <td>7</td>\n",
              "      <td>3</td>\n",
              "      <td>8</td>\n",
              "      <td>15</td>\n",
              "      <td>10</td>\n",
              "      <td>...</td>\n",
              "      <td>0</td>\n",
              "      <td>0</td>\n",
              "      <td>1</td>\n",
              "      <td>0.11</td>\n",
              "      <td>0.00</td>\n",
              "      <td>6.0</td>\n",
              "      <td>6.00</td>\n",
              "      <td>0.11</td>\n",
              "      <td>0.0</td>\n",
              "      <td>False</td>\n",
              "    </tr>\n",
              "    <tr>\n",
              "      <th>97</th>\n",
              "      <td>10</td>\n",
              "      <td>0</td>\n",
              "      <td>7</td>\n",
              "      <td>0</td>\n",
              "      <td>3</td>\n",
              "      <td>7</td>\n",
              "      <td>3</td>\n",
              "      <td>7</td>\n",
              "      <td>15</td>\n",
              "      <td>10</td>\n",
              "      <td>...</td>\n",
              "      <td>0</td>\n",
              "      <td>0</td>\n",
              "      <td>1</td>\n",
              "      <td>0.33</td>\n",
              "      <td>0.00</td>\n",
              "      <td>6.0</td>\n",
              "      <td>6.00</td>\n",
              "      <td>0.10</td>\n",
              "      <td>0.0</td>\n",
              "      <td>False</td>\n",
              "    </tr>\n",
              "    <tr>\n",
              "      <th>98</th>\n",
              "      <td>51</td>\n",
              "      <td>2</td>\n",
              "      <td>17</td>\n",
              "      <td>0</td>\n",
              "      <td>32</td>\n",
              "      <td>26</td>\n",
              "      <td>9</td>\n",
              "      <td>44</td>\n",
              "      <td>69</td>\n",
              "      <td>35</td>\n",
              "      <td>...</td>\n",
              "      <td>6</td>\n",
              "      <td>0</td>\n",
              "      <td>7</td>\n",
              "      <td>0.22</td>\n",
              "      <td>1.00</td>\n",
              "      <td>8.0</td>\n",
              "      <td>1.14</td>\n",
              "      <td>0.14</td>\n",
              "      <td>0.0</td>\n",
              "      <td>False</td>\n",
              "    </tr>\n",
              "    <tr>\n",
              "      <th>99</th>\n",
              "      <td>28</td>\n",
              "      <td>2</td>\n",
              "      <td>11</td>\n",
              "      <td>0</td>\n",
              "      <td>15</td>\n",
              "      <td>11</td>\n",
              "      <td>7</td>\n",
              "      <td>17</td>\n",
              "      <td>31</td>\n",
              "      <td>18</td>\n",
              "      <td>...</td>\n",
              "      <td>2</td>\n",
              "      <td>0</td>\n",
              "      <td>3</td>\n",
              "      <td>0.20</td>\n",
              "      <td>1.00</td>\n",
              "      <td>5.0</td>\n",
              "      <td>1.67</td>\n",
              "      <td>0.11</td>\n",
              "      <td>0.0</td>\n",
              "      <td>False</td>\n",
              "    </tr>\n",
              "  </tbody>\n",
              "</table>\n",
              "<p>100 rows × 30 columns</p>\n",
              "</div>\n",
              "      <button class=\"colab-df-convert\" onclick=\"convertToInteractive('df-1f49ef77-7951-4b98-8eaf-072659ee4afa')\"\n",
              "              title=\"Convert this dataframe to an interactive table.\"\n",
              "              style=\"display:none;\">\n",
              "        \n",
              "  <svg xmlns=\"http://www.w3.org/2000/svg\" height=\"24px\"viewBox=\"0 0 24 24\"\n",
              "       width=\"24px\">\n",
              "    <path d=\"M0 0h24v24H0V0z\" fill=\"none\"/>\n",
              "    <path d=\"M18.56 5.44l.94 2.06.94-2.06 2.06-.94-2.06-.94-.94-2.06-.94 2.06-2.06.94zm-11 1L8.5 8.5l.94-2.06 2.06-.94-2.06-.94L8.5 2.5l-.94 2.06-2.06.94zm10 10l.94 2.06.94-2.06 2.06-.94-2.06-.94-.94-2.06-.94 2.06-2.06.94z\"/><path d=\"M17.41 7.96l-1.37-1.37c-.4-.4-.92-.59-1.43-.59-.52 0-1.04.2-1.43.59L10.3 9.45l-7.72 7.72c-.78.78-.78 2.05 0 2.83L4 21.41c.39.39.9.59 1.41.59.51 0 1.02-.2 1.41-.59l7.78-7.78 2.81-2.81c.8-.78.8-2.07 0-2.86zM5.41 20L4 18.59l7.72-7.72 1.47 1.35L5.41 20z\"/>\n",
              "  </svg>\n",
              "      </button>\n",
              "      \n",
              "  <style>\n",
              "    .colab-df-container {\n",
              "      display:flex;\n",
              "      flex-wrap:wrap;\n",
              "      gap: 12px;\n",
              "    }\n",
              "\n",
              "    .colab-df-convert {\n",
              "      background-color: #E8F0FE;\n",
              "      border: none;\n",
              "      border-radius: 50%;\n",
              "      cursor: pointer;\n",
              "      display: none;\n",
              "      fill: #1967D2;\n",
              "      height: 32px;\n",
              "      padding: 0 0 0 0;\n",
              "      width: 32px;\n",
              "    }\n",
              "\n",
              "    .colab-df-convert:hover {\n",
              "      background-color: #E2EBFA;\n",
              "      box-shadow: 0px 1px 2px rgba(60, 64, 67, 0.3), 0px 1px 3px 1px rgba(60, 64, 67, 0.15);\n",
              "      fill: #174EA6;\n",
              "    }\n",
              "\n",
              "    [theme=dark] .colab-df-convert {\n",
              "      background-color: #3B4455;\n",
              "      fill: #D2E3FC;\n",
              "    }\n",
              "\n",
              "    [theme=dark] .colab-df-convert:hover {\n",
              "      background-color: #434B5C;\n",
              "      box-shadow: 0px 1px 3px 1px rgba(0, 0, 0, 0.15);\n",
              "      filter: drop-shadow(0px 1px 2px rgba(0, 0, 0, 0.3));\n",
              "      fill: #FFFFFF;\n",
              "    }\n",
              "  </style>\n",
              "\n",
              "      <script>\n",
              "        const buttonEl =\n",
              "          document.querySelector('#df-1f49ef77-7951-4b98-8eaf-072659ee4afa button.colab-df-convert');\n",
              "        buttonEl.style.display =\n",
              "          google.colab.kernel.accessAllowed ? 'block' : 'none';\n",
              "\n",
              "        async function convertToInteractive(key) {\n",
              "          const element = document.querySelector('#df-1f49ef77-7951-4b98-8eaf-072659ee4afa');\n",
              "          const dataTable =\n",
              "            await google.colab.kernel.invokeFunction('convertToInteractive',\n",
              "                                                     [key], {});\n",
              "          if (!dataTable) return;\n",
              "\n",
              "          const docLinkHtml = 'Like what you see? Visit the ' +\n",
              "            '<a target=\"_blank\" href=https://colab.research.google.com/notebooks/data_table.ipynb>data table notebook</a>'\n",
              "            + ' to learn more about interactive tables.';\n",
              "          element.innerHTML = '';\n",
              "          dataTable['output_type'] = 'display_data';\n",
              "          await google.colab.output.renderOutput(dataTable, element);\n",
              "          const docLink = document.createElement('div');\n",
              "          docLink.innerHTML = docLinkHtml;\n",
              "          element.appendChild(docLink);\n",
              "        }\n",
              "      </script>\n",
              "    </div>\n",
              "  </div>\n",
              "  "
            ]
          },
          "metadata": {},
          "execution_count": 394
        }
      ],
      "source": [
        "ar6_df"
      ]
    },
    {
      "cell_type": "markdown",
      "metadata": {
        "id": "7PDhfVhWrjYP"
      },
      "source": [
        "####**Spiliting Dataset**\n",
        "training: 80% testing:20%"
      ]
    },
    {
      "cell_type": "code",
      "execution_count": null,
      "metadata": {
        "id": "6Tlzoc_SrsKb"
      },
      "outputs": [],
      "source": [
        "x = ar6_df.iloc[:,:-1]\n",
        "y = ar6_df.iloc[:,-1]\n",
        "\n",
        "from sklearn.model_selection import train_test_split\n",
        "x_train, x_test, y_train, y_test = train_test_split(x,y,test_size=0.20,random_state=0, stratify=ar6_df.problems)\n",
        "\n",
        "from sklearn.preprocessing import StandardScaler    \n",
        "st_x= StandardScaler()    \n",
        "x_train= st_x.fit_transform(x_train)    \n",
        "x_test= st_x.transform(x_test)  "
      ]
    },
    {
      "cell_type": "code",
      "source": [
        "import seaborn as sns\n",
        "\n",
        "plt.rcParams['figure.figsize']=(12,6)\n",
        "plt.rcParams['font.size']=14\n",
        "plt.title('kc2 Dataset')\n",
        "sns.set_style(\"darkgrid\")\n",
        "\n",
        "sns.countplot(kc2_df.problems);"
      ],
      "metadata": {
        "colab": {
          "base_uri": "https://localhost:8080/",
          "height": 413
        },
        "outputId": "914970db-437e-484f-afc7-b2fa2d793fc7",
        "id": "ZFtdAM1dmQsT"
      },
      "execution_count": null,
      "outputs": [
        {
          "output_type": "stream",
          "name": "stderr",
          "text": [
            "/usr/local/lib/python3.8/dist-packages/seaborn/_decorators.py:36: FutureWarning: Pass the following variable as a keyword arg: x. From version 0.12, the only valid positional argument will be `data`, and passing other arguments without an explicit keyword will result in an error or misinterpretation.\n",
            "  warnings.warn(\n"
          ]
        },
        {
          "output_type": "display_data",
          "data": {
            "text/plain": [
              "<Figure size 864x432 with 1 Axes>"
            ],
            "image/png": "[encoded data removed]"
          },
          "metadata": {}
        }
      ]
    },
    {
      "cell_type": "code",
      "source": [
        "import seaborn as sns\n",
        "\n",
        "plt.rcParams['figure.figsize']=(12,6)\n",
        "plt.rcParams['font.size']=14\n",
        "plt.title('AR1 Dataset')\n",
        "sns.set_style(\"darkgrid\")\n",
        "\n",
        "sns.countplot(y_train);\n"
      ],
      "metadata": {
        "colab": {
          "base_uri": "https://localhost:8080/",
          "height": 417
        },
        "outputId": "5ad6ab54-f3e6-46b3-a5ac-ebc31a4dbdb8",
        "id": "HAPgi7ZUmQsT"
      },
      "execution_count": null,
      "outputs": [
        {
          "output_type": "stream",
          "name": "stderr",
          "text": [
            "/usr/local/lib/python3.8/dist-packages/seaborn/_decorators.py:36: FutureWarning: Pass the following variable as a keyword arg: x. From version 0.12, the only valid positional argument will be `data`, and passing other arguments without an explicit keyword will result in an error or misinterpretation.\n",
            "  warnings.warn(\n"
          ]
        },
        {
          "output_type": "display_data",
          "data": {
            "text/plain": [
              "<Figure size 864x432 with 1 Axes>"
            ],
            "image/png": "[encoded data removed]"
          },
          "metadata": {}
        }
      ]
    },
    {
      "cell_type": "markdown",
      "metadata": {
        "id": "xMcKqKuMraOH"
      },
      "source": [
        "###**Logistic Regression**"
      ]
    },
    {
      "cell_type": "code",
      "execution_count": null,
      "metadata": {
        "colab": {
          "base_uri": "https://localhost:8080/"
        },
        "id": "owJKN4jjw37A",
        "outputId": "3c81aae3-64a0-4011-f417-7f69b8be369a"
      },
      "outputs": [
        {
          "output_type": "stream",
          "name": "stdout",
          "text": [
            "Test Accuracy Score:  0.85\n",
            "Confusion Matrix: \n",
            " [[17  0]\n",
            " [ 3  0]]\n"
          ]
        }
      ],
      "source": [
        "from sklearn.linear_model import LogisticRegression  \n",
        "classifier= LogisticRegression(random_state=0)  \n",
        "classifier.fit(x_train, y_train) \n",
        "\n",
        "y_pred= classifier.predict(x_test)\n",
        "\n",
        "score_ = accuracy_score(y_test, y_pred)\n",
        "print(\"Test Accuracy Score: \", score_)\n",
        "\n",
        "from sklearn.metrics import confusion_matrix  \n",
        "cm= confusion_matrix(y_test,y_pred)\n",
        "print(\"Confusion Matrix: \\n\",cm)"
      ]
    },
    {
      "cell_type": "markdown",
      "metadata": {
        "id": "oGly98fPw37C"
      },
      "source": [
        "###**Support Vector Machine Algorithm**"
      ]
    },
    {
      "cell_type": "code",
      "execution_count": null,
      "metadata": {
        "colab": {
          "base_uri": "https://localhost:8080/"
        },
        "id": "dYFjp91Aw37C",
        "outputId": "8802a55a-bc0e-4622-8b43-e532156bfb4f"
      },
      "outputs": [
        {
          "output_type": "execute_result",
          "data": {
            "text/plain": [
              "SVC(random_state=0)"
            ]
          },
          "metadata": {},
          "execution_count": 399
        }
      ],
      "source": [
        "from sklearn.svm import SVC # \"Support vector classifier\"  \n",
        "classifier = SVC(kernel='rbf', random_state=0)  \n",
        "classifier.fit(x_train, y_train)  "
      ]
    },
    {
      "cell_type": "code",
      "execution_count": null,
      "metadata": {
        "id": "9btHoENQw37D"
      },
      "outputs": [],
      "source": [
        "#Predicting the test set result  \n",
        "y_pred= classifier.predict(x_test)  "
      ]
    },
    {
      "cell_type": "code",
      "execution_count": null,
      "metadata": {
        "colab": {
          "base_uri": "https://localhost:8080/"
        },
        "id": "aKM00WMmw37D",
        "outputId": "691cfc26-cfc9-4f8d-e6cc-93c9e05d050c"
      },
      "outputs": [
        {
          "output_type": "stream",
          "name": "stdout",
          "text": [
            "[[17  0]\n",
            " [ 3  0]]\n"
          ]
        }
      ],
      "source": [
        "from sklearn.metrics import confusion_matrix  \n",
        "cm= confusion_matrix(y_test, y_pred)  \n",
        "print(cm)"
      ]
    },
    {
      "cell_type": "code",
      "execution_count": null,
      "metadata": {
        "colab": {
          "base_uri": "https://localhost:8080/"
        },
        "id": "pBgJKTJYw37D",
        "outputId": "28dfc9dc-db56-4a2b-f3cc-945ba2b9b5a0"
      },
      "outputs": [
        {
          "output_type": "stream",
          "name": "stdout",
          "text": [
            "Test Accuracy Score:  0.85\n"
          ]
        }
      ],
      "source": [
        "score_ = accuracy_score(y_test, y_pred)\n",
        "print(\"Test Accuracy Score: \", score_)"
      ]
    },
    {
      "cell_type": "markdown",
      "metadata": {
        "id": "npj7hUqQw37E"
      },
      "source": [
        "##**Decision Tree Algorithm**"
      ]
    },
    {
      "cell_type": "code",
      "execution_count": null,
      "metadata": {
        "colab": {
          "base_uri": "https://localhost:8080/"
        },
        "id": "D6Z0O2P9w37E",
        "outputId": "61cd8f2a-3a80-4175-aff9-ea94af7978c0"
      },
      "outputs": [
        {
          "output_type": "execute_result",
          "data": {
            "text/plain": [
              "DecisionTreeClassifier(criterion='entropy', random_state=0)"
            ]
          },
          "metadata": {},
          "execution_count": 403
        }
      ],
      "source": [
        "from sklearn.tree import DecisionTreeClassifier  \n",
        "classifier= DecisionTreeClassifier(criterion='entropy', random_state=0)  \n",
        "classifier.fit(x_train, y_train)  "
      ]
    },
    {
      "cell_type": "code",
      "execution_count": null,
      "metadata": {
        "id": "zHWZdbaTw37E"
      },
      "outputs": [],
      "source": [
        "#Predicting the test set result  \n",
        "y_pred= classifier.predict(x_test)  "
      ]
    },
    {
      "cell_type": "code",
      "execution_count": null,
      "metadata": {
        "colab": {
          "base_uri": "https://localhost:8080/"
        },
        "id": "LRzj8dcdw37F",
        "outputId": "898fcb0a-6c08-497f-a346-547c5c60d144"
      },
      "outputs": [
        {
          "output_type": "stream",
          "name": "stdout",
          "text": [
            "[[14  3]\n",
            " [ 3  0]]\n"
          ]
        }
      ],
      "source": [
        "#Creating the Confusion matrix  \n",
        "from sklearn.metrics import confusion_matrix  \n",
        "cm= confusion_matrix(y_test, y_pred) \n",
        "print(cm)"
      ]
    },
    {
      "cell_type": "code",
      "execution_count": null,
      "metadata": {
        "colab": {
          "base_uri": "https://localhost:8080/"
        },
        "id": "i32Idondw37F",
        "outputId": "c4ec86f9-e9c5-4c7a-a9e1-a658e52d733e"
      },
      "outputs": [
        {
          "output_type": "stream",
          "name": "stdout",
          "text": [
            "Test Accuracy Score:  0.7\n"
          ]
        }
      ],
      "source": [
        "score_ = accuracy_score(y_test, y_pred)\n",
        "print(\"Test Accuracy Score: \", score_)"
      ]
    },
    {
      "cell_type": "markdown",
      "metadata": {
        "id": "D6E0oEqmw37F"
      },
      "source": [
        "##**Random Forest**"
      ]
    },
    {
      "cell_type": "code",
      "execution_count": null,
      "metadata": {
        "colab": {
          "base_uri": "https://localhost:8080/"
        },
        "id": "WIhigBtew37F",
        "outputId": "88ab77ed-87e9-403e-a1b5-12618f9be2b6"
      },
      "outputs": [
        {
          "output_type": "execute_result",
          "data": {
            "text/plain": [
              "RandomForestClassifier(criterion='entropy', n_estimators=10)"
            ]
          },
          "metadata": {},
          "execution_count": 407
        }
      ],
      "source": [
        "#Fitting Decision Tree classifier to the training set  \n",
        "from sklearn.ensemble import RandomForestClassifier  \n",
        "classifier= RandomForestClassifier(n_estimators= 10, criterion=\"entropy\")  \n",
        "classifier.fit(x_train, y_train)  "
      ]
    },
    {
      "cell_type": "code",
      "execution_count": null,
      "metadata": {
        "id": "VU5Uws9ew37G"
      },
      "outputs": [],
      "source": [
        "#Predicting the test set result  \n",
        "y_pred= classifier.predict(x_test)  "
      ]
    },
    {
      "cell_type": "code",
      "execution_count": null,
      "metadata": {
        "colab": {
          "base_uri": "https://localhost:8080/"
        },
        "id": "XKZeJBnzw37G",
        "outputId": "afde4cb6-f498-4b80-f55c-e4d36a16660c"
      },
      "outputs": [
        {
          "output_type": "stream",
          "name": "stdout",
          "text": [
            "[[17  0]\n",
            " [ 3  0]]\n"
          ]
        }
      ],
      "source": [
        "#Creating the Confusion matrix  \n",
        "from sklearn.metrics import confusion_matrix  \n",
        "cm= confusion_matrix(y_test, y_pred)  \n",
        "print(cm)"
      ]
    },
    {
      "cell_type": "code",
      "execution_count": null,
      "metadata": {
        "colab": {
          "base_uri": "https://localhost:8080/"
        },
        "id": "tBYJqoCOw37G",
        "outputId": "3d1da9ae-6b7f-4271-a298-d98353d0d582"
      },
      "outputs": [
        {
          "output_type": "stream",
          "name": "stdout",
          "text": [
            "Test Accuracy Score:  0.85\n"
          ]
        }
      ],
      "source": [
        "score_ = accuracy_score(y_test, y_pred)\n",
        "print(\"Test Accuracy Score: \", score_)"
      ]
    },
    {
      "cell_type": "markdown",
      "metadata": {
        "id": "yPGQdVjNw37G"
      },
      "source": [
        "##**Bagging**"
      ]
    },
    {
      "cell_type": "code",
      "execution_count": null,
      "metadata": {
        "colab": {
          "base_uri": "https://localhost:8080/"
        },
        "id": "ZNIjrM_0w37H",
        "outputId": "aa82f5dd-e141-47bb-cba7-6e437d0a7c75"
      },
      "outputs": [
        {
          "output_type": "execute_result",
          "data": {
            "text/plain": [
              "DecisionTreeClassifier(random_state=21)"
            ]
          },
          "metadata": {},
          "execution_count": 411
        }
      ],
      "source": [
        "from sklearn.tree import DecisionTreeClassifier\n",
        "dtree = DecisionTreeClassifier(random_state=21)\n",
        "dtree.fit(x_train,y_train)"
      ]
    },
    {
      "cell_type": "code",
      "execution_count": null,
      "metadata": {
        "colab": {
          "base_uri": "https://localhost:8080/"
        },
        "id": "oyfyZV42w37H",
        "outputId": "5590ba6b-bf03-4661-efcc-aa58a5284b0f"
      },
      "outputs": [
        {
          "output_type": "stream",
          "name": "stdout",
          "text": [
            "Train data accuracy: 1.0\n",
            "Test data accuracy: 0.8\n"
          ]
        }
      ],
      "source": [
        "y_pred = dtree.predict(x_test)\n",
        "\n",
        "print(\"Train data accuracy:\",accuracy_score(y_true = y_train, y_pred = dtree.predict(x_train)))\n",
        "print(\"Test data accuracy:\",accuracy_score(y_true = y_test, y_pred = y_pred))"
      ]
    },
    {
      "cell_type": "code",
      "execution_count": null,
      "metadata": {
        "id": "rbzbx0pgqX5X"
      },
      "outputs": [],
      "source": []
    }
  ],
  "metadata": {
    "colab": {
      "provenance": [],
      "include_colab_link": true
    },
    "kernelspec": {
      "display_name": "Python 3",
      "name": "python3"
    },
    "language_info": {
      "name": "python"
    }
  },
  "nbformat": 4,
  "nbformat_minor": 0
}