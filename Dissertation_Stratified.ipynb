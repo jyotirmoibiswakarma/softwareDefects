{
  "cells": [
    {
      "cell_type": "markdown",
      "metadata": {
        "id": "view-in-github",
        "colab_type": "text"
      },
      "source": [
        "<a href=\"https://colab.research.google.com/github/Heimeinsheu/software_defects_phase1/blob/main/Dissertation_Stratified.ipynb\" target=\"_parent\"><img src=\"https://colab.research.google.com/assets/colab-badge.svg\" alt=\"Open In Colab\"/></a>"
      ]
    },
    {
      "cell_type": "markdown",
      "metadata": {
        "id": "_Zt1r1rXgPV5"
      },
      "source": [
        "#**Stratified K-Fold**\n",
        "In cases where classes are imbalanced we need a way to account for the imbalance in both the train and validation sets. To do so we can stratify the target classes, meaning that both sets will have an equal proportion of all classes."
      ]
    },
    {
      "cell_type": "markdown",
      "metadata": {
        "id": "g17-DnZw4ED1"
      },
      "source": [
        "#Importing Data"
      ]
    },
    {
      "cell_type": "code",
      "execution_count": null,
      "metadata": {
        "id": "E3qlBeG54LiK"
      },
      "outputs": [],
      "source": [
        "import numpy as np\n",
        "import pandas as pd\n",
        "import matplotlib.pyplot as plt\n",
        "from sklearn.model_selection import train_test_split\n",
        "from sklearn.linear_model import LinearRegression\n",
        "from sklearn.preprocessing import PolynomialFeatures\n",
        "from sklearn.metrics import r2_score\n",
        "from sklearn.model_selection import StratifiedKFold, cross_val_score\n",
        "\n",
        "from google.colab import drive\n",
        "drive.mount('/content/drive',force_remount=False)"
      ]
    },
    {
      "cell_type": "code",
      "execution_count": null,
      "metadata": {
        "id": "KsyoV91h5RZP"
      },
      "outputs": [],
      "source": [
        "kc2_df=pd.read_csv(\"/content/drive/MyDrive/Colab_Notebooks/softwareDefect.csv\")\n",
        "jm1_df=pd.read_csv(\"/content/drive/MyDrive/Colab_Notebooks/Dissertation/jm1.csv\")\n",
        "ar1_df=pd.read_csv(\"/content/drive/MyDrive/Colab_Notebooks/Dissertation/ar1.csv\")\n",
        "ar3_df=pd.read_csv(\"/content/drive/MyDrive/Colab_Notebooks/Dissertation/ar3.csv\")\n",
        "ar4_df=pd.read_csv(\"/content/drive/MyDrive/Colab_Notebooks/Dissertation/ar4.csv\")\n",
        "ar5_df=pd.read_csv(\"/content/drive/MyDrive/Colab_Notebooks/Dissertation/ar5.csv\")\n",
        "ar6_df=pd.read_csv(\"/content/drive/MyDrive/Colab_Notebooks/Dissertation/ar6.csv\")\n",
        "kc1_df=pd.read_csv(\"/content/drive/MyDrive/Colab_Notebooks/Dissertation/kc1.csv\")\n",
        "cm1_df=pd.read_csv(\"/content/drive/MyDrive/Colab_Notebooks/Dissertation/cm1.csv\")\n",
        "pc1_df=pd.read_csv(\"/content/drive/MyDrive/Colab_Notebooks/Dissertation/pc1.csv\")"
      ]
    },
    {
      "cell_type": "markdown",
      "metadata": {
        "id": "gMtORiiy5Rkz"
      },
      "source": [
        "#Attribute Information:\n",
        " \n",
        " \t\n",
        "      1. loc             :   % McCabe's line count of code\n",
        "      2. v(g)            :   % McCabe \"cyclomatic complexity\"\n",
        "      3. ev(g)           :   % McCabe \"essential complexity\"\n",
        "      4. iv(g)           :   % McCabe \"design complexity\"\n",
        "      5. n               :   % Halstead total operators + operands\n",
        "      6. v               :   % Halstead \"volume\"\n",
        "      7. l               :   % Halstead \"program length\"\n",
        "      8. d               :   % Halstead \"difficulty\"\n",
        "      9. i               :   % Halstead \"intelligence\"\n",
        "     10. e               :   % Halstead \"effort\"\n",
        "     11. b               :   % Halstead \n",
        "     12. t               :   % Halstead's time estimator\n",
        "     13. lOCode          :   % Halstead's line count\n",
        "     14. lOComment       :   % Halstead's count of lines of comments\n",
        "     15. lOBlank         :   % Halstead's count of blank lines\n",
        "     16. lOCodeAndComment:  \n",
        "     17. uniq_Op         :   % unique operators\n",
        "     18. uniq_Opnd       :   % unique operands\n",
        "     19. total_Op        :   % total operators\n",
        "     20. total_Opnd      :   % total operands\n",
        "     21. branchCount     :   % of the flow graph\n",
        "     22. problems        : {no,yes}% module has/has not one or more \n",
        "                                   % reported defects\n"
      ]
    },
    {
      "cell_type": "markdown",
      "metadata": {
        "id": "69eMTWV6Ll8P"
      },
      "source": [
        "####**Calculate Numbers of Column in each dataset**"
      ]
    },
    {
      "cell_type": "code",
      "execution_count": null,
      "metadata": {
        "id": "i6Z2ZT32Lj4e"
      },
      "outputs": [],
      "source": [
        "print(\"attributes in jm1: \",jm1_df.shape[1])\n",
        "print(\"attributes in ar1: \",ar1_df.shape[1])\n",
        "print(\"attributes in ar3: \",ar3_df.shape[1])\n",
        "print(\"attributes in ar4: \",ar4_df.shape[1])\n",
        "print(\"attributes in ar5: \",ar5_df.shape[1])\n",
        "print(\"attributes in ar6: \",ar6_df.shape[1])\n",
        "print(\"attributes in kc1: \",kc1_df.shape[1])\n",
        "print(\"attributes in cm1: \",cm1_df.shape[1])\n",
        "print(\"attributes in pc1: \",pc1_df.shape[1])"
      ]
    },
    {
      "cell_type": "markdown",
      "metadata": {
        "id": "eTCjWQNMLtVs"
      },
      "source": [
        "####**Assigning Header to each dataset**"
      ]
    },
    {
      "cell_type": "code",
      "execution_count": null,
      "metadata": {
        "id": "9Z6maza25SVq"
      },
      "outputs": [],
      "source": [
        "# adding column name to the respective columns\n",
        "kc2_df.columns =['l_count', 'cyclomatic_complexity', 'essential_complexity', 'design_complexity','n','v','l','d','i','e','b','t','lOCode','lOComment','lOBlank','lOCodeAndComment','uniq_Op','uniq_Opnd','total_Op','total_Opnd','branchCount','problems']\n",
        "kc1_df.columns =['l_count', 'cyclomatic_complexity', 'essential_complexity', 'design_complexity','n','v','l','d','i','e','b','t','lOCode','lOComment','lOBlank','lOCodeAndComment','uniq_Op','uniq_Opnd','total_Op','total_Opnd','branchCount','problems']\n",
        "cm1_df.columns =['l_count', 'cyclomatic_complexity', 'essential_complexity', 'design_complexity','n','v','l','d','i','e','b','t','lOCode','lOComment','lOBlank','lOCodeAndComment','uniq_Op','uniq_Opnd','total_Op','total_Opnd','branchCount','problems']\n",
        "pc1_df.columns =['l_count', 'cyclomatic_complexity', 'essential_complexity', 'design_complexity','n','v','l','d','i','e','b','t','lOCode','lOComment','lOBlank','lOCodeAndComment','uniq_Op','uniq_Opnd','total_Op','total_Opnd','branchCount','problems']\n",
        "jm1_df.columns =['l_count', 'cyclomatic_complexity', 'essential_complexity', 'design_complexity','n','v','l','d','i','e','b','t','lOCode','lOComment','lOBlank','lOCodeAndComment','uniq_Op','uniq_Opnd','total_Op','total_Opnd','branchCount','problems']\n",
        "ar1_df.columns=['total_loc','blank_loc','comment_loc','code_and_comment_loc','executable_loc','unique_operands','unique_operators','total_operands','total_operators','halstead_vocabulary','halstead_length','halstead_volume','halstead_level','halstead_difficulty','halstead_effort','halstead_error','halstead_time','branch_count','decision_count','call_pairs','condition_count','multiple_condition_count','cyclomatic_complexity','cyclomatic_density','decision_density','design_complexity','design_density','normalized_cyclomatic_complexity','formal_parameters','problems']\n",
        "ar3_df.columns=['total_loc','blank_loc','comment_loc','code_and_comment_loc','executable_loc','unique_operands','unique_operators','total_operands','total_operators','halstead_vocabulary','halstead_length','halstead_volume','halstead_level','halstead_difficulty','halstead_effort','halstead_error','halstead_time','branch_count','decision_count','call_pairs','condition_count','multiple_condition_count','cyclomatic_complexity','cyclomatic_density','decision_density','design_complexity','design_density','normalized_cyclomatic_complexity','formal_parameters','problems']\n",
        "ar4_df.columns=['total_loc','blank_loc','comment_loc','code_and_comment_loc','executable_loc','unique_operands','unique_operators','total_operands','total_operators','halstead_vocabulary','halstead_length','halstead_volume','halstead_level','halstead_difficulty','halstead_effort','halstead_error','halstead_time','branch_count','decision_count','call_pairs','condition_count','multiple_condition_count','cyclomatic_complexity','cyclomatic_density','decision_density','design_complexity','design_density','normalized_cyclomatic_complexity','formal_parameters','problems']\n",
        "ar5_df.columns=['total_loc','blank_loc','comment_loc','code_and_comment_loc','executable_loc','unique_operands','unique_operators','total_operands','total_operators','halstead_vocabulary','halstead_length','halstead_volume','halstead_level','halstead_difficulty','halstead_effort','halstead_error','halstead_time','branch_count','decision_count','call_pairs','condition_count','multiple_condition_count','cyclomatic_complexity','cyclomatic_density','decision_density','design_complexity','design_density','normalized_cyclomatic_complexity','formal_parameters','problems']\n",
        "ar6_df.columns=['total_loc','blank_loc','comment_loc','code_and_comment_loc','executable_loc','unique_operands','unique_operators','total_operands','total_operators','halstead_vocabulary','halstead_length','halstead_volume','halstead_level','halstead_difficulty','halstead_effort','halstead_error','halstead_time','branch_count','decision_count','call_pairs','condition_count','multiple_condition_count','cyclomatic_complexity','cyclomatic_density','decision_density','design_complexity','design_density','normalized_cyclomatic_complexity','formal_parameters','problems']\n"
      ]
    },
    {
      "cell_type": "markdown",
      "metadata": {
        "id": "FHXORliVx81z"
      },
      "source": [
        "###**Checking type of each attribute in dataset.**"
      ]
    },
    {
      "cell_type": "code",
      "execution_count": null,
      "metadata": {
        "id": "6NjDIPRqLYz-"
      },
      "outputs": [],
      "source": [
        "print(kc1_df.dtypes)"
      ]
    },
    {
      "cell_type": "code",
      "execution_count": null,
      "metadata": {
        "id": "NBpLqzEpwMh3"
      },
      "outputs": [],
      "source": [
        "print(kc2_df.dtypes)"
      ]
    },
    {
      "cell_type": "code",
      "execution_count": null,
      "metadata": {
        "id": "9D58ilwOxml_"
      },
      "outputs": [],
      "source": [
        "kc2_df"
      ]
    },
    {
      "cell_type": "code",
      "execution_count": null,
      "metadata": {
        "id": "EEeHWmGrwMzq"
      },
      "outputs": [],
      "source": [
        "print(jm1_df.dtypes)"
      ]
    },
    {
      "cell_type": "code",
      "execution_count": null,
      "metadata": {
        "id": "TshzuqhOBVwO"
      },
      "outputs": [],
      "source": [
        "jm1_df.loc[jm1_df['uniq_Op']=='?'].count()"
      ]
    },
    {
      "cell_type": "code",
      "execution_count": null,
      "metadata": {
        "id": "7r4f-7jN7CIO"
      },
      "outputs": [],
      "source": [
        "jm1_df.drop(jm1_df.loc[jm1_df['uniq_Op']==\"?\"].index, inplace=True)"
      ]
    },
    {
      "cell_type": "markdown",
      "metadata": {
        "id": "LkqvBuR04yvJ"
      },
      "source": [
        "While converting attribute having object type into numeric type. I encounter many rows contain '?' value in respective attribute having object datatype.<br>\n",
        "Performing drop() on that rows."
      ]
    },
    {
      "cell_type": "code",
      "execution_count": null,
      "metadata": {
        "id": "xZgtqTdY2H9A"
      },
      "outputs": [],
      "source": [
        "jm1_df[['uniq_Op', 'uniq_Opnd','total_Op','total_Opnd','branchCount']] = jm1_df[['uniq_Op', 'uniq_Opnd','total_Op','total_Opnd','branchCount']].apply(pd.to_numeric)"
      ]
    },
    {
      "cell_type": "code",
      "execution_count": null,
      "metadata": {
        "id": "dJ4D_zSk35DU"
      },
      "outputs": [],
      "source": [
        "jm1_df.iloc[141:144,]"
      ]
    },
    {
      "cell_type": "code",
      "execution_count": null,
      "metadata": {
        "id": "UyjcmD6ZwNGG"
      },
      "outputs": [],
      "source": [
        "print(pc1_df.dtypes)"
      ]
    },
    {
      "cell_type": "code",
      "execution_count": null,
      "metadata": {
        "id": "S_qBzp6_wNbp"
      },
      "outputs": [],
      "source": [
        "print(cm1_df.dtypes)"
      ]
    },
    {
      "cell_type": "code",
      "execution_count": null,
      "metadata": {
        "id": "96kQjm3gwNrD"
      },
      "outputs": [],
      "source": [
        "print(ar1_df.dtypes)"
      ]
    },
    {
      "cell_type": "code",
      "execution_count": null,
      "metadata": {
        "id": "s1tu31JAwN7W"
      },
      "outputs": [],
      "source": [
        "print(ar3_df.dtypes)"
      ]
    },
    {
      "cell_type": "code",
      "execution_count": null,
      "metadata": {
        "id": "xuUoPqTDwOLT"
      },
      "outputs": [],
      "source": [
        "print(ar4_df.dtypes)"
      ]
    },
    {
      "cell_type": "code",
      "execution_count": null,
      "metadata": {
        "id": "gf1Ls7fmwOat"
      },
      "outputs": [],
      "source": [
        "print(ar5_df.dtypes)"
      ]
    },
    {
      "cell_type": "code",
      "execution_count": null,
      "metadata": {
        "id": "M6VydhjswOrU"
      },
      "outputs": [],
      "source": [
        "print(ar6_df.dtypes)"
      ]
    },
    {
      "cell_type": "markdown",
      "metadata": {
        "id": "uLfxXDeOL8lK"
      },
      "source": [
        "####**Converting attribute type from object to bool of respective dataset**\n",
        "**kc2** is the only dataset that consist object type in **\"problems\"** attribute."
      ]
    },
    {
      "cell_type": "code",
      "execution_count": null,
      "metadata": {
        "id": "O6znT8S_KvTD"
      },
      "outputs": [],
      "source": [
        "kc2_df['problems'] = kc2_df['problems'].map({'yes':True ,'no':False})"
      ]
    },
    {
      "cell_type": "code",
      "execution_count": null,
      "metadata": {
        "id": "gd2r1aWGKjKk"
      },
      "outputs": [],
      "source": [
        "print(kc2_df.dtypes)"
      ]
    },
    {
      "cell_type": "markdown",
      "metadata": {
        "id": "WtgwO0OYyfAH"
      },
      "source": [
        "####**Checking for null values**"
      ]
    },
    {
      "cell_type": "code",
      "execution_count": null,
      "metadata": {
        "id": "m0FyY8l0uj4g"
      },
      "outputs": [],
      "source": [
        "kc1_df.isnull().sum()"
      ]
    },
    {
      "cell_type": "code",
      "execution_count": null,
      "metadata": {
        "id": "-UMnC0T1ypP1"
      },
      "outputs": [],
      "source": [
        "kc2_df.isnull().sum()"
      ]
    },
    {
      "cell_type": "code",
      "execution_count": null,
      "metadata": {
        "id": "QosvYsA7ypYv"
      },
      "outputs": [],
      "source": [
        "cm1_df.isnull().sum()"
      ]
    },
    {
      "cell_type": "code",
      "execution_count": null,
      "metadata": {
        "id": "tTxQI9Ftypg3"
      },
      "outputs": [],
      "source": [
        "pc1_df.isnull().sum()"
      ]
    },
    {
      "cell_type": "code",
      "execution_count": null,
      "metadata": {
        "id": "3WWz-gtfypqS"
      },
      "outputs": [],
      "source": [
        "jm1_df.isnull().sum()"
      ]
    },
    {
      "cell_type": "code",
      "execution_count": null,
      "metadata": {
        "id": "dvT5qhj5ypy1"
      },
      "outputs": [],
      "source": [
        "ar1_df.isnull().sum()"
      ]
    },
    {
      "cell_type": "code",
      "execution_count": null,
      "metadata": {
        "id": "SmQd8tHmyp6T"
      },
      "outputs": [],
      "source": [
        "ar3_df.isnull().sum()"
      ]
    },
    {
      "cell_type": "code",
      "execution_count": null,
      "metadata": {
        "id": "tdqaEBs-yqEN"
      },
      "outputs": [],
      "source": [
        "ar4_df.isnull().sum()"
      ]
    },
    {
      "cell_type": "code",
      "execution_count": null,
      "metadata": {
        "id": "DEVyYJXsyqNO"
      },
      "outputs": [],
      "source": [
        "ar5_df.isnull().sum()"
      ]
    },
    {
      "cell_type": "code",
      "execution_count": null,
      "metadata": {
        "id": "zV195jWzyscy"
      },
      "outputs": [],
      "source": [
        "ar6_df.isnull().sum()"
      ]
    },
    {
      "cell_type": "markdown",
      "metadata": {
        "id": "raaBCTp95Saq"
      },
      "source": [
        "# Base measures: \n",
        "mu1             = number of unique operators<br>\n",
        "mu2             = number of unique operands<br>\n",
        "N1              = total occurrences of operators<br>\n",
        "N2              = total occurrences of operands<br>\n",
        "length     = N  = N1 + N2<br>\n",
        "vocabulary = mu = mu1 + mu2<br><br>\n",
        "**Constants set for each function:**<br>\n",
        "mu1' =  2 = potential operator count (just the function name and the \"return\" operator)<br>\n",
        "mu2'= potential operand count. (the number of arguments to the module)<br>    \n",
        "For example, the expression \"return max(w+x,x+y)\" has \"N1=4\" operators \"return, max, +,+)\", \"N2=4\" operands (w,x,x,y),\"mu1=3\" unique operators (return, max,+), and \"mu2=3\" unique operands (w,x,y).<br>\n",
        "<br> \n",
        "**Derived measures:**<br>\n",
        "P = volume = V = N * log2(mu) (the number of mental comparisons needed to write a program of length N)<br>\n",
        "V* = volume on minimal implementation = (2 + mu2')*log2(2 + mu2')<br>\n",
        "L  = program length = V*/N<br>\n",
        "D  = difficulty = 1/L<br>\n",
        "L' = 1/D <br>\n",
        "I  = intelligence = L'*V'<br>\n",
        "E  = effort to write program = V/L<br> \n",
        "T  = time to write program = E/18 seconds<br>"
      ]
    },
    {
      "cell_type": "markdown",
      "metadata": {
        "id": "ae06XloAM_F_"
      },
      "source": [
        "#**kc2 Dataset**"
      ]
    },
    {
      "cell_type": "code",
      "execution_count": null,
      "metadata": {
        "id": "ZF6j4rLE9LJt"
      },
      "outputs": [],
      "source": [
        "kc2_df"
      ]
    },
    {
      "cell_type": "markdown",
      "metadata": {
        "id": "NSdu3_jGkWar"
      },
      "source": [
        "##**Spiliting DataSet**\n",
        "\n",
        "Training: 80%\n",
        "Testing: 20%\n",
        "\n"
      ]
    },
    {
      "cell_type": "code",
      "execution_count": null,
      "metadata": {
        "id": "62a6lwZ82hrk"
      },
      "outputs": [],
      "source": [
        "x_kc2 = kc2_df.iloc[:,:-1]\n",
        "y_kc2 = kc2_df.iloc[:,-1]"
      ]
    },
    {
      "cell_type": "code",
      "execution_count": null,
      "metadata": {
        "id": "4gBuucU5AT92"
      },
      "outputs": [],
      "source": [
        "from sklearn.model_selection import train_test_split\n",
        "x_train, x_test, y_train, y_test = train_test_split(x_kc2,y_kc2,test_size=0.20,random_state=0, stratify=kc2_df.problems)"
      ]
    },
    {
      "cell_type": "code",
      "execution_count": null,
      "metadata": {
        "id": "M80PQ2QxXsn_"
      },
      "outputs": [],
      "source": [
        "import seaborn as sns\n",
        "\n",
        "plt.rcParams['figure.figsize']=(12,6)\n",
        "plt.rcParams['font.size']=14\n",
        "plt.title('kc2 Dataset')\n",
        "sns.set_style(\"darkgrid\")\n",
        "\n",
        "sns.countplot(kc2_df.problems);"
      ]
    },
    {
      "cell_type": "code",
      "execution_count": null,
      "metadata": {
        "id": "0Zv95vcnXByb"
      },
      "outputs": [],
      "source": [
        "import seaborn as sns\n",
        "\n",
        "plt.rcParams['figure.figsize']=(12,6)\n",
        "plt.rcParams['font.size']=14\n",
        "plt.title('AR1 Dataset')\n",
        "sns.set_style(\"darkgrid\")\n",
        "\n",
        "sns.countplot(y_train);\n"
      ]
    },
    {
      "cell_type": "code",
      "execution_count": null,
      "metadata": {
        "id": "lydtzZ73INDh"
      },
      "outputs": [],
      "source": [
        "from sklearn.preprocessing import StandardScaler    \n",
        "st_x= StandardScaler()    \n",
        "x_train= st_x.fit_transform(x_train)    \n",
        "x_test= st_x.transform(x_test)  "
      ]
    },
    {
      "cell_type": "markdown",
      "metadata": {
        "id": "3elGnawcS4Dy"
      },
      "source": [
        "###**Logistic Regression**"
      ]
    },
    {
      "cell_type": "code",
      "execution_count": null,
      "metadata": {
        "id": "rXd4MpTCBIbg"
      },
      "outputs": [],
      "source": [
        "from sklearn.linear_model import LogisticRegression  \n",
        "classifier= LogisticRegression(random_state=0)  \n",
        "classifier.fit(x_train, y_train)  "
      ]
    },
    {
      "cell_type": "code",
      "execution_count": null,
      "metadata": {
        "id": "iLg-UyORJ58y"
      },
      "outputs": [],
      "source": [
        "y_pred= classifier.predict(x_test)  \n",
        "print(y_pred)"
      ]
    },
    {
      "cell_type": "code",
      "execution_count": null,
      "metadata": {
        "id": "xY_d74OzP40n"
      },
      "outputs": [],
      "source": [
        "from sklearn.metrics import confusion_matrix  \n",
        "cm= confusion_matrix(y_test,y_pred)\n",
        "print(cm)"
      ]
    },
    {
      "cell_type": "code",
      "execution_count": null,
      "metadata": {
        "id": "fLF3yYWlQ02H"
      },
      "outputs": [],
      "source": [
        "from sklearn.metrics import accuracy_score\n",
        "accuracy_score(y_test, y_pred)"
      ]
    },
    {
      "cell_type": "code",
      "execution_count": null,
      "metadata": {
        "id": "DqmghcGHQcnV"
      },
      "outputs": [],
      "source": [
        "score_ = accuracy_score(y_test, y_pred)\n",
        "print(\"Test Accuracy Score: \", score_)"
      ]
    },
    {
      "cell_type": "code",
      "execution_count": null,
      "metadata": {
        "id": "zAsEa2athf8C"
      },
      "outputs": [],
      "source": [
        "sk_folds = StratifiedKFold(n_splits = 2)\n",
        "scores = cross_val_score(classifier, x_kc2, y_kc2, cv = sk_folds)"
      ]
    },
    {
      "cell_type": "code",
      "execution_count": null,
      "metadata": {
        "id": "IYZjjNaVBOXe"
      },
      "outputs": [],
      "source": [
        "print(\"Test Accuracy Score: \", scores)"
      ]
    },
    {
      "cell_type": "code",
      "execution_count": null,
      "metadata": {
        "id": "Dnvs35Qpji6g"
      },
      "outputs": [],
      "source": [
        "print(\"Average CV Score: \", scores.mean())\n",
        "print(\"Number of CV Scores used in Average: \", len(scores))"
      ]
    },
    {
      "cell_type": "code",
      "execution_count": null,
      "metadata": {
        "id": "zduGpouvA4s-"
      },
      "outputs": [],
      "source": [
        "sk_folds = StratifiedKFold(n_splits = 3)\n",
        "scores = cross_val_score(classifier, x_kc2, y_kc2, cv = sk_folds)"
      ]
    },
    {
      "cell_type": "code",
      "execution_count": null,
      "metadata": {
        "id": "2BscH_ztBS7f"
      },
      "outputs": [],
      "source": [
        "print(\"Test Accuracy Score: \", scores)"
      ]
    },
    {
      "cell_type": "code",
      "execution_count": null,
      "metadata": {
        "id": "MXyrIQjCtKmc"
      },
      "outputs": [],
      "source": [
        "print(\"Average CV Score: \", scores.mean())\n",
        "print(\"Number of CV Scores used in Average: \", len(scores))"
      ]
    },
    {
      "cell_type": "code",
      "execution_count": null,
      "metadata": {
        "colab": {
          "background_save": true
        },
        "id": "CCnfMGPiA4z5",
        "outputId": "59e494a2-7524-45bf-bb3d-a4bb32484e79"
      },
      "outputs": [
        {
          "name": "stderr",
          "output_type": "stream",
          "text": [
            "/usr/local/lib/python3.8/dist-packages/sklearn/linear_model/_logistic.py:814: ConvergenceWarning: lbfgs failed to converge (status=1):\n",
            "STOP: TOTAL NO. of ITERATIONS REACHED LIMIT.\n",
            "\n",
            "Increase the number of iterations (max_iter) or scale the data as shown in:\n",
            "    https://scikit-learn.org/stable/modules/preprocessing.html\n",
            "Please also refer to the documentation for alternative solver options:\n",
            "    https://scikit-learn.org/stable/modules/linear_model.html#logistic-regression\n",
            "  n_iter_i = _check_optimize_result(\n",
            "/usr/local/lib/python3.8/dist-packages/sklearn/linear_model/_logistic.py:814: ConvergenceWarning: lbfgs failed to converge (status=1):\n",
            "STOP: TOTAL NO. of ITERATIONS REACHED LIMIT.\n",
            "\n",
            "Increase the number of iterations (max_iter) or scale the data as shown in:\n",
            "    https://scikit-learn.org/stable/modules/preprocessing.html\n",
            "Please also refer to the documentation for alternative solver options:\n",
            "    https://scikit-learn.org/stable/modules/linear_model.html#logistic-regression\n",
            "  n_iter_i = _check_optimize_result(\n",
            "/usr/local/lib/python3.8/dist-packages/sklearn/linear_model/_logistic.py:814: ConvergenceWarning: lbfgs failed to converge (status=1):\n",
            "STOP: TOTAL NO. of ITERATIONS REACHED LIMIT.\n",
            "\n",
            "Increase the number of iterations (max_iter) or scale the data as shown in:\n",
            "    https://scikit-learn.org/stable/modules/preprocessing.html\n",
            "Please also refer to the documentation for alternative solver options:\n",
            "    https://scikit-learn.org/stable/modules/linear_model.html#logistic-regression\n",
            "  n_iter_i = _check_optimize_result(\n",
            "/usr/local/lib/python3.8/dist-packages/sklearn/linear_model/_logistic.py:814: ConvergenceWarning: lbfgs failed to converge (status=1):\n",
            "STOP: TOTAL NO. of ITERATIONS REACHED LIMIT.\n",
            "\n",
            "Increase the number of iterations (max_iter) or scale the data as shown in:\n",
            "    https://scikit-learn.org/stable/modules/preprocessing.html\n",
            "Please also refer to the documentation for alternative solver options:\n",
            "    https://scikit-learn.org/stable/modules/linear_model.html#logistic-regression\n",
            "  n_iter_i = _check_optimize_result(\n"
          ]
        }
      ],
      "source": [
        "sk_folds = StratifiedKFold(n_splits = 4)\n",
        "scores = cross_val_score(classifier, x_kc2, y_kc2, cv = sk_folds)"
      ]
    },
    {
      "cell_type": "code",
      "execution_count": null,
      "metadata": {
        "colab": {
          "background_save": true
        },
        "id": "qEmH0WroBTes",
        "outputId": "725e23d1-dd0e-47c4-a2a4-9d8281c443de"
      },
      "outputs": [
        {
          "name": "stdout",
          "output_type": "stream",
          "text": [
            "Test Accuracy Score:  [0.87022901 0.85384615 0.83846154 0.73076923]\n"
          ]
        }
      ],
      "source": [
        "print(\"Test Accuracy Score: \", scores)"
      ]
    },
    {
      "cell_type": "code",
      "execution_count": null,
      "metadata": {
        "colab": {
          "background_save": true
        },
        "id": "s_-RAqhftL2K",
        "outputId": "8e85acd3-42d2-4812-af39-8e3e7bc30f99"
      },
      "outputs": [
        {
          "name": "stdout",
          "output_type": "stream",
          "text": [
            "Average CV Score:  0.8233264826776278\n",
            "Number of CV Scores used in Average:  4\n"
          ]
        }
      ],
      "source": [
        "print(\"Average CV Score: \", scores.mean())\n",
        "print(\"Number of CV Scores used in Average: \", len(scores))"
      ]
    },
    {
      "cell_type": "code",
      "execution_count": null,
      "metadata": {
        "colab": {
          "background_save": true
        },
        "id": "MHAREdV-A466",
        "outputId": "821cb860-fc08-4715-b8bb-ac7497bb7159"
      },
      "outputs": [
        {
          "name": "stderr",
          "output_type": "stream",
          "text": [
            "/usr/local/lib/python3.8/dist-packages/sklearn/linear_model/_logistic.py:814: ConvergenceWarning: lbfgs failed to converge (status=1):\n",
            "STOP: TOTAL NO. of ITERATIONS REACHED LIMIT.\n",
            "\n",
            "Increase the number of iterations (max_iter) or scale the data as shown in:\n",
            "    https://scikit-learn.org/stable/modules/preprocessing.html\n",
            "Please also refer to the documentation for alternative solver options:\n",
            "    https://scikit-learn.org/stable/modules/linear_model.html#logistic-regression\n",
            "  n_iter_i = _check_optimize_result(\n",
            "/usr/local/lib/python3.8/dist-packages/sklearn/linear_model/_logistic.py:814: ConvergenceWarning: lbfgs failed to converge (status=1):\n",
            "STOP: TOTAL NO. of ITERATIONS REACHED LIMIT.\n",
            "\n",
            "Increase the number of iterations (max_iter) or scale the data as shown in:\n",
            "    https://scikit-learn.org/stable/modules/preprocessing.html\n",
            "Please also refer to the documentation for alternative solver options:\n",
            "    https://scikit-learn.org/stable/modules/linear_model.html#logistic-regression\n",
            "  n_iter_i = _check_optimize_result(\n",
            "/usr/local/lib/python3.8/dist-packages/sklearn/linear_model/_logistic.py:814: ConvergenceWarning: lbfgs failed to converge (status=1):\n",
            "STOP: TOTAL NO. of ITERATIONS REACHED LIMIT.\n",
            "\n",
            "Increase the number of iterations (max_iter) or scale the data as shown in:\n",
            "    https://scikit-learn.org/stable/modules/preprocessing.html\n",
            "Please also refer to the documentation for alternative solver options:\n",
            "    https://scikit-learn.org/stable/modules/linear_model.html#logistic-regression\n",
            "  n_iter_i = _check_optimize_result(\n",
            "/usr/local/lib/python3.8/dist-packages/sklearn/linear_model/_logistic.py:814: ConvergenceWarning: lbfgs failed to converge (status=1):\n",
            "STOP: TOTAL NO. of ITERATIONS REACHED LIMIT.\n",
            "\n",
            "Increase the number of iterations (max_iter) or scale the data as shown in:\n",
            "    https://scikit-learn.org/stable/modules/preprocessing.html\n",
            "Please also refer to the documentation for alternative solver options:\n",
            "    https://scikit-learn.org/stable/modules/linear_model.html#logistic-regression\n",
            "  n_iter_i = _check_optimize_result(\n"
          ]
        }
      ],
      "source": [
        "sk_folds = StratifiedKFold(n_splits = 5)\n",
        "scores = cross_val_score(classifier, x_kc2, y_kc2, cv = sk_folds)"
      ]
    },
    {
      "cell_type": "code",
      "execution_count": null,
      "metadata": {
        "colab": {
          "background_save": true
        },
        "id": "50nBYBL_BUbt",
        "outputId": "b56ef809-dddb-49aa-eeee-aebc46f481c2"
      },
      "outputs": [
        {
          "name": "stdout",
          "output_type": "stream",
          "text": [
            "Test Accuracy Score:  [0.94285714 0.82692308 0.875      0.79807692 0.71153846]\n"
          ]
        }
      ],
      "source": [
        "print(\"Test Accuracy Score: \", scores)"
      ]
    },
    {
      "cell_type": "code",
      "execution_count": null,
      "metadata": {
        "colab": {
          "background_save": true
        },
        "id": "XzlTrVkktM4p",
        "outputId": "af18943f-d045-4664-ca47-5e008933b4a9"
      },
      "outputs": [
        {
          "name": "stdout",
          "output_type": "stream",
          "text": [
            "Average CV Score:  0.830879120879121\n",
            "Number of CV Scores used in Average:  5\n"
          ]
        }
      ],
      "source": [
        "print(\"Average CV Score: \", scores.mean())\n",
        "print(\"Number of CV Scores used in Average: \", len(scores))"
      ]
    },
    {
      "cell_type": "code",
      "execution_count": null,
      "metadata": {
        "colab": {
          "background_save": true
        },
        "id": "XcVRzGIVA5Cf",
        "outputId": "3259502f-f0d0-477f-de69-a586b65a224f"
      },
      "outputs": [
        {
          "name": "stderr",
          "output_type": "stream",
          "text": [
            "/usr/local/lib/python3.8/dist-packages/sklearn/linear_model/_logistic.py:814: ConvergenceWarning: lbfgs failed to converge (status=1):\n",
            "STOP: TOTAL NO. of ITERATIONS REACHED LIMIT.\n",
            "\n",
            "Increase the number of iterations (max_iter) or scale the data as shown in:\n",
            "    https://scikit-learn.org/stable/modules/preprocessing.html\n",
            "Please also refer to the documentation for alternative solver options:\n",
            "    https://scikit-learn.org/stable/modules/linear_model.html#logistic-regression\n",
            "  n_iter_i = _check_optimize_result(\n",
            "/usr/local/lib/python3.8/dist-packages/sklearn/linear_model/_logistic.py:814: ConvergenceWarning: lbfgs failed to converge (status=1):\n",
            "STOP: TOTAL NO. of ITERATIONS REACHED LIMIT.\n",
            "\n",
            "Increase the number of iterations (max_iter) or scale the data as shown in:\n",
            "    https://scikit-learn.org/stable/modules/preprocessing.html\n",
            "Please also refer to the documentation for alternative solver options:\n",
            "    https://scikit-learn.org/stable/modules/linear_model.html#logistic-regression\n",
            "  n_iter_i = _check_optimize_result(\n",
            "/usr/local/lib/python3.8/dist-packages/sklearn/linear_model/_logistic.py:814: ConvergenceWarning: lbfgs failed to converge (status=1):\n",
            "STOP: TOTAL NO. of ITERATIONS REACHED LIMIT.\n",
            "\n",
            "Increase the number of iterations (max_iter) or scale the data as shown in:\n",
            "    https://scikit-learn.org/stable/modules/preprocessing.html\n",
            "Please also refer to the documentation for alternative solver options:\n",
            "    https://scikit-learn.org/stable/modules/linear_model.html#logistic-regression\n",
            "  n_iter_i = _check_optimize_result(\n",
            "/usr/local/lib/python3.8/dist-packages/sklearn/linear_model/_logistic.py:814: ConvergenceWarning: lbfgs failed to converge (status=1):\n",
            "STOP: TOTAL NO. of ITERATIONS REACHED LIMIT.\n",
            "\n",
            "Increase the number of iterations (max_iter) or scale the data as shown in:\n",
            "    https://scikit-learn.org/stable/modules/preprocessing.html\n",
            "Please also refer to the documentation for alternative solver options:\n",
            "    https://scikit-learn.org/stable/modules/linear_model.html#logistic-regression\n",
            "  n_iter_i = _check_optimize_result(\n",
            "/usr/local/lib/python3.8/dist-packages/sklearn/linear_model/_logistic.py:814: ConvergenceWarning: lbfgs failed to converge (status=1):\n",
            "STOP: TOTAL NO. of ITERATIONS REACHED LIMIT.\n",
            "\n",
            "Increase the number of iterations (max_iter) or scale the data as shown in:\n",
            "    https://scikit-learn.org/stable/modules/preprocessing.html\n",
            "Please also refer to the documentation for alternative solver options:\n",
            "    https://scikit-learn.org/stable/modules/linear_model.html#logistic-regression\n",
            "  n_iter_i = _check_optimize_result(\n",
            "/usr/local/lib/python3.8/dist-packages/sklearn/linear_model/_logistic.py:814: ConvergenceWarning: lbfgs failed to converge (status=1):\n",
            "STOP: TOTAL NO. of ITERATIONS REACHED LIMIT.\n",
            "\n",
            "Increase the number of iterations (max_iter) or scale the data as shown in:\n",
            "    https://scikit-learn.org/stable/modules/preprocessing.html\n",
            "Please also refer to the documentation for alternative solver options:\n",
            "    https://scikit-learn.org/stable/modules/linear_model.html#logistic-regression\n",
            "  n_iter_i = _check_optimize_result(\n"
          ]
        }
      ],
      "source": [
        "sk_folds = StratifiedKFold(n_splits = 6)\n",
        "scores = cross_val_score(classifier, x_kc2, y_kc2, cv = sk_folds)"
      ]
    },
    {
      "cell_type": "code",
      "execution_count": null,
      "metadata": {
        "colab": {
          "background_save": true
        },
        "id": "01nPqjyyBU8c",
        "outputId": "654d8dc8-c2e9-44e2-9303-ac2d65feb4b7"
      },
      "outputs": [
        {
          "name": "stdout",
          "output_type": "stream",
          "text": [
            "Test Accuracy Score:  [0.93103448 0.81609195 0.82758621 0.81609195 0.7816092  0.68604651]\n"
          ]
        }
      ],
      "source": [
        "print(\"Test Accuracy Score: \", scores)"
      ]
    },
    {
      "cell_type": "code",
      "execution_count": null,
      "metadata": {
        "colab": {
          "background_save": true
        },
        "id": "zoN4ZUyStN6x",
        "outputId": "8e2d46f7-7fb6-487e-c52d-cf06084527f0"
      },
      "outputs": [
        {
          "name": "stdout",
          "output_type": "stream",
          "text": [
            "Average CV Score:  0.8097433841218926\n",
            "Number of CV Scores used in Average:  6\n"
          ]
        }
      ],
      "source": [
        "print(\"Average CV Score: \", scores.mean())\n",
        "print(\"Number of CV Scores used in Average: \", len(scores))"
      ]
    },
    {
      "cell_type": "code",
      "execution_count": null,
      "metadata": {
        "id": "iTZBC1JZA5JY"
      },
      "outputs": [],
      "source": [
        "sk_folds = StratifiedKFold(n_splits = 7)\n",
        "scores = cross_val_score(classifier, x_kc2, y_kc2, cv = sk_folds)"
      ]
    },
    {
      "cell_type": "code",
      "execution_count": null,
      "metadata": {
        "id": "0vuOCN2wBVsK"
      },
      "outputs": [],
      "source": [
        "print(\"Test Accuracy Score: \", scores)"
      ]
    },
    {
      "cell_type": "code",
      "execution_count": null,
      "metadata": {
        "id": "W8fRECwztPeY"
      },
      "outputs": [],
      "source": [
        "print(\"Average CV Score: \", scores.mean())\n",
        "print(\"Number of CV Scores used in Average: \", len(scores))"
      ]
    },
    {
      "cell_type": "code",
      "execution_count": null,
      "metadata": {
        "id": "HbfmMtdOA5QA"
      },
      "outputs": [],
      "source": [
        "sk_folds = StratifiedKFold(n_splits = 8)\n",
        "scores = cross_val_score(classifier, x_kc2, y_kc2, cv = sk_folds)"
      ]
    },
    {
      "cell_type": "code",
      "execution_count": null,
      "metadata": {
        "id": "hSBjH2QYWIkk"
      },
      "outputs": [],
      "source": [
        "print(\"Average CV Score: \", scores.mean())\n",
        "print(\"Number of CV Scores used in Average: \", len(scores))"
      ]
    },
    {
      "cell_type": "code",
      "execution_count": null,
      "metadata": {
        "id": "C32-qjnVWUMZ"
      },
      "outputs": [],
      "source": []
    },
    {
      "cell_type": "code",
      "execution_count": null,
      "metadata": {
        "id": "gaawVQPRA5Wl"
      },
      "outputs": [],
      "source": [
        "sk_folds = StratifiedKFold(n_splits = 9)\n",
        "scores = cross_val_score(classifier, x_kc2, y_kc2, cv = sk_folds)"
      ]
    },
    {
      "cell_type": "code",
      "execution_count": null,
      "metadata": {
        "id": "5JkJIkE0BWYE"
      },
      "outputs": [],
      "source": [
        "print(\"Test Accuracy Score: \", scores)"
      ]
    },
    {
      "cell_type": "code",
      "execution_count": null,
      "metadata": {
        "id": "OMHzjHdztRdB"
      },
      "outputs": [],
      "source": [
        "print(\"Average CV Score: \", scores.mean())\n",
        "print(\"Number of CV Scores used in Average: \", len(scores))"
      ]
    },
    {
      "cell_type": "code",
      "execution_count": null,
      "metadata": {
        "colab": {
          "background_save": true
        },
        "id": "VdmntHD9A5eY",
        "outputId": "4eebc539-6f7e-4dcb-9f73-da706981d47f"
      },
      "outputs": [
        {
          "name": "stderr",
          "output_type": "stream",
          "text": [
            "/usr/local/lib/python3.8/dist-packages/sklearn/linear_model/_logistic.py:814: ConvergenceWarning: lbfgs failed to converge (status=1):\n",
            "STOP: TOTAL NO. of ITERATIONS REACHED LIMIT.\n",
            "\n",
            "Increase the number of iterations (max_iter) or scale the data as shown in:\n",
            "    https://scikit-learn.org/stable/modules/preprocessing.html\n",
            "Please also refer to the documentation for alternative solver options:\n",
            "    https://scikit-learn.org/stable/modules/linear_model.html#logistic-regression\n",
            "  n_iter_i = _check_optimize_result(\n",
            "/usr/local/lib/python3.8/dist-packages/sklearn/linear_model/_logistic.py:814: ConvergenceWarning: lbfgs failed to converge (status=1):\n",
            "STOP: TOTAL NO. of ITERATIONS REACHED LIMIT.\n",
            "\n",
            "Increase the number of iterations (max_iter) or scale the data as shown in:\n",
            "    https://scikit-learn.org/stable/modules/preprocessing.html\n",
            "Please also refer to the documentation for alternative solver options:\n",
            "    https://scikit-learn.org/stable/modules/linear_model.html#logistic-regression\n",
            "  n_iter_i = _check_optimize_result(\n",
            "/usr/local/lib/python3.8/dist-packages/sklearn/linear_model/_logistic.py:814: ConvergenceWarning: lbfgs failed to converge (status=1):\n",
            "STOP: TOTAL NO. of ITERATIONS REACHED LIMIT.\n",
            "\n",
            "Increase the number of iterations (max_iter) or scale the data as shown in:\n",
            "    https://scikit-learn.org/stable/modules/preprocessing.html\n",
            "Please also refer to the documentation for alternative solver options:\n",
            "    https://scikit-learn.org/stable/modules/linear_model.html#logistic-regression\n",
            "  n_iter_i = _check_optimize_result(\n",
            "/usr/local/lib/python3.8/dist-packages/sklearn/linear_model/_logistic.py:814: ConvergenceWarning: lbfgs failed to converge (status=1):\n",
            "STOP: TOTAL NO. of ITERATIONS REACHED LIMIT.\n",
            "\n",
            "Increase the number of iterations (max_iter) or scale the data as shown in:\n",
            "    https://scikit-learn.org/stable/modules/preprocessing.html\n",
            "Please also refer to the documentation for alternative solver options:\n",
            "    https://scikit-learn.org/stable/modules/linear_model.html#logistic-regression\n",
            "  n_iter_i = _check_optimize_result(\n",
            "/usr/local/lib/python3.8/dist-packages/sklearn/linear_model/_logistic.py:814: ConvergenceWarning: lbfgs failed to converge (status=1):\n",
            "STOP: TOTAL NO. of ITERATIONS REACHED LIMIT.\n",
            "\n",
            "Increase the number of iterations (max_iter) or scale the data as shown in:\n",
            "    https://scikit-learn.org/stable/modules/preprocessing.html\n",
            "Please also refer to the documentation for alternative solver options:\n",
            "    https://scikit-learn.org/stable/modules/linear_model.html#logistic-regression\n",
            "  n_iter_i = _check_optimize_result(\n",
            "/usr/local/lib/python3.8/dist-packages/sklearn/linear_model/_logistic.py:814: ConvergenceWarning: lbfgs failed to converge (status=1):\n",
            "STOP: TOTAL NO. of ITERATIONS REACHED LIMIT.\n",
            "\n",
            "Increase the number of iterations (max_iter) or scale the data as shown in:\n",
            "    https://scikit-learn.org/stable/modules/preprocessing.html\n",
            "Please also refer to the documentation for alternative solver options:\n",
            "    https://scikit-learn.org/stable/modules/linear_model.html#logistic-regression\n",
            "  n_iter_i = _check_optimize_result(\n",
            "/usr/local/lib/python3.8/dist-packages/sklearn/linear_model/_logistic.py:814: ConvergenceWarning: lbfgs failed to converge (status=1):\n",
            "STOP: TOTAL NO. of ITERATIONS REACHED LIMIT.\n",
            "\n",
            "Increase the number of iterations (max_iter) or scale the data as shown in:\n",
            "    https://scikit-learn.org/stable/modules/preprocessing.html\n",
            "Please also refer to the documentation for alternative solver options:\n",
            "    https://scikit-learn.org/stable/modules/linear_model.html#logistic-regression\n",
            "  n_iter_i = _check_optimize_result(\n",
            "/usr/local/lib/python3.8/dist-packages/sklearn/linear_model/_logistic.py:814: ConvergenceWarning: lbfgs failed to converge (status=1):\n",
            "STOP: TOTAL NO. of ITERATIONS REACHED LIMIT.\n",
            "\n",
            "Increase the number of iterations (max_iter) or scale the data as shown in:\n",
            "    https://scikit-learn.org/stable/modules/preprocessing.html\n",
            "Please also refer to the documentation for alternative solver options:\n",
            "    https://scikit-learn.org/stable/modules/linear_model.html#logistic-regression\n",
            "  n_iter_i = _check_optimize_result(\n",
            "/usr/local/lib/python3.8/dist-packages/sklearn/linear_model/_logistic.py:814: ConvergenceWarning: lbfgs failed to converge (status=1):\n",
            "STOP: TOTAL NO. of ITERATIONS REACHED LIMIT.\n",
            "\n",
            "Increase the number of iterations (max_iter) or scale the data as shown in:\n",
            "    https://scikit-learn.org/stable/modules/preprocessing.html\n",
            "Please also refer to the documentation for alternative solver options:\n",
            "    https://scikit-learn.org/stable/modules/linear_model.html#logistic-regression\n",
            "  n_iter_i = _check_optimize_result(\n"
          ]
        }
      ],
      "source": [
        "sk_folds = StratifiedKFold(n_splits = 10)\n",
        "scores = cross_val_score(classifier, x_kc2, y_kc2, cv = sk_folds)"
      ]
    },
    {
      "cell_type": "code",
      "execution_count": null,
      "metadata": {
        "colab": {
          "background_save": true
        },
        "id": "S7G9OpTnBXUs",
        "outputId": "a4f35db7-7528-48fe-ebe9-f8a05ff44a6f"
      },
      "outputs": [
        {
          "name": "stdout",
          "output_type": "stream",
          "text": [
            "Test Accuracy Score:  [0.94339623 0.86538462 0.78846154 0.82692308 0.82692308 0.86538462\n",
            " 0.84615385 0.71153846 0.75       0.76923077]\n"
          ]
        }
      ],
      "source": [
        "print(\"Test Accuracy Score: \", scores)"
      ]
    },
    {
      "cell_type": "code",
      "execution_count": null,
      "metadata": {
        "colab": {
          "background_save": true
        },
        "id": "kExTR-oPjA-d",
        "outputId": "5084eea6-94a1-4b66-e7f3-3f05b0ab1b04"
      },
      "outputs": [
        {
          "name": "stdout",
          "output_type": "stream",
          "text": [
            "Average CV Score:  0.8193396226415095\n",
            "Number of CV Scores used in Average:  10\n"
          ]
        }
      ],
      "source": [
        "print(\"Average CV Score: \", scores.mean())\n",
        "print(\"Number of CV Scores used in Average: \", len(scores))"
      ]
    },
    {
      "cell_type": "markdown",
      "metadata": {
        "id": "TrWnHp5FS-2H"
      },
      "source": [
        "###**Support Vector Machine Algorithm**"
      ]
    },
    {
      "cell_type": "code",
      "execution_count": null,
      "metadata": {
        "colab": {
          "background_save": true
        },
        "id": "aKcQfPnze-Gu",
        "outputId": "28356cf3-eef8-4545-a763-a94c0cb9b1d7"
      },
      "outputs": [
        {
          "data": {
            "text/plain": [
              "SVC(random_state=0)"
            ]
          },
          "execution_count": 1557,
          "metadata": {},
          "output_type": "execute_result"
        }
      ],
      "source": [
        "from sklearn.svm import SVC # \"Support vector classifier\"  \n",
        "classifier = SVC(kernel='rbf', random_state=0)  \n",
        "classifier.fit(x_train, y_train)  "
      ]
    },
    {
      "cell_type": "code",
      "execution_count": null,
      "metadata": {
        "colab": {
          "background_save": true
        },
        "id": "3obHQz-PfCrF"
      },
      "outputs": [],
      "source": [
        "#Predicting the test set result  \n",
        "y_pred= classifier.predict(x_test)  "
      ]
    },
    {
      "cell_type": "code",
      "execution_count": null,
      "metadata": {
        "colab": {
          "background_save": true
        },
        "id": "P4qc2m0jfGEY",
        "outputId": "5801e7ba-dfbd-4d2c-e897-49289d522e27"
      },
      "outputs": [
        {
          "name": "stdout",
          "output_type": "stream",
          "text": [
            "[[79  4]\n",
            " [16  6]]\n"
          ]
        }
      ],
      "source": [
        "from sklearn.metrics import confusion_matrix  \n",
        "cm= confusion_matrix(y_test, y_pred)  \n",
        "print(cm)"
      ]
    },
    {
      "cell_type": "code",
      "execution_count": null,
      "metadata": {
        "colab": {
          "background_save": true
        },
        "id": "Gv4ZR7q1fHiw",
        "outputId": "84862c1b-fb40-4177-b860-c709521c0d22"
      },
      "outputs": [
        {
          "name": "stdout",
          "output_type": "stream",
          "text": [
            "Test Accuracy Score:  0.8095238095238095\n"
          ]
        }
      ],
      "source": [
        "score_ = accuracy_score(y_test, y_pred)\n",
        "print(\"Test Accuracy Score: \", score_)"
      ]
    },
    {
      "cell_type": "code",
      "execution_count": null,
      "metadata": {
        "colab": {
          "background_save": true
        },
        "id": "PkEd4hdCB6Ma"
      },
      "outputs": [],
      "source": [
        "sk_folds = StratifiedKFold(n_splits = 2)\n",
        "scores = cross_val_score(classifier, x_kc2, y_kc2, cv = sk_folds)"
      ]
    },
    {
      "cell_type": "code",
      "execution_count": null,
      "metadata": {
        "colab": {
          "background_save": true
        },
        "id": "B2L3BW2MB6Me",
        "outputId": "76038b5f-3042-4b22-b00d-014ca8f18ba4"
      },
      "outputs": [
        {
          "name": "stdout",
          "output_type": "stream",
          "text": [
            "Test Accuracy Score:  [0.81992337 0.8       ]\n"
          ]
        }
      ],
      "source": [
        "print(\"Test Accuracy Score: \", scores)"
      ]
    },
    {
      "cell_type": "code",
      "execution_count": null,
      "metadata": {
        "colab": {
          "background_save": true
        },
        "id": "op-j9B_htZ9e",
        "outputId": "93dd57c9-895b-433e-8e8b-628c0af8f396"
      },
      "outputs": [
        {
          "name": "stdout",
          "output_type": "stream",
          "text": [
            "Average CV Score:  0.8099616858237548\n",
            "Number of CV Scores used in Average:  2\n"
          ]
        }
      ],
      "source": [
        "print(\"Average CV Score: \", scores.mean())\n",
        "print(\"Number of CV Scores used in Average: \", len(scores))"
      ]
    },
    {
      "cell_type": "code",
      "execution_count": null,
      "metadata": {
        "colab": {
          "background_save": true
        },
        "id": "Yz3tOWtLB6Mf"
      },
      "outputs": [],
      "source": [
        "sk_folds = StratifiedKFold(n_splits = 3)\n",
        "scores = cross_val_score(classifier, x_kc2, y_kc2, cv = sk_folds)"
      ]
    },
    {
      "cell_type": "code",
      "execution_count": null,
      "metadata": {
        "colab": {
          "background_save": true
        },
        "id": "TRZIiuloB6Mg",
        "outputId": "234c7243-c55d-406c-8e99-da76d42d09a3"
      },
      "outputs": [
        {
          "name": "stdout",
          "output_type": "stream",
          "text": [
            "Test Accuracy Score:  [0.88505747 0.82183908 0.75722543]\n"
          ]
        }
      ],
      "source": [
        "print(\"Test Accuracy Score: \", scores)"
      ]
    },
    {
      "cell_type": "code",
      "execution_count": null,
      "metadata": {
        "colab": {
          "background_save": true
        },
        "id": "xSfW-lazta9M",
        "outputId": "0fc25681-b465-4b6a-e7cc-56c83d2d819e"
      },
      "outputs": [
        {
          "name": "stdout",
          "output_type": "stream",
          "text": [
            "Average CV Score:  0.8213739950833832\n",
            "Number of CV Scores used in Average:  3\n"
          ]
        }
      ],
      "source": [
        "print(\"Average CV Score: \", scores.mean())\n",
        "print(\"Number of CV Scores used in Average: \", len(scores))"
      ]
    },
    {
      "cell_type": "code",
      "execution_count": null,
      "metadata": {
        "id": "PVpT7MFhB6Mj"
      },
      "outputs": [],
      "source": [
        "sk_folds = StratifiedKFold(n_splits = 4)\n",
        "scores = cross_val_score(classifier, x_kc2, y_kc2, cv = sk_folds)"
      ]
    },
    {
      "cell_type": "code",
      "execution_count": null,
      "metadata": {
        "id": "B5S6YebbB6Mk"
      },
      "outputs": [],
      "source": [
        "print(\"Test Accuracy Score: \", scores)"
      ]
    },
    {
      "cell_type": "code",
      "execution_count": null,
      "metadata": {
        "id": "tQpD9ljxtcER"
      },
      "outputs": [],
      "source": [
        "print(\"Average CV Score: \", scores.mean())\n",
        "print(\"Number of CV Scores used in Average: \", len(scores))"
      ]
    },
    {
      "cell_type": "code",
      "execution_count": null,
      "metadata": {
        "id": "TXwnZnvLB6Ml"
      },
      "outputs": [],
      "source": [
        "sk_folds = StratifiedKFold(n_splits = 5)\n",
        "scores = cross_val_score(classifier, x_kc2, y_kc2, cv = sk_folds)"
      ]
    },
    {
      "cell_type": "code",
      "execution_count": null,
      "metadata": {
        "id": "9vlpXFrcB6Mo"
      },
      "outputs": [],
      "source": [
        "print(\"Test Accuracy Score: \", scores)"
      ]
    },
    {
      "cell_type": "code",
      "execution_count": null,
      "metadata": {
        "id": "lUXMvAwDte6a"
      },
      "outputs": [],
      "source": [
        "print(\"Average CV Score: \", scores.mean())\n",
        "print(\"Number of CV Scores used in Average: \", len(scores))"
      ]
    },
    {
      "cell_type": "code",
      "execution_count": null,
      "metadata": {
        "id": "H6ZlZp3mB6Mq"
      },
      "outputs": [],
      "source": [
        "sk_folds = StratifiedKFold(n_splits = 6)\n",
        "scores = cross_val_score(classifier, x_kc2, y_kc2, cv = sk_folds)"
      ]
    },
    {
      "cell_type": "code",
      "execution_count": null,
      "metadata": {
        "id": "T5yhZKhyB6Mr"
      },
      "outputs": [],
      "source": [
        "print(\"Test Accuracy Score: \", scores)"
      ]
    },
    {
      "cell_type": "code",
      "execution_count": null,
      "metadata": {
        "id": "OWFhqSuQtgGR"
      },
      "outputs": [],
      "source": [
        "print(\"Average CV Score: \", scores.mean())\n",
        "print(\"Number of CV Scores used in Average: \", len(scores))"
      ]
    },
    {
      "cell_type": "code",
      "execution_count": null,
      "metadata": {
        "id": "NQ1_fEv9B6Mu"
      },
      "outputs": [],
      "source": [
        "sk_folds = StratifiedKFold(n_splits = 7)\n",
        "scores = cross_val_score(classifier, x_kc2, y_kc2, cv = sk_folds)"
      ]
    },
    {
      "cell_type": "code",
      "execution_count": null,
      "metadata": {
        "id": "zWTPC4G7B6Mv"
      },
      "outputs": [],
      "source": [
        "print(\"Test Accuracy Score: \", scores)"
      ]
    },
    {
      "cell_type": "code",
      "execution_count": null,
      "metadata": {
        "id": "AzsuKRmlthFQ"
      },
      "outputs": [],
      "source": [
        "print(\"Average CV Score: \", scores.mean())\n",
        "print(\"Number of CV Scores used in Average: \", len(scores))"
      ]
    },
    {
      "cell_type": "code",
      "execution_count": null,
      "metadata": {
        "id": "HS0UsxstB6Mw"
      },
      "outputs": [],
      "source": [
        "sk_folds = StratifiedKFold(n_splits = 8)\n",
        "scores = cross_val_score(classifier, x_kc2, y_kc2, cv = sk_folds)"
      ]
    },
    {
      "cell_type": "code",
      "execution_count": null,
      "metadata": {
        "id": "-npPdIkBtjXR"
      },
      "outputs": [],
      "source": [
        "print(\"Average CV Score: \", scores.mean())\n",
        "print(\"Number of CV Scores used in Average: \", len(scores))"
      ]
    },
    {
      "cell_type": "code",
      "execution_count": null,
      "metadata": {
        "id": "ef5zjAPNB6Mx"
      },
      "outputs": [],
      "source": [
        "sk_folds = StratifiedKFold(n_splits = 9)\n",
        "scores = cross_val_score(classifier, x_kc2, y_kc2, cv = sk_folds)"
      ]
    },
    {
      "cell_type": "code",
      "execution_count": null,
      "metadata": {
        "id": "gUypCealB6M1"
      },
      "outputs": [],
      "source": [
        "print(\"Test Accuracy Score: \", scores)"
      ]
    },
    {
      "cell_type": "code",
      "execution_count": null,
      "metadata": {
        "id": "SVfMIItptlZL"
      },
      "outputs": [],
      "source": [
        "print(\"Average CV Score: \", scores.mean())\n",
        "print(\"Number of CV Scores used in Average: \", len(scores))"
      ]
    },
    {
      "cell_type": "code",
      "execution_count": null,
      "metadata": {
        "id": "zGkKABbiB6M3"
      },
      "outputs": [],
      "source": [
        "sk_folds = StratifiedKFold(n_splits = 10)\n",
        "scores = cross_val_score(classifier, x_kc2, y_kc2, cv = sk_folds)"
      ]
    },
    {
      "cell_type": "code",
      "execution_count": null,
      "metadata": {
        "id": "VHdGhuIHB6M4"
      },
      "outputs": [],
      "source": [
        "print(\"Test Accuracy Score: \", scores)"
      ]
    },
    {
      "cell_type": "code",
      "execution_count": null,
      "metadata": {
        "id": "h28hO0mBtmRE"
      },
      "outputs": [],
      "source": [
        "print(\"Average CV Score: \", scores.mean())\n",
        "print(\"Number of CV Scores used in Average: \", len(scores))"
      ]
    },
    {
      "cell_type": "markdown",
      "metadata": {
        "id": "2gZ00TU_gBgh"
      },
      "source": [
        "##**Decision Tree Algorithm**"
      ]
    },
    {
      "cell_type": "code",
      "execution_count": null,
      "metadata": {
        "id": "o08wfib1faBq"
      },
      "outputs": [],
      "source": [
        "from sklearn.tree import DecisionTreeClassifier  \n",
        "classifier= DecisionTreeClassifier(criterion='entropy', random_state=0)  \n",
        "classifier.fit(x_train, y_train)  "
      ]
    },
    {
      "cell_type": "code",
      "execution_count": null,
      "metadata": {
        "id": "EvsbWpdFf2vq"
      },
      "outputs": [],
      "source": [
        "#Predicting the test set result  \n",
        "y_pred= classifier.predict(x_test)  "
      ]
    },
    {
      "cell_type": "code",
      "execution_count": null,
      "metadata": {
        "id": "wMU8xI2Qf4jn"
      },
      "outputs": [],
      "source": [
        "#Creating the Confusion matrix  \n",
        "from sklearn.metrics import confusion_matrix  \n",
        "cm= confusion_matrix(y_test, y_pred) \n",
        "print(cm)"
      ]
    },
    {
      "cell_type": "code",
      "execution_count": null,
      "metadata": {
        "id": "60J4Dj20gMp4"
      },
      "outputs": [],
      "source": [
        "score_ = accuracy_score(y_test, y_pred)\n",
        "print(\"Test Accuracy Score: \", score_)"
      ]
    },
    {
      "cell_type": "code",
      "execution_count": null,
      "metadata": {
        "id": "ZQlYUCsiB_Ty"
      },
      "outputs": [],
      "source": [
        "sk_folds = StratifiedKFold(n_splits = 2)\n",
        "scores = cross_val_score(classifier, x_kc2, y_kc2, cv = sk_folds)"
      ]
    },
    {
      "cell_type": "code",
      "execution_count": null,
      "metadata": {
        "id": "xLJgBFb0B_Tz"
      },
      "outputs": [],
      "source": [
        "print(\"Test Accuracy Score: \", scores)"
      ]
    },
    {
      "cell_type": "code",
      "execution_count": null,
      "metadata": {
        "id": "w-l8A6HGtoBH"
      },
      "outputs": [],
      "source": [
        "print(\"Average CV Score: \", scores.mean())\n",
        "print(\"Number of CV Scores used in Average: \", len(scores))"
      ]
    },
    {
      "cell_type": "code",
      "execution_count": null,
      "metadata": {
        "id": "4ii-h4iwB_Tz"
      },
      "outputs": [],
      "source": [
        "sk_folds = StratifiedKFold(n_splits = 3)\n",
        "scores = cross_val_score(classifier, x_kc2, y_kc2, cv = sk_folds)"
      ]
    },
    {
      "cell_type": "code",
      "execution_count": null,
      "metadata": {
        "id": "QtL1Na0gB_Tz"
      },
      "outputs": [],
      "source": [
        "print(\"Test Accuracy Score: \", scores)"
      ]
    },
    {
      "cell_type": "code",
      "execution_count": null,
      "metadata": {
        "id": "K-e9GJYhto-M"
      },
      "outputs": [],
      "source": [
        "print(\"Average CV Score: \", scores.mean())\n",
        "print(\"Number of CV Scores used in Average: \", len(scores))"
      ]
    },
    {
      "cell_type": "code",
      "execution_count": null,
      "metadata": {
        "id": "WMrgMQFOB_T0"
      },
      "outputs": [],
      "source": [
        "sk_folds = StratifiedKFold(n_splits = 4)\n",
        "scores = cross_val_score(classifier, x_kc2, y_kc2, cv = sk_folds)"
      ]
    },
    {
      "cell_type": "code",
      "execution_count": null,
      "metadata": {
        "id": "l4wmcuV0B_T0"
      },
      "outputs": [],
      "source": [
        "print(\"Test Accuracy Score: \", scores)"
      ]
    },
    {
      "cell_type": "code",
      "execution_count": null,
      "metadata": {
        "id": "qu4z92U2tp7P"
      },
      "outputs": [],
      "source": [
        "print(\"Average CV Score: \", scores.mean())\n",
        "print(\"Number of CV Scores used in Average: \", len(scores))"
      ]
    },
    {
      "cell_type": "code",
      "execution_count": null,
      "metadata": {
        "id": "-kdNrUZIB_T0"
      },
      "outputs": [],
      "source": [
        "sk_folds = StratifiedKFold(n_splits = 5)\n",
        "scores = cross_val_score(classifier, x_kc2, y_kc2, cv = sk_folds)"
      ]
    },
    {
      "cell_type": "code",
      "execution_count": null,
      "metadata": {
        "id": "MiyoHvmvB_T0"
      },
      "outputs": [],
      "source": [
        "print(\"Test Accuracy Score: \", scores)"
      ]
    },
    {
      "cell_type": "code",
      "execution_count": null,
      "metadata": {
        "id": "P_jiCDqKtqvS"
      },
      "outputs": [],
      "source": [
        "print(\"Average CV Score: \", scores.mean())\n",
        "print(\"Number of CV Scores used in Average: \", len(scores))"
      ]
    },
    {
      "cell_type": "code",
      "execution_count": null,
      "metadata": {
        "id": "1aEq0XEAB_T0"
      },
      "outputs": [],
      "source": [
        "sk_folds = StratifiedKFold(n_splits = 6)\n",
        "scores = cross_val_score(classifier, x_kc2, y_kc2, cv = sk_folds)"
      ]
    },
    {
      "cell_type": "code",
      "execution_count": null,
      "metadata": {
        "id": "RHgbbefdB_T1"
      },
      "outputs": [],
      "source": [
        "print(\"Test Accuracy Score: \", scores)"
      ]
    },
    {
      "cell_type": "code",
      "execution_count": null,
      "metadata": {
        "id": "DHHlcV0Ttr41"
      },
      "outputs": [],
      "source": [
        "print(\"Average CV Score: \", scores.mean())\n",
        "print(\"Number of CV Scores used in Average: \", len(scores))"
      ]
    },
    {
      "cell_type": "code",
      "execution_count": null,
      "metadata": {
        "id": "8s019jzxB_T1"
      },
      "outputs": [],
      "source": [
        "sk_folds = StratifiedKFold(n_splits = 7)\n",
        "scores = cross_val_score(classifier, x_kc2, y_kc2, cv = sk_folds)"
      ]
    },
    {
      "cell_type": "code",
      "execution_count": null,
      "metadata": {
        "id": "JG5wNaM6B_T1"
      },
      "outputs": [],
      "source": [
        "print(\"Test Accuracy Score: \", scores)"
      ]
    },
    {
      "cell_type": "code",
      "execution_count": null,
      "metadata": {
        "colab": {
          "background_save": true
        },
        "id": "WLdmVhmXts49",
        "outputId": "2fb467fc-64d7-4f40-e21a-76d5d9a2c4ee"
      },
      "outputs": [
        {
          "name": "stdout",
          "output_type": "stream",
          "text": [
            "Average CV Score:  0.7580952380952379\n",
            "Number of CV Scores used in Average:  7\n"
          ]
        }
      ],
      "source": [
        "print(\"Average CV Score: \", scores.mean())\n",
        "print(\"Number of CV Scores used in Average: \", len(scores))"
      ]
    },
    {
      "cell_type": "code",
      "execution_count": null,
      "metadata": {
        "colab": {
          "background_save": true
        },
        "id": "1RW2jcC4B_T1"
      },
      "outputs": [],
      "source": [
        "sk_folds = StratifiedKFold(n_splits = 8)\n",
        "scores = cross_val_score(classifier, x_kc2, y_kc2, cv = sk_folds)"
      ]
    },
    {
      "cell_type": "code",
      "execution_count": null,
      "metadata": {
        "colab": {
          "background_save": true
        },
        "id": "AifLAEt3tuMU",
        "outputId": "b57122d5-c438-4e13-9fc8-8baf1457624b"
      },
      "outputs": [
        {
          "name": "stdout",
          "output_type": "stream",
          "text": [
            "Average CV Score:  0.7696095571095571\n",
            "Number of CV Scores used in Average:  8\n"
          ]
        }
      ],
      "source": [
        "print(\"Average CV Score: \", scores.mean())\n",
        "print(\"Number of CV Scores used in Average: \", len(scores))"
      ]
    },
    {
      "cell_type": "code",
      "execution_count": null,
      "metadata": {
        "colab": {
          "background_save": true
        },
        "id": "DqxGPsYcB_T1"
      },
      "outputs": [],
      "source": [
        "sk_folds = StratifiedKFold(n_splits = 9)\n",
        "scores = cross_val_score(classifier, x_kc2, y_kc2, cv = sk_folds)"
      ]
    },
    {
      "cell_type": "code",
      "execution_count": null,
      "metadata": {
        "colab": {
          "background_save": true
        },
        "id": "R_nZlwvvB_T2",
        "outputId": "242aa396-f665-4e25-f41a-b058833c3afb"
      },
      "outputs": [
        {
          "name": "stdout",
          "output_type": "stream",
          "text": [
            "Test Accuracy Score:  [0.79310345 0.84482759 0.60344828 0.74137931 0.81034483 0.79310345\n",
            " 0.72413793 0.65517241 0.66666667]\n"
          ]
        }
      ],
      "source": [
        "print(\"Test Accuracy Score: \", scores)"
      ]
    },
    {
      "cell_type": "code",
      "execution_count": null,
      "metadata": {
        "colab": {
          "background_save": true
        },
        "id": "XxoUOWFktweP",
        "outputId": "1b835b6b-8712-40da-f4e4-5dffe441bbcd"
      },
      "outputs": [
        {
          "name": "stdout",
          "output_type": "stream",
          "text": [
            "Average CV Score:  0.7369093231162197\n",
            "Number of CV Scores used in Average:  9\n"
          ]
        }
      ],
      "source": [
        "print(\"Average CV Score: \", scores.mean())\n",
        "print(\"Number of CV Scores used in Average: \", len(scores))"
      ]
    },
    {
      "cell_type": "code",
      "execution_count": null,
      "metadata": {
        "colab": {
          "background_save": true
        },
        "id": "NJgMjxrBB_T2"
      },
      "outputs": [],
      "source": [
        "sk_folds = StratifiedKFold(n_splits = 10)\n",
        "scores = cross_val_score(classifier, x_kc2, y_kc2, cv = sk_folds)"
      ]
    },
    {
      "cell_type": "code",
      "execution_count": null,
      "metadata": {
        "colab": {
          "background_save": true
        },
        "id": "P1Xyjr-VB_T2",
        "outputId": "f05960ea-29a2-40fd-9a53-4d662fd7e0d7"
      },
      "outputs": [
        {
          "name": "stdout",
          "output_type": "stream",
          "text": [
            "Test Accuracy Score:  [0.83018868 0.71153846 0.65384615 0.78846154 0.69230769 0.88461538\n",
            " 0.73076923 0.69230769 0.61538462 0.71153846]\n"
          ]
        }
      ],
      "source": [
        "print(\"Test Accuracy Score: \", scores)"
      ]
    },
    {
      "cell_type": "code",
      "execution_count": null,
      "metadata": {
        "colab": {
          "background_save": true
        },
        "id": "at3v3qDctxkh",
        "outputId": "c8af718d-fbe1-48a4-c0ae-35df6674124c"
      },
      "outputs": [
        {
          "name": "stdout",
          "output_type": "stream",
          "text": [
            "Average CV Score:  0.7310957910014514\n",
            "Number of CV Scores used in Average:  10\n"
          ]
        }
      ],
      "source": [
        "print(\"Average CV Score: \", scores.mean())\n",
        "print(\"Number of CV Scores used in Average: \", len(scores))"
      ]
    },
    {
      "cell_type": "markdown",
      "metadata": {
        "id": "IOcu-_LNgVhh"
      },
      "source": [
        "##**Random Forest**"
      ]
    },
    {
      "cell_type": "code",
      "execution_count": null,
      "metadata": {
        "colab": {
          "background_save": true
        },
        "id": "iHhb29cwgbYu",
        "outputId": "c214b9e1-2936-4be1-bd58-33894c74e0e4"
      },
      "outputs": [
        {
          "data": {
            "text/plain": [
              "RandomForestClassifier(criterion='entropy', n_estimators=10)"
            ]
          },
          "execution_count": 1617,
          "metadata": {},
          "output_type": "execute_result"
        }
      ],
      "source": [
        "#Fitting Decision Tree classifier to the training set  \n",
        "from sklearn.ensemble import RandomForestClassifier  \n",
        "classifier= RandomForestClassifier(n_estimators= 10, criterion=\"entropy\")  \n",
        "classifier.fit(x_train, y_train)  "
      ]
    },
    {
      "cell_type": "code",
      "execution_count": null,
      "metadata": {
        "colab": {
          "background_save": true
        },
        "id": "tJLJ7Z--gsPV"
      },
      "outputs": [],
      "source": [
        "#Predicting the test set result  \n",
        "y_pred= classifier.predict(x_test)  "
      ]
    },
    {
      "cell_type": "code",
      "execution_count": null,
      "metadata": {
        "colab": {
          "background_save": true
        },
        "id": "i2i9dfl7gvjU",
        "outputId": "c307b015-257e-4a9d-ae8f-b66a4787f629"
      },
      "outputs": [
        {
          "name": "stdout",
          "output_type": "stream",
          "text": [
            "[[76  7]\n",
            " [12 10]]\n"
          ]
        }
      ],
      "source": [
        "#Creating the Confusion matrix  \n",
        "from sklearn.metrics import confusion_matrix  \n",
        "cm= confusion_matrix(y_test, y_pred)  \n",
        "print(cm)"
      ]
    },
    {
      "cell_type": "code",
      "execution_count": null,
      "metadata": {
        "colab": {
          "background_save": true
        },
        "id": "JIL-iuuig3oC",
        "outputId": "d5c54eff-d748-4346-9163-d853da017562"
      },
      "outputs": [
        {
          "name": "stdout",
          "output_type": "stream",
          "text": [
            "Test Accuracy Score:  0.819047619047619\n"
          ]
        }
      ],
      "source": [
        "score_ = accuracy_score(y_test, y_pred)\n",
        "print(\"Test Accuracy Score: \", score_)"
      ]
    },
    {
      "cell_type": "code",
      "execution_count": null,
      "metadata": {
        "colab": {
          "background_save": true
        },
        "id": "YmaB1JhkCBpN"
      },
      "outputs": [],
      "source": [
        "sk_folds = StratifiedKFold(n_splits = 2)\n",
        "scores = cross_val_score(classifier, x_kc2, y_kc2, cv = sk_folds)"
      ]
    },
    {
      "cell_type": "code",
      "execution_count": null,
      "metadata": {
        "colab": {
          "background_save": true
        },
        "id": "JRUHbbsNCBpP",
        "outputId": "6e0e4e9c-c4de-4b6b-90bb-4af29cb99bfa"
      },
      "outputs": [
        {
          "name": "stdout",
          "output_type": "stream",
          "text": [
            "Test Accuracy Score:  [0.70881226 0.77307692]\n"
          ]
        }
      ],
      "source": [
        "print(\"Test Accuracy Score: \", scores)"
      ]
    },
    {
      "cell_type": "code",
      "execution_count": null,
      "metadata": {
        "colab": {
          "background_save": true
        },
        "id": "l5QcuoirtzqI",
        "outputId": "a755f3f2-0e4b-417d-cebf-eed3da0fc1bb"
      },
      "outputs": [
        {
          "name": "stdout",
          "output_type": "stream",
          "text": [
            "Average CV Score:  0.7409445918066608\n",
            "Number of CV Scores used in Average:  2\n"
          ]
        }
      ],
      "source": [
        "print(\"Average CV Score: \", scores.mean())\n",
        "print(\"Number of CV Scores used in Average: \", len(scores))"
      ]
    },
    {
      "cell_type": "code",
      "execution_count": null,
      "metadata": {
        "colab": {
          "background_save": true
        },
        "id": "IV9q-I_TCBpP"
      },
      "outputs": [],
      "source": [
        "sk_folds = StratifiedKFold(n_splits = 3)\n",
        "scores = cross_val_score(classifier, x_kc2, y_kc2, cv = sk_folds)"
      ]
    },
    {
      "cell_type": "code",
      "execution_count": null,
      "metadata": {
        "colab": {
          "background_save": true
        },
        "id": "CHppKyZQCBpQ",
        "outputId": "9a55e875-dea1-464c-9459-8e50a346f613"
      },
      "outputs": [
        {
          "name": "stdout",
          "output_type": "stream",
          "text": [
            "Test Accuracy Score:  [0.78735632 0.79310345 0.71676301]\n"
          ]
        }
      ],
      "source": [
        "print(\"Test Accuracy Score: \", scores)"
      ]
    },
    {
      "cell_type": "code",
      "execution_count": null,
      "metadata": {
        "colab": {
          "background_save": true
        },
        "id": "WGgJJ_B9t0gV",
        "outputId": "200b1007-6d1d-46d2-cba5-14b6ec0c994f"
      },
      "outputs": [
        {
          "name": "stdout",
          "output_type": "stream",
          "text": [
            "Average CV Score:  0.7657409252984299\n",
            "Number of CV Scores used in Average:  3\n"
          ]
        }
      ],
      "source": [
        "print(\"Average CV Score: \", scores.mean())\n",
        "print(\"Number of CV Scores used in Average: \", len(scores))"
      ]
    },
    {
      "cell_type": "code",
      "execution_count": null,
      "metadata": {
        "colab": {
          "background_save": true
        },
        "id": "Rekl-JdfCBpQ"
      },
      "outputs": [],
      "source": [
        "sk_folds = StratifiedKFold(n_splits = 4)\n",
        "scores = cross_val_score(classifier, x_kc2, y_kc2, cv = sk_folds)"
      ]
    },
    {
      "cell_type": "code",
      "execution_count": null,
      "metadata": {
        "colab": {
          "background_save": true
        },
        "id": "nYCYJVZVCBpR",
        "outputId": "4db2838d-342f-4a0b-ebf5-0e4e75d8a19f"
      },
      "outputs": [
        {
          "name": "stdout",
          "output_type": "stream",
          "text": [
            "Test Accuracy Score:  [0.86259542 0.79230769 0.79230769 0.70769231]\n"
          ]
        }
      ],
      "source": [
        "print(\"Test Accuracy Score: \", scores)"
      ]
    },
    {
      "cell_type": "code",
      "execution_count": null,
      "metadata": {
        "colab": {
          "background_save": true
        },
        "id": "CqyJPi1at1Rc",
        "outputId": "a4a254d3-afa6-4db5-f53e-0ef0e76cce85"
      },
      "outputs": [
        {
          "name": "stdout",
          "output_type": "stream",
          "text": [
            "Average CV Score:  0.7887257780387551\n",
            "Number of CV Scores used in Average:  4\n"
          ]
        }
      ],
      "source": [
        "print(\"Average CV Score: \", scores.mean())\n",
        "print(\"Number of CV Scores used in Average: \", len(scores))"
      ]
    },
    {
      "cell_type": "code",
      "execution_count": null,
      "metadata": {
        "colab": {
          "background_save": true
        },
        "id": "kMYQMmvzCBpS"
      },
      "outputs": [],
      "source": [
        "sk_folds = StratifiedKFold(n_splits = 5)\n",
        "scores = cross_val_score(classifier, x_kc2, y_kc2, cv = sk_folds)"
      ]
    },
    {
      "cell_type": "code",
      "execution_count": null,
      "metadata": {
        "colab": {
          "background_save": true
        },
        "id": "WqJ6b9wOCBpS",
        "outputId": "6a549320-b0f3-4aa0-96a9-691d21e7fa7b"
      },
      "outputs": [
        {
          "name": "stdout",
          "output_type": "stream",
          "text": [
            "Test Accuracy Score:  [0.86666667 0.74038462 0.81730769 0.79807692 0.67307692]\n"
          ]
        }
      ],
      "source": [
        "print(\"Test Accuracy Score: \", scores)"
      ]
    },
    {
      "cell_type": "code",
      "execution_count": null,
      "metadata": {
        "colab": {
          "background_save": true
        },
        "id": "8cSwrloVt2Ne",
        "outputId": "c65e3872-f3d8-4ed4-fd5e-e006c22277f1"
      },
      "outputs": [
        {
          "name": "stdout",
          "output_type": "stream",
          "text": [
            "Average CV Score:  0.7791025641025643\n",
            "Number of CV Scores used in Average:  5\n"
          ]
        }
      ],
      "source": [
        "print(\"Average CV Score: \", scores.mean())\n",
        "print(\"Number of CV Scores used in Average: \", len(scores))"
      ]
    },
    {
      "cell_type": "code",
      "execution_count": null,
      "metadata": {
        "colab": {
          "background_save": true
        },
        "id": "WRzA5HhUCBpT"
      },
      "outputs": [],
      "source": [
        "sk_folds = StratifiedKFold(n_splits = 6)\n",
        "scores = cross_val_score(classifier, x_kc2, y_kc2, cv = sk_folds)"
      ]
    },
    {
      "cell_type": "code",
      "execution_count": null,
      "metadata": {
        "colab": {
          "background_save": true
        },
        "id": "UMY3NJ-KCBpT",
        "outputId": "ad8c5e31-c61d-43fb-d63e-25595e3f74ef"
      },
      "outputs": [
        {
          "name": "stdout",
          "output_type": "stream",
          "text": [
            "Test Accuracy Score:  [0.87356322 0.74712644 0.83908046 0.7816092  0.77011494 0.6627907 ]\n"
          ]
        }
      ],
      "source": [
        "print(\"Test Accuracy Score: \", scores)"
      ]
    },
    {
      "cell_type": "code",
      "execution_count": null,
      "metadata": {
        "colab": {
          "background_save": true
        },
        "id": "bbAGKZfvt38D",
        "outputId": "e5a9e3dd-7542-489f-bb50-3f4beb3d18fa"
      },
      "outputs": [
        {
          "name": "stdout",
          "output_type": "stream",
          "text": [
            "Average CV Score:  0.7790474917579969\n",
            "Number of CV Scores used in Average:  6\n"
          ]
        }
      ],
      "source": [
        "print(\"Average CV Score: \", scores.mean())\n",
        "print(\"Number of CV Scores used in Average: \", len(scores))"
      ]
    },
    {
      "cell_type": "code",
      "execution_count": null,
      "metadata": {
        "colab": {
          "background_save": true
        },
        "id": "27WUi35MCBpU"
      },
      "outputs": [],
      "source": [
        "sk_folds = StratifiedKFold(n_splits = 7)\n",
        "scores = cross_val_score(classifier, x_kc2, y_kc2, cv = sk_folds)"
      ]
    },
    {
      "cell_type": "code",
      "execution_count": null,
      "metadata": {
        "colab": {
          "background_save": true
        },
        "id": "yS_HJWB8CBpU",
        "outputId": "9dfe0d2b-dcfe-4fff-8cc6-caab60a275b9"
      },
      "outputs": [
        {
          "name": "stdout",
          "output_type": "stream",
          "text": [
            "Test Accuracy Score:  [0.89333333 0.81333333 0.8        0.85135135 0.82432432 0.71621622\n",
            " 0.66216216]\n"
          ]
        }
      ],
      "source": [
        "print(\"Test Accuracy Score: \", scores)"
      ]
    },
    {
      "cell_type": "code",
      "execution_count": null,
      "metadata": {
        "colab": {
          "background_save": true
        },
        "id": "YHko913Ht5FN",
        "outputId": "74f27d9c-9b96-4e6e-def8-59cce41f6824"
      },
      "outputs": [
        {
          "name": "stdout",
          "output_type": "stream",
          "text": [
            "Average CV Score:  0.7943886743886744\n",
            "Number of CV Scores used in Average:  7\n"
          ]
        }
      ],
      "source": [
        "print(\"Average CV Score: \", scores.mean())\n",
        "print(\"Number of CV Scores used in Average: \", len(scores))"
      ]
    },
    {
      "cell_type": "code",
      "execution_count": null,
      "metadata": {
        "colab": {
          "background_save": true
        },
        "id": "HCU_YRBlCBpV"
      },
      "outputs": [],
      "source": [
        "sk_folds = StratifiedKFold(n_splits = 8)\n",
        "scores = cross_val_score(classifier, x_kc2, y_kc2, cv = sk_folds)"
      ]
    },
    {
      "cell_type": "code",
      "execution_count": null,
      "metadata": {
        "colab": {
          "background_save": true
        },
        "id": "dBJe7mHUt7zW",
        "outputId": "f7d009ad-3fea-4252-f97e-a793cb25f1d7"
      },
      "outputs": [
        {
          "name": "stdout",
          "output_type": "stream",
          "text": [
            "Average CV Score:  0.7886946386946387\n",
            "Number of CV Scores used in Average:  8\n"
          ]
        }
      ],
      "source": [
        "print(\"Average CV Score: \", scores.mean())\n",
        "print(\"Number of CV Scores used in Average: \", len(scores))"
      ]
    },
    {
      "cell_type": "code",
      "execution_count": null,
      "metadata": {
        "colab": {
          "background_save": true
        },
        "id": "nZ3tjJGXCBpW"
      },
      "outputs": [],
      "source": [
        "sk_folds = StratifiedKFold(n_splits = 9)\n",
        "scores = cross_val_score(classifier, x_kc2, y_kc2, cv = sk_folds)"
      ]
    },
    {
      "cell_type": "code",
      "execution_count": null,
      "metadata": {
        "colab": {
          "background_save": true
        },
        "id": "VmlU3DQ6CBpW",
        "outputId": "3ca2d492-3193-4f26-8563-d8fad1c5efe8"
      },
      "outputs": [
        {
          "name": "stdout",
          "output_type": "stream",
          "text": [
            "Test Accuracy Score:  [0.87931034 0.89655172 0.62068966 0.84482759 0.82758621 0.82758621\n",
            " 0.75862069 0.70689655 0.77192982]\n",
            "Number of CV Scores used in Average:  9\n"
          ]
        }
      ],
      "source": [
        "print(\"Test Accuracy Score: \", scores)\n",
        "print(\"Number of CV Scores used in Average: \", len(scores))"
      ]
    },
    {
      "cell_type": "code",
      "execution_count": null,
      "metadata": {
        "colab": {
          "background_save": true
        },
        "id": "OVC_WH5lEg5i",
        "outputId": "51e9e230-ed94-49d1-dc11-e6c3c88c7d85"
      },
      "outputs": [
        {
          "data": {
            "text/plain": [
              "0.8002285411111111"
            ]
          },
          "execution_count": 1643,
          "metadata": {},
          "output_type": "execute_result"
        }
      ],
      "source": [
        "np.mean([0.89655172,0.9137931,0.65517241,0.86206897,0.82758621,0.81034483,0.79310345,0.72413793,0.71929825])"
      ]
    },
    {
      "cell_type": "code",
      "execution_count": null,
      "metadata": {
        "colab": {
          "background_save": true
        },
        "id": "MgiBTxobCBpX"
      },
      "outputs": [],
      "source": [
        "sk_folds = StratifiedKFold(n_splits = 10)\n",
        "scores = cross_val_score(classifier, x_kc2, y_kc2, cv = sk_folds)"
      ]
    },
    {
      "cell_type": "code",
      "execution_count": null,
      "metadata": {
        "colab": {
          "background_save": true
        },
        "id": "WiLp0UpQCBpX",
        "outputId": "a416a7b2-86c1-48b2-b18b-986682069b03"
      },
      "outputs": [
        {
          "name": "stdout",
          "output_type": "stream",
          "text": [
            "Test Accuracy Score:  [0.9245283  0.86538462 0.65384615 0.86538462 0.84615385 0.84615385\n",
            " 0.88461538 0.75       0.71153846 0.76923077]\n"
          ]
        }
      ],
      "source": [
        "print(\"Test Accuracy Score: \", scores)"
      ]
    },
    {
      "cell_type": "code",
      "execution_count": null,
      "metadata": {
        "colab": {
          "background_save": true
        },
        "id": "disBGrQtuBiu",
        "outputId": "7d678423-4fc6-4d04-d6fc-12545f6cf656"
      },
      "outputs": [
        {
          "name": "stdout",
          "output_type": "stream",
          "text": [
            "Average CV Score:  0.8116835994194485\n",
            "Number of CV Scores used in Average:  10\n"
          ]
        }
      ],
      "source": [
        "print(\"Average CV Score: \", scores.mean())\n",
        "print(\"Number of CV Scores used in Average: \", len(scores))"
      ]
    },
    {
      "cell_type": "markdown",
      "metadata": {
        "id": "MbVVGq8XhE4Q"
      },
      "source": [
        "##**Bagging**"
      ]
    },
    {
      "cell_type": "code",
      "execution_count": null,
      "metadata": {
        "colab": {
          "background_save": true
        },
        "id": "pVtX7uqEhJZ6",
        "outputId": "f86d482c-60e1-42e3-d39c-1844f18bdf0d"
      },
      "outputs": [
        {
          "data": {
            "text/plain": [
              "DecisionTreeClassifier(random_state=21)"
            ]
          },
          "execution_count": 1647,
          "metadata": {},
          "output_type": "execute_result"
        }
      ],
      "source": [
        "from sklearn.tree import DecisionTreeClassifier\n",
        "dtree = DecisionTreeClassifier(random_state=21)\n",
        "dtree.fit(x_train,y_train)"
      ]
    },
    {
      "cell_type": "code",
      "execution_count": null,
      "metadata": {
        "colab": {
          "background_save": true
        },
        "id": "Pwfy3qcOh456",
        "outputId": "400f3101-c31d-4a9f-ecdb-d6735e9b66b6"
      },
      "outputs": [
        {
          "name": "stdout",
          "output_type": "stream",
          "text": [
            "Train data accuracy: 0.9879807692307693\n",
            "Test data accuracy: 0.7333333333333333\n"
          ]
        }
      ],
      "source": [
        "y_pred = dtree.predict(x_test)\n",
        "\n",
        "print(\"Train data accuracy:\",accuracy_score(y_true = y_train, y_pred = dtree.predict(x_train)))\n",
        "print(\"Test data accuracy:\",accuracy_score(y_true = y_test, y_pred = y_pred))"
      ]
    },
    {
      "cell_type": "code",
      "execution_count": null,
      "metadata": {
        "colab": {
          "background_save": true
        },
        "id": "bv8NEJH1CD_R"
      },
      "outputs": [],
      "source": [
        "sk_folds = StratifiedKFold(n_splits = 2)\n",
        "scores = cross_val_score(classifier, x_kc2, y_kc2, cv = sk_folds)"
      ]
    },
    {
      "cell_type": "code",
      "execution_count": null,
      "metadata": {
        "colab": {
          "background_save": true
        },
        "id": "gk7PprpXCD_T",
        "outputId": "bdd10964-bab4-4bbd-a265-d5abcb238b11"
      },
      "outputs": [
        {
          "name": "stdout",
          "output_type": "stream",
          "text": [
            "Test Accuracy Score:  [0.7164751  0.78461538]\n"
          ]
        }
      ],
      "source": [
        "print(\"Test Accuracy Score: \", scores)"
      ]
    },
    {
      "cell_type": "code",
      "execution_count": null,
      "metadata": {
        "colab": {
          "background_save": true
        },
        "id": "RGMB1LYOuDE5",
        "outputId": "93f44d03-a3dd-4ac1-c654-9b4fbf772d32"
      },
      "outputs": [
        {
          "name": "stdout",
          "output_type": "stream",
          "text": [
            "Average CV Score:  0.7505452402004127\n",
            "Number of CV Scores used in Average:  2\n"
          ]
        }
      ],
      "source": [
        "print(\"Average CV Score: \", scores.mean())\n",
        "print(\"Number of CV Scores used in Average: \", len(scores))"
      ]
    },
    {
      "cell_type": "code",
      "execution_count": null,
      "metadata": {
        "colab": {
          "background_save": true
        },
        "id": "Te43ZSUSCD_T"
      },
      "outputs": [],
      "source": [
        "sk_folds = StratifiedKFold(n_splits = 3)\n",
        "scores = cross_val_score(classifier, x_kc2, y_kc2, cv = sk_folds)"
      ]
    },
    {
      "cell_type": "code",
      "execution_count": null,
      "metadata": {
        "colab": {
          "background_save": true
        },
        "id": "d36hum0TCD_U",
        "outputId": "5386e366-71fc-4ff9-a667-a2bd16821598"
      },
      "outputs": [
        {
          "name": "stdout",
          "output_type": "stream",
          "text": [
            "Test Accuracy Score:  [0.74137931 0.87356322 0.74566474]\n"
          ]
        }
      ],
      "source": [
        "print(\"Test Accuracy Score: \", scores)"
      ]
    },
    {
      "cell_type": "code",
      "execution_count": null,
      "metadata": {
        "colab": {
          "background_save": true
        },
        "id": "aK1ek3u4uEBt",
        "outputId": "7b2dba63-407a-4c29-d5aa-0ec9e4dd9b06"
      },
      "outputs": [
        {
          "name": "stdout",
          "output_type": "stream",
          "text": [
            "Average CV Score:  0.7868690895400084\n",
            "Number of CV Scores used in Average:  3\n"
          ]
        }
      ],
      "source": [
        "print(\"Average CV Score: \", scores.mean())\n",
        "print(\"Number of CV Scores used in Average: \", len(scores))"
      ]
    },
    {
      "cell_type": "code",
      "execution_count": null,
      "metadata": {
        "colab": {
          "background_save": true
        },
        "id": "9LBy6MZECD_U"
      },
      "outputs": [],
      "source": [
        "sk_folds = StratifiedKFold(n_splits = 4)\n",
        "scores = cross_val_score(classifier, x_kc2, y_kc2, cv = sk_folds)"
      ]
    },
    {
      "cell_type": "code",
      "execution_count": null,
      "metadata": {
        "colab": {
          "background_save": true
        },
        "id": "l6Rlvqz7CD_V",
        "outputId": "ccf2f732-db49-4e8b-9f4d-a3613b763a66"
      },
      "outputs": [
        {
          "name": "stdout",
          "output_type": "stream",
          "text": [
            "Test Accuracy Score:  [0.90839695 0.76153846 0.76923077 0.70769231]\n"
          ]
        }
      ],
      "source": [
        "print(\"Test Accuracy Score: \", scores)"
      ]
    },
    {
      "cell_type": "code",
      "execution_count": null,
      "metadata": {
        "colab": {
          "background_save": true
        },
        "id": "vTp7t20FuE5a",
        "outputId": "a0fce0de-caa1-47a1-d275-f91b2dff99c8"
      },
      "outputs": [
        {
          "name": "stdout",
          "output_type": "stream",
          "text": [
            "Average CV Score:  0.786714621256606\n",
            "Number of CV Scores used in Average:  4\n"
          ]
        }
      ],
      "source": [
        "print(\"Average CV Score: \", scores.mean())\n",
        "print(\"Number of CV Scores used in Average: \", len(scores))"
      ]
    },
    {
      "cell_type": "code",
      "execution_count": null,
      "metadata": {
        "colab": {
          "background_save": true
        },
        "id": "lV7Tu8UJCD_V"
      },
      "outputs": [],
      "source": [
        "sk_folds = StratifiedKFold(n_splits = 5)\n",
        "scores = cross_val_score(classifier, x_kc2, y_kc2, cv = sk_folds)"
      ]
    },
    {
      "cell_type": "code",
      "execution_count": null,
      "metadata": {
        "colab": {
          "background_save": true
        },
        "id": "3bxsvlwACD_W",
        "outputId": "099967d8-afd9-4952-eefc-2187f524dbf1"
      },
      "outputs": [
        {
          "name": "stdout",
          "output_type": "stream",
          "text": [
            "Test Accuracy Score:  [0.88571429 0.73076923 0.86538462 0.75961538 0.70192308]\n"
          ]
        }
      ],
      "source": [
        "print(\"Test Accuracy Score: \", scores)"
      ]
    },
    {
      "cell_type": "code",
      "execution_count": null,
      "metadata": {
        "colab": {
          "background_save": true
        },
        "id": "JqF2Di7vuHZ4",
        "outputId": "88bb6341-5cf3-44d0-c441-3bfcfa79add1"
      },
      "outputs": [
        {
          "name": "stdout",
          "output_type": "stream",
          "text": [
            "Average CV Score:  0.7886813186813187\n",
            "Number of CV Scores used in Average:  5\n"
          ]
        }
      ],
      "source": [
        "print(\"Average CV Score: \", scores.mean())\n",
        "print(\"Number of CV Scores used in Average: \", len(scores))"
      ]
    },
    {
      "cell_type": "code",
      "execution_count": null,
      "metadata": {
        "colab": {
          "background_save": true
        },
        "id": "XMx-SgGHCD_W"
      },
      "outputs": [],
      "source": [
        "sk_folds = StratifiedKFold(n_splits = 6)\n",
        "scores = cross_val_score(classifier, x_kc2, y_kc2, cv = sk_folds)"
      ]
    },
    {
      "cell_type": "code",
      "execution_count": null,
      "metadata": {
        "colab": {
          "background_save": true
        },
        "id": "2QskmjE5CD_X",
        "outputId": "c47f7f1d-6abb-4e57-89e0-bb1491d524d1"
      },
      "outputs": [
        {
          "name": "stdout",
          "output_type": "stream",
          "text": [
            "Test Accuracy Score:  [0.88505747 0.71264368 0.81609195 0.88505747 0.81609195 0.6744186 ]\n"
          ]
        }
      ],
      "source": [
        "print(\"Test Accuracy Score: \", scores)"
      ]
    },
    {
      "cell_type": "code",
      "execution_count": null,
      "metadata": {
        "colab": {
          "background_save": true
        },
        "id": "Rq7NRGXRuGzw",
        "outputId": "4436553a-cbfa-4cd3-cec1-3c34c9a44194"
      },
      "outputs": [
        {
          "name": "stdout",
          "output_type": "stream",
          "text": [
            "Average CV Score:  0.7982268555644659\n",
            "Number of CV Scores used in Average:  6\n"
          ]
        }
      ],
      "source": [
        "print(\"Average CV Score: \", scores.mean())\n",
        "print(\"Number of CV Scores used in Average: \", len(scores))"
      ]
    },
    {
      "cell_type": "code",
      "execution_count": null,
      "metadata": {
        "colab": {
          "background_save": true
        },
        "id": "3dpmneqaCD_X"
      },
      "outputs": [],
      "source": [
        "sk_folds = StratifiedKFold(n_splits = 7)\n",
        "scores = cross_val_score(classifier, x_kc2, y_kc2, cv = sk_folds)"
      ]
    },
    {
      "cell_type": "code",
      "execution_count": null,
      "metadata": {
        "colab": {
          "background_save": true
        },
        "id": "Tj5wsh5zCD_Y",
        "outputId": "3b6cef77-70e7-43b9-f88b-2efcc041c8e7"
      },
      "outputs": [
        {
          "name": "stdout",
          "output_type": "stream",
          "text": [
            "Test Accuracy Score:  [0.88       0.76       0.86666667 0.83783784 0.7972973  0.71621622\n",
            " 0.71621622]\n"
          ]
        }
      ],
      "source": [
        "print(\"Test Accuracy Score: \", scores)"
      ]
    },
    {
      "cell_type": "code",
      "execution_count": null,
      "metadata": {
        "colab": {
          "background_save": true
        },
        "id": "meJdsqXouF3C",
        "outputId": "ae4e3bec-0ab3-4fb3-b786-6c5e2312b3fe"
      },
      "outputs": [
        {
          "name": "stdout",
          "output_type": "stream",
          "text": [
            "Average CV Score:  0.7963191763191764\n",
            "Number of CV Scores used in Average:  7\n"
          ]
        }
      ],
      "source": [
        "print(\"Average CV Score: \", scores.mean())\n",
        "print(\"Number of CV Scores used in Average: \", len(scores))"
      ]
    },
    {
      "cell_type": "code",
      "execution_count": null,
      "metadata": {
        "colab": {
          "background_save": true
        },
        "id": "zpIt6lctCD_Z"
      },
      "outputs": [],
      "source": [
        "sk_folds = StratifiedKFold(n_splits = 8)\n",
        "scores = cross_val_score(classifier, x_kc2, y_kc2, cv = sk_folds)"
      ]
    },
    {
      "cell_type": "code",
      "execution_count": null,
      "metadata": {
        "colab": {
          "background_save": true
        },
        "id": "WKJNvsNAuIrM",
        "outputId": "9b6b7d50-5b77-4770-c62c-d95ca0c909e5"
      },
      "outputs": [
        {
          "name": "stdout",
          "output_type": "stream",
          "text": [
            "Average CV Score:  0.7963578088578089\n",
            "Number of CV Scores used in Average:  8\n"
          ]
        }
      ],
      "source": [
        "print(\"Average CV Score: \", scores.mean())\n",
        "print(\"Number of CV Scores used in Average: \", len(scores))"
      ]
    },
    {
      "cell_type": "code",
      "execution_count": null,
      "metadata": {
        "colab": {
          "background_save": true
        },
        "id": "qWz-47-ECD_Z"
      },
      "outputs": [],
      "source": [
        "sk_folds = StratifiedKFold(n_splits = 9)\n",
        "scores = cross_val_score(classifier, x_kc2, y_kc2, cv = sk_folds)"
      ]
    },
    {
      "cell_type": "code",
      "execution_count": null,
      "metadata": {
        "colab": {
          "background_save": true
        },
        "id": "wcHYDVKrCD_a",
        "outputId": "3e848901-16d2-4317-b935-83c56ba7e4e8"
      },
      "outputs": [
        {
          "name": "stdout",
          "output_type": "stream",
          "text": [
            "Average CV Score:  0.8118572292800968\n",
            "Test Accuracy Score:  [0.93103448 0.89655172 0.65517241 0.84482759 0.84482759 0.84482759\n",
            " 0.79310345 0.70689655 0.78947368]\n"
          ]
        }
      ],
      "source": [
        "print(\"Average CV Score: \", scores.mean())\n",
        "print(\"Test Accuracy Score: \", scores)"
      ]
    },
    {
      "cell_type": "code",
      "execution_count": null,
      "metadata": {
        "colab": {
          "background_save": true
        },
        "id": "7uWEtM21CD_a"
      },
      "outputs": [],
      "source": [
        "sk_folds = StratifiedKFold(n_splits = 10)\n",
        "scores = cross_val_score(classifier, x_kc2, y_kc2, cv = sk_folds)"
      ]
    },
    {
      "cell_type": "code",
      "execution_count": null,
      "metadata": {
        "colab": {
          "background_save": true
        },
        "id": "FTVyIqKJCD_b",
        "outputId": "ca629b14-492d-4cfc-ae8d-6b6a9dc16fd4"
      },
      "outputs": [
        {
          "name": "stdout",
          "output_type": "stream",
          "text": [
            "Test Accuracy Score:  [0.88679245 0.86538462 0.65384615 0.80769231 0.80769231 0.84615385\n",
            " 0.78846154 0.73076923 0.65384615 0.71153846]\n"
          ]
        }
      ],
      "source": [
        "print(\"Test Accuracy Score: \", scores)"
      ]
    },
    {
      "cell_type": "code",
      "execution_count": null,
      "metadata": {
        "colab": {
          "background_save": true
        },
        "id": "BCisVjaMuJ1G",
        "outputId": "41c19734-d2b0-4e38-bf70-363a1562168e"
      },
      "outputs": [
        {
          "name": "stdout",
          "output_type": "stream",
          "text": [
            "Average CV Score:  0.7752177068214805\n",
            "Number of CV Scores used in Average:  10\n"
          ]
        }
      ],
      "source": [
        "print(\"Average CV Score: \", scores.mean())\n",
        "print(\"Number of CV Scores used in Average: \", len(scores))"
      ]
    },
    {
      "cell_type": "markdown",
      "metadata": {
        "id": "K21eL3UAi8WL"
      },
      "source": [
        "#**kc1 Dataset**"
      ]
    },
    {
      "cell_type": "code",
      "execution_count": null,
      "metadata": {
        "colab": {
          "background_save": true
        },
        "id": "9mtFFI0MjHE2",
        "outputId": "6b739030-ace8-4080-d1dd-b7f5b189ff1b"
      },
      "outputs": [
        {
          "data": {
            "text/html": [
              "\n",
              "  <div id=\"df-9058eca6-1998-43e1-b344-689fc7f12161\">\n",
              "    <div class=\"colab-df-container\">\n",
              "      <div>\n",
              "<style scoped>\n",
              "    .dataframe tbody tr th:only-of-type {\n",
              "        vertical-align: middle;\n",
              "    }\n",
              "\n",
              "    .dataframe tbody tr th {\n",
              "        vertical-align: top;\n",
              "    }\n",
              "\n",
              "    .dataframe thead th {\n",
              "        text-align: right;\n",
              "    }\n",
              "</style>\n",
              "<table border=\"1\" class=\"dataframe\">\n",
              "  <thead>\n",
              "    <tr style=\"text-align: right;\">\n",
              "      <th></th>\n",
              "      <th>l_count</th>\n",
              "      <th>cyclomatic_complexity</th>\n",
              "      <th>essential_complexity</th>\n",
              "      <th>design_complexity</th>\n",
              "      <th>n</th>\n",
              "      <th>v</th>\n",
              "      <th>l</th>\n",
              "      <th>d</th>\n",
              "      <th>i</th>\n",
              "      <th>e</th>\n",
              "      <th>...</th>\n",
              "      <th>lOCode</th>\n",
              "      <th>lOComment</th>\n",
              "      <th>lOBlank</th>\n",
              "      <th>lOCodeAndComment</th>\n",
              "      <th>uniq_Op</th>\n",
              "      <th>uniq_Opnd</th>\n",
              "      <th>total_Op</th>\n",
              "      <th>total_Opnd</th>\n",
              "      <th>branchCount</th>\n",
              "      <th>problems</th>\n",
              "    </tr>\n",
              "  </thead>\n",
              "  <tbody>\n",
              "    <tr>\n",
              "      <th>0</th>\n",
              "      <td>1</td>\n",
              "      <td>1</td>\n",
              "      <td>1</td>\n",
              "      <td>1</td>\n",
              "      <td>1</td>\n",
              "      <td>1.00</td>\n",
              "      <td>1.00</td>\n",
              "      <td>1.00</td>\n",
              "      <td>1.00</td>\n",
              "      <td>1.00</td>\n",
              "      <td>...</td>\n",
              "      <td>1</td>\n",
              "      <td>1</td>\n",
              "      <td>1</td>\n",
              "      <td>1</td>\n",
              "      <td>1</td>\n",
              "      <td>1</td>\n",
              "      <td>1</td>\n",
              "      <td>1</td>\n",
              "      <td>1</td>\n",
              "      <td>True</td>\n",
              "    </tr>\n",
              "    <tr>\n",
              "      <th>1</th>\n",
              "      <td>83</td>\n",
              "      <td>11</td>\n",
              "      <td>1</td>\n",
              "      <td>11</td>\n",
              "      <td>171</td>\n",
              "      <td>927.89</td>\n",
              "      <td>0.04</td>\n",
              "      <td>23.04</td>\n",
              "      <td>40.27</td>\n",
              "      <td>21378.61</td>\n",
              "      <td>...</td>\n",
              "      <td>65</td>\n",
              "      <td>10</td>\n",
              "      <td>6</td>\n",
              "      <td>0</td>\n",
              "      <td>18</td>\n",
              "      <td>25</td>\n",
              "      <td>107</td>\n",
              "      <td>64</td>\n",
              "      <td>21</td>\n",
              "      <td>True</td>\n",
              "    </tr>\n",
              "    <tr>\n",
              "      <th>2</th>\n",
              "      <td>46</td>\n",
              "      <td>8</td>\n",
              "      <td>6</td>\n",
              "      <td>8</td>\n",
              "      <td>141</td>\n",
              "      <td>769.78</td>\n",
              "      <td>0.07</td>\n",
              "      <td>14.86</td>\n",
              "      <td>51.81</td>\n",
              "      <td>11436.73</td>\n",
              "      <td>...</td>\n",
              "      <td>37</td>\n",
              "      <td>2</td>\n",
              "      <td>5</td>\n",
              "      <td>0</td>\n",
              "      <td>16</td>\n",
              "      <td>28</td>\n",
              "      <td>89</td>\n",
              "      <td>52</td>\n",
              "      <td>15</td>\n",
              "      <td>True</td>\n",
              "    </tr>\n",
              "    <tr>\n",
              "      <th>3</th>\n",
              "      <td>25</td>\n",
              "      <td>3</td>\n",
              "      <td>1</td>\n",
              "      <td>3</td>\n",
              "      <td>58</td>\n",
              "      <td>254.75</td>\n",
              "      <td>0.11</td>\n",
              "      <td>9.35</td>\n",
              "      <td>27.25</td>\n",
              "      <td>2381.95</td>\n",
              "      <td>...</td>\n",
              "      <td>21</td>\n",
              "      <td>0</td>\n",
              "      <td>2</td>\n",
              "      <td>0</td>\n",
              "      <td>11</td>\n",
              "      <td>10</td>\n",
              "      <td>41</td>\n",
              "      <td>17</td>\n",
              "      <td>5</td>\n",
              "      <td>True</td>\n",
              "    </tr>\n",
              "    <tr>\n",
              "      <th>4</th>\n",
              "      <td>43</td>\n",
              "      <td>3</td>\n",
              "      <td>1</td>\n",
              "      <td>3</td>\n",
              "      <td>115</td>\n",
              "      <td>569.73</td>\n",
              "      <td>0.09</td>\n",
              "      <td>11.27</td>\n",
              "      <td>50.53</td>\n",
              "      <td>6423.73</td>\n",
              "      <td>...</td>\n",
              "      <td>35</td>\n",
              "      <td>2</td>\n",
              "      <td>4</td>\n",
              "      <td>0</td>\n",
              "      <td>11</td>\n",
              "      <td>20</td>\n",
              "      <td>74</td>\n",
              "      <td>41</td>\n",
              "      <td>5</td>\n",
              "      <td>True</td>\n",
              "    </tr>\n",
              "    <tr>\n",
              "      <th>...</th>\n",
              "      <td>...</td>\n",
              "      <td>...</td>\n",
              "      <td>...</td>\n",
              "      <td>...</td>\n",
              "      <td>...</td>\n",
              "      <td>...</td>\n",
              "      <td>...</td>\n",
              "      <td>...</td>\n",
              "      <td>...</td>\n",
              "      <td>...</td>\n",
              "      <td>...</td>\n",
              "      <td>...</td>\n",
              "      <td>...</td>\n",
              "      <td>...</td>\n",
              "      <td>...</td>\n",
              "      <td>...</td>\n",
              "      <td>...</td>\n",
              "      <td>...</td>\n",
              "      <td>...</td>\n",
              "      <td>...</td>\n",
              "      <td>...</td>\n",
              "    </tr>\n",
              "    <tr>\n",
              "      <th>2103</th>\n",
              "      <td>19</td>\n",
              "      <td>2</td>\n",
              "      <td>1</td>\n",
              "      <td>2</td>\n",
              "      <td>40</td>\n",
              "      <td>175.69</td>\n",
              "      <td>0.15</td>\n",
              "      <td>6.82</td>\n",
              "      <td>25.77</td>\n",
              "      <td>1197.90</td>\n",
              "      <td>...</td>\n",
              "      <td>12</td>\n",
              "      <td>1</td>\n",
              "      <td>2</td>\n",
              "      <td>0</td>\n",
              "      <td>10</td>\n",
              "      <td>11</td>\n",
              "      <td>25</td>\n",
              "      <td>15</td>\n",
              "      <td>3</td>\n",
              "      <td>False</td>\n",
              "    </tr>\n",
              "    <tr>\n",
              "      <th>2104</th>\n",
              "      <td>23</td>\n",
              "      <td>3</td>\n",
              "      <td>3</td>\n",
              "      <td>3</td>\n",
              "      <td>60</td>\n",
              "      <td>278.63</td>\n",
              "      <td>0.10</td>\n",
              "      <td>9.69</td>\n",
              "      <td>28.75</td>\n",
              "      <td>2700.58</td>\n",
              "      <td>...</td>\n",
              "      <td>18</td>\n",
              "      <td>1</td>\n",
              "      <td>2</td>\n",
              "      <td>0</td>\n",
              "      <td>12</td>\n",
              "      <td>13</td>\n",
              "      <td>39</td>\n",
              "      <td>21</td>\n",
              "      <td>5</td>\n",
              "      <td>False</td>\n",
              "    </tr>\n",
              "    <tr>\n",
              "      <th>2105</th>\n",
              "      <td>2</td>\n",
              "      <td>1</td>\n",
              "      <td>1</td>\n",
              "      <td>1</td>\n",
              "      <td>4</td>\n",
              "      <td>8.00</td>\n",
              "      <td>0.67</td>\n",
              "      <td>1.50</td>\n",
              "      <td>5.33</td>\n",
              "      <td>12.00</td>\n",
              "      <td>...</td>\n",
              "      <td>0</td>\n",
              "      <td>0</td>\n",
              "      <td>0</td>\n",
              "      <td>0</td>\n",
              "      <td>3</td>\n",
              "      <td>1</td>\n",
              "      <td>3</td>\n",
              "      <td>1</td>\n",
              "      <td>1</td>\n",
              "      <td>False</td>\n",
              "    </tr>\n",
              "    <tr>\n",
              "      <th>2106</th>\n",
              "      <td>13</td>\n",
              "      <td>1</td>\n",
              "      <td>1</td>\n",
              "      <td>1</td>\n",
              "      <td>17</td>\n",
              "      <td>60.94</td>\n",
              "      <td>0.25</td>\n",
              "      <td>4.00</td>\n",
              "      <td>15.24</td>\n",
              "      <td>243.78</td>\n",
              "      <td>...</td>\n",
              "      <td>6</td>\n",
              "      <td>0</td>\n",
              "      <td>5</td>\n",
              "      <td>0</td>\n",
              "      <td>6</td>\n",
              "      <td>6</td>\n",
              "      <td>9</td>\n",
              "      <td>8</td>\n",
              "      <td>1</td>\n",
              "      <td>False</td>\n",
              "    </tr>\n",
              "    <tr>\n",
              "      <th>2107</th>\n",
              "      <td>11</td>\n",
              "      <td>2</td>\n",
              "      <td>1</td>\n",
              "      <td>2</td>\n",
              "      <td>27</td>\n",
              "      <td>102.80</td>\n",
              "      <td>0.17</td>\n",
              "      <td>6.00</td>\n",
              "      <td>17.13</td>\n",
              "      <td>616.79</td>\n",
              "      <td>...</td>\n",
              "      <td>9</td>\n",
              "      <td>0</td>\n",
              "      <td>0</td>\n",
              "      <td>0</td>\n",
              "      <td>8</td>\n",
              "      <td>6</td>\n",
              "      <td>18</td>\n",
              "      <td>9</td>\n",
              "      <td>3</td>\n",
              "      <td>False</td>\n",
              "    </tr>\n",
              "  </tbody>\n",
              "</table>\n",
              "<p>2108 rows × 22 columns</p>\n",
              "</div>\n",
              "      <button class=\"colab-df-convert\" onclick=\"convertToInteractive('df-9058eca6-1998-43e1-b344-689fc7f12161')\"\n",
              "              title=\"Convert this dataframe to an interactive table.\"\n",
              "              style=\"display:none;\">\n",
              "        \n",
              "  <svg xmlns=\"http://www.w3.org/2000/svg\" height=\"24px\"viewBox=\"0 0 24 24\"\n",
              "       width=\"24px\">\n",
              "    <path d=\"M0 0h24v24H0V0z\" fill=\"none\"/>\n",
              "    <path d=\"M18.56 5.44l.94 2.06.94-2.06 2.06-.94-2.06-.94-.94-2.06-.94 2.06-2.06.94zm-11 1L8.5 8.5l.94-2.06 2.06-.94-2.06-.94L8.5 2.5l-.94 2.06-2.06.94zm10 10l.94 2.06.94-2.06 2.06-.94-2.06-.94-.94-2.06-.94 2.06-2.06.94z\"/><path d=\"M17.41 7.96l-1.37-1.37c-.4-.4-.92-.59-1.43-.59-.52 0-1.04.2-1.43.59L10.3 9.45l-7.72 7.72c-.78.78-.78 2.05 0 2.83L4 21.41c.39.39.9.59 1.41.59.51 0 1.02-.2 1.41-.59l7.78-7.78 2.81-2.81c.8-.78.8-2.07 0-2.86zM5.41 20L4 18.59l7.72-7.72 1.47 1.35L5.41 20z\"/>\n",
              "  </svg>\n",
              "      </button>\n",
              "      \n",
              "  <style>\n",
              "    .colab-df-container {\n",
              "      display:flex;\n",
              "      flex-wrap:wrap;\n",
              "      gap: 12px;\n",
              "    }\n",
              "\n",
              "    .colab-df-convert {\n",
              "      background-color: #E8F0FE;\n",
              "      border: none;\n",
              "      border-radius: 50%;\n",
              "      cursor: pointer;\n",
              "      display: none;\n",
              "      fill: #1967D2;\n",
              "      height: 32px;\n",
              "      padding: 0 0 0 0;\n",
              "      width: 32px;\n",
              "    }\n",
              "\n",
              "    .colab-df-convert:hover {\n",
              "      background-color: #E2EBFA;\n",
              "      box-shadow: 0px 1px 2px rgba(60, 64, 67, 0.3), 0px 1px 3px 1px rgba(60, 64, 67, 0.15);\n",
              "      fill: #174EA6;\n",
              "    }\n",
              "\n",
              "    [theme=dark] .colab-df-convert {\n",
              "      background-color: #3B4455;\n",
              "      fill: #D2E3FC;\n",
              "    }\n",
              "\n",
              "    [theme=dark] .colab-df-convert:hover {\n",
              "      background-color: #434B5C;\n",
              "      box-shadow: 0px 1px 3px 1px rgba(0, 0, 0, 0.15);\n",
              "      filter: drop-shadow(0px 1px 2px rgba(0, 0, 0, 0.3));\n",
              "      fill: #FFFFFF;\n",
              "    }\n",
              "  </style>\n",
              "\n",
              "      <script>\n",
              "        const buttonEl =\n",
              "          document.querySelector('#df-9058eca6-1998-43e1-b344-689fc7f12161 button.colab-df-convert');\n",
              "        buttonEl.style.display =\n",
              "          google.colab.kernel.accessAllowed ? 'block' : 'none';\n",
              "\n",
              "        async function convertToInteractive(key) {\n",
              "          const element = document.querySelector('#df-9058eca6-1998-43e1-b344-689fc7f12161');\n",
              "          const dataTable =\n",
              "            await google.colab.kernel.invokeFunction('convertToInteractive',\n",
              "                                                     [key], {});\n",
              "          if (!dataTable) return;\n",
              "\n",
              "          const docLinkHtml = 'Like what you see? Visit the ' +\n",
              "            '<a target=\"_blank\" href=https://colab.research.google.com/notebooks/data_table.ipynb>data table notebook</a>'\n",
              "            + ' to learn more about interactive tables.';\n",
              "          element.innerHTML = '';\n",
              "          dataTable['output_type'] = 'display_data';\n",
              "          await google.colab.output.renderOutput(dataTable, element);\n",
              "          const docLink = document.createElement('div');\n",
              "          docLink.innerHTML = docLinkHtml;\n",
              "          element.appendChild(docLink);\n",
              "        }\n",
              "      </script>\n",
              "    </div>\n",
              "  </div>\n",
              "  "
            ],
            "text/plain": [
              "      l_count  cyclomatic_complexity  essential_complexity  design_complexity  \\\n",
              "0           1                      1                     1                  1   \n",
              "1          83                     11                     1                 11   \n",
              "2          46                      8                     6                  8   \n",
              "3          25                      3                     1                  3   \n",
              "4          43                      3                     1                  3   \n",
              "...       ...                    ...                   ...                ...   \n",
              "2103       19                      2                     1                  2   \n",
              "2104       23                      3                     3                  3   \n",
              "2105        2                      1                     1                  1   \n",
              "2106       13                      1                     1                  1   \n",
              "2107       11                      2                     1                  2   \n",
              "\n",
              "        n       v     l      d      i         e  ...  lOCode  lOComment  \\\n",
              "0       1    1.00  1.00   1.00   1.00      1.00  ...       1          1   \n",
              "1     171  927.89  0.04  23.04  40.27  21378.61  ...      65         10   \n",
              "2     141  769.78  0.07  14.86  51.81  11436.73  ...      37          2   \n",
              "3      58  254.75  0.11   9.35  27.25   2381.95  ...      21          0   \n",
              "4     115  569.73  0.09  11.27  50.53   6423.73  ...      35          2   \n",
              "...   ...     ...   ...    ...    ...       ...  ...     ...        ...   \n",
              "2103   40  175.69  0.15   6.82  25.77   1197.90  ...      12          1   \n",
              "2104   60  278.63  0.10   9.69  28.75   2700.58  ...      18          1   \n",
              "2105    4    8.00  0.67   1.50   5.33     12.00  ...       0          0   \n",
              "2106   17   60.94  0.25   4.00  15.24    243.78  ...       6          0   \n",
              "2107   27  102.80  0.17   6.00  17.13    616.79  ...       9          0   \n",
              "\n",
              "      lOBlank  lOCodeAndComment  uniq_Op  uniq_Opnd  total_Op  total_Opnd  \\\n",
              "0           1                 1        1          1         1           1   \n",
              "1           6                 0       18         25       107          64   \n",
              "2           5                 0       16         28        89          52   \n",
              "3           2                 0       11         10        41          17   \n",
              "4           4                 0       11         20        74          41   \n",
              "...       ...               ...      ...        ...       ...         ...   \n",
              "2103        2                 0       10         11        25          15   \n",
              "2104        2                 0       12         13        39          21   \n",
              "2105        0                 0        3          1         3           1   \n",
              "2106        5                 0        6          6         9           8   \n",
              "2107        0                 0        8          6        18           9   \n",
              "\n",
              "      branchCount  problems  \n",
              "0               1      True  \n",
              "1              21      True  \n",
              "2              15      True  \n",
              "3               5      True  \n",
              "4               5      True  \n",
              "...           ...       ...  \n",
              "2103            3     False  \n",
              "2104            5     False  \n",
              "2105            1     False  \n",
              "2106            1     False  \n",
              "2107            3     False  \n",
              "\n",
              "[2108 rows x 22 columns]"
            ]
          },
          "execution_count": 1674,
          "metadata": {},
          "output_type": "execute_result"
        }
      ],
      "source": [
        "kc1_df"
      ]
    },
    {
      "cell_type": "markdown",
      "metadata": {
        "id": "1sbjp2Et0HSm"
      },
      "source": [
        "####**Spiliting Dataset**\n",
        "training: 80% testing:20%"
      ]
    },
    {
      "cell_type": "code",
      "execution_count": null,
      "metadata": {
        "colab": {
          "background_save": true
        },
        "id": "gVF_Zy-y0HSm"
      },
      "outputs": [],
      "source": [
        "x = kc1_df.iloc[:,:-1]\n",
        "y = kc1_df.iloc[:,-1]\n",
        "\n",
        "from sklearn.model_selection import train_test_split\n",
        "x_train, x_test, y_train, y_test = train_test_split(x,y,test_size=0.20,random_state=0, stratify=kc1_df.problems)\n",
        "\n",
        "from sklearn.preprocessing import StandardScaler    \n",
        "st_x= StandardScaler()    \n",
        "x_train= st_x.fit_transform(x_train)    \n",
        "x_test= st_x.transform(x_test)  "
      ]
    },
    {
      "cell_type": "markdown",
      "metadata": {
        "id": "aKFHpqeA0HSn"
      },
      "source": [
        "###**Logistic Regression**"
      ]
    },
    {
      "cell_type": "code",
      "execution_count": null,
      "metadata": {
        "colab": {
          "background_save": true
        },
        "id": "PdWg4ydf0HSn",
        "outputId": "a2b6d646-b8dd-4298-f46f-fc7667db7c46"
      },
      "outputs": [
        {
          "name": "stdout",
          "output_type": "stream",
          "text": [
            "Test Accuracy Score:  0.8601895734597157\n",
            "Confusion Matrix: \n",
            " [[350   7]\n",
            " [ 52  13]]\n"
          ]
        }
      ],
      "source": [
        "from sklearn.linear_model import LogisticRegression  \n",
        "classifier= LogisticRegression(random_state=0)  \n",
        "classifier.fit(x_train, y_train) \n",
        "\n",
        "y_pred= classifier.predict(x_test)\n",
        "\n",
        "score_ = accuracy_score(y_test, y_pred)\n",
        "print(\"Test Accuracy Score: \", score_)\n",
        "\n",
        "from sklearn.metrics import confusion_matrix  \n",
        "cm= confusion_matrix(y_test,y_pred)\n",
        "print(\"Confusion Matrix: \\n\",cm)"
      ]
    },
    {
      "cell_type": "code",
      "execution_count": null,
      "metadata": {
        "colab": {
          "background_save": true
        },
        "id": "ZOSg33KKCGqU",
        "outputId": "4a6b4101-90ca-4844-d6f0-61bbb084d583"
      },
      "outputs": [
        {
          "name": "stderr",
          "output_type": "stream",
          "text": [
            "/usr/local/lib/python3.8/dist-packages/sklearn/linear_model/_logistic.py:814: ConvergenceWarning: lbfgs failed to converge (status=1):\n",
            "STOP: TOTAL NO. of ITERATIONS REACHED LIMIT.\n",
            "\n",
            "Increase the number of iterations (max_iter) or scale the data as shown in:\n",
            "    https://scikit-learn.org/stable/modules/preprocessing.html\n",
            "Please also refer to the documentation for alternative solver options:\n",
            "    https://scikit-learn.org/stable/modules/linear_model.html#logistic-regression\n",
            "  n_iter_i = _check_optimize_result(\n",
            "/usr/local/lib/python3.8/dist-packages/sklearn/linear_model/_logistic.py:814: ConvergenceWarning: lbfgs failed to converge (status=1):\n",
            "STOP: TOTAL NO. of ITERATIONS REACHED LIMIT.\n",
            "\n",
            "Increase the number of iterations (max_iter) or scale the data as shown in:\n",
            "    https://scikit-learn.org/stable/modules/preprocessing.html\n",
            "Please also refer to the documentation for alternative solver options:\n",
            "    https://scikit-learn.org/stable/modules/linear_model.html#logistic-regression\n",
            "  n_iter_i = _check_optimize_result(\n"
          ]
        }
      ],
      "source": [
        "sk_folds = StratifiedKFold(n_splits = 2)\n",
        "scores = cross_val_score(classifier, x, y, cv = sk_folds)"
      ]
    },
    {
      "cell_type": "code",
      "execution_count": null,
      "metadata": {
        "colab": {
          "background_save": true
        },
        "id": "k98-wgpCCGqV",
        "outputId": "1d98b6a9-b38d-43d7-bf11-47e7ef71ffb4"
      },
      "outputs": [
        {
          "name": "stdout",
          "output_type": "stream",
          "text": [
            "Average CV Score:  0.8534155597722961\n",
            "Test Accuracy Score:  [0.84345351 0.86337761]\n"
          ]
        }
      ],
      "source": [
        "print(\"Average CV Score: \", scores.mean())\n",
        "print(\"Test Accuracy Score: \", scores)"
      ]
    },
    {
      "cell_type": "code",
      "execution_count": null,
      "metadata": {
        "colab": {
          "background_save": true
        },
        "id": "v8ITy1-RCGqW",
        "outputId": "746b3f69-5ceb-4b1b-a485-6b9dacac02a3"
      },
      "outputs": [
        {
          "name": "stderr",
          "output_type": "stream",
          "text": [
            "/usr/local/lib/python3.8/dist-packages/sklearn/linear_model/_logistic.py:814: ConvergenceWarning: lbfgs failed to converge (status=1):\n",
            "STOP: TOTAL NO. of ITERATIONS REACHED LIMIT.\n",
            "\n",
            "Increase the number of iterations (max_iter) or scale the data as shown in:\n",
            "    https://scikit-learn.org/stable/modules/preprocessing.html\n",
            "Please also refer to the documentation for alternative solver options:\n",
            "    https://scikit-learn.org/stable/modules/linear_model.html#logistic-regression\n",
            "  n_iter_i = _check_optimize_result(\n",
            "/usr/local/lib/python3.8/dist-packages/sklearn/linear_model/_logistic.py:814: ConvergenceWarning: lbfgs failed to converge (status=1):\n",
            "STOP: TOTAL NO. of ITERATIONS REACHED LIMIT.\n",
            "\n",
            "Increase the number of iterations (max_iter) or scale the data as shown in:\n",
            "    https://scikit-learn.org/stable/modules/preprocessing.html\n",
            "Please also refer to the documentation for alternative solver options:\n",
            "    https://scikit-learn.org/stable/modules/linear_model.html#logistic-regression\n",
            "  n_iter_i = _check_optimize_result(\n",
            "/usr/local/lib/python3.8/dist-packages/sklearn/linear_model/_logistic.py:814: ConvergenceWarning: lbfgs failed to converge (status=1):\n",
            "STOP: TOTAL NO. of ITERATIONS REACHED LIMIT.\n",
            "\n",
            "Increase the number of iterations (max_iter) or scale the data as shown in:\n",
            "    https://scikit-learn.org/stable/modules/preprocessing.html\n",
            "Please also refer to the documentation for alternative solver options:\n",
            "    https://scikit-learn.org/stable/modules/linear_model.html#logistic-regression\n",
            "  n_iter_i = _check_optimize_result(\n"
          ]
        }
      ],
      "source": [
        "sk_folds = StratifiedKFold(n_splits = 3)\n",
        "scores = cross_val_score(classifier, x, y, cv = sk_folds)"
      ]
    },
    {
      "cell_type": "code",
      "execution_count": null,
      "metadata": {
        "colab": {
          "background_save": true
        },
        "id": "uekvJnp1CGqX",
        "outputId": "766d70cf-d723-4bee-e16d-72da9aef4643"
      },
      "outputs": [
        {
          "name": "stdout",
          "output_type": "stream",
          "text": [
            "Average CV Score:  0.8434615452159312\n",
            "Test Accuracy Score:  [0.83641536 0.83357041 0.86039886]\n"
          ]
        }
      ],
      "source": [
        "print(\"Average CV Score: \", scores.mean())\n",
        "print(\"Test Accuracy Score: \", scores)"
      ]
    },
    {
      "cell_type": "code",
      "execution_count": null,
      "metadata": {
        "colab": {
          "background_save": true
        },
        "id": "xDNWCayCCGqX",
        "outputId": "d84439b3-46d6-46d5-81c3-3be385701ac5"
      },
      "outputs": [
        {
          "name": "stderr",
          "output_type": "stream",
          "text": [
            "/usr/local/lib/python3.8/dist-packages/sklearn/linear_model/_logistic.py:814: ConvergenceWarning: lbfgs failed to converge (status=1):\n",
            "STOP: TOTAL NO. of ITERATIONS REACHED LIMIT.\n",
            "\n",
            "Increase the number of iterations (max_iter) or scale the data as shown in:\n",
            "    https://scikit-learn.org/stable/modules/preprocessing.html\n",
            "Please also refer to the documentation for alternative solver options:\n",
            "    https://scikit-learn.org/stable/modules/linear_model.html#logistic-regression\n",
            "  n_iter_i = _check_optimize_result(\n",
            "/usr/local/lib/python3.8/dist-packages/sklearn/linear_model/_logistic.py:814: ConvergenceWarning: lbfgs failed to converge (status=1):\n",
            "STOP: TOTAL NO. of ITERATIONS REACHED LIMIT.\n",
            "\n",
            "Increase the number of iterations (max_iter) or scale the data as shown in:\n",
            "    https://scikit-learn.org/stable/modules/preprocessing.html\n",
            "Please also refer to the documentation for alternative solver options:\n",
            "    https://scikit-learn.org/stable/modules/linear_model.html#logistic-regression\n",
            "  n_iter_i = _check_optimize_result(\n",
            "/usr/local/lib/python3.8/dist-packages/sklearn/linear_model/_logistic.py:814: ConvergenceWarning: lbfgs failed to converge (status=1):\n",
            "STOP: TOTAL NO. of ITERATIONS REACHED LIMIT.\n",
            "\n",
            "Increase the number of iterations (max_iter) or scale the data as shown in:\n",
            "    https://scikit-learn.org/stable/modules/preprocessing.html\n",
            "Please also refer to the documentation for alternative solver options:\n",
            "    https://scikit-learn.org/stable/modules/linear_model.html#logistic-regression\n",
            "  n_iter_i = _check_optimize_result(\n",
            "/usr/local/lib/python3.8/dist-packages/sklearn/linear_model/_logistic.py:814: ConvergenceWarning: lbfgs failed to converge (status=1):\n",
            "STOP: TOTAL NO. of ITERATIONS REACHED LIMIT.\n",
            "\n",
            "Increase the number of iterations (max_iter) or scale the data as shown in:\n",
            "    https://scikit-learn.org/stable/modules/preprocessing.html\n",
            "Please also refer to the documentation for alternative solver options:\n",
            "    https://scikit-learn.org/stable/modules/linear_model.html#logistic-regression\n",
            "  n_iter_i = _check_optimize_result(\n"
          ]
        }
      ],
      "source": [
        "sk_folds = StratifiedKFold(n_splits = 4)\n",
        "scores = cross_val_score(classifier, x, y, cv = sk_folds)"
      ]
    },
    {
      "cell_type": "code",
      "execution_count": null,
      "metadata": {
        "colab": {
          "background_save": true
        },
        "id": "SrkZnbYTCGqY",
        "outputId": "514a0e6e-8baf-4e33-ba8a-3cf30796b910"
      },
      "outputs": [
        {
          "name": "stdout",
          "output_type": "stream",
          "text": [
            "Average CV Score:  0.8448766603415561\n",
            "Test Accuracy Score:  [0.85009488 0.82163188 0.85388994 0.85388994]\n"
          ]
        }
      ],
      "source": [
        "print(\"Average CV Score: \", scores.mean())\n",
        "print(\"Test Accuracy Score: \", scores)"
      ]
    },
    {
      "cell_type": "code",
      "execution_count": null,
      "metadata": {
        "colab": {
          "background_save": true
        },
        "id": "yC8VN7tBCGqY",
        "outputId": "6a8f814a-cf77-47fd-c388-0cfc74b3bc4a"
      },
      "outputs": [
        {
          "name": "stderr",
          "output_type": "stream",
          "text": [
            "/usr/local/lib/python3.8/dist-packages/sklearn/linear_model/_logistic.py:814: ConvergenceWarning: lbfgs failed to converge (status=1):\n",
            "STOP: TOTAL NO. of ITERATIONS REACHED LIMIT.\n",
            "\n",
            "Increase the number of iterations (max_iter) or scale the data as shown in:\n",
            "    https://scikit-learn.org/stable/modules/preprocessing.html\n",
            "Please also refer to the documentation for alternative solver options:\n",
            "    https://scikit-learn.org/stable/modules/linear_model.html#logistic-regression\n",
            "  n_iter_i = _check_optimize_result(\n",
            "/usr/local/lib/python3.8/dist-packages/sklearn/linear_model/_logistic.py:814: ConvergenceWarning: lbfgs failed to converge (status=1):\n",
            "STOP: TOTAL NO. of ITERATIONS REACHED LIMIT.\n",
            "\n",
            "Increase the number of iterations (max_iter) or scale the data as shown in:\n",
            "    https://scikit-learn.org/stable/modules/preprocessing.html\n",
            "Please also refer to the documentation for alternative solver options:\n",
            "    https://scikit-learn.org/stable/modules/linear_model.html#logistic-regression\n",
            "  n_iter_i = _check_optimize_result(\n",
            "/usr/local/lib/python3.8/dist-packages/sklearn/linear_model/_logistic.py:814: ConvergenceWarning: lbfgs failed to converge (status=1):\n",
            "STOP: TOTAL NO. of ITERATIONS REACHED LIMIT.\n",
            "\n",
            "Increase the number of iterations (max_iter) or scale the data as shown in:\n",
            "    https://scikit-learn.org/stable/modules/preprocessing.html\n",
            "Please also refer to the documentation for alternative solver options:\n",
            "    https://scikit-learn.org/stable/modules/linear_model.html#logistic-regression\n",
            "  n_iter_i = _check_optimize_result(\n",
            "/usr/local/lib/python3.8/dist-packages/sklearn/linear_model/_logistic.py:814: ConvergenceWarning: lbfgs failed to converge (status=1):\n",
            "STOP: TOTAL NO. of ITERATIONS REACHED LIMIT.\n",
            "\n",
            "Increase the number of iterations (max_iter) or scale the data as shown in:\n",
            "    https://scikit-learn.org/stable/modules/preprocessing.html\n",
            "Please also refer to the documentation for alternative solver options:\n",
            "    https://scikit-learn.org/stable/modules/linear_model.html#logistic-regression\n",
            "  n_iter_i = _check_optimize_result(\n",
            "/usr/local/lib/python3.8/dist-packages/sklearn/linear_model/_logistic.py:814: ConvergenceWarning: lbfgs failed to converge (status=1):\n",
            "STOP: TOTAL NO. of ITERATIONS REACHED LIMIT.\n",
            "\n",
            "Increase the number of iterations (max_iter) or scale the data as shown in:\n",
            "    https://scikit-learn.org/stable/modules/preprocessing.html\n",
            "Please also refer to the documentation for alternative solver options:\n",
            "    https://scikit-learn.org/stable/modules/linear_model.html#logistic-regression\n",
            "  n_iter_i = _check_optimize_result(\n"
          ]
        }
      ],
      "source": [
        "sk_folds = StratifiedKFold(n_splits = 5)\n",
        "scores = cross_val_score(classifier, x, y, cv = sk_folds)"
      ]
    },
    {
      "cell_type": "code",
      "execution_count": null,
      "metadata": {
        "colab": {
          "background_save": true
        },
        "id": "61QRKHhvCGqZ",
        "outputId": "e5bbfa88-b3dd-4906-83c4-444d94fe2477"
      },
      "outputs": [
        {
          "name": "stdout",
          "output_type": "stream",
          "text": [
            "Average CV Score:  0.8444135493239973\n",
            "Test Accuracy Score:  [0.85308057 0.82227488 0.83412322 0.847981   0.86460808]\n"
          ]
        }
      ],
      "source": [
        "print(\"Average CV Score: \", scores.mean())\n",
        "print(\"Test Accuracy Score: \", scores)"
      ]
    },
    {
      "cell_type": "code",
      "execution_count": null,
      "metadata": {
        "colab": {
          "background_save": true
        },
        "id": "tQJn7c7ZCGqZ",
        "outputId": "11c73c84-edb6-4b75-8199-d11ed1cd6021"
      },
      "outputs": [
        {
          "name": "stderr",
          "output_type": "stream",
          "text": [
            "/usr/local/lib/python3.8/dist-packages/sklearn/linear_model/_logistic.py:814: ConvergenceWarning: lbfgs failed to converge (status=1):\n",
            "STOP: TOTAL NO. of ITERATIONS REACHED LIMIT.\n",
            "\n",
            "Increase the number of iterations (max_iter) or scale the data as shown in:\n",
            "    https://scikit-learn.org/stable/modules/preprocessing.html\n",
            "Please also refer to the documentation for alternative solver options:\n",
            "    https://scikit-learn.org/stable/modules/linear_model.html#logistic-regression\n",
            "  n_iter_i = _check_optimize_result(\n",
            "/usr/local/lib/python3.8/dist-packages/sklearn/linear_model/_logistic.py:814: ConvergenceWarning: lbfgs failed to converge (status=1):\n",
            "STOP: TOTAL NO. of ITERATIONS REACHED LIMIT.\n",
            "\n",
            "Increase the number of iterations (max_iter) or scale the data as shown in:\n",
            "    https://scikit-learn.org/stable/modules/preprocessing.html\n",
            "Please also refer to the documentation for alternative solver options:\n",
            "    https://scikit-learn.org/stable/modules/linear_model.html#logistic-regression\n",
            "  n_iter_i = _check_optimize_result(\n",
            "/usr/local/lib/python3.8/dist-packages/sklearn/linear_model/_logistic.py:814: ConvergenceWarning: lbfgs failed to converge (status=1):\n",
            "STOP: TOTAL NO. of ITERATIONS REACHED LIMIT.\n",
            "\n",
            "Increase the number of iterations (max_iter) or scale the data as shown in:\n",
            "    https://scikit-learn.org/stable/modules/preprocessing.html\n",
            "Please also refer to the documentation for alternative solver options:\n",
            "    https://scikit-learn.org/stable/modules/linear_model.html#logistic-regression\n",
            "  n_iter_i = _check_optimize_result(\n",
            "/usr/local/lib/python3.8/dist-packages/sklearn/linear_model/_logistic.py:814: ConvergenceWarning: lbfgs failed to converge (status=1):\n",
            "STOP: TOTAL NO. of ITERATIONS REACHED LIMIT.\n",
            "\n",
            "Increase the number of iterations (max_iter) or scale the data as shown in:\n",
            "    https://scikit-learn.org/stable/modules/preprocessing.html\n",
            "Please also refer to the documentation for alternative solver options:\n",
            "    https://scikit-learn.org/stable/modules/linear_model.html#logistic-regression\n",
            "  n_iter_i = _check_optimize_result(\n",
            "/usr/local/lib/python3.8/dist-packages/sklearn/linear_model/_logistic.py:814: ConvergenceWarning: lbfgs failed to converge (status=1):\n",
            "STOP: TOTAL NO. of ITERATIONS REACHED LIMIT.\n",
            "\n",
            "Increase the number of iterations (max_iter) or scale the data as shown in:\n",
            "    https://scikit-learn.org/stable/modules/preprocessing.html\n",
            "Please also refer to the documentation for alternative solver options:\n",
            "    https://scikit-learn.org/stable/modules/linear_model.html#logistic-regression\n",
            "  n_iter_i = _check_optimize_result(\n",
            "/usr/local/lib/python3.8/dist-packages/sklearn/linear_model/_logistic.py:814: ConvergenceWarning: lbfgs failed to converge (status=1):\n",
            "STOP: TOTAL NO. of ITERATIONS REACHED LIMIT.\n",
            "\n",
            "Increase the number of iterations (max_iter) or scale the data as shown in:\n",
            "    https://scikit-learn.org/stable/modules/preprocessing.html\n",
            "Please also refer to the documentation for alternative solver options:\n",
            "    https://scikit-learn.org/stable/modules/linear_model.html#logistic-regression\n",
            "  n_iter_i = _check_optimize_result(\n"
          ]
        }
      ],
      "source": [
        "sk_folds = StratifiedKFold(n_splits = 6)\n",
        "scores = cross_val_score(classifier, x, y, cv = sk_folds)"
      ]
    },
    {
      "cell_type": "code",
      "execution_count": null,
      "metadata": {
        "colab": {
          "background_save": true
        },
        "id": "Bl-wkDJbCGqa",
        "outputId": "5653b446-8c14-4691-b146-fde8c4bd0715"
      },
      "outputs": [
        {
          "name": "stdout",
          "output_type": "stream",
          "text": [
            "Average CV Score:  0.8439294116377448\n",
            "Test Accuracy Score:  [0.85795455 0.82670455 0.83190883 0.82051282 0.84615385 0.88034188]\n"
          ]
        }
      ],
      "source": [
        "print(\"Average CV Score: \", scores.mean())\n",
        "print(\"Test Accuracy Score: \", scores)"
      ]
    },
    {
      "cell_type": "code",
      "execution_count": null,
      "metadata": {
        "colab": {
          "background_save": true
        },
        "id": "KYF_r4QjCGqa",
        "outputId": "5b5d81b4-f214-4509-8a57-7bb18e925440"
      },
      "outputs": [
        {
          "name": "stderr",
          "output_type": "stream",
          "text": [
            "/usr/local/lib/python3.8/dist-packages/sklearn/linear_model/_logistic.py:814: ConvergenceWarning: lbfgs failed to converge (status=1):\n",
            "STOP: TOTAL NO. of ITERATIONS REACHED LIMIT.\n",
            "\n",
            "Increase the number of iterations (max_iter) or scale the data as shown in:\n",
            "    https://scikit-learn.org/stable/modules/preprocessing.html\n",
            "Please also refer to the documentation for alternative solver options:\n",
            "    https://scikit-learn.org/stable/modules/linear_model.html#logistic-regression\n",
            "  n_iter_i = _check_optimize_result(\n",
            "/usr/local/lib/python3.8/dist-packages/sklearn/linear_model/_logistic.py:814: ConvergenceWarning: lbfgs failed to converge (status=1):\n",
            "STOP: TOTAL NO. of ITERATIONS REACHED LIMIT.\n",
            "\n",
            "Increase the number of iterations (max_iter) or scale the data as shown in:\n",
            "    https://scikit-learn.org/stable/modules/preprocessing.html\n",
            "Please also refer to the documentation for alternative solver options:\n",
            "    https://scikit-learn.org/stable/modules/linear_model.html#logistic-regression\n",
            "  n_iter_i = _check_optimize_result(\n",
            "/usr/local/lib/python3.8/dist-packages/sklearn/linear_model/_logistic.py:814: ConvergenceWarning: lbfgs failed to converge (status=1):\n",
            "STOP: TOTAL NO. of ITERATIONS REACHED LIMIT.\n",
            "\n",
            "Increase the number of iterations (max_iter) or scale the data as shown in:\n",
            "    https://scikit-learn.org/stable/modules/preprocessing.html\n",
            "Please also refer to the documentation for alternative solver options:\n",
            "    https://scikit-learn.org/stable/modules/linear_model.html#logistic-regression\n",
            "  n_iter_i = _check_optimize_result(\n",
            "/usr/local/lib/python3.8/dist-packages/sklearn/linear_model/_logistic.py:814: ConvergenceWarning: lbfgs failed to converge (status=1):\n",
            "STOP: TOTAL NO. of ITERATIONS REACHED LIMIT.\n",
            "\n",
            "Increase the number of iterations (max_iter) or scale the data as shown in:\n",
            "    https://scikit-learn.org/stable/modules/preprocessing.html\n",
            "Please also refer to the documentation for alternative solver options:\n",
            "    https://scikit-learn.org/stable/modules/linear_model.html#logistic-regression\n",
            "  n_iter_i = _check_optimize_result(\n",
            "/usr/local/lib/python3.8/dist-packages/sklearn/linear_model/_logistic.py:814: ConvergenceWarning: lbfgs failed to converge (status=1):\n",
            "STOP: TOTAL NO. of ITERATIONS REACHED LIMIT.\n",
            "\n",
            "Increase the number of iterations (max_iter) or scale the data as shown in:\n",
            "    https://scikit-learn.org/stable/modules/preprocessing.html\n",
            "Please also refer to the documentation for alternative solver options:\n",
            "    https://scikit-learn.org/stable/modules/linear_model.html#logistic-regression\n",
            "  n_iter_i = _check_optimize_result(\n",
            "/usr/local/lib/python3.8/dist-packages/sklearn/linear_model/_logistic.py:814: ConvergenceWarning: lbfgs failed to converge (status=1):\n",
            "STOP: TOTAL NO. of ITERATIONS REACHED LIMIT.\n",
            "\n",
            "Increase the number of iterations (max_iter) or scale the data as shown in:\n",
            "    https://scikit-learn.org/stable/modules/preprocessing.html\n",
            "Please also refer to the documentation for alternative solver options:\n",
            "    https://scikit-learn.org/stable/modules/linear_model.html#logistic-regression\n",
            "  n_iter_i = _check_optimize_result(\n",
            "/usr/local/lib/python3.8/dist-packages/sklearn/linear_model/_logistic.py:814: ConvergenceWarning: lbfgs failed to converge (status=1):\n",
            "STOP: TOTAL NO. of ITERATIONS REACHED LIMIT.\n",
            "\n",
            "Increase the number of iterations (max_iter) or scale the data as shown in:\n",
            "    https://scikit-learn.org/stable/modules/preprocessing.html\n",
            "Please also refer to the documentation for alternative solver options:\n",
            "    https://scikit-learn.org/stable/modules/linear_model.html#logistic-regression\n",
            "  n_iter_i = _check_optimize_result(\n"
          ]
        }
      ],
      "source": [
        "sk_folds = StratifiedKFold(n_splits = 7)\n",
        "scores = cross_val_score(classifier, x, y, cv = sk_folds)"
      ]
    },
    {
      "cell_type": "code",
      "execution_count": null,
      "metadata": {
        "colab": {
          "background_save": true
        },
        "id": "LB9XKP-MCGqb",
        "outputId": "cbaf8240-be33-4028-cf24-079b2c5c39aa"
      },
      "outputs": [
        {
          "name": "stdout",
          "output_type": "stream",
          "text": [
            "Average CV Score:  0.84629286798656\n",
            "Test Accuracy Score:  [0.86092715 0.85714286 0.80730897 0.85049834 0.83388704 0.83388704\n",
            " 0.88039867]\n"
          ]
        }
      ],
      "source": [
        "print(\"Average CV Score: \", scores.mean())\n",
        "print(\"Test Accuracy Score: \", scores)"
      ]
    },
    {
      "cell_type": "code",
      "execution_count": null,
      "metadata": {
        "colab": {
          "background_save": true
        },
        "id": "PDdVsswYup4C",
        "outputId": "730ba019-0919-434f-8c33-1576f7c175c9"
      },
      "outputs": [
        {
          "name": "stderr",
          "output_type": "stream",
          "text": [
            "/usr/local/lib/python3.8/dist-packages/sklearn/linear_model/_logistic.py:814: ConvergenceWarning: lbfgs failed to converge (status=1):\n",
            "STOP: TOTAL NO. of ITERATIONS REACHED LIMIT.\n",
            "\n",
            "Increase the number of iterations (max_iter) or scale the data as shown in:\n",
            "    https://scikit-learn.org/stable/modules/preprocessing.html\n",
            "Please also refer to the documentation for alternative solver options:\n",
            "    https://scikit-learn.org/stable/modules/linear_model.html#logistic-regression\n",
            "  n_iter_i = _check_optimize_result(\n",
            "/usr/local/lib/python3.8/dist-packages/sklearn/linear_model/_logistic.py:814: ConvergenceWarning: lbfgs failed to converge (status=1):\n",
            "STOP: TOTAL NO. of ITERATIONS REACHED LIMIT.\n",
            "\n",
            "Increase the number of iterations (max_iter) or scale the data as shown in:\n",
            "    https://scikit-learn.org/stable/modules/preprocessing.html\n",
            "Please also refer to the documentation for alternative solver options:\n",
            "    https://scikit-learn.org/stable/modules/linear_model.html#logistic-regression\n",
            "  n_iter_i = _check_optimize_result(\n",
            "/usr/local/lib/python3.8/dist-packages/sklearn/linear_model/_logistic.py:814: ConvergenceWarning: lbfgs failed to converge (status=1):\n",
            "STOP: TOTAL NO. of ITERATIONS REACHED LIMIT.\n",
            "\n",
            "Increase the number of iterations (max_iter) or scale the data as shown in:\n",
            "    https://scikit-learn.org/stable/modules/preprocessing.html\n",
            "Please also refer to the documentation for alternative solver options:\n",
            "    https://scikit-learn.org/stable/modules/linear_model.html#logistic-regression\n",
            "  n_iter_i = _check_optimize_result(\n",
            "/usr/local/lib/python3.8/dist-packages/sklearn/linear_model/_logistic.py:814: ConvergenceWarning: lbfgs failed to converge (status=1):\n",
            "STOP: TOTAL NO. of ITERATIONS REACHED LIMIT.\n",
            "\n",
            "Increase the number of iterations (max_iter) or scale the data as shown in:\n",
            "    https://scikit-learn.org/stable/modules/preprocessing.html\n",
            "Please also refer to the documentation for alternative solver options:\n",
            "    https://scikit-learn.org/stable/modules/linear_model.html#logistic-regression\n",
            "  n_iter_i = _check_optimize_result(\n",
            "/usr/local/lib/python3.8/dist-packages/sklearn/linear_model/_logistic.py:814: ConvergenceWarning: lbfgs failed to converge (status=1):\n",
            "STOP: TOTAL NO. of ITERATIONS REACHED LIMIT.\n",
            "\n",
            "Increase the number of iterations (max_iter) or scale the data as shown in:\n",
            "    https://scikit-learn.org/stable/modules/preprocessing.html\n",
            "Please also refer to the documentation for alternative solver options:\n",
            "    https://scikit-learn.org/stable/modules/linear_model.html#logistic-regression\n",
            "  n_iter_i = _check_optimize_result(\n",
            "/usr/local/lib/python3.8/dist-packages/sklearn/linear_model/_logistic.py:814: ConvergenceWarning: lbfgs failed to converge (status=1):\n",
            "STOP: TOTAL NO. of ITERATIONS REACHED LIMIT.\n",
            "\n",
            "Increase the number of iterations (max_iter) or scale the data as shown in:\n",
            "    https://scikit-learn.org/stable/modules/preprocessing.html\n",
            "Please also refer to the documentation for alternative solver options:\n",
            "    https://scikit-learn.org/stable/modules/linear_model.html#logistic-regression\n",
            "  n_iter_i = _check_optimize_result(\n",
            "/usr/local/lib/python3.8/dist-packages/sklearn/linear_model/_logistic.py:814: ConvergenceWarning: lbfgs failed to converge (status=1):\n",
            "STOP: TOTAL NO. of ITERATIONS REACHED LIMIT.\n",
            "\n",
            "Increase the number of iterations (max_iter) or scale the data as shown in:\n",
            "    https://scikit-learn.org/stable/modules/preprocessing.html\n",
            "Please also refer to the documentation for alternative solver options:\n",
            "    https://scikit-learn.org/stable/modules/linear_model.html#logistic-regression\n",
            "  n_iter_i = _check_optimize_result(\n",
            "/usr/local/lib/python3.8/dist-packages/sklearn/linear_model/_logistic.py:814: ConvergenceWarning: lbfgs failed to converge (status=1):\n",
            "STOP: TOTAL NO. of ITERATIONS REACHED LIMIT.\n",
            "\n",
            "Increase the number of iterations (max_iter) or scale the data as shown in:\n",
            "    https://scikit-learn.org/stable/modules/preprocessing.html\n",
            "Please also refer to the documentation for alternative solver options:\n",
            "    https://scikit-learn.org/stable/modules/linear_model.html#logistic-regression\n",
            "  n_iter_i = _check_optimize_result(\n"
          ]
        }
      ],
      "source": [
        "sk_folds = StratifiedKFold(n_splits = 8) \n",
        "scores = cross_val_score(classifier, x, y, cv = sk_folds)"
      ]
    },
    {
      "cell_type": "code",
      "execution_count": null,
      "metadata": {
        "colab": {
          "background_save": true
        },
        "id": "4MVQcr3rusaa",
        "outputId": "028abf04-16fe-48d2-dcc3-a2e87e56c11b"
      },
      "outputs": [
        {
          "name": "stdout",
          "output_type": "stream",
          "text": [
            "Average CV Score:  0.8410891231708723\n",
            "Test Accuracy Score:  [0.85984848 0.85227273 0.81439394 0.8219697  0.80608365 0.85931559\n",
            " 0.82509506 0.88973384]\n"
          ]
        }
      ],
      "source": [
        "print(\"Average CV Score: \", scores.mean())\n",
        "print(\"Test Accuracy Score: \", scores)"
      ]
    },
    {
      "cell_type": "code",
      "execution_count": null,
      "metadata": {
        "colab": {
          "background_save": true
        },
        "id": "I8IXhl2PCGqc",
        "outputId": "17a4f26e-37e8-4a8f-d5e1-4215bc4c4d74"
      },
      "outputs": [
        {
          "name": "stderr",
          "output_type": "stream",
          "text": [
            "/usr/local/lib/python3.8/dist-packages/sklearn/linear_model/_logistic.py:814: ConvergenceWarning: lbfgs failed to converge (status=1):\n",
            "STOP: TOTAL NO. of ITERATIONS REACHED LIMIT.\n",
            "\n",
            "Increase the number of iterations (max_iter) or scale the data as shown in:\n",
            "    https://scikit-learn.org/stable/modules/preprocessing.html\n",
            "Please also refer to the documentation for alternative solver options:\n",
            "    https://scikit-learn.org/stable/modules/linear_model.html#logistic-regression\n",
            "  n_iter_i = _check_optimize_result(\n",
            "/usr/local/lib/python3.8/dist-packages/sklearn/linear_model/_logistic.py:814: ConvergenceWarning: lbfgs failed to converge (status=1):\n",
            "STOP: TOTAL NO. of ITERATIONS REACHED LIMIT.\n",
            "\n",
            "Increase the number of iterations (max_iter) or scale the data as shown in:\n",
            "    https://scikit-learn.org/stable/modules/preprocessing.html\n",
            "Please also refer to the documentation for alternative solver options:\n",
            "    https://scikit-learn.org/stable/modules/linear_model.html#logistic-regression\n",
            "  n_iter_i = _check_optimize_result(\n",
            "/usr/local/lib/python3.8/dist-packages/sklearn/linear_model/_logistic.py:814: ConvergenceWarning: lbfgs failed to converge (status=1):\n",
            "STOP: TOTAL NO. of ITERATIONS REACHED LIMIT.\n",
            "\n",
            "Increase the number of iterations (max_iter) or scale the data as shown in:\n",
            "    https://scikit-learn.org/stable/modules/preprocessing.html\n",
            "Please also refer to the documentation for alternative solver options:\n",
            "    https://scikit-learn.org/stable/modules/linear_model.html#logistic-regression\n",
            "  n_iter_i = _check_optimize_result(\n",
            "/usr/local/lib/python3.8/dist-packages/sklearn/linear_model/_logistic.py:814: ConvergenceWarning: lbfgs failed to converge (status=1):\n",
            "STOP: TOTAL NO. of ITERATIONS REACHED LIMIT.\n",
            "\n",
            "Increase the number of iterations (max_iter) or scale the data as shown in:\n",
            "    https://scikit-learn.org/stable/modules/preprocessing.html\n",
            "Please also refer to the documentation for alternative solver options:\n",
            "    https://scikit-learn.org/stable/modules/linear_model.html#logistic-regression\n",
            "  n_iter_i = _check_optimize_result(\n",
            "/usr/local/lib/python3.8/dist-packages/sklearn/linear_model/_logistic.py:814: ConvergenceWarning: lbfgs failed to converge (status=1):\n",
            "STOP: TOTAL NO. of ITERATIONS REACHED LIMIT.\n",
            "\n",
            "Increase the number of iterations (max_iter) or scale the data as shown in:\n",
            "    https://scikit-learn.org/stable/modules/preprocessing.html\n",
            "Please also refer to the documentation for alternative solver options:\n",
            "    https://scikit-learn.org/stable/modules/linear_model.html#logistic-regression\n",
            "  n_iter_i = _check_optimize_result(\n",
            "/usr/local/lib/python3.8/dist-packages/sklearn/linear_model/_logistic.py:814: ConvergenceWarning: lbfgs failed to converge (status=1):\n",
            "STOP: TOTAL NO. of ITERATIONS REACHED LIMIT.\n",
            "\n",
            "Increase the number of iterations (max_iter) or scale the data as shown in:\n",
            "    https://scikit-learn.org/stable/modules/preprocessing.html\n",
            "Please also refer to the documentation for alternative solver options:\n",
            "    https://scikit-learn.org/stable/modules/linear_model.html#logistic-regression\n",
            "  n_iter_i = _check_optimize_result(\n",
            "/usr/local/lib/python3.8/dist-packages/sklearn/linear_model/_logistic.py:814: ConvergenceWarning: lbfgs failed to converge (status=1):\n",
            "STOP: TOTAL NO. of ITERATIONS REACHED LIMIT.\n",
            "\n",
            "Increase the number of iterations (max_iter) or scale the data as shown in:\n",
            "    https://scikit-learn.org/stable/modules/preprocessing.html\n",
            "Please also refer to the documentation for alternative solver options:\n",
            "    https://scikit-learn.org/stable/modules/linear_model.html#logistic-regression\n",
            "  n_iter_i = _check_optimize_result(\n",
            "/usr/local/lib/python3.8/dist-packages/sklearn/linear_model/_logistic.py:814: ConvergenceWarning: lbfgs failed to converge (status=1):\n",
            "STOP: TOTAL NO. of ITERATIONS REACHED LIMIT.\n",
            "\n",
            "Increase the number of iterations (max_iter) or scale the data as shown in:\n",
            "    https://scikit-learn.org/stable/modules/preprocessing.html\n",
            "Please also refer to the documentation for alternative solver options:\n",
            "    https://scikit-learn.org/stable/modules/linear_model.html#logistic-regression\n",
            "  n_iter_i = _check_optimize_result(\n",
            "/usr/local/lib/python3.8/dist-packages/sklearn/linear_model/_logistic.py:814: ConvergenceWarning: lbfgs failed to converge (status=1):\n",
            "STOP: TOTAL NO. of ITERATIONS REACHED LIMIT.\n",
            "\n",
            "Increase the number of iterations (max_iter) or scale the data as shown in:\n",
            "    https://scikit-learn.org/stable/modules/preprocessing.html\n",
            "Please also refer to the documentation for alternative solver options:\n",
            "    https://scikit-learn.org/stable/modules/linear_model.html#logistic-regression\n",
            "  n_iter_i = _check_optimize_result(\n"
          ]
        }
      ],
      "source": [
        "sk_folds = StratifiedKFold(n_splits = 9)\n",
        "scores = cross_val_score(classifier, x, y, cv = sk_folds)"
      ]
    },
    {
      "cell_type": "code",
      "execution_count": null,
      "metadata": {
        "colab": {
          "background_save": true
        },
        "id": "-t0jUT9ICGqc",
        "outputId": "b78c8efd-eb20-4051-f48e-5205b0707b92"
      },
      "outputs": [
        {
          "name": "stdout",
          "output_type": "stream",
          "text": [
            "Test Accuracy Score:  [0.85957447 0.83829787 0.82905983 0.83333333 0.85470085 0.82051282\n",
            " 0.85897436 0.82905983 0.88461538]\n"
          ]
        }
      ],
      "source": [
        "print(\"Test Accuracy Score: \", scores)"
      ]
    },
    {
      "cell_type": "code",
      "execution_count": null,
      "metadata": {
        "colab": {
          "background_save": true
        },
        "id": "csgZO_BMvU_w",
        "outputId": "ae81a878-0d5b-445d-ceeb-8a94e0af962f"
      },
      "outputs": [
        {
          "name": "stdout",
          "output_type": "stream",
          "text": [
            "Average CV Score:  0.8453476389646603\n",
            "Test Accuracy Score:  [0.85957447 0.83829787 0.82905983 0.83333333 0.85470085 0.82051282\n",
            " 0.85897436 0.82905983 0.88461538]\n"
          ]
        }
      ],
      "source": [
        "print(\"Average CV Score: \", scores.mean())\n",
        "print(\"Test Accuracy Score: \", scores)"
      ]
    },
    {
      "cell_type": "code",
      "execution_count": null,
      "metadata": {
        "colab": {
          "background_save": true
        },
        "id": "7zIDz9glCGqd",
        "outputId": "3ee2f31c-c586-4a1f-bcac-043b3095a301"
      },
      "outputs": [
        {
          "name": "stderr",
          "output_type": "stream",
          "text": [
            "/usr/local/lib/python3.8/dist-packages/sklearn/linear_model/_logistic.py:814: ConvergenceWarning: lbfgs failed to converge (status=1):\n",
            "STOP: TOTAL NO. of ITERATIONS REACHED LIMIT.\n",
            "\n",
            "Increase the number of iterations (max_iter) or scale the data as shown in:\n",
            "    https://scikit-learn.org/stable/modules/preprocessing.html\n",
            "Please also refer to the documentation for alternative solver options:\n",
            "    https://scikit-learn.org/stable/modules/linear_model.html#logistic-regression\n",
            "  n_iter_i = _check_optimize_result(\n",
            "/usr/local/lib/python3.8/dist-packages/sklearn/linear_model/_logistic.py:814: ConvergenceWarning: lbfgs failed to converge (status=1):\n",
            "STOP: TOTAL NO. of ITERATIONS REACHED LIMIT.\n",
            "\n",
            "Increase the number of iterations (max_iter) or scale the data as shown in:\n",
            "    https://scikit-learn.org/stable/modules/preprocessing.html\n",
            "Please also refer to the documentation for alternative solver options:\n",
            "    https://scikit-learn.org/stable/modules/linear_model.html#logistic-regression\n",
            "  n_iter_i = _check_optimize_result(\n",
            "/usr/local/lib/python3.8/dist-packages/sklearn/linear_model/_logistic.py:814: ConvergenceWarning: lbfgs failed to converge (status=1):\n",
            "STOP: TOTAL NO. of ITERATIONS REACHED LIMIT.\n",
            "\n",
            "Increase the number of iterations (max_iter) or scale the data as shown in:\n",
            "    https://scikit-learn.org/stable/modules/preprocessing.html\n",
            "Please also refer to the documentation for alternative solver options:\n",
            "    https://scikit-learn.org/stable/modules/linear_model.html#logistic-regression\n",
            "  n_iter_i = _check_optimize_result(\n",
            "/usr/local/lib/python3.8/dist-packages/sklearn/linear_model/_logistic.py:814: ConvergenceWarning: lbfgs failed to converge (status=1):\n",
            "STOP: TOTAL NO. of ITERATIONS REACHED LIMIT.\n",
            "\n",
            "Increase the number of iterations (max_iter) or scale the data as shown in:\n",
            "    https://scikit-learn.org/stable/modules/preprocessing.html\n",
            "Please also refer to the documentation for alternative solver options:\n",
            "    https://scikit-learn.org/stable/modules/linear_model.html#logistic-regression\n",
            "  n_iter_i = _check_optimize_result(\n",
            "/usr/local/lib/python3.8/dist-packages/sklearn/linear_model/_logistic.py:814: ConvergenceWarning: lbfgs failed to converge (status=1):\n",
            "STOP: TOTAL NO. of ITERATIONS REACHED LIMIT.\n",
            "\n",
            "Increase the number of iterations (max_iter) or scale the data as shown in:\n",
            "    https://scikit-learn.org/stable/modules/preprocessing.html\n",
            "Please also refer to the documentation for alternative solver options:\n",
            "    https://scikit-learn.org/stable/modules/linear_model.html#logistic-regression\n",
            "  n_iter_i = _check_optimize_result(\n",
            "/usr/local/lib/python3.8/dist-packages/sklearn/linear_model/_logistic.py:814: ConvergenceWarning: lbfgs failed to converge (status=1):\n",
            "STOP: TOTAL NO. of ITERATIONS REACHED LIMIT.\n",
            "\n",
            "Increase the number of iterations (max_iter) or scale the data as shown in:\n",
            "    https://scikit-learn.org/stable/modules/preprocessing.html\n",
            "Please also refer to the documentation for alternative solver options:\n",
            "    https://scikit-learn.org/stable/modules/linear_model.html#logistic-regression\n",
            "  n_iter_i = _check_optimize_result(\n",
            "/usr/local/lib/python3.8/dist-packages/sklearn/linear_model/_logistic.py:814: ConvergenceWarning: lbfgs failed to converge (status=1):\n",
            "STOP: TOTAL NO. of ITERATIONS REACHED LIMIT.\n",
            "\n",
            "Increase the number of iterations (max_iter) or scale the data as shown in:\n",
            "    https://scikit-learn.org/stable/modules/preprocessing.html\n",
            "Please also refer to the documentation for alternative solver options:\n",
            "    https://scikit-learn.org/stable/modules/linear_model.html#logistic-regression\n",
            "  n_iter_i = _check_optimize_result(\n",
            "/usr/local/lib/python3.8/dist-packages/sklearn/linear_model/_logistic.py:814: ConvergenceWarning: lbfgs failed to converge (status=1):\n",
            "STOP: TOTAL NO. of ITERATIONS REACHED LIMIT.\n",
            "\n",
            "Increase the number of iterations (max_iter) or scale the data as shown in:\n",
            "    https://scikit-learn.org/stable/modules/preprocessing.html\n",
            "Please also refer to the documentation for alternative solver options:\n",
            "    https://scikit-learn.org/stable/modules/linear_model.html#logistic-regression\n",
            "  n_iter_i = _check_optimize_result(\n",
            "/usr/local/lib/python3.8/dist-packages/sklearn/linear_model/_logistic.py:814: ConvergenceWarning: lbfgs failed to converge (status=1):\n",
            "STOP: TOTAL NO. of ITERATIONS REACHED LIMIT.\n",
            "\n",
            "Increase the number of iterations (max_iter) or scale the data as shown in:\n",
            "    https://scikit-learn.org/stable/modules/preprocessing.html\n",
            "Please also refer to the documentation for alternative solver options:\n",
            "    https://scikit-learn.org/stable/modules/linear_model.html#logistic-regression\n",
            "  n_iter_i = _check_optimize_result(\n",
            "/usr/local/lib/python3.8/dist-packages/sklearn/linear_model/_logistic.py:814: ConvergenceWarning: lbfgs failed to converge (status=1):\n",
            "STOP: TOTAL NO. of ITERATIONS REACHED LIMIT.\n",
            "\n",
            "Increase the number of iterations (max_iter) or scale the data as shown in:\n",
            "    https://scikit-learn.org/stable/modules/preprocessing.html\n",
            "Please also refer to the documentation for alternative solver options:\n",
            "    https://scikit-learn.org/stable/modules/linear_model.html#logistic-regression\n",
            "  n_iter_i = _check_optimize_result(\n"
          ]
        }
      ],
      "source": [
        "sk_folds = StratifiedKFold(n_splits = 10)\n",
        "scores = cross_val_score(classifier, x, y, cv = sk_folds)"
      ]
    },
    {
      "cell_type": "code",
      "execution_count": null,
      "metadata": {
        "colab": {
          "background_save": true
        },
        "id": "ghDxS3YSCGqe",
        "outputId": "a6eb288e-a6dd-45a3-c4ad-ee2530dc3db1"
      },
      "outputs": [
        {
          "name": "stdout",
          "output_type": "stream",
          "text": [
            "Test Accuracy Score:  [0.85308057 0.85308057 0.84834123 0.80094787 0.81516588 0.84834123\n",
            " 0.83412322 0.85308057 0.85714286 0.88571429]\n"
          ]
        }
      ],
      "source": [
        "print(\"Test Accuracy Score: \", scores)"
      ]
    },
    {
      "cell_type": "code",
      "execution_count": null,
      "metadata": {
        "colab": {
          "background_save": true
        },
        "id": "bNpUcsPBvXz9",
        "outputId": "76094f10-458f-42a7-e4fd-9df4e00a8dad"
      },
      "outputs": [
        {
          "name": "stdout",
          "output_type": "stream",
          "text": [
            "Average CV Score:  0.8449018280297901\n",
            "Test Accuracy Score:  [0.85308057 0.85308057 0.84834123 0.80094787 0.81516588 0.84834123\n",
            " 0.83412322 0.85308057 0.85714286 0.88571429]\n"
          ]
        }
      ],
      "source": [
        "print(\"Average CV Score: \", scores.mean())\n",
        "print(\"Test Accuracy Score: \", scores)"
      ]
    },
    {
      "cell_type": "markdown",
      "metadata": {
        "id": "23wM1f5V0HSo"
      },
      "source": [
        "###**Support Vector Machine Algorithm**"
      ]
    },
    {
      "cell_type": "code",
      "execution_count": null,
      "metadata": {
        "colab": {
          "background_save": true
        },
        "id": "ckp8GqOF0HSo",
        "outputId": "f3f3dc7d-00bf-4cc2-efea-ed41d5844b44"
      },
      "outputs": [
        {
          "data": {
            "text/plain": [
              "SVC(random_state=0)"
            ]
          },
          "execution_count": 1697,
          "metadata": {},
          "output_type": "execute_result"
        }
      ],
      "source": [
        "from sklearn.svm import SVC # \"Support vector classifier\"  \n",
        "classifier = SVC(kernel='rbf', random_state=0)  \n",
        "classifier.fit(x_train, y_train)  "
      ]
    },
    {
      "cell_type": "code",
      "execution_count": null,
      "metadata": {
        "colab": {
          "background_save": true
        },
        "id": "NyTpN-7k0HSp"
      },
      "outputs": [],
      "source": [
        "#Predicting the test set result  \n",
        "y_pred= classifier.predict(x_test)  "
      ]
    },
    {
      "cell_type": "code",
      "execution_count": null,
      "metadata": {
        "colab": {
          "background_save": true
        },
        "id": "_HA5gYVZ0HSp",
        "outputId": "b17a5526-6dd6-4f91-96b9-8aeb21cfa368"
      },
      "outputs": [
        {
          "name": "stdout",
          "output_type": "stream",
          "text": [
            "[[353   4]\n",
            " [ 57   8]]\n"
          ]
        }
      ],
      "source": [
        "from sklearn.metrics import confusion_matrix  \n",
        "cm= confusion_matrix(y_test, y_pred)  \n",
        "print(cm)"
      ]
    },
    {
      "cell_type": "code",
      "execution_count": null,
      "metadata": {
        "colab": {
          "background_save": true
        },
        "id": "qlRE1wF40HSp",
        "outputId": "deffa967-bd12-4a83-db03-3a8375e04f94"
      },
      "outputs": [
        {
          "name": "stdout",
          "output_type": "stream",
          "text": [
            "Test Accuracy Score:  0.8554502369668247\n"
          ]
        }
      ],
      "source": [
        "score_ = accuracy_score(y_test, y_pred)\n",
        "print(\"Test Accuracy Score: \", score_)"
      ]
    },
    {
      "cell_type": "code",
      "execution_count": null,
      "metadata": {
        "colab": {
          "background_save": true
        },
        "id": "iOhIGeewCp0N"
      },
      "outputs": [],
      "source": [
        "sk_folds = StratifiedKFold(n_splits = 2)\n",
        "scores = cross_val_score(classifier, x, y, cv = sk_folds)"
      ]
    },
    {
      "cell_type": "code",
      "execution_count": null,
      "metadata": {
        "colab": {
          "background_save": true
        },
        "id": "XBrMOxASCp0P",
        "outputId": "95d499ce-fc07-46e6-ebc9-f2e5943a859d"
      },
      "outputs": [
        {
          "name": "stdout",
          "output_type": "stream",
          "text": [
            "Test Accuracy Score:  [0.84629981 0.85388994]\n"
          ]
        }
      ],
      "source": [
        "print(\"Test Accuracy Score: \", scores)"
      ]
    },
    {
      "cell_type": "code",
      "execution_count": null,
      "metadata": {
        "colab": {
          "background_save": true
        },
        "id": "8_LtN-Evvb4w",
        "outputId": "abc12726-3f81-4dd7-ee77-d92b40e6ac73"
      },
      "outputs": [
        {
          "name": "stdout",
          "output_type": "stream",
          "text": [
            "Average CV Score:  0.8500948766603416\n",
            "Test Accuracy Score:  [0.84629981 0.85388994]\n"
          ]
        }
      ],
      "source": [
        "print(\"Average CV Score: \", scores.mean())\n",
        "print(\"Test Accuracy Score: \", scores)"
      ]
    },
    {
      "cell_type": "code",
      "execution_count": null,
      "metadata": {
        "colab": {
          "background_save": true
        },
        "id": "-RvYFcxnCp0Q"
      },
      "outputs": [],
      "source": [
        "sk_folds = StratifiedKFold(n_splits = 3)\n",
        "scores = cross_val_score(classifier, x, y, cv = sk_folds)"
      ]
    },
    {
      "cell_type": "code",
      "execution_count": null,
      "metadata": {
        "colab": {
          "background_save": true
        },
        "id": "3lIce2sTCp0R",
        "outputId": "73a55965-bcd5-4b33-c92d-647ef0cf07f5"
      },
      "outputs": [
        {
          "name": "stdout",
          "output_type": "stream",
          "text": [
            "Test Accuracy Score:  [0.84921764 0.82645804 0.84757835]\n"
          ]
        }
      ],
      "source": [
        "print(\"Test Accuracy Score: \", scores)"
      ]
    },
    {
      "cell_type": "code",
      "execution_count": null,
      "metadata": {
        "colab": {
          "background_save": true
        },
        "id": "k_x51glEvc0D",
        "outputId": "b5943024-5c91-45bb-ad56-263d6fb3e277"
      },
      "outputs": [
        {
          "name": "stdout",
          "output_type": "stream",
          "text": [
            "Average CV Score:  0.8410846744180077\n",
            "Test Accuracy Score:  [0.84921764 0.82645804 0.84757835]\n"
          ]
        }
      ],
      "source": [
        "print(\"Average CV Score: \", scores.mean())\n",
        "print(\"Test Accuracy Score: \", scores)"
      ]
    },
    {
      "cell_type": "code",
      "execution_count": null,
      "metadata": {
        "colab": {
          "background_save": true
        },
        "id": "VQy9MTtsCp0S"
      },
      "outputs": [],
      "source": [
        "sk_folds = StratifiedKFold(n_splits = 4)\n",
        "scores = cross_val_score(classifier, x, y, cv = sk_folds)"
      ]
    },
    {
      "cell_type": "code",
      "execution_count": null,
      "metadata": {
        "colab": {
          "background_save": true
        },
        "id": "u0mtiD2fCp0T",
        "outputId": "1b5a4703-53c6-49a7-ce1e-32ca1fffc082"
      },
      "outputs": [
        {
          "name": "stdout",
          "output_type": "stream",
          "text": [
            "Test Accuracy Score:  [0.85388994 0.83870968 0.84250474 0.85009488]\n"
          ]
        }
      ],
      "source": [
        "print(\"Test Accuracy Score: \", scores)"
      ]
    },
    {
      "cell_type": "code",
      "execution_count": null,
      "metadata": {
        "colab": {
          "background_save": true
        },
        "id": "1Ibtb7WivhcI",
        "outputId": "4bf066b0-e3c5-459d-c132-0ee21806c479"
      },
      "outputs": [
        {
          "name": "stdout",
          "output_type": "stream",
          "text": [
            "Average CV Score:  0.8462998102466793\n",
            "Test Accuracy Score:  [0.85388994 0.83870968 0.84250474 0.85009488]\n"
          ]
        }
      ],
      "source": [
        "print(\"Average CV Score: \", scores.mean())\n",
        "print(\"Test Accuracy Score: \", scores)"
      ]
    },
    {
      "cell_type": "code",
      "execution_count": null,
      "metadata": {
        "colab": {
          "background_save": true
        },
        "id": "PNvFqge2Cp0T"
      },
      "outputs": [],
      "source": [
        "sk_folds = StratifiedKFold(n_splits = 5)\n",
        "scores = cross_val_score(classifier, x, y, cv = sk_folds)"
      ]
    },
    {
      "cell_type": "code",
      "execution_count": null,
      "metadata": {
        "colab": {
          "background_save": true
        },
        "id": "UrO7jkv4Cp0U",
        "outputId": "9fda0c87-9ca5-4b9c-ca8f-213c98a78e4e"
      },
      "outputs": [
        {
          "name": "stdout",
          "output_type": "stream",
          "text": [
            "Test Accuracy Score:  [0.85308057 0.84597156 0.82227488 0.85510689 0.847981  ]\n"
          ]
        }
      ],
      "source": [
        "print(\"Test Accuracy Score: \", scores)"
      ]
    },
    {
      "cell_type": "code",
      "execution_count": null,
      "metadata": {
        "colab": {
          "background_save": true
        },
        "id": "y5fpqLN-vibh",
        "outputId": "ac0b3fef-dc8d-48e6-b900-de264b6f5d72"
      },
      "outputs": [
        {
          "name": "stdout",
          "output_type": "stream",
          "text": [
            "Average CV Score:  0.8448829800407516\n",
            "Test Accuracy Score:  [0.85308057 0.84597156 0.82227488 0.85510689 0.847981  ]\n"
          ]
        }
      ],
      "source": [
        "print(\"Average CV Score: \", scores.mean())\n",
        "print(\"Test Accuracy Score: \", scores)"
      ]
    },
    {
      "cell_type": "code",
      "execution_count": null,
      "metadata": {
        "colab": {
          "background_save": true
        },
        "id": "gk9e050GCp0V"
      },
      "outputs": [],
      "source": [
        "sk_folds = StratifiedKFold(n_splits = 6)\n",
        "scores = cross_val_score(classifier, x, y, cv = sk_folds)"
      ]
    },
    {
      "cell_type": "code",
      "execution_count": null,
      "metadata": {
        "colab": {
          "background_save": true
        },
        "id": "RkijvSMuCp0W",
        "outputId": "fd33bacf-68dc-4394-ff4f-4d4710041aa0"
      },
      "outputs": [
        {
          "name": "stdout",
          "output_type": "stream",
          "text": [
            "Test Accuracy Score:  [0.85511364 0.84090909 0.83190883 0.82051282 0.86609687 0.84900285]\n"
          ]
        }
      ],
      "source": [
        "print(\"Test Accuracy Score: \", scores)"
      ]
    },
    {
      "cell_type": "code",
      "execution_count": null,
      "metadata": {
        "colab": {
          "background_save": true
        },
        "id": "whoemVNjvkHk",
        "outputId": "ef19cc6e-b15b-48ba-e189-fdefe3dbf643"
      },
      "outputs": [
        {
          "name": "stdout",
          "output_type": "stream",
          "text": [
            "Average CV Score:  0.8439240157990158\n",
            "Test Accuracy Score:  [0.85511364 0.84090909 0.83190883 0.82051282 0.86609687 0.84900285]\n"
          ]
        }
      ],
      "source": [
        "print(\"Average CV Score: \", scores.mean())\n",
        "print(\"Test Accuracy Score: \", scores)"
      ]
    },
    {
      "cell_type": "code",
      "execution_count": null,
      "metadata": {
        "colab": {
          "background_save": true
        },
        "id": "xfGqWyCcCp0X"
      },
      "outputs": [],
      "source": [
        "sk_folds = StratifiedKFold(n_splits = 7)\n",
        "scores = cross_val_score(classifier, x, y, cv = sk_folds)"
      ]
    },
    {
      "cell_type": "code",
      "execution_count": null,
      "metadata": {
        "colab": {
          "background_save": true
        },
        "id": "QOn6srcMCp0Y",
        "outputId": "774815ed-aa2f-4a69-f80e-73f5c4162d4e"
      },
      "outputs": [
        {
          "name": "stdout",
          "output_type": "stream",
          "text": [
            "Test Accuracy Score:  [0.85761589 0.8538206  0.82059801 0.84053156 0.83388704 0.85714286\n",
            " 0.85049834]\n"
          ]
        }
      ],
      "source": [
        "print(\"Test Accuracy Score: \", scores)"
      ]
    },
    {
      "cell_type": "code",
      "execution_count": null,
      "metadata": {
        "colab": {
          "background_save": true
        },
        "id": "r2VJklCtvk14",
        "outputId": "fa681e85-5b2c-49b2-8eb0-127e68201715"
      },
      "outputs": [
        {
          "name": "stdout",
          "output_type": "stream",
          "text": [
            "Average CV Score:  0.8448706141936213\n",
            "Test Accuracy Score:  [0.85761589 0.8538206  0.82059801 0.84053156 0.83388704 0.85714286\n",
            " 0.85049834]\n"
          ]
        }
      ],
      "source": [
        "print(\"Average CV Score: \", scores.mean())\n",
        "print(\"Test Accuracy Score: \", scores)"
      ]
    },
    {
      "cell_type": "code",
      "execution_count": null,
      "metadata": {
        "colab": {
          "background_save": true
        },
        "id": "tJZoKqQXCp0Z"
      },
      "outputs": [],
      "source": [
        "sk_folds = StratifiedKFold(n_splits = 8)\n",
        "scores = cross_val_score(classifier, x, y, cv = sk_folds)"
      ]
    },
    {
      "cell_type": "code",
      "execution_count": null,
      "metadata": {
        "colab": {
          "background_save": true
        },
        "id": "UYM_9Fhcvl7j",
        "outputId": "1575324e-031f-4eb1-9ae5-a9bda673b012"
      },
      "outputs": [
        {
          "name": "stdout",
          "output_type": "stream",
          "text": [
            "Average CV Score:  0.8443999164650305\n",
            "Test Accuracy Score:  [0.85984848 0.84848485 0.84090909 0.83333333 0.79847909 0.87072243\n",
            " 0.85551331 0.84790875]\n"
          ]
        }
      ],
      "source": [
        "print(\"Average CV Score: \", scores.mean())\n",
        "print(\"Test Accuracy Score: \", scores)"
      ]
    },
    {
      "cell_type": "code",
      "execution_count": null,
      "metadata": {
        "colab": {
          "background_save": true
        },
        "id": "NTJREHYeCp0a"
      },
      "outputs": [],
      "source": [
        "sk_folds = StratifiedKFold(n_splits = 9)\n",
        "scores = cross_val_score(classifier, x, y, cv = sk_folds)"
      ]
    },
    {
      "cell_type": "code",
      "execution_count": null,
      "metadata": {
        "colab": {
          "background_save": true
        },
        "id": "1QsJKRbRCp0b",
        "outputId": "0320e8cf-557f-4dc6-81d5-fef1efba2a6c"
      },
      "outputs": [
        {
          "name": "stdout",
          "output_type": "stream",
          "text": [
            "Test Accuracy Score:  [0.85957447 0.84255319 0.84188034 0.83333333 0.84615385 0.81196581\n",
            " 0.87179487 0.85470085 0.88034188]\n"
          ]
        }
      ],
      "source": [
        "print(\"Test Accuracy Score: \", scores)"
      ]
    },
    {
      "cell_type": "code",
      "execution_count": null,
      "metadata": {
        "colab": {
          "background_save": true
        },
        "id": "e_11DjwOvm0n",
        "outputId": "ef396405-7bc8-410b-e090-dabe2f16b12e"
      },
      "outputs": [
        {
          "name": "stdout",
          "output_type": "stream",
          "text": [
            "Average CV Score:  0.849144288860601\n",
            "Test Accuracy Score:  [0.85957447 0.84255319 0.84188034 0.83333333 0.84615385 0.81196581\n",
            " 0.87179487 0.85470085 0.88034188]\n"
          ]
        }
      ],
      "source": [
        "print(\"Average CV Score: \", scores.mean())\n",
        "print(\"Test Accuracy Score: \", scores)"
      ]
    },
    {
      "cell_type": "code",
      "execution_count": null,
      "metadata": {
        "colab": {
          "background_save": true
        },
        "id": "I6rjMSlzCp0b"
      },
      "outputs": [],
      "source": [
        "sk_folds = StratifiedKFold(n_splits = 10)\n",
        "scores = cross_val_score(classifier, x, y, cv = sk_folds)"
      ]
    },
    {
      "cell_type": "code",
      "execution_count": null,
      "metadata": {
        "colab": {
          "background_save": true
        },
        "id": "9p_uA_pVCp0c",
        "outputId": "f7843fd5-1f12-41e5-d764-77bd2bb881e8"
      },
      "outputs": [
        {
          "name": "stdout",
          "output_type": "stream",
          "text": [
            "Test Accuracy Score:  [0.86255924 0.8436019  0.85308057 0.83412322 0.82938389 0.81990521\n",
            " 0.84834123 0.86255924 0.86666667 0.88095238]\n"
          ]
        }
      ],
      "source": [
        "print(\"Test Accuracy Score: \", scores)"
      ]
    },
    {
      "cell_type": "code",
      "execution_count": null,
      "metadata": {
        "colab": {
          "background_save": true
        },
        "id": "Vfi-mfvPvnrL",
        "outputId": "7003d1da-fcbb-4870-ba28-05d72405c117"
      },
      "outputs": [
        {
          "name": "stdout",
          "output_type": "stream",
          "text": [
            "Average CV Score:  0.8501173549988718\n",
            "Test Accuracy Score:  [0.86255924 0.8436019  0.85308057 0.83412322 0.82938389 0.81990521\n",
            " 0.84834123 0.86255924 0.86666667 0.88095238]\n"
          ]
        }
      ],
      "source": [
        "print(\"Average CV Score: \", scores.mean())\n",
        "print(\"Test Accuracy Score: \", scores)"
      ]
    },
    {
      "cell_type": "markdown",
      "metadata": {
        "id": "tnEXYeJ70HSq"
      },
      "source": [
        "##**Decision Tree Algorithm**"
      ]
    },
    {
      "cell_type": "code",
      "execution_count": null,
      "metadata": {
        "colab": {
          "background_save": true
        },
        "id": "eekI-5AT0HSq",
        "outputId": "b0a2acf3-05c8-40e8-e97d-2900fcbbe77a"
      },
      "outputs": [
        {
          "data": {
            "text/plain": [
              "DecisionTreeClassifier(criterion='entropy', random_state=0)"
            ]
          },
          "execution_count": 1727,
          "metadata": {},
          "output_type": "execute_result"
        }
      ],
      "source": [
        "from sklearn.tree import DecisionTreeClassifier  \n",
        "classifier= DecisionTreeClassifier(criterion='entropy', random_state=0)  \n",
        "classifier.fit(x_train, y_train)  "
      ]
    },
    {
      "cell_type": "code",
      "execution_count": null,
      "metadata": {
        "colab": {
          "background_save": true
        },
        "id": "k2v0rrxK0HSq"
      },
      "outputs": [],
      "source": [
        "#Predicting the test set result  \n",
        "y_pred= classifier.predict(x_test)  "
      ]
    },
    {
      "cell_type": "code",
      "execution_count": null,
      "metadata": {
        "colab": {
          "background_save": true
        },
        "id": "NShhK9AG0HSr",
        "outputId": "d9497434-9c2d-4888-d7dd-4a82205eb297"
      },
      "outputs": [
        {
          "name": "stdout",
          "output_type": "stream",
          "text": [
            "[[321  36]\n",
            " [ 48  17]]\n"
          ]
        }
      ],
      "source": [
        "#Creating the Confusion matrix  \n",
        "from sklearn.metrics import confusion_matrix  \n",
        "cm= confusion_matrix(y_test, y_pred) \n",
        "print(cm)"
      ]
    },
    {
      "cell_type": "code",
      "execution_count": null,
      "metadata": {
        "colab": {
          "background_save": true
        },
        "id": "Xp8t-ici0HSr",
        "outputId": "f7a98b7d-88eb-4f34-a8b9-424fe83b0419"
      },
      "outputs": [
        {
          "name": "stdout",
          "output_type": "stream",
          "text": [
            "Test Accuracy Score:  0.8009478672985783\n"
          ]
        }
      ],
      "source": [
        "score_ = accuracy_score(y_test, y_pred)\n",
        "print(\"Test Accuracy Score: \", score_)"
      ]
    },
    {
      "cell_type": "code",
      "execution_count": null,
      "metadata": {
        "colab": {
          "background_save": true
        },
        "id": "7FQiLi9bCrdy"
      },
      "outputs": [],
      "source": [
        "sk_folds = StratifiedKFold(n_splits = 2)\n",
        "scores = cross_val_score(classifier, x, y, cv = sk_folds)"
      ]
    },
    {
      "cell_type": "code",
      "execution_count": null,
      "metadata": {
        "colab": {
          "background_save": true
        },
        "id": "oE_VeLkrCrdz",
        "outputId": "de320d0c-2634-4475-fb3e-48fc7bf627d3"
      },
      "outputs": [
        {
          "name": "stdout",
          "output_type": "stream",
          "text": [
            "Test Accuracy Score:  [0.73149905 0.78937381]\n"
          ]
        }
      ],
      "source": [
        "print(\"Test Accuracy Score: \", scores)"
      ]
    },
    {
      "cell_type": "code",
      "execution_count": null,
      "metadata": {
        "colab": {
          "background_save": true
        },
        "id": "q_0-aQYdvp38",
        "outputId": "770af0b6-5883-4f7e-cde8-54813df0163b"
      },
      "outputs": [
        {
          "name": "stdout",
          "output_type": "stream",
          "text": [
            "Average CV Score:  0.7604364326375712\n",
            "Test Accuracy Score:  [0.73149905 0.78937381]\n"
          ]
        }
      ],
      "source": [
        "print(\"Average CV Score: \", scores.mean())\n",
        "print(\"Test Accuracy Score: \", scores)"
      ]
    },
    {
      "cell_type": "code",
      "execution_count": null,
      "metadata": {
        "colab": {
          "background_save": true
        },
        "id": "nloOO6dWCrd0"
      },
      "outputs": [],
      "source": [
        "sk_folds = StratifiedKFold(n_splits = 3)\n",
        "scores = cross_val_score(classifier, x, y, cv = sk_folds)"
      ]
    },
    {
      "cell_type": "code",
      "execution_count": null,
      "metadata": {
        "colab": {
          "background_save": true
        },
        "id": "De0t5GoFCrd1",
        "outputId": "61f0d2d5-3d37-4ccb-cbf1-aeadd6454f4f"
      },
      "outputs": [
        {
          "name": "stdout",
          "output_type": "stream",
          "text": [
            "Test Accuracy Score:  [0.74964438 0.76244666 0.77207977]\n"
          ]
        }
      ],
      "source": [
        "print(\"Test Accuracy Score: \", scores)"
      ]
    },
    {
      "cell_type": "code",
      "execution_count": null,
      "metadata": {
        "colab": {
          "background_save": true
        },
        "id": "xvxlMe0fvq5a",
        "outputId": "902aae3c-de22-430a-ac72-65c6f1b927e8"
      },
      "outputs": [
        {
          "name": "stdout",
          "output_type": "stream",
          "text": [
            "Average CV Score:  0.7613902701622001\n",
            "Test Accuracy Score:  [0.74964438 0.76244666 0.77207977]\n"
          ]
        }
      ],
      "source": [
        "print(\"Average CV Score: \", scores.mean())\n",
        "print(\"Test Accuracy Score: \", scores)"
      ]
    },
    {
      "cell_type": "code",
      "execution_count": null,
      "metadata": {
        "colab": {
          "background_save": true
        },
        "id": "onVHs79DCrd1"
      },
      "outputs": [],
      "source": [
        "sk_folds = StratifiedKFold(n_splits = 4)\n",
        "scores = cross_val_score(classifier, x, y, cv = sk_folds)"
      ]
    },
    {
      "cell_type": "code",
      "execution_count": null,
      "metadata": {
        "colab": {
          "background_save": true
        },
        "id": "7zSFjFVmCrd2",
        "outputId": "78c405f0-77c3-4949-a166-9dd3d2dbc51d"
      },
      "outputs": [
        {
          "name": "stdout",
          "output_type": "stream",
          "text": [
            "Test Accuracy Score:  [0.74573055 0.77229602 0.77229602 0.83870968]\n"
          ]
        }
      ],
      "source": [
        "print(\"Test Accuracy Score: \", scores)"
      ]
    },
    {
      "cell_type": "code",
      "execution_count": null,
      "metadata": {
        "colab": {
          "background_save": true
        },
        "id": "UKefFSaivvYV",
        "outputId": "65745c0c-3fe5-47d8-9a3c-db55fa0a6d96"
      },
      "outputs": [
        {
          "name": "stdout",
          "output_type": "stream",
          "text": [
            "Average CV Score:  0.7822580645161291\n",
            "Test Accuracy Score:  [0.74573055 0.77229602 0.77229602 0.83870968]\n"
          ]
        }
      ],
      "source": [
        "print(\"Average CV Score: \", scores.mean())\n",
        "print(\"Test Accuracy Score: \", scores)"
      ]
    },
    {
      "cell_type": "code",
      "execution_count": null,
      "metadata": {
        "colab": {
          "background_save": true
        },
        "id": "Xi2vv4paCrd2"
      },
      "outputs": [],
      "source": [
        "sk_folds = StratifiedKFold(n_splits = 5)\n",
        "scores = cross_val_score(classifier, x, y, cv = sk_folds)"
      ]
    },
    {
      "cell_type": "code",
      "execution_count": null,
      "metadata": {
        "colab": {
          "background_save": true
        },
        "id": "Kmah1ffVCrd3",
        "outputId": "fa493d27-69fb-4b97-e7b2-718f4ac16918"
      },
      "outputs": [
        {
          "name": "stdout",
          "output_type": "stream",
          "text": [
            "Test Accuracy Score:  [0.77725118 0.76777251 0.76777251 0.80760095 0.80760095]\n"
          ]
        }
      ],
      "source": [
        "print(\"Test Accuracy Score: \", scores)"
      ]
    },
    {
      "cell_type": "code",
      "execution_count": null,
      "metadata": {
        "colab": {
          "background_save": true
        },
        "id": "lY6p3uE-vuYt",
        "outputId": "6ca778cc-e63c-4e17-df05-1218768092ad"
      },
      "outputs": [
        {
          "name": "stdout",
          "output_type": "stream",
          "text": [
            "Average CV Score:  0.7855996217536672\n",
            "Test Accuracy Score:  [0.77725118 0.76777251 0.76777251 0.80760095 0.80760095]\n"
          ]
        }
      ],
      "source": [
        "print(\"Average CV Score: \", scores.mean())\n",
        "print(\"Test Accuracy Score: \", scores)"
      ]
    },
    {
      "cell_type": "code",
      "execution_count": null,
      "metadata": {
        "colab": {
          "background_save": true
        },
        "id": "K51c_r8GCrd4"
      },
      "outputs": [],
      "source": [
        "sk_folds = StratifiedKFold(n_splits = 6)\n",
        "scores = cross_val_score(classifier, x, y, cv = sk_folds)"
      ]
    },
    {
      "cell_type": "code",
      "execution_count": null,
      "metadata": {
        "colab": {
          "background_save": true
        },
        "id": "3tLk1D7oCrd4",
        "outputId": "8ada8355-b06e-4e71-a8d4-030275041bc5"
      },
      "outputs": [
        {
          "name": "stdout",
          "output_type": "stream",
          "text": [
            "Test Accuracy Score:  [0.75284091 0.75568182 0.76068376 0.77492877 0.81481481 0.84615385]\n"
          ]
        }
      ],
      "source": [
        "print(\"Test Accuracy Score: \", scores)"
      ]
    },
    {
      "cell_type": "code",
      "execution_count": null,
      "metadata": {
        "colab": {
          "background_save": true
        },
        "id": "4bq3hjkCvtQI",
        "outputId": "b925b5cf-0389-4184-e965-48ba0ed5915b"
      },
      "outputs": [
        {
          "name": "stdout",
          "output_type": "stream",
          "text": [
            "Average CV Score:  0.7841839873089874\n",
            "Test Accuracy Score:  [0.75284091 0.75568182 0.76068376 0.77492877 0.81481481 0.84615385]\n"
          ]
        }
      ],
      "source": [
        "print(\"Average CV Score: \", scores.mean())\n",
        "print(\"Test Accuracy Score: \", scores)"
      ]
    },
    {
      "cell_type": "code",
      "execution_count": null,
      "metadata": {
        "colab": {
          "background_save": true
        },
        "id": "5SnOHXUaCrd5"
      },
      "outputs": [],
      "source": [
        "sk_folds = StratifiedKFold(n_splits = 7)\n",
        "scores = cross_val_score(classifier, x, y, cv = sk_folds)"
      ]
    },
    {
      "cell_type": "code",
      "execution_count": null,
      "metadata": {
        "colab": {
          "background_save": true
        },
        "id": "-d9l3YTsCrd5",
        "outputId": "9d751006-0aa8-4f11-d47e-1c4a9bd91cff"
      },
      "outputs": [
        {
          "name": "stdout",
          "output_type": "stream",
          "text": [
            "Test Accuracy Score:  [0.7781457  0.73754153 0.76079734 0.76744186 0.77408638 0.81395349\n",
            " 0.86378738]\n"
          ]
        }
      ],
      "source": [
        "print(\"Test Accuracy Score: \", scores)"
      ]
    },
    {
      "cell_type": "code",
      "execution_count": null,
      "metadata": {
        "colab": {
          "background_save": true
        },
        "id": "-TaW2LrAvspn",
        "outputId": "916e5512-c072-4642-b632-db67a1e2f1d4"
      },
      "outputs": [
        {
          "name": "stdout",
          "output_type": "stream",
          "text": [
            "Average CV Score:  0.7851076669694521\n",
            "Test Accuracy Score:  [0.7781457  0.73754153 0.76079734 0.76744186 0.77408638 0.81395349\n",
            " 0.86378738]\n"
          ]
        }
      ],
      "source": [
        "print(\"Average CV Score: \", scores.mean())\n",
        "print(\"Test Accuracy Score: \", scores)"
      ]
    },
    {
      "cell_type": "code",
      "execution_count": null,
      "metadata": {
        "colab": {
          "background_save": true
        },
        "id": "nXzSuax6Crd6"
      },
      "outputs": [],
      "source": [
        "sk_folds = StratifiedKFold(n_splits = 8)\n",
        "scores = cross_val_score(classifier, x, y, cv = sk_folds)"
      ]
    },
    {
      "cell_type": "code",
      "execution_count": null,
      "metadata": {
        "colab": {
          "background_save": true
        },
        "id": "DAcP7BF5vx-H",
        "outputId": "b495a5b6-f5d2-453c-8ac7-d70d5223604c"
      },
      "outputs": [
        {
          "name": "stdout",
          "output_type": "stream",
          "text": [
            "Average CV Score:  0.7690078061988709\n",
            "Test Accuracy Score:  [0.81060606 0.68939394 0.76893939 0.73863636 0.7148289  0.78326996\n",
            " 0.80988593 0.8365019 ]\n"
          ]
        }
      ],
      "source": [
        "print(\"Average CV Score: \", scores.mean())\n",
        "print(\"Test Accuracy Score: \", scores)"
      ]
    },
    {
      "cell_type": "code",
      "execution_count": null,
      "metadata": {
        "colab": {
          "background_save": true
        },
        "id": "Lsk0igj-Crd6"
      },
      "outputs": [],
      "source": [
        "sk_folds = StratifiedKFold(n_splits = 9)\n",
        "scores = cross_val_score(classifier, x, y, cv = sk_folds)"
      ]
    },
    {
      "cell_type": "code",
      "execution_count": null,
      "metadata": {
        "colab": {
          "background_save": true
        },
        "id": "OuaHc89uCrd7",
        "outputId": "d024563e-8286-4d0c-e821-9562b0bf66eb"
      },
      "outputs": [
        {
          "name": "stdout",
          "output_type": "stream",
          "text": [
            "Test Accuracy Score:  [0.7787234  0.76595745 0.71367521 0.77350427 0.78632479 0.79059829\n",
            " 0.83760684 0.8034188  0.85470085]\n"
          ]
        }
      ],
      "source": [
        "print(\"Test Accuracy Score: \", scores)"
      ]
    },
    {
      "cell_type": "code",
      "execution_count": null,
      "metadata": {
        "colab": {
          "background_save": true
        },
        "id": "qRIfKPapvxa8",
        "outputId": "7be7764f-83e2-42f5-fc77-c592646443aa"
      },
      "outputs": [
        {
          "name": "stdout",
          "output_type": "stream",
          "text": [
            "Average CV Score:  0.78938999009921\n",
            "Test Accuracy Score:  [0.7787234  0.76595745 0.71367521 0.77350427 0.78632479 0.79059829\n",
            " 0.83760684 0.8034188  0.85470085]\n"
          ]
        }
      ],
      "source": [
        "print(\"Average CV Score: \", scores.mean())\n",
        "print(\"Test Accuracy Score: \", scores)"
      ]
    },
    {
      "cell_type": "code",
      "execution_count": null,
      "metadata": {
        "colab": {
          "background_save": true
        },
        "id": "xDS47RcjCrd8"
      },
      "outputs": [],
      "source": [
        "sk_folds = StratifiedKFold(n_splits = 10)\n",
        "scores = cross_val_score(classifier, x, y, cv = sk_folds)"
      ]
    },
    {
      "cell_type": "code",
      "execution_count": null,
      "metadata": {
        "colab": {
          "background_save": true
        },
        "id": "BOe1NT7yCrd8",
        "outputId": "41690f61-21d5-47f3-cd01-571923c18593"
      },
      "outputs": [
        {
          "name": "stdout",
          "output_type": "stream",
          "text": [
            "Test Accuracy Score:  [0.82938389 0.6492891  0.69194313 0.76777251 0.72511848 0.72037915\n",
            " 0.8056872  0.8436019  0.67142857 0.85238095]\n"
          ]
        }
      ],
      "source": [
        "print(\"Test Accuracy Score: \", scores)"
      ]
    },
    {
      "cell_type": "code",
      "execution_count": null,
      "metadata": {
        "colab": {
          "background_save": true
        },
        "id": "TWt8BmYnvw3O",
        "outputId": "f7add926-6996-48b0-8c6c-d9ed7cebb0d4"
      },
      "outputs": [
        {
          "name": "stdout",
          "output_type": "stream",
          "text": [
            "Average CV Score:  0.755698487925976\n",
            "Test Accuracy Score:  [0.82938389 0.6492891  0.69194313 0.76777251 0.72511848 0.72037915\n",
            " 0.8056872  0.8436019  0.67142857 0.85238095]\n"
          ]
        }
      ],
      "source": [
        "print(\"Average CV Score: \", scores.mean())\n",
        "print(\"Test Accuracy Score: \", scores)"
      ]
    },
    {
      "cell_type": "markdown",
      "metadata": {
        "id": "EFttuLCN0HSr"
      },
      "source": [
        "##**Random Forest**"
      ]
    },
    {
      "cell_type": "code",
      "execution_count": null,
      "metadata": {
        "colab": {
          "background_save": true
        },
        "id": "naCaFWbz0HSs",
        "outputId": "02c12cc6-6522-49b2-de48-63462758424a"
      },
      "outputs": [
        {
          "data": {
            "text/plain": [
              "RandomForestClassifier(criterion='entropy', n_estimators=10)"
            ]
          },
          "execution_count": 1757,
          "metadata": {},
          "output_type": "execute_result"
        }
      ],
      "source": [
        "#Fitting Decision Tree classifier to the training set  \n",
        "from sklearn.ensemble import RandomForestClassifier  \n",
        "classifier= RandomForestClassifier(n_estimators= 10, criterion=\"entropy\")  \n",
        "classifier.fit(x_train, y_train)  "
      ]
    },
    {
      "cell_type": "code",
      "execution_count": null,
      "metadata": {
        "colab": {
          "background_save": true
        },
        "id": "NdEu3fgg0HSs"
      },
      "outputs": [],
      "source": [
        "#Predicting the test set result  \n",
        "y_pred= classifier.predict(x_test)  "
      ]
    },
    {
      "cell_type": "code",
      "execution_count": null,
      "metadata": {
        "colab": {
          "background_save": true
        },
        "id": "tJ1vRvgG0HSs",
        "outputId": "a4f49324-c301-4c99-8e48-e3ce06a72e43"
      },
      "outputs": [
        {
          "name": "stdout",
          "output_type": "stream",
          "text": [
            "[[347  10]\n",
            " [ 45  20]]\n"
          ]
        }
      ],
      "source": [
        "#Creating the Confusion matrix  \n",
        "from sklearn.metrics import confusion_matrix  \n",
        "cm= confusion_matrix(y_test, y_pred)  \n",
        "print(cm)"
      ]
    },
    {
      "cell_type": "code",
      "execution_count": null,
      "metadata": {
        "colab": {
          "background_save": true
        },
        "id": "e7gzE_qJ0HSv",
        "outputId": "c0d84dd4-01ec-41db-e879-536340f52532"
      },
      "outputs": [
        {
          "name": "stdout",
          "output_type": "stream",
          "text": [
            "Test Accuracy Score:  0.8696682464454977\n"
          ]
        }
      ],
      "source": [
        "score_ = accuracy_score(y_test, y_pred)\n",
        "print(\"Test Accuracy Score: \", score_)"
      ]
    },
    {
      "cell_type": "code",
      "execution_count": null,
      "metadata": {
        "colab": {
          "background_save": true
        },
        "id": "Fej_VYX_CtgU"
      },
      "outputs": [],
      "source": [
        "sk_folds = StratifiedKFold(n_splits = 2)\n",
        "scores = cross_val_score(classifier, x, y, cv = sk_folds)"
      ]
    },
    {
      "cell_type": "code",
      "execution_count": null,
      "metadata": {
        "colab": {
          "background_save": true
        },
        "id": "0mPS5iHgCtgW",
        "outputId": "c438924a-890f-491e-da80-cc024928fac8"
      },
      "outputs": [
        {
          "name": "stdout",
          "output_type": "stream",
          "text": [
            "Test Accuracy Score:  [0.81119545 0.83586338]\n"
          ]
        }
      ],
      "source": [
        "print(\"Test Accuracy Score: \", scores)"
      ]
    },
    {
      "cell_type": "code",
      "execution_count": null,
      "metadata": {
        "colab": {
          "background_save": true
        },
        "id": "Uf1qDhesv3wy",
        "outputId": "079042bb-269f-435c-f0f8-afdcf916c66f"
      },
      "outputs": [
        {
          "name": "stdout",
          "output_type": "stream",
          "text": [
            "Average CV Score:  0.8235294117647058\n",
            "Test Accuracy Score:  [0.81119545 0.83586338]\n"
          ]
        }
      ],
      "source": [
        "print(\"Average CV Score: \", scores.mean())\n",
        "print(\"Test Accuracy Score: \", scores)"
      ]
    },
    {
      "cell_type": "code",
      "execution_count": null,
      "metadata": {
        "colab": {
          "background_save": true
        },
        "id": "lEd7_WXYCtgW"
      },
      "outputs": [],
      "source": [
        "sk_folds = StratifiedKFold(n_splits = 3)\n",
        "scores = cross_val_score(classifier, x, y, cv = sk_folds)"
      ]
    },
    {
      "cell_type": "code",
      "execution_count": null,
      "metadata": {
        "colab": {
          "background_save": true
        },
        "id": "e9kMIEYRCtgX",
        "outputId": "e42159d2-f13b-4587-85c4-17220d063be4"
      },
      "outputs": [
        {
          "name": "stdout",
          "output_type": "stream",
          "text": [
            "Test Accuracy Score:  [0.80227596 0.79374111 0.84615385]\n"
          ]
        }
      ],
      "source": [
        "print(\"Test Accuracy Score: \", scores)"
      ]
    },
    {
      "cell_type": "code",
      "execution_count": null,
      "metadata": {
        "colab": {
          "background_save": true
        },
        "id": "g37J-nUxv3Pn",
        "outputId": "18cc523a-05f7-4e94-ab43-70755af7a628"
      },
      "outputs": [
        {
          "name": "stdout",
          "output_type": "stream",
          "text": [
            "Average CV Score:  0.8140569719517088\n",
            "Test Accuracy Score:  [0.80227596 0.79374111 0.84615385]\n"
          ]
        }
      ],
      "source": [
        "print(\"Average CV Score: \", scores.mean())\n",
        "print(\"Test Accuracy Score: \", scores)"
      ]
    },
    {
      "cell_type": "code",
      "execution_count": null,
      "metadata": {
        "colab": {
          "background_save": true
        },
        "id": "Fx7iEBU_CtgY"
      },
      "outputs": [],
      "source": [
        "sk_folds = StratifiedKFold(n_splits = 4)\n",
        "scores = cross_val_score(classifier, x, y, cv = sk_folds)"
      ]
    },
    {
      "cell_type": "code",
      "execution_count": null,
      "metadata": {
        "colab": {
          "background_save": true
        },
        "id": "zTtxN9vzCtgY",
        "outputId": "3e87a072-6ffc-482c-b580-16597f9ca9e5"
      },
      "outputs": [
        {
          "name": "stdout",
          "output_type": "stream",
          "text": [
            "Test Accuracy Score:  [0.80645161 0.80265655 0.81024668 0.85578748]\n"
          ]
        }
      ],
      "source": [
        "print(\"Test Accuracy Score: \", scores)"
      ]
    },
    {
      "cell_type": "code",
      "execution_count": null,
      "metadata": {
        "colab": {
          "background_save": true
        },
        "id": "M7cgl4Nev2u2",
        "outputId": "94e1a281-af75-4146-e167-6ae8d1c4c0bb"
      },
      "outputs": [
        {
          "name": "stdout",
          "output_type": "stream",
          "text": [
            "Average CV Score:  0.818785578747628\n",
            "Test Accuracy Score:  [0.80645161 0.80265655 0.81024668 0.85578748]\n"
          ]
        }
      ],
      "source": [
        "print(\"Average CV Score: \", scores.mean())\n",
        "print(\"Test Accuracy Score: \", scores)"
      ]
    },
    {
      "cell_type": "code",
      "execution_count": null,
      "metadata": {
        "colab": {
          "background_save": true
        },
        "id": "H9MXFcp_CtgZ"
      },
      "outputs": [],
      "source": [
        "sk_folds = StratifiedKFold(n_splits = 5)\n",
        "scores = cross_val_score(classifier, x, y, cv = sk_folds)"
      ]
    },
    {
      "cell_type": "code",
      "execution_count": null,
      "metadata": {
        "colab": {
          "background_save": true
        },
        "id": "UP62jSRECtgZ",
        "outputId": "0d558c63-4535-4b6e-b10a-d18b9a4e164d"
      },
      "outputs": [
        {
          "name": "stdout",
          "output_type": "stream",
          "text": [
            "Test Accuracy Score:  [0.81042654 0.82701422 0.81516588 0.83847981 0.85748219]\n"
          ]
        }
      ],
      "source": [
        "print(\"Test Accuracy Score: \", scores)"
      ]
    },
    {
      "cell_type": "code",
      "execution_count": null,
      "metadata": {
        "colab": {
          "background_save": true
        },
        "id": "Lz6-sbJDv2RQ",
        "outputId": "dbefe132-9a3a-4ecb-b59e-361d956b308e"
      },
      "outputs": [
        {
          "name": "stdout",
          "output_type": "stream",
          "text": [
            "Average CV Score:  0.8297137260640992\n",
            "Test Accuracy Score:  [0.81042654 0.82701422 0.81516588 0.83847981 0.85748219]\n"
          ]
        }
      ],
      "source": [
        "print(\"Average CV Score: \", scores.mean())\n",
        "print(\"Test Accuracy Score: \", scores)"
      ]
    },
    {
      "cell_type": "code",
      "execution_count": null,
      "metadata": {
        "colab": {
          "background_save": true
        },
        "id": "ZexF7iF7Ctga"
      },
      "outputs": [],
      "source": [
        "sk_folds = StratifiedKFold(n_splits = 6)\n",
        "scores = cross_val_score(classifier, x, y, cv = sk_folds)"
      ]
    },
    {
      "cell_type": "code",
      "execution_count": null,
      "metadata": {
        "colab": {
          "background_save": true
        },
        "id": "9hfEKNgBCtgb",
        "outputId": "c7bcf2b0-0041-4d0c-da8b-0a26cf1ba7cf"
      },
      "outputs": [
        {
          "name": "stdout",
          "output_type": "stream",
          "text": [
            "Test Accuracy Score:  [0.79829545 0.80965909 0.80911681 0.79487179 0.84330484 0.83760684]\n"
          ]
        }
      ],
      "source": [
        "print(\"Test Accuracy Score: \", scores)"
      ]
    },
    {
      "cell_type": "code",
      "execution_count": null,
      "metadata": {
        "colab": {
          "background_save": true
        },
        "id": "1oNyVqdKv1hB",
        "outputId": "c53d469a-81d5-4b25-8a0b-690134211664"
      },
      "outputs": [
        {
          "name": "stdout",
          "output_type": "stream",
          "text": [
            "Average CV Score:  0.8154758050591383\n",
            "Test Accuracy Score:  [0.79829545 0.80965909 0.80911681 0.79487179 0.84330484 0.83760684]\n"
          ]
        }
      ],
      "source": [
        "print(\"Average CV Score: \", scores.mean())\n",
        "print(\"Test Accuracy Score: \", scores)"
      ]
    },
    {
      "cell_type": "code",
      "execution_count": null,
      "metadata": {
        "colab": {
          "background_save": true
        },
        "id": "3Pc_ZmCgCtgb"
      },
      "outputs": [],
      "source": [
        "sk_folds = StratifiedKFold(n_splits = 7)\n",
        "scores = cross_val_score(classifier, x, y, cv = sk_folds)"
      ]
    },
    {
      "cell_type": "code",
      "execution_count": null,
      "metadata": {
        "colab": {
          "background_save": true
        },
        "id": "5TNrJfgcCtgc",
        "outputId": "fdd13bbf-3b8c-4d29-c4d0-703ae4939e68"
      },
      "outputs": [
        {
          "name": "stdout",
          "output_type": "stream",
          "text": [
            "Test Accuracy Score:  [0.8410596  0.79069767 0.82724252 0.82392027 0.81395349 0.8538206\n",
            " 0.85714286]\n"
          ]
        }
      ],
      "source": [
        "print(\"Test Accuracy Score: \", scores)"
      ]
    },
    {
      "cell_type": "code",
      "execution_count": null,
      "metadata": {
        "colab": {
          "background_save": true
        },
        "id": "otfVAMGfv7F7",
        "outputId": "e6dc32c2-742c-4d07-cae6-d71452d7f26d"
      },
      "outputs": [
        {
          "name": "stdout",
          "output_type": "stream",
          "text": [
            "Average CV Score:  0.8296910016124114\n",
            "Test Accuracy Score:  [0.8410596  0.79069767 0.82724252 0.82392027 0.81395349 0.8538206\n",
            " 0.85714286]\n"
          ]
        }
      ],
      "source": [
        "print(\"Average CV Score: \", scores.mean())\n",
        "print(\"Test Accuracy Score: \", scores)"
      ]
    },
    {
      "cell_type": "code",
      "execution_count": null,
      "metadata": {
        "colab": {
          "background_save": true
        },
        "id": "vhNtK2dLCtgc"
      },
      "outputs": [],
      "source": [
        "sk_folds = StratifiedKFold(n_splits = 8)\n",
        "scores = cross_val_score(classifier, x, y, cv = sk_folds)"
      ]
    },
    {
      "cell_type": "code",
      "execution_count": null,
      "metadata": {
        "colab": {
          "background_save": true
        },
        "id": "iHULqn12v6vK",
        "outputId": "ee87162a-c22c-4ed5-d559-73dab78ab9ba"
      },
      "outputs": [
        {
          "name": "stdout",
          "output_type": "stream",
          "text": [
            "Average CV Score:  0.8221353266505358\n",
            "Test Accuracy Score:  [0.85227273 0.73484848 0.83333333 0.80681818 0.78326996 0.86311787\n",
            " 0.84030418 0.86311787]\n"
          ]
        }
      ],
      "source": [
        "print(\"Average CV Score: \", scores.mean())\n",
        "print(\"Test Accuracy Score: \", scores)"
      ]
    },
    {
      "cell_type": "code",
      "execution_count": null,
      "metadata": {
        "colab": {
          "background_save": true
        },
        "id": "nJCXWeE9Ctgd"
      },
      "outputs": [],
      "source": [
        "sk_folds = StratifiedKFold(n_splits = 9)\n",
        "scores = cross_val_score(classifier, x, y, cv = sk_folds)"
      ]
    },
    {
      "cell_type": "code",
      "execution_count": null,
      "metadata": {
        "colab": {
          "background_save": true
        },
        "id": "pPhGjQrdCtgd",
        "outputId": "01e5ca1c-521a-46c6-a4e3-627bef5a3142"
      },
      "outputs": [
        {
          "name": "stdout",
          "output_type": "stream",
          "text": [
            "Test Accuracy Score:  [0.84255319 0.75744681 0.84615385 0.85042735 0.84188034 0.7991453\n",
            " 0.83760684 0.82478632 0.89316239]\n"
          ]
        }
      ],
      "source": [
        "print(\"Test Accuracy Score: \", scores)"
      ]
    },
    {
      "cell_type": "code",
      "execution_count": null,
      "metadata": {
        "colab": {
          "background_save": true
        },
        "id": "164fihTdv6Oz",
        "outputId": "b7349b43-1a63-49cf-b9e6-f0d19242ec42"
      },
      "outputs": [
        {
          "name": "stdout",
          "output_type": "stream",
          "text": [
            "Average CV Score:  0.8325735992402659\n",
            "Test Accuracy Score:  [0.84255319 0.75744681 0.84615385 0.85042735 0.84188034 0.7991453\n",
            " 0.83760684 0.82478632 0.89316239]\n"
          ]
        }
      ],
      "source": [
        "print(\"Average CV Score: \", scores.mean())\n",
        "print(\"Test Accuracy Score: \", scores)"
      ]
    },
    {
      "cell_type": "code",
      "execution_count": null,
      "metadata": {
        "colab": {
          "background_save": true
        },
        "id": "xasDbaJpCtgd"
      },
      "outputs": [],
      "source": [
        "sk_folds = StratifiedKFold(n_splits = 10)\n",
        "scores = cross_val_score(classifier, x, y, cv = sk_folds)"
      ]
    },
    {
      "cell_type": "code",
      "execution_count": null,
      "metadata": {
        "colab": {
          "background_save": true
        },
        "id": "Km0eQDBhCtge",
        "outputId": "e176d417-4742-438f-c7c0-7989d8a91526"
      },
      "outputs": [
        {
          "name": "stdout",
          "output_type": "stream",
          "text": [
            "Test Accuracy Score:  [0.84834123 0.77251185 0.82464455 0.83412322 0.79620853 0.81042654\n",
            " 0.82464455 0.86255924 0.80952381 0.8952381 ]\n"
          ]
        }
      ],
      "source": [
        "print(\"Test Accuracy Score: \", scores)"
      ]
    },
    {
      "cell_type": "code",
      "execution_count": null,
      "metadata": {
        "colab": {
          "background_save": true
        },
        "id": "qJJUNysJv5yR",
        "outputId": "9bd289d0-ba84-46a4-f1d1-a37df1f9635b"
      },
      "outputs": [
        {
          "name": "stdout",
          "output_type": "stream",
          "text": [
            "Average CV Score:  0.8278221620401714\n",
            "Test Accuracy Score:  [0.84834123 0.77251185 0.82464455 0.83412322 0.79620853 0.81042654\n",
            " 0.82464455 0.86255924 0.80952381 0.8952381 ]\n"
          ]
        }
      ],
      "source": [
        "print(\"Average CV Score: \", scores.mean())\n",
        "print(\"Test Accuracy Score: \", scores)"
      ]
    },
    {
      "cell_type": "markdown",
      "metadata": {
        "id": "GJ0mrMEp0HSw"
      },
      "source": [
        "##**Bagging**"
      ]
    },
    {
      "cell_type": "code",
      "execution_count": null,
      "metadata": {
        "colab": {
          "background_save": true
        },
        "id": "xCC2GzGU0HSw",
        "outputId": "f16dfd3a-9bd4-4108-acbd-e8f635b0d6e6"
      },
      "outputs": [
        {
          "data": {
            "text/plain": [
              "DecisionTreeClassifier(random_state=21)"
            ]
          },
          "execution_count": 1787,
          "metadata": {},
          "output_type": "execute_result"
        }
      ],
      "source": [
        "from sklearn.tree import DecisionTreeClassifier\n",
        "dtree = DecisionTreeClassifier(random_state=21)\n",
        "dtree.fit(x_train,y_train)"
      ]
    },
    {
      "cell_type": "code",
      "execution_count": null,
      "metadata": {
        "colab": {
          "background_save": true
        },
        "id": "Llz5toVn0HSw",
        "outputId": "5da67db6-81a2-4af6-eff1-3ef6d2ebd37c"
      },
      "outputs": [
        {
          "name": "stdout",
          "output_type": "stream",
          "text": [
            "Train data accuracy: 0.9893238434163701\n",
            "Test data accuracy: 0.8056872037914692\n"
          ]
        }
      ],
      "source": [
        "y_pred = dtree.predict(x_test)\n",
        "\n",
        "print(\"Train data accuracy:\",accuracy_score(y_true = y_train, y_pred = dtree.predict(x_train)))\n",
        "print(\"Test data accuracy:\",accuracy_score(y_true = y_test, y_pred = y_pred))"
      ]
    },
    {
      "cell_type": "code",
      "execution_count": null,
      "metadata": {
        "colab": {
          "background_save": true
        },
        "id": "eBu647T9Cuvl"
      },
      "outputs": [],
      "source": [
        "sk_folds = StratifiedKFold(n_splits = 2)\n",
        "scores = cross_val_score(classifier, x, y, cv = sk_folds)"
      ]
    },
    {
      "cell_type": "code",
      "execution_count": null,
      "metadata": {
        "colab": {
          "background_save": true
        },
        "id": "YKf56n2VCuvm",
        "outputId": "a4c22d53-f916-4f6f-9564-edbc5b251d04"
      },
      "outputs": [
        {
          "name": "stdout",
          "output_type": "stream",
          "text": [
            "Test Accuracy Score:  [0.79506641 0.84535104]\n"
          ]
        }
      ],
      "source": [
        "print(\"Test Accuracy Score: \", scores)"
      ]
    },
    {
      "cell_type": "code",
      "execution_count": null,
      "metadata": {
        "colab": {
          "background_save": true
        },
        "id": "2T20iNz0wBHr",
        "outputId": "ce469378-b691-406a-ee8c-b146f7512958"
      },
      "outputs": [
        {
          "name": "stdout",
          "output_type": "stream",
          "text": [
            "Average CV Score:  0.8202087286527514\n",
            "Test Accuracy Score:  [0.79506641 0.84535104]\n"
          ]
        }
      ],
      "source": [
        "print(\"Average CV Score: \", scores.mean())\n",
        "print(\"Test Accuracy Score: \", scores)"
      ]
    },
    {
      "cell_type": "code",
      "execution_count": null,
      "metadata": {
        "colab": {
          "background_save": true
        },
        "id": "niqU-IPmCuvn"
      },
      "outputs": [],
      "source": [
        "sk_folds = StratifiedKFold(n_splits = 3)\n",
        "scores = cross_val_score(classifier, x, y, cv = sk_folds)"
      ]
    },
    {
      "cell_type": "code",
      "execution_count": null,
      "metadata": {
        "colab": {
          "background_save": true
        },
        "id": "yGkO9gIYCuvo",
        "outputId": "59fce775-f70b-4c84-a369-6d2577c42ba3"
      },
      "outputs": [
        {
          "name": "stdout",
          "output_type": "stream",
          "text": [
            "Test Accuracy Score:  [0.80938834 0.79658606 0.84615385]\n"
          ]
        }
      ],
      "source": [
        "print(\"Test Accuracy Score: \", scores)"
      ]
    },
    {
      "cell_type": "code",
      "execution_count": null,
      "metadata": {
        "colab": {
          "background_save": true
        },
        "id": "nQF_WUL_wAmf",
        "outputId": "ba8bbfb2-3c32-4f18-fb2c-e8f9fcb0fcb7"
      },
      "outputs": [
        {
          "name": "stdout",
          "output_type": "stream",
          "text": [
            "Average CV Score:  0.8173760805339753\n",
            "Test Accuracy Score:  [0.80938834 0.79658606 0.84615385]\n"
          ]
        }
      ],
      "source": [
        "print(\"Average CV Score: \", scores.mean())\n",
        "print(\"Test Accuracy Score: \", scores)"
      ]
    },
    {
      "cell_type": "code",
      "execution_count": null,
      "metadata": {
        "id": "ac6LCp6jCuvo"
      },
      "outputs": [],
      "source": [
        "sk_folds = StratifiedKFold(n_splits = 4)\n",
        "scores = cross_val_score(classifier, x, y, cv = sk_folds)"
      ]
    },
    {
      "cell_type": "code",
      "execution_count": null,
      "metadata": {
        "id": "n7HpLHhiCuvp"
      },
      "outputs": [],
      "source": [
        "print(\"Test Accuracy Score: \", scores)"
      ]
    },
    {
      "cell_type": "code",
      "execution_count": null,
      "metadata": {
        "id": "2AuzHqJ9wAIb"
      },
      "outputs": [],
      "source": [
        "print(\"Average CV Score: \", scores.mean())\n",
        "print(\"Test Accuracy Score: \", scores)"
      ]
    },
    {
      "cell_type": "code",
      "execution_count": null,
      "metadata": {
        "id": "FxJgTbH5Cuvp"
      },
      "outputs": [],
      "source": [
        "sk_folds = StratifiedKFold(n_splits = 5)\n",
        "scores = cross_val_score(classifier, x, y, cv = sk_folds)"
      ]
    },
    {
      "cell_type": "code",
      "execution_count": null,
      "metadata": {
        "id": "wort_dhaCuvq"
      },
      "outputs": [],
      "source": [
        "print(\"Test Accuracy Score: \", scores)"
      ]
    },
    {
      "cell_type": "code",
      "execution_count": null,
      "metadata": {
        "id": "9qh0uq0sv_n3"
      },
      "outputs": [],
      "source": [
        "print(\"Average CV Score: \", scores.mean())\n",
        "print(\"Test Accuracy Score: \", scores)"
      ]
    },
    {
      "cell_type": "code",
      "execution_count": null,
      "metadata": {
        "colab": {
          "background_save": true
        },
        "id": "kaNG6LfZCuvq"
      },
      "outputs": [],
      "source": [
        "sk_folds = StratifiedKFold(n_splits = 6)\n",
        "scores = cross_val_score(classifier, x, y, cv = sk_folds)"
      ]
    },
    {
      "cell_type": "code",
      "execution_count": null,
      "metadata": {
        "colab": {
          "background_save": true
        },
        "id": "zN_OxfcXCuvr",
        "outputId": "a73abba5-42b2-4c8a-a19b-2607995f7827"
      },
      "outputs": [
        {
          "name": "stdout",
          "output_type": "stream",
          "text": [
            "Test Accuracy Score:  [0.82102273 0.81818182 0.8034188  0.7977208  0.82905983 0.86894587]\n"
          ]
        }
      ],
      "source": [
        "print(\"Test Accuracy Score: \", scores)"
      ]
    },
    {
      "cell_type": "code",
      "execution_count": null,
      "metadata": {
        "colab": {
          "background_save": true
        },
        "id": "8zr1mjUQv_CI",
        "outputId": "90417596-2d18-4880-e629-2e9a2c463dc2"
      },
      "outputs": [
        {
          "name": "stdout",
          "output_type": "stream",
          "text": [
            "Average CV Score:  0.8230583074333074\n",
            "Test Accuracy Score:  [0.82102273 0.81818182 0.8034188  0.7977208  0.82905983 0.86894587]\n"
          ]
        }
      ],
      "source": [
        "print(\"Average CV Score: \", scores.mean())\n",
        "print(\"Test Accuracy Score: \", scores)"
      ]
    },
    {
      "cell_type": "code",
      "execution_count": null,
      "metadata": {
        "id": "enob5lWACuvr"
      },
      "outputs": [],
      "source": [
        "sk_folds = StratifiedKFold(n_splits = 7)\n",
        "scores = cross_val_score(classifier, x, y, cv = sk_folds)"
      ]
    },
    {
      "cell_type": "code",
      "execution_count": null,
      "metadata": {
        "id": "8pAcFLz0Cuvs"
      },
      "outputs": [],
      "source": [
        "print(\"Test Accuracy Score: \", scores)"
      ]
    },
    {
      "cell_type": "code",
      "execution_count": null,
      "metadata": {
        "id": "z9-SxiZuwEY8"
      },
      "outputs": [],
      "source": [
        "print(\"Average CV Score: \", scores.mean())\n",
        "print(\"Test Accuracy Score: \", scores)"
      ]
    },
    {
      "cell_type": "code",
      "execution_count": null,
      "metadata": {
        "id": "8jSazkcrwIxa"
      },
      "outputs": [],
      "source": [
        "print(\"Average CV Score: \", scores.mean())\n",
        "print(\"Test Accuracy Score: \", scores)"
      ]
    },
    {
      "cell_type": "code",
      "execution_count": null,
      "metadata": {
        "id": "rjMinufXCuvs"
      },
      "outputs": [],
      "source": [
        "sk_folds = StratifiedKFold(n_splits = 8)\n",
        "scores = cross_val_score(classifier, x, y, cv = sk_folds)"
      ]
    },
    {
      "cell_type": "code",
      "execution_count": null,
      "metadata": {
        "id": "IVdbOPLKwD7s"
      },
      "outputs": [],
      "source": [
        "print(\"Average CV Score: \", scores.mean())\n",
        "print(\"Test Accuracy Score: \", scores)"
      ]
    },
    {
      "cell_type": "code",
      "execution_count": null,
      "metadata": {
        "id": "SVcCEpRLCuvt"
      },
      "outputs": [],
      "source": [
        "sk_folds = StratifiedKFold(n_splits = 9)\n",
        "scores = cross_val_score(classifier, x, y, cv = sk_folds)"
      ]
    },
    {
      "cell_type": "code",
      "execution_count": null,
      "metadata": {
        "id": "6lqRsYxvCuvt"
      },
      "outputs": [],
      "source": [
        "print(\"Test Accuracy Score: \", scores)"
      ]
    },
    {
      "cell_type": "code",
      "execution_count": null,
      "metadata": {
        "id": "9jj2ga4xwDhg"
      },
      "outputs": [],
      "source": [
        "print(\"Average CV Score: \", scores.mean())\n",
        "print(\"Test Accuracy Score: \", scores)"
      ]
    },
    {
      "cell_type": "code",
      "execution_count": null,
      "metadata": {
        "id": "ds8Ts7OTCuvu"
      },
      "outputs": [],
      "source": [
        "sk_folds = StratifiedKFold(n_splits = 10)\n",
        "scores = cross_val_score(classifier, x, y, cv = sk_folds)"
      ]
    },
    {
      "cell_type": "code",
      "execution_count": null,
      "metadata": {
        "id": "btcTvKX6Cuvu"
      },
      "outputs": [],
      "source": [
        "print(\"Test Accuracy Score: \", scores)"
      ]
    },
    {
      "cell_type": "code",
      "execution_count": null,
      "metadata": {
        "id": "M-gCp42wwC39"
      },
      "outputs": [],
      "source": [
        "print(\"Average CV Score: \", scores.mean())\n",
        "print(\"Test Accuracy Score: \", scores)"
      ]
    },
    {
      "cell_type": "markdown",
      "metadata": {
        "id": "Z2rEvkwV0Y2h"
      },
      "source": [
        "#**cm1 Dataset**"
      ]
    },
    {
      "cell_type": "code",
      "execution_count": null,
      "metadata": {
        "id": "hWNOUV8U0fz-"
      },
      "outputs": [],
      "source": [
        "cm1_df"
      ]
    },
    {
      "cell_type": "markdown",
      "metadata": {
        "id": "PRvTuLd30kMP"
      },
      "source": [
        "####**Spiliting Dataset**\n",
        "training: 80% testing:20%"
      ]
    },
    {
      "cell_type": "code",
      "execution_count": null,
      "metadata": {
        "id": "9isLB_yl0kMQ"
      },
      "outputs": [],
      "source": [
        "x = cm1_df.iloc[:,:-1]\n",
        "y = cm1_df.iloc[:,-1]\n",
        "\n",
        "from sklearn.model_selection import train_test_split\n",
        "x_train, x_test, y_train, y_test = train_test_split(x,y,test_size=0.20,random_state=0, stratify=cm1_df.problems)\n",
        "\n",
        "from sklearn.preprocessing import StandardScaler    \n",
        "st_x= StandardScaler()    \n",
        "x_train= st_x.fit_transform(x_train)    \n",
        "x_test= st_x.transform(x_test)  "
      ]
    },
    {
      "cell_type": "markdown",
      "metadata": {
        "id": "g0RwtdRo0kMQ"
      },
      "source": [
        "###**Logistic Regression**"
      ]
    },
    {
      "cell_type": "code",
      "execution_count": null,
      "metadata": {
        "id": "Zcgj_eXu0kMQ"
      },
      "outputs": [],
      "source": [
        "from sklearn.linear_model import LogisticRegression  \n",
        "classifier= LogisticRegression(random_state=0)  \n",
        "classifier.fit(x_train, y_train) \n",
        "\n",
        "y_pred= classifier.predict(x_test)\n",
        "\n",
        "score_ = accuracy_score(y_test, y_pred)\n",
        "print(\"Test Accuracy Score: \", score_)\n",
        "\n",
        "from sklearn.metrics import confusion_matrix  \n",
        "cm= confusion_matrix(y_test,y_pred)\n",
        "print(\"Confusion Matrix: \\n\",cm)"
      ]
    },
    {
      "cell_type": "code",
      "execution_count": null,
      "metadata": {
        "id": "Y8kfQaMKCz07"
      },
      "outputs": [],
      "source": [
        "sk_folds = StratifiedKFold(n_splits = 2)\n",
        "scores = cross_val_score(classifier, x, y, cv = sk_folds)"
      ]
    },
    {
      "cell_type": "code",
      "execution_count": null,
      "metadata": {
        "id": "Xu87Hc5jCz08"
      },
      "outputs": [],
      "source": [
        "print(\"Test Accuracy Score: \", scores)"
      ]
    },
    {
      "cell_type": "code",
      "execution_count": null,
      "metadata": {
        "id": "si5-jsh9vEM5"
      },
      "outputs": [],
      "source": [
        "print(\"Average CV Score: \", scores.mean())\n",
        "print(\"Test Accuracy Score: \", scores)"
      ]
    },
    {
      "cell_type": "code",
      "execution_count": null,
      "metadata": {
        "id": "W-94vCpMCz09"
      },
      "outputs": [],
      "source": [
        "sk_folds = StratifiedKFold(n_splits = 3)\n",
        "scores = cross_val_score(classifier, x, y, cv = sk_folds)"
      ]
    },
    {
      "cell_type": "code",
      "execution_count": null,
      "metadata": {
        "id": "DqD-8eX8Cz0-"
      },
      "outputs": [],
      "source": [
        "print(\"Test Accuracy Score: \", scores)"
      ]
    },
    {
      "cell_type": "code",
      "execution_count": null,
      "metadata": {
        "id": "A_KLD3V9wNlq"
      },
      "outputs": [],
      "source": [
        "print(\"Average CV Score: \", scores.mean())\n",
        "print(\"Test Accuracy Score: \", scores)"
      ]
    },
    {
      "cell_type": "code",
      "execution_count": null,
      "metadata": {
        "id": "u8uabpmmCz0-"
      },
      "outputs": [],
      "source": [
        "sk_folds = StratifiedKFold(n_splits = 4)\n",
        "scores = cross_val_score(classifier, x, y, cv = sk_folds)"
      ]
    },
    {
      "cell_type": "code",
      "execution_count": null,
      "metadata": {
        "id": "WTKWBNH2Cz0_"
      },
      "outputs": [],
      "source": [
        "print(\"Test Accuracy Score: \", scores)"
      ]
    },
    {
      "cell_type": "code",
      "execution_count": null,
      "metadata": {
        "id": "GZDCYctKwO3o"
      },
      "outputs": [],
      "source": [
        "print(\"Average CV Score: \", scores.mean())\n",
        "print(\"Test Accuracy Score: \", scores)"
      ]
    },
    {
      "cell_type": "code",
      "execution_count": null,
      "metadata": {
        "id": "OhIFQKoBCz0_"
      },
      "outputs": [],
      "source": [
        "sk_folds = StratifiedKFold(n_splits = 5)\n",
        "scores = cross_val_score(classifier, x, y, cv = sk_folds)"
      ]
    },
    {
      "cell_type": "code",
      "execution_count": null,
      "metadata": {
        "id": "PoCwqEZJCz1A"
      },
      "outputs": [],
      "source": [
        "print(\"Test Accuracy Score: \", scores)"
      ]
    },
    {
      "cell_type": "code",
      "execution_count": null,
      "metadata": {
        "id": "iMmksMtxwQWP"
      },
      "outputs": [],
      "source": [
        "print(\"Average CV Score: \", scores.mean())\n",
        "print(\"Test Accuracy Score: \", scores)"
      ]
    },
    {
      "cell_type": "code",
      "execution_count": null,
      "metadata": {
        "id": "SeL_OCJ1Cz1B"
      },
      "outputs": [],
      "source": [
        "sk_folds = StratifiedKFold(n_splits = 6)\n",
        "scores = cross_val_score(classifier, x, y, cv = sk_folds)"
      ]
    },
    {
      "cell_type": "code",
      "execution_count": null,
      "metadata": {
        "id": "wAH3saPaCz1B"
      },
      "outputs": [],
      "source": [
        "print(\"Test Accuracy Score: \", scores)"
      ]
    },
    {
      "cell_type": "code",
      "execution_count": null,
      "metadata": {
        "id": "hLi8rtMswRiC"
      },
      "outputs": [],
      "source": [
        "print(\"Average CV Score: \", scores.mean())\n",
        "print(\"Test Accuracy Score: \", scores)"
      ]
    },
    {
      "cell_type": "code",
      "execution_count": null,
      "metadata": {
        "id": "j3fE7Wq3Cz1C"
      },
      "outputs": [],
      "source": [
        "sk_folds = StratifiedKFold(n_splits = 7)\n",
        "scores = cross_val_score(classifier, x, y, cv = sk_folds)"
      ]
    },
    {
      "cell_type": "code",
      "execution_count": null,
      "metadata": {
        "id": "kfMZuEmXCz1C"
      },
      "outputs": [],
      "source": [
        "print(\"Test Accuracy Score: \", scores)"
      ]
    },
    {
      "cell_type": "code",
      "execution_count": null,
      "metadata": {
        "id": "RD9gQALlwSnu"
      },
      "outputs": [],
      "source": [
        "print(\"Average CV Score: \", scores.mean())\n",
        "print(\"Test Accuracy Score: \", scores)"
      ]
    },
    {
      "cell_type": "code",
      "execution_count": null,
      "metadata": {
        "colab": {
          "background_save": true
        },
        "id": "27ueiv5wCz1D",
        "outputId": "70295f55-6fed-40c2-995a-4deeb3eb5d8a"
      },
      "outputs": [
        {
          "name": "stderr",
          "output_type": "stream",
          "text": [
            "/usr/local/lib/python3.8/dist-packages/sklearn/linear_model/_logistic.py:814: ConvergenceWarning: lbfgs failed to converge (status=1):\n",
            "STOP: TOTAL NO. of ITERATIONS REACHED LIMIT.\n",
            "\n",
            "Increase the number of iterations (max_iter) or scale the data as shown in:\n",
            "    https://scikit-learn.org/stable/modules/preprocessing.html\n",
            "Please also refer to the documentation for alternative solver options:\n",
            "    https://scikit-learn.org/stable/modules/linear_model.html#logistic-regression\n",
            "  n_iter_i = _check_optimize_result(\n",
            "/usr/local/lib/python3.8/dist-packages/sklearn/linear_model/_logistic.py:814: ConvergenceWarning: lbfgs failed to converge (status=1):\n",
            "STOP: TOTAL NO. of ITERATIONS REACHED LIMIT.\n",
            "\n",
            "Increase the number of iterations (max_iter) or scale the data as shown in:\n",
            "    https://scikit-learn.org/stable/modules/preprocessing.html\n",
            "Please also refer to the documentation for alternative solver options:\n",
            "    https://scikit-learn.org/stable/modules/linear_model.html#logistic-regression\n",
            "  n_iter_i = _check_optimize_result(\n",
            "/usr/local/lib/python3.8/dist-packages/sklearn/linear_model/_logistic.py:814: ConvergenceWarning: lbfgs failed to converge (status=1):\n",
            "STOP: TOTAL NO. of ITERATIONS REACHED LIMIT.\n",
            "\n",
            "Increase the number of iterations (max_iter) or scale the data as shown in:\n",
            "    https://scikit-learn.org/stable/modules/preprocessing.html\n",
            "Please also refer to the documentation for alternative solver options:\n",
            "    https://scikit-learn.org/stable/modules/linear_model.html#logistic-regression\n",
            "  n_iter_i = _check_optimize_result(\n",
            "/usr/local/lib/python3.8/dist-packages/sklearn/linear_model/_logistic.py:814: ConvergenceWarning: lbfgs failed to converge (status=1):\n",
            "STOP: TOTAL NO. of ITERATIONS REACHED LIMIT.\n",
            "\n",
            "Increase the number of iterations (max_iter) or scale the data as shown in:\n",
            "    https://scikit-learn.org/stable/modules/preprocessing.html\n",
            "Please also refer to the documentation for alternative solver options:\n",
            "    https://scikit-learn.org/stable/modules/linear_model.html#logistic-regression\n",
            "  n_iter_i = _check_optimize_result(\n",
            "/usr/local/lib/python3.8/dist-packages/sklearn/linear_model/_logistic.py:814: ConvergenceWarning: lbfgs failed to converge (status=1):\n",
            "STOP: TOTAL NO. of ITERATIONS REACHED LIMIT.\n",
            "\n",
            "Increase the number of iterations (max_iter) or scale the data as shown in:\n",
            "    https://scikit-learn.org/stable/modules/preprocessing.html\n",
            "Please also refer to the documentation for alternative solver options:\n",
            "    https://scikit-learn.org/stable/modules/linear_model.html#logistic-regression\n",
            "  n_iter_i = _check_optimize_result(\n",
            "/usr/local/lib/python3.8/dist-packages/sklearn/linear_model/_logistic.py:814: ConvergenceWarning: lbfgs failed to converge (status=1):\n",
            "STOP: TOTAL NO. of ITERATIONS REACHED LIMIT.\n",
            "\n",
            "Increase the number of iterations (max_iter) or scale the data as shown in:\n",
            "    https://scikit-learn.org/stable/modules/preprocessing.html\n",
            "Please also refer to the documentation for alternative solver options:\n",
            "    https://scikit-learn.org/stable/modules/linear_model.html#logistic-regression\n",
            "  n_iter_i = _check_optimize_result(\n",
            "/usr/local/lib/python3.8/dist-packages/sklearn/linear_model/_logistic.py:814: ConvergenceWarning: lbfgs failed to converge (status=1):\n",
            "STOP: TOTAL NO. of ITERATIONS REACHED LIMIT.\n",
            "\n",
            "Increase the number of iterations (max_iter) or scale the data as shown in:\n",
            "    https://scikit-learn.org/stable/modules/preprocessing.html\n",
            "Please also refer to the documentation for alternative solver options:\n",
            "    https://scikit-learn.org/stable/modules/linear_model.html#logistic-regression\n",
            "  n_iter_i = _check_optimize_result(\n"
          ]
        }
      ],
      "source": [
        "sk_folds = StratifiedKFold(n_splits = 8)\n",
        "scores = cross_val_score(classifier, x, y, cv = sk_folds)"
      ]
    },
    {
      "cell_type": "code",
      "execution_count": null,
      "metadata": {
        "colab": {
          "background_save": true
        },
        "id": "GYIJ3JGqwU-a",
        "outputId": "47fef2a8-1946-4226-f9de-37bc8a198727"
      },
      "outputs": [
        {
          "name": "stdout",
          "output_type": "stream",
          "text": [
            "Average CV Score:  0.88536866359447\n",
            "Test Accuracy Score:  [0.85714286 0.90322581 0.87096774 0.90322581 0.87096774 0.88709677\n",
            " 0.90322581 0.88709677]\n"
          ]
        }
      ],
      "source": [
        "print(\"Average CV Score: \", scores.mean())\n",
        "print(\"Test Accuracy Score: \", scores)"
      ]
    },
    {
      "cell_type": "code",
      "execution_count": null,
      "metadata": {
        "colab": {
          "background_save": true
        },
        "id": "iM4KzvPoCz1D",
        "outputId": "537644cd-33a8-4ae1-d9e4-3535b848b3e1"
      },
      "outputs": [
        {
          "name": "stderr",
          "output_type": "stream",
          "text": [
            "/usr/local/lib/python3.8/dist-packages/sklearn/linear_model/_logistic.py:814: ConvergenceWarning: lbfgs failed to converge (status=1):\n",
            "STOP: TOTAL NO. of ITERATIONS REACHED LIMIT.\n",
            "\n",
            "Increase the number of iterations (max_iter) or scale the data as shown in:\n",
            "    https://scikit-learn.org/stable/modules/preprocessing.html\n",
            "Please also refer to the documentation for alternative solver options:\n",
            "    https://scikit-learn.org/stable/modules/linear_model.html#logistic-regression\n",
            "  n_iter_i = _check_optimize_result(\n",
            "/usr/local/lib/python3.8/dist-packages/sklearn/linear_model/_logistic.py:814: ConvergenceWarning: lbfgs failed to converge (status=1):\n",
            "STOP: TOTAL NO. of ITERATIONS REACHED LIMIT.\n",
            "\n",
            "Increase the number of iterations (max_iter) or scale the data as shown in:\n",
            "    https://scikit-learn.org/stable/modules/preprocessing.html\n",
            "Please also refer to the documentation for alternative solver options:\n",
            "    https://scikit-learn.org/stable/modules/linear_model.html#logistic-regression\n",
            "  n_iter_i = _check_optimize_result(\n",
            "/usr/local/lib/python3.8/dist-packages/sklearn/linear_model/_logistic.py:814: ConvergenceWarning: lbfgs failed to converge (status=1):\n",
            "STOP: TOTAL NO. of ITERATIONS REACHED LIMIT.\n",
            "\n",
            "Increase the number of iterations (max_iter) or scale the data as shown in:\n",
            "    https://scikit-learn.org/stable/modules/preprocessing.html\n",
            "Please also refer to the documentation for alternative solver options:\n",
            "    https://scikit-learn.org/stable/modules/linear_model.html#logistic-regression\n",
            "  n_iter_i = _check_optimize_result(\n",
            "/usr/local/lib/python3.8/dist-packages/sklearn/linear_model/_logistic.py:814: ConvergenceWarning: lbfgs failed to converge (status=1):\n",
            "STOP: TOTAL NO. of ITERATIONS REACHED LIMIT.\n",
            "\n",
            "Increase the number of iterations (max_iter) or scale the data as shown in:\n",
            "    https://scikit-learn.org/stable/modules/preprocessing.html\n",
            "Please also refer to the documentation for alternative solver options:\n",
            "    https://scikit-learn.org/stable/modules/linear_model.html#logistic-regression\n",
            "  n_iter_i = _check_optimize_result(\n",
            "/usr/local/lib/python3.8/dist-packages/sklearn/linear_model/_logistic.py:814: ConvergenceWarning: lbfgs failed to converge (status=1):\n",
            "STOP: TOTAL NO. of ITERATIONS REACHED LIMIT.\n",
            "\n",
            "Increase the number of iterations (max_iter) or scale the data as shown in:\n",
            "    https://scikit-learn.org/stable/modules/preprocessing.html\n",
            "Please also refer to the documentation for alternative solver options:\n",
            "    https://scikit-learn.org/stable/modules/linear_model.html#logistic-regression\n",
            "  n_iter_i = _check_optimize_result(\n",
            "/usr/local/lib/python3.8/dist-packages/sklearn/linear_model/_logistic.py:814: ConvergenceWarning: lbfgs failed to converge (status=1):\n",
            "STOP: TOTAL NO. of ITERATIONS REACHED LIMIT.\n",
            "\n",
            "Increase the number of iterations (max_iter) or scale the data as shown in:\n",
            "    https://scikit-learn.org/stable/modules/preprocessing.html\n",
            "Please also refer to the documentation for alternative solver options:\n",
            "    https://scikit-learn.org/stable/modules/linear_model.html#logistic-regression\n",
            "  n_iter_i = _check_optimize_result(\n",
            "/usr/local/lib/python3.8/dist-packages/sklearn/linear_model/_logistic.py:814: ConvergenceWarning: lbfgs failed to converge (status=1):\n",
            "STOP: TOTAL NO. of ITERATIONS REACHED LIMIT.\n",
            "\n",
            "Increase the number of iterations (max_iter) or scale the data as shown in:\n",
            "    https://scikit-learn.org/stable/modules/preprocessing.html\n",
            "Please also refer to the documentation for alternative solver options:\n",
            "    https://scikit-learn.org/stable/modules/linear_model.html#logistic-regression\n",
            "  n_iter_i = _check_optimize_result(\n",
            "/usr/local/lib/python3.8/dist-packages/sklearn/linear_model/_logistic.py:814: ConvergenceWarning: lbfgs failed to converge (status=1):\n",
            "STOP: TOTAL NO. of ITERATIONS REACHED LIMIT.\n",
            "\n",
            "Increase the number of iterations (max_iter) or scale the data as shown in:\n",
            "    https://scikit-learn.org/stable/modules/preprocessing.html\n",
            "Please also refer to the documentation for alternative solver options:\n",
            "    https://scikit-learn.org/stable/modules/linear_model.html#logistic-regression\n",
            "  n_iter_i = _check_optimize_result(\n",
            "/usr/local/lib/python3.8/dist-packages/sklearn/linear_model/_logistic.py:814: ConvergenceWarning: lbfgs failed to converge (status=1):\n",
            "STOP: TOTAL NO. of ITERATIONS REACHED LIMIT.\n",
            "\n",
            "Increase the number of iterations (max_iter) or scale the data as shown in:\n",
            "    https://scikit-learn.org/stable/modules/preprocessing.html\n",
            "Please also refer to the documentation for alternative solver options:\n",
            "    https://scikit-learn.org/stable/modules/linear_model.html#logistic-regression\n",
            "  n_iter_i = _check_optimize_result(\n"
          ]
        }
      ],
      "source": [
        "sk_folds = StratifiedKFold(n_splits = 9)\n",
        "scores = cross_val_score(classifier, x, y, cv = sk_folds)"
      ]
    },
    {
      "cell_type": "code",
      "execution_count": null,
      "metadata": {
        "colab": {
          "background_save": true
        },
        "id": "7ny6ZuhCwV9U",
        "outputId": "efc83a64-550a-4697-9475-dc78e5494e62"
      },
      "outputs": [
        {
          "name": "stdout",
          "output_type": "stream",
          "text": [
            "Average CV Score:  0.8853535353535353\n",
            "Test Accuracy Score:  [0.83928571 0.91071429 0.89090909 0.89090909 0.89090909 0.90909091\n",
            " 0.85454545 0.87272727 0.90909091]\n"
          ]
        }
      ],
      "source": [
        "print(\"Average CV Score: \", scores.mean())\n",
        "print(\"Test Accuracy Score: \", scores)"
      ]
    },
    {
      "cell_type": "code",
      "execution_count": null,
      "metadata": {
        "colab": {
          "background_save": true
        },
        "id": "Gmu2On5xCz1E",
        "outputId": "31982fdf-eb51-4b53-b861-cd93ab78cfcb"
      },
      "outputs": [
        {
          "name": "stdout",
          "output_type": "stream",
          "text": [
            "Test Accuracy Score:  [0.83928571 0.91071429 0.89090909 0.89090909 0.89090909 0.90909091\n",
            " 0.85454545 0.87272727 0.90909091]\n"
          ]
        }
      ],
      "source": [
        "print(\"Test Accuracy Score: \", scores)"
      ]
    },
    {
      "cell_type": "code",
      "execution_count": null,
      "metadata": {
        "colab": {
          "background_save": true
        },
        "id": "TRDoUTdxCz1E",
        "outputId": "223d9b28-e715-487a-d75a-7451ce9b7893"
      },
      "outputs": [
        {
          "name": "stderr",
          "output_type": "stream",
          "text": [
            "/usr/local/lib/python3.8/dist-packages/sklearn/linear_model/_logistic.py:814: ConvergenceWarning: lbfgs failed to converge (status=1):\n",
            "STOP: TOTAL NO. of ITERATIONS REACHED LIMIT.\n",
            "\n",
            "Increase the number of iterations (max_iter) or scale the data as shown in:\n",
            "    https://scikit-learn.org/stable/modules/preprocessing.html\n",
            "Please also refer to the documentation for alternative solver options:\n",
            "    https://scikit-learn.org/stable/modules/linear_model.html#logistic-regression\n",
            "  n_iter_i = _check_optimize_result(\n",
            "/usr/local/lib/python3.8/dist-packages/sklearn/linear_model/_logistic.py:814: ConvergenceWarning: lbfgs failed to converge (status=1):\n",
            "STOP: TOTAL NO. of ITERATIONS REACHED LIMIT.\n",
            "\n",
            "Increase the number of iterations (max_iter) or scale the data as shown in:\n",
            "    https://scikit-learn.org/stable/modules/preprocessing.html\n",
            "Please also refer to the documentation for alternative solver options:\n",
            "    https://scikit-learn.org/stable/modules/linear_model.html#logistic-regression\n",
            "  n_iter_i = _check_optimize_result(\n",
            "/usr/local/lib/python3.8/dist-packages/sklearn/linear_model/_logistic.py:814: ConvergenceWarning: lbfgs failed to converge (status=1):\n",
            "STOP: TOTAL NO. of ITERATIONS REACHED LIMIT.\n",
            "\n",
            "Increase the number of iterations (max_iter) or scale the data as shown in:\n",
            "    https://scikit-learn.org/stable/modules/preprocessing.html\n",
            "Please also refer to the documentation for alternative solver options:\n",
            "    https://scikit-learn.org/stable/modules/linear_model.html#logistic-regression\n",
            "  n_iter_i = _check_optimize_result(\n",
            "/usr/local/lib/python3.8/dist-packages/sklearn/linear_model/_logistic.py:814: ConvergenceWarning: lbfgs failed to converge (status=1):\n",
            "STOP: TOTAL NO. of ITERATIONS REACHED LIMIT.\n",
            "\n",
            "Increase the number of iterations (max_iter) or scale the data as shown in:\n",
            "    https://scikit-learn.org/stable/modules/preprocessing.html\n",
            "Please also refer to the documentation for alternative solver options:\n",
            "    https://scikit-learn.org/stable/modules/linear_model.html#logistic-regression\n",
            "  n_iter_i = _check_optimize_result(\n",
            "/usr/local/lib/python3.8/dist-packages/sklearn/linear_model/_logistic.py:814: ConvergenceWarning: lbfgs failed to converge (status=1):\n",
            "STOP: TOTAL NO. of ITERATIONS REACHED LIMIT.\n",
            "\n",
            "Increase the number of iterations (max_iter) or scale the data as shown in:\n",
            "    https://scikit-learn.org/stable/modules/preprocessing.html\n",
            "Please also refer to the documentation for alternative solver options:\n",
            "    https://scikit-learn.org/stable/modules/linear_model.html#logistic-regression\n",
            "  n_iter_i = _check_optimize_result(\n",
            "/usr/local/lib/python3.8/dist-packages/sklearn/linear_model/_logistic.py:814: ConvergenceWarning: lbfgs failed to converge (status=1):\n",
            "STOP: TOTAL NO. of ITERATIONS REACHED LIMIT.\n",
            "\n",
            "Increase the number of iterations (max_iter) or scale the data as shown in:\n",
            "    https://scikit-learn.org/stable/modules/preprocessing.html\n",
            "Please also refer to the documentation for alternative solver options:\n",
            "    https://scikit-learn.org/stable/modules/linear_model.html#logistic-regression\n",
            "  n_iter_i = _check_optimize_result(\n",
            "/usr/local/lib/python3.8/dist-packages/sklearn/linear_model/_logistic.py:814: ConvergenceWarning: lbfgs failed to converge (status=1):\n",
            "STOP: TOTAL NO. of ITERATIONS REACHED LIMIT.\n",
            "\n",
            "Increase the number of iterations (max_iter) or scale the data as shown in:\n",
            "    https://scikit-learn.org/stable/modules/preprocessing.html\n",
            "Please also refer to the documentation for alternative solver options:\n",
            "    https://scikit-learn.org/stable/modules/linear_model.html#logistic-regression\n",
            "  n_iter_i = _check_optimize_result(\n",
            "/usr/local/lib/python3.8/dist-packages/sklearn/linear_model/_logistic.py:814: ConvergenceWarning: lbfgs failed to converge (status=1):\n",
            "STOP: TOTAL NO. of ITERATIONS REACHED LIMIT.\n",
            "\n",
            "Increase the number of iterations (max_iter) or scale the data as shown in:\n",
            "    https://scikit-learn.org/stable/modules/preprocessing.html\n",
            "Please also refer to the documentation for alternative solver options:\n",
            "    https://scikit-learn.org/stable/modules/linear_model.html#logistic-regression\n",
            "  n_iter_i = _check_optimize_result(\n",
            "/usr/local/lib/python3.8/dist-packages/sklearn/linear_model/_logistic.py:814: ConvergenceWarning: lbfgs failed to converge (status=1):\n",
            "STOP: TOTAL NO. of ITERATIONS REACHED LIMIT.\n",
            "\n",
            "Increase the number of iterations (max_iter) or scale the data as shown in:\n",
            "    https://scikit-learn.org/stable/modules/preprocessing.html\n",
            "Please also refer to the documentation for alternative solver options:\n",
            "    https://scikit-learn.org/stable/modules/linear_model.html#logistic-regression\n",
            "  n_iter_i = _check_optimize_result(\n",
            "/usr/local/lib/python3.8/dist-packages/sklearn/linear_model/_logistic.py:814: ConvergenceWarning: lbfgs failed to converge (status=1):\n",
            "STOP: TOTAL NO. of ITERATIONS REACHED LIMIT.\n",
            "\n",
            "Increase the number of iterations (max_iter) or scale the data as shown in:\n",
            "    https://scikit-learn.org/stable/modules/preprocessing.html\n",
            "Please also refer to the documentation for alternative solver options:\n",
            "    https://scikit-learn.org/stable/modules/linear_model.html#logistic-regression\n",
            "  n_iter_i = _check_optimize_result(\n"
          ]
        }
      ],
      "source": [
        "sk_folds = StratifiedKFold(n_splits = 10)\n",
        "scores = cross_val_score(classifier, x, y, cv = sk_folds)"
      ]
    },
    {
      "cell_type": "code",
      "execution_count": null,
      "metadata": {
        "colab": {
          "background_save": true
        },
        "id": "LlhfMZx0Cz1F",
        "outputId": "46e22b91-e044-4cad-b138-8c7693e730dd"
      },
      "outputs": [
        {
          "name": "stdout",
          "output_type": "stream",
          "text": [
            "Test Accuracy Score:  [0.86       0.92       0.9        0.9        0.9        0.86\n",
            " 0.88       0.89795918 0.87755102 0.91836735]\n"
          ]
        }
      ],
      "source": [
        "print(\"Test Accuracy Score: \", scores)"
      ]
    },
    {
      "cell_type": "code",
      "execution_count": null,
      "metadata": {
        "colab": {
          "background_save": true
        },
        "id": "5N-zuvgawaqd",
        "outputId": "95d76c58-db78-4d0b-bad3-becc73ab7b27"
      },
      "outputs": [
        {
          "name": "stdout",
          "output_type": "stream",
          "text": [
            "Average CV Score:  0.8913877551020409\n",
            "Test Accuracy Score:  [0.86       0.92       0.9        0.9        0.9        0.86\n",
            " 0.88       0.89795918 0.87755102 0.91836735]\n"
          ]
        }
      ],
      "source": [
        "print(\"Average CV Score: \", scores.mean())\n",
        "print(\"Test Accuracy Score: \", scores)"
      ]
    },
    {
      "cell_type": "markdown",
      "metadata": {
        "id": "Yzysbbvw0kMR"
      },
      "source": [
        "###**Support Vector Machine Algorithm**"
      ]
    },
    {
      "cell_type": "code",
      "execution_count": null,
      "metadata": {
        "colab": {
          "background_save": true
        },
        "id": "9ptUKenb0kMR",
        "outputId": "cc4f7de2-c91f-4de0-d9f1-983e92928387"
      },
      "outputs": [
        {
          "data": {
            "text/plain": [
              "SVC(random_state=0)"
            ]
          },
          "execution_count": 1845,
          "metadata": {},
          "output_type": "execute_result"
        }
      ],
      "source": [
        "from sklearn.svm import SVC # \"Support vector classifier\"  \n",
        "classifier = SVC(kernel='rbf', random_state=0)  \n",
        "classifier.fit(x_train, y_train)  "
      ]
    },
    {
      "cell_type": "code",
      "execution_count": null,
      "metadata": {
        "colab": {
          "background_save": true
        },
        "id": "uc_E12O90kMR"
      },
      "outputs": [],
      "source": [
        "#Predicting the test set result  \n",
        "y_pred= classifier.predict(x_test)  "
      ]
    },
    {
      "cell_type": "code",
      "execution_count": null,
      "metadata": {
        "colab": {
          "background_save": true
        },
        "id": "aXvBmsHj0kMU",
        "outputId": "7014d55c-032b-4cac-d51b-691e1485e39a"
      },
      "outputs": [
        {
          "name": "stdout",
          "output_type": "stream",
          "text": [
            "[[90  0]\n",
            " [10  0]]\n"
          ]
        }
      ],
      "source": [
        "from sklearn.metrics import confusion_matrix  \n",
        "cm= confusion_matrix(y_test, y_pred)  \n",
        "print(cm)"
      ]
    },
    {
      "cell_type": "code",
      "execution_count": null,
      "metadata": {
        "colab": {
          "background_save": true
        },
        "id": "vBSc7yak0kMU",
        "outputId": "b8401da1-5337-4349-98f9-ef8bdb2dd635"
      },
      "outputs": [
        {
          "name": "stdout",
          "output_type": "stream",
          "text": [
            "Test Accuracy Score:  0.9\n"
          ]
        }
      ],
      "source": [
        "score_ = accuracy_score(y_test, y_pred)\n",
        "print(\"Test Accuracy Score: \", score_)"
      ]
    },
    {
      "cell_type": "code",
      "execution_count": null,
      "metadata": {
        "colab": {
          "background_save": true
        },
        "id": "PUOC0BiYC71j"
      },
      "outputs": [],
      "source": [
        "sk_folds = StratifiedKFold(n_splits = 2)\n",
        "scores = cross_val_score(classifier, x, y, cv = sk_folds)"
      ]
    },
    {
      "cell_type": "code",
      "execution_count": null,
      "metadata": {
        "colab": {
          "background_save": true
        },
        "id": "8UnZCnUBC71k",
        "outputId": "4f004218-bd32-455c-9088-f9a07f6414d7"
      },
      "outputs": [
        {
          "name": "stdout",
          "output_type": "stream",
          "text": [
            "Test Accuracy Score:  [0.89959839 0.90322581]\n"
          ]
        }
      ],
      "source": [
        "print(\"Test Accuracy Score: \", scores)"
      ]
    },
    {
      "cell_type": "code",
      "execution_count": null,
      "metadata": {
        "colab": {
          "background_save": true
        },
        "id": "sfzKsrY9wcOQ",
        "outputId": "0b5ac00c-9a95-46a3-866c-eaa8d877b2e6"
      },
      "outputs": [
        {
          "name": "stdout",
          "output_type": "stream",
          "text": [
            "Average CV Score:  0.901412100012955\n",
            "Test Accuracy Score:  [0.89959839 0.90322581]\n"
          ]
        }
      ],
      "source": [
        "print(\"Average CV Score: \", scores.mean())\n",
        "print(\"Test Accuracy Score: \", scores)"
      ]
    },
    {
      "cell_type": "code",
      "execution_count": null,
      "metadata": {
        "colab": {
          "background_save": true
        },
        "id": "SlRqIKygC71l"
      },
      "outputs": [],
      "source": [
        "sk_folds = StratifiedKFold(n_splits = 3)\n",
        "scores = cross_val_score(classifier, x, y, cv = sk_folds)"
      ]
    },
    {
      "cell_type": "code",
      "execution_count": null,
      "metadata": {
        "colab": {
          "background_save": true
        },
        "id": "IFrA7BsaC71m",
        "outputId": "9388191a-83b0-496b-d5d2-10a90d842bf6"
      },
      "outputs": [
        {
          "name": "stdout",
          "output_type": "stream",
          "text": [
            "Test Accuracy Score:  [0.89759036 0.90361446 0.9030303 ]\n"
          ]
        }
      ],
      "source": [
        "print(\"Test Accuracy Score: \", scores)"
      ]
    },
    {
      "cell_type": "code",
      "execution_count": null,
      "metadata": {
        "colab": {
          "background_save": true
        },
        "id": "fj41xVTJwc1M",
        "outputId": "473db3dc-6de8-45b8-a997-5e31c9ee6407"
      },
      "outputs": [
        {
          "name": "stdout",
          "output_type": "stream",
          "text": [
            "Average CV Score:  0.9014117074358038\n",
            "Test Accuracy Score:  [0.89759036 0.90361446 0.9030303 ]\n"
          ]
        }
      ],
      "source": [
        "print(\"Average CV Score: \", scores.mean())\n",
        "print(\"Test Accuracy Score: \", scores)"
      ]
    },
    {
      "cell_type": "code",
      "execution_count": null,
      "metadata": {
        "colab": {
          "background_save": true
        },
        "id": "kstNRSkDC71n"
      },
      "outputs": [],
      "source": [
        "sk_folds = StratifiedKFold(n_splits = 4)\n",
        "scores = cross_val_score(classifier, x, y, cv = sk_folds)"
      ]
    },
    {
      "cell_type": "code",
      "execution_count": null,
      "metadata": {
        "colab": {
          "background_save": true
        },
        "id": "dHQrMZ5WC71o",
        "outputId": "3f2741a5-8a92-4616-fc15-8f7d2256884c"
      },
      "outputs": [
        {
          "name": "stdout",
          "output_type": "stream",
          "text": [
            "Test Accuracy Score:  [0.896      0.90322581 0.90322581 0.90322581]\n"
          ]
        }
      ],
      "source": [
        "print(\"Test Accuracy Score: \", scores)"
      ]
    },
    {
      "cell_type": "code",
      "execution_count": null,
      "metadata": {
        "colab": {
          "background_save": true
        },
        "id": "-5piaXzEwhir",
        "outputId": "616da7e4-b150-420b-ba34-7c10c9f66b6a"
      },
      "outputs": [
        {
          "name": "stdout",
          "output_type": "stream",
          "text": [
            "Average CV Score:  0.9014193548387097\n",
            "Test Accuracy Score:  [0.896      0.90322581 0.90322581 0.90322581]\n"
          ]
        }
      ],
      "source": [
        "print(\"Average CV Score: \", scores.mean())\n",
        "print(\"Test Accuracy Score: \", scores)"
      ]
    },
    {
      "cell_type": "code",
      "execution_count": null,
      "metadata": {
        "colab": {
          "background_save": true
        },
        "id": "XhT5AV69C71o"
      },
      "outputs": [],
      "source": [
        "sk_folds = StratifiedKFold(n_splits = 5)\n",
        "scores = cross_val_score(classifier, x, y, cv = sk_folds)"
      ]
    },
    {
      "cell_type": "code",
      "execution_count": null,
      "metadata": {
        "colab": {
          "background_save": true
        },
        "id": "FE9Lmtg6C71p",
        "outputId": "2a3af053-3c59-4661-b0d1-90c03888a874"
      },
      "outputs": [
        {
          "name": "stdout",
          "output_type": "stream",
          "text": [
            "Test Accuracy Score:  [0.9        0.9        0.8989899  0.8989899  0.90909091]\n"
          ]
        }
      ],
      "source": [
        "print(\"Test Accuracy Score: \", scores)"
      ]
    },
    {
      "cell_type": "code",
      "execution_count": null,
      "metadata": {
        "colab": {
          "background_save": true
        },
        "id": "XTCLV-KKwgku",
        "outputId": "bf79f2cd-dd67-444c-83bd-ede2f2915285"
      },
      "outputs": [
        {
          "name": "stdout",
          "output_type": "stream",
          "text": [
            "Average CV Score:  0.9014141414141414\n",
            "Test Accuracy Score:  [0.9        0.9        0.8989899  0.8989899  0.90909091]\n"
          ]
        }
      ],
      "source": [
        "print(\"Average CV Score: \", scores.mean())\n",
        "print(\"Test Accuracy Score: \", scores)"
      ]
    },
    {
      "cell_type": "code",
      "execution_count": null,
      "metadata": {
        "colab": {
          "background_save": true
        },
        "id": "kE-aeQ_tC71q"
      },
      "outputs": [],
      "source": [
        "sk_folds = StratifiedKFold(n_splits = 6)\n",
        "scores = cross_val_score(classifier, x, y, cv = sk_folds)"
      ]
    },
    {
      "cell_type": "code",
      "execution_count": null,
      "metadata": {
        "colab": {
          "background_save": true
        },
        "id": "pfMJShm2C71r",
        "outputId": "acfec1a2-9be5-427c-9413-55a9c95aa707"
      },
      "outputs": [
        {
          "name": "stdout",
          "output_type": "stream",
          "text": [
            "Test Accuracy Score:  [0.89156627 0.90361446 0.90361446 0.90361446 0.90361446 0.90243902]\n"
          ]
        }
      ],
      "source": [
        "print(\"Test Accuracy Score: \", scores)"
      ]
    },
    {
      "cell_type": "code",
      "execution_count": null,
      "metadata": {
        "colab": {
          "background_save": true
        },
        "id": "ahnJsAJ5wfqX",
        "outputId": "bb25668c-ff75-4f2e-d9ee-3e7861107865"
      },
      "outputs": [
        {
          "name": "stdout",
          "output_type": "stream",
          "text": [
            "Average CV Score:  0.9014105201292977\n",
            "Test Accuracy Score:  [0.89156627 0.90361446 0.90361446 0.90361446 0.90361446 0.90243902]\n"
          ]
        }
      ],
      "source": [
        "print(\"Average CV Score: \", scores.mean())\n",
        "print(\"Test Accuracy Score: \", scores)"
      ]
    },
    {
      "cell_type": "code",
      "execution_count": null,
      "metadata": {
        "colab": {
          "background_save": true
        },
        "id": "pgSsJZHvC71s"
      },
      "outputs": [],
      "source": [
        "sk_folds = StratifiedKFold(n_splits = 7)\n",
        "scores = cross_val_score(classifier, x, y, cv = sk_folds)"
      ]
    },
    {
      "cell_type": "code",
      "execution_count": null,
      "metadata": {
        "colab": {
          "background_save": true
        },
        "id": "9vt-M-tlC71t",
        "outputId": "4a74b204-33fb-4360-b3fd-4e4217c24307"
      },
      "outputs": [
        {
          "name": "stdout",
          "output_type": "stream",
          "text": [
            "Test Accuracy Score:  [0.90140845 0.90140845 0.90140845 0.90140845 0.90140845 0.90140845\n",
            " 0.90140845]\n"
          ]
        }
      ],
      "source": [
        "print(\"Test Accuracy Score: \", scores)"
      ]
    },
    {
      "cell_type": "code",
      "execution_count": null,
      "metadata": {
        "colab": {
          "background_save": true
        },
        "id": "ciXOPiL1wes0",
        "outputId": "e32e3fbe-30b5-43a3-b5c8-4db867b3be65"
      },
      "outputs": [
        {
          "name": "stdout",
          "output_type": "stream",
          "text": [
            "Average CV Score:  0.9014084507042253\n",
            "Test Accuracy Score:  [0.90140845 0.90140845 0.90140845 0.90140845 0.90140845 0.90140845\n",
            " 0.90140845]\n"
          ]
        }
      ],
      "source": [
        "print(\"Average CV Score: \", scores.mean())\n",
        "print(\"Test Accuracy Score: \", scores)"
      ]
    },
    {
      "cell_type": "code",
      "execution_count": null,
      "metadata": {
        "colab": {
          "background_save": true
        },
        "id": "BhDr6UlMC71u"
      },
      "outputs": [],
      "source": [
        "sk_folds = StratifiedKFold(n_splits = 8)\n",
        "scores = cross_val_score(classifier, x, y, cv = sk_folds)"
      ]
    },
    {
      "cell_type": "code",
      "execution_count": null,
      "metadata": {
        "colab": {
          "background_save": true
        },
        "id": "SP0Snu7BwjiH",
        "outputId": "7d33a978-9853-4888-bc61-449e2451f6dc"
      },
      "outputs": [
        {
          "name": "stdout",
          "output_type": "stream",
          "text": [
            "Average CV Score:  0.9014336917562724\n",
            "Test Accuracy Score:  [0.88888889 0.90322581 0.90322581 0.90322581 0.90322581 0.90322581\n",
            " 0.90322581 0.90322581]\n"
          ]
        }
      ],
      "source": [
        "print(\"Average CV Score: \", scores.mean())\n",
        "print(\"Test Accuracy Score: \", scores)"
      ]
    },
    {
      "cell_type": "code",
      "execution_count": null,
      "metadata": {
        "colab": {
          "background_save": true
        },
        "id": "QVUePnLXC71v"
      },
      "outputs": [],
      "source": [
        "sk_folds = StratifiedKFold(n_splits = 9)\n",
        "scores = cross_val_score(classifier, x, y, cv = sk_folds)"
      ]
    },
    {
      "cell_type": "code",
      "execution_count": null,
      "metadata": {
        "colab": {
          "background_save": true
        },
        "id": "t2xRgGAqC71v",
        "outputId": "bfdb1719-2f26-4140-94d0-af04c6f9d672"
      },
      "outputs": [
        {
          "name": "stdout",
          "output_type": "stream",
          "text": [
            "Test Accuracy Score:  [0.89285714 0.89285714 0.89090909 0.89090909 0.90909091 0.90909091\n",
            " 0.90909091 0.90909091 0.90909091]\n"
          ]
        }
      ],
      "source": [
        "print(\"Test Accuracy Score: \", scores)"
      ]
    },
    {
      "cell_type": "code",
      "execution_count": null,
      "metadata": {
        "colab": {
          "background_save": true
        },
        "id": "GrvNZ-S7wlJk",
        "outputId": "3ee5cd4a-3fb3-49ac-b63b-60b13741be09"
      },
      "outputs": [
        {
          "name": "stdout",
          "output_type": "stream",
          "text": [
            "Average CV Score:  0.9014430014430014\n",
            "Test Accuracy Score:  [0.89285714 0.89285714 0.89090909 0.89090909 0.90909091 0.90909091\n",
            " 0.90909091 0.90909091 0.90909091]\n"
          ]
        }
      ],
      "source": [
        "print(\"Average CV Score: \", scores.mean())\n",
        "print(\"Test Accuracy Score: \", scores)"
      ]
    },
    {
      "cell_type": "code",
      "execution_count": null,
      "metadata": {
        "colab": {
          "background_save": true
        },
        "id": "K7tmUT3zC71w"
      },
      "outputs": [],
      "source": [
        "sk_folds = StratifiedKFold(n_splits = 10)\n",
        "scores = cross_val_score(classifier, x, y, cv = sk_folds)"
      ]
    },
    {
      "cell_type": "code",
      "execution_count": null,
      "metadata": {
        "colab": {
          "background_save": true
        },
        "id": "BLxWqQAhC71x",
        "outputId": "9c8a62f6-b0d0-4e98-f298-c0285e850589"
      },
      "outputs": [
        {
          "name": "stdout",
          "output_type": "stream",
          "text": [
            "Test Accuracy Score:  [0.9        0.9        0.9        0.9        0.9        0.9\n",
            " 0.9        0.89795918 0.89795918 0.91836735]\n"
          ]
        }
      ],
      "source": [
        "print(\"Test Accuracy Score: \", scores)"
      ]
    },
    {
      "cell_type": "code",
      "execution_count": null,
      "metadata": {
        "colab": {
          "background_save": true
        },
        "id": "Q2A20bXnwkkS",
        "outputId": "0749c0e5-682e-47d7-9290-ec8b2faf0aa3"
      },
      "outputs": [
        {
          "name": "stdout",
          "output_type": "stream",
          "text": [
            "Average CV Score:  0.9014285714285716\n",
            "Test Accuracy Score:  [0.9        0.9        0.9        0.9        0.9        0.9\n",
            " 0.9        0.89795918 0.89795918 0.91836735]\n"
          ]
        }
      ],
      "source": [
        "print(\"Average CV Score: \", scores.mean())\n",
        "print(\"Test Accuracy Score: \", scores)"
      ]
    },
    {
      "cell_type": "markdown",
      "metadata": {
        "id": "CqnnAGgI0kMV"
      },
      "source": [
        "##**Decision Tree Algorithm**"
      ]
    },
    {
      "cell_type": "code",
      "execution_count": null,
      "metadata": {
        "colab": {
          "background_save": true
        },
        "id": "tA3eVvRg0kMV",
        "outputId": "6462e49f-8108-4c1b-e58c-bf5a58cf0b1d"
      },
      "outputs": [
        {
          "data": {
            "text/plain": [
              "DecisionTreeClassifier(criterion='entropy', random_state=0)"
            ]
          },
          "execution_count": 1875,
          "metadata": {},
          "output_type": "execute_result"
        }
      ],
      "source": [
        "from sklearn.tree import DecisionTreeClassifier  \n",
        "classifier= DecisionTreeClassifier(criterion='entropy', random_state=0)  \n",
        "classifier.fit(x_train, y_train)  "
      ]
    },
    {
      "cell_type": "code",
      "execution_count": null,
      "metadata": {
        "colab": {
          "background_save": true
        },
        "id": "0SpfpnTb0kMW"
      },
      "outputs": [],
      "source": [
        "#Predicting the test set result  \n",
        "y_pred= classifier.predict(x_test)  "
      ]
    },
    {
      "cell_type": "code",
      "execution_count": null,
      "metadata": {
        "colab": {
          "background_save": true
        },
        "id": "bi-Xe0ak0kMW",
        "outputId": "eb96c06f-53d1-4e3f-9eb3-c355f11c1107"
      },
      "outputs": [
        {
          "name": "stdout",
          "output_type": "stream",
          "text": [
            "[[76 14]\n",
            " [ 9  1]]\n"
          ]
        }
      ],
      "source": [
        "#Creating the Confusion matrix  \n",
        "from sklearn.metrics import confusion_matrix  \n",
        "cm= confusion_matrix(y_test, y_pred) \n",
        "print(cm)"
      ]
    },
    {
      "cell_type": "code",
      "execution_count": null,
      "metadata": {
        "colab": {
          "background_save": true
        },
        "id": "c0BssU000kMX",
        "outputId": "56697d66-62fc-481c-fc1d-7e1c1977ed54"
      },
      "outputs": [
        {
          "name": "stdout",
          "output_type": "stream",
          "text": [
            "Test Accuracy Score:  0.77\n"
          ]
        }
      ],
      "source": [
        "score_ = accuracy_score(y_test, y_pred)\n",
        "print(\"Test Accuracy Score: \", score_)"
      ]
    },
    {
      "cell_type": "code",
      "execution_count": null,
      "metadata": {
        "colab": {
          "background_save": true
        },
        "id": "EyR38OLLC-KR"
      },
      "outputs": [],
      "source": [
        "sk_folds = StratifiedKFold(n_splits = 2)\n",
        "scores = cross_val_score(classifier, x, y, cv = sk_folds)"
      ]
    },
    {
      "cell_type": "code",
      "execution_count": null,
      "metadata": {
        "colab": {
          "background_save": true
        },
        "id": "yI-PIlezC-KS",
        "outputId": "1a497388-4408-40e2-beba-fef533c2d0b1"
      },
      "outputs": [
        {
          "name": "stdout",
          "output_type": "stream",
          "text": [
            "Test Accuracy Score:  [0.81927711 0.83870968]\n"
          ]
        }
      ],
      "source": [
        "print(\"Test Accuracy Score: \", scores)"
      ]
    },
    {
      "cell_type": "code",
      "execution_count": null,
      "metadata": {
        "colab": {
          "background_save": true
        },
        "id": "-uUb_CpZwq0H",
        "outputId": "eba1ba9e-f6cb-439e-a0fc-529f6619b111"
      },
      "outputs": [
        {
          "name": "stdout",
          "output_type": "stream",
          "text": [
            "Average CV Score:  0.828993392926545\n",
            "Test Accuracy Score:  [0.81927711 0.83870968]\n"
          ]
        }
      ],
      "source": [
        "print(\"Average CV Score: \", scores.mean())\n",
        "print(\"Test Accuracy Score: \", scores)"
      ]
    },
    {
      "cell_type": "code",
      "execution_count": null,
      "metadata": {
        "colab": {
          "background_save": true
        },
        "id": "m7s3DO3eC-KS"
      },
      "outputs": [],
      "source": [
        "sk_folds = StratifiedKFold(n_splits = 3)\n",
        "scores = cross_val_score(classifier, x, y, cv = sk_folds)"
      ]
    },
    {
      "cell_type": "code",
      "execution_count": null,
      "metadata": {
        "colab": {
          "background_save": true
        },
        "id": "1fJy44VmC-KT",
        "outputId": "2c1c8fd6-1151-42df-bbed-cf41cdfdc00d"
      },
      "outputs": [
        {
          "name": "stdout",
          "output_type": "stream",
          "text": [
            "Test Accuracy Score:  [0.75301205 0.79518072 0.86060606]\n"
          ]
        }
      ],
      "source": [
        "print(\"Test Accuracy Score: \", scores)"
      ]
    },
    {
      "cell_type": "code",
      "execution_count": null,
      "metadata": {
        "colab": {
          "background_save": true
        },
        "id": "h-YubX9iwqBP",
        "outputId": "2c545790-c5d2-4682-db95-91e8b8c70e6f"
      },
      "outputs": [
        {
          "name": "stdout",
          "output_type": "stream",
          "text": [
            "Average CV Score:  0.8029329438967995\n",
            "Test Accuracy Score:  [0.75301205 0.79518072 0.86060606]\n"
          ]
        }
      ],
      "source": [
        "print(\"Average CV Score: \", scores.mean())\n",
        "print(\"Test Accuracy Score: \", scores)"
      ]
    },
    {
      "cell_type": "code",
      "execution_count": null,
      "metadata": {
        "colab": {
          "background_save": true
        },
        "id": "f4_YpRKBC-KT"
      },
      "outputs": [],
      "source": [
        "sk_folds = StratifiedKFold(n_splits = 4)\n",
        "scores = cross_val_score(classifier, x, y, cv = sk_folds)"
      ]
    },
    {
      "cell_type": "code",
      "execution_count": null,
      "metadata": {
        "colab": {
          "background_save": true
        },
        "id": "nJvb8TRbC-KU",
        "outputId": "23e520ee-2655-45e9-d29c-b7e48068ed76"
      },
      "outputs": [
        {
          "name": "stdout",
          "output_type": "stream",
          "text": [
            "Test Accuracy Score:  [0.792      0.87096774 0.81451613 0.83870968]\n"
          ]
        }
      ],
      "source": [
        "print(\"Test Accuracy Score: \", scores)"
      ]
    },
    {
      "cell_type": "code",
      "execution_count": null,
      "metadata": {
        "colab": {
          "background_save": true
        },
        "id": "x8xaeFxfwph0",
        "outputId": "e3bbd1f2-9f21-4229-b762-dc3084488213"
      },
      "outputs": [
        {
          "name": "stdout",
          "output_type": "stream",
          "text": [
            "Average CV Score:  0.8290483870967742\n",
            "Test Accuracy Score:  [0.792      0.87096774 0.81451613 0.83870968]\n"
          ]
        }
      ],
      "source": [
        "print(\"Average CV Score: \", scores.mean())\n",
        "print(\"Test Accuracy Score: \", scores)"
      ]
    },
    {
      "cell_type": "code",
      "execution_count": null,
      "metadata": {
        "colab": {
          "background_save": true
        },
        "id": "6wI-uDF9C-KV"
      },
      "outputs": [],
      "source": [
        "sk_folds = StratifiedKFold(n_splits = 5)\n",
        "scores = cross_val_score(classifier, x, y, cv = sk_folds)"
      ]
    },
    {
      "cell_type": "code",
      "execution_count": null,
      "metadata": {
        "colab": {
          "background_save": true
        },
        "id": "JmG4OnnqC-KV",
        "outputId": "ca4b3a9f-61c4-4ad4-e36f-3ebc0484a59e"
      },
      "outputs": [
        {
          "name": "stdout",
          "output_type": "stream",
          "text": [
            "Test Accuracy Score:  [0.8        0.8        0.85858586 0.7979798  0.86868687]\n"
          ]
        }
      ],
      "source": [
        "print(\"Test Accuracy Score: \", scores)"
      ]
    },
    {
      "cell_type": "code",
      "execution_count": null,
      "metadata": {
        "colab": {
          "background_save": true
        },
        "id": "9iE1x2jOwpDP",
        "outputId": "eb35246b-e743-4686-c435-270e0d0158c5"
      },
      "outputs": [
        {
          "name": "stdout",
          "output_type": "stream",
          "text": [
            "Average CV Score:  0.8250505050505051\n",
            "Test Accuracy Score:  [0.8        0.8        0.85858586 0.7979798  0.86868687]\n"
          ]
        }
      ],
      "source": [
        "print(\"Average CV Score: \", scores.mean())\n",
        "print(\"Test Accuracy Score: \", scores)"
      ]
    },
    {
      "cell_type": "code",
      "execution_count": null,
      "metadata": {
        "colab": {
          "background_save": true
        },
        "id": "X06B727KC-KW"
      },
      "outputs": [],
      "source": [
        "sk_folds = StratifiedKFold(n_splits = 6)\n",
        "scores = cross_val_score(classifier, x, y, cv = sk_folds)"
      ]
    },
    {
      "cell_type": "code",
      "execution_count": null,
      "metadata": {
        "colab": {
          "background_save": true
        },
        "id": "tgrhso8jC-KW",
        "outputId": "378b85b9-dd8c-420a-e153-c4711a6fb75a"
      },
      "outputs": [
        {
          "name": "stdout",
          "output_type": "stream",
          "text": [
            "Test Accuracy Score:  [0.77108434 0.86746988 0.87951807 0.79518072 0.81927711 0.8902439 ]\n"
          ]
        }
      ],
      "source": [
        "print(\"Test Accuracy Score: \", scores)"
      ]
    },
    {
      "cell_type": "code",
      "execution_count": null,
      "metadata": {
        "colab": {
          "background_save": true
        },
        "id": "VhHLJ5npwoiX",
        "outputId": "845ce0a2-6611-4142-a996-0c3292dbad9c"
      },
      "outputs": [
        {
          "name": "stdout",
          "output_type": "stream",
          "text": [
            "Average CV Score:  0.8371290038201588\n",
            "Test Accuracy Score:  [0.77108434 0.86746988 0.87951807 0.79518072 0.81927711 0.8902439 ]\n"
          ]
        }
      ],
      "source": [
        "print(\"Average CV Score: \", scores.mean())\n",
        "print(\"Test Accuracy Score: \", scores)"
      ]
    },
    {
      "cell_type": "code",
      "execution_count": null,
      "metadata": {
        "colab": {
          "background_save": true
        },
        "id": "-H4MGM_nC-KX"
      },
      "outputs": [],
      "source": [
        "sk_folds = StratifiedKFold(n_splits = 7)\n",
        "scores = cross_val_score(classifier, x, y, cv = sk_folds)"
      ]
    },
    {
      "cell_type": "code",
      "execution_count": null,
      "metadata": {
        "colab": {
          "background_save": true
        },
        "id": "IrpmQKfFC-KX",
        "outputId": "c8be6bcb-6fad-423c-e266-c273c165796b"
      },
      "outputs": [
        {
          "name": "stdout",
          "output_type": "stream",
          "text": [
            "Test Accuracy Score:  [0.8028169  0.8028169  0.84507042 0.83098592 0.74647887 0.90140845\n",
            " 0.87323944]\n"
          ]
        }
      ],
      "source": [
        "print(\"Test Accuracy Score: \", scores)"
      ]
    },
    {
      "cell_type": "code",
      "execution_count": null,
      "metadata": {
        "colab": {
          "background_save": true
        },
        "id": "wVp6dm72wng5",
        "outputId": "b5720fa7-b3fc-4fd1-9442-4b0a74f38591"
      },
      "outputs": [
        {
          "name": "stdout",
          "output_type": "stream",
          "text": [
            "Average CV Score:  0.8289738430583501\n",
            "Test Accuracy Score:  [0.8028169  0.8028169  0.84507042 0.83098592 0.74647887 0.90140845\n",
            " 0.87323944]\n"
          ]
        }
      ],
      "source": [
        "print(\"Average CV Score: \", scores.mean())\n",
        "print(\"Test Accuracy Score: \", scores)"
      ]
    },
    {
      "cell_type": "code",
      "execution_count": null,
      "metadata": {
        "colab": {
          "background_save": true
        },
        "id": "ANOgQkijC-KY"
      },
      "outputs": [],
      "source": [
        "sk_folds = StratifiedKFold(n_splits = 8)\n",
        "scores = cross_val_score(classifier, x, y, cv = sk_folds)"
      ]
    },
    {
      "cell_type": "code",
      "execution_count": null,
      "metadata": {
        "colab": {
          "background_save": true
        },
        "id": "LQzw1oVGwtYf",
        "outputId": "486108d3-6acd-4f9d-d64f-ec9eab7be418"
      },
      "outputs": [
        {
          "name": "stdout",
          "output_type": "stream",
          "text": [
            "Average CV Score:  0.837141577060932\n",
            "Test Accuracy Score:  [0.77777778 0.88709677 0.82258065 0.90322581 0.83870968 0.83870968\n",
            " 0.77419355 0.85483871]\n"
          ]
        }
      ],
      "source": [
        "print(\"Average CV Score: \", scores.mean())\n",
        "print(\"Test Accuracy Score: \", scores)"
      ]
    },
    {
      "cell_type": "code",
      "execution_count": null,
      "metadata": {
        "colab": {
          "background_save": true
        },
        "id": "aqCAmK8GC-KY"
      },
      "outputs": [],
      "source": [
        "sk_folds = StratifiedKFold(n_splits = 9)\n",
        "scores = cross_val_score(classifier, x, y, cv = sk_folds)"
      ]
    },
    {
      "cell_type": "code",
      "execution_count": null,
      "metadata": {
        "colab": {
          "background_save": true
        },
        "id": "_xXZ4MlfC-KZ",
        "outputId": "00a73956-5d89-467e-c482-87debd19e787"
      },
      "outputs": [
        {
          "name": "stdout",
          "output_type": "stream",
          "text": [
            "Test Accuracy Score:  [0.80357143 0.78571429 0.78181818 0.81818182 0.8        0.81818182\n",
            " 0.85454545 0.87272727 0.81818182]\n"
          ]
        }
      ],
      "source": [
        "print(\"Test Accuracy Score: \", scores)"
      ]
    },
    {
      "cell_type": "code",
      "execution_count": null,
      "metadata": {
        "colab": {
          "background_save": true
        },
        "id": "JHCwwsGEws91",
        "outputId": "be75089c-e4d8-4297-dd46-b546ccc72f7c"
      },
      "outputs": [
        {
          "name": "stdout",
          "output_type": "stream",
          "text": [
            "Average CV Score:  0.816991341991342\n",
            "Test Accuracy Score:  [0.80357143 0.78571429 0.78181818 0.81818182 0.8        0.81818182\n",
            " 0.85454545 0.87272727 0.81818182]\n"
          ]
        }
      ],
      "source": [
        "print(\"Average CV Score: \", scores.mean())\n",
        "print(\"Test Accuracy Score: \", scores)"
      ]
    },
    {
      "cell_type": "code",
      "execution_count": null,
      "metadata": {
        "colab": {
          "background_save": true
        },
        "id": "NJOU8k0UC-KZ"
      },
      "outputs": [],
      "source": [
        "sk_folds = StratifiedKFold(n_splits = 10)\n",
        "scores = cross_val_score(classifier, x, y, cv = sk_folds)"
      ]
    },
    {
      "cell_type": "code",
      "execution_count": null,
      "metadata": {
        "colab": {
          "background_save": true
        },
        "id": "FFiPCU_UC-Ka",
        "outputId": "68aea208-302c-47af-c7f9-eacb69b4143f"
      },
      "outputs": [
        {
          "name": "stdout",
          "output_type": "stream",
          "text": [
            "Test Accuracy Score:  [0.84       0.78       0.82       0.86       0.88       0.76\n",
            " 0.84       0.87755102 0.79591837 0.89795918]\n"
          ]
        }
      ],
      "source": [
        "print(\"Test Accuracy Score: \", scores)"
      ]
    },
    {
      "cell_type": "code",
      "execution_count": null,
      "metadata": {
        "colab": {
          "background_save": true
        },
        "id": "vZPrDDIVwsZp",
        "outputId": "42f0569d-c95a-4c43-b027-81735e4ace20"
      },
      "outputs": [
        {
          "name": "stdout",
          "output_type": "stream",
          "text": [
            "Average CV Score:  0.8351428571428571\n",
            "Test Accuracy Score:  [0.84       0.78       0.82       0.86       0.88       0.76\n",
            " 0.84       0.87755102 0.79591837 0.89795918]\n"
          ]
        }
      ],
      "source": [
        "print(\"Average CV Score: \", scores.mean())\n",
        "print(\"Test Accuracy Score: \", scores)"
      ]
    },
    {
      "cell_type": "markdown",
      "metadata": {
        "id": "nfg-J8mX0kMY"
      },
      "source": [
        "##**Random Forest**"
      ]
    },
    {
      "cell_type": "code",
      "execution_count": null,
      "metadata": {
        "colab": {
          "background_save": true
        },
        "id": "w1AruUT70kMY",
        "outputId": "b4dd6208-2549-4472-d9b0-4d3b418e0d93"
      },
      "outputs": [
        {
          "data": {
            "text/plain": [
              "RandomForestClassifier(criterion='entropy', n_estimators=10)"
            ]
          },
          "execution_count": 1905,
          "metadata": {},
          "output_type": "execute_result"
        }
      ],
      "source": [
        "#Fitting Decision Tree classifier to the training set  \n",
        "from sklearn.ensemble import RandomForestClassifier  \n",
        "classifier= RandomForestClassifier(n_estimators= 10, criterion=\"entropy\")  \n",
        "classifier.fit(x_train, y_train)  "
      ]
    },
    {
      "cell_type": "code",
      "execution_count": null,
      "metadata": {
        "colab": {
          "background_save": true
        },
        "id": "xC0IeYjG0kMY"
      },
      "outputs": [],
      "source": [
        "#Predicting the test set result  \n",
        "y_pred= classifier.predict(x_test)  "
      ]
    },
    {
      "cell_type": "code",
      "execution_count": null,
      "metadata": {
        "colab": {
          "background_save": true
        },
        "id": "MtljRmF50kMZ",
        "outputId": "2704c0e8-6cc2-4b9d-a47a-832d38f89999"
      },
      "outputs": [
        {
          "name": "stdout",
          "output_type": "stream",
          "text": [
            "[[90  0]\n",
            " [ 9  1]]\n"
          ]
        }
      ],
      "source": [
        "#Creating the Confusion matrix  \n",
        "from sklearn.metrics import confusion_matrix  \n",
        "cm= confusion_matrix(y_test, y_pred)  \n",
        "print(cm)"
      ]
    },
    {
      "cell_type": "code",
      "execution_count": null,
      "metadata": {
        "colab": {
          "background_save": true
        },
        "id": "a5wxqNn80kMZ",
        "outputId": "bfa71ba4-c645-4cc5-eb77-1808a4203e73"
      },
      "outputs": [
        {
          "name": "stdout",
          "output_type": "stream",
          "text": [
            "Test Accuracy Score:  0.91\n"
          ]
        }
      ],
      "source": [
        "score_ = accuracy_score(y_test, y_pred)\n",
        "print(\"Test Accuracy Score: \", score_)"
      ]
    },
    {
      "cell_type": "code",
      "execution_count": null,
      "metadata": {
        "colab": {
          "background_save": true
        },
        "id": "sZBVsCYxDAQ6"
      },
      "outputs": [],
      "source": [
        "sk_folds = StratifiedKFold(n_splits = 2)\n",
        "scores = cross_val_score(classifier, x, y, cv = sk_folds)"
      ]
    },
    {
      "cell_type": "code",
      "execution_count": null,
      "metadata": {
        "colab": {
          "background_save": true
        },
        "id": "K1AqdbjiDAQ7",
        "outputId": "6568f16c-8b14-4dfa-ab15-2bc9431757bb"
      },
      "outputs": [
        {
          "name": "stdout",
          "output_type": "stream",
          "text": [
            "Test Accuracy Score:  [0.86345382 0.89112903]\n"
          ]
        }
      ],
      "source": [
        "print(\"Test Accuracy Score: \", scores)"
      ]
    },
    {
      "cell_type": "code",
      "execution_count": null,
      "metadata": {
        "colab": {
          "background_save": true
        },
        "id": "aycPCNKEwzOy",
        "outputId": "a0b82fc1-2bcb-4daf-f388-94123467c3fc"
      },
      "outputs": [
        {
          "name": "stdout",
          "output_type": "stream",
          "text": [
            "Average CV Score:  0.8772914237595544\n",
            "Test Accuracy Score:  [0.86345382 0.89112903]\n"
          ]
        }
      ],
      "source": [
        "print(\"Average CV Score: \", scores.mean())\n",
        "print(\"Test Accuracy Score: \", scores)"
      ]
    },
    {
      "cell_type": "code",
      "execution_count": null,
      "metadata": {
        "colab": {
          "background_save": true
        },
        "id": "8wouHPJ1DAQ7"
      },
      "outputs": [],
      "source": [
        "sk_folds = StratifiedKFold(n_splits = 3)\n",
        "scores = cross_val_score(classifier, x, y, cv = sk_folds)"
      ]
    },
    {
      "cell_type": "code",
      "execution_count": null,
      "metadata": {
        "colab": {
          "background_save": true
        },
        "id": "d2qzuM7WDAQ7",
        "outputId": "c5d38fca-0c51-4ee8-fceb-7096116046a1"
      },
      "outputs": [
        {
          "name": "stdout",
          "output_type": "stream",
          "text": [
            "Test Accuracy Score:  [0.87349398 0.89759036 0.8969697 ]\n"
          ]
        }
      ],
      "source": [
        "print(\"Test Accuracy Score: \", scores)"
      ]
    },
    {
      "cell_type": "code",
      "execution_count": null,
      "metadata": {
        "colab": {
          "background_save": true
        },
        "id": "W5AMwCrlwyqk",
        "outputId": "8adda510-0ea9-482d-aae5-db902423fa4e"
      },
      "outputs": [
        {
          "name": "stdout",
          "output_type": "stream",
          "text": [
            "Average CV Score:  0.8893513447730315\n",
            "Test Accuracy Score:  [0.87349398 0.89759036 0.8969697 ]\n"
          ]
        }
      ],
      "source": [
        "print(\"Average CV Score: \", scores.mean())\n",
        "print(\"Test Accuracy Score: \", scores)"
      ]
    },
    {
      "cell_type": "code",
      "execution_count": null,
      "metadata": {
        "colab": {
          "background_save": true
        },
        "id": "0CSFANT9DAQ8"
      },
      "outputs": [],
      "source": [
        "sk_folds = StratifiedKFold(n_splits = 4)\n",
        "scores = cross_val_score(classifier, x, y, cv = sk_folds)"
      ]
    },
    {
      "cell_type": "code",
      "execution_count": null,
      "metadata": {
        "colab": {
          "background_save": true
        },
        "id": "Vmzlcec-DAQ8",
        "outputId": "514b1e0c-3a73-4580-9fa4-dff36f365365"
      },
      "outputs": [
        {
          "name": "stdout",
          "output_type": "stream",
          "text": [
            "Test Accuracy Score:  [0.872      0.87903226 0.91129032 0.88709677]\n"
          ]
        }
      ],
      "source": [
        "print(\"Test Accuracy Score: \", scores)"
      ]
    },
    {
      "cell_type": "code",
      "execution_count": null,
      "metadata": {
        "colab": {
          "background_save": true
        },
        "id": "qnoJJNyRwyI9",
        "outputId": "601ba3a0-b882-438e-8fc1-c7dbb155177b"
      },
      "outputs": [
        {
          "name": "stdout",
          "output_type": "stream",
          "text": [
            "Average CV Score:  0.8873548387096775\n",
            "Test Accuracy Score:  [0.872      0.87903226 0.91129032 0.88709677]\n"
          ]
        }
      ],
      "source": [
        "print(\"Average CV Score: \", scores.mean())\n",
        "print(\"Test Accuracy Score: \", scores)"
      ]
    },
    {
      "cell_type": "code",
      "execution_count": null,
      "metadata": {
        "colab": {
          "background_save": true
        },
        "id": "iBW211s-DAQ8"
      },
      "outputs": [],
      "source": [
        "sk_folds = StratifiedKFold(n_splits = 5)\n",
        "scores = cross_val_score(classifier, x, y, cv = sk_folds)"
      ]
    },
    {
      "cell_type": "code",
      "execution_count": null,
      "metadata": {
        "colab": {
          "background_save": true
        },
        "id": "IDzEKhodDAQ8",
        "outputId": "619fd0fd-092d-4021-a36b-1c8a935e7975"
      },
      "outputs": [
        {
          "name": "stdout",
          "output_type": "stream",
          "text": [
            "Test Accuracy Score:  [0.86       0.88       0.88888889 0.88888889 0.8989899 ]\n"
          ]
        }
      ],
      "source": [
        "print(\"Test Accuracy Score: \", scores)"
      ]
    },
    {
      "cell_type": "code",
      "execution_count": null,
      "metadata": {
        "colab": {
          "background_save": true
        },
        "id": "EPiCtQmIwxpl",
        "outputId": "b4356e26-344f-407d-ab7d-ffb040441aaa"
      },
      "outputs": [
        {
          "name": "stdout",
          "output_type": "stream",
          "text": [
            "Average CV Score:  0.8833535353535353\n",
            "Test Accuracy Score:  [0.86       0.88       0.88888889 0.88888889 0.8989899 ]\n"
          ]
        }
      ],
      "source": [
        "print(\"Average CV Score: \", scores.mean())\n",
        "print(\"Test Accuracy Score: \", scores)"
      ]
    },
    {
      "cell_type": "code",
      "execution_count": null,
      "metadata": {
        "colab": {
          "background_save": true
        },
        "id": "ezoxeLGIDAQ9"
      },
      "outputs": [],
      "source": [
        "sk_folds = StratifiedKFold(n_splits = 6)\n",
        "scores = cross_val_score(classifier, x, y, cv = sk_folds)"
      ]
    },
    {
      "cell_type": "code",
      "execution_count": null,
      "metadata": {
        "colab": {
          "background_save": true
        },
        "id": "GaE7krQqDAQ9",
        "outputId": "a2d2efd4-ada6-4a53-f44d-b99a118fb6ac"
      },
      "outputs": [
        {
          "name": "stdout",
          "output_type": "stream",
          "text": [
            "Test Accuracy Score:  [0.86746988 0.89156627 0.89156627 0.86746988 0.90361446 0.90243902]\n"
          ]
        }
      ],
      "source": [
        "print(\"Test Accuracy Score: \", scores)"
      ]
    },
    {
      "cell_type": "code",
      "execution_count": null,
      "metadata": {
        "colab": {
          "background_save": true
        },
        "id": "F25op5Anww5u",
        "outputId": "83367057-21db-4cb2-84c4-ec44fbfd0cdc"
      },
      "outputs": [
        {
          "name": "stdout",
          "output_type": "stream",
          "text": [
            "Average CV Score:  0.8873542952296992\n",
            "Test Accuracy Score:  [0.86746988 0.89156627 0.89156627 0.86746988 0.90361446 0.90243902]\n"
          ]
        }
      ],
      "source": [
        "print(\"Average CV Score: \", scores.mean())\n",
        "print(\"Test Accuracy Score: \", scores)"
      ]
    },
    {
      "cell_type": "code",
      "execution_count": null,
      "metadata": {
        "colab": {
          "background_save": true
        },
        "id": "R2c6hvbpDAQ9"
      },
      "outputs": [],
      "source": [
        "sk_folds = StratifiedKFold(n_splits = 7)\n",
        "scores = cross_val_score(classifier, x, y, cv = sk_folds)"
      ]
    },
    {
      "cell_type": "code",
      "execution_count": null,
      "metadata": {
        "colab": {
          "background_save": true
        },
        "id": "kJs9c_2hDAQ-",
        "outputId": "05ea2911-b594-470d-d76c-cc1fd07b2cfe"
      },
      "outputs": [
        {
          "name": "stdout",
          "output_type": "stream",
          "text": [
            "Test Accuracy Score:  [0.85915493 0.91549296 0.91549296 0.90140845 0.90140845 0.87323944\n",
            " 0.87323944]\n"
          ]
        }
      ],
      "source": [
        "print(\"Test Accuracy Score: \", scores)"
      ]
    },
    {
      "cell_type": "code",
      "execution_count": null,
      "metadata": {
        "colab": {
          "background_save": true
        },
        "id": "ZsSW-w9uw3lv",
        "outputId": "e45b69bb-3769-4083-c7a9-022776eb595e"
      },
      "outputs": [
        {
          "name": "stdout",
          "output_type": "stream",
          "text": [
            "Average CV Score:  0.891348088531187\n",
            "Test Accuracy Score:  [0.85915493 0.91549296 0.91549296 0.90140845 0.90140845 0.87323944\n",
            " 0.87323944]\n"
          ]
        }
      ],
      "source": [
        "print(\"Average CV Score: \", scores.mean())\n",
        "print(\"Test Accuracy Score: \", scores)"
      ]
    },
    {
      "cell_type": "code",
      "execution_count": null,
      "metadata": {
        "colab": {
          "background_save": true
        },
        "id": "1Vks2AX6DAQ-"
      },
      "outputs": [],
      "source": [
        "sk_folds = StratifiedKFold(n_splits = 8)\n",
        "scores = cross_val_score(classifier, x, y, cv = sk_folds)"
      ]
    },
    {
      "cell_type": "code",
      "execution_count": null,
      "metadata": {
        "colab": {
          "background_save": true
        },
        "id": "ckBQqGOVw3Lz",
        "outputId": "0e52f010-6794-4c37-e861-56e4d0084d65"
      },
      "outputs": [
        {
          "name": "stdout",
          "output_type": "stream",
          "text": [
            "Average CV Score:  0.8894009216589862\n",
            "Test Accuracy Score:  [0.85714286 0.90322581 0.87096774 0.88709677 0.90322581 0.90322581\n",
            " 0.90322581 0.88709677]\n"
          ]
        }
      ],
      "source": [
        "print(\"Average CV Score: \", scores.mean())\n",
        "print(\"Test Accuracy Score: \", scores)"
      ]
    },
    {
      "cell_type": "code",
      "execution_count": null,
      "metadata": {
        "id": "du9bpS24DAQ-"
      },
      "outputs": [],
      "source": [
        "sk_folds = StratifiedKFold(n_splits = 9)\n",
        "scores = cross_val_score(classifier, x, y, cv = sk_folds)"
      ]
    },
    {
      "cell_type": "code",
      "execution_count": null,
      "metadata": {
        "id": "ccDiQtACDAQ-"
      },
      "outputs": [],
      "source": [
        "print(\"Test Accuracy Score: \", scores)"
      ]
    },
    {
      "cell_type": "code",
      "execution_count": null,
      "metadata": {
        "id": "GQA6YvA0w2sW"
      },
      "outputs": [],
      "source": [
        "print(\"Average CV Score: \", scores.mean())\n",
        "print(\"Test Accuracy Score: \", scores)"
      ]
    },
    {
      "cell_type": "code",
      "execution_count": null,
      "metadata": {
        "id": "VfBPjhANDAQ_"
      },
      "outputs": [],
      "source": [
        "sk_folds = StratifiedKFold(n_splits = 10)\n",
        "scores = cross_val_score(classifier, x, y, cv = sk_folds)"
      ]
    },
    {
      "cell_type": "code",
      "execution_count": null,
      "metadata": {
        "id": "fL0-4cGPDAQ_"
      },
      "outputs": [],
      "source": [
        "print(\"Test Accuracy Score: \", scores)"
      ]
    },
    {
      "cell_type": "code",
      "execution_count": null,
      "metadata": {
        "id": "wjUWpgZiw2Nu"
      },
      "outputs": [],
      "source": [
        "print(\"Average CV Score: \", scores.mean())\n",
        "print(\"Test Accuracy Score: \", scores)"
      ]
    },
    {
      "cell_type": "markdown",
      "metadata": {
        "id": "SEKqj0XL0kMa"
      },
      "source": [
        "##**Bagging**"
      ]
    },
    {
      "cell_type": "code",
      "execution_count": null,
      "metadata": {
        "id": "TaglCHrW0kMb"
      },
      "outputs": [],
      "source": [
        "from sklearn.tree import DecisionTreeClassifier\n",
        "dtree = DecisionTreeClassifier(random_state=21)\n",
        "dtree.fit(x_train,y_train)"
      ]
    },
    {
      "cell_type": "code",
      "execution_count": null,
      "metadata": {
        "id": "n7bMGEzW0kMb"
      },
      "outputs": [],
      "source": [
        "y_pred = dtree.predict(x_test)\n",
        "\n",
        "print(\"Train data accuracy:\",accuracy_score(y_true = y_train, y_pred = dtree.predict(x_train)))\n",
        "print(\"Test data accuracy:\",accuracy_score(y_true = y_test, y_pred = y_pred))"
      ]
    },
    {
      "cell_type": "code",
      "execution_count": null,
      "metadata": {
        "id": "qH3_AopKDCI1"
      },
      "outputs": [],
      "source": [
        "sk_folds = StratifiedKFold(n_splits = 2)\n",
        "scores = cross_val_score(classifier, x, y, cv = sk_folds)"
      ]
    },
    {
      "cell_type": "code",
      "execution_count": null,
      "metadata": {
        "id": "atHc49G5DCI2"
      },
      "outputs": [],
      "source": [
        "print(\"Test Accuracy Score: \", scores)"
      ]
    },
    {
      "cell_type": "code",
      "execution_count": null,
      "metadata": {
        "id": "GJeeGFrCw9KN"
      },
      "outputs": [],
      "source": [
        "print(\"Average CV Score: \", scores.mean())\n",
        "print(\"Test Accuracy Score: \", scores)"
      ]
    },
    {
      "cell_type": "code",
      "execution_count": null,
      "metadata": {
        "id": "ZG-SvPqfDCI2"
      },
      "outputs": [],
      "source": [
        "sk_folds = StratifiedKFold(n_splits = 3)\n",
        "scores = cross_val_score(classifier, x, y, cv = sk_folds)"
      ]
    },
    {
      "cell_type": "code",
      "execution_count": null,
      "metadata": {
        "id": "lwEt3ZcuDCI3"
      },
      "outputs": [],
      "source": [
        "print(\"Test Accuracy Score: \", scores)"
      ]
    },
    {
      "cell_type": "code",
      "execution_count": null,
      "metadata": {
        "id": "KUrb-x6Mw8m7"
      },
      "outputs": [],
      "source": [
        "print(\"Average CV Score: \", scores.mean())\n",
        "print(\"Test Accuracy Score: \", scores)"
      ]
    },
    {
      "cell_type": "code",
      "execution_count": null,
      "metadata": {
        "id": "VCHyqak2DCI3"
      },
      "outputs": [],
      "source": [
        "sk_folds = StratifiedKFold(n_splits = 4)\n",
        "scores = cross_val_score(classifier, x, y, cv = sk_folds)"
      ]
    },
    {
      "cell_type": "code",
      "execution_count": null,
      "metadata": {
        "id": "qRJf8c-WDCI3"
      },
      "outputs": [],
      "source": [
        "print(\"Test Accuracy Score: \", scores)"
      ]
    },
    {
      "cell_type": "code",
      "execution_count": null,
      "metadata": {
        "id": "7QTM-ktow8MO"
      },
      "outputs": [],
      "source": [
        "print(\"Average CV Score: \", scores.mean())\n",
        "print(\"Test Accuracy Score: \", scores)"
      ]
    },
    {
      "cell_type": "code",
      "execution_count": null,
      "metadata": {
        "id": "a814-6p-DCI3"
      },
      "outputs": [],
      "source": [
        "sk_folds = StratifiedKFold(n_splits = 5)\n",
        "scores = cross_val_score(classifier, x, y, cv = sk_folds)"
      ]
    },
    {
      "cell_type": "code",
      "execution_count": null,
      "metadata": {
        "id": "g58e5SffDCI4"
      },
      "outputs": [],
      "source": [
        "print(\"Test Accuracy Score: \", scores)"
      ]
    },
    {
      "cell_type": "code",
      "execution_count": null,
      "metadata": {
        "id": "hGw2hLmZw7rs"
      },
      "outputs": [],
      "source": [
        "print(\"Average CV Score: \", scores.mean())\n",
        "print(\"Test Accuracy Score: \", scores)"
      ]
    },
    {
      "cell_type": "code",
      "execution_count": null,
      "metadata": {
        "colab": {
          "background_save": true
        },
        "id": "c_8U-098DCI4"
      },
      "outputs": [],
      "source": [
        "sk_folds = StratifiedKFold(n_splits = 6)\n",
        "scores = cross_val_score(classifier, x, y, cv = sk_folds)"
      ]
    },
    {
      "cell_type": "code",
      "execution_count": null,
      "metadata": {
        "colab": {
          "background_save": true
        },
        "id": "CmbtRnSyDCI4",
        "outputId": "6336b4a7-9fbe-47ff-cc7c-c26f07abc59f"
      },
      "outputs": [
        {
          "name": "stdout",
          "output_type": "stream",
          "text": [
            "Test Accuracy Score:  [0.87951807 0.86746988 0.89156627 0.89156627 0.90361446 0.90243902]\n"
          ]
        }
      ],
      "source": [
        "print(\"Test Accuracy Score: \", scores)"
      ]
    },
    {
      "cell_type": "code",
      "execution_count": null,
      "metadata": {
        "colab": {
          "background_save": true
        },
        "id": "GBmDRdGVxD5e",
        "outputId": "77cb2d19-e838-458c-fbaa-15e1e27d08e2"
      },
      "outputs": [
        {
          "name": "stdout",
          "output_type": "stream",
          "text": [
            "Average CV Score:  0.8893623273582133\n",
            "Test Accuracy Score:  [0.87951807 0.86746988 0.89156627 0.89156627 0.90361446 0.90243902]\n"
          ]
        }
      ],
      "source": [
        "print(\"Average CV Score: \", scores.mean())\n",
        "print(\"Test Accuracy Score: \", scores)"
      ]
    },
    {
      "cell_type": "code",
      "execution_count": null,
      "metadata": {
        "colab": {
          "background_save": true
        },
        "id": "XG3I4Rv5DCI5"
      },
      "outputs": [],
      "source": [
        "sk_folds = StratifiedKFold(n_splits = 7)\n",
        "scores = cross_val_score(classifier, x, y, cv = sk_folds)"
      ]
    },
    {
      "cell_type": "code",
      "execution_count": null,
      "metadata": {
        "colab": {
          "background_save": true
        },
        "id": "aH425gA7DCI5",
        "outputId": "aa8e5d10-069e-4fb3-dec4-615d99cefe92"
      },
      "outputs": [
        {
          "name": "stdout",
          "output_type": "stream",
          "text": [
            "Test Accuracy Score:  [0.88732394 0.87323944 0.88732394 0.87323944 0.90140845 0.88732394\n",
            " 0.90140845]\n"
          ]
        }
      ],
      "source": [
        "print(\"Test Accuracy Score: \", scores)"
      ]
    },
    {
      "cell_type": "code",
      "execution_count": null,
      "metadata": {
        "colab": {
          "background_save": true
        },
        "id": "Q98Yl6SCw_S3",
        "outputId": "87bea727-452a-47d5-b4cd-8a82a77cbab8"
      },
      "outputs": [
        {
          "name": "stdout",
          "output_type": "stream",
          "text": [
            "Average CV Score:  0.8873239436619718\n",
            "Test Accuracy Score:  [0.88732394 0.87323944 0.88732394 0.87323944 0.90140845 0.88732394\n",
            " 0.90140845]\n"
          ]
        }
      ],
      "source": [
        "print(\"Average CV Score: \", scores.mean())\n",
        "print(\"Test Accuracy Score: \", scores)"
      ]
    },
    {
      "cell_type": "code",
      "execution_count": null,
      "metadata": {
        "id": "r3rEhJwYDCI5"
      },
      "outputs": [],
      "source": [
        "sk_folds = StratifiedKFold(n_splits = 8)\n",
        "scores = cross_val_score(classifier, x, y, cv = sk_folds)"
      ]
    },
    {
      "cell_type": "code",
      "execution_count": null,
      "metadata": {
        "id": "1kIL9Xrxw-th"
      },
      "outputs": [],
      "source": [
        "print(\"Average CV Score: \", scores.mean())\n",
        "print(\"Test Accuracy Score: \", scores)"
      ]
    },
    {
      "cell_type": "code",
      "execution_count": null,
      "metadata": {
        "id": "b8Ssu1soDCI5"
      },
      "outputs": [],
      "source": [
        "sk_folds = StratifiedKFold(n_splits = 9)\n",
        "scores = cross_val_score(classifier, x, y, cv = sk_folds)"
      ]
    },
    {
      "cell_type": "code",
      "execution_count": null,
      "metadata": {
        "id": "ZTeUs5tPDCI6"
      },
      "outputs": [],
      "source": [
        "print(\"Test Accuracy Score: \", scores)"
      ]
    },
    {
      "cell_type": "code",
      "execution_count": null,
      "metadata": {
        "id": "X1RNU1KkxG10"
      },
      "outputs": [],
      "source": [
        "print(\"Average CV Score: \", scores.mean())\n",
        "print(\"Test Accuracy Score: \", scores)"
      ]
    },
    {
      "cell_type": "code",
      "execution_count": null,
      "metadata": {
        "id": "F5c0LJdtDCI6"
      },
      "outputs": [],
      "source": [
        "sk_folds = StratifiedKFold(n_splits = 10)\n",
        "scores = cross_val_score(classifier, x, y, cv = sk_folds)"
      ]
    },
    {
      "cell_type": "code",
      "execution_count": null,
      "metadata": {
        "id": "-gEKiMARDCI6"
      },
      "outputs": [],
      "source": [
        "print(\"Test Accuracy Score: \", scores)"
      ]
    },
    {
      "cell_type": "code",
      "execution_count": null,
      "metadata": {
        "id": "vXNs-mwixH0_"
      },
      "outputs": [],
      "source": [
        "print(\"Average CV Score: \", scores.mean())\n",
        "print(\"Test Accuracy Score: \", scores)"
      ]
    },
    {
      "cell_type": "markdown",
      "metadata": {
        "id": "xcppo_930sdY"
      },
      "source": [
        "#**pc1**"
      ]
    },
    {
      "cell_type": "code",
      "execution_count": null,
      "metadata": {
        "id": "vKX-kuaw02fj"
      },
      "outputs": [],
      "source": [
        "pc1_df"
      ]
    },
    {
      "cell_type": "markdown",
      "metadata": {
        "id": "25nNti350v9c"
      },
      "source": [
        "####**Spiliting Dataset**\n",
        "training: 80% testing:20%"
      ]
    },
    {
      "cell_type": "code",
      "execution_count": null,
      "metadata": {
        "id": "TF_7nnjR0v9d"
      },
      "outputs": [],
      "source": [
        "x = pc1_df.iloc[:,:-1]\n",
        "y = pc1_df.iloc[:,-1]\n",
        "\n",
        "from sklearn.model_selection import train_test_split\n",
        "x_train, x_test, y_train, y_test = train_test_split(x,y,test_size=0.20,random_state=0, stratify=pc1_df.problems)\n",
        "\n",
        "from sklearn.preprocessing import StandardScaler    \n",
        "st_x= StandardScaler()    \n",
        "x_train= st_x.fit_transform(x_train)    \n",
        "x_test= st_x.transform(x_test)  "
      ]
    },
    {
      "cell_type": "markdown",
      "metadata": {
        "id": "DDSu65FY0v9d"
      },
      "source": [
        "###**Logistic Regression**"
      ]
    },
    {
      "cell_type": "code",
      "execution_count": null,
      "metadata": {
        "id": "_4cxW6z30v9e"
      },
      "outputs": [],
      "source": [
        "from sklearn.linear_model import LogisticRegression  \n",
        "classifier= LogisticRegression(random_state=0)  \n",
        "classifier.fit(x_train, y_train) \n",
        "\n",
        "y_pred= classifier.predict(x_test)\n",
        "\n",
        "score_ = accuracy_score(y_test, y_pred)\n",
        "print(\"Test Accuracy Score: \", score_)\n",
        "\n",
        "from sklearn.metrics import confusion_matrix  \n",
        "cm= confusion_matrix(y_test,y_pred)\n",
        "print(\"Confusion Matrix: \\n\",cm)"
      ]
    },
    {
      "cell_type": "code",
      "execution_count": null,
      "metadata": {
        "id": "oR3aOEMiDFNL"
      },
      "outputs": [],
      "source": [
        "sk_folds = StratifiedKFold(n_splits = 2)\n",
        "scores = cross_val_score(classifier, x, y, cv = sk_folds)"
      ]
    },
    {
      "cell_type": "code",
      "execution_count": null,
      "metadata": {
        "id": "B-Ohp08pDFNM"
      },
      "outputs": [],
      "source": [
        "print(\"Test Accuracy Score: \", scores)"
      ]
    },
    {
      "cell_type": "code",
      "execution_count": null,
      "metadata": {
        "id": "txNNtRGhxKFp"
      },
      "outputs": [],
      "source": [
        "print(\"Average CV Score: \", scores.mean())\n",
        "print(\"Test Accuracy Score: \", scores)"
      ]
    },
    {
      "cell_type": "code",
      "execution_count": null,
      "metadata": {
        "id": "UtL3zDJ_DFNM"
      },
      "outputs": [],
      "source": [
        "sk_folds = StratifiedKFold(n_splits = 3)\n",
        "scores = cross_val_score(classifier, x, y, cv = sk_folds)"
      ]
    },
    {
      "cell_type": "code",
      "execution_count": null,
      "metadata": {
        "id": "yB87x4sLDFNN"
      },
      "outputs": [],
      "source": [
        "print(\"Test Accuracy Score: \", scores)"
      ]
    },
    {
      "cell_type": "code",
      "execution_count": null,
      "metadata": {
        "id": "tIjl2t0oxLEI"
      },
      "outputs": [],
      "source": [
        "print(\"Average CV Score: \", scores.mean())\n",
        "print(\"Test Accuracy Score: \", scores)"
      ]
    },
    {
      "cell_type": "code",
      "execution_count": null,
      "metadata": {
        "id": "OhO8XskMDFNN"
      },
      "outputs": [],
      "source": [
        "sk_folds = StratifiedKFold(n_splits = 4)\n",
        "scores = cross_val_score(classifier, x, y, cv = sk_folds)"
      ]
    },
    {
      "cell_type": "code",
      "execution_count": null,
      "metadata": {
        "id": "EYvcEhAUDFNO"
      },
      "outputs": [],
      "source": [
        "print(\"Test Accuracy Score: \", scores)"
      ]
    },
    {
      "cell_type": "code",
      "execution_count": null,
      "metadata": {
        "id": "oOu42VABxM-l"
      },
      "outputs": [],
      "source": [
        "print(\"Average CV Score: \", scores.mean())\n",
        "print(\"Test Accuracy Score: \", scores)"
      ]
    },
    {
      "cell_type": "code",
      "execution_count": null,
      "metadata": {
        "id": "sGCXllHaDFNO"
      },
      "outputs": [],
      "source": [
        "sk_folds = StratifiedKFold(n_splits = 5)\n",
        "scores = cross_val_score(classifier, x, y, cv = sk_folds)"
      ]
    },
    {
      "cell_type": "code",
      "execution_count": null,
      "metadata": {
        "id": "RHfe7NxBDFNP"
      },
      "outputs": [],
      "source": [
        "print(\"Test Accuracy Score: \", scores)"
      ]
    },
    {
      "cell_type": "code",
      "execution_count": null,
      "metadata": {
        "id": "QTGGbXnQxOLJ"
      },
      "outputs": [],
      "source": [
        "print(\"Average CV Score: \", scores.mean())\n",
        "print(\"Test Accuracy Score: \", scores)"
      ]
    },
    {
      "cell_type": "code",
      "execution_count": null,
      "metadata": {
        "colab": {
          "background_save": true
        },
        "id": "jSnuNBWuDFNP",
        "outputId": "9e3a4392-40f5-4691-b8b3-e5de30079071"
      },
      "outputs": [
        {
          "name": "stderr",
          "output_type": "stream",
          "text": [
            "/usr/local/lib/python3.8/dist-packages/sklearn/linear_model/_logistic.py:814: ConvergenceWarning: lbfgs failed to converge (status=1):\n",
            "STOP: TOTAL NO. of ITERATIONS REACHED LIMIT.\n",
            "\n",
            "Increase the number of iterations (max_iter) or scale the data as shown in:\n",
            "    https://scikit-learn.org/stable/modules/preprocessing.html\n",
            "Please also refer to the documentation for alternative solver options:\n",
            "    https://scikit-learn.org/stable/modules/linear_model.html#logistic-regression\n",
            "  n_iter_i = _check_optimize_result(\n",
            "/usr/local/lib/python3.8/dist-packages/sklearn/linear_model/_logistic.py:814: ConvergenceWarning: lbfgs failed to converge (status=1):\n",
            "STOP: TOTAL NO. of ITERATIONS REACHED LIMIT.\n",
            "\n",
            "Increase the number of iterations (max_iter) or scale the data as shown in:\n",
            "    https://scikit-learn.org/stable/modules/preprocessing.html\n",
            "Please also refer to the documentation for alternative solver options:\n",
            "    https://scikit-learn.org/stable/modules/linear_model.html#logistic-regression\n",
            "  n_iter_i = _check_optimize_result(\n",
            "/usr/local/lib/python3.8/dist-packages/sklearn/linear_model/_logistic.py:814: ConvergenceWarning: lbfgs failed to converge (status=1):\n",
            "STOP: TOTAL NO. of ITERATIONS REACHED LIMIT.\n",
            "\n",
            "Increase the number of iterations (max_iter) or scale the data as shown in:\n",
            "    https://scikit-learn.org/stable/modules/preprocessing.html\n",
            "Please also refer to the documentation for alternative solver options:\n",
            "    https://scikit-learn.org/stable/modules/linear_model.html#logistic-regression\n",
            "  n_iter_i = _check_optimize_result(\n",
            "/usr/local/lib/python3.8/dist-packages/sklearn/linear_model/_logistic.py:814: ConvergenceWarning: lbfgs failed to converge (status=1):\n",
            "STOP: TOTAL NO. of ITERATIONS REACHED LIMIT.\n",
            "\n",
            "Increase the number of iterations (max_iter) or scale the data as shown in:\n",
            "    https://scikit-learn.org/stable/modules/preprocessing.html\n",
            "Please also refer to the documentation for alternative solver options:\n",
            "    https://scikit-learn.org/stable/modules/linear_model.html#logistic-regression\n",
            "  n_iter_i = _check_optimize_result(\n",
            "/usr/local/lib/python3.8/dist-packages/sklearn/linear_model/_logistic.py:814: ConvergenceWarning: lbfgs failed to converge (status=1):\n",
            "STOP: TOTAL NO. of ITERATIONS REACHED LIMIT.\n",
            "\n",
            "Increase the number of iterations (max_iter) or scale the data as shown in:\n",
            "    https://scikit-learn.org/stable/modules/preprocessing.html\n",
            "Please also refer to the documentation for alternative solver options:\n",
            "    https://scikit-learn.org/stable/modules/linear_model.html#logistic-regression\n",
            "  n_iter_i = _check_optimize_result(\n",
            "/usr/local/lib/python3.8/dist-packages/sklearn/linear_model/_logistic.py:814: ConvergenceWarning: lbfgs failed to converge (status=1):\n",
            "STOP: TOTAL NO. of ITERATIONS REACHED LIMIT.\n",
            "\n",
            "Increase the number of iterations (max_iter) or scale the data as shown in:\n",
            "    https://scikit-learn.org/stable/modules/preprocessing.html\n",
            "Please also refer to the documentation for alternative solver options:\n",
            "    https://scikit-learn.org/stable/modules/linear_model.html#logistic-regression\n",
            "  n_iter_i = _check_optimize_result(\n"
          ]
        }
      ],
      "source": [
        "sk_folds = StratifiedKFold(n_splits = 6)\n",
        "scores = cross_val_score(classifier, x, y, cv = sk_folds)"
      ]
    },
    {
      "cell_type": "code",
      "execution_count": null,
      "metadata": {
        "colab": {
          "background_save": true
        },
        "id": "79qHlxQhDFNQ",
        "outputId": "b09c06bf-951c-49f7-b338-56aabf5a6765"
      },
      "outputs": [
        {
          "name": "stdout",
          "output_type": "stream",
          "text": [
            "Test Accuracy Score:  [0.94054054 0.90810811 0.93513514 0.93513514 0.92934783 0.93478261]\n"
          ]
        }
      ],
      "source": [
        "print(\"Test Accuracy Score: \", scores)"
      ]
    },
    {
      "cell_type": "code",
      "execution_count": null,
      "metadata": {
        "colab": {
          "background_save": true
        },
        "id": "4CSnyURSxPnk",
        "outputId": "d7d0d003-c04d-49dc-d2db-3f2898b674f4"
      },
      "outputs": [
        {
          "name": "stdout",
          "output_type": "stream",
          "text": [
            "Average CV Score:  0.9305082256169213\n",
            "Test Accuracy Score:  [0.94054054 0.90810811 0.93513514 0.93513514 0.92934783 0.93478261]\n"
          ]
        }
      ],
      "source": [
        "print(\"Average CV Score: \", scores.mean())\n",
        "print(\"Test Accuracy Score: \", scores)"
      ]
    },
    {
      "cell_type": "code",
      "execution_count": null,
      "metadata": {
        "id": "Jhyh4N3bDFNQ"
      },
      "outputs": [],
      "source": [
        "sk_folds = StratifiedKFold(n_splits = 7)\n",
        "scores = cross_val_score(classifier, x, y, cv = sk_folds)"
      ]
    },
    {
      "cell_type": "code",
      "execution_count": null,
      "metadata": {
        "id": "ScB0MYswDFNR"
      },
      "outputs": [],
      "source": [
        "print(\"Test Accuracy Score: \", scores)"
      ]
    },
    {
      "cell_type": "code",
      "execution_count": null,
      "metadata": {
        "id": "NPVqI6o6xQwr"
      },
      "outputs": [],
      "source": [
        "print(\"Average CV Score: \", scores.mean())\n",
        "print(\"Test Accuracy Score: \", scores)"
      ]
    },
    {
      "cell_type": "code",
      "execution_count": null,
      "metadata": {
        "id": "EOk7YF9xDFNR"
      },
      "outputs": [],
      "source": [
        "sk_folds = StratifiedKFold(n_splits = 8)\n",
        "scores = cross_val_score(classifier, x, y, cv = sk_folds)"
      ]
    },
    {
      "cell_type": "code",
      "execution_count": null,
      "metadata": {
        "id": "EygoaLuIxSW6"
      },
      "outputs": [],
      "source": [
        "print(\"Average CV Score: \", scores.mean())\n",
        "print(\"Test Accuracy Score: \", scores)"
      ]
    },
    {
      "cell_type": "code",
      "execution_count": null,
      "metadata": {
        "id": "a6JkI-hPDFNR"
      },
      "outputs": [],
      "source": [
        "sk_folds = StratifiedKFold(n_splits = 9)\n",
        "scores = cross_val_score(classifier, x, y, cv = sk_folds)"
      ]
    },
    {
      "cell_type": "code",
      "execution_count": null,
      "metadata": {
        "id": "Twt0GnQdDFNS"
      },
      "outputs": [],
      "source": [
        "print(\"Test Accuracy Score: \", scores)"
      ]
    },
    {
      "cell_type": "code",
      "execution_count": null,
      "metadata": {
        "id": "ggmzqf6KxUKD"
      },
      "outputs": [],
      "source": [
        "print(\"Average CV Score: \", scores.mean())\n",
        "print(\"Test Accuracy Score: \", scores)"
      ]
    },
    {
      "cell_type": "code",
      "execution_count": null,
      "metadata": {
        "id": "aFEp2mikDFNS"
      },
      "outputs": [],
      "source": [
        "sk_folds = StratifiedKFold(n_splits = 10)\n",
        "scores = cross_val_score(classifier, x, y, cv = sk_folds)"
      ]
    },
    {
      "cell_type": "code",
      "execution_count": null,
      "metadata": {
        "id": "yw0iQX77DFNT"
      },
      "outputs": [],
      "source": [
        "print(\"Test Accuracy Score: \", scores)"
      ]
    },
    {
      "cell_type": "code",
      "execution_count": null,
      "metadata": {
        "id": "eXTcRgatxV2N"
      },
      "outputs": [],
      "source": [
        "print(\"Average CV Score: \", scores.mean())\n",
        "print(\"Test Accuracy Score: \", scores)"
      ]
    },
    {
      "cell_type": "markdown",
      "metadata": {
        "id": "cj2F98bh0v9e"
      },
      "source": [
        "###**Support Vector Machine Algorithm**"
      ]
    },
    {
      "cell_type": "code",
      "execution_count": null,
      "metadata": {
        "id": "PlGmWOKL0v9e"
      },
      "outputs": [],
      "source": [
        "from sklearn.svm import SVC # \"Support vector classifier\"  \n",
        "classifier = SVC(kernel='rbf', random_state=0)  \n",
        "classifier.fit(x_train, y_train)  "
      ]
    },
    {
      "cell_type": "code",
      "execution_count": null,
      "metadata": {
        "id": "p2nF7MLz0v9f"
      },
      "outputs": [],
      "source": [
        "#Predicting the test set result  \n",
        "y_pred= classifier.predict(x_test)  "
      ]
    },
    {
      "cell_type": "code",
      "execution_count": null,
      "metadata": {
        "id": "HexmcA3l0v9f"
      },
      "outputs": [],
      "source": [
        "from sklearn.metrics import confusion_matrix  \n",
        "cm= confusion_matrix(y_test, y_pred)  \n",
        "print(cm)"
      ]
    },
    {
      "cell_type": "code",
      "execution_count": null,
      "metadata": {
        "id": "848fk2gQ0v9g"
      },
      "outputs": [],
      "source": [
        "score_ = accuracy_score(y_test, y_pred)\n",
        "print(\"Test Accuracy Score: \", score_)"
      ]
    },
    {
      "cell_type": "code",
      "execution_count": null,
      "metadata": {
        "id": "QUdsd6QpDG6G"
      },
      "outputs": [],
      "source": [
        "sk_folds = StratifiedKFold(n_splits = 2)\n",
        "scores = cross_val_score(classifier, x, y, cv = sk_folds)"
      ]
    },
    {
      "cell_type": "code",
      "execution_count": null,
      "metadata": {
        "id": "ZhVaGcXuDG6G"
      },
      "outputs": [],
      "source": [
        "print(\"Test Accuracy Score: \", scores)"
      ]
    },
    {
      "cell_type": "code",
      "execution_count": null,
      "metadata": {
        "id": "RWMzkYFexYv1"
      },
      "outputs": [],
      "source": [
        "print(\"Average CV Score: \", scores.mean())\n",
        "print(\"Test Accuracy Score: \", scores)"
      ]
    },
    {
      "cell_type": "code",
      "execution_count": null,
      "metadata": {
        "id": "xONtMA54DG6G"
      },
      "outputs": [],
      "source": [
        "sk_folds = StratifiedKFold(n_splits = 3)\n",
        "scores = cross_val_score(classifier, x, y, cv = sk_folds)"
      ]
    },
    {
      "cell_type": "code",
      "execution_count": null,
      "metadata": {
        "id": "Zz0gPU9-DG6G"
      },
      "outputs": [],
      "source": [
        "print(\"Test Accuracy Score: \", scores)"
      ]
    },
    {
      "cell_type": "code",
      "execution_count": null,
      "metadata": {
        "id": "WDFz_BjZxYVf"
      },
      "outputs": [],
      "source": [
        "print(\"Average CV Score: \", scores.mean())\n",
        "print(\"Test Accuracy Score: \", scores)"
      ]
    },
    {
      "cell_type": "code",
      "execution_count": null,
      "metadata": {
        "id": "bkY5LW8GDG6G"
      },
      "outputs": [],
      "source": [
        "sk_folds = StratifiedKFold(n_splits = 4)\n",
        "scores = cross_val_score(classifier, x, y, cv = sk_folds)"
      ]
    },
    {
      "cell_type": "code",
      "execution_count": null,
      "metadata": {
        "id": "OszVzH8zDG6H"
      },
      "outputs": [],
      "source": [
        "print(\"Test Accuracy Score: \", scores)"
      ]
    },
    {
      "cell_type": "code",
      "execution_count": null,
      "metadata": {
        "id": "1u1b3sj0xXqc"
      },
      "outputs": [],
      "source": [
        "print(\"Average CV Score: \", scores.mean())\n",
        "print(\"Test Accuracy Score: \", scores)"
      ]
    },
    {
      "cell_type": "code",
      "execution_count": null,
      "metadata": {
        "id": "HKUAFrXBDG6H"
      },
      "outputs": [],
      "source": [
        "sk_folds = StratifiedKFold(n_splits = 5)\n",
        "scores = cross_val_score(classifier, x, y, cv = sk_folds)"
      ]
    },
    {
      "cell_type": "code",
      "execution_count": null,
      "metadata": {
        "id": "LLipgeh6DG6H"
      },
      "outputs": [],
      "source": [
        "print(\"Test Accuracy Score: \", scores)"
      ]
    },
    {
      "cell_type": "code",
      "execution_count": null,
      "metadata": {
        "id": "_WmP73E6xapv"
      },
      "outputs": [],
      "source": [
        "print(\"Average CV Score: \", scores.mean())\n",
        "print(\"Test Accuracy Score: \", scores)"
      ]
    },
    {
      "cell_type": "code",
      "execution_count": null,
      "metadata": {
        "colab": {
          "background_save": true
        },
        "id": "M59OGReLDG6H"
      },
      "outputs": [],
      "source": [
        "sk_folds = StratifiedKFold(n_splits = 6)\n",
        "scores = cross_val_score(classifier, x, y, cv = sk_folds)"
      ]
    },
    {
      "cell_type": "code",
      "execution_count": null,
      "metadata": {
        "colab": {
          "background_save": true
        },
        "id": "THfes20ADG6H",
        "outputId": "1afcaae7-f052-4b48-ab89-3ed297e33b1e"
      },
      "outputs": [
        {
          "name": "stdout",
          "output_type": "stream",
          "text": [
            "Test Accuracy Score:  [0.92972973 0.92972973 0.92972973 0.92972973 0.92934783 0.93478261]\n"
          ]
        }
      ],
      "source": [
        "print(\"Test Accuracy Score: \", scores)"
      ]
    },
    {
      "cell_type": "code",
      "execution_count": null,
      "metadata": {
        "colab": {
          "background_save": true
        },
        "id": "vT57OVBvxaDB",
        "outputId": "7bae729b-21cb-41db-e95d-273cf7ee3ac9"
      },
      "outputs": [
        {
          "name": "stdout",
          "output_type": "stream",
          "text": [
            "Average CV Score:  0.9305082256169213\n",
            "Test Accuracy Score:  [0.92972973 0.92972973 0.92972973 0.92972973 0.92934783 0.93478261]\n"
          ]
        }
      ],
      "source": [
        "print(\"Average CV Score: \", scores.mean())\n",
        "print(\"Test Accuracy Score: \", scores)"
      ]
    },
    {
      "cell_type": "code",
      "execution_count": null,
      "metadata": {
        "colab": {
          "background_save": true
        },
        "id": "_QvM_yczDG6H"
      },
      "outputs": [],
      "source": [
        "sk_folds = StratifiedKFold(n_splits = 7)\n",
        "scores = cross_val_score(classifier, x, y, cv = sk_folds)"
      ]
    },
    {
      "cell_type": "code",
      "execution_count": null,
      "metadata": {
        "colab": {
          "background_save": true
        },
        "id": "uMLevWgKDG6H",
        "outputId": "009565f1-79b6-48a0-e8e8-6a52872c2ec2"
      },
      "outputs": [
        {
          "name": "stdout",
          "output_type": "stream",
          "text": [
            "Test Accuracy Score:  [0.93081761 0.93081761 0.93037975 0.93037975 0.93037975 0.93037975\n",
            " 0.93037975]\n"
          ]
        }
      ],
      "source": [
        "print(\"Test Accuracy Score: \", scores)"
      ]
    },
    {
      "cell_type": "code",
      "execution_count": null,
      "metadata": {
        "colab": {
          "background_save": true
        },
        "id": "segBXcMyxeeD",
        "outputId": "c62f0566-9477-48fb-c635-aa1138f4d114"
      },
      "outputs": [
        {
          "name": "stdout",
          "output_type": "stream",
          "text": [
            "Average CV Score:  0.9305048506147144\n",
            "Test Accuracy Score:  [0.93081761 0.93081761 0.93037975 0.93037975 0.93037975 0.93037975\n",
            " 0.93037975]\n"
          ]
        }
      ],
      "source": [
        "print(\"Average CV Score: \", scores.mean())\n",
        "print(\"Test Accuracy Score: \", scores)"
      ]
    },
    {
      "cell_type": "code",
      "execution_count": null,
      "metadata": {
        "colab": {
          "background_save": true
        },
        "id": "0X0SwsMcDG6I"
      },
      "outputs": [],
      "source": [
        "sk_folds = StratifiedKFold(n_splits = 8)\n",
        "scores = cross_val_score(classifier, x, y, cv = sk_folds)"
      ]
    },
    {
      "cell_type": "code",
      "execution_count": null,
      "metadata": {
        "colab": {
          "background_save": true
        },
        "id": "86LKPnp6xdNd",
        "outputId": "07240f06-e2b2-40fa-bf23-a640609edf92"
      },
      "outputs": [
        {
          "name": "stdout",
          "output_type": "stream",
          "text": [
            "Average CV Score:  0.9305142842247941\n",
            "Test Accuracy Score:  [0.92805755 0.92805755 0.92805755 0.92805755 0.92753623 0.93478261\n",
            " 0.93478261 0.93478261]\n"
          ]
        }
      ],
      "source": [
        "print(\"Average CV Score: \", scores.mean())\n",
        "print(\"Test Accuracy Score: \", scores)"
      ]
    },
    {
      "cell_type": "code",
      "execution_count": null,
      "metadata": {
        "colab": {
          "background_save": true
        },
        "id": "1vDqvd7RDG6I"
      },
      "outputs": [],
      "source": [
        "sk_folds = StratifiedKFold(n_splits = 9)\n",
        "scores = cross_val_score(classifier, x, y, cv = sk_folds)"
      ]
    },
    {
      "cell_type": "code",
      "execution_count": null,
      "metadata": {
        "colab": {
          "background_save": true
        },
        "id": "l-OabB0gDG6I",
        "outputId": "f6880c81-d29e-418a-c523-0415295f82c6"
      },
      "outputs": [
        {
          "name": "stdout",
          "output_type": "stream",
          "text": [
            "Test Accuracy Score:  [0.92741935 0.92682927 0.92682927 0.92682927 0.92682927 0.93495935\n",
            " 0.93495935 0.93495935 0.93495935]\n"
          ]
        }
      ],
      "source": [
        "print(\"Test Accuracy Score: \", scores)"
      ]
    },
    {
      "cell_type": "code",
      "execution_count": null,
      "metadata": {
        "colab": {
          "background_save": true
        },
        "id": "X3k95Avrxcnm",
        "outputId": "7e98e6e6-85b3-4d9b-ed9c-8a04040063af"
      },
      "outputs": [
        {
          "name": "stdout",
          "output_type": "stream",
          "text": [
            "Average CV Score:  0.9305082029314917\n",
            "Test Accuracy Score:  [0.92741935 0.92682927 0.92682927 0.92682927 0.92682927 0.93495935\n",
            " 0.93495935 0.93495935 0.93495935]\n"
          ]
        }
      ],
      "source": [
        "print(\"Average CV Score: \", scores.mean())\n",
        "print(\"Test Accuracy Score: \", scores)"
      ]
    },
    {
      "cell_type": "code",
      "execution_count": null,
      "metadata": {
        "colab": {
          "background_save": true
        },
        "id": "KDjrpWB_DG6I"
      },
      "outputs": [],
      "source": [
        "sk_folds = StratifiedKFold(n_splits = 10)\n",
        "scores = cross_val_score(classifier, x, y, cv = sk_folds)"
      ]
    },
    {
      "cell_type": "code",
      "execution_count": null,
      "metadata": {
        "colab": {
          "background_save": true
        },
        "id": "iKKg0sALDG6I",
        "outputId": "3c404d7b-ca6b-48b7-f799-4fe7dc083683"
      },
      "outputs": [
        {
          "name": "stdout",
          "output_type": "stream",
          "text": [
            "Test Accuracy Score:  [0.92792793 0.92792793 0.92792793 0.92792793 0.92792793 0.92792793\n",
            " 0.92792793 0.93693694 0.93636364 0.93636364]\n"
          ]
        }
      ],
      "source": [
        "print(\"Test Accuracy Score: \", scores)"
      ]
    },
    {
      "cell_type": "code",
      "execution_count": null,
      "metadata": {
        "colab": {
          "background_save": true
        },
        "id": "mY3nDS2oxcAY",
        "outputId": "08199f52-ca42-45ab-f731-e317234e2c63"
      },
      "outputs": [
        {
          "name": "stdout",
          "output_type": "stream",
          "text": [
            "Average CV Score:  0.9305159705159702\n",
            "Test Accuracy Score:  [0.92792793 0.92792793 0.92792793 0.92792793 0.92792793 0.92792793\n",
            " 0.92792793 0.93693694 0.93636364 0.93636364]\n"
          ]
        }
      ],
      "source": [
        "print(\"Average CV Score: \", scores.mean())\n",
        "print(\"Test Accuracy Score: \", scores)"
      ]
    },
    {
      "cell_type": "markdown",
      "metadata": {
        "id": "h3MiUbhE0v9h"
      },
      "source": [
        "##**Decision Tree Algorithm**"
      ]
    },
    {
      "cell_type": "code",
      "execution_count": null,
      "metadata": {
        "colab": {
          "background_save": true
        },
        "id": "0mLWudsg0v9h",
        "outputId": "93122c36-c210-401d-81a6-8a27f1c115c5"
      },
      "outputs": [
        {
          "data": {
            "text/plain": [
              "DecisionTreeClassifier(criterion='entropy', random_state=0)"
            ]
          },
          "execution_count": 2022,
          "metadata": {},
          "output_type": "execute_result"
        }
      ],
      "source": [
        "from sklearn.tree import DecisionTreeClassifier  \n",
        "classifier= DecisionTreeClassifier(criterion='entropy', random_state=0)  \n",
        "classifier.fit(x_train, y_train)  "
      ]
    },
    {
      "cell_type": "code",
      "execution_count": null,
      "metadata": {
        "colab": {
          "background_save": true
        },
        "id": "LF5tzp6s0v9h"
      },
      "outputs": [],
      "source": [
        "#Predicting the test set result  \n",
        "y_pred= classifier.predict(x_test)  "
      ]
    },
    {
      "cell_type": "code",
      "execution_count": null,
      "metadata": {
        "colab": {
          "background_save": true
        },
        "id": "7VRld2Gq0v9h",
        "outputId": "2658150d-441d-4310-cc3c-2e67babedd14"
      },
      "outputs": [
        {
          "name": "stdout",
          "output_type": "stream",
          "text": [
            "[[198   9]\n",
            " [  9   6]]\n"
          ]
        }
      ],
      "source": [
        "#Creating the Confusion matrix  \n",
        "from sklearn.metrics import confusion_matrix  \n",
        "cm= confusion_matrix(y_test, y_pred) \n",
        "print(cm)"
      ]
    },
    {
      "cell_type": "code",
      "execution_count": null,
      "metadata": {
        "colab": {
          "background_save": true
        },
        "id": "JkIdduZQ0v9i",
        "outputId": "dbc362fe-caf4-4e09-f8a1-bc9c27ce0ee2"
      },
      "outputs": [
        {
          "name": "stdout",
          "output_type": "stream",
          "text": [
            "Test Accuracy Score:  0.918918918918919\n"
          ]
        }
      ],
      "source": [
        "score_ = accuracy_score(y_test, y_pred)\n",
        "print(\"Test Accuracy Score: \", score_)"
      ]
    },
    {
      "cell_type": "code",
      "execution_count": null,
      "metadata": {
        "colab": {
          "background_save": true
        },
        "id": "RCjhxrCGDIlS"
      },
      "outputs": [],
      "source": [
        "sk_folds = StratifiedKFold(n_splits = 2)\n",
        "scores = cross_val_score(classifier, x, y, cv = sk_folds)"
      ]
    },
    {
      "cell_type": "code",
      "execution_count": null,
      "metadata": {
        "colab": {
          "background_save": true
        },
        "id": "GyyuvB2BDIlT",
        "outputId": "e54a58c7-c450-4a69-9966-acf94b314ba3"
      },
      "outputs": [
        {
          "name": "stdout",
          "output_type": "stream",
          "text": [
            "Test Accuracy Score:  [0.81588448 0.91155235]\n"
          ]
        }
      ],
      "source": [
        "print(\"Test Accuracy Score: \", scores)"
      ]
    },
    {
      "cell_type": "code",
      "execution_count": null,
      "metadata": {
        "colab": {
          "background_save": true
        },
        "id": "WFX91_AdxijX",
        "outputId": "7eed83b1-78af-485d-cec2-294df3ac4314"
      },
      "outputs": [
        {
          "name": "stdout",
          "output_type": "stream",
          "text": [
            "Average CV Score:  0.8637184115523466\n",
            "Test Accuracy Score:  [0.81588448 0.91155235]\n"
          ]
        }
      ],
      "source": [
        "print(\"Average CV Score: \", scores.mean())\n",
        "print(\"Test Accuracy Score: \", scores)"
      ]
    },
    {
      "cell_type": "code",
      "execution_count": null,
      "metadata": {
        "colab": {
          "background_save": true
        },
        "id": "ZIPo0QRCDIlT"
      },
      "outputs": [],
      "source": [
        "sk_folds = StratifiedKFold(n_splits = 3)\n",
        "scores = cross_val_score(classifier, x, y, cv = sk_folds)"
      ]
    },
    {
      "cell_type": "code",
      "execution_count": null,
      "metadata": {
        "colab": {
          "background_save": true
        },
        "id": "IvL1wdfqDIlT",
        "outputId": "61a617c0-33d5-4ca3-89f7-afd030b5ec67"
      },
      "outputs": [
        {
          "name": "stdout",
          "output_type": "stream",
          "text": [
            "Test Accuracy Score:  [0.81351351 0.82384824 0.91598916]\n"
          ]
        }
      ],
      "source": [
        "print(\"Test Accuracy Score: \", scores)"
      ]
    },
    {
      "cell_type": "code",
      "execution_count": null,
      "metadata": {
        "id": "8uOeRoU0xh-6"
      },
      "outputs": [],
      "source": [
        "print(\"Average CV Score: \", scores.mean())\n",
        "print(\"Test Accuracy Score: \", scores)"
      ]
    },
    {
      "cell_type": "code",
      "execution_count": null,
      "metadata": {
        "id": "HP0HVAcODIlT"
      },
      "outputs": [],
      "source": [
        "sk_folds = StratifiedKFold(n_splits = 4)\n",
        "scores = cross_val_score(classifier, x, y, cv = sk_folds)"
      ]
    },
    {
      "cell_type": "code",
      "execution_count": null,
      "metadata": {
        "id": "3TBcsF5GDIlT"
      },
      "outputs": [],
      "source": [
        "print(\"Test Accuracy Score: \", scores)"
      ]
    },
    {
      "cell_type": "code",
      "execution_count": null,
      "metadata": {
        "id": "pE_kneAsxhYJ"
      },
      "outputs": [],
      "source": [
        "print(\"Average CV Score: \", scores.mean())\n",
        "print(\"Test Accuracy Score: \", scores)"
      ]
    },
    {
      "cell_type": "code",
      "execution_count": null,
      "metadata": {
        "id": "zrrc1Hw6DIlT"
      },
      "outputs": [],
      "source": [
        "sk_folds = StratifiedKFold(n_splits = 5)\n",
        "scores = cross_val_score(classifier, x, y, cv = sk_folds)"
      ]
    },
    {
      "cell_type": "code",
      "execution_count": null,
      "metadata": {
        "id": "ON-YaebKDIlU"
      },
      "outputs": [],
      "source": [
        "print(\"Test Accuracy Score: \", scores)"
      ]
    },
    {
      "cell_type": "code",
      "execution_count": null,
      "metadata": {
        "id": "I-mnQI3dxl8Z"
      },
      "outputs": [],
      "source": [
        "print(\"Average CV Score: \", scores.mean())\n",
        "print(\"Test Accuracy Score: \", scores)"
      ]
    },
    {
      "cell_type": "code",
      "execution_count": null,
      "metadata": {
        "id": "P9YSN50BDIlU"
      },
      "outputs": [],
      "source": [
        "sk_folds = StratifiedKFold(n_splits = 6)\n",
        "scores = cross_val_score(classifier, x, y, cv = sk_folds)"
      ]
    },
    {
      "cell_type": "code",
      "execution_count": null,
      "metadata": {
        "id": "ck47yC7HDIlU"
      },
      "outputs": [],
      "source": [
        "print(\"Test Accuracy Score: \", scores)"
      ]
    },
    {
      "cell_type": "code",
      "execution_count": null,
      "metadata": {
        "id": "xme24lvWxlTf"
      },
      "outputs": [],
      "source": [
        "print(\"Average CV Score: \", scores.mean())\n",
        "print(\"Test Accuracy Score: \", scores)"
      ]
    },
    {
      "cell_type": "code",
      "execution_count": null,
      "metadata": {
        "id": "5Hm9BIprDIlU"
      },
      "outputs": [],
      "source": [
        "sk_folds = StratifiedKFold(n_splits = 7)\n",
        "scores = cross_val_score(classifier, x, y, cv = sk_folds)"
      ]
    },
    {
      "cell_type": "code",
      "execution_count": null,
      "metadata": {
        "id": "J3murgRLDIlU"
      },
      "outputs": [],
      "source": [
        "print(\"Test Accuracy Score: \", scores)"
      ]
    },
    {
      "cell_type": "code",
      "execution_count": null,
      "metadata": {
        "id": "fnj7m7QFxkyG"
      },
      "outputs": [],
      "source": [
        "print(\"Average CV Score: \", scores.mean())\n",
        "print(\"Test Accuracy Score: \", scores)"
      ]
    },
    {
      "cell_type": "code",
      "execution_count": null,
      "metadata": {
        "id": "9xn9Vj6pDIlU"
      },
      "outputs": [],
      "source": [
        "sk_folds = StratifiedKFold(n_splits = 8)\n",
        "scores = cross_val_score(classifier, x, y, cv = sk_folds)"
      ]
    },
    {
      "cell_type": "code",
      "execution_count": null,
      "metadata": {
        "id": "VfGKrIaoxkPR"
      },
      "outputs": [],
      "source": [
        "print(\"Average CV Score: \", scores.mean())\n",
        "print(\"Test Accuracy Score: \", scores)"
      ]
    },
    {
      "cell_type": "code",
      "execution_count": null,
      "metadata": {
        "id": "x3aO_j3DDIlU"
      },
      "outputs": [],
      "source": [
        "sk_folds = StratifiedKFold(n_splits = 9)\n",
        "scores = cross_val_score(classifier, x, y, cv = sk_folds)"
      ]
    },
    {
      "cell_type": "code",
      "execution_count": null,
      "metadata": {
        "id": "VrwSPCr9DIlV"
      },
      "outputs": [],
      "source": [
        "print(\"Test Accuracy Score: \", scores)"
      ]
    },
    {
      "cell_type": "code",
      "execution_count": null,
      "metadata": {
        "id": "iaKh0ETuxouk"
      },
      "outputs": [],
      "source": [
        "print(\"Average CV Score: \", scores.mean())\n",
        "print(\"Test Accuracy Score: \", scores)"
      ]
    },
    {
      "cell_type": "code",
      "execution_count": null,
      "metadata": {
        "id": "jnx7KXAVDIlV"
      },
      "outputs": [],
      "source": [
        "sk_folds = StratifiedKFold(n_splits = 10)\n",
        "scores = cross_val_score(classifier, x, y, cv = sk_folds)"
      ]
    },
    {
      "cell_type": "code",
      "execution_count": null,
      "metadata": {
        "id": "mAEtl_d2DIlV"
      },
      "outputs": [],
      "source": [
        "print(\"Test Accuracy Score: \", scores)"
      ]
    },
    {
      "cell_type": "code",
      "execution_count": null,
      "metadata": {
        "id": "G-sVb2tqxoH2"
      },
      "outputs": [],
      "source": [
        "print(\"Average CV Score: \", scores.mean())\n",
        "print(\"Test Accuracy Score: \", scores)"
      ]
    },
    {
      "cell_type": "markdown",
      "metadata": {
        "id": "5ZGpvhiG0v9i"
      },
      "source": [
        "##**Random Forest**"
      ]
    },
    {
      "cell_type": "code",
      "execution_count": null,
      "metadata": {
        "id": "btCaybrP0v9i"
      },
      "outputs": [],
      "source": [
        "#Fitting Decision Tree classifier to the training set  \n",
        "from sklearn.ensemble import RandomForestClassifier  \n",
        "classifier= RandomForestClassifier(n_estimators= 10, criterion=\"entropy\")  \n",
        "classifier.fit(x_train, y_train)  "
      ]
    },
    {
      "cell_type": "code",
      "execution_count": null,
      "metadata": {
        "id": "7tVnJT-E0v9i"
      },
      "outputs": [],
      "source": [
        "#Predicting the test set result  \n",
        "y_pred= classifier.predict(x_test)  "
      ]
    },
    {
      "cell_type": "code",
      "execution_count": null,
      "metadata": {
        "id": "Tbz2NdBz0v9j"
      },
      "outputs": [],
      "source": [
        "#Creating the Confusion matrix  \n",
        "from sklearn.metrics import confusion_matrix  \n",
        "cm= confusion_matrix(y_test, y_pred)  \n",
        "print(cm)"
      ]
    },
    {
      "cell_type": "code",
      "execution_count": null,
      "metadata": {
        "id": "bIWCcwfV0v9j"
      },
      "outputs": [],
      "source": [
        "score_ = accuracy_score(y_test, y_pred)\n",
        "print(\"Test Accuracy Score: \", score_)"
      ]
    },
    {
      "cell_type": "code",
      "execution_count": null,
      "metadata": {
        "id": "O5vT8XFsDKct"
      },
      "outputs": [],
      "source": [
        "sk_folds = StratifiedKFold(n_splits = 2)\n",
        "scores = cross_val_score(classifier, x, y, cv = sk_folds)"
      ]
    },
    {
      "cell_type": "code",
      "execution_count": null,
      "metadata": {
        "id": "L_goxvyfDKcu"
      },
      "outputs": [],
      "source": [
        "print(\"Test Accuracy Score: \", scores)"
      ]
    },
    {
      "cell_type": "code",
      "execution_count": null,
      "metadata": {
        "id": "U8pkaKwUxsVp"
      },
      "outputs": [],
      "source": [
        "print(\"Average CV Score: \", scores.mean())\n",
        "print(\"Test Accuracy Score: \", scores)"
      ]
    },
    {
      "cell_type": "code",
      "execution_count": null,
      "metadata": {
        "id": "1Co84w6UDKcv"
      },
      "outputs": [],
      "source": [
        "sk_folds = StratifiedKFold(n_splits = 3)\n",
        "scores = cross_val_score(classifier, x, y, cv = sk_folds)"
      ]
    },
    {
      "cell_type": "code",
      "execution_count": null,
      "metadata": {
        "id": "lCYfVDcLDKcv"
      },
      "outputs": [],
      "source": [
        "print(\"Test Accuracy Score: \", scores)"
      ]
    },
    {
      "cell_type": "code",
      "execution_count": null,
      "metadata": {
        "id": "AA0MG3TxxwhM"
      },
      "outputs": [],
      "source": [
        "print(\"Average CV Score: \", scores.mean())\n",
        "print(\"Test Accuracy Score: \", scores)"
      ]
    },
    {
      "cell_type": "code",
      "execution_count": null,
      "metadata": {
        "id": "9qAFtuyDxyA1"
      },
      "outputs": [],
      "source": [
        "print(\"Average CV Score: \", scores.mean())\n",
        "print(\"Test Accuracy Score: \", scores)"
      ]
    },
    {
      "cell_type": "code",
      "execution_count": null,
      "metadata": {
        "id": "UXFe_4L4DKcw"
      },
      "outputs": [],
      "source": [
        "sk_folds = StratifiedKFold(n_splits = 4)\n",
        "scores = cross_val_score(classifier, x, y, cv = sk_folds)"
      ]
    },
    {
      "cell_type": "code",
      "execution_count": null,
      "metadata": {
        "id": "0idQ4KydDKcw"
      },
      "outputs": [],
      "source": [
        "print(\"Test Accuracy Score: \", scores)"
      ]
    },
    {
      "cell_type": "code",
      "execution_count": null,
      "metadata": {
        "id": "XEAtU9Jvxv7g"
      },
      "outputs": [],
      "source": [
        "print(\"Average CV Score: \", scores.mean())\n",
        "print(\"Test Accuracy Score: \", scores)"
      ]
    },
    {
      "cell_type": "code",
      "execution_count": null,
      "metadata": {
        "id": "JgXnfURIDKcx"
      },
      "outputs": [],
      "source": [
        "sk_folds = StratifiedKFold(n_splits = 5)\n",
        "scores = cross_val_score(classifier, x, y, cv = sk_folds)"
      ]
    },
    {
      "cell_type": "code",
      "execution_count": null,
      "metadata": {
        "id": "CJ6WkaUfDKcx"
      },
      "outputs": [],
      "source": [
        "print(\"Test Accuracy Score: \", scores)"
      ]
    },
    {
      "cell_type": "code",
      "execution_count": null,
      "metadata": {
        "id": "wX_yA2QkxvO-"
      },
      "outputs": [],
      "source": [
        "print(\"Average CV Score: \", scores.mean())\n",
        "print(\"Test Accuracy Score: \", scores)"
      ]
    },
    {
      "cell_type": "code",
      "execution_count": null,
      "metadata": {
        "id": "I_qVbaT3DKcy"
      },
      "outputs": [],
      "source": [
        "sk_folds = StratifiedKFold(n_splits = 6)\n",
        "scores = cross_val_score(classifier, x, y, cv = sk_folds)"
      ]
    },
    {
      "cell_type": "code",
      "execution_count": null,
      "metadata": {
        "id": "1wFDNwubDKcy"
      },
      "outputs": [],
      "source": [
        "print(\"Test Accuracy Score: \", scores)"
      ]
    },
    {
      "cell_type": "code",
      "execution_count": null,
      "metadata": {
        "id": "wqCH6yTwxuyO"
      },
      "outputs": [],
      "source": [
        "print(\"Average CV Score: \", scores.mean())\n",
        "print(\"Test Accuracy Score: \", scores)"
      ]
    },
    {
      "cell_type": "code",
      "execution_count": null,
      "metadata": {
        "id": "hEYzUuVYDKcz"
      },
      "outputs": [],
      "source": [
        "sk_folds = StratifiedKFold(n_splits = 7)\n",
        "scores = cross_val_score(classifier, x, y, cv = sk_folds)"
      ]
    },
    {
      "cell_type": "code",
      "execution_count": null,
      "metadata": {
        "id": "H-GB0kUADKcz"
      },
      "outputs": [],
      "source": [
        "print(\"Test Accuracy Score: \", scores)"
      ]
    },
    {
      "cell_type": "code",
      "execution_count": null,
      "metadata": {
        "id": "04h9khJrxuQx"
      },
      "outputs": [],
      "source": [
        "print(\"Average CV Score: \", scores.mean())\n",
        "print(\"Test Accuracy Score: \", scores)"
      ]
    },
    {
      "cell_type": "code",
      "execution_count": null,
      "metadata": {
        "id": "0o8ZDsubDKc0"
      },
      "outputs": [],
      "source": [
        "sk_folds = StratifiedKFold(n_splits = 8)\n",
        "scores = cross_val_score(classifier, x, y, cv = sk_folds)"
      ]
    },
    {
      "cell_type": "code",
      "execution_count": null,
      "metadata": {
        "id": "yUOqv59Ixtqa"
      },
      "outputs": [],
      "source": [
        "print(\"Average CV Score: \", scores.mean())\n",
        "print(\"Test Accuracy Score: \", scores)"
      ]
    },
    {
      "cell_type": "code",
      "execution_count": null,
      "metadata": {
        "id": "Gt6DteOvDKc0"
      },
      "outputs": [],
      "source": [
        "sk_folds = StratifiedKFold(n_splits = 9)\n",
        "scores = cross_val_score(classifier, x, y, cv = sk_folds)"
      ]
    },
    {
      "cell_type": "code",
      "execution_count": null,
      "metadata": {
        "id": "UIcCz8FuDKc1"
      },
      "outputs": [],
      "source": [
        "print(\"Test Accuracy Score: \", scores)"
      ]
    },
    {
      "cell_type": "code",
      "execution_count": null,
      "metadata": {
        "id": "U6h2nx9ix0wM"
      },
      "outputs": [],
      "source": [
        "print(\"Average CV Score: \", scores.mean())\n",
        "print(\"Test Accuracy Score: \", scores)"
      ]
    },
    {
      "cell_type": "code",
      "execution_count": null,
      "metadata": {
        "id": "5BpmU1CrDKc1"
      },
      "outputs": [],
      "source": [
        "sk_folds = StratifiedKFold(n_splits = 10)\n",
        "scores = cross_val_score(classifier, x, y, cv = sk_folds)"
      ]
    },
    {
      "cell_type": "code",
      "execution_count": null,
      "metadata": {
        "id": "jM4mlaeEDKc1"
      },
      "outputs": [],
      "source": [
        "print(\"Test Accuracy Score: \", scores)"
      ]
    },
    {
      "cell_type": "code",
      "execution_count": null,
      "metadata": {
        "id": "S6GrScmvx1V4"
      },
      "outputs": [],
      "source": [
        "print(\"Average CV Score: \", scores.mean())\n",
        "print(\"Test Accuracy Score: \", scores)"
      ]
    },
    {
      "cell_type": "markdown",
      "metadata": {
        "id": "oRG7LuzP0v9j"
      },
      "source": [
        "##**Bagging**"
      ]
    },
    {
      "cell_type": "code",
      "execution_count": null,
      "metadata": {
        "id": "a-804rJc0v9j"
      },
      "outputs": [],
      "source": [
        "from sklearn.tree import DecisionTreeClassifier\n",
        "dtree = DecisionTreeClassifier(random_state=21)\n",
        "dtree.fit(x_train,y_train)"
      ]
    },
    {
      "cell_type": "code",
      "execution_count": null,
      "metadata": {
        "id": "WcxiBlXe0v9k"
      },
      "outputs": [],
      "source": [
        "y_pred = dtree.predict(x_test)\n",
        "\n",
        "print(\"Train data accuracy:\",accuracy_score(y_true = y_train, y_pred = dtree.predict(x_train)))\n",
        "print(\"Test data accuracy:\",accuracy_score(y_true = y_test, y_pred = y_pred))"
      ]
    },
    {
      "cell_type": "code",
      "execution_count": null,
      "metadata": {
        "id": "Ingj3iD-DMVw"
      },
      "outputs": [],
      "source": [
        "sk_folds = StratifiedKFold(n_splits = 2)\n",
        "scores = cross_val_score(classifier, x, y, cv = sk_folds)"
      ]
    },
    {
      "cell_type": "code",
      "execution_count": null,
      "metadata": {
        "id": "CGzw9-UHDMVx"
      },
      "outputs": [],
      "source": [
        "print(\"Test Accuracy Score: \", scores)"
      ]
    },
    {
      "cell_type": "code",
      "execution_count": null,
      "metadata": {
        "id": "xxl8fwv7yATZ"
      },
      "outputs": [],
      "source": [
        "print(\"Average CV Score: \", scores.mean())\n",
        "print(\"Test Accuracy Score: \", scores)"
      ]
    },
    {
      "cell_type": "code",
      "execution_count": null,
      "metadata": {
        "id": "mN4oFMrtDMVy"
      },
      "outputs": [],
      "source": [
        "sk_folds = StratifiedKFold(n_splits = 3)\n",
        "scores = cross_val_score(classifier, x, y, cv = sk_folds)"
      ]
    },
    {
      "cell_type": "code",
      "execution_count": null,
      "metadata": {
        "id": "KfcKbPXUDMVy"
      },
      "outputs": [],
      "source": [
        "print(\"Test Accuracy Score: \", scores)"
      ]
    },
    {
      "cell_type": "code",
      "execution_count": null,
      "metadata": {
        "id": "ee2ZMO0gx_6r"
      },
      "outputs": [],
      "source": [
        "print(\"Average CV Score: \", scores.mean())\n",
        "print(\"Test Accuracy Score: \", scores)"
      ]
    },
    {
      "cell_type": "code",
      "execution_count": null,
      "metadata": {
        "id": "zJlMZe0PDMVz"
      },
      "outputs": [],
      "source": [
        "sk_folds = StratifiedKFold(n_splits = 4)\n",
        "scores = cross_val_score(classifier, x, y, cv = sk_folds)"
      ]
    },
    {
      "cell_type": "code",
      "execution_count": null,
      "metadata": {
        "id": "cI88amsADMV0"
      },
      "outputs": [],
      "source": [
        "print(\"Test Accuracy Score: \", scores)"
      ]
    },
    {
      "cell_type": "code",
      "execution_count": null,
      "metadata": {
        "id": "Or7Bkxj5yFOG"
      },
      "outputs": [],
      "source": [
        "print(\"Average CV Score: \", scores.mean())\n",
        "print(\"Test Accuracy Score: \", scores)"
      ]
    },
    {
      "cell_type": "code",
      "execution_count": null,
      "metadata": {
        "id": "gSFIt-4dx_fi"
      },
      "outputs": [],
      "source": [
        "print(\"Average CV Score: \", scores.mean())\n",
        "print(\"Test Accuracy Score: \", scores)"
      ]
    },
    {
      "cell_type": "code",
      "execution_count": null,
      "metadata": {
        "id": "fuDd_WUzDMV0"
      },
      "outputs": [],
      "source": [
        "sk_folds = StratifiedKFold(n_splits = 5)\n",
        "scores = cross_val_score(classifier, x, y, cv = sk_folds)"
      ]
    },
    {
      "cell_type": "code",
      "execution_count": null,
      "metadata": {
        "id": "Dk0JiH9yDMV1"
      },
      "outputs": [],
      "source": [
        "print(\"Test Accuracy Score: \", scores)"
      ]
    },
    {
      "cell_type": "code",
      "execution_count": null,
      "metadata": {
        "id": "byaT_eenyEU3"
      },
      "outputs": [],
      "source": [
        "print(\"Average CV Score: \", scores.mean())\n",
        "print(\"Test Accuracy Score: \", scores)"
      ]
    },
    {
      "cell_type": "code",
      "execution_count": null,
      "metadata": {
        "id": "cw4ZevUvDMV1"
      },
      "outputs": [],
      "source": [
        "sk_folds = StratifiedKFold(n_splits = 6)\n",
        "scores = cross_val_score(classifier, x, y, cv = sk_folds)"
      ]
    },
    {
      "cell_type": "code",
      "execution_count": null,
      "metadata": {
        "id": "ayfzqFbxDMV1"
      },
      "outputs": [],
      "source": [
        "print(\"Test Accuracy Score: \", scores)"
      ]
    },
    {
      "cell_type": "code",
      "execution_count": null,
      "metadata": {
        "id": "RZd8qitjyDXA"
      },
      "outputs": [],
      "source": [
        "print(\"Average CV Score: \", scores.mean())\n",
        "print(\"Test Accuracy Score: \", scores)"
      ]
    },
    {
      "cell_type": "code",
      "execution_count": null,
      "metadata": {
        "id": "BSAZmwoODMV2"
      },
      "outputs": [],
      "source": [
        "sk_folds = StratifiedKFold(n_splits = 7)\n",
        "scores = cross_val_score(classifier, x, y, cv = sk_folds)"
      ]
    },
    {
      "cell_type": "code",
      "execution_count": null,
      "metadata": {
        "id": "aeD4ExpmDMV3"
      },
      "outputs": [],
      "source": [
        "print(\"Test Accuracy Score: \", scores)"
      ]
    },
    {
      "cell_type": "code",
      "execution_count": null,
      "metadata": {
        "id": "l95hCYjQyC7r"
      },
      "outputs": [],
      "source": [
        "print(\"Average CV Score: \", scores.mean())\n",
        "print(\"Test Accuracy Score: \", scores)"
      ]
    },
    {
      "cell_type": "code",
      "execution_count": null,
      "metadata": {
        "id": "15wtFiY1DMV3"
      },
      "outputs": [],
      "source": [
        "sk_folds = StratifiedKFold(n_splits = 8)\n",
        "scores = cross_val_score(classifier, x, y, cv = sk_folds)"
      ]
    },
    {
      "cell_type": "code",
      "execution_count": null,
      "metadata": {
        "id": "_Aio1g1CyCeW"
      },
      "outputs": [],
      "source": [
        "print(\"Average CV Score: \", scores.mean())\n",
        "print(\"Test Accuracy Score: \", scores)"
      ]
    },
    {
      "cell_type": "code",
      "execution_count": null,
      "metadata": {
        "id": "0A2W8JVUDMV4"
      },
      "outputs": [],
      "source": [
        "sk_folds = StratifiedKFold(n_splits = 9)\n",
        "scores = cross_val_score(classifier, x, y, cv = sk_folds)"
      ]
    },
    {
      "cell_type": "code",
      "execution_count": null,
      "metadata": {
        "id": "oa7ucX4kDMV4"
      },
      "outputs": [],
      "source": [
        "print(\"Test Accuracy Score: \", scores)"
      ]
    },
    {
      "cell_type": "code",
      "execution_count": null,
      "metadata": {
        "id": "JNZowGtxyBza"
      },
      "outputs": [],
      "source": [
        "print(\"Average CV Score: \", scores.mean())\n",
        "print(\"Test Accuracy Score: \", scores)"
      ]
    },
    {
      "cell_type": "code",
      "execution_count": null,
      "metadata": {
        "id": "CgGFffPNDMV5"
      },
      "outputs": [],
      "source": [
        "sk_folds = StratifiedKFold(n_splits = 10)\n",
        "scores = cross_val_score(classifier, x, y, cv = sk_folds)"
      ]
    },
    {
      "cell_type": "code",
      "execution_count": null,
      "metadata": {
        "id": "Xgv7rIZqDMV5"
      },
      "outputs": [],
      "source": [
        "print(\"Test Accuracy Score: \", scores)"
      ]
    },
    {
      "cell_type": "code",
      "execution_count": null,
      "metadata": {
        "id": "6DA0BHsQyIjW"
      },
      "outputs": [],
      "source": [
        "print(\"Average CV Score: \", scores.mean())\n",
        "print(\"Test Accuracy Score: \", scores)"
      ]
    },
    {
      "cell_type": "markdown",
      "metadata": {
        "id": "rUKXgsJX07xx"
      },
      "source": [
        "#**jm1**"
      ]
    },
    {
      "cell_type": "code",
      "execution_count": null,
      "metadata": {
        "id": "kOxN4-OL0_FB"
      },
      "outputs": [],
      "source": [
        "jm1_df"
      ]
    },
    {
      "cell_type": "markdown",
      "metadata": {
        "id": "0F8AtGId1BHK"
      },
      "source": [
        "####**Spiliting Dataset**\n",
        "training: 80% testing:20%"
      ]
    },
    {
      "cell_type": "code",
      "execution_count": null,
      "metadata": {
        "id": "EfeQ_ez31BHM"
      },
      "outputs": [],
      "source": [
        "x = jm1_df.iloc[:,:-1]\n",
        "y = jm1_df.iloc[:,-1]\n",
        "\n",
        "from sklearn.model_selection import train_test_split\n",
        "x_train, x_test, y_train, y_test = train_test_split(x,y,test_size=0.20,random_state=0, stratify=jm1_df.problems)\n",
        "\n",
        "from sklearn.preprocessing import StandardScaler    \n",
        "st_x= StandardScaler()    \n",
        "x_train= st_x.fit_transform(x_train)    \n",
        "x_test= st_x.transform(x_test)  "
      ]
    },
    {
      "cell_type": "markdown",
      "metadata": {
        "id": "eDiOoy0z1BHM"
      },
      "source": [
        "###**Logistic Regression**"
      ]
    },
    {
      "cell_type": "code",
      "execution_count": null,
      "metadata": {
        "id": "6pLVAgE01BHM"
      },
      "outputs": [],
      "source": [
        "from sklearn.linear_model import LogisticRegression  \n",
        "classifier= LogisticRegression(random_state=0)  \n",
        "classifier.fit(x_train, y_train) \n",
        "\n",
        "y_pred= classifier.predict(x_test)\n",
        "\n",
        "score_ = accuracy_score(y_test, y_pred)\n",
        "print(\"Test Accuracy Score: \", score_)\n",
        "\n",
        "from sklearn.metrics import confusion_matrix  \n",
        "cm= confusion_matrix(y_test,y_pred)\n",
        "print(\"Confusion Matrix: \\n\",cm)"
      ]
    },
    {
      "cell_type": "code",
      "execution_count": null,
      "metadata": {
        "id": "Q36TQmm6DUpT"
      },
      "outputs": [],
      "source": [
        "sk_folds = StratifiedKFold(n_splits = 2)\n",
        "scores = cross_val_score(classifier, x, y, cv = sk_folds)"
      ]
    },
    {
      "cell_type": "code",
      "execution_count": null,
      "metadata": {
        "id": "2AxZDpzLDUpT"
      },
      "outputs": [],
      "source": [
        "print(\"Test Accuracy Score: \", scores)"
      ]
    },
    {
      "cell_type": "code",
      "execution_count": null,
      "metadata": {
        "id": "DxG-doKayKXU"
      },
      "outputs": [],
      "source": [
        "print(\"Average CV Score: \", scores.mean())\n",
        "print(\"Test Accuracy Score: \", scores)"
      ]
    },
    {
      "cell_type": "code",
      "execution_count": null,
      "metadata": {
        "id": "Z3Gq41vaDUpT"
      },
      "outputs": [],
      "source": [
        "sk_folds = StratifiedKFold(n_splits = 3)\n",
        "scores = cross_val_score(classifier, x, y, cv = sk_folds)"
      ]
    },
    {
      "cell_type": "code",
      "execution_count": null,
      "metadata": {
        "id": "roDizMV4DUpU"
      },
      "outputs": [],
      "source": [
        "print(\"Test Accuracy Score: \", scores)"
      ]
    },
    {
      "cell_type": "code",
      "execution_count": null,
      "metadata": {
        "id": "VRWUNfucyLIv"
      },
      "outputs": [],
      "source": [
        "print(\"Average CV Score: \", scores.mean())\n",
        "print(\"Test Accuracy Score: \", scores)"
      ]
    },
    {
      "cell_type": "code",
      "execution_count": null,
      "metadata": {
        "id": "GpT_6e8wDUpU"
      },
      "outputs": [],
      "source": [
        "sk_folds = StratifiedKFold(n_splits = 4)\n",
        "scores = cross_val_score(classifier, x, y, cv = sk_folds)"
      ]
    },
    {
      "cell_type": "code",
      "execution_count": null,
      "metadata": {
        "id": "9oV9TW1TDUpU"
      },
      "outputs": [],
      "source": [
        "print(\"Test Accuracy Score: \", scores)"
      ]
    },
    {
      "cell_type": "code",
      "execution_count": null,
      "metadata": {
        "id": "1tI36UuzyMXT"
      },
      "outputs": [],
      "source": [
        "print(\"Average CV Score: \", scores.mean())\n",
        "print(\"Test Accuracy Score: \", scores)"
      ]
    },
    {
      "cell_type": "code",
      "execution_count": null,
      "metadata": {
        "id": "wCnZi2UGDUpU"
      },
      "outputs": [],
      "source": [
        "sk_folds = StratifiedKFold(n_splits = 5)\n",
        "scores = cross_val_score(classifier, x, y, cv = sk_folds)"
      ]
    },
    {
      "cell_type": "code",
      "execution_count": null,
      "metadata": {
        "id": "f4eVzwA4DUpV"
      },
      "outputs": [],
      "source": [
        "print(\"Test Accuracy Score: \", scores)"
      ]
    },
    {
      "cell_type": "code",
      "execution_count": null,
      "metadata": {
        "id": "DeVtiq-ryN1W"
      },
      "outputs": [],
      "source": [
        "print(\"Average CV Score: \", scores.mean())\n",
        "print(\"Test Accuracy Score: \", scores)"
      ]
    },
    {
      "cell_type": "code",
      "execution_count": null,
      "metadata": {
        "id": "T_IPDT7bDUpV"
      },
      "outputs": [],
      "source": [
        "sk_folds = StratifiedKFold(n_splits = 6)\n",
        "scores = cross_val_score(classifier, x, y, cv = sk_folds)"
      ]
    },
    {
      "cell_type": "code",
      "execution_count": null,
      "metadata": {
        "id": "BibLEQBzDUpV"
      },
      "outputs": [],
      "source": [
        "print(\"Test Accuracy Score: \", scores)"
      ]
    },
    {
      "cell_type": "code",
      "execution_count": null,
      "metadata": {
        "id": "0TQ9H0B4yO1m"
      },
      "outputs": [],
      "source": [
        "print(\"Average CV Score: \", scores.mean())\n",
        "print(\"Test Accuracy Score: \", scores)"
      ]
    },
    {
      "cell_type": "code",
      "execution_count": null,
      "metadata": {
        "id": "xX4dZxw1DUpV"
      },
      "outputs": [],
      "source": [
        "sk_folds = StratifiedKFold(n_splits = 7)\n",
        "scores = cross_val_score(classifier, x, y, cv = sk_folds)"
      ]
    },
    {
      "cell_type": "code",
      "execution_count": null,
      "metadata": {
        "id": "gCnyrSlkDUpV"
      },
      "outputs": [],
      "source": [
        "print(\"Test Accuracy Score: \", scores)"
      ]
    },
    {
      "cell_type": "code",
      "execution_count": null,
      "metadata": {
        "id": "OS6jKMRlyPtt"
      },
      "outputs": [],
      "source": [
        "print(\"Average CV Score: \", scores.mean())\n",
        "print(\"Test Accuracy Score: \", scores)"
      ]
    },
    {
      "cell_type": "code",
      "execution_count": null,
      "metadata": {
        "id": "_1zjD9ORDUpW"
      },
      "outputs": [],
      "source": [
        "sk_folds = StratifiedKFold(n_splits = 8)\n",
        "scores = cross_val_score(classifier, x, y, cv = sk_folds)"
      ]
    },
    {
      "cell_type": "code",
      "execution_count": null,
      "metadata": {
        "id": "BalPzJKByRLe"
      },
      "outputs": [],
      "source": [
        "print(\"Average CV Score: \", scores.mean())\n",
        "print(\"Test Accuracy Score: \", scores)"
      ]
    },
    {
      "cell_type": "code",
      "execution_count": null,
      "metadata": {
        "id": "VLl0ySJmDUpW"
      },
      "outputs": [],
      "source": [
        "sk_folds = StratifiedKFold(n_splits = 9)\n",
        "scores = cross_val_score(classifier, x, y, cv = sk_folds)"
      ]
    },
    {
      "cell_type": "code",
      "execution_count": null,
      "metadata": {
        "id": "wo-Bmap4DUpW"
      },
      "outputs": [],
      "source": [
        "print(\"Test Accuracy Score: \", scores)"
      ]
    },
    {
      "cell_type": "code",
      "execution_count": null,
      "metadata": {
        "id": "FWfALHDrySha"
      },
      "outputs": [],
      "source": [
        "print(\"Average CV Score: \", scores.mean())\n",
        "print(\"Test Accuracy Score: \", scores)"
      ]
    },
    {
      "cell_type": "code",
      "execution_count": null,
      "metadata": {
        "id": "g0RFx_pxDUpW"
      },
      "outputs": [],
      "source": [
        "sk_folds = StratifiedKFold(n_splits = 10)\n",
        "scores = cross_val_score(classifier, x, y, cv = sk_folds)"
      ]
    },
    {
      "cell_type": "code",
      "execution_count": null,
      "metadata": {
        "id": "HGIc6OXeDUpX"
      },
      "outputs": [],
      "source": [
        "print(\"Test Accuracy Score: \", scores)"
      ]
    },
    {
      "cell_type": "code",
      "execution_count": null,
      "metadata": {
        "id": "Bqscxg37yTk1"
      },
      "outputs": [],
      "source": [
        "print(\"Average CV Score: \", scores.mean())\n",
        "print(\"Test Accuracy Score: \", scores)"
      ]
    },
    {
      "cell_type": "markdown",
      "metadata": {
        "id": "l2m_iWPg1BHN"
      },
      "source": [
        "###**Support Vector Machine Algorithm**"
      ]
    },
    {
      "cell_type": "code",
      "execution_count": null,
      "metadata": {
        "id": "YOfBeYhZ1BHN"
      },
      "outputs": [],
      "source": [
        "from sklearn.svm import SVC # \"Support vector classifier\"  \n",
        "classifier = SVC(kernel='rbf', random_state=0)  \n",
        "classifier.fit(x_train, y_train)  "
      ]
    },
    {
      "cell_type": "code",
      "execution_count": null,
      "metadata": {
        "id": "embWodUZ1BHO"
      },
      "outputs": [],
      "source": [
        "#Predicting the test set result  \n",
        "y_pred= classifier.predict(x_test)  "
      ]
    },
    {
      "cell_type": "code",
      "execution_count": null,
      "metadata": {
        "id": "DZeFa1a_1BHO"
      },
      "outputs": [],
      "source": [
        "from sklearn.metrics import confusion_matrix  \n",
        "cm= confusion_matrix(y_test, y_pred)  \n",
        "print(cm)"
      ]
    },
    {
      "cell_type": "code",
      "execution_count": null,
      "metadata": {
        "id": "Mpz3_OmN1BHP"
      },
      "outputs": [],
      "source": [
        "score_ = accuracy_score(y_test, y_pred)\n",
        "print(\"Test Accuracy Score: \", score_)"
      ]
    },
    {
      "cell_type": "code",
      "execution_count": null,
      "metadata": {
        "id": "Hlsiedf_DWPe"
      },
      "outputs": [],
      "source": [
        "sk_folds = StratifiedKFold(n_splits = 2)\n",
        "scores = cross_val_score(classifier, x, y, cv = sk_folds)"
      ]
    },
    {
      "cell_type": "code",
      "execution_count": null,
      "metadata": {
        "id": "BG-rqQYPDWPf"
      },
      "outputs": [],
      "source": [
        "print(\"Test Accuracy Score: \", scores)"
      ]
    },
    {
      "cell_type": "code",
      "execution_count": null,
      "metadata": {
        "id": "DKWT02iEyVDb"
      },
      "outputs": [],
      "source": [
        "print(\"Average CV Score: \", scores.mean())\n",
        "print(\"Test Accuracy Score: \", scores)"
      ]
    },
    {
      "cell_type": "code",
      "execution_count": null,
      "metadata": {
        "id": "4g3X0dnnDWPg"
      },
      "outputs": [],
      "source": [
        "sk_folds = StratifiedKFold(n_splits = 3)\n",
        "scores = cross_val_score(classifier, x, y, cv = sk_folds)"
      ]
    },
    {
      "cell_type": "code",
      "execution_count": null,
      "metadata": {
        "id": "pXTLKF4FDWPg"
      },
      "outputs": [],
      "source": [
        "print(\"Test Accuracy Score: \", scores)"
      ]
    },
    {
      "cell_type": "code",
      "execution_count": null,
      "metadata": {
        "id": "zUlFvhXoyWE5"
      },
      "outputs": [],
      "source": [
        "print(\"Average CV Score: \", scores.mean())\n",
        "print(\"Test Accuracy Score: \", scores)"
      ]
    },
    {
      "cell_type": "code",
      "execution_count": null,
      "metadata": {
        "id": "nkF3-3SJDWPh"
      },
      "outputs": [],
      "source": [
        "sk_folds = StratifiedKFold(n_splits = 4)\n",
        "scores = cross_val_score(classifier, x, y, cv = sk_folds)"
      ]
    },
    {
      "cell_type": "code",
      "execution_count": null,
      "metadata": {
        "id": "p-AvwgkKDWPi"
      },
      "outputs": [],
      "source": [
        "print(\"Test Accuracy Score: \", scores)"
      ]
    },
    {
      "cell_type": "code",
      "execution_count": null,
      "metadata": {
        "id": "pwkdaLXcyXuN"
      },
      "outputs": [],
      "source": [
        "print(\"Average CV Score: \", scores.mean())\n",
        "print(\"Test Accuracy Score: \", scores)"
      ]
    },
    {
      "cell_type": "code",
      "execution_count": null,
      "metadata": {
        "id": "UTzfMAzdDWPj"
      },
      "outputs": [],
      "source": [
        "sk_folds = StratifiedKFold(n_splits = 5)\n",
        "scores = cross_val_score(classifier, x, y, cv = sk_folds)"
      ]
    },
    {
      "cell_type": "code",
      "execution_count": null,
      "metadata": {
        "id": "qCsELOQSDWPk"
      },
      "outputs": [],
      "source": [
        "print(\"Test Accuracy Score: \", scores)"
      ]
    },
    {
      "cell_type": "code",
      "execution_count": null,
      "metadata": {
        "id": "VLaHw4WnyW56"
      },
      "outputs": [],
      "source": [
        "print(\"Average CV Score: \", scores.mean())\n",
        "print(\"Test Accuracy Score: \", scores)"
      ]
    },
    {
      "cell_type": "code",
      "execution_count": null,
      "metadata": {
        "id": "bC2gmVaVDWPk"
      },
      "outputs": [],
      "source": [
        "sk_folds = StratifiedKFold(n_splits = 6)\n",
        "scores = cross_val_score(classifier, x, y, cv = sk_folds)"
      ]
    },
    {
      "cell_type": "code",
      "execution_count": null,
      "metadata": {
        "id": "Kg45G2vdDWPl"
      },
      "outputs": [],
      "source": [
        "print(\"Test Accuracy Score: \", scores)"
      ]
    },
    {
      "cell_type": "code",
      "execution_count": null,
      "metadata": {
        "id": "Kb3IBZj5yZLP"
      },
      "outputs": [],
      "source": [
        "print(\"Average CV Score: \", scores.mean())\n",
        "print(\"Test Accuracy Score: \", scores)"
      ]
    },
    {
      "cell_type": "code",
      "execution_count": null,
      "metadata": {
        "id": "SOPpcJ82DWPl"
      },
      "outputs": [],
      "source": [
        "sk_folds = StratifiedKFold(n_splits = 7)\n",
        "scores = cross_val_score(classifier, x, y, cv = sk_folds)"
      ]
    },
    {
      "cell_type": "code",
      "execution_count": null,
      "metadata": {
        "id": "wqrHL5PHDWPm"
      },
      "outputs": [],
      "source": [
        "print(\"Test Accuracy Score: \", scores)"
      ]
    },
    {
      "cell_type": "code",
      "execution_count": null,
      "metadata": {
        "id": "lVrxOYnSyYs1"
      },
      "outputs": [],
      "source": [
        "print(\"Average CV Score: \", scores.mean())\n",
        "print(\"Test Accuracy Score: \", scores)"
      ]
    },
    {
      "cell_type": "code",
      "execution_count": null,
      "metadata": {
        "id": "ndEokFzTDWPn"
      },
      "outputs": [],
      "source": [
        "sk_folds = StratifiedKFold(n_splits = 8)\n",
        "scores = cross_val_score(classifier, x, y, cv = sk_folds)"
      ]
    },
    {
      "cell_type": "code",
      "execution_count": null,
      "metadata": {
        "id": "nog-Pl4VybHk"
      },
      "outputs": [],
      "source": [
        "print(\"Average CV Score: \", scores.mean())\n",
        "print(\"Test Accuracy Score: \", scores)"
      ]
    },
    {
      "cell_type": "code",
      "execution_count": null,
      "metadata": {
        "id": "ERk6lvgDDWPn"
      },
      "outputs": [],
      "source": [
        "sk_folds = StratifiedKFold(n_splits = 9)\n",
        "scores = cross_val_score(classifier, x, y, cv = sk_folds)"
      ]
    },
    {
      "cell_type": "code",
      "execution_count": null,
      "metadata": {
        "id": "EJsfCwTADWPo"
      },
      "outputs": [],
      "source": [
        "print(\"Test Accuracy Score: \", scores)"
      ]
    },
    {
      "cell_type": "code",
      "execution_count": null,
      "metadata": {
        "id": "TAdqKCmtyauX"
      },
      "outputs": [],
      "source": [
        "print(\"Average CV Score: \", scores.mean())\n",
        "print(\"Test Accuracy Score: \", scores)"
      ]
    },
    {
      "cell_type": "code",
      "execution_count": null,
      "metadata": {
        "id": "yWTsEJCzDWPo"
      },
      "outputs": [],
      "source": [
        "sk_folds = StratifiedKFold(n_splits = 10)\n",
        "scores = cross_val_score(classifier, x, y, cv = sk_folds)"
      ]
    },
    {
      "cell_type": "code",
      "execution_count": null,
      "metadata": {
        "id": "_J_L4MZ6DWPp"
      },
      "outputs": [],
      "source": [
        "print(\"Test Accuracy Score: \", scores)"
      ]
    },
    {
      "cell_type": "code",
      "execution_count": null,
      "metadata": {
        "id": "F_FyqWU0yaGo"
      },
      "outputs": [],
      "source": [
        "print(\"Average CV Score: \", scores.mean())\n",
        "print(\"Test Accuracy Score: \", scores)"
      ]
    },
    {
      "cell_type": "markdown",
      "metadata": {
        "id": "bDXa2xBG1BHP"
      },
      "source": [
        "##**Decision Tree Algorithm**"
      ]
    },
    {
      "cell_type": "code",
      "execution_count": null,
      "metadata": {
        "id": "_-aFfCPo1BHP"
      },
      "outputs": [],
      "source": [
        "from sklearn.tree import DecisionTreeClassifier  \n",
        "classifier= DecisionTreeClassifier(criterion='entropy', random_state=0)  \n",
        "classifier.fit(x_train, y_train)  "
      ]
    },
    {
      "cell_type": "code",
      "execution_count": null,
      "metadata": {
        "id": "SrjxaCNj1BHQ"
      },
      "outputs": [],
      "source": [
        "#Predicting the test set result  \n",
        "y_pred= classifier.predict(x_test)  "
      ]
    },
    {
      "cell_type": "code",
      "execution_count": null,
      "metadata": {
        "id": "9NncsB011BHQ"
      },
      "outputs": [],
      "source": [
        "#Creating the Confusion matrix  \n",
        "from sklearn.metrics import confusion_matrix  \n",
        "cm= confusion_matrix(y_test, y_pred) \n",
        "print(cm)"
      ]
    },
    {
      "cell_type": "code",
      "execution_count": null,
      "metadata": {
        "id": "sPhil7-21BHR"
      },
      "outputs": [],
      "source": [
        "score_ = accuracy_score(y_test, y_pred)\n",
        "print(\"Test Accuracy Score: \", score_)"
      ]
    },
    {
      "cell_type": "code",
      "execution_count": null,
      "metadata": {
        "id": "tlrvxl3kDYZA"
      },
      "outputs": [],
      "source": [
        "sk_folds = StratifiedKFold(n_splits = 2)\n",
        "scores = cross_val_score(classifier, x, y, cv = sk_folds)"
      ]
    },
    {
      "cell_type": "code",
      "execution_count": null,
      "metadata": {
        "id": "xIuqeug5DYZB"
      },
      "outputs": [],
      "source": [
        "print(\"Test Accuracy Score: \", scores)"
      ]
    },
    {
      "cell_type": "code",
      "execution_count": null,
      "metadata": {
        "id": "9OxT0Vy7yd9O"
      },
      "outputs": [],
      "source": [
        "print(\"Average CV Score: \", scores.mean())\n",
        "print(\"Test Accuracy Score: \", scores)"
      ]
    },
    {
      "cell_type": "code",
      "execution_count": null,
      "metadata": {
        "id": "xfpLLMY_DYZC"
      },
      "outputs": [],
      "source": [
        "sk_folds = StratifiedKFold(n_splits = 3)\n",
        "scores = cross_val_score(classifier, x, y, cv = sk_folds)"
      ]
    },
    {
      "cell_type": "code",
      "execution_count": null,
      "metadata": {
        "id": "v9VlNBQ4DYZD"
      },
      "outputs": [],
      "source": [
        "print(\"Test Accuracy Score: \", scores)"
      ]
    },
    {
      "cell_type": "code",
      "execution_count": null,
      "metadata": {
        "id": "zQ9X5TiRydn7"
      },
      "outputs": [],
      "source": [
        "print(\"Average CV Score: \", scores.mean())\n",
        "print(\"Test Accuracy Score: \", scores)"
      ]
    },
    {
      "cell_type": "code",
      "execution_count": null,
      "metadata": {
        "id": "-QnbW20zDYZD"
      },
      "outputs": [],
      "source": [
        "sk_folds = StratifiedKFold(n_splits = 4)\n",
        "scores = cross_val_score(classifier, x, y, cv = sk_folds)"
      ]
    },
    {
      "cell_type": "code",
      "execution_count": null,
      "metadata": {
        "id": "Yl0Lz4RXDYZE"
      },
      "outputs": [],
      "source": [
        "print(\"Test Accuracy Score: \", scores)"
      ]
    },
    {
      "cell_type": "code",
      "execution_count": null,
      "metadata": {
        "id": "vPQTQsDpydIf"
      },
      "outputs": [],
      "source": [
        "print(\"Average CV Score: \", scores.mean())\n",
        "print(\"Test Accuracy Score: \", scores)"
      ]
    },
    {
      "cell_type": "code",
      "execution_count": null,
      "metadata": {
        "id": "xQKb5n-BDYZE"
      },
      "outputs": [],
      "source": [
        "sk_folds = StratifiedKFold(n_splits = 5)\n",
        "scores = cross_val_score(classifier, x, y, cv = sk_folds)"
      ]
    },
    {
      "cell_type": "code",
      "execution_count": null,
      "metadata": {
        "id": "K_lSxgUvycg6"
      },
      "outputs": [],
      "source": [
        "print(\"Average CV Score: \", scores.mean())\n",
        "print(\"Test Accuracy Score: \", scores)"
      ]
    },
    {
      "cell_type": "code",
      "execution_count": null,
      "metadata": {
        "id": "aac6-lFQDYZF"
      },
      "outputs": [],
      "source": [
        "print(\"Test Accuracy Score: \", scores)"
      ]
    },
    {
      "cell_type": "code",
      "execution_count": null,
      "metadata": {
        "id": "FOWpCyljDYZF"
      },
      "outputs": [],
      "source": [
        "sk_folds = StratifiedKFold(n_splits = 6)\n",
        "scores = cross_val_score(classifier, x, y, cv = sk_folds)"
      ]
    },
    {
      "cell_type": "code",
      "execution_count": null,
      "metadata": {
        "id": "EqJJbjsRDYZG"
      },
      "outputs": [],
      "source": [
        "print(\"Test Accuracy Score: \", scores)"
      ]
    },
    {
      "cell_type": "code",
      "execution_count": null,
      "metadata": {
        "id": "vOQ10r5QylsJ"
      },
      "outputs": [],
      "source": [
        "print(\"Average CV Score: \", scores.mean())\n",
        "print(\"Test Accuracy Score: \", scores)"
      ]
    },
    {
      "cell_type": "code",
      "execution_count": null,
      "metadata": {
        "id": "MK5_ngzdDYZG"
      },
      "outputs": [],
      "source": [
        "sk_folds = StratifiedKFold(n_splits = 7)\n",
        "scores = cross_val_score(classifier, x, y, cv = sk_folds)"
      ]
    },
    {
      "cell_type": "code",
      "execution_count": null,
      "metadata": {
        "id": "5SKIgOiYDYZG"
      },
      "outputs": [],
      "source": [
        "print(\"Test Accuracy Score: \", scores)"
      ]
    },
    {
      "cell_type": "code",
      "execution_count": null,
      "metadata": {
        "id": "FuhZyAwcylW8"
      },
      "outputs": [],
      "source": [
        "print(\"Average CV Score: \", scores.mean())\n",
        "print(\"Test Accuracy Score: \", scores)"
      ]
    },
    {
      "cell_type": "code",
      "execution_count": null,
      "metadata": {
        "id": "w6XZQhYCDYZH"
      },
      "outputs": [],
      "source": [
        "sk_folds = StratifiedKFold(n_splits = 8)\n",
        "scores = cross_val_score(classifier, x, y, cv = sk_folds)"
      ]
    },
    {
      "cell_type": "code",
      "execution_count": null,
      "metadata": {
        "id": "rpfOobkQyk48"
      },
      "outputs": [],
      "source": [
        "print(\"Average CV Score: \", scores.mean())\n",
        "print(\"Test Accuracy Score: \", scores)"
      ]
    },
    {
      "cell_type": "code",
      "execution_count": null,
      "metadata": {
        "id": "XPgG8iHgDYZH"
      },
      "outputs": [],
      "source": [
        "sk_folds = StratifiedKFold(n_splits = 9)\n",
        "scores = cross_val_score(classifier, x, y, cv = sk_folds)"
      ]
    },
    {
      "cell_type": "code",
      "execution_count": null,
      "metadata": {
        "id": "jMoouulVDYZI"
      },
      "outputs": [],
      "source": [
        "print(\"Test Accuracy Score: \", scores)"
      ]
    },
    {
      "cell_type": "code",
      "execution_count": null,
      "metadata": {
        "id": "CmtXDDILyjMH"
      },
      "outputs": [],
      "source": [
        "print(\"Average CV Score: \", scores.mean())\n",
        "print(\"Test Accuracy Score: \", scores)"
      ]
    },
    {
      "cell_type": "code",
      "execution_count": null,
      "metadata": {
        "id": "EHnggQJNDYZI"
      },
      "outputs": [],
      "source": [
        "sk_folds = StratifiedKFold(n_splits = 10)\n",
        "scores = cross_val_score(classifier, x, y, cv = sk_folds)"
      ]
    },
    {
      "cell_type": "code",
      "execution_count": null,
      "metadata": {
        "id": "ZKMaZM7TDYZJ"
      },
      "outputs": [],
      "source": [
        "print(\"Test Accuracy Score: \", scores)"
      ]
    },
    {
      "cell_type": "code",
      "execution_count": null,
      "metadata": {
        "id": "b33N2bJwyfLS"
      },
      "outputs": [],
      "source": [
        "print(\"Average CV Score: \", scores.mean())\n",
        "print(\"Test Accuracy Score: \", scores)"
      ]
    },
    {
      "cell_type": "markdown",
      "metadata": {
        "id": "K1QS8mWr1BHR"
      },
      "source": [
        "##**Random Forest**"
      ]
    },
    {
      "cell_type": "code",
      "execution_count": null,
      "metadata": {
        "id": "RxhwsAjm1BHR"
      },
      "outputs": [],
      "source": [
        "#Fitting Decision Tree classifier to the training set  \n",
        "from sklearn.ensemble import RandomForestClassifier  \n",
        "classifier= RandomForestClassifier(n_estimators= 10, criterion=\"entropy\")  \n",
        "classifier.fit(x_train, y_train)  "
      ]
    },
    {
      "cell_type": "code",
      "execution_count": null,
      "metadata": {
        "id": "sDy1huNK1BHS"
      },
      "outputs": [],
      "source": [
        "#Predicting the test set result  \n",
        "y_pred= classifier.predict(x_test)  "
      ]
    },
    {
      "cell_type": "code",
      "execution_count": null,
      "metadata": {
        "id": "Bp9Kf1MG1BHS"
      },
      "outputs": [],
      "source": [
        "#Creating the Confusion matrix  \n",
        "from sklearn.metrics import confusion_matrix  \n",
        "cm= confusion_matrix(y_test, y_pred)  \n",
        "print(cm)"
      ]
    },
    {
      "cell_type": "code",
      "execution_count": null,
      "metadata": {
        "id": "UaCMvLM51BHT"
      },
      "outputs": [],
      "source": [
        "score_ = accuracy_score(y_test, y_pred)\n",
        "print(\"Test Accuracy Score: \", score_)"
      ]
    },
    {
      "cell_type": "code",
      "execution_count": null,
      "metadata": {
        "id": "N4N2kGOSDbHx"
      },
      "outputs": [],
      "source": [
        "sk_folds = StratifiedKFold(n_splits = 2)\n",
        "scores = cross_val_score(classifier, x, y, cv = sk_folds)"
      ]
    },
    {
      "cell_type": "code",
      "execution_count": null,
      "metadata": {
        "id": "DYoiiDm3DbHy"
      },
      "outputs": [],
      "source": [
        "print(\"Test Accuracy Score: \", scores)"
      ]
    },
    {
      "cell_type": "code",
      "execution_count": null,
      "metadata": {
        "id": "DcNgEPLXysKg"
      },
      "outputs": [],
      "source": [
        "print(\"Average CV Score: \", scores.mean())\n",
        "print(\"Test Accuracy Score: \", scores)"
      ]
    },
    {
      "cell_type": "code",
      "execution_count": null,
      "metadata": {
        "id": "vQ0KysUFDbHz"
      },
      "outputs": [],
      "source": [
        "sk_folds = StratifiedKFold(n_splits = 3)\n",
        "scores = cross_val_score(classifier, x, y, cv = sk_folds)"
      ]
    },
    {
      "cell_type": "code",
      "execution_count": null,
      "metadata": {
        "id": "oKxjfDKeDbHz"
      },
      "outputs": [],
      "source": [
        "print(\"Test Accuracy Score: \", scores)"
      ]
    },
    {
      "cell_type": "code",
      "execution_count": null,
      "metadata": {
        "id": "PamRTg19yrut"
      },
      "outputs": [],
      "source": [
        "print(\"Average CV Score: \", scores.mean())\n",
        "print(\"Test Accuracy Score: \", scores)"
      ]
    },
    {
      "cell_type": "code",
      "execution_count": null,
      "metadata": {
        "id": "QrShCbFbDbH0"
      },
      "outputs": [],
      "source": [
        "sk_folds = StratifiedKFold(n_splits = 4)\n",
        "scores = cross_val_score(classifier, x, y, cv = sk_folds)"
      ]
    },
    {
      "cell_type": "code",
      "execution_count": null,
      "metadata": {
        "id": "loxLyyZODbH0"
      },
      "outputs": [],
      "source": [
        "print(\"Test Accuracy Score: \", scores)"
      ]
    },
    {
      "cell_type": "code",
      "execution_count": null,
      "metadata": {
        "id": "q0jFqjCIyrUo"
      },
      "outputs": [],
      "source": [
        "print(\"Average CV Score: \", scores.mean())\n",
        "print(\"Test Accuracy Score: \", scores)"
      ]
    },
    {
      "cell_type": "code",
      "execution_count": null,
      "metadata": {
        "id": "hBPRcQ4aDbH1"
      },
      "outputs": [],
      "source": [
        "sk_folds = StratifiedKFold(n_splits = 5)\n",
        "scores = cross_val_score(classifier, x, y, cv = sk_folds)"
      ]
    },
    {
      "cell_type": "code",
      "execution_count": null,
      "metadata": {
        "id": "sOSsAgD7DbH1"
      },
      "outputs": [],
      "source": [
        "print(\"Test Accuracy Score: \", scores)"
      ]
    },
    {
      "cell_type": "code",
      "execution_count": null,
      "metadata": {
        "id": "yjzHy87tyq_M"
      },
      "outputs": [],
      "source": [
        "print(\"Average CV Score: \", scores.mean())\n",
        "print(\"Test Accuracy Score: \", scores)"
      ]
    },
    {
      "cell_type": "code",
      "execution_count": null,
      "metadata": {
        "id": "05qNXNvPDbH1"
      },
      "outputs": [],
      "source": [
        "sk_folds = StratifiedKFold(n_splits = 6)\n",
        "scores = cross_val_score(classifier, x, y, cv = sk_folds)"
      ]
    },
    {
      "cell_type": "code",
      "execution_count": null,
      "metadata": {
        "id": "5n_kjkUDDbH2"
      },
      "outputs": [],
      "source": [
        "print(\"Test Accuracy Score: \", scores)"
      ]
    },
    {
      "cell_type": "code",
      "execution_count": null,
      "metadata": {
        "id": "GEfiPNkLyqSS"
      },
      "outputs": [],
      "source": [
        "print(\"Average CV Score: \", scores.mean())\n",
        "print(\"Test Accuracy Score: \", scores)"
      ]
    },
    {
      "cell_type": "code",
      "execution_count": null,
      "metadata": {
        "id": "Gyh3A34DDbH2"
      },
      "outputs": [],
      "source": [
        "sk_folds = StratifiedKFold(n_splits = 7)\n",
        "scores = cross_val_score(classifier, x, y, cv = sk_folds)"
      ]
    },
    {
      "cell_type": "code",
      "execution_count": null,
      "metadata": {
        "id": "Y_a4uN0zDbH3"
      },
      "outputs": [],
      "source": [
        "print(\"Test Accuracy Score: \", scores)"
      ]
    },
    {
      "cell_type": "code",
      "execution_count": null,
      "metadata": {
        "id": "hkrvluzyyvlV"
      },
      "outputs": [],
      "source": [
        "print(\"Average CV Score: \", scores.mean())\n",
        "print(\"Test Accuracy Score: \", scores)"
      ]
    },
    {
      "cell_type": "code",
      "execution_count": null,
      "metadata": {
        "id": "E4sG9_D7DbH3"
      },
      "outputs": [],
      "source": [
        "sk_folds = StratifiedKFold(n_splits = 8)\n",
        "scores = cross_val_score(classifier, x, y, cv = sk_folds)"
      ]
    },
    {
      "cell_type": "code",
      "execution_count": null,
      "metadata": {
        "id": "uu1dOH0uyvLD"
      },
      "outputs": [],
      "source": [
        "print(\"Average CV Score: \", scores.mean())\n",
        "print(\"Test Accuracy Score: \", scores)"
      ]
    },
    {
      "cell_type": "code",
      "execution_count": null,
      "metadata": {
        "id": "zLDqJh4KDbH4"
      },
      "outputs": [],
      "source": [
        "sk_folds = StratifiedKFold(n_splits = 9)\n",
        "scores = cross_val_score(classifier, x, y, cv = sk_folds)"
      ]
    },
    {
      "cell_type": "code",
      "execution_count": null,
      "metadata": {
        "id": "nO_kD0lWDbH4"
      },
      "outputs": [],
      "source": [
        "print(\"Test Accuracy Score: \", scores)"
      ]
    },
    {
      "cell_type": "code",
      "execution_count": null,
      "metadata": {
        "id": "qbv-K6_9yu0A"
      },
      "outputs": [],
      "source": [
        "print(\"Average CV Score: \", scores.mean())\n",
        "print(\"Test Accuracy Score: \", scores)"
      ]
    },
    {
      "cell_type": "code",
      "execution_count": null,
      "metadata": {
        "id": "YjC9h-0FDbH5"
      },
      "outputs": [],
      "source": [
        "sk_folds = StratifiedKFold(n_splits = 10)\n",
        "scores = cross_val_score(classifier, x, y, cv = sk_folds)"
      ]
    },
    {
      "cell_type": "code",
      "execution_count": null,
      "metadata": {
        "id": "h5lnoVfMDbH5"
      },
      "outputs": [],
      "source": [
        "print(\"Test Accuracy Score: \", scores)"
      ]
    },
    {
      "cell_type": "code",
      "execution_count": null,
      "metadata": {
        "id": "KNacYsqhyuc7"
      },
      "outputs": [],
      "source": [
        "print(\"Average CV Score: \", scores.mean())\n",
        "print(\"Test Accuracy Score: \", scores)"
      ]
    },
    {
      "cell_type": "markdown",
      "metadata": {
        "id": "NPXzr51K1BHT"
      },
      "source": [
        "##**Bagging**"
      ]
    },
    {
      "cell_type": "code",
      "execution_count": null,
      "metadata": {
        "id": "jMvaJOqN1BHU"
      },
      "outputs": [],
      "source": [
        "from sklearn.tree import DecisionTreeClassifier\n",
        "dtree = DecisionTreeClassifier(random_state=21)\n",
        "dtree.fit(x_train,y_train)"
      ]
    },
    {
      "cell_type": "code",
      "execution_count": null,
      "metadata": {
        "id": "9j50xmRZ1BHU"
      },
      "outputs": [],
      "source": [
        "y_pred = dtree.predict(x_test)\n",
        "\n",
        "print(\"Train data accuracy:\",accuracy_score(y_true = y_train, y_pred = dtree.predict(x_train)))\n",
        "print(\"Test data accuracy:\",accuracy_score(y_true = y_test, y_pred = y_pred))"
      ]
    },
    {
      "cell_type": "code",
      "execution_count": null,
      "metadata": {
        "id": "BjJF4BzxDe3F"
      },
      "outputs": [],
      "source": [
        "sk_folds = StratifiedKFold(n_splits = 2)\n",
        "scores = cross_val_score(classifier, x, y, cv = sk_folds)"
      ]
    },
    {
      "cell_type": "code",
      "execution_count": null,
      "metadata": {
        "id": "F8qsk_eYDe3G"
      },
      "outputs": [],
      "source": [
        "print(\"Test Accuracy Score: \", scores)"
      ]
    },
    {
      "cell_type": "code",
      "execution_count": null,
      "metadata": {
        "id": "XH5cnIgTy1x4"
      },
      "outputs": [],
      "source": [
        "print(\"Average CV Score: \", scores.mean())\n",
        "print(\"Test Accuracy Score: \", scores)"
      ]
    },
    {
      "cell_type": "code",
      "execution_count": null,
      "metadata": {
        "id": "kjeEMk8QDe3G"
      },
      "outputs": [],
      "source": [
        "sk_folds = StratifiedKFold(n_splits = 3)\n",
        "scores = cross_val_score(classifier, x, y, cv = sk_folds)"
      ]
    },
    {
      "cell_type": "code",
      "execution_count": null,
      "metadata": {
        "id": "o12GEiehDe3H"
      },
      "outputs": [],
      "source": [
        "print(\"Test Accuracy Score: \", scores)"
      ]
    },
    {
      "cell_type": "code",
      "execution_count": null,
      "metadata": {
        "id": "mkQrcEefy1gr"
      },
      "outputs": [],
      "source": [
        "print(\"Average CV Score: \", scores.mean())\n",
        "print(\"Test Accuracy Score: \", scores)"
      ]
    },
    {
      "cell_type": "code",
      "execution_count": null,
      "metadata": {
        "id": "Fxc3ZLw1De3H"
      },
      "outputs": [],
      "source": [
        "sk_folds = StratifiedKFold(n_splits = 4)\n",
        "scores = cross_val_score(classifier, x, y, cv = sk_folds)"
      ]
    },
    {
      "cell_type": "code",
      "execution_count": null,
      "metadata": {
        "id": "hkuYQdeMDe3I"
      },
      "outputs": [],
      "source": [
        "print(\"Test Accuracy Score: \", scores)"
      ]
    },
    {
      "cell_type": "code",
      "execution_count": null,
      "metadata": {
        "id": "tgoZdis_y1Kg"
      },
      "outputs": [],
      "source": [
        "print(\"Average CV Score: \", scores.mean())\n",
        "print(\"Test Accuracy Score: \", scores)"
      ]
    },
    {
      "cell_type": "code",
      "execution_count": null,
      "metadata": {
        "id": "u75QCbd9De3I"
      },
      "outputs": [],
      "source": [
        "sk_folds = StratifiedKFold(n_splits = 5)\n",
        "scores = cross_val_score(classifier, x, y, cv = sk_folds)"
      ]
    },
    {
      "cell_type": "code",
      "execution_count": null,
      "metadata": {
        "id": "VyIQrOBqDe3J"
      },
      "outputs": [],
      "source": [
        "print(\"Test Accuracy Score: \", scores)"
      ]
    },
    {
      "cell_type": "code",
      "execution_count": null,
      "metadata": {
        "id": "FK1MlX50yzhW"
      },
      "outputs": [],
      "source": [
        "print(\"Average CV Score: \", scores.mean())\n",
        "print(\"Test Accuracy Score: \", scores)"
      ]
    },
    {
      "cell_type": "code",
      "execution_count": null,
      "metadata": {
        "id": "HFXfscuxDe3J"
      },
      "outputs": [],
      "source": [
        "sk_folds = StratifiedKFold(n_splits = 6)\n",
        "scores = cross_val_score(classifier, x, y, cv = sk_folds)"
      ]
    },
    {
      "cell_type": "code",
      "execution_count": null,
      "metadata": {
        "id": "Ls0F5lQKDe3K"
      },
      "outputs": [],
      "source": [
        "print(\"Test Accuracy Score: \", scores)"
      ]
    },
    {
      "cell_type": "code",
      "execution_count": null,
      "metadata": {
        "id": "Jh440Q9XyzNM"
      },
      "outputs": [],
      "source": [
        "print(\"Average CV Score: \", scores.mean())\n",
        "print(\"Test Accuracy Score: \", scores)"
      ]
    },
    {
      "cell_type": "code",
      "execution_count": null,
      "metadata": {
        "id": "0CGqnEUXDe3K"
      },
      "outputs": [],
      "source": [
        "sk_folds = StratifiedKFold(n_splits = 7)\n",
        "scores = cross_val_score(classifier, x, y, cv = sk_folds)"
      ]
    },
    {
      "cell_type": "code",
      "execution_count": null,
      "metadata": {
        "id": "lh3FdqJJDe3L"
      },
      "outputs": [],
      "source": [
        "print(\"Test Accuracy Score: \", scores)"
      ]
    },
    {
      "cell_type": "code",
      "execution_count": null,
      "metadata": {
        "id": "XQHabUbTyy5g"
      },
      "outputs": [],
      "source": [
        "print(\"Average CV Score: \", scores.mean())\n",
        "print(\"Test Accuracy Score: \", scores)"
      ]
    },
    {
      "cell_type": "code",
      "execution_count": null,
      "metadata": {
        "id": "3E6CAj5-De3L"
      },
      "outputs": [],
      "source": [
        "sk_folds = StratifiedKFold(n_splits = 8)\n",
        "scores = cross_val_score(classifier, x, y, cv = sk_folds)"
      ]
    },
    {
      "cell_type": "code",
      "execution_count": null,
      "metadata": {
        "id": "fZWw-t34yyjW"
      },
      "outputs": [],
      "source": [
        "print(\"Average CV Score: \", scores.mean())\n",
        "print(\"Test Accuracy Score: \", scores)"
      ]
    },
    {
      "cell_type": "code",
      "execution_count": null,
      "metadata": {
        "id": "z-9QVlr4De3M"
      },
      "outputs": [],
      "source": [
        "sk_folds = StratifiedKFold(n_splits = 9)\n",
        "scores = cross_val_score(classifier, x, y, cv = sk_folds)"
      ]
    },
    {
      "cell_type": "code",
      "execution_count": null,
      "metadata": {
        "id": "hHQDEkePDe3M"
      },
      "outputs": [],
      "source": [
        "print(\"Test Accuracy Score: \", scores)"
      ]
    },
    {
      "cell_type": "code",
      "execution_count": null,
      "metadata": {
        "id": "NgkVUPThyyIh"
      },
      "outputs": [],
      "source": [
        "print(\"Average CV Score: \", scores.mean())\n",
        "print(\"Test Accuracy Score: \", scores)"
      ]
    },
    {
      "cell_type": "code",
      "execution_count": null,
      "metadata": {
        "id": "GfMz0BfRDe3N"
      },
      "outputs": [],
      "source": [
        "sk_folds = StratifiedKFold(n_splits = 10)\n",
        "scores = cross_val_score(classifier, x, y, cv = sk_folds)"
      ]
    },
    {
      "cell_type": "code",
      "execution_count": null,
      "metadata": {
        "id": "CEkRMcPwDe3N"
      },
      "outputs": [],
      "source": [
        "print(\"Test Accuracy Score: \", scores)"
      ]
    },
    {
      "cell_type": "code",
      "execution_count": null,
      "metadata": {
        "id": "eiEptmjryxs1"
      },
      "outputs": [],
      "source": [
        "print(\"Average CV Score: \", scores.mean())\n",
        "print(\"Test Accuracy Score: \", scores)"
      ]
    },
    {
      "cell_type": "markdown",
      "metadata": {
        "id": "VVk1022AjIBb"
      },
      "source": [
        "#**ar1 Dataset**"
      ]
    },
    {
      "cell_type": "code",
      "execution_count": null,
      "metadata": {
        "id": "Yqz5JdH6ks1z"
      },
      "outputs": [],
      "source": [
        "ar1_df"
      ]
    },
    {
      "cell_type": "markdown",
      "metadata": {
        "id": "GUGWZAuAl084"
      },
      "source": [
        "####**Spiliting Dataset**\n",
        "training: 80% testing:20%"
      ]
    },
    {
      "cell_type": "code",
      "execution_count": null,
      "metadata": {
        "id": "fZnYZb84mA46"
      },
      "outputs": [],
      "source": [
        "x = ar1_df.iloc[:,:-1]\n",
        "y = ar1_df.iloc[:,-1]\n",
        "\n",
        "from sklearn.model_selection import train_test_split\n",
        "x_train, x_test, y_train, y_test = train_test_split(x,y,test_size=0.20,random_state=0, stratify=ar1_df.problems)\n",
        "\n",
        "from sklearn.preprocessing import StandardScaler    \n",
        "st_x= StandardScaler()    \n",
        "x_train= st_x.fit_transform(x_train)    \n",
        "x_test= st_x.transform(x_test)  "
      ]
    },
    {
      "cell_type": "markdown",
      "metadata": {
        "id": "3Fk6Yw7Pmx97"
      },
      "source": [
        "###**Logistic Regression**"
      ]
    },
    {
      "cell_type": "code",
      "execution_count": null,
      "metadata": {
        "id": "C2cotc3ym9pl"
      },
      "outputs": [],
      "source": [
        "from sklearn.linear_model import LogisticRegression  \n",
        "classifier= LogisticRegression(random_state=0)  \n",
        "classifier.fit(x_train, y_train) \n",
        "\n",
        "y_pred= classifier.predict(x_test)\n",
        "\n",
        "score_ = accuracy_score(y_test, y_pred)\n",
        "print(\"Test Accuracy Score: \", score_)\n",
        "\n",
        "from sklearn.metrics import confusion_matrix  \n",
        "cm= confusion_matrix(y_test,y_pred)\n",
        "print(\"Confusion Matrix: \\n\",cm)"
      ]
    },
    {
      "cell_type": "code",
      "execution_count": null,
      "metadata": {
        "id": "ysmNa65KDjrO"
      },
      "outputs": [],
      "source": [
        "sk_folds = StratifiedKFold(n_splits = 2)\n",
        "scores = cross_val_score(classifier, x, y, cv = sk_folds)"
      ]
    },
    {
      "cell_type": "code",
      "execution_count": null,
      "metadata": {
        "id": "tUisUmPpDjrO"
      },
      "outputs": [],
      "source": [
        "print(\"Test Accuracy Score: \", scores)"
      ]
    },
    {
      "cell_type": "code",
      "execution_count": null,
      "metadata": {
        "id": "xQgeLS1ny9DR"
      },
      "outputs": [],
      "source": [
        "print(\"Average CV Score: \", scores.mean())\n",
        "print(\"Test Accuracy Score: \", scores)"
      ]
    },
    {
      "cell_type": "code",
      "execution_count": null,
      "metadata": {
        "id": "ZdKoaoojDjrP"
      },
      "outputs": [],
      "source": [
        "sk_folds = StratifiedKFold(n_splits = 3)\n",
        "scores = cross_val_score(classifier, x, y, cv = sk_folds)"
      ]
    },
    {
      "cell_type": "code",
      "execution_count": null,
      "metadata": {
        "id": "YLrpvzzzDjrP"
      },
      "outputs": [],
      "source": [
        "print(\"Test Accuracy Score: \", scores)"
      ]
    },
    {
      "cell_type": "code",
      "execution_count": null,
      "metadata": {
        "id": "Cb3wcpNhy8lJ"
      },
      "outputs": [],
      "source": [
        "print(\"Average CV Score: \", scores.mean())\n",
        "print(\"Test Accuracy Score: \", scores)"
      ]
    },
    {
      "cell_type": "code",
      "execution_count": null,
      "metadata": {
        "id": "-GF4N7-iDjrP"
      },
      "outputs": [],
      "source": [
        "sk_folds = StratifiedKFold(n_splits = 4)\n",
        "scores = cross_val_score(classifier, x, y, cv = sk_folds)"
      ]
    },
    {
      "cell_type": "code",
      "execution_count": null,
      "metadata": {
        "id": "iiEkZo6JDjrP"
      },
      "outputs": [],
      "source": [
        "print(\"Test Accuracy Score: \", scores)\n",
        "print(\"Average CV Score: \", scores.mean())"
      ]
    },
    {
      "cell_type": "code",
      "execution_count": null,
      "metadata": {
        "id": "QXMtfIh-DjrP"
      },
      "outputs": [],
      "source": [
        "sk_folds = StratifiedKFold(n_splits = 5)\n",
        "scores = cross_val_score(classifier, x, y, cv = sk_folds)"
      ]
    },
    {
      "cell_type": "code",
      "execution_count": null,
      "metadata": {
        "id": "xx5DCkaFDjrQ"
      },
      "outputs": [],
      "source": [
        "print(\"Test Accuracy Score: \", scores)"
      ]
    },
    {
      "cell_type": "code",
      "execution_count": null,
      "metadata": {
        "id": "QQ3oVcVby7B6"
      },
      "outputs": [],
      "source": [
        "print(\"Average CV Score: \", scores.mean())\n",
        "print(\"Test Accuracy Score: \", scores)"
      ]
    },
    {
      "cell_type": "code",
      "execution_count": null,
      "metadata": {
        "id": "eK1gFeOxDjrQ"
      },
      "outputs": [],
      "source": [
        "sk_folds = StratifiedKFold(n_splits = 6)\n",
        "scores = cross_val_score(classifier, x, y, cv = sk_folds)"
      ]
    },
    {
      "cell_type": "code",
      "execution_count": null,
      "metadata": {
        "id": "jrnos3YaDjrQ"
      },
      "outputs": [],
      "source": [
        "print(\"Test Accuracy Score: \", scores)"
      ]
    },
    {
      "cell_type": "code",
      "execution_count": null,
      "metadata": {
        "id": "jaAyAiCLy7ta"
      },
      "outputs": [],
      "source": [
        "print(\"Average CV Score: \", scores.mean())\n",
        "print(\"Test Accuracy Score: \", scores)"
      ]
    },
    {
      "cell_type": "code",
      "execution_count": null,
      "metadata": {
        "id": "EQO7fbuSDjrR"
      },
      "outputs": [],
      "source": [
        "sk_folds = StratifiedKFold(n_splits = 7)\n",
        "scores = cross_val_score(classifier, x, y, cv = sk_folds)"
      ]
    },
    {
      "cell_type": "code",
      "execution_count": null,
      "metadata": {
        "id": "chIHnBbcDjrR"
      },
      "outputs": [],
      "source": [
        "print(\"Test Accuracy Score: \", scores)"
      ]
    },
    {
      "cell_type": "code",
      "execution_count": null,
      "metadata": {
        "id": "q_pNjZvvy5L9"
      },
      "outputs": [],
      "source": [
        "print(\"Average CV Score: \", scores.mean())\n",
        "print(\"Test Accuracy Score: \", scores)"
      ]
    },
    {
      "cell_type": "code",
      "execution_count": null,
      "metadata": {
        "id": "D1dEaugSDjrR"
      },
      "outputs": [],
      "source": [
        "sk_folds = StratifiedKFold(n_splits = 8)\n",
        "scores = cross_val_score(classifier, x, y, cv = sk_folds)"
      ]
    },
    {
      "cell_type": "code",
      "execution_count": null,
      "metadata": {
        "id": "IJurW3kCy474"
      },
      "outputs": [],
      "source": [
        "print(\"Average CV Score: \", scores.mean())\n",
        "print(\"Test Accuracy Score: \", scores)"
      ]
    },
    {
      "cell_type": "code",
      "execution_count": null,
      "metadata": {
        "id": "x534vKIlDjrR"
      },
      "outputs": [],
      "source": [
        "sk_folds = StratifiedKFold(n_splits = 9)\n",
        "scores = cross_val_score(classifier, x, y, cv = sk_folds)"
      ]
    },
    {
      "cell_type": "code",
      "execution_count": null,
      "metadata": {
        "id": "8JWqRNjBDjrS"
      },
      "outputs": [],
      "source": [
        "print(\"Test Accuracy Score: \", scores)"
      ]
    },
    {
      "cell_type": "code",
      "execution_count": null,
      "metadata": {
        "id": "ZMizji1oy4gl"
      },
      "outputs": [],
      "source": [
        "print(\"Average CV Score: \", scores.mean())\n",
        "print(\"Test Accuracy Score: \", scores)"
      ]
    },
    {
      "cell_type": "code",
      "execution_count": null,
      "metadata": {
        "id": "JBZ32p3gDjrS"
      },
      "outputs": [],
      "source": [
        "sk_folds = StratifiedKFold(n_splits = 10)\n",
        "scores = cross_val_score(classifier, x, y, cv = sk_folds)"
      ]
    },
    {
      "cell_type": "code",
      "execution_count": null,
      "metadata": {
        "id": "LnPa2hOSDjrS"
      },
      "outputs": [],
      "source": [
        "print(\"Test Accuracy Score: \", scores)"
      ]
    },
    {
      "cell_type": "code",
      "execution_count": null,
      "metadata": {
        "id": "8uwc_bx1y4PW"
      },
      "outputs": [],
      "source": [
        "print(\"Average CV Score: \", scores.mean())\n",
        "print(\"Test Accuracy Score: \", scores)"
      ]
    },
    {
      "cell_type": "markdown",
      "metadata": {
        "id": "Gji0bQbGsxrs"
      },
      "source": [
        "###**Support Vector Machine Algorithm**"
      ]
    },
    {
      "cell_type": "code",
      "execution_count": null,
      "metadata": {
        "id": "3cvNPqVktGIM"
      },
      "outputs": [],
      "source": [
        "from sklearn.svm import SVC # \"Support vector classifier\"  \n",
        "classifier = SVC(kernel='rbf', random_state=0)  \n",
        "classifier.fit(x_train, y_train)  "
      ]
    },
    {
      "cell_type": "code",
      "execution_count": null,
      "metadata": {
        "id": "NHmxUocztGIb"
      },
      "outputs": [],
      "source": [
        "#Predicting the test set result  \n",
        "y_pred= classifier.predict(x_test)  "
      ]
    },
    {
      "cell_type": "code",
      "execution_count": null,
      "metadata": {
        "id": "V_sH84pxtGIc"
      },
      "outputs": [],
      "source": [
        "from sklearn.metrics import confusion_matrix  \n",
        "cm= confusion_matrix(y_test, y_pred)  \n",
        "print(cm)"
      ]
    },
    {
      "cell_type": "code",
      "execution_count": null,
      "metadata": {
        "id": "ymcuxljbtGIc"
      },
      "outputs": [],
      "source": [
        "score_ = accuracy_score(y_test, y_pred)\n",
        "print(\"Test Accuracy Score: \", score_)"
      ]
    },
    {
      "cell_type": "code",
      "execution_count": null,
      "metadata": {
        "id": "hPYFjB8oDlXJ"
      },
      "outputs": [],
      "source": [
        "sk_folds = StratifiedKFold(n_splits = 2)\n",
        "scores = cross_val_score(classifier, x, y, cv = sk_folds)"
      ]
    },
    {
      "cell_type": "code",
      "execution_count": null,
      "metadata": {
        "id": "pwNi30aSDlXK"
      },
      "outputs": [],
      "source": [
        "print(\"Test Accuracy Score: \", scores)"
      ]
    },
    {
      "cell_type": "code",
      "execution_count": null,
      "metadata": {
        "id": "MbMeluo-zAum"
      },
      "outputs": [],
      "source": [
        "print(\"Average CV Score: \", scores.mean())\n",
        "print(\"Test Accuracy Score: \", scores)"
      ]
    },
    {
      "cell_type": "code",
      "execution_count": null,
      "metadata": {
        "id": "4n8TfsaWDlXK"
      },
      "outputs": [],
      "source": [
        "sk_folds = StratifiedKFold(n_splits = 3)\n",
        "scores = cross_val_score(classifier, x, y, cv = sk_folds)"
      ]
    },
    {
      "cell_type": "code",
      "execution_count": null,
      "metadata": {
        "id": "k--Gz3j7DlXK"
      },
      "outputs": [],
      "source": [
        "print(\"Test Accuracy Score: \", scores)"
      ]
    },
    {
      "cell_type": "code",
      "execution_count": null,
      "metadata": {
        "id": "iWm5tQrvzCON"
      },
      "outputs": [],
      "source": [
        "print(\"Average CV Score: \", scores.mean())\n",
        "print(\"Test Accuracy Score: \", scores)"
      ]
    },
    {
      "cell_type": "code",
      "execution_count": null,
      "metadata": {
        "id": "PowJcAZ8DlXK"
      },
      "outputs": [],
      "source": [
        "sk_folds = StratifiedKFold(n_splits = 4)\n",
        "scores = cross_val_score(classifier, x, y, cv = sk_folds)"
      ]
    },
    {
      "cell_type": "code",
      "execution_count": null,
      "metadata": {
        "id": "PZ2CRho4DlXK"
      },
      "outputs": [],
      "source": [
        "print(\"Test Accuracy Score: \", scores)"
      ]
    },
    {
      "cell_type": "code",
      "execution_count": null,
      "metadata": {
        "id": "JClu-b1NzB25"
      },
      "outputs": [],
      "source": [
        "print(\"Average CV Score: \", scores.mean())\n",
        "print(\"Test Accuracy Score: \", scores)"
      ]
    },
    {
      "cell_type": "code",
      "execution_count": null,
      "metadata": {
        "id": "SYsP11mEDlXK"
      },
      "outputs": [],
      "source": [
        "sk_folds = StratifiedKFold(n_splits = 5)\n",
        "scores = cross_val_score(classifier, x, y, cv = sk_folds)"
      ]
    },
    {
      "cell_type": "code",
      "execution_count": null,
      "metadata": {
        "id": "flYlyDJIDlXL"
      },
      "outputs": [],
      "source": [
        "print(\"Test Accuracy Score: \", scores)\n",
        "print(\"Average CV Score: \", scores.mean())"
      ]
    },
    {
      "cell_type": "code",
      "execution_count": null,
      "metadata": {
        "id": "evtI6-nZUnp4"
      },
      "outputs": [],
      "source": [
        "np.mean([0.95833333,0.91666667,0.91666667,0.91666667,0.91666667])"
      ]
    },
    {
      "cell_type": "code",
      "execution_count": null,
      "metadata": {
        "id": "PE3gR8UjDlXL"
      },
      "outputs": [],
      "source": [
        "sk_folds = StratifiedKFold(n_splits = 6)\n",
        "scores = cross_val_score(classifier, x, y, cv = sk_folds)"
      ]
    },
    {
      "cell_type": "code",
      "execution_count": null,
      "metadata": {
        "id": "1W8EAsLHDlXL"
      },
      "outputs": [],
      "source": [
        "print(\"Test Accuracy Score: \", scores)"
      ]
    },
    {
      "cell_type": "code",
      "execution_count": null,
      "metadata": {
        "id": "WddnsFq6zEbe"
      },
      "outputs": [],
      "source": [
        "print(\"Average CV Score: \", scores.mean())\n",
        "print(\"Test Accuracy Score: \", scores)"
      ]
    },
    {
      "cell_type": "code",
      "execution_count": null,
      "metadata": {
        "id": "Ai55IE30DlXL"
      },
      "outputs": [],
      "source": [
        "sk_folds = StratifiedKFold(n_splits = 7)\n",
        "scores = cross_val_score(classifier, x, y, cv = sk_folds)"
      ]
    },
    {
      "cell_type": "code",
      "execution_count": null,
      "metadata": {
        "id": "BUr2Sr7WDlXL"
      },
      "outputs": [],
      "source": [
        "print(\"Test Accuracy Score: \", scores)"
      ]
    },
    {
      "cell_type": "code",
      "execution_count": null,
      "metadata": {
        "id": "kGu13OP1zEM_"
      },
      "outputs": [],
      "source": [
        "print(\"Average CV Score: \", scores.mean())\n",
        "print(\"Test Accuracy Score: \", scores)"
      ]
    },
    {
      "cell_type": "code",
      "execution_count": null,
      "metadata": {
        "id": "Dc4M9Kd2DlXL"
      },
      "outputs": [],
      "source": [
        "sk_folds = StratifiedKFold(n_splits = 8)\n",
        "scores = cross_val_score(classifier, x, y, cv = sk_folds)"
      ]
    },
    {
      "cell_type": "code",
      "execution_count": null,
      "metadata": {
        "id": "XeiENYRVzD9P"
      },
      "outputs": [],
      "source": [
        "print(\"Average CV Score: \", scores.mean())\n",
        "print(\"Test Accuracy Score: \", scores)"
      ]
    },
    {
      "cell_type": "code",
      "execution_count": null,
      "metadata": {
        "id": "B9WJ-BMaDlXM"
      },
      "outputs": [],
      "source": [
        "sk_folds = StratifiedKFold(n_splits = 9)\n",
        "scores = cross_val_score(classifier, x, y, cv = sk_folds)"
      ]
    },
    {
      "cell_type": "code",
      "execution_count": null,
      "metadata": {
        "id": "nkF4WMRYDlXM"
      },
      "outputs": [],
      "source": [
        "print(\"Test Accuracy Score: \", scores)"
      ]
    },
    {
      "cell_type": "code",
      "execution_count": null,
      "metadata": {
        "id": "OBlijC08zDkM"
      },
      "outputs": [],
      "source": [
        "print(\"Average CV Score: \", scores.mean())\n",
        "print(\"Test Accuracy Score: \", scores)"
      ]
    },
    {
      "cell_type": "code",
      "execution_count": null,
      "metadata": {
        "id": "MYu8Xun7DlXM"
      },
      "outputs": [],
      "source": [
        "sk_folds = StratifiedKFold(n_splits = 10)\n",
        "scores = cross_val_score(classifier, x, y, cv = sk_folds)"
      ]
    },
    {
      "cell_type": "code",
      "execution_count": null,
      "metadata": {
        "id": "x6y7cNwGDlXM"
      },
      "outputs": [],
      "source": [
        "print(\"Test Accuracy Score: \", scores)"
      ]
    },
    {
      "cell_type": "code",
      "execution_count": null,
      "metadata": {
        "id": "tsdLHYrzzDQG"
      },
      "outputs": [],
      "source": [
        "print(\"Average CV Score: \", scores.mean())\n",
        "print(\"Test Accuracy Score: \", scores)"
      ]
    },
    {
      "cell_type": "markdown",
      "metadata": {
        "id": "ajwS1r1ItGId"
      },
      "source": [
        "##**Decision Tree Algorithm**"
      ]
    },
    {
      "cell_type": "code",
      "execution_count": null,
      "metadata": {
        "id": "Bfnzo7kotGId"
      },
      "outputs": [],
      "source": [
        "from sklearn.tree import DecisionTreeClassifier  \n",
        "classifier= DecisionTreeClassifier(criterion='entropy', random_state=0)  \n",
        "classifier.fit(x_train, y_train)  "
      ]
    },
    {
      "cell_type": "code",
      "execution_count": null,
      "metadata": {
        "id": "ZFQemLa8tGId"
      },
      "outputs": [],
      "source": [
        "#Predicting the test set result  \n",
        "y_pred= classifier.predict(x_test)  "
      ]
    },
    {
      "cell_type": "code",
      "execution_count": null,
      "metadata": {
        "id": "6UduZwQytGId"
      },
      "outputs": [],
      "source": [
        "#Creating the Confusion matrix  \n",
        "from sklearn.metrics import confusion_matrix  \n",
        "cm= confusion_matrix(y_test, y_pred) \n",
        "print(cm)"
      ]
    },
    {
      "cell_type": "code",
      "execution_count": null,
      "metadata": {
        "id": "fQ94kRVytGIg"
      },
      "outputs": [],
      "source": [
        "score_ = accuracy_score(y_test, y_pred)\n",
        "print(\"Test Accuracy Score: \", score_)"
      ]
    },
    {
      "cell_type": "code",
      "execution_count": null,
      "metadata": {
        "id": "Z8tXR1IODn7k"
      },
      "outputs": [],
      "source": [
        "sk_folds = StratifiedKFold(n_splits = 2)\n",
        "scores = cross_val_score(classifier, x, y, cv = sk_folds)"
      ]
    },
    {
      "cell_type": "code",
      "execution_count": null,
      "metadata": {
        "id": "MNRajW9IDn7l"
      },
      "outputs": [],
      "source": [
        "print(\"Test Accuracy Score: \", scores)"
      ]
    },
    {
      "cell_type": "code",
      "execution_count": null,
      "metadata": {
        "id": "OaTkUJQFzO2E"
      },
      "outputs": [],
      "source": [
        "print(\"Average CV Score: \", scores.mean())\n",
        "print(\"Test Accuracy Score: \", scores)"
      ]
    },
    {
      "cell_type": "code",
      "execution_count": null,
      "metadata": {
        "id": "qsOpN1UaDn7m"
      },
      "outputs": [],
      "source": [
        "sk_folds = StratifiedKFold(n_splits = 3)\n",
        "scores = cross_val_score(classifier, x, y, cv = sk_folds)"
      ]
    },
    {
      "cell_type": "code",
      "execution_count": null,
      "metadata": {
        "id": "3keFp5sbDn7m"
      },
      "outputs": [],
      "source": [
        "print(\"Test Accuracy Score: \", scores)"
      ]
    },
    {
      "cell_type": "code",
      "execution_count": null,
      "metadata": {
        "id": "o2GLXMh-zOdS"
      },
      "outputs": [],
      "source": [
        "print(\"Average CV Score: \", scores.mean())\n",
        "print(\"Test Accuracy Score: \", scores)"
      ]
    },
    {
      "cell_type": "code",
      "execution_count": null,
      "metadata": {
        "id": "PGmRZYywDn7m"
      },
      "outputs": [],
      "source": [
        "sk_folds = StratifiedKFold(n_splits = 4)\n",
        "scores = cross_val_score(classifier, x, y, cv = sk_folds)"
      ]
    },
    {
      "cell_type": "code",
      "execution_count": null,
      "metadata": {
        "id": "WMCe3GiKDn7n"
      },
      "outputs": [],
      "source": [
        "print(\"Test Accuracy Score: \", scores)"
      ]
    },
    {
      "cell_type": "code",
      "execution_count": null,
      "metadata": {
        "id": "WjUvDelXzNub"
      },
      "outputs": [],
      "source": [
        "print(\"Average CV Score: \", scores.mean())\n",
        "print(\"Test Accuracy Score: \", scores)"
      ]
    },
    {
      "cell_type": "code",
      "execution_count": null,
      "metadata": {
        "id": "oGyX-9p9Dn7n"
      },
      "outputs": [],
      "source": [
        "sk_folds = StratifiedKFold(n_splits = 5)\n",
        "scores = cross_val_score(classifier, x, y, cv = sk_folds)"
      ]
    },
    {
      "cell_type": "code",
      "execution_count": null,
      "metadata": {
        "id": "xg7wv8tADn7o"
      },
      "outputs": [],
      "source": [
        "print(\"Test Accuracy Score: \", scores)"
      ]
    },
    {
      "cell_type": "code",
      "execution_count": null,
      "metadata": {
        "id": "LS_ZPyEfzMts"
      },
      "outputs": [],
      "source": [
        "print(\"Average CV Score: \", scores.mean())\n",
        "print(\"Test Accuracy Score: \", scores)"
      ]
    },
    {
      "cell_type": "code",
      "execution_count": null,
      "metadata": {
        "id": "olakQ1QgDn7o"
      },
      "outputs": [],
      "source": [
        "sk_folds = StratifiedKFold(n_splits = 6)\n",
        "scores = cross_val_score(classifier, x, y, cv = sk_folds)"
      ]
    },
    {
      "cell_type": "code",
      "execution_count": null,
      "metadata": {
        "id": "vfgA9cNQDn7p"
      },
      "outputs": [],
      "source": [
        "print(\"Test Accuracy Score: \", scores)"
      ]
    },
    {
      "cell_type": "code",
      "execution_count": null,
      "metadata": {
        "id": "UyzPmkXwzUaY"
      },
      "outputs": [],
      "source": [
        "print(\"Average CV Score: \", scores.mean())\n",
        "print(\"Test Accuracy Score: \", scores)"
      ]
    },
    {
      "cell_type": "code",
      "execution_count": null,
      "metadata": {
        "id": "5XQgdkGnDn7p"
      },
      "outputs": [],
      "source": [
        "sk_folds = StratifiedKFold(n_splits = 7)\n",
        "scores = cross_val_score(classifier, x, y, cv = sk_folds)"
      ]
    },
    {
      "cell_type": "code",
      "execution_count": null,
      "metadata": {
        "id": "hp_dN-twDn7p"
      },
      "outputs": [],
      "source": [
        "print(\"Test Accuracy Score: \", scores)"
      ]
    },
    {
      "cell_type": "code",
      "execution_count": null,
      "metadata": {
        "id": "ctAfzG2WzT7W"
      },
      "outputs": [],
      "source": [
        "print(\"Average CV Score: \", scores.mean())\n",
        "print(\"Test Accuracy Score: \", scores)"
      ]
    },
    {
      "cell_type": "code",
      "execution_count": null,
      "metadata": {
        "id": "vmLZHNTbDn7q"
      },
      "outputs": [],
      "source": [
        "sk_folds = StratifiedKFold(n_splits = 8)\n",
        "scores = cross_val_score(classifier, x, y, cv = sk_folds)"
      ]
    },
    {
      "cell_type": "code",
      "execution_count": null,
      "metadata": {
        "id": "AQ_UaOgSzTjo"
      },
      "outputs": [],
      "source": [
        "print(\"Average CV Score: \", scores.mean())\n",
        "print(\"Test Accuracy Score: \", scores)"
      ]
    },
    {
      "cell_type": "code",
      "execution_count": null,
      "metadata": {
        "id": "q67lMtn1Dn7q"
      },
      "outputs": [],
      "source": [
        "sk_folds = StratifiedKFold(n_splits = 9)\n",
        "scores = cross_val_score(classifier, x, y, cv = sk_folds)"
      ]
    },
    {
      "cell_type": "code",
      "execution_count": null,
      "metadata": {
        "id": "F0imVRayDn7r"
      },
      "outputs": [],
      "source": [
        "print(\"Test Accuracy Score: \", scores)"
      ]
    },
    {
      "cell_type": "code",
      "execution_count": null,
      "metadata": {
        "id": "kkTGNuyTzTCF"
      },
      "outputs": [],
      "source": [
        "print(\"Average CV Score: \", scores.mean())\n",
        "print(\"Test Accuracy Score: \", scores)"
      ]
    },
    {
      "cell_type": "code",
      "execution_count": null,
      "metadata": {
        "id": "Iklw6xUhDn7r"
      },
      "outputs": [],
      "source": [
        "sk_folds = StratifiedKFold(n_splits = 10)\n",
        "scores = cross_val_score(classifier, x, y, cv = sk_folds)"
      ]
    },
    {
      "cell_type": "code",
      "execution_count": null,
      "metadata": {
        "id": "ImpCUrd5Dn7s"
      },
      "outputs": [],
      "source": [
        "print(\"Test Accuracy Score: \", scores)"
      ]
    },
    {
      "cell_type": "code",
      "execution_count": null,
      "metadata": {
        "id": "hA1G2mAZzQSw"
      },
      "outputs": [],
      "source": [
        "print(\"Average CV Score: \", scores.mean())\n",
        "print(\"Test Accuracy Score: \", scores)"
      ]
    },
    {
      "cell_type": "markdown",
      "metadata": {
        "id": "dA7ImNGntGIh"
      },
      "source": [
        "##**Random Forest**"
      ]
    },
    {
      "cell_type": "code",
      "execution_count": null,
      "metadata": {
        "id": "PeCBtO2mtGIh"
      },
      "outputs": [],
      "source": [
        "#Fitting Decision Tree classifier to the training set  \n",
        "from sklearn.ensemble import RandomForestClassifier  \n",
        "classifier= RandomForestClassifier(n_estimators= 10, criterion=\"entropy\")  \n",
        "classifier.fit(x_train, y_train)  "
      ]
    },
    {
      "cell_type": "code",
      "execution_count": null,
      "metadata": {
        "id": "LC0PHPxrtGIi"
      },
      "outputs": [],
      "source": [
        "#Predicting the test set result  \n",
        "y_pred= classifier.predict(x_test)  "
      ]
    },
    {
      "cell_type": "code",
      "execution_count": null,
      "metadata": {
        "id": "UWHoyKyatGIi"
      },
      "outputs": [],
      "source": [
        "#Creating the Confusion matrix  \n",
        "from sklearn.metrics import confusion_matrix  \n",
        "cm= confusion_matrix(y_test, y_pred)  \n",
        "print(cm)"
      ]
    },
    {
      "cell_type": "code",
      "execution_count": null,
      "metadata": {
        "id": "EanK8vbttGIi"
      },
      "outputs": [],
      "source": [
        "score_ = accuracy_score(y_test, y_pred)\n",
        "print(\"Test Accuracy Score: \", score_)"
      ]
    },
    {
      "cell_type": "code",
      "execution_count": null,
      "metadata": {
        "id": "jXK04WdGDxxK"
      },
      "outputs": [],
      "source": [
        "sk_folds = StratifiedKFold(n_splits = 2)\n",
        "scores = cross_val_score(classifier, x, y, cv = sk_folds)"
      ]
    },
    {
      "cell_type": "code",
      "execution_count": null,
      "metadata": {
        "id": "tWgkyoTsDxxM"
      },
      "outputs": [],
      "source": [
        "print(\"Test Accuracy Score: \", scores)"
      ]
    },
    {
      "cell_type": "code",
      "execution_count": null,
      "metadata": {
        "id": "gOEFVvcRzXMs"
      },
      "outputs": [],
      "source": [
        "print(\"Average CV Score: \", scores.mean())\n",
        "print(\"Test Accuracy Score: \", scores)"
      ]
    },
    {
      "cell_type": "code",
      "execution_count": null,
      "metadata": {
        "id": "OL47vfjBDxxM"
      },
      "outputs": [],
      "source": [
        "sk_folds = StratifiedKFold(n_splits = 3)\n",
        "scores = cross_val_score(classifier, x, y, cv = sk_folds)"
      ]
    },
    {
      "cell_type": "code",
      "execution_count": null,
      "metadata": {
        "id": "XvzOws1cDxxN"
      },
      "outputs": [],
      "source": [
        "print(\"Test Accuracy Score: \", scores)"
      ]
    },
    {
      "cell_type": "code",
      "execution_count": null,
      "metadata": {
        "id": "eMImYKbhzbPE"
      },
      "outputs": [],
      "source": [
        "print(\"Average CV Score: \", scores.mean())\n",
        "print(\"Test Accuracy Score: \", scores)"
      ]
    },
    {
      "cell_type": "code",
      "execution_count": null,
      "metadata": {
        "id": "fNYCT_FCDxxN"
      },
      "outputs": [],
      "source": [
        "sk_folds = StratifiedKFold(n_splits = 4)\n",
        "scores = cross_val_score(classifier, x, y, cv = sk_folds)"
      ]
    },
    {
      "cell_type": "code",
      "execution_count": null,
      "metadata": {
        "id": "XWTKwGlEDxxO"
      },
      "outputs": [],
      "source": [
        "print(\"Test Accuracy Score: \", scores)"
      ]
    },
    {
      "cell_type": "code",
      "execution_count": null,
      "metadata": {
        "id": "ecBeaCZxzaOl"
      },
      "outputs": [],
      "source": [
        "print(\"Average CV Score: \", scores.mean())\n",
        "print(\"Test Accuracy Score: \", scores)"
      ]
    },
    {
      "cell_type": "code",
      "execution_count": null,
      "metadata": {
        "id": "OMMbOTnQDxxO"
      },
      "outputs": [],
      "source": [
        "sk_folds = StratifiedKFold(n_splits = 5)\n",
        "scores = cross_val_score(classifier, x, y, cv = sk_folds)"
      ]
    },
    {
      "cell_type": "code",
      "execution_count": null,
      "metadata": {
        "id": "OSNf8I-mDxxP"
      },
      "outputs": [],
      "source": [
        "print(\"Test Accuracy Score: \", scores)"
      ]
    },
    {
      "cell_type": "code",
      "execution_count": null,
      "metadata": {
        "id": "-17fLZ6_zZ52"
      },
      "outputs": [],
      "source": [
        "print(\"Average CV Score: \", scores.mean())\n",
        "print(\"Test Accuracy Score: \", scores)"
      ]
    },
    {
      "cell_type": "code",
      "execution_count": null,
      "metadata": {
        "id": "JKUPLMKqDxxP"
      },
      "outputs": [],
      "source": [
        "sk_folds = StratifiedKFold(n_splits = 6)\n",
        "scores = cross_val_score(classifier, x, y, cv = sk_folds)"
      ]
    },
    {
      "cell_type": "code",
      "execution_count": null,
      "metadata": {
        "id": "Apbri2ONDxxQ"
      },
      "outputs": [],
      "source": [
        "print(\"Test Accuracy Score: \", scores)"
      ]
    },
    {
      "cell_type": "code",
      "execution_count": null,
      "metadata": {
        "id": "hjPKxWXDzZd-"
      },
      "outputs": [],
      "source": [
        "print(\"Average CV Score: \", scores.mean())\n",
        "print(\"Test Accuracy Score: \", scores)"
      ]
    },
    {
      "cell_type": "code",
      "execution_count": null,
      "metadata": {
        "id": "4I8NPrugDxxQ"
      },
      "outputs": [],
      "source": [
        "sk_folds = StratifiedKFold(n_splits = 7)\n",
        "scores = cross_val_score(classifier, x, y, cv = sk_folds)"
      ]
    },
    {
      "cell_type": "code",
      "execution_count": null,
      "metadata": {
        "id": "-L8WKWPMDxxQ"
      },
      "outputs": [],
      "source": [
        "print(\"Test Accuracy Score: \", scores)"
      ]
    },
    {
      "cell_type": "code",
      "execution_count": null,
      "metadata": {
        "id": "498jAvdMzY5s"
      },
      "outputs": [],
      "source": [
        "print(\"Average CV Score: \", scores.mean())\n",
        "print(\"Test Accuracy Score: \", scores)"
      ]
    },
    {
      "cell_type": "code",
      "execution_count": null,
      "metadata": {
        "id": "TqAW3cwRDxxR"
      },
      "outputs": [],
      "source": [
        "sk_folds = StratifiedKFold(n_splits = 8)\n",
        "scores = cross_val_score(classifier, x, y, cv = sk_folds)"
      ]
    },
    {
      "cell_type": "code",
      "execution_count": null,
      "metadata": {
        "id": "YB1Vkf4jzeVq"
      },
      "outputs": [],
      "source": [
        "print(\"Average CV Score: \", scores.mean())\n",
        "print(\"Test Accuracy Score: \", scores)"
      ]
    },
    {
      "cell_type": "code",
      "execution_count": null,
      "metadata": {
        "id": "iujqtFgoDxxR"
      },
      "outputs": [],
      "source": [
        "sk_folds = StratifiedKFold(n_splits = 9)\n",
        "scores = cross_val_score(classifier, x, y, cv = sk_folds)"
      ]
    },
    {
      "cell_type": "code",
      "execution_count": null,
      "metadata": {
        "id": "afT3AMa7DxxS"
      },
      "outputs": [],
      "source": [
        "print(\"Test Accuracy Score: \", scores)"
      ]
    },
    {
      "cell_type": "code",
      "execution_count": null,
      "metadata": {
        "id": "09ByIUkNzeBq"
      },
      "outputs": [],
      "source": [
        "print(\"Average CV Score: \", scores.mean())\n",
        "print(\"Test Accuracy Score: \", scores)"
      ]
    },
    {
      "cell_type": "code",
      "execution_count": null,
      "metadata": {
        "id": "hwD5xc-sDxxS"
      },
      "outputs": [],
      "source": [
        "sk_folds = StratifiedKFold(n_splits = 10)\n",
        "scores = cross_val_score(classifier, x, y, cv = sk_folds)"
      ]
    },
    {
      "cell_type": "code",
      "execution_count": null,
      "metadata": {
        "id": "uxtTeuTVDxxT"
      },
      "outputs": [],
      "source": [
        "print(\"Test Accuracy Score: \", scores)"
      ]
    },
    {
      "cell_type": "code",
      "execution_count": null,
      "metadata": {
        "id": "EWaTVsH3zdq1"
      },
      "outputs": [],
      "source": [
        "print(\"Average CV Score: \", scores.mean())\n",
        "print(\"Test Accuracy Score: \", scores)"
      ]
    },
    {
      "cell_type": "markdown",
      "metadata": {
        "id": "3Up24zzXtGIi"
      },
      "source": [
        "##**Bagging**"
      ]
    },
    {
      "cell_type": "code",
      "execution_count": null,
      "metadata": {
        "id": "GIuBhA_0tGIj"
      },
      "outputs": [],
      "source": [
        "from sklearn.tree import DecisionTreeClassifier\n",
        "dtree = DecisionTreeClassifier(random_state=21)\n",
        "dtree.fit(x_train,y_train)"
      ]
    },
    {
      "cell_type": "code",
      "execution_count": null,
      "metadata": {
        "id": "SZAEDc1WtGIj"
      },
      "outputs": [],
      "source": [
        "y_pred = dtree.predict(x_test)\n",
        "\n",
        "print(\"Train data accuracy:\",accuracy_score(y_true = y_train, y_pred = dtree.predict(x_train)))\n",
        "print(\"Test data accuracy:\",accuracy_score(y_true = y_test, y_pred = y_pred))"
      ]
    },
    {
      "cell_type": "code",
      "execution_count": null,
      "metadata": {
        "id": "6AhwnCaAD0ee"
      },
      "outputs": [],
      "source": [
        "sk_folds = StratifiedKFold(n_splits = 2)\n",
        "scores = cross_val_score(classifier, x, y, cv = sk_folds)"
      ]
    },
    {
      "cell_type": "code",
      "execution_count": null,
      "metadata": {
        "id": "UPqY_X9yD0ef"
      },
      "outputs": [],
      "source": [
        "print(\"Test Accuracy Score: \", scores)"
      ]
    },
    {
      "cell_type": "code",
      "execution_count": null,
      "metadata": {
        "id": "8t5TlBdfzh0q"
      },
      "outputs": [],
      "source": [
        "print(\"Average CV Score: \", scores.mean())\n",
        "print(\"Test Accuracy Score: \", scores)"
      ]
    },
    {
      "cell_type": "code",
      "execution_count": null,
      "metadata": {
        "id": "-t9-drnED0eg"
      },
      "outputs": [],
      "source": [
        "sk_folds = StratifiedKFold(n_splits = 3)\n",
        "scores = cross_val_score(classifier, x, y, cv = sk_folds)"
      ]
    },
    {
      "cell_type": "code",
      "execution_count": null,
      "metadata": {
        "id": "7jAtzfMAD0eh"
      },
      "outputs": [],
      "source": [
        "print(\"Test Accuracy Score: \", scores)"
      ]
    },
    {
      "cell_type": "code",
      "execution_count": null,
      "metadata": {
        "id": "3TQoDGeCzhR7"
      },
      "outputs": [],
      "source": [
        "print(\"Average CV Score: \", scores.mean())\n",
        "print(\"Test Accuracy Score: \", scores)"
      ]
    },
    {
      "cell_type": "code",
      "execution_count": null,
      "metadata": {
        "id": "3DDfQ_fGD0eh"
      },
      "outputs": [],
      "source": [
        "sk_folds = StratifiedKFold(n_splits = 4)\n",
        "scores = cross_val_score(classifier, x, y, cv = sk_folds)"
      ]
    },
    {
      "cell_type": "code",
      "execution_count": null,
      "metadata": {
        "id": "aXv1Hd1tD0ei"
      },
      "outputs": [],
      "source": [
        "print(\"Test Accuracy Score: \", scores)"
      ]
    },
    {
      "cell_type": "code",
      "execution_count": null,
      "metadata": {
        "id": "F4-DA17Ezgd7"
      },
      "outputs": [],
      "source": [
        "print(\"Average CV Score: \", scores.mean())\n",
        "print(\"Test Accuracy Score: \", scores)"
      ]
    },
    {
      "cell_type": "code",
      "execution_count": null,
      "metadata": {
        "id": "XAkOIcDSD0ei"
      },
      "outputs": [],
      "source": [
        "sk_folds = StratifiedKFold(n_splits = 5)\n",
        "scores = cross_val_score(classifier, x, y, cv = sk_folds)"
      ]
    },
    {
      "cell_type": "code",
      "execution_count": null,
      "metadata": {
        "id": "_BG_4uaeD0ej"
      },
      "outputs": [],
      "source": [
        "print(\"Test Accuracy Score: \", scores)"
      ]
    },
    {
      "cell_type": "code",
      "execution_count": null,
      "metadata": {
        "id": "ZGW-yiT8zm8I"
      },
      "outputs": [],
      "source": [
        "print(\"Average CV Score: \", scores.mean())\n",
        "print(\"Test Accuracy Score: \", scores)"
      ]
    },
    {
      "cell_type": "code",
      "execution_count": null,
      "metadata": {
        "id": "liXwx4vQD0ek"
      },
      "outputs": [],
      "source": [
        "sk_folds = StratifiedKFold(n_splits = 6)\n",
        "scores = cross_val_score(classifier, x, y, cv = sk_folds)"
      ]
    },
    {
      "cell_type": "code",
      "execution_count": null,
      "metadata": {
        "id": "P3qibyFND0ek"
      },
      "outputs": [],
      "source": [
        "print(\"Test Accuracy Score: \", scores)"
      ]
    },
    {
      "cell_type": "code",
      "execution_count": null,
      "metadata": {
        "id": "z63WPPRnzmiU"
      },
      "outputs": [],
      "source": [
        "print(\"Average CV Score: \", scores.mean())\n",
        "print(\"Test Accuracy Score: \", scores)"
      ]
    },
    {
      "cell_type": "code",
      "execution_count": null,
      "metadata": {
        "id": "gknJXhvvD0el"
      },
      "outputs": [],
      "source": [
        "sk_folds = StratifiedKFold(n_splits = 7)\n",
        "scores = cross_val_score(classifier, x, y, cv = sk_folds)"
      ]
    },
    {
      "cell_type": "code",
      "execution_count": null,
      "metadata": {
        "id": "TfYWB_JXD0el"
      },
      "outputs": [],
      "source": [
        "print(\"Test Accuracy Score: \", scores)"
      ]
    },
    {
      "cell_type": "code",
      "execution_count": null,
      "metadata": {
        "id": "tyjx4FkZzmP7"
      },
      "outputs": [],
      "source": [
        "print(\"Average CV Score: \", scores.mean())\n",
        "print(\"Test Accuracy Score: \", scores)"
      ]
    },
    {
      "cell_type": "code",
      "execution_count": null,
      "metadata": {
        "id": "EUzTBV-UD0em"
      },
      "outputs": [],
      "source": [
        "sk_folds = StratifiedKFold(n_splits = 8)\n",
        "scores = cross_val_score(classifier, x, y, cv = sk_folds)"
      ]
    },
    {
      "cell_type": "code",
      "execution_count": null,
      "metadata": {
        "id": "XdoozNHyzl5P"
      },
      "outputs": [],
      "source": [
        "print(\"Average CV Score: \", scores.mean())\n",
        "print(\"Test Accuracy Score: \", scores)"
      ]
    },
    {
      "cell_type": "code",
      "execution_count": null,
      "metadata": {
        "id": "T4dqemftD0em"
      },
      "outputs": [],
      "source": [
        "sk_folds = StratifiedKFold(n_splits = 9)\n",
        "scores = cross_val_score(classifier, x, y, cv = sk_folds)"
      ]
    },
    {
      "cell_type": "code",
      "execution_count": null,
      "metadata": {
        "id": "Qhn7xKyND0en"
      },
      "outputs": [],
      "source": [
        "print(\"Test Accuracy Score: \", scores)"
      ]
    },
    {
      "cell_type": "code",
      "execution_count": null,
      "metadata": {
        "id": "8vgdYMRWzlfO"
      },
      "outputs": [],
      "source": [
        "print(\"Average CV Score: \", scores.mean())\n",
        "print(\"Test Accuracy Score: \", scores)"
      ]
    },
    {
      "cell_type": "code",
      "execution_count": null,
      "metadata": {
        "id": "70fKr7MCD0en"
      },
      "outputs": [],
      "source": [
        "sk_folds = StratifiedKFold(n_splits = 10)\n",
        "scores = cross_val_score(classifier, x, y, cv = sk_folds)"
      ]
    },
    {
      "cell_type": "code",
      "execution_count": null,
      "metadata": {
        "id": "Ch0VeCifD0eo"
      },
      "outputs": [],
      "source": [
        "print(\"Test Accuracy Score: \", scores)"
      ]
    },
    {
      "cell_type": "code",
      "execution_count": null,
      "metadata": {
        "id": "bwqxvPNfzk6F"
      },
      "outputs": [],
      "source": [
        "print(\"Average CV Score: \", scores.mean())\n",
        "print(\"Test Accuracy Score: \", scores)"
      ]
    },
    {
      "cell_type": "markdown",
      "metadata": {
        "id": "xUP2XGpjqXIK"
      },
      "source": [
        "#**ar3 Dataset**"
      ]
    },
    {
      "cell_type": "code",
      "execution_count": null,
      "metadata": {
        "id": "5VHJ412W1JTl"
      },
      "outputs": [],
      "source": [
        "ar3_df"
      ]
    },
    {
      "cell_type": "markdown",
      "metadata": {
        "id": "DtTucMSVrhJr"
      },
      "source": [
        "####**Spiliting Dataset**\n",
        "training: 80% testing:20%"
      ]
    },
    {
      "cell_type": "code",
      "execution_count": null,
      "metadata": {
        "id": "84YuotQRrnR2"
      },
      "outputs": [],
      "source": [
        "x = ar3_df.iloc[:,:-1]\n",
        "y = ar3_df.iloc[:,-1]\n",
        "\n",
        "from sklearn.model_selection import train_test_split\n",
        "x_train, x_test, y_train, y_test = train_test_split(x,y,test_size=0.20,random_state=0, stratify=ar3_df.problems)\n",
        "\n",
        "from sklearn.preprocessing import StandardScaler    \n",
        "st_x= StandardScaler()    \n",
        "x_train= st_x.fit_transform(x_train)    \n",
        "x_test= st_x.transform(x_test)  "
      ]
    },
    {
      "cell_type": "markdown",
      "metadata": {
        "id": "GRvI2zwcrL3u"
      },
      "source": [
        "###**Logistic Regression**"
      ]
    },
    {
      "cell_type": "code",
      "execution_count": null,
      "metadata": {
        "id": "ewHGOgvewCom"
      },
      "outputs": [],
      "source": [
        "from sklearn.linear_model import LogisticRegression  \n",
        "classifier= LogisticRegression(random_state=0)  \n",
        "classifier.fit(x_train, y_train) \n",
        "\n",
        "y_pred= classifier.predict(x_test)\n",
        "\n",
        "score_ = accuracy_score(y_test, y_pred)\n",
        "print(\"Test Accuracy Score: \", score_)\n",
        "\n",
        "from sklearn.metrics import confusion_matrix  \n",
        "cm= confusion_matrix(y_test,y_pred)\n",
        "print(\"Confusion Matrix: \\n\",cm)"
      ]
    },
    {
      "cell_type": "code",
      "execution_count": null,
      "metadata": {
        "id": "EfL9ROGKD47c"
      },
      "outputs": [],
      "source": [
        "sk_folds = StratifiedKFold(n_splits = 2)\n",
        "scores = cross_val_score(classifier, x, y, cv = sk_folds)"
      ]
    },
    {
      "cell_type": "code",
      "execution_count": null,
      "metadata": {
        "id": "7kwvM89oD47d"
      },
      "outputs": [],
      "source": [
        "print(\"Test Accuracy Score: \", scores)"
      ]
    },
    {
      "cell_type": "code",
      "execution_count": null,
      "metadata": {
        "id": "ZMCedyLXzui0"
      },
      "outputs": [],
      "source": [
        "print(\"Average CV Score: \", scores.mean())\n",
        "print(\"Test Accuracy Score: \", scores)"
      ]
    },
    {
      "cell_type": "code",
      "execution_count": null,
      "metadata": {
        "id": "qk_LMFc8D47d"
      },
      "outputs": [],
      "source": [
        "sk_folds = StratifiedKFold(n_splits = 3)\n",
        "scores = cross_val_score(classifier, x, y, cv = sk_folds)"
      ]
    },
    {
      "cell_type": "code",
      "execution_count": null,
      "metadata": {
        "id": "rzZtrP-vD47e"
      },
      "outputs": [],
      "source": [
        "print(\"Test Accuracy Score: \", scores)"
      ]
    },
    {
      "cell_type": "code",
      "execution_count": null,
      "metadata": {
        "id": "HuDbWluRzuN7"
      },
      "outputs": [],
      "source": [
        "print(\"Average CV Score: \", scores.mean())\n",
        "print(\"Test Accuracy Score: \", scores)"
      ]
    },
    {
      "cell_type": "code",
      "execution_count": null,
      "metadata": {
        "id": "thtpSquoD47e"
      },
      "outputs": [],
      "source": [
        "sk_folds = StratifiedKFold(n_splits = 4)\n",
        "scores = cross_val_score(classifier, x, y, cv = sk_folds)"
      ]
    },
    {
      "cell_type": "code",
      "execution_count": null,
      "metadata": {
        "id": "Wb3OeHs3D47f"
      },
      "outputs": [],
      "source": [
        "print(\"Test Accuracy Score: \", scores)"
      ]
    },
    {
      "cell_type": "code",
      "execution_count": null,
      "metadata": {
        "id": "lfY_C75rzsr5"
      },
      "outputs": [],
      "source": [
        "print(\"Average CV Score: \", scores.mean())\n",
        "print(\"Test Accuracy Score: \", scores)"
      ]
    },
    {
      "cell_type": "code",
      "execution_count": null,
      "metadata": {
        "id": "ipB5Dd93D47f"
      },
      "outputs": [],
      "source": [
        "sk_folds = StratifiedKFold(n_splits = 5)\n",
        "scores = cross_val_score(classifier, x, y, cv = sk_folds)"
      ]
    },
    {
      "cell_type": "code",
      "execution_count": null,
      "metadata": {
        "id": "8yA3dx_SD47g"
      },
      "outputs": [],
      "source": [
        "print(\"Test Accuracy Score: \", scores)"
      ]
    },
    {
      "cell_type": "code",
      "execution_count": null,
      "metadata": {
        "id": "BhJk9vuZzsQ2"
      },
      "outputs": [],
      "source": [
        "print(\"Average CV Score: \", scores.mean())\n",
        "print(\"Test Accuracy Score: \", scores)"
      ]
    },
    {
      "cell_type": "code",
      "execution_count": null,
      "metadata": {
        "id": "AsCfyK3MD47g"
      },
      "outputs": [],
      "source": [
        "sk_folds = StratifiedKFold(n_splits = 6)\n",
        "scores = cross_val_score(classifier, x, y, cv = sk_folds)"
      ]
    },
    {
      "cell_type": "code",
      "execution_count": null,
      "metadata": {
        "id": "uolzIuFZD47g"
      },
      "outputs": [],
      "source": [
        "print(\"Test Accuracy Score: \", scores)"
      ]
    },
    {
      "cell_type": "code",
      "execution_count": null,
      "metadata": {
        "id": "kiNbsIBlzsCq"
      },
      "outputs": [],
      "source": [
        "print(\"Average CV Score: \", scores.mean())\n",
        "print(\"Test Accuracy Score: \", scores)"
      ]
    },
    {
      "cell_type": "code",
      "execution_count": null,
      "metadata": {
        "id": "K9U2AselD47h"
      },
      "outputs": [],
      "source": [
        "sk_folds = StratifiedKFold(n_splits = 7)\n",
        "scores = cross_val_score(classifier, x, y, cv = sk_folds)"
      ]
    },
    {
      "cell_type": "code",
      "execution_count": null,
      "metadata": {
        "id": "3hUkww9WD47h"
      },
      "outputs": [],
      "source": [
        "print(\"Test Accuracy Score: \", scores)"
      ]
    },
    {
      "cell_type": "code",
      "execution_count": null,
      "metadata": {
        "id": "GtimLiKHzrtG"
      },
      "outputs": [],
      "source": [
        "print(\"Average CV Score: \", scores.mean())\n",
        "print(\"Test Accuracy Score: \", scores)"
      ]
    },
    {
      "cell_type": "code",
      "execution_count": null,
      "metadata": {
        "id": "-K_qS36VD47i"
      },
      "outputs": [],
      "source": [
        "sk_folds = StratifiedKFold(n_splits = 8)\n",
        "scores = cross_val_score(classifier, x, y, cv = sk_folds)"
      ]
    },
    {
      "cell_type": "code",
      "execution_count": null,
      "metadata": {
        "id": "rJxkcgpafvT0"
      },
      "outputs": [],
      "source": [
        "print(\"Test Accuracy Score: \", scores)"
      ]
    },
    {
      "cell_type": "code",
      "execution_count": null,
      "metadata": {
        "id": "nB3UeXlyfvT1"
      },
      "outputs": [],
      "source": [
        "print(\"Average CV Score: \", scores.mean())\n",
        "print(\"Test Accuracy Score: \", scores)"
      ]
    },
    {
      "cell_type": "code",
      "execution_count": null,
      "metadata": {
        "id": "UcEX--TwD47i"
      },
      "outputs": [],
      "source": [
        "sk_folds = StratifiedKFold(n_splits = 9)\n",
        "scores = cross_val_score(classifier, x, y, cv = sk_folds)"
      ]
    },
    {
      "cell_type": "code",
      "execution_count": null,
      "metadata": {
        "id": "prNPbwb5D47j"
      },
      "outputs": [],
      "source": [
        "print(\"Test Accuracy Score: \", scores)"
      ]
    },
    {
      "cell_type": "code",
      "execution_count": null,
      "metadata": {
        "id": "qxL-ADHCzrUC"
      },
      "outputs": [],
      "source": [
        "print(\"Average CV Score: \", scores.mean())\n",
        "print(\"Test Accuracy Score: \", scores)"
      ]
    },
    {
      "cell_type": "code",
      "execution_count": null,
      "metadata": {
        "id": "4SS1KfZRD47j"
      },
      "outputs": [],
      "source": [
        "sk_folds = StratifiedKFold(n_splits = 10)\n",
        "scores = cross_val_score(classifier, x, y, cv = sk_folds)"
      ]
    },
    {
      "cell_type": "code",
      "execution_count": null,
      "metadata": {
        "id": "wmvRsLOlD47j"
      },
      "outputs": [],
      "source": [
        "print(\"Test Accuracy Score: \", scores)\n",
        "print(\"Average CV Score: \", scores.mean())"
      ]
    },
    {
      "cell_type": "code",
      "execution_count": null,
      "metadata": {
        "id": "hrrE8zo0ehl9"
      },
      "outputs": [],
      "source": [
        "np.mean([0.71428571,1,0.83333333,1,1,0.5,0.83333333,1,0.83333333,0.83333333])"
      ]
    },
    {
      "cell_type": "markdown",
      "metadata": {
        "id": "1bbj4dXhwCon"
      },
      "source": [
        "###**Support Vector Machine Algorithm**"
      ]
    },
    {
      "cell_type": "code",
      "execution_count": null,
      "metadata": {
        "id": "VIrcLtPkwCoo"
      },
      "outputs": [],
      "source": [
        "from sklearn.svm import SVC # \"Support vector classifier\"  \n",
        "classifier = SVC(kernel='rbf', random_state=0)  \n",
        "classifier.fit(x_train, y_train)  "
      ]
    },
    {
      "cell_type": "code",
      "execution_count": null,
      "metadata": {
        "id": "TsNW2boBwCoo"
      },
      "outputs": [],
      "source": [
        "#Predicting the test set result  \n",
        "y_pred= classifier.predict(x_test)  "
      ]
    },
    {
      "cell_type": "code",
      "execution_count": null,
      "metadata": {
        "id": "pDa__vGXwCoo"
      },
      "outputs": [],
      "source": [
        "from sklearn.metrics import confusion_matrix  \n",
        "cm= confusion_matrix(y_test, y_pred)  \n",
        "print(cm)"
      ]
    },
    {
      "cell_type": "code",
      "execution_count": null,
      "metadata": {
        "id": "Rl7JEnLewCop"
      },
      "outputs": [],
      "source": [
        "score_ = accuracy_score(y_test, y_pred)\n",
        "print(\"Test Accuracy Score: \", score_)"
      ]
    },
    {
      "cell_type": "code",
      "execution_count": null,
      "metadata": {
        "id": "ZTu4F_M4D6go"
      },
      "outputs": [],
      "source": [
        "sk_folds = StratifiedKFold(n_splits = 2)\n",
        "scores = cross_val_score(classifier, x, y, cv = sk_folds)"
      ]
    },
    {
      "cell_type": "code",
      "execution_count": null,
      "metadata": {
        "id": "jn6i5_FzD6gp"
      },
      "outputs": [],
      "source": [
        "print(\"Test Accuracy Score: \", scores)"
      ]
    },
    {
      "cell_type": "code",
      "execution_count": null,
      "metadata": {
        "id": "KzelqCM7pctA"
      },
      "outputs": [],
      "source": [
        "print(\"Average CV Score: \", scores.mean())\n",
        "print(\"Test Accuracy Score: \", scores)"
      ]
    },
    {
      "cell_type": "code",
      "execution_count": null,
      "metadata": {
        "id": "xKF6Yv41D6gp"
      },
      "outputs": [],
      "source": [
        "sk_folds = StratifiedKFold(n_splits = 3)\n",
        "scores = cross_val_score(classifier, x, y, cv = sk_folds)"
      ]
    },
    {
      "cell_type": "code",
      "execution_count": null,
      "metadata": {
        "id": "wXyTZNaFD6gp"
      },
      "outputs": [],
      "source": [
        "print(\"Test Accuracy Score: \", scores)"
      ]
    },
    {
      "cell_type": "code",
      "execution_count": null,
      "metadata": {
        "id": "p_zTej13peS5"
      },
      "outputs": [],
      "source": [
        "print(\"Average CV Score: \", scores.mean())\n",
        "print(\"Test Accuracy Score: \", scores)"
      ]
    },
    {
      "cell_type": "code",
      "execution_count": null,
      "metadata": {
        "id": "TvGyfMdDD6gp"
      },
      "outputs": [],
      "source": [
        "sk_folds = StratifiedKFold(n_splits = 4)\n",
        "scores = cross_val_score(classifier, x, y, cv = sk_folds)"
      ]
    },
    {
      "cell_type": "code",
      "execution_count": null,
      "metadata": {
        "id": "6pUzP3pXD6gq"
      },
      "outputs": [],
      "source": [
        "print(\"Test Accuracy Score: \", scores)"
      ]
    },
    {
      "cell_type": "code",
      "execution_count": null,
      "metadata": {
        "id": "HE7ZAHhbpg21"
      },
      "outputs": [],
      "source": [
        "print(\"Average CV Score: \", scores.mean())\n",
        "print(\"Test Accuracy Score: \", scores)"
      ]
    },
    {
      "cell_type": "code",
      "execution_count": null,
      "metadata": {
        "id": "i4yVWgyID6gq"
      },
      "outputs": [],
      "source": [
        "sk_folds = StratifiedKFold(n_splits = 5)\n",
        "scores = cross_val_score(classifier, x, y, cv = sk_folds)"
      ]
    },
    {
      "cell_type": "code",
      "execution_count": null,
      "metadata": {
        "id": "2UUUfSldD6gq"
      },
      "outputs": [],
      "source": [
        "print(\"Test Accuracy Score: \", scores)"
      ]
    },
    {
      "cell_type": "code",
      "execution_count": null,
      "metadata": {
        "id": "Nb8qF37Kph3V"
      },
      "outputs": [],
      "source": [
        "print(\"Average CV Score: \", scores.mean())\n",
        "print(\"Test Accuracy Score: \", scores)"
      ]
    },
    {
      "cell_type": "code",
      "execution_count": null,
      "metadata": {
        "id": "UK1EvKhpD6gq"
      },
      "outputs": [],
      "source": [
        "sk_folds = StratifiedKFold(n_splits = 6)\n",
        "scores = cross_val_score(classifier, x, y, cv = sk_folds)"
      ]
    },
    {
      "cell_type": "code",
      "execution_count": null,
      "metadata": {
        "id": "rN4CEFD1D6gq"
      },
      "outputs": [],
      "source": [
        "print(\"Test Accuracy Score: \", scores)"
      ]
    },
    {
      "cell_type": "code",
      "execution_count": null,
      "metadata": {
        "id": "6tGfDgDTpi1q"
      },
      "outputs": [],
      "source": [
        "print(\"Average CV Score: \", scores.mean())\n",
        "print(\"Test Accuracy Score: \", scores)"
      ]
    },
    {
      "cell_type": "code",
      "execution_count": null,
      "metadata": {
        "id": "q87-gUPYD6gq"
      },
      "outputs": [],
      "source": [
        "sk_folds = StratifiedKFold(n_splits = 7)\n",
        "scores = cross_val_score(classifier, x, y, cv = sk_folds)"
      ]
    },
    {
      "cell_type": "code",
      "execution_count": null,
      "metadata": {
        "id": "Oovk309YD6gr"
      },
      "outputs": [],
      "source": [
        "print(\"Test Accuracy Score: \", scores)"
      ]
    },
    {
      "cell_type": "code",
      "execution_count": null,
      "metadata": {
        "id": "BpE1a7Zbpj42"
      },
      "outputs": [],
      "source": [
        "print(\"Average CV Score: \", scores.mean())\n",
        "print(\"Test Accuracy Score: \", scores)"
      ]
    },
    {
      "cell_type": "code",
      "execution_count": null,
      "metadata": {
        "id": "0xr58UhtD6gr"
      },
      "outputs": [],
      "source": [
        "sk_folds = StratifiedKFold(n_splits = 8)\n",
        "scores = cross_val_score(classifier, x, y, cv = sk_folds)"
      ]
    },
    {
      "cell_type": "code",
      "execution_count": null,
      "metadata": {
        "id": "fUOhf6JzplbL"
      },
      "outputs": [],
      "source": [
        "print(\"Average CV Score: \", scores.mean())\n",
        "print(\"Test Accuracy Score: \", scores)"
      ]
    },
    {
      "cell_type": "code",
      "execution_count": null,
      "metadata": {
        "id": "2kd02RF-D6gr"
      },
      "outputs": [],
      "source": [
        "sk_folds = StratifiedKFold(n_splits = 9)\n",
        "scores = cross_val_score(classifier, x, y, cv = sk_folds)"
      ]
    },
    {
      "cell_type": "code",
      "execution_count": null,
      "metadata": {
        "id": "8fJmU777D6gr"
      },
      "outputs": [],
      "source": [
        "print(\"Test Accuracy Score: \", scores)"
      ]
    },
    {
      "cell_type": "code",
      "execution_count": null,
      "metadata": {
        "id": "cD13T3YupnlA"
      },
      "outputs": [],
      "source": [
        "print(\"Average CV Score: \", scores.mean())\n",
        "print(\"Test Accuracy Score: \", scores)"
      ]
    },
    {
      "cell_type": "code",
      "execution_count": null,
      "metadata": {
        "id": "FO4kbQ1GD6gr"
      },
      "outputs": [],
      "source": [
        "sk_folds = StratifiedKFold(n_splits = 10)\n",
        "scores = cross_val_score(classifier, x, y, cv = sk_folds)"
      ]
    },
    {
      "cell_type": "code",
      "execution_count": null,
      "metadata": {
        "id": "rQbbq1FmD6gr"
      },
      "outputs": [],
      "source": [
        "print(\"Test Accuracy Score: \", scores)"
      ]
    },
    {
      "cell_type": "code",
      "execution_count": null,
      "metadata": {
        "id": "RJoE5TbAppeP"
      },
      "outputs": [],
      "source": [
        "print(\"Average CV Score: \", scores.mean())\n",
        "print(\"Test Accuracy Score: \", scores)"
      ]
    },
    {
      "cell_type": "markdown",
      "metadata": {
        "id": "Jt6Ld7TBwCop"
      },
      "source": [
        "##**Decision Tree Algorithm**"
      ]
    },
    {
      "cell_type": "code",
      "execution_count": null,
      "metadata": {
        "id": "J_I1-iX_wCop"
      },
      "outputs": [],
      "source": [
        "from sklearn.tree import DecisionTreeClassifier  \n",
        "classifier= DecisionTreeClassifier(criterion='entropy', random_state=0)  \n",
        "classifier.fit(x_train, y_train)  "
      ]
    },
    {
      "cell_type": "code",
      "execution_count": null,
      "metadata": {
        "id": "mIP9irDowCoq"
      },
      "outputs": [],
      "source": [
        "#Predicting the test set result  \n",
        "y_pred= classifier.predict(x_test)  "
      ]
    },
    {
      "cell_type": "code",
      "execution_count": null,
      "metadata": {
        "id": "oSPOrJTlwCoq"
      },
      "outputs": [],
      "source": [
        "#Creating the Confusion matrix  \n",
        "from sklearn.metrics import confusion_matrix  \n",
        "cm= confusion_matrix(y_test, y_pred) \n",
        "print(cm)"
      ]
    },
    {
      "cell_type": "code",
      "execution_count": null,
      "metadata": {
        "id": "UwB-40SMwCoq"
      },
      "outputs": [],
      "source": [
        "score_ = accuracy_score(y_test, y_pred)\n",
        "print(\"Test Accuracy Score: \", score_)"
      ]
    },
    {
      "cell_type": "code",
      "execution_count": null,
      "metadata": {
        "id": "zUaolFCGD9hT"
      },
      "outputs": [],
      "source": [
        "sk_folds = StratifiedKFold(n_splits = 2)\n",
        "scores = cross_val_score(classifier, x, y, cv = sk_folds)"
      ]
    },
    {
      "cell_type": "code",
      "execution_count": null,
      "metadata": {
        "id": "budURzoPD9hT"
      },
      "outputs": [],
      "source": [
        "print(\"Test Accuracy Score: \", scores)"
      ]
    },
    {
      "cell_type": "code",
      "execution_count": null,
      "metadata": {
        "id": "RoV932oPps2z"
      },
      "outputs": [],
      "source": [
        "print(\"Average CV Score: \", scores.mean())\n",
        "print(\"Test Accuracy Score: \", scores)"
      ]
    },
    {
      "cell_type": "code",
      "execution_count": null,
      "metadata": {
        "id": "TFEPfbdmD9hT"
      },
      "outputs": [],
      "source": [
        "sk_folds = StratifiedKFold(n_splits = 3)\n",
        "scores = cross_val_score(classifier, x, y, cv = sk_folds)"
      ]
    },
    {
      "cell_type": "code",
      "execution_count": null,
      "metadata": {
        "id": "-3VSBn0tD9hT"
      },
      "outputs": [],
      "source": [
        "print(\"Test Accuracy Score: \", scores)"
      ]
    },
    {
      "cell_type": "code",
      "execution_count": null,
      "metadata": {
        "id": "kmKW3iBxptqh"
      },
      "outputs": [],
      "source": [
        "print(\"Average CV Score: \", scores.mean())\n",
        "print(\"Test Accuracy Score: \", scores)"
      ]
    },
    {
      "cell_type": "code",
      "execution_count": null,
      "metadata": {
        "id": "E_iMX8rdD9hU"
      },
      "outputs": [],
      "source": [
        "sk_folds = StratifiedKFold(n_splits = 4)\n",
        "scores = cross_val_score(classifier, x, y, cv = sk_folds)"
      ]
    },
    {
      "cell_type": "code",
      "execution_count": null,
      "metadata": {
        "id": "WX8C_9seD9hU"
      },
      "outputs": [],
      "source": [
        "print(\"Test Accuracy Score: \", scores)"
      ]
    },
    {
      "cell_type": "code",
      "execution_count": null,
      "metadata": {
        "id": "R0o3-5UApult"
      },
      "outputs": [],
      "source": [
        "print(\"Average CV Score: \", scores.mean())\n",
        "print(\"Test Accuracy Score: \", scores)"
      ]
    },
    {
      "cell_type": "code",
      "execution_count": null,
      "metadata": {
        "id": "5SswEr8FD9hU"
      },
      "outputs": [],
      "source": [
        "sk_folds = StratifiedKFold(n_splits = 5)\n",
        "scores = cross_val_score(classifier, x, y, cv = sk_folds)"
      ]
    },
    {
      "cell_type": "code",
      "execution_count": null,
      "metadata": {
        "id": "wjV8a29FD9hU"
      },
      "outputs": [],
      "source": [
        "print(\"Test Accuracy Score: \", scores)"
      ]
    },
    {
      "cell_type": "code",
      "execution_count": null,
      "metadata": {
        "id": "4kzSnO9epwCr"
      },
      "outputs": [],
      "source": [
        "print(\"Average CV Score: \", scores.mean())\n",
        "print(\"Test Accuracy Score: \", scores)"
      ]
    },
    {
      "cell_type": "code",
      "execution_count": null,
      "metadata": {
        "id": "4sbA95jLD9hU"
      },
      "outputs": [],
      "source": [
        "sk_folds = StratifiedKFold(n_splits = 6)\n",
        "scores = cross_val_score(classifier, x, y, cv = sk_folds)"
      ]
    },
    {
      "cell_type": "code",
      "execution_count": null,
      "metadata": {
        "id": "6KtsatZTD9hU"
      },
      "outputs": [],
      "source": [
        "print(\"Test Accuracy Score: \", scores)"
      ]
    },
    {
      "cell_type": "code",
      "execution_count": null,
      "metadata": {
        "id": "1ZCYcUhZpw9V"
      },
      "outputs": [],
      "source": [
        "print(\"Average CV Score: \", scores.mean())\n",
        "print(\"Test Accuracy Score: \", scores)"
      ]
    },
    {
      "cell_type": "code",
      "execution_count": null,
      "metadata": {
        "id": "QSDzCdHmD9hU"
      },
      "outputs": [],
      "source": [
        "sk_folds = StratifiedKFold(n_splits = 7)\n",
        "scores = cross_val_score(classifier, x, y, cv = sk_folds)"
      ]
    },
    {
      "cell_type": "code",
      "execution_count": null,
      "metadata": {
        "id": "fMO84uGaD9hV"
      },
      "outputs": [],
      "source": [
        "print(\"Test Accuracy Score: \", scores)"
      ]
    },
    {
      "cell_type": "code",
      "execution_count": null,
      "metadata": {
        "id": "E8ZtAMMCpyvH"
      },
      "outputs": [],
      "source": [
        "print(\"Average CV Score: \", scores.mean())\n",
        "print(\"Test Accuracy Score: \", scores)"
      ]
    },
    {
      "cell_type": "code",
      "execution_count": null,
      "metadata": {
        "id": "DY1vMVqzD9hV"
      },
      "outputs": [],
      "source": [
        "sk_folds = StratifiedKFold(n_splits = 8)\n",
        "scores = cross_val_score(classifier, x, y, cv = sk_folds)"
      ]
    },
    {
      "cell_type": "code",
      "execution_count": null,
      "metadata": {
        "id": "CPn-5beSp0L7"
      },
      "outputs": [],
      "source": [
        "print(\"Average CV Score: \", scores.mean())\n",
        "print(\"Test Accuracy Score: \", scores)"
      ]
    },
    {
      "cell_type": "code",
      "execution_count": null,
      "metadata": {
        "id": "Ibipw05iD9hV"
      },
      "outputs": [],
      "source": [
        "sk_folds = StratifiedKFold(n_splits = 9)\n",
        "scores = cross_val_score(classifier, x, y, cv = sk_folds)"
      ]
    },
    {
      "cell_type": "code",
      "execution_count": null,
      "metadata": {
        "id": "pqRrBKmDD9hV"
      },
      "outputs": [],
      "source": [
        "print(\"Test Accuracy Score: \", scores)"
      ]
    },
    {
      "cell_type": "code",
      "execution_count": null,
      "metadata": {
        "id": "oS40whaCp1g3"
      },
      "outputs": [],
      "source": [
        "print(\"Average CV Score: \", scores.mean())\n",
        "print(\"Test Accuracy Score: \", scores)"
      ]
    },
    {
      "cell_type": "code",
      "execution_count": null,
      "metadata": {
        "id": "px2k4oiuD9hV"
      },
      "outputs": [],
      "source": [
        "sk_folds = StratifiedKFold(n_splits = 10)\n",
        "scores = cross_val_score(classifier, x, y, cv = sk_folds)"
      ]
    },
    {
      "cell_type": "code",
      "execution_count": null,
      "metadata": {
        "id": "KlPE-m6AD9hV"
      },
      "outputs": [],
      "source": [
        "print(\"Test Accuracy Score: \", scores)"
      ]
    },
    {
      "cell_type": "code",
      "execution_count": null,
      "metadata": {
        "id": "OwJ-Ex2xzxth"
      },
      "outputs": [],
      "source": [
        "print(\"Average CV Score: \", scores.mean())\n",
        "print(\"Test Accuracy Score: \", scores)"
      ]
    },
    {
      "cell_type": "markdown",
      "metadata": {
        "id": "r1Rke2QUwCoq"
      },
      "source": [
        "##**Random Forest**"
      ]
    },
    {
      "cell_type": "code",
      "execution_count": null,
      "metadata": {
        "id": "fJweA7W7wCor"
      },
      "outputs": [],
      "source": [
        "#Fitting Decision Tree classifier to the training set  \n",
        "from sklearn.ensemble import RandomForestClassifier  \n",
        "classifier= RandomForestClassifier(n_estimators= 10, criterion=\"entropy\")  \n",
        "classifier.fit(x_train, y_train)  "
      ]
    },
    {
      "cell_type": "code",
      "execution_count": null,
      "metadata": {
        "id": "TdrTqEEKwCor"
      },
      "outputs": [],
      "source": [
        "#Predicting the test set result  \n",
        "y_pred= classifier.predict(x_test)  "
      ]
    },
    {
      "cell_type": "code",
      "execution_count": null,
      "metadata": {
        "id": "JVrPds1ywCor"
      },
      "outputs": [],
      "source": [
        "#Creating the Confusion matrix  \n",
        "from sklearn.metrics import confusion_matrix  \n",
        "cm= confusion_matrix(y_test, y_pred)  \n",
        "print(cm)"
      ]
    },
    {
      "cell_type": "code",
      "execution_count": null,
      "metadata": {
        "id": "OVqPzrj5wCos"
      },
      "outputs": [],
      "source": [
        "score_ = accuracy_score(y_test, y_pred)\n",
        "print(\"Test Accuracy Score: \", score_)"
      ]
    },
    {
      "cell_type": "code",
      "execution_count": null,
      "metadata": {
        "id": "4U8z4XHGD_Uj"
      },
      "outputs": [],
      "source": [
        "sk_folds = StratifiedKFold(n_splits = 2)\n",
        "scores = cross_val_score(classifier, x, y, cv = sk_folds)"
      ]
    },
    {
      "cell_type": "code",
      "execution_count": null,
      "metadata": {
        "id": "Aj_cbwv0D_Uj"
      },
      "outputs": [],
      "source": [
        "print(\"Test Accuracy Score: \", scores)"
      ]
    },
    {
      "cell_type": "code",
      "execution_count": null,
      "metadata": {
        "id": "EuoyiGFXz8zL"
      },
      "outputs": [],
      "source": [
        "print(\"Average CV Score: \", scores.mean())\n",
        "print(\"Test Accuracy Score: \", scores)"
      ]
    },
    {
      "cell_type": "code",
      "execution_count": null,
      "metadata": {
        "id": "NEbflt04D_Uk"
      },
      "outputs": [],
      "source": [
        "sk_folds = StratifiedKFold(n_splits = 3)\n",
        "scores = cross_val_score(classifier, x, y, cv = sk_folds)"
      ]
    },
    {
      "cell_type": "code",
      "execution_count": null,
      "metadata": {
        "id": "UTayxWQyD_Uk"
      },
      "outputs": [],
      "source": [
        "print(\"Test Accuracy Score: \", scores)"
      ]
    },
    {
      "cell_type": "code",
      "execution_count": null,
      "metadata": {
        "id": "VcEb9aAtz7MX"
      },
      "outputs": [],
      "source": [
        "print(\"Average CV Score: \", scores.mean())\n",
        "print(\"Test Accuracy Score: \", scores)"
      ]
    },
    {
      "cell_type": "code",
      "execution_count": null,
      "metadata": {
        "id": "ovOIBWIuD_Uk"
      },
      "outputs": [],
      "source": [
        "sk_folds = StratifiedKFold(n_splits = 4)\n",
        "scores = cross_val_score(classifier, x, y, cv = sk_folds)"
      ]
    },
    {
      "cell_type": "code",
      "execution_count": null,
      "metadata": {
        "id": "aqSdZrjvD_Ul"
      },
      "outputs": [],
      "source": [
        "print(\"Test Accuracy Score: \", scores)"
      ]
    },
    {
      "cell_type": "code",
      "execution_count": null,
      "metadata": {
        "id": "7DX9KsU1z734"
      },
      "outputs": [],
      "source": [
        "print(\"Average CV Score: \", scores.mean())\n",
        "print(\"Test Accuracy Score: \", scores)"
      ]
    },
    {
      "cell_type": "code",
      "execution_count": null,
      "metadata": {
        "id": "KqXGoaQUz6MD"
      },
      "outputs": [],
      "source": [
        "print(\"Average CV Score: \", scores.mean())\n",
        "print(\"Test Accuracy Score: \", scores)"
      ]
    },
    {
      "cell_type": "code",
      "execution_count": null,
      "metadata": {
        "id": "KCJ26bgVD_Ul"
      },
      "outputs": [],
      "source": [
        "sk_folds = StratifiedKFold(n_splits = 5)\n",
        "scores = cross_val_score(classifier, x, y, cv = sk_folds)"
      ]
    },
    {
      "cell_type": "code",
      "execution_count": null,
      "metadata": {
        "id": "Phkuj-PRD_Ul"
      },
      "outputs": [],
      "source": [
        "print(\"Test Accuracy Score: \", scores)"
      ]
    },
    {
      "cell_type": "code",
      "execution_count": null,
      "metadata": {
        "id": "L6WIiFj1z5x-"
      },
      "outputs": [],
      "source": [
        "print(\"Average CV Score: \", scores.mean())\n",
        "print(\"Test Accuracy Score: \", scores)"
      ]
    },
    {
      "cell_type": "code",
      "execution_count": null,
      "metadata": {
        "id": "sYQabk1eD_Um"
      },
      "outputs": [],
      "source": [
        "sk_folds = StratifiedKFold(n_splits = 6)\n",
        "scores = cross_val_score(classifier, x, y, cv = sk_folds)"
      ]
    },
    {
      "cell_type": "code",
      "execution_count": null,
      "metadata": {
        "id": "BAS1HlcvD_Um"
      },
      "outputs": [],
      "source": [
        "print(\"Test Accuracy Score: \", scores)"
      ]
    },
    {
      "cell_type": "code",
      "execution_count": null,
      "metadata": {
        "id": "YzqTuaUoz5Uh"
      },
      "outputs": [],
      "source": [
        "print(\"Average CV Score: \", scores.mean())\n",
        "print(\"Test Accuracy Score: \", scores)"
      ]
    },
    {
      "cell_type": "code",
      "execution_count": null,
      "metadata": {
        "id": "Np4uC5C5D_Um"
      },
      "outputs": [],
      "source": [
        "sk_folds = StratifiedKFold(n_splits = 7)\n",
        "scores = cross_val_score(classifier, x, y, cv = sk_folds)"
      ]
    },
    {
      "cell_type": "code",
      "execution_count": null,
      "metadata": {
        "id": "Vr1mvhlaD_Um"
      },
      "outputs": [],
      "source": [
        "print(\"Test Accuracy Score: \", scores)"
      ]
    },
    {
      "cell_type": "code",
      "execution_count": null,
      "metadata": {
        "id": "f8yNFNUaz4Zp"
      },
      "outputs": [],
      "source": [
        "print(\"Average CV Score: \", scores.mean())\n",
        "print(\"Test Accuracy Score: \", scores)"
      ]
    },
    {
      "cell_type": "code",
      "execution_count": null,
      "metadata": {
        "id": "ykoOHQy9D_Un"
      },
      "outputs": [],
      "source": [
        "sk_folds = StratifiedKFold(n_splits = 8)\n",
        "scores = cross_val_score(classifier, x, y, cv = sk_folds)"
      ]
    },
    {
      "cell_type": "code",
      "execution_count": null,
      "metadata": {
        "id": "8T3yfTgXz34U"
      },
      "outputs": [],
      "source": [
        "print(\"Average CV Score: \", scores.mean())\n",
        "print(\"Test Accuracy Score: \", scores)"
      ]
    },
    {
      "cell_type": "code",
      "execution_count": null,
      "metadata": {
        "id": "cGQ0z50BD_Un"
      },
      "outputs": [],
      "source": [
        "sk_folds = StratifiedKFold(n_splits = 9)\n",
        "scores = cross_val_score(classifier, x, y, cv = sk_folds)"
      ]
    },
    {
      "cell_type": "code",
      "execution_count": null,
      "metadata": {
        "id": "dFSBcgP7D_Un"
      },
      "outputs": [],
      "source": [
        "print(\"Test Accuracy Score: \", scores)"
      ]
    },
    {
      "cell_type": "code",
      "execution_count": null,
      "metadata": {
        "id": "xKfYntkuz3YD"
      },
      "outputs": [],
      "source": [
        "print(\"Average CV Score: \", scores.mean())\n",
        "print(\"Test Accuracy Score: \", scores)"
      ]
    },
    {
      "cell_type": "code",
      "execution_count": null,
      "metadata": {
        "id": "D6o-dIpgD_Uo"
      },
      "outputs": [],
      "source": [
        "sk_folds = StratifiedKFold(n_splits = 10)\n",
        "scores = cross_val_score(classifier, x, y, cv = sk_folds)"
      ]
    },
    {
      "cell_type": "code",
      "execution_count": null,
      "metadata": {
        "id": "oe7pYK1CD_Uo"
      },
      "outputs": [],
      "source": [
        "print(\"Test Accuracy Score: \", scores)"
      ]
    },
    {
      "cell_type": "code",
      "execution_count": null,
      "metadata": {
        "id": "dbxXCmHLz25X"
      },
      "outputs": [],
      "source": [
        "print(\"Average CV Score: \", scores.mean())\n",
        "print(\"Test Accuracy Score: \", scores)"
      ]
    },
    {
      "cell_type": "markdown",
      "metadata": {
        "id": "ZMIX0haDwP6T"
      },
      "source": [
        "##**Bagging**"
      ]
    },
    {
      "cell_type": "code",
      "execution_count": null,
      "metadata": {
        "id": "24iketTewP6U"
      },
      "outputs": [],
      "source": [
        "from sklearn.tree import DecisionTreeClassifier\n",
        "dtree = DecisionTreeClassifier(random_state=21)\n",
        "dtree.fit(x_train,y_train)"
      ]
    },
    {
      "cell_type": "code",
      "execution_count": null,
      "metadata": {
        "id": "r-86_9IXwP6U"
      },
      "outputs": [],
      "source": [
        "y_pred = dtree.predict(x_test)\n",
        "\n",
        "print(\"Train data accuracy:\",accuracy_score(y_true = y_train, y_pred = dtree.predict(x_train)))\n",
        "print(\"Test data accuracy:\",accuracy_score(y_true = y_test, y_pred = y_pred))"
      ]
    },
    {
      "cell_type": "code",
      "execution_count": null,
      "metadata": {
        "id": "R_uH9LYKEBhz"
      },
      "outputs": [],
      "source": [
        "sk_folds = StratifiedKFold(n_splits = 2)\n",
        "scores = cross_val_score(classifier, x, y, cv = sk_folds)"
      ]
    },
    {
      "cell_type": "code",
      "execution_count": null,
      "metadata": {
        "id": "vUCI09WjEBh1"
      },
      "outputs": [],
      "source": [
        "print(\"Test Accuracy Score: \", scores)"
      ]
    },
    {
      "cell_type": "code",
      "execution_count": null,
      "metadata": {
        "id": "YoN1Tgng0H6v"
      },
      "outputs": [],
      "source": [
        "print(\"Average CV Score: \", scores.mean())\n",
        "print(\"Test Accuracy Score: \", scores)"
      ]
    },
    {
      "cell_type": "code",
      "execution_count": null,
      "metadata": {
        "id": "O139etrEEBh1"
      },
      "outputs": [],
      "source": [
        "sk_folds = StratifiedKFold(n_splits = 3)\n",
        "scores = cross_val_score(classifier, x, y, cv = sk_folds)"
      ]
    },
    {
      "cell_type": "code",
      "execution_count": null,
      "metadata": {
        "id": "YDSWfdjAEBh3"
      },
      "outputs": [],
      "source": [
        "print(\"Test Accuracy Score: \", scores)"
      ]
    },
    {
      "cell_type": "code",
      "execution_count": null,
      "metadata": {
        "id": "wqrohM2p0GeJ"
      },
      "outputs": [],
      "source": [
        "print(\"Average CV Score: \", scores.mean())\n",
        "print(\"Test Accuracy Score: \", scores)"
      ]
    },
    {
      "cell_type": "code",
      "execution_count": null,
      "metadata": {
        "id": "l8HYrgAMEBh3"
      },
      "outputs": [],
      "source": [
        "sk_folds = StratifiedKFold(n_splits = 4)\n",
        "scores = cross_val_score(classifier, x, y, cv = sk_folds)"
      ]
    },
    {
      "cell_type": "code",
      "execution_count": null,
      "metadata": {
        "id": "z6B9bCfuEBh4"
      },
      "outputs": [],
      "source": [
        "print(\"Test Accuracy Score: \", scores)"
      ]
    },
    {
      "cell_type": "code",
      "execution_count": null,
      "metadata": {
        "id": "ypvZyqJF0F1S"
      },
      "outputs": [],
      "source": [
        "print(\"Average CV Score: \", scores.mean())\n",
        "print(\"Test Accuracy Score: \", scores)"
      ]
    },
    {
      "cell_type": "code",
      "execution_count": null,
      "metadata": {
        "id": "62iY5nASEBh5"
      },
      "outputs": [],
      "source": [
        "sk_folds = StratifiedKFold(n_splits = 5)\n",
        "scores = cross_val_score(classifier, x, y, cv = sk_folds)"
      ]
    },
    {
      "cell_type": "code",
      "execution_count": null,
      "metadata": {
        "id": "uf6BCg7iEBh5"
      },
      "outputs": [],
      "source": [
        "print(\"Test Accuracy Score: \", scores)"
      ]
    },
    {
      "cell_type": "code",
      "execution_count": null,
      "metadata": {
        "id": "K_REmhyQqBPi"
      },
      "outputs": [],
      "source": [
        "print(\"Average CV Score: \", scores.mean())\n",
        "print(\"Test Accuracy Score: \", scores)"
      ]
    },
    {
      "cell_type": "code",
      "execution_count": null,
      "metadata": {
        "id": "Gt_EC7JLEBh5"
      },
      "outputs": [],
      "source": [
        "sk_folds = StratifiedKFold(n_splits = 6)\n",
        "scores = cross_val_score(classifier, x, y, cv = sk_folds)"
      ]
    },
    {
      "cell_type": "code",
      "execution_count": null,
      "metadata": {
        "id": "oZ3MEM0oEBh6"
      },
      "outputs": [],
      "source": [
        "print(\"Test Accuracy Score: \", scores)"
      ]
    },
    {
      "cell_type": "code",
      "execution_count": null,
      "metadata": {
        "id": "PXoNbrXB0FGs"
      },
      "outputs": [],
      "source": [
        "print(\"Average CV Score: \", scores.mean())\n",
        "print(\"Test Accuracy Score: \", scores)"
      ]
    },
    {
      "cell_type": "code",
      "execution_count": null,
      "metadata": {
        "id": "8jAE0uCAEBh6"
      },
      "outputs": [],
      "source": [
        "sk_folds = StratifiedKFold(n_splits = 7)\n",
        "scores = cross_val_score(classifier, x, y, cv = sk_folds)"
      ]
    },
    {
      "cell_type": "code",
      "execution_count": null,
      "metadata": {
        "id": "oTdxpxK5EBh7"
      },
      "outputs": [],
      "source": [
        "print(\"Test Accuracy Score: \", scores)"
      ]
    },
    {
      "cell_type": "code",
      "execution_count": null,
      "metadata": {
        "id": "CMh9OyKj0EtU"
      },
      "outputs": [],
      "source": [
        "print(\"Average CV Score: \", scores.mean())\n",
        "print(\"Test Accuracy Score: \", scores)"
      ]
    },
    {
      "cell_type": "code",
      "execution_count": null,
      "metadata": {
        "id": "AQL4qvduEBh7"
      },
      "outputs": [],
      "source": [
        "sk_folds = StratifiedKFold(n_splits = 8)\n",
        "scores = cross_val_score(classifier, x, y, cv = sk_folds)"
      ]
    },
    {
      "cell_type": "code",
      "execution_count": null,
      "metadata": {
        "id": "2yOasm2z0DZk"
      },
      "outputs": [],
      "source": [
        "print(\"Average CV Score: \", scores.mean())\n",
        "print(\"Test Accuracy Score: \", scores)"
      ]
    },
    {
      "cell_type": "code",
      "execution_count": null,
      "metadata": {
        "id": "T4qXAzEQEBh8"
      },
      "outputs": [],
      "source": [
        "sk_folds = StratifiedKFold(n_splits = 9)\n",
        "scores = cross_val_score(classifier, x, y, cv = sk_folds)"
      ]
    },
    {
      "cell_type": "code",
      "execution_count": null,
      "metadata": {
        "id": "1b_Wd06EEBh8"
      },
      "outputs": [],
      "source": [
        "print(\"Test Accuracy Score: \", scores)"
      ]
    },
    {
      "cell_type": "code",
      "execution_count": null,
      "metadata": {
        "id": "UN00OLnF0DAd"
      },
      "outputs": [],
      "source": [
        "print(\"Average CV Score: \", scores.mean())\n",
        "print(\"Test Accuracy Score: \", scores)"
      ]
    },
    {
      "cell_type": "code",
      "execution_count": null,
      "metadata": {
        "id": "V-uhv0wEEBh8"
      },
      "outputs": [],
      "source": [
        "sk_folds = StratifiedKFold(n_splits = 10)\n",
        "scores = cross_val_score(classifier, x, y, cv = sk_folds)"
      ]
    },
    {
      "cell_type": "code",
      "execution_count": null,
      "metadata": {
        "id": "hh9bFuXaEBh9"
      },
      "outputs": [],
      "source": [
        "print(\"Test Accuracy Score: \", scores)"
      ]
    },
    {
      "cell_type": "code",
      "execution_count": null,
      "metadata": {
        "id": "gAXnSBBZ0CfS"
      },
      "outputs": [],
      "source": [
        "print(\"Average CV Score: \", scores.mean())\n",
        "print(\"Test Accuracy Score: \", scores)"
      ]
    },
    {
      "cell_type": "markdown",
      "metadata": {
        "id": "ANFknA-2qXcV"
      },
      "source": [
        "#**ar4 Dataset**"
      ]
    },
    {
      "cell_type": "code",
      "execution_count": null,
      "metadata": {
        "id": "WD2ApBbl1NIN"
      },
      "outputs": [],
      "source": [
        "ar4_df"
      ]
    },
    {
      "cell_type": "markdown",
      "metadata": {
        "id": "1h1berT3rif6"
      },
      "source": [
        "####**Spiliting Dataset**\n",
        "training: 80% testing:20%"
      ]
    },
    {
      "cell_type": "code",
      "execution_count": null,
      "metadata": {
        "id": "HwTK7C30rpDZ"
      },
      "outputs": [],
      "source": [
        "x = ar4_df.iloc[:,:-1]\n",
        "y = ar4_df.iloc[:,-1]\n",
        "\n",
        "from sklearn.model_selection import train_test_split\n",
        "x_train, x_test, y_train, y_test = train_test_split(x,y,test_size=0.20,random_state=0, stratify=ar4_df.problems)\n",
        "\n",
        "from sklearn.preprocessing import StandardScaler    \n",
        "st_x= StandardScaler()    \n",
        "x_train= st_x.fit_transform(x_train)    \n",
        "x_test= st_x.transform(x_test)  "
      ]
    },
    {
      "cell_type": "markdown",
      "metadata": {
        "id": "9YTVQyy4rXAT"
      },
      "source": [
        "###**Logistic Regression**"
      ]
    },
    {
      "cell_type": "code",
      "execution_count": null,
      "metadata": {
        "id": "RWDJQdLvw1FF"
      },
      "outputs": [],
      "source": [
        "from sklearn.linear_model import LogisticRegression  \n",
        "classifier= LogisticRegression(random_state=0)  \n",
        "classifier.fit(x_train, y_train) \n",
        "\n",
        "y_pred= classifier.predict(x_test)\n",
        "\n",
        "score_ = accuracy_score(y_test, y_pred)\n",
        "print(\"Test Accuracy Score: \", score_)\n",
        "\n",
        "from sklearn.metrics import confusion_matrix  \n",
        "cm= confusion_matrix(y_test,y_pred)\n",
        "print(\"Confusion Matrix: \\n\",cm)"
      ]
    },
    {
      "cell_type": "code",
      "execution_count": null,
      "metadata": {
        "id": "PqXgolmjEEdk"
      },
      "outputs": [],
      "source": [
        "sk_folds = StratifiedKFold(n_splits = 2)\n",
        "scores = cross_val_score(classifier, x, y, cv = sk_folds)"
      ]
    },
    {
      "cell_type": "code",
      "execution_count": null,
      "metadata": {
        "id": "mdb0JA4ZEEdl"
      },
      "outputs": [],
      "source": [
        "print(\"Test Accuracy Score: \", scores)"
      ]
    },
    {
      "cell_type": "code",
      "execution_count": null,
      "metadata": {
        "id": "CAsJqH4_0Qj8"
      },
      "outputs": [],
      "source": [
        "print(\"Average CV Score: \", scores.mean())\n",
        "print(\"Test Accuracy Score: \", scores)"
      ]
    },
    {
      "cell_type": "code",
      "execution_count": null,
      "metadata": {
        "id": "u8KjS4-gEEdl"
      },
      "outputs": [],
      "source": [
        "sk_folds = StratifiedKFold(n_splits = 3)\n",
        "scores = cross_val_score(classifier, x, y, cv = sk_folds)"
      ]
    },
    {
      "cell_type": "code",
      "execution_count": null,
      "metadata": {
        "id": "yqKLAgxuEEdl"
      },
      "outputs": [],
      "source": [
        "print(\"Test Accuracy Score: \", scores)"
      ]
    },
    {
      "cell_type": "code",
      "execution_count": null,
      "metadata": {
        "id": "ocNZxZJY0OM9"
      },
      "outputs": [],
      "source": [
        "print(\"Average CV Score: \", scores.mean())\n",
        "print(\"Test Accuracy Score: \", scores)"
      ]
    },
    {
      "cell_type": "code",
      "execution_count": null,
      "metadata": {
        "id": "4P8GAXrNEEdl"
      },
      "outputs": [],
      "source": [
        "sk_folds = StratifiedKFold(n_splits = 4)\n",
        "scores = cross_val_score(classifier, x, y, cv = sk_folds)"
      ]
    },
    {
      "cell_type": "code",
      "execution_count": null,
      "metadata": {
        "id": "knIgCpiWEEdl"
      },
      "outputs": [],
      "source": [
        "print(\"Test Accuracy Score: \", scores)"
      ]
    },
    {
      "cell_type": "code",
      "execution_count": null,
      "metadata": {
        "id": "DwV3qrN_0Pod"
      },
      "outputs": [],
      "source": [
        "print(\"Average CV Score: \", scores.mean())\n",
        "print(\"Test Accuracy Score: \", scores)"
      ]
    },
    {
      "cell_type": "code",
      "execution_count": null,
      "metadata": {
        "id": "UuiPa0qeEEdl"
      },
      "outputs": [],
      "source": [
        "sk_folds = StratifiedKFold(n_splits = 5)\n",
        "scores = cross_val_score(classifier, x, y, cv = sk_folds)"
      ]
    },
    {
      "cell_type": "code",
      "execution_count": null,
      "metadata": {
        "id": "1LfwIXLNEEdl"
      },
      "outputs": [],
      "source": [
        "print(\"Test Accuracy Score: \", scores)"
      ]
    },
    {
      "cell_type": "code",
      "execution_count": null,
      "metadata": {
        "id": "WvV2WRWp0PPF"
      },
      "outputs": [],
      "source": [
        "print(\"Average CV Score: \", scores.mean())\n",
        "print(\"Test Accuracy Score: \", scores)"
      ]
    },
    {
      "cell_type": "code",
      "execution_count": null,
      "metadata": {
        "id": "_cuoiaRYEEdl"
      },
      "outputs": [],
      "source": [
        "sk_folds = StratifiedKFold(n_splits = 6)\n",
        "scores = cross_val_score(classifier, x, y, cv = sk_folds)"
      ]
    },
    {
      "cell_type": "code",
      "execution_count": null,
      "metadata": {
        "id": "zEr0Nyx5EEdm"
      },
      "outputs": [],
      "source": [
        "print(\"Test Accuracy Score: \", scores)"
      ]
    },
    {
      "cell_type": "code",
      "execution_count": null,
      "metadata": {
        "id": "jPX6-P1E0M77"
      },
      "outputs": [],
      "source": [
        "print(\"Average CV Score: \", scores.mean())\n",
        "print(\"Test Accuracy Score: \", scores)"
      ]
    },
    {
      "cell_type": "code",
      "execution_count": null,
      "metadata": {
        "id": "bPRH2IUAEEdm"
      },
      "outputs": [],
      "source": [
        "sk_folds = StratifiedKFold(n_splits = 7)\n",
        "scores = cross_val_score(classifier, x, y, cv = sk_folds)"
      ]
    },
    {
      "cell_type": "code",
      "execution_count": null,
      "metadata": {
        "id": "WAUsdFR2EEdm"
      },
      "outputs": [],
      "source": [
        "print(\"Test Accuracy Score: \", scores)"
      ]
    },
    {
      "cell_type": "code",
      "execution_count": null,
      "metadata": {
        "id": "hO6qQWWv0MkG"
      },
      "outputs": [],
      "source": [
        "print(\"Average CV Score: \", scores.mean())\n",
        "print(\"Test Accuracy Score: \", scores)"
      ]
    },
    {
      "cell_type": "code",
      "execution_count": null,
      "metadata": {
        "id": "uSrXXVvnEEdm"
      },
      "outputs": [],
      "source": [
        "sk_folds = StratifiedKFold(n_splits = 8)\n",
        "scores = cross_val_score(classifier, x, y, cv = sk_folds)"
      ]
    },
    {
      "cell_type": "code",
      "execution_count": null,
      "metadata": {
        "id": "YxhYgffq0MPB"
      },
      "outputs": [],
      "source": [
        "print(\"Average CV Score: \", scores.mean())\n",
        "print(\"Test Accuracy Score: \", scores)"
      ]
    },
    {
      "cell_type": "code",
      "execution_count": null,
      "metadata": {
        "id": "TB7O6CnIEEdm"
      },
      "outputs": [],
      "source": [
        "sk_folds = StratifiedKFold(n_splits = 9)\n",
        "scores = cross_val_score(classifier, x, y, cv = sk_folds)"
      ]
    },
    {
      "cell_type": "code",
      "execution_count": null,
      "metadata": {
        "id": "iljbaQAtEEdm"
      },
      "outputs": [],
      "source": [
        "print(\"Test Accuracy Score: \", scores)"
      ]
    },
    {
      "cell_type": "code",
      "execution_count": null,
      "metadata": {
        "id": "H7dbSD--0Lu9"
      },
      "outputs": [],
      "source": [
        "print(\"Average CV Score: \", scores.mean())\n",
        "print(\"Test Accuracy Score: \", scores)"
      ]
    },
    {
      "cell_type": "code",
      "execution_count": null,
      "metadata": {
        "id": "Vu_Zw3KfEEdm"
      },
      "outputs": [],
      "source": [
        "sk_folds = StratifiedKFold(n_splits = 10)\n",
        "scores = cross_val_score(classifier, x, y, cv = sk_folds)"
      ]
    },
    {
      "cell_type": "code",
      "execution_count": null,
      "metadata": {
        "id": "rDiD76ZHEEdm"
      },
      "outputs": [],
      "source": [
        "print(\"Test Accuracy Score: \", scores)"
      ]
    },
    {
      "cell_type": "code",
      "execution_count": null,
      "metadata": {
        "id": "p2FRYMqi0LQd"
      },
      "outputs": [],
      "source": [
        "print(\"Average CV Score: \", scores.mean())\n",
        "print(\"Test Accuracy Score: \", scores)"
      ]
    },
    {
      "cell_type": "markdown",
      "metadata": {
        "id": "LHdaIuu7w1FR"
      },
      "source": [
        "###**Support Vector Machine Algorithm**"
      ]
    },
    {
      "cell_type": "code",
      "execution_count": null,
      "metadata": {
        "id": "BaMDokMSw1FR"
      },
      "outputs": [],
      "source": [
        "from sklearn.svm import SVC # \"Support vector classifier\"  \n",
        "classifier = SVC(kernel='rbf', random_state=0)  \n",
        "classifier.fit(x_train, y_train)  "
      ]
    },
    {
      "cell_type": "code",
      "execution_count": null,
      "metadata": {
        "id": "XKFYHUgSw1FS"
      },
      "outputs": [],
      "source": [
        "#Predicting the test set result  \n",
        "y_pred= classifier.predict(x_test)  "
      ]
    },
    {
      "cell_type": "code",
      "execution_count": null,
      "metadata": {
        "id": "trKdGj9Yw1FS"
      },
      "outputs": [],
      "source": [
        "from sklearn.metrics import confusion_matrix  \n",
        "cm= confusion_matrix(y_test, y_pred)  \n",
        "print(cm)"
      ]
    },
    {
      "cell_type": "code",
      "execution_count": null,
      "metadata": {
        "id": "l1YIUJwSw1FS"
      },
      "outputs": [],
      "source": [
        "score_ = accuracy_score(y_test, y_pred)\n",
        "print(\"Test Accuracy Score: \", score_)"
      ]
    },
    {
      "cell_type": "code",
      "execution_count": null,
      "metadata": {
        "id": "lQQtAItHEFpQ"
      },
      "outputs": [],
      "source": [
        "sk_folds = StratifiedKFold(n_splits = 2)\n",
        "scores = cross_val_score(classifier, x, y, cv = sk_folds)"
      ]
    },
    {
      "cell_type": "code",
      "execution_count": null,
      "metadata": {
        "id": "GnPZ9Ht8EFpQ"
      },
      "outputs": [],
      "source": [
        "print(\"Test Accuracy Score: \", scores)"
      ]
    },
    {
      "cell_type": "code",
      "execution_count": null,
      "metadata": {
        "id": "vPr0TeUb0Z11"
      },
      "outputs": [],
      "source": [
        "print(\"Average CV Score: \", scores.mean())\n",
        "print(\"Test Accuracy Score: \", scores)"
      ]
    },
    {
      "cell_type": "code",
      "execution_count": null,
      "metadata": {
        "id": "nHDWCh32EFpQ"
      },
      "outputs": [],
      "source": [
        "sk_folds = StratifiedKFold(n_splits = 3)\n",
        "scores = cross_val_score(classifier, x, y, cv = sk_folds)"
      ]
    },
    {
      "cell_type": "code",
      "execution_count": null,
      "metadata": {
        "id": "grjEcTazEFpR"
      },
      "outputs": [],
      "source": [
        "print(\"Test Accuracy Score: \", scores)"
      ]
    },
    {
      "cell_type": "code",
      "execution_count": null,
      "metadata": {
        "id": "m6Z-tVeG0ajc"
      },
      "outputs": [],
      "source": [
        "print(\"Average CV Score: \", scores.mean())\n",
        "print(\"Test Accuracy Score: \", scores)"
      ]
    },
    {
      "cell_type": "code",
      "execution_count": null,
      "metadata": {
        "id": "1R3uH1DMEFpR"
      },
      "outputs": [],
      "source": [
        "sk_folds = StratifiedKFold(n_splits = 4)\n",
        "scores = cross_val_score(classifier, x, y, cv = sk_folds)"
      ]
    },
    {
      "cell_type": "code",
      "execution_count": null,
      "metadata": {
        "id": "2Xj_o0bqEFpR"
      },
      "outputs": [],
      "source": [
        "print(\"Test Accuracy Score: \", scores)"
      ]
    },
    {
      "cell_type": "code",
      "execution_count": null,
      "metadata": {
        "id": "2sZr_Us40Ywl"
      },
      "outputs": [],
      "source": [
        "print(\"Average CV Score: \", scores.mean())\n",
        "print(\"Test Accuracy Score: \", scores)"
      ]
    },
    {
      "cell_type": "code",
      "execution_count": null,
      "metadata": {
        "id": "093-bsgeEFpR"
      },
      "outputs": [],
      "source": [
        "sk_folds = StratifiedKFold(n_splits = 5)\n",
        "scores = cross_val_score(classifier, x, y, cv = sk_folds)"
      ]
    },
    {
      "cell_type": "code",
      "execution_count": null,
      "metadata": {
        "id": "dqiiIM21EFpR"
      },
      "outputs": [],
      "source": [
        "print(\"Test Accuracy Score: \", scores)"
      ]
    },
    {
      "cell_type": "code",
      "execution_count": null,
      "metadata": {
        "id": "ExJMHsSx0YHG"
      },
      "outputs": [],
      "source": [
        "print(\"Average CV Score: \", scores.mean())\n",
        "print(\"Test Accuracy Score: \", scores)"
      ]
    },
    {
      "cell_type": "code",
      "execution_count": null,
      "metadata": {
        "id": "EGhFRHudEFpR"
      },
      "outputs": [],
      "source": [
        "sk_folds = StratifiedKFold(n_splits = 6)\n",
        "scores = cross_val_score(classifier, x, y, cv = sk_folds)"
      ]
    },
    {
      "cell_type": "code",
      "execution_count": null,
      "metadata": {
        "id": "PHHAzfE2EFpR"
      },
      "outputs": [],
      "source": [
        "print(\"Test Accuracy Score: \", scores)"
      ]
    },
    {
      "cell_type": "code",
      "execution_count": null,
      "metadata": {
        "id": "Ny_TfFcb0XrD"
      },
      "outputs": [],
      "source": [
        "print(\"Average CV Score: \", scores.mean())\n",
        "print(\"Test Accuracy Score: \", scores)"
      ]
    },
    {
      "cell_type": "code",
      "execution_count": null,
      "metadata": {
        "id": "MDyi-y4tEFpR"
      },
      "outputs": [],
      "source": [
        "sk_folds = StratifiedKFold(n_splits = 7)\n",
        "scores = cross_val_score(classifier, x, y, cv = sk_folds)"
      ]
    },
    {
      "cell_type": "code",
      "execution_count": null,
      "metadata": {
        "id": "ryyIgMbpEFpS"
      },
      "outputs": [],
      "source": [
        "print(\"Test Accuracy Score: \", scores)"
      ]
    },
    {
      "cell_type": "code",
      "execution_count": null,
      "metadata": {
        "id": "9Mi5VN3p0VVB"
      },
      "outputs": [],
      "source": [
        "print(\"Average CV Score: \", scores.mean())\n",
        "print(\"Test Accuracy Score: \", scores)"
      ]
    },
    {
      "cell_type": "code",
      "execution_count": null,
      "metadata": {
        "id": "TUC4NiGJEFpS"
      },
      "outputs": [],
      "source": [
        "sk_folds = StratifiedKFold(n_splits = 8)\n",
        "scores = cross_val_score(classifier, x, y, cv = sk_folds)"
      ]
    },
    {
      "cell_type": "code",
      "execution_count": null,
      "metadata": {
        "id": "_42-mqII0VBe"
      },
      "outputs": [],
      "source": [
        "print(\"Average CV Score: \", scores.mean())\n",
        "print(\"Test Accuracy Score: \", scores)"
      ]
    },
    {
      "cell_type": "code",
      "execution_count": null,
      "metadata": {
        "id": "FTLWcOExEFpS"
      },
      "outputs": [],
      "source": [
        "sk_folds = StratifiedKFold(n_splits = 9)\n",
        "scores = cross_val_score(classifier, x, y, cv = sk_folds)"
      ]
    },
    {
      "cell_type": "code",
      "execution_count": null,
      "metadata": {
        "id": "9Po5bQ1R0Uq1"
      },
      "outputs": [],
      "source": [
        "print(\"Average CV Score: \", scores.mean())\n",
        "print(\"Test Accuracy Score: \", scores)"
      ]
    },
    {
      "cell_type": "code",
      "execution_count": null,
      "metadata": {
        "id": "APH7ADP0EFpS"
      },
      "outputs": [],
      "source": [
        "print(\"Test Accuracy Score: \", scores)"
      ]
    },
    {
      "cell_type": "code",
      "execution_count": null,
      "metadata": {
        "id": "oLzdu9X-EFpS"
      },
      "outputs": [],
      "source": [
        "sk_folds = StratifiedKFold(n_splits = 10)\n",
        "scores = cross_val_score(classifier, x, y, cv = sk_folds)"
      ]
    },
    {
      "cell_type": "code",
      "execution_count": null,
      "metadata": {
        "id": "A0aUDtnVEFpS"
      },
      "outputs": [],
      "source": [
        "print(\"Test Accuracy Score: \", scores)"
      ]
    },
    {
      "cell_type": "code",
      "execution_count": null,
      "metadata": {
        "id": "DT0eXe7-0SyN"
      },
      "outputs": [],
      "source": [
        "print(\"Average CV Score: \", scores.mean())\n",
        "print(\"Test Accuracy Score: \", scores)"
      ]
    },
    {
      "cell_type": "markdown",
      "metadata": {
        "id": "3nmLOoPcw1FS"
      },
      "source": [
        "##**Decision Tree Algorithm**"
      ]
    },
    {
      "cell_type": "code",
      "execution_count": null,
      "metadata": {
        "id": "b91_q29Sw1FS"
      },
      "outputs": [],
      "source": [
        "from sklearn.tree import DecisionTreeClassifier  \n",
        "classifier= DecisionTreeClassifier(criterion='entropy', random_state=0)  \n",
        "classifier.fit(x_train, y_train)  "
      ]
    },
    {
      "cell_type": "code",
      "execution_count": null,
      "metadata": {
        "id": "DYEq6DbHw1FT"
      },
      "outputs": [],
      "source": [
        "#Predicting the test set result  \n",
        "y_pred= classifier.predict(x_test)  "
      ]
    },
    {
      "cell_type": "code",
      "execution_count": null,
      "metadata": {
        "id": "QBPWOXRww1FT"
      },
      "outputs": [],
      "source": [
        "#Creating the Confusion matrix  \n",
        "from sklearn.metrics import confusion_matrix  \n",
        "cm= confusion_matrix(y_test, y_pred) \n",
        "print(cm)"
      ]
    },
    {
      "cell_type": "code",
      "execution_count": null,
      "metadata": {
        "id": "YjMbT3Q7w1FT"
      },
      "outputs": [],
      "source": [
        "score_ = accuracy_score(y_test, y_pred)\n",
        "print(\"Test Accuracy Score: \", score_)"
      ]
    },
    {
      "cell_type": "code",
      "execution_count": null,
      "metadata": {
        "id": "J4v71VyNEHqV"
      },
      "outputs": [],
      "source": [
        "sk_folds = StratifiedKFold(n_splits = 2)\n",
        "scores = cross_val_score(classifier, x, y, cv = sk_folds)"
      ]
    },
    {
      "cell_type": "code",
      "execution_count": null,
      "metadata": {
        "id": "f2Kcqz2bEHqX"
      },
      "outputs": [],
      "source": [
        "print(\"Test Accuracy Score: \", scores)"
      ]
    },
    {
      "cell_type": "code",
      "execution_count": null,
      "metadata": {
        "id": "oA1GYwsK0o6F"
      },
      "outputs": [],
      "source": [
        "print(\"Average CV Score: \", scores.mean())\n",
        "print(\"Test Accuracy Score: \", scores)"
      ]
    },
    {
      "cell_type": "code",
      "execution_count": null,
      "metadata": {
        "id": "ZjcYzjOMEHqX"
      },
      "outputs": [],
      "source": [
        "sk_folds = StratifiedKFold(n_splits = 3)\n",
        "scores = cross_val_score(classifier, x, y, cv = sk_folds)"
      ]
    },
    {
      "cell_type": "code",
      "execution_count": null,
      "metadata": {
        "id": "dUTfD1uiEHqY"
      },
      "outputs": [],
      "source": [
        "print(\"Test Accuracy Score: \", scores)"
      ]
    },
    {
      "cell_type": "code",
      "execution_count": null,
      "metadata": {
        "id": "L857X7kU0mP9"
      },
      "outputs": [],
      "source": [
        "print(\"Average CV Score: \", scores.mean())\n",
        "print(\"Test Accuracy Score: \", scores)"
      ]
    },
    {
      "cell_type": "code",
      "execution_count": null,
      "metadata": {
        "id": "d0nNqChgEHqY"
      },
      "outputs": [],
      "source": [
        "sk_folds = StratifiedKFold(n_splits = 4)\n",
        "scores = cross_val_score(classifier, x, y, cv = sk_folds)"
      ]
    },
    {
      "cell_type": "code",
      "execution_count": null,
      "metadata": {
        "id": "RZ82XIyZEHqZ"
      },
      "outputs": [],
      "source": [
        "print(\"Test Accuracy Score: \", scores)"
      ]
    },
    {
      "cell_type": "code",
      "execution_count": null,
      "metadata": {
        "id": "vShA7SZx0ltp"
      },
      "outputs": [],
      "source": [
        "print(\"Average CV Score: \", scores.mean())\n",
        "print(\"Test Accuracy Score: \", scores)"
      ]
    },
    {
      "cell_type": "code",
      "execution_count": null,
      "metadata": {
        "id": "D4cURRlwEHqZ"
      },
      "outputs": [],
      "source": [
        "sk_folds = StratifiedKFold(n_splits = 5)\n",
        "scores = cross_val_score(classifier, x, y, cv = sk_folds)"
      ]
    },
    {
      "cell_type": "code",
      "execution_count": null,
      "metadata": {
        "id": "oMvr1aQdEHqa"
      },
      "outputs": [],
      "source": [
        "print(\"Test Accuracy Score: \", scores)"
      ]
    },
    {
      "cell_type": "code",
      "execution_count": null,
      "metadata": {
        "id": "M169MTS90lRn"
      },
      "outputs": [],
      "source": [
        "print(\"Average CV Score: \", scores.mean())\n",
        "print(\"Test Accuracy Score: \", scores)"
      ]
    },
    {
      "cell_type": "code",
      "execution_count": null,
      "metadata": {
        "id": "mEr_DiV_EHqa"
      },
      "outputs": [],
      "source": [
        "sk_folds = StratifiedKFold(n_splits = 6)\n",
        "scores = cross_val_score(classifier, x, y, cv = sk_folds)"
      ]
    },
    {
      "cell_type": "code",
      "execution_count": null,
      "metadata": {
        "id": "EJtNgbQ4EHqb"
      },
      "outputs": [],
      "source": [
        "print(\"Test Accuracy Score: \", scores)"
      ]
    },
    {
      "cell_type": "code",
      "execution_count": null,
      "metadata": {
        "id": "PAfXItWm0iX-"
      },
      "outputs": [],
      "source": [
        "print(\"Average CV Score: \", scores.mean())\n",
        "print(\"Test Accuracy Score: \", scores)"
      ]
    },
    {
      "cell_type": "code",
      "execution_count": null,
      "metadata": {
        "id": "jj0Ri3nJEHqb"
      },
      "outputs": [],
      "source": [
        "sk_folds = StratifiedKFold(n_splits = 7)\n",
        "scores = cross_val_score(classifier, x, y, cv = sk_folds)"
      ]
    },
    {
      "cell_type": "code",
      "execution_count": null,
      "metadata": {
        "id": "1V5_s4rtEHqc"
      },
      "outputs": [],
      "source": [
        "print(\"Test Accuracy Score: \", scores)"
      ]
    },
    {
      "cell_type": "code",
      "execution_count": null,
      "metadata": {
        "id": "nPo5mM8-0h4c"
      },
      "outputs": [],
      "source": [
        "print(\"Average CV Score: \", scores.mean())\n",
        "print(\"Test Accuracy Score: \", scores)"
      ]
    },
    {
      "cell_type": "code",
      "execution_count": null,
      "metadata": {
        "id": "p_e3dYpzEHqd"
      },
      "outputs": [],
      "source": [
        "sk_folds = StratifiedKFold(n_splits = 8)\n",
        "scores = cross_val_score(classifier, x, y, cv = sk_folds)"
      ]
    },
    {
      "cell_type": "code",
      "execution_count": null,
      "metadata": {
        "id": "T3TFu29e0gNf"
      },
      "outputs": [],
      "source": [
        "print(\"Average CV Score: \", scores.mean())\n",
        "print(\"Test Accuracy Score: \", scores)"
      ]
    },
    {
      "cell_type": "code",
      "execution_count": null,
      "metadata": {
        "id": "xfvpN-r5EHqe"
      },
      "outputs": [],
      "source": [
        "sk_folds = StratifiedKFold(n_splits = 9)\n",
        "scores = cross_val_score(classifier, x, y, cv = sk_folds)"
      ]
    },
    {
      "cell_type": "code",
      "execution_count": null,
      "metadata": {
        "id": "1x0LudPFEHqf"
      },
      "outputs": [],
      "source": [
        "print(\"Test Accuracy Score: \", scores)"
      ]
    },
    {
      "cell_type": "code",
      "execution_count": null,
      "metadata": {
        "id": "WucnRl5j0fC4"
      },
      "outputs": [],
      "source": [
        "print(\"Average CV Score: \", scores.mean())\n",
        "print(\"Test Accuracy Score: \", scores)"
      ]
    },
    {
      "cell_type": "code",
      "execution_count": null,
      "metadata": {
        "id": "iJuRhM-iEHqg"
      },
      "outputs": [],
      "source": [
        "sk_folds = StratifiedKFold(n_splits = 10)\n",
        "scores = cross_val_score(classifier, x, y, cv = sk_folds)"
      ]
    },
    {
      "cell_type": "code",
      "execution_count": null,
      "metadata": {
        "id": "uNl0JJvkEHqh"
      },
      "outputs": [],
      "source": [
        "print(\"Test Accuracy Score: \", scores)"
      ]
    },
    {
      "cell_type": "code",
      "execution_count": null,
      "metadata": {
        "id": "HSr-wL_I0elM"
      },
      "outputs": [],
      "source": [
        "print(\"Average CV Score: \", scores.mean())\n",
        "print(\"Test Accuracy Score: \", scores)"
      ]
    },
    {
      "cell_type": "markdown",
      "metadata": {
        "id": "wUNSsjYgw1FT"
      },
      "source": [
        "##**Random Forest**"
      ]
    },
    {
      "cell_type": "code",
      "execution_count": null,
      "metadata": {
        "id": "_o62yy7nw1FU"
      },
      "outputs": [],
      "source": [
        "#Fitting Decision Tree classifier to the training set  \n",
        "from sklearn.ensemble import RandomForestClassifier  \n",
        "classifier= RandomForestClassifier(n_estimators= 10, criterion=\"entropy\")  \n",
        "classifier.fit(x_train, y_train)  "
      ]
    },
    {
      "cell_type": "code",
      "execution_count": null,
      "metadata": {
        "id": "l6kwQAJjw1FU"
      },
      "outputs": [],
      "source": [
        "#Predicting the test set result  \n",
        "y_pred= classifier.predict(x_test)  "
      ]
    },
    {
      "cell_type": "code",
      "execution_count": null,
      "metadata": {
        "id": "6PYK0ysIw1FU"
      },
      "outputs": [],
      "source": [
        "#Creating the Confusion matrix  \n",
        "from sklearn.metrics import confusion_matrix  \n",
        "cm= confusion_matrix(y_test, y_pred)  \n",
        "print(cm)"
      ]
    },
    {
      "cell_type": "code",
      "execution_count": null,
      "metadata": {
        "id": "PzxWUJMiw1FU"
      },
      "outputs": [],
      "source": [
        "score_ = accuracy_score(y_test, y_pred)\n",
        "print(\"Test Accuracy Score: \", score_)"
      ]
    },
    {
      "cell_type": "code",
      "execution_count": null,
      "metadata": {
        "id": "HPg_NS-BEJlz"
      },
      "outputs": [],
      "source": [
        "sk_folds = StratifiedKFold(n_splits = 2)\n",
        "scores = cross_val_score(classifier, x, y, cv = sk_folds)"
      ]
    },
    {
      "cell_type": "code",
      "execution_count": null,
      "metadata": {
        "id": "L6OUYKB9EJlz"
      },
      "outputs": [],
      "source": [
        "print(\"Test Accuracy Score: \", scores)"
      ]
    },
    {
      "cell_type": "code",
      "execution_count": null,
      "metadata": {
        "id": "TZjWeodC01gp"
      },
      "outputs": [],
      "source": [
        "print(\"Average CV Score: \", scores.mean())\n",
        "print(\"Test Accuracy Score: \", scores)"
      ]
    },
    {
      "cell_type": "code",
      "execution_count": null,
      "metadata": {
        "id": "dyz43toPEJlz"
      },
      "outputs": [],
      "source": [
        "sk_folds = StratifiedKFold(n_splits = 3)\n",
        "scores = cross_val_score(classifier, x, y, cv = sk_folds)"
      ]
    },
    {
      "cell_type": "code",
      "execution_count": null,
      "metadata": {
        "id": "27tN7tpUEJlz"
      },
      "outputs": [],
      "source": [
        "print(\"Test Accuracy Score: \", scores)"
      ]
    },
    {
      "cell_type": "code",
      "execution_count": null,
      "metadata": {
        "id": "VNXl9PsS01CS"
      },
      "outputs": [],
      "source": [
        "print(\"Average CV Score: \", scores.mean())\n",
        "print(\"Test Accuracy Score: \", scores)"
      ]
    },
    {
      "cell_type": "code",
      "execution_count": null,
      "metadata": {
        "id": "XXsyKBh9EJl0"
      },
      "outputs": [],
      "source": [
        "sk_folds = StratifiedKFold(n_splits = 4)\n",
        "scores = cross_val_score(classifier, x, y, cv = sk_folds)"
      ]
    },
    {
      "cell_type": "code",
      "execution_count": null,
      "metadata": {
        "id": "GNVojPfoEJl0"
      },
      "outputs": [],
      "source": [
        "print(\"Test Accuracy Score: \", scores)"
      ]
    },
    {
      "cell_type": "code",
      "execution_count": null,
      "metadata": {
        "id": "e0N0Oflo0z9n"
      },
      "outputs": [],
      "source": [
        "print(\"Average CV Score: \", scores.mean())\n",
        "print(\"Test Accuracy Score: \", scores)"
      ]
    },
    {
      "cell_type": "code",
      "execution_count": null,
      "metadata": {
        "id": "l_pehdpEEJl0"
      },
      "outputs": [],
      "source": [
        "sk_folds = StratifiedKFold(n_splits = 5)\n",
        "scores = cross_val_score(classifier, x, y, cv = sk_folds)"
      ]
    },
    {
      "cell_type": "code",
      "execution_count": null,
      "metadata": {
        "id": "kgwrpiGFEJl0"
      },
      "outputs": [],
      "source": [
        "print(\"Test Accuracy Score: \", scores)"
      ]
    },
    {
      "cell_type": "code",
      "execution_count": null,
      "metadata": {
        "id": "cCJj7lBx0zft"
      },
      "outputs": [],
      "source": [
        "print(\"Average CV Score: \", scores.mean())\n",
        "print(\"Test Accuracy Score: \", scores)"
      ]
    },
    {
      "cell_type": "code",
      "execution_count": null,
      "metadata": {
        "id": "RfNZuGYQEJl0"
      },
      "outputs": [],
      "source": [
        "sk_folds = StratifiedKFold(n_splits = 6)\n",
        "scores = cross_val_score(classifier, x, y, cv = sk_folds)"
      ]
    },
    {
      "cell_type": "code",
      "execution_count": null,
      "metadata": {
        "id": "ZdSnzNz-EJl0"
      },
      "outputs": [],
      "source": [
        "print(\"Test Accuracy Score: \", scores)"
      ]
    },
    {
      "cell_type": "code",
      "execution_count": null,
      "metadata": {
        "id": "b9xVmcuu0yIm"
      },
      "outputs": [],
      "source": [
        "print(\"Average CV Score: \", scores.mean())\n",
        "print(\"Test Accuracy Score: \", scores)"
      ]
    },
    {
      "cell_type": "code",
      "execution_count": null,
      "metadata": {
        "id": "opH6xu2oEJl0"
      },
      "outputs": [],
      "source": [
        "sk_folds = StratifiedKFold(n_splits = 7)\n",
        "scores = cross_val_score(classifier, x, y, cv = sk_folds)"
      ]
    },
    {
      "cell_type": "code",
      "execution_count": null,
      "metadata": {
        "id": "sPoI_jKTEJl0"
      },
      "outputs": [],
      "source": [
        "print(\"Test Accuracy Score: \", scores)"
      ]
    },
    {
      "cell_type": "code",
      "execution_count": null,
      "metadata": {
        "id": "d8xbtQmL0xtx"
      },
      "outputs": [],
      "source": [
        "print(\"Average CV Score: \", scores.mean())\n",
        "print(\"Test Accuracy Score: \", scores)"
      ]
    },
    {
      "cell_type": "code",
      "execution_count": null,
      "metadata": {
        "id": "bwnpUTCQEJl1"
      },
      "outputs": [],
      "source": [
        "sk_folds = StratifiedKFold(n_splits = 8)\n",
        "scores = cross_val_score(classifier, x, y, cv = sk_folds)"
      ]
    },
    {
      "cell_type": "code",
      "execution_count": null,
      "metadata": {
        "id": "mVxZU0zm0wQz"
      },
      "outputs": [],
      "source": [
        "print(\"Average CV Score: \", scores.mean())\n",
        "print(\"Test Accuracy Score: \", scores)"
      ]
    },
    {
      "cell_type": "code",
      "execution_count": null,
      "metadata": {
        "id": "9hZxGwLkEJl1"
      },
      "outputs": [],
      "source": [
        "sk_folds = StratifiedKFold(n_splits = 9)\n",
        "scores = cross_val_score(classifier, x, y, cv = sk_folds)"
      ]
    },
    {
      "cell_type": "code",
      "execution_count": null,
      "metadata": {
        "id": "0VDW6GWfEJl1"
      },
      "outputs": [],
      "source": [
        "print(\"Test Accuracy Score: \", scores)"
      ]
    },
    {
      "cell_type": "code",
      "execution_count": null,
      "metadata": {
        "id": "vwHxUeps0xAk"
      },
      "outputs": [],
      "source": [
        "print(\"Average CV Score: \", scores.mean())\n",
        "print(\"Test Accuracy Score: \", scores)"
      ]
    },
    {
      "cell_type": "code",
      "execution_count": null,
      "metadata": {
        "id": "nVd91RSxEJl1"
      },
      "outputs": [],
      "source": [
        "sk_folds = StratifiedKFold(n_splits = 10)\n",
        "scores = cross_val_score(classifier, x, y, cv = sk_folds)"
      ]
    },
    {
      "cell_type": "code",
      "execution_count": null,
      "metadata": {
        "id": "Q2Xjzt6ZEJl1"
      },
      "outputs": [],
      "source": [
        "print(\"Test Accuracy Score: \", scores)"
      ]
    },
    {
      "cell_type": "code",
      "execution_count": null,
      "metadata": {
        "id": "39zGpRp60ukZ"
      },
      "outputs": [],
      "source": [
        "print(\"Average CV Score: \", scores.mean())\n",
        "print(\"Test Accuracy Score: \", scores)"
      ]
    },
    {
      "cell_type": "markdown",
      "metadata": {
        "id": "TEGAslgfw1FV"
      },
      "source": [
        "##**Bagging**"
      ]
    },
    {
      "cell_type": "code",
      "execution_count": null,
      "metadata": {
        "id": "uKSfF6c1w1FV"
      },
      "outputs": [],
      "source": [
        "from sklearn.tree import DecisionTreeClassifier\n",
        "dtree = DecisionTreeClassifier(random_state=21)\n",
        "dtree.fit(x_train,y_train)"
      ]
    },
    {
      "cell_type": "code",
      "execution_count": null,
      "metadata": {
        "id": "3FiQ87k5w1FV"
      },
      "outputs": [],
      "source": [
        "y_pred = dtree.predict(x_test)\n",
        "\n",
        "print(\"Train data accuracy:\",accuracy_score(y_true = y_train, y_pred = dtree.predict(x_train)))\n",
        "print(\"Test data accuracy:\",accuracy_score(y_true = y_test, y_pred = y_pred))"
      ]
    },
    {
      "cell_type": "code",
      "execution_count": null,
      "metadata": {
        "id": "dtVoDo3fELvy"
      },
      "outputs": [],
      "source": [
        "sk_folds = StratifiedKFold(n_splits = 2)\n",
        "scores = cross_val_score(classifier, x, y, cv = sk_folds)"
      ]
    },
    {
      "cell_type": "code",
      "execution_count": null,
      "metadata": {
        "id": "X3_s1HbQELvz"
      },
      "outputs": [],
      "source": [
        "print(\"Test Accuracy Score: \", scores)"
      ]
    },
    {
      "cell_type": "code",
      "execution_count": null,
      "metadata": {
        "id": "qOP_6M8m0_TX"
      },
      "outputs": [],
      "source": [
        "print(\"Average CV Score: \", scores.mean())\n",
        "print(\"Test Accuracy Score: \", scores)"
      ]
    },
    {
      "cell_type": "code",
      "execution_count": null,
      "metadata": {
        "id": "wOOgdCcjELvz"
      },
      "outputs": [],
      "source": [
        "sk_folds = StratifiedKFold(n_splits = 3)\n",
        "scores = cross_val_score(classifier, x, y, cv = sk_folds)"
      ]
    },
    {
      "cell_type": "code",
      "execution_count": null,
      "metadata": {
        "id": "PgxeAKKIELv0"
      },
      "outputs": [],
      "source": [
        "print(\"Test Accuracy Score: \", scores)"
      ]
    },
    {
      "cell_type": "code",
      "execution_count": null,
      "metadata": {
        "id": "zc6TcRaD0_Dp"
      },
      "outputs": [],
      "source": [
        "print(\"Average CV Score: \", scores.mean())\n",
        "print(\"Test Accuracy Score: \", scores)"
      ]
    },
    {
      "cell_type": "code",
      "execution_count": null,
      "metadata": {
        "id": "hT16AgDWELv0"
      },
      "outputs": [],
      "source": [
        "sk_folds = StratifiedKFold(n_splits = 4)\n",
        "scores = cross_val_score(classifier, x, y, cv = sk_folds)"
      ]
    },
    {
      "cell_type": "code",
      "execution_count": null,
      "metadata": {
        "id": "nycVH695ELv1"
      },
      "outputs": [],
      "source": [
        "print(\"Test Accuracy Score: \", scores)"
      ]
    },
    {
      "cell_type": "code",
      "execution_count": null,
      "metadata": {
        "id": "6PdIk1pr0-Ew"
      },
      "outputs": [],
      "source": [
        "print(\"Average CV Score: \", scores.mean())\n",
        "print(\"Test Accuracy Score: \", scores)"
      ]
    },
    {
      "cell_type": "code",
      "execution_count": null,
      "metadata": {
        "id": "AlF4ZQIdELv1"
      },
      "outputs": [],
      "source": [
        "sk_folds = StratifiedKFold(n_splits = 5)\n",
        "scores = cross_val_score(classifier, x, y, cv = sk_folds)"
      ]
    },
    {
      "cell_type": "code",
      "execution_count": null,
      "metadata": {
        "id": "0esK3shJELv2"
      },
      "outputs": [],
      "source": [
        "print(\"Test Accuracy Score: \", scores)"
      ]
    },
    {
      "cell_type": "code",
      "execution_count": null,
      "metadata": {
        "id": "NwxybrEM09uW"
      },
      "outputs": [],
      "source": [
        "print(\"Average CV Score: \", scores.mean())\n",
        "print(\"Test Accuracy Score: \", scores)"
      ]
    },
    {
      "cell_type": "code",
      "execution_count": null,
      "metadata": {
        "id": "yiGZgYrKELv3"
      },
      "outputs": [],
      "source": [
        "sk_folds = StratifiedKFold(n_splits = 6)\n",
        "scores = cross_val_score(classifier, x, y, cv = sk_folds)"
      ]
    },
    {
      "cell_type": "code",
      "execution_count": null,
      "metadata": {
        "id": "RYUJgis7ELv3"
      },
      "outputs": [],
      "source": [
        "print(\"Test Accuracy Score: \", scores)"
      ]
    },
    {
      "cell_type": "code",
      "execution_count": null,
      "metadata": {
        "id": "Nzj4L7UG09LZ"
      },
      "outputs": [],
      "source": [
        "print(\"Average CV Score: \", scores.mean())\n",
        "print(\"Test Accuracy Score: \", scores)"
      ]
    },
    {
      "cell_type": "code",
      "execution_count": null,
      "metadata": {
        "id": "WQc3yXiFELv3"
      },
      "outputs": [],
      "source": [
        "sk_folds = StratifiedKFold(n_splits = 7)\n",
        "scores = cross_val_score(classifier, x, y, cv = sk_folds)"
      ]
    },
    {
      "cell_type": "code",
      "execution_count": null,
      "metadata": {
        "id": "D5la-S3RELv4"
      },
      "outputs": [],
      "source": [
        "print(\"Test Accuracy Score: \", scores)"
      ]
    },
    {
      "cell_type": "code",
      "execution_count": null,
      "metadata": {
        "id": "r7po7TS708ry"
      },
      "outputs": [],
      "source": [
        "print(\"Average CV Score: \", scores.mean())\n",
        "print(\"Test Accuracy Score: \", scores)"
      ]
    },
    {
      "cell_type": "code",
      "execution_count": null,
      "metadata": {
        "id": "vhW2_QRgELv4"
      },
      "outputs": [],
      "source": [
        "sk_folds = StratifiedKFold(n_splits = 8)\n",
        "scores = cross_val_score(classifier, x, y, cv = sk_folds)"
      ]
    },
    {
      "cell_type": "code",
      "execution_count": null,
      "metadata": {
        "id": "CdcErnW107Js"
      },
      "outputs": [],
      "source": [
        "print(\"Average CV Score: \", scores.mean())\n",
        "print(\"Test Accuracy Score: \", scores)"
      ]
    },
    {
      "cell_type": "code",
      "execution_count": null,
      "metadata": {
        "id": "2GUKBJndELv5"
      },
      "outputs": [],
      "source": [
        "sk_folds = StratifiedKFold(n_splits = 9)\n",
        "scores = cross_val_score(classifier, x, y, cv = sk_folds)"
      ]
    },
    {
      "cell_type": "code",
      "execution_count": null,
      "metadata": {
        "id": "qfo_QpnNELv5"
      },
      "outputs": [],
      "source": [
        "print(\"Test Accuracy Score: \", scores)"
      ]
    },
    {
      "cell_type": "code",
      "execution_count": null,
      "metadata": {
        "id": "l10kL-uO06wp"
      },
      "outputs": [],
      "source": [
        "print(\"Average CV Score: \", scores.mean())\n",
        "print(\"Test Accuracy Score: \", scores)"
      ]
    },
    {
      "cell_type": "code",
      "execution_count": null,
      "metadata": {
        "colab": {
          "background_save": true
        },
        "id": "eOkimWNYELv6"
      },
      "outputs": [],
      "source": [
        "sk_folds = StratifiedKFold(n_splits = 10)\n",
        "scores = cross_val_score(classifier, x, y, cv = sk_folds)"
      ]
    },
    {
      "cell_type": "code",
      "execution_count": null,
      "metadata": {
        "colab": {
          "background_save": true
        },
        "id": "Q7SWK3reELv6",
        "outputId": "ddc586bb-9b25-4a40-e741-5e19a357da11"
      },
      "outputs": [
        {
          "name": "stdout",
          "output_type": "stream",
          "text": [
            "Test Accuracy Score:  [0.81818182 0.63636364 0.81818182 0.81818182 0.90909091 0.81818182\n",
            " 0.8        0.9        0.9        0.7       ]\n"
          ]
        }
      ],
      "source": [
        "print(\"Test Accuracy Score: \", scores)"
      ]
    },
    {
      "cell_type": "code",
      "execution_count": null,
      "metadata": {
        "colab": {
          "background_save": true
        },
        "id": "8amvNXgM06WO",
        "outputId": "eb464d4f-7a91-493b-9595-33c76c1cf8b1"
      },
      "outputs": [
        {
          "name": "stdout",
          "output_type": "stream",
          "text": [
            "Average CV Score:  0.8118181818181819\n",
            "Test Accuracy Score:  [0.81818182 0.63636364 0.81818182 0.81818182 0.90909091 0.81818182\n",
            " 0.8        0.9        0.9        0.7       ]\n"
          ]
        }
      ],
      "source": [
        "print(\"Average CV Score: \", scores.mean())\n",
        "print(\"Test Accuracy Score: \", scores)"
      ]
    },
    {
      "cell_type": "markdown",
      "metadata": {
        "id": "hyNLBbVHqXg3"
      },
      "source": [
        "#**ar5 Dataset**"
      ]
    },
    {
      "cell_type": "code",
      "execution_count": null,
      "metadata": {
        "colab": {
          "background_save": true
        },
        "id": "SeWfiRXO1QNM",
        "outputId": "040ce655-2dbb-483d-e8fc-303aa1661324"
      },
      "outputs": [
        {
          "data": {
            "text/html": [
              "\n",
              "  <div id=\"df-c9362071-37eb-4b1b-acdf-83d80bc0c87d\">\n",
              "    <div class=\"colab-df-container\">\n",
              "      <div>\n",
              "<style scoped>\n",
              "    .dataframe tbody tr th:only-of-type {\n",
              "        vertical-align: middle;\n",
              "    }\n",
              "\n",
              "    .dataframe tbody tr th {\n",
              "        vertical-align: top;\n",
              "    }\n",
              "\n",
              "    .dataframe thead th {\n",
              "        text-align: right;\n",
              "    }\n",
              "</style>\n",
              "<table border=\"1\" class=\"dataframe\">\n",
              "  <thead>\n",
              "    <tr style=\"text-align: right;\">\n",
              "      <th></th>\n",
              "      <th>total_loc</th>\n",
              "      <th>blank_loc</th>\n",
              "      <th>comment_loc</th>\n",
              "      <th>code_and_comment_loc</th>\n",
              "      <th>executable_loc</th>\n",
              "      <th>unique_operands</th>\n",
              "      <th>unique_operators</th>\n",
              "      <th>total_operands</th>\n",
              "      <th>total_operators</th>\n",
              "      <th>halstead_vocabulary</th>\n",
              "      <th>...</th>\n",
              "      <th>condition_count</th>\n",
              "      <th>multiple_condition_count</th>\n",
              "      <th>cyclomatic_complexity</th>\n",
              "      <th>cyclomatic_density</th>\n",
              "      <th>decision_density</th>\n",
              "      <th>design_complexity</th>\n",
              "      <th>design_density</th>\n",
              "      <th>normalized_cyclomatic_complexity</th>\n",
              "      <th>formal_parameters</th>\n",
              "      <th>problems</th>\n",
              "    </tr>\n",
              "  </thead>\n",
              "  <tbody>\n",
              "    <tr>\n",
              "      <th>0</th>\n",
              "      <td>16</td>\n",
              "      <td>6</td>\n",
              "      <td>2</td>\n",
              "      <td>1</td>\n",
              "      <td>8</td>\n",
              "      <td>13</td>\n",
              "      <td>6</td>\n",
              "      <td>18</td>\n",
              "      <td>20</td>\n",
              "      <td>19</td>\n",
              "      <td>...</td>\n",
              "      <td>0</td>\n",
              "      <td>0</td>\n",
              "      <td>2</td>\n",
              "      <td>0.250000</td>\n",
              "      <td>0.0000</td>\n",
              "      <td>1</td>\n",
              "      <td>0.500000</td>\n",
              "      <td>0.125000</td>\n",
              "      <td>1</td>\n",
              "      <td>False</td>\n",
              "    </tr>\n",
              "    <tr>\n",
              "      <th>1</th>\n",
              "      <td>31</td>\n",
              "      <td>12</td>\n",
              "      <td>3</td>\n",
              "      <td>2</td>\n",
              "      <td>16</td>\n",
              "      <td>18</td>\n",
              "      <td>9</td>\n",
              "      <td>31</td>\n",
              "      <td>42</td>\n",
              "      <td>27</td>\n",
              "      <td>...</td>\n",
              "      <td>5</td>\n",
              "      <td>0</td>\n",
              "      <td>6</td>\n",
              "      <td>0.375000</td>\n",
              "      <td>1.0000</td>\n",
              "      <td>1</td>\n",
              "      <td>0.166670</td>\n",
              "      <td>0.193550</td>\n",
              "      <td>0</td>\n",
              "      <td>False</td>\n",
              "    </tr>\n",
              "    <tr>\n",
              "      <th>2</th>\n",
              "      <td>477</td>\n",
              "      <td>104</td>\n",
              "      <td>89</td>\n",
              "      <td>2</td>\n",
              "      <td>284</td>\n",
              "      <td>150</td>\n",
              "      <td>29</td>\n",
              "      <td>482</td>\n",
              "      <td>699</td>\n",
              "      <td>179</td>\n",
              "      <td>...</td>\n",
              "      <td>116</td>\n",
              "      <td>25</td>\n",
              "      <td>93</td>\n",
              "      <td>0.327460</td>\n",
              "      <td>1.0172</td>\n",
              "      <td>4</td>\n",
              "      <td>0.043011</td>\n",
              "      <td>0.194970</td>\n",
              "      <td>0</td>\n",
              "      <td>True</td>\n",
              "    </tr>\n",
              "    <tr>\n",
              "      <th>3</th>\n",
              "      <td>11</td>\n",
              "      <td>2</td>\n",
              "      <td>0</td>\n",
              "      <td>0</td>\n",
              "      <td>9</td>\n",
              "      <td>10</td>\n",
              "      <td>4</td>\n",
              "      <td>15</td>\n",
              "      <td>17</td>\n",
              "      <td>14</td>\n",
              "      <td>...</td>\n",
              "      <td>0</td>\n",
              "      <td>0</td>\n",
              "      <td>1</td>\n",
              "      <td>0.111110</td>\n",
              "      <td>0.0000</td>\n",
              "      <td>2</td>\n",
              "      <td>2.000000</td>\n",
              "      <td>0.090909</td>\n",
              "      <td>0</td>\n",
              "      <td>False</td>\n",
              "    </tr>\n",
              "    <tr>\n",
              "      <th>4</th>\n",
              "      <td>9</td>\n",
              "      <td>2</td>\n",
              "      <td>0</td>\n",
              "      <td>0</td>\n",
              "      <td>7</td>\n",
              "      <td>7</td>\n",
              "      <td>4</td>\n",
              "      <td>11</td>\n",
              "      <td>13</td>\n",
              "      <td>11</td>\n",
              "      <td>...</td>\n",
              "      <td>0</td>\n",
              "      <td>0</td>\n",
              "      <td>1</td>\n",
              "      <td>0.142860</td>\n",
              "      <td>0.0000</td>\n",
              "      <td>1</td>\n",
              "      <td>1.000000</td>\n",
              "      <td>0.111110</td>\n",
              "      <td>0</td>\n",
              "      <td>False</td>\n",
              "    </tr>\n",
              "    <tr>\n",
              "      <th>5</th>\n",
              "      <td>10</td>\n",
              "      <td>2</td>\n",
              "      <td>0</td>\n",
              "      <td>0</td>\n",
              "      <td>8</td>\n",
              "      <td>7</td>\n",
              "      <td>4</td>\n",
              "      <td>13</td>\n",
              "      <td>15</td>\n",
              "      <td>11</td>\n",
              "      <td>...</td>\n",
              "      <td>0</td>\n",
              "      <td>0</td>\n",
              "      <td>1</td>\n",
              "      <td>0.125000</td>\n",
              "      <td>0.0000</td>\n",
              "      <td>2</td>\n",
              "      <td>2.000000</td>\n",
              "      <td>0.100000</td>\n",
              "      <td>0</td>\n",
              "      <td>False</td>\n",
              "    </tr>\n",
              "    <tr>\n",
              "      <th>6</th>\n",
              "      <td>5</td>\n",
              "      <td>0</td>\n",
              "      <td>0</td>\n",
              "      <td>0</td>\n",
              "      <td>5</td>\n",
              "      <td>5</td>\n",
              "      <td>3</td>\n",
              "      <td>5</td>\n",
              "      <td>9</td>\n",
              "      <td>8</td>\n",
              "      <td>...</td>\n",
              "      <td>0</td>\n",
              "      <td>0</td>\n",
              "      <td>1</td>\n",
              "      <td>0.200000</td>\n",
              "      <td>0.0000</td>\n",
              "      <td>3</td>\n",
              "      <td>3.000000</td>\n",
              "      <td>0.200000</td>\n",
              "      <td>0</td>\n",
              "      <td>False</td>\n",
              "    </tr>\n",
              "    <tr>\n",
              "      <th>7</th>\n",
              "      <td>28</td>\n",
              "      <td>5</td>\n",
              "      <td>1</td>\n",
              "      <td>0</td>\n",
              "      <td>22</td>\n",
              "      <td>18</td>\n",
              "      <td>12</td>\n",
              "      <td>49</td>\n",
              "      <td>53</td>\n",
              "      <td>30</td>\n",
              "      <td>...</td>\n",
              "      <td>3</td>\n",
              "      <td>1</td>\n",
              "      <td>4</td>\n",
              "      <td>0.181820</td>\n",
              "      <td>1.3333</td>\n",
              "      <td>2</td>\n",
              "      <td>0.500000</td>\n",
              "      <td>0.142860</td>\n",
              "      <td>1</td>\n",
              "      <td>False</td>\n",
              "    </tr>\n",
              "    <tr>\n",
              "      <th>8</th>\n",
              "      <td>26</td>\n",
              "      <td>6</td>\n",
              "      <td>0</td>\n",
              "      <td>0</td>\n",
              "      <td>20</td>\n",
              "      <td>16</td>\n",
              "      <td>11</td>\n",
              "      <td>41</td>\n",
              "      <td>44</td>\n",
              "      <td>27</td>\n",
              "      <td>...</td>\n",
              "      <td>1</td>\n",
              "      <td>0</td>\n",
              "      <td>3</td>\n",
              "      <td>0.150000</td>\n",
              "      <td>2.0000</td>\n",
              "      <td>2</td>\n",
              "      <td>0.666670</td>\n",
              "      <td>0.115380</td>\n",
              "      <td>0</td>\n",
              "      <td>False</td>\n",
              "    </tr>\n",
              "    <tr>\n",
              "      <th>9</th>\n",
              "      <td>15</td>\n",
              "      <td>4</td>\n",
              "      <td>0</td>\n",
              "      <td>0</td>\n",
              "      <td>11</td>\n",
              "      <td>11</td>\n",
              "      <td>5</td>\n",
              "      <td>19</td>\n",
              "      <td>22</td>\n",
              "      <td>16</td>\n",
              "      <td>...</td>\n",
              "      <td>0</td>\n",
              "      <td>0</td>\n",
              "      <td>1</td>\n",
              "      <td>0.090909</td>\n",
              "      <td>0.0000</td>\n",
              "      <td>7</td>\n",
              "      <td>7.000000</td>\n",
              "      <td>0.066667</td>\n",
              "      <td>1</td>\n",
              "      <td>False</td>\n",
              "    </tr>\n",
              "    <tr>\n",
              "      <th>10</th>\n",
              "      <td>22</td>\n",
              "      <td>4</td>\n",
              "      <td>1</td>\n",
              "      <td>0</td>\n",
              "      <td>17</td>\n",
              "      <td>17</td>\n",
              "      <td>9</td>\n",
              "      <td>25</td>\n",
              "      <td>36</td>\n",
              "      <td>26</td>\n",
              "      <td>...</td>\n",
              "      <td>1</td>\n",
              "      <td>0</td>\n",
              "      <td>3</td>\n",
              "      <td>0.176470</td>\n",
              "      <td>2.0000</td>\n",
              "      <td>7</td>\n",
              "      <td>2.333300</td>\n",
              "      <td>0.136360</td>\n",
              "      <td>2</td>\n",
              "      <td>False</td>\n",
              "    </tr>\n",
              "    <tr>\n",
              "      <th>11</th>\n",
              "      <td>10</td>\n",
              "      <td>4</td>\n",
              "      <td>0</td>\n",
              "      <td>0</td>\n",
              "      <td>6</td>\n",
              "      <td>9</td>\n",
              "      <td>6</td>\n",
              "      <td>24</td>\n",
              "      <td>23</td>\n",
              "      <td>15</td>\n",
              "      <td>...</td>\n",
              "      <td>0</td>\n",
              "      <td>0</td>\n",
              "      <td>1</td>\n",
              "      <td>0.166670</td>\n",
              "      <td>0.0000</td>\n",
              "      <td>3</td>\n",
              "      <td>3.000000</td>\n",
              "      <td>0.100000</td>\n",
              "      <td>2</td>\n",
              "      <td>False</td>\n",
              "    </tr>\n",
              "    <tr>\n",
              "      <th>12</th>\n",
              "      <td>23</td>\n",
              "      <td>5</td>\n",
              "      <td>1</td>\n",
              "      <td>0</td>\n",
              "      <td>17</td>\n",
              "      <td>15</td>\n",
              "      <td>10</td>\n",
              "      <td>43</td>\n",
              "      <td>58</td>\n",
              "      <td>25</td>\n",
              "      <td>...</td>\n",
              "      <td>8</td>\n",
              "      <td>4</td>\n",
              "      <td>5</td>\n",
              "      <td>0.294120</td>\n",
              "      <td>1.0000</td>\n",
              "      <td>4</td>\n",
              "      <td>0.800000</td>\n",
              "      <td>0.217390</td>\n",
              "      <td>1</td>\n",
              "      <td>False</td>\n",
              "    </tr>\n",
              "    <tr>\n",
              "      <th>13</th>\n",
              "      <td>86</td>\n",
              "      <td>22</td>\n",
              "      <td>8</td>\n",
              "      <td>3</td>\n",
              "      <td>56</td>\n",
              "      <td>31</td>\n",
              "      <td>11</td>\n",
              "      <td>76</td>\n",
              "      <td>113</td>\n",
              "      <td>42</td>\n",
              "      <td>...</td>\n",
              "      <td>11</td>\n",
              "      <td>4</td>\n",
              "      <td>9</td>\n",
              "      <td>0.160710</td>\n",
              "      <td>1.0909</td>\n",
              "      <td>3</td>\n",
              "      <td>0.333330</td>\n",
              "      <td>0.104650</td>\n",
              "      <td>0</td>\n",
              "      <td>False</td>\n",
              "    </tr>\n",
              "    <tr>\n",
              "      <th>14</th>\n",
              "      <td>115</td>\n",
              "      <td>17</td>\n",
              "      <td>1</td>\n",
              "      <td>1</td>\n",
              "      <td>97</td>\n",
              "      <td>35</td>\n",
              "      <td>16</td>\n",
              "      <td>154</td>\n",
              "      <td>204</td>\n",
              "      <td>51</td>\n",
              "      <td>...</td>\n",
              "      <td>25</td>\n",
              "      <td>4</td>\n",
              "      <td>21</td>\n",
              "      <td>0.216490</td>\n",
              "      <td>1.0400</td>\n",
              "      <td>2</td>\n",
              "      <td>0.095238</td>\n",
              "      <td>0.182610</td>\n",
              "      <td>0</td>\n",
              "      <td>False</td>\n",
              "    </tr>\n",
              "    <tr>\n",
              "      <th>15</th>\n",
              "      <td>150</td>\n",
              "      <td>43</td>\n",
              "      <td>5</td>\n",
              "      <td>1</td>\n",
              "      <td>102</td>\n",
              "      <td>79</td>\n",
              "      <td>16</td>\n",
              "      <td>184</td>\n",
              "      <td>229</td>\n",
              "      <td>95</td>\n",
              "      <td>...</td>\n",
              "      <td>21</td>\n",
              "      <td>7</td>\n",
              "      <td>18</td>\n",
              "      <td>0.176470</td>\n",
              "      <td>1.1429</td>\n",
              "      <td>13</td>\n",
              "      <td>0.722220</td>\n",
              "      <td>0.120000</td>\n",
              "      <td>0</td>\n",
              "      <td>True</td>\n",
              "    </tr>\n",
              "    <tr>\n",
              "      <th>16</th>\n",
              "      <td>47</td>\n",
              "      <td>14</td>\n",
              "      <td>17</td>\n",
              "      <td>0</td>\n",
              "      <td>16</td>\n",
              "      <td>45</td>\n",
              "      <td>5</td>\n",
              "      <td>50</td>\n",
              "      <td>52</td>\n",
              "      <td>50</td>\n",
              "      <td>...</td>\n",
              "      <td>0</td>\n",
              "      <td>0</td>\n",
              "      <td>1</td>\n",
              "      <td>0.062500</td>\n",
              "      <td>0.0000</td>\n",
              "      <td>0</td>\n",
              "      <td>0.000000</td>\n",
              "      <td>0.021277</td>\n",
              "      <td>0</td>\n",
              "      <td>False</td>\n",
              "    </tr>\n",
              "    <tr>\n",
              "      <th>17</th>\n",
              "      <td>35</td>\n",
              "      <td>13</td>\n",
              "      <td>15</td>\n",
              "      <td>0</td>\n",
              "      <td>7</td>\n",
              "      <td>26</td>\n",
              "      <td>4</td>\n",
              "      <td>29</td>\n",
              "      <td>31</td>\n",
              "      <td>30</td>\n",
              "      <td>...</td>\n",
              "      <td>0</td>\n",
              "      <td>0</td>\n",
              "      <td>1</td>\n",
              "      <td>0.142860</td>\n",
              "      <td>0.0000</td>\n",
              "      <td>0</td>\n",
              "      <td>0.000000</td>\n",
              "      <td>0.028571</td>\n",
              "      <td>0</td>\n",
              "      <td>False</td>\n",
              "    </tr>\n",
              "    <tr>\n",
              "      <th>18</th>\n",
              "      <td>65</td>\n",
              "      <td>18</td>\n",
              "      <td>9</td>\n",
              "      <td>0</td>\n",
              "      <td>38</td>\n",
              "      <td>43</td>\n",
              "      <td>10</td>\n",
              "      <td>92</td>\n",
              "      <td>110</td>\n",
              "      <td>53</td>\n",
              "      <td>...</td>\n",
              "      <td>10</td>\n",
              "      <td>0</td>\n",
              "      <td>11</td>\n",
              "      <td>0.289470</td>\n",
              "      <td>1.0000</td>\n",
              "      <td>14</td>\n",
              "      <td>1.272700</td>\n",
              "      <td>0.169230</td>\n",
              "      <td>0</td>\n",
              "      <td>False</td>\n",
              "    </tr>\n",
              "    <tr>\n",
              "      <th>19</th>\n",
              "      <td>29</td>\n",
              "      <td>4</td>\n",
              "      <td>1</td>\n",
              "      <td>0</td>\n",
              "      <td>24</td>\n",
              "      <td>27</td>\n",
              "      <td>5</td>\n",
              "      <td>55</td>\n",
              "      <td>57</td>\n",
              "      <td>32</td>\n",
              "      <td>...</td>\n",
              "      <td>0</td>\n",
              "      <td>0</td>\n",
              "      <td>1</td>\n",
              "      <td>0.041667</td>\n",
              "      <td>0.0000</td>\n",
              "      <td>10</td>\n",
              "      <td>10.000000</td>\n",
              "      <td>0.034483</td>\n",
              "      <td>0</td>\n",
              "      <td>False</td>\n",
              "    </tr>\n",
              "    <tr>\n",
              "      <th>20</th>\n",
              "      <td>42</td>\n",
              "      <td>13</td>\n",
              "      <td>0</td>\n",
              "      <td>0</td>\n",
              "      <td>29</td>\n",
              "      <td>27</td>\n",
              "      <td>14</td>\n",
              "      <td>65</td>\n",
              "      <td>85</td>\n",
              "      <td>41</td>\n",
              "      <td>...</td>\n",
              "      <td>8</td>\n",
              "      <td>2</td>\n",
              "      <td>8</td>\n",
              "      <td>0.275860</td>\n",
              "      <td>1.1250</td>\n",
              "      <td>0</td>\n",
              "      <td>0.000000</td>\n",
              "      <td>0.190480</td>\n",
              "      <td>0</td>\n",
              "      <td>False</td>\n",
              "    </tr>\n",
              "    <tr>\n",
              "      <th>21</th>\n",
              "      <td>14</td>\n",
              "      <td>3</td>\n",
              "      <td>0</td>\n",
              "      <td>0</td>\n",
              "      <td>11</td>\n",
              "      <td>14</td>\n",
              "      <td>7</td>\n",
              "      <td>34</td>\n",
              "      <td>43</td>\n",
              "      <td>21</td>\n",
              "      <td>...</td>\n",
              "      <td>13</td>\n",
              "      <td>6</td>\n",
              "      <td>8</td>\n",
              "      <td>0.727270</td>\n",
              "      <td>1.0000</td>\n",
              "      <td>1</td>\n",
              "      <td>0.125000</td>\n",
              "      <td>0.571430</td>\n",
              "      <td>0</td>\n",
              "      <td>False</td>\n",
              "    </tr>\n",
              "    <tr>\n",
              "      <th>22</th>\n",
              "      <td>29</td>\n",
              "      <td>8</td>\n",
              "      <td>0</td>\n",
              "      <td>0</td>\n",
              "      <td>21</td>\n",
              "      <td>18</td>\n",
              "      <td>8</td>\n",
              "      <td>36</td>\n",
              "      <td>46</td>\n",
              "      <td>26</td>\n",
              "      <td>...</td>\n",
              "      <td>4</td>\n",
              "      <td>1</td>\n",
              "      <td>4</td>\n",
              "      <td>0.190480</td>\n",
              "      <td>1.0000</td>\n",
              "      <td>2</td>\n",
              "      <td>0.500000</td>\n",
              "      <td>0.137930</td>\n",
              "      <td>0</td>\n",
              "      <td>False</td>\n",
              "    </tr>\n",
              "    <tr>\n",
              "      <th>23</th>\n",
              "      <td>151</td>\n",
              "      <td>38</td>\n",
              "      <td>13</td>\n",
              "      <td>4</td>\n",
              "      <td>100</td>\n",
              "      <td>64</td>\n",
              "      <td>28</td>\n",
              "      <td>189</td>\n",
              "      <td>285</td>\n",
              "      <td>92</td>\n",
              "      <td>...</td>\n",
              "      <td>29</td>\n",
              "      <td>3</td>\n",
              "      <td>29</td>\n",
              "      <td>0.290000</td>\n",
              "      <td>1.1034</td>\n",
              "      <td>0</td>\n",
              "      <td>0.000000</td>\n",
              "      <td>0.192050</td>\n",
              "      <td>0</td>\n",
              "      <td>False</td>\n",
              "    </tr>\n",
              "    <tr>\n",
              "      <th>24</th>\n",
              "      <td>42</td>\n",
              "      <td>8</td>\n",
              "      <td>3</td>\n",
              "      <td>0</td>\n",
              "      <td>31</td>\n",
              "      <td>18</td>\n",
              "      <td>11</td>\n",
              "      <td>40</td>\n",
              "      <td>59</td>\n",
              "      <td>29</td>\n",
              "      <td>...</td>\n",
              "      <td>8</td>\n",
              "      <td>4</td>\n",
              "      <td>5</td>\n",
              "      <td>0.161290</td>\n",
              "      <td>1.0000</td>\n",
              "      <td>0</td>\n",
              "      <td>0.000000</td>\n",
              "      <td>0.119050</td>\n",
              "      <td>0</td>\n",
              "      <td>False</td>\n",
              "    </tr>\n",
              "    <tr>\n",
              "      <th>25</th>\n",
              "      <td>208</td>\n",
              "      <td>38</td>\n",
              "      <td>28</td>\n",
              "      <td>4</td>\n",
              "      <td>142</td>\n",
              "      <td>70</td>\n",
              "      <td>17</td>\n",
              "      <td>259</td>\n",
              "      <td>371</td>\n",
              "      <td>87</td>\n",
              "      <td>...</td>\n",
              "      <td>52</td>\n",
              "      <td>12</td>\n",
              "      <td>41</td>\n",
              "      <td>0.288730</td>\n",
              "      <td>1.0000</td>\n",
              "      <td>17</td>\n",
              "      <td>0.414630</td>\n",
              "      <td>0.197120</td>\n",
              "      <td>0</td>\n",
              "      <td>True</td>\n",
              "    </tr>\n",
              "    <tr>\n",
              "      <th>26</th>\n",
              "      <td>48</td>\n",
              "      <td>9</td>\n",
              "      <td>8</td>\n",
              "      <td>4</td>\n",
              "      <td>31</td>\n",
              "      <td>28</td>\n",
              "      <td>14</td>\n",
              "      <td>56</td>\n",
              "      <td>88</td>\n",
              "      <td>42</td>\n",
              "      <td>...</td>\n",
              "      <td>16</td>\n",
              "      <td>5</td>\n",
              "      <td>12</td>\n",
              "      <td>0.387100</td>\n",
              "      <td>1.0000</td>\n",
              "      <td>6</td>\n",
              "      <td>0.500000</td>\n",
              "      <td>0.250000</td>\n",
              "      <td>0</td>\n",
              "      <td>False</td>\n",
              "    </tr>\n",
              "    <tr>\n",
              "      <th>27</th>\n",
              "      <td>135</td>\n",
              "      <td>44</td>\n",
              "      <td>20</td>\n",
              "      <td>2</td>\n",
              "      <td>71</td>\n",
              "      <td>87</td>\n",
              "      <td>23</td>\n",
              "      <td>203</td>\n",
              "      <td>258</td>\n",
              "      <td>110</td>\n",
              "      <td>...</td>\n",
              "      <td>35</td>\n",
              "      <td>10</td>\n",
              "      <td>26</td>\n",
              "      <td>0.366200</td>\n",
              "      <td>1.0000</td>\n",
              "      <td>4</td>\n",
              "      <td>0.153850</td>\n",
              "      <td>0.192590</td>\n",
              "      <td>0</td>\n",
              "      <td>True</td>\n",
              "    </tr>\n",
              "    <tr>\n",
              "      <th>28</th>\n",
              "      <td>125</td>\n",
              "      <td>25</td>\n",
              "      <td>12</td>\n",
              "      <td>4</td>\n",
              "      <td>88</td>\n",
              "      <td>62</td>\n",
              "      <td>27</td>\n",
              "      <td>153</td>\n",
              "      <td>229</td>\n",
              "      <td>89</td>\n",
              "      <td>...</td>\n",
              "      <td>33</td>\n",
              "      <td>6</td>\n",
              "      <td>29</td>\n",
              "      <td>0.329550</td>\n",
              "      <td>1.0606</td>\n",
              "      <td>9</td>\n",
              "      <td>0.310340</td>\n",
              "      <td>0.232000</td>\n",
              "      <td>0</td>\n",
              "      <td>True</td>\n",
              "    </tr>\n",
              "    <tr>\n",
              "      <th>29</th>\n",
              "      <td>14</td>\n",
              "      <td>2</td>\n",
              "      <td>0</td>\n",
              "      <td>0</td>\n",
              "      <td>12</td>\n",
              "      <td>13</td>\n",
              "      <td>11</td>\n",
              "      <td>18</td>\n",
              "      <td>29</td>\n",
              "      <td>24</td>\n",
              "      <td>...</td>\n",
              "      <td>4</td>\n",
              "      <td>0</td>\n",
              "      <td>5</td>\n",
              "      <td>0.416670</td>\n",
              "      <td>1.0000</td>\n",
              "      <td>1</td>\n",
              "      <td>0.200000</td>\n",
              "      <td>0.357140</td>\n",
              "      <td>0</td>\n",
              "      <td>False</td>\n",
              "    </tr>\n",
              "    <tr>\n",
              "      <th>30</th>\n",
              "      <td>147</td>\n",
              "      <td>32</td>\n",
              "      <td>10</td>\n",
              "      <td>4</td>\n",
              "      <td>105</td>\n",
              "      <td>46</td>\n",
              "      <td>17</td>\n",
              "      <td>165</td>\n",
              "      <td>247</td>\n",
              "      <td>63</td>\n",
              "      <td>...</td>\n",
              "      <td>46</td>\n",
              "      <td>8</td>\n",
              "      <td>38</td>\n",
              "      <td>0.361900</td>\n",
              "      <td>1.0000</td>\n",
              "      <td>0</td>\n",
              "      <td>0.000000</td>\n",
              "      <td>0.258500</td>\n",
              "      <td>0</td>\n",
              "      <td>False</td>\n",
              "    </tr>\n",
              "    <tr>\n",
              "      <th>31</th>\n",
              "      <td>214</td>\n",
              "      <td>55</td>\n",
              "      <td>38</td>\n",
              "      <td>8</td>\n",
              "      <td>121</td>\n",
              "      <td>71</td>\n",
              "      <td>23</td>\n",
              "      <td>221</td>\n",
              "      <td>309</td>\n",
              "      <td>94</td>\n",
              "      <td>...</td>\n",
              "      <td>54</td>\n",
              "      <td>17</td>\n",
              "      <td>37</td>\n",
              "      <td>0.305790</td>\n",
              "      <td>1.0000</td>\n",
              "      <td>4</td>\n",
              "      <td>0.108110</td>\n",
              "      <td>0.172900</td>\n",
              "      <td>0</td>\n",
              "      <td>True</td>\n",
              "    </tr>\n",
              "    <tr>\n",
              "      <th>32</th>\n",
              "      <td>112</td>\n",
              "      <td>23</td>\n",
              "      <td>7</td>\n",
              "      <td>3</td>\n",
              "      <td>82</td>\n",
              "      <td>35</td>\n",
              "      <td>23</td>\n",
              "      <td>226</td>\n",
              "      <td>305</td>\n",
              "      <td>58</td>\n",
              "      <td>...</td>\n",
              "      <td>43</td>\n",
              "      <td>15</td>\n",
              "      <td>30</td>\n",
              "      <td>0.365850</td>\n",
              "      <td>1.0465</td>\n",
              "      <td>1</td>\n",
              "      <td>0.033333</td>\n",
              "      <td>0.267860</td>\n",
              "      <td>0</td>\n",
              "      <td>False</td>\n",
              "    </tr>\n",
              "    <tr>\n",
              "      <th>33</th>\n",
              "      <td>110</td>\n",
              "      <td>29</td>\n",
              "      <td>11</td>\n",
              "      <td>3</td>\n",
              "      <td>70</td>\n",
              "      <td>48</td>\n",
              "      <td>23</td>\n",
              "      <td>135</td>\n",
              "      <td>182</td>\n",
              "      <td>71</td>\n",
              "      <td>...</td>\n",
              "      <td>26</td>\n",
              "      <td>7</td>\n",
              "      <td>21</td>\n",
              "      <td>0.300000</td>\n",
              "      <td>1.0385</td>\n",
              "      <td>1</td>\n",
              "      <td>0.047619</td>\n",
              "      <td>0.190910</td>\n",
              "      <td>0</td>\n",
              "      <td>True</td>\n",
              "    </tr>\n",
              "    <tr>\n",
              "      <th>34</th>\n",
              "      <td>49</td>\n",
              "      <td>14</td>\n",
              "      <td>7</td>\n",
              "      <td>3</td>\n",
              "      <td>28</td>\n",
              "      <td>23</td>\n",
              "      <td>16</td>\n",
              "      <td>53</td>\n",
              "      <td>74</td>\n",
              "      <td>39</td>\n",
              "      <td>...</td>\n",
              "      <td>11</td>\n",
              "      <td>3</td>\n",
              "      <td>9</td>\n",
              "      <td>0.321430</td>\n",
              "      <td>1.0000</td>\n",
              "      <td>0</td>\n",
              "      <td>0.000000</td>\n",
              "      <td>0.183670</td>\n",
              "      <td>0</td>\n",
              "      <td>True</td>\n",
              "    </tr>\n",
              "  </tbody>\n",
              "</table>\n",
              "<p>35 rows × 30 columns</p>\n",
              "</div>\n",
              "      <button class=\"colab-df-convert\" onclick=\"convertToInteractive('df-c9362071-37eb-4b1b-acdf-83d80bc0c87d')\"\n",
              "              title=\"Convert this dataframe to an interactive table.\"\n",
              "              style=\"display:none;\">\n",
              "        \n",
              "  <svg xmlns=\"http://www.w3.org/2000/svg\" height=\"24px\"viewBox=\"0 0 24 24\"\n",
              "       width=\"24px\">\n",
              "    <path d=\"M0 0h24v24H0V0z\" fill=\"none\"/>\n",
              "    <path d=\"M18.56 5.44l.94 2.06.94-2.06 2.06-.94-2.06-.94-.94-2.06-.94 2.06-2.06.94zm-11 1L8.5 8.5l.94-2.06 2.06-.94-2.06-.94L8.5 2.5l-.94 2.06-2.06.94zm10 10l.94 2.06.94-2.06 2.06-.94-2.06-.94-.94-2.06-.94 2.06-2.06.94z\"/><path d=\"M17.41 7.96l-1.37-1.37c-.4-.4-.92-.59-1.43-.59-.52 0-1.04.2-1.43.59L10.3 9.45l-7.72 7.72c-.78.78-.78 2.05 0 2.83L4 21.41c.39.39.9.59 1.41.59.51 0 1.02-.2 1.41-.59l7.78-7.78 2.81-2.81c.8-.78.8-2.07 0-2.86zM5.41 20L4 18.59l7.72-7.72 1.47 1.35L5.41 20z\"/>\n",
              "  </svg>\n",
              "      </button>\n",
              "      \n",
              "  <style>\n",
              "    .colab-df-container {\n",
              "      display:flex;\n",
              "      flex-wrap:wrap;\n",
              "      gap: 12px;\n",
              "    }\n",
              "\n",
              "    .colab-df-convert {\n",
              "      background-color: #E8F0FE;\n",
              "      border: none;\n",
              "      border-radius: 50%;\n",
              "      cursor: pointer;\n",
              "      display: none;\n",
              "      fill: #1967D2;\n",
              "      height: 32px;\n",
              "      padding: 0 0 0 0;\n",
              "      width: 32px;\n",
              "    }\n",
              "\n",
              "    .colab-df-convert:hover {\n",
              "      background-color: #E2EBFA;\n",
              "      box-shadow: 0px 1px 2px rgba(60, 64, 67, 0.3), 0px 1px 3px 1px rgba(60, 64, 67, 0.15);\n",
              "      fill: #174EA6;\n",
              "    }\n",
              "\n",
              "    [theme=dark] .colab-df-convert {\n",
              "      background-color: #3B4455;\n",
              "      fill: #D2E3FC;\n",
              "    }\n",
              "\n",
              "    [theme=dark] .colab-df-convert:hover {\n",
              "      background-color: #434B5C;\n",
              "      box-shadow: 0px 1px 3px 1px rgba(0, 0, 0, 0.15);\n",
              "      filter: drop-shadow(0px 1px 2px rgba(0, 0, 0, 0.3));\n",
              "      fill: #FFFFFF;\n",
              "    }\n",
              "  </style>\n",
              "\n",
              "      <script>\n",
              "        const buttonEl =\n",
              "          document.querySelector('#df-c9362071-37eb-4b1b-acdf-83d80bc0c87d button.colab-df-convert');\n",
              "        buttonEl.style.display =\n",
              "          google.colab.kernel.accessAllowed ? 'block' : 'none';\n",
              "\n",
              "        async function convertToInteractive(key) {\n",
              "          const element = document.querySelector('#df-c9362071-37eb-4b1b-acdf-83d80bc0c87d');\n",
              "          const dataTable =\n",
              "            await google.colab.kernel.invokeFunction('convertToInteractive',\n",
              "                                                     [key], {});\n",
              "          if (!dataTable) return;\n",
              "\n",
              "          const docLinkHtml = 'Like what you see? Visit the ' +\n",
              "            '<a target=\"_blank\" href=https://colab.research.google.com/notebooks/data_table.ipynb>data table notebook</a>'\n",
              "            + ' to learn more about interactive tables.';\n",
              "          element.innerHTML = '';\n",
              "          dataTable['output_type'] = 'display_data';\n",
              "          await google.colab.output.renderOutput(dataTable, element);\n",
              "          const docLink = document.createElement('div');\n",
              "          docLink.innerHTML = docLinkHtml;\n",
              "          element.appendChild(docLink);\n",
              "        }\n",
              "      </script>\n",
              "    </div>\n",
              "  </div>\n",
              "  "
            ],
            "text/plain": [
              "    total_loc  blank_loc  comment_loc  code_and_comment_loc  executable_loc  \\\n",
              "0          16          6            2                     1               8   \n",
              "1          31         12            3                     2              16   \n",
              "2         477        104           89                     2             284   \n",
              "3          11          2            0                     0               9   \n",
              "4           9          2            0                     0               7   \n",
              "5          10          2            0                     0               8   \n",
              "6           5          0            0                     0               5   \n",
              "7          28          5            1                     0              22   \n",
              "8          26          6            0                     0              20   \n",
              "9          15          4            0                     0              11   \n",
              "10         22          4            1                     0              17   \n",
              "11         10          4            0                     0               6   \n",
              "12         23          5            1                     0              17   \n",
              "13         86         22            8                     3              56   \n",
              "14        115         17            1                     1              97   \n",
              "15        150         43            5                     1             102   \n",
              "16         47         14           17                     0              16   \n",
              "17         35         13           15                     0               7   \n",
              "18         65         18            9                     0              38   \n",
              "19         29          4            1                     0              24   \n",
              "20         42         13            0                     0              29   \n",
              "21         14          3            0                     0              11   \n",
              "22         29          8            0                     0              21   \n",
              "23        151         38           13                     4             100   \n",
              "24         42          8            3                     0              31   \n",
              "25        208         38           28                     4             142   \n",
              "26         48          9            8                     4              31   \n",
              "27        135         44           20                     2              71   \n",
              "28        125         25           12                     4              88   \n",
              "29         14          2            0                     0              12   \n",
              "30        147         32           10                     4             105   \n",
              "31        214         55           38                     8             121   \n",
              "32        112         23            7                     3              82   \n",
              "33        110         29           11                     3              70   \n",
              "34         49         14            7                     3              28   \n",
              "\n",
              "    unique_operands  unique_operators  total_operands  total_operators  \\\n",
              "0                13                 6              18               20   \n",
              "1                18                 9              31               42   \n",
              "2               150                29             482              699   \n",
              "3                10                 4              15               17   \n",
              "4                 7                 4              11               13   \n",
              "5                 7                 4              13               15   \n",
              "6                 5                 3               5                9   \n",
              "7                18                12              49               53   \n",
              "8                16                11              41               44   \n",
              "9                11                 5              19               22   \n",
              "10               17                 9              25               36   \n",
              "11                9                 6              24               23   \n",
              "12               15                10              43               58   \n",
              "13               31                11              76              113   \n",
              "14               35                16             154              204   \n",
              "15               79                16             184              229   \n",
              "16               45                 5              50               52   \n",
              "17               26                 4              29               31   \n",
              "18               43                10              92              110   \n",
              "19               27                 5              55               57   \n",
              "20               27                14              65               85   \n",
              "21               14                 7              34               43   \n",
              "22               18                 8              36               46   \n",
              "23               64                28             189              285   \n",
              "24               18                11              40               59   \n",
              "25               70                17             259              371   \n",
              "26               28                14              56               88   \n",
              "27               87                23             203              258   \n",
              "28               62                27             153              229   \n",
              "29               13                11              18               29   \n",
              "30               46                17             165              247   \n",
              "31               71                23             221              309   \n",
              "32               35                23             226              305   \n",
              "33               48                23             135              182   \n",
              "34               23                16              53               74   \n",
              "\n",
              "    halstead_vocabulary  ...  condition_count  multiple_condition_count  \\\n",
              "0                    19  ...                0                         0   \n",
              "1                    27  ...                5                         0   \n",
              "2                   179  ...              116                        25   \n",
              "3                    14  ...                0                         0   \n",
              "4                    11  ...                0                         0   \n",
              "5                    11  ...                0                         0   \n",
              "6                     8  ...                0                         0   \n",
              "7                    30  ...                3                         1   \n",
              "8                    27  ...                1                         0   \n",
              "9                    16  ...                0                         0   \n",
              "10                   26  ...                1                         0   \n",
              "11                   15  ...                0                         0   \n",
              "12                   25  ...                8                         4   \n",
              "13                   42  ...               11                         4   \n",
              "14                   51  ...               25                         4   \n",
              "15                   95  ...               21                         7   \n",
              "16                   50  ...                0                         0   \n",
              "17                   30  ...                0                         0   \n",
              "18                   53  ...               10                         0   \n",
              "19                   32  ...                0                         0   \n",
              "20                   41  ...                8                         2   \n",
              "21                   21  ...               13                         6   \n",
              "22                   26  ...                4                         1   \n",
              "23                   92  ...               29                         3   \n",
              "24                   29  ...                8                         4   \n",
              "25                   87  ...               52                        12   \n",
              "26                   42  ...               16                         5   \n",
              "27                  110  ...               35                        10   \n",
              "28                   89  ...               33                         6   \n",
              "29                   24  ...                4                         0   \n",
              "30                   63  ...               46                         8   \n",
              "31                   94  ...               54                        17   \n",
              "32                   58  ...               43                        15   \n",
              "33                   71  ...               26                         7   \n",
              "34                   39  ...               11                         3   \n",
              "\n",
              "    cyclomatic_complexity  cyclomatic_density  decision_density  \\\n",
              "0                       2            0.250000            0.0000   \n",
              "1                       6            0.375000            1.0000   \n",
              "2                      93            0.327460            1.0172   \n",
              "3                       1            0.111110            0.0000   \n",
              "4                       1            0.142860            0.0000   \n",
              "5                       1            0.125000            0.0000   \n",
              "6                       1            0.200000            0.0000   \n",
              "7                       4            0.181820            1.3333   \n",
              "8                       3            0.150000            2.0000   \n",
              "9                       1            0.090909            0.0000   \n",
              "10                      3            0.176470            2.0000   \n",
              "11                      1            0.166670            0.0000   \n",
              "12                      5            0.294120            1.0000   \n",
              "13                      9            0.160710            1.0909   \n",
              "14                     21            0.216490            1.0400   \n",
              "15                     18            0.176470            1.1429   \n",
              "16                      1            0.062500            0.0000   \n",
              "17                      1            0.142860            0.0000   \n",
              "18                     11            0.289470            1.0000   \n",
              "19                      1            0.041667            0.0000   \n",
              "20                      8            0.275860            1.1250   \n",
              "21                      8            0.727270            1.0000   \n",
              "22                      4            0.190480            1.0000   \n",
              "23                     29            0.290000            1.1034   \n",
              "24                      5            0.161290            1.0000   \n",
              "25                     41            0.288730            1.0000   \n",
              "26                     12            0.387100            1.0000   \n",
              "27                     26            0.366200            1.0000   \n",
              "28                     29            0.329550            1.0606   \n",
              "29                      5            0.416670            1.0000   \n",
              "30                     38            0.361900            1.0000   \n",
              "31                     37            0.305790            1.0000   \n",
              "32                     30            0.365850            1.0465   \n",
              "33                     21            0.300000            1.0385   \n",
              "34                      9            0.321430            1.0000   \n",
              "\n",
              "    design_complexity  design_density  normalized_cyclomatic_complexity  \\\n",
              "0                   1        0.500000                          0.125000   \n",
              "1                   1        0.166670                          0.193550   \n",
              "2                   4        0.043011                          0.194970   \n",
              "3                   2        2.000000                          0.090909   \n",
              "4                   1        1.000000                          0.111110   \n",
              "5                   2        2.000000                          0.100000   \n",
              "6                   3        3.000000                          0.200000   \n",
              "7                   2        0.500000                          0.142860   \n",
              "8                   2        0.666670                          0.115380   \n",
              "9                   7        7.000000                          0.066667   \n",
              "10                  7        2.333300                          0.136360   \n",
              "11                  3        3.000000                          0.100000   \n",
              "12                  4        0.800000                          0.217390   \n",
              "13                  3        0.333330                          0.104650   \n",
              "14                  2        0.095238                          0.182610   \n",
              "15                 13        0.722220                          0.120000   \n",
              "16                  0        0.000000                          0.021277   \n",
              "17                  0        0.000000                          0.028571   \n",
              "18                 14        1.272700                          0.169230   \n",
              "19                 10       10.000000                          0.034483   \n",
              "20                  0        0.000000                          0.190480   \n",
              "21                  1        0.125000                          0.571430   \n",
              "22                  2        0.500000                          0.137930   \n",
              "23                  0        0.000000                          0.192050   \n",
              "24                  0        0.000000                          0.119050   \n",
              "25                 17        0.414630                          0.197120   \n",
              "26                  6        0.500000                          0.250000   \n",
              "27                  4        0.153850                          0.192590   \n",
              "28                  9        0.310340                          0.232000   \n",
              "29                  1        0.200000                          0.357140   \n",
              "30                  0        0.000000                          0.258500   \n",
              "31                  4        0.108110                          0.172900   \n",
              "32                  1        0.033333                          0.267860   \n",
              "33                  1        0.047619                          0.190910   \n",
              "34                  0        0.000000                          0.183670   \n",
              "\n",
              "    formal_parameters  problems  \n",
              "0                   1     False  \n",
              "1                   0     False  \n",
              "2                   0      True  \n",
              "3                   0     False  \n",
              "4                   0     False  \n",
              "5                   0     False  \n",
              "6                   0     False  \n",
              "7                   1     False  \n",
              "8                   0     False  \n",
              "9                   1     False  \n",
              "10                  2     False  \n",
              "11                  2     False  \n",
              "12                  1     False  \n",
              "13                  0     False  \n",
              "14                  0     False  \n",
              "15                  0      True  \n",
              "16                  0     False  \n",
              "17                  0     False  \n",
              "18                  0     False  \n",
              "19                  0     False  \n",
              "20                  0     False  \n",
              "21                  0     False  \n",
              "22                  0     False  \n",
              "23                  0     False  \n",
              "24                  0     False  \n",
              "25                  0      True  \n",
              "26                  0     False  \n",
              "27                  0      True  \n",
              "28                  0      True  \n",
              "29                  0     False  \n",
              "30                  0     False  \n",
              "31                  0      True  \n",
              "32                  0     False  \n",
              "33                  0      True  \n",
              "34                  0      True  \n",
              "\n",
              "[35 rows x 30 columns]"
            ]
          },
          "execution_count": 2701,
          "metadata": {},
          "output_type": "execute_result"
        }
      ],
      "source": [
        "ar5_df"
      ]
    },
    {
      "cell_type": "markdown",
      "metadata": {
        "id": "jehXeN-dri8y"
      },
      "source": [
        "####**Spiliting Dataset**\n",
        "training: 80% testing:20%"
      ]
    },
    {
      "cell_type": "code",
      "execution_count": null,
      "metadata": {
        "colab": {
          "background_save": true
        },
        "id": "4jY4sO75rq_q"
      },
      "outputs": [],
      "source": [
        "x = ar5_df.iloc[:,:-1]\n",
        "y = ar5_df.iloc[:,-1]\n",
        "\n",
        "from sklearn.model_selection import train_test_split\n",
        "x_train, x_test, y_train, y_test = train_test_split(x,y,test_size=0.20,random_state=0, stratify=ar5_df.problems)\n",
        "\n",
        "from sklearn.preprocessing import StandardScaler    \n",
        "st_x= StandardScaler()    \n",
        "x_train= st_x.fit_transform(x_train)    \n",
        "x_test= st_x.transform(x_test)  "
      ]
    },
    {
      "cell_type": "markdown",
      "metadata": {
        "id": "q4eJuw5urZeq"
      },
      "source": [
        "###**Logistic Regression**"
      ]
    },
    {
      "cell_type": "code",
      "execution_count": null,
      "metadata": {
        "colab": {
          "background_save": true
        },
        "id": "4CqlKKS1w2ny",
        "outputId": "11075fac-4bf6-4fd8-d6ae-04376aef59c8"
      },
      "outputs": [
        {
          "name": "stdout",
          "output_type": "stream",
          "text": [
            "Test Accuracy Score:  0.8571428571428571\n",
            "Confusion Matrix: \n",
            " [[4 1]\n",
            " [0 2]]\n"
          ]
        }
      ],
      "source": [
        "from sklearn.linear_model import LogisticRegression  \n",
        "classifier= LogisticRegression(random_state=0)  \n",
        "classifier.fit(x_train, y_train) \n",
        "\n",
        "y_pred= classifier.predict(x_test)\n",
        "\n",
        "score_ = accuracy_score(y_test, y_pred)\n",
        "print(\"Test Accuracy Score: \", score_)\n",
        "\n",
        "from sklearn.metrics import confusion_matrix  \n",
        "cm= confusion_matrix(y_test,y_pred)\n",
        "print(\"Confusion Matrix: \\n\",cm)"
      ]
    },
    {
      "cell_type": "code",
      "execution_count": null,
      "metadata": {
        "colab": {
          "background_save": true
        },
        "id": "-VtexrtaEO-3",
        "outputId": "b08739a1-9b62-4fb6-9df8-49c47c33b089"
      },
      "outputs": [
        {
          "name": "stderr",
          "output_type": "stream",
          "text": [
            "/usr/local/lib/python3.8/dist-packages/sklearn/linear_model/_logistic.py:814: ConvergenceWarning: lbfgs failed to converge (status=1):\n",
            "STOP: TOTAL NO. of ITERATIONS REACHED LIMIT.\n",
            "\n",
            "Increase the number of iterations (max_iter) or scale the data as shown in:\n",
            "    https://scikit-learn.org/stable/modules/preprocessing.html\n",
            "Please also refer to the documentation for alternative solver options:\n",
            "    https://scikit-learn.org/stable/modules/linear_model.html#logistic-regression\n",
            "  n_iter_i = _check_optimize_result(\n",
            "/usr/local/lib/python3.8/dist-packages/sklearn/linear_model/_logistic.py:814: ConvergenceWarning: lbfgs failed to converge (status=1):\n",
            "STOP: TOTAL NO. of ITERATIONS REACHED LIMIT.\n",
            "\n",
            "Increase the number of iterations (max_iter) or scale the data as shown in:\n",
            "    https://scikit-learn.org/stable/modules/preprocessing.html\n",
            "Please also refer to the documentation for alternative solver options:\n",
            "    https://scikit-learn.org/stable/modules/linear_model.html#logistic-regression\n",
            "  n_iter_i = _check_optimize_result(\n"
          ]
        }
      ],
      "source": [
        "sk_folds = StratifiedKFold(n_splits = 2)\n",
        "scores = cross_val_score(classifier, x, y, cv = sk_folds)"
      ]
    },
    {
      "cell_type": "code",
      "execution_count": null,
      "metadata": {
        "colab": {
          "background_save": true
        },
        "id": "Xbd-mo_gEO-5",
        "outputId": "405023ef-5185-4a27-9903-8adfe7d6b8f1"
      },
      "outputs": [
        {
          "name": "stdout",
          "output_type": "stream",
          "text": [
            "Test Accuracy Score:  [0.88888889 0.76470588]\n"
          ]
        }
      ],
      "source": [
        "print(\"Test Accuracy Score: \", scores)"
      ]
    },
    {
      "cell_type": "code",
      "execution_count": null,
      "metadata": {
        "colab": {
          "background_save": true
        },
        "id": "9toQqtSi1GnJ",
        "outputId": "d51c6254-d04e-4643-9feb-a61b24925892"
      },
      "outputs": [
        {
          "name": "stdout",
          "output_type": "stream",
          "text": [
            "Average CV Score:  0.826797385620915\n",
            "Test Accuracy Score:  [0.88888889 0.76470588]\n"
          ]
        }
      ],
      "source": [
        "print(\"Average CV Score: \", scores.mean())\n",
        "print(\"Test Accuracy Score: \", scores)"
      ]
    },
    {
      "cell_type": "code",
      "execution_count": null,
      "metadata": {
        "colab": {
          "background_save": true
        },
        "id": "Jptq6jT8EO-5",
        "outputId": "038c67bd-0818-428a-ebd9-485319b959d6"
      },
      "outputs": [
        {
          "name": "stderr",
          "output_type": "stream",
          "text": [
            "/usr/local/lib/python3.8/dist-packages/sklearn/linear_model/_logistic.py:814: ConvergenceWarning: lbfgs failed to converge (status=1):\n",
            "STOP: TOTAL NO. of ITERATIONS REACHED LIMIT.\n",
            "\n",
            "Increase the number of iterations (max_iter) or scale the data as shown in:\n",
            "    https://scikit-learn.org/stable/modules/preprocessing.html\n",
            "Please also refer to the documentation for alternative solver options:\n",
            "    https://scikit-learn.org/stable/modules/linear_model.html#logistic-regression\n",
            "  n_iter_i = _check_optimize_result(\n",
            "/usr/local/lib/python3.8/dist-packages/sklearn/linear_model/_logistic.py:814: ConvergenceWarning: lbfgs failed to converge (status=1):\n",
            "STOP: TOTAL NO. of ITERATIONS REACHED LIMIT.\n",
            "\n",
            "Increase the number of iterations (max_iter) or scale the data as shown in:\n",
            "    https://scikit-learn.org/stable/modules/preprocessing.html\n",
            "Please also refer to the documentation for alternative solver options:\n",
            "    https://scikit-learn.org/stable/modules/linear_model.html#logistic-regression\n",
            "  n_iter_i = _check_optimize_result(\n",
            "/usr/local/lib/python3.8/dist-packages/sklearn/linear_model/_logistic.py:814: ConvergenceWarning: lbfgs failed to converge (status=1):\n",
            "STOP: TOTAL NO. of ITERATIONS REACHED LIMIT.\n",
            "\n",
            "Increase the number of iterations (max_iter) or scale the data as shown in:\n",
            "    https://scikit-learn.org/stable/modules/preprocessing.html\n",
            "Please also refer to the documentation for alternative solver options:\n",
            "    https://scikit-learn.org/stable/modules/linear_model.html#logistic-regression\n",
            "  n_iter_i = _check_optimize_result(\n"
          ]
        }
      ],
      "source": [
        "sk_folds = StratifiedKFold(n_splits = 3)\n",
        "scores = cross_val_score(classifier, x, y, cv = sk_folds)"
      ]
    },
    {
      "cell_type": "code",
      "execution_count": null,
      "metadata": {
        "colab": {
          "background_save": true
        },
        "id": "f2-ZD0zxEO-6",
        "outputId": "7d92b63c-1b3b-4697-fa15-2aa71c43d28a"
      },
      "outputs": [
        {
          "name": "stdout",
          "output_type": "stream",
          "text": [
            "Test Accuracy Score:  [0.83333333 0.83333333 0.72727273]\n"
          ]
        }
      ],
      "source": [
        "print(\"Test Accuracy Score: \", scores)"
      ]
    },
    {
      "cell_type": "code",
      "execution_count": null,
      "metadata": {
        "colab": {
          "background_save": true
        },
        "id": "Tn0E09171F7r",
        "outputId": "c376931f-52f3-47cd-ae13-c66261ce05eb"
      },
      "outputs": [
        {
          "name": "stdout",
          "output_type": "stream",
          "text": [
            "Average CV Score:  0.797979797979798\n",
            "Test Accuracy Score:  [0.83333333 0.83333333 0.72727273]\n"
          ]
        }
      ],
      "source": [
        "print(\"Average CV Score: \", scores.mean())\n",
        "print(\"Test Accuracy Score: \", scores)"
      ]
    },
    {
      "cell_type": "code",
      "execution_count": null,
      "metadata": {
        "colab": {
          "background_save": true
        },
        "id": "iTsiZO7-EO-6",
        "outputId": "8473d374-e210-45e3-c20c-013b0f67aaac"
      },
      "outputs": [
        {
          "name": "stderr",
          "output_type": "stream",
          "text": [
            "/usr/local/lib/python3.8/dist-packages/sklearn/linear_model/_logistic.py:814: ConvergenceWarning: lbfgs failed to converge (status=1):\n",
            "STOP: TOTAL NO. of ITERATIONS REACHED LIMIT.\n",
            "\n",
            "Increase the number of iterations (max_iter) or scale the data as shown in:\n",
            "    https://scikit-learn.org/stable/modules/preprocessing.html\n",
            "Please also refer to the documentation for alternative solver options:\n",
            "    https://scikit-learn.org/stable/modules/linear_model.html#logistic-regression\n",
            "  n_iter_i = _check_optimize_result(\n",
            "/usr/local/lib/python3.8/dist-packages/sklearn/linear_model/_logistic.py:814: ConvergenceWarning: lbfgs failed to converge (status=1):\n",
            "STOP: TOTAL NO. of ITERATIONS REACHED LIMIT.\n",
            "\n",
            "Increase the number of iterations (max_iter) or scale the data as shown in:\n",
            "    https://scikit-learn.org/stable/modules/preprocessing.html\n",
            "Please also refer to the documentation for alternative solver options:\n",
            "    https://scikit-learn.org/stable/modules/linear_model.html#logistic-regression\n",
            "  n_iter_i = _check_optimize_result(\n",
            "/usr/local/lib/python3.8/dist-packages/sklearn/linear_model/_logistic.py:814: ConvergenceWarning: lbfgs failed to converge (status=1):\n",
            "STOP: TOTAL NO. of ITERATIONS REACHED LIMIT.\n",
            "\n",
            "Increase the number of iterations (max_iter) or scale the data as shown in:\n",
            "    https://scikit-learn.org/stable/modules/preprocessing.html\n",
            "Please also refer to the documentation for alternative solver options:\n",
            "    https://scikit-learn.org/stable/modules/linear_model.html#logistic-regression\n",
            "  n_iter_i = _check_optimize_result(\n"
          ]
        }
      ],
      "source": [
        "sk_folds = StratifiedKFold(n_splits = 4)\n",
        "scores = cross_val_score(classifier, x, y, cv = sk_folds)"
      ]
    },
    {
      "cell_type": "code",
      "execution_count": null,
      "metadata": {
        "colab": {
          "background_save": true
        },
        "id": "OCvFlMgBEO-7",
        "outputId": "e3a88899-bab5-451c-fcb3-db431b74e13d"
      },
      "outputs": [
        {
          "name": "stdout",
          "output_type": "stream",
          "text": [
            "Test Accuracy Score:  [1.         0.88888889 0.66666667 0.625     ]\n"
          ]
        }
      ],
      "source": [
        "print(\"Test Accuracy Score: \", scores)"
      ]
    },
    {
      "cell_type": "code",
      "execution_count": null,
      "metadata": {
        "colab": {
          "background_save": true
        },
        "id": "w9o1Rj4x1Enz",
        "outputId": "d1719d95-7c2b-46ba-d0cf-75819591c210"
      },
      "outputs": [
        {
          "name": "stdout",
          "output_type": "stream",
          "text": [
            "Average CV Score:  0.7951388888888888\n",
            "Test Accuracy Score:  [1.         0.88888889 0.66666667 0.625     ]\n"
          ]
        }
      ],
      "source": [
        "print(\"Average CV Score: \", scores.mean())\n",
        "print(\"Test Accuracy Score: \", scores)"
      ]
    },
    {
      "cell_type": "code",
      "execution_count": null,
      "metadata": {
        "colab": {
          "background_save": true
        },
        "id": "uAVKx-cPEO-7",
        "outputId": "409caaab-ae6a-43c9-90f4-782a82a45161"
      },
      "outputs": [
        {
          "name": "stderr",
          "output_type": "stream",
          "text": [
            "/usr/local/lib/python3.8/dist-packages/sklearn/linear_model/_logistic.py:814: ConvergenceWarning: lbfgs failed to converge (status=1):\n",
            "STOP: TOTAL NO. of ITERATIONS REACHED LIMIT.\n",
            "\n",
            "Increase the number of iterations (max_iter) or scale the data as shown in:\n",
            "    https://scikit-learn.org/stable/modules/preprocessing.html\n",
            "Please also refer to the documentation for alternative solver options:\n",
            "    https://scikit-learn.org/stable/modules/linear_model.html#logistic-regression\n",
            "  n_iter_i = _check_optimize_result(\n",
            "/usr/local/lib/python3.8/dist-packages/sklearn/linear_model/_logistic.py:814: ConvergenceWarning: lbfgs failed to converge (status=1):\n",
            "STOP: TOTAL NO. of ITERATIONS REACHED LIMIT.\n",
            "\n",
            "Increase the number of iterations (max_iter) or scale the data as shown in:\n",
            "    https://scikit-learn.org/stable/modules/preprocessing.html\n",
            "Please also refer to the documentation for alternative solver options:\n",
            "    https://scikit-learn.org/stable/modules/linear_model.html#logistic-regression\n",
            "  n_iter_i = _check_optimize_result(\n",
            "/usr/local/lib/python3.8/dist-packages/sklearn/linear_model/_logistic.py:814: ConvergenceWarning: lbfgs failed to converge (status=1):\n",
            "STOP: TOTAL NO. of ITERATIONS REACHED LIMIT.\n",
            "\n",
            "Increase the number of iterations (max_iter) or scale the data as shown in:\n",
            "    https://scikit-learn.org/stable/modules/preprocessing.html\n",
            "Please also refer to the documentation for alternative solver options:\n",
            "    https://scikit-learn.org/stable/modules/linear_model.html#logistic-regression\n",
            "  n_iter_i = _check_optimize_result(\n",
            "/usr/local/lib/python3.8/dist-packages/sklearn/linear_model/_logistic.py:814: ConvergenceWarning: lbfgs failed to converge (status=1):\n",
            "STOP: TOTAL NO. of ITERATIONS REACHED LIMIT.\n",
            "\n",
            "Increase the number of iterations (max_iter) or scale the data as shown in:\n",
            "    https://scikit-learn.org/stable/modules/preprocessing.html\n",
            "Please also refer to the documentation for alternative solver options:\n",
            "    https://scikit-learn.org/stable/modules/linear_model.html#logistic-regression\n",
            "  n_iter_i = _check_optimize_result(\n"
          ]
        }
      ],
      "source": [
        "sk_folds = StratifiedKFold(n_splits = 5)\n",
        "scores = cross_val_score(classifier, x, y, cv = sk_folds)"
      ]
    },
    {
      "cell_type": "code",
      "execution_count": null,
      "metadata": {
        "colab": {
          "background_save": true
        },
        "id": "5c9W_ZRTEO-7",
        "outputId": "730f5402-f0a2-4b8a-fc85-29e61abad65a"
      },
      "outputs": [
        {
          "name": "stdout",
          "output_type": "stream",
          "text": [
            "Test Accuracy Score:  [1.         1.         0.57142857 0.85714286 0.71428571]\n"
          ]
        }
      ],
      "source": [
        "print(\"Test Accuracy Score: \", scores)"
      ]
    },
    {
      "cell_type": "code",
      "execution_count": null,
      "metadata": {
        "colab": {
          "background_save": true
        },
        "id": "uSMw9S1e1D9g",
        "outputId": "89f87e04-9160-47c3-ff25-86e84b0e05d6"
      },
      "outputs": [
        {
          "name": "stdout",
          "output_type": "stream",
          "text": [
            "Average CV Score:  0.8285714285714285\n",
            "Test Accuracy Score:  [1.         1.         0.57142857 0.85714286 0.71428571]\n"
          ]
        }
      ],
      "source": [
        "print(\"Average CV Score: \", scores.mean())\n",
        "print(\"Test Accuracy Score: \", scores)"
      ]
    },
    {
      "cell_type": "code",
      "execution_count": null,
      "metadata": {
        "colab": {
          "background_save": true
        },
        "id": "DHwuumveEO-8",
        "outputId": "936b5542-2312-4452-f7d9-fae1036ad809"
      },
      "outputs": [
        {
          "name": "stderr",
          "output_type": "stream",
          "text": [
            "/usr/local/lib/python3.8/dist-packages/sklearn/linear_model/_logistic.py:814: ConvergenceWarning: lbfgs failed to converge (status=1):\n",
            "STOP: TOTAL NO. of ITERATIONS REACHED LIMIT.\n",
            "\n",
            "Increase the number of iterations (max_iter) or scale the data as shown in:\n",
            "    https://scikit-learn.org/stable/modules/preprocessing.html\n",
            "Please also refer to the documentation for alternative solver options:\n",
            "    https://scikit-learn.org/stable/modules/linear_model.html#logistic-regression\n",
            "  n_iter_i = _check_optimize_result(\n",
            "/usr/local/lib/python3.8/dist-packages/sklearn/linear_model/_logistic.py:814: ConvergenceWarning: lbfgs failed to converge (status=1):\n",
            "STOP: TOTAL NO. of ITERATIONS REACHED LIMIT.\n",
            "\n",
            "Increase the number of iterations (max_iter) or scale the data as shown in:\n",
            "    https://scikit-learn.org/stable/modules/preprocessing.html\n",
            "Please also refer to the documentation for alternative solver options:\n",
            "    https://scikit-learn.org/stable/modules/linear_model.html#logistic-regression\n",
            "  n_iter_i = _check_optimize_result(\n",
            "/usr/local/lib/python3.8/dist-packages/sklearn/linear_model/_logistic.py:814: ConvergenceWarning: lbfgs failed to converge (status=1):\n",
            "STOP: TOTAL NO. of ITERATIONS REACHED LIMIT.\n",
            "\n",
            "Increase the number of iterations (max_iter) or scale the data as shown in:\n",
            "    https://scikit-learn.org/stable/modules/preprocessing.html\n",
            "Please also refer to the documentation for alternative solver options:\n",
            "    https://scikit-learn.org/stable/modules/linear_model.html#logistic-regression\n",
            "  n_iter_i = _check_optimize_result(\n",
            "/usr/local/lib/python3.8/dist-packages/sklearn/linear_model/_logistic.py:814: ConvergenceWarning: lbfgs failed to converge (status=1):\n",
            "STOP: TOTAL NO. of ITERATIONS REACHED LIMIT.\n",
            "\n",
            "Increase the number of iterations (max_iter) or scale the data as shown in:\n",
            "    https://scikit-learn.org/stable/modules/preprocessing.html\n",
            "Please also refer to the documentation for alternative solver options:\n",
            "    https://scikit-learn.org/stable/modules/linear_model.html#logistic-regression\n",
            "  n_iter_i = _check_optimize_result(\n",
            "/usr/local/lib/python3.8/dist-packages/sklearn/linear_model/_logistic.py:814: ConvergenceWarning: lbfgs failed to converge (status=1):\n",
            "STOP: TOTAL NO. of ITERATIONS REACHED LIMIT.\n",
            "\n",
            "Increase the number of iterations (max_iter) or scale the data as shown in:\n",
            "    https://scikit-learn.org/stable/modules/preprocessing.html\n",
            "Please also refer to the documentation for alternative solver options:\n",
            "    https://scikit-learn.org/stable/modules/linear_model.html#logistic-regression\n",
            "  n_iter_i = _check_optimize_result(\n",
            "/usr/local/lib/python3.8/dist-packages/sklearn/linear_model/_logistic.py:814: ConvergenceWarning: lbfgs failed to converge (status=1):\n",
            "STOP: TOTAL NO. of ITERATIONS REACHED LIMIT.\n",
            "\n",
            "Increase the number of iterations (max_iter) or scale the data as shown in:\n",
            "    https://scikit-learn.org/stable/modules/preprocessing.html\n",
            "Please also refer to the documentation for alternative solver options:\n",
            "    https://scikit-learn.org/stable/modules/linear_model.html#logistic-regression\n",
            "  n_iter_i = _check_optimize_result(\n"
          ]
        }
      ],
      "source": [
        "sk_folds = StratifiedKFold(n_splits = 6)\n",
        "scores = cross_val_score(classifier, x, y, cv = sk_folds)"
      ]
    },
    {
      "cell_type": "code",
      "execution_count": null,
      "metadata": {
        "colab": {
          "background_save": true
        },
        "id": "CZYAY1diEO-8",
        "outputId": "ad8e2bea-7602-4a66-e1a3-a459a57a75fb"
      },
      "outputs": [
        {
          "name": "stdout",
          "output_type": "stream",
          "text": [
            "Test Accuracy Score:  [1.         1.         0.83333333 1.         0.83333333 0.6       ]\n"
          ]
        }
      ],
      "source": [
        "print(\"Test Accuracy Score: \", scores)"
      ]
    },
    {
      "cell_type": "code",
      "execution_count": null,
      "metadata": {
        "colab": {
          "background_save": true
        },
        "id": "tkLpGxUk1DfJ",
        "outputId": "c4ed2026-c07e-497e-964a-80afb41f516b"
      },
      "outputs": [
        {
          "name": "stdout",
          "output_type": "stream",
          "text": [
            "Average CV Score:  0.8777777777777778\n",
            "Test Accuracy Score:  [1.         1.         0.83333333 1.         0.83333333 0.6       ]\n"
          ]
        }
      ],
      "source": [
        "print(\"Average CV Score: \", scores.mean())\n",
        "print(\"Test Accuracy Score: \", scores)"
      ]
    },
    {
      "cell_type": "code",
      "execution_count": null,
      "metadata": {
        "colab": {
          "background_save": true
        },
        "id": "b9uNYiVnEO-8",
        "outputId": "e2f8fc43-d6dd-45d8-afa6-e9f32d33d0a5"
      },
      "outputs": [
        {
          "name": "stderr",
          "output_type": "stream",
          "text": [
            "/usr/local/lib/python3.8/dist-packages/sklearn/linear_model/_logistic.py:814: ConvergenceWarning: lbfgs failed to converge (status=1):\n",
            "STOP: TOTAL NO. of ITERATIONS REACHED LIMIT.\n",
            "\n",
            "Increase the number of iterations (max_iter) or scale the data as shown in:\n",
            "    https://scikit-learn.org/stable/modules/preprocessing.html\n",
            "Please also refer to the documentation for alternative solver options:\n",
            "    https://scikit-learn.org/stable/modules/linear_model.html#logistic-regression\n",
            "  n_iter_i = _check_optimize_result(\n",
            "/usr/local/lib/python3.8/dist-packages/sklearn/linear_model/_logistic.py:814: ConvergenceWarning: lbfgs failed to converge (status=1):\n",
            "STOP: TOTAL NO. of ITERATIONS REACHED LIMIT.\n",
            "\n",
            "Increase the number of iterations (max_iter) or scale the data as shown in:\n",
            "    https://scikit-learn.org/stable/modules/preprocessing.html\n",
            "Please also refer to the documentation for alternative solver options:\n",
            "    https://scikit-learn.org/stable/modules/linear_model.html#logistic-regression\n",
            "  n_iter_i = _check_optimize_result(\n",
            "/usr/local/lib/python3.8/dist-packages/sklearn/linear_model/_logistic.py:814: ConvergenceWarning: lbfgs failed to converge (status=1):\n",
            "STOP: TOTAL NO. of ITERATIONS REACHED LIMIT.\n",
            "\n",
            "Increase the number of iterations (max_iter) or scale the data as shown in:\n",
            "    https://scikit-learn.org/stable/modules/preprocessing.html\n",
            "Please also refer to the documentation for alternative solver options:\n",
            "    https://scikit-learn.org/stable/modules/linear_model.html#logistic-regression\n",
            "  n_iter_i = _check_optimize_result(\n",
            "/usr/local/lib/python3.8/dist-packages/sklearn/linear_model/_logistic.py:814: ConvergenceWarning: lbfgs failed to converge (status=1):\n",
            "STOP: TOTAL NO. of ITERATIONS REACHED LIMIT.\n",
            "\n",
            "Increase the number of iterations (max_iter) or scale the data as shown in:\n",
            "    https://scikit-learn.org/stable/modules/preprocessing.html\n",
            "Please also refer to the documentation for alternative solver options:\n",
            "    https://scikit-learn.org/stable/modules/linear_model.html#logistic-regression\n",
            "  n_iter_i = _check_optimize_result(\n",
            "/usr/local/lib/python3.8/dist-packages/sklearn/linear_model/_logistic.py:814: ConvergenceWarning: lbfgs failed to converge (status=1):\n",
            "STOP: TOTAL NO. of ITERATIONS REACHED LIMIT.\n",
            "\n",
            "Increase the number of iterations (max_iter) or scale the data as shown in:\n",
            "    https://scikit-learn.org/stable/modules/preprocessing.html\n",
            "Please also refer to the documentation for alternative solver options:\n",
            "    https://scikit-learn.org/stable/modules/linear_model.html#logistic-regression\n",
            "  n_iter_i = _check_optimize_result(\n",
            "/usr/local/lib/python3.8/dist-packages/sklearn/linear_model/_logistic.py:814: ConvergenceWarning: lbfgs failed to converge (status=1):\n",
            "STOP: TOTAL NO. of ITERATIONS REACHED LIMIT.\n",
            "\n",
            "Increase the number of iterations (max_iter) or scale the data as shown in:\n",
            "    https://scikit-learn.org/stable/modules/preprocessing.html\n",
            "Please also refer to the documentation for alternative solver options:\n",
            "    https://scikit-learn.org/stable/modules/linear_model.html#logistic-regression\n",
            "  n_iter_i = _check_optimize_result(\n",
            "/usr/local/lib/python3.8/dist-packages/sklearn/linear_model/_logistic.py:814: ConvergenceWarning: lbfgs failed to converge (status=1):\n",
            "STOP: TOTAL NO. of ITERATIONS REACHED LIMIT.\n",
            "\n",
            "Increase the number of iterations (max_iter) or scale the data as shown in:\n",
            "    https://scikit-learn.org/stable/modules/preprocessing.html\n",
            "Please also refer to the documentation for alternative solver options:\n",
            "    https://scikit-learn.org/stable/modules/linear_model.html#logistic-regression\n",
            "  n_iter_i = _check_optimize_result(\n"
          ]
        }
      ],
      "source": [
        "sk_folds = StratifiedKFold(n_splits = 7)\n",
        "scores = cross_val_score(classifier, x, y, cv = sk_folds)"
      ]
    },
    {
      "cell_type": "code",
      "execution_count": null,
      "metadata": {
        "colab": {
          "background_save": true
        },
        "id": "H7qd8YdVEO-9",
        "outputId": "095780a1-8123-482c-b837-0e2af4e712c8"
      },
      "outputs": [
        {
          "name": "stdout",
          "output_type": "stream",
          "text": [
            "Test Accuracy Score:  [1.  1.  0.8 0.6 1.  0.8 0.6]\n"
          ]
        }
      ],
      "source": [
        "print(\"Test Accuracy Score: \", scores)"
      ]
    },
    {
      "cell_type": "code",
      "execution_count": null,
      "metadata": {
        "colab": {
          "background_save": true
        },
        "id": "azJOFHax1Csn",
        "outputId": "ff47764b-3078-4ed7-efb0-d981a1f22713"
      },
      "outputs": [
        {
          "name": "stdout",
          "output_type": "stream",
          "text": [
            "Average CV Score:  0.8285714285714285\n",
            "Test Accuracy Score:  [1.  1.  0.8 0.6 1.  0.8 0.6]\n"
          ]
        }
      ],
      "source": [
        "print(\"Average CV Score: \", scores.mean())\n",
        "print(\"Test Accuracy Score: \", scores)"
      ]
    },
    {
      "cell_type": "code",
      "execution_count": null,
      "metadata": {
        "colab": {
          "background_save": true
        },
        "id": "CyE8eM6LEO-9",
        "outputId": "ac8c6ab1-23a8-4a02-909a-80c5970b048d"
      },
      "outputs": [
        {
          "name": "stderr",
          "output_type": "stream",
          "text": [
            "/usr/local/lib/python3.8/dist-packages/sklearn/linear_model/_logistic.py:814: ConvergenceWarning: lbfgs failed to converge (status=1):\n",
            "STOP: TOTAL NO. of ITERATIONS REACHED LIMIT.\n",
            "\n",
            "Increase the number of iterations (max_iter) or scale the data as shown in:\n",
            "    https://scikit-learn.org/stable/modules/preprocessing.html\n",
            "Please also refer to the documentation for alternative solver options:\n",
            "    https://scikit-learn.org/stable/modules/linear_model.html#logistic-regression\n",
            "  n_iter_i = _check_optimize_result(\n",
            "/usr/local/lib/python3.8/dist-packages/sklearn/linear_model/_logistic.py:814: ConvergenceWarning: lbfgs failed to converge (status=1):\n",
            "STOP: TOTAL NO. of ITERATIONS REACHED LIMIT.\n",
            "\n",
            "Increase the number of iterations (max_iter) or scale the data as shown in:\n",
            "    https://scikit-learn.org/stable/modules/preprocessing.html\n",
            "Please also refer to the documentation for alternative solver options:\n",
            "    https://scikit-learn.org/stable/modules/linear_model.html#logistic-regression\n",
            "  n_iter_i = _check_optimize_result(\n",
            "/usr/local/lib/python3.8/dist-packages/sklearn/linear_model/_logistic.py:814: ConvergenceWarning: lbfgs failed to converge (status=1):\n",
            "STOP: TOTAL NO. of ITERATIONS REACHED LIMIT.\n",
            "\n",
            "Increase the number of iterations (max_iter) or scale the data as shown in:\n",
            "    https://scikit-learn.org/stable/modules/preprocessing.html\n",
            "Please also refer to the documentation for alternative solver options:\n",
            "    https://scikit-learn.org/stable/modules/linear_model.html#logistic-regression\n",
            "  n_iter_i = _check_optimize_result(\n",
            "/usr/local/lib/python3.8/dist-packages/sklearn/linear_model/_logistic.py:814: ConvergenceWarning: lbfgs failed to converge (status=1):\n",
            "STOP: TOTAL NO. of ITERATIONS REACHED LIMIT.\n",
            "\n",
            "Increase the number of iterations (max_iter) or scale the data as shown in:\n",
            "    https://scikit-learn.org/stable/modules/preprocessing.html\n",
            "Please also refer to the documentation for alternative solver options:\n",
            "    https://scikit-learn.org/stable/modules/linear_model.html#logistic-regression\n",
            "  n_iter_i = _check_optimize_result(\n",
            "/usr/local/lib/python3.8/dist-packages/sklearn/linear_model/_logistic.py:814: ConvergenceWarning: lbfgs failed to converge (status=1):\n",
            "STOP: TOTAL NO. of ITERATIONS REACHED LIMIT.\n",
            "\n",
            "Increase the number of iterations (max_iter) or scale the data as shown in:\n",
            "    https://scikit-learn.org/stable/modules/preprocessing.html\n",
            "Please also refer to the documentation for alternative solver options:\n",
            "    https://scikit-learn.org/stable/modules/linear_model.html#logistic-regression\n",
            "  n_iter_i = _check_optimize_result(\n",
            "/usr/local/lib/python3.8/dist-packages/sklearn/linear_model/_logistic.py:814: ConvergenceWarning: lbfgs failed to converge (status=1):\n",
            "STOP: TOTAL NO. of ITERATIONS REACHED LIMIT.\n",
            "\n",
            "Increase the number of iterations (max_iter) or scale the data as shown in:\n",
            "    https://scikit-learn.org/stable/modules/preprocessing.html\n",
            "Please also refer to the documentation for alternative solver options:\n",
            "    https://scikit-learn.org/stable/modules/linear_model.html#logistic-regression\n",
            "  n_iter_i = _check_optimize_result(\n",
            "/usr/local/lib/python3.8/dist-packages/sklearn/linear_model/_logistic.py:814: ConvergenceWarning: lbfgs failed to converge (status=1):\n",
            "STOP: TOTAL NO. of ITERATIONS REACHED LIMIT.\n",
            "\n",
            "Increase the number of iterations (max_iter) or scale the data as shown in:\n",
            "    https://scikit-learn.org/stable/modules/preprocessing.html\n",
            "Please also refer to the documentation for alternative solver options:\n",
            "    https://scikit-learn.org/stable/modules/linear_model.html#logistic-regression\n",
            "  n_iter_i = _check_optimize_result(\n",
            "/usr/local/lib/python3.8/dist-packages/sklearn/linear_model/_logistic.py:814: ConvergenceWarning: lbfgs failed to converge (status=1):\n",
            "STOP: TOTAL NO. of ITERATIONS REACHED LIMIT.\n",
            "\n",
            "Increase the number of iterations (max_iter) or scale the data as shown in:\n",
            "    https://scikit-learn.org/stable/modules/preprocessing.html\n",
            "Please also refer to the documentation for alternative solver options:\n",
            "    https://scikit-learn.org/stable/modules/linear_model.html#logistic-regression\n",
            "  n_iter_i = _check_optimize_result(\n"
          ]
        }
      ],
      "source": [
        "sk_folds = StratifiedKFold(n_splits = 8)\n",
        "scores = cross_val_score(classifier, x, y, cv = sk_folds)"
      ]
    },
    {
      "cell_type": "code",
      "execution_count": null,
      "metadata": {
        "colab": {
          "background_save": true
        },
        "id": "dVrz95Sl1CVV",
        "outputId": "a88442ee-05dd-4f11-ca90-1e15b756146b"
      },
      "outputs": [
        {
          "name": "stdout",
          "output_type": "stream",
          "text": [
            "Average CV Score:  0.81875\n",
            "Test Accuracy Score:  [1.   1.   0.8  0.75 1.   1.   0.5  0.5 ]\n"
          ]
        }
      ],
      "source": [
        "print(\"Average CV Score: \", scores.mean())\n",
        "print(\"Test Accuracy Score: \", scores)"
      ]
    },
    {
      "cell_type": "code",
      "execution_count": null,
      "metadata": {
        "colab": {
          "background_save": true
        },
        "id": "Jr_GbkeKEO--",
        "outputId": "8840f7e9-a34e-4e6c-ced6-cf524586f5e0"
      },
      "outputs": [
        {
          "name": "stderr",
          "output_type": "stream",
          "text": [
            "/usr/local/lib/python3.8/dist-packages/sklearn/model_selection/_split.py:676: UserWarning: The least populated class in y has only 8 members, which is less than n_splits=9.\n",
            "  warnings.warn(\n",
            "/usr/local/lib/python3.8/dist-packages/sklearn/linear_model/_logistic.py:814: ConvergenceWarning: lbfgs failed to converge (status=1):\n",
            "STOP: TOTAL NO. of ITERATIONS REACHED LIMIT.\n",
            "\n",
            "Increase the number of iterations (max_iter) or scale the data as shown in:\n",
            "    https://scikit-learn.org/stable/modules/preprocessing.html\n",
            "Please also refer to the documentation for alternative solver options:\n",
            "    https://scikit-learn.org/stable/modules/linear_model.html#logistic-regression\n",
            "  n_iter_i = _check_optimize_result(\n",
            "/usr/local/lib/python3.8/dist-packages/sklearn/linear_model/_logistic.py:814: ConvergenceWarning: lbfgs failed to converge (status=1):\n",
            "STOP: TOTAL NO. of ITERATIONS REACHED LIMIT.\n",
            "\n",
            "Increase the number of iterations (max_iter) or scale the data as shown in:\n",
            "    https://scikit-learn.org/stable/modules/preprocessing.html\n",
            "Please also refer to the documentation for alternative solver options:\n",
            "    https://scikit-learn.org/stable/modules/linear_model.html#logistic-regression\n",
            "  n_iter_i = _check_optimize_result(\n",
            "/usr/local/lib/python3.8/dist-packages/sklearn/linear_model/_logistic.py:814: ConvergenceWarning: lbfgs failed to converge (status=1):\n",
            "STOP: TOTAL NO. of ITERATIONS REACHED LIMIT.\n",
            "\n",
            "Increase the number of iterations (max_iter) or scale the data as shown in:\n",
            "    https://scikit-learn.org/stable/modules/preprocessing.html\n",
            "Please also refer to the documentation for alternative solver options:\n",
            "    https://scikit-learn.org/stable/modules/linear_model.html#logistic-regression\n",
            "  n_iter_i = _check_optimize_result(\n",
            "/usr/local/lib/python3.8/dist-packages/sklearn/linear_model/_logistic.py:814: ConvergenceWarning: lbfgs failed to converge (status=1):\n",
            "STOP: TOTAL NO. of ITERATIONS REACHED LIMIT.\n",
            "\n",
            "Increase the number of iterations (max_iter) or scale the data as shown in:\n",
            "    https://scikit-learn.org/stable/modules/preprocessing.html\n",
            "Please also refer to the documentation for alternative solver options:\n",
            "    https://scikit-learn.org/stable/modules/linear_model.html#logistic-regression\n",
            "  n_iter_i = _check_optimize_result(\n",
            "/usr/local/lib/python3.8/dist-packages/sklearn/linear_model/_logistic.py:814: ConvergenceWarning: lbfgs failed to converge (status=1):\n",
            "STOP: TOTAL NO. of ITERATIONS REACHED LIMIT.\n",
            "\n",
            "Increase the number of iterations (max_iter) or scale the data as shown in:\n",
            "    https://scikit-learn.org/stable/modules/preprocessing.html\n",
            "Please also refer to the documentation for alternative solver options:\n",
            "    https://scikit-learn.org/stable/modules/linear_model.html#logistic-regression\n",
            "  n_iter_i = _check_optimize_result(\n",
            "/usr/local/lib/python3.8/dist-packages/sklearn/linear_model/_logistic.py:814: ConvergenceWarning: lbfgs failed to converge (status=1):\n",
            "STOP: TOTAL NO. of ITERATIONS REACHED LIMIT.\n",
            "\n",
            "Increase the number of iterations (max_iter) or scale the data as shown in:\n",
            "    https://scikit-learn.org/stable/modules/preprocessing.html\n",
            "Please also refer to the documentation for alternative solver options:\n",
            "    https://scikit-learn.org/stable/modules/linear_model.html#logistic-regression\n",
            "  n_iter_i = _check_optimize_result(\n",
            "/usr/local/lib/python3.8/dist-packages/sklearn/linear_model/_logistic.py:814: ConvergenceWarning: lbfgs failed to converge (status=1):\n",
            "STOP: TOTAL NO. of ITERATIONS REACHED LIMIT.\n",
            "\n",
            "Increase the number of iterations (max_iter) or scale the data as shown in:\n",
            "    https://scikit-learn.org/stable/modules/preprocessing.html\n",
            "Please also refer to the documentation for alternative solver options:\n",
            "    https://scikit-learn.org/stable/modules/linear_model.html#logistic-regression\n",
            "  n_iter_i = _check_optimize_result(\n",
            "/usr/local/lib/python3.8/dist-packages/sklearn/linear_model/_logistic.py:814: ConvergenceWarning: lbfgs failed to converge (status=1):\n",
            "STOP: TOTAL NO. of ITERATIONS REACHED LIMIT.\n",
            "\n",
            "Increase the number of iterations (max_iter) or scale the data as shown in:\n",
            "    https://scikit-learn.org/stable/modules/preprocessing.html\n",
            "Please also refer to the documentation for alternative solver options:\n",
            "    https://scikit-learn.org/stable/modules/linear_model.html#logistic-regression\n",
            "  n_iter_i = _check_optimize_result(\n",
            "/usr/local/lib/python3.8/dist-packages/sklearn/linear_model/_logistic.py:814: ConvergenceWarning: lbfgs failed to converge (status=1):\n",
            "STOP: TOTAL NO. of ITERATIONS REACHED LIMIT.\n",
            "\n",
            "Increase the number of iterations (max_iter) or scale the data as shown in:\n",
            "    https://scikit-learn.org/stable/modules/preprocessing.html\n",
            "Please also refer to the documentation for alternative solver options:\n",
            "    https://scikit-learn.org/stable/modules/linear_model.html#logistic-regression\n",
            "  n_iter_i = _check_optimize_result(\n"
          ]
        }
      ],
      "source": [
        "sk_folds = StratifiedKFold(n_splits = 9)\n",
        "scores = cross_val_score(classifier, x, y, cv = sk_folds)"
      ]
    },
    {
      "cell_type": "code",
      "execution_count": null,
      "metadata": {
        "colab": {
          "background_save": true
        },
        "id": "onG55zxNEO--",
        "outputId": "3ea90013-72d9-461f-cb4b-da6441f469e3"
      },
      "outputs": [
        {
          "name": "stdout",
          "output_type": "stream",
          "text": [
            "Test Accuracy Score:  [1.         1.         0.75       1.         0.75       1.\n",
            " 1.         0.5        0.66666667]\n"
          ]
        }
      ],
      "source": [
        "print(\"Test Accuracy Score: \", scores)"
      ]
    },
    {
      "cell_type": "code",
      "execution_count": null,
      "metadata": {
        "colab": {
          "background_save": true
        },
        "id": "QiRh72kt1CAR",
        "outputId": "d5ab2838-e806-4878-a2bd-7b4ba98acaaf"
      },
      "outputs": [
        {
          "name": "stdout",
          "output_type": "stream",
          "text": [
            "Average CV Score:  0.8518518518518519\n",
            "Test Accuracy Score:  [1.         1.         0.75       1.         0.75       1.\n",
            " 1.         0.5        0.66666667]\n"
          ]
        }
      ],
      "source": [
        "print(\"Average CV Score: \", scores.mean())\n",
        "print(\"Test Accuracy Score: \", scores)"
      ]
    },
    {
      "cell_type": "code",
      "execution_count": null,
      "metadata": {
        "colab": {
          "background_save": true
        },
        "id": "SakXXZTgEO--",
        "outputId": "7f718945-4a66-40d9-e26b-a0c8b036acd1"
      },
      "outputs": [
        {
          "name": "stderr",
          "output_type": "stream",
          "text": [
            "/usr/local/lib/python3.8/dist-packages/sklearn/model_selection/_split.py:676: UserWarning: The least populated class in y has only 8 members, which is less than n_splits=10.\n",
            "  warnings.warn(\n",
            "/usr/local/lib/python3.8/dist-packages/sklearn/linear_model/_logistic.py:814: ConvergenceWarning: lbfgs failed to converge (status=1):\n",
            "STOP: TOTAL NO. of ITERATIONS REACHED LIMIT.\n",
            "\n",
            "Increase the number of iterations (max_iter) or scale the data as shown in:\n",
            "    https://scikit-learn.org/stable/modules/preprocessing.html\n",
            "Please also refer to the documentation for alternative solver options:\n",
            "    https://scikit-learn.org/stable/modules/linear_model.html#logistic-regression\n",
            "  n_iter_i = _check_optimize_result(\n",
            "/usr/local/lib/python3.8/dist-packages/sklearn/linear_model/_logistic.py:814: ConvergenceWarning: lbfgs failed to converge (status=1):\n",
            "STOP: TOTAL NO. of ITERATIONS REACHED LIMIT.\n",
            "\n",
            "Increase the number of iterations (max_iter) or scale the data as shown in:\n",
            "    https://scikit-learn.org/stable/modules/preprocessing.html\n",
            "Please also refer to the documentation for alternative solver options:\n",
            "    https://scikit-learn.org/stable/modules/linear_model.html#logistic-regression\n",
            "  n_iter_i = _check_optimize_result(\n",
            "/usr/local/lib/python3.8/dist-packages/sklearn/linear_model/_logistic.py:814: ConvergenceWarning: lbfgs failed to converge (status=1):\n",
            "STOP: TOTAL NO. of ITERATIONS REACHED LIMIT.\n",
            "\n",
            "Increase the number of iterations (max_iter) or scale the data as shown in:\n",
            "    https://scikit-learn.org/stable/modules/preprocessing.html\n",
            "Please also refer to the documentation for alternative solver options:\n",
            "    https://scikit-learn.org/stable/modules/linear_model.html#logistic-regression\n",
            "  n_iter_i = _check_optimize_result(\n",
            "/usr/local/lib/python3.8/dist-packages/sklearn/linear_model/_logistic.py:814: ConvergenceWarning: lbfgs failed to converge (status=1):\n",
            "STOP: TOTAL NO. of ITERATIONS REACHED LIMIT.\n",
            "\n",
            "Increase the number of iterations (max_iter) or scale the data as shown in:\n",
            "    https://scikit-learn.org/stable/modules/preprocessing.html\n",
            "Please also refer to the documentation for alternative solver options:\n",
            "    https://scikit-learn.org/stable/modules/linear_model.html#logistic-regression\n",
            "  n_iter_i = _check_optimize_result(\n",
            "/usr/local/lib/python3.8/dist-packages/sklearn/linear_model/_logistic.py:814: ConvergenceWarning: lbfgs failed to converge (status=1):\n",
            "STOP: TOTAL NO. of ITERATIONS REACHED LIMIT.\n",
            "\n",
            "Increase the number of iterations (max_iter) or scale the data as shown in:\n",
            "    https://scikit-learn.org/stable/modules/preprocessing.html\n",
            "Please also refer to the documentation for alternative solver options:\n",
            "    https://scikit-learn.org/stable/modules/linear_model.html#logistic-regression\n",
            "  n_iter_i = _check_optimize_result(\n",
            "/usr/local/lib/python3.8/dist-packages/sklearn/linear_model/_logistic.py:814: ConvergenceWarning: lbfgs failed to converge (status=1):\n",
            "STOP: TOTAL NO. of ITERATIONS REACHED LIMIT.\n",
            "\n",
            "Increase the number of iterations (max_iter) or scale the data as shown in:\n",
            "    https://scikit-learn.org/stable/modules/preprocessing.html\n",
            "Please also refer to the documentation for alternative solver options:\n",
            "    https://scikit-learn.org/stable/modules/linear_model.html#logistic-regression\n",
            "  n_iter_i = _check_optimize_result(\n",
            "/usr/local/lib/python3.8/dist-packages/sklearn/linear_model/_logistic.py:814: ConvergenceWarning: lbfgs failed to converge (status=1):\n",
            "STOP: TOTAL NO. of ITERATIONS REACHED LIMIT.\n",
            "\n",
            "Increase the number of iterations (max_iter) or scale the data as shown in:\n",
            "    https://scikit-learn.org/stable/modules/preprocessing.html\n",
            "Please also refer to the documentation for alternative solver options:\n",
            "    https://scikit-learn.org/stable/modules/linear_model.html#logistic-regression\n",
            "  n_iter_i = _check_optimize_result(\n",
            "/usr/local/lib/python3.8/dist-packages/sklearn/linear_model/_logistic.py:814: ConvergenceWarning: lbfgs failed to converge (status=1):\n",
            "STOP: TOTAL NO. of ITERATIONS REACHED LIMIT.\n",
            "\n",
            "Increase the number of iterations (max_iter) or scale the data as shown in:\n",
            "    https://scikit-learn.org/stable/modules/preprocessing.html\n",
            "Please also refer to the documentation for alternative solver options:\n",
            "    https://scikit-learn.org/stable/modules/linear_model.html#logistic-regression\n",
            "  n_iter_i = _check_optimize_result(\n",
            "/usr/local/lib/python3.8/dist-packages/sklearn/linear_model/_logistic.py:814: ConvergenceWarning: lbfgs failed to converge (status=1):\n",
            "STOP: TOTAL NO. of ITERATIONS REACHED LIMIT.\n",
            "\n",
            "Increase the number of iterations (max_iter) or scale the data as shown in:\n",
            "    https://scikit-learn.org/stable/modules/preprocessing.html\n",
            "Please also refer to the documentation for alternative solver options:\n",
            "    https://scikit-learn.org/stable/modules/linear_model.html#logistic-regression\n",
            "  n_iter_i = _check_optimize_result(\n",
            "/usr/local/lib/python3.8/dist-packages/sklearn/linear_model/_logistic.py:814: ConvergenceWarning: lbfgs failed to converge (status=1):\n",
            "STOP: TOTAL NO. of ITERATIONS REACHED LIMIT.\n",
            "\n",
            "Increase the number of iterations (max_iter) or scale the data as shown in:\n",
            "    https://scikit-learn.org/stable/modules/preprocessing.html\n",
            "Please also refer to the documentation for alternative solver options:\n",
            "    https://scikit-learn.org/stable/modules/linear_model.html#logistic-regression\n",
            "  n_iter_i = _check_optimize_result(\n"
          ]
        }
      ],
      "source": [
        "sk_folds = StratifiedKFold(n_splits = 10)\n",
        "scores = cross_val_score(classifier, x, y, cv = sk_folds)"
      ]
    },
    {
      "cell_type": "code",
      "execution_count": null,
      "metadata": {
        "colab": {
          "background_save": true
        },
        "id": "Vm1bVntEEO-_",
        "outputId": "853dc979-36ac-4a75-add8-faf028bbed0d"
      },
      "outputs": [
        {
          "name": "stdout",
          "output_type": "stream",
          "text": [
            "Test Accuracy Score:  [1.         1.         0.75       1.         0.75       1.\n",
            " 1.         0.66666667 0.33333333 0.33333333]\n"
          ]
        }
      ],
      "source": [
        "print(\"Test Accuracy Score: \", scores)"
      ]
    },
    {
      "cell_type": "code",
      "execution_count": null,
      "metadata": {
        "colab": {
          "background_save": true
        },
        "id": "SCSDLyHQ1Bqj",
        "outputId": "f7b24d77-04df-477b-9713-8e1e310aa1d9"
      },
      "outputs": [
        {
          "name": "stdout",
          "output_type": "stream",
          "text": [
            "Average CV Score:  0.7833333333333332\n",
            "Test Accuracy Score:  [1.         1.         0.75       1.         0.75       1.\n",
            " 1.         0.66666667 0.33333333 0.33333333]\n"
          ]
        }
      ],
      "source": [
        "print(\"Average CV Score: \", scores.mean())\n",
        "print(\"Test Accuracy Score: \", scores)"
      ]
    },
    {
      "cell_type": "markdown",
      "metadata": {
        "id": "o-ENy6Fdw2nz"
      },
      "source": [
        "###**Support Vector Machine Algorithm**"
      ]
    },
    {
      "cell_type": "code",
      "execution_count": null,
      "metadata": {
        "colab": {
          "background_save": true
        },
        "id": "0fZWFoqew2nz",
        "outputId": "9564191f-1756-4027-8b1f-0c2b7cf624ad"
      },
      "outputs": [
        {
          "data": {
            "text/plain": [
              "SVC(random_state=0)"
            ]
          },
          "execution_count": 2730,
          "metadata": {},
          "output_type": "execute_result"
        }
      ],
      "source": [
        "from sklearn.svm import SVC # \"Support vector classifier\"  \n",
        "classifier = SVC(kernel='rbf', random_state=0)  \n",
        "classifier.fit(x_train, y_train)  "
      ]
    },
    {
      "cell_type": "code",
      "execution_count": null,
      "metadata": {
        "colab": {
          "background_save": true
        },
        "id": "3oxG-HjMw2nz"
      },
      "outputs": [],
      "source": [
        "#Predicting the test set result  \n",
        "y_pred= classifier.predict(x_test)  "
      ]
    },
    {
      "cell_type": "code",
      "execution_count": null,
      "metadata": {
        "colab": {
          "background_save": true
        },
        "id": "X6fpjFatw2nz",
        "outputId": "9ed19557-1d69-4f0f-89de-ae14ab7e57d6"
      },
      "outputs": [
        {
          "name": "stdout",
          "output_type": "stream",
          "text": [
            "[[5 0]\n",
            " [0 2]]\n"
          ]
        }
      ],
      "source": [
        "from sklearn.metrics import confusion_matrix  \n",
        "cm= confusion_matrix(y_test, y_pred)  \n",
        "print(cm)"
      ]
    },
    {
      "cell_type": "code",
      "execution_count": null,
      "metadata": {
        "colab": {
          "background_save": true
        },
        "id": "FqZDIVVqw2n0",
        "outputId": "1f28e98d-015e-4641-b230-59fc2500d411"
      },
      "outputs": [
        {
          "name": "stdout",
          "output_type": "stream",
          "text": [
            "Test Accuracy Score:  1.0\n"
          ]
        }
      ],
      "source": [
        "score_ = accuracy_score(y_test, y_pred)\n",
        "print(\"Test Accuracy Score: \", score_)"
      ]
    },
    {
      "cell_type": "code",
      "execution_count": null,
      "metadata": {
        "colab": {
          "background_save": true
        },
        "id": "VAK6CbGXEQia"
      },
      "outputs": [],
      "source": [
        "sk_folds = StratifiedKFold(n_splits = 2)\n",
        "scores = cross_val_score(classifier, x, y, cv = sk_folds)"
      ]
    },
    {
      "cell_type": "code",
      "execution_count": null,
      "metadata": {
        "colab": {
          "background_save": true
        },
        "id": "IJ368ssQEQia",
        "outputId": "587c9c45-06fe-453c-b7fa-db2dc9e5dc17"
      },
      "outputs": [
        {
          "name": "stdout",
          "output_type": "stream",
          "text": [
            "Test Accuracy Score:  [0.77777778 0.70588235]\n"
          ]
        }
      ],
      "source": [
        "print(\"Test Accuracy Score: \", scores)"
      ]
    },
    {
      "cell_type": "code",
      "execution_count": null,
      "metadata": {
        "colab": {
          "background_save": true
        },
        "id": "1EiPRpO51QQP",
        "outputId": "bf5d7295-04eb-4325-f963-650a9b0f72b5"
      },
      "outputs": [
        {
          "name": "stdout",
          "output_type": "stream",
          "text": [
            "Average CV Score:  0.7418300653594772\n",
            "Test Accuracy Score:  [0.77777778 0.70588235]\n"
          ]
        }
      ],
      "source": [
        "print(\"Average CV Score: \", scores.mean())\n",
        "print(\"Test Accuracy Score: \", scores)"
      ]
    },
    {
      "cell_type": "code",
      "execution_count": null,
      "metadata": {
        "colab": {
          "background_save": true
        },
        "id": "nwNW4Za2EQia"
      },
      "outputs": [],
      "source": [
        "sk_folds = StratifiedKFold(n_splits = 3)\n",
        "scores = cross_val_score(classifier, x, y, cv = sk_folds)"
      ]
    },
    {
      "cell_type": "code",
      "execution_count": null,
      "metadata": {
        "colab": {
          "background_save": true
        },
        "id": "YmY4Qr2MEQia",
        "outputId": "a6e6c15b-beb0-4091-d512-c7540a21d845"
      },
      "outputs": [
        {
          "name": "stdout",
          "output_type": "stream",
          "text": [
            "Test Accuracy Score:  [0.75       0.75       0.63636364]\n"
          ]
        }
      ],
      "source": [
        "print(\"Test Accuracy Score: \", scores)"
      ]
    },
    {
      "cell_type": "code",
      "execution_count": null,
      "metadata": {
        "colab": {
          "background_save": true
        },
        "id": "ulqj9f6H1P7b",
        "outputId": "67f8cf4c-af25-4218-f6d5-9441c204ae38"
      },
      "outputs": [
        {
          "name": "stdout",
          "output_type": "stream",
          "text": [
            "Average CV Score:  0.712121212121212\n",
            "Test Accuracy Score:  [0.75       0.75       0.63636364]\n"
          ]
        }
      ],
      "source": [
        "print(\"Average CV Score: \", scores.mean())\n",
        "print(\"Test Accuracy Score: \", scores)"
      ]
    },
    {
      "cell_type": "code",
      "execution_count": null,
      "metadata": {
        "colab": {
          "background_save": true
        },
        "id": "F7VvBbeeEQib"
      },
      "outputs": [],
      "source": [
        "sk_folds = StratifiedKFold(n_splits = 4)\n",
        "scores = cross_val_score(classifier, x, y, cv = sk_folds)"
      ]
    },
    {
      "cell_type": "code",
      "execution_count": null,
      "metadata": {
        "colab": {
          "background_save": true
        },
        "id": "UHfOTC35EQib",
        "outputId": "eeaf0b00-07a3-4d55-92b8-e84038743a6d"
      },
      "outputs": [
        {
          "name": "stdout",
          "output_type": "stream",
          "text": [
            "Test Accuracy Score:  [0.77777778 1.         0.77777778 0.5       ]\n"
          ]
        }
      ],
      "source": [
        "print(\"Test Accuracy Score: \", scores)"
      ]
    },
    {
      "cell_type": "code",
      "execution_count": null,
      "metadata": {
        "colab": {
          "background_save": true
        },
        "id": "WdlVilw01Pkn",
        "outputId": "1738ceda-1dab-4e05-972d-3f2badf9c37f"
      },
      "outputs": [
        {
          "name": "stdout",
          "output_type": "stream",
          "text": [
            "Average CV Score:  0.7638888888888888\n",
            "Test Accuracy Score:  [0.77777778 1.         0.77777778 0.5       ]\n"
          ]
        }
      ],
      "source": [
        "print(\"Average CV Score: \", scores.mean())\n",
        "print(\"Test Accuracy Score: \", scores)"
      ]
    },
    {
      "cell_type": "code",
      "execution_count": null,
      "metadata": {
        "colab": {
          "background_save": true
        },
        "id": "BMwF9NGLEQib"
      },
      "outputs": [],
      "source": [
        "sk_folds = StratifiedKFold(n_splits = 5)\n",
        "scores = cross_val_score(classifier, x, y, cv = sk_folds)"
      ]
    },
    {
      "cell_type": "code",
      "execution_count": null,
      "metadata": {
        "colab": {
          "background_save": true
        },
        "id": "wm-c3P1xEQib",
        "outputId": "4a1d5c1d-ebb1-49a9-ef94-23ca5a48d317"
      },
      "outputs": [
        {
          "name": "stdout",
          "output_type": "stream",
          "text": [
            "Test Accuracy Score:  [0.85714286 0.85714286 0.85714286 0.85714286 0.57142857]\n"
          ]
        }
      ],
      "source": [
        "print(\"Test Accuracy Score: \", scores)"
      ]
    },
    {
      "cell_type": "code",
      "execution_count": null,
      "metadata": {
        "colab": {
          "background_save": true
        },
        "id": "SG8FIhTA1PP9",
        "outputId": "028005fc-d6c7-41b3-e8fe-6ad1b148f67a"
      },
      "outputs": [
        {
          "name": "stdout",
          "output_type": "stream",
          "text": [
            "Average CV Score:  0.8\n",
            "Test Accuracy Score:  [0.85714286 0.85714286 0.85714286 0.85714286 0.57142857]\n"
          ]
        }
      ],
      "source": [
        "print(\"Average CV Score: \", scores.mean())\n",
        "print(\"Test Accuracy Score: \", scores)"
      ]
    },
    {
      "cell_type": "code",
      "execution_count": null,
      "metadata": {
        "colab": {
          "background_save": true
        },
        "id": "zO-jpiHAEQib"
      },
      "outputs": [],
      "source": [
        "sk_folds = StratifiedKFold(n_splits = 6)\n",
        "scores = cross_val_score(classifier, x, y, cv = sk_folds)"
      ]
    },
    {
      "cell_type": "code",
      "execution_count": null,
      "metadata": {
        "colab": {
          "background_save": true
        },
        "id": "W8MNHsD8EQib",
        "outputId": "f590497d-49ab-4dc8-ba4f-3b80766e08ac"
      },
      "outputs": [
        {
          "name": "stdout",
          "output_type": "stream",
          "text": [
            "Test Accuracy Score:  [0.83333333 0.83333333 0.83333333 0.66666667 0.83333333 0.4       ]\n"
          ]
        }
      ],
      "source": [
        "print(\"Test Accuracy Score: \", scores)"
      ]
    },
    {
      "cell_type": "code",
      "execution_count": null,
      "metadata": {
        "colab": {
          "background_save": true
        },
        "id": "VF0gp8De1NZd",
        "outputId": "aff51146-fa1c-48d9-bdf3-b9a477ad6784"
      },
      "outputs": [
        {
          "name": "stdout",
          "output_type": "stream",
          "text": [
            "Average CV Score:  0.7333333333333334\n",
            "Test Accuracy Score:  [0.83333333 0.83333333 0.83333333 0.66666667 0.83333333 0.4       ]\n"
          ]
        }
      ],
      "source": [
        "print(\"Average CV Score: \", scores.mean())\n",
        "print(\"Test Accuracy Score: \", scores)"
      ]
    },
    {
      "cell_type": "code",
      "execution_count": null,
      "metadata": {
        "colab": {
          "background_save": true
        },
        "id": "BrDlCx1EEQib"
      },
      "outputs": [],
      "source": [
        "sk_folds = StratifiedKFold(n_splits = 7)\n",
        "scores = cross_val_score(classifier, x, y, cv = sk_folds)"
      ]
    },
    {
      "cell_type": "code",
      "execution_count": null,
      "metadata": {
        "colab": {
          "background_save": true
        },
        "id": "ALuJ1aa6EQib",
        "outputId": "dc1fa23f-86f5-4650-a5cb-123c21df89cf"
      },
      "outputs": [
        {
          "name": "stdout",
          "output_type": "stream",
          "text": [
            "Test Accuracy Score:  [0.8 0.8 1.  0.8 1.  0.8 0.4]\n"
          ]
        }
      ],
      "source": [
        "print(\"Test Accuracy Score: \", scores)"
      ]
    },
    {
      "cell_type": "code",
      "execution_count": null,
      "metadata": {
        "colab": {
          "background_save": true
        },
        "id": "jjkUOslV1M8K",
        "outputId": "f0853192-f3b2-414e-f1be-f43890fb6ee1"
      },
      "outputs": [
        {
          "name": "stdout",
          "output_type": "stream",
          "text": [
            "Average CV Score:  0.8\n",
            "Test Accuracy Score:  [0.8 0.8 1.  0.8 1.  0.8 0.4]\n"
          ]
        }
      ],
      "source": [
        "print(\"Average CV Score: \", scores.mean())\n",
        "print(\"Test Accuracy Score: \", scores)"
      ]
    },
    {
      "cell_type": "code",
      "execution_count": null,
      "metadata": {
        "colab": {
          "background_save": true
        },
        "id": "_TOKi9xpEQib"
      },
      "outputs": [],
      "source": [
        "sk_folds = StratifiedKFold(n_splits = 8)\n",
        "scores = cross_val_score(classifier, x, y, cv = sk_folds)"
      ]
    },
    {
      "cell_type": "code",
      "execution_count": null,
      "metadata": {
        "colab": {
          "background_save": true
        },
        "id": "BkepuJsbv0Sv",
        "outputId": "03b955ef-be5f-4b09-b599-360da6ecc18c"
      },
      "outputs": [
        {
          "name": "stdout",
          "output_type": "stream",
          "text": [
            "Average CV Score:  0.79375\n",
            "Test Accuracy Score:  [0.8  0.8  1.   0.75 1.   1.   0.75 0.25]\n"
          ]
        }
      ],
      "source": [
        "print(\"Average CV Score: \", scores.mean())\n",
        "print(\"Test Accuracy Score: \", scores)"
      ]
    },
    {
      "cell_type": "code",
      "execution_count": null,
      "metadata": {
        "colab": {
          "background_save": true
        },
        "id": "2VZAuD1YEQic",
        "outputId": "8541344f-eb5f-49ae-b7d0-b54d3ca13d1d"
      },
      "outputs": [
        {
          "name": "stderr",
          "output_type": "stream",
          "text": [
            "/usr/local/lib/python3.8/dist-packages/sklearn/model_selection/_split.py:676: UserWarning: The least populated class in y has only 8 members, which is less than n_splits=9.\n",
            "  warnings.warn(\n"
          ]
        }
      ],
      "source": [
        "sk_folds = StratifiedKFold(n_splits = 9)\n",
        "scores = cross_val_score(classifier, x, y, cv = sk_folds)"
      ]
    },
    {
      "cell_type": "code",
      "execution_count": null,
      "metadata": {
        "colab": {
          "background_save": true
        },
        "id": "naKg_jsjEQic",
        "outputId": "12eb6509-2cf1-4b13-8a46-9e321f2f4f43"
      },
      "outputs": [
        {
          "name": "stdout",
          "output_type": "stream",
          "text": [
            "Test Accuracy Score:  [0.75       0.75       1.         1.         0.75       1.\n",
            " 1.         0.5        0.33333333]\n"
          ]
        }
      ],
      "source": [
        "print(\"Test Accuracy Score: \", scores)"
      ]
    },
    {
      "cell_type": "code",
      "execution_count": null,
      "metadata": {
        "colab": {
          "background_save": true
        },
        "id": "X02c0gQE1Mkh",
        "outputId": "91b06ab3-a4f8-45f7-eea3-3f5b4e115941"
      },
      "outputs": [
        {
          "name": "stdout",
          "output_type": "stream",
          "text": [
            "Average CV Score:  0.787037037037037\n",
            "Test Accuracy Score:  [0.75       0.75       1.         1.         0.75       1.\n",
            " 1.         0.5        0.33333333]\n"
          ]
        }
      ],
      "source": [
        "print(\"Average CV Score: \", scores.mean())\n",
        "print(\"Test Accuracy Score: \", scores)"
      ]
    },
    {
      "cell_type": "code",
      "execution_count": null,
      "metadata": {
        "colab": {
          "background_save": true
        },
        "id": "sNEn9FUqEQic",
        "outputId": "d96cc2e3-4bab-4ed3-a602-2df955eca6d3"
      },
      "outputs": [
        {
          "name": "stderr",
          "output_type": "stream",
          "text": [
            "/usr/local/lib/python3.8/dist-packages/sklearn/model_selection/_split.py:676: UserWarning: The least populated class in y has only 8 members, which is less than n_splits=10.\n",
            "  warnings.warn(\n"
          ]
        }
      ],
      "source": [
        "sk_folds = StratifiedKFold(n_splits = 10)\n",
        "scores = cross_val_score(classifier, x, y, cv = sk_folds)"
      ]
    },
    {
      "cell_type": "code",
      "execution_count": null,
      "metadata": {
        "colab": {
          "background_save": true
        },
        "id": "4fScsHD-EQic",
        "outputId": "6eb7941d-8d96-49fa-e0ba-3b9f298e5c1f"
      },
      "outputs": [
        {
          "name": "stdout",
          "output_type": "stream",
          "text": [
            "Test Accuracy Score:  [0.75       0.75       1.         1.         0.75       1.\n",
            " 1.         0.66666667 1.         0.        ]\n"
          ]
        }
      ],
      "source": [
        "print(\"Test Accuracy Score: \", scores)"
      ]
    },
    {
      "cell_type": "code",
      "execution_count": null,
      "metadata": {
        "colab": {
          "background_save": true
        },
        "id": "BvNMvy6Y1MO1",
        "outputId": "6cd87227-14eb-48ce-fcb8-1d6420877258"
      },
      "outputs": [
        {
          "name": "stdout",
          "output_type": "stream",
          "text": [
            "Average CV Score:  0.7916666666666666\n",
            "Test Accuracy Score:  [0.75       0.75       1.         1.         0.75       1.\n",
            " 1.         0.66666667 1.         0.        ]\n"
          ]
        }
      ],
      "source": [
        "print(\"Average CV Score: \", scores.mean())\n",
        "print(\"Test Accuracy Score: \", scores)"
      ]
    },
    {
      "cell_type": "markdown",
      "metadata": {
        "id": "fPPAFkQNw2n0"
      },
      "source": [
        "##**Decision Tree Algorithm**"
      ]
    },
    {
      "cell_type": "code",
      "execution_count": null,
      "metadata": {
        "colab": {
          "background_save": true
        },
        "id": "oTJWPr91w2n0",
        "outputId": "1c9b357a-af40-4700-f095-2954e12025f1"
      },
      "outputs": [
        {
          "data": {
            "text/plain": [
              "DecisionTreeClassifier(criterion='entropy', random_state=0)"
            ]
          },
          "execution_count": 2760,
          "metadata": {},
          "output_type": "execute_result"
        }
      ],
      "source": [
        "from sklearn.tree import DecisionTreeClassifier  \n",
        "classifier= DecisionTreeClassifier(criterion='entropy', random_state=0)  \n",
        "classifier.fit(x_train, y_train)  "
      ]
    },
    {
      "cell_type": "code",
      "execution_count": null,
      "metadata": {
        "colab": {
          "background_save": true
        },
        "id": "ha4Q6rszw2n1"
      },
      "outputs": [],
      "source": [
        "#Predicting the test set result  \n",
        "y_pred= classifier.predict(x_test)  "
      ]
    },
    {
      "cell_type": "code",
      "execution_count": null,
      "metadata": {
        "colab": {
          "background_save": true
        },
        "id": "0-TigxrLw2n1",
        "outputId": "c0346c6d-4bc7-46e9-d8ec-31b938c8bf4f"
      },
      "outputs": [
        {
          "name": "stdout",
          "output_type": "stream",
          "text": [
            "[[4 1]\n",
            " [0 2]]\n"
          ]
        }
      ],
      "source": [
        "#Creating the Confusion matrix  \n",
        "from sklearn.metrics import confusion_matrix  \n",
        "cm= confusion_matrix(y_test, y_pred) \n",
        "print(cm)"
      ]
    },
    {
      "cell_type": "code",
      "execution_count": null,
      "metadata": {
        "colab": {
          "background_save": true
        },
        "id": "lNa7v5DCw2n1",
        "outputId": "eaa3a4a8-7609-415d-a261-bf77ec7873e5"
      },
      "outputs": [
        {
          "name": "stdout",
          "output_type": "stream",
          "text": [
            "Test Accuracy Score:  0.8571428571428571\n"
          ]
        }
      ],
      "source": [
        "score_ = accuracy_score(y_test, y_pred)\n",
        "print(\"Test Accuracy Score: \", score_)"
      ]
    },
    {
      "cell_type": "code",
      "execution_count": null,
      "metadata": {
        "colab": {
          "background_save": true
        },
        "id": "oE8rWIi_ESJI"
      },
      "outputs": [],
      "source": [
        "sk_folds = StratifiedKFold(n_splits = 2)\n",
        "scores = cross_val_score(classifier, x, y, cv = sk_folds)"
      ]
    },
    {
      "cell_type": "code",
      "execution_count": null,
      "metadata": {
        "colab": {
          "background_save": true
        },
        "id": "QCe2NO4MESJJ",
        "outputId": "bf01cc30-b66c-40c8-acb7-e6ca6e71c2e9"
      },
      "outputs": [
        {
          "name": "stdout",
          "output_type": "stream",
          "text": [
            "Test Accuracy Score:  [0.83333333 0.82352941]\n"
          ]
        }
      ],
      "source": [
        "print(\"Test Accuracy Score: \", scores)"
      ]
    },
    {
      "cell_type": "code",
      "execution_count": null,
      "metadata": {
        "colab": {
          "background_save": true
        },
        "id": "OSzaFtAV1be2",
        "outputId": "f55ec8b3-f6a1-434e-b1c0-536d200ec5c8"
      },
      "outputs": [
        {
          "name": "stdout",
          "output_type": "stream",
          "text": [
            "Average CV Score:  0.8284313725490196\n",
            "Test Accuracy Score:  [0.83333333 0.82352941]\n"
          ]
        }
      ],
      "source": [
        "print(\"Average CV Score: \", scores.mean())\n",
        "print(\"Test Accuracy Score: \", scores)"
      ]
    },
    {
      "cell_type": "code",
      "execution_count": null,
      "metadata": {
        "colab": {
          "background_save": true
        },
        "id": "zpU_dEuwESJK"
      },
      "outputs": [],
      "source": [
        "sk_folds = StratifiedKFold(n_splits = 3)\n",
        "scores = cross_val_score(classifier, x, y, cv = sk_folds)"
      ]
    },
    {
      "cell_type": "code",
      "execution_count": null,
      "metadata": {
        "colab": {
          "background_save": true
        },
        "id": "C7Fk2JDXESJK",
        "outputId": "e0bdcb51-9613-41e1-c27f-0a237ad79f94"
      },
      "outputs": [
        {
          "name": "stdout",
          "output_type": "stream",
          "text": [
            "Test Accuracy Score:  [1.         0.75       0.72727273]\n"
          ]
        }
      ],
      "source": [
        "print(\"Test Accuracy Score: \", scores)"
      ]
    },
    {
      "cell_type": "code",
      "execution_count": null,
      "metadata": {
        "colab": {
          "background_save": true
        },
        "id": "3-mDr4aZ1a8E",
        "outputId": "77b9dde9-3d63-489e-bcdd-0b091cf2ba5b"
      },
      "outputs": [
        {
          "name": "stdout",
          "output_type": "stream",
          "text": [
            "Average CV Score:  0.8257575757575758\n",
            "Test Accuracy Score:  [1.         0.75       0.72727273]\n"
          ]
        }
      ],
      "source": [
        "print(\"Average CV Score: \", scores.mean())\n",
        "print(\"Test Accuracy Score: \", scores)"
      ]
    },
    {
      "cell_type": "code",
      "execution_count": null,
      "metadata": {
        "colab": {
          "background_save": true
        },
        "id": "H9OQaCvoESJL"
      },
      "outputs": [],
      "source": [
        "sk_folds = StratifiedKFold(n_splits = 4)\n",
        "scores = cross_val_score(classifier, x, y, cv = sk_folds)"
      ]
    },
    {
      "cell_type": "code",
      "execution_count": null,
      "metadata": {
        "colab": {
          "background_save": true
        },
        "id": "Lh2HykA0ESJL",
        "outputId": "8c73cea2-5389-41c7-a106-80e52321203e"
      },
      "outputs": [
        {
          "name": "stdout",
          "output_type": "stream",
          "text": [
            "Test Accuracy Score:  [0.88888889 0.88888889 0.66666667 0.625     ]\n"
          ]
        }
      ],
      "source": [
        "print(\"Test Accuracy Score: \", scores)"
      ]
    },
    {
      "cell_type": "code",
      "execution_count": null,
      "metadata": {
        "colab": {
          "background_save": true
        },
        "id": "bzd3_sWM1ZHF",
        "outputId": "9ca6bea6-a5b2-404d-cc74-0d0a9f82a2a6"
      },
      "outputs": [
        {
          "name": "stdout",
          "output_type": "stream",
          "text": [
            "Average CV Score:  0.767361111111111\n",
            "Test Accuracy Score:  [0.88888889 0.88888889 0.66666667 0.625     ]\n"
          ]
        }
      ],
      "source": [
        "print(\"Average CV Score: \", scores.mean())\n",
        "print(\"Test Accuracy Score: \", scores)"
      ]
    },
    {
      "cell_type": "code",
      "execution_count": null,
      "metadata": {
        "colab": {
          "background_save": true
        },
        "id": "t1-Dfw7EESJL"
      },
      "outputs": [],
      "source": [
        "sk_folds = StratifiedKFold(n_splits = 5)\n",
        "scores = cross_val_score(classifier, x, y, cv = sk_folds)"
      ]
    },
    {
      "cell_type": "code",
      "execution_count": null,
      "metadata": {
        "colab": {
          "background_save": true
        },
        "id": "u6S-4OWTESJM",
        "outputId": "7d167a95-e4db-4d0a-b119-2aafdb5d2940"
      },
      "outputs": [
        {
          "name": "stdout",
          "output_type": "stream",
          "text": [
            "Test Accuracy Score:  [0.85714286 0.85714286 0.57142857 0.85714286 0.71428571]\n"
          ]
        }
      ],
      "source": [
        "print(\"Test Accuracy Score: \", scores)"
      ]
    },
    {
      "cell_type": "code",
      "execution_count": null,
      "metadata": {
        "colab": {
          "background_save": true
        },
        "id": "DgpJKZw31YJA",
        "outputId": "50bbd3ce-ce0e-4726-83a8-fe6f6089917e"
      },
      "outputs": [
        {
          "name": "stdout",
          "output_type": "stream",
          "text": [
            "Average CV Score:  0.7714285714285715\n",
            "Test Accuracy Score:  [0.85714286 0.85714286 0.57142857 0.85714286 0.71428571]\n"
          ]
        }
      ],
      "source": [
        "print(\"Average CV Score: \", scores.mean())\n",
        "print(\"Test Accuracy Score: \", scores)"
      ]
    },
    {
      "cell_type": "code",
      "execution_count": null,
      "metadata": {
        "colab": {
          "background_save": true
        },
        "id": "_7BoCr0yESJM"
      },
      "outputs": [],
      "source": [
        "sk_folds = StratifiedKFold(n_splits = 6)\n",
        "scores = cross_val_score(classifier, x, y, cv = sk_folds)"
      ]
    },
    {
      "cell_type": "code",
      "execution_count": null,
      "metadata": {
        "colab": {
          "background_save": true
        },
        "id": "FRa6qhUHESJM",
        "outputId": "d6bbbce5-47cc-44cf-a94a-64fae4cf9e03"
      },
      "outputs": [
        {
          "name": "stdout",
          "output_type": "stream",
          "text": [
            "Test Accuracy Score:  [0.83333333 0.83333333 0.83333333 1.         0.66666667 0.8       ]\n"
          ]
        }
      ],
      "source": [
        "print(\"Test Accuracy Score: \", scores)"
      ]
    },
    {
      "cell_type": "code",
      "execution_count": null,
      "metadata": {
        "colab": {
          "background_save": true
        },
        "id": "ur-Ewy0Y1XaF",
        "outputId": "d823db7b-f765-4263-d72f-de69fa4c2b16"
      },
      "outputs": [
        {
          "name": "stdout",
          "output_type": "stream",
          "text": [
            "Average CV Score:  0.8277777777777778\n",
            "Test Accuracy Score:  [0.83333333 0.83333333 0.83333333 1.         0.66666667 0.8       ]\n"
          ]
        }
      ],
      "source": [
        "print(\"Average CV Score: \", scores.mean())\n",
        "print(\"Test Accuracy Score: \", scores)"
      ]
    },
    {
      "cell_type": "code",
      "execution_count": null,
      "metadata": {
        "colab": {
          "background_save": true
        },
        "id": "y0gfnAMMESJN"
      },
      "outputs": [],
      "source": [
        "sk_folds = StratifiedKFold(n_splits = 7)\n",
        "scores = cross_val_score(classifier, x, y, cv = sk_folds)"
      ]
    },
    {
      "cell_type": "code",
      "execution_count": null,
      "metadata": {
        "colab": {
          "background_save": true
        },
        "id": "YrMSnAPGESJN",
        "outputId": "017dfb8c-e653-4c8c-9d82-70d0412a8c5e"
      },
      "outputs": [
        {
          "name": "stdout",
          "output_type": "stream",
          "text": [
            "Test Accuracy Score:  [0.8 0.8 1.  0.8 0.8 0.8 0.6]\n"
          ]
        }
      ],
      "source": [
        "print(\"Test Accuracy Score: \", scores)"
      ]
    },
    {
      "cell_type": "code",
      "execution_count": null,
      "metadata": {
        "colab": {
          "background_save": true
        },
        "id": "S0vxN7Lt1WQ0",
        "outputId": "eaee396b-c62b-4d20-f5b0-206f0d90786b"
      },
      "outputs": [
        {
          "name": "stdout",
          "output_type": "stream",
          "text": [
            "Average CV Score:  0.7999999999999999\n",
            "Test Accuracy Score:  [0.8 0.8 1.  0.8 0.8 0.8 0.6]\n"
          ]
        }
      ],
      "source": [
        "print(\"Average CV Score: \", scores.mean())\n",
        "print(\"Test Accuracy Score: \", scores)"
      ]
    },
    {
      "cell_type": "code",
      "execution_count": null,
      "metadata": {
        "colab": {
          "background_save": true
        },
        "id": "5AI8hmn-ESJN"
      },
      "outputs": [],
      "source": [
        "sk_folds = StratifiedKFold(n_splits = 8)\n",
        "scores = cross_val_score(classifier, x, y, cv = sk_folds)"
      ]
    },
    {
      "cell_type": "code",
      "execution_count": null,
      "metadata": {
        "colab": {
          "background_save": true
        },
        "id": "AQgSmEnt1V7L",
        "outputId": "381fb9d7-a0d6-451b-dde9-b0b50d6215cd"
      },
      "outputs": [
        {
          "name": "stdout",
          "output_type": "stream",
          "text": [
            "Average CV Score:  0.825\n",
            "Test Accuracy Score:  [0.8  0.8  1.   0.75 1.   1.   0.5  0.75]\n"
          ]
        }
      ],
      "source": [
        "print(\"Average CV Score: \", scores.mean())\n",
        "print(\"Test Accuracy Score: \", scores)"
      ]
    },
    {
      "cell_type": "code",
      "execution_count": null,
      "metadata": {
        "colab": {
          "background_save": true
        },
        "id": "MPbmzbHPESJO",
        "outputId": "e0ca48c4-5072-4a69-e219-819476ae9181"
      },
      "outputs": [
        {
          "name": "stderr",
          "output_type": "stream",
          "text": [
            "/usr/local/lib/python3.8/dist-packages/sklearn/model_selection/_split.py:676: UserWarning: The least populated class in y has only 8 members, which is less than n_splits=9.\n",
            "  warnings.warn(\n"
          ]
        }
      ],
      "source": [
        "sk_folds = StratifiedKFold(n_splits = 9)\n",
        "scores = cross_val_score(classifier, x, y, cv = sk_folds)"
      ]
    },
    {
      "cell_type": "code",
      "execution_count": null,
      "metadata": {
        "colab": {
          "background_save": true
        },
        "id": "6HrbswH-ESJO",
        "outputId": "e7c39f4e-d1bb-483b-c68b-6721f0675283"
      },
      "outputs": [
        {
          "name": "stdout",
          "output_type": "stream",
          "text": [
            "Test Accuracy Score:  [0.75       0.75       1.         1.         0.75       1.\n",
            " 0.75       0.5        0.33333333]\n"
          ]
        }
      ],
      "source": [
        "print(\"Test Accuracy Score: \", scores)"
      ]
    },
    {
      "cell_type": "code",
      "execution_count": null,
      "metadata": {
        "colab": {
          "background_save": true
        },
        "id": "avQvBdHV1Uno",
        "outputId": "76f5aa94-32ae-412c-9e96-a57f9b4ac0a8"
      },
      "outputs": [
        {
          "name": "stdout",
          "output_type": "stream",
          "text": [
            "Average CV Score:  0.7592592592592592\n",
            "Test Accuracy Score:  [0.75       0.75       1.         1.         0.75       1.\n",
            " 0.75       0.5        0.33333333]\n"
          ]
        }
      ],
      "source": [
        "print(\"Average CV Score: \", scores.mean())\n",
        "print(\"Test Accuracy Score: \", scores)"
      ]
    },
    {
      "cell_type": "code",
      "execution_count": null,
      "metadata": {
        "colab": {
          "background_save": true
        },
        "id": "nm-cFye7ESJO",
        "outputId": "90f34038-5621-4641-e290-2e7136f979ff"
      },
      "outputs": [
        {
          "name": "stderr",
          "output_type": "stream",
          "text": [
            "/usr/local/lib/python3.8/dist-packages/sklearn/model_selection/_split.py:676: UserWarning: The least populated class in y has only 8 members, which is less than n_splits=10.\n",
            "  warnings.warn(\n"
          ]
        }
      ],
      "source": [
        "sk_folds = StratifiedKFold(n_splits = 10)\n",
        "scores = cross_val_score(classifier, x, y, cv = sk_folds)"
      ]
    },
    {
      "cell_type": "code",
      "execution_count": null,
      "metadata": {
        "colab": {
          "background_save": true
        },
        "id": "1lAjAFPhESJP",
        "outputId": "10dc2df8-196f-4417-99b5-3b3f5028b638"
      },
      "outputs": [
        {
          "name": "stdout",
          "output_type": "stream",
          "text": [
            "Test Accuracy Score:  [0.75       0.75       1.         1.         0.75       1.\n",
            " 1.         0.66666667 0.66666667 0.66666667]\n"
          ]
        }
      ],
      "source": [
        "print(\"Test Accuracy Score: \", scores)"
      ]
    },
    {
      "cell_type": "code",
      "execution_count": null,
      "metadata": {
        "colab": {
          "background_save": true
        },
        "id": "AcURuytjloLi",
        "outputId": "8f2f9171-26ce-473e-bf65-b544cd9443b5"
      },
      "outputs": [
        {
          "name": "stdout",
          "output_type": "stream",
          "text": [
            "Average CV Score:  0.825\n",
            "Test Accuracy Score:  [0.75       0.75       1.         1.         0.75       1.\n",
            " 1.         0.66666667 0.66666667 0.66666667]\n"
          ]
        }
      ],
      "source": [
        "print(\"Average CV Score: \", scores.mean())\n",
        "print(\"Test Accuracy Score: \", scores)"
      ]
    },
    {
      "cell_type": "markdown",
      "metadata": {
        "id": "5nvPYpelw2n1"
      },
      "source": [
        "##**Random Forest**"
      ]
    },
    {
      "cell_type": "code",
      "execution_count": null,
      "metadata": {
        "colab": {
          "background_save": true
        },
        "id": "mHQznnHyw2n2",
        "outputId": "a0ddc64e-70f2-40da-8867-ffacdb9e52ee"
      },
      "outputs": [
        {
          "data": {
            "text/plain": [
              "RandomForestClassifier(criterion='entropy', n_estimators=10)"
            ]
          },
          "execution_count": 2790,
          "metadata": {},
          "output_type": "execute_result"
        }
      ],
      "source": [
        "#Fitting Decision Tree classifier to the training set  \n",
        "from sklearn.ensemble import RandomForestClassifier  \n",
        "classifier= RandomForestClassifier(n_estimators= 10, criterion=\"entropy\")  \n",
        "classifier.fit(x_train, y_train)  "
      ]
    },
    {
      "cell_type": "code",
      "execution_count": null,
      "metadata": {
        "colab": {
          "background_save": true
        },
        "id": "109icezww2n2"
      },
      "outputs": [],
      "source": [
        "#Predicting the test set result  \n",
        "y_pred= classifier.predict(x_test)  "
      ]
    },
    {
      "cell_type": "code",
      "execution_count": null,
      "metadata": {
        "colab": {
          "background_save": true
        },
        "id": "yBfzCaxQw2n2",
        "outputId": "deb581db-5545-4997-821b-880b209f5c01"
      },
      "outputs": [
        {
          "name": "stdout",
          "output_type": "stream",
          "text": [
            "[[4 1]\n",
            " [0 2]]\n"
          ]
        }
      ],
      "source": [
        "#Creating the Confusion matrix  \n",
        "from sklearn.metrics import confusion_matrix  \n",
        "cm= confusion_matrix(y_test, y_pred)  \n",
        "print(cm)"
      ]
    },
    {
      "cell_type": "code",
      "execution_count": null,
      "metadata": {
        "colab": {
          "background_save": true
        },
        "id": "HbrCtajgw2n3",
        "outputId": "74cdda41-6ca5-4cfb-9e0f-f50032cb570e"
      },
      "outputs": [
        {
          "name": "stdout",
          "output_type": "stream",
          "text": [
            "Test Accuracy Score:  0.8571428571428571\n"
          ]
        }
      ],
      "source": [
        "score_ = accuracy_score(y_test, y_pred)\n",
        "print(\"Test Accuracy Score: \", score_)"
      ]
    },
    {
      "cell_type": "code",
      "execution_count": null,
      "metadata": {
        "colab": {
          "background_save": true
        },
        "id": "0b6_1MIaEUV7"
      },
      "outputs": [],
      "source": [
        "sk_folds = StratifiedKFold(n_splits = 2)\n",
        "scores = cross_val_score(classifier, x, y, cv = sk_folds)"
      ]
    },
    {
      "cell_type": "code",
      "execution_count": null,
      "metadata": {
        "colab": {
          "background_save": true
        },
        "id": "Lzr-iCiHEUV7",
        "outputId": "828f8e0b-3ff9-46f1-8285-b7573fb2efa3"
      },
      "outputs": [
        {
          "name": "stdout",
          "output_type": "stream",
          "text": [
            "Test Accuracy Score:  [0.94444444 0.70588235]\n"
          ]
        }
      ],
      "source": [
        "print(\"Test Accuracy Score: \", scores)"
      ]
    },
    {
      "cell_type": "code",
      "execution_count": null,
      "metadata": {
        "colab": {
          "background_save": true
        },
        "id": "rd2SPJHO1lxw",
        "outputId": "8ebe1154-1e8e-4643-d8a3-c5d11d241e74"
      },
      "outputs": [
        {
          "name": "stdout",
          "output_type": "stream",
          "text": [
            "Average CV Score:  0.8251633986928104\n",
            "Test Accuracy Score:  [0.94444444 0.70588235]\n"
          ]
        }
      ],
      "source": [
        "print(\"Average CV Score: \", scores.mean())\n",
        "print(\"Test Accuracy Score: \", scores)"
      ]
    },
    {
      "cell_type": "code",
      "execution_count": null,
      "metadata": {
        "colab": {
          "background_save": true
        },
        "id": "P5tuo9m6EUV8"
      },
      "outputs": [],
      "source": [
        "sk_folds = StratifiedKFold(n_splits = 3)\n",
        "scores = cross_val_score(classifier, x, y, cv = sk_folds)"
      ]
    },
    {
      "cell_type": "code",
      "execution_count": null,
      "metadata": {
        "colab": {
          "background_save": true
        },
        "id": "bvwCMc9DEUV8",
        "outputId": "ce1899c2-70d2-4cbd-9015-3c0b0f8f7044"
      },
      "outputs": [
        {
          "name": "stdout",
          "output_type": "stream",
          "text": [
            "Test Accuracy Score:  [0.83333333 0.83333333 0.63636364]\n"
          ]
        }
      ],
      "source": [
        "print(\"Test Accuracy Score: \", scores)"
      ]
    },
    {
      "cell_type": "code",
      "execution_count": null,
      "metadata": {
        "colab": {
          "background_save": true
        },
        "id": "nYF_Qy8U1lKr",
        "outputId": "e1cf5f48-6530-4ee3-827c-be72a58975a3"
      },
      "outputs": [
        {
          "name": "stdout",
          "output_type": "stream",
          "text": [
            "Average CV Score:  0.7676767676767677\n",
            "Test Accuracy Score:  [0.83333333 0.83333333 0.63636364]\n"
          ]
        }
      ],
      "source": [
        "print(\"Average CV Score: \", scores.mean())\n",
        "print(\"Test Accuracy Score: \", scores)"
      ]
    },
    {
      "cell_type": "code",
      "execution_count": null,
      "metadata": {
        "colab": {
          "background_save": true
        },
        "id": "9PgsHx7qEUV8"
      },
      "outputs": [],
      "source": [
        "sk_folds = StratifiedKFold(n_splits = 4)\n",
        "scores = cross_val_score(classifier, x, y, cv = sk_folds)"
      ]
    },
    {
      "cell_type": "code",
      "execution_count": null,
      "metadata": {
        "colab": {
          "background_save": true
        },
        "id": "3B7Hsw07EUV8",
        "outputId": "22daad72-849f-4686-d020-5354c31ad059"
      },
      "outputs": [
        {
          "name": "stdout",
          "output_type": "stream",
          "text": [
            "Test Accuracy Score:  [0.88888889 1.         0.88888889 0.5       ]\n"
          ]
        }
      ],
      "source": [
        "print(\"Test Accuracy Score: \", scores)"
      ]
    },
    {
      "cell_type": "code",
      "execution_count": null,
      "metadata": {
        "colab": {
          "background_save": true
        },
        "id": "jPPxbK_D1jPI",
        "outputId": "f65960b6-335f-4d8e-bd5f-7e5d2f2fcf51"
      },
      "outputs": [
        {
          "name": "stdout",
          "output_type": "stream",
          "text": [
            "Average CV Score:  0.8194444444444444\n",
            "Test Accuracy Score:  [0.88888889 1.         0.88888889 0.5       ]\n"
          ]
        }
      ],
      "source": [
        "print(\"Average CV Score: \", scores.mean())\n",
        "print(\"Test Accuracy Score: \", scores)"
      ]
    },
    {
      "cell_type": "code",
      "execution_count": null,
      "metadata": {
        "colab": {
          "background_save": true
        },
        "id": "gy-5_bEwEUV8"
      },
      "outputs": [],
      "source": [
        "sk_folds = StratifiedKFold(n_splits = 5)\n",
        "scores = cross_val_score(classifier, x, y, cv = sk_folds)"
      ]
    },
    {
      "cell_type": "code",
      "execution_count": null,
      "metadata": {
        "colab": {
          "background_save": true
        },
        "id": "TXqHX-g0EUV8",
        "outputId": "3d91ff7f-148c-4510-bb99-4ac0cbed7f3f"
      },
      "outputs": [
        {
          "name": "stdout",
          "output_type": "stream",
          "text": [
            "Test Accuracy Score:  [0.85714286 0.85714286 0.71428571 0.85714286 0.57142857]\n"
          ]
        }
      ],
      "source": [
        "print(\"Test Accuracy Score: \", scores)"
      ]
    },
    {
      "cell_type": "code",
      "execution_count": null,
      "metadata": {
        "colab": {
          "background_save": true
        },
        "id": "DFP1nDiD1hjg",
        "outputId": "6c395711-e7a7-4bf7-aee7-a28809275c5b"
      },
      "outputs": [
        {
          "name": "stdout",
          "output_type": "stream",
          "text": [
            "Average CV Score:  0.7714285714285714\n",
            "Test Accuracy Score:  [0.85714286 0.85714286 0.71428571 0.85714286 0.57142857]\n"
          ]
        }
      ],
      "source": [
        "print(\"Average CV Score: \", scores.mean())\n",
        "print(\"Test Accuracy Score: \", scores)"
      ]
    },
    {
      "cell_type": "code",
      "execution_count": null,
      "metadata": {
        "colab": {
          "background_save": true
        },
        "id": "lHcgliqTEUV8"
      },
      "outputs": [],
      "source": [
        "sk_folds = StratifiedKFold(n_splits = 6)\n",
        "scores = cross_val_score(classifier, x, y, cv = sk_folds)"
      ]
    },
    {
      "cell_type": "code",
      "execution_count": null,
      "metadata": {
        "colab": {
          "background_save": true
        },
        "id": "4oA2JA02EUV9",
        "outputId": "1c26657c-61f7-43e0-fa78-8878009e7376"
      },
      "outputs": [
        {
          "name": "stdout",
          "output_type": "stream",
          "text": [
            "Test Accuracy Score:  [1.         0.83333333 0.66666667 1.         0.66666667 0.6       ]\n"
          ]
        }
      ],
      "source": [
        "print(\"Test Accuracy Score: \", scores)"
      ]
    },
    {
      "cell_type": "code",
      "execution_count": null,
      "metadata": {
        "colab": {
          "background_save": true
        },
        "id": "wy1AWuQe1g9l",
        "outputId": "6361e3ff-dd89-4139-9db6-8a0e139cbaa8"
      },
      "outputs": [
        {
          "name": "stdout",
          "output_type": "stream",
          "text": [
            "Average CV Score:  0.7944444444444444\n",
            "Test Accuracy Score:  [1.         0.83333333 0.66666667 1.         0.66666667 0.6       ]\n"
          ]
        }
      ],
      "source": [
        "print(\"Average CV Score: \", scores.mean())\n",
        "print(\"Test Accuracy Score: \", scores)"
      ]
    },
    {
      "cell_type": "code",
      "execution_count": null,
      "metadata": {
        "colab": {
          "background_save": true
        },
        "id": "X2HDV2v3EUV9"
      },
      "outputs": [],
      "source": [
        "sk_folds = StratifiedKFold(n_splits = 7)\n",
        "scores = cross_val_score(classifier, x, y, cv = sk_folds)"
      ]
    },
    {
      "cell_type": "code",
      "execution_count": null,
      "metadata": {
        "colab": {
          "background_save": true
        },
        "id": "JDKJ2seOEUV9",
        "outputId": "c851d442-1383-44cb-f64c-06f3e4991309"
      },
      "outputs": [
        {
          "name": "stdout",
          "output_type": "stream",
          "text": [
            "Test Accuracy Score:  [1.  0.8 1.  0.8 0.8 0.8 0.2]\n"
          ]
        }
      ],
      "source": [
        "print(\"Test Accuracy Score: \", scores)"
      ]
    },
    {
      "cell_type": "code",
      "execution_count": null,
      "metadata": {
        "colab": {
          "background_save": true
        },
        "id": "qifGhDQT1ga9",
        "outputId": "c258d0c6-4ee0-4f8b-f2aa-0beec35ea82e"
      },
      "outputs": [
        {
          "name": "stdout",
          "output_type": "stream",
          "text": [
            "Average CV Score:  0.7714285714285714\n",
            "Test Accuracy Score:  [1.  0.8 1.  0.8 0.8 0.8 0.2]\n"
          ]
        }
      ],
      "source": [
        "print(\"Average CV Score: \", scores.mean())\n",
        "print(\"Test Accuracy Score: \", scores)"
      ]
    },
    {
      "cell_type": "code",
      "execution_count": null,
      "metadata": {
        "colab": {
          "background_save": true
        },
        "id": "450YhGT7EUV9"
      },
      "outputs": [],
      "source": [
        "sk_folds = StratifiedKFold(n_splits = 8)\n",
        "scores = cross_val_score(classifier, x, y, cv = sk_folds)"
      ]
    },
    {
      "cell_type": "code",
      "execution_count": null,
      "metadata": {
        "colab": {
          "background_save": true
        },
        "id": "sCwEE2Ci1fsw",
        "outputId": "a0236309-0b50-49f9-b714-808595ae1eae"
      },
      "outputs": [
        {
          "name": "stdout",
          "output_type": "stream",
          "text": [
            "Average CV Score:  0.7875\n",
            "Test Accuracy Score:  [1.   0.8  1.   1.   0.75 1.   0.5  0.25]\n"
          ]
        }
      ],
      "source": [
        "print(\"Average CV Score: \", scores.mean())\n",
        "print(\"Test Accuracy Score: \", scores)"
      ]
    },
    {
      "cell_type": "code",
      "execution_count": null,
      "metadata": {
        "colab": {
          "background_save": true
        },
        "id": "Z_bR9exfEUV9",
        "outputId": "e8aa13ef-8cc5-4cc1-be77-88953dae8f0b"
      },
      "outputs": [
        {
          "name": "stderr",
          "output_type": "stream",
          "text": [
            "/usr/local/lib/python3.8/dist-packages/sklearn/model_selection/_split.py:676: UserWarning: The least populated class in y has only 8 members, which is less than n_splits=9.\n",
            "  warnings.warn(\n"
          ]
        }
      ],
      "source": [
        "sk_folds = StratifiedKFold(n_splits = 9)\n",
        "scores = cross_val_score(classifier, x, y, cv = sk_folds)"
      ]
    },
    {
      "cell_type": "code",
      "execution_count": null,
      "metadata": {
        "colab": {
          "background_save": true
        },
        "id": "f16hwx0oEUV9",
        "outputId": "0566cecc-39cc-4d21-c4e0-02dca2919f62"
      },
      "outputs": [
        {
          "name": "stdout",
          "output_type": "stream",
          "text": [
            "Test Accuracy Score:  [1.         0.75       1.         0.75       0.75       1.\n",
            " 0.75       0.5        0.33333333]\n"
          ]
        }
      ],
      "source": [
        "print(\"Test Accuracy Score: \", scores)"
      ]
    },
    {
      "cell_type": "code",
      "execution_count": null,
      "metadata": {
        "colab": {
          "background_save": true
        },
        "id": "LvfX5NmK1e4t",
        "outputId": "8e53d8d2-8c4e-44fb-de3c-06404a94b18d"
      },
      "outputs": [
        {
          "name": "stdout",
          "output_type": "stream",
          "text": [
            "Average CV Score:  0.7592592592592592\n",
            "Test Accuracy Score:  [1.         0.75       1.         0.75       0.75       1.\n",
            " 0.75       0.5        0.33333333]\n"
          ]
        }
      ],
      "source": [
        "print(\"Average CV Score: \", scores.mean())\n",
        "print(\"Test Accuracy Score: \", scores)"
      ]
    },
    {
      "cell_type": "code",
      "execution_count": null,
      "metadata": {
        "colab": {
          "background_save": true
        },
        "id": "WfcbZwSZEUV9",
        "outputId": "693fad11-398a-4232-8a0c-bfc92ae0ca8b"
      },
      "outputs": [
        {
          "name": "stderr",
          "output_type": "stream",
          "text": [
            "/usr/local/lib/python3.8/dist-packages/sklearn/model_selection/_split.py:676: UserWarning: The least populated class in y has only 8 members, which is less than n_splits=10.\n",
            "  warnings.warn(\n"
          ]
        }
      ],
      "source": [
        "sk_folds = StratifiedKFold(n_splits = 10)\n",
        "scores = cross_val_score(classifier, x, y, cv = sk_folds)"
      ]
    },
    {
      "cell_type": "code",
      "execution_count": null,
      "metadata": {
        "colab": {
          "background_save": true
        },
        "id": "xDsnlBZmEUV-",
        "outputId": "1fa391fb-0d29-444b-eb44-491e717c8b50"
      },
      "outputs": [
        {
          "name": "stdout",
          "output_type": "stream",
          "text": [
            "Test Accuracy Score:  [1.         0.75       1.         1.         0.75       1.\n",
            " 1.         0.66666667 0.66666667 0.        ]\n"
          ]
        }
      ],
      "source": [
        "print(\"Test Accuracy Score: \", scores)"
      ]
    },
    {
      "cell_type": "code",
      "execution_count": null,
      "metadata": {
        "colab": {
          "background_save": true
        },
        "id": "VyczMr0X1eJa",
        "outputId": "49d3a346-b32e-479b-ccc9-ffde3c8e8cc2"
      },
      "outputs": [
        {
          "name": "stdout",
          "output_type": "stream",
          "text": [
            "Average CV Score:  0.7833333333333333\n",
            "Test Accuracy Score:  [1.         0.75       1.         1.         0.75       1.\n",
            " 1.         0.66666667 0.66666667 0.        ]\n"
          ]
        }
      ],
      "source": [
        "print(\"Average CV Score: \", scores.mean())\n",
        "print(\"Test Accuracy Score: \", scores)"
      ]
    },
    {
      "cell_type": "markdown",
      "metadata": {
        "id": "cTf7lQjJw2n3"
      },
      "source": [
        "##**Bagging**"
      ]
    },
    {
      "cell_type": "code",
      "execution_count": null,
      "metadata": {
        "colab": {
          "background_save": true
        },
        "id": "PbmCwoxOw2n3",
        "outputId": "c5c4f207-c8c4-4c9e-963b-7051345d3549"
      },
      "outputs": [
        {
          "data": {
            "text/plain": [
              "DecisionTreeClassifier(random_state=21)"
            ]
          },
          "execution_count": 2820,
          "metadata": {},
          "output_type": "execute_result"
        }
      ],
      "source": [
        "from sklearn.tree import DecisionTreeClassifier\n",
        "dtree = DecisionTreeClassifier(random_state=21)\n",
        "dtree.fit(x_train,y_train)"
      ]
    },
    {
      "cell_type": "code",
      "execution_count": null,
      "metadata": {
        "colab": {
          "background_save": true
        },
        "id": "XcwWct9yw2n4",
        "outputId": "5faddf1d-0e17-45c3-964f-19991e60feec"
      },
      "outputs": [
        {
          "name": "stdout",
          "output_type": "stream",
          "text": [
            "Train data accuracy: 1.0\n",
            "Test data accuracy: 0.8571428571428571\n"
          ]
        }
      ],
      "source": [
        "y_pred = dtree.predict(x_test)\n",
        "\n",
        "print(\"Train data accuracy:\",accuracy_score(y_true = y_train, y_pred = dtree.predict(x_train)))\n",
        "print(\"Test data accuracy:\",accuracy_score(y_true = y_test, y_pred = y_pred))"
      ]
    },
    {
      "cell_type": "code",
      "execution_count": null,
      "metadata": {
        "colab": {
          "background_save": true
        },
        "id": "ZAO2z04jEXKi"
      },
      "outputs": [],
      "source": [
        "sk_folds = StratifiedKFold(n_splits = 2)\n",
        "scores = cross_val_score(classifier, x, y, cv = sk_folds)"
      ]
    },
    {
      "cell_type": "code",
      "execution_count": null,
      "metadata": {
        "colab": {
          "background_save": true
        },
        "id": "CaOZHbTpEXKk",
        "outputId": "00d49912-5ead-419c-98ed-b7e71db1180b"
      },
      "outputs": [
        {
          "name": "stdout",
          "output_type": "stream",
          "text": [
            "Test Accuracy Score:  [0.94444444 0.70588235]\n"
          ]
        }
      ],
      "source": [
        "print(\"Test Accuracy Score: \", scores)"
      ]
    },
    {
      "cell_type": "code",
      "execution_count": null,
      "metadata": {
        "colab": {
          "background_save": true
        },
        "id": "jG4cTb-R1u5m",
        "outputId": "7a4e38e7-c2cc-4f76-f8af-f561d9bc33af"
      },
      "outputs": [
        {
          "name": "stdout",
          "output_type": "stream",
          "text": [
            "Average CV Score:  0.8251633986928104\n",
            "Test Accuracy Score:  [0.94444444 0.70588235]\n"
          ]
        }
      ],
      "source": [
        "print(\"Average CV Score: \", scores.mean())\n",
        "print(\"Test Accuracy Score: \", scores)"
      ]
    },
    {
      "cell_type": "code",
      "execution_count": null,
      "metadata": {
        "colab": {
          "background_save": true
        },
        "id": "CrreliAgEXKl"
      },
      "outputs": [],
      "source": [
        "sk_folds = StratifiedKFold(n_splits = 3)\n",
        "scores = cross_val_score(classifier, x, y, cv = sk_folds)"
      ]
    },
    {
      "cell_type": "code",
      "execution_count": null,
      "metadata": {
        "colab": {
          "background_save": true
        },
        "id": "GDxFU3P2EXKl",
        "outputId": "25e6a64a-4690-4915-eaba-c4f8f22b0391"
      },
      "outputs": [
        {
          "name": "stdout",
          "output_type": "stream",
          "text": [
            "Test Accuracy Score:  [0.91666667 0.75       0.63636364]\n"
          ]
        }
      ],
      "source": [
        "print(\"Test Accuracy Score: \", scores)"
      ]
    },
    {
      "cell_type": "code",
      "execution_count": null,
      "metadata": {
        "colab": {
          "background_save": true
        },
        "id": "LUvn0dPC1tMR",
        "outputId": "5161e2cb-2491-44b1-a370-9502ac4bcb82"
      },
      "outputs": [
        {
          "name": "stdout",
          "output_type": "stream",
          "text": [
            "Average CV Score:  0.7676767676767676\n",
            "Test Accuracy Score:  [0.91666667 0.75       0.63636364]\n"
          ]
        }
      ],
      "source": [
        "print(\"Average CV Score: \", scores.mean())\n",
        "print(\"Test Accuracy Score: \", scores)"
      ]
    },
    {
      "cell_type": "code",
      "execution_count": null,
      "metadata": {
        "colab": {
          "background_save": true
        },
        "id": "6nA9lw83EXKm"
      },
      "outputs": [],
      "source": [
        "sk_folds = StratifiedKFold(n_splits = 4)\n",
        "scores = cross_val_score(classifier, x, y, cv = sk_folds)"
      ]
    },
    {
      "cell_type": "code",
      "execution_count": null,
      "metadata": {
        "colab": {
          "background_save": true
        },
        "id": "7069p14cEXKn",
        "outputId": "a737af32-34c9-4bd3-85dd-351a3c336785"
      },
      "outputs": [
        {
          "name": "stdout",
          "output_type": "stream",
          "text": [
            "Test Accuracy Score:  [1.         1.         0.88888889 0.5       ]\n"
          ]
        }
      ],
      "source": [
        "print(\"Test Accuracy Score: \", scores)"
      ]
    },
    {
      "cell_type": "code",
      "execution_count": null,
      "metadata": {
        "colab": {
          "background_save": true
        },
        "id": "L12frRTy1t2P",
        "outputId": "9e654647-f71c-4030-fdf8-0b013e4a98ef"
      },
      "outputs": [
        {
          "name": "stdout",
          "output_type": "stream",
          "text": [
            "Average CV Score:  0.8472222222222222\n",
            "Test Accuracy Score:  [1.         1.         0.88888889 0.5       ]\n"
          ]
        }
      ],
      "source": [
        "print(\"Average CV Score: \", scores.mean())\n",
        "print(\"Test Accuracy Score: \", scores)"
      ]
    },
    {
      "cell_type": "code",
      "execution_count": null,
      "metadata": {
        "colab": {
          "background_save": true
        },
        "id": "Z4COiFCyEXKn"
      },
      "outputs": [],
      "source": [
        "sk_folds = StratifiedKFold(n_splits = 5)\n",
        "scores = cross_val_score(classifier, x, y, cv = sk_folds)"
      ]
    },
    {
      "cell_type": "code",
      "execution_count": null,
      "metadata": {
        "colab": {
          "background_save": true
        },
        "id": "FbG-okxIEXKo",
        "outputId": "f01a49bb-2a15-4177-fe25-ab56c690ea48"
      },
      "outputs": [
        {
          "name": "stdout",
          "output_type": "stream",
          "text": [
            "Test Accuracy Score:  [1.         0.85714286 1.         0.71428571 0.71428571]\n"
          ]
        }
      ],
      "source": [
        "print(\"Test Accuracy Score: \", scores)"
      ]
    },
    {
      "cell_type": "code",
      "execution_count": null,
      "metadata": {
        "colab": {
          "background_save": true
        },
        "id": "Rdcu0GvF1sAb",
        "outputId": "b4b07605-5f1f-443a-c72c-b88025ced223"
      },
      "outputs": [
        {
          "name": "stdout",
          "output_type": "stream",
          "text": [
            "Average CV Score:  0.8571428571428571\n",
            "Test Accuracy Score:  [1.         0.85714286 1.         0.71428571 0.71428571]\n"
          ]
        }
      ],
      "source": [
        "print(\"Average CV Score: \", scores.mean())\n",
        "print(\"Test Accuracy Score: \", scores)"
      ]
    },
    {
      "cell_type": "code",
      "execution_count": null,
      "metadata": {
        "colab": {
          "background_save": true
        },
        "id": "cKhtY-vIEXKp"
      },
      "outputs": [],
      "source": [
        "sk_folds = StratifiedKFold(n_splits = 6)\n",
        "scores = cross_val_score(classifier, x, y, cv = sk_folds)"
      ]
    },
    {
      "cell_type": "code",
      "execution_count": null,
      "metadata": {
        "colab": {
          "background_save": true
        },
        "id": "UHM-IYClEXKq",
        "outputId": "7eb6fc43-5f1a-4fbb-9ba4-ad9fdfd2fddf"
      },
      "outputs": [
        {
          "name": "stdout",
          "output_type": "stream",
          "text": [
            "Test Accuracy Score:  [0.83333333 0.83333333 0.66666667 0.66666667 0.66666667 0.4       ]\n"
          ]
        }
      ],
      "source": [
        "print(\"Test Accuracy Score: \", scores)"
      ]
    },
    {
      "cell_type": "code",
      "execution_count": null,
      "metadata": {
        "colab": {
          "background_save": true
        },
        "id": "sZ2t0_s51rlu",
        "outputId": "cdc0e751-4750-47b1-dc4d-c4f1041e4898"
      },
      "outputs": [
        {
          "name": "stdout",
          "output_type": "stream",
          "text": [
            "Average CV Score:  0.6777777777777777\n",
            "Test Accuracy Score:  [0.83333333 0.83333333 0.66666667 0.66666667 0.66666667 0.4       ]\n"
          ]
        }
      ],
      "source": [
        "print(\"Average CV Score: \", scores.mean())\n",
        "print(\"Test Accuracy Score: \", scores)"
      ]
    },
    {
      "cell_type": "code",
      "execution_count": null,
      "metadata": {
        "colab": {
          "background_save": true
        },
        "id": "H8KlSU72EXKq"
      },
      "outputs": [],
      "source": [
        "sk_folds = StratifiedKFold(n_splits = 7)\n",
        "scores = cross_val_score(classifier, x, y, cv = sk_folds)"
      ]
    },
    {
      "cell_type": "code",
      "execution_count": null,
      "metadata": {
        "colab": {
          "background_save": true
        },
        "id": "hayKToTNEXKr",
        "outputId": "605b85d9-2a70-491a-a842-e32e4e3220d8"
      },
      "outputs": [
        {
          "name": "stdout",
          "output_type": "stream",
          "text": [
            "Test Accuracy Score:  [1.  0.8 1.  0.8 0.8 0.8 0.2]\n"
          ]
        }
      ],
      "source": [
        "print(\"Test Accuracy Score: \", scores)"
      ]
    },
    {
      "cell_type": "code",
      "execution_count": null,
      "metadata": {
        "colab": {
          "background_save": true
        },
        "id": "Cd2Jsf7d1rI5",
        "outputId": "843a8ecb-b481-485c-b7a2-be62760a6954"
      },
      "outputs": [
        {
          "name": "stdout",
          "output_type": "stream",
          "text": [
            "Average CV Score:  0.7714285714285714\n",
            "Test Accuracy Score:  [1.  0.8 1.  0.8 0.8 0.8 0.2]\n"
          ]
        }
      ],
      "source": [
        "print(\"Average CV Score: \", scores.mean())\n",
        "print(\"Test Accuracy Score: \", scores)"
      ]
    },
    {
      "cell_type": "code",
      "execution_count": null,
      "metadata": {
        "colab": {
          "background_save": true
        },
        "id": "v4pEcli3EXKs"
      },
      "outputs": [],
      "source": [
        "sk_folds = StratifiedKFold(n_splits = 8)\n",
        "scores = cross_val_score(classifier, x, y, cv = sk_folds)"
      ]
    },
    {
      "cell_type": "code",
      "execution_count": null,
      "metadata": {
        "colab": {
          "background_save": true
        },
        "id": "AC60uZ_l1p_Q",
        "outputId": "96dc3ee5-1569-45b9-e2dd-5178aa80c2c2"
      },
      "outputs": [
        {
          "name": "stdout",
          "output_type": "stream",
          "text": [
            "Average CV Score:  0.90625\n",
            "Test Accuracy Score:  [1.   1.   1.   1.   1.   1.   0.75 0.5 ]\n"
          ]
        }
      ],
      "source": [
        "print(\"Average CV Score: \", scores.mean())\n",
        "print(\"Test Accuracy Score: \", scores)"
      ]
    },
    {
      "cell_type": "code",
      "execution_count": null,
      "metadata": {
        "colab": {
          "background_save": true
        },
        "id": "2fudZqNUEXKt",
        "outputId": "4a562ff7-71d8-467c-aa21-9d50d6641aed"
      },
      "outputs": [
        {
          "name": "stderr",
          "output_type": "stream",
          "text": [
            "/usr/local/lib/python3.8/dist-packages/sklearn/model_selection/_split.py:676: UserWarning: The least populated class in y has only 8 members, which is less than n_splits=9.\n",
            "  warnings.warn(\n"
          ]
        }
      ],
      "source": [
        "sk_folds = StratifiedKFold(n_splits = 9)\n",
        "scores = cross_val_score(classifier, x, y, cv = sk_folds)"
      ]
    },
    {
      "cell_type": "code",
      "execution_count": null,
      "metadata": {
        "colab": {
          "background_save": true
        },
        "id": "W0To3q5XEXKu",
        "outputId": "e31b207f-5b24-4373-a40e-156f595987b6"
      },
      "outputs": [
        {
          "name": "stdout",
          "output_type": "stream",
          "text": [
            "Test Accuracy Score:  [1.         0.75       1.         1.         0.75       1.\n",
            " 0.75       0.5        0.33333333]\n"
          ]
        }
      ],
      "source": [
        "print(\"Test Accuracy Score: \", scores)"
      ]
    },
    {
      "cell_type": "code",
      "execution_count": null,
      "metadata": {
        "colab": {
          "background_save": true
        },
        "id": "88WYJxXa1pdf",
        "outputId": "a510e6fc-49fb-4e37-e15b-4fb9fe80e4d9"
      },
      "outputs": [
        {
          "name": "stdout",
          "output_type": "stream",
          "text": [
            "Average CV Score:  0.787037037037037\n",
            "Test Accuracy Score:  [1.         0.75       1.         1.         0.75       1.\n",
            " 0.75       0.5        0.33333333]\n"
          ]
        }
      ],
      "source": [
        "print(\"Average CV Score: \", scores.mean())\n",
        "print(\"Test Accuracy Score: \", scores)"
      ]
    },
    {
      "cell_type": "code",
      "execution_count": null,
      "metadata": {
        "colab": {
          "background_save": true
        },
        "id": "9C-Zt33-EXKu",
        "outputId": "1b2ef874-786a-4689-f254-e60d4196032f"
      },
      "outputs": [
        {
          "name": "stderr",
          "output_type": "stream",
          "text": [
            "/usr/local/lib/python3.8/dist-packages/sklearn/model_selection/_split.py:676: UserWarning: The least populated class in y has only 8 members, which is less than n_splits=10.\n",
            "  warnings.warn(\n"
          ]
        }
      ],
      "source": [
        "sk_folds = StratifiedKFold(n_splits = 10)\n",
        "scores = cross_val_score(classifier, x, y, cv = sk_folds)"
      ]
    },
    {
      "cell_type": "code",
      "execution_count": null,
      "metadata": {
        "colab": {
          "background_save": true
        },
        "id": "x8XFnvocEXKv",
        "outputId": "f21115d7-0c58-46d1-b717-48f8b23b5b14"
      },
      "outputs": [
        {
          "name": "stdout",
          "output_type": "stream",
          "text": [
            "Test Accuracy Score:  [1.         0.75       1.         1.         0.75       1.\n",
            " 1.         0.66666667 0.66666667 0.        ]\n"
          ]
        }
      ],
      "source": [
        "print(\"Test Accuracy Score: \", scores)"
      ]
    },
    {
      "cell_type": "code",
      "execution_count": null,
      "metadata": {
        "colab": {
          "background_save": true
        },
        "id": "MjvX_VkD1ohq",
        "outputId": "d4263fe2-e74f-4fcc-a9d7-911492ccf0a8"
      },
      "outputs": [
        {
          "name": "stdout",
          "output_type": "stream",
          "text": [
            "Average CV Score:  0.7833333333333333\n",
            "Test Accuracy Score:  [1.         0.75       1.         1.         0.75       1.\n",
            " 1.         0.66666667 0.66666667 0.        ]\n"
          ]
        }
      ],
      "source": [
        "print(\"Average CV Score: \", scores.mean())\n",
        "print(\"Test Accuracy Score: \", scores)"
      ]
    },
    {
      "cell_type": "markdown",
      "metadata": {
        "id": "E6403HJ_qr64"
      },
      "source": [
        "#**ar6 Dataset**"
      ]
    },
    {
      "cell_type": "code",
      "execution_count": null,
      "metadata": {
        "colab": {
          "background_save": true
        },
        "id": "xuxAZ5hj1SxQ",
        "outputId": "cf14bc95-93c2-4386-db2d-53411c36564e"
      },
      "outputs": [
        {
          "data": {
            "text/html": [
              "\n",
              "  <div id=\"df-a0e444b4-43bb-4539-9431-763dab05e78d\">\n",
              "    <div class=\"colab-df-container\">\n",
              "      <div>\n",
              "<style scoped>\n",
              "    .dataframe tbody tr th:only-of-type {\n",
              "        vertical-align: middle;\n",
              "    }\n",
              "\n",
              "    .dataframe tbody tr th {\n",
              "        vertical-align: top;\n",
              "    }\n",
              "\n",
              "    .dataframe thead th {\n",
              "        text-align: right;\n",
              "    }\n",
              "</style>\n",
              "<table border=\"1\" class=\"dataframe\">\n",
              "  <thead>\n",
              "    <tr style=\"text-align: right;\">\n",
              "      <th></th>\n",
              "      <th>total_loc</th>\n",
              "      <th>blank_loc</th>\n",
              "      <th>comment_loc</th>\n",
              "      <th>code_and_comment_loc</th>\n",
              "      <th>executable_loc</th>\n",
              "      <th>unique_operands</th>\n",
              "      <th>unique_operators</th>\n",
              "      <th>total_operands</th>\n",
              "      <th>total_operators</th>\n",
              "      <th>halstead_vocabulary</th>\n",
              "      <th>...</th>\n",
              "      <th>condition_count</th>\n",
              "      <th>multiple_condition_count</th>\n",
              "      <th>cyclomatic_complexity</th>\n",
              "      <th>cyclomatic_density</th>\n",
              "      <th>decision_density</th>\n",
              "      <th>design_complexity</th>\n",
              "      <th>design_density</th>\n",
              "      <th>normalized_cyclomatic_complexity</th>\n",
              "      <th>formal_parameters</th>\n",
              "      <th>problems</th>\n",
              "    </tr>\n",
              "  </thead>\n",
              "  <tbody>\n",
              "    <tr>\n",
              "      <th>0</th>\n",
              "      <td>13</td>\n",
              "      <td>0</td>\n",
              "      <td>1</td>\n",
              "      <td>0</td>\n",
              "      <td>12</td>\n",
              "      <td>10</td>\n",
              "      <td>8</td>\n",
              "      <td>21</td>\n",
              "      <td>26</td>\n",
              "      <td>18</td>\n",
              "      <td>...</td>\n",
              "      <td>0</td>\n",
              "      <td>0</td>\n",
              "      <td>2</td>\n",
              "      <td>0.17</td>\n",
              "      <td>0.00</td>\n",
              "      <td>0.0</td>\n",
              "      <td>0.00</td>\n",
              "      <td>0.15</td>\n",
              "      <td>0.0</td>\n",
              "      <td>False</td>\n",
              "    </tr>\n",
              "    <tr>\n",
              "      <th>1</th>\n",
              "      <td>20</td>\n",
              "      <td>0</td>\n",
              "      <td>12</td>\n",
              "      <td>0</td>\n",
              "      <td>8</td>\n",
              "      <td>14</td>\n",
              "      <td>12</td>\n",
              "      <td>21</td>\n",
              "      <td>34</td>\n",
              "      <td>26</td>\n",
              "      <td>...</td>\n",
              "      <td>3</td>\n",
              "      <td>0</td>\n",
              "      <td>4</td>\n",
              "      <td>0.50</td>\n",
              "      <td>1.00</td>\n",
              "      <td>0.0</td>\n",
              "      <td>0.00</td>\n",
              "      <td>0.20</td>\n",
              "      <td>0.0</td>\n",
              "      <td>False</td>\n",
              "    </tr>\n",
              "    <tr>\n",
              "      <th>2</th>\n",
              "      <td>40</td>\n",
              "      <td>0</td>\n",
              "      <td>17</td>\n",
              "      <td>0</td>\n",
              "      <td>23</td>\n",
              "      <td>20</td>\n",
              "      <td>18</td>\n",
              "      <td>64</td>\n",
              "      <td>90</td>\n",
              "      <td>38</td>\n",
              "      <td>...</td>\n",
              "      <td>11</td>\n",
              "      <td>2</td>\n",
              "      <td>11</td>\n",
              "      <td>0.48</td>\n",
              "      <td>1.09</td>\n",
              "      <td>1.0</td>\n",
              "      <td>0.09</td>\n",
              "      <td>0.28</td>\n",
              "      <td>0.0</td>\n",
              "      <td>False</td>\n",
              "    </tr>\n",
              "    <tr>\n",
              "      <th>3</th>\n",
              "      <td>8</td>\n",
              "      <td>0</td>\n",
              "      <td>3</td>\n",
              "      <td>0</td>\n",
              "      <td>5</td>\n",
              "      <td>7</td>\n",
              "      <td>13</td>\n",
              "      <td>13</td>\n",
              "      <td>21</td>\n",
              "      <td>20</td>\n",
              "      <td>...</td>\n",
              "      <td>1</td>\n",
              "      <td>0</td>\n",
              "      <td>3</td>\n",
              "      <td>0.60</td>\n",
              "      <td>2.00</td>\n",
              "      <td>0.0</td>\n",
              "      <td>0.00</td>\n",
              "      <td>0.38</td>\n",
              "      <td>1.0</td>\n",
              "      <td>False</td>\n",
              "    </tr>\n",
              "    <tr>\n",
              "      <th>4</th>\n",
              "      <td>10</td>\n",
              "      <td>0</td>\n",
              "      <td>2</td>\n",
              "      <td>0</td>\n",
              "      <td>8</td>\n",
              "      <td>4</td>\n",
              "      <td>5</td>\n",
              "      <td>5</td>\n",
              "      <td>10</td>\n",
              "      <td>9</td>\n",
              "      <td>...</td>\n",
              "      <td>1</td>\n",
              "      <td>0</td>\n",
              "      <td>2</td>\n",
              "      <td>0.25</td>\n",
              "      <td>1.00</td>\n",
              "      <td>1.0</td>\n",
              "      <td>0.50</td>\n",
              "      <td>0.20</td>\n",
              "      <td>0.0</td>\n",
              "      <td>False</td>\n",
              "    </tr>\n",
              "    <tr>\n",
              "      <th>...</th>\n",
              "      <td>...</td>\n",
              "      <td>...</td>\n",
              "      <td>...</td>\n",
              "      <td>...</td>\n",
              "      <td>...</td>\n",
              "      <td>...</td>\n",
              "      <td>...</td>\n",
              "      <td>...</td>\n",
              "      <td>...</td>\n",
              "      <td>...</td>\n",
              "      <td>...</td>\n",
              "      <td>...</td>\n",
              "      <td>...</td>\n",
              "      <td>...</td>\n",
              "      <td>...</td>\n",
              "      <td>...</td>\n",
              "      <td>...</td>\n",
              "      <td>...</td>\n",
              "      <td>...</td>\n",
              "      <td>...</td>\n",
              "      <td>...</td>\n",
              "    </tr>\n",
              "    <tr>\n",
              "      <th>95</th>\n",
              "      <td>27</td>\n",
              "      <td>0</td>\n",
              "      <td>10</td>\n",
              "      <td>0</td>\n",
              "      <td>17</td>\n",
              "      <td>15</td>\n",
              "      <td>9</td>\n",
              "      <td>36</td>\n",
              "      <td>48</td>\n",
              "      <td>24</td>\n",
              "      <td>...</td>\n",
              "      <td>4</td>\n",
              "      <td>1</td>\n",
              "      <td>4</td>\n",
              "      <td>0.24</td>\n",
              "      <td>1.00</td>\n",
              "      <td>5.0</td>\n",
              "      <td>1.25</td>\n",
              "      <td>0.15</td>\n",
              "      <td>0.0</td>\n",
              "      <td>False</td>\n",
              "    </tr>\n",
              "    <tr>\n",
              "      <th>96</th>\n",
              "      <td>9</td>\n",
              "      <td>0</td>\n",
              "      <td>0</td>\n",
              "      <td>0</td>\n",
              "      <td>9</td>\n",
              "      <td>7</td>\n",
              "      <td>3</td>\n",
              "      <td>8</td>\n",
              "      <td>15</td>\n",
              "      <td>10</td>\n",
              "      <td>...</td>\n",
              "      <td>0</td>\n",
              "      <td>0</td>\n",
              "      <td>1</td>\n",
              "      <td>0.11</td>\n",
              "      <td>0.00</td>\n",
              "      <td>6.0</td>\n",
              "      <td>6.00</td>\n",
              "      <td>0.11</td>\n",
              "      <td>0.0</td>\n",
              "      <td>False</td>\n",
              "    </tr>\n",
              "    <tr>\n",
              "      <th>97</th>\n",
              "      <td>10</td>\n",
              "      <td>0</td>\n",
              "      <td>7</td>\n",
              "      <td>0</td>\n",
              "      <td>3</td>\n",
              "      <td>7</td>\n",
              "      <td>3</td>\n",
              "      <td>7</td>\n",
              "      <td>15</td>\n",
              "      <td>10</td>\n",
              "      <td>...</td>\n",
              "      <td>0</td>\n",
              "      <td>0</td>\n",
              "      <td>1</td>\n",
              "      <td>0.33</td>\n",
              "      <td>0.00</td>\n",
              "      <td>6.0</td>\n",
              "      <td>6.00</td>\n",
              "      <td>0.10</td>\n",
              "      <td>0.0</td>\n",
              "      <td>False</td>\n",
              "    </tr>\n",
              "    <tr>\n",
              "      <th>98</th>\n",
              "      <td>51</td>\n",
              "      <td>2</td>\n",
              "      <td>17</td>\n",
              "      <td>0</td>\n",
              "      <td>32</td>\n",
              "      <td>26</td>\n",
              "      <td>9</td>\n",
              "      <td>44</td>\n",
              "      <td>69</td>\n",
              "      <td>35</td>\n",
              "      <td>...</td>\n",
              "      <td>6</td>\n",
              "      <td>0</td>\n",
              "      <td>7</td>\n",
              "      <td>0.22</td>\n",
              "      <td>1.00</td>\n",
              "      <td>8.0</td>\n",
              "      <td>1.14</td>\n",
              "      <td>0.14</td>\n",
              "      <td>0.0</td>\n",
              "      <td>False</td>\n",
              "    </tr>\n",
              "    <tr>\n",
              "      <th>99</th>\n",
              "      <td>28</td>\n",
              "      <td>2</td>\n",
              "      <td>11</td>\n",
              "      <td>0</td>\n",
              "      <td>15</td>\n",
              "      <td>11</td>\n",
              "      <td>7</td>\n",
              "      <td>17</td>\n",
              "      <td>31</td>\n",
              "      <td>18</td>\n",
              "      <td>...</td>\n",
              "      <td>2</td>\n",
              "      <td>0</td>\n",
              "      <td>3</td>\n",
              "      <td>0.20</td>\n",
              "      <td>1.00</td>\n",
              "      <td>5.0</td>\n",
              "      <td>1.67</td>\n",
              "      <td>0.11</td>\n",
              "      <td>0.0</td>\n",
              "      <td>False</td>\n",
              "    </tr>\n",
              "  </tbody>\n",
              "</table>\n",
              "<p>100 rows × 30 columns</p>\n",
              "</div>\n",
              "      <button class=\"colab-df-convert\" onclick=\"convertToInteractive('df-a0e444b4-43bb-4539-9431-763dab05e78d')\"\n",
              "              title=\"Convert this dataframe to an interactive table.\"\n",
              "              style=\"display:none;\">\n",
              "        \n",
              "  <svg xmlns=\"http://www.w3.org/2000/svg\" height=\"24px\"viewBox=\"0 0 24 24\"\n",
              "       width=\"24px\">\n",
              "    <path d=\"M0 0h24v24H0V0z\" fill=\"none\"/>\n",
              "    <path d=\"M18.56 5.44l.94 2.06.94-2.06 2.06-.94-2.06-.94-.94-2.06-.94 2.06-2.06.94zm-11 1L8.5 8.5l.94-2.06 2.06-.94-2.06-.94L8.5 2.5l-.94 2.06-2.06.94zm10 10l.94 2.06.94-2.06 2.06-.94-2.06-.94-.94-2.06-.94 2.06-2.06.94z\"/><path d=\"M17.41 7.96l-1.37-1.37c-.4-.4-.92-.59-1.43-.59-.52 0-1.04.2-1.43.59L10.3 9.45l-7.72 7.72c-.78.78-.78 2.05 0 2.83L4 21.41c.39.39.9.59 1.41.59.51 0 1.02-.2 1.41-.59l7.78-7.78 2.81-2.81c.8-.78.8-2.07 0-2.86zM5.41 20L4 18.59l7.72-7.72 1.47 1.35L5.41 20z\"/>\n",
              "  </svg>\n",
              "      </button>\n",
              "      \n",
              "  <style>\n",
              "    .colab-df-container {\n",
              "      display:flex;\n",
              "      flex-wrap:wrap;\n",
              "      gap: 12px;\n",
              "    }\n",
              "\n",
              "    .colab-df-convert {\n",
              "      background-color: #E8F0FE;\n",
              "      border: none;\n",
              "      border-radius: 50%;\n",
              "      cursor: pointer;\n",
              "      display: none;\n",
              "      fill: #1967D2;\n",
              "      height: 32px;\n",
              "      padding: 0 0 0 0;\n",
              "      width: 32px;\n",
              "    }\n",
              "\n",
              "    .colab-df-convert:hover {\n",
              "      background-color: #E2EBFA;\n",
              "      box-shadow: 0px 1px 2px rgba(60, 64, 67, 0.3), 0px 1px 3px 1px rgba(60, 64, 67, 0.15);\n",
              "      fill: #174EA6;\n",
              "    }\n",
              "\n",
              "    [theme=dark] .colab-df-convert {\n",
              "      background-color: #3B4455;\n",
              "      fill: #D2E3FC;\n",
              "    }\n",
              "\n",
              "    [theme=dark] .colab-df-convert:hover {\n",
              "      background-color: #434B5C;\n",
              "      box-shadow: 0px 1px 3px 1px rgba(0, 0, 0, 0.15);\n",
              "      filter: drop-shadow(0px 1px 2px rgba(0, 0, 0, 0.3));\n",
              "      fill: #FFFFFF;\n",
              "    }\n",
              "  </style>\n",
              "\n",
              "      <script>\n",
              "        const buttonEl =\n",
              "          document.querySelector('#df-a0e444b4-43bb-4539-9431-763dab05e78d button.colab-df-convert');\n",
              "        buttonEl.style.display =\n",
              "          google.colab.kernel.accessAllowed ? 'block' : 'none';\n",
              "\n",
              "        async function convertToInteractive(key) {\n",
              "          const element = document.querySelector('#df-a0e444b4-43bb-4539-9431-763dab05e78d');\n",
              "          const dataTable =\n",
              "            await google.colab.kernel.invokeFunction('convertToInteractive',\n",
              "                                                     [key], {});\n",
              "          if (!dataTable) return;\n",
              "\n",
              "          const docLinkHtml = 'Like what you see? Visit the ' +\n",
              "            '<a target=\"_blank\" href=https://colab.research.google.com/notebooks/data_table.ipynb>data table notebook</a>'\n",
              "            + ' to learn more about interactive tables.';\n",
              "          element.innerHTML = '';\n",
              "          dataTable['output_type'] = 'display_data';\n",
              "          await google.colab.output.renderOutput(dataTable, element);\n",
              "          const docLink = document.createElement('div');\n",
              "          docLink.innerHTML = docLinkHtml;\n",
              "          element.appendChild(docLink);\n",
              "        }\n",
              "      </script>\n",
              "    </div>\n",
              "  </div>\n",
              "  "
            ],
            "text/plain": [
              "    total_loc  blank_loc  comment_loc  code_and_comment_loc  executable_loc  \\\n",
              "0          13          0            1                     0              12   \n",
              "1          20          0           12                     0               8   \n",
              "2          40          0           17                     0              23   \n",
              "3           8          0            3                     0               5   \n",
              "4          10          0            2                     0               8   \n",
              "..        ...        ...          ...                   ...             ...   \n",
              "95         27          0           10                     0              17   \n",
              "96          9          0            0                     0               9   \n",
              "97         10          0            7                     0               3   \n",
              "98         51          2           17                     0              32   \n",
              "99         28          2           11                     0              15   \n",
              "\n",
              "    unique_operands  unique_operators  total_operands  total_operators  \\\n",
              "0                10                 8              21               26   \n",
              "1                14                12              21               34   \n",
              "2                20                18              64               90   \n",
              "3                 7                13              13               21   \n",
              "4                 4                 5               5               10   \n",
              "..              ...               ...             ...              ...   \n",
              "95               15                 9              36               48   \n",
              "96                7                 3               8               15   \n",
              "97                7                 3               7               15   \n",
              "98               26                 9              44               69   \n",
              "99               11                 7              17               31   \n",
              "\n",
              "    halstead_vocabulary  ...  condition_count  multiple_condition_count  \\\n",
              "0                    18  ...                0                         0   \n",
              "1                    26  ...                3                         0   \n",
              "2                    38  ...               11                         2   \n",
              "3                    20  ...                1                         0   \n",
              "4                     9  ...                1                         0   \n",
              "..                  ...  ...              ...                       ...   \n",
              "95                   24  ...                4                         1   \n",
              "96                   10  ...                0                         0   \n",
              "97                   10  ...                0                         0   \n",
              "98                   35  ...                6                         0   \n",
              "99                   18  ...                2                         0   \n",
              "\n",
              "    cyclomatic_complexity  cyclomatic_density  decision_density  \\\n",
              "0                       2                0.17              0.00   \n",
              "1                       4                0.50              1.00   \n",
              "2                      11                0.48              1.09   \n",
              "3                       3                0.60              2.00   \n",
              "4                       2                0.25              1.00   \n",
              "..                    ...                 ...               ...   \n",
              "95                      4                0.24              1.00   \n",
              "96                      1                0.11              0.00   \n",
              "97                      1                0.33              0.00   \n",
              "98                      7                0.22              1.00   \n",
              "99                      3                0.20              1.00   \n",
              "\n",
              "    design_complexity  design_density  normalized_cyclomatic_complexity  \\\n",
              "0                 0.0            0.00                              0.15   \n",
              "1                 0.0            0.00                              0.20   \n",
              "2                 1.0            0.09                              0.28   \n",
              "3                 0.0            0.00                              0.38   \n",
              "4                 1.0            0.50                              0.20   \n",
              "..                ...             ...                               ...   \n",
              "95                5.0            1.25                              0.15   \n",
              "96                6.0            6.00                              0.11   \n",
              "97                6.0            6.00                              0.10   \n",
              "98                8.0            1.14                              0.14   \n",
              "99                5.0            1.67                              0.11   \n",
              "\n",
              "    formal_parameters  problems  \n",
              "0                 0.0     False  \n",
              "1                 0.0     False  \n",
              "2                 0.0     False  \n",
              "3                 1.0     False  \n",
              "4                 0.0     False  \n",
              "..                ...       ...  \n",
              "95                0.0     False  \n",
              "96                0.0     False  \n",
              "97                0.0     False  \n",
              "98                0.0     False  \n",
              "99                0.0     False  \n",
              "\n",
              "[100 rows x 30 columns]"
            ]
          },
          "execution_count": 2848,
          "metadata": {},
          "output_type": "execute_result"
        }
      ],
      "source": [
        "ar6_df"
      ]
    },
    {
      "cell_type": "markdown",
      "metadata": {
        "id": "7PDhfVhWrjYP"
      },
      "source": [
        "####**Spiliting Dataset**\n",
        "training: 80% testing:20%"
      ]
    },
    {
      "cell_type": "code",
      "execution_count": null,
      "metadata": {
        "colab": {
          "background_save": true
        },
        "id": "6Tlzoc_SrsKb"
      },
      "outputs": [],
      "source": [
        "x = ar6_df.iloc[:,:-1]\n",
        "y = ar6_df.iloc[:,-1]\n",
        "\n",
        "from sklearn.model_selection import train_test_split\n",
        "x_train, x_test, y_train, y_test = train_test_split(x,y,test_size=0.20,random_state=0, stratify=ar6_df.problems)\n",
        "\n",
        "from sklearn.preprocessing import StandardScaler    \n",
        "st_x= StandardScaler()    \n",
        "x_train= st_x.fit_transform(x_train)    \n",
        "x_test= st_x.transform(x_test)  "
      ]
    },
    {
      "cell_type": "markdown",
      "metadata": {
        "id": "tOZGYo5daeKl"
      },
      "source": []
    },
    {
      "cell_type": "markdown",
      "metadata": {
        "id": "xMcKqKuMraOH"
      },
      "source": [
        "###**Logistic Regression**"
      ]
    },
    {
      "cell_type": "code",
      "execution_count": null,
      "metadata": {
        "colab": {
          "background_save": true
        },
        "id": "VE08nnsZaenu"
      },
      "outputs": [],
      "source": []
    },
    {
      "cell_type": "code",
      "execution_count": null,
      "metadata": {
        "colab": {
          "background_save": true
        },
        "id": "owJKN4jjw37A",
        "outputId": "8b6aeb6c-bd67-47c6-e945-a72251481d05"
      },
      "outputs": [
        {
          "name": "stdout",
          "output_type": "stream",
          "text": [
            "Test Accuracy Score:  0.85\n",
            "Confusion Matrix: \n",
            " [[17  0]\n",
            " [ 3  0]]\n"
          ]
        }
      ],
      "source": [
        "from sklearn.linear_model import LogisticRegression  \n",
        "classifier= LogisticRegression(random_state=0)  \n",
        "classifier.fit(x_train, y_train) \n",
        "\n",
        "y_pred= classifier.predict(x_test)\n",
        "\n",
        "score_ = accuracy_score(y_test, y_pred)\n",
        "print(\"Test Accuracy Score: \", score_)\n",
        "\n",
        "from sklearn.metrics import confusion_matrix  \n",
        "cm= confusion_matrix(y_test,y_pred)\n",
        "print(\"Confusion Matrix: \\n\",cm)"
      ]
    },
    {
      "cell_type": "code",
      "execution_count": null,
      "metadata": {
        "colab": {
          "background_save": true
        },
        "id": "BrYtMh7DEZKL",
        "outputId": "4928da50-62e7-4d16-a3fe-7525927dd03a"
      },
      "outputs": [
        {
          "name": "stderr",
          "output_type": "stream",
          "text": [
            "/usr/local/lib/python3.8/dist-packages/sklearn/linear_model/_logistic.py:814: ConvergenceWarning: lbfgs failed to converge (status=1):\n",
            "STOP: TOTAL NO. of ITERATIONS REACHED LIMIT.\n",
            "\n",
            "Increase the number of iterations (max_iter) or scale the data as shown in:\n",
            "    https://scikit-learn.org/stable/modules/preprocessing.html\n",
            "Please also refer to the documentation for alternative solver options:\n",
            "    https://scikit-learn.org/stable/modules/linear_model.html#logistic-regression\n",
            "  n_iter_i = _check_optimize_result(\n",
            "/usr/local/lib/python3.8/dist-packages/sklearn/linear_model/_logistic.py:814: ConvergenceWarning: lbfgs failed to converge (status=1):\n",
            "STOP: TOTAL NO. of ITERATIONS REACHED LIMIT.\n",
            "\n",
            "Increase the number of iterations (max_iter) or scale the data as shown in:\n",
            "    https://scikit-learn.org/stable/modules/preprocessing.html\n",
            "Please also refer to the documentation for alternative solver options:\n",
            "    https://scikit-learn.org/stable/modules/linear_model.html#logistic-regression\n",
            "  n_iter_i = _check_optimize_result(\n"
          ]
        }
      ],
      "source": [
        "sk_folds = StratifiedKFold(n_splits = 2)\n",
        "scores = cross_val_score(classifier, x, y, cv = sk_folds)"
      ]
    },
    {
      "cell_type": "code",
      "execution_count": null,
      "metadata": {
        "colab": {
          "background_save": true
        },
        "id": "TVVcoHXWEZKM",
        "outputId": "dac263ab-9e41-402b-8eed-04e769667296"
      },
      "outputs": [
        {
          "name": "stdout",
          "output_type": "stream",
          "text": [
            "Test Accuracy Score:  [0.76 0.74]\n"
          ]
        }
      ],
      "source": [
        "print(\"Test Accuracy Score: \", scores)"
      ]
    },
    {
      "cell_type": "code",
      "execution_count": null,
      "metadata": {
        "colab": {
          "background_save": true
        },
        "id": "HveD1I9013Xn",
        "outputId": "d9f1e982-717b-4874-de76-85f8e4e6a0bc"
      },
      "outputs": [
        {
          "name": "stdout",
          "output_type": "stream",
          "text": [
            "Average CV Score:  0.75\n",
            "Test Accuracy Score:  [0.76 0.74]\n"
          ]
        }
      ],
      "source": [
        "print(\"Average CV Score: \", scores.mean())\n",
        "print(\"Test Accuracy Score: \", scores)"
      ]
    },
    {
      "cell_type": "code",
      "execution_count": null,
      "metadata": {
        "colab": {
          "background_save": true
        },
        "id": "lG19yU_OEZKN",
        "outputId": "b76e10c8-2418-4259-d0f8-b2ec355e37de"
      },
      "outputs": [
        {
          "name": "stderr",
          "output_type": "stream",
          "text": [
            "/usr/local/lib/python3.8/dist-packages/sklearn/linear_model/_logistic.py:814: ConvergenceWarning: lbfgs failed to converge (status=1):\n",
            "STOP: TOTAL NO. of ITERATIONS REACHED LIMIT.\n",
            "\n",
            "Increase the number of iterations (max_iter) or scale the data as shown in:\n",
            "    https://scikit-learn.org/stable/modules/preprocessing.html\n",
            "Please also refer to the documentation for alternative solver options:\n",
            "    https://scikit-learn.org/stable/modules/linear_model.html#logistic-regression\n",
            "  n_iter_i = _check_optimize_result(\n",
            "/usr/local/lib/python3.8/dist-packages/sklearn/linear_model/_logistic.py:814: ConvergenceWarning: lbfgs failed to converge (status=1):\n",
            "STOP: TOTAL NO. of ITERATIONS REACHED LIMIT.\n",
            "\n",
            "Increase the number of iterations (max_iter) or scale the data as shown in:\n",
            "    https://scikit-learn.org/stable/modules/preprocessing.html\n",
            "Please also refer to the documentation for alternative solver options:\n",
            "    https://scikit-learn.org/stable/modules/linear_model.html#logistic-regression\n",
            "  n_iter_i = _check_optimize_result(\n",
            "/usr/local/lib/python3.8/dist-packages/sklearn/linear_model/_logistic.py:814: ConvergenceWarning: lbfgs failed to converge (status=1):\n",
            "STOP: TOTAL NO. of ITERATIONS REACHED LIMIT.\n",
            "\n",
            "Increase the number of iterations (max_iter) or scale the data as shown in:\n",
            "    https://scikit-learn.org/stable/modules/preprocessing.html\n",
            "Please also refer to the documentation for alternative solver options:\n",
            "    https://scikit-learn.org/stable/modules/linear_model.html#logistic-regression\n",
            "  n_iter_i = _check_optimize_result(\n"
          ]
        }
      ],
      "source": [
        "sk_folds = StratifiedKFold(n_splits = 3)\n",
        "scores = cross_val_score(classifier, x, y, cv = sk_folds)"
      ]
    },
    {
      "cell_type": "code",
      "execution_count": null,
      "metadata": {
        "colab": {
          "background_save": true
        },
        "id": "wG6EodriEZKN",
        "outputId": "f9f9f8b4-aef1-473b-d272-a946b9333339"
      },
      "outputs": [
        {
          "name": "stdout",
          "output_type": "stream",
          "text": [
            "Test Accuracy Score:  [0.82352941 0.78787879 0.78787879]\n"
          ]
        }
      ],
      "source": [
        "print(\"Test Accuracy Score: \", scores)"
      ]
    },
    {
      "cell_type": "code",
      "execution_count": null,
      "metadata": {
        "colab": {
          "background_save": true
        },
        "id": "dCv_5rIw13AO",
        "outputId": "29fb5a1b-d3ce-49d6-e7de-dab887d1d4d2"
      },
      "outputs": [
        {
          "name": "stdout",
          "output_type": "stream",
          "text": [
            "Average CV Score:  0.799762329174094\n",
            "Test Accuracy Score:  [0.82352941 0.78787879 0.78787879]\n"
          ]
        }
      ],
      "source": [
        "print(\"Average CV Score: \", scores.mean())\n",
        "print(\"Test Accuracy Score: \", scores)"
      ]
    },
    {
      "cell_type": "code",
      "execution_count": null,
      "metadata": {
        "colab": {
          "background_save": true
        },
        "id": "8ZQIX-4rEZKO",
        "outputId": "9f428141-8843-40db-ddc7-150c3cf6846d"
      },
      "outputs": [
        {
          "name": "stderr",
          "output_type": "stream",
          "text": [
            "/usr/local/lib/python3.8/dist-packages/sklearn/linear_model/_logistic.py:814: ConvergenceWarning: lbfgs failed to converge (status=1):\n",
            "STOP: TOTAL NO. of ITERATIONS REACHED LIMIT.\n",
            "\n",
            "Increase the number of iterations (max_iter) or scale the data as shown in:\n",
            "    https://scikit-learn.org/stable/modules/preprocessing.html\n",
            "Please also refer to the documentation for alternative solver options:\n",
            "    https://scikit-learn.org/stable/modules/linear_model.html#logistic-regression\n",
            "  n_iter_i = _check_optimize_result(\n",
            "/usr/local/lib/python3.8/dist-packages/sklearn/linear_model/_logistic.py:814: ConvergenceWarning: lbfgs failed to converge (status=1):\n",
            "STOP: TOTAL NO. of ITERATIONS REACHED LIMIT.\n",
            "\n",
            "Increase the number of iterations (max_iter) or scale the data as shown in:\n",
            "    https://scikit-learn.org/stable/modules/preprocessing.html\n",
            "Please also refer to the documentation for alternative solver options:\n",
            "    https://scikit-learn.org/stable/modules/linear_model.html#logistic-regression\n",
            "  n_iter_i = _check_optimize_result(\n",
            "/usr/local/lib/python3.8/dist-packages/sklearn/linear_model/_logistic.py:814: ConvergenceWarning: lbfgs failed to converge (status=1):\n",
            "STOP: TOTAL NO. of ITERATIONS REACHED LIMIT.\n",
            "\n",
            "Increase the number of iterations (max_iter) or scale the data as shown in:\n",
            "    https://scikit-learn.org/stable/modules/preprocessing.html\n",
            "Please also refer to the documentation for alternative solver options:\n",
            "    https://scikit-learn.org/stable/modules/linear_model.html#logistic-regression\n",
            "  n_iter_i = _check_optimize_result(\n",
            "/usr/local/lib/python3.8/dist-packages/sklearn/linear_model/_logistic.py:814: ConvergenceWarning: lbfgs failed to converge (status=1):\n",
            "STOP: TOTAL NO. of ITERATIONS REACHED LIMIT.\n",
            "\n",
            "Increase the number of iterations (max_iter) or scale the data as shown in:\n",
            "    https://scikit-learn.org/stable/modules/preprocessing.html\n",
            "Please also refer to the documentation for alternative solver options:\n",
            "    https://scikit-learn.org/stable/modules/linear_model.html#logistic-regression\n",
            "  n_iter_i = _check_optimize_result(\n"
          ]
        }
      ],
      "source": [
        "sk_folds = StratifiedKFold(n_splits = 4)\n",
        "scores = cross_val_score(classifier, x, y, cv = sk_folds)"
      ]
    },
    {
      "cell_type": "code",
      "execution_count": null,
      "metadata": {
        "colab": {
          "background_save": true
        },
        "id": "dFpO9I_pEZKO",
        "outputId": "b1a7689c-5f0e-434b-9511-d5e4a138f3f4"
      },
      "outputs": [
        {
          "name": "stdout",
          "output_type": "stream",
          "text": [
            "Test Accuracy Score:  [0.88 0.76 0.8  0.72]\n"
          ]
        }
      ],
      "source": [
        "print(\"Test Accuracy Score: \", scores)"
      ]
    },
    {
      "cell_type": "code",
      "execution_count": null,
      "metadata": {
        "colab": {
          "background_save": true
        },
        "id": "3CuXEWTa12xl",
        "outputId": "8a27a55e-90f3-4092-ab49-9eeeb89c52d7"
      },
      "outputs": [
        {
          "name": "stdout",
          "output_type": "stream",
          "text": [
            "Average CV Score:  0.79\n",
            "Test Accuracy Score:  [0.88 0.76 0.8  0.72]\n"
          ]
        }
      ],
      "source": [
        "print(\"Average CV Score: \", scores.mean())\n",
        "print(\"Test Accuracy Score: \", scores)"
      ]
    },
    {
      "cell_type": "code",
      "execution_count": null,
      "metadata": {
        "colab": {
          "background_save": true
        },
        "id": "FtNArJjLEZKO",
        "outputId": "74b3ba54-126e-435e-b365-ffa5ba9a1dc1"
      },
      "outputs": [
        {
          "name": "stderr",
          "output_type": "stream",
          "text": [
            "/usr/local/lib/python3.8/dist-packages/sklearn/linear_model/_logistic.py:814: ConvergenceWarning: lbfgs failed to converge (status=1):\n",
            "STOP: TOTAL NO. of ITERATIONS REACHED LIMIT.\n",
            "\n",
            "Increase the number of iterations (max_iter) or scale the data as shown in:\n",
            "    https://scikit-learn.org/stable/modules/preprocessing.html\n",
            "Please also refer to the documentation for alternative solver options:\n",
            "    https://scikit-learn.org/stable/modules/linear_model.html#logistic-regression\n",
            "  n_iter_i = _check_optimize_result(\n",
            "/usr/local/lib/python3.8/dist-packages/sklearn/linear_model/_logistic.py:814: ConvergenceWarning: lbfgs failed to converge (status=1):\n",
            "STOP: TOTAL NO. of ITERATIONS REACHED LIMIT.\n",
            "\n",
            "Increase the number of iterations (max_iter) or scale the data as shown in:\n",
            "    https://scikit-learn.org/stable/modules/preprocessing.html\n",
            "Please also refer to the documentation for alternative solver options:\n",
            "    https://scikit-learn.org/stable/modules/linear_model.html#logistic-regression\n",
            "  n_iter_i = _check_optimize_result(\n",
            "/usr/local/lib/python3.8/dist-packages/sklearn/linear_model/_logistic.py:814: ConvergenceWarning: lbfgs failed to converge (status=1):\n",
            "STOP: TOTAL NO. of ITERATIONS REACHED LIMIT.\n",
            "\n",
            "Increase the number of iterations (max_iter) or scale the data as shown in:\n",
            "    https://scikit-learn.org/stable/modules/preprocessing.html\n",
            "Please also refer to the documentation for alternative solver options:\n",
            "    https://scikit-learn.org/stable/modules/linear_model.html#logistic-regression\n",
            "  n_iter_i = _check_optimize_result(\n",
            "/usr/local/lib/python3.8/dist-packages/sklearn/linear_model/_logistic.py:814: ConvergenceWarning: lbfgs failed to converge (status=1):\n",
            "STOP: TOTAL NO. of ITERATIONS REACHED LIMIT.\n",
            "\n",
            "Increase the number of iterations (max_iter) or scale the data as shown in:\n",
            "    https://scikit-learn.org/stable/modules/preprocessing.html\n",
            "Please also refer to the documentation for alternative solver options:\n",
            "    https://scikit-learn.org/stable/modules/linear_model.html#logistic-regression\n",
            "  n_iter_i = _check_optimize_result(\n",
            "/usr/local/lib/python3.8/dist-packages/sklearn/linear_model/_logistic.py:814: ConvergenceWarning: lbfgs failed to converge (status=1):\n",
            "STOP: TOTAL NO. of ITERATIONS REACHED LIMIT.\n",
            "\n",
            "Increase the number of iterations (max_iter) or scale the data as shown in:\n",
            "    https://scikit-learn.org/stable/modules/preprocessing.html\n",
            "Please also refer to the documentation for alternative solver options:\n",
            "    https://scikit-learn.org/stable/modules/linear_model.html#logistic-regression\n",
            "  n_iter_i = _check_optimize_result(\n"
          ]
        }
      ],
      "source": [
        "sk_folds = StratifiedKFold(n_splits = 5)\n",
        "scores = cross_val_score(classifier, x, y, cv = sk_folds)"
      ]
    },
    {
      "cell_type": "code",
      "execution_count": null,
      "metadata": {
        "colab": {
          "background_save": true
        },
        "id": "IfI7CjcVEZKP",
        "outputId": "72cedabc-148e-445e-80c8-92231bff0c25"
      },
      "outputs": [
        {
          "name": "stdout",
          "output_type": "stream",
          "text": [
            "Test Accuracy Score:  [0.85 0.8  0.85 0.9  0.65]\n"
          ]
        }
      ],
      "source": [
        "print(\"Test Accuracy Score: \", scores)"
      ]
    },
    {
      "cell_type": "code",
      "execution_count": null,
      "metadata": {
        "colab": {
          "background_save": true
        },
        "id": "U_nzyDTJ10yG",
        "outputId": "de7c777f-1477-42ce-9a39-e50db38245a8"
      },
      "outputs": [
        {
          "name": "stdout",
          "output_type": "stream",
          "text": [
            "Average CV Score:  0.8099999999999999\n",
            "Test Accuracy Score:  [0.85 0.8  0.85 0.9  0.65]\n"
          ]
        }
      ],
      "source": [
        "print(\"Average CV Score: \", scores.mean())\n",
        "print(\"Test Accuracy Score: \", scores)"
      ]
    },
    {
      "cell_type": "code",
      "execution_count": null,
      "metadata": {
        "colab": {
          "background_save": true
        },
        "id": "N3MI0eLREZKP",
        "outputId": "3452a7d9-e7d1-4cd2-b991-f1f06a32327a"
      },
      "outputs": [
        {
          "name": "stderr",
          "output_type": "stream",
          "text": [
            "/usr/local/lib/python3.8/dist-packages/sklearn/linear_model/_logistic.py:814: ConvergenceWarning: lbfgs failed to converge (status=1):\n",
            "STOP: TOTAL NO. of ITERATIONS REACHED LIMIT.\n",
            "\n",
            "Increase the number of iterations (max_iter) or scale the data as shown in:\n",
            "    https://scikit-learn.org/stable/modules/preprocessing.html\n",
            "Please also refer to the documentation for alternative solver options:\n",
            "    https://scikit-learn.org/stable/modules/linear_model.html#logistic-regression\n",
            "  n_iter_i = _check_optimize_result(\n",
            "/usr/local/lib/python3.8/dist-packages/sklearn/linear_model/_logistic.py:814: ConvergenceWarning: lbfgs failed to converge (status=1):\n",
            "STOP: TOTAL NO. of ITERATIONS REACHED LIMIT.\n",
            "\n",
            "Increase the number of iterations (max_iter) or scale the data as shown in:\n",
            "    https://scikit-learn.org/stable/modules/preprocessing.html\n",
            "Please also refer to the documentation for alternative solver options:\n",
            "    https://scikit-learn.org/stable/modules/linear_model.html#logistic-regression\n",
            "  n_iter_i = _check_optimize_result(\n",
            "/usr/local/lib/python3.8/dist-packages/sklearn/linear_model/_logistic.py:814: ConvergenceWarning: lbfgs failed to converge (status=1):\n",
            "STOP: TOTAL NO. of ITERATIONS REACHED LIMIT.\n",
            "\n",
            "Increase the number of iterations (max_iter) or scale the data as shown in:\n",
            "    https://scikit-learn.org/stable/modules/preprocessing.html\n",
            "Please also refer to the documentation for alternative solver options:\n",
            "    https://scikit-learn.org/stable/modules/linear_model.html#logistic-regression\n",
            "  n_iter_i = _check_optimize_result(\n",
            "/usr/local/lib/python3.8/dist-packages/sklearn/linear_model/_logistic.py:814: ConvergenceWarning: lbfgs failed to converge (status=1):\n",
            "STOP: TOTAL NO. of ITERATIONS REACHED LIMIT.\n",
            "\n",
            "Increase the number of iterations (max_iter) or scale the data as shown in:\n",
            "    https://scikit-learn.org/stable/modules/preprocessing.html\n",
            "Please also refer to the documentation for alternative solver options:\n",
            "    https://scikit-learn.org/stable/modules/linear_model.html#logistic-regression\n",
            "  n_iter_i = _check_optimize_result(\n",
            "/usr/local/lib/python3.8/dist-packages/sklearn/linear_model/_logistic.py:814: ConvergenceWarning: lbfgs failed to converge (status=1):\n",
            "STOP: TOTAL NO. of ITERATIONS REACHED LIMIT.\n",
            "\n",
            "Increase the number of iterations (max_iter) or scale the data as shown in:\n",
            "    https://scikit-learn.org/stable/modules/preprocessing.html\n",
            "Please also refer to the documentation for alternative solver options:\n",
            "    https://scikit-learn.org/stable/modules/linear_model.html#logistic-regression\n",
            "  n_iter_i = _check_optimize_result(\n",
            "/usr/local/lib/python3.8/dist-packages/sklearn/linear_model/_logistic.py:814: ConvergenceWarning: lbfgs failed to converge (status=1):\n",
            "STOP: TOTAL NO. of ITERATIONS REACHED LIMIT.\n",
            "\n",
            "Increase the number of iterations (max_iter) or scale the data as shown in:\n",
            "    https://scikit-learn.org/stable/modules/preprocessing.html\n",
            "Please also refer to the documentation for alternative solver options:\n",
            "    https://scikit-learn.org/stable/modules/linear_model.html#logistic-regression\n",
            "  n_iter_i = _check_optimize_result(\n"
          ]
        }
      ],
      "source": [
        "sk_folds = StratifiedKFold(n_splits = 6)\n",
        "scores = cross_val_score(classifier, x, y, cv = sk_folds)"
      ]
    },
    {
      "cell_type": "code",
      "execution_count": null,
      "metadata": {
        "colab": {
          "background_save": true
        },
        "id": "1K_n-knwEZKQ",
        "outputId": "2e97de8a-1a38-4c5c-b8a3-ab0308f11878"
      },
      "outputs": [
        {
          "name": "stdout",
          "output_type": "stream",
          "text": [
            "Test Accuracy Score:  [0.88235294 0.70588235 0.94117647 0.82352941 0.9375     1.        ]\n"
          ]
        }
      ],
      "source": [
        "print(\"Test Accuracy Score: \", scores)"
      ]
    },
    {
      "cell_type": "code",
      "execution_count": null,
      "metadata": {
        "colab": {
          "background_save": true
        },
        "id": "_eEBIGlc10e7",
        "outputId": "63e788e2-b867-4bf6-92df-ddec76c41ab6"
      },
      "outputs": [
        {
          "name": "stdout",
          "output_type": "stream",
          "text": [
            "Average CV Score:  0.8817401960784313\n",
            "Test Accuracy Score:  [0.88235294 0.70588235 0.94117647 0.82352941 0.9375     1.        ]\n"
          ]
        }
      ],
      "source": [
        "print(\"Average CV Score: \", scores.mean())\n",
        "print(\"Test Accuracy Score: \", scores)"
      ]
    },
    {
      "cell_type": "code",
      "execution_count": null,
      "metadata": {
        "colab": {
          "background_save": true
        },
        "id": "zxMwFu2JEZKQ",
        "outputId": "75e070be-96c2-4cb7-a7f8-8c85deff51ef"
      },
      "outputs": [
        {
          "name": "stderr",
          "output_type": "stream",
          "text": [
            "/usr/local/lib/python3.8/dist-packages/sklearn/linear_model/_logistic.py:814: ConvergenceWarning: lbfgs failed to converge (status=1):\n",
            "STOP: TOTAL NO. of ITERATIONS REACHED LIMIT.\n",
            "\n",
            "Increase the number of iterations (max_iter) or scale the data as shown in:\n",
            "    https://scikit-learn.org/stable/modules/preprocessing.html\n",
            "Please also refer to the documentation for alternative solver options:\n",
            "    https://scikit-learn.org/stable/modules/linear_model.html#logistic-regression\n",
            "  n_iter_i = _check_optimize_result(\n",
            "/usr/local/lib/python3.8/dist-packages/sklearn/linear_model/_logistic.py:814: ConvergenceWarning: lbfgs failed to converge (status=1):\n",
            "STOP: TOTAL NO. of ITERATIONS REACHED LIMIT.\n",
            "\n",
            "Increase the number of iterations (max_iter) or scale the data as shown in:\n",
            "    https://scikit-learn.org/stable/modules/preprocessing.html\n",
            "Please also refer to the documentation for alternative solver options:\n",
            "    https://scikit-learn.org/stable/modules/linear_model.html#logistic-regression\n",
            "  n_iter_i = _check_optimize_result(\n",
            "/usr/local/lib/python3.8/dist-packages/sklearn/linear_model/_logistic.py:814: ConvergenceWarning: lbfgs failed to converge (status=1):\n",
            "STOP: TOTAL NO. of ITERATIONS REACHED LIMIT.\n",
            "\n",
            "Increase the number of iterations (max_iter) or scale the data as shown in:\n",
            "    https://scikit-learn.org/stable/modules/preprocessing.html\n",
            "Please also refer to the documentation for alternative solver options:\n",
            "    https://scikit-learn.org/stable/modules/linear_model.html#logistic-regression\n",
            "  n_iter_i = _check_optimize_result(\n",
            "/usr/local/lib/python3.8/dist-packages/sklearn/linear_model/_logistic.py:814: ConvergenceWarning: lbfgs failed to converge (status=1):\n",
            "STOP: TOTAL NO. of ITERATIONS REACHED LIMIT.\n",
            "\n",
            "Increase the number of iterations (max_iter) or scale the data as shown in:\n",
            "    https://scikit-learn.org/stable/modules/preprocessing.html\n",
            "Please also refer to the documentation for alternative solver options:\n",
            "    https://scikit-learn.org/stable/modules/linear_model.html#logistic-regression\n",
            "  n_iter_i = _check_optimize_result(\n",
            "/usr/local/lib/python3.8/dist-packages/sklearn/linear_model/_logistic.py:814: ConvergenceWarning: lbfgs failed to converge (status=1):\n",
            "STOP: TOTAL NO. of ITERATIONS REACHED LIMIT.\n",
            "\n",
            "Increase the number of iterations (max_iter) or scale the data as shown in:\n",
            "    https://scikit-learn.org/stable/modules/preprocessing.html\n",
            "Please also refer to the documentation for alternative solver options:\n",
            "    https://scikit-learn.org/stable/modules/linear_model.html#logistic-regression\n",
            "  n_iter_i = _check_optimize_result(\n",
            "/usr/local/lib/python3.8/dist-packages/sklearn/linear_model/_logistic.py:814: ConvergenceWarning: lbfgs failed to converge (status=1):\n",
            "STOP: TOTAL NO. of ITERATIONS REACHED LIMIT.\n",
            "\n",
            "Increase the number of iterations (max_iter) or scale the data as shown in:\n",
            "    https://scikit-learn.org/stable/modules/preprocessing.html\n",
            "Please also refer to the documentation for alternative solver options:\n",
            "    https://scikit-learn.org/stable/modules/linear_model.html#logistic-regression\n",
            "  n_iter_i = _check_optimize_result(\n",
            "/usr/local/lib/python3.8/dist-packages/sklearn/linear_model/_logistic.py:814: ConvergenceWarning: lbfgs failed to converge (status=1):\n",
            "STOP: TOTAL NO. of ITERATIONS REACHED LIMIT.\n",
            "\n",
            "Increase the number of iterations (max_iter) or scale the data as shown in:\n",
            "    https://scikit-learn.org/stable/modules/preprocessing.html\n",
            "Please also refer to the documentation for alternative solver options:\n",
            "    https://scikit-learn.org/stable/modules/linear_model.html#logistic-regression\n",
            "  n_iter_i = _check_optimize_result(\n"
          ]
        }
      ],
      "source": [
        "sk_folds = StratifiedKFold(n_splits = 7)\n",
        "scores = cross_val_score(classifier, x, y, cv = sk_folds)"
      ]
    },
    {
      "cell_type": "code",
      "execution_count": null,
      "metadata": {
        "colab": {
          "background_save": true
        },
        "id": "BvNqnJLDEZKQ",
        "outputId": "ae4691fd-5522-4c5b-8594-23cb50f5ca08"
      },
      "outputs": [
        {
          "name": "stdout",
          "output_type": "stream",
          "text": [
            "Test Accuracy Score:  [0.8        0.66666667 0.92857143 0.85714286 0.78571429 0.85714286\n",
            " 1.        ]\n"
          ]
        }
      ],
      "source": [
        "print(\"Test Accuracy Score: \", scores)"
      ]
    },
    {
      "cell_type": "code",
      "execution_count": null,
      "metadata": {
        "colab": {
          "background_save": true
        },
        "id": "L8fludoA10QF",
        "outputId": "94c435ec-55e3-443e-dfcf-4f92b1f5a61d"
      },
      "outputs": [
        {
          "name": "stdout",
          "output_type": "stream",
          "text": [
            "Average CV Score:  0.8421768707482994\n",
            "Test Accuracy Score:  [0.8        0.66666667 0.92857143 0.85714286 0.78571429 0.85714286\n",
            " 1.        ]\n"
          ]
        }
      ],
      "source": [
        "print(\"Average CV Score: \", scores.mean())\n",
        "print(\"Test Accuracy Score: \", scores)"
      ]
    },
    {
      "cell_type": "code",
      "execution_count": null,
      "metadata": {
        "colab": {
          "background_save": true
        },
        "id": "nUl0Vdf3EZKR",
        "outputId": "e7bcad1e-02b2-4756-a0eb-34c7e3db7ff6"
      },
      "outputs": [
        {
          "name": "stderr",
          "output_type": "stream",
          "text": [
            "/usr/local/lib/python3.8/dist-packages/sklearn/linear_model/_logistic.py:814: ConvergenceWarning: lbfgs failed to converge (status=1):\n",
            "STOP: TOTAL NO. of ITERATIONS REACHED LIMIT.\n",
            "\n",
            "Increase the number of iterations (max_iter) or scale the data as shown in:\n",
            "    https://scikit-learn.org/stable/modules/preprocessing.html\n",
            "Please also refer to the documentation for alternative solver options:\n",
            "    https://scikit-learn.org/stable/modules/linear_model.html#logistic-regression\n",
            "  n_iter_i = _check_optimize_result(\n",
            "/usr/local/lib/python3.8/dist-packages/sklearn/linear_model/_logistic.py:814: ConvergenceWarning: lbfgs failed to converge (status=1):\n",
            "STOP: TOTAL NO. of ITERATIONS REACHED LIMIT.\n",
            "\n",
            "Increase the number of iterations (max_iter) or scale the data as shown in:\n",
            "    https://scikit-learn.org/stable/modules/preprocessing.html\n",
            "Please also refer to the documentation for alternative solver options:\n",
            "    https://scikit-learn.org/stable/modules/linear_model.html#logistic-regression\n",
            "  n_iter_i = _check_optimize_result(\n",
            "/usr/local/lib/python3.8/dist-packages/sklearn/linear_model/_logistic.py:814: ConvergenceWarning: lbfgs failed to converge (status=1):\n",
            "STOP: TOTAL NO. of ITERATIONS REACHED LIMIT.\n",
            "\n",
            "Increase the number of iterations (max_iter) or scale the data as shown in:\n",
            "    https://scikit-learn.org/stable/modules/preprocessing.html\n",
            "Please also refer to the documentation for alternative solver options:\n",
            "    https://scikit-learn.org/stable/modules/linear_model.html#logistic-regression\n",
            "  n_iter_i = _check_optimize_result(\n",
            "/usr/local/lib/python3.8/dist-packages/sklearn/linear_model/_logistic.py:814: ConvergenceWarning: lbfgs failed to converge (status=1):\n",
            "STOP: TOTAL NO. of ITERATIONS REACHED LIMIT.\n",
            "\n",
            "Increase the number of iterations (max_iter) or scale the data as shown in:\n",
            "    https://scikit-learn.org/stable/modules/preprocessing.html\n",
            "Please also refer to the documentation for alternative solver options:\n",
            "    https://scikit-learn.org/stable/modules/linear_model.html#logistic-regression\n",
            "  n_iter_i = _check_optimize_result(\n",
            "/usr/local/lib/python3.8/dist-packages/sklearn/linear_model/_logistic.py:814: ConvergenceWarning: lbfgs failed to converge (status=1):\n",
            "STOP: TOTAL NO. of ITERATIONS REACHED LIMIT.\n",
            "\n",
            "Increase the number of iterations (max_iter) or scale the data as shown in:\n",
            "    https://scikit-learn.org/stable/modules/preprocessing.html\n",
            "Please also refer to the documentation for alternative solver options:\n",
            "    https://scikit-learn.org/stable/modules/linear_model.html#logistic-regression\n",
            "  n_iter_i = _check_optimize_result(\n",
            "/usr/local/lib/python3.8/dist-packages/sklearn/linear_model/_logistic.py:814: ConvergenceWarning: lbfgs failed to converge (status=1):\n",
            "STOP: TOTAL NO. of ITERATIONS REACHED LIMIT.\n",
            "\n",
            "Increase the number of iterations (max_iter) or scale the data as shown in:\n",
            "    https://scikit-learn.org/stable/modules/preprocessing.html\n",
            "Please also refer to the documentation for alternative solver options:\n",
            "    https://scikit-learn.org/stable/modules/linear_model.html#logistic-regression\n",
            "  n_iter_i = _check_optimize_result(\n",
            "/usr/local/lib/python3.8/dist-packages/sklearn/linear_model/_logistic.py:814: ConvergenceWarning: lbfgs failed to converge (status=1):\n",
            "STOP: TOTAL NO. of ITERATIONS REACHED LIMIT.\n",
            "\n",
            "Increase the number of iterations (max_iter) or scale the data as shown in:\n",
            "    https://scikit-learn.org/stable/modules/preprocessing.html\n",
            "Please also refer to the documentation for alternative solver options:\n",
            "    https://scikit-learn.org/stable/modules/linear_model.html#logistic-regression\n",
            "  n_iter_i = _check_optimize_result(\n",
            "/usr/local/lib/python3.8/dist-packages/sklearn/linear_model/_logistic.py:814: ConvergenceWarning: lbfgs failed to converge (status=1):\n",
            "STOP: TOTAL NO. of ITERATIONS REACHED LIMIT.\n",
            "\n",
            "Increase the number of iterations (max_iter) or scale the data as shown in:\n",
            "    https://scikit-learn.org/stable/modules/preprocessing.html\n",
            "Please also refer to the documentation for alternative solver options:\n",
            "    https://scikit-learn.org/stable/modules/linear_model.html#logistic-regression\n",
            "  n_iter_i = _check_optimize_result(\n"
          ]
        }
      ],
      "source": [
        "sk_folds = StratifiedKFold(n_splits = 8)\n",
        "scores = cross_val_score(classifier, x, y, cv = sk_folds)"
      ]
    },
    {
      "cell_type": "code",
      "execution_count": null,
      "metadata": {
        "colab": {
          "background_save": true
        },
        "id": "Zm-3_QtN1z9J",
        "outputId": "ad084712-e232-4ce1-e22b-8d3cd7adbf75"
      },
      "outputs": [
        {
          "name": "stdout",
          "output_type": "stream",
          "text": [
            "Average CV Score:  0.8317307692307692\n",
            "Test Accuracy Score:  [0.76923077 0.84615385 0.69230769 0.84615385 0.91666667 0.83333333\n",
            " 0.75       1.        ]\n"
          ]
        }
      ],
      "source": [
        "print(\"Average CV Score: \", scores.mean())\n",
        "print(\"Test Accuracy Score: \", scores)"
      ]
    },
    {
      "cell_type": "code",
      "execution_count": null,
      "metadata": {
        "colab": {
          "background_save": true
        },
        "id": "WbKZ12nsEZKR",
        "outputId": "5adbb054-1c27-4e03-aa6f-3dce0df492a9"
      },
      "outputs": [
        {
          "name": "stderr",
          "output_type": "stream",
          "text": [
            "/usr/local/lib/python3.8/dist-packages/sklearn/linear_model/_logistic.py:814: ConvergenceWarning: lbfgs failed to converge (status=1):\n",
            "STOP: TOTAL NO. of ITERATIONS REACHED LIMIT.\n",
            "\n",
            "Increase the number of iterations (max_iter) or scale the data as shown in:\n",
            "    https://scikit-learn.org/stable/modules/preprocessing.html\n",
            "Please also refer to the documentation for alternative solver options:\n",
            "    https://scikit-learn.org/stable/modules/linear_model.html#logistic-regression\n",
            "  n_iter_i = _check_optimize_result(\n",
            "/usr/local/lib/python3.8/dist-packages/sklearn/linear_model/_logistic.py:814: ConvergenceWarning: lbfgs failed to converge (status=1):\n",
            "STOP: TOTAL NO. of ITERATIONS REACHED LIMIT.\n",
            "\n",
            "Increase the number of iterations (max_iter) or scale the data as shown in:\n",
            "    https://scikit-learn.org/stable/modules/preprocessing.html\n",
            "Please also refer to the documentation for alternative solver options:\n",
            "    https://scikit-learn.org/stable/modules/linear_model.html#logistic-regression\n",
            "  n_iter_i = _check_optimize_result(\n",
            "/usr/local/lib/python3.8/dist-packages/sklearn/linear_model/_logistic.py:814: ConvergenceWarning: lbfgs failed to converge (status=1):\n",
            "STOP: TOTAL NO. of ITERATIONS REACHED LIMIT.\n",
            "\n",
            "Increase the number of iterations (max_iter) or scale the data as shown in:\n",
            "    https://scikit-learn.org/stable/modules/preprocessing.html\n",
            "Please also refer to the documentation for alternative solver options:\n",
            "    https://scikit-learn.org/stable/modules/linear_model.html#logistic-regression\n",
            "  n_iter_i = _check_optimize_result(\n",
            "/usr/local/lib/python3.8/dist-packages/sklearn/linear_model/_logistic.py:814: ConvergenceWarning: lbfgs failed to converge (status=1):\n",
            "STOP: TOTAL NO. of ITERATIONS REACHED LIMIT.\n",
            "\n",
            "Increase the number of iterations (max_iter) or scale the data as shown in:\n",
            "    https://scikit-learn.org/stable/modules/preprocessing.html\n",
            "Please also refer to the documentation for alternative solver options:\n",
            "    https://scikit-learn.org/stable/modules/linear_model.html#logistic-regression\n",
            "  n_iter_i = _check_optimize_result(\n",
            "/usr/local/lib/python3.8/dist-packages/sklearn/linear_model/_logistic.py:814: ConvergenceWarning: lbfgs failed to converge (status=1):\n",
            "STOP: TOTAL NO. of ITERATIONS REACHED LIMIT.\n",
            "\n",
            "Increase the number of iterations (max_iter) or scale the data as shown in:\n",
            "    https://scikit-learn.org/stable/modules/preprocessing.html\n",
            "Please also refer to the documentation for alternative solver options:\n",
            "    https://scikit-learn.org/stable/modules/linear_model.html#logistic-regression\n",
            "  n_iter_i = _check_optimize_result(\n",
            "/usr/local/lib/python3.8/dist-packages/sklearn/linear_model/_logistic.py:814: ConvergenceWarning: lbfgs failed to converge (status=1):\n",
            "STOP: TOTAL NO. of ITERATIONS REACHED LIMIT.\n",
            "\n",
            "Increase the number of iterations (max_iter) or scale the data as shown in:\n",
            "    https://scikit-learn.org/stable/modules/preprocessing.html\n",
            "Please also refer to the documentation for alternative solver options:\n",
            "    https://scikit-learn.org/stable/modules/linear_model.html#logistic-regression\n",
            "  n_iter_i = _check_optimize_result(\n",
            "/usr/local/lib/python3.8/dist-packages/sklearn/linear_model/_logistic.py:814: ConvergenceWarning: lbfgs failed to converge (status=1):\n",
            "STOP: TOTAL NO. of ITERATIONS REACHED LIMIT.\n",
            "\n",
            "Increase the number of iterations (max_iter) or scale the data as shown in:\n",
            "    https://scikit-learn.org/stable/modules/preprocessing.html\n",
            "Please also refer to the documentation for alternative solver options:\n",
            "    https://scikit-learn.org/stable/modules/linear_model.html#logistic-regression\n",
            "  n_iter_i = _check_optimize_result(\n",
            "/usr/local/lib/python3.8/dist-packages/sklearn/linear_model/_logistic.py:814: ConvergenceWarning: lbfgs failed to converge (status=1):\n",
            "STOP: TOTAL NO. of ITERATIONS REACHED LIMIT.\n",
            "\n",
            "Increase the number of iterations (max_iter) or scale the data as shown in:\n",
            "    https://scikit-learn.org/stable/modules/preprocessing.html\n",
            "Please also refer to the documentation for alternative solver options:\n",
            "    https://scikit-learn.org/stable/modules/linear_model.html#logistic-regression\n",
            "  n_iter_i = _check_optimize_result(\n",
            "/usr/local/lib/python3.8/dist-packages/sklearn/linear_model/_logistic.py:814: ConvergenceWarning: lbfgs failed to converge (status=1):\n",
            "STOP: TOTAL NO. of ITERATIONS REACHED LIMIT.\n",
            "\n",
            "Increase the number of iterations (max_iter) or scale the data as shown in:\n",
            "    https://scikit-learn.org/stable/modules/preprocessing.html\n",
            "Please also refer to the documentation for alternative solver options:\n",
            "    https://scikit-learn.org/stable/modules/linear_model.html#logistic-regression\n",
            "  n_iter_i = _check_optimize_result(\n"
          ]
        }
      ],
      "source": [
        "sk_folds = StratifiedKFold(n_splits = 9)\n",
        "scores = cross_val_score(classifier, x, y, cv = sk_folds)"
      ]
    },
    {
      "cell_type": "code",
      "execution_count": null,
      "metadata": {
        "colab": {
          "background_save": true
        },
        "id": "LI_Fc81UEZKS",
        "outputId": "457acd75-e12e-47bc-808f-dd6d960c3d52"
      },
      "outputs": [
        {
          "name": "stdout",
          "output_type": "stream",
          "text": [
            "Test Accuracy Score:  [0.75       0.90909091 0.54545455 0.72727273 0.90909091 0.81818182\n",
            " 0.81818182 0.45454545 1.        ]\n"
          ]
        }
      ],
      "source": [
        "print(\"Test Accuracy Score: \", scores)"
      ]
    },
    {
      "cell_type": "code",
      "execution_count": null,
      "metadata": {
        "colab": {
          "background_save": true
        },
        "id": "2-NzZpbX1zZK",
        "outputId": "234ba0c1-ac9d-4c2f-b7ee-4ecb6391e3a1"
      },
      "outputs": [
        {
          "name": "stdout",
          "output_type": "stream",
          "text": [
            "Average CV Score:  0.7702020202020202\n",
            "Test Accuracy Score:  [0.75       0.90909091 0.54545455 0.72727273 0.90909091 0.81818182\n",
            " 0.81818182 0.45454545 1.        ]\n"
          ]
        }
      ],
      "source": [
        "print(\"Average CV Score: \", scores.mean())\n",
        "print(\"Test Accuracy Score: \", scores)"
      ]
    },
    {
      "cell_type": "code",
      "execution_count": null,
      "metadata": {
        "colab": {
          "background_save": true
        },
        "id": "m4IyiPQ_EZKS",
        "outputId": "2bc9cd13-123b-4893-a98a-2229fd301a0e"
      },
      "outputs": [
        {
          "name": "stderr",
          "output_type": "stream",
          "text": [
            "/usr/local/lib/python3.8/dist-packages/sklearn/linear_model/_logistic.py:814: ConvergenceWarning: lbfgs failed to converge (status=1):\n",
            "STOP: TOTAL NO. of ITERATIONS REACHED LIMIT.\n",
            "\n",
            "Increase the number of iterations (max_iter) or scale the data as shown in:\n",
            "    https://scikit-learn.org/stable/modules/preprocessing.html\n",
            "Please also refer to the documentation for alternative solver options:\n",
            "    https://scikit-learn.org/stable/modules/linear_model.html#logistic-regression\n",
            "  n_iter_i = _check_optimize_result(\n",
            "/usr/local/lib/python3.8/dist-packages/sklearn/linear_model/_logistic.py:814: ConvergenceWarning: lbfgs failed to converge (status=1):\n",
            "STOP: TOTAL NO. of ITERATIONS REACHED LIMIT.\n",
            "\n",
            "Increase the number of iterations (max_iter) or scale the data as shown in:\n",
            "    https://scikit-learn.org/stable/modules/preprocessing.html\n",
            "Please also refer to the documentation for alternative solver options:\n",
            "    https://scikit-learn.org/stable/modules/linear_model.html#logistic-regression\n",
            "  n_iter_i = _check_optimize_result(\n",
            "/usr/local/lib/python3.8/dist-packages/sklearn/linear_model/_logistic.py:814: ConvergenceWarning: lbfgs failed to converge (status=1):\n",
            "STOP: TOTAL NO. of ITERATIONS REACHED LIMIT.\n",
            "\n",
            "Increase the number of iterations (max_iter) or scale the data as shown in:\n",
            "    https://scikit-learn.org/stable/modules/preprocessing.html\n",
            "Please also refer to the documentation for alternative solver options:\n",
            "    https://scikit-learn.org/stable/modules/linear_model.html#logistic-regression\n",
            "  n_iter_i = _check_optimize_result(\n",
            "/usr/local/lib/python3.8/dist-packages/sklearn/linear_model/_logistic.py:814: ConvergenceWarning: lbfgs failed to converge (status=1):\n",
            "STOP: TOTAL NO. of ITERATIONS REACHED LIMIT.\n",
            "\n",
            "Increase the number of iterations (max_iter) or scale the data as shown in:\n",
            "    https://scikit-learn.org/stable/modules/preprocessing.html\n",
            "Please also refer to the documentation for alternative solver options:\n",
            "    https://scikit-learn.org/stable/modules/linear_model.html#logistic-regression\n",
            "  n_iter_i = _check_optimize_result(\n",
            "/usr/local/lib/python3.8/dist-packages/sklearn/linear_model/_logistic.py:814: ConvergenceWarning: lbfgs failed to converge (status=1):\n",
            "STOP: TOTAL NO. of ITERATIONS REACHED LIMIT.\n",
            "\n",
            "Increase the number of iterations (max_iter) or scale the data as shown in:\n",
            "    https://scikit-learn.org/stable/modules/preprocessing.html\n",
            "Please also refer to the documentation for alternative solver options:\n",
            "    https://scikit-learn.org/stable/modules/linear_model.html#logistic-regression\n",
            "  n_iter_i = _check_optimize_result(\n",
            "/usr/local/lib/python3.8/dist-packages/sklearn/linear_model/_logistic.py:814: ConvergenceWarning: lbfgs failed to converge (status=1):\n",
            "STOP: TOTAL NO. of ITERATIONS REACHED LIMIT.\n",
            "\n",
            "Increase the number of iterations (max_iter) or scale the data as shown in:\n",
            "    https://scikit-learn.org/stable/modules/preprocessing.html\n",
            "Please also refer to the documentation for alternative solver options:\n",
            "    https://scikit-learn.org/stable/modules/linear_model.html#logistic-regression\n",
            "  n_iter_i = _check_optimize_result(\n",
            "/usr/local/lib/python3.8/dist-packages/sklearn/linear_model/_logistic.py:814: ConvergenceWarning: lbfgs failed to converge (status=1):\n",
            "STOP: TOTAL NO. of ITERATIONS REACHED LIMIT.\n",
            "\n",
            "Increase the number of iterations (max_iter) or scale the data as shown in:\n",
            "    https://scikit-learn.org/stable/modules/preprocessing.html\n",
            "Please also refer to the documentation for alternative solver options:\n",
            "    https://scikit-learn.org/stable/modules/linear_model.html#logistic-regression\n",
            "  n_iter_i = _check_optimize_result(\n",
            "/usr/local/lib/python3.8/dist-packages/sklearn/linear_model/_logistic.py:814: ConvergenceWarning: lbfgs failed to converge (status=1):\n",
            "STOP: TOTAL NO. of ITERATIONS REACHED LIMIT.\n",
            "\n",
            "Increase the number of iterations (max_iter) or scale the data as shown in:\n",
            "    https://scikit-learn.org/stable/modules/preprocessing.html\n",
            "Please also refer to the documentation for alternative solver options:\n",
            "    https://scikit-learn.org/stable/modules/linear_model.html#logistic-regression\n",
            "  n_iter_i = _check_optimize_result(\n",
            "/usr/local/lib/python3.8/dist-packages/sklearn/linear_model/_logistic.py:814: ConvergenceWarning: lbfgs failed to converge (status=1):\n",
            "STOP: TOTAL NO. of ITERATIONS REACHED LIMIT.\n",
            "\n",
            "Increase the number of iterations (max_iter) or scale the data as shown in:\n",
            "    https://scikit-learn.org/stable/modules/preprocessing.html\n",
            "Please also refer to the documentation for alternative solver options:\n",
            "    https://scikit-learn.org/stable/modules/linear_model.html#logistic-regression\n",
            "  n_iter_i = _check_optimize_result(\n",
            "/usr/local/lib/python3.8/dist-packages/sklearn/linear_model/_logistic.py:814: ConvergenceWarning: lbfgs failed to converge (status=1):\n",
            "STOP: TOTAL NO. of ITERATIONS REACHED LIMIT.\n",
            "\n",
            "Increase the number of iterations (max_iter) or scale the data as shown in:\n",
            "    https://scikit-learn.org/stable/modules/preprocessing.html\n",
            "Please also refer to the documentation for alternative solver options:\n",
            "    https://scikit-learn.org/stable/modules/linear_model.html#logistic-regression\n",
            "  n_iter_i = _check_optimize_result(\n"
          ]
        }
      ],
      "source": [
        "sk_folds = StratifiedKFold(n_splits = 10)\n",
        "scores = cross_val_score(classifier, x, y, cv = sk_folds)"
      ]
    },
    {
      "cell_type": "code",
      "execution_count": null,
      "metadata": {
        "colab": {
          "background_save": true
        },
        "id": "4QykbvZGEZKT",
        "outputId": "1091ff3b-2ef4-4f93-97ec-013cdf40d4cc"
      },
      "outputs": [
        {
          "name": "stdout",
          "output_type": "stream",
          "text": [
            "Test Accuracy Score:  [0.8 0.9 0.6 0.9 0.9 0.9 0.8 0.7 1.  1. ]\n"
          ]
        }
      ],
      "source": [
        "print(\"Test Accuracy Score: \", scores)"
      ]
    },
    {
      "cell_type": "code",
      "execution_count": null,
      "metadata": {
        "colab": {
          "background_save": true
        },
        "id": "8o9iwJl41ykL",
        "outputId": "c43c3d58-06e6-46c8-e67a-4f72b6a4204f"
      },
      "outputs": [
        {
          "name": "stdout",
          "output_type": "stream",
          "text": [
            "Average CV Score:  0.85\n",
            "Test Accuracy Score:  [0.8 0.9 0.6 0.9 0.9 0.9 0.8 0.7 1.  1. ]\n"
          ]
        }
      ],
      "source": [
        "print(\"Average CV Score: \", scores.mean())\n",
        "print(\"Test Accuracy Score: \", scores)"
      ]
    },
    {
      "cell_type": "markdown",
      "metadata": {
        "id": "oGly98fPw37C"
      },
      "source": [
        "###**Support Vector Machine Algorithm**"
      ]
    },
    {
      "cell_type": "code",
      "execution_count": null,
      "metadata": {
        "colab": {
          "background_save": true
        },
        "id": "dYFjp91Aw37C",
        "outputId": "8ed84708-2e7e-4fd0-cbc7-5a1511f30e6a"
      },
      "outputs": [
        {
          "data": {
            "text/plain": [
              "SVC(random_state=0)"
            ]
          },
          "execution_count": 2877,
          "metadata": {},
          "output_type": "execute_result"
        }
      ],
      "source": [
        "from sklearn.svm import SVC # \"Support vector classifier\"  \n",
        "classifier = SVC(kernel='rbf', random_state=0)  \n",
        "classifier.fit(x_train, y_train)  "
      ]
    },
    {
      "cell_type": "code",
      "execution_count": null,
      "metadata": {
        "colab": {
          "background_save": true
        },
        "id": "9btHoENQw37D"
      },
      "outputs": [],
      "source": [
        "#Predicting the test set result  \n",
        "y_pred= classifier.predict(x_test)  "
      ]
    },
    {
      "cell_type": "code",
      "execution_count": null,
      "metadata": {
        "colab": {
          "background_save": true
        },
        "id": "aKM00WMmw37D",
        "outputId": "205c8a58-5f14-4f09-aa9f-264dd7f9cd05"
      },
      "outputs": [
        {
          "name": "stdout",
          "output_type": "stream",
          "text": [
            "[[17  0]\n",
            " [ 3  0]]\n"
          ]
        }
      ],
      "source": [
        "from sklearn.metrics import confusion_matrix  \n",
        "cm= confusion_matrix(y_test, y_pred)  \n",
        "print(cm)"
      ]
    },
    {
      "cell_type": "code",
      "execution_count": null,
      "metadata": {
        "colab": {
          "background_save": true
        },
        "id": "pBgJKTJYw37D",
        "outputId": "7e46a64d-978e-4bbe-83ca-d102aadee8b3"
      },
      "outputs": [
        {
          "name": "stdout",
          "output_type": "stream",
          "text": [
            "Test Accuracy Score:  0.85\n"
          ]
        }
      ],
      "source": [
        "score_ = accuracy_score(y_test, y_pred)\n",
        "print(\"Test Accuracy Score: \", score_)"
      ]
    },
    {
      "cell_type": "code",
      "execution_count": null,
      "metadata": {
        "colab": {
          "background_save": true
        },
        "id": "73ldsBqkEaOr"
      },
      "outputs": [],
      "source": [
        "sk_folds = StratifiedKFold(n_splits = 2)\n",
        "scores = cross_val_score(classifier, x, y, cv = sk_folds)"
      ]
    },
    {
      "cell_type": "code",
      "execution_count": null,
      "metadata": {
        "colab": {
          "background_save": true
        },
        "id": "gXrshaZ5EaOs",
        "outputId": "25809596-e2d8-4be1-939e-490f7efdc371"
      },
      "outputs": [
        {
          "name": "stdout",
          "output_type": "stream",
          "text": [
            "Test Accuracy Score:  [0.86 0.84]\n"
          ]
        }
      ],
      "source": [
        "print(\"Test Accuracy Score: \", scores)"
      ]
    },
    {
      "cell_type": "code",
      "execution_count": null,
      "metadata": {
        "colab": {
          "background_save": true
        },
        "id": "Aozn2G0h2ACf",
        "outputId": "2e4aae52-40d6-4592-da1b-553b57668712"
      },
      "outputs": [
        {
          "name": "stdout",
          "output_type": "stream",
          "text": [
            "Average CV Score:  0.85\n",
            "Test Accuracy Score:  [0.86 0.84]\n"
          ]
        }
      ],
      "source": [
        "print(\"Average CV Score: \", scores.mean())\n",
        "print(\"Test Accuracy Score: \", scores)"
      ]
    },
    {
      "cell_type": "code",
      "execution_count": null,
      "metadata": {
        "colab": {
          "background_save": true
        },
        "id": "QJf6OOKWEaOs"
      },
      "outputs": [],
      "source": [
        "sk_folds = StratifiedKFold(n_splits = 3)\n",
        "scores = cross_val_score(classifier, x, y, cv = sk_folds)"
      ]
    },
    {
      "cell_type": "code",
      "execution_count": null,
      "metadata": {
        "colab": {
          "background_save": true
        },
        "id": "So4XAXI4EaOt",
        "outputId": "277a7289-bc39-4949-a517-12a882ab3eba"
      },
      "outputs": [
        {
          "name": "stdout",
          "output_type": "stream",
          "text": [
            "Test Accuracy Score:  [0.85294118 0.84848485 0.84848485]\n"
          ]
        }
      ],
      "source": [
        "print(\"Test Accuracy Score: \", scores)"
      ]
    },
    {
      "cell_type": "code",
      "execution_count": null,
      "metadata": {
        "colab": {
          "background_save": true
        },
        "id": "lfcIlklj1_yW",
        "outputId": "d3d7d6f8-6d17-4b8f-ed7d-037f32e76e09"
      },
      "outputs": [
        {
          "name": "stdout",
          "output_type": "stream",
          "text": [
            "Average CV Score:  0.8499702911467617\n",
            "Test Accuracy Score:  [0.85294118 0.84848485 0.84848485]\n"
          ]
        }
      ],
      "source": [
        "print(\"Average CV Score: \", scores.mean())\n",
        "print(\"Test Accuracy Score: \", scores)"
      ]
    },
    {
      "cell_type": "code",
      "execution_count": null,
      "metadata": {
        "colab": {
          "background_save": true
        },
        "id": "EF3Yg_UaEaOt"
      },
      "outputs": [],
      "source": [
        "sk_folds = StratifiedKFold(n_splits = 4)\n",
        "scores = cross_val_score(classifier, x, y, cv = sk_folds)"
      ]
    },
    {
      "cell_type": "code",
      "execution_count": null,
      "metadata": {
        "colab": {
          "background_save": true
        },
        "id": "61SEUBePEaOu",
        "outputId": "4bffdcf5-d8c8-4b6d-d3dc-2656cf83e271"
      },
      "outputs": [
        {
          "name": "stdout",
          "output_type": "stream",
          "text": [
            "Test Accuracy Score:  [0.88 0.84 0.84 0.84]\n"
          ]
        }
      ],
      "source": [
        "print(\"Test Accuracy Score: \", scores)"
      ]
    },
    {
      "cell_type": "code",
      "execution_count": null,
      "metadata": {
        "colab": {
          "background_save": true
        },
        "id": "SwnUyPmT1_Q5",
        "outputId": "07fd7dfd-719b-49c2-eace-f74b2b09f9af"
      },
      "outputs": [
        {
          "name": "stdout",
          "output_type": "stream",
          "text": [
            "Average CV Score:  0.85\n",
            "Test Accuracy Score:  [0.88 0.84 0.84 0.84]\n"
          ]
        }
      ],
      "source": [
        "print(\"Average CV Score: \", scores.mean())\n",
        "print(\"Test Accuracy Score: \", scores)"
      ]
    },
    {
      "cell_type": "code",
      "execution_count": null,
      "metadata": {
        "colab": {
          "background_save": true
        },
        "id": "GGmx9_bqEaOu"
      },
      "outputs": [],
      "source": [
        "sk_folds = StratifiedKFold(n_splits = 5)\n",
        "scores = cross_val_score(classifier, x, y, cv = sk_folds)"
      ]
    },
    {
      "cell_type": "code",
      "execution_count": null,
      "metadata": {
        "colab": {
          "background_save": true
        },
        "id": "OP7BWa8GEaOv",
        "outputId": "a8777165-49ce-42ae-f8e0-525e9df0512a"
      },
      "outputs": [
        {
          "name": "stdout",
          "output_type": "stream",
          "text": [
            "Test Accuracy Score:  [0.85 0.85 0.85 0.9  0.9 ]\n"
          ]
        }
      ],
      "source": [
        "print(\"Test Accuracy Score: \", scores)"
      ]
    },
    {
      "cell_type": "code",
      "execution_count": null,
      "metadata": {
        "colab": {
          "background_save": true
        },
        "id": "5fGA3Xu-2Dyw",
        "outputId": "27b5b3ee-f8fe-4c40-ee82-806b5a63716b"
      },
      "outputs": [
        {
          "name": "stdout",
          "output_type": "stream",
          "text": [
            "Average CV Score:  0.8699999999999999\n",
            "Test Accuracy Score:  [0.85 0.85 0.85 0.9  0.9 ]\n"
          ]
        }
      ],
      "source": [
        "print(\"Average CV Score: \", scores.mean())\n",
        "print(\"Test Accuracy Score: \", scores)"
      ]
    },
    {
      "cell_type": "code",
      "execution_count": null,
      "metadata": {
        "colab": {
          "background_save": true
        },
        "id": "z933HbjDEaOv"
      },
      "outputs": [],
      "source": [
        "sk_folds = StratifiedKFold(n_splits = 6)\n",
        "scores = cross_val_score(classifier, x, y, cv = sk_folds)"
      ]
    },
    {
      "cell_type": "code",
      "execution_count": null,
      "metadata": {
        "colab": {
          "background_save": true
        },
        "id": "vzzcgnEoEaOv",
        "outputId": "768a83d7-f9ea-494c-a0ab-105913471fcf"
      },
      "outputs": [
        {
          "name": "stdout",
          "output_type": "stream",
          "text": [
            "Test Accuracy Score:  [0.88235294 0.82352941 0.82352941 0.82352941 0.875      0.875     ]\n"
          ]
        }
      ],
      "source": [
        "print(\"Test Accuracy Score: \", scores)"
      ]
    },
    {
      "cell_type": "code",
      "execution_count": null,
      "metadata": {
        "colab": {
          "background_save": true
        },
        "id": "D12mQObX2DQN",
        "outputId": "61efe678-ee11-4107-a25e-c8bbf90502b5"
      },
      "outputs": [
        {
          "name": "stdout",
          "output_type": "stream",
          "text": [
            "Average CV Score:  0.8504901960784313\n",
            "Test Accuracy Score:  [0.88235294 0.82352941 0.82352941 0.82352941 0.875      0.875     ]\n"
          ]
        }
      ],
      "source": [
        "print(\"Average CV Score: \", scores.mean())\n",
        "print(\"Test Accuracy Score: \", scores)"
      ]
    },
    {
      "cell_type": "code",
      "execution_count": null,
      "metadata": {
        "colab": {
          "background_save": true
        },
        "id": "FFUEVUw4EaOw"
      },
      "outputs": [],
      "source": [
        "sk_folds = StratifiedKFold(n_splits = 7)\n",
        "scores = cross_val_score(classifier, x, y, cv = sk_folds)"
      ]
    },
    {
      "cell_type": "code",
      "execution_count": null,
      "metadata": {
        "colab": {
          "background_save": true
        },
        "id": "C-yxDwEUEaOx",
        "outputId": "2fe6886b-9da5-4fd1-8100-890f94af5ed9"
      },
      "outputs": [
        {
          "name": "stdout",
          "output_type": "stream",
          "text": [
            "Test Accuracy Score:  [0.86666667 0.8        0.85714286 0.85714286 0.85714286 0.85714286\n",
            " 0.85714286]\n"
          ]
        }
      ],
      "source": [
        "print(\"Test Accuracy Score: \", scores)"
      ]
    },
    {
      "cell_type": "code",
      "execution_count": null,
      "metadata": {
        "colab": {
          "background_save": true
        },
        "id": "2TSxjWNL18qK",
        "outputId": "dd0555e0-a26b-4b3e-a9ef-58fcd4483fb0"
      },
      "outputs": [
        {
          "name": "stdout",
          "output_type": "stream",
          "text": [
            "Average CV Score:  0.8503401360544217\n",
            "Test Accuracy Score:  [0.86666667 0.8        0.85714286 0.85714286 0.85714286 0.85714286\n",
            " 0.85714286]\n"
          ]
        }
      ],
      "source": [
        "print(\"Average CV Score: \", scores.mean())\n",
        "print(\"Test Accuracy Score: \", scores)"
      ]
    },
    {
      "cell_type": "code",
      "execution_count": null,
      "metadata": {
        "colab": {
          "background_save": true
        },
        "id": "YyqZu21KEaOx"
      },
      "outputs": [],
      "source": [
        "sk_folds = StratifiedKFold(n_splits = 8)\n",
        "scores = cross_val_score(classifier, x, y, cv = sk_folds)"
      ]
    },
    {
      "cell_type": "code",
      "execution_count": null,
      "metadata": {
        "colab": {
          "background_save": true
        },
        "id": "nKp3FP9z18ce",
        "outputId": "cd671115-5583-4ec3-bbbc-e1dbedb8c4d2"
      },
      "outputs": [
        {
          "name": "stdout",
          "output_type": "stream",
          "text": [
            "Average CV Score:  0.8501602564102564\n",
            "Test Accuracy Score:  [0.84615385 0.84615385 0.84615385 0.84615385 0.91666667 0.83333333\n",
            " 0.83333333 0.83333333]\n"
          ]
        }
      ],
      "source": [
        "print(\"Average CV Score: \", scores.mean())\n",
        "print(\"Test Accuracy Score: \", scores)"
      ]
    },
    {
      "cell_type": "code",
      "execution_count": null,
      "metadata": {
        "colab": {
          "background_save": true
        },
        "id": "iosBqgZxEaOy"
      },
      "outputs": [],
      "source": [
        "sk_folds = StratifiedKFold(n_splits = 9)\n",
        "scores = cross_val_score(classifier, x, y, cv = sk_folds)"
      ]
    },
    {
      "cell_type": "code",
      "execution_count": null,
      "metadata": {
        "colab": {
          "background_save": true
        },
        "id": "rB4cxchbEaOy",
        "outputId": "c5345943-5901-4ec8-cc49-4e506219de6f"
      },
      "outputs": [
        {
          "name": "stdout",
          "output_type": "stream",
          "text": [
            "Test Accuracy Score:  [0.83333333 0.90909091 0.90909091 0.90909091 0.81818182 0.81818182\n",
            " 0.81818182 0.81818182 0.81818182]\n"
          ]
        }
      ],
      "source": [
        "print(\"Test Accuracy Score: \", scores)"
      ]
    },
    {
      "cell_type": "code",
      "execution_count": null,
      "metadata": {
        "colab": {
          "background_save": true
        },
        "id": "vXxU3_bb16Py",
        "outputId": "bd70a970-a0a5-4b86-e382-e545faed313d"
      },
      "outputs": [
        {
          "name": "stdout",
          "output_type": "stream",
          "text": [
            "Average CV Score:  0.8501683501683502\n",
            "Test Accuracy Score:  [0.83333333 0.90909091 0.90909091 0.90909091 0.81818182 0.81818182\n",
            " 0.81818182 0.81818182 0.81818182]\n"
          ]
        }
      ],
      "source": [
        "print(\"Average CV Score: \", scores.mean())\n",
        "print(\"Test Accuracy Score: \", scores)"
      ]
    },
    {
      "cell_type": "code",
      "execution_count": null,
      "metadata": {
        "colab": {
          "background_save": true
        },
        "id": "vkcbXM2wEaOy"
      },
      "outputs": [],
      "source": [
        "sk_folds = StratifiedKFold(n_splits = 10)\n",
        "scores = cross_val_score(classifier, x, y, cv = sk_folds)"
      ]
    },
    {
      "cell_type": "code",
      "execution_count": null,
      "metadata": {
        "colab": {
          "background_save": true
        },
        "id": "OJzoXMdCEaOz",
        "outputId": "b1186f7c-00ed-408c-97c9-651f7fd0a6a3"
      },
      "outputs": [
        {
          "name": "stdout",
          "output_type": "stream",
          "text": [
            "Test Accuracy Score:  [0.9 0.9 0.9 0.9 0.9 0.8 0.8 0.8 0.8 0.8]\n"
          ]
        }
      ],
      "source": [
        "print(\"Test Accuracy Score: \", scores)"
      ]
    },
    {
      "cell_type": "code",
      "execution_count": null,
      "metadata": {
        "colab": {
          "background_save": true
        },
        "id": "H4z5vCaY150n",
        "outputId": "33856499-4f8f-4dd4-bb45-6c67279e9c58"
      },
      "outputs": [
        {
          "name": "stdout",
          "output_type": "stream",
          "text": [
            "Average CV Score:  0.85\n",
            "Test Accuracy Score:  [0.9 0.9 0.9 0.9 0.9 0.8 0.8 0.8 0.8 0.8]\n"
          ]
        }
      ],
      "source": [
        "print(\"Average CV Score: \", scores.mean())\n",
        "print(\"Test Accuracy Score: \", scores)"
      ]
    },
    {
      "cell_type": "markdown",
      "metadata": {
        "id": "npj7hUqQw37E"
      },
      "source": [
        "##**Decision Tree Algorithm**"
      ]
    },
    {
      "cell_type": "code",
      "execution_count": null,
      "metadata": {
        "colab": {
          "background_save": true
        },
        "id": "D6Z0O2P9w37E",
        "outputId": "142f4e71-abc6-43e5-e312-1592e473aaae"
      },
      "outputs": [
        {
          "data": {
            "text/plain": [
              "DecisionTreeClassifier(criterion='entropy', random_state=0)"
            ]
          },
          "execution_count": 2907,
          "metadata": {},
          "output_type": "execute_result"
        }
      ],
      "source": [
        "from sklearn.tree import DecisionTreeClassifier  \n",
        "classifier= DecisionTreeClassifier(criterion='entropy', random_state=0)  \n",
        "classifier.fit(x_train, y_train)  "
      ]
    },
    {
      "cell_type": "code",
      "execution_count": null,
      "metadata": {
        "colab": {
          "background_save": true
        },
        "id": "zHWZdbaTw37E"
      },
      "outputs": [],
      "source": [
        "#Predicting the test set result  \n",
        "y_pred= classifier.predict(x_test)  "
      ]
    },
    {
      "cell_type": "code",
      "execution_count": null,
      "metadata": {
        "colab": {
          "background_save": true
        },
        "id": "LRzj8dcdw37F",
        "outputId": "1deb6ea6-b5e6-4a3d-ae91-5c095c4136e7"
      },
      "outputs": [
        {
          "name": "stdout",
          "output_type": "stream",
          "text": [
            "[[14  3]\n",
            " [ 3  0]]\n"
          ]
        }
      ],
      "source": [
        "#Creating the Confusion matrix  \n",
        "from sklearn.metrics import confusion_matrix  \n",
        "cm= confusion_matrix(y_test, y_pred) \n",
        "print(cm)"
      ]
    },
    {
      "cell_type": "code",
      "execution_count": null,
      "metadata": {
        "colab": {
          "background_save": true
        },
        "id": "i32Idondw37F",
        "outputId": "152d162f-1992-4954-993b-495e92694693"
      },
      "outputs": [
        {
          "name": "stdout",
          "output_type": "stream",
          "text": [
            "Test Accuracy Score:  0.7\n"
          ]
        }
      ],
      "source": [
        "score_ = accuracy_score(y_test, y_pred)\n",
        "print(\"Test Accuracy Score: \", score_)"
      ]
    },
    {
      "cell_type": "code",
      "execution_count": null,
      "metadata": {
        "colab": {
          "background_save": true
        },
        "id": "ZatZ2adsEcjt"
      },
      "outputs": [],
      "source": [
        "sk_folds = StratifiedKFold(n_splits = 2)\n",
        "scores = cross_val_score(classifier, x, y, cv = sk_folds)"
      ]
    },
    {
      "cell_type": "code",
      "execution_count": null,
      "metadata": {
        "colab": {
          "background_save": true
        },
        "id": "aLX1dJe5Ecju",
        "outputId": "9c5778e5-b37f-4093-9793-6b31066cbdf6"
      },
      "outputs": [
        {
          "name": "stdout",
          "output_type": "stream",
          "text": [
            "Test Accuracy Score:  [0.78 0.56]\n"
          ]
        }
      ],
      "source": [
        "print(\"Test Accuracy Score: \", scores)"
      ]
    },
    {
      "cell_type": "code",
      "execution_count": null,
      "metadata": {
        "colab": {
          "background_save": true
        },
        "id": "6bUk2Hdl2LBy",
        "outputId": "19e2cf69-775e-4441-a515-fca13aff9238"
      },
      "outputs": [
        {
          "name": "stdout",
          "output_type": "stream",
          "text": [
            "Average CV Score:  0.67\n",
            "Test Accuracy Score:  [0.78 0.56]\n"
          ]
        }
      ],
      "source": [
        "print(\"Average CV Score: \", scores.mean())\n",
        "print(\"Test Accuracy Score: \", scores)"
      ]
    },
    {
      "cell_type": "code",
      "execution_count": null,
      "metadata": {
        "colab": {
          "background_save": true
        },
        "id": "_bksLBlVEcju"
      },
      "outputs": [],
      "source": [
        "sk_folds = StratifiedKFold(n_splits = 3)\n",
        "scores = cross_val_score(classifier, x, y, cv = sk_folds)"
      ]
    },
    {
      "cell_type": "code",
      "execution_count": null,
      "metadata": {
        "colab": {
          "background_save": true
        },
        "id": "ydce2CzwEcju",
        "outputId": "dd4b8837-8ab8-493d-f967-6ebe5230866e"
      },
      "outputs": [
        {
          "name": "stdout",
          "output_type": "stream",
          "text": [
            "Test Accuracy Score:  [0.79411765 0.81818182 0.66666667]\n"
          ]
        }
      ],
      "source": [
        "print(\"Test Accuracy Score: \", scores)"
      ]
    },
    {
      "cell_type": "code",
      "execution_count": null,
      "metadata": {
        "colab": {
          "background_save": true
        },
        "id": "19jfUEMD2KkZ",
        "outputId": "ff149d31-b3e5-4f9b-8504-fd4b4e09a26a"
      },
      "outputs": [
        {
          "name": "stdout",
          "output_type": "stream",
          "text": [
            "Average CV Score:  0.759655377302436\n",
            "Test Accuracy Score:  [0.79411765 0.81818182 0.66666667]\n"
          ]
        }
      ],
      "source": [
        "print(\"Average CV Score: \", scores.mean())\n",
        "print(\"Test Accuracy Score: \", scores)"
      ]
    },
    {
      "cell_type": "code",
      "execution_count": null,
      "metadata": {
        "colab": {
          "background_save": true
        },
        "id": "RjOshKYuEcju"
      },
      "outputs": [],
      "source": [
        "sk_folds = StratifiedKFold(n_splits = 4)\n",
        "scores = cross_val_score(classifier, x, y, cv = sk_folds)"
      ]
    },
    {
      "cell_type": "code",
      "execution_count": null,
      "metadata": {
        "colab": {
          "background_save": true
        },
        "id": "1PzzGasoEcju",
        "outputId": "bcdd8ee6-56ce-4d85-ea08-d84b94f806be"
      },
      "outputs": [
        {
          "name": "stdout",
          "output_type": "stream",
          "text": [
            "Test Accuracy Score:  [0.76 0.88 0.8  0.88]\n"
          ]
        }
      ],
      "source": [
        "print(\"Test Accuracy Score: \", scores)"
      ]
    },
    {
      "cell_type": "code",
      "execution_count": null,
      "metadata": {
        "colab": {
          "background_save": true
        },
        "id": "5L0FJ5YE2Jyg",
        "outputId": "6484d5a6-e6a9-4515-87e5-fdf9d579b936"
      },
      "outputs": [
        {
          "name": "stdout",
          "output_type": "stream",
          "text": [
            "Average CV Score:  0.8300000000000001\n",
            "Test Accuracy Score:  [0.76 0.88 0.8  0.88]\n"
          ]
        }
      ],
      "source": [
        "print(\"Average CV Score: \", scores.mean())\n",
        "print(\"Test Accuracy Score: \", scores)"
      ]
    },
    {
      "cell_type": "code",
      "execution_count": null,
      "metadata": {
        "colab": {
          "background_save": true
        },
        "id": "3ocG6nkmEcju"
      },
      "outputs": [],
      "source": [
        "sk_folds = StratifiedKFold(n_splits = 5)\n",
        "scores = cross_val_score(classifier, x, y, cv = sk_folds)"
      ]
    },
    {
      "cell_type": "code",
      "execution_count": null,
      "metadata": {
        "colab": {
          "background_save": true
        },
        "id": "XWJ0ZjxAEcju",
        "outputId": "2ea4b3c4-15c4-45f5-8b79-a0b4bf86acc6"
      },
      "outputs": [
        {
          "name": "stdout",
          "output_type": "stream",
          "text": [
            "Test Accuracy Score:  [0.75 0.8  0.95 0.75 0.55]\n"
          ]
        }
      ],
      "source": [
        "print(\"Test Accuracy Score: \", scores)"
      ]
    },
    {
      "cell_type": "code",
      "execution_count": null,
      "metadata": {
        "colab": {
          "background_save": true
        },
        "id": "2_uzJ3GB2JjU",
        "outputId": "cc1a17b5-75f3-4b40-f3ef-7f7c3f75c8bf"
      },
      "outputs": [
        {
          "name": "stdout",
          "output_type": "stream",
          "text": [
            "Average CV Score:  0.76\n",
            "Test Accuracy Score:  [0.75 0.8  0.95 0.75 0.55]\n"
          ]
        }
      ],
      "source": [
        "print(\"Average CV Score: \", scores.mean())\n",
        "print(\"Test Accuracy Score: \", scores)"
      ]
    },
    {
      "cell_type": "code",
      "execution_count": null,
      "metadata": {
        "colab": {
          "background_save": true
        },
        "id": "28Ae__UiEcju"
      },
      "outputs": [],
      "source": [
        "sk_folds = StratifiedKFold(n_splits = 6)\n",
        "scores = cross_val_score(classifier, x, y, cv = sk_folds)"
      ]
    },
    {
      "cell_type": "code",
      "execution_count": null,
      "metadata": {
        "colab": {
          "background_save": true
        },
        "id": "iz8uObFKEcjv",
        "outputId": "97f37084-e0b9-4b9b-e036-aff4bc946bf2"
      },
      "outputs": [
        {
          "name": "stdout",
          "output_type": "stream",
          "text": [
            "Test Accuracy Score:  [0.82352941 0.76470588 0.82352941 0.82352941 0.6875     0.8125    ]\n"
          ]
        }
      ],
      "source": [
        "print(\"Test Accuracy Score: \", scores)"
      ]
    },
    {
      "cell_type": "code",
      "execution_count": null,
      "metadata": {
        "colab": {
          "background_save": true
        },
        "id": "IujFYDOu2JSW",
        "outputId": "51df680e-815e-4f70-9673-67ba0c285251"
      },
      "outputs": [
        {
          "name": "stdout",
          "output_type": "stream",
          "text": [
            "Average CV Score:  0.7892156862745098\n",
            "Test Accuracy Score:  [0.82352941 0.76470588 0.82352941 0.82352941 0.6875     0.8125    ]\n"
          ]
        }
      ],
      "source": [
        "print(\"Average CV Score: \", scores.mean())\n",
        "print(\"Test Accuracy Score: \", scores)"
      ]
    },
    {
      "cell_type": "code",
      "execution_count": null,
      "metadata": {
        "colab": {
          "background_save": true
        },
        "id": "S6_OBJ7tEcjv"
      },
      "outputs": [],
      "source": [
        "sk_folds = StratifiedKFold(n_splits = 7)\n",
        "scores = cross_val_score(classifier, x, y, cv = sk_folds)"
      ]
    },
    {
      "cell_type": "code",
      "execution_count": null,
      "metadata": {
        "colab": {
          "background_save": true
        },
        "id": "My-PwXkAEcjv",
        "outputId": "395609fc-d278-4075-b51f-953e770800bf"
      },
      "outputs": [
        {
          "name": "stdout",
          "output_type": "stream",
          "text": [
            "Test Accuracy Score:  [0.8        0.6        0.92857143 0.78571429 0.64285714 0.64285714\n",
            " 0.78571429]\n"
          ]
        }
      ],
      "source": [
        "print(\"Test Accuracy Score: \", scores)"
      ]
    },
    {
      "cell_type": "code",
      "execution_count": null,
      "metadata": {
        "colab": {
          "background_save": true
        },
        "id": "NXYRLUDO2IAS",
        "outputId": "1c0cdc7c-6cec-4668-8795-7f530a243a90"
      },
      "outputs": [
        {
          "name": "stdout",
          "output_type": "stream",
          "text": [
            "Average CV Score:  0.7408163265306121\n",
            "Test Accuracy Score:  [0.8        0.6        0.92857143 0.78571429 0.64285714 0.64285714\n",
            " 0.78571429]\n"
          ]
        }
      ],
      "source": [
        "print(\"Average CV Score: \", scores.mean())\n",
        "print(\"Test Accuracy Score: \", scores)"
      ]
    },
    {
      "cell_type": "code",
      "execution_count": null,
      "metadata": {
        "colab": {
          "background_save": true
        },
        "id": "EZjSd7TsEcjv"
      },
      "outputs": [],
      "source": [
        "sk_folds = StratifiedKFold(n_splits = 8)\n",
        "scores = cross_val_score(classifier, x, y, cv = sk_folds)"
      ]
    },
    {
      "cell_type": "code",
      "execution_count": null,
      "metadata": {
        "colab": {
          "background_save": true
        },
        "id": "9VD0mB1u2HrA",
        "outputId": "50ade23f-d755-4f76-92e3-b2b135ea5a3e"
      },
      "outputs": [
        {
          "name": "stdout",
          "output_type": "stream",
          "text": [
            "Average CV Score:  0.7291666666666667\n",
            "Test Accuracy Score:  [0.76923077 0.69230769 0.76923077 0.76923077 0.75       0.75\n",
            " 0.58333333 0.75      ]\n"
          ]
        }
      ],
      "source": [
        "print(\"Average CV Score: \", scores.mean())\n",
        "print(\"Test Accuracy Score: \", scores)"
      ]
    },
    {
      "cell_type": "code",
      "execution_count": null,
      "metadata": {
        "colab": {
          "background_save": true
        },
        "id": "dVjebKMoEcjv"
      },
      "outputs": [],
      "source": [
        "sk_folds = StratifiedKFold(n_splits = 9)\n",
        "scores = cross_val_score(classifier, x, y, cv = sk_folds)"
      ]
    },
    {
      "cell_type": "code",
      "execution_count": null,
      "metadata": {
        "colab": {
          "background_save": true
        },
        "id": "Ephm1B_hEcjv",
        "outputId": "58d0e3c3-7afa-4764-ca78-21a4a1cd7392"
      },
      "outputs": [
        {
          "name": "stdout",
          "output_type": "stream",
          "text": [
            "Test Accuracy Score:  [0.75       0.90909091 0.72727273 0.81818182 0.81818182 0.72727273\n",
            " 0.81818182 0.90909091 0.72727273]\n"
          ]
        }
      ],
      "source": [
        "print(\"Test Accuracy Score: \", scores)"
      ]
    },
    {
      "cell_type": "code",
      "execution_count": null,
      "metadata": {
        "colab": {
          "background_save": true
        },
        "id": "sikiJMtF2HLC",
        "outputId": "11263521-7940-40a9-926e-f943e3b29717"
      },
      "outputs": [
        {
          "name": "stdout",
          "output_type": "stream",
          "text": [
            "Average CV Score:  0.8005050505050505\n",
            "Test Accuracy Score:  [0.75       0.90909091 0.72727273 0.81818182 0.81818182 0.72727273\n",
            " 0.81818182 0.90909091 0.72727273]\n"
          ]
        }
      ],
      "source": [
        "print(\"Average CV Score: \", scores.mean())\n",
        "print(\"Test Accuracy Score: \", scores)"
      ]
    },
    {
      "cell_type": "code",
      "execution_count": null,
      "metadata": {
        "colab": {
          "background_save": true
        },
        "id": "bxohWeVUEcjv"
      },
      "outputs": [],
      "source": [
        "sk_folds = StratifiedKFold(n_splits = 10)\n",
        "scores = cross_val_score(classifier, x, y, cv = sk_folds)"
      ]
    },
    {
      "cell_type": "code",
      "execution_count": null,
      "metadata": {
        "colab": {
          "background_save": true
        },
        "id": "I6YTpATQEcjv",
        "outputId": "776b6d5b-9349-4ecc-9855-dad60fea98df"
      },
      "outputs": [
        {
          "name": "stdout",
          "output_type": "stream",
          "text": [
            "Test Accuracy Score:  [0.8 0.8 0.7 0.9 0.8 0.7 0.5 0.9 0.9 0.7]\n"
          ]
        }
      ],
      "source": [
        "print(\"Test Accuracy Score: \", scores)"
      ]
    },
    {
      "cell_type": "code",
      "execution_count": null,
      "metadata": {
        "colab": {
          "background_save": true
        },
        "id": "xaxZGRJo2G1s",
        "outputId": "3ea04e27-035f-4092-a467-e4af43adf8d7"
      },
      "outputs": [
        {
          "name": "stdout",
          "output_type": "stream",
          "text": [
            "Average CV Score:  0.77\n",
            "Test Accuracy Score:  [0.8 0.8 0.7 0.9 0.8 0.7 0.5 0.9 0.9 0.7]\n"
          ]
        }
      ],
      "source": [
        "print(\"Average CV Score: \", scores.mean())\n",
        "print(\"Test Accuracy Score: \", scores)"
      ]
    },
    {
      "cell_type": "markdown",
      "metadata": {
        "id": "D6E0oEqmw37F"
      },
      "source": [
        "##**Random Forest**"
      ]
    },
    {
      "cell_type": "code",
      "execution_count": null,
      "metadata": {
        "colab": {
          "background_save": true
        },
        "id": "WIhigBtew37F",
        "outputId": "800ae9f6-df07-4235-839f-22e5f0e77bae"
      },
      "outputs": [
        {
          "data": {
            "text/plain": [
              "RandomForestClassifier(criterion='entropy', n_estimators=10)"
            ]
          },
          "execution_count": 2937,
          "metadata": {},
          "output_type": "execute_result"
        }
      ],
      "source": [
        "#Fitting Decision Tree classifier to the training set  \n",
        "from sklearn.ensemble import RandomForestClassifier  \n",
        "classifier= RandomForestClassifier(n_estimators= 10, criterion=\"entropy\")  \n",
        "classifier.fit(x_train, y_train)  "
      ]
    },
    {
      "cell_type": "code",
      "execution_count": null,
      "metadata": {
        "colab": {
          "background_save": true
        },
        "id": "VU5Uws9ew37G"
      },
      "outputs": [],
      "source": [
        "#Predicting the test set result  \n",
        "y_pred= classifier.predict(x_test)  "
      ]
    },
    {
      "cell_type": "code",
      "execution_count": null,
      "metadata": {
        "colab": {
          "background_save": true
        },
        "id": "XKZeJBnzw37G",
        "outputId": "35b484a5-dd8a-4261-f6be-86d736c906dc"
      },
      "outputs": [
        {
          "name": "stdout",
          "output_type": "stream",
          "text": [
            "[[17  0]\n",
            " [ 2  1]]\n"
          ]
        }
      ],
      "source": [
        "#Creating the Confusion matrix  \n",
        "from sklearn.metrics import confusion_matrix  \n",
        "cm= confusion_matrix(y_test, y_pred)  \n",
        "print(cm)"
      ]
    },
    {
      "cell_type": "code",
      "execution_count": null,
      "metadata": {
        "colab": {
          "background_save": true
        },
        "id": "tBYJqoCOw37G",
        "outputId": "a51e077a-925c-4cc0-93bc-a530a927dab8"
      },
      "outputs": [
        {
          "name": "stdout",
          "output_type": "stream",
          "text": [
            "Test Accuracy Score:  0.9\n"
          ]
        }
      ],
      "source": [
        "score_ = accuracy_score(y_test, y_pred)\n",
        "print(\"Test Accuracy Score: \", score_)"
      ]
    },
    {
      "cell_type": "code",
      "execution_count": null,
      "metadata": {
        "colab": {
          "background_save": true
        },
        "id": "OY4NT_WlEenN"
      },
      "outputs": [],
      "source": [
        "sk_folds = StratifiedKFold(n_splits = 2)\n",
        "scores = cross_val_score(classifier, x, y, cv = sk_folds)"
      ]
    },
    {
      "cell_type": "code",
      "execution_count": null,
      "metadata": {
        "colab": {
          "background_save": true
        },
        "id": "tRDLreSPEenO",
        "outputId": "43c1c69f-0e58-4f6e-8e3c-246effbc7394"
      },
      "outputs": [
        {
          "name": "stdout",
          "output_type": "stream",
          "text": [
            "Test Accuracy Score:  [0.76 0.68]\n"
          ]
        }
      ],
      "source": [
        "print(\"Test Accuracy Score: \", scores)"
      ]
    },
    {
      "cell_type": "code",
      "execution_count": null,
      "metadata": {
        "colab": {
          "background_save": true
        },
        "id": "Kme7W0dJ2SHL",
        "outputId": "1c4b27b4-cc0f-4841-b11e-a501b17a9486"
      },
      "outputs": [
        {
          "name": "stdout",
          "output_type": "stream",
          "text": [
            "Average CV Score:  0.72\n",
            "Test Accuracy Score:  [0.76 0.68]\n"
          ]
        }
      ],
      "source": [
        "print(\"Average CV Score: \", scores.mean())\n",
        "print(\"Test Accuracy Score: \", scores)"
      ]
    },
    {
      "cell_type": "code",
      "execution_count": null,
      "metadata": {
        "colab": {
          "background_save": true
        },
        "id": "QwbCJcDiEenP"
      },
      "outputs": [],
      "source": [
        "sk_folds = StratifiedKFold(n_splits = 3)\n",
        "scores = cross_val_score(classifier, x, y, cv = sk_folds)"
      ]
    },
    {
      "cell_type": "code",
      "execution_count": null,
      "metadata": {
        "colab": {
          "background_save": true
        },
        "id": "4A7clvLXEenP",
        "outputId": "b7532999-8a09-45c8-bdf5-48dd247759a7"
      },
      "outputs": [
        {
          "name": "stdout",
          "output_type": "stream",
          "text": [
            "Test Accuracy Score:  [0.85294118 0.84848485 0.75757576]\n"
          ]
        }
      ],
      "source": [
        "print(\"Test Accuracy Score: \", scores)"
      ]
    },
    {
      "cell_type": "code",
      "execution_count": null,
      "metadata": {
        "colab": {
          "background_save": true
        },
        "id": "2wL-us6C2Q9-",
        "outputId": "6de55d12-4033-4648-d5dd-5554ede7c646"
      },
      "outputs": [
        {
          "name": "stdout",
          "output_type": "stream",
          "text": [
            "Average CV Score:  0.8196672608437314\n",
            "Test Accuracy Score:  [0.85294118 0.84848485 0.75757576]\n"
          ]
        }
      ],
      "source": [
        "print(\"Average CV Score: \", scores.mean())\n",
        "print(\"Test Accuracy Score: \", scores)"
      ]
    },
    {
      "cell_type": "code",
      "execution_count": null,
      "metadata": {
        "colab": {
          "background_save": true
        },
        "id": "DjWSY3vXEenQ"
      },
      "outputs": [],
      "source": [
        "sk_folds = StratifiedKFold(n_splits = 4)\n",
        "scores = cross_val_score(classifier, x, y, cv = sk_folds)"
      ]
    },
    {
      "cell_type": "code",
      "execution_count": null,
      "metadata": {
        "colab": {
          "background_save": true
        },
        "id": "wvzitThtEenQ",
        "outputId": "74f6bd00-cc59-4639-82ba-2b635c5488ec"
      },
      "outputs": [
        {
          "name": "stdout",
          "output_type": "stream",
          "text": [
            "Test Accuracy Score:  [0.88 0.8  0.8  0.8 ]\n"
          ]
        }
      ],
      "source": [
        "print(\"Test Accuracy Score: \", scores)"
      ]
    },
    {
      "cell_type": "code",
      "execution_count": null,
      "metadata": {
        "colab": {
          "background_save": true
        },
        "id": "H0Y2KrO52Qsm",
        "outputId": "19eeb54d-b2d7-41c7-9330-4198f5fca682"
      },
      "outputs": [
        {
          "name": "stdout",
          "output_type": "stream",
          "text": [
            "Average CV Score:  0.8200000000000001\n",
            "Test Accuracy Score:  [0.88 0.8  0.8  0.8 ]\n"
          ]
        }
      ],
      "source": [
        "print(\"Average CV Score: \", scores.mean())\n",
        "print(\"Test Accuracy Score: \", scores)"
      ]
    },
    {
      "cell_type": "code",
      "execution_count": null,
      "metadata": {
        "colab": {
          "background_save": true
        },
        "id": "_21LNo3wEenR"
      },
      "outputs": [],
      "source": [
        "sk_folds = StratifiedKFold(n_splits = 5)\n",
        "scores = cross_val_score(classifier, x, y, cv = sk_folds)"
      ]
    },
    {
      "cell_type": "code",
      "execution_count": null,
      "metadata": {
        "colab": {
          "background_save": true
        },
        "id": "bgWR-NlUEenR",
        "outputId": "03719dad-a106-4bab-ee25-18d6f87a49a6"
      },
      "outputs": [
        {
          "name": "stdout",
          "output_type": "stream",
          "text": [
            "Test Accuracy Score:  [0.85 0.8  0.85 0.9  0.75]\n"
          ]
        }
      ],
      "source": [
        "print(\"Test Accuracy Score: \", scores)"
      ]
    },
    {
      "cell_type": "code",
      "execution_count": null,
      "metadata": {
        "colab": {
          "background_save": true
        },
        "id": "E4kWO-Sd2QN6",
        "outputId": "70c5dbfd-079a-4fcf-b666-7690f3caf5fe"
      },
      "outputs": [
        {
          "name": "stdout",
          "output_type": "stream",
          "text": [
            "Average CV Score:  0.8300000000000001\n",
            "Test Accuracy Score:  [0.85 0.8  0.85 0.9  0.75]\n"
          ]
        }
      ],
      "source": [
        "print(\"Average CV Score: \", scores.mean())\n",
        "print(\"Test Accuracy Score: \", scores)"
      ]
    },
    {
      "cell_type": "code",
      "execution_count": null,
      "metadata": {
        "colab": {
          "background_save": true
        },
        "id": "mUKIPvNSEenR"
      },
      "outputs": [],
      "source": [
        "sk_folds = StratifiedKFold(n_splits = 6)\n",
        "scores = cross_val_score(classifier, x, y, cv = sk_folds)"
      ]
    },
    {
      "cell_type": "code",
      "execution_count": null,
      "metadata": {
        "colab": {
          "background_save": true
        },
        "id": "wy9PYNCvEenS",
        "outputId": "cfeb5124-6414-417f-80ba-4c8252613cd5"
      },
      "outputs": [
        {
          "name": "stdout",
          "output_type": "stream",
          "text": [
            "Test Accuracy Score:  [0.82352941 0.76470588 0.82352941 0.82352941 0.8125     0.875     ]\n"
          ]
        }
      ],
      "source": [
        "print(\"Test Accuracy Score: \", scores)"
      ]
    },
    {
      "cell_type": "code",
      "execution_count": null,
      "metadata": {
        "colab": {
          "background_save": true
        },
        "id": "gfFV2mdt2PLy",
        "outputId": "095f6f94-0705-434f-9ad3-87bd03fbe893"
      },
      "outputs": [
        {
          "name": "stdout",
          "output_type": "stream",
          "text": [
            "Average CV Score:  0.8204656862745098\n",
            "Test Accuracy Score:  [0.82352941 0.76470588 0.82352941 0.82352941 0.8125     0.875     ]\n"
          ]
        }
      ],
      "source": [
        "print(\"Average CV Score: \", scores.mean())\n",
        "print(\"Test Accuracy Score: \", scores)"
      ]
    },
    {
      "cell_type": "code",
      "execution_count": null,
      "metadata": {
        "colab": {
          "background_save": true
        },
        "id": "nEbMzYKIEenS"
      },
      "outputs": [],
      "source": [
        "sk_folds = StratifiedKFold(n_splits = 7)\n",
        "scores = cross_val_score(classifier, x, y, cv = sk_folds)"
      ]
    },
    {
      "cell_type": "code",
      "execution_count": null,
      "metadata": {
        "colab": {
          "background_save": true
        },
        "id": "sf8lBixCEenS",
        "outputId": "afb8001c-cb68-46ec-8717-cac21f63585b"
      },
      "outputs": [
        {
          "name": "stdout",
          "output_type": "stream",
          "text": [
            "Test Accuracy Score:  [0.86666667 0.8        0.85714286 0.85714286 0.78571429 0.71428571\n",
            " 0.85714286]\n"
          ]
        }
      ],
      "source": [
        "print(\"Test Accuracy Score: \", scores)"
      ]
    },
    {
      "cell_type": "code",
      "execution_count": null,
      "metadata": {
        "colab": {
          "background_save": true
        },
        "id": "rnBhPjDA2UPM",
        "outputId": "8ab66bcb-a4d0-46e4-cd8c-ab632f3d0b50"
      },
      "outputs": [
        {
          "name": "stdout",
          "output_type": "stream",
          "text": [
            "Average CV Score:  0.8197278911564626\n",
            "Test Accuracy Score:  [0.86666667 0.8        0.85714286 0.85714286 0.78571429 0.71428571\n",
            " 0.85714286]\n"
          ]
        }
      ],
      "source": [
        "print(\"Average CV Score: \", scores.mean())\n",
        "print(\"Test Accuracy Score: \", scores)"
      ]
    },
    {
      "cell_type": "code",
      "execution_count": null,
      "metadata": {
        "colab": {
          "background_save": true
        },
        "id": "gO-Uy4KBEenT"
      },
      "outputs": [],
      "source": [
        "sk_folds = StratifiedKFold(n_splits = 8)\n",
        "scores = cross_val_score(classifier, x, y, cv = sk_folds)"
      ]
    },
    {
      "cell_type": "code",
      "execution_count": null,
      "metadata": {
        "colab": {
          "background_save": true
        },
        "id": "oANz82H82OMN",
        "outputId": "7929c379-f6e7-4e16-c417-64b3db4c8b93"
      },
      "outputs": [
        {
          "name": "stdout",
          "output_type": "stream",
          "text": [
            "Average CV Score:  0.8197115384615384\n",
            "Test Accuracy Score:  [0.76923077 0.84615385 0.84615385 0.84615385 0.91666667 0.75\n",
            " 0.75       0.83333333]\n"
          ]
        }
      ],
      "source": [
        "print(\"Average CV Score: \", scores.mean())\n",
        "print(\"Test Accuracy Score: \", scores)"
      ]
    },
    {
      "cell_type": "code",
      "execution_count": null,
      "metadata": {
        "colab": {
          "background_save": true
        },
        "id": "aSBm677TEenT"
      },
      "outputs": [],
      "source": [
        "sk_folds = StratifiedKFold(n_splits = 9)\n",
        "scores = cross_val_score(classifier, x, y, cv = sk_folds)"
      ]
    },
    {
      "cell_type": "code",
      "execution_count": null,
      "metadata": {
        "colab": {
          "background_save": true
        },
        "id": "HCA3HLXsEenU",
        "outputId": "f5275113-e8d5-4c4e-adcf-d09ca1856ad8"
      },
      "outputs": [
        {
          "name": "stdout",
          "output_type": "stream",
          "text": [
            "Test Accuracy Score:  [0.75       0.90909091 0.81818182 0.90909091 0.81818182 0.81818182\n",
            " 0.81818182 0.81818182 0.81818182]\n"
          ]
        }
      ],
      "source": [
        "print(\"Test Accuracy Score: \", scores)"
      ]
    },
    {
      "cell_type": "code",
      "execution_count": null,
      "metadata": {
        "colab": {
          "background_save": true
        },
        "id": "fDpWoSs52NvK",
        "outputId": "93aeb904-0a23-4b2e-a029-de5c4ee887e1"
      },
      "outputs": [
        {
          "name": "stdout",
          "output_type": "stream",
          "text": [
            "Average CV Score:  0.8308080808080809\n",
            "Test Accuracy Score:  [0.75       0.90909091 0.81818182 0.90909091 0.81818182 0.81818182\n",
            " 0.81818182 0.81818182 0.81818182]\n"
          ]
        }
      ],
      "source": [
        "print(\"Average CV Score: \", scores.mean())\n",
        "print(\"Test Accuracy Score: \", scores)"
      ]
    },
    {
      "cell_type": "code",
      "execution_count": null,
      "metadata": {
        "colab": {
          "background_save": true
        },
        "id": "n_GDESolEenU"
      },
      "outputs": [],
      "source": [
        "sk_folds = StratifiedKFold(n_splits = 10)\n",
        "scores = cross_val_score(classifier, x, y, cv = sk_folds)"
      ]
    },
    {
      "cell_type": "code",
      "execution_count": null,
      "metadata": {
        "colab": {
          "background_save": true
        },
        "id": "kgrjU_FCEenU",
        "outputId": "9a0cf194-5412-44bf-fe99-ad942d42e3e3"
      },
      "outputs": [
        {
          "name": "stdout",
          "output_type": "stream",
          "text": [
            "Test Accuracy Score:  [0.8 0.9 0.8 0.9 1.  0.8 0.6 0.8 0.8 0.9]\n"
          ]
        }
      ],
      "source": [
        "print(\"Test Accuracy Score: \", scores)"
      ]
    },
    {
      "cell_type": "code",
      "execution_count": null,
      "metadata": {
        "colab": {
          "background_save": true
        },
        "id": "swz7Dcw82Ncj",
        "outputId": "6251e1e2-3773-48e9-d533-c19cca68fce5"
      },
      "outputs": [
        {
          "name": "stdout",
          "output_type": "stream",
          "text": [
            "Average CV Score:  0.8300000000000001\n",
            "Test Accuracy Score:  [0.8 0.9 0.8 0.9 1.  0.8 0.6 0.8 0.8 0.9]\n"
          ]
        }
      ],
      "source": [
        "print(\"Average CV Score: \", scores.mean())\n",
        "print(\"Test Accuracy Score: \", scores)"
      ]
    },
    {
      "cell_type": "markdown",
      "metadata": {
        "id": "yPGQdVjNw37G"
      },
      "source": [
        "##**Bagging**"
      ]
    },
    {
      "cell_type": "code",
      "execution_count": null,
      "metadata": {
        "colab": {
          "background_save": true
        },
        "id": "ZNIjrM_0w37H",
        "outputId": "322deba1-9d41-44bb-f9cf-42c47144c1d8"
      },
      "outputs": [
        {
          "data": {
            "text/plain": [
              "DecisionTreeClassifier(random_state=21)"
            ]
          },
          "execution_count": 2967,
          "metadata": {},
          "output_type": "execute_result"
        }
      ],
      "source": [
        "from sklearn.tree import DecisionTreeClassifier\n",
        "dtree = DecisionTreeClassifier(random_state=21)\n",
        "dtree.fit(x_train,y_train)"
      ]
    },
    {
      "cell_type": "code",
      "execution_count": null,
      "metadata": {
        "colab": {
          "background_save": true
        },
        "id": "oyfyZV42w37H",
        "outputId": "88c65091-48ff-46a2-8feb-ede0e5967f2b"
      },
      "outputs": [
        {
          "name": "stdout",
          "output_type": "stream",
          "text": [
            "Train data accuracy: 1.0\n",
            "Test data accuracy: 0.8\n"
          ]
        }
      ],
      "source": [
        "y_pred = dtree.predict(x_test)\n",
        "\n",
        "print(\"Train data accuracy:\",accuracy_score(y_true = y_train, y_pred = dtree.predict(x_train)))\n",
        "print(\"Test data accuracy:\",accuracy_score(y_true = y_test, y_pred = y_pred))"
      ]
    },
    {
      "cell_type": "code",
      "execution_count": null,
      "metadata": {
        "colab": {
          "background_save": true
        },
        "id": "K3ZMFssGEgfJ"
      },
      "outputs": [],
      "source": [
        "sk_folds = StratifiedKFold(n_splits = 2)\n",
        "scores = cross_val_score(classifier, x, y, cv = sk_folds)"
      ]
    },
    {
      "cell_type": "code",
      "execution_count": null,
      "metadata": {
        "colab": {
          "background_save": true
        },
        "id": "n9yZFuDUEgfK",
        "outputId": "31405919-3de7-42eb-993a-ee31dc037daa"
      },
      "outputs": [
        {
          "name": "stdout",
          "output_type": "stream",
          "text": [
            "Test Accuracy Score:  [0.84 0.74]\n"
          ]
        }
      ],
      "source": [
        "print(\"Test Accuracy Score: \", scores)"
      ]
    },
    {
      "cell_type": "code",
      "execution_count": null,
      "metadata": {
        "colab": {
          "background_save": true
        },
        "id": "rdSuejUG2icq",
        "outputId": "3f0b39bb-3160-4383-ca6f-8387b0d0e76e"
      },
      "outputs": [
        {
          "name": "stdout",
          "output_type": "stream",
          "text": [
            "Average CV Score:  0.79\n",
            "Test Accuracy Score:  [0.84 0.74]\n"
          ]
        }
      ],
      "source": [
        "print(\"Average CV Score: \", scores.mean())\n",
        "print(\"Test Accuracy Score: \", scores)"
      ]
    },
    {
      "cell_type": "code",
      "execution_count": null,
      "metadata": {
        "colab": {
          "background_save": true
        },
        "id": "GNNmXXYI2zA2"
      },
      "outputs": [],
      "source": []
    },
    {
      "cell_type": "code",
      "execution_count": null,
      "metadata": {
        "colab": {
          "background_save": true
        },
        "id": "laElNETjEgfL"
      },
      "outputs": [],
      "source": [
        "sk_folds = StratifiedKFold(n_splits = 3)\n",
        "scores = cross_val_score(classifier, x, y, cv = sk_folds)"
      ]
    },
    {
      "cell_type": "code",
      "execution_count": null,
      "metadata": {
        "colab": {
          "background_save": true
        },
        "id": "U0d_1N1uEgfL",
        "outputId": "f5a09cbb-7bae-4d0b-8f6e-33f20b0c5c9f"
      },
      "outputs": [
        {
          "name": "stdout",
          "output_type": "stream",
          "text": [
            "Test Accuracy Score:  [0.88235294 0.84848485 0.84848485]\n"
          ]
        }
      ],
      "source": [
        "print(\"Test Accuracy Score: \", scores)"
      ]
    },
    {
      "cell_type": "code",
      "execution_count": null,
      "metadata": {
        "colab": {
          "background_save": true
        },
        "id": "63Zat5py2iMD",
        "outputId": "20570ca1-2874-4b73-ea67-17e80a12641c"
      },
      "outputs": [
        {
          "name": "stdout",
          "output_type": "stream",
          "text": [
            "Average CV Score:  0.8597742127153892\n",
            "Test Accuracy Score:  [0.88235294 0.84848485 0.84848485]\n"
          ]
        }
      ],
      "source": [
        "print(\"Average CV Score: \", scores.mean())\n",
        "print(\"Test Accuracy Score: \", scores)"
      ]
    },
    {
      "cell_type": "code",
      "execution_count": null,
      "metadata": {
        "colab": {
          "background_save": true
        },
        "id": "ly6JpBZHEgfL"
      },
      "outputs": [],
      "source": [
        "sk_folds = StratifiedKFold(n_splits = 4)\n",
        "scores = cross_val_score(classifier, x, y, cv = sk_folds)"
      ]
    },
    {
      "cell_type": "code",
      "execution_count": null,
      "metadata": {
        "colab": {
          "background_save": true
        },
        "id": "4EdoLJGVEgfM",
        "outputId": "445f8928-1977-432a-f991-e924e74b534d"
      },
      "outputs": [
        {
          "name": "stdout",
          "output_type": "stream",
          "text": [
            "Test Accuracy Score:  [0.84 0.8  0.8  0.76]\n"
          ]
        }
      ],
      "source": [
        "print(\"Test Accuracy Score: \", scores)"
      ]
    },
    {
      "cell_type": "code",
      "execution_count": null,
      "metadata": {
        "colab": {
          "background_save": true
        },
        "id": "n8hO9vs42hn4",
        "outputId": "181d7cf2-8739-4a54-d7ee-b95e41c46199"
      },
      "outputs": [
        {
          "name": "stdout",
          "output_type": "stream",
          "text": [
            "Average CV Score:  0.8\n",
            "Test Accuracy Score:  [0.84 0.8  0.8  0.76]\n"
          ]
        }
      ],
      "source": [
        "print(\"Average CV Score: \", scores.mean())\n",
        "print(\"Test Accuracy Score: \", scores)"
      ]
    },
    {
      "cell_type": "code",
      "execution_count": null,
      "metadata": {
        "colab": {
          "background_save": true
        },
        "id": "GRCVLZRoEgfM"
      },
      "outputs": [],
      "source": [
        "sk_folds = StratifiedKFold(n_splits = 5)\n",
        "scores = cross_val_score(classifier, x, y, cv = sk_folds)"
      ]
    },
    {
      "cell_type": "code",
      "execution_count": null,
      "metadata": {
        "colab": {
          "background_save": true
        },
        "id": "z2SM9OqNEgfN",
        "outputId": "78dcfb78-dd1f-4ef8-bc29-379d345b77b6"
      },
      "outputs": [
        {
          "name": "stdout",
          "output_type": "stream",
          "text": [
            "Test Accuracy Score:  [0.85 0.9  0.85 0.85 0.9 ]\n"
          ]
        }
      ],
      "source": [
        "print(\"Test Accuracy Score: \", scores)"
      ]
    },
    {
      "cell_type": "code",
      "execution_count": null,
      "metadata": {
        "colab": {
          "background_save": true
        },
        "id": "bm4V9v9r2bDB",
        "outputId": "05e305f4-d018-4f20-822e-bc7c840cafc2"
      },
      "outputs": [
        {
          "name": "stdout",
          "output_type": "stream",
          "text": [
            "Average CV Score:  0.8700000000000001\n",
            "Test Accuracy Score:  [0.85 0.9  0.85 0.85 0.9 ]\n"
          ]
        }
      ],
      "source": [
        "print(\"Average CV Score: \", scores.mean())\n",
        "print(\"Test Accuracy Score: \", scores)"
      ]
    },
    {
      "cell_type": "code",
      "execution_count": null,
      "metadata": {
        "colab": {
          "background_save": true
        },
        "id": "en9DTK0XEgfN"
      },
      "outputs": [],
      "source": [
        "sk_folds = StratifiedKFold(n_splits = 6)\n",
        "scores = cross_val_score(classifier, x, y, cv = sk_folds)"
      ]
    },
    {
      "cell_type": "code",
      "execution_count": null,
      "metadata": {
        "colab": {
          "background_save": true
        },
        "id": "ksiuB-MGEgfO",
        "outputId": "edde03e7-8d41-4edc-de16-3bc949a4602c"
      },
      "outputs": [
        {
          "name": "stdout",
          "output_type": "stream",
          "text": [
            "Test Accuracy Score:  [0.82352941 0.82352941 0.82352941 0.82352941 0.8125     0.875     ]\n"
          ]
        }
      ],
      "source": [
        "print(\"Test Accuracy Score: \", scores)"
      ]
    },
    {
      "cell_type": "code",
      "execution_count": null,
      "metadata": {
        "colab": {
          "background_save": true
        },
        "id": "eLeqqC2S2b1r",
        "outputId": "76abf935-7fcf-45c9-d8e4-16317fd466c9"
      },
      "outputs": [
        {
          "name": "stdout",
          "output_type": "stream",
          "text": [
            "Average CV Score:  0.8302696078431372\n",
            "Test Accuracy Score:  [0.82352941 0.82352941 0.82352941 0.82352941 0.8125     0.875     ]\n"
          ]
        }
      ],
      "source": [
        "print(\"Average CV Score: \", scores.mean())\n",
        "print(\"Test Accuracy Score: \", scores)"
      ]
    },
    {
      "cell_type": "code",
      "execution_count": null,
      "metadata": {
        "colab": {
          "background_save": true
        },
        "id": "UR7AIulvEgfO"
      },
      "outputs": [],
      "source": [
        "sk_folds = StratifiedKFold(n_splits = 7)\n",
        "scores = cross_val_score(classifier, x, y, cv = sk_folds)"
      ]
    },
    {
      "cell_type": "code",
      "execution_count": null,
      "metadata": {
        "colab": {
          "background_save": true
        },
        "id": "3rQIU_8mEgfO",
        "outputId": "2fa72a19-36fb-423c-d6a4-2f33c87fe8b5"
      },
      "outputs": [
        {
          "name": "stdout",
          "output_type": "stream",
          "text": [
            "Test Accuracy Score:  [0.8        0.73333333 0.92857143 0.85714286 0.78571429 0.85714286\n",
            " 0.85714286]\n"
          ]
        }
      ],
      "source": [
        "print(\"Test Accuracy Score: \", scores)"
      ]
    },
    {
      "cell_type": "code",
      "execution_count": null,
      "metadata": {
        "colab": {
          "background_save": true
        },
        "id": "YWkFfmYJ2aEe",
        "outputId": "7c3d73b3-ac59-42f2-8594-ccff00d5cd33"
      },
      "outputs": [
        {
          "name": "stdout",
          "output_type": "stream",
          "text": [
            "Average CV Score:  0.8312925170068027\n",
            "Test Accuracy Score:  [0.8        0.73333333 0.92857143 0.85714286 0.78571429 0.85714286\n",
            " 0.85714286]\n"
          ]
        }
      ],
      "source": [
        "print(\"Average CV Score: \", scores.mean())\n",
        "print(\"Test Accuracy Score: \", scores)"
      ]
    },
    {
      "cell_type": "code",
      "execution_count": null,
      "metadata": {
        "colab": {
          "background_save": true
        },
        "id": "Z8jq1Y4nEgfP"
      },
      "outputs": [],
      "source": [
        "sk_folds = StratifiedKFold(n_splits = 8)\n",
        "scores = cross_val_score(classifier, x, y, cv = sk_folds)"
      ]
    },
    {
      "cell_type": "code",
      "execution_count": null,
      "metadata": {
        "colab": {
          "background_save": true
        },
        "id": "fxpKzfz62Zw5",
        "outputId": "6f51613d-1425-4a82-e760-b09db51018f0"
      },
      "outputs": [
        {
          "name": "stdout",
          "output_type": "stream",
          "text": [
            "Average CV Score:  0.8405448717948718\n",
            "Test Accuracy Score:  [0.76923077 0.84615385 0.84615385 0.84615385 0.91666667 0.83333333\n",
            " 0.83333333 0.83333333]\n"
          ]
        }
      ],
      "source": [
        "print(\"Average CV Score: \", scores.mean())\n",
        "print(\"Test Accuracy Score: \", scores)"
      ]
    },
    {
      "cell_type": "code",
      "execution_count": null,
      "metadata": {
        "colab": {
          "background_save": true
        },
        "id": "taejf1OnEgfP"
      },
      "outputs": [],
      "source": [
        "sk_folds = StratifiedKFold(n_splits = 9)\n",
        "scores = cross_val_score(classifier, x, y, cv = sk_folds)"
      ]
    },
    {
      "cell_type": "code",
      "execution_count": null,
      "metadata": {
        "colab": {
          "background_save": true
        },
        "id": "-xQ2ijd6EgfQ",
        "outputId": "6382a9db-05b0-441e-e4f5-a2f92c1cd5de"
      },
      "outputs": [
        {
          "name": "stdout",
          "output_type": "stream",
          "text": [
            "Test Accuracy Score:  [0.83333333 0.90909091 0.90909091 0.90909091 0.90909091 0.81818182\n",
            " 0.72727273 0.81818182 0.81818182]\n"
          ]
        }
      ],
      "source": [
        "print(\"Test Accuracy Score: \", scores)"
      ]
    },
    {
      "cell_type": "code",
      "execution_count": null,
      "metadata": {
        "colab": {
          "background_save": true
        },
        "id": "LAuKy8-T2ZSm",
        "outputId": "6be9a0f0-0fc8-4f5e-96b2-66c22bb32905"
      },
      "outputs": [
        {
          "name": "stdout",
          "output_type": "stream",
          "text": [
            "Average CV Score:  0.8501683501683501\n",
            "Test Accuracy Score:  [0.83333333 0.90909091 0.90909091 0.90909091 0.90909091 0.81818182\n",
            " 0.72727273 0.81818182 0.81818182]\n"
          ]
        }
      ],
      "source": [
        "print(\"Average CV Score: \", scores.mean())\n",
        "print(\"Test Accuracy Score: \", scores)"
      ]
    },
    {
      "cell_type": "code",
      "execution_count": null,
      "metadata": {
        "colab": {
          "background_save": true
        },
        "id": "IcyTAt-UEgfQ"
      },
      "outputs": [],
      "source": [
        "sk_folds = StratifiedKFold(n_splits = 10)\n",
        "scores = cross_val_score(classifier, x, y, cv = sk_folds)"
      ]
    },
    {
      "cell_type": "code",
      "execution_count": null,
      "metadata": {
        "colab": {
          "background_save": true
        },
        "id": "WG3UMUJHEgfR",
        "outputId": "8fc32284-6e28-4ae7-ee99-cbf117916bb1"
      },
      "outputs": [
        {
          "name": "stdout",
          "output_type": "stream",
          "text": [
            "Test Accuracy Score:  [0.9 0.9 0.8 0.9 1.  0.8 0.8 0.8 0.8 0.9]\n"
          ]
        }
      ],
      "source": [
        "print(\"Test Accuracy Score: \", scores)"
      ]
    },
    {
      "cell_type": "code",
      "execution_count": null,
      "metadata": {
        "colab": {
          "background_save": true
        },
        "id": "gj9qQtRJ2X3R",
        "outputId": "34bab17f-8a7c-4b16-ecee-14d60158ea32"
      },
      "outputs": [
        {
          "name": "stdout",
          "output_type": "stream",
          "text": [
            "Average CV Score:  0.86\n",
            "Test Accuracy Score:  [0.9 0.9 0.8 0.9 1.  0.8 0.8 0.8 0.8 0.9]\n"
          ]
        }
      ],
      "source": [
        "print(\"Average CV Score: \", scores.mean())\n",
        "print(\"Test Accuracy Score: \", scores)"
      ]
    }
  ],
  "metadata": {
    "colab": {
      "provenance": [],
      "include_colab_link": true
    },
    "kernelspec": {
      "display_name": "Python 3",
      "name": "python3"
    },
    "language_info": {
      "name": "python"
    }
  },
  "nbformat": 4,
  "nbformat_minor": 0
}